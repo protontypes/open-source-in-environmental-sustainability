{
 "cells": [
  {
   "cell_type": "markdown",
   "metadata": {},
   "source": [
    "# Contributors\n",
    "\n",
    "Open source projects have different types of contributors who undertake various activities ranging from software development, product management, documentation event planning, community management, and marketing. Analysing how many people are contributing to a project and who they are is critical to understanding organisational and individual engagement with OSS projects.  Best practices from projects with a large contribution base can subsequently be shared and adopted by the broader ecosystem of OSS for sustainability. For the purposes of the analysis, someone is considered a contributor if they have made at least one commit to the Git repository.\n",
    "\n",
    "# Number of Contributors\n",
    "\n",
    "**Building a strong community of developers and users is the key factor in ensuring the longevity of open source projects.** Depending on the project scope and size, it is necessary to continue to attract and integrate active developers in OSS organisations. The project team must create both the culture and the technical infrastructure to effectively participate in the larger community. Given the right conditions, newcomers can progress from their initial contributions to becoming core developers or maintainers. Below is a list of the top 40 projects with the most contributors. "
   ]
  },
  {
   "cell_type": "code",
   "execution_count": null,
   "metadata": {
    "tags": [
     "remove-cell"
    ]
   },
   "outputs": [],
   "source": [
    "import pandas as pd\n",
    "import plotly.io as pio\n",
    "import plotly.graph_objects as go\n",
    "import plotly.express as px\n",
    "from opensustainTemplate import *"
   ]
  },
  {
   "cell_type": "code",
   "execution_count": null,
   "metadata": {
    "tags": [
     "remove-cell"
    ]
   },
   "outputs": [],
   "source": [
    "df_active = pd.read_csv(\"../csv/project_analysis.csv\")"
   ]
  },
  {
   "cell_type": "code",
   "execution_count": null,
   "metadata": {
    "tags": [
     "full-width",
     "remove-input"
    ]
   },
   "outputs": [],
   "source": [
    "contributors = df_active.nlargest(40, \"contributors\")\n",
    "\n",
    "fig = px.bar(\n",
    "    contributors,\n",
    "    x=contributors[\"contributors\"],\n",
    "    y=contributors[\"project_name\"],\n",
    "    orientation=\"h\",\n",
    "    title=\"Projects with most contributors\",\n",
    "    custom_data=[\"oneliner\", \"topic\", \"git_url\"],\n",
    "    color=contributors[\"development_distribution_score\"],\n",
    "    color_continuous_scale=color_continuous_scale,\n",
    ")\n",
    "\n",
    "fig.update_layout(\n",
    "    height=1200,  # Added parameter\n",
    "    width=800,\n",
    "    xaxis_title=\"Contributors\",\n",
    "    yaxis_title=None,\n",
    "    title=\"Projects with the most contributors\",\n",
    "    coloraxis_colorbar=dict(\n",
    "        title=\"DDS\",\n",
    "    ),\n",
    "    hoverlabel=dict(bgcolor=\"white\"),\n",
    "    dragmode=False,\n",
    ")\n",
    "\n",
    "fig.update_traces(\n",
    "    hovertemplate=\"<br>\".join(\n",
    "        [\n",
    "            \"Project Info: <b>%{customdata[0]}</b>\",\n",
    "            \"Topic: <b>%{customdata[1]}</b>\",\n",
    "            \"Git URL: <b>%{customdata[2]}</b>\",\n",
    "        ]\n",
    "    )\n",
    ")\n",
    "fig[\"layout\"].update(margin=dict(l=20, r=0, b=0, t=40))\n",
    "fig.add_layout_image(\n",
    "    dict(\n",
    "        source=logo_img,\n",
    "        xref=\"paper\",\n",
    "        yref=\"paper\",\n",
    "        x=1,\n",
    "        y=0,\n",
    "        sizex=0.05,\n",
    "        sizey=0.05,\n",
    "        xanchor=\"right\",\n",
    "        yanchor=\"bottom\",\n",
    "    )\n",
    ")\n",
    "fig.update(layout_showlegend=False)\n",
    "fig[\"layout\"][\"yaxis\"][\"autorange\"] = \"reversed\"\n",
    "fig[\"layout\"].update(margin=dict(l=50, r=0, b=0, t=40))\n",
    "fig.show()"
   ]
  },
  {
   "cell_type": "markdown",
   "metadata": {},
   "source": [
    "```{figure} data:image/gif;base64,R0lGODlhAQABAIAAAAAAAP///yH5BAEAAAAALAAAAAABAAEAAAIBRAA7\n",
    ":figclass: caption-hack\n",
    ":name: numbers-of-contributors\n",
    "\n",
    "<br/>Projects with the most contributors\n",
    "```"
   ]
  },
  {
   "cell_type": "markdown",
   "metadata": {},
   "source": [
    "The high DDS among the projects with the most contributors shows the importance of sharing work among a variety of people within the community. Only then is it possible to build a large community. Projects that model the atmosphere and climate globally at high resolution can feature many developers – examples being the Energy Exascale Earth System Model ([E3SM](https://github.com/E3SM-Project/E3SM)) and the Simple Cloud-Resolving E3SM Atmosphere Model ([SCREAM](https://github.com/E3SM-Project/scream)). [Electricity Maps](https://app.electricitymaps.com/map) was able to mobilise most developers around the globe to integrate local grid data and renewable energy share on a single platform.\n",
    "\n",
    "\n",
    "```{figure} ../images/SCREAM_turbulent_eddies.png\n",
    "---\n",
    "align: center\n",
    "width: 60%\n",
    "---\n",
    "<br/>Turbulent eddies in water vapour from a 3 km horizontal resolution [SCREAM](https://github.com/E3SM-Project/scream) simulation of baroclinic instability using simple physics. License: [BSD](https://github.com/E3SM-Project/scream/blob/master/LICENSE)\n",
    "```\n"
   ]
  },
  {
   "cell_type": "markdown",
   "metadata": {},
   "source": [
    "## Contribution Guidance\n",
    "Only 30.6% of the repositories have a contribution guide, thus making it clear how new contributors can participate in the projects. There could be numerous reasons for this. Either developers are unaware of the critical importance of such a guide for the overall project, or integrating contributions from external developers into the project is not prioritised."
   ]
  }
 ],
 "metadata": {
  "celltoolbar": "Tags",
  "kernelspec": {
   "display_name": "Python 3 (ipykernel)",
   "language": "python",
   "name": "python3"
  },
  "language_info": {
   "codemirror_mode": {
    "name": "ipython",
    "version": 3
   },
   "file_extension": ".py",
   "mimetype": "text/x-python",
   "name": "python",
   "nbconvert_exporter": "python",
   "pygments_lexer": "ipython3",
   "version": "3.8.10"
  },
  "tags": "full-width",
  "vscode": {
   "interpreter": {
    "hash": "e7370f93d1d0cde622a1f8e1c04877d8463912d04d973331ad4851f04de6915a"
   }
  }
 },
 "nbformat": 4,
 "nbformat_minor": 4
}
