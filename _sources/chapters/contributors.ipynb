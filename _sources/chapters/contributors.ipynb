{
 "cells": [
  {
   "attachments": {},
   "cell_type": "markdown",
   "metadata": {},
   "source": [
    "# Contributors\n",
    "\n",
    "Open source projects have different types of contributors who undertake various activities ranging from software development, product management, documentation event planning, community management, and marketing. Analysing how many people are contributing to a project and who they are is critical to understanding organisational and individual engagement with OSS projects.  Best practices from projects with a large contribution base can subsequently be shared and adopted by the broader ecosystem of OSS for sustainability. For the purposes of the analysis, someone is considered a contributor if they have made at least one commit to the Git repository.\n",
    "\n",
    "**Building a strong community of developers and users is the key factor in ensuring the longevity of open source projects.** Depending on the project scope and size, it is necessary to continue to attract and integrate active developers in OSS organisations. The project team must create both the culture and the technical infrastructure to effectively participate in the larger community. Given the right conditions, newcomers can progress from their initial contributions to becoming core developers or maintainers. Below is a list of the top 40 projects with the most contributors. "
   ]
  },
  {
   "cell_type": "code",
   "execution_count": 2,
   "metadata": {
    "tags": [
     "remove-cell"
    ]
   },
   "outputs": [],
   "source": [
    "import pandas as pd\n",
    "import plotly.io as pio\n",
    "import plotly.graph_objects as go\n",
    "import plotly.express as px\n",
    "from opensustainTemplate import *"
   ]
  },
  {
   "cell_type": "code",
   "execution_count": 3,
   "metadata": {
    "tags": [
     "remove-cell"
    ]
   },
   "outputs": [],
   "source": [
    "df_active = pd.read_csv(\"../csv/project_analysis.csv\")"
   ]
  },
  {
   "cell_type": "code",
   "execution_count": 4,
   "metadata": {
    "tags": [
     "remove-input"
    ]
   },
   "outputs": [
    {
     "data": {
      "application/vnd.plotly.v1+json": {
       "config": {
        "plotlyServerURL": "https://plot.ly"
       },
       "data": [
        {
         "alignmentgroup": "True",
         "customdata": [
          [
           "A real-time visualization of the CO2 emissions from electricity consumption.",
           "Carbon Intensity and Accounting",
           "https://github.com/electricitymaps/electricitymaps-contrib.git"
          ],
          [
           "An online marketplace for local food. It enables a network of independent online food stores that connects farmers and food hubs with individuals and local businesses.",
           "Agriculture and Nutrition",
           "https://github.com/openfoodfoundation/openfoodnetwork.git"
          ],
          [
           "A global atmosphere model targeted towards 3 km (\"cloud resolving\") resolution.",
           "Atmosphere",
           "https://github.com/E3SM-Project/scream.git"
          ],
          [
           "A state-of-the-art fully coupled model of the Earth's climate including important biogeochemical and cryospheric processes.",
           "Earth and Climate Modeling",
           "https://github.com/E3SM-Project/E3SM.git"
          ],
          [
           "Accelerate the attainment of the sustainable development goals in low- and middle-income countries by facilitating the discovery, development, use of, and investment in digital public goods.",
           "Knowledge Platforms",
           "https://github.com/DPGAlliance/publicgoods-candidates.git"
          ],
          [
           "A powerful open source web application for processing, logging and visualizing energy, temperature and other environmental data.",
           "Energy Monitoring and Control",
           "https://github.com/emoncms/emoncms.git"
          ],
          [
           "A state-of-the-art atmospheric modeling system designed for both meteorological research and numerical weather prediction.",
           "Earth and Climate Modeling",
           "https://github.com/wrf-model/WRF.git"
          ],
          [
           "Allows applicants to demonstrate their ability to analyze and develop software that makes use of big energy production data.",
           "Datasets on Energy Systems",
           "https://github.com/enechange/EnergyDataSimulationChallenge.git"
          ],
          [
           "Documentation for the General Bikeshare Feed Specification, a standardized data feed for shared mobility system availability.",
           "Mobility and Transportation",
           "https://github.com/MobilityData/gbfs.git"
          ],
          [
           "A set of documented functions for simulating the performance of photovoltaic energy systems.",
           "Photovoltaics and Solar Energy",
           "https://github.com/pvlib/pvlib-python.git"
          ],
          [
           "A powerful, format-agnostic, community-driven Python package for analyzing and visualizing Earth science data.",
           "Hydrosphere",
           "https://github.com/SciTools/iris.git"
          ],
          [
           "Discover and access easily the geospatial data catalogue of the European Environment Agency.",
           "Data Catalogs and Interfaces",
           "https://github.com/eea/geonetwork-eea.git"
          ],
          [
           "Provides a set of tools to scrape bike sharing data from different websites and APIs, thus providing a coherent and generalized set of classes and methods to access this sort of information.",
           "Mobility and Transportation",
           "https://github.com/eskerda/pybikes.git"
          ],
          [
           "The Unidata network Common Data Form (netCDF) in C is an interface for scientific data access and a set of freely-distributed software libraries that provide an implementation of the interface.",
           "Climate Data Processing and Access",
           "https://github.com/Unidata/netcdf-c.git"
          ],
          [
           "A data standard to enable communication between mobility companies and local governments.",
           "Mobility and Transportation",
           "https://github.com/openmobilityfoundation/mobility-data-specification.git"
          ],
          [
           "Open source and open data platform that can predict when your plantings will be ready to harvest.",
           "Agriculture and Nutrition",
           "https://github.com/Growstuff/growstuff.git"
          ],
          [
           "The Predictive Ecosystem Analyzer is an integrated ecological bioinformatics toolbox.",
           "Biosphere",
           "https://github.com/PecanProject/pecan.git"
          ],
          [
           "A community platform for Big Data geoscience.",
           "Earth and Climate Modeling",
           "https://github.com/pangeo-data/pangeo.git"
          ],
          [
           "A community diagnostic and performance metrics tool for routine evaluation of Earth system models in World Climate Research Programme.",
           "Earth and Climate Modeling",
           "https://github.com/ESMValGroup/ESMValTool.git"
          ],
          [
           "A whole building energy simulation program that engineers, architects, and researchers use to model both energy consumption and water usage in buildings.",
           "Buildings and Heating",
           "https://github.com/NREL/EnergyPlus.git"
          ],
          [
           "A self-hosted platform to order meals in your neighborhood and get them delivered by bike couriers.",
           "Mobility and Transportation",
           "https://github.com/coopcycle/coopcycle-web.git"
          ],
          [
           "Web application for organization of foodsaving groups worldwide.",
           "Agriculture and Nutrition",
           "https://github.com/karrot-dev/karrot-frontend.git"
          ],
          [
           "An open, generic, scalable and independent 'Internet of Things' platform, which enables various connected smart objects in the public space to be easily controlled and monitored.",
           "Energy Distribution and Grids",
           "https://github.com/OSGP/open-smart-grid-platform.git"
          ],
          [
           "An extensible EV Charge Controller with PV integration implemented in Go.",
           "Mobility and Transportation",
           "https://github.com/evcc-io/evcc.git"
          ],
          [
           "A tool to estimate energy use (kilowatt-hours) and carbon emissions (metric tons CO2e) from public cloud usage.",
           "Computation and Communication",
           "https://github.com/cloud-carbon-footprint/cloud-carbon-footprint.git"
          ],
          [
           "An open source web API, initially built to provide traveler information on urban transportation networks.",
           "Mobility and Transportation",
           "https://github.com/hove-io/navitia.git"
          ],
          [
           "A collection of tools in Python for reading, visualizing and performing calculations with weather data.",
           "Meteorological Observation and Forecast",
           "https://github.com/Unidata/MetPy.git"
          ],
          [
           "A platform that provides services for collecting and storing data from buildings and devices. It provides an environment for developing applications that interact with data.",
           "Buildings and Heating",
           "https://github.com/VOLTTRON/volttron.git"
          ],
          [
           "An open source framework written in Java, that makes it easy to write complex software for power systems simulations and analysis.",
           "Energy Modeling and Optimization",
           "https://github.com/powsybl/powsybl-core.git"
          ],
          [
           "An online, global and near real-time forest monitoring tool.",
           "Biosphere",
           "https://github.com/Vizzuality/gfw.git"
          ],
          [
           "The Common Community Physics Package is designed to facilitate the implementation of physics innovations in state-of-the-art atmospheric models, the use of various models to develop physics, and the acceleration of transition of physics innovations to operational NOAA models.",
           "Hydrosphere",
           "https://github.com/NCAR/ccpp-physics.git"
          ],
          [
           " An open data platform that collects GTFS, GTFS Realtime, and other open data feeds from transit providers around the world.",
           "Mobility and Transportation",
           "https://github.com/transitland/transitland-atlas.git"
          ],
          [
           "A numerical representation of the ocean fluid with applications from the process scale to the planetary circulation scale.",
           "Earth and Climate Modeling",
           "https://github.com/NOAA-GFDL/MOM6.git"
          ],
          [
           "A flexible non-hydrostatic formulation that efficiently simulates fluid phenomena over a wide range of scales.",
           "Hydrosphere",
           "https://github.com/MITgcm/MITgcm.git"
          ],
          [
           "A Modelica model library for building performance simulations.",
           "Buildings and Heating",
           "https://github.com/RWTH-EBC/AixLib.git"
          ],
          [
           "Makes it easy for people to design public spaces together.",
           "Mobility and Transportation",
           "https://github.com/streetmix/streetmix.git"
          ],
          [
           "The Unidata network Common Data Form (netCDF) in Python is an interface for scientific data access and a set of freely-distributed software libraries that provide an implementation of the interface.",
           "Climate Data Processing and Access",
           "https://github.com/Unidata/netcdf4-python.git"
          ],
          [
           "Groundwater Wells and Aquifers application for the Ministry of Environment in British Columbia.",
           "Water Supply and Quality",
           "https://github.com/bcgov/gwells.git"
          ],
          [
           "U.S. National Reporting Platform for the Sustainable Development Goals.",
           "Sustainable Development Goals",
           "https://github.com/GSA/sdg-indicators-usa.git"
          ],
          [
           "The maintained main firmware for the Luftdaten.Info Sensor.",
           "Air Quality",
           "https://github.com/opendata-stuttgart/sensors-software.git"
          ]
         ],
         "hovertemplate": "Project Info: <b>%{customdata[0]}</b><br>Topic: <b>%{customdata[1]}</b><br>Git URL: <b>%{customdata[2]}</b>",
         "legendgroup": "",
         "marker": {
          "color": [
           0.5590631364562118,
           0.857922954725973,
           0.8919941420551623,
           0.8774051285699043,
           0.4561806352851129,
           0.7925653969710876,
           0.6445086705202312,
           0.8878737541528239,
           0.8875,
           0.4787922358015816,
           0.8637803590285111,
           0.5793971042012818,
           0.3974999999999999,
           0.6754057428214731,
           0.5873827791986359,
           0.4441517386722866,
           0.8638583638583639,
           0.7933884297520661,
           0.8355420090113967,
           0.8557953408603687,
           0.1738342594829669,
           0.4512901527119536,
           0.8535322777101096,
           0.2349794238683127,
           0.8300304878048781,
           0.8587618403247632,
           0.4422496570644718,
           0.5896830748482805,
           0.7677584006805614,
           0.6636363636363636,
           0.6904149834741095,
           0.3980099502487562,
           0.6848334709606385,
           0.4949859394068021,
           0.7429349676540689,
           0.4434430752253081,
           0.0844272076372315,
           0.7089129314786193,
           0.8189884649511978,
           0.6846435100548446
          ],
          "coloraxis": "coloraxis",
          "pattern": {
           "shape": ""
          }
         },
         "name": "",
         "offsetgroup": "",
         "orientation": "h",
         "showlegend": false,
         "textposition": "auto",
         "type": "bar",
         "x": [
          268,
          194,
          189,
          187,
          130,
          112,
          107,
          99,
          96,
          87,
          84,
          84,
          82,
          80,
          79,
          78,
          76,
          75,
          73,
          72,
          68,
          67,
          66,
          66,
          66,
          65,
          65,
          63,
          62,
          62,
          61,
          60,
          60,
          58,
          55,
          54,
          54,
          54,
          52,
          51
         ],
         "xaxis": "x",
         "y": [
          "<a href=\"https://github.com/electricitymaps/electricitymaps-contrib.git\" style = \"color: black\">Electricity Maps</a>",
          "<a href=\"https://github.com/openfoodfoundation/openfoodnetwork.git\" style = \"color: black\">openfoodnetwork</a>",
          "<a href=\"https://github.com/E3SM-Project/scream.git\" style = \"color: black\">SCREAM</a>",
          "<a href=\"https://github.com/E3SM-Project/E3SM.git\" style = \"color: black\">E3SM</a>",
          "<a href=\"https://github.com/DPGAlliance/publicgoods-candidates.git\" style = \"color: black\">Digital Public Goods</a>",
          "<a href=\"https://github.com/emoncms/emoncms.git\" style = \"color: black\">Emoncms</a>",
          "<a href=\"https://github.com/wrf-model/WRF.git\" style = \"color: black\">WRF</a>",
          "<a href=\"https://github.com/enechange/EnergyDataSimulationChallenge.git\" style = \"color: black\">EnergyDataSimulationChallenge</a>",
          "<a href=\"https://github.com/MobilityData/gbfs.git\" style = \"color: black\">gbfs</a>",
          "<a href=\"https://github.com/pvlib/pvlib-python.git\" style = \"color: black\">pvlib-python</a>",
          "<a href=\"https://github.com/SciTools/iris.git\" style = \"color: black\">Iris</a>",
          "<a href=\"https://github.com/eea/geonetwork-eea.git\" style = \"color: black\">EEA geospatial data catalogue</a>",
          "<a href=\"https://github.com/eskerda/pybikes.git\" style = \"color: black\">pybikes</a>",
          "<a href=\"https://github.com/Unidata/netcdf-c.git\" style = \"color: black\">netcdf-c</a>",
          "<a href=\"https://github.com/openmobilityfoundation/mobility-data-specification.git\" style = \"color: black\">mobility-data-specification</a>",
          "<a href=\"https://github.com/Growstuff/growstuff.git\" style = \"color: black\">Growstuff</a>",
          "<a href=\"https://github.com/PecanProject/pecan.git\" style = \"color: black\">PEcAn</a>",
          "<a href=\"https://github.com/pangeo-data/pangeo.git\" style = \"color: black\">pangeo</a>",
          "<a href=\"https://github.com/ESMValGroup/ESMValTool.git\" style = \"color: black\">ESMValTool</a>",
          "<a href=\"https://github.com/NREL/EnergyPlus.git\" style = \"color: black\">EnergyPlus</a>",
          "<a href=\"https://github.com/coopcycle/coopcycle-web.git\" style = \"color: black\">CoopCycle</a>",
          "<a href=\"https://github.com/karrot-dev/karrot-frontend.git\" style = \"color: black\">Karrot</a>",
          "<a href=\"https://github.com/OSGP/open-smart-grid-platform.git\" style = \"color: black\">Open Smart Grid Platform</a>",
          "<a href=\"https://github.com/evcc-io/evcc.git\" style = \"color: black\">EVCC</a>",
          "<a href=\"https://github.com/cloud-carbon-footprint/cloud-carbon-footprint.git\" style = \"color: black\">Cloud Carbon Footprint</a>",
          "<a href=\"https://github.com/hove-io/navitia.git\" style = \"color: black\">navitia</a>",
          "<a href=\"https://github.com/Unidata/MetPy.git\" style = \"color: black\">MetPy</a>",
          "<a href=\"https://github.com/VOLTTRON/volttron.git\" style = \"color: black\">VOLTTRON</a>",
          "<a href=\"https://github.com/powsybl/powsybl-core.git\" style = \"color: black\">PowSyBl</a>",
          "<a href=\"https://github.com/Vizzuality/gfw.git\" style = \"color: black\">Global Forest Watch</a>",
          "<a href=\"https://github.com/NCAR/ccpp-physics.git\" style = \"color: black\">ccpp-physics</a>",
          "<a href=\"https://github.com/transitland/transitland-atlas.git\" style = \"color: black\">Transitland</a>",
          "<a href=\"https://github.com/NOAA-GFDL/MOM6.git\" style = \"color: black\">MOM6</a>",
          "<a href=\"https://github.com/MITgcm/MITgcm.git\" style = \"color: black\">MITgcm</a>",
          "<a href=\"https://github.com/RWTH-EBC/AixLib.git\" style = \"color: black\">AixLib</a>",
          "<a href=\"https://github.com/streetmix/streetmix.git\" style = \"color: black\">Streetmix</a>",
          "<a href=\"https://github.com/Unidata/netcdf4-python.git\" style = \"color: black\">netcdf-python</a>",
          "<a href=\"https://github.com/bcgov/gwells.git\" style = \"color: black\">gwells</a>",
          "<a href=\"https://github.com/GSA/sdg-indicators-usa.git\" style = \"color: black\">US Sustainable Development Goal indicators</a>",
          "<a href=\"https://github.com/opendata-stuttgart/sensors-software.git\" style = \"color: black\">opendata-stuttgart</a>"
         ],
         "yaxis": "y"
        }
       ],
       "layout": {
        "barmode": "relative",
        "coloraxis": {
         "colorbar": {
          "orientation": "h",
          "title": {
           "text": "DDS"
          },
          "x": 0.4,
          "y": -0.15
         },
         "colorscale": [
          [
           0,
           "rgb(237, 239, 93)"
          ],
          [
           0.16666666666666666,
           "rgb(169, 220, 103)"
          ],
          [
           0.3333333333333333,
           "rgb(110, 197, 116)"
          ],
          [
           0.5,
           "rgb(57, 171, 126)"
          ],
          [
           0.6666666666666666,
           "rgb(13, 143, 129)"
          ],
          [
           0.8333333333333334,
           "rgb(15, 114, 121)"
          ],
          [
           1,
           "rgb(36, 86, 104)"
          ]
         ]
        },
        "dragmode": false,
        "height": 1200,
        "hoverlabel": {
         "bgcolor": "white"
        },
        "images": [
         {
          "sizex": 0.05,
          "sizey": 0.05,
          "source": "data:image/png;base64,iVBORw0KGgoAAAANSUhEUgAAADwAAAA8CAYAAAA6/NlyAAAD20lEQVR4nO2ZTWgcZRjHf8/spjWkFYmKmbR+oVKaCPbQU8i2tCBqEbrU7LIJVhG0PVWQih4UehAVQVAkAQ/qRW1WdhPrB+pJ1DQF6aEnQ0WqqCQbhfpFW6nJzOMhBgQ3u+/MvPORmP91n/n/nx/v7DvPvCOqyv9JTtoNJK114LWufBIh5TIbZj3uQLldhJtV2CJwlfrkpicpJtHDsmIDHtzPZjo4gM8IQkGgE1n6Tf7ZJ0W4HFf+SrIOvLvI9YsORyXPwyhdy5BZkTXgwf1s1jzHJMejAh22fG3LCnDhAHeT53WBXht+cSoS8J495Beu5nmEo5C1m7e5QgPv28fGxW7eQhmy2VDcCgV81wN0XezkE2DQcj+xKzDwzsN0XHGJGqsQFkJMWp3nGUO5J45mklCgFS7cx0GFRyzk/izCT6p8Z8ErkMT09XCgzBZnkRmEK0NmTaswicd70+9yLqRHZBmvcM7jZQ0He1qEZ6bqfBDiWusyWuGBEgOOz3RAb1+Ep05O8IIqmTllMFphR3k6oO8FUYanJvgwRE+xqu0K7yrT53t8FcDTE6U4NZk9WDB4LKnHg0EMVXgiq7DQBlgEAUYC+H15aoKXorUUr1oCF0psV9hqaibK41naoJqpJbDvs9fYSflsapKTkTuKWa3/w8oOUyOBetRmklC7TWuboY86Pu9HbSYJtQO+0dDn/Ocn+DFqM0mo9S6N8Sg5Z6GXRNRy0lIYUyHXzkSUb+y1FK+M35bWitY/tSQhaVQvAxvaV+oX6g7vtpmd1gpfMCsT13ZwWsC/GdZZP9hPCVi/NSzsktnjO2wmpwOs8rVxrThFm9HpADt62rhWGBKLn3HSAfbl0wDV/cxVy7aiUxs8pFGdAbYblp/j11yf9pX+ipqb5uBxPEDtLXT7L9oITRHYfxPwjMtVj0jjnUNRU1MDVnfkeyTooYGOSmP8cJTcdGfpRX0OAp2BdYC8KnPVUZmpGYym/1Xqb0syP/4GKg+FuPQHkGdxz76mHPON89IHrl2LemeB7nAOOoNSBzmhvZUzbfPSBgaQ+eoQSs2C1Z8IsygNdSu7mhVk4n1Yeyp1lDELVp0otwKFlQoyAQxA7x+PAR/HHZMZYOXQAs5CCTgVZ05mgAH0uoMXYdOdIB/FlZEpYAB1772E+3sRYTQO/8wBw9LtrT2VIwgl4Beb3pkEXpb2VOp4uduAVwDj4aKVMvEcNpHMj/ej8iQwjMFpq7qVpocGqwZ4WdKo3QDe/Sx9qO9fqW7NAP9bMvv2VnL5vcBOVLcBNwHXAJvUrWxses1qBg6jTG9acWgdeK3rb5uuGEmTzESgAAAAAElFTkSuQmCC",
          "x": 1,
          "xanchor": "right",
          "xref": "paper",
          "y": 0,
          "yanchor": "bottom",
          "yref": "paper"
         }
        ],
        "legend": {
         "tracegroupgap": 0
        },
        "margin": {
         "b": 0,
         "l": 50,
         "r": 0,
         "t": 40
        },
        "showlegend": false,
        "template": {
         "data": {
          "bar": [
           {
            "error_x": {
             "color": "#2a3f5f"
            },
            "error_y": {
             "color": "#2a3f5f"
            },
            "marker": {
             "line": {
              "color": "#E5ECF6",
              "width": 0.5
             },
             "pattern": {
              "fillmode": "overlay",
              "size": 10,
              "solidity": 0.2
             }
            },
            "type": "bar"
           }
          ],
          "barpolar": [
           {
            "marker": {
             "line": {
              "color": "#E5ECF6",
              "width": 0.5
             },
             "pattern": {
              "fillmode": "overlay",
              "size": 10,
              "solidity": 0.2
             }
            },
            "type": "barpolar"
           }
          ],
          "carpet": [
           {
            "aaxis": {
             "endlinecolor": "#2a3f5f",
             "gridcolor": "white",
             "linecolor": "white",
             "minorgridcolor": "white",
             "startlinecolor": "#2a3f5f"
            },
            "baxis": {
             "endlinecolor": "#2a3f5f",
             "gridcolor": "white",
             "linecolor": "white",
             "minorgridcolor": "white",
             "startlinecolor": "#2a3f5f"
            },
            "type": "carpet"
           }
          ],
          "choropleth": [
           {
            "colorbar": {
             "outlinewidth": 0,
             "ticks": ""
            },
            "type": "choropleth"
           }
          ],
          "contour": [
           {
            "colorbar": {
             "outlinewidth": 0,
             "ticks": ""
            },
            "colorscale": [
             [
              0,
              "#0d0887"
             ],
             [
              0.1111111111111111,
              "#46039f"
             ],
             [
              0.2222222222222222,
              "#7201a8"
             ],
             [
              0.3333333333333333,
              "#9c179e"
             ],
             [
              0.4444444444444444,
              "#bd3786"
             ],
             [
              0.5555555555555556,
              "#d8576b"
             ],
             [
              0.6666666666666666,
              "#ed7953"
             ],
             [
              0.7777777777777778,
              "#fb9f3a"
             ],
             [
              0.8888888888888888,
              "#fdca26"
             ],
             [
              1,
              "#f0f921"
             ]
            ],
            "type": "contour"
           }
          ],
          "contourcarpet": [
           {
            "colorbar": {
             "outlinewidth": 0,
             "ticks": ""
            },
            "type": "contourcarpet"
           }
          ],
          "heatmap": [
           {
            "colorbar": {
             "outlinewidth": 0,
             "ticks": ""
            },
            "colorscale": [
             [
              0,
              "#0d0887"
             ],
             [
              0.1111111111111111,
              "#46039f"
             ],
             [
              0.2222222222222222,
              "#7201a8"
             ],
             [
              0.3333333333333333,
              "#9c179e"
             ],
             [
              0.4444444444444444,
              "#bd3786"
             ],
             [
              0.5555555555555556,
              "#d8576b"
             ],
             [
              0.6666666666666666,
              "#ed7953"
             ],
             [
              0.7777777777777778,
              "#fb9f3a"
             ],
             [
              0.8888888888888888,
              "#fdca26"
             ],
             [
              1,
              "#f0f921"
             ]
            ],
            "type": "heatmap"
           }
          ],
          "heatmapgl": [
           {
            "colorbar": {
             "outlinewidth": 0,
             "ticks": ""
            },
            "colorscale": [
             [
              0,
              "#0d0887"
             ],
             [
              0.1111111111111111,
              "#46039f"
             ],
             [
              0.2222222222222222,
              "#7201a8"
             ],
             [
              0.3333333333333333,
              "#9c179e"
             ],
             [
              0.4444444444444444,
              "#bd3786"
             ],
             [
              0.5555555555555556,
              "#d8576b"
             ],
             [
              0.6666666666666666,
              "#ed7953"
             ],
             [
              0.7777777777777778,
              "#fb9f3a"
             ],
             [
              0.8888888888888888,
              "#fdca26"
             ],
             [
              1,
              "#f0f921"
             ]
            ],
            "type": "heatmapgl"
           }
          ],
          "histogram": [
           {
            "marker": {
             "pattern": {
              "fillmode": "overlay",
              "size": 10,
              "solidity": 0.2
             }
            },
            "type": "histogram"
           }
          ],
          "histogram2d": [
           {
            "colorbar": {
             "outlinewidth": 0,
             "ticks": ""
            },
            "colorscale": [
             [
              0,
              "#0d0887"
             ],
             [
              0.1111111111111111,
              "#46039f"
             ],
             [
              0.2222222222222222,
              "#7201a8"
             ],
             [
              0.3333333333333333,
              "#9c179e"
             ],
             [
              0.4444444444444444,
              "#bd3786"
             ],
             [
              0.5555555555555556,
              "#d8576b"
             ],
             [
              0.6666666666666666,
              "#ed7953"
             ],
             [
              0.7777777777777778,
              "#fb9f3a"
             ],
             [
              0.8888888888888888,
              "#fdca26"
             ],
             [
              1,
              "#f0f921"
             ]
            ],
            "type": "histogram2d"
           }
          ],
          "histogram2dcontour": [
           {
            "colorbar": {
             "outlinewidth": 0,
             "ticks": ""
            },
            "colorscale": [
             [
              0,
              "#0d0887"
             ],
             [
              0.1111111111111111,
              "#46039f"
             ],
             [
              0.2222222222222222,
              "#7201a8"
             ],
             [
              0.3333333333333333,
              "#9c179e"
             ],
             [
              0.4444444444444444,
              "#bd3786"
             ],
             [
              0.5555555555555556,
              "#d8576b"
             ],
             [
              0.6666666666666666,
              "#ed7953"
             ],
             [
              0.7777777777777778,
              "#fb9f3a"
             ],
             [
              0.8888888888888888,
              "#fdca26"
             ],
             [
              1,
              "#f0f921"
             ]
            ],
            "type": "histogram2dcontour"
           }
          ],
          "mesh3d": [
           {
            "colorbar": {
             "outlinewidth": 0,
             "ticks": ""
            },
            "type": "mesh3d"
           }
          ],
          "parcoords": [
           {
            "line": {
             "colorbar": {
              "outlinewidth": 0,
              "ticks": ""
             }
            },
            "type": "parcoords"
           }
          ],
          "pie": [
           {
            "automargin": true,
            "type": "pie"
           }
          ],
          "scatter": [
           {
            "fillpattern": {
             "fillmode": "overlay",
             "size": 10,
             "solidity": 0.2
            },
            "type": "scatter"
           }
          ],
          "scatter3d": [
           {
            "line": {
             "colorbar": {
              "outlinewidth": 0,
              "ticks": ""
             }
            },
            "marker": {
             "colorbar": {
              "outlinewidth": 0,
              "ticks": ""
             }
            },
            "type": "scatter3d"
           }
          ],
          "scattercarpet": [
           {
            "marker": {
             "colorbar": {
              "outlinewidth": 0,
              "ticks": ""
             }
            },
            "type": "scattercarpet"
           }
          ],
          "scattergeo": [
           {
            "marker": {
             "colorbar": {
              "outlinewidth": 0,
              "ticks": ""
             }
            },
            "type": "scattergeo"
           }
          ],
          "scattergl": [
           {
            "marker": {
             "colorbar": {
              "outlinewidth": 0,
              "ticks": ""
             }
            },
            "type": "scattergl"
           }
          ],
          "scattermapbox": [
           {
            "marker": {
             "colorbar": {
              "outlinewidth": 0,
              "ticks": ""
             }
            },
            "type": "scattermapbox"
           }
          ],
          "scatterpolar": [
           {
            "marker": {
             "colorbar": {
              "outlinewidth": 0,
              "ticks": ""
             }
            },
            "type": "scatterpolar"
           }
          ],
          "scatterpolargl": [
           {
            "marker": {
             "colorbar": {
              "outlinewidth": 0,
              "ticks": ""
             }
            },
            "type": "scatterpolargl"
           }
          ],
          "scatterternary": [
           {
            "marker": {
             "colorbar": {
              "outlinewidth": 0,
              "ticks": ""
             }
            },
            "type": "scatterternary"
           }
          ],
          "surface": [
           {
            "colorbar": {
             "outlinewidth": 0,
             "ticks": ""
            },
            "colorscale": [
             [
              0,
              "#0d0887"
             ],
             [
              0.1111111111111111,
              "#46039f"
             ],
             [
              0.2222222222222222,
              "#7201a8"
             ],
             [
              0.3333333333333333,
              "#9c179e"
             ],
             [
              0.4444444444444444,
              "#bd3786"
             ],
             [
              0.5555555555555556,
              "#d8576b"
             ],
             [
              0.6666666666666666,
              "#ed7953"
             ],
             [
              0.7777777777777778,
              "#fb9f3a"
             ],
             [
              0.8888888888888888,
              "#fdca26"
             ],
             [
              1,
              "#f0f921"
             ]
            ],
            "type": "surface"
           }
          ],
          "table": [
           {
            "cells": {
             "fill": {
              "color": "#EBF0F8"
             },
             "line": {
              "color": "white"
             }
            },
            "header": {
             "fill": {
              "color": "#C8D4E3"
             },
             "line": {
              "color": "white"
             }
            },
            "type": "table"
           }
          ]
         },
         "layout": {
          "annotationdefaults": {
           "arrowcolor": "#2a3f5f",
           "arrowhead": 0,
           "arrowwidth": 1
          },
          "autotypenumbers": "strict",
          "coloraxis": {
           "colorbar": {
            "outlinewidth": 0,
            "ticks": ""
           }
          },
          "colorscale": {
           "diverging": [
            [
             0,
             "#8e0152"
            ],
            [
             0.1,
             "#c51b7d"
            ],
            [
             0.2,
             "#de77ae"
            ],
            [
             0.3,
             "#f1b6da"
            ],
            [
             0.4,
             "#fde0ef"
            ],
            [
             0.5,
             "#f7f7f7"
            ],
            [
             0.6,
             "#e6f5d0"
            ],
            [
             0.7,
             "#b8e186"
            ],
            [
             0.8,
             "#7fbc41"
            ],
            [
             0.9,
             "#4d9221"
            ],
            [
             1,
             "#276419"
            ]
           ],
           "sequential": [
            [
             0,
             "#0d0887"
            ],
            [
             0.1111111111111111,
             "#46039f"
            ],
            [
             0.2222222222222222,
             "#7201a8"
            ],
            [
             0.3333333333333333,
             "#9c179e"
            ],
            [
             0.4444444444444444,
             "#bd3786"
            ],
            [
             0.5555555555555556,
             "#d8576b"
            ],
            [
             0.6666666666666666,
             "#ed7953"
            ],
            [
             0.7777777777777778,
             "#fb9f3a"
            ],
            [
             0.8888888888888888,
             "#fdca26"
            ],
            [
             1,
             "#f0f921"
            ]
           ],
           "sequentialminus": [
            [
             0,
             "#0d0887"
            ],
            [
             0.1111111111111111,
             "#46039f"
            ],
            [
             0.2222222222222222,
             "#7201a8"
            ],
            [
             0.3333333333333333,
             "#9c179e"
            ],
            [
             0.4444444444444444,
             "#bd3786"
            ],
            [
             0.5555555555555556,
             "#d8576b"
            ],
            [
             0.6666666666666666,
             "#ed7953"
            ],
            [
             0.7777777777777778,
             "#fb9f3a"
            ],
            [
             0.8888888888888888,
             "#fdca26"
            ],
            [
             1,
             "#f0f921"
            ]
           ]
          },
          "colorway": [
           "#636efa",
           "#EF553B",
           "#00cc96",
           "#ab63fa",
           "#FFA15A",
           "#19d3f3",
           "#FF6692",
           "#B6E880",
           "#FF97FF",
           "#FECB52"
          ],
          "font": {
           "color": "#040404",
           "family": "Open Sans",
           "size": 15
          },
          "geo": {
           "bgcolor": "white",
           "lakecolor": "white",
           "landcolor": "#E5ECF6",
           "showlakes": true,
           "showland": true,
           "subunitcolor": "white"
          },
          "hoverlabel": {
           "align": "left"
          },
          "hovermode": "closest",
          "mapbox": {
           "style": "light"
          },
          "margin": {
           "b": 0
          },
          "paper_bgcolor": "white",
          "plot_bgcolor": "#E5ECF6",
          "polar": {
           "angularaxis": {
            "gridcolor": "white",
            "linecolor": "white",
            "ticks": ""
           },
           "bgcolor": "#E5ECF6",
           "radialaxis": {
            "gridcolor": "white",
            "linecolor": "white",
            "ticks": ""
           }
          },
          "scene": {
           "xaxis": {
            "backgroundcolor": "#E5ECF6",
            "gridcolor": "white",
            "gridwidth": 2,
            "linecolor": "white",
            "showbackground": true,
            "ticks": "",
            "zerolinecolor": "white"
           },
           "yaxis": {
            "backgroundcolor": "#E5ECF6",
            "gridcolor": "white",
            "gridwidth": 2,
            "linecolor": "white",
            "showbackground": true,
            "ticks": "",
            "zerolinecolor": "white"
           },
           "zaxis": {
            "backgroundcolor": "#E5ECF6",
            "gridcolor": "white",
            "gridwidth": 2,
            "linecolor": "white",
            "showbackground": true,
            "ticks": "",
            "zerolinecolor": "white"
           }
          },
          "shapedefaults": {
           "line": {
            "color": "#2a3f5f"
           }
          },
          "ternary": {
           "aaxis": {
            "gridcolor": "white",
            "linecolor": "white",
            "ticks": ""
           },
           "baxis": {
            "gridcolor": "white",
            "linecolor": "white",
            "ticks": ""
           },
           "bgcolor": "#E5ECF6",
           "caxis": {
            "gridcolor": "white",
            "linecolor": "white",
            "ticks": ""
           }
          },
          "title": {
           "font": {
            "color": "#040404",
            "family": "Open Sans"
           },
           "x": 0.05
          },
          "xaxis": {
           "automargin": true,
           "gridcolor": "white",
           "linecolor": "white",
           "ticks": "",
           "title": {
            "standoff": 15
           },
           "zerolinecolor": "white",
           "zerolinewidth": 2
          },
          "yaxis": {
           "automargin": true,
           "gridcolor": "white",
           "linecolor": "white",
           "ticks": "",
           "title": {
            "standoff": 15
           },
           "zerolinecolor": "white",
           "zerolinewidth": 2
          }
         }
        },
        "title": {
         "text": "Projects with the most contributors"
        },
        "xaxis": {
         "anchor": "y",
         "domain": [
          0,
          1
         ],
         "title": {
          "text": "Contributors"
         }
        },
        "yaxis": {
         "anchor": "x",
         "autorange": "reversed",
         "domain": [
          0,
          1
         ],
         "title": {}
        }
       }
      }
     },
     "metadata": {},
     "output_type": "display_data"
    }
   ],
   "source": [
    "contributors = df_active.nlargest(40, \"contributors\")\n",
    "\n",
    "fig = px.bar(\n",
    "    contributors,\n",
    "    x=contributors[\"contributors\"],\n",
    "    y=contributors[\"project_name\"],\n",
    "    orientation=\"h\",\n",
    "    title=\"Projects with most contributors\",\n",
    "    custom_data=[\"oneliner\", \"topic\", \"git_url\"],\n",
    "    color=contributors[\"development_distribution_score\"],\n",
    "    color_continuous_scale=color_continuous_scale,\n",
    ")\n",
    "\n",
    "fig.update_layout(\n",
    "    height=1200,  # Added parameter\n",
    "    #width=700,\n",
    "    xaxis_title=\"Contributors\",\n",
    "    yaxis_title=None,\n",
    "    title=\"Projects with the most contributors\",\n",
    "    coloraxis_colorbar=dict(\n",
    "        title=\"Development Distribution Score\",\n",
    "        orientation='h',\n",
    "        y=-0.15,\n",
    "        x=0.4\n",
    "    ),\n",
    "    hoverlabel=dict(bgcolor=\"white\"),\n",
    "    dragmode=False,\n",
    ")\n",
    "\n",
    "fig.update_traces(\n",
    "    hovertemplate=\"<br>\".join(\n",
    "        [\n",
    "            \"Project Info: <b>%{customdata[0]}</b>\",\n",
    "            \"Topic: <b>%{customdata[1]}</b>\",\n",
    "            \"Git URL: <b>%{customdata[2]}</b>\",\n",
    "        ]\n",
    "    )\n",
    ")\n",
    "fig[\"layout\"].update(margin=dict(l=20, r=0, b=0, t=40))\n",
    "fig.add_layout_image(\n",
    "    dict(\n",
    "        source=logo_img,\n",
    "        xref=\"paper\",\n",
    "        yref=\"paper\",\n",
    "        x=1,\n",
    "        y=0,\n",
    "        sizex=0.05,\n",
    "        sizey=0.05,\n",
    "        xanchor=\"right\",\n",
    "        yanchor=\"bottom\",\n",
    "    )\n",
    ")\n",
    "fig.update(layout_showlegend=False)\n",
    "fig[\"layout\"][\"yaxis\"][\"autorange\"] = \"reversed\"\n",
    "fig[\"layout\"].update(margin=dict(l=50, r=0, b=0, t=40))\n",
    "fig.show(responsive=True)"
   ]
  },
  {
   "cell_type": "markdown",
   "metadata": {},
   "source": [
    "```{figure} data:image/gif;base64,R0lGODlhAQABAIAAAAAAAP///yH5BAEAAAAALAAAAAABAAEAAAIBRAA7\n",
    ":figclass: caption-hack\n",
    ":name: numbers-of-contributors\n",
    "\n",
    "<br/>Projects with the most contributors\n",
    "```"
   ]
  },
  {
   "cell_type": "markdown",
   "metadata": {},
   "source": [
    "The high DDS among the projects with the most contributors shows the importance of sharing work among a variety of people within the community. Only then is it possible to build a large community. Projects that model the atmosphere and climate globally at high resolution can feature many developers – examples being the Energy Exascale Earth System Model ([E3SM](https://github.com/E3SM-Project/E3SM)) and the Simple Cloud-Resolving E3SM Atmosphere Model ([SCREAM](https://github.com/E3SM-Project/scream)). [Electricity Maps](https://app.electricitymaps.com/map) was able to mobilise most developers around the globe to integrate local grid data and renewable energy share on a single platform.\n",
    "\n",
    "\n",
    "```{figure} ../images/SCREAM_turbulent_eddies.png\n",
    "---\n",
    "align: center\n",
    "width: 60%\n",
    "---\n",
    "<br/>Turbulent eddies in water vapour from a 3 km horizontal resolution [SCREAM](https://github.com/E3SM-Project/scream) simulation of baroclinic instability using simple physics. License: [BSD](https://github.com/E3SM-Project/scream/blob/master/LICENSE)\n",
    "```\n"
   ]
  },
  {
   "cell_type": "markdown",
   "metadata": {},
   "source": [
    "## Contribution Guidance\n",
    "Only 30.6% of the repositories have a contribution guide, thus making it clear how new contributors can participate in the projects. There could be numerous reasons for this. Either developers are unaware of the critical importance of such a guide for the overall project, or integrating contributions from external developers into the project is not prioritised."
   ]
  }
 ],
 "metadata": {
  "celltoolbar": "Tags",
  "kernelspec": {
   "display_name": "Python 3",
   "language": "python",
   "name": "python3"
  },
  "language_info": {
   "codemirror_mode": {
    "name": "ipython",
    "version": 3
   },
   "file_extension": ".py",
   "mimetype": "text/x-python",
   "name": "python",
   "nbconvert_exporter": "python",
   "pygments_lexer": "ipython3",
   "version": "3.8.10 (default, Nov 14 2022, 12:59:47) \n[GCC 9.4.0]"
  },
  "tags": "full-width",
  "vscode": {
   "interpreter": {
    "hash": "e7370f93d1d0cde622a1f8e1c04877d8463912d04d973331ad4851f04de6915a"
   }
  }
 },
 "nbformat": 4,
 "nbformat_minor": 4
}
