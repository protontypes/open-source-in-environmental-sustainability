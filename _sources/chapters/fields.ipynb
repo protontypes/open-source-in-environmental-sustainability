{
 "cells": [
  {
   "cell_type": "markdown",
   "metadata": {},
   "source": [
    "# Fields\n",
    "Open source projects are grouped into fields based on their primary fields of focus. While the boundaries often overlap, these fields help to paint a broad landscape and can provide insight into the ecosystem health and complexity of fields relative to each other. The following sunburst diagram shows the relationship between fields, topics, and projects. The colour bar shows the {ref}`dds_chapter`.\n",
    "\n",
    "`````{admonition} Tip\n",
    ":class: tip\n",
    "The plot is fully interactive. Drill into fields, topics, and projects via hovering your mouse!\n",
    "`````\n"
   ]
  },
  {
   "cell_type": "code",
   "execution_count": null,
   "metadata": {
    "tags": [
     "remove-cell"
    ]
   },
   "outputs": [],
   "source": [
    "import numpy as np\n",
    "import pandas as pd\n",
    "import plotly.io as pio\n",
    "import plotly.graph_objects as go\n",
    "import plotly.express as px\n",
    "from opensustainTemplate import *"
   ]
  },
  {
   "cell_type": "code",
   "execution_count": null,
   "metadata": {
    "tags": [
     "remove-cell"
    ]
   },
   "outputs": [],
   "source": [
    "df_active = pd.read_csv(\"../csv/project_analysis.csv\")"
   ]
  },
  {
   "cell_type": "code",
   "execution_count": null,
   "metadata": {
    "tags": [
     "remove-input"
    ]
   },
   "outputs": [],
   "source": [
    "# color_divergent_scale = [[0, '#dffe4b'], [0.5, '#f1f1f1'],[1, '#1a566a']]\n",
    "fig = px.sunburst(\n",
    "    df_active.assign(\n",
    "        hole='<a href=\"https://opensustain.tech/\">Open Sustainable Technology</a>'\n",
    "    ),\n",
    "    path=[\"hole\", \"field\", \"topic\", \"project_name\"],\n",
    "    maxdepth=3,\n",
    "    color=\"development_distribution_score\",\n",
    "    custom_data=[\"oneliner\", \"topic\", \"git_url\"],\n",
    "    # Diverging colors\n",
    "    color_continuous_scale=color_continuous_scale,\n",
    "    # color_continuous_midpoint=df_active['development_distribution_score'].median(),\n",
    ")\n",
    "\n",
    "fig.update_layout(\n",
    "    coloraxis_colorbar=dict(title=\"DDS\"),\n",
    "    title=\"Projects within fields and topics\",\n",
    "    height=1000,\n",
    "    width=1000,\n",
    "    title_font_size=22,\n",
    "    font_size=12,\n",
    "    dragmode=False,\n",
    ")\n",
    "# animated transitions are currently not implemented when uniformtext is used\n",
    "fig.update_traces(\n",
    "    insidetextorientation=\"radial\",\n",
    "    textinfo=\"label\",\n",
    "    marker=dict(line=dict(color=\"#000000\", width=1)),\n",
    "    hovertemplate=\"<br>\".join(\n",
    "        [\n",
    "            \"Project Info: <b>%{customdata[0]}</b>\",\n",
    "            \"Topic: <b>%{customdata[1]}</b>\",\n",
    "            \"Git URL: <b>%{customdata[2]}</b>\",\n",
    "        ]\n",
    "    ),\n",
    ")\n",
    "fig.show()"
   ]
  },
  {
   "cell_type": "markdown",
   "metadata": {},
   "source": [
    "```{figure} data:image/gif;base64,R0lGODlhAQABAIAAAAAAAP///yH5BAEAAAAALAAAAAABAAEAAAIBRAA7\n",
    ":figclass: caption-hack\n",
    ":name: projects-within-sectors\n",
    "\n",
    "<br/>Number of individual projects within fields and topics\n",
    "```"
   ]
  }
 ],
 "metadata": {
  "celltoolbar": "Tags",
  "kernelspec": {
   "display_name": "Python 3",
   "language": "python",
   "name": "python3"
  },
  "language_info": {
   "codemirror_mode": {
    "name": "ipython",
    "version": 3
   },
   "file_extension": ".py",
   "mimetype": "text/x-python",
   "name": "python",
   "nbconvert_exporter": "python",
   "pygments_lexer": "ipython3",
   "version": "3.8.10"
  },
  "tags": "full-width",
  "vscode": {
   "interpreter": {
    "hash": "e7370f93d1d0cde622a1f8e1c04877d8463912d04d973331ad4851f04de6915a"
   }
  }
 },
 "nbformat": 4,
 "nbformat_minor": 4
}
