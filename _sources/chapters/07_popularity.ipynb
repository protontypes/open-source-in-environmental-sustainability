{
 "cells": [
  {
   "cell_type": "markdown",
   "metadata": {},
   "source": [
    "# Popularity\n",
    "\n",
    "Social software development and version control platforms like Github allow users to \"star\" other users' repositories. Staring is often used to indicate support, bookmark repositories for later reference, and create curated lists. A repository's total number of stars is an easy metric to keep track of and is routinely used by the community as an indicator of project popularity.\n",
    "\n",
    "**The popularity of a particular topic or field can be determined by summing the number of stars across all related projects.** There are a total of 126,568 stars across all of the identified projects within this study. For context, a search on GitHub reveals that there are 27 projects, each with more stars than the entire open source ecosystem within environmental sustainability combined. With a median of 42 stars, the field of sustainable technology can be considered rather unpopular on GitHub.\n",
    "\n",
    "**With only three projects with more than 1000 stars, it is clear how young the field of Environmental Sustainability is within Open Source.** High growth in popularity can be seen within topics such as Energy, Transportation, Earth Observation, and Meteorology. These are just a few examples of where software innovations are critically important, which explains why open source software is widely relied upon."
   ]
  },
  {
   "cell_type": "code",
   "execution_count": 1,
   "metadata": {
    "tags": [
     "remove-cell"
    ]
   },
   "outputs": [],
   "source": [
    "import numpy as np\n",
    "import pandas as pd\n",
    "import plotly.io as pio\n",
    "import plotly.graph_objects as go\n",
    "import plotly.express as px\n",
    "from opensustain_template import *"
   ]
  },
  {
   "cell_type": "code",
   "execution_count": 2,
   "metadata": {
    "tags": [
     "remove-cell"
    ]
   },
   "outputs": [],
   "source": [
    "df_active = pd.read_csv(\"../csv/project_analysis.csv\")\n",
    "df_active['project_name'] = df_active['project_name'].replace({'A Global Inventory of Commerical-, Industrial-, and Utility-Scale Photovoltaic Solar Generating Units': 'A Global Inventory of Photovoltaic'})\n",
    "df_active['project_name'] = df_active['project_name'].replace({'Asset-level Transition Risk in the Global Coal, Oil, and Gas Supply Chains': 'Global Coal, Oil, and Gas Supply Chains'})"
   ]
  },
  {
   "cell_type": "code",
   "execution_count": 1,
   "metadata": {
    "tags": [
     "full-width",
     "remove-input"
    ]
   },
   "outputs": [
    {
     "ename": "NameError",
     "evalue": "name 'df_active' is not defined",
     "output_type": "error",
     "traceback": [
      "\u001b[0;31m---------------------------------------------------------------------------\u001b[0m",
      "\u001b[0;31mNameError\u001b[0m                                 Traceback (most recent call last)",
      "\u001b[0;32m<ipython-input-1-49e22daf2274>\u001b[0m in \u001b[0;36m<module>\u001b[0;34m\u001b[0m\n\u001b[0;32m----> 1\u001b[0;31m \u001b[0mtop_stargazers\u001b[0m \u001b[0;34m=\u001b[0m \u001b[0mdf_active\u001b[0m\u001b[0;34m.\u001b[0m\u001b[0mnlargest\u001b[0m\u001b[0;34m(\u001b[0m\u001b[0;36m40\u001b[0m\u001b[0;34m,\u001b[0m \u001b[0;34m\"stargazers_count\"\u001b[0m\u001b[0;34m)\u001b[0m\u001b[0;34m\u001b[0m\u001b[0;34m\u001b[0m\u001b[0m\n\u001b[0m\u001b[1;32m      2\u001b[0m \u001b[0;34m\u001b[0m\u001b[0m\n\u001b[1;32m      3\u001b[0m fig = px.bar(\n\u001b[1;32m      4\u001b[0m     \u001b[0mtop_stargazers\u001b[0m\u001b[0;34m,\u001b[0m\u001b[0;34m\u001b[0m\u001b[0;34m\u001b[0m\u001b[0m\n\u001b[1;32m      5\u001b[0m     \u001b[0mx\u001b[0m\u001b[0;34m=\u001b[0m\u001b[0mtop_stargazers\u001b[0m\u001b[0;34m[\u001b[0m\u001b[0;34m\"stargazers_count\"\u001b[0m\u001b[0;34m]\u001b[0m\u001b[0;34m,\u001b[0m\u001b[0;34m\u001b[0m\u001b[0;34m\u001b[0m\u001b[0m\n",
      "\u001b[0;31mNameError\u001b[0m: name 'df_active' is not defined"
     ]
    }
   ],
   "source": [
    "top_stargazers = df_active.nlargest(40, \"stargazers_count\")\n",
    "\n",
    "fig = px.bar(\n",
    "    top_stargazers,\n",
    "    x=top_stargazers[\"stargazers_count\"],\n",
    "    y=top_stargazers[\"project_name\"],\n",
    "    orientation=\"h\",\n",
    "    custom_data=[\"oneliner\",\"topic\",\"git_url\"],\n",
    "    color=top_stargazers[\"development_distribution_score\"],\n",
    "    color_continuous_scale=color_continuous_scale\n",
    "\n",
    ")\n",
    "\n",
    "fig.update_layout(\n",
    "    height=1000,  # Added parameter\n",
    "    xaxis_title=\"Stars\",\n",
    "    yaxis_title=None,\n",
    "    title=\"Projects with the most Stars\",\n",
    "    coloraxis_colorbar=dict(\n",
    "    title=\"DDS\",\n",
    "    ),\n",
    "    hoverlabel=dict(\n",
    "    bgcolor=\"white\"\n",
    "    )\n",
    ")\n",
    "\n",
    "fig.update_traces(\n",
    "    hovertemplate=\"<br>\".join([\n",
    "        \"Project Info: <b>%{customdata[0]}</b>\",\n",
    "        \"Topic: <b>%{customdata[1]}</b>\",\n",
    "        \"Git URL: <b>%{customdata[2]}</b>\"\n",
    "    ])\n",
    ")\n",
    "fig['layout'].update(margin=dict(l=200,r=0,b=0,t=40))\n",
    "fig.add_layout_image(\n",
    "    dict(\n",
    "        source=logo_img,\n",
    "        xref=\"paper\", yref=\"paper\",\n",
    "        x=1, y=0,\n",
    "        sizex=0.05, sizey=0.05,\n",
    "        xanchor=\"right\", yanchor=\"bottom\"\n",
    "    )\n",
    ")\n",
    "fig['layout']['yaxis']['autorange'] = \"reversed\"\n",
    "fig.update(layout_showlegend=False)"
   ]
  },
  {
   "cell_type": "markdown",
   "metadata": {},
   "source": [
    "```{figure} data:image/gif;base64,R0lGODlhAQABAIAAAAAAAP///yH5BAEAAAAALAAAAAABAAEAAAIBRAA7\n",
    ":figclass: caption-hack\n",
    ":name: popularity-in-stars\n",
    "\n",
    "Projects with most stars \n",
    "```"
   ]
  },
  {
   "cell_type": "markdown",
   "metadata": {},
   "source": [
    "Here, the accessibility of different domains and applications must also be taken into account. Projects such as [A/B Street](https://a-b-street.github.io/docs/software/abstreet.html), [Electricity Map](https://app.electricitymaps.com/map), [OpenFarm](https://openfarm.cc/), [Open Food Network](https://openfoodnetwork.org/), [Emoncms](https://emoncms.org/), [StreetMix](https://streetmix.net/), or the [Farmbot](https://farm.bot/), have relatively lower barriers to entry for software developers and end users. These projects can speak to a wide audience and require less specialist or technical knowledge to contribute to and use; hence there is greater awareness in general.\n",
    "\n",
    "```{figure} ../images/a_b_street.jpeg\n",
    "---\n",
    "width: 100%\n",
    "---\n",
    "[A/B Street](https://a-b-street.github.io/docs/software/abstreet.html)- Transportation planning and traffic simulation software for creating cities friendlier to walking, biking, and public transit. [Apache-2.0 license](https://github.com/a-b-street/abstreet/blob/master/LICENSE)\n",
    "```\n",
    "On the other hand, popularity should not be conflated with impact. Projects with fewer connections to the general public often appear less popular simply based on the number of stars they have, giving the impression that the potential for environmental sustainability is low. These include projects such as [biodivMapR](https://github.com/jbferet/biodivMapR) that has the potential to create a global map of biodiversity based on multispectral satellite images. Projects on sanitary problems or biogas, such as [Santiago.jl](https://github.com/santiago-sanitation-systems/Santiago.jl), are also apparently less popular based on the star metric but can have a significant impact on energy supply or water quality.\n",
    "\n",
    "```{figure} ../images/biodivmapr.png\n",
    "---\n",
    "width: 100%\n",
    "---\n",
    "[biodivMapR](https://jbferet.github.io/biodivMapR/index.html) - An R package for α- and β-diversity mapping using remotely-sensed images. The left image shows the visible spectra with mutliple validation sites. the right image shows the derived biodiversity. [GPL-3.0 license](https://github.com/jbferet/biodivMapR/)\n",
    "```"
   ]
  }
 ],
 "metadata": {
  "celltoolbar": "Tags",
  "kernelspec": {
   "display_name": "Python 3.8.10 64-bit",
   "language": "python",
   "name": "python3"
  },
  "language_info": {
   "codemirror_mode": {
    "name": "ipython",
    "version": 3
   },
   "file_extension": ".py",
   "mimetype": "text/x-python",
   "name": "python",
   "nbconvert_exporter": "python",
   "pygments_lexer": "ipython3",
   "version": "3.8.10"
  },
  "tags": "full-width",
  "vscode": {
   "interpreter": {
    "hash": "e7370f93d1d0cde622a1f8e1c04877d8463912d04d973331ad4851f04de6915a"
   }
  }
 },
 "nbformat": 4,
 "nbformat_minor": 4
}
