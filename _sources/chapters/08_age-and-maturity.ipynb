{
 "cells": [
  {
   "cell_type": "markdown",
   "metadata": {},
   "source": [
    "# Age and Maturity\n",
    "\n",
    "A repository's age is an important health indicator. If a project has been actively used for a long time we can infer that developers and users are interested in its development. The age of all projects follows an approximate normal distribution, with a sharp drop for younger projects and a peak at 3.2 years. This trend can be explained in several ways:\n",
    "\n",
    "- Repositories only meet the criteria for inclusion in this study after a certain period of time. This applies in particular to the documentation and the use of the project by third parties.\n",
    "- It is common practice to make a project public and advertise it only after sufficient development time has elapsed. \n",
    "- The age considered is the project age and not the repository age. GitHub only really became popular in the last 10 years. However, many Git repositories are older and have moved to the platform during this period. \n",
    "\n",
    "**Some of the oldest projects such as Pysolar, iNaturalist or OCE with an age of more than 10 years originate in academic communities, when the share of other organisations in OSS was still low.** This illustrates the grassroots origins of the open source community\n",
    "\n",
    "**However, a closer look at the age distribution of the repositories indicates a median age of 4.32 years, indicating that most projects were developed recently.** The project age distribution shows that the number of new projects has decreased in recent years. Whether this is due to the bias of this study or a real trend can only be evaluated by further analyses. "
   ]
  },
  {
   "cell_type": "code",
   "execution_count": 23,
   "metadata": {
    "tags": [
     "remove-cell"
    ]
   },
   "outputs": [],
   "source": [
    "import numpy as np\n",
    "import pandas as pd\n",
    "import plotly.io as pio\n",
    "import plotly.graph_objects as go\n",
    "import plotly.express as px\n",
    "from opensustain_template import *"
   ]
  },
  {
   "cell_type": "code",
   "execution_count": 24,
   "metadata": {
    "tags": [
     "remove-cell"
    ]
   },
   "outputs": [],
   "source": [
    "df_active = pd.read_csv(\"../csv/project_analysis.csv\")"
   ]
  },
  {
   "cell_type": "code",
   "execution_count": 1,
   "metadata": {
    "tags": [
     "full-width",
     "remove-input"
    ]
   },
   "outputs": [
    {
     "ename": "NameError",
     "evalue": "name 'px' is not defined",
     "output_type": "error",
     "traceback": [
      "\u001b[0;31m---------------------------------------------------------------------------\u001b[0m",
      "\u001b[0;31mNameError\u001b[0m                                 Traceback (most recent call last)",
      "\u001b[0;32m<ipython-input-1-16e8a963713a>\u001b[0m in \u001b[0;36m<module>\u001b[0;34m\u001b[0m\n\u001b[0;32m----> 1\u001b[0;31m fig = px.histogram(\n\u001b[0m\u001b[1;32m      2\u001b[0m     \u001b[0mdf_active\u001b[0m\u001b[0;34m,\u001b[0m\u001b[0;34m\u001b[0m\u001b[0;34m\u001b[0m\u001b[0m\n\u001b[1;32m      3\u001b[0m     \u001b[0mx\u001b[0m\u001b[0;34m=\u001b[0m\u001b[0;34m\"project_age_in_years\"\u001b[0m\u001b[0;34m,\u001b[0m\u001b[0;34m\u001b[0m\u001b[0;34m\u001b[0m\u001b[0m\n\u001b[1;32m      4\u001b[0m     \u001b[0mnbins\u001b[0m\u001b[0;34m=\u001b[0m\u001b[0;36m50\u001b[0m\u001b[0;34m,\u001b[0m\u001b[0;34m\u001b[0m\u001b[0;34m\u001b[0m\u001b[0m\n\u001b[1;32m      5\u001b[0m     \u001b[0mtitle\u001b[0m\u001b[0;34m=\u001b[0m\u001b[0;34m\"Distribution of Project Age\"\u001b[0m\u001b[0;34m,\u001b[0m\u001b[0;34m\u001b[0m\u001b[0;34m\u001b[0m\u001b[0m\n",
      "\u001b[0;31mNameError\u001b[0m: name 'px' is not defined"
     ]
    }
   ],
   "source": [
    "fig = px.histogram(\n",
    "    df_active,\n",
    "    x=\"project_age_in_years\",\n",
    "    nbins=50,\n",
    "    title=\"Distribution of Project Age\",\n",
    ")\n",
    "fig.update_layout(\n",
    "    yaxis_title= None,\n",
    "    xaxis_title=\"Project Age\",\n",
    ")\n",
    "fig.update_traces(marker_color=marker_color)\n",
    "fig.add_layout_image(\n",
    "    dict(\n",
    "        source=logo_img,\n",
    "        xref=\"paper\", yref=\"paper\",\n",
    "        x=1, y=1,\n",
    "        sizex=0.10, sizey=0.10,\n",
    "        xanchor=\"right\", yanchor=\"top\"\n",
    "    )\n",
    ")\n",
    "fig.show()"
   ]
  },
  {
   "cell_type": "code",
   "execution_count": 27,
   "metadata": {
    "tags": [
     "full-width",
     "remove-input"
    ]
   },
   "outputs": [
    {
     "data": {
      "application/vnd.plotly.v1+json": {
       "config": {
        "plotlyServerURL": "https://plot.ly"
       },
       "data": [
        {
         "alignmentgroup": "True",
         "customdata": [
          [
           "A collection of Python libraries for simulating the irradiation of any point on earth by the sun. It includes code for extremely precise ephemeris calculations.",
           "https://github.com/pingswept/pysolar.git",
           "Photovoltaics and Solar Energy"
          ],
          [
           "Helps you identify the plants and animals around you.",
           "https://github.com/inaturalist/inaturalist.git",
           "Biosphere"
          ],
          [
           "An R package for oceanographic processing.",
           "https://github.com/dankelley/oce.git",
           "Hydrosphere"
          ],
          [
           "Provides a set of tools to scrape bike sharing data from different websites and APIs, thus providing a coherent and generalized set of classes and methods to access this sort of information.",
           "https://github.com/eskerda/pybikes.git",
           "Mobility and Transportation"
          ],
          [
           "A free smart meter implementation with focus on data privacy.",
           "https://github.com/volkszaehler/volkszaehler.org.git",
           "Buildings and Heating"
          ],
          [
           "A collection of tools to process input and output files from the Regional Ocean Modeling System.",
           "https://github.com/ESMG/pyroms.git",
           "Hydrosphere"
          ],
          [
           "A collection of tools in Python for reading, visualizing and performing calculations with weather data.",
           "https://github.com/Unidata/MetPy.git",
           "Meteorological Observation and Forecast"
          ],
          [
           "Calculation engine for the Energy Transition Model.",
           "https://github.com/quintel/etengine.git",
           "Energy Distribution and Grids"
          ],
          [
           "Professional interface of the Energy Transition model.",
           "https://github.com/quintel/etmodel.git",
           "Energy Distribution and Grids"
          ],
          [
           "Allows users to search over many taxonomic data sources for species names (scientific and common) and download up and downstream taxonomic hierarchical information.",
           "https://github.com/ropensci/taxize.git",
           "Biosphere"
          ],
          [
           "The Open Source platform for Real Time Transit Info.",
           "https://github.com/OneBusAway/onebusaway-android.git",
           "Mobility and Transportation"
          ],
          [
           "R client for interacting with the USA National Phenology Network data web services.",
           "https://github.com/usa-npn/rnpn.git",
           "Biosphere"
          ],
          [
           "Interface to the Global Biodiversity Information Facility API.",
           "https://github.com/ropensci/rgbif.git",
           "Biosphere"
          ],
          [
           "Global Biotic Interactions provides access to existing species interaction datasets.",
           "https://github.com/globalbioticinteractions/globalbioticinteractions.git",
           "Biosphere"
          ],
          [
           "The Parallel Ice Sheet Model is an open source, parallel, high-resolution ice sheet model.",
           "https://github.com/pism/pism.git",
           "Cryosphere"
          ],
          [
           "An R interface to the fishbase.org database.",
           "https://github.com/ropensci/rfishbase.git",
           "Biosphere"
          ],
          [
           "Building out a network of sensors to monitor particulate matter in sizes PM1.0, PM2.5, PM10.",
           "https://github.com/Safecast/safecastapi.git",
           "Air Quality"
          ],
          [
           "A waste-water application based on QGIS in compliance with SIA-405.",
           "https://github.com/QGEP/QGEP.git",
           "Water Supply and Quality"
          ],
          [
           "An online tool for forest management scenario planning.",
           "https://github.com/Ecotrust/forestplanner.git",
           "Biosphere"
          ],
          [
           "QGIS plugin for estimating impact from natural disasters.",
           "https://github.com/inasafe/inasafe.git",
           "Natural Hazard and Poverty"
          ],
          [
           "The project aims to build a platform for gathering, visualization and sharing of environmental data.",
           "https://github.com/HabitatMap/AirCasting.git",
           "Air Quality"
          ],
          [
           "A package to interface with the eBird webservices a real-time, online bird checklist program.",
           "https://github.com/ropensci/rebird.git",
           "Biosphere"
          ],
          [
           "Import GTFS transit data into SQLite and query routes, stops, times, fares and more.",
           "https://github.com/BlinkTagInc/node-gtfs.git",
           "Mobility and Transportation"
          ],
          [
           "Arduino Energy Monitoring Library.",
           "https://github.com/openenergymonitor/EmonLib.git",
           "Energy Monitoring and Control"
          ],
          [
           "Used to perform cost-benefit and cost-effectiveness analyses of greenhouse gas emission reduction policies.",
           "https://github.com/fund-model/MimiFUND.jl.git",
           "Sustainable Investment"
          ],
          [
           "An online, global and near real-time forest monitoring tool.",
           "https://github.com/Vizzuality/gfw.git",
           "Biosphere"
          ],
          [
           "An extensive collection of datasets from agricultural experiments.",
           "https://github.com/kwstat/agridat.git",
           "Agriculture and Nutrition"
          ],
          [
           "A numerical ocean model based on the hydrostatic primitive equations. Development of the model is managed through this GitHub site.",
           "https://github.com/mom-ocean/MOM5.git",
           "Earth and Climate Modeling"
          ],
          [
           "Discover and access easily the geospatial data catalogue of the European Environment Agency.",
           "https://github.com/eea/geonetwork-eea.git",
           "Data Catalogs and Interfaces"
          ],
          [
           "A free and open source model to compute noise maps.",
           "https://github.com/Universite-Gustave-Eiffel/NoiseModelling.git",
           "Mobility and Transportation"
          ],
          [
           "Basic tools to analyze forest fire history data (e.g. FHX) in R.",
           "https://github.com/ltrr-arizona-edu/burnr.git",
           "Biosphere"
          ],
          [
           "A powerful, format-agnostic, community-driven Python package for analyzing and visualizing Earth science data.",
           "https://github.com/SciTools/iris.git",
           "Hydrosphere"
          ],
          [
           "A Python interface to the 6S Radiative Transfer Model.",
           "https://github.com/robintw/Py6S.git",
           "Radiative Transfer"
          ],
          [
           "Open source and open data platform that can predict when your plantings will be ready to harvest.",
           "https://github.com/Growstuff/growstuff.git",
           "Agriculture and Nutrition"
          ],
          [
           "An open source carpooling platform used as a basis for our commercial product Company Carpool.",
           "https://github.com/diowa/icare.git",
           "Mobility and Transportation"
          ],
          [
           "A set of Python libraries for simulating power systems behavior with an emphasis on cost-benefit analysis of emerging technologies.",
           "https://github.com/dpinney/omf.git",
           "Energy Modeling and Optimization"
          ],
          [
           "An R package to run dynamic multi-species size-spectrum models of fish communities.",
           "https://github.com/sizespectrum/mizer.git",
           "Agriculture and Nutrition"
          ],
          [
           "A powerful open source web application for processing, logging and visualizing energy, temperature and other environmental data.",
           "https://github.com/emoncms/emoncms.git",
           "Energy Monitoring and Control"
          ],
          [
           "An online marketplace for local food. It enables a network of independent online food stores that connects farmers and food hubs with individuals and local businesses.",
           "https://github.com/openfoodfoundation/openfoodnetwork.git",
           "Agriculture and Nutrition"
          ],
          [
           "A radiative transfer model for the millimeter and sub-millimeter spectral range.",
           "https://github.com/atmtools/arts.git",
           "Radiative Transfer"
          ]
         ],
         "hoverlabel": {
          "namelength": 0
         },
         "hovertemplate": "Project Info: <b>%{customdata[0]}</b><br>Topic: <b>%{customdata[1]}</b><br>Git URL: <b>%{customdata[2]}</b>",
         "legendgroup": "",
         "marker": {
          "color": [
           0.4313725490196078,
           0.2967533543150571,
           0.0467860613633208,
           0.3974999999999999,
           0.564963503649635,
           0.2195121951219512,
           0.4422496570644718,
           0.6165311653116532,
           0.7006305531670967,
           0.109431995831162,
           0.3212410501193318,
           0.3312101910828026,
           0.1732973701955495,
           0.5,
           0.2893976677008666,
           0.1245136186770428,
           0.7605561277033985,
           0.3323943661971831,
           0.555431131019037,
           0.731155981015204,
           0.6867052023121387,
           0.5260416666666667,
           0.12,
           0.2894736842105263,
           0.3890977443609023,
           0.6636363636363636,
           0,
           0.5382830626450116,
           0.5793971042012818,
           0.5244956772334294,
           0.1968325791855203,
           0.8637803590285111,
           0.0572916666666666,
           0.4441517386722866,
           0.4920224234583872,
           0.5256283068783069,
           0.2150814053127677,
           0.7925653969710876,
           0.857922954725973,
           0.5420353982300885
          ],
          "coloraxis": "coloraxis"
         },
         "name": "",
         "offsetgroup": "",
         "orientation": "h",
         "showlegend": false,
         "textposition": "auto",
         "type": "bar",
         "x": [
          14.7013698630137,
          13.191780821917808,
          12.654794520547943,
          12.32876712328767,
          12.312328767123288,
          12.063013698630137,
          11.715068493150683,
          11.531506849315068,
          11.531506849315068,
          11.487671232876712,
          11.427397260273972,
          11.265753424657534,
          11.216438356164383,
          11.123287671232877,
          11.024657534246575,
          10.986301369863014,
          10.967123287671232,
          10.92054794520548,
          10.915068493150685,
          10.843835616438357,
          10.821917808219178,
          10.756164383561645,
          10.747945205479452,
          10.706849315068494,
          10.646575342465754,
          10.490410958904109,
          10.468493150684932,
          10.37808219178082,
          10.36164383561644,
          10.336986301369864,
          10.273972602739724,
          10.26849315068493,
          10.263013698630138,
          10.263013698630138,
          10.213698630136989,
          10.153424657534249,
          10.142465753424656,
          10.073972602739726,
          10.07123287671233,
          10.03835616438356
         ],
         "xaxis": "x",
         "y": [
          "<a href=\"https://github.com/pingswept/pysolar.git\">Pysolar</a>",
          "<a href=\"https://github.com/inaturalist/inaturalist.git\">iNaturalist</a>",
          "<a href=\"https://github.com/dankelley/oce.git\">oce</a>",
          "<a href=\"https://github.com/eskerda/pybikes.git\">pybikes</a>",
          "<a href=\"https://github.com/volkszaehler/volkszaehler.org.git\">volkszaehler.org</a>",
          "<a href=\"https://github.com/ESMG/pyroms.git\">pyroms</a>",
          "<a href=\"https://github.com/Unidata/MetPy.git\">MetPy</a>",
          "<a href=\"https://github.com/quintel/etengine.git\">Energy Transition Engine</a>",
          "<a href=\"https://github.com/quintel/etmodel.git\">ETM Pro</a>",
          "<a href=\"https://github.com/ropensci/taxize.git\">taxize</a>",
          "<a href=\"https://github.com/OneBusAway/onebusaway-android.git\">OneBusAway</a>",
          "<a href=\"https://github.com/usa-npn/rnpn.git\">rnpn</a>",
          "<a href=\"https://github.com/ropensci/rgbif.git\">rgbif</a>",
          "<a href=\"https://github.com/globalbioticinteractions/globalbioticinteractions.git\">Global Biotic Interactions</a>",
          "<a href=\"https://github.com/pism/pism.git\">PISM</a>",
          "<a href=\"https://github.com/ropensci/rfishbase.git\">rfishbase</a>",
          "<a href=\"https://github.com/Safecast/safecastapi.git\">Safecast</a>",
          "<a href=\"https://github.com/QGEP/QGEP.git\">QGEP</a>",
          "<a href=\"https://github.com/Ecotrust/forestplanner.git\">Forest Scenario Planner</a>",
          "<a href=\"https://github.com/inasafe/inasafe.git\">InaSAFE</a>",
          "<a href=\"https://github.com/HabitatMap/AirCasting.git\">AirCasting</a>",
          "<a href=\"https://github.com/ropensci/rebird.git\">rebird</a>",
          "<a href=\"https://github.com/BlinkTagInc/node-gtfs.git\">node-gtfs</a>",
          "<a href=\"https://github.com/openenergymonitor/EmonLib.git\">EmonLib</a>",
          "<a href=\"https://github.com/fund-model/MimiFUND.jl.git\">MimiFUND.jl</a>",
          "<a href=\"https://github.com/Vizzuality/gfw.git\">Global Forest Watch</a>",
          "<a href=\"https://github.com/kwstat/agridat.git\">Agridat</a>",
          "<a href=\"https://github.com/mom-ocean/MOM5.git\">MOM5</a>",
          "<a href=\"https://github.com/eea/geonetwork-eea.git\">EEA geospatial data catalogue</a>",
          "<a href=\"https://github.com/Universite-Gustave-Eiffel/NoiseModelling.git\">NoiseModelling</a>",
          "<a href=\"https://github.com/ltrr-arizona-edu/burnr.git\">burnr</a>",
          "<a href=\"https://github.com/SciTools/iris.git\">Iris</a>",
          "<a href=\"https://github.com/robintw/Py6S.git\">Py6S</a>",
          "<a href=\"https://github.com/Growstuff/growstuff.git\">Growstuff</a>",
          "<a href=\"https://github.com/diowa/icare.git\">icare</a>",
          "<a href=\"https://github.com/dpinney/omf.git\">Open Modeling Framework</a>",
          "<a href=\"https://github.com/sizespectrum/mizer.git\">mizer</a>",
          "<a href=\"https://github.com/emoncms/emoncms.git\">Emoncms</a>",
          "<a href=\"https://github.com/openfoodfoundation/openfoodnetwork.git\">openfoodnetwork</a>",
          "<a href=\"https://github.com/atmtools/arts.git\">ARTS</a>"
         ],
         "yaxis": "y"
        }
       ],
       "layout": {
        "barmode": "relative",
        "coloraxis": {
         "colorbar": {
          "title": {
           "text": "DDS"
          }
         },
         "colorscale": [
          [
           0,
           "rgb(237, 239, 93)"
          ],
          [
           0.16666666666666666,
           "rgb(169, 220, 103)"
          ],
          [
           0.3333333333333333,
           "rgb(110, 197, 116)"
          ],
          [
           0.5,
           "rgb(57, 171, 126)"
          ],
          [
           0.6666666666666666,
           "rgb(13, 143, 129)"
          ],
          [
           0.8333333333333334,
           "rgb(15, 114, 121)"
          ],
          [
           1,
           "rgb(36, 86, 104)"
          ]
         ]
        },
        "height": 1000,
        "hoverdistance": 5,
        "hoverlabel": {
         "bgcolor": "white"
        },
        "hovermode": "y",
        "images": [
         {
          "sizex": 0.05,
          "sizey": 0.05,
          "source": "logo.png",
          "x": 1,
          "xanchor": "right",
          "xref": "paper",
          "y": 1,
          "yanchor": "top",
          "yref": "paper"
         }
        ],
        "legend": {
         "tracegroupgap": 0
        },
        "margin": {
         "t": 60
        },
        "showlegend": false,
        "template": {
         "data": {
          "bar": [
           {
            "error_x": {
             "color": "#2a3f5f"
            },
            "error_y": {
             "color": "#2a3f5f"
            },
            "marker": {
             "line": {
              "color": "#E5ECF6",
              "width": 0.5
             }
            },
            "type": "bar"
           }
          ],
          "barpolar": [
           {
            "marker": {
             "line": {
              "color": "#E5ECF6",
              "width": 0.5
             }
            },
            "type": "barpolar"
           }
          ],
          "carpet": [
           {
            "aaxis": {
             "endlinecolor": "#2a3f5f",
             "gridcolor": "white",
             "linecolor": "white",
             "minorgridcolor": "white",
             "startlinecolor": "#2a3f5f"
            },
            "baxis": {
             "endlinecolor": "#2a3f5f",
             "gridcolor": "white",
             "linecolor": "white",
             "minorgridcolor": "white",
             "startlinecolor": "#2a3f5f"
            },
            "type": "carpet"
           }
          ],
          "choropleth": [
           {
            "colorbar": {
             "outlinewidth": 0,
             "ticks": ""
            },
            "type": "choropleth"
           }
          ],
          "contour": [
           {
            "colorbar": {
             "outlinewidth": 0,
             "ticks": ""
            },
            "colorscale": [
             [
              0,
              "#0d0887"
             ],
             [
              0.1111111111111111,
              "#46039f"
             ],
             [
              0.2222222222222222,
              "#7201a8"
             ],
             [
              0.3333333333333333,
              "#9c179e"
             ],
             [
              0.4444444444444444,
              "#bd3786"
             ],
             [
              0.5555555555555556,
              "#d8576b"
             ],
             [
              0.6666666666666666,
              "#ed7953"
             ],
             [
              0.7777777777777778,
              "#fb9f3a"
             ],
             [
              0.8888888888888888,
              "#fdca26"
             ],
             [
              1,
              "#f0f921"
             ]
            ],
            "type": "contour"
           }
          ],
          "contourcarpet": [
           {
            "colorbar": {
             "outlinewidth": 0,
             "ticks": ""
            },
            "type": "contourcarpet"
           }
          ],
          "heatmap": [
           {
            "colorbar": {
             "outlinewidth": 0,
             "ticks": ""
            },
            "colorscale": [
             [
              0,
              "#0d0887"
             ],
             [
              0.1111111111111111,
              "#46039f"
             ],
             [
              0.2222222222222222,
              "#7201a8"
             ],
             [
              0.3333333333333333,
              "#9c179e"
             ],
             [
              0.4444444444444444,
              "#bd3786"
             ],
             [
              0.5555555555555556,
              "#d8576b"
             ],
             [
              0.6666666666666666,
              "#ed7953"
             ],
             [
              0.7777777777777778,
              "#fb9f3a"
             ],
             [
              0.8888888888888888,
              "#fdca26"
             ],
             [
              1,
              "#f0f921"
             ]
            ],
            "type": "heatmap"
           }
          ],
          "heatmapgl": [
           {
            "colorbar": {
             "outlinewidth": 0,
             "ticks": ""
            },
            "colorscale": [
             [
              0,
              "#0d0887"
             ],
             [
              0.1111111111111111,
              "#46039f"
             ],
             [
              0.2222222222222222,
              "#7201a8"
             ],
             [
              0.3333333333333333,
              "#9c179e"
             ],
             [
              0.4444444444444444,
              "#bd3786"
             ],
             [
              0.5555555555555556,
              "#d8576b"
             ],
             [
              0.6666666666666666,
              "#ed7953"
             ],
             [
              0.7777777777777778,
              "#fb9f3a"
             ],
             [
              0.8888888888888888,
              "#fdca26"
             ],
             [
              1,
              "#f0f921"
             ]
            ],
            "type": "heatmapgl"
           }
          ],
          "histogram": [
           {
            "marker": {
             "colorbar": {
              "outlinewidth": 0,
              "ticks": ""
             }
            },
            "type": "histogram"
           }
          ],
          "histogram2d": [
           {
            "colorbar": {
             "outlinewidth": 0,
             "ticks": ""
            },
            "colorscale": [
             [
              0,
              "#0d0887"
             ],
             [
              0.1111111111111111,
              "#46039f"
             ],
             [
              0.2222222222222222,
              "#7201a8"
             ],
             [
              0.3333333333333333,
              "#9c179e"
             ],
             [
              0.4444444444444444,
              "#bd3786"
             ],
             [
              0.5555555555555556,
              "#d8576b"
             ],
             [
              0.6666666666666666,
              "#ed7953"
             ],
             [
              0.7777777777777778,
              "#fb9f3a"
             ],
             [
              0.8888888888888888,
              "#fdca26"
             ],
             [
              1,
              "#f0f921"
             ]
            ],
            "type": "histogram2d"
           }
          ],
          "histogram2dcontour": [
           {
            "colorbar": {
             "outlinewidth": 0,
             "ticks": ""
            },
            "colorscale": [
             [
              0,
              "#0d0887"
             ],
             [
              0.1111111111111111,
              "#46039f"
             ],
             [
              0.2222222222222222,
              "#7201a8"
             ],
             [
              0.3333333333333333,
              "#9c179e"
             ],
             [
              0.4444444444444444,
              "#bd3786"
             ],
             [
              0.5555555555555556,
              "#d8576b"
             ],
             [
              0.6666666666666666,
              "#ed7953"
             ],
             [
              0.7777777777777778,
              "#fb9f3a"
             ],
             [
              0.8888888888888888,
              "#fdca26"
             ],
             [
              1,
              "#f0f921"
             ]
            ],
            "type": "histogram2dcontour"
           }
          ],
          "mesh3d": [
           {
            "colorbar": {
             "outlinewidth": 0,
             "ticks": ""
            },
            "type": "mesh3d"
           }
          ],
          "parcoords": [
           {
            "line": {
             "colorbar": {
              "outlinewidth": 0,
              "ticks": ""
             }
            },
            "type": "parcoords"
           }
          ],
          "pie": [
           {
            "automargin": true,
            "type": "pie"
           }
          ],
          "scatter": [
           {
            "marker": {
             "colorbar": {
              "outlinewidth": 0,
              "ticks": ""
             }
            },
            "type": "scatter"
           }
          ],
          "scatter3d": [
           {
            "line": {
             "colorbar": {
              "outlinewidth": 0,
              "ticks": ""
             }
            },
            "marker": {
             "colorbar": {
              "outlinewidth": 0,
              "ticks": ""
             }
            },
            "type": "scatter3d"
           }
          ],
          "scattercarpet": [
           {
            "marker": {
             "colorbar": {
              "outlinewidth": 0,
              "ticks": ""
             }
            },
            "type": "scattercarpet"
           }
          ],
          "scattergeo": [
           {
            "marker": {
             "colorbar": {
              "outlinewidth": 0,
              "ticks": ""
             }
            },
            "type": "scattergeo"
           }
          ],
          "scattergl": [
           {
            "marker": {
             "colorbar": {
              "outlinewidth": 0,
              "ticks": ""
             }
            },
            "type": "scattergl"
           }
          ],
          "scattermapbox": [
           {
            "marker": {
             "colorbar": {
              "outlinewidth": 0,
              "ticks": ""
             }
            },
            "type": "scattermapbox"
           }
          ],
          "scatterpolar": [
           {
            "marker": {
             "colorbar": {
              "outlinewidth": 0,
              "ticks": ""
             }
            },
            "type": "scatterpolar"
           }
          ],
          "scatterpolargl": [
           {
            "marker": {
             "colorbar": {
              "outlinewidth": 0,
              "ticks": ""
             }
            },
            "type": "scatterpolargl"
           }
          ],
          "scatterternary": [
           {
            "marker": {
             "colorbar": {
              "outlinewidth": 0,
              "ticks": ""
             }
            },
            "type": "scatterternary"
           }
          ],
          "surface": [
           {
            "colorbar": {
             "outlinewidth": 0,
             "ticks": ""
            },
            "colorscale": [
             [
              0,
              "#0d0887"
             ],
             [
              0.1111111111111111,
              "#46039f"
             ],
             [
              0.2222222222222222,
              "#7201a8"
             ],
             [
              0.3333333333333333,
              "#9c179e"
             ],
             [
              0.4444444444444444,
              "#bd3786"
             ],
             [
              0.5555555555555556,
              "#d8576b"
             ],
             [
              0.6666666666666666,
              "#ed7953"
             ],
             [
              0.7777777777777778,
              "#fb9f3a"
             ],
             [
              0.8888888888888888,
              "#fdca26"
             ],
             [
              1,
              "#f0f921"
             ]
            ],
            "type": "surface"
           }
          ],
          "table": [
           {
            "cells": {
             "fill": {
              "color": "#EBF0F8"
             },
             "line": {
              "color": "white"
             }
            },
            "header": {
             "fill": {
              "color": "#C8D4E3"
             },
             "line": {
              "color": "white"
             }
            },
            "type": "table"
           }
          ]
         },
         "layout": {
          "annotationdefaults": {
           "arrowcolor": "#2a3f5f",
           "arrowhead": 0,
           "arrowwidth": 1
          },
          "coloraxis": {
           "colorbar": {
            "outlinewidth": 0,
            "ticks": ""
           }
          },
          "colorscale": {
           "diverging": [
            [
             0,
             "#8e0152"
            ],
            [
             0.1,
             "#c51b7d"
            ],
            [
             0.2,
             "#de77ae"
            ],
            [
             0.3,
             "#f1b6da"
            ],
            [
             0.4,
             "#fde0ef"
            ],
            [
             0.5,
             "#f7f7f7"
            ],
            [
             0.6,
             "#e6f5d0"
            ],
            [
             0.7,
             "#b8e186"
            ],
            [
             0.8,
             "#7fbc41"
            ],
            [
             0.9,
             "#4d9221"
            ],
            [
             1,
             "#276419"
            ]
           ],
           "sequential": [
            [
             0,
             "#0d0887"
            ],
            [
             0.1111111111111111,
             "#46039f"
            ],
            [
             0.2222222222222222,
             "#7201a8"
            ],
            [
             0.3333333333333333,
             "#9c179e"
            ],
            [
             0.4444444444444444,
             "#bd3786"
            ],
            [
             0.5555555555555556,
             "#d8576b"
            ],
            [
             0.6666666666666666,
             "#ed7953"
            ],
            [
             0.7777777777777778,
             "#fb9f3a"
            ],
            [
             0.8888888888888888,
             "#fdca26"
            ],
            [
             1,
             "#f0f921"
            ]
           ],
           "sequentialminus": [
            [
             0,
             "#0d0887"
            ],
            [
             0.1111111111111111,
             "#46039f"
            ],
            [
             0.2222222222222222,
             "#7201a8"
            ],
            [
             0.3333333333333333,
             "#9c179e"
            ],
            [
             0.4444444444444444,
             "#bd3786"
            ],
            [
             0.5555555555555556,
             "#d8576b"
            ],
            [
             0.6666666666666666,
             "#ed7953"
            ],
            [
             0.7777777777777778,
             "#fb9f3a"
            ],
            [
             0.8888888888888888,
             "#fdca26"
            ],
            [
             1,
             "#f0f921"
            ]
           ]
          },
          "colorway": [
           "#636efa",
           "#EF553B",
           "#00cc96",
           "#ab63fa",
           "#FFA15A",
           "#19d3f3",
           "#FF6692",
           "#B6E880",
           "#FF97FF",
           "#FECB52"
          ],
          "font": {
           "color": "#040404",
           "family": "Open Sans",
           "size": 15
          },
          "geo": {
           "bgcolor": "white",
           "lakecolor": "white",
           "landcolor": "#E5ECF6",
           "showlakes": true,
           "showland": true,
           "subunitcolor": "white"
          },
          "hoverlabel": {
           "align": "left"
          },
          "hovermode": "closest",
          "mapbox": {
           "style": "light"
          },
          "margin": {
           "b": 0
          },
          "paper_bgcolor": "white",
          "plot_bgcolor": "#E5ECF6",
          "polar": {
           "angularaxis": {
            "gridcolor": "white",
            "linecolor": "white",
            "ticks": ""
           },
           "bgcolor": "#E5ECF6",
           "radialaxis": {
            "gridcolor": "white",
            "linecolor": "white",
            "ticks": ""
           }
          },
          "scene": {
           "xaxis": {
            "backgroundcolor": "#E5ECF6",
            "gridcolor": "white",
            "gridwidth": 2,
            "linecolor": "white",
            "showbackground": true,
            "ticks": "",
            "zerolinecolor": "white"
           },
           "yaxis": {
            "backgroundcolor": "#E5ECF6",
            "gridcolor": "white",
            "gridwidth": 2,
            "linecolor": "white",
            "showbackground": true,
            "ticks": "",
            "zerolinecolor": "white"
           },
           "zaxis": {
            "backgroundcolor": "#E5ECF6",
            "gridcolor": "white",
            "gridwidth": 2,
            "linecolor": "white",
            "showbackground": true,
            "ticks": "",
            "zerolinecolor": "white"
           }
          },
          "shapedefaults": {
           "line": {
            "color": "#2a3f5f"
           }
          },
          "ternary": {
           "aaxis": {
            "gridcolor": "white",
            "linecolor": "white",
            "ticks": ""
           },
           "baxis": {
            "gridcolor": "white",
            "linecolor": "white",
            "ticks": ""
           },
           "bgcolor": "#E5ECF6",
           "caxis": {
            "gridcolor": "white",
            "linecolor": "white",
            "ticks": ""
           }
          },
          "title": {
           "font": {
            "color": "#040404",
            "family": "Open Sans"
           },
           "x": 0.05
          },
          "xaxis": {
           "automargin": true,
           "gridcolor": "white",
           "linecolor": "white",
           "ticks": "",
           "title": {
            "standoff": 15
           },
           "zerolinecolor": "white",
           "zerolinewidth": 2
          },
          "yaxis": {
           "automargin": true,
           "gridcolor": "white",
           "linecolor": "white",
           "ticks": "",
           "title": {
            "standoff": 15
           },
           "zerolinecolor": "white",
           "zerolinewidth": 2
          }
         }
        },
        "title": {
         "text": "The oldest Projects still active"
        },
        "xaxis": {
         "anchor": "y",
         "domain": [
          0,
          1
         ],
         "range": [
          9.6,
          14
         ],
         "title": {
          "text": "Project Age in Years"
         }
        },
        "yaxis": {
         "anchor": "x",
         "domain": [
          0,
          1
         ],
         "title": {}
        }
       }
      }
     },
     "metadata": {},
     "output_type": "display_data"
    }
   ],
   "source": [
    "oldest_projects = df_active.nlargest(40, \"project_age_in_years\")\n",
    "\n",
    "\n",
    "fig = px.bar(\n",
    "    oldest_projects,\n",
    "    x=oldest_projects[\"project_age_in_years\"],\n",
    "    y=oldest_projects[\"project_name\"],\n",
    "    orientation=\"h\",\n",
    "    range_x=(9.6, 14),\n",
    "    custom_data=[\"oneliner\",\"git_url\",\"topic\"],\n",
    "    color=oldest_projects[\"development_distribution_score\"],\n",
    "    color_continuous_scale=color_continuous_scale,\n",
    ")\n",
    "\n",
    "fig.add_layout_image(\n",
    "    dict(\n",
    "        source=logo_img,\n",
    "        xref=\"paper\", yref=\"paper\",\n",
    "        x=1, y=1,\n",
    "        sizex=0.05, sizey=0.05,\n",
    "        xanchor=\"right\", yanchor=\"top\"\n",
    "    )\n",
    ")\n",
    "\n",
    "fig.update_layout(\n",
    "    height=1000,  # Added parameter\n",
    "    yaxis_title=None,\n",
    "    xaxis_title=\"Project Age in Years\",\n",
    "    title=\"The oldest Projects still active\",\n",
    "    coloraxis_colorbar=dict(\n",
    "    title=\"DDS\",\n",
    "    ),\n",
    "    hoverlabel=dict(\n",
    "    bgcolor=\"white\",\n",
    "    ),\n",
    "    hovermode=\"y\",\n",
    "    hoverdistance=5\n",
    ")\n",
    "\n",
    "fig.update_traces(\n",
    "    hovertemplate=\"<br>\".join([\n",
    "        \"Project Info: <b>%{customdata[0]}</b>\",\n",
    "        \"Topic: <b>%{customdata[1]}</b>\",\n",
    "        \"Git URL: <b>%{customdata[2]}</b>\"\n",
    "    ])\n",
    ")\n",
    "\n",
    "fig.update(layout_showlegend=False)"
   ]
  },
  {
   "cell_type": "markdown",
   "metadata": {},
   "source": [
    "```{figure} data:image/gif;base64,R0lGODlhAQABAIAAAAAAAP///yH5BAEAAAAALAAAAAABAAEAAAIBRAA7\n",
    ":figclass: caption-hack\n",
    ":name: oldest-projects\n",
    "\n",
    "The oldest projects still active\n",
    "```"
   ]
  }
 ],
 "metadata": {
  "celltoolbar": "Tags",
  "kernelspec": {
   "display_name": "Python 3.8.10 64-bit",
   "language": "python",
   "name": "python3"
  },
  "language_info": {
   "codemirror_mode": {
    "name": "ipython",
    "version": 3
   },
   "file_extension": ".py",
   "mimetype": "text/x-python",
   "name": "python",
   "nbconvert_exporter": "python",
   "pygments_lexer": "ipython3",
   "version": "3.8.10"
  },
  "tags": "full-width",
  "vscode": {
   "interpreter": {
    "hash": "e7370f93d1d0cde622a1f8e1c04877d8463912d04d973331ad4851f04de6915a"
   }
  }
 },
 "nbformat": 4,
 "nbformat_minor": 4
}
