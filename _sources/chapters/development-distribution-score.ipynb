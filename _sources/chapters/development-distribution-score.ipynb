{
 "cells": [
  {
   "cell_type": "markdown",
   "metadata": {},
   "source": [
    "(dds_chapter)=\n",
    "# Development Distribution Score\n",
    "\n",
    "The distribution of responsibility and workload among contributors is essential to a stable community. A common way to estimate the risk resulting from information and capabilities not being shared among team members is the so-called [Bus Factor](https://en.wikipedia.org/wiki/Bus_factor). The bus factor is the number of people on a project that would have to be hit by a bus (or quit) before the project is in serious trouble.\n",
    "\n",
    "**In this study, a proxy is developed to quantify the bus factor, the Development Distribution Score (DDS)**. The DDS weighs how the development is distributed between project contributors by benchmarking the contributor with the most commits in relation to the other contributors. The distribution of knowledge, work, and governance is critical to a project's long-term viability. When a project or organisation undergoes significant social or technological changes (for example, personnel leave a project or can no longer contribute), others have the knowledge and capacity to continue with the initiative. The metric compares a project's reliance on a small number of contributors and, as a result, its resilience to change. Projects with a low DDS appear to be more vulnerable to decisions made by a single organisation or developer, which affect not only other developers or users, but also the dependencies to other projects. \n",
    "\n",
    "**The commits of the strongest contributor are measured in relation to the total number of commits.** Although commits are not an absolute measure of an individual's performance within a project, they do reflect working relationships after a certain period of development. Furthermore, it makes it possible to assess the status of a project without having to make direct comparisons to other projects. The DDS value is calculated using the following formula:\n",
    "\n",
    "```{figure} ../images/dds_calc.png\n",
    "---\n",
    "align: center\n",
    "width: 80%\n",
    "---\n",
    "```\n",
    "**For instance, a DDS of 0.1 means that 90% of the transfers come from a single developer.** Without the high engagement of that individual, it will become challenging for the rest of the community to maintain and further develop the existing code base. The following table shows the statistical median of the DDS on the whole dataset.\n",
    "\n",
    "**Across all active and inactive projects, the median DDS is at 0.3. This means that most open source projects depend heavily on a single developer contributing 70% of the commits to a project.** For inactive projects, this value drops to 0.136 while active projects have a DDS of 0.33. The highest values are shown for projects within GitHub organisations, with a DDS of 0.38. The top 50 projects (ranked by the No of stars) have a median DDS of 0.4 and the development communities with the most contributors have the highest DDS value of 0.688 **demonstrating that workload is more evenly distributed among individuals in a large development community**. "
   ]
  },
  {
   "cell_type": "code",
   "execution_count": null,
   "metadata": {
    "tags": [
     "remove-cell"
    ]
   },
   "outputs": [],
   "source": [
    "import numpy as np\n",
    "import pandas as pd\n",
    "import plotly.io as pio\n",
    "import plotly.graph_objects as go\n",
    "import plotly.express as px\n",
    "from opensustainTemplate import *"
   ]
  },
  {
   "cell_type": "code",
   "execution_count": null,
   "metadata": {
    "tags": [
     "remove-cell"
    ]
   },
   "outputs": [],
   "source": [
    "df_active = pd.read_csv(\"../csv/project_analysis.csv\")\n",
    "df_raw = pd.read_csv(\"../csv/projects.csv\")"
   ]
  },
  {
   "cell_type": "code",
   "execution_count": null,
   "metadata": {
    "tags": [
     "full-width",
     "remove-input"
    ]
   },
   "outputs": [],
   "source": [
    "df_personal_projects = df_active[df_active[\"organization\"].isna()]\n",
    "df_organization_projects = df_active[df_active[\"organization\"].notna()]\n",
    "df_inactive = df_raw[(df_raw[\"project_active\"] == False)]\n",
    "df_top_stargazers = df_active[(df_active[\"stargazers_count\"] > 100)]\n",
    "\n",
    "fig = go.Figure(\n",
    "    data=[\n",
    "        go.Table(\n",
    "            columnwidth=[100, 30],\n",
    "            header=dict(\n",
    "                values=[\"Group\", \"Median DDS\"],\n",
    "                line_color=\"#000000\",\n",
    "                fill_color=\"#ffffff\",\n",
    "                font_size=18,\n",
    "            ),\n",
    "            cells=dict(\n",
    "                line_color=\"#ffffff\",\n",
    "                fill_color=\"#ffffff\",\n",
    "                font_size=16,\n",
    "                height=30,\n",
    "                values=[\n",
    "                    [\n",
    "                        \"All projects\",\n",
    "                        \"Active projects in personal namespace\",\n",
    "                        \"Active organisation projects\",\n",
    "                        \"Active projects\",\n",
    "                        \"Inactive projects\",\n",
    "                        \"Active projects over than 50 Stars\",\n",
    "                        \"Projects with most contributors\",\n",
    "                    ],\n",
    "                    [\n",
    "                        round(df_raw[\"development_distribution_score\"].median(), 3),\n",
    "                        round(\n",
    "                            df_personal_projects[\n",
    "                                \"development_distribution_score\"\n",
    "                            ].median(),\n",
    "                            3,\n",
    "                        ),\n",
    "                        round(\n",
    "                            df_organization_projects[\n",
    "                                \"development_distribution_score\"\n",
    "                            ].median(),\n",
    "                            3,\n",
    "                        ),\n",
    "                        round(df_active[\"development_distribution_score\"].median(), 3),\n",
    "                        round(\n",
    "                            df_inactive[\"development_distribution_score\"].median(), 3\n",
    "                        ),\n",
    "                        round(\n",
    "                            df_top_stargazers[\n",
    "                                \"development_distribution_score\"\n",
    "                            ].median(),\n",
    "                            3,\n",
    "                        ),\n",
    "                        round(\n",
    "                            df_active.nlargest(50, \"contributors\")[\n",
    "                                \"development_distribution_score\"\n",
    "                            ].median(),\n",
    "                            3,\n",
    "                        ),\n",
    "                    ],\n",
    "                ],\n",
    "            ),\n",
    "        )\n",
    "    ]\n",
    ")\n",
    "\n",
    "fig.update_layout(width=700, height=255)\n",
    "fig[\"layout\"].update(margin=dict(l=20, r=20, b=0, t=20))\n",
    "\n",
    "fig.show()"
   ]
  },
  {
   "cell_type": "markdown",
   "metadata": {},
   "source": [
    "```{figure} data:image/gif;base64,R0lGODlhAQABAIAAAAAAAP///yH5BAEAAAAALAAAAAABAAEAAAIBRAA7\n",
    ":figclass: caption-hack\n",
    ":name: median-dds\n",
    "\n",
    "<br/>Median Development Distribution Score within various groups of projects\n",
    "```"
   ]
  },
  {
   "cell_type": "markdown",
   "metadata": {},
   "source": [
    "In particular, the difference between inactive and active projects makes it clear that the DDS is an important indicator for the longevity of an open source project. However, a high DDS is not advantageous in every case. [Brooks' Law](https://en.wikipedia.org/wiki/Brooks's_law) is an observation about software project management according to which \"adding manpower to a late software project makes it later\". Especially for projects of high complexity, very large team sizes quickly lead to overhead and communication problems. Under these conditions, the distribution of work between many can become problematic. One solution to this is to split software projects into modular components that can be managed by smaller groups. This approach is known as the [Unix philosophy](https://en.wikipedia.org/wiki/Unix_philosophy) in software development. \n",
    "\n",
    "The following scatter diagram shows the distribution of DDS within different topics. Each circle represents a project and the size of the circles is scaled relative to the size score."
   ]
  },
  {
   "cell_type": "code",
   "execution_count": null,
   "metadata": {
    "tags": [
     "full-width",
     "remove-input"
    ]
   },
   "outputs": [],
   "source": [
    "max_age_in_years = 14\n",
    "fig = px.scatter(\n",
    "    df_active.query(\"project_age_in_years<@max_age_in_years\"),\n",
    "    x=\"project_age_in_years\",\n",
    "    y=\"topic\",\n",
    "    size=\"size\",\n",
    "    color=\"development_distribution_score\",\n",
    "    color_continuous_scale=color_continuous_scale,\n",
    "    custom_data=[\"project_name\", \"oneliner\", \"git_url\"],\n",
    "    size_max=20,\n",
    ")\n",
    "\n",
    "fig.update_layout(\n",
    "    coloraxis_colorbar=dict(\n",
    "        title=\"DDS\",\n",
    "    ),\n",
    "    yaxis_title=None,\n",
    "    xaxis_title=\"Project Age in Years\",\n",
    "    height=1000,  # Added parameter\n",
    "    width=1310,\n",
    "    title=\"Overview of all projects\",\n",
    "    hoverlabel=dict(\n",
    "        bgcolor=\"white\",\n",
    "    ),\n",
    "    dragmode=False,\n",
    ")\n",
    "fig.update_xaxes(range=[0, 14])\n",
    "fig.update_traces(\n",
    "    hovertemplate=\"<br>\".join(\n",
    "        [\n",
    "            \"Project Name: <b>%{customdata[0]}</b>\",\n",
    "            \"Project Info: <b>%{customdata[1]}</b>\",\n",
    "            \"Git URL: <b>%{customdata[2]}</b>\",\n",
    "        ]\n",
    "    )\n",
    ")\n",
    "fig.add_layout_image(\n",
    "    dict(\n",
    "        source=logo_img,\n",
    "        xref=\"paper\",\n",
    "        yref=\"paper\",\n",
    "        x=1,\n",
    "        y=1,\n",
    "        sizex=0.05,\n",
    "        sizey=0.05,\n",
    "        xanchor=\"right\",\n",
    "        yanchor=\"top\",\n",
    "    )\n",
    ")\n",
    "fig[\"layout\"].update(margin=dict(l=0, r=0, b=0, t=40))\n",
    "fig[\"layout\"][\"xaxis\"][\"autorange\"] = \"reversed\"\n",
    "fig.show()"
   ]
  },
  {
   "cell_type": "markdown",
   "metadata": {},
   "source": [
    "```{figure} data:image/gif;base64,R0lGODlhAQABAIAAAAAAAP///yH5BAEAAAAALAAAAAABAAEAAAIBRAA7\n",
    ":figclass: caption-hack\n",
    ":name: median-dds-overview\n",
    "\n",
    "<br/>Development Distribution Score within topics\n",
    "```"
   ]
  }
 ],
 "metadata": {
  "celltoolbar": "Tags",
  "kernelspec": {
   "display_name": "Python 3 (ipykernel)",
   "language": "python",
   "name": "python3"
  },
  "language_info": {
   "codemirror_mode": {
    "name": "ipython",
    "version": 3
   },
   "file_extension": ".py",
   "mimetype": "text/x-python",
   "name": "python",
   "nbconvert_exporter": "python",
   "pygments_lexer": "ipython3",
   "version": "3.8.10"
  },
  "tags": "full-width",
  "vscode": {
   "interpreter": {
    "hash": "e7370f93d1d0cde622a1f8e1c04877d8463912d04d973331ad4851f04de6915a"
   }
  }
 },
 "nbformat": 4,
 "nbformat_minor": 4
}
