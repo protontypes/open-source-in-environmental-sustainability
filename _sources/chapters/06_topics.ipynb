{
 "cells": [
  {
   "cell_type": "markdown",
   "metadata": {},
   "source": [
    "# Topics\n",
    "\n",
    "The topics were created by the authors and iterated multiple times as part of the investigation process. It is difficult to compare the scope of the topics directly, but the size relations allow us to identify neglected, vibrant and emerging areas. "
   ]
  },
  {
   "cell_type": "code",
   "execution_count": 6,
   "metadata": {
    "tags": [
     "remove-cell"
    ]
   },
   "outputs": [],
   "source": [
    "import numpy as np\n",
    "import pandas as pd\n",
    "import plotly.io as pio\n",
    "import plotly.graph_objects as go\n",
    "import plotly.express as px\n",
    "from opensustain_template import *"
   ]
  },
  {
   "cell_type": "code",
   "execution_count": 7,
   "metadata": {
    "tags": [
     "remove-cell"
    ]
   },
   "outputs": [],
   "source": [
    "df_active = pd.read_csv(\"../csv/project_analysis.csv\")"
   ]
  },
  {
   "cell_type": "code",
   "execution_count": 8,
   "metadata": {
    "tags": [
     "full-width",
     "remove-input"
    ]
   },
   "outputs": [
    {
     "data": {
      "application/vnd.plotly.v1+json": {
       "config": {
        "plotlyServerURL": "https://plot.ly"
       },
       "data": [
        {
         "alignmentgroup": "True",
         "hoverlabel": {
          "namelength": 0
         },
         "hovertemplate": "topic=%{x}<br>topic_names=%{y}",
         "legendgroup": "",
         "marker": {
          "color": "#0E7C7B"
         },
         "name": "",
         "offsetgroup": "",
         "orientation": "h",
         "showlegend": false,
         "textposition": "auto",
         "type": "bar",
         "x": [
          91,
          76,
          60,
          60,
          57,
          53,
          51,
          46,
          40,
          34,
          33,
          31,
          27,
          27,
          26,
          24,
          22,
          21,
          19,
          19,
          17,
          14,
          13,
          13,
          13,
          13,
          10,
          9,
          8,
          8,
          8,
          8,
          7,
          7,
          6,
          4,
          3,
          1
         ],
         "xaxis": "x",
         "y": [
          "Biosphere",
          "Energy Modeling and Optimization",
          "Hydrosphere",
          "Mobility and Transportation",
          "Earth and Climate Modeling",
          "Water Supply and Quality",
          "Climate Data Processing and Access",
          "Buildings and Heating",
          "Photovoltaics and Solar Energy",
          "Agriculture and Nutrition",
          "Soil and Land",
          "Data Catalogs and Interfaces",
          "Computation and Communication",
          "Wind Energy",
          "Air Quality",
          "Energy Distribution and Grids",
          "Emission Observation and Modeling",
          "Cryosphere",
          "Datasets on Energy Systems",
          "Atmosphere",
          "Battery",
          "Life Cycle Assessment",
          "Knowledge Platforms",
          "Natural Hazard and Poverty",
          "Circular Economy and Waste",
          "Carbon Intensity and Accounting",
          "Sustainable Investment",
          "Hydro Energy",
          "Meteorological Observation and Forecast",
          "Hydrogen",
          "Energy Monitoring and Control",
          "Radiative Transfer",
          "Integrated Assessment",
          "Geothermal Energy",
          "Sustainable Development Goals",
          "Carbon Capture and Removel",
          "Bioenergy",
          "Production and Industry"
         ],
         "yaxis": "y"
        }
       ],
       "layout": {
        "barmode": "relative",
        "coloraxis": {
         "colorbar": {
          "title": {
           "text": "DDS"
          }
         }
        },
        "height": 1000,
        "hoverlabel": {
         "bgcolor": "white"
        },
        "images": [
         {
          "sizex": 0.06,
          "sizey": 0.06,
          "source": "data:image/png;base64,iVBORw0KGgoAAAANSUhEUgAAADwAAAA8CAYAAAA6/NlyAAAD20lEQVR4nO2ZTWgcZRjHf8/spjWkFYmKmbR+oVKaCPbQU8i2tCBqEbrU7LIJVhG0PVWQih4UehAVQVAkAQ/qRW1WdhPrB+pJ1DQF6aEnQ0WqqCQbhfpFW6nJzOMhBgQ3u+/MvPORmP91n/n/nx/v7DvPvCOqyv9JTtoNJK114LWufBIh5TIbZj3uQLldhJtV2CJwlfrkpicpJtHDsmIDHtzPZjo4gM8IQkGgE1n6Tf7ZJ0W4HFf+SrIOvLvI9YsORyXPwyhdy5BZkTXgwf1s1jzHJMejAh22fG3LCnDhAHeT53WBXht+cSoS8J495Beu5nmEo5C1m7e5QgPv28fGxW7eQhmy2VDcCgV81wN0XezkE2DQcj+xKzDwzsN0XHGJGqsQFkJMWp3nGUO5J45mklCgFS7cx0GFRyzk/izCT6p8Z8ErkMT09XCgzBZnkRmEK0NmTaswicd70+9yLqRHZBmvcM7jZQ0He1qEZ6bqfBDiWusyWuGBEgOOz3RAb1+Ep05O8IIqmTllMFphR3k6oO8FUYanJvgwRE+xqu0K7yrT53t8FcDTE6U4NZk9WDB4LKnHg0EMVXgiq7DQBlgEAUYC+H15aoKXorUUr1oCF0psV9hqaibK41naoJqpJbDvs9fYSflsapKTkTuKWa3/w8oOUyOBetRmklC7TWuboY86Pu9HbSYJtQO+0dDn/Ocn+DFqM0mo9S6N8Sg5Z6GXRNRy0lIYUyHXzkSUb+y1FK+M35bWitY/tSQhaVQvAxvaV+oX6g7vtpmd1gpfMCsT13ZwWsC/GdZZP9hPCVi/NSzsktnjO2wmpwOs8rVxrThFm9HpADt62rhWGBKLn3HSAfbl0wDV/cxVy7aiUxs8pFGdAbYblp/j11yf9pX+ipqb5uBxPEDtLXT7L9oITRHYfxPwjMtVj0jjnUNRU1MDVnfkeyTooYGOSmP8cJTcdGfpRX0OAp2BdYC8KnPVUZmpGYym/1Xqb0syP/4GKg+FuPQHkGdxz76mHPON89IHrl2LemeB7nAOOoNSBzmhvZUzbfPSBgaQ+eoQSs2C1Z8IsygNdSu7mhVk4n1Yeyp1lDELVp0otwKFlQoyAQxA7x+PAR/HHZMZYOXQAs5CCTgVZ05mgAH0uoMXYdOdIB/FlZEpYAB1772E+3sRYTQO/8wBw9LtrT2VIwgl4Beb3pkEXpb2VOp4uduAVwDj4aKVMvEcNpHMj/ej8iQwjMFpq7qVpocGqwZ4WdKo3QDe/Sx9qO9fqW7NAP9bMvv2VnL5vcBOVLcBNwHXAJvUrWxses1qBg6jTG9acWgdeK3rb5uuGEmTzESgAAAAAElFTkSuQmCC",
          "x": 1,
          "xanchor": "right",
          "xref": "paper",
          "y": 1,
          "yanchor": "top",
          "yref": "paper"
         }
        ],
        "legend": {
         "tracegroupgap": 0
        },
        "margin": {
         "b": 0,
         "l": 300,
         "r": 0,
         "t": 40
        },
        "showlegend": false,
        "template": {
         "data": {
          "bar": [
           {
            "error_x": {
             "color": "#2a3f5f"
            },
            "error_y": {
             "color": "#2a3f5f"
            },
            "marker": {
             "line": {
              "color": "#E5ECF6",
              "width": 0.5
             }
            },
            "type": "bar"
           }
          ],
          "barpolar": [
           {
            "marker": {
             "line": {
              "color": "#E5ECF6",
              "width": 0.5
             }
            },
            "type": "barpolar"
           }
          ],
          "carpet": [
           {
            "aaxis": {
             "endlinecolor": "#2a3f5f",
             "gridcolor": "white",
             "linecolor": "white",
             "minorgridcolor": "white",
             "startlinecolor": "#2a3f5f"
            },
            "baxis": {
             "endlinecolor": "#2a3f5f",
             "gridcolor": "white",
             "linecolor": "white",
             "minorgridcolor": "white",
             "startlinecolor": "#2a3f5f"
            },
            "type": "carpet"
           }
          ],
          "choropleth": [
           {
            "colorbar": {
             "outlinewidth": 0,
             "ticks": ""
            },
            "type": "choropleth"
           }
          ],
          "contour": [
           {
            "colorbar": {
             "outlinewidth": 0,
             "ticks": ""
            },
            "colorscale": [
             [
              0,
              "#0d0887"
             ],
             [
              0.1111111111111111,
              "#46039f"
             ],
             [
              0.2222222222222222,
              "#7201a8"
             ],
             [
              0.3333333333333333,
              "#9c179e"
             ],
             [
              0.4444444444444444,
              "#bd3786"
             ],
             [
              0.5555555555555556,
              "#d8576b"
             ],
             [
              0.6666666666666666,
              "#ed7953"
             ],
             [
              0.7777777777777778,
              "#fb9f3a"
             ],
             [
              0.8888888888888888,
              "#fdca26"
             ],
             [
              1,
              "#f0f921"
             ]
            ],
            "type": "contour"
           }
          ],
          "contourcarpet": [
           {
            "colorbar": {
             "outlinewidth": 0,
             "ticks": ""
            },
            "type": "contourcarpet"
           }
          ],
          "heatmap": [
           {
            "colorbar": {
             "outlinewidth": 0,
             "ticks": ""
            },
            "colorscale": [
             [
              0,
              "#0d0887"
             ],
             [
              0.1111111111111111,
              "#46039f"
             ],
             [
              0.2222222222222222,
              "#7201a8"
             ],
             [
              0.3333333333333333,
              "#9c179e"
             ],
             [
              0.4444444444444444,
              "#bd3786"
             ],
             [
              0.5555555555555556,
              "#d8576b"
             ],
             [
              0.6666666666666666,
              "#ed7953"
             ],
             [
              0.7777777777777778,
              "#fb9f3a"
             ],
             [
              0.8888888888888888,
              "#fdca26"
             ],
             [
              1,
              "#f0f921"
             ]
            ],
            "type": "heatmap"
           }
          ],
          "heatmapgl": [
           {
            "colorbar": {
             "outlinewidth": 0,
             "ticks": ""
            },
            "colorscale": [
             [
              0,
              "#0d0887"
             ],
             [
              0.1111111111111111,
              "#46039f"
             ],
             [
              0.2222222222222222,
              "#7201a8"
             ],
             [
              0.3333333333333333,
              "#9c179e"
             ],
             [
              0.4444444444444444,
              "#bd3786"
             ],
             [
              0.5555555555555556,
              "#d8576b"
             ],
             [
              0.6666666666666666,
              "#ed7953"
             ],
             [
              0.7777777777777778,
              "#fb9f3a"
             ],
             [
              0.8888888888888888,
              "#fdca26"
             ],
             [
              1,
              "#f0f921"
             ]
            ],
            "type": "heatmapgl"
           }
          ],
          "histogram": [
           {
            "marker": {
             "colorbar": {
              "outlinewidth": 0,
              "ticks": ""
             }
            },
            "type": "histogram"
           }
          ],
          "histogram2d": [
           {
            "colorbar": {
             "outlinewidth": 0,
             "ticks": ""
            },
            "colorscale": [
             [
              0,
              "#0d0887"
             ],
             [
              0.1111111111111111,
              "#46039f"
             ],
             [
              0.2222222222222222,
              "#7201a8"
             ],
             [
              0.3333333333333333,
              "#9c179e"
             ],
             [
              0.4444444444444444,
              "#bd3786"
             ],
             [
              0.5555555555555556,
              "#d8576b"
             ],
             [
              0.6666666666666666,
              "#ed7953"
             ],
             [
              0.7777777777777778,
              "#fb9f3a"
             ],
             [
              0.8888888888888888,
              "#fdca26"
             ],
             [
              1,
              "#f0f921"
             ]
            ],
            "type": "histogram2d"
           }
          ],
          "histogram2dcontour": [
           {
            "colorbar": {
             "outlinewidth": 0,
             "ticks": ""
            },
            "colorscale": [
             [
              0,
              "#0d0887"
             ],
             [
              0.1111111111111111,
              "#46039f"
             ],
             [
              0.2222222222222222,
              "#7201a8"
             ],
             [
              0.3333333333333333,
              "#9c179e"
             ],
             [
              0.4444444444444444,
              "#bd3786"
             ],
             [
              0.5555555555555556,
              "#d8576b"
             ],
             [
              0.6666666666666666,
              "#ed7953"
             ],
             [
              0.7777777777777778,
              "#fb9f3a"
             ],
             [
              0.8888888888888888,
              "#fdca26"
             ],
             [
              1,
              "#f0f921"
             ]
            ],
            "type": "histogram2dcontour"
           }
          ],
          "mesh3d": [
           {
            "colorbar": {
             "outlinewidth": 0,
             "ticks": ""
            },
            "type": "mesh3d"
           }
          ],
          "parcoords": [
           {
            "line": {
             "colorbar": {
              "outlinewidth": 0,
              "ticks": ""
             }
            },
            "type": "parcoords"
           }
          ],
          "pie": [
           {
            "automargin": true,
            "type": "pie"
           }
          ],
          "scatter": [
           {
            "marker": {
             "colorbar": {
              "outlinewidth": 0,
              "ticks": ""
             }
            },
            "type": "scatter"
           }
          ],
          "scatter3d": [
           {
            "line": {
             "colorbar": {
              "outlinewidth": 0,
              "ticks": ""
             }
            },
            "marker": {
             "colorbar": {
              "outlinewidth": 0,
              "ticks": ""
             }
            },
            "type": "scatter3d"
           }
          ],
          "scattercarpet": [
           {
            "marker": {
             "colorbar": {
              "outlinewidth": 0,
              "ticks": ""
             }
            },
            "type": "scattercarpet"
           }
          ],
          "scattergeo": [
           {
            "marker": {
             "colorbar": {
              "outlinewidth": 0,
              "ticks": ""
             }
            },
            "type": "scattergeo"
           }
          ],
          "scattergl": [
           {
            "marker": {
             "colorbar": {
              "outlinewidth": 0,
              "ticks": ""
             }
            },
            "type": "scattergl"
           }
          ],
          "scattermapbox": [
           {
            "marker": {
             "colorbar": {
              "outlinewidth": 0,
              "ticks": ""
             }
            },
            "type": "scattermapbox"
           }
          ],
          "scatterpolar": [
           {
            "marker": {
             "colorbar": {
              "outlinewidth": 0,
              "ticks": ""
             }
            },
            "type": "scatterpolar"
           }
          ],
          "scatterpolargl": [
           {
            "marker": {
             "colorbar": {
              "outlinewidth": 0,
              "ticks": ""
             }
            },
            "type": "scatterpolargl"
           }
          ],
          "scatterternary": [
           {
            "marker": {
             "colorbar": {
              "outlinewidth": 0,
              "ticks": ""
             }
            },
            "type": "scatterternary"
           }
          ],
          "surface": [
           {
            "colorbar": {
             "outlinewidth": 0,
             "ticks": ""
            },
            "colorscale": [
             [
              0,
              "#0d0887"
             ],
             [
              0.1111111111111111,
              "#46039f"
             ],
             [
              0.2222222222222222,
              "#7201a8"
             ],
             [
              0.3333333333333333,
              "#9c179e"
             ],
             [
              0.4444444444444444,
              "#bd3786"
             ],
             [
              0.5555555555555556,
              "#d8576b"
             ],
             [
              0.6666666666666666,
              "#ed7953"
             ],
             [
              0.7777777777777778,
              "#fb9f3a"
             ],
             [
              0.8888888888888888,
              "#fdca26"
             ],
             [
              1,
              "#f0f921"
             ]
            ],
            "type": "surface"
           }
          ],
          "table": [
           {
            "cells": {
             "fill": {
              "color": "#EBF0F8"
             },
             "line": {
              "color": "white"
             }
            },
            "header": {
             "fill": {
              "color": "#C8D4E3"
             },
             "line": {
              "color": "white"
             }
            },
            "type": "table"
           }
          ]
         },
         "layout": {
          "annotationdefaults": {
           "arrowcolor": "#2a3f5f",
           "arrowhead": 0,
           "arrowwidth": 1
          },
          "coloraxis": {
           "colorbar": {
            "outlinewidth": 0,
            "ticks": ""
           }
          },
          "colorscale": {
           "diverging": [
            [
             0,
             "#8e0152"
            ],
            [
             0.1,
             "#c51b7d"
            ],
            [
             0.2,
             "#de77ae"
            ],
            [
             0.3,
             "#f1b6da"
            ],
            [
             0.4,
             "#fde0ef"
            ],
            [
             0.5,
             "#f7f7f7"
            ],
            [
             0.6,
             "#e6f5d0"
            ],
            [
             0.7,
             "#b8e186"
            ],
            [
             0.8,
             "#7fbc41"
            ],
            [
             0.9,
             "#4d9221"
            ],
            [
             1,
             "#276419"
            ]
           ],
           "sequential": [
            [
             0,
             "#0d0887"
            ],
            [
             0.1111111111111111,
             "#46039f"
            ],
            [
             0.2222222222222222,
             "#7201a8"
            ],
            [
             0.3333333333333333,
             "#9c179e"
            ],
            [
             0.4444444444444444,
             "#bd3786"
            ],
            [
             0.5555555555555556,
             "#d8576b"
            ],
            [
             0.6666666666666666,
             "#ed7953"
            ],
            [
             0.7777777777777778,
             "#fb9f3a"
            ],
            [
             0.8888888888888888,
             "#fdca26"
            ],
            [
             1,
             "#f0f921"
            ]
           ],
           "sequentialminus": [
            [
             0,
             "#0d0887"
            ],
            [
             0.1111111111111111,
             "#46039f"
            ],
            [
             0.2222222222222222,
             "#7201a8"
            ],
            [
             0.3333333333333333,
             "#9c179e"
            ],
            [
             0.4444444444444444,
             "#bd3786"
            ],
            [
             0.5555555555555556,
             "#d8576b"
            ],
            [
             0.6666666666666666,
             "#ed7953"
            ],
            [
             0.7777777777777778,
             "#fb9f3a"
            ],
            [
             0.8888888888888888,
             "#fdca26"
            ],
            [
             1,
             "#f0f921"
            ]
           ]
          },
          "colorway": [
           "#636efa",
           "#EF553B",
           "#00cc96",
           "#ab63fa",
           "#FFA15A",
           "#19d3f3",
           "#FF6692",
           "#B6E880",
           "#FF97FF",
           "#FECB52"
          ],
          "font": {
           "color": "#040404",
           "family": "Open Sans",
           "size": 15
          },
          "geo": {
           "bgcolor": "white",
           "lakecolor": "white",
           "landcolor": "#E5ECF6",
           "showlakes": true,
           "showland": true,
           "subunitcolor": "white"
          },
          "hoverlabel": {
           "align": "left"
          },
          "hovermode": "closest",
          "mapbox": {
           "style": "light"
          },
          "margin": {
           "b": 0
          },
          "paper_bgcolor": "white",
          "plot_bgcolor": "#E5ECF6",
          "polar": {
           "angularaxis": {
            "gridcolor": "white",
            "linecolor": "white",
            "ticks": ""
           },
           "bgcolor": "#E5ECF6",
           "radialaxis": {
            "gridcolor": "white",
            "linecolor": "white",
            "ticks": ""
           }
          },
          "scene": {
           "xaxis": {
            "backgroundcolor": "#E5ECF6",
            "gridcolor": "white",
            "gridwidth": 2,
            "linecolor": "white",
            "showbackground": true,
            "ticks": "",
            "zerolinecolor": "white"
           },
           "yaxis": {
            "backgroundcolor": "#E5ECF6",
            "gridcolor": "white",
            "gridwidth": 2,
            "linecolor": "white",
            "showbackground": true,
            "ticks": "",
            "zerolinecolor": "white"
           },
           "zaxis": {
            "backgroundcolor": "#E5ECF6",
            "gridcolor": "white",
            "gridwidth": 2,
            "linecolor": "white",
            "showbackground": true,
            "ticks": "",
            "zerolinecolor": "white"
           }
          },
          "shapedefaults": {
           "line": {
            "color": "#2a3f5f"
           }
          },
          "ternary": {
           "aaxis": {
            "gridcolor": "white",
            "linecolor": "white",
            "ticks": ""
           },
           "baxis": {
            "gridcolor": "white",
            "linecolor": "white",
            "ticks": ""
           },
           "bgcolor": "#E5ECF6",
           "caxis": {
            "gridcolor": "white",
            "linecolor": "white",
            "ticks": ""
           }
          },
          "title": {
           "font": {
            "color": "#040404",
            "family": "Open Sans"
           },
           "x": 0.05
          },
          "xaxis": {
           "automargin": true,
           "gridcolor": "white",
           "linecolor": "white",
           "ticks": "",
           "title": {
            "standoff": 15
           },
           "zerolinecolor": "white",
           "zerolinewidth": 2
          },
          "yaxis": {
           "automargin": true,
           "gridcolor": "white",
           "linecolor": "white",
           "ticks": "",
           "title": {
            "standoff": 15
           },
           "zerolinecolor": "white",
           "zerolinewidth": 2
          }
         }
        },
        "title": {
         "text": "Projects within Topics"
        },
        "xaxis": {
         "anchor": "y",
         "domain": [
          0,
          1
         ],
         "title": {
          "text": "Projects"
         }
        },
        "yaxis": {
         "anchor": "x",
         "domain": [
          0,
          1
         ],
         "title": {}
        }
       }
      }
     },
     "metadata": {},
     "output_type": "display_data"
    }
   ],
   "source": [
    "\n",
    "topic_his = (\n",
    "    df_active[\"topic\"]\n",
    "    .value_counts()\n",
    "    .to_frame()\n",
    "    .rename_axis(\"topic_names\")\n",
    "    .reset_index()\n",
    ")\n",
    "\n",
    "fig = px.bar(\n",
    "    topic_his,\n",
    "    x=\"topic\",\n",
    "    y=\"topic_names\",\n",
    "    orientation=\"h\",\n",
    ")\n",
    "\n",
    "fig.update_layout(\n",
    "    height=1000,  # Added parameter\n",
    "    yaxis_title= None,\n",
    "    xaxis_title=\"Projects\",\n",
    "    title=\"Projects within Topics\",\n",
    "    coloraxis_colorbar=dict(\n",
    "    title=\"DDS\",\n",
    "    ),\n",
    "    hoverlabel=dict(\n",
    "    bgcolor=\"white\"\n",
    "    )\n",
    ")\n",
    "fig['layout'].update(margin=dict(l=300,r=0,b=0,t=40))\n",
    "fig.update_traces(marker_color=marker_color)\n",
    "fig.update(layout_showlegend=False)\n",
    "fig.add_layout_image(\n",
    "    dict(\n",
    "        source=logo_img,\n",
    "        xref=\"paper\", yref=\"paper\",\n",
    "        x=1, y=1,\n",
    "        sizex=0.06, sizey=0.06,\n",
    "        xanchor=\"right\", yanchor=\"top\"\n",
    "    )\n",
    ")\n",
    "fig.show()"
   ]
  },
  {
   "cell_type": "markdown",
   "metadata": {},
   "source": [
    "```{figure} data:image/gif;base64,R0lGODlhAQABAIAAAAAAAP///yH5BAEAAAAALAAAAAABAAEAAAIBRAA7\n",
    ":figclass: caption-hack\n",
    ":name: projects-within-topics\n",
    "\n",
    "Number of individual projects within topics\n",
    "```"
   ]
  },
  {
   "cell_type": "markdown",
   "metadata": {},
   "source": [
    "**Projects on climate, biosphere, hydrosphere and water supply as well as energy system modelling, mobility & transportation and buildings make up ~45% of all identified projects.** This is likely due to the research maturity of these fields, the multitude of scientific organisations behind them, and the relatively good availability of open data from natural and engineered systems in these categories. Particularly in the field of energy modelling and in renewable energy such as photovoltaics or wind energy, we can see a stronger open source ecosystem. However, despite the central importance of batteries for energy storage, only a small number of OSS projects are under development.\n",
    "\n",
    "Furthermore, areas where software plays a central role but only a small number of projects can be identified are of particular interest. \n",
    "\n",
    "**For example, within [Sustainable Investment](https://opensustain.tech/#sustainable-investment) representing only 1.15 % (a total of 11 projects), open source is still something of a marginal factor.** Despite ongoing discussions about ESG (Environmental, Social and Governance) ratings in terms of their quality and transparency, the field is dominated by proprietary closed-source frameworks and datasets. The lack of open source and open science in sustainable investment reflects the lack of impact measurement and evaluation which are key in financing a sustainable transformation. **Also, the field of energy and resource consumption in industrial production shows a very low level of OSS developments, at only 0.28 %.**\n",
    "\n",
    "**In Emissions Observation and Modeling, there are only 21 developments, representing 2.1% of all projects.** Despite the significant impact of man-made emissions on the climate, there are not enough open source tools, platforms, and communities that truly reflect the magnitude of the challenge. A significant business opportunity would exist if an open source community brought together various emissions monitoring and modelling datasets from around the world on a single platform. Such a platform would be critical for transparency in pressing issues such as carbon trading, carbon taxes, and company sustainability assessments. Electricity Maps has demonstrated with great success how this approach works for the share of renewables in local energy grids. Hundreds of scientists and developers have joined forces and integrated existing data into one platform. There are new promising developments such as [The Global Registry of Fossil Fuels](https://fossilfuelregistry.org/).\n",
    "\n",
    "**Topics with low OSS representation also include bioenergy, hydrogen, and carbon capture.** This is likely to be due to the more nascent nature of these areas and the smaller academic communities working in them. These technologies have a higher degree of uncertainty and data are held by for-profit companies within this sector. The small number of open source projects makes it difficult to quantify, transparently and independently, the sustainable developments in this area.\n",
    "\n",
    "**Lastly, domains like carbon offsets or calculations on climate neutrality could not be investigated due to a general lack of OSS projects.** Despite intensive research, no OSS project or organisation (with the exception of [CarbonPlan](https://carbonplan.org/)) could be found that provides comprehensive and scientifically sound calculations and methodologies of climate neutrality and the carbon offsets of individual companies. All statements about the environmental impact of companies are primarily based on black box algorithms and analyses performed by companies and consultancies, making sustainability statements of Carbon Offsets rather opaque. \n"
   ]
  },
  {
   "cell_type": "code",
   "execution_count": 233,
   "metadata": {
    "tags": [
     "remove-input",
     "full-width"
    ]
   },
   "outputs": [
    {
     "data": {
      "application/vnd.plotly.v1+json": {
       "config": {
        "plotlyServerURL": "https://plot.ly"
       },
       "data": [
        {
         "branchvalues": "total",
         "customdata": [
          [
           "Natural Resources"
          ],
          [
           "Earth Systems"
          ],
          [
           "Consumption of Energy and Resources"
          ],
          [
           "Natural Resources"
          ],
          [
           "Consumption of Energy and Resources"
          ],
          [
           "Consumption of Energy and Resources"
          ],
          [
           "Climate and Earth Science"
          ],
          [
           "Renewable Energy"
          ],
          [
           "Consumption of Energy and Resources"
          ],
          [
           "Natural Resources"
          ],
          [
           "Energy Storage"
          ],
          [
           "Energy Systems"
          ],
          [
           "Natural Resources"
          ],
          [
           "Climate and Earth Science"
          ],
          [
           "Sustainable Development"
          ],
          [
           "Sustainable Development"
          ],
          [
           "Earth Systems"
          ],
          [
           "Climate and Earth Science"
          ],
          [
           "Emissions"
          ],
          [
           "Earth Systems"
          ],
          [
           "Earth Systems"
          ],
          [
           "Consumption of Energy and Resources"
          ],
          [
           "Consumption of Energy and Resources"
          ],
          [
           "Emissions"
          ],
          [
           "Consumption of Energy and Resources"
          ],
          [
           "Natural Resources"
          ],
          [
           "Natural Resources"
          ],
          [
           "Climate and Earth Science"
          ],
          [
           "Climate and Earth Science"
          ],
          [
           "Natural Resources"
          ],
          [
           "Industrial Ecology"
          ],
          [
           "Natural Resources"
          ],
          [
           "Energy Systems"
          ],
          [
           "Energy Systems"
          ],
          [
           "Energy Systems"
          ],
          [
           "Climate and Earth Science"
          ],
          [
           "Climate and Earth Science"
          ],
          [
           "Earth Systems"
          ],
          [
           "Renewable Energy"
          ],
          [
           "Natural Resources"
          ],
          [
           "Natural Resources"
          ],
          [
           "Climate and Earth Science"
          ],
          [
           "Energy Storage"
          ],
          [
           "Natural Resources"
          ],
          [
           "Earth Systems"
          ],
          [
           "Consumption of Energy and Resources"
          ],
          [
           "Consumption of Energy and Resources"
          ],
          [
           "Industrial Ecology"
          ],
          [
           "Earth Systems"
          ],
          [
           "Natural Resources"
          ],
          [
           "Natural Resources"
          ],
          [
           "Natural Resources"
          ],
          [
           "Consumption of Energy and Resources"
          ],
          [
           "Energy Systems"
          ],
          [
           "Earth Systems"
          ],
          [
           "Energy Storage"
          ],
          [
           "Sustainable Development"
          ],
          [
           "Energy Systems"
          ],
          [
           "Consumption of Energy and Resources"
          ],
          [
           "Consumption of Energy and Resources"
          ],
          [
           "Consumption of Energy and Resources"
          ],
          [
           "Renewable Energy"
          ],
          [
           "Natural Resources"
          ],
          [
           "Renewable Energy"
          ],
          [
           "Consumption of Energy and Resources"
          ],
          [
           "Consumption of Energy and Resources"
          ],
          [
           "Earth Systems"
          ],
          [
           "Climate and Earth Science"
          ],
          [
           "Sustainable Development"
          ],
          [
           "Energy Systems"
          ],
          [
           "Natural Resources"
          ],
          [
           "Natural Resources"
          ],
          [
           "Consumption of Energy and Resources"
          ],
          [
           "Climate and Earth Science"
          ],
          [
           "Emissions"
          ],
          [
           "Sustainable Development"
          ],
          [
           "Renewable Energy"
          ],
          [
           "Renewable Energy"
          ],
          [
           "Renewable Energy"
          ],
          [
           "Natural Resources"
          ],
          [
           "Natural Resources"
          ],
          [
           "Energy Systems"
          ],
          [
           "Earth Systems"
          ],
          [
           "Energy Systems"
          ],
          [
           "Energy Systems"
          ],
          [
           "Energy Systems"
          ],
          [
           "Natural Resources"
          ],
          [
           "Natural Resources"
          ],
          [
           "Natural Resources"
          ],
          [
           "Earth Systems"
          ],
          [
           "Sustainable Development"
          ],
          [
           "Emissions"
          ],
          [
           "Energy Systems"
          ],
          [
           "Natural Resources"
          ],
          [
           "Natural Resources"
          ],
          [
           "Earth Systems"
          ],
          [
           "Consumption of Energy and Resources"
          ],
          [
           "Consumption of Energy and Resources"
          ],
          [
           "Consumption of Energy and Resources"
          ],
          [
           "Industrial Ecology"
          ],
          [
           "Earth Systems"
          ],
          [
           "Sustainable Development"
          ],
          [
           "Earth Systems"
          ],
          [
           "Climate and Earth Science"
          ],
          [
           "Sustainable Development"
          ],
          [
           "Natural Resources"
          ],
          [
           "Sustainable Development"
          ],
          [
           "Climate and Earth Science"
          ],
          [
           "Climate and Earth Science"
          ],
          [
           "Natural Resources"
          ],
          [
           "Natural Resources"
          ],
          [
           "Natural Resources"
          ],
          [
           "Natural Resources"
          ],
          [
           "Natural Resources"
          ],
          [
           "Earth Systems"
          ],
          [
           "Consumption of Energy and Resources"
          ],
          [
           "Energy Storage"
          ],
          [
           "Consumption of Energy and Resources"
          ],
          [
           "Energy Systems"
          ],
          [
           "Energy Systems"
          ],
          [
           "Energy Systems"
          ],
          [
           "Energy Systems"
          ],
          [
           "Renewable Energy"
          ],
          [
           "Climate and Earth Science"
          ],
          [
           "Consumption of Energy and Resources"
          ],
          [
           "Sustainable Development"
          ],
          [
           "Earth Systems"
          ],
          [
           "Energy Systems"
          ],
          [
           "Earth Systems"
          ],
          [
           "Renewable Energy"
          ],
          [
           "Natural Resources"
          ],
          [
           "Consumption of Energy and Resources"
          ],
          [
           "Earth Systems"
          ],
          [
           "Earth Systems"
          ],
          [
           "Earth Systems"
          ],
          [
           "Sustainable Development"
          ],
          [
           "Energy Systems"
          ],
          [
           "Earth Systems"
          ],
          [
           "Energy Systems"
          ],
          [
           "Energy Systems"
          ],
          [
           "Energy Systems"
          ],
          [
           "Renewable Energy"
          ],
          [
           "Energy Systems"
          ],
          [
           "Energy Systems"
          ],
          [
           "Energy Systems"
          ],
          [
           "Natural Resources"
          ],
          [
           "Industrial Ecology"
          ],
          [
           "Natural Resources"
          ],
          [
           "Energy Systems"
          ],
          [
           "Consumption of Energy and Resources"
          ],
          [
           "Earth Systems"
          ],
          [
           "Consumption of Energy and Resources"
          ],
          [
           "Consumption of Energy and Resources"
          ],
          [
           "Energy Systems"
          ],
          [
           "Renewable Energy"
          ],
          [
           "Sustainable Development"
          ],
          [
           "Climate and Earth Science"
          ],
          [
           "Energy Systems"
          ],
          [
           "Consumption of Energy and Resources"
          ],
          [
           "Renewable Energy"
          ],
          [
           "Climate and Earth Science"
          ],
          [
           "Emissions"
          ],
          [
           "Renewable Energy"
          ],
          [
           "Consumption of Energy and Resources"
          ],
          [
           "Consumption of Energy and Resources"
          ],
          [
           "Consumption of Energy and Resources"
          ],
          [
           "Earth Systems"
          ],
          [
           "Energy Systems"
          ],
          [
           "Consumption of Energy and Resources"
          ],
          [
           "Consumption of Energy and Resources"
          ],
          [
           "Energy Systems"
          ],
          [
           "Energy Systems"
          ],
          [
           "Energy Systems"
          ],
          [
           "Renewable Energy"
          ],
          [
           "Natural Resources"
          ],
          [
           "Energy Systems"
          ],
          [
           "Industrial Ecology"
          ],
          [
           "Consumption of Energy and Resources"
          ],
          [
           "Energy Systems"
          ],
          [
           "Renewable Energy"
          ],
          [
           "Earth Systems"
          ],
          [
           "Natural Resources"
          ],
          [
           "Natural Resources"
          ],
          [
           "Consumption of Energy and Resources"
          ],
          [
           "Climate and Earth Science"
          ],
          [
           "Earth Systems"
          ],
          [
           "Climate and Earth Science"
          ],
          [
           "Natural Resources"
          ],
          [
           "Natural Resources"
          ],
          [
           "Emissions"
          ],
          [
           "Consumption of Energy and Resources"
          ],
          [
           "Consumption of Energy and Resources"
          ],
          [
           "Natural Resources"
          ],
          [
           "Energy Systems"
          ],
          [
           "Energy Systems"
          ],
          [
           "Energy Systems"
          ],
          [
           "Industrial Ecology"
          ],
          [
           "Energy Systems"
          ],
          [
           "Natural Resources"
          ],
          [
           "Energy Systems"
          ],
          [
           "Natural Resources"
          ],
          [
           "Natural Resources"
          ],
          [
           "Natural Resources"
          ],
          [
           "Industrial Ecology"
          ],
          [
           "Natural Resources"
          ],
          [
           "Industrial Ecology"
          ],
          [
           "Natural Resources"
          ],
          [
           "Natural Resources"
          ],
          [
           "Natural Resources"
          ],
          [
           "Industrial Ecology"
          ],
          [
           "Natural Resources"
          ],
          [
           "Natural Resources"
          ],
          [
           "Natural Resources"
          ],
          [
           "Natural Resources"
          ],
          [
           "Earth Systems"
          ],
          [
           "Natural Resources"
          ],
          [
           "Earth Systems"
          ],
          [
           "Earth Systems"
          ],
          [
           "Natural Resources"
          ],
          [
           "Natural Resources"
          ],
          [
           "Energy Storage"
          ],
          [
           "Consumption of Energy and Resources"
          ],
          [
           "Climate and Earth Science"
          ],
          [
           "Climate and Earth Science"
          ],
          [
           "Earth Systems"
          ],
          [
           "Renewable Energy"
          ],
          [
           "Renewable Energy"
          ],
          [
           "Consumption of Energy and Resources"
          ],
          [
           "Natural Resources"
          ],
          [
           "Energy Storage"
          ],
          [
           "Energy Systems"
          ],
          [
           "Climate and Earth Science"
          ],
          [
           "Climate and Earth Science"
          ],
          [
           "Climate and Earth Science"
          ],
          [
           "Climate and Earth Science"
          ],
          [
           "Earth Systems"
          ],
          [
           "Sustainable Development"
          ],
          [
           "Natural Resources"
          ],
          [
           "Consumption of Energy and Resources"
          ],
          [
           "Natural Resources"
          ],
          [
           "Consumption of Energy and Resources"
          ],
          [
           "Renewable Energy"
          ],
          [
           "Natural Resources"
          ],
          [
           "Renewable Energy"
          ],
          [
           "Renewable Energy"
          ],
          [
           "Earth Systems"
          ],
          [
           "Energy Systems"
          ],
          [
           "Renewable Energy"
          ],
          [
           "Renewable Energy"
          ],
          [
           "Consumption of Energy and Resources"
          ],
          [
           "Natural Resources"
          ],
          [
           "Climate and Earth Science"
          ],
          [
           "Consumption of Energy and Resources"
          ],
          [
           "Sustainable Development"
          ],
          [
           "Earth Systems"
          ],
          [
           "Energy Systems"
          ],
          [
           "Natural Resources"
          ],
          [
           "Emissions"
          ],
          [
           "Industrial Ecology"
          ],
          [
           "Energy Systems"
          ],
          [
           "Natural Resources"
          ],
          [
           "Earth Systems"
          ],
          [
           "Earth Systems"
          ],
          [
           "Energy Systems"
          ],
          [
           "Energy Systems"
          ],
          [
           "Natural Resources"
          ],
          [
           "Climate and Earth Science"
          ],
          [
           "Earth Systems"
          ],
          [
           "Climate and Earth Science"
          ],
          [
           "Earth Systems"
          ],
          [
           "Natural Resources"
          ],
          [
           "Energy Systems"
          ],
          [
           "Energy Storage"
          ],
          [
           "Sustainable Development"
          ],
          [
           "Consumption of Energy and Resources"
          ],
          [
           "Consumption of Energy and Resources"
          ],
          [
           "Energy Systems"
          ],
          [
           "Consumption of Energy and Resources"
          ],
          [
           "Natural Resources"
          ],
          [
           "Renewable Energy"
          ],
          [
           "Sustainable Development"
          ],
          [
           "Energy Systems"
          ],
          [
           "Climate and Earth Science"
          ],
          [
           "Energy Storage"
          ],
          [
           "Natural Resources"
          ],
          [
           "Climate and Earth Science"
          ],
          [
           "Climate and Earth Science"
          ],
          [
           "Energy Systems"
          ],
          [
           "Energy Systems"
          ],
          [
           "Renewable Energy"
          ],
          [
           "Energy Systems"
          ],
          [
           "Energy Systems"
          ],
          [
           "Energy Systems"
          ],
          [
           "Emissions"
          ],
          [
           "Climate and Earth Science"
          ],
          [
           "Emissions"
          ],
          [
           "Sustainable Development"
          ],
          [
           "Natural Resources"
          ],
          [
           "Earth Systems"
          ],
          [
           "Sustainable Development"
          ],
          [
           "Climate and Earth Science"
          ],
          [
           "Energy Storage"
          ],
          [
           "Climate and Earth Science"
          ],
          [
           "Earth Systems"
          ],
          [
           "Climate and Earth Science"
          ],
          [
           "Consumption of Energy and Resources"
          ],
          [
           "Earth Systems"
          ],
          [
           "Natural Resources"
          ],
          [
           "Consumption of Energy and Resources"
          ],
          [
           "Earth Systems"
          ],
          [
           "Earth Systems"
          ],
          [
           "Renewable Energy"
          ],
          [
           "Consumption of Energy and Resources"
          ],
          [
           "Earth Systems"
          ],
          [
           "Climate and Earth Science"
          ],
          [
           "Climate and Earth Science"
          ],
          [
           "Earth Systems"
          ],
          [
           "Energy Systems"
          ],
          [
           "Earth Systems"
          ],
          [
           "Earth Systems"
          ],
          [
           "Climate and Earth Science"
          ],
          [
           "Emissions"
          ],
          [
           "Consumption of Energy and Resources"
          ],
          [
           "Renewable Energy"
          ],
          [
           "Energy Systems"
          ],
          [
           "Energy Systems"
          ],
          [
           "Earth Systems"
          ],
          [
           "Earth Systems"
          ],
          [
           "Renewable Energy"
          ],
          [
           "Climate and Earth Science"
          ],
          [
           "Emissions"
          ],
          [
           "Industrial Ecology"
          ],
          [
           "Emissions"
          ],
          [
           "Renewable Energy"
          ],
          [
           "Earth Systems"
          ],
          [
           "Consumption of Energy and Resources"
          ],
          [
           "Consumption of Energy and Resources"
          ],
          [
           "Consumption of Energy and Resources"
          ],
          [
           "Energy Systems"
          ],
          [
           "Climate and Earth Science"
          ],
          [
           "Climate and Earth Science"
          ],
          [
           "Earth Systems"
          ],
          [
           "Energy Systems"
          ],
          [
           "Climate and Earth Science"
          ],
          [
           "Earth Systems"
          ],
          [
           "Consumption of Energy and Resources"
          ],
          [
           "Energy Systems"
          ],
          [
           "Natural Resources"
          ],
          [
           "Consumption of Energy and Resources"
          ],
          [
           "Natural Resources"
          ],
          [
           "Consumption of Energy and Resources"
          ],
          [
           "Climate and Earth Science"
          ],
          [
           "Consumption of Energy and Resources"
          ],
          [
           "Energy Storage"
          ],
          [
           "Consumption of Energy and Resources"
          ],
          [
           "Consumption of Energy and Resources"
          ],
          [
           "Earth Systems"
          ],
          [
           "Natural Resources"
          ],
          [
           "Climate and Earth Science"
          ],
          [
           "Climate and Earth Science"
          ],
          [
           "Natural Resources"
          ],
          [
           "Energy Systems"
          ],
          [
           "Energy Systems"
          ],
          [
           "Climate and Earth Science"
          ],
          [
           "Earth Systems"
          ],
          [
           "Consumption of Energy and Resources"
          ],
          [
           "Consumption of Energy and Resources"
          ],
          [
           "Consumption of Energy and Resources"
          ],
          [
           "Consumption of Energy and Resources"
          ],
          [
           "Renewable Energy"
          ],
          [
           "Earth Systems"
          ],
          [
           "Earth Systems"
          ],
          [
           "Earth Systems"
          ],
          [
           "Consumption of Energy and Resources"
          ],
          [
           "Emissions"
          ],
          [
           "Climate and Earth Science"
          ],
          [
           "Consumption of Energy and Resources"
          ],
          [
           "Energy Systems"
          ],
          [
           "Earth Systems"
          ],
          [
           "Earth Systems"
          ],
          [
           "Natural Resources"
          ],
          [
           "Sustainable Development"
          ],
          [
           "Emissions"
          ],
          [
           "Natural Resources"
          ],
          [
           "Natural Resources"
          ],
          [
           "Natural Resources"
          ],
          [
           "Consumption of Energy and Resources"
          ],
          [
           "Earth Systems"
          ],
          [
           "Consumption of Energy and Resources"
          ],
          [
           "Natural Resources"
          ],
          [
           "Earth Systems"
          ],
          [
           "Earth Systems"
          ],
          [
           "Energy Storage"
          ],
          [
           "Earth Systems"
          ],
          [
           "Emissions"
          ],
          [
           "Natural Resources"
          ],
          [
           "Earth Systems"
          ],
          [
           "Consumption of Energy and Resources"
          ],
          [
           "Earth Systems"
          ],
          [
           "Climate and Earth Science"
          ],
          [
           "Consumption of Energy and Resources"
          ],
          [
           "Natural Resources"
          ],
          [
           "Industrial Ecology"
          ],
          [
           "Climate and Earth Science"
          ],
          [
           "Consumption of Energy and Resources"
          ],
          [
           "Sustainable Development"
          ],
          [
           "Emissions"
          ],
          [
           "Climate and Earth Science"
          ],
          [
           "Earth Systems"
          ],
          [
           "Earth Systems"
          ],
          [
           "Climate and Earth Science"
          ],
          [
           "Natural Resources"
          ],
          [
           "Natural Resources"
          ],
          [
           "Industrial Ecology"
          ],
          [
           "Natural Resources"
          ],
          [
           "Natural Resources"
          ],
          [
           "Sustainable Development"
          ],
          [
           "Industrial Ecology"
          ],
          [
           "Earth Systems"
          ],
          [
           "Natural Resources"
          ],
          [
           "Climate and Earth Science"
          ],
          [
           "Natural Resources"
          ],
          [
           "Consumption of Energy and Resources"
          ],
          [
           "Natural Resources"
          ],
          [
           "Earth Systems"
          ],
          [
           "Natural Resources"
          ],
          [
           "Natural Resources"
          ],
          [
           "Earth Systems"
          ],
          [
           "Climate and Earth Science"
          ],
          [
           "Consumption of Energy and Resources"
          ],
          [
           "Consumption of Energy and Resources"
          ],
          [
           "Consumption of Energy and Resources"
          ],
          [
           "Energy Systems"
          ],
          [
           "Energy Systems"
          ],
          [
           "Consumption of Energy and Resources"
          ],
          [
           "Earth Systems"
          ],
          [
           "Climate and Earth Science"
          ],
          [
           "Consumption of Energy and Resources"
          ],
          [
           "Climate and Earth Science"
          ],
          [
           "Consumption of Energy and Resources"
          ],
          [
           "Earth Systems"
          ],
          [
           "Natural Resources"
          ],
          [
           "Earth Systems"
          ],
          [
           "Earth Systems"
          ],
          [
           "Earth Systems"
          ],
          [
           "Natural Resources"
          ],
          [
           "Climate and Earth Science"
          ],
          [
           "Climate and Earth Science"
          ],
          [
           "Natural Resources"
          ],
          [
           "Consumption of Energy and Resources"
          ],
          [
           "Consumption of Energy and Resources"
          ],
          [
           "Climate and Earth Science"
          ],
          [
           "Energy Systems"
          ],
          [
           "Climate and Earth Science"
          ],
          [
           "Energy Systems"
          ],
          [
           "Earth Systems"
          ],
          [
           "Industrial Ecology"
          ],
          [
           "Renewable Energy"
          ],
          [
           "Natural Resources"
          ],
          [
           "Renewable Energy"
          ],
          [
           "Renewable Energy"
          ],
          [
           "Renewable Energy"
          ],
          [
           "Renewable Energy"
          ],
          [
           "Natural Resources"
          ],
          [
           "Renewable Energy"
          ],
          [
           "Earth Systems"
          ],
          [
           "Industrial Ecology"
          ],
          [
           "Natural Resources"
          ],
          [
           "Renewable Energy"
          ],
          [
           "Earth Systems"
          ],
          [
           "Climate and Earth Science"
          ],
          [
           "Earth Systems"
          ],
          [
           "Earth Systems"
          ],
          [
           "Consumption of Energy and Resources"
          ],
          [
           "Earth Systems"
          ],
          [
           "Consumption of Energy and Resources"
          ],
          [
           "Consumption of Energy and Resources"
          ],
          [
           "Climate and Earth Science"
          ],
          [
           "Climate and Earth Science"
          ],
          [
           "Climate and Earth Science"
          ],
          [
           "Climate and Earth Science"
          ],
          [
           "Climate and Earth Science"
          ],
          [
           "Consumption of Energy and Resources"
          ],
          [
           "Earth Systems"
          ],
          [
           "Climate and Earth Science"
          ],
          [
           "Energy Storage"
          ],
          [
           "Renewable Energy"
          ],
          [
           "Sustainable Development"
          ],
          [
           "Climate and Earth Science"
          ],
          [
           "Consumption of Energy and Resources"
          ],
          [
           "Climate and Earth Science"
          ],
          [
           "Emissions"
          ],
          [
           "Earth Systems"
          ],
          [
           "Earth Systems"
          ],
          [
           "Sustainable Development"
          ],
          [
           "Consumption of Energy and Resources"
          ],
          [
           "Climate and Earth Science"
          ],
          [
           "Earth Systems"
          ],
          [
           "Sustainable Development"
          ],
          [
           "Consumption of Energy and Resources"
          ],
          [
           "Earth Systems"
          ],
          [
           "Energy Systems"
          ],
          [
           "Earth Systems"
          ],
          [
           "Consumption of Energy and Resources"
          ],
          [
           "Renewable Energy"
          ],
          [
           "Sustainable Development"
          ],
          [
           "Renewable Energy"
          ],
          [
           "Climate and Earth Science"
          ],
          [
           "Consumption of Energy and Resources"
          ],
          [
           "Earth Systems"
          ],
          [
           "Consumption of Energy and Resources"
          ],
          [
           "Earth Systems"
          ],
          [
           "Natural Resources"
          ],
          [
           "Energy Storage"
          ],
          [
           "Energy Systems"
          ],
          [
           "Energy Systems"
          ],
          [
           "Energy Systems"
          ],
          [
           "Energy Systems"
          ],
          [
           "Sustainable Development"
          ],
          [
           "Natural Resources"
          ],
          [
           "Natural Resources"
          ],
          [
           "Natural Resources"
          ],
          [
           "Natural Resources"
          ],
          [
           "Earth Systems"
          ],
          [
           "Energy Systems"
          ],
          [
           "Natural Resources"
          ],
          [
           "Renewable Energy"
          ],
          [
           "Natural Resources"
          ],
          [
           "Energy Systems"
          ],
          [
           "Sustainable Development"
          ],
          [
           "Earth Systems"
          ],
          [
           "Climate and Earth Science"
          ],
          [
           "Climate and Earth Science"
          ],
          [
           "Climate and Earth Science"
          ],
          [
           "Climate and Earth Science"
          ],
          [
           "Earth Systems"
          ],
          [
           "Emissions"
          ],
          [
           "Earth Systems"
          ],
          [
           "Climate and Earth Science"
          ],
          [
           "Earth Systems"
          ],
          [
           "Earth Systems"
          ],
          [
           "Climate and Earth Science"
          ],
          [
           "Climate and Earth Science"
          ],
          [
           "Earth Systems"
          ],
          [
           "Energy Systems"
          ],
          [
           "Renewable Energy"
          ],
          [
           "Renewable Energy"
          ],
          [
           "Earth Systems"
          ],
          [
           "Climate and Earth Science"
          ],
          [
           "Emissions"
          ],
          [
           "Earth Systems"
          ],
          [
           "Energy Systems"
          ],
          [
           "Sustainable Development"
          ],
          [
           "Consumption of Energy and Resources"
          ],
          [
           "Energy Systems"
          ],
          [
           "Energy Systems"
          ],
          [
           "Renewable Energy"
          ],
          [
           "Consumption of Energy and Resources"
          ],
          [
           "Renewable Energy"
          ],
          [
           "Renewable Energy"
          ],
          [
           "Renewable Energy"
          ],
          [
           "Renewable Energy"
          ],
          [
           "Renewable Energy"
          ],
          [
           "Renewable Energy"
          ],
          [
           "Energy Systems"
          ],
          [
           "Renewable Energy"
          ],
          [
           "Energy Systems"
          ],
          [
           "Renewable Energy"
          ],
          [
           "Consumption of Energy and Resources"
          ],
          [
           "Consumption of Energy and Resources"
          ],
          [
           "Consumption of Energy and Resources"
          ],
          [
           "Renewable Energy"
          ],
          [
           "Consumption of Energy and Resources"
          ],
          [
           "Earth Systems"
          ],
          [
           "Energy Systems"
          ],
          [
           "Consumption of Energy and Resources"
          ],
          [
           "Earth Systems"
          ],
          [
           "Energy Systems"
          ],
          [
           "Natural Resources"
          ],
          [
           "Consumption of Energy and Resources"
          ],
          [
           "Natural Resources"
          ],
          [
           "Consumption of Energy and Resources"
          ],
          [
           "Earth Systems"
          ],
          [
           "Climate and Earth Science"
          ],
          [
           "Emissions"
          ],
          [
           "Energy Systems"
          ],
          [
           "Renewable Energy"
          ],
          [
           "Renewable Energy"
          ],
          [
           "Energy Systems"
          ],
          [
           "Climate and Earth Science"
          ],
          [
           "Energy Systems"
          ],
          [
           "Natural Resources"
          ],
          [
           "Industrial Ecology"
          ],
          [
           "Consumption of Energy and Resources"
          ],
          [
           "Energy Systems"
          ],
          [
           "Natural Resources"
          ],
          [
           "Energy Systems"
          ],
          [
           "Energy Systems"
          ],
          [
           "Earth Systems"
          ],
          [
           "Emissions"
          ],
          [
           "Industrial Ecology"
          ],
          [
           "Earth Systems"
          ],
          [
           "Energy Systems"
          ],
          [
           "Sustainable Development"
          ],
          [
           "Energy Systems"
          ],
          [
           "Consumption of Energy and Resources"
          ],
          [
           "Earth Systems"
          ],
          [
           "Emissions"
          ],
          [
           "Climate and Earth Science"
          ],
          [
           "Consumption of Energy and Resources"
          ],
          [
           "Renewable Energy"
          ],
          [
           "Natural Resources"
          ],
          [
           "Energy Systems"
          ],
          [
           "Renewable Energy"
          ],
          [
           "Earth Systems"
          ],
          [
           "Energy Systems"
          ],
          [
           "Renewable Energy"
          ],
          [
           "Earth Systems"
          ],
          [
           "Renewable Energy"
          ],
          [
           "Natural Resources"
          ],
          [
           "Climate and Earth Science"
          ],
          [
           "Energy Systems"
          ],
          [
           "Renewable Energy"
          ],
          [
           "Energy Systems"
          ],
          [
           "Earth Systems"
          ],
          [
           "Earth Systems"
          ],
          [
           "Climate and Earth Science"
          ],
          [
           "Renewable Energy"
          ],
          [
           "Climate and Earth Science"
          ],
          [
           "Consumption of Energy and Resources"
          ],
          [
           "Earth Systems"
          ],
          [
           "Emissions"
          ],
          [
           "Climate and Earth Science"
          ],
          [
           "Climate and Earth Science"
          ],
          [
           "Natural Resources"
          ],
          [
           "Consumption of Energy and Resources"
          ],
          [
           "Earth Systems"
          ],
          [
           "Natural Resources"
          ],
          [
           "Climate and Earth Science"
          ],
          [
           "Sustainable Development"
          ],
          [
           "Earth Systems"
          ],
          [
           "Earth Systems"
          ],
          [
           "Emissions"
          ],
          [
           "Climate and Earth Science"
          ],
          [
           "Consumption of Energy and Resources"
          ],
          [
           "Earth Systems"
          ],
          [
           "Climate and Earth Science"
          ],
          [
           "Earth Systems"
          ],
          [
           "Earth Systems"
          ],
          [
           "Earth Systems"
          ],
          [
           "Earth Systems"
          ],
          [
           "Consumption of Energy and Resources"
          ],
          [
           "Earth Systems"
          ],
          [
           "Earth Systems"
          ],
          [
           "Emissions"
          ],
          [
           "Consumption of Energy and Resources"
          ],
          [
           "Emissions"
          ],
          [
           "Emissions"
          ],
          [
           "Renewable Energy"
          ],
          [
           "Renewable Energy"
          ],
          [
           "Earth Systems"
          ],
          [
           "Climate and Earth Science"
          ],
          [
           "Energy Storage"
          ],
          [
           "Earth Systems"
          ],
          [
           "Climate and Earth Science"
          ],
          [
           "Natural Resources"
          ],
          [
           "Energy Systems"
          ],
          [
           "Natural Resources"
          ],
          [
           "Earth Systems"
          ],
          [
           "Emissions"
          ],
          [
           "Natural Resources"
          ],
          [
           "Natural Resources"
          ],
          [
           "Natural Resources"
          ],
          [
           "Natural Resources"
          ],
          [
           "Natural Resources"
          ],
          [
           "Climate and Earth Science"
          ],
          [
           "Industrial Ecology"
          ],
          [
           "Sustainable Development"
          ],
          [
           "Climate and Earth Science"
          ],
          [
           "Sustainable Development"
          ],
          [
           "Climate and Earth Science"
          ],
          [
           "Climate and Earth Science"
          ],
          [
           "Consumption of Energy and Resources"
          ],
          [
           "Earth Systems"
          ],
          [
           "Earth Systems"
          ],
          [
           "Industrial Ecology"
          ],
          [
           "Natural Resources"
          ],
          [
           "Energy Systems"
          ],
          [
           "Consumption of Energy and Resources"
          ],
          [
           "Consumption of Energy and Resources"
          ],
          [
           "Renewable Energy"
          ],
          [
           "Earth Systems"
          ],
          [
           "Emissions"
          ],
          [
           "Earth Systems"
          ],
          [
           "Sustainable Development"
          ],
          [
           "Consumption of Energy and Resources"
          ],
          [
           "Consumption of Energy and Resources"
          ],
          [
           "Sustainable Development"
          ],
          [
           "Consumption of Energy and Resources"
          ],
          [
           "Energy Systems"
          ],
          [
           "Sustainable Development"
          ],
          [
           "Earth Systems"
          ],
          [
           "Energy Systems"
          ],
          [
           "Sustainable Development"
          ],
          [
           "Emissions"
          ],
          [
           "Energy Systems"
          ],
          [
           "Sustainable Development"
          ],
          [
           "Sustainable Development"
          ],
          [
           "Climate and Earth Science"
          ],
          [
           "Climate and Earth Science"
          ],
          [
           "Climate and Earth Science"
          ],
          [
           "Energy Systems"
          ],
          [
           "Earth Systems"
          ],
          [
           "Earth Systems"
          ],
          [
           "Energy Systems"
          ],
          [
           "Energy Systems"
          ],
          [
           "Emissions"
          ],
          [
           "Earth Systems"
          ],
          [
           "Natural Resources"
          ],
          [
           "Natural Resources"
          ],
          [
           "Sustainable Development"
          ],
          [
           "Renewable Energy"
          ],
          [
           "Sustainable Development"
          ],
          [
           "Earth Systems"
          ],
          [
           "Sustainable Development"
          ],
          [
           "Energy Storage"
          ],
          [
           "Earth Systems"
          ],
          [
           "Energy Systems"
          ],
          [
           "Sustainable Development"
          ],
          [
           "Natural Resources"
          ],
          [
           "Climate and Earth Science"
          ],
          [
           "Earth Systems"
          ],
          [
           "Renewable Energy"
          ],
          [
           "Climate and Earth Science"
          ],
          [
           "Earth Systems"
          ],
          [
           "Renewable Energy"
          ],
          [
           "Renewable Energy"
          ],
          [
           "Renewable Energy"
          ],
          [
           "Renewable Energy"
          ],
          [
           "Natural Resources"
          ],
          [
           "Energy Systems"
          ],
          [
           "Natural Resources"
          ],
          [
           "Energy Storage"
          ],
          [
           "Natural Resources"
          ],
          [
           "Natural Resources"
          ],
          [
           "Climate and Earth Science"
          ],
          [
           "Energy Systems"
          ],
          [
           "Earth Systems"
          ],
          [
           "Earth Systems"
          ],
          [
           "Renewable Energy"
          ],
          [
           "Energy Storage"
          ],
          [
           "Renewable Energy"
          ],
          [
           "Energy Systems"
          ],
          [
           "Natural Resources"
          ],
          [
           "Sustainable Development"
          ],
          [
           "Climate and Earth Science"
          ],
          [
           "Earth Systems"
          ],
          [
           "Renewable Energy"
          ],
          [
           "Climate and Earth Science"
          ],
          [
           "Natural Resources"
          ],
          [
           "Natural Resources"
          ],
          [
           "Energy Systems"
          ],
          [
           "Earth Systems"
          ],
          [
           "Earth Systems"
          ],
          [
           "Earth Systems"
          ],
          [
           "Earth Systems"
          ],
          [
           "Earth Systems"
          ],
          [
           "Natural Resources"
          ],
          [
           "Earth Systems"
          ],
          [
           "Consumption of Energy and Resources"
          ],
          [
           "Earth Systems"
          ],
          [
           "Earth Systems"
          ],
          [
           "Climate and Earth Science"
          ],
          [
           "Natural Resources"
          ],
          [
           "Sustainable Development"
          ],
          [
           "Consumption of Energy and Resources"
          ],
          [
           "Earth Systems"
          ],
          [
           "Energy Systems"
          ],
          [
           "Energy Systems"
          ],
          [
           "Energy Storage"
          ],
          [
           "Energy Systems"
          ],
          [
           "Climate and Earth Science"
          ],
          [
           "Climate and Earth Science"
          ],
          [
           "Industrial Ecology"
          ],
          [
           "Climate and Earth Science"
          ],
          [
           "Climate and Earth Science"
          ],
          [
           "Sustainable Development"
          ],
          [
           "Natural Resources"
          ],
          [
           "Consumption of Energy and Resources"
          ],
          [
           "Climate and Earth Science"
          ],
          [
           "Earth Systems"
          ],
          [
           "Earth Systems"
          ],
          [
           "Climate and Earth Science"
          ],
          [
           "Energy Systems"
          ],
          [
           "Renewable Energy"
          ],
          [
           "Natural Resources"
          ],
          [
           "Natural Resources"
          ],
          [
           "Natural Resources"
          ],
          [
           "Renewable Energy"
          ],
          [
           "Sustainable Development"
          ],
          [
           "Energy Systems"
          ],
          [
           "Natural Resources"
          ],
          [
           "Renewable Energy"
          ],
          [
           "Earth Systems"
          ],
          [
           "Sustainable Development"
          ],
          [
           "Earth Systems"
          ],
          [
           "Energy Storage"
          ],
          [
           "Energy Systems"
          ],
          [
           "Earth Systems"
          ],
          [
           "Earth Systems"
          ],
          [
           "Climate and Earth Science"
          ],
          [
           "Emissions"
          ],
          [
           "Earth Systems"
          ],
          [
           "Natural Resources"
          ],
          [
           "Energy Systems"
          ],
          [
           "Energy Systems"
          ],
          [
           "Energy Storage"
          ],
          [
           "Industrial Ecology"
          ],
          [
           "Renewable Energy"
          ],
          [
           "Emissions"
          ],
          [
           "Consumption of Energy and Resources"
          ],
          [
           "Natural Resources"
          ],
          [
           "Consumption of Energy and Resources"
          ],
          [
           "Earth Systems"
          ],
          [
           "Natural Resources"
          ],
          [
           "Sustainable Development"
          ],
          [
           "Natural Resources"
          ],
          [
           "Sustainable Development"
          ],
          [
           "Sustainable Development"
          ],
          [
           "Earth Systems"
          ],
          [
           "Natural Resources"
          ],
          [
           "Natural Resources"
          ],
          [
           "Renewable Energy"
          ],
          [
           "Sustainable Development"
          ],
          [
           "Earth Systems"
          ],
          [
           "Energy Systems"
          ],
          [
           "Consumption of Energy and Resources"
          ],
          [
           "Climate and Earth Science"
          ],
          [
           "Emissions"
          ],
          [
           "Natural Resources"
          ],
          [
           "Earth Systems"
          ],
          [
           "Earth Systems"
          ],
          [
           "Climate and Earth Science"
          ],
          [
           "Industrial Ecology"
          ],
          [
           "Industrial Ecology"
          ],
          [
           "Industrial Ecology"
          ],
          [
           "Emissions"
          ],
          [
           "Sustainable Development"
          ],
          [
           "Earth Systems"
          ],
          [
           "Earth Systems"
          ],
          [
           "Natural Resources"
          ],
          [
           "Renewable Energy"
          ],
          [
           "Energy Systems"
          ],
          [
           "Renewable Energy"
          ],
          [
           "Consumption of Energy and Resources"
          ],
          [
           "Consumption of Energy and Resources"
          ],
          [
           "Energy Systems"
          ],
          [
           "Energy Systems"
          ],
          [
           "Climate and Earth Science"
          ],
          [
           "Natural Resources"
          ],
          [
           "Climate and Earth Science"
          ],
          [
           "Natural Resources"
          ],
          [
           "Consumption of Energy and Resources"
          ],
          [
           "Natural Resources"
          ],
          [
           "Natural Resources"
          ],
          [
           "Natural Resources"
          ],
          [
           "Natural Resources"
          ],
          [
           "Natural Resources"
          ],
          [
           "Renewable Energy"
          ],
          [
           "Energy Storage"
          ],
          [
           "Earth Systems"
          ],
          [
           "Renewable Energy"
          ],
          [
           "Earth Systems"
          ],
          [
           "Consumption of Energy and Resources"
          ],
          [
           "Energy Systems"
          ],
          [
           "Earth Systems"
          ],
          [
           "Earth Systems"
          ],
          [
           "Consumption of Energy and Resources"
          ],
          [
           "Energy Systems"
          ],
          [
           "Energy Systems"
          ],
          [
           "Emissions"
          ],
          [
           "Earth Systems"
          ],
          [
           "Climate and Earth Science"
          ],
          [
           "Climate and Earth Science"
          ],
          [
           "Climate and Earth Science"
          ],
          [
           "Earth Systems"
          ],
          [
           "Earth Systems"
          ],
          [
           "Climate and Earth Science"
          ],
          [
           "Energy Storage"
          ],
          [
           "Energy Storage"
          ],
          [
           "Energy Storage"
          ],
          [
           "Consumption of Energy and Resources"
          ],
          [
           "Climate and Earth Science"
          ],
          [
           "Climate and Earth Science"
          ],
          [
           "Sustainable Development"
          ],
          [
           "Consumption of Energy and Resources"
          ],
          [
           "Earth Systems"
          ],
          [
           "Natural Resources"
          ],
          [
           "Energy Storage"
          ],
          [
           "Sustainable Development"
          ],
          [
           "Consumption of Energy and Resources"
          ],
          [
           "Earth Systems"
          ],
          [
           "Natural Resources"
          ],
          [
           "Climate and Earth Science"
          ],
          [
           "Earth Systems"
          ],
          [
           "Earth Systems"
          ],
          [
           "Earth Systems"
          ],
          [
           "Climate and Earth Science"
          ],
          [
           "Climate and Earth Science"
          ],
          [
           "Climate and Earth Science"
          ],
          [
           "Sustainable Development"
          ],
          [
           "Earth Systems"
          ],
          [
           "Emissions"
          ],
          [
           "Earth Systems"
          ],
          [
           "Natural Resources"
          ],
          [
           "Natural Resources"
          ],
          [
           "Earth Systems"
          ],
          [
           "Sustainable Development"
          ],
          [
           "Natural Resources"
          ],
          [
           "Earth Systems"
          ],
          [
           "Earth Systems"
          ],
          [
           "Earth Systems"
          ],
          [
           "Natural Resources"
          ],
          [
           "Renewable Energy"
          ],
          [
           "Earth Systems"
          ],
          [
           "Consumption of Energy and Resources"
          ],
          [
           "Industrial Ecology"
          ],
          [
           "Earth Systems"
          ],
          [
           "Natural Resources"
          ],
          [
           "Sustainable Development"
          ],
          [
           "Consumption of Energy and Resources"
          ],
          [
           "Earth Systems"
          ],
          [
           "Earth Systems"
          ],
          [
           "Industrial Ecology"
          ],
          [
           "Renewable Energy"
          ],
          [
           "Earth Systems"
          ],
          [
           "Renewable Energy"
          ],
          [
           "Sustainable Development"
          ],
          [
           "Climate and Earth Science"
          ],
          [
           "Earth Systems"
          ],
          [
           "Energy Systems"
          ],
          [
           "Earth Systems"
          ],
          [
           "Climate and Earth Science"
          ],
          [
           "Climate and Earth Science"
          ],
          [
           "Earth Systems"
          ],
          [
           "Climate and Earth Science"
          ],
          [
           "Sustainable Development"
          ],
          [
           "Energy Systems"
          ],
          [
           "Natural Resources"
          ],
          [
           "Earth Systems"
          ],
          [
           "Natural Resources"
          ],
          [
           "Sustainable Development"
          ],
          [
           "Energy Systems"
          ],
          [
           "Energy Systems"
          ],
          [
           "Consumption of Energy and Resources"
          ],
          [
           "Natural Resources"
          ],
          [
           "Renewable Energy"
          ],
          [
           "Earth Systems"
          ],
          [
           "Earth Systems"
          ],
          [
           "Earth Systems"
          ],
          [
           "Climate and Earth Science"
          ],
          [
           "Consumption of Energy and Resources"
          ],
          [
           "Consumption of Energy and Resources"
          ],
          [
           "Energy Systems"
          ],
          [
           "Earth Systems"
          ],
          [
           "Earth Systems"
          ],
          [
           "Natural Resources"
          ],
          [
           "Earth Systems"
          ],
          [
           "Consumption of Energy and Resources"
          ],
          [
           "Consumption of Energy and Resources"
          ],
          [
           "Energy Systems"
          ],
          [
           "Energy Systems"
          ],
          [
           "Renewable Energy"
          ],
          [
           "Emissions"
          ],
          [
           "Emissions"
          ],
          [
           "Consumption of Energy and Resources"
          ],
          [
           "Climate and Earth Science"
          ],
          [
           "Consumption of Energy and Resources"
          ],
          [
           "Climate and Earth Science"
          ],
          [
           "Natural Resources"
          ],
          [
           "Natural Resources"
          ],
          [
           "Earth Systems"
          ],
          [
           "Energy Storage"
          ],
          [
           "Renewable Energy"
          ],
          [
           "Earth Systems"
          ],
          [
           "Consumption of Energy and Resources"
          ],
          [
           "Emissions"
          ],
          [
           "Emissions"
          ],
          [
           "Industrial Ecology"
          ],
          [
           "Climate and Earth Science"
          ],
          [
           "Consumption of Energy and Resources"
          ],
          [
           "Earth Systems"
          ],
          [
           "Sustainable Development"
          ],
          [
           "Energy Systems"
          ],
          [
           "Climate and Earth Science"
          ],
          [
           "Emissions"
          ],
          [
           "Energy Systems"
          ],
          [
           "Energy Systems"
          ],
          [
           "Energy Systems"
          ],
          [
           "Renewable Energy"
          ],
          [
           "Renewable Energy"
          ],
          [
           "Energy Storage"
          ],
          [
           "Earth Systems"
          ],
          [
           "Climate and Earth Science"
          ],
          [
           "Sustainable Development"
          ],
          [
           "Industrial Ecology"
          ],
          [
           "Climate and Earth Science"
          ],
          [
           "Consumption of Energy and Resources"
          ],
          [
           "Natural Resources"
          ],
          [
           "Renewable Energy"
          ],
          [
           "Consumption of Energy and Resources"
          ],
          [
           "Climate and Earth Science"
          ],
          [
           "Natural Resources"
          ],
          [
           "Sustainable Development"
          ],
          [
           "Sustainable Development"
          ],
          [
           "Natural Resources"
          ],
          [
           "Renewable Energy"
          ],
          [
           "Climate and Earth Science"
          ],
          [
           "Consumption of Energy and Resources"
          ],
          [
           "Earth Systems"
          ],
          [
           "Emissions"
          ],
          [
           "Energy Storage"
          ],
          [
           "Energy Systems"
          ],
          [
           "Industrial Ecology"
          ],
          [
           "Natural Resources"
          ],
          [
           "Renewable Energy"
          ],
          [
           "Sustainable Development"
          ]
         ],
         "domain": {
          "x": [
           0,
           1
          ],
          "y": [
           0,
           1
          ]
         },
         "hovertemplate": "labels=%{label}<br>count=%{value}<br>parent=%{parent}<br>id=%{id}<br>sector=%{customdata[0]}<extra></extra>",
         "ids": [
          "Natural Resources/Water Supply and Quality/<a href=\"https://github.com/lanl-ansi/WaterModels.jl.git\">WaterModels.jl</a>",
          "Earth Systems/Cryosphere/<a href=\"https://github.com/krisrs1128/glacier_mapping.git\">Glacier Mapping From Satellite Imagery</a>",
          "Consumption of Energy and Resources/Computation and Communication/<a href=\"https://github.com/kube-green/kube-green.git\">kube-green</a>",
          "Natural Resources/Agriculture and Nutrition/<a href=\"https://github.com/kwstat/agridat.git\">Agridat</a>",
          "Consumption of Energy and Resources/Computation and Communication/<a href=\"https://github.com/kylemcdonald/ethereum-nft-activity.git\">cryptoart-footprint</a>",
          "Consumption of Energy and Resources/Computation and Communication/<a href=\"https://github.com/kylemcdonald/ethereum-nft-activity.git\">ethereum-nft-activity</a>",
          "Climate and Earth Science/Earth and Climate Modeling/<a href=\"https://github.com/ladybug-tools/dragonfly-legacy.git\">Dragonfly for Grasshopper</a>",
          "Renewable Energy/Photovoltaics and Solar Energy/<a href=\"https://github.com/ladybug-tools/honeybee.git\">honeybee</a>",
          "Consumption of Energy and Resources/Buildings and Heating/<a href=\"https://github.com/ladybug-tools/uwg.git\">Urban Weather Generator</a>",
          "Natural Resources/Soil and Land/<a href=\"https://github.com/landlab/landlab.git\">Landlab</a>",
          "Energy Storage/Hydrogen/<a href=\"https://github.com/lanl-ansi/GasModels.jl.git\">GasModels.jl</a>",
          "Energy Systems/Energy Distribution and Grids/<a href=\"https://github.com/lanl-ansi/PowerModels.jl.git\">PowerModels.jl</a>",
          "Natural Resources/Air Quality/<a href=\"https://github.com/metno/emep-ctm.git\">Open Source EMEP MSC-W model</a>",
          "Climate and Earth Science/Climate Data Processing and Access/<a href=\"https://github.com/metno/esd.git\">esd</a>",
          "Sustainable Development/Data Catalogs and Interfaces/<a href=\"https://github.com/microsoft/AIforEarthDataSets.git\">AI for Earth Data Sets</a>",
          "Sustainable Development/Data Catalogs and Interfaces/<a href=\"https://github.com/microsoft/PlanetaryComputerDataCatalog.git\">Planetary Computer Data Catalog</a>",
          "Earth Systems/Biosphere/<a href=\"https://github.com/microsoft/aerial_wildlife_detection.git\">Annotation Interface for Data-driven Ecology</a>",
          "Climate and Earth Science/Climate Data Processing and Access/<a href=\"https://github.com/mikejohnson51/climateR.git\">climateR</a>",
          "Emissions/Emission Observation and Modeling/<a href=\"https://github.com/milankl/FlyingClimate.git\">FlyingClimate</a>",
          "Earth Systems/Atmosphere/<a href=\"https://github.com/mjucker/MiMA.git\">MiMA</a>",
          "Earth Systems/Hydrosphere/<a href=\"https://github.com/mkoohafkan/rivr.git\">rivr</a>",
          "Consumption of Energy and Resources/Computation and Communication/<a href=\"https://github.com/mlco2/codecarbon.git\">CodeCarbon</a>",
          "Consumption of Energy and Resources/Computation and Communication/<a href=\"https://github.com/mlco2/impact.git\">impact</a>",
          "Emissions/Emission Observation and Modeling/<a href=\"https://github.com/mmb-carb/ESTA.git\">ESTA</a>",
          "Consumption of Energy and Resources/Mobility and Transportation/<a href=\"https://github.com/mobilityhouse/ocpp.git\">ocpp</a>",
          "Natural Resources/Water Supply and Quality/<a href=\"https://github.com/modflowpy/flopy.git\">flopy</a>",
          "Natural Resources/Soil and Land/<a href=\"https://github.com/moja-global/About_moja_global.git\">Full Lands INtegration Tool</a>",
          "Climate and Earth Science/Earth and Climate Modeling/<a href=\"https://github.com/mom-ocean/MOM5.git\">MOM5</a>",
          "Climate and Earth Science/Earth and Climate Modeling/<a href=\"https://github.com/monocongo/climate_indices.git\">Climate_Indices</a>",
          "Natural Resources/Agriculture and Nutrition/<a href=\"https://github.com/morkro/happy-plants.git\">HappyPlants</a>",
          "Industrial Ecology/Life Cycle Assessment/<a href=\"https://github.com/konstantinstadler/pymrio.git\">pymrio</a>",
          "Natural Resources/Water Supply and Quality/<a href=\"https://github.com/mroberge/hydrofunctions.git\">HydroFunctions</a>",
          "Energy Systems/Datasets on Energy Systems/<a href=\"https://github.com/kmax12/gridstatus.git\">isodata</a>",
          "Energy Systems/Energy Modeling and Optimization/<a href=\"https://github.com/kbaranko/peaky-finders.git\">Peaky Finders</a>",
          "Energy Systems/Energy Distribution and Grids/<a href=\"https://github.com/lanl-ansi/PowerModelsAnnex.jl.git\">PowerModelsAnnex.jl</a>",
          "Climate and Earth Science/Climate Data Processing and Access/<a href=\"https://github.com/meteostat/meteostat-python.git\">Meteostat Python</a>",
          "Climate and Earth Science/Climate Data Processing and Access/<a href=\"https://github.com/meteoinfo/MeteoInfo.git\">MeteoInfo</a>",
          "Earth Systems/Hydrosphere/<a href=\"https://github.com/meom-group/CDFTOOLS.git\">CDFTOOLS</a>",
          "Renewable Energy/Photovoltaics and Solar Energy/<a href=\"https://github.com/meltaxa/solariot.git\">solariot</a>",
          "Natural Resources/Water Supply and Quality/<a href=\"https://github.com/mdbartos/pysheds.git\">pysheds</a>",
          "Natural Resources/Water Supply and Quality/<a href=\"https://github.com/mdbartos/pipedream.git\">pipedream</a>",
          "Climate and Earth Science/Climate Data Processing and Access/<a href=\"https://github.com/mathworks/climatedatastore.git\">Climate Data Store Toolbox for MATLAB</a>",
          "Energy Storage/Hydrogen/<a href=\"https://github.com/mathworks/Fuel-Cell-Vehicle-Model-Simscape.git\">Vehicle with Fuel Cell Powertrain</a>",
          "Natural Resources/Soil and Land/<a href=\"https://github.com/martibosch/pylandstats.git\">PyLandStats</a>",
          "Earth Systems/Biosphere/<a href=\"https://github.com/martibosch/detectree.git\">DetecTree</a>",
          "Consumption of Energy and Resources/Computation and Communication/<a href=\"https://github.com/marmelab/argos.git\">argos</a>",
          "Consumption of Energy and Resources/Mobility and Transportation/<a href=\"https://github.com/marlinarnz/quetzal_germany.git\">quetzal_germany</a>",
          "Industrial Ecology/Circular Economy and Waste/<a href=\"https://github.com/marine-debris/marine-debris.github.io.git\">MARIDA</a>",
          "Earth Systems/Biosphere/<a href=\"https://github.com/mapme-initiative/mapme.biodiversity.git\">mapme.biodiversity</a>",
          "Natural Resources/Agriculture and Nutrition/<a href=\"https://github.com/maja601/EuroCrops.git\">EuroCrops</a>",
          "Natural Resources/Air Quality/<a href=\"https://github.com/mainmatter/breethe-server.git\">breethe-server</a>",
          "Natural Resources/Agriculture and Nutrition/<a href=\"https://github.com/magpiemodel/magpie.git\">MAgPIE</a>",
          "Consumption of Energy and Resources/Mobility and Transportation/<a href=\"https://github.com/maasglobal/maas-schemas.git\">MaaS Global</a>",
          "Energy Systems/Datasets on Energy Systems/<a href=\"https://github.com/m4rz910/NYISOToolkit.git\">NYISOToolkit</a>",
          "Earth Systems/Biosphere/<a href=\"https://github.com/ltrr-arizona-edu/burnr.git\">burnr</a>",
          "Energy Storage/Battery/<a href=\"https://github.com/lionsimbatoolbox/LIONSIMBA.git\">LIONSIMBA</a>",
          "Sustainable Development/Knowledge Platforms/<a href=\"https://github.com/lf-energy/lfenergy-landscape.git\">Linux Foundation Energy Landscape</a>",
          "Energy Systems/Energy Modeling and Optimization/<a href=\"https://github.com/leonardgoeke/AnyMOD.jl.git\">AnyMOD.jl</a>",
          "Consumption of Energy and Resources/Buildings and Heating/<a href=\"https://github.com/lbl-srg/obc.git\">obc</a>",
          "Consumption of Energy and Resources/Buildings and Heating/<a href=\"https://github.com/lbl-srg/modelica-buildings.git\">Modelica Buildings library</a>",
          "Consumption of Energy and Resources/Buildings and Heating/<a href=\"https://github.com/lbl-srg/MPCPy.git\">MPCPy</a>",
          "Renewable Energy/Geothermal Energy/<a href=\"https://github.com/lanl/FEHM.git\">FEHM</a>",
          "Natural Resources/Agriculture and Nutrition/<a href=\"https://github.com/kazulagi/plantFEM.git\">plantFEM</a>",
          "Renewable Energy/Photovoltaics and Solar Energy/<a href=\"https://github.com/kdmayer/3D-PV-Locator.git\">PV4GER</a>",
          "Consumption of Energy and Resources/Mobility and Transportation/<a href=\"https://github.com/mszell/bikenwgrowth.git\">Growing Urban Bicycle Networks</a>",
          "Consumption of Energy and Resources/Mobility and Transportation/<a href=\"https://github.com/mdolab/openconcept.git\">OpenConcept</a>",
          "Earth Systems/Hydrosphere/<a href=\"https://github.com/mvdh7/PyCO2SYS.git\">PyCO2SYS</a>",
          "Climate and Earth Science/Meteorological Observation and Forecast/<a href=\"https://github.com/open-meteo/open-meteo.git\">Open-Meteo</a>",
          "Sustainable Development/Sustainable Development Goals/<a href=\"https://github.com/open-sdg/open-sdg.git\">open-sdg</a>",
          "Energy Systems/Energy Modeling and Optimization/<a href=\"https://github.com/openENTRANCE/openentrance.git\">openENTRANCE</a>",
          "Natural Resources/Air Quality/<a href=\"https://github.com/openaq/openaq-api-v2.git\">OpenAQ API Version 2</a>",
          "Natural Resources/Air Quality/<a href=\"https://github.com/openaq/openaq-fetch.git\">OpenAQ Data Ingest Pipeline</a>",
          "Consumption of Energy and Resources/Mobility and Transportation/<a href=\"https://github.com/openchargemap/ocm-system.git\">Open Charge Map</a>",
          "Climate and Earth Science/Earth and Climate Modeling/<a href=\"https://github.com/openclimatedata/pyhector.git\">pyhector</a>",
          "Emissions/Carbon Intensity and Accounting/<a href=\"https://github.com/openclimatedata/unfccc-detailed-data-by-party.git\">UNFCCC emissions data</a>",
          "Sustainable Development/Data Catalogs and Interfaces/<a href=\"https://github.com/openclimatefix/Satip.git\">Satip</a>",
          "Renewable Energy/Photovoltaics and Solar Energy/<a href=\"https://github.com/openclimatefix/nowcasting.git\">Solar electricity Nowcasting</a>",
          "Renewable Energy/Photovoltaics and Solar Energy/<a href=\"https://github.com/openclimatefix/predict_pv_yield.git\">predict_pv_yield</a>",
          "Renewable Energy/Photovoltaics and Solar Energy/<a href=\"https://github.com/openclimatefix/pvoutput.git\">pvoutput</a>",
          "Natural Resources/Air Quality/<a href=\"https://github.com/opendata-stuttgart/sensor.community.git\">Sensor.Community</a>",
          "Natural Resources/Air Quality/<a href=\"https://github.com/opendata-stuttgart/sensors-software.git\">opendata-stuttgart</a>",
          "Energy Systems/Energy Monitoring and Control/<a href=\"https://github.com/openeemeter/eemeter.git\">eemeter</a>",
          "Earth Systems/Atmosphere/<a href=\"https://github.com/openeemeter/eeweather.git\">eeweather</a>",
          "Energy Systems/Energy Distribution and Grids/<a href=\"https://github.com/openego/eDisGo.git\">eDisGo</a>",
          "Energy Systems/Energy Monitoring and Control/<a href=\"https://github.com/openenergymonitor/EmonLib.git\">EmonLib</a>",
          "Energy Systems/Energy Monitoring and Control/<a href=\"https://github.com/openenergymonitor/emonpi.git\">emonpi</a>",
          "Natural Resources/Agriculture and Nutrition/<a href=\"https://github.com/openfarmcc/OpenFarm.git\">OpenFarm</a>",
          "Natural Resources/Agriculture and Nutrition/<a href=\"https://github.com/openfoodfacts/openfoodfacts-server.git\">openfoodfacts-server</a>",
          "Natural Resources/Agriculture and Nutrition/<a href=\"https://github.com/openfoodfoundation/openfoodnetwork.git\">openfoodnetwork</a>",
          "Earth Systems/Biosphere/<a href=\"https://github.com/openforis/sepal.git\">SEPAL</a>",
          "Sustainable Development/Data Catalogs and Interfaces/<a href=\"https://github.com/opengeospatial/ogcapi-environmental-data-retrieval.git\">OGC API - Environmental Data Retrieval</a>",
          "Emissions/Emission Observation and Modeling/<a href=\"https://github.com/openghg/openghg.git\">OpenGHG</a>",
          "Energy Systems/Datasets on Energy Systems/<a href=\"https://github.com/opennem/opennem-fe.git\">OpenNEM</a>",
          "Natural Resources/Air Quality/<a href=\"https://github.com/openoakland/woeip.git\">West Oakland Air Quality Project</a>",
          "Natural Resources/Agriculture and Nutrition/<a href=\"https://github.com/mudpi/mudpi-core.git\">MudPi</a>",
          "Earth Systems/Biosphere/<a href=\"https://github.com/openplantpathology/OpenPlantPathology.git\">OpenPlantPathology</a>",
          "Consumption of Energy and Resources/Buildings and Heating/<a href=\"https://github.com/open-ideas/StROBe.git\">StROBe</a>",
          "Consumption of Energy and Resources/Buildings and Heating/<a href=\"https://github.com/open-ideas/IDEAS.git\">IDEAS</a>",
          "Consumption of Energy and Resources/Mobility and Transportation/<a href=\"https://github.com/openmobilityfoundation/mobility-data-specification.git\">mobility-data-specification</a>",
          "Industrial Ecology/Life Cycle Assessment/<a href=\"https://github.com/oie-mines-paristech/lca_algebraic.git\">lca_algebraic</a>",
          "Earth Systems/Hydrosphere/<a href=\"https://github.com/onaci/leaflet-velocity.git\">leaflet-velocity</a>",
          "Sustainable Development/Data Catalogs and Interfaces/<a href=\"https://github.com/mysociety/caps.git\">Climate Action Plans</a>",
          "Earth Systems/Cryosphere/<a href=\"https://github.com/nansencenter/sea_ice_drift.git\">Sea ice drift</a>",
          "Climate and Earth Science/Climate Data Processing and Access/<a href=\"https://github.com/nasa/NASAaccess.git\">NASAaccess</a>",
          "Sustainable Development/Data Catalogs and Interfaces/<a href=\"https://github.com/nasa/earthdata-search.git\">Earthdata Search</a>",
          "Natural Resources/Agriculture and Nutrition/<a href=\"https://github.com/nasaharvest/cropharvest.git\">CropHarvest</a>",
          "Sustainable Development/Sustainable Investment/<a href=\"https://github.com/natcap/invest.git\">Integrated Valuation of Ecosystem Services and Tradeoffs</a>",
          "Climate and Earth Science/Climate Data Processing and Access/<a href=\"https://github.com/nco/nco.git\">NCO</a>",
          "Climate and Earth Science/Climate Data Processing and Access/<a href=\"https://github.com/nco/pynco.git\">pynco</a>",
          "Natural Resources/Soil and Land/<a href=\"https://github.com/ncss-tech/aqp.git\">AQP</a>",
          "Natural Resources/Soil and Land/<a href=\"https://github.com/ncss-tech/sharpshootR.git\">sharpshootR</a>",
          "Natural Resources/Soil and Land/<a href=\"https://github.com/ncss-tech/soilDB.git\">soilDB</a>",
          "Natural Resources/Soil and Land/<a href=\"https://github.com/ncss-tech/soilReports.git\">soilReports</a>",
          "Natural Resources/Water Supply and Quality/<a href=\"https://github.com/neuralhydrology/neuralhydrology.git\">NeuralHydrology</a>",
          "Earth Systems/Cryosphere/<a href=\"https://github.com/nasa-jpl/captoolkit.git\">captoolkit</a>",
          "Consumption of Energy and Resources/Buildings and Heating/<a href=\"https://github.com/nilmtk/nilmtk.git\">NILM</a>",
          "Energy Storage/Battery/<a href=\"https://github.com/offgridsystems/Documents.git\">offgridsystems</a>",
          "Consumption of Energy and Resources/Buildings and Heating/<a href=\"https://github.com/oemof/tespy.git\">tespy</a>",
          "Energy Systems/Energy Modeling and Optimization/<a href=\"https://github.com/niclasmattsson/GlobalEnergyGIS.git\">GlobalEnergyGIS</a>",
          "Energy Systems/Energy Modeling and Optimization/<a href=\"https://github.com/oemof/oemof.git\">oemof</a>",
          "Energy Systems/Energy Modeling and Optimization/<a href=\"https://github.com/oemof/oemof-thermal.git\">oemof-thermal</a>",
          "Energy Systems/Energy Modeling and Optimization/<a href=\"https://github.com/oemof/oemof-solph.git\">oemof-solph</a>",
          "Renewable Energy/Photovoltaics and Solar Energy/<a href=\"https://github.com/oemof/feedinlib.git\">feedinlib</a>",
          "Climate and Earth Science/Earth and Climate Modeling/<a href=\"https://github.com/mzelinka/cmip56_forcing_feedback_ecs.git\">cmip56_forcing_feedback_ecs</a>",
          "Consumption of Energy and Resources/Buildings and Heating/<a href=\"https://github.com/oemof/DHNx.git\">DHNx</a>",
          "Sustainable Development/Data Catalogs and Interfaces/<a href=\"https://github.com/nsidc/earthdata.git\">earthdata</a>",
          "Earth Systems/Cryosphere/<a href=\"https://github.com/nsidc/qgreenland.git\">QGreenland</a>",
          "Energy Systems/Energy Modeling and Optimization/<a href=\"https://github.com/oemof/demandlib.git\">demandlib</a>",
          "Earth Systems/Atmosphere/<a href=\"https://github.com/oceanflux-ghg/FluxEngine.git\">FluxEngine</a>",
          "Renewable Energy/Wind Energy/<a href=\"https://github.com/nmstreethran/WindTurbineClassification.git\">WindTurbineClassification</a>",
          "Natural Resources/Natural Hazard and Poverty/<a href=\"https://github.com/oceanmodeling/StormEvents.git\">StormEvents</a>",
          "Consumption of Energy and Resources/Mobility and Transportation/<a href=\"https://github.com/PierrickP/multicycles.git\">multicycles</a>",
          "Earth Systems/Biosphere/<a href=\"https://github.com/Plant-for-the-Planet-org/treecounter-app.git\">Plant-for-the-Planet</a>",
          "Earth Systems/Biosphere/<a href=\"https://github.com/Plant-for-the-Planet-org/treemapper.git\">Tree Mapper App</a>",
          "Earth Systems/Cryosphere/<a href=\"https://github.com/PennyHow/PyTrx.git\">PyTrx</a>",
          "Sustainable Development/Knowledge Platforms/<a href=\"https://github.com/ProjectDrawdown/solutions.git\">ProjectDrawdown</a>",
          "Energy Systems/Energy Modeling and Optimization/<a href=\"https://github.com/PyPSA/PyPSA.git\">PyPSA</a>",
          "Earth Systems/Biosphere/<a href=\"https://github.com/PecanProject/pecan.git\">PEcAn</a>",
          "Energy Systems/Datasets on Energy Systems/<a href=\"https://github.com/PyPSA/atlite.git\">atlite</a>",
          "Energy Systems/Datasets on Energy Systems/<a href=\"https://github.com/PyPSA/powerplantmatching.git\">powerplantmatching</a>",
          "Energy Systems/Energy Modeling and Optimization/<a href=\"https://github.com/PyPSA/pypsa-eur-sec.git\">PyPSA-Eur-Sec</a>",
          "Renewable Energy/Photovoltaics and Solar Energy/<a href=\"https://github.com/PerovskiteSCModelling/IonMonger.git\">IonMonger</a>",
          "Energy Systems/Energy Modeling and Optimization/<a href=\"https://github.com/PowerGenome/PowerGenome.git\">PowerGenome</a>",
          "Energy Systems/Energy Modeling and Optimization/<a href=\"https://github.com/PyPSA/whobs-server.git\">whobs-server</a>",
          "Energy Systems/Energy Modeling and Optimization/<a href=\"https://github.com/PyPSA/technology-data.git\">Energy System Technology Data</a>",
          "Natural Resources/Water Supply and Quality/<a href=\"https://github.com/QGEP/QGEP.git\">QGEP</a>",
          "Industrial Ecology/Life Cycle Assessment/<a href=\"https://github.com/QSD-Group/QSDsan.git\">QSDsan</a>",
          "Natural Resources/Water Supply and Quality/<a href=\"https://github.com/RAJohansen/waterquality.git\">waterquality</a>",
          "Energy Systems/Energy Modeling and Optimization/<a href=\"https://github.com/RAMP-project/RAMP.git\">RAMP</a>",
          "Consumption of Energy and Resources/Buildings and Heating/<a href=\"https://github.com/RE-Lab-Projects/hplib.git\">hplib</a>",
          "Earth Systems/Hydrosphere/<a href=\"https://github.com/RHESSys/RHESSys.git\">RHESSys</a>",
          "Consumption of Energy and Resources/Buildings and Heating/<a href=\"https://github.com/RWTH-EBC/AixLib.git\">AixLib</a>",
          "Consumption of Energy and Resources/Buildings and Heating/<a href=\"https://github.com/RWTH-EBC/TEASER.git\">TEASER</a>",
          "Energy Systems/Energy Modeling and Optimization/<a href=\"https://github.com/RamiKrispin/USelectricity.git\">USelectricity</a>",
          "Renewable Energy/Bioenergy/<a href=\"https://github.com/PecanProject/bety.git\">BETYdb</a>",
          "Sustainable Development/Sustainable Investment/<a href=\"https://github.com/RaphaelPB/WHAT-IF.git\">WHAT-IF</a>",
          "Climate and Earth Science/Radiative Transfer/<a href=\"https://github.com/RemoteSensingTools/vSmartMOM.jl.git\">RadiativeTransfer.jl</a>",
          "Energy Systems/Energy Distribution and Grids/<a href=\"https://github.com/PyPSA/pypsa-eur.git\">PyPSA-Eur</a>",
          "Consumption of Energy and Resources/Mobility and Transportation/<a href=\"https://github.com/RAMP-project/RAMP-mobility.git\">RAMP-mobility</a>",
          "Renewable Energy/Wind Energy/<a href=\"https://github.com/OpenMDAO/OpenMDAO.git\">OpenMDAO</a>",
          "Climate and Earth Science/Climate Data Processing and Access/<a href=\"https://github.com/PCMDI/cmor.git\">Climate Model Output Rewriter</a>",
          "Emissions/Emission Observation and Modeling/<a href=\"https://github.com/OpenCarbonWatch/Website.git\">Open Carbon Watch</a>",
          "Renewable Energy/Photovoltaics and Solar Energy/<a href=\"https://github.com/RentadroneCL/Photovoltaic_Fault_Detector.git\">Photovoltaic_Fault_Detector</a>",
          "Consumption of Energy and Resources/Mobility and Transportation/<a href=\"https://github.com/OpenChargingCloud/ChargyDesktopApp.git\">ChargyDesktopApp</a>",
          "Consumption of Energy and Resources/Mobility and Transportation/<a href=\"https://github.com/OpenChargingCloud/WWCP_Core.git\">WWCP_Core</a>",
          "Consumption of Energy and Resources/Mobility and Transportation/<a href=\"https://github.com/OpenChargingCloud/WWCP_OCPP.git\">WWCP_OCPP</a>",
          "Earth Systems/Hydrosphere/<a href=\"https://github.com/OpenDrift/opendrift.git\">OpenDrift</a>",
          "Energy Systems/Energy Monitoring and Control/<a href=\"https://github.com/OpenEMS/openems.git\">OpenEMS</a>",
          "Consumption of Energy and Resources/Mobility and Transportation/<a href=\"https://github.com/OpenEVSE/ESP8266_WiFi_v2.x.git\">OpenEVSE WiFi gateway</a>",
          "Consumption of Energy and Resources/Mobility and Transportation/<a href=\"https://github.com/OpenEVSE/open_evse.git\">OpenEVSE</a>",
          "Energy Systems/Energy Modeling and Optimization/<a href=\"https://github.com/OpenEnergyPlatform/oeplatform.git\">Open Energy Platform</a>",
          "Energy Systems/Energy Modeling and Optimization/<a href=\"https://github.com/OpenEnergyPlatform/ontology.git\">The Open Energy Ontology</a>",
          "Energy Systems/Datasets on Energy Systems/<a href=\"https://github.com/OpenEnergyPlatform/open-MaStR.git\">open-MaStR</a>",
          "Renewable Energy/Wind Energy/<a href=\"https://github.com/OpenFAST/openfast.git\">openfast</a>",
          "Natural Resources/Soil and Land/<a href=\"https://github.com/OpenFLUID/openfluid.git\">OpenFLUID</a>",
          "Energy Systems/Energy Modeling and Optimization/<a href=\"https://github.com/OpenIPSL/OpenIPSL.git\">OpenIPSL</a>",
          "Industrial Ecology/Circular Economy and Waste/<a href=\"https://github.com/OpenLitterMap/openlittermap-web.git\">OpenLitterMap</a>",
          "Consumption of Energy and Resources/Production and Industry/<a href=\"https://github.com/OpenModelica/OpenModelica.git\">OpenModelica</a>",
          "Energy Systems/Energy Modeling and Optimization/<a href=\"https://github.com/OpenSTEF/openstef.git\">OpenSTEF</a>",
          "Renewable Energy/Hydro Energy/<a href=\"https://github.com/OpenSimHub/OpenHPL.git\">OpenHPL</a>",
          "Earth Systems/Biosphere/<a href=\"https://github.com/OpenTreeMap/otm-core.git\">OpenTreeMap</a>",
          "Natural Resources/Water Supply and Quality/<a href=\"https://github.com/OpenWaterAnalytics/EPANET.git\">EPANET</a>",
          "Natural Resources/Water Supply and Quality/<a href=\"https://github.com/OpenWaterAnalytics/pyswmm.git\">pyswmm</a>",
          "Consumption of Energy and Resources/Computation and Communication/<a href=\"https://github.com/Organic-Basics/ob-low-impact-website.git\">The Low Impact Website</a>",
          "Climate and Earth Science/Climate Data Processing and Access/<a href=\"https://github.com/Ouranosinc/miranda.git\">Miranda</a>",
          "Earth Systems/Hydrosphere/<a href=\"https://github.com/Ouranosinc/raven.git\">Raven</a>",
          "Climate and Earth Science/Climate Data Processing and Access/<a href=\"https://github.com/Ouranosinc/xclim.git\">xclim</a>",
          "Natural Resources/Air Quality/<a href=\"https://github.com/Ozon3Org/Ozon3.git\">Ozone</a>",
          "Natural Resources/Agriculture and Nutrition/<a href=\"https://github.com/PSUmodeling/Cycles.git\">Cycles</a>",
          "Emissions/Emission Observation and Modeling/<a href=\"https://github.com/Ribbit-Network/ribbit-network-frog-sensor.git\">Ribbit Network Frog Sensor</a>",
          "Consumption of Energy and Resources/Buildings and Heating/<a href=\"https://github.com/TEB-model/teb.git\">teb</a>",
          "Consumption of Energy and Resources/Buildings and Heating/<a href=\"https://github.com/SEED-platform/seed.git\">SEED</a>",
          "Natural Resources/Soil and Land/<a href=\"https://github.com/TUW-GEO/pytesmo.git\">pytesmo</a>",
          "Energy Systems/Energy Modeling and Optimization/<a href=\"https://github.com/TemoaProject/oeo.git\">Open Energy Outlook</a>",
          "Energy Systems/Energy Modeling and Optimization/<a href=\"https://github.com/TemoaProject/temoa.git\">Temoa</a>",
          "Energy Systems/Energy Modeling and Optimization/<a href=\"https://github.com/Thales1330/PSP.git\">PSP-UFU</a>",
          "Industrial Ecology/Circular Economy and Waste/<a href=\"https://github.com/TheOceanCleanupAlgorithms/ADVECT.git\">ADVECTOR</a>",
          "Energy Systems/Energy Distribution and Grids/<a href=\"https://github.com/Total-RD/pymgrid.git\">pymgrid</a>",
          "Natural Resources/Water Supply and Quality/<a href=\"https://github.com/UMN-Hydro/GSFLOW-GRASS.git\">GSFLOW-GRASS</a>",
          "Energy Systems/Energy Modeling and Optimization/<a href=\"https://github.com/UNSW-CEEM/nempy.git\">nempy</a>",
          "Natural Resources/Air Quality/<a href=\"https://github.com/USEPA/AMET.git\">AMET</a>",
          "Natural Resources/Air Quality/<a href=\"https://github.com/USEPA/Air-Trends-Report.git\">Air-Trends-Report</a>",
          "Natural Resources/Air Quality/<a href=\"https://github.com/USEPA/CMAQ.git\">CMAQ</a>",
          "Industrial Ecology/Life Cycle Assessment/<a href=\"https://github.com/USEPA/ElectricityLCI.git\">Electricity Life Cycle Inventory</a>",
          "Natural Resources/Soil and Land/<a href=\"https://github.com/TUW-GEO/ismn.git\">ismn</a>",
          "Industrial Ecology/Life Cycle Assessment/<a href=\"https://github.com/USEPA/Federal-LCA-Commons-Elementary-Flow-List.git\">fedelemflowlist</a>",
          "Natural Resources/Water Supply and Quality/<a href=\"https://github.com/USEPA/Stormwater-Management-Model.git\">Stormwater-Management-Model</a>",
          "Natural Resources/Water Supply and Quality/<a href=\"https://github.com/USEPA/TADA.git\">TADA</a>",
          "Natural Resources/Water Supply and Quality/<a href=\"https://github.com/USEPA/WNTR.git\">Water Network Tool for Resilience</a>",
          "Industrial Ecology/Life Cycle Assessment/<a href=\"https://github.com/USEPA/useeior.git\">useeior</a>",
          "Natural Resources/Water Supply and Quality/<a href=\"https://github.com/USGS-R/EGRET.git\">EGRET</a>",
          "Natural Resources/Water Supply and Quality/<a href=\"https://github.com/USGS-R/HASP.git\">HASP</a>",
          "Natural Resources/Water Supply and Quality/<a href=\"https://github.com/USGS-R/dataRetrieval.git\">dataRetrieval</a>",
          "Natural Resources/Water Supply and Quality/<a href=\"https://github.com/USGS-R/nhdplusTools.git\">nhdplusTools</a>",
          "Earth Systems/Hydrosphere/<a href=\"https://github.com/USGS-R/river-dl.git\">river-dl</a>",
          "Natural Resources/Water Supply and Quality/<a href=\"https://github.com/USGS-python/dataretrieval.git\">dataretrieval</a>",
          "Earth Systems/Hydrosphere/<a href=\"https://github.com/UU-Hydro/PCR-GLOBWB_model.git\">PCR-GLOBWB_model</a>",
          "Earth Systems/Atmosphere/<a href=\"https://github.com/Open-MSS/MSS.git\">Mission Support System</a>",
          "Natural Resources/Air Quality/<a href=\"https://github.com/USEPA/RAQSAPI.git\">RAQSAPI</a>",
          "Natural Resources/Soil and Land/<a href=\"https://github.com/TUW-GEO/esa_cci_sm.git\">esa_cci_sm</a>",
          "Energy Storage/Battery/<a href=\"https://github.com/TRI-AMDD/beep.git\">beep</a>",
          "Consumption of Energy and Resources/Mobility and Transportation/<a href=\"https://github.com/SwitchEV/RISE-V2G.git\">RISE-V2G</a>",
          "Climate and Earth Science/Earth and Climate Modeling/<a href=\"https://github.com/SERVIR/ClimateSERV2.git\">ClimateSERV</a>",
          "Climate and Earth Science/Earth and Climate Modeling/<a href=\"https://github.com/SERVIR/ClimateSERVpy.git\">ClimateSERVpy</a>",
          "Earth Systems/Biosphere/<a href=\"https://github.com/SKrisanski/FSCT.git\">Forest Structural Complexity Tool</a>",
          "Renewable Energy/Hydro Energy/<a href=\"https://github.com/SNL-WaterPower/CACTUS.git\">CACTUS</a>",
          "Renewable Energy/Hydro Energy/<a href=\"https://github.com/SNL-WaterPower/WecOptTool.git\">WecOptTool</a>",
          "Consumption of Energy and Resources/Mobility and Transportation/<a href=\"https://github.com/STS-Rosario/carpoolear.git\">Carpoolear</a>",
          "Natural Resources/Air Quality/<a href=\"https://github.com/Safecast/safecastapi.git\">Safecast</a>",
          "Energy Storage/Battery/<a href=\"https://github.com/Samuel-Buteau/universal-battery-database.git\">universal-battery-database</a>",
          "Energy Systems/Energy Distribution and Grids/<a href=\"https://github.com/SanPen/GridCal.git\">GridCal</a>",
          "Climate and Earth Science/Earth and Climate Modeling/<a href=\"https://github.com/SantanderMetGroup/DeepDownscaling.git\">DeepDownscaling</a>",
          "Climate and Earth Science/Climate Data Processing and Access/<a href=\"https://github.com/SantanderMetGroup/climate4R.git\">climate4R</a>",
          "Climate and Earth Science/Earth and Climate Modeling/<a href=\"https://github.com/SantanderMetGroup/downscaleR.git\">downscaleR</a>",
          "Climate and Earth Science/Climate Data Processing and Access/<a href=\"https://github.com/SantanderMetGroup/loadeR.git\">loadeR</a>",
          "Earth Systems/Hydrosphere/<a href=\"https://github.com/SciTools/iris.git\">Iris</a>",
          "Sustainable Development/Sustainable Investment/<a href=\"https://github.com/ScienceBasedTargets/SBTi-finance-tool.git\">SBTi Temperature Alignment tool</a>",
          "Natural Resources/Natural Hazard and Poverty/<a href=\"https://github.com/Servir-Mekong/hydra-floods.git\">HYDRAFloods</a>",
          "Consumption of Energy and Resources/Mobility and Transportation/<a href=\"https://github.com/ShellRechargeSolutionsEU/docile-charge-point.git\">docile-charge-point</a>",
          "Natural Resources/Agriculture and Nutrition/<a href=\"https://github.com/Shyentist/fish-r-man.git\">fishRman</a>",
          "Consumption of Energy and Resources/Mobility and Transportation/<a href=\"https://github.com/SmartEVSE/smartevse.git\">SmartEVSE</a>",
          "Renewable Energy/Geothermal Energy/<a href=\"https://github.com/SmartTensors/GeoThermalCloud.jl.git\">GeoThermalCloud.jl</a>",
          "Natural Resources/Soil and Land/<a href=\"https://github.com/SoilWatch/soil-erosion-watch.git\">Soil Erosion Watch</a>",
          "Renewable Energy/Photovoltaics and Solar Energy/<a href=\"https://github.com/SolarArbiter/solarforecastarbiter-core.git\">Solar Forecast Arbiter</a>",
          "Renewable Energy/Photovoltaics and Solar Energy/<a href=\"https://github.com/SolarTherm/SolarTherm.git\">SolarTherm</a>",
          "Earth Systems/Biosphere/<a href=\"https://github.com/SpeciesFileGroup/taxonworks.git\">TaxonWorks</a>",
          "Energy Systems/Energy Modeling and Optimization/<a href=\"https://github.com/Spine-project/Spine-Toolbox.git\">Spine-Toolbox</a>",
          "Renewable Energy/Photovoltaics and Solar Energy/<a href=\"https://github.com/SunPower/PVMismatch.git\">PVMismatch</a>",
          "Renewable Energy/Photovoltaics and Solar Energy/<a href=\"https://github.com/SunPower/pvfactors.git\">pvfactors</a>",
          "Consumption of Energy and Resources/Mobility and Transportation/<a href=\"https://github.com/SAP/emobility-smart-charging.git\">emobility-smart-charging</a>",
          "Natural Resources/Water Supply and Quality/<a href=\"https://github.com/Open-ET/openet-ssebop.git\">OpenET</a>",
          "Climate and Earth Science/Climate Data Processing and Access/<a href=\"https://github.com/SantanderMetGroup/ATLAS.git\">ATLAS</a>",
          "Consumption of Energy and Resources/Mobility and Transportation/<a href=\"https://github.com/OneBusAway/onebusaway-android.git\">OneBusAway</a>",
          "Sustainable Development/Data Catalogs and Interfaces/<a href=\"https://github.com/Open-EO/openeo-python-client.git\">openEO</a>",
          "Earth Systems/Cryosphere/<a href=\"https://github.com/OGGM/oggm.git\">OGGM</a>",
          "Energy Systems/Energy Distribution and Grids/<a href=\"https://github.com/OSGP/open-smart-grid-platform.git\">Open Smart Grid Platform</a>",
          "Natural Resources/Water Supply and Quality/<a href=\"https://github.com/OSOceanAcoustics/echopype.git\">Echopype</a>",
          "Emissions/Emission Observation and Modeling/<a href=\"https://github.com/OSUKED/ETS-Watch.git\">ETS-Watch</a>",
          "Industrial Ecology/Circular Economy and Waste/<a href=\"https://github.com/ONEARMY/precious-plastic.git\">ONEARMY</a>",
          "Energy Systems/Datasets on Energy Systems/<a href=\"https://github.com/OSUKED/Power-Station-Dictionary.git\">Power Station Dictionary</a>",
          "Natural Resources/Natural Hazard and Poverty/<a href=\"https://github.com/OasisLMF/OasisLMF.git\">OasisLMF</a>",
          "Earth Systems/Atmosphere/<a href=\"https://github.com/OasisLMF/OasisPiWind.git\">OasisPiWind</a>",
          "Earth Systems/Hydrosphere/<a href=\"https://github.com/OceanParcels/parcels.git\">parcels</a>",
          "Energy Systems/Energy Modeling and Optimization/<a href=\"https://github.com/OnSSET/onsset.git\">onsset</a>",
          "Energy Systems/Datasets on Energy Systems/<a href=\"https://github.com/OSUKED/ElexonDataPortal.git\">ElexonDataPortal</a>",
          "Natural Resources/Soil and Land/<a href=\"https://github.com/e-sensing/sits.git\">SITS</a>",
          "Climate and Earth Science/Meteorological Observation and Forecast/<a href=\"https://github.com/earthobservations/wetterdienst.git\">wetterdienst</a>",
          "Earth Systems/Biosphere/<a href=\"https://github.com/earthlab/firedpy.git\">FIREDpy</a>",
          "Climate and Earth Science/Radiative Transfer/<a href=\"https://github.com/earth-system-radiation/rte-rrtmgp.git\">RTE+RRTMGP</a>",
          "Earth Systems/Hydrosphere/<a href=\"https://github.com/eWaterCycle/ewatercycle.git\">eWaterCycle</a>",
          "Natural Resources/Soil and Land/<a href=\"https://github.com/eMapR/LT-GEE.git\">LT-GEE</a>",
          "Energy Systems/Energy Distribution and Grids/<a href=\"https://github.com/e2nIEE/simbench.git\">SimBench</a>",
          "Energy Storage/Hydrogen/<a href=\"https://github.com/e2nIEE/pandapipes.git\">pandapipes</a>",
          "Sustainable Development/Sustainable Development Goals/<a href=\"https://github.com/dwulff/text2sdg.git\">text2sdg</a>",
          "Consumption of Energy and Resources/Mobility and Transportation/<a href=\"https://github.com/diowa/icare.git\">icare</a>",
          "Consumption of Energy and Resources/Buildings and Heating/<a href=\"https://github.com/dsmrreader/dsmr-reader.git\">DSMR-reader</a>",
          "Energy Systems/Energy Modeling and Optimization/<a href=\"https://github.com/dpinney/omf.git\">Open Modeling Framework</a>",
          "Consumption of Energy and Resources/Computation and Communication/<a href=\"https://github.com/dos-group/leaf.git\">LEAF</a>",
          "Natural Resources/Agriculture and Nutrition/<a href=\"https://github.com/dl4sits/BreizhCrops.git\">BreizhCrops</a>",
          "Renewable Energy/Wind Energy/<a href=\"https://github.com/ebranlard/welib.git\">welib</a>",
          "Sustainable Development/Data Catalogs and Interfaces/<a href=\"https://github.com/digitalearthafrica/deafrica-sandbox-notebooks.git\">Digital Earth Africa Notebooks</a>",
          "Energy Systems/Energy Modeling and Optimization/<a href=\"https://github.com/derevirn/renewcast.git\">Renewcast</a>",
          "Climate and Earth Science/Climate Data Processing and Access/<a href=\"https://github.com/deepsphere/deepsphere-pytorch.git\">DeepSphere</a>",
          "Energy Storage/Battery/<a href=\"https://github.com/dsr-18/long-live-the-battery.git\">long-live-the-battery</a>",
          "Natural Resources/Natural Hazard and Poverty/<a href=\"https://github.com/ec-jrc/lisflood-code.git\">LISFLOOD</a>",
          "Climate and Earth Science/Climate Data Processing and Access/<a href=\"https://github.com/ecmwf/cfgrib.git\">cfgrib</a>",
          "Climate and Earth Science/Earth and Climate Modeling/<a href=\"https://github.com/ecmwf-ifs/ecrad.git\">ECRAD</a>",
          "Energy Systems/Energy Distribution and Grids/<a href=\"https://github.com/energywebfoundation/origin.git\">origin</a>",
          "Energy Systems/Energy Modeling and Optimization/<a href=\"https://github.com/energyRt/energyRt.git\">energyRt</a>",
          "Renewable Energy/Hydro Energy/<a href=\"https://github.com/energy-modelling-toolkit/hydro-power-database.git\">hydro-power-database</a>",
          "Energy Systems/Energy Modeling and Optimization/<a href=\"https://github.com/energy-modelling-toolkit/Dispa-SET.git\">Dispa-SET</a>",
          "Energy Systems/Datasets on Energy Systems/<a href=\"https://github.com/enechange/EnergyDataSimulationChallenge.git\">EnergyDataSimulationChallenge</a>",
          "Energy Systems/Energy Monitoring and Control/<a href=\"https://github.com/emoncms/emoncms.git\">Emoncms</a>",
          "Emissions/Emission Observation and Modeling/<a href=\"https://github.com/emissions-api/emissions-api.git\">emissions-api</a>",
          "Climate and Earth Science/Meteorological Observation and Forecast/<a href=\"https://github.com/eliocamp/metR.git\">metR</a>",
          "Emissions/Carbon Intensity and Accounting/<a href=\"https://github.com/electricitymaps/electricitymaps-contrib.git\">Electricity Maps</a>",
          "Sustainable Development/Data Catalogs and Interfaces/<a href=\"https://github.com/eea/geonetwork-eea.git\">EEA geospatial data catalogue</a>",
          "Natural Resources/Water Supply and Quality/<a href=\"https://github.com/ed-hawkins/rainfall-rescue.git\">RainfallRescue</a>",
          "Earth Systems/Biosphere/<a href=\"https://github.com/eco-hydro/phenofit.git\">phenofit</a>",
          "Sustainable Development/Data Catalogs and Interfaces/<a href=\"https://github.com/ecmwf/ecmwf-opendata.git\">ecmwf-opendata</a>",
          "Climate and Earth Science/Climate Data Processing and Access/<a href=\"https://github.com/ecmwf/climetlab.git\">climetlab</a>",
          "Energy Storage/Battery/<a href=\"https://github.com/davidhowey/SLIDE.git\">SLIDE</a>",
          "Climate and Earth Science/Climate Data Processing and Access/<a href=\"https://github.com/ecmwf/cdsapi.git\">cdsapi</a>",
          "Earth Systems/Biosphere/<a href=\"https://github.com/ecmwf/caliver.git\">caliver</a>",
          "Climate and Earth Science/Earth and Climate Modeling/<a href=\"https://github.com/ecmwf/atlas.git\">atlas</a>",
          "Consumption of Energy and Resources/Buildings and Heating/<a href=\"https://github.com/ecmwf-projects/thermofeel.git\">Thermofeel</a>",
          "Earth Systems/Hydrosphere/<a href=\"https://github.com/ecjoliver/marineHeatWaves.git\">marineHeatWaves</a>",
          "Natural Resources/Air Quality/<a href=\"https://github.com/davidcarslaw/openair.git\">openair</a>",
          "Consumption of Energy and Resources/Mobility and Transportation/<a href=\"https://github.com/cyclestreets/cyclestreets-r.git\">cyclestreets</a>",
          "Earth Systems/Hydrosphere/<a href=\"https://github.com/dankelley/oce.git\">oce</a>",
          "Earth Systems/Hydrosphere/<a href=\"https://github.com/chrisleaman/py-wave-runup.git\">py-wave-runup</a>",
          "Renewable Energy/Geothermal Energy/<a href=\"https://github.com/charxie/multiphysics.git\">multiphysics</a>",
          "Consumption of Energy and Resources/Mobility and Transportation/<a href=\"https://github.com/chargeprice/open-ev-data.git\">open-ev-data</a>",
          "Earth Systems/Cryosphere/<a href=\"https://github.com/chadagreene/BedMachine.git\">BedMachine</a>",
          "Climate and Earth Science/Climate Data Processing and Access/<a href=\"https://github.com/cf-convention/cf-conventions.git\">cf-conventions</a>",
          "Climate and Earth Science/Climate Data Processing and Access/<a href=\"https://github.com/cerfacs-globc/icclim.git\">icclim</a>",
          "Earth Systems/Biosphere/<a href=\"https://github.com/cdmuir/photosynthesis.git\">photosynthesis</a>",
          "Energy Systems/Datasets on Energy Systems/<a href=\"https://github.com/catalyst-cooperative/pudl.git\">The Public Utility Data Liberation Project</a>",
          "Earth Systems/Biosphere/<a href=\"https://github.com/carlos-alberto-silva/rGEDI.git\">rGEDI</a>",
          "Earth Systems/Biosphere/<a href=\"https://github.com/carbonplan/forest-risks.git\">forest-risks</a>",
          "Climate and Earth Science/Climate Data Processing and Access/<a href=\"https://github.com/carbonplan/cmip6-downscaling.git\">cmip6-downscaling</a>",
          "Emissions/Carbon Capture and Removel/<a href=\"https://github.com/carbonplan/cdr-database.git\">Carbon Dioxide Removal Database</a>",
          "Consumption of Energy and Resources/Computation and Communication/<a href=\"https://github.com/carbonalyser/Carbonalyser.git\">Carbonalyser</a>",
          "Renewable Energy/Hydro Energy/<a href=\"https://github.com/capytaine/capytaine.git\">Capytaine</a>",
          "Energy Systems/Energy Modeling and Optimization/<a href=\"https://github.com/calliope-project/euro-calliope.git\">Euro-Calliope</a>",
          "Energy Systems/Energy Modeling and Optimization/<a href=\"https://github.com/calliope-project/calliope.git\">Calliope</a>",
          "Earth Systems/Atmosphere/<a href=\"https://github.com/byrd-polar/fluid-earth.git\">Fluid Earth</a>",
          "Earth Systems/Biosphere/<a href=\"https://github.com/bullocke/coded.git\">CODED</a>",
          "Renewable Energy/Wind Energy/<a href=\"https://github.com/brightwind-dev/brightwind.git\">brightwind</a>",
          "Climate and Earth Science/Earth and Climate Modeling/<a href=\"https://github.com/chrisroadmap/climateforcing.git\">climateforcing</a>",
          "Emissions/Emission Observation and Modeling/<a href=\"https://github.com/dataforgoodfr/batch7_satellite_ges.git\">oco2peak</a>",
          "Industrial Ecology/Circular Economy and Waste/<a href=\"https://github.com/circularfashion/cf-circularity-id-standard.git\">circularity.ID Open Data Standard</a>",
          "Emissions/Carbon Intensity and Accounting/<a href=\"https://github.com/climatiq/Open-Emission-Factors-DB.git\">Open-Emission-Factors-DB</a>",
          "Renewable Energy/Photovoltaics and Solar Energy/<a href=\"https://github.com/danjulio/MPPT-Solar-Charger.git\">MPPT-Solar-Charger</a>",
          "Earth Systems/Biosphere/<a href=\"https://github.com/danforthcenter/plantcv.git\">PlantCV</a>",
          "Consumption of Energy and Resources/Mobility and Transportation/<a href=\"https://github.com/d-wasserman/Complete_Street_Rule.git\">Complete_Street_Rule</a>",
          "Consumption of Energy and Resources/Mobility and Transportation/<a href=\"https://github.com/cyclosm/cyclosm-cartocss-style.git\">CyclOSM</a>",
          "Consumption of Energy and Resources/Mobility and Transportation/<a href=\"https://github.com/enviroCar/enviroCar-app.git\">enviroCar</a>",
          "Energy Systems/Energy Modeling and Optimization/<a href=\"https://github.com/cuihantao/andes.git\">ANDES</a>",
          "Climate and Earth Science/Earth and Climate Modeling/<a href=\"https://github.com/csyhuang/hn2016_falwa.git\">hn2016_falwa</a>",
          "Climate and Earth Science/Earth and Climate Modeling/<a href=\"https://github.com/csdms/pymt.git\">pymt</a>",
          "Earth Systems/Cryosphere/<a href=\"https://github.com/cryotools/cosipy.git\">cosipy</a>",
          "Energy Systems/Datasets on Energy Systems/<a href=\"https://github.com/cristianst85/GeoNuclearData.git\">GeoNuclearData</a>",
          "Climate and Earth Science/Climate Data Processing and Access/<a href=\"https://github.com/cortinah/hockeystick.git\">hockeystick</a>",
          "Earth Systems/Hydrosphere/<a href=\"https://github.com/cordmaur/WaterDetect.git\">WaterDetect</a>",
          "Consumption of Energy and Resources/Mobility and Transportation/<a href=\"https://github.com/coopcycle/coopcycle-web.git\">CoopCycle</a>",
          "Energy Systems/Energy Modeling and Optimization/<a href=\"https://github.com/com-pas/compas-architecture.git\">CoMPAS</a>",
          "Natural Resources/Water Supply and Quality/<a href=\"https://github.com/codeforboston/safe-water.git\">The Safe Water Project</a>",
          "Consumption of Energy and Resources/Computation and Communication/<a href=\"https://github.com/cnumr/ecoCode.git\">ecoCode</a>",
          "Natural Resources/Natural Hazard and Poverty/<a href=\"https://github.com/cloudtostreet/MODIS_GlobalFloodDatabase.git\">Global Flood Database Scripts & Data</a>",
          "Consumption of Energy and Resources/Computation and Communication/<a href=\"https://github.com/cloud-carbon-footprint/cloud-carbon-footprint.git\">Cloud Carbon Footprint</a>",
          "Climate and Earth Science/Earth and Climate Modeling/<a href=\"https://github.com/climlab/climlab.git\">climlab</a>",
          "Consumption of Energy and Resources/Mobility and Transportation/<a href=\"https://github.com/cityflow-project/CityFlow.git\">CityFlow</a>",
          "Energy Storage/Battery/<a href=\"https://github.com/epri-dev/StorageVET.git\">StorageVET</a>",
          "Consumption of Energy and Resources/Mobility and Transportation/<a href=\"https://github.com/evcc-io/evcc.git\">EVCC</a>",
          "Consumption of Energy and Resources/Mobility and Transportation/<a href=\"https://github.com/eskerda/pybikes.git\">pybikes</a>",
          "Earth Systems/Biosphere/<a href=\"https://github.com/inaturalist/inaturalist.git\">iNaturalist</a>",
          "Natural Resources/Natural Hazard and Poverty/<a href=\"https://github.com/inasafe/inasafe.git\">InaSAFE</a>",
          "Climate and Earth Science/Integrated Assessment/<a href=\"https://github.com/iiasa/message_ix.git\">MESSAGEix</a>",
          "Climate and Earth Science/Integrated Assessment/<a href=\"https://github.com/iiasa/ENGAGE-netzero-analysis.git\">ENGAGE</a>",
          "Natural Resources/Water Supply and Quality/<a href=\"https://github.com/iiasa/CWatM.git\">CWatM</a>",
          "Energy Systems/Energy Distribution and Grids/<a href=\"https://github.com/ie3-institute/simona.git\">SIMONA</a>",
          "Energy Systems/Energy Modeling and Optimization/<a href=\"https://github.com/ie3-institute/PowerSystemDataModel.git\">PowerSystemDataModel</a>",
          "Climate and Earth Science/Climate Data Processing and Access/<a href=\"https://github.com/ideas-lab-nus/epwshiftr.git\">epwshiftr</a>",
          "Earth Systems/Cryosphere/<a href=\"https://github.com/icesat2py/icepyx.git\">icepyx</a>",
          "Consumption of Energy and Resources/Buildings and Heating/<a href=\"https://github.com/ibpsa/project1.git\">project1</a>",
          "Consumption of Energy and Resources/Buildings and Heating/<a href=\"https://github.com/ibpsa/project1-boptest.git\">BOPTEST</a>",
          "Consumption of Energy and Resources/Buildings and Heating/<a href=\"https://github.com/ibpsa/project1-boptest-gym.git\">BOPTEST-Gym</a>",
          "Consumption of Energy and Resources/Buildings and Heating/<a href=\"https://github.com/ibpsa/modelica-ibpsa.git\">modelica-ibpsa</a>",
          "Renewable Energy/Photovoltaics and Solar Energy/<a href=\"https://github.com/iat-cener/tonatiuh.git\">Tonatiuh</a>",
          "Earth Systems/Hydrosphere/<a href=\"https://github.com/hyriver/hyriver.github.io.git\">HyRiver</a>",
          "Earth Systems/Hydrosphere/<a href=\"https://github.com/hydroshare/hydroshare.git\">HydroShare</a>",
          "Earth Systems/Biosphere/<a href=\"https://github.com/hunter-stanke/rFIA.git\">rFIA</a>",
          "Consumption of Energy and Resources/Computation and Communication/<a href=\"https://github.com/hubblo-org/scaphandre.git\">Scaphandre</a>",
          "Emissions/Carbon Capture and Removel/<a href=\"https://github.com/hsbay/cdrmex.git\">CDRMEx</a>",
          "Climate and Earth Science/Climate Data Processing and Access/<a href=\"https://github.com/intake/intake-esm.git\">Intake-esm</a>",
          "Consumption of Energy and Resources/Buildings and Heating/<a href=\"https://github.com/hpxmlwg/hpxml.git\">hpxml</a>",
          "Energy Systems/Energy Modeling and Optimization/<a href=\"https://github.com/intelligent-environments-lab/CityLearn.git\">CityLearn</a>",
          "Earth Systems/Hydrosphere/<a href=\"https://github.com/jamesorr/CO2SYS-MATLAB.git\">CO2SYS</a>",
          "Earth Systems/Biosphere/<a href=\"https://github.com/karthikraja95/fsdl_deforestation_detection.git\">FSDL Deforestation Detection</a>",
          "Natural Resources/Agriculture and Nutrition/<a href=\"https://github.com/karrot-dev/karrot-frontend.git\">Karrot</a>",
          "Sustainable Development/Data Catalogs and Interfaces/<a href=\"https://github.com/kapadia/usgs.git\">USGS</a>",
          "Emissions/Carbon Intensity and Accounting/<a href=\"https://github.com/kansoapp/carbonfact-models.git\">Carbonfact Models</a>",
          "Natural Resources/Natural Hazard and Poverty/<a href=\"https://github.com/kLabUM/pystorms.git\">pystorms</a>",
          "Natural Resources/Air Quality/<a href=\"https://github.com/jsynowiec/airqmon.git\">airqmon</a>",
          "Natural Resources/Water Supply and Quality/<a href=\"https://github.com/jsta/nhdR.git\">nhdR</a>",
          "Consumption of Energy and Resources/Mobility and Transportation/<a href=\"https://github.com/jrester/tesla_powerwall.git\">tesla_powerwall</a>",
          "Earth Systems/Hydrosphere/<a href=\"https://github.com/jpgattuso/seacarb-git.git\">seacarb</a>",
          "Consumption of Energy and Resources/Mobility and Transportation/<a href=\"https://github.com/johan12345/EVMap.git\">EVMap</a>",
          "Natural Resources/Water Supply and Quality/<a href=\"https://github.com/jnsebgosselin/gwhat.git\">GWHAT</a>",
          "Earth Systems/Biosphere/<a href=\"https://github.com/jneme910/CART.git\">CART</a>",
          "Earth Systems/Cryosphere/<a href=\"https://github.com/jmcook1186/biosnicar-py.git\">BioSNICAR</a>",
          "Energy Storage/Battery/<a href=\"https://github.com/jepegit/cellpy.git\">cellpy</a>",
          "Earth Systems/Biosphere/<a href=\"https://github.com/jeffreyevans/spatialEco.git\">spatialEco</a>",
          "Emissions/Carbon Intensity and Accounting/<a href=\"https://github.com/jdechalendar/gridemissions.git\">gridemissions</a>",
          "Natural Resources/Water Supply and Quality/<a href=\"https://github.com/jblindsay/whitebox-tools.git\">WhiteboxTools</a>",
          "Earth Systems/Biosphere/<a href=\"https://github.com/jbferet/biodivMapR.git\">biodivMapR</a>",
          "Consumption of Energy and Resources/Computation and Communication/<a href=\"https://github.com/jawache/principles-green.git\">Principles of Green Software Engineering</a>",
          "Earth Systems/Biosphere/<a href=\"https://github.com/iobis/robis.git\">robis</a>",
          "Climate and Earth Science/Radiative Transfer/<a href=\"https://github.com/eradiate/eradiate.git\">Eradiate</a>",
          "Consumption of Energy and Resources/Mobility and Transportation/<a href=\"https://github.com/hove-io/navitia.git\">navitia</a>",
          "Natural Resources/Agriculture and Nutrition/<a href=\"https://github.com/hollorol/AgroMo.git\">AgroMo</a>",
          "Industrial Ecology/Circular Economy and Waste/<a href=\"https://github.com/garythung/trashnet.git\">trashnet</a>",
          "Climate and Earth Science/Earth and Climate Modeling/<a href=\"https://github.com/gaelforget/ClimateModels.jl.git\">ClimateModels.jl</a>",
          "Consumption of Energy and Resources/Computation and Communication/<a href=\"https://github.com/fvaleye/tracarbon.git\">Tracarbon</a>",
          "Sustainable Development/Sustainable Investment/<a href=\"https://github.com/fund-model/MimiFUND.jl.git\">MimiFUND.jl</a>",
          "Emissions/Emission Observation and Modeling/<a href=\"https://github.com/fossilfuelregistry/portal-v2.git\">The Global Registry of Fossil Fuels</a>",
          "Climate and Earth Science/Earth and Climate Modeling/<a href=\"https://github.com/forestgeo/Climate.git\">ForestGEO</a>",
          "Earth Systems/Biosphere/<a href=\"https://github.com/forc-db/GROA.git\">Global Reforestation Opportunity Assessment</a>",
          "Earth Systems/Biosphere/<a href=\"https://github.com/forc-db/ForC.git\">Forest Carbon database</a>",
          "Climate and Earth Science/Earth and Climate Modeling/<a href=\"https://github.com/fnemina/pyOSOAA.git\">pyOSOAA</a>",
          "Natural Resources/Agriculture and Nutrition/<a href=\"https://github.com/fishR-Core-Team/RFishBC.git\">RFishBC</a>",
          "Natural Resources/Agriculture and Nutrition/<a href=\"https://github.com/fishR-Core-Team/FSA.git\">Fisheries Stock Assessment</a>",
          "Industrial Ecology/Life Cycle Assessment/<a href=\"https://github.com/fineprint-global/forbio.git\">FORBIO</a>",
          "Natural Resources/Agriculture and Nutrition/<a href=\"https://github.com/fineprint-global/fabio.git\">FABIO</a>",
          "Natural Resources/Soil and Land/<a href=\"https://github.com/felixriese/CNN-SoilTextureClassification.git\">CNN-SoilTextureClassification</a>",
          "Sustainable Development/Data Catalogs and Interfaces/<a href=\"https://github.com/fdetsch/MODIS.git\">MODIS</a>",
          "Industrial Ecology/Life Cycle Assessment/<a href=\"https://github.com/brightway-lca/brightway2.git\">brightway2</a>",
          "Earth Systems/Hydrosphere/<a href=\"https://github.com/euroargodev/argopy.git\">argopy</a>",
          "Natural Resources/Soil and Land/<a href=\"https://github.com/esowc/ml_drought.git\">ml_drought</a>",
          "Climate and Earth Science/Earth and Climate Modeling/<a href=\"https://github.com/esmf-org/esmf.git\">ESMF</a>",
          "Natural Resources/Soil and Land/<a href=\"https://github.com/geocryology/globsim.git\">globsim</a>",
          "Consumption of Energy and Resources/Buildings and Heating/<a href=\"https://github.com/hongyuanjia/eplusr.git\">eplusr</a>",
          "Natural Resources/Water Supply and Quality/<a href=\"https://github.com/geodynamics/selen.git\">SELEN</a>",
          "Earth Systems/Atmosphere/<a href=\"https://github.com/geoschem/geos-chem.git\">GEOS-Chem</a>",
          "Natural Resources/Agriculture and Nutrition/<a href=\"https://github.com/hmontazeri/is-vegan.git\">Is-Vegan</a>",
          "Natural Resources/Soil and Land/<a href=\"https://github.com/hectornieto/pyTSEB.git\">pyTSEB</a>",
          "Earth Systems/Hydrosphere/<a href=\"https://github.com/hainegroup/oceanspy.git\">OceanSpy</a>",
          "Climate and Earth Science/Climate Data Processing and Access/<a href=\"https://github.com/h5netcdf/h5netcdf.git\">h5netcdf</a>",
          "Consumption of Energy and Resources/Mobility and Transportation/<a href=\"https://github.com/gsoh/VED.git\">Vehicle Energy Dataset</a>",
          "Consumption of Energy and Resources/Mobility and Transportation/<a href=\"https://github.com/grote/osm2gtfs.git\">osm2gtfs</a>",
          "Consumption of Energy and Resources/Mobility and Transportation/<a href=\"https://github.com/grote/Transportr.git\">Transportr</a>",
          "Energy Systems/Energy Distribution and Grids/<a href=\"https://github.com/gridsingularity/gsy-e.git\">Grid Singularity Energy Exchange Engine (D3A)</a>",
          "Energy Systems/Energy Distribution and Grids/<a href=\"https://github.com/grid-parity-exchange/Egret.git\">Egret</a>",
          "Consumption of Energy and Resources/Computation and Communication/<a href=\"https://github.com/greensoftwarelab/Energy-Languages.git\">Energy-Languages</a>",
          "Earth Systems/Hydrosphere/<a href=\"https://github.com/gotm-model/code.git\">GOTM</a>",
          "Climate and Earth Science/Climate Data Processing and Access/<a href=\"https://github.com/google/weather-tools.git\">weather-tools</a>",
          "Consumption of Energy and Resources/Mobility and Transportation/<a href=\"https://github.com/google/transitfeed.git\">transitfeed</a>",
          "Climate and Earth Science/Earth and Climate Modeling/<a href=\"https://github.com/google-research/ARCO-ERA5.git\">Analysis-Ready, Cloud Optimized ERA5</a>",
          "Consumption of Energy and Resources/Mobility and Transportation/<a href=\"https://github.com/goat-community/goat.git\">goat</a>",
          "Earth Systems/Biosphere/<a href=\"https://github.com/globalbioticinteractions/globalbioticinteractions.git\">Global Biotic Interactions</a>",
          "Natural Resources/Natural Hazard and Poverty/<a href=\"https://github.com/global-hydrodynamics/CaMa-Flood_v4.git\">CaMa</a>",
          "Earth Systems/Biosphere/<a href=\"https://github.com/ghislainv/forestatrisk.git\">forestatrisk</a>",
          "Earth Systems/Biosphere/<a href=\"https://github.com/ghislainv/forestatrisk-tropics.git\">forestatrisk</a>",
          "Earth Systems/Atmosphere/<a href=\"https://github.com/geoschem/gcpy.git\">gcpy</a>",
          "Natural Resources/Soil and Land/<a href=\"https://github.com/bpbond/srdb.git\">srdb</a>",
          "Climate and Earth Science/Meteorological Observation and Forecast/<a href=\"https://github.com/brry/rdwd.git\">rdwd</a>",
          "Climate and Earth Science/Climate Data Processing and Access/<a href=\"https://github.com/boshek/rsoi.git\">rsoi</a>",
          "Natural Resources/Soil and Land/<a href=\"https://github.com/bpbond/cosore.git\">cosore</a>",
          "Consumption of Energy and Resources/Buildings and Heating/<a href=\"https://github.com/bigladder/kiva.git\">Kiva</a>",
          "Consumption of Energy and Resources/Mobility and Transportation/<a href=\"https://github.com/bikeindex/bike_index.git\">Bike Index</a>",
          "Climate and Earth Science/Earth and Climate Modeling/<a href=\"https://github.com/dalesteam/dales.git\">DALES</a>",
          "Energy Systems/Energy Modeling and Optimization/<a href=\"https://github.com/blue-marble/gridpath.git\">GridPath</a>",
          "Climate and Earth Science/Earth and Climate Modeling/<a href=\"https://github.com/bluegreen-labs/ecmwfr.git\">ecmwfr</a>",
          "Energy Systems/Energy Modeling and Optimization/<a href=\"https://github.com/bje-/NEMO.git\">NEMO</a>",
          "Earth Systems/Biosphere/<a href=\"https://github.com/bluegreen-labs/phenocamr.git\">phenocamr</a>",
          "Industrial Ecology/Life Cycle Assessment/<a href=\"https://github.com/Vizzuality/trase.git\">Trase</a>",
          "Renewable Energy/Hydro Energy/<a href=\"https://github.com/WEC-Sim/WEC-Sim.git\">WEC-Sim</a>",
          "Natural Resources/Natural Hazard and Poverty/<a href=\"https://github.com/WFP-VAM/prism-app.git\">PRISM</a>",
          "Renewable Energy/Wind Energy/<a href=\"https://github.com/WISDEM/LandBOSSE.git\">LandBOSSE</a>",
          "Renewable Energy/Wind Energy/<a href=\"https://github.com/WISDEM/ORBIT.git\">ORBIT</a>",
          "Renewable Energy/Wind Energy/<a href=\"https://github.com/WISDEM/WEIS.git\">WEIS</a>",
          "Renewable Energy/Wind Energy/<a href=\"https://github.com/WISDEM/WOMBAT.git\">WOMBAT</a>",
          "Natural Resources/Soil and Land/<a href=\"https://github.com/Vizzuality/soils-revealed.git\">soils-revealed</a>",
          "Renewable Energy/Photovoltaics and Solar Energy/<a href=\"https://github.com/WMD-group/CarrierCapture.jl.git\">CarrierCapture.jl</a>",
          "Earth Systems/Biosphere/<a href=\"https://github.com/WSWUP/pymetric.git\">pyMETRIC</a>",
          "Industrial Ecology/Circular Economy and Waste/<a href=\"https://github.com/WWF-Deutschland/marine-plastic-explorer.git\">Global Plastic Navigator</a>",
          "Natural Resources/Water Supply and Quality/<a href=\"https://github.com/WikiWatershed/model-my-watershed.git\">Model My Watershed</a>",
          "Renewable Energy/Wind Energy/<a href=\"https://github.com/WISDEM/WISDEM.git\">WISDEM</a>",
          "Earth Systems/Biosphere/<a href=\"https://github.com/Vizzuality/gfw.git\">Global Forest Watch</a>",
          "Climate and Earth Science/Climate Data Processing and Access/<a href=\"https://github.com/VeruGHub/easyclimate.git\">easyclimate</a>",
          "Earth Systems/Biosphere/<a href=\"https://github.com/WildMeOrg/Wildbook.git\">Wildbook</a>",
          "Earth Systems/Hydrosphere/<a href=\"https://github.com/VeinsOfTheEarth/RivGraph.git\">RivGraph</a>",
          "Consumption of Energy and Resources/Buildings and Heating/<a href=\"https://github.com/VOLTTRON/volttron.git\">VOLTTRON</a>",
          "Earth Systems/Biosphere/<a href=\"https://github.com/VIAME/VIAME.git\">VIAME</a>",
          "Consumption of Energy and Resources/Mobility and Transportation/<a href=\"https://github.com/Universite-Gustave-Eiffel/NoiseModelling.git\">NoiseModelling</a>",
          "Consumption of Energy and Resources/Mobility and Transportation/<a href=\"https://github.com/Universite-Gustave-Eiffel/NoiseCapture.git\">NoiseCapture</a>",
          "Climate and Earth Science/Climate Data Processing and Access/<a href=\"https://github.com/Unidata/netcdf4-python.git\">netcdf-python</a>",
          "Climate and Earth Science/Climate Data Processing and Access/<a href=\"https://github.com/Unidata/netcdf-fortran.git\">netcdf-fortran</a>",
          "Climate and Earth Science/Climate Data Processing and Access/<a href=\"https://github.com/Unidata/netcdf-c.git\">netcdf-c</a>",
          "Climate and Earth Science/Meteorological Observation and Forecast/<a href=\"https://github.com/Unidata/awips2.git\">AWIPS</a>",
          "Climate and Earth Science/Meteorological Observation and Forecast/<a href=\"https://github.com/Unidata/MetPy.git\">MetPy</a>",
          "Consumption of Energy and Resources/Buildings and Heating/<a href=\"https://github.com/UdK-VPT/BuildingSystems.git\">BuildingSystems</a>",
          "Earth Systems/Hydrosphere/<a href=\"https://github.com/UW-Hydro/VIC.git\">VIC</a>",
          "Climate and Earth Science/Earth and Climate Modeling/<a href=\"https://github.com/UW-Hydro/MetSim.git\">MetSim</a>",
          "Energy Storage/Hydrogen/<a href=\"https://github.com/Virtual-FCS/VirtualFCS.git\">VirtualFCS</a>",
          "Renewable Energy/Wind Energy/<a href=\"https://github.com/YingyiLiu/HAMS.git\">HAMS</a>",
          "Sustainable Development/Data Catalogs and Interfaces/<a href=\"https://github.com/Unidata/siphon.git\">Siphon</a>",
          "Climate and Earth Science/Climate Data Processing and Access/<a href=\"https://github.com/Yuanchao-Xu/hyfo.git\">hyfo</a>",
          "Consumption of Energy and Resources/Mobility and Transportation/<a href=\"https://github.com/a-b-street/abstreet.git\">A/B Street</a>",
          "Climate and Earth Science/Climate Data Processing and Access/<a href=\"https://github.com/aaronspring/remote_climate_data.git\">remote_climate_data</a>",
          "Emissions/Carbon Intensity and Accounting/<a href=\"https://github.com/acircleda/footprint.git\">footprint</a>",
          "Earth Systems/Biosphere/<a href=\"https://github.com/adokter/bioRad.git\">bioRad</a>",
          "Earth Systems/Biosphere/<a href=\"https://github.com/ajwdewit/pcse.git\">PCSE</a>",
          "Sustainable Development/Sustainable Investment/<a href=\"https://github.com/Yuanchao-Xu/gfer.git\">gfer</a>",
          "Consumption of Energy and Resources/Mobility and Transportation/<a href=\"https://github.com/EVNotify/EVNotify.git\">EVNotify</a>",
          "Climate and Earth Science/Earth and Climate Modeling/<a href=\"https://github.com/ESMValGroup/ESMValTool.git\">ESMValTool</a>",
          "Earth Systems/Hydrosphere/<a href=\"https://github.com/ESMG/pyroms.git\">pyroms</a>",
          "Sustainable Development/Knowledge Platforms/<a href=\"https://github.com/ESIPFed/sweet.git\">SWEET</a>",
          "Consumption of Energy and Resources/Buildings and Heating/<a href=\"https://github.com/FZJ-IEK3-VSA/LoadProfileGenerator.git\">LoadProfileGenerator</a>",
          "Earth Systems/Atmosphere/<a href=\"https://github.com/ExeClim/Isca.git\">Isca</a>",
          "Energy Systems/Energy Modeling and Optimization/<a href=\"https://github.com/FZJ-IEK3-VSA/FINE.git\">FINE</a>",
          "Earth Systems/Hydrosphere/<a href=\"https://github.com/FLARE-forecast/FLAREr.git\">FLAREr</a>",
          "Consumption of Energy and Resources/Mobility and Transportation/<a href=\"https://github.com/EVerest/EVerest.git\">EVerest</a>",
          "Renewable Energy/Wind Energy/<a href=\"https://github.com/Exawind/nalu-wind.git\">nalu-wind</a>",
          "Sustainable Development/Knowledge Platforms/<a href=\"https://github.com/EnvironmentOntology/envo.git\">ENVO</a>",
          "Renewable Energy/Wind Energy/<a href=\"https://github.com/Exawind/amr-wind.git\">amr-wind</a>",
          "Climate and Earth Science/Earth and Climate Modeling/<a href=\"https://github.com/EarthSystemDiagnostics/sedproxy.git\">sedproxy</a>",
          "Consumption of Energy and Resources/Buildings and Heating/<a href=\"https://github.com/FZJ-IEK3-VSA/HiSim.git\">HiSim</a>",
          "Earth Systems/Biosphere/<a href=\"https://github.com/EcologicalSemantics/ecocore.git\">ecoCore</a>",
          "Consumption of Energy and Resources/Buildings and Heating/<a href=\"https://github.com/EcotopeResearch/HPWHsim.git\">HPWHsim</a>",
          "Earth Systems/Biosphere/<a href=\"https://github.com/Ecotrust/forestplanner.git\">Forest Scenario Planner</a>",
          "Natural Resources/Agriculture and Nutrition/<a href=\"https://github.com/EduardoFernandezC/dormancyR.git\">dormancyR</a>",
          "Energy Storage/Battery/<a href=\"https://github.com/ElektrikAkar/3d_milp.git\">3d_milp</a>",
          "Energy Systems/Datasets on Energy Systems/<a href=\"https://github.com/EnergieID/entsoe-py.git\">entsoe-py</a>",
          "Energy Systems/Energy Monitoring and Control/<a href=\"https://github.com/Energy-Sparks/energy-sparks.git\">energy-sparks</a>",
          "Energy Systems/Energy Modeling and Optimization/<a href=\"https://github.com/EnergyInnovation/eps-us.git\">Energy Policy Simulator</a>",
          "Energy Systems/Energy Modeling and Optimization/<a href=\"https://github.com/EnergyTransition/ESDL.git\">ESDL</a>",
          "Sustainable Development/Knowledge Platforms/<a href=\"https://github.com/EnviroDIY/ModularSensors.git\">ModularSensors</a>",
          "Natural Resources/Agriculture and Nutrition/<a href=\"https://github.com/Ecohackerfarm/powerplant.git\">powerplant</a>",
          "Natural Resources/Natural Hazard and Poverty/<a href=\"https://github.com/NOAA-OWP/inundation-mapping.git\">Cahaba</a>",
          "Natural Resources/Water Supply and Quality/<a href=\"https://github.com/NOAA-OWP/ngen.git\">Next Gen Water Modeling Framework</a>",
          "Natural Resources/Water Supply and Quality/<a href=\"https://github.com/NOAA-OWP/t-route.git\">Tree-based Inland Hydraulic Routing Project</a>",
          "Earth Systems/Hydrosphere/<a href=\"https://github.com/NOAA-PMEL/Ferret.git\">Ferret</a>",
          "Energy Systems/Energy Distribution and Grids/<a href=\"https://github.com/NREL-SIIP/InfrastructureSystems.jl.git\">InfrastructureSystems.jl</a>",
          "Natural Resources/Natural Hazard and Poverty/<a href=\"https://github.com/NRCan/CanFlood.git\">CanFlood</a>",
          "Renewable Energy/Hydro Energy/<a href=\"https://github.com/NREL-SIIP/HydroPowerSimulations.jl.git\">HydroPowerSimulations.jl</a>",
          "Natural Resources/Water Supply and Quality/<a href=\"https://github.com/NOAA-ORR-ERD/PyGnome.git\">PyGnome</a>",
          "Energy Systems/Energy Modeling and Optimization/<a href=\"https://github.com/NREL-SIIP/PowerSimulations.jl.git\">PowerSimulations.jl</a>",
          "Sustainable Development/Knowledge Platforms/<a href=\"https://github.com/NOAAGov/NOAA-Affiliated-Projects.git\">NOAA-Affiliated-Projects</a>",
          "Earth Systems/Cryosphere/<a href=\"https://github.com/NOAA-GFDL/SIS2.git\">SIS2</a>",
          "Climate and Earth Science/Earth and Climate Modeling/<a href=\"https://github.com/NOAA-EMC/global-workflow.git\">global-workflow</a>",
          "Climate and Earth Science/Earth and Climate Modeling/<a href=\"https://github.com/NOAA-GFDL/MOM6.git\">MOM6</a>",
          "Climate and Earth Science/Earth and Climate Modeling/<a href=\"https://github.com/NOAA-GFDL/MDTF-diagnostics.git\">MDTF-diagnostics</a>",
          "Climate and Earth Science/Earth and Climate Modeling/<a href=\"https://github.com/NOAA-GFDL/FMS.git\">The Flexible Modeling System</a>",
          "Earth Systems/Biosphere/<a href=\"https://github.com/NOAA-EDAB/ecodata.git\">ecodata</a>",
          "Emissions/Carbon Intensity and Accounting/<a href=\"https://github.com/NMF-earth/nmf-app.git\">NMF.earth app</a>",
          "Earth Systems/Biosphere/<a href=\"https://github.com/NGEET/fates.git\">FATES</a>",
          "Climate and Earth Science/Climate Data Processing and Access/<a href=\"https://github.com/NCAS-CMS/cf-python.git\">cf-python</a>",
          "Earth Systems/Hydrosphere/<a href=\"https://github.com/NCAR/wrf_hydro_nwm_public.git\">WRF-Hydro</a>",
          "Earth Systems/Atmosphere/<a href=\"https://github.com/NCAR/icar.git\">ICAR</a>",
          "Climate and Earth Science/Climate Data Processing and Access/<a href=\"https://github.com/NCAR/ncl.git\">NCL</a>",
          "Climate and Earth Science/Earth and Climate Modeling/<a href=\"https://github.com/NCAR/wrf-python.git\">wrf-python</a>",
          "Earth Systems/Hydrosphere/<a href=\"https://github.com/NCAR/ccpp-physics.git\">ccpp-physics</a>",
          "Energy Systems/Energy Modeling and Optimization/<a href=\"https://github.com/NREL-SIIP/PowerSystems.jl.git\">PowerSystems.jl</a>",
          "Renewable Energy/Photovoltaics and Solar Energy/<a href=\"https://github.com/NREL/bifacialvf.git\">bifacialvf</a>",
          "Renewable Energy/Wind Energy/<a href=\"https://github.com/NREL/NRWAL.git\">NRWAL</a>",
          "Earth Systems/Hydrosphere/<a href=\"https://github.com/NorESMhub/BLOM.git\">Bergen Layered Ocean Model</a>",
          "Climate and Earth Science/Earth and Climate Modeling/<a href=\"https://github.com/NorESMhub/NorESM.git\">NorESM</a>",
          "Emissions/Emission Observation and Modeling/<a href=\"https://github.com/Novarizark/easy-era5-trck.git\">Easy-ERA5-Trck</a>",
          "Earth Systems/Hydrosphere/<a href=\"https://github.com/NCAR/VAPOR.git\">VAPOR</a>",
          "Energy Systems/Datasets on Energy Systems/<a href=\"https://github.com/NREL/sup3r.git\">sup3r</a>",
          "Sustainable Development/Sustainable Investment/<a href=\"https://github.com/NREL/ssc.git\">SSC</a>",
          "Consumption of Energy and Resources/Buildings and Heating/<a href=\"https://github.com/NREL/resstock.git\">resstock</a>",
          "Energy Systems/Energy Modeling and Optimization/<a href=\"https://github.com/NREL/reVX.git\">reVX</a>",
          "Energy Systems/Energy Modeling and Optimization/<a href=\"https://github.com/NREL/reV.git\">reV</a>",
          "Renewable Energy/Photovoltaics and Solar Energy/<a href=\"https://github.com/NREL/rdtools.git\">rdtools</a>",
          "Consumption of Energy and Resources/Buildings and Heating/<a href=\"https://github.com/NREL/hescore-hpxml.git\">HPXML to Home Energy Score Translator</a>",
          "Renewable Energy/Wind Energy/<a href=\"https://github.com/NREL/floris.git\">floris</a>",
          "Renewable Energy/Photovoltaics and Solar Energy/<a href=\"https://github.com/NREL/dgen.git\">dGen</a>",
          "Renewable Energy/Photovoltaics and Solar Energy/<a href=\"https://github.com/NREL/bifacial_radiance.git\">bifacial_radiance</a>",
          "Renewable Energy/Wind Energy/<a href=\"https://github.com/NREL/WindSE.git\">WindSE</a>",
          "Renewable Energy/Photovoltaics and Solar Energy/<a href=\"https://github.com/NREL/SolarPILOT.git\">SolarPILOT</a>",
          "Renewable Energy/Photovoltaics and Solar Energy/<a href=\"https://github.com/NREL/SolTrace.git\">SolTrace</a>",
          "Energy Systems/Energy Modeling and Optimization/<a href=\"https://github.com/NREL/SAM.git\">System Advisor Model</a>",
          "Renewable Energy/Wind Energy/<a href=\"https://github.com/NREL/ROSCO.git\">ROSCO</a>",
          "Energy Systems/Energy Modeling and Optimization/<a href=\"https://github.com/NREL/REopt_API.git\">REopt_Lite_API</a>",
          "Renewable Energy/Photovoltaics and Solar Energy/<a href=\"https://github.com/NREL/PV_ICE.git\">PV_ICE</a>",
          "Consumption of Energy and Resources/Buildings and Heating/<a href=\"https://github.com/NREL/OpenStudio.git\">OpenStudio</a>",
          "Consumption of Energy and Resources/Buildings and Heating/<a href=\"https://github.com/NREL/OpenStudio-HPXML.git\">OpenStudio-HPXML</a>",
          "Consumption of Energy and Resources/Buildings and Heating/<a href=\"https://github.com/NREL/OpenStudio-ERI.git\">OpenStudio-ERI</a>",
          "Renewable Energy/Wind Energy/<a href=\"https://github.com/NREL/OpenOA.git\">OpenOA</a>",
          "Consumption of Energy and Resources/Buildings and Heating/<a href=\"https://github.com/NREL/EnergyPlus.git\">EnergyPlus</a>",
          "Earth Systems/Hydrosphere/<a href=\"https://github.com/Mohid-Water-Modelling-System/Mohid.git\">Mohid</a>",
          "Energy Systems/Energy Distribution and Grids/<a href=\"https://github.com/JuliaEnergy/PowerDynamics.jl.git\">PowerDynamics.jl</a>",
          "Consumption of Energy and Resources/Mobility and Transportation/<a href=\"https://github.com/MobilityData/gbfs.git\">gbfs</a>",
          "Earth Systems/Biosphere/<a href=\"https://github.com/GreenswayAB/BIRDS.git\">BIRDS</a>",
          "Energy Systems/Energy Distribution and Grids/<a href=\"https://github.com/GridMod/RTS-GMLC.git\">RTS-GMLC</a>",
          "Natural Resources/Agriculture and Nutrition/<a href=\"https://github.com/Growstuff/growstuff.git\">Growstuff</a>",
          "Consumption of Energy and Resources/Buildings and Heating/<a href=\"https://github.com/HIT2GAP-EU-PROJECT/bemserver.git\">BEMServer</a>",
          "Natural Resources/Air Quality/<a href=\"https://github.com/HabitatMap/AirCasting.git\">AirCasting</a>",
          "Consumption of Energy and Resources/Buildings and Heating/<a href=\"https://github.com/HotMaps/Hotmaps-toolbox-service.git\">Hotmaps</a>",
          "Earth Systems/Biosphere/<a href=\"https://github.com/Greenstand/treetracker-android.git\">Treetracker</a>",
          "Climate and Earth Science/Integrated Assessment/<a href=\"https://github.com/IAMconsortium/pyam.git\">pyam</a>",
          "Emissions/Emission Observation and Modeling/<a href=\"https://github.com/ICOS-Carbon-Portal/pylib.git\">Integrated Carbon Observation System</a>",
          "Energy Systems/Energy Modeling and Optimization/<a href=\"https://github.com/IDAES/idaes-pse.git\">The IDAES Toolkit</a>",
          "Renewable Energy/Wind Energy/<a href=\"https://github.com/IEA-Task-43/digital_wra_data_standard.git\">digital_wra_data_standard</a>",
          "Renewable Energy/Wind Energy/<a href=\"https://github.com/IEAWindTask37/IEA-15-240-RWT.git\">IEA-15-240-RWT</a>",
          "Energy Systems/Energy Modeling and Optimization/<a href=\"https://github.com/IIT-EnergySystemModels/openTEPES.git\">openTEPES</a>",
          "Climate and Earth Science/Climate Data Processing and Access/<a href=\"https://github.com/IPCC-WG1/Chapter-9.git\">IPCC AR6 Chapter 9 Figures</a>",
          "Energy Systems/Energy Modeling and Optimization/<a href=\"https://github.com/IBM/rl-testbed-for-energyplus.git\">rl-testbed-for-energyplus</a>",
          "Natural Resources/Soil and Land/<a href=\"https://github.com/ISRICWorldSoil/SoilGrids250m.git\">SoilGrids250m</a>",
          "Industrial Ecology/Life Cycle Assessment/<a href=\"https://github.com/GreenDelta/openlca-python-tutorial.git\">openlca-python-tutorial</a>",
          "Consumption of Energy and Resources/Computation and Communication/<a href=\"https://github.com/Green-Software-Foundation/software_carbon_intensity.git\">Software Carbon Intensity Specification</a>",
          "Energy Systems/Energy Modeling and Optimization/<a href=\"https://github.com/FZJ-IEK3-VSA/tsam.git\">tsam</a>",
          "Natural Resources/Agriculture and Nutrition/<a href=\"https://github.com/FarmBot/Farmbot-Web-App.git\">Farmbot</a>",
          "Energy Systems/Energy Monitoring and Control/<a href=\"https://github.com/FlexMeasures/flexmeasures.git\">FlexMeasures</a>",
          "Energy Systems/Energy Modeling and Optimization/<a href=\"https://github.com/FlexiGIS/FlexiGIS.git\">FlexiGIS</a>",
          "Earth Systems/Hydrosphere/<a href=\"https://github.com/GClunies/noaa_coops.git\">noaa_coops</a>",
          "Emissions/Carbon Capture and Removel/<a href=\"https://github.com/GEOSX/GEOSX.git\">GEOSX</a>",
          "Industrial Ecology/Life Cycle Assessment/<a href=\"https://github.com/GreenDelta/olca-app.git\">OpenLCA</a>",
          "Earth Systems/Cryosphere/<a href=\"https://github.com/GEUS-Glaciology-and-Climate/freshwater.git\">freshwater</a>",
          "Energy Systems/Energy Modeling and Optimization/<a href=\"https://github.com/GMLC-TDC/HELICS.git\">Hierarchical Engine for Large-scale Infrastructure Co-Simulation</a>",
          "Sustainable Development/Sustainable Development Goals/<a href=\"https://github.com/GSA/sdg-indicators-usa.git\">US Sustainable Development Goal indicators</a>",
          "Energy Systems/Energy Modeling and Optimization/<a href=\"https://github.com/GenXProject/GenX.git\">GenX</a>",
          "Consumption of Energy and Resources/Computation and Communication/<a href=\"https://github.com/GoogleCloudPlatform/region-carbon-info.git\">Carbon free energy for Google Cloud regions</a>",
          "Earth Systems/Atmosphere/<a href=\"https://github.com/GralDispersionModel/GRAL.git\">GRAL</a>",
          "Emissions/Carbon Intensity and Accounting/<a href=\"https://github.com/GranthamImperial/silicone.git\">Silicone</a>",
          "Climate and Earth Science/Earth and Climate Modeling/<a href=\"https://github.com/GIS4WRF/gis4wrf.git\">gis4wrf</a>",
          "Consumption of Energy and Resources/Mobility and Transportation/<a href=\"https://github.com/ITSLeeds/pct.git\">PCT</a>",
          "Renewable Energy/Wind Energy/<a href=\"https://github.com/ImperialCollegeLondon/sharpy.git\">SHARPy</a>",
          "Natural Resources/Soil and Land/<a href=\"https://github.com/International-Soil-Radiocarbon-Database/ISRaD.git\">ISRaD</a>",
          "Energy Systems/Energy Modeling and Optimization/<a href=\"https://github.com/Lkruitwagen/global-fossil-fuel-supply-chain.git\">Global Coal, Oil, and Gas Supply Chains</a>",
          "Renewable Energy/Photovoltaics and Solar Energy/<a href=\"https://github.com/Lkruitwagen/solar-pv-global-inventory.git\">A Global Inventory of Photovoltaic</a>",
          "Earth Systems/Biosphere/<a href=\"https://github.com/MAAP-Project/maap-documentation.git\">MAAP</a>",
          "Energy Systems/Energy Modeling and Optimization/<a href=\"https://github.com/MATPOWER/matpower.git\">matpower</a>",
          "Renewable Energy/Hydro Energy/<a href=\"https://github.com/MHKiT-Software/MHKiT-Python.git\">MHKiT-Python</a>",
          "Earth Systems/Hydrosphere/<a href=\"https://github.com/MITgcm/MITgcm.git\">MITgcm</a>",
          "Renewable Energy/Photovoltaics and Solar Energy/<a href=\"https://github.com/LibreSolar/charge-controller-firmware.git\">Charge Controller Firmware</a>",
          "Natural Resources/Water Supply and Quality/<a href=\"https://github.com/MODFLOW-USGS/modflow6.git\">modflow6</a>",
          "Climate and Earth Science/Earth and Climate Modeling/<a href=\"https://github.com/MPAS-Dev/MPAS-Model.git\">MPAS</a>",
          "Energy Systems/Energy Modeling and Optimization/<a href=\"https://github.com/MaREI-EPMG/times-ireland-model.git\">TIMES-Ireland Model</a>",
          "Renewable Energy/Geothermal Energy/<a href=\"https://github.com/MassimoCimmino/pygfunction.git\">pygfunction</a>",
          "Energy Systems/Energy Modeling and Optimization/<a href=\"https://github.com/Matt-Brigida/EIAdata.git\">EIAdata</a>",
          "Earth Systems/Biosphere/<a href=\"https://github.com/MetOffice/forest.git\">forest</a>",
          "Earth Systems/Biosphere/<a href=\"https://github.com/MoBiodiv/mobr.git\">mobr</a>",
          "Climate and Earth Science/Earth and Climate Modeling/<a href=\"https://github.com/MPAS-Dev/MPAS-Analysis.git\">MPAS-Analysis</a>",
          "Renewable Energy/Photovoltaics and Solar Energy/<a href=\"https://github.com/LibreSolar/bms-firmware.git\">LibreSolar</a>",
          "Climate and Earth Science/Integrated Assessment/<a href=\"https://github.com/Libbum/DICE.jl.git\">DICE.jl</a>",
          "Consumption of Energy and Resources/Mobility and Transportation/<a href=\"https://github.com/LBNL-UCB-STI/beam.git\">BEAM</a>",
          "Earth Systems/Biosphere/<a href=\"https://github.com/InverseTampere/TreeQSM.git\">TreeQSM</a>",
          "Emissions/Emission Observation and Modeling/<a href=\"https://github.com/JGCRI/CEDS.git\">The Community Emissions Data System</a>",
          "Climate and Earth Science/Integrated Assessment/<a href=\"https://github.com/JGCRI/gcam-core.git\">GCAM</a>",
          "Climate and Earth Science/Earth and Climate Modeling/<a href=\"https://github.com/JGCRI/hector.git\">hector</a>",
          "Natural Resources/Air Quality/<a href=\"https://github.com/JGCRI/rfasst.git\">rfasst</a>",
          "Consumption of Energy and Resources/Mobility and Transportation/<a href=\"https://github.com/JRCSTU/CO2MPAS-TA.git\">CO2MPAS-TA</a>",
          "Earth Systems/Cryosphere/<a href=\"https://github.com/Joel-hanson/Iceberg-locations.git\">Iceberg Locations</a>",
          "Natural Resources/Agriculture and Nutrition/<a href=\"https://github.com/JokeNetwork/vegancheck.me.git\">VeganCheck.me</a>",
          "Climate and Earth Science/Earth and Climate Modeling/<a href=\"https://github.com/JuliaClimate/ClimateTools.jl.git\">ClimateTools.jl</a>",
          "Sustainable Development/Data Catalogs and Interfaces/<a href=\"https://github.com/JuliaDataCubes/EarthDataLab.jl.git\">EarthDataLab.jl</a>",
          "Earth Systems/Hydrosphere/<a href=\"https://github.com/JuliaOcean/AIBECS.jl.git\">AIBECS.jl</a>",
          "Earth Systems/Biosphere/<a href=\"https://github.com/JuliaOcean/PlanktonIndividuals.jl.git\">PlanktonIndividuals.jl</a>",
          "Emissions/Carbon Intensity and Accounting/<a href=\"https://github.com/KKulma/intensegRid.git\">intensegRid</a>",
          "Climate and Earth Science/Earth and Climate Modeling/<a href=\"https://github.com/LBL-EESA/TECA.git\">TECA</a>",
          "Consumption of Energy and Resources/Buildings and Heating/<a href=\"https://github.com/LBNL-ETA/MSWH.git\">Multiscale Solar Water Heating</a>",
          "Earth Systems/Hydrosphere/<a href=\"https://github.com/Mohid-Water-Modelling-System/MOHID-Lagrangian.git\">MOHID-Lagrangian</a>",
          "Climate and Earth Science/Earth and Climate Modeling/<a href=\"https://github.com/JuliaClimate/ClimateBase.jl.git\">ClimateBase.jl</a>",
          "Earth Systems/Hydrosphere/<a href=\"https://github.com/aqualinkorg/aqualink-app.git\">Aqualink</a>",
          "Earth Systems/Biosphere/<a href=\"https://github.com/bi0m3trics/spanner.git\">spanner</a>",
          "Earth Systems/Biosphere/<a href=\"https://github.com/alan-turing-institute/monitoring-ecosystem-resilience.git\">monitoring-ecosystem-resilience</a>",
          "Earth Systems/Biosphere/<a href=\"https://github.com/allisonhorst/palmerpenguins.git\">palmerpenguins</a>",
          "Consumption of Energy and Resources/Mobility and Transportation/<a href=\"https://github.com/andmos/BikeshareClient.git\">BikeshareClient</a>",
          "Earth Systems/Biosphere/<a href=\"https://github.com/andrew-plowright/ForestTools.git\">ForestTools</a>",
          "Earth Systems/Biosphere/<a href=\"https://github.com/apburt/treeseg.git\">treeseg</a>",
          "Emissions/Emission Observation and Modeling/<a href=\"https://github.com/arbrandt/OPGEE.git\">OPGEE</a>",
          "Consumption of Energy and Resources/Buildings and Heating/<a href=\"https://github.com/architecture-building-systems/CityEnergyAnalyst.git\">City Energy Analyst</a>",
          "Emissions/Emission Observation and Modeling/<a href=\"https://github.com/atmoschem/EmissV.git\">EmissV</a>",
          "Emissions/Emission Observation and Modeling/<a href=\"https://github.com/atmoschem/eixport.git\">eixport</a>",
          "Renewable Energy/Wind Energy/<a href=\"https://github.com/audunarn/ANYstructure.git\">ANYstructure</a>",
          "Renewable Energy/Wind Energy/<a href=\"https://github.com/awebox/awebox.git\">awebox</a>",
          "Earth Systems/Hydrosphere/<a href=\"https://github.com/badlands-model/badlands.git\">Badlands</a>",
          "Climate and Earth Science/Radiative Transfer/<a href=\"https://github.com/atmtools/arts.git\">ARTS</a>",
          "Energy Storage/Battery/<a href=\"https://github.com/battery-lcf/batteryarchive.git\">Battery Archive</a>",
          "Earth Systems/Hydrosphere/<a href=\"https://github.com/beijbom/coralnet.git\">CoralNet</a>",
          "Climate and Earth Science/Meteorological Observation and Forecast/<a href=\"https://github.com/bczernecki/climate.git\">climate</a>",
          "Natural Resources/Water Supply and Quality/<a href=\"https://github.com/bcgov/wqbc.git\">wqbc</a>",
          "Energy Systems/Energy Modeling and Optimization/<a href=\"https://github.com/balmorelcommunity/Balmorel.git\">Balmorel</a>",
          "Natural Resources/Water Supply and Quality/<a href=\"https://github.com/bcgov/gwells.git\">gwells</a>",
          "Earth Systems/Biosphere/<a href=\"https://github.com/bcgov/wps.git\">Wildfire Predictive Services</a>",
          "Emissions/Emission Observation and Modeling/<a href=\"https://github.com/bcgov/ghg-emissions-indicator.git\">ghg emissions indicator</a>",
          "Natural Resources/Water Supply and Quality/<a href=\"https://github.com/bcgov/fasstr.git\">fasstr</a>",
          "Natural Resources/Water Supply and Quality/<a href=\"https://github.com/bcgov/canwqdata.git\">canwqdata</a>",
          "Natural Resources/Water Supply and Quality/<a href=\"https://github.com/bcgov/bcgroundwater.git\">bcgroundwater</a>",
          "Natural Resources/Water Supply and Quality/<a href=\"https://github.com/bcgov/groundwater-levels-indicator.git\">Long-term Trends in Groundwater Levels in B.C.</a>",
          "Natural Resources/Water Supply and Quality/<a href=\"https://github.com/pcraster/pcraster.git\">PCRaster</a>",
          "Climate and Earth Science/Integrated Assessment/<a href=\"https://github.com/pik-piam/mrremind.git\">mrremind</a>",
          "Industrial Ecology/Circular Economy and Waste/<a href=\"https://github.com/pedropro/TACO.git\">TACO</a>",
          "Sustainable Development/Knowledge Platforms/<a href=\"https://github.com/petermr/climate.git\">Open Climate Knowledge</a>",
          "Climate and Earth Science/Climate Data Processing and Access/<a href=\"https://github.com/petermr/semanticClimate.git\">semanticClimate</a>",
          "Sustainable Development/Data Catalogs and Interfaces/<a href=\"https://github.com/piersyork/owidR.git\">owidR</a>",
          "Climate and Earth Science/Integrated Assessment/<a href=\"https://github.com/pik-piam/edgeTransport.git\">edgeTransport</a>",
          "Climate and Earth Science/Climate Data Processing and Access/<a href=\"https://github.com/pik-primap/climate_categories.git\">Climate categories</a>",
          "Consumption of Energy and Resources/Computation and Communication/<a href=\"https://github.com/powerapi-ng/pyJoules.git\">pyJoules</a>",
          "Earth Systems/Biosphere/<a href=\"https://github.com/pinskylab/OceanAdapt.git\">OceanAdapt</a>",
          "Earth Systems/Cryosphere/<a href=\"https://github.com/pism/pism.git\">PISM</a>",
          "Industrial Ecology/Life Cycle Assessment/<a href=\"https://github.com/polca/premise.git\">premise</a>",
          "Natural Resources/Agriculture and Nutrition/<a href=\"https://github.com/poseidon-fisheries/POSEIDON.git\">POSEIDON</a>",
          "Energy Systems/Energy Distribution and Grids/<a href=\"https://github.com/power-grid-lib/pglib-opf.git\">Power Grid Lib</a>",
          "Consumption of Energy and Resources/Computation and Communication/<a href=\"https://github.com/powerapi-ng/powerapi.git\">PowerAPI</a>",
          "Consumption of Energy and Resources/Computation and Communication/<a href=\"https://github.com/patch-technology/patch-node.git\">patch-node</a>",
          "Renewable Energy/Photovoltaics and Solar Energy/<a href=\"https://github.com/pingswept/pysolar.git\">Pysolar</a>",
          "Earth Systems/Hydrosphere/<a href=\"https://github.com/pastas/pastas.git\">Pastas</a>",
          "Emissions/Carbon Intensity and Accounting/<a href=\"https://github.com/opentaps/blockchain-carbon-accounting.git\">blockchain-carbon-accounting</a>",
          "Earth Systems/Hydrosphere/<a href=\"https://github.com/parflow/parflow.git\">ParFlow</a>",
          "Sustainable Development/Data Catalogs and Interfaces/<a href=\"https://github.com/stac-utils/stac-index.git\">STAC Index</a>",
          "Consumption of Energy and Resources/Mobility and Transportation/<a href=\"https://github.com/steve-community/steve.git\">SteVe</a>",
          "Consumption of Energy and Resources/Mobility and Transportation/<a href=\"https://github.com/streetmix/streetmix.git\">Streetmix</a>",
          "Sustainable Development/Knowledge Platforms/<a href=\"https://github.com/stripe/carbon-removal-source-materials.git\">Stripe Climate Carbon Removal Purchases</a>",
          "Consumption of Energy and Resources/Computation and Communication/<a href=\"https://github.com/sustainable-computing-io/kepler.git\">Kepler</a>",
          "Energy Systems/Energy Modeling and Optimization/<a href=\"https://github.com/powsybl/powsybl-core.git\">PowSyBl</a>",
          "Sustainable Development/Sustainable Investment/<a href=\"https://github.com/opentaps/open-climate-investing.git\">open-climate-investing</a>",
          "Earth Systems/Hydrosphere/<a href=\"https://github.com/passaH2O/dorado.git\">dorado</a>",
          "Energy Systems/Energy Monitoring and Control/<a href=\"https://github.com/opfab/operatorfabric-core.git\">OperatorFabric</a>",
          "Sustainable Development/Sustainable Investment/<a href=\"https://github.com/os-climate/os_c_data_commons.git\">OS-Climate Data Commons</a>",
          "Emissions/Emission Observation and Modeling/<a href=\"https://github.com/owid/co2-data.git\">co2-data</a>",
          "Energy Systems/Datasets on Energy Systems/<a href=\"https://github.com/owid/energy-data.git\">energy-data</a>",
          "Sustainable Development/Data Catalogs and Interfaces/<a href=\"https://github.com/owid/owid-catalog-py.git\">owid-catalog</a>",
          "Sustainable Development/Sustainable Development Goals/<a href=\"https://github.com/owid/sdg-tracker.org.git\">sdg-tracker.org</a>",
          "Climate and Earth Science/Earth and Climate Modeling/<a href=\"https://github.com/pangeo-data/climpred.git\">climpred</a>",
          "Climate and Earth Science/Earth and Climate Modeling/<a href=\"https://github.com/pangeo-data/pangeo.git\">pangeo</a>",
          "Climate and Earth Science/Climate Data Processing and Access/<a href=\"https://github.com/orbisgis/geoclimate.git\">Geoclimate</a>",
          "Energy Systems/Energy Modeling and Optimization/<a href=\"https://github.com/powsybl/powsybl-open-loadflow.git\">PowSyBl Open Load Flow</a>",
          "Earth Systems/Biosphere/<a href=\"https://github.com/pyinat/pyinaturalist.git\">pyinaturalist</a>",
          "Earth Systems/Biosphere/<a href=\"https://github.com/prioritizr/wdpar.git\">wdpar</a>",
          "Energy Systems/Energy Distribution and Grids/<a href=\"https://github.com/quintel/etengine.git\">Energy Transition Engine</a>",
          "Energy Systems/Energy Distribution and Grids/<a href=\"https://github.com/quintel/etmodel.git\">ETM Pro</a>",
          "Emissions/Emission Observation and Modeling/<a href=\"https://github.com/quishqa/PyChEmiss.git\">PyChEmiss</a>",
          "Earth Systems/Biosphere/<a href=\"https://github.com/r-lidar/lidR.git\">lidR</a>",
          "Natural Resources/Soil and Land/<a href=\"https://github.com/r-spatialecology/landscapemetrics.git\">landscapemetrics</a>",
          "Natural Resources/Agriculture and Nutrition/<a href=\"https://github.com/r4ss/r4ss.git\">r4ss</a>",
          "Sustainable Development/Data Catalogs and Interfaces/<a href=\"https://github.com/rOpenGov/eurostat.git\">eurostat R package</a>",
          "Renewable Energy/Photovoltaics and Solar Energy/<a href=\"https://github.com/qpv-research-group/solcore5.git\">solcore5</a>",
          "Sustainable Development/Data Catalogs and Interfaces/<a href=\"https://github.com/rOpenGov/giscoR.git\">giscoR</a>",
          "Earth Systems/Hydrosphere/<a href=\"https://github.com/rabernat/intro_to_physical_oceanography.git\">Intro to Physical Oceanography</a>",
          "Sustainable Development/Data Catalogs and Interfaces/<a href=\"https://github.com/radiantearth/radiant-mlhub.git\">Radiant MLHub Python Client</a>",
          "Energy Storage/Battery/<a href=\"https://github.com/rdbraatz/data-driven-prediction-of-battery-cycle-life-before-capacity-degradation.git\">prediction-of-battery-cycle</a>",
          "Earth Systems/Biosphere/<a href=\"https://github.com/red-list-ecosystem/redlistr.git\">redlistr</a>",
          "Energy Systems/Energy Modeling and Optimization/<a href=\"https://github.com/reegis/deflex.git\">deflex</a>",
          "Sustainable Development/Knowledge Platforms/<a href=\"https://github.com/regen-network/regen-ledger.git\">Regen Ledger</a>",
          "Natural Resources/Soil and Land/<a href=\"https://github.com/reginalexavier/OpenLand.git\">OpenLand</a>",
          "Climate and Earth Science/Climate Data Processing and Access/<a href=\"https://github.com/rOpenSpain/climaemet.git\">climaemet</a>",
          "Earth Systems/Biosphere/<a href=\"https://github.com/prioritizr/prioritizr.git\">prioritizr</a>",
          "Renewable Energy/Photovoltaics and Solar Energy/<a href=\"https://github.com/qpv-research-group/rayflare.git\">rayflare</a>",
          "Climate and Earth Science/Earth and Climate Modeling/<a href=\"https://github.com/pytroll/pygac.git\">pygac</a>",
          "Earth Systems/Biosphere/<a href=\"https://github.com/protect-earth/TreeTracker.git\">Tree Tracker</a>",
          "Renewable Energy/Photovoltaics and Solar Energy/<a href=\"https://github.com/pvcaptest/pvcaptest.git\">pvcaptest</a>",
          "Renewable Energy/Photovoltaics and Solar Energy/<a href=\"https://github.com/pvedu/photovoltaic.git\">photovoltaic</a>",
          "Renewable Energy/Photovoltaics and Solar Energy/<a href=\"https://github.com/pvlib/pvanalytics.git\">pvanalytics</a>",
          "Renewable Energy/Photovoltaics and Solar Energy/<a href=\"https://github.com/pvlib/pvlib-python.git\">pvlib-python</a>",
          "Natural Resources/Water Supply and Quality/<a href=\"https://github.com/pySTEPS/pysteps.git\">pySTEPS</a>",
          "Energy Systems/Energy Modeling and Optimization/<a href=\"https://github.com/pyaf/load_forecasting.git\">load_forecasting</a>",
          "Natural Resources/Soil and Land/<a href=\"https://github.com/pyviz-topics/EarthML.git\">EarthML</a>",
          "Energy Storage/Battery/<a href=\"https://github.com/pybamm-team/PyBaMM.git\">PyBaMM</a>",
          "Natural Resources/Water Supply and Quality/<a href=\"https://github.com/pygsflow/pygsflow.git\">pyGSFLOW</a>",
          "Natural Resources/Agriculture and Nutrition/<a href=\"https://github.com/ss3sim/ss3sim.git\">ss3sim</a>",
          "Climate and Earth Science/Earth and Climate Modeling/<a href=\"https://github.com/pylandtemp/pylandtemp.git\">pylandtemp</a>",
          "Energy Systems/Energy Modeling and Optimization/<a href=\"https://github.com/pypsa-meets-earth/pypsa-earth.git\">PyPSA-Earth</a>",
          "Earth Systems/Biosphere/<a href=\"https://github.com/pyronear/pyro-risks.git\">Pyronear Risks</a>",
          "Earth Systems/Biosphere/<a href=\"https://github.com/pyronear/pyro-vision.git\">Pyrovision</a>",
          "Renewable Energy/Wind Energy/<a href=\"https://github.com/python-windrose/windrose.git\">windrose</a>",
          "Energy Storage/Battery/<a href=\"https://github.com/pybamm-team/liionpack.git\">liionpack</a>",
          "Renewable Energy/Photovoltaics and Solar Energy/<a href=\"https://github.com/squishykid/solax.git\">solax</a>",
          "Energy Systems/Energy Modeling and Optimization/<a href=\"https://github.com/slacgismo/TESS.git\">Transactive Energy Service System</a>",
          "Natural Resources/Natural Hazard and Poverty/<a href=\"https://github.com/spaceml-org/ml4floods.git\">ML4Floods</a>",
          "Sustainable Development/Data Catalogs and Interfaces/<a href=\"https://github.com/ropensci/epair.git\">epair</a>",
          "Climate and Earth Science/Climate Data Processing and Access/<a href=\"https://github.com/ropensci/getCRUCLdata.git\">getCRUCLdata</a>",
          "Earth Systems/Hydrosphere/<a href=\"https://github.com/ropensci/hydroscoper.git\">hydroscoper</a>",
          "Renewable Energy/Photovoltaics and Solar Energy/<a href=\"https://github.com/ropensci/nasapower.git\">nasapower</a>",
          "Climate and Earth Science/Climate Data Processing and Access/<a href=\"https://github.com/ropensci/prism.git\">PRISM</a>",
          "Natural Resources/Air Quality/<a href=\"https://github.com/ropensci/qualR.git\">qualR</a>",
          "Natural Resources/Air Quality/<a href=\"https://github.com/ropensci/rdefra.git\">rdefra</a>",
          "Energy Systems/Datasets on Energy Systems/<a href=\"https://github.com/ropensci/eia.git\">EIA</a>",
          "Earth Systems/Biosphere/<a href=\"https://github.com/ropensci/rebird.git\">rebird</a>",
          "Earth Systems/Biosphere/<a href=\"https://github.com/ropensci/rgbif.git\">rgbif</a>",
          "Earth Systems/Hydrosphere/<a href=\"https://github.com/ropensci/rnoaa.git\">rnoaa</a>",
          "Earth Systems/Biosphere/<a href=\"https://github.com/ropensci/rredlist.git\">rredlist</a>",
          "Earth Systems/Hydrosphere/<a href=\"https://github.com/ropensci/rrricanes.git\">rrricanes</a>",
          "Natural Resources/Soil and Land/<a href=\"https://github.com/ropensci/smapr.git\">smapr</a>",
          "Earth Systems/Biosphere/<a href=\"https://github.com/ropensci/spocc.git\">spocc</a>",
          "Consumption of Energy and Resources/Mobility and Transportation/<a href=\"https://github.com/ropensci/stplanr.git\">stplanr</a>",
          "Earth Systems/Biosphere/<a href=\"https://github.com/ropensci/rfishbase.git\">rfishbase</a>",
          "Earth Systems/Biosphere/<a href=\"https://github.com/ropensci/taxize.git\">taxize</a>",
          "Climate and Earth Science/Climate Data Processing and Access/<a href=\"https://github.com/ropensci/clifro.git\">CliFlo</a>",
          "Natural Resources/Water Supply and Quality/<a href=\"https://github.com/ropensci/cde.git\">CDE</a>",
          "Sustainable Development/Sustainable Investment/<a href=\"https://github.com/remindmodel/remind.git\">The REgional Model of INvestments and Development</a>",
          "Consumption of Energy and Resources/Computation and Communication/<a href=\"https://github.com/responsibleproblemsolving/energy-usage.git\">energyusage</a>",
          "Earth Systems/Atmosphere/<a href=\"https://github.com/rich-iannone/splitr.git\">splitr</a>",
          "Energy Systems/Energy Modeling and Optimization/<a href=\"https://github.com/rl-institut/multi-vector-simulator.git\">MVS</a>",
          "Energy Systems/Energy Distribution and Grids/<a href=\"https://github.com/rl-institut/offgridders.git\">offgridders</a>",
          "Energy Storage/Battery/<a href=\"https://github.com/rlogiacco/BatterySense.git\">BatterySense</a>",
          "Energy Systems/Energy Distribution and Grids/<a href=\"https://github.com/robinhenry/gym-anm.git\">Gym-ANM</a>",
          "Climate and Earth Science/Earth and Climate Modeling/<a href=\"https://github.com/ropensci/chirps.git\">chirps</a>",
          "Climate and Earth Science/Radiative Transfer/<a href=\"https://github.com/robintw/Py6S.git\">Py6S</a>",
          "Industrial Ecology/Life Cycle Assessment/<a href=\"https://github.com/romainsacchi/carculator.git\">carculator</a>",
          "Climate and Earth Science/Climate Data Processing and Access/<a href=\"https://github.com/roocs/clisops.git\">clisops</a>",
          "Climate and Earth Science/Climate Data Processing and Access/<a href=\"https://github.com/ropensci/GSODR.git\">GSODR</a>",
          "Sustainable Development/Data Catalogs and Interfaces/<a href=\"https://github.com/ropensci/MODIStsp.git\">MODIStsp</a>",
          "Natural Resources/Soil and Land/<a href=\"https://github.com/ropensci/NLMR.git\">NLMR</a>",
          "Consumption of Energy and Resources/Mobility and Transportation/<a href=\"https://github.com/ropensci/bikedata.git\">bikedata</a>",
          "Climate and Earth Science/Climate Data Processing and Access/<a href=\"https://github.com/ropensci/bomrang.git\">bomrang</a>",
          "Earth Systems/Hydrosphere/<a href=\"https://github.com/robwschlegel/heatwaveR.git\">heatwaveR</a>",
          "Earth Systems/Hydrosphere/<a href=\"https://github.com/ropensci/tidyhydat.git\">tidyhydat</a>",
          "Climate and Earth Science/Meteorological Observation and Forecast/<a href=\"https://github.com/ropensci/weathercan.git\">weathercan</a>",
          "Energy Systems/Energy Modeling and Optimization/<a href=\"https://github.com/rte-antares-rpackage/antaresRead.git\">antaresRead</a>",
          "Renewable Energy/Wind Energy/<a href=\"https://github.com/sintel-dev/Draco.git\">GreenGuard</a>",
          "Natural Resources/Agriculture and Nutrition/<a href=\"https://github.com/sizespectrum/mizer.git\">mizer</a>",
          "Natural Resources/Air Quality/<a href=\"https://github.com/skgrange/rmweather.git\">rmweather</a>",
          "Natural Resources/Air Quality/<a href=\"https://github.com/skgrange/saqgetr.git\">saqgetr</a>",
          "Renewable Energy/Photovoltaics and Solar Energy/<a href=\"https://github.com/slacgismo/StatisticalClearSky.git\">StatisticalClearSky</a>",
          "Sustainable Development/Data Catalogs and Interfaces/<a href=\"https://github.com/resource-watch/resource-watch.git\">Resource Watch</a>",
          "Energy Systems/Energy Distribution and Grids/<a href=\"https://github.com/slacgismo/gridlabd.git\">GridLAB-D</a>",
          "Natural Resources/Soil and Land/<a href=\"https://github.com/sinnwerkstatt/landmatrix.git\">Land Matrix</a>",
          "Renewable Energy/Photovoltaics and Solar Energy/<a href=\"https://github.com/slacgismo/solar-data-tools.git\">solar-data-tools</a>",
          "Earth Systems/Atmosphere/<a href=\"https://github.com/slcs-jsc/mptrac.git\">Massive-Parallel Trajectory Calculations</a>",
          "Sustainable Development/Data Catalogs and Interfaces/<a href=\"https://github.com/smart-data-models/dataModel.Environment.git\">Smart Data Models</a>",
          "Earth Systems/Cryosphere/<a href=\"https://github.com/smrt-model/smrt.git\">smrt</a>",
          "Energy Storage/Battery/<a href=\"https://github.com/snl-quest/snl-quest.git\">snl-quest</a>",
          "Energy Systems/Energy Modeling and Optimization/<a href=\"https://github.com/sogno-platform/dpsim.git\">DPsim</a>",
          "Earth Systems/Biosphere/<a href=\"https://github.com/sollano/forestmangr.git\">forestmangr</a>",
          "Earth Systems/Atmosphere/<a href=\"https://github.com/space-physics/lowtran.git\">lowtran</a>",
          "Climate and Earth Science/Radiative Transfer/<a href=\"https://github.com/slcs-jsc/jurassic.git\">Juelich Rapid Spectral Simulation Code</a>",
          "Emissions/Carbon Intensity and Accounting/<a href=\"https://github.com/singularity-energy/open-grid-emissions.git\">Open Grid Emissions Initiative</a>",
          "Earth Systems/Atmosphere/<a href=\"https://github.com/simonom/PyCHAM.git\">PyCHAM</a>",
          "Natural Resources/Air Quality/<a href=\"https://github.com/shuowang-ai/PM2.5-GNN.git\">PM2.5-GNN</a>",
          "Energy Systems/Energy Modeling and Optimization/<a href=\"https://github.com/rte-antares-rpackage/antaresViz.git\">antaresViz</a>",
          "Energy Systems/Energy Distribution and Grids/<a href=\"https://github.com/rte-france/Grid2Op.git\">Grid2Op</a>",
          "Energy Storage/Hydrogen/<a href=\"https://github.com/sandialabs/hyram.git\">The Hydrogen Risk Assessment Models</a>",
          "Industrial Ecology/Circular Economy and Waste/<a href=\"https://github.com/santiago-sanitation-systems/Santiago.jl.git\">Santiago.jl</a>",
          "Renewable Energy/Bioenergy/<a href=\"https://github.com/sashahafner/biogas.git\">biogas</a>",
          "Emissions/Emission Observation and Modeling/<a href=\"https://github.com/satish1901/Methane-detection-from-hyperspectral-imagery.git\">Methane-detection-from-hyperspectral-imagery</a>",
          "Consumption of Energy and Resources/Computation and Communication/<a href=\"https://github.com/sb-ai-lab/Eco2AI.git\">Eco2AI</a>",
          "Natural Resources/Water Supply and Quality/<a href=\"https://github.com/sbegueria/SPEI.git\">SPEI</a>",
          "Consumption of Energy and Resources/Mobility and Transportation/<a href=\"https://github.com/schildbach/public-transport-enabler.git\">Public Transport Enabler</a>",
          "Earth Systems/Hydrosphere/<a href=\"https://github.com/sdl60660/river-runner.git\">River Runner</a>",
          "Natural Resources/Air Quality/<a href=\"https://github.com/sensebox/openSenseMap.git\">openSenseMap</a>",
          "Sustainable Development/Data Catalogs and Interfaces/<a href=\"https://github.com/sentinel-hub/custom-scripts.git\">Custom Scripts Sentinel Hub</a>",
          "Natural Resources/Agriculture and Nutrition/<a href=\"https://github.com/sentinel-hub/field-delineation.git\">Automatic field delineation</a>",
          "Sustainable Development/Data Catalogs and Interfaces/<a href=\"https://github.com/sentinel-hub/sentinelhub-py.git\">sentinelhub-py</a>",
          "Sustainable Development/Data Catalogs and Interfaces/<a href=\"https://github.com/sentinelsat/sentinelsat.git\">sentinelsat</a>",
          "Earth Systems/Biosphere/<a href=\"https://github.com/shmh40/detectreeRGB.git\">detectreeRGB</a>",
          "Natural Resources/Air Quality/<a href=\"https://github.com/shootismoke/mobile-app.git\">shoot-i-smoke</a>",
          "Natural Resources/Air Quality/<a href=\"https://github.com/spatialmodel/inmap.git\">inmap</a>",
          "Renewable Energy/Photovoltaics and Solar Energy/<a href=\"https://github.com/renewables-ninja/gsee.git\">gsee</a>",
          "Sustainable Development/Data Catalogs and Interfaces/<a href=\"https://github.com/16EAGLE/getSpatialData.git\">getSpatialData</a>",
          "Earth Systems/Hydrosphere/<a href=\"https://github.com/ESIPFed/LakePy.git\">LakePy</a>",
          "Energy Systems/Energy Modeling and Optimization/<a href=\"https://github.com/Breakthrough-Energy/REISE.jl.git\">REISE.jl</a>",
          "Consumption of Energy and Resources/Buildings and Heating/<a href=\"https://github.com/BrickSchema/Brick.git\">Brick</a>",
          "Climate and Earth Science/Climate Data Processing and Access/<a href=\"https://github.com/CCI-Tools/cate.git\">Cate</a>",
          "Emissions/Carbon Capture and Removel/<a href=\"https://github.com/CCSI-Toolset/FOQUS.git\">FOQUS</a>",
          "Natural Resources/Air Quality/<a href=\"https://github.com/CEMPD/SMOKE.git\">SMOKE</a>",
          "Earth Systems/Cryosphere/<a href=\"https://github.com/CICE-Consortium/CICE.git\">CICE</a>",
          "Earth Systems/Cryosphere/<a href=\"https://github.com/CICE-Consortium/Icepack.git\">icepack</a>",
          "Climate and Earth Science/Earth and Climate Modeling/<a href=\"https://github.com/CLIMADA-project/climada_python.git\">CLIMADA</a>",
          "Industrial Ecology/Circular Economy and Waste/<a href=\"https://github.com/CMLPlatform/CircuMAT.git\">CircuMat</a>",
          "Industrial Ecology/Circular Economy and Waste/<a href=\"https://github.com/CMLPlatform/pycirk.git\">pycirk</a>",
          "Industrial Ecology/Circular Economy and Waste/<a href=\"https://github.com/CMLPlatform/ramascene.git\">RaMa-Scene</a>",
          "Emissions/Emission Observation and Modeling/<a href=\"https://github.com/CMU-CREATE-Lab/deep-smoke-machine.git\">deep-smoke-machine</a>",
          "Sustainable Development/Sustainable Development Goals/<a href=\"https://github.com/CMUSustainability/SDGmapR.git\">SDGmapR</a>",
          "Earth Systems/Atmosphere/<a href=\"https://github.com/CNES/MAJA.git\">maja</a>",
          "Earth Systems/Hydrosphere/<a href=\"https://github.com/COSIMA/cosima-cookbook.git\">COSIMA</a>",
          "Natural Resources/Water Supply and Quality/<a href=\"https://github.com/CSHS-CWRA/CSHShydRology.git\">CSHShydRology</a>",
          "Renewable Energy/Geothermal Energy/<a href=\"https://github.com/CalebBell/thermo.git\">thermo</a>",
          "Energy Systems/Energy Distribution and Grids/<a href=\"https://github.com/Breakthrough-Energy/PowerSimData.git\">PowerSimData</a>",
          "Renewable Energy/Photovoltaics and Solar Energy/<a href=\"https://github.com/BreakingBytes/pvfree.git\">PV Free</a>",
          "Consumption of Energy and Resources/Computation and Communication/<a href=\"https://github.com/Breakend/experiment-impact-tracker.git\">experiment-impact-tracker</a>",
          "Consumption of Energy and Resources/Computation and Communication/<a href=\"https://github.com/Boavizta/environmental-footprint-data.git\">Environmental Footprint Data</a>",
          "Energy Systems/Energy Modeling and Optimization/<a href=\"https://github.com/ADGEfficiency/energy-py-linear.git\">energy-py-linear</a>",
          "Energy Systems/Energy Modeling and Optimization/<a href=\"https://github.com/ADGEfficiency/energy-py.git\">energy-py</a>",
          "Climate and Earth Science/Radiative Transfer/<a href=\"https://github.com/AER-RC/LBLRTM.git\">LBLRTM</a>",
          "Natural Resources/Agriculture and Nutrition/<a href=\"https://github.com/APSIMInitiative/ApsimX.git\">ApsimX</a>",
          "Climate and Earth Science/Climate Data Processing and Access/<a href=\"https://github.com/ARCCSS-extremes/climpact.git\">climpact</a>",
          "Natural Resources/Water Supply and Quality/<a href=\"https://github.com/ARPA-SIMC/CRITERIA3D.git\">CRITERIA3D</a>",
          "Consumption of Energy and Resources/Mobility and Transportation/<a href=\"https://github.com/ATFutures/gtfs-router.git\">gtfs-router</a>",
          "Natural Resources/Agriculture and Nutrition/<a href=\"https://github.com/AgroCares/Open-Bodem-Index-Calculator.git\">OBI</a>",
          "Natural Resources/Water Supply and Quality/<a href=\"https://github.com/Call-for-Code/Liquid-Prep.git\">Liquid Prep</a>",
          "Natural Resources/Water Supply and Quality/<a href=\"https://github.com/AguaClara/aguaclara.git\">aguaclara</a>",
          "Natural Resources/Water Supply and Quality/<a href=\"https://github.com/AquaticEcoDynamics/GLM.git\">The General Lake Model</a>",
          "Natural Resources/Water Supply and Quality/<a href=\"https://github.com/AquaticEcoDynamics/libaed2.git\">AED2</a>",
          "Renewable Energy/Hydro Energy/<a href=\"https://github.com/BEMRosetta/BEMRosetta.git\">BEMRosetta</a>",
          "Energy Storage/Battery/<a href=\"https://github.com/BattMoTeam/BattMo.git\">BattMo</a>",
          "Earth Systems/Biosphere/<a href=\"https://github.com/BioPAL/BioPAL.git\">BioPAL</a>",
          "Renewable Energy/Bioenergy/<a href=\"https://github.com/BioSTEAMDevelopmentGroup/biosteam.git\">biosteam</a>",
          "Earth Systems/Biosphere/<a href=\"https://github.com/Bioverse-Labs/deep-learning.git\">Bioverse Labs</a>",
          "Consumption of Energy and Resources/Mobility and Transportation/<a href=\"https://github.com/BlinkTagInc/node-gtfs.git\">node-gtfs</a>",
          "Energy Systems/Energy Modeling and Optimization/<a href=\"https://github.com/AntaresSimulatorTeam/Antares_Simulator.git\">Antares Simulator</a>",
          "Earth Systems/Biosphere/<a href=\"https://github.com/CatalogueOfLife/general.git\">The Catalogue of Life</a>",
          "Earth Systems/Hydrosphere/<a href=\"https://github.com/AustralianAntarcticDivision/blueant.git\">Blueant</a>",
          "Consumption of Energy and Resources/Buildings and Heating/<a href=\"https://github.com/CenterForTheBuiltEnvironment/comfort_tool.git\">comfort_tool</a>",
          "Energy Systems/Datasets on Energy Systems/<a href=\"https://github.com/DemandRegioTeam/disaggregator.git\">disaggregator</a>",
          "Energy Systems/Energy Modeling and Optimization/<a href=\"https://github.com/DrafProject/draf.git\">draf</a>",
          "Emissions/Carbon Intensity and Accounting/<a href=\"https://github.com/DrafProject/elmada.git\">elmada</a>",
          "Earth Systems/Hydrosphere/<a href=\"https://github.com/DrylandEcology/SOILWAT2.git\">SOILWAT2</a>",
          "Climate and Earth Science/Earth and Climate Modeling/<a href=\"https://github.com/E3SM-Project/E3SM.git\">E3SM</a>",
          "Climate and Earth Science/Earth and Climate Modeling/<a href=\"https://github.com/E3SM-Project/e3sm_diags.git\">E3SM Diagnostics Package</a>",
          "Climate and Earth Science/Earth and Climate Modeling/<a href=\"https://github.com/E3SM-Project/gdess.git\">GDESS</a>",
          "Earth Systems/Atmosphere/<a href=\"https://github.com/E3SM-Project/scream.git\">SCREAM</a>",
          "Earth Systems/Hydrosphere/<a href=\"https://github.com/Deltares/Wflow.jl.git\">Wflow</a>",
          "Climate and Earth Science/Earth and Climate Modeling/<a href=\"https://github.com/ECCC-ASTD-MRD/gem.git\">The Global Environmental Multiscale Model</a>",
          "Energy Storage/Battery/<a href=\"https://github.com/ECSHackWeek/impedance.py.git\">impedance.py</a>",
          "Energy Storage/Hydrogen/<a href=\"https://github.com/ECSIM/opem.git\">OPEM</a>",
          "Energy Storage/Hydrogen/<a href=\"https://github.com/ECSIM/pem-dataset1.git\">pem-dataset1</a>",
          "Consumption of Energy and Resources/Buildings and Heating/<a href=\"https://github.com/EDF-Lab/BuildSysPro.git\">BuildSysPro</a>",
          "Climate and Earth Science/Earth and Climate Modeling/<a href=\"https://github.com/ESCOMP/CESM.git\">The Community Earth System Model</a>",
          "Climate and Earth Science/Earth and Climate Modeling/<a href=\"https://github.com/ESCOMP/CMEPS.git\">CMEPS</a>",
          "Sustainable Development/Data Catalogs and Interfaces/<a href=\"https://github.com/ESGF/esgf-pyclient.git\">ESGF PyClient</a>",
          "Consumption of Energy and Resources/Buildings and Heating/<a href=\"https://github.com/CenterForTheBuiltEnvironment/clima.git\">CBE Clima Tool</a>",
          "Earth Systems/Cryosphere/<a href=\"https://github.com/ECCO-GROUP/ECCO-v4-Python-Tutorial.git\">ECCO-v4-Python-Tutorial</a>",
          "Natural Resources/Agriculture and Nutrition/<a href=\"https://github.com/DSSAT/dssat-csm-os.git\">DSSAT Cropping System Model</a>",
          "Energy Storage/Hydrogen/<a href=\"https://github.com/ECSIM/gopem.git\">gopem</a>",
          "Sustainable Development/Knowledge Platforms/<a href=\"https://github.com/DPGAlliance/publicgoods-candidates.git\">Digital Public Goods</a>",
          "Consumption of Energy and Resources/Buildings and Heating/<a href=\"https://github.com/CenterForTheBuiltEnvironment/pythermalcomfort.git\">pythermalcomfort</a>",
          "Earth Systems/Biosphere/<a href=\"https://github.com/DS3Lab/forest-prediction.git\">forest-prediction</a>",
          "Natural Resources/Soil and Land/<a href=\"https://github.com/Christiaanvandertol/SCOPE.git\">SCOPE</a>",
          "Climate and Earth Science/Earth and Climate Modeling/<a href=\"https://github.com/CliMA/ClimateMachine.jl.git\">ClimateMachine.jl</a>",
          "Earth Systems/Hydrosphere/<a href=\"https://github.com/CliMA/LESbrary.jl.git\">LESbrary.jl</a>",
          "Earth Systems/Hydrosphere/<a href=\"https://github.com/CliMA/Oceananigans.jl.git\">Oceananigans.jl</a>",
          "Earth Systems/Atmosphere/<a href=\"https://github.com/CliMA/RRTMGP.jl.git\">RRTMGP.jl</a>",
          "Climate and Earth Science/Earth and Climate Modeling/<a href=\"https://github.com/CliMT/climt.git\">CliMT</a>",
          "Climate and Earth Science/Earth and Climate Modeling/<a href=\"https://github.com/ClimateMARGO/ClimateMARGO.jl.git\">ClimateMARGO.jl</a>",
          "Climate and Earth Science/Earth and Climate Modeling/<a href=\"https://github.com/CliMA/Land.git\">CLIMA-Land</a>",
          "Sustainable Development/Knowledge Platforms/<a href=\"https://github.com/ClimateWatch-Vizzuality/climate-watch.git\">Climate Watch</a>",
          "Earth Systems/Hydrosphere/<a href=\"https://github.com/Climdyn/qgs.git\">qgs</a>",
          "Emissions/Carbon Intensity and Accounting/<a href=\"https://github.com/ConferenceCarbonTracker/CarbonFootprintEGU.git\">CarbonFootprintEGU</a>",
          "Earth Systems/Hydrosphere/<a href=\"https://github.com/DFO-Ocean-Navigator/Ocean-Data-Map-Project.git\">Ocean-Data-Map-Project</a>",
          "Natural Resources/Agriculture and Nutrition/<a href=\"https://github.com/ConservationInternational/resilienceatlas.git\">Resilience Atlas</a>",
          "Natural Resources/Soil and Land/<a href=\"https://github.com/ConservationInternational/trends.earth.git\">Trends.Earth</a>",
          "Earth Systems/Biosphere/<a href=\"https://github.com/CornellLabofOrnithology/auk.git\">auk</a>",
          "Sustainable Development/Knowledge Platforms/<a href=\"https://github.com/ClimateMind/climatemind-backend.git\">Climatemind</a>",
          "Natural Resources/Natural Hazard and Poverty/<a href=\"https://github.com/CriticalAssetManagement/CAMS.git\">CAMS</a>",
          "Earth Systems/Biosphere/<a href=\"https://github.com/weecology/NeonTreeEvaluation.git\">NeonTreeEvaluation</a>",
          "Earth Systems/Biosphere/<a href=\"https://github.com/weecology/DeepTreeAttention.git\">DeepTreeAttention</a>",
          "Earth Systems/Biosphere/<a href=\"https://github.com/weecology/DeepForest.git\">DeepForest</a>",
          "Natural Resources/Soil and Land/<a href=\"https://github.com/wandb/droughtwatch.git\">droughtwatch</a>",
          "Renewable Energy/Geothermal Energy/<a href=\"https://github.com/waiwera/waiwera.git\">waiwera</a>",
          "Earth Systems/Cryosphere/<a href=\"https://github.com/vannizhang/sea-ice.git\">sea-ice</a>",
          "Consumption of Energy and Resources/Buildings and Heating/<a href=\"https://github.com/volkszaehler/mbmd.git\">ModBus Measurement Daemon</a>",
          "Industrial Ecology/Life Cycle Assessment/<a href=\"https://github.com/uslci-admin/uslci-content.git\">uslci-content</a>",
          "Earth Systems/Cryosphere/<a href=\"https://github.com/weiji14/deepbedmap.git\">DeepBedMap</a>",
          "Natural Resources/Water Supply and Quality/<a href=\"https://github.com/usbr/PyForecast.git\">PyForecast</a>",
          "Sustainable Development/Knowledge Platforms/<a href=\"https://github.com/usds/justice40-tool.git\">Justice40 Tool</a>",
          "Consumption of Energy and Resources/Buildings and Heating/<a href=\"https://github.com/volkszaehler/volkszaehler.org.git\">volkszaehler.org</a>",
          "Earth Systems/Cryosphere/<a href=\"https://github.com/weiji14/deepicedrain.git\">DeepIceDrain</a>",
          "Earth Systems/Biosphere/<a href=\"https://github.com/wri/gfw-mapbuilder.git\">gfw-mapbuilder</a>",
          "Industrial Ecology/Circular Economy and Waste/<a href=\"https://github.com/wimlds-trojmiasto/detect-waste.git\">Detect waste</a>",
          "Renewable Energy/Wind Energy/<a href=\"https://github.com/wind-python/windpowerlib.git\">windpowerlib</a>",
          "Earth Systems/Biosphere/<a href=\"https://github.com/woodcrafty/PyETo.git\">PyETo</a>",
          "Renewable Energy/Geothermal Energy/<a href=\"https://github.com/wouterpeere/GHEtool.git\">GHEtool</a>",
          "Sustainable Development/Data Catalogs and Interfaces/<a href=\"https://github.com/wpgp/wopr.git\">wopr</a>",
          "Climate and Earth Science/Earth and Climate Modeling/<a href=\"https://github.com/wrf-model/WRF.git\">WRF</a>",
          "Earth Systems/Biosphere/<a href=\"https://github.com/wri/carbon-budget.git\">carbon budget</a>",
          "Energy Systems/Datasets on Energy Systems/<a href=\"https://github.com/wri/global-power-plant-database.git\">Global Power Plant Database</a>",
          "Earth Systems/Biosphere/<a href=\"https://github.com/wri/sentinel-tree-cover.git\">Sentinel-Tree-Cover</a>",
          "Climate and Earth Science/Climate Data Processing and Access/<a href=\"https://github.com/xCDAT/xcdat.git\">xCDAT</a>",
          "Climate and Earth Science/Climate Data Processing and Access/<a href=\"https://github.com/xarray-contrib/xskillscore.git\">xskillscore</a>",
          "Earth Systems/Biosphere/<a href=\"https://github.com/usa-npn/rnpn.git\">rnpn</a>",
          "Climate and Earth Science/Earth and Climate Modeling/<a href=\"https://github.com/xgcm/xgcm.git\">xgcm</a>",
          "Sustainable Development/Sustainable Investment/<a href=\"https://github.com/wikirate/wikirate.git\">WikiRate</a>",
          "Energy Systems/Energy Distribution and Grids/<a href=\"https://github.com/upb-lea/openmodelica-microgrid-gym.git\">openmodelica-microgrid-gym</a>",
          "Natural Resources/Soil and Land/<a href=\"https://github.com/techmatters/terraso-backend.git\">Terraso</a>",
          "Earth Systems/Biosphere/<a href=\"https://github.com/umr-amap/BIOMASS.git\">BIOMASS</a>",
          "Natural Resources/Agriculture and Nutrition/<a href=\"https://github.com/zalf-rpm/monica.git\">monica</a>",
          "Sustainable Development/Sustainable Development Goals/<a href=\"https://github.com/sustainlab-group/sustainbench.git\">SustainBench</a>",
          "Energy Systems/Energy Modeling and Optimization/<a href=\"https://github.com/switch-model/switch.git\">switch-model</a>",
          "Energy Systems/Datasets on Energy Systems/<a href=\"https://github.com/systemcatch/eiapy.git\">eiapy</a>",
          "Consumption of Energy and Resources/Mobility and Transportation/<a href=\"https://github.com/systragroup/quetzal.git\">Quetzal</a>",
          "Natural Resources/Water Supply and Quality/<a href=\"https://github.com/tbep-tech/wqtrends.git\">wqtrends</a>",
          "Renewable Energy/Photovoltaics and Solar Energy/<a href=\"https://github.com/tdcosim/SolarPV-DER-simulation-tool.git\">SolarPV-DER-simulation-utility</a>",
          "Earth Systems/Biosphere/<a href=\"https://github.com/tdwg/dwc.git\">Darwin Core</a>",
          "Earth Systems/Hydrosphere/<a href=\"https://github.com/team-ocean/veros.git\">Veros</a>",
          "Earth Systems/Biosphere/<a href=\"https://github.com/technologiestiftung/giessdenkiez-de.git\">Gieß den Kiez</a>",
          "Climate and Earth Science/Radiative Transfer/<a href=\"https://github.com/tenstream/tenstream.git\">Tenstream</a>",
          "Consumption of Energy and Resources/Computation and Communication/<a href=\"https://github.com/thegreenwebfoundation/co2.js.git\">co2.js</a>",
          "Consumption of Energy and Resources/Computation and Communication/<a href=\"https://github.com/thegreenwebfoundation/grid-intensity-go.git\">grid-intensity-go</a>",
          "Energy Systems/Datasets on Energy Systems/<a href=\"https://github.com/thomastu/pyEIA.git\">pyEIA</a>",
          "Earth Systems/Biosphere/<a href=\"https://github.com/tiagodc/TreeLS.git\">TreeLS</a>",
          "Earth Systems/Atmosphere/<a href=\"https://github.com/timduly4/pyglow.git\">pyglow</a>",
          "Natural Resources/Water Supply and Quality/<a href=\"https://github.com/toogad/PooPyLab_Project.git\">PooPyLab_Project</a>",
          "Earth Systems/Biosphere/<a href=\"https://github.com/traitecoevo/plant.git\">plant</a>",
          "Consumption of Energy and Resources/Mobility and Transportation/<a href=\"https://github.com/transitland/transitland-atlas.git\">Transitland</a>",
          "Consumption of Energy and Resources/Buildings and Heating/<a href=\"https://github.com/trynthink/scout.git\">scout</a>",
          "Energy Systems/Energy Modeling and Optimization/<a href=\"https://github.com/tum-ens/pyGRETA.git\">pyGRETA</a>",
          "Energy Systems/Energy Modeling and Optimization/<a href=\"https://github.com/tum-ens/urbs.git\">urbs</a>",
          "Renewable Energy/Wind Energy/<a href=\"https://github.com/turbinesFoam/turbinesFoam.git\">turbinesFoam</a>",
          "Emissions/Emission Observation and Modeling/<a href=\"https://github.com/uataq/X-STILT.git\">X-STILT</a>",
          "Emissions/Emission Observation and Modeling/<a href=\"https://github.com/uataq/stilt.git\">stilt</a>",
          "Consumption of Energy and Resources/Mobility and Transportation/<a href=\"https://github.com/ubahnverleih/WoBike.git\">WoBike</a>",
          "Climate and Earth Science/Earth and Climate Modeling/<a href=\"https://github.com/ubilabs/esa-climate-from-space.git\">esa-climate-from-space</a>",
          "Consumption of Energy and Resources/Mobility and Transportation/<a href=\"https://github.com/upb-lea/gym-electric-motor.git\">Gym Electric Motor</a>",
          "Climate and Earth Science/Climate Data Processing and Access/<a href=\"https://github.com/zmlabe/IceVarFigs.git\">IceVarFigs</a>",
          "Natural Resources/Agriculture and Nutrition",
          "Natural Resources/Air Quality",
          "Earth Systems/Atmosphere",
          "Energy Storage/Battery",
          "Renewable Energy/Bioenergy",
          "Earth Systems/Biosphere",
          "Consumption of Energy and Resources/Buildings and Heating",
          "Emissions/Carbon Capture and Removel",
          "Emissions/Carbon Intensity and Accounting",
          "Industrial Ecology/Circular Economy and Waste",
          "Climate and Earth Science/Climate Data Processing and Access",
          "Consumption of Energy and Resources/Computation and Communication",
          "Earth Systems/Cryosphere",
          "Sustainable Development/Data Catalogs and Interfaces",
          "Energy Systems/Datasets on Energy Systems",
          "Climate and Earth Science/Earth and Climate Modeling",
          "Emissions/Emission Observation and Modeling",
          "Energy Systems/Energy Distribution and Grids",
          "Energy Systems/Energy Modeling and Optimization",
          "Energy Systems/Energy Monitoring and Control",
          "Renewable Energy/Geothermal Energy",
          "Renewable Energy/Hydro Energy",
          "Energy Storage/Hydrogen",
          "Earth Systems/Hydrosphere",
          "Climate and Earth Science/Integrated Assessment",
          "Sustainable Development/Knowledge Platforms",
          "Industrial Ecology/Life Cycle Assessment",
          "Climate and Earth Science/Meteorological Observation and Forecast",
          "Consumption of Energy and Resources/Mobility and Transportation",
          "Natural Resources/Natural Hazard and Poverty",
          "Renewable Energy/Photovoltaics and Solar Energy",
          "Consumption of Energy and Resources/Production and Industry",
          "Climate and Earth Science/Radiative Transfer",
          "Natural Resources/Soil and Land",
          "Sustainable Development/Sustainable Development Goals",
          "Sustainable Development/Sustainable Investment",
          "Natural Resources/Water Supply and Quality",
          "Renewable Energy/Wind Energy",
          "Climate and Earth Science",
          "Consumption of Energy and Resources",
          "Earth Systems",
          "Emissions",
          "Energy Storage",
          "Energy Systems",
          "Industrial Ecology",
          "Natural Resources",
          "Renewable Energy",
          "Sustainable Development"
         ],
         "insidetextorientation": "radial",
         "labels": [
          "<a href=\"https://github.com/lanl-ansi/WaterModels.jl.git\">WaterModels.jl</a>",
          "<a href=\"https://github.com/krisrs1128/glacier_mapping.git\">Glacier Mapping From Satellite Imagery</a>",
          "<a href=\"https://github.com/kube-green/kube-green.git\">kube-green</a>",
          "<a href=\"https://github.com/kwstat/agridat.git\">Agridat</a>",
          "<a href=\"https://github.com/kylemcdonald/ethereum-nft-activity.git\">cryptoart-footprint</a>",
          "<a href=\"https://github.com/kylemcdonald/ethereum-nft-activity.git\">ethereum-nft-activity</a>",
          "<a href=\"https://github.com/ladybug-tools/dragonfly-legacy.git\">Dragonfly for Grasshopper</a>",
          "<a href=\"https://github.com/ladybug-tools/honeybee.git\">honeybee</a>",
          "<a href=\"https://github.com/ladybug-tools/uwg.git\">Urban Weather Generator</a>",
          "<a href=\"https://github.com/landlab/landlab.git\">Landlab</a>",
          "<a href=\"https://github.com/lanl-ansi/GasModels.jl.git\">GasModels.jl</a>",
          "<a href=\"https://github.com/lanl-ansi/PowerModels.jl.git\">PowerModels.jl</a>",
          "<a href=\"https://github.com/metno/emep-ctm.git\">Open Source EMEP MSC-W model</a>",
          "<a href=\"https://github.com/metno/esd.git\">esd</a>",
          "<a href=\"https://github.com/microsoft/AIforEarthDataSets.git\">AI for Earth Data Sets</a>",
          "<a href=\"https://github.com/microsoft/PlanetaryComputerDataCatalog.git\">Planetary Computer Data Catalog</a>",
          "<a href=\"https://github.com/microsoft/aerial_wildlife_detection.git\">Annotation Interface for Data-driven Ecology</a>",
          "<a href=\"https://github.com/mikejohnson51/climateR.git\">climateR</a>",
          "<a href=\"https://github.com/milankl/FlyingClimate.git\">FlyingClimate</a>",
          "<a href=\"https://github.com/mjucker/MiMA.git\">MiMA</a>",
          "<a href=\"https://github.com/mkoohafkan/rivr.git\">rivr</a>",
          "<a href=\"https://github.com/mlco2/codecarbon.git\">CodeCarbon</a>",
          "<a href=\"https://github.com/mlco2/impact.git\">impact</a>",
          "<a href=\"https://github.com/mmb-carb/ESTA.git\">ESTA</a>",
          "<a href=\"https://github.com/mobilityhouse/ocpp.git\">ocpp</a>",
          "<a href=\"https://github.com/modflowpy/flopy.git\">flopy</a>",
          "<a href=\"https://github.com/moja-global/About_moja_global.git\">Full Lands INtegration Tool</a>",
          "<a href=\"https://github.com/mom-ocean/MOM5.git\">MOM5</a>",
          "<a href=\"https://github.com/monocongo/climate_indices.git\">Climate_Indices</a>",
          "<a href=\"https://github.com/morkro/happy-plants.git\">HappyPlants</a>",
          "<a href=\"https://github.com/konstantinstadler/pymrio.git\">pymrio</a>",
          "<a href=\"https://github.com/mroberge/hydrofunctions.git\">HydroFunctions</a>",
          "<a href=\"https://github.com/kmax12/gridstatus.git\">isodata</a>",
          "<a href=\"https://github.com/kbaranko/peaky-finders.git\">Peaky Finders</a>",
          "<a href=\"https://github.com/lanl-ansi/PowerModelsAnnex.jl.git\">PowerModelsAnnex.jl</a>",
          "<a href=\"https://github.com/meteostat/meteostat-python.git\">Meteostat Python</a>",
          "<a href=\"https://github.com/meteoinfo/MeteoInfo.git\">MeteoInfo</a>",
          "<a href=\"https://github.com/meom-group/CDFTOOLS.git\">CDFTOOLS</a>",
          "<a href=\"https://github.com/meltaxa/solariot.git\">solariot</a>",
          "<a href=\"https://github.com/mdbartos/pysheds.git\">pysheds</a>",
          "<a href=\"https://github.com/mdbartos/pipedream.git\">pipedream</a>",
          "<a href=\"https://github.com/mathworks/climatedatastore.git\">Climate Data Store Toolbox for MATLAB</a>",
          "<a href=\"https://github.com/mathworks/Fuel-Cell-Vehicle-Model-Simscape.git\">Vehicle with Fuel Cell Powertrain</a>",
          "<a href=\"https://github.com/martibosch/pylandstats.git\">PyLandStats</a>",
          "<a href=\"https://github.com/martibosch/detectree.git\">DetecTree</a>",
          "<a href=\"https://github.com/marmelab/argos.git\">argos</a>",
          "<a href=\"https://github.com/marlinarnz/quetzal_germany.git\">quetzal_germany</a>",
          "<a href=\"https://github.com/marine-debris/marine-debris.github.io.git\">MARIDA</a>",
          "<a href=\"https://github.com/mapme-initiative/mapme.biodiversity.git\">mapme.biodiversity</a>",
          "<a href=\"https://github.com/maja601/EuroCrops.git\">EuroCrops</a>",
          "<a href=\"https://github.com/mainmatter/breethe-server.git\">breethe-server</a>",
          "<a href=\"https://github.com/magpiemodel/magpie.git\">MAgPIE</a>",
          "<a href=\"https://github.com/maasglobal/maas-schemas.git\">MaaS Global</a>",
          "<a href=\"https://github.com/m4rz910/NYISOToolkit.git\">NYISOToolkit</a>",
          "<a href=\"https://github.com/ltrr-arizona-edu/burnr.git\">burnr</a>",
          "<a href=\"https://github.com/lionsimbatoolbox/LIONSIMBA.git\">LIONSIMBA</a>",
          "<a href=\"https://github.com/lf-energy/lfenergy-landscape.git\">Linux Foundation Energy Landscape</a>",
          "<a href=\"https://github.com/leonardgoeke/AnyMOD.jl.git\">AnyMOD.jl</a>",
          "<a href=\"https://github.com/lbl-srg/obc.git\">obc</a>",
          "<a href=\"https://github.com/lbl-srg/modelica-buildings.git\">Modelica Buildings library</a>",
          "<a href=\"https://github.com/lbl-srg/MPCPy.git\">MPCPy</a>",
          "<a href=\"https://github.com/lanl/FEHM.git\">FEHM</a>",
          "<a href=\"https://github.com/kazulagi/plantFEM.git\">plantFEM</a>",
          "<a href=\"https://github.com/kdmayer/3D-PV-Locator.git\">PV4GER</a>",
          "<a href=\"https://github.com/mszell/bikenwgrowth.git\">Growing Urban Bicycle Networks</a>",
          "<a href=\"https://github.com/mdolab/openconcept.git\">OpenConcept</a>",
          "<a href=\"https://github.com/mvdh7/PyCO2SYS.git\">PyCO2SYS</a>",
          "<a href=\"https://github.com/open-meteo/open-meteo.git\">Open-Meteo</a>",
          "<a href=\"https://github.com/open-sdg/open-sdg.git\">open-sdg</a>",
          "<a href=\"https://github.com/openENTRANCE/openentrance.git\">openENTRANCE</a>",
          "<a href=\"https://github.com/openaq/openaq-api-v2.git\">OpenAQ API Version 2</a>",
          "<a href=\"https://github.com/openaq/openaq-fetch.git\">OpenAQ Data Ingest Pipeline</a>",
          "<a href=\"https://github.com/openchargemap/ocm-system.git\">Open Charge Map</a>",
          "<a href=\"https://github.com/openclimatedata/pyhector.git\">pyhector</a>",
          "<a href=\"https://github.com/openclimatedata/unfccc-detailed-data-by-party.git\">UNFCCC emissions data</a>",
          "<a href=\"https://github.com/openclimatefix/Satip.git\">Satip</a>",
          "<a href=\"https://github.com/openclimatefix/nowcasting.git\">Solar electricity Nowcasting</a>",
          "<a href=\"https://github.com/openclimatefix/predict_pv_yield.git\">predict_pv_yield</a>",
          "<a href=\"https://github.com/openclimatefix/pvoutput.git\">pvoutput</a>",
          "<a href=\"https://github.com/opendata-stuttgart/sensor.community.git\">Sensor.Community</a>",
          "<a href=\"https://github.com/opendata-stuttgart/sensors-software.git\">opendata-stuttgart</a>",
          "<a href=\"https://github.com/openeemeter/eemeter.git\">eemeter</a>",
          "<a href=\"https://github.com/openeemeter/eeweather.git\">eeweather</a>",
          "<a href=\"https://github.com/openego/eDisGo.git\">eDisGo</a>",
          "<a href=\"https://github.com/openenergymonitor/EmonLib.git\">EmonLib</a>",
          "<a href=\"https://github.com/openenergymonitor/emonpi.git\">emonpi</a>",
          "<a href=\"https://github.com/openfarmcc/OpenFarm.git\">OpenFarm</a>",
          "<a href=\"https://github.com/openfoodfacts/openfoodfacts-server.git\">openfoodfacts-server</a>",
          "<a href=\"https://github.com/openfoodfoundation/openfoodnetwork.git\">openfoodnetwork</a>",
          "<a href=\"https://github.com/openforis/sepal.git\">SEPAL</a>",
          "<a href=\"https://github.com/opengeospatial/ogcapi-environmental-data-retrieval.git\">OGC API - Environmental Data Retrieval</a>",
          "<a href=\"https://github.com/openghg/openghg.git\">OpenGHG</a>",
          "<a href=\"https://github.com/opennem/opennem-fe.git\">OpenNEM</a>",
          "<a href=\"https://github.com/openoakland/woeip.git\">West Oakland Air Quality Project</a>",
          "<a href=\"https://github.com/mudpi/mudpi-core.git\">MudPi</a>",
          "<a href=\"https://github.com/openplantpathology/OpenPlantPathology.git\">OpenPlantPathology</a>",
          "<a href=\"https://github.com/open-ideas/StROBe.git\">StROBe</a>",
          "<a href=\"https://github.com/open-ideas/IDEAS.git\">IDEAS</a>",
          "<a href=\"https://github.com/openmobilityfoundation/mobility-data-specification.git\">mobility-data-specification</a>",
          "<a href=\"https://github.com/oie-mines-paristech/lca_algebraic.git\">lca_algebraic</a>",
          "<a href=\"https://github.com/onaci/leaflet-velocity.git\">leaflet-velocity</a>",
          "<a href=\"https://github.com/mysociety/caps.git\">Climate Action Plans</a>",
          "<a href=\"https://github.com/nansencenter/sea_ice_drift.git\">Sea ice drift</a>",
          "<a href=\"https://github.com/nasa/NASAaccess.git\">NASAaccess</a>",
          "<a href=\"https://github.com/nasa/earthdata-search.git\">Earthdata Search</a>",
          "<a href=\"https://github.com/nasaharvest/cropharvest.git\">CropHarvest</a>",
          "<a href=\"https://github.com/natcap/invest.git\">Integrated Valuation of Ecosystem Services and Tradeoffs</a>",
          "<a href=\"https://github.com/nco/nco.git\">NCO</a>",
          "<a href=\"https://github.com/nco/pynco.git\">pynco</a>",
          "<a href=\"https://github.com/ncss-tech/aqp.git\">AQP</a>",
          "<a href=\"https://github.com/ncss-tech/sharpshootR.git\">sharpshootR</a>",
          "<a href=\"https://github.com/ncss-tech/soilDB.git\">soilDB</a>",
          "<a href=\"https://github.com/ncss-tech/soilReports.git\">soilReports</a>",
          "<a href=\"https://github.com/neuralhydrology/neuralhydrology.git\">NeuralHydrology</a>",
          "<a href=\"https://github.com/nasa-jpl/captoolkit.git\">captoolkit</a>",
          "<a href=\"https://github.com/nilmtk/nilmtk.git\">NILM</a>",
          "<a href=\"https://github.com/offgridsystems/Documents.git\">offgridsystems</a>",
          "<a href=\"https://github.com/oemof/tespy.git\">tespy</a>",
          "<a href=\"https://github.com/niclasmattsson/GlobalEnergyGIS.git\">GlobalEnergyGIS</a>",
          "<a href=\"https://github.com/oemof/oemof.git\">oemof</a>",
          "<a href=\"https://github.com/oemof/oemof-thermal.git\">oemof-thermal</a>",
          "<a href=\"https://github.com/oemof/oemof-solph.git\">oemof-solph</a>",
          "<a href=\"https://github.com/oemof/feedinlib.git\">feedinlib</a>",
          "<a href=\"https://github.com/mzelinka/cmip56_forcing_feedback_ecs.git\">cmip56_forcing_feedback_ecs</a>",
          "<a href=\"https://github.com/oemof/DHNx.git\">DHNx</a>",
          "<a href=\"https://github.com/nsidc/earthdata.git\">earthdata</a>",
          "<a href=\"https://github.com/nsidc/qgreenland.git\">QGreenland</a>",
          "<a href=\"https://github.com/oemof/demandlib.git\">demandlib</a>",
          "<a href=\"https://github.com/oceanflux-ghg/FluxEngine.git\">FluxEngine</a>",
          "<a href=\"https://github.com/nmstreethran/WindTurbineClassification.git\">WindTurbineClassification</a>",
          "<a href=\"https://github.com/oceanmodeling/StormEvents.git\">StormEvents</a>",
          "<a href=\"https://github.com/PierrickP/multicycles.git\">multicycles</a>",
          "<a href=\"https://github.com/Plant-for-the-Planet-org/treecounter-app.git\">Plant-for-the-Planet</a>",
          "<a href=\"https://github.com/Plant-for-the-Planet-org/treemapper.git\">Tree Mapper App</a>",
          "<a href=\"https://github.com/PennyHow/PyTrx.git\">PyTrx</a>",
          "<a href=\"https://github.com/ProjectDrawdown/solutions.git\">ProjectDrawdown</a>",
          "<a href=\"https://github.com/PyPSA/PyPSA.git\">PyPSA</a>",
          "<a href=\"https://github.com/PecanProject/pecan.git\">PEcAn</a>",
          "<a href=\"https://github.com/PyPSA/atlite.git\">atlite</a>",
          "<a href=\"https://github.com/PyPSA/powerplantmatching.git\">powerplantmatching</a>",
          "<a href=\"https://github.com/PyPSA/pypsa-eur-sec.git\">PyPSA-Eur-Sec</a>",
          "<a href=\"https://github.com/PerovskiteSCModelling/IonMonger.git\">IonMonger</a>",
          "<a href=\"https://github.com/PowerGenome/PowerGenome.git\">PowerGenome</a>",
          "<a href=\"https://github.com/PyPSA/whobs-server.git\">whobs-server</a>",
          "<a href=\"https://github.com/PyPSA/technology-data.git\">Energy System Technology Data</a>",
          "<a href=\"https://github.com/QGEP/QGEP.git\">QGEP</a>",
          "<a href=\"https://github.com/QSD-Group/QSDsan.git\">QSDsan</a>",
          "<a href=\"https://github.com/RAJohansen/waterquality.git\">waterquality</a>",
          "<a href=\"https://github.com/RAMP-project/RAMP.git\">RAMP</a>",
          "<a href=\"https://github.com/RE-Lab-Projects/hplib.git\">hplib</a>",
          "<a href=\"https://github.com/RHESSys/RHESSys.git\">RHESSys</a>",
          "<a href=\"https://github.com/RWTH-EBC/AixLib.git\">AixLib</a>",
          "<a href=\"https://github.com/RWTH-EBC/TEASER.git\">TEASER</a>",
          "<a href=\"https://github.com/RamiKrispin/USelectricity.git\">USelectricity</a>",
          "<a href=\"https://github.com/PecanProject/bety.git\">BETYdb</a>",
          "<a href=\"https://github.com/RaphaelPB/WHAT-IF.git\">WHAT-IF</a>",
          "<a href=\"https://github.com/RemoteSensingTools/vSmartMOM.jl.git\">RadiativeTransfer.jl</a>",
          "<a href=\"https://github.com/PyPSA/pypsa-eur.git\">PyPSA-Eur</a>",
          "<a href=\"https://github.com/RAMP-project/RAMP-mobility.git\">RAMP-mobility</a>",
          "<a href=\"https://github.com/OpenMDAO/OpenMDAO.git\">OpenMDAO</a>",
          "<a href=\"https://github.com/PCMDI/cmor.git\">Climate Model Output Rewriter</a>",
          "<a href=\"https://github.com/OpenCarbonWatch/Website.git\">Open Carbon Watch</a>",
          "<a href=\"https://github.com/RentadroneCL/Photovoltaic_Fault_Detector.git\">Photovoltaic_Fault_Detector</a>",
          "<a href=\"https://github.com/OpenChargingCloud/ChargyDesktopApp.git\">ChargyDesktopApp</a>",
          "<a href=\"https://github.com/OpenChargingCloud/WWCP_Core.git\">WWCP_Core</a>",
          "<a href=\"https://github.com/OpenChargingCloud/WWCP_OCPP.git\">WWCP_OCPP</a>",
          "<a href=\"https://github.com/OpenDrift/opendrift.git\">OpenDrift</a>",
          "<a href=\"https://github.com/OpenEMS/openems.git\">OpenEMS</a>",
          "<a href=\"https://github.com/OpenEVSE/ESP8266_WiFi_v2.x.git\">OpenEVSE WiFi gateway</a>",
          "<a href=\"https://github.com/OpenEVSE/open_evse.git\">OpenEVSE</a>",
          "<a href=\"https://github.com/OpenEnergyPlatform/oeplatform.git\">Open Energy Platform</a>",
          "<a href=\"https://github.com/OpenEnergyPlatform/ontology.git\">The Open Energy Ontology</a>",
          "<a href=\"https://github.com/OpenEnergyPlatform/open-MaStR.git\">open-MaStR</a>",
          "<a href=\"https://github.com/OpenFAST/openfast.git\">openfast</a>",
          "<a href=\"https://github.com/OpenFLUID/openfluid.git\">OpenFLUID</a>",
          "<a href=\"https://github.com/OpenIPSL/OpenIPSL.git\">OpenIPSL</a>",
          "<a href=\"https://github.com/OpenLitterMap/openlittermap-web.git\">OpenLitterMap</a>",
          "<a href=\"https://github.com/OpenModelica/OpenModelica.git\">OpenModelica</a>",
          "<a href=\"https://github.com/OpenSTEF/openstef.git\">OpenSTEF</a>",
          "<a href=\"https://github.com/OpenSimHub/OpenHPL.git\">OpenHPL</a>",
          "<a href=\"https://github.com/OpenTreeMap/otm-core.git\">OpenTreeMap</a>",
          "<a href=\"https://github.com/OpenWaterAnalytics/EPANET.git\">EPANET</a>",
          "<a href=\"https://github.com/OpenWaterAnalytics/pyswmm.git\">pyswmm</a>",
          "<a href=\"https://github.com/Organic-Basics/ob-low-impact-website.git\">The Low Impact Website</a>",
          "<a href=\"https://github.com/Ouranosinc/miranda.git\">Miranda</a>",
          "<a href=\"https://github.com/Ouranosinc/raven.git\">Raven</a>",
          "<a href=\"https://github.com/Ouranosinc/xclim.git\">xclim</a>",
          "<a href=\"https://github.com/Ozon3Org/Ozon3.git\">Ozone</a>",
          "<a href=\"https://github.com/PSUmodeling/Cycles.git\">Cycles</a>",
          "<a href=\"https://github.com/Ribbit-Network/ribbit-network-frog-sensor.git\">Ribbit Network Frog Sensor</a>",
          "<a href=\"https://github.com/TEB-model/teb.git\">teb</a>",
          "<a href=\"https://github.com/SEED-platform/seed.git\">SEED</a>",
          "<a href=\"https://github.com/TUW-GEO/pytesmo.git\">pytesmo</a>",
          "<a href=\"https://github.com/TemoaProject/oeo.git\">Open Energy Outlook</a>",
          "<a href=\"https://github.com/TemoaProject/temoa.git\">Temoa</a>",
          "<a href=\"https://github.com/Thales1330/PSP.git\">PSP-UFU</a>",
          "<a href=\"https://github.com/TheOceanCleanupAlgorithms/ADVECT.git\">ADVECTOR</a>",
          "<a href=\"https://github.com/Total-RD/pymgrid.git\">pymgrid</a>",
          "<a href=\"https://github.com/UMN-Hydro/GSFLOW-GRASS.git\">GSFLOW-GRASS</a>",
          "<a href=\"https://github.com/UNSW-CEEM/nempy.git\">nempy</a>",
          "<a href=\"https://github.com/USEPA/AMET.git\">AMET</a>",
          "<a href=\"https://github.com/USEPA/Air-Trends-Report.git\">Air-Trends-Report</a>",
          "<a href=\"https://github.com/USEPA/CMAQ.git\">CMAQ</a>",
          "<a href=\"https://github.com/USEPA/ElectricityLCI.git\">Electricity Life Cycle Inventory</a>",
          "<a href=\"https://github.com/TUW-GEO/ismn.git\">ismn</a>",
          "<a href=\"https://github.com/USEPA/Federal-LCA-Commons-Elementary-Flow-List.git\">fedelemflowlist</a>",
          "<a href=\"https://github.com/USEPA/Stormwater-Management-Model.git\">Stormwater-Management-Model</a>",
          "<a href=\"https://github.com/USEPA/TADA.git\">TADA</a>",
          "<a href=\"https://github.com/USEPA/WNTR.git\">Water Network Tool for Resilience</a>",
          "<a href=\"https://github.com/USEPA/useeior.git\">useeior</a>",
          "<a href=\"https://github.com/USGS-R/EGRET.git\">EGRET</a>",
          "<a href=\"https://github.com/USGS-R/HASP.git\">HASP</a>",
          "<a href=\"https://github.com/USGS-R/dataRetrieval.git\">dataRetrieval</a>",
          "<a href=\"https://github.com/USGS-R/nhdplusTools.git\">nhdplusTools</a>",
          "<a href=\"https://github.com/USGS-R/river-dl.git\">river-dl</a>",
          "<a href=\"https://github.com/USGS-python/dataretrieval.git\">dataretrieval</a>",
          "<a href=\"https://github.com/UU-Hydro/PCR-GLOBWB_model.git\">PCR-GLOBWB_model</a>",
          "<a href=\"https://github.com/Open-MSS/MSS.git\">Mission Support System</a>",
          "<a href=\"https://github.com/USEPA/RAQSAPI.git\">RAQSAPI</a>",
          "<a href=\"https://github.com/TUW-GEO/esa_cci_sm.git\">esa_cci_sm</a>",
          "<a href=\"https://github.com/TRI-AMDD/beep.git\">beep</a>",
          "<a href=\"https://github.com/SwitchEV/RISE-V2G.git\">RISE-V2G</a>",
          "<a href=\"https://github.com/SERVIR/ClimateSERV2.git\">ClimateSERV</a>",
          "<a href=\"https://github.com/SERVIR/ClimateSERVpy.git\">ClimateSERVpy</a>",
          "<a href=\"https://github.com/SKrisanski/FSCT.git\">Forest Structural Complexity Tool</a>",
          "<a href=\"https://github.com/SNL-WaterPower/CACTUS.git\">CACTUS</a>",
          "<a href=\"https://github.com/SNL-WaterPower/WecOptTool.git\">WecOptTool</a>",
          "<a href=\"https://github.com/STS-Rosario/carpoolear.git\">Carpoolear</a>",
          "<a href=\"https://github.com/Safecast/safecastapi.git\">Safecast</a>",
          "<a href=\"https://github.com/Samuel-Buteau/universal-battery-database.git\">universal-battery-database</a>",
          "<a href=\"https://github.com/SanPen/GridCal.git\">GridCal</a>",
          "<a href=\"https://github.com/SantanderMetGroup/DeepDownscaling.git\">DeepDownscaling</a>",
          "<a href=\"https://github.com/SantanderMetGroup/climate4R.git\">climate4R</a>",
          "<a href=\"https://github.com/SantanderMetGroup/downscaleR.git\">downscaleR</a>",
          "<a href=\"https://github.com/SantanderMetGroup/loadeR.git\">loadeR</a>",
          "<a href=\"https://github.com/SciTools/iris.git\">Iris</a>",
          "<a href=\"https://github.com/ScienceBasedTargets/SBTi-finance-tool.git\">SBTi Temperature Alignment tool</a>",
          "<a href=\"https://github.com/Servir-Mekong/hydra-floods.git\">HYDRAFloods</a>",
          "<a href=\"https://github.com/ShellRechargeSolutionsEU/docile-charge-point.git\">docile-charge-point</a>",
          "<a href=\"https://github.com/Shyentist/fish-r-man.git\">fishRman</a>",
          "<a href=\"https://github.com/SmartEVSE/smartevse.git\">SmartEVSE</a>",
          "<a href=\"https://github.com/SmartTensors/GeoThermalCloud.jl.git\">GeoThermalCloud.jl</a>",
          "<a href=\"https://github.com/SoilWatch/soil-erosion-watch.git\">Soil Erosion Watch</a>",
          "<a href=\"https://github.com/SolarArbiter/solarforecastarbiter-core.git\">Solar Forecast Arbiter</a>",
          "<a href=\"https://github.com/SolarTherm/SolarTherm.git\">SolarTherm</a>",
          "<a href=\"https://github.com/SpeciesFileGroup/taxonworks.git\">TaxonWorks</a>",
          "<a href=\"https://github.com/Spine-project/Spine-Toolbox.git\">Spine-Toolbox</a>",
          "<a href=\"https://github.com/SunPower/PVMismatch.git\">PVMismatch</a>",
          "<a href=\"https://github.com/SunPower/pvfactors.git\">pvfactors</a>",
          "<a href=\"https://github.com/SAP/emobility-smart-charging.git\">emobility-smart-charging</a>",
          "<a href=\"https://github.com/Open-ET/openet-ssebop.git\">OpenET</a>",
          "<a href=\"https://github.com/SantanderMetGroup/ATLAS.git\">ATLAS</a>",
          "<a href=\"https://github.com/OneBusAway/onebusaway-android.git\">OneBusAway</a>",
          "<a href=\"https://github.com/Open-EO/openeo-python-client.git\">openEO</a>",
          "<a href=\"https://github.com/OGGM/oggm.git\">OGGM</a>",
          "<a href=\"https://github.com/OSGP/open-smart-grid-platform.git\">Open Smart Grid Platform</a>",
          "<a href=\"https://github.com/OSOceanAcoustics/echopype.git\">Echopype</a>",
          "<a href=\"https://github.com/OSUKED/ETS-Watch.git\">ETS-Watch</a>",
          "<a href=\"https://github.com/ONEARMY/precious-plastic.git\">ONEARMY</a>",
          "<a href=\"https://github.com/OSUKED/Power-Station-Dictionary.git\">Power Station Dictionary</a>",
          "<a href=\"https://github.com/OasisLMF/OasisLMF.git\">OasisLMF</a>",
          "<a href=\"https://github.com/OasisLMF/OasisPiWind.git\">OasisPiWind</a>",
          "<a href=\"https://github.com/OceanParcels/parcels.git\">parcels</a>",
          "<a href=\"https://github.com/OnSSET/onsset.git\">onsset</a>",
          "<a href=\"https://github.com/OSUKED/ElexonDataPortal.git\">ElexonDataPortal</a>",
          "<a href=\"https://github.com/e-sensing/sits.git\">SITS</a>",
          "<a href=\"https://github.com/earthobservations/wetterdienst.git\">wetterdienst</a>",
          "<a href=\"https://github.com/earthlab/firedpy.git\">FIREDpy</a>",
          "<a href=\"https://github.com/earth-system-radiation/rte-rrtmgp.git\">RTE+RRTMGP</a>",
          "<a href=\"https://github.com/eWaterCycle/ewatercycle.git\">eWaterCycle</a>",
          "<a href=\"https://github.com/eMapR/LT-GEE.git\">LT-GEE</a>",
          "<a href=\"https://github.com/e2nIEE/simbench.git\">SimBench</a>",
          "<a href=\"https://github.com/e2nIEE/pandapipes.git\">pandapipes</a>",
          "<a href=\"https://github.com/dwulff/text2sdg.git\">text2sdg</a>",
          "<a href=\"https://github.com/diowa/icare.git\">icare</a>",
          "<a href=\"https://github.com/dsmrreader/dsmr-reader.git\">DSMR-reader</a>",
          "<a href=\"https://github.com/dpinney/omf.git\">Open Modeling Framework</a>",
          "<a href=\"https://github.com/dos-group/leaf.git\">LEAF</a>",
          "<a href=\"https://github.com/dl4sits/BreizhCrops.git\">BreizhCrops</a>",
          "<a href=\"https://github.com/ebranlard/welib.git\">welib</a>",
          "<a href=\"https://github.com/digitalearthafrica/deafrica-sandbox-notebooks.git\">Digital Earth Africa Notebooks</a>",
          "<a href=\"https://github.com/derevirn/renewcast.git\">Renewcast</a>",
          "<a href=\"https://github.com/deepsphere/deepsphere-pytorch.git\">DeepSphere</a>",
          "<a href=\"https://github.com/dsr-18/long-live-the-battery.git\">long-live-the-battery</a>",
          "<a href=\"https://github.com/ec-jrc/lisflood-code.git\">LISFLOOD</a>",
          "<a href=\"https://github.com/ecmwf/cfgrib.git\">cfgrib</a>",
          "<a href=\"https://github.com/ecmwf-ifs/ecrad.git\">ECRAD</a>",
          "<a href=\"https://github.com/energywebfoundation/origin.git\">origin</a>",
          "<a href=\"https://github.com/energyRt/energyRt.git\">energyRt</a>",
          "<a href=\"https://github.com/energy-modelling-toolkit/hydro-power-database.git\">hydro-power-database</a>",
          "<a href=\"https://github.com/energy-modelling-toolkit/Dispa-SET.git\">Dispa-SET</a>",
          "<a href=\"https://github.com/enechange/EnergyDataSimulationChallenge.git\">EnergyDataSimulationChallenge</a>",
          "<a href=\"https://github.com/emoncms/emoncms.git\">Emoncms</a>",
          "<a href=\"https://github.com/emissions-api/emissions-api.git\">emissions-api</a>",
          "<a href=\"https://github.com/eliocamp/metR.git\">metR</a>",
          "<a href=\"https://github.com/electricitymaps/electricitymaps-contrib.git\">Electricity Maps</a>",
          "<a href=\"https://github.com/eea/geonetwork-eea.git\">EEA geospatial data catalogue</a>",
          "<a href=\"https://github.com/ed-hawkins/rainfall-rescue.git\">RainfallRescue</a>",
          "<a href=\"https://github.com/eco-hydro/phenofit.git\">phenofit</a>",
          "<a href=\"https://github.com/ecmwf/ecmwf-opendata.git\">ecmwf-opendata</a>",
          "<a href=\"https://github.com/ecmwf/climetlab.git\">climetlab</a>",
          "<a href=\"https://github.com/davidhowey/SLIDE.git\">SLIDE</a>",
          "<a href=\"https://github.com/ecmwf/cdsapi.git\">cdsapi</a>",
          "<a href=\"https://github.com/ecmwf/caliver.git\">caliver</a>",
          "<a href=\"https://github.com/ecmwf/atlas.git\">atlas</a>",
          "<a href=\"https://github.com/ecmwf-projects/thermofeel.git\">Thermofeel</a>",
          "<a href=\"https://github.com/ecjoliver/marineHeatWaves.git\">marineHeatWaves</a>",
          "<a href=\"https://github.com/davidcarslaw/openair.git\">openair</a>",
          "<a href=\"https://github.com/cyclestreets/cyclestreets-r.git\">cyclestreets</a>",
          "<a href=\"https://github.com/dankelley/oce.git\">oce</a>",
          "<a href=\"https://github.com/chrisleaman/py-wave-runup.git\">py-wave-runup</a>",
          "<a href=\"https://github.com/charxie/multiphysics.git\">multiphysics</a>",
          "<a href=\"https://github.com/chargeprice/open-ev-data.git\">open-ev-data</a>",
          "<a href=\"https://github.com/chadagreene/BedMachine.git\">BedMachine</a>",
          "<a href=\"https://github.com/cf-convention/cf-conventions.git\">cf-conventions</a>",
          "<a href=\"https://github.com/cerfacs-globc/icclim.git\">icclim</a>",
          "<a href=\"https://github.com/cdmuir/photosynthesis.git\">photosynthesis</a>",
          "<a href=\"https://github.com/catalyst-cooperative/pudl.git\">The Public Utility Data Liberation Project</a>",
          "<a href=\"https://github.com/carlos-alberto-silva/rGEDI.git\">rGEDI</a>",
          "<a href=\"https://github.com/carbonplan/forest-risks.git\">forest-risks</a>",
          "<a href=\"https://github.com/carbonplan/cmip6-downscaling.git\">cmip6-downscaling</a>",
          "<a href=\"https://github.com/carbonplan/cdr-database.git\">Carbon Dioxide Removal Database</a>",
          "<a href=\"https://github.com/carbonalyser/Carbonalyser.git\">Carbonalyser</a>",
          "<a href=\"https://github.com/capytaine/capytaine.git\">Capytaine</a>",
          "<a href=\"https://github.com/calliope-project/euro-calliope.git\">Euro-Calliope</a>",
          "<a href=\"https://github.com/calliope-project/calliope.git\">Calliope</a>",
          "<a href=\"https://github.com/byrd-polar/fluid-earth.git\">Fluid Earth</a>",
          "<a href=\"https://github.com/bullocke/coded.git\">CODED</a>",
          "<a href=\"https://github.com/brightwind-dev/brightwind.git\">brightwind</a>",
          "<a href=\"https://github.com/chrisroadmap/climateforcing.git\">climateforcing</a>",
          "<a href=\"https://github.com/dataforgoodfr/batch7_satellite_ges.git\">oco2peak</a>",
          "<a href=\"https://github.com/circularfashion/cf-circularity-id-standard.git\">circularity.ID Open Data Standard</a>",
          "<a href=\"https://github.com/climatiq/Open-Emission-Factors-DB.git\">Open-Emission-Factors-DB</a>",
          "<a href=\"https://github.com/danjulio/MPPT-Solar-Charger.git\">MPPT-Solar-Charger</a>",
          "<a href=\"https://github.com/danforthcenter/plantcv.git\">PlantCV</a>",
          "<a href=\"https://github.com/d-wasserman/Complete_Street_Rule.git\">Complete_Street_Rule</a>",
          "<a href=\"https://github.com/cyclosm/cyclosm-cartocss-style.git\">CyclOSM</a>",
          "<a href=\"https://github.com/enviroCar/enviroCar-app.git\">enviroCar</a>",
          "<a href=\"https://github.com/cuihantao/andes.git\">ANDES</a>",
          "<a href=\"https://github.com/csyhuang/hn2016_falwa.git\">hn2016_falwa</a>",
          "<a href=\"https://github.com/csdms/pymt.git\">pymt</a>",
          "<a href=\"https://github.com/cryotools/cosipy.git\">cosipy</a>",
          "<a href=\"https://github.com/cristianst85/GeoNuclearData.git\">GeoNuclearData</a>",
          "<a href=\"https://github.com/cortinah/hockeystick.git\">hockeystick</a>",
          "<a href=\"https://github.com/cordmaur/WaterDetect.git\">WaterDetect</a>",
          "<a href=\"https://github.com/coopcycle/coopcycle-web.git\">CoopCycle</a>",
          "<a href=\"https://github.com/com-pas/compas-architecture.git\">CoMPAS</a>",
          "<a href=\"https://github.com/codeforboston/safe-water.git\">The Safe Water Project</a>",
          "<a href=\"https://github.com/cnumr/ecoCode.git\">ecoCode</a>",
          "<a href=\"https://github.com/cloudtostreet/MODIS_GlobalFloodDatabase.git\">Global Flood Database Scripts & Data</a>",
          "<a href=\"https://github.com/cloud-carbon-footprint/cloud-carbon-footprint.git\">Cloud Carbon Footprint</a>",
          "<a href=\"https://github.com/climlab/climlab.git\">climlab</a>",
          "<a href=\"https://github.com/cityflow-project/CityFlow.git\">CityFlow</a>",
          "<a href=\"https://github.com/epri-dev/StorageVET.git\">StorageVET</a>",
          "<a href=\"https://github.com/evcc-io/evcc.git\">EVCC</a>",
          "<a href=\"https://github.com/eskerda/pybikes.git\">pybikes</a>",
          "<a href=\"https://github.com/inaturalist/inaturalist.git\">iNaturalist</a>",
          "<a href=\"https://github.com/inasafe/inasafe.git\">InaSAFE</a>",
          "<a href=\"https://github.com/iiasa/message_ix.git\">MESSAGEix</a>",
          "<a href=\"https://github.com/iiasa/ENGAGE-netzero-analysis.git\">ENGAGE</a>",
          "<a href=\"https://github.com/iiasa/CWatM.git\">CWatM</a>",
          "<a href=\"https://github.com/ie3-institute/simona.git\">SIMONA</a>",
          "<a href=\"https://github.com/ie3-institute/PowerSystemDataModel.git\">PowerSystemDataModel</a>",
          "<a href=\"https://github.com/ideas-lab-nus/epwshiftr.git\">epwshiftr</a>",
          "<a href=\"https://github.com/icesat2py/icepyx.git\">icepyx</a>",
          "<a href=\"https://github.com/ibpsa/project1.git\">project1</a>",
          "<a href=\"https://github.com/ibpsa/project1-boptest.git\">BOPTEST</a>",
          "<a href=\"https://github.com/ibpsa/project1-boptest-gym.git\">BOPTEST-Gym</a>",
          "<a href=\"https://github.com/ibpsa/modelica-ibpsa.git\">modelica-ibpsa</a>",
          "<a href=\"https://github.com/iat-cener/tonatiuh.git\">Tonatiuh</a>",
          "<a href=\"https://github.com/hyriver/hyriver.github.io.git\">HyRiver</a>",
          "<a href=\"https://github.com/hydroshare/hydroshare.git\">HydroShare</a>",
          "<a href=\"https://github.com/hunter-stanke/rFIA.git\">rFIA</a>",
          "<a href=\"https://github.com/hubblo-org/scaphandre.git\">Scaphandre</a>",
          "<a href=\"https://github.com/hsbay/cdrmex.git\">CDRMEx</a>",
          "<a href=\"https://github.com/intake/intake-esm.git\">Intake-esm</a>",
          "<a href=\"https://github.com/hpxmlwg/hpxml.git\">hpxml</a>",
          "<a href=\"https://github.com/intelligent-environments-lab/CityLearn.git\">CityLearn</a>",
          "<a href=\"https://github.com/jamesorr/CO2SYS-MATLAB.git\">CO2SYS</a>",
          "<a href=\"https://github.com/karthikraja95/fsdl_deforestation_detection.git\">FSDL Deforestation Detection</a>",
          "<a href=\"https://github.com/karrot-dev/karrot-frontend.git\">Karrot</a>",
          "<a href=\"https://github.com/kapadia/usgs.git\">USGS</a>",
          "<a href=\"https://github.com/kansoapp/carbonfact-models.git\">Carbonfact Models</a>",
          "<a href=\"https://github.com/kLabUM/pystorms.git\">pystorms</a>",
          "<a href=\"https://github.com/jsynowiec/airqmon.git\">airqmon</a>",
          "<a href=\"https://github.com/jsta/nhdR.git\">nhdR</a>",
          "<a href=\"https://github.com/jrester/tesla_powerwall.git\">tesla_powerwall</a>",
          "<a href=\"https://github.com/jpgattuso/seacarb-git.git\">seacarb</a>",
          "<a href=\"https://github.com/johan12345/EVMap.git\">EVMap</a>",
          "<a href=\"https://github.com/jnsebgosselin/gwhat.git\">GWHAT</a>",
          "<a href=\"https://github.com/jneme910/CART.git\">CART</a>",
          "<a href=\"https://github.com/jmcook1186/biosnicar-py.git\">BioSNICAR</a>",
          "<a href=\"https://github.com/jepegit/cellpy.git\">cellpy</a>",
          "<a href=\"https://github.com/jeffreyevans/spatialEco.git\">spatialEco</a>",
          "<a href=\"https://github.com/jdechalendar/gridemissions.git\">gridemissions</a>",
          "<a href=\"https://github.com/jblindsay/whitebox-tools.git\">WhiteboxTools</a>",
          "<a href=\"https://github.com/jbferet/biodivMapR.git\">biodivMapR</a>",
          "<a href=\"https://github.com/jawache/principles-green.git\">Principles of Green Software Engineering</a>",
          "<a href=\"https://github.com/iobis/robis.git\">robis</a>",
          "<a href=\"https://github.com/eradiate/eradiate.git\">Eradiate</a>",
          "<a href=\"https://github.com/hove-io/navitia.git\">navitia</a>",
          "<a href=\"https://github.com/hollorol/AgroMo.git\">AgroMo</a>",
          "<a href=\"https://github.com/garythung/trashnet.git\">trashnet</a>",
          "<a href=\"https://github.com/gaelforget/ClimateModels.jl.git\">ClimateModels.jl</a>",
          "<a href=\"https://github.com/fvaleye/tracarbon.git\">Tracarbon</a>",
          "<a href=\"https://github.com/fund-model/MimiFUND.jl.git\">MimiFUND.jl</a>",
          "<a href=\"https://github.com/fossilfuelregistry/portal-v2.git\">The Global Registry of Fossil Fuels</a>",
          "<a href=\"https://github.com/forestgeo/Climate.git\">ForestGEO</a>",
          "<a href=\"https://github.com/forc-db/GROA.git\">Global Reforestation Opportunity Assessment</a>",
          "<a href=\"https://github.com/forc-db/ForC.git\">Forest Carbon database</a>",
          "<a href=\"https://github.com/fnemina/pyOSOAA.git\">pyOSOAA</a>",
          "<a href=\"https://github.com/fishR-Core-Team/RFishBC.git\">RFishBC</a>",
          "<a href=\"https://github.com/fishR-Core-Team/FSA.git\">Fisheries Stock Assessment</a>",
          "<a href=\"https://github.com/fineprint-global/forbio.git\">FORBIO</a>",
          "<a href=\"https://github.com/fineprint-global/fabio.git\">FABIO</a>",
          "<a href=\"https://github.com/felixriese/CNN-SoilTextureClassification.git\">CNN-SoilTextureClassification</a>",
          "<a href=\"https://github.com/fdetsch/MODIS.git\">MODIS</a>",
          "<a href=\"https://github.com/brightway-lca/brightway2.git\">brightway2</a>",
          "<a href=\"https://github.com/euroargodev/argopy.git\">argopy</a>",
          "<a href=\"https://github.com/esowc/ml_drought.git\">ml_drought</a>",
          "<a href=\"https://github.com/esmf-org/esmf.git\">ESMF</a>",
          "<a href=\"https://github.com/geocryology/globsim.git\">globsim</a>",
          "<a href=\"https://github.com/hongyuanjia/eplusr.git\">eplusr</a>",
          "<a href=\"https://github.com/geodynamics/selen.git\">SELEN</a>",
          "<a href=\"https://github.com/geoschem/geos-chem.git\">GEOS-Chem</a>",
          "<a href=\"https://github.com/hmontazeri/is-vegan.git\">Is-Vegan</a>",
          "<a href=\"https://github.com/hectornieto/pyTSEB.git\">pyTSEB</a>",
          "<a href=\"https://github.com/hainegroup/oceanspy.git\">OceanSpy</a>",
          "<a href=\"https://github.com/h5netcdf/h5netcdf.git\">h5netcdf</a>",
          "<a href=\"https://github.com/gsoh/VED.git\">Vehicle Energy Dataset</a>",
          "<a href=\"https://github.com/grote/osm2gtfs.git\">osm2gtfs</a>",
          "<a href=\"https://github.com/grote/Transportr.git\">Transportr</a>",
          "<a href=\"https://github.com/gridsingularity/gsy-e.git\">Grid Singularity Energy Exchange Engine (D3A)</a>",
          "<a href=\"https://github.com/grid-parity-exchange/Egret.git\">Egret</a>",
          "<a href=\"https://github.com/greensoftwarelab/Energy-Languages.git\">Energy-Languages</a>",
          "<a href=\"https://github.com/gotm-model/code.git\">GOTM</a>",
          "<a href=\"https://github.com/google/weather-tools.git\">weather-tools</a>",
          "<a href=\"https://github.com/google/transitfeed.git\">transitfeed</a>",
          "<a href=\"https://github.com/google-research/ARCO-ERA5.git\">Analysis-Ready, Cloud Optimized ERA5</a>",
          "<a href=\"https://github.com/goat-community/goat.git\">goat</a>",
          "<a href=\"https://github.com/globalbioticinteractions/globalbioticinteractions.git\">Global Biotic Interactions</a>",
          "<a href=\"https://github.com/global-hydrodynamics/CaMa-Flood_v4.git\">CaMa</a>",
          "<a href=\"https://github.com/ghislainv/forestatrisk.git\">forestatrisk</a>",
          "<a href=\"https://github.com/ghislainv/forestatrisk-tropics.git\">forestatrisk</a>",
          "<a href=\"https://github.com/geoschem/gcpy.git\">gcpy</a>",
          "<a href=\"https://github.com/bpbond/srdb.git\">srdb</a>",
          "<a href=\"https://github.com/brry/rdwd.git\">rdwd</a>",
          "<a href=\"https://github.com/boshek/rsoi.git\">rsoi</a>",
          "<a href=\"https://github.com/bpbond/cosore.git\">cosore</a>",
          "<a href=\"https://github.com/bigladder/kiva.git\">Kiva</a>",
          "<a href=\"https://github.com/bikeindex/bike_index.git\">Bike Index</a>",
          "<a href=\"https://github.com/dalesteam/dales.git\">DALES</a>",
          "<a href=\"https://github.com/blue-marble/gridpath.git\">GridPath</a>",
          "<a href=\"https://github.com/bluegreen-labs/ecmwfr.git\">ecmwfr</a>",
          "<a href=\"https://github.com/bje-/NEMO.git\">NEMO</a>",
          "<a href=\"https://github.com/bluegreen-labs/phenocamr.git\">phenocamr</a>",
          "<a href=\"https://github.com/Vizzuality/trase.git\">Trase</a>",
          "<a href=\"https://github.com/WEC-Sim/WEC-Sim.git\">WEC-Sim</a>",
          "<a href=\"https://github.com/WFP-VAM/prism-app.git\">PRISM</a>",
          "<a href=\"https://github.com/WISDEM/LandBOSSE.git\">LandBOSSE</a>",
          "<a href=\"https://github.com/WISDEM/ORBIT.git\">ORBIT</a>",
          "<a href=\"https://github.com/WISDEM/WEIS.git\">WEIS</a>",
          "<a href=\"https://github.com/WISDEM/WOMBAT.git\">WOMBAT</a>",
          "<a href=\"https://github.com/Vizzuality/soils-revealed.git\">soils-revealed</a>",
          "<a href=\"https://github.com/WMD-group/CarrierCapture.jl.git\">CarrierCapture.jl</a>",
          "<a href=\"https://github.com/WSWUP/pymetric.git\">pyMETRIC</a>",
          "<a href=\"https://github.com/WWF-Deutschland/marine-plastic-explorer.git\">Global Plastic Navigator</a>",
          "<a href=\"https://github.com/WikiWatershed/model-my-watershed.git\">Model My Watershed</a>",
          "<a href=\"https://github.com/WISDEM/WISDEM.git\">WISDEM</a>",
          "<a href=\"https://github.com/Vizzuality/gfw.git\">Global Forest Watch</a>",
          "<a href=\"https://github.com/VeruGHub/easyclimate.git\">easyclimate</a>",
          "<a href=\"https://github.com/WildMeOrg/Wildbook.git\">Wildbook</a>",
          "<a href=\"https://github.com/VeinsOfTheEarth/RivGraph.git\">RivGraph</a>",
          "<a href=\"https://github.com/VOLTTRON/volttron.git\">VOLTTRON</a>",
          "<a href=\"https://github.com/VIAME/VIAME.git\">VIAME</a>",
          "<a href=\"https://github.com/Universite-Gustave-Eiffel/NoiseModelling.git\">NoiseModelling</a>",
          "<a href=\"https://github.com/Universite-Gustave-Eiffel/NoiseCapture.git\">NoiseCapture</a>",
          "<a href=\"https://github.com/Unidata/netcdf4-python.git\">netcdf-python</a>",
          "<a href=\"https://github.com/Unidata/netcdf-fortran.git\">netcdf-fortran</a>",
          "<a href=\"https://github.com/Unidata/netcdf-c.git\">netcdf-c</a>",
          "<a href=\"https://github.com/Unidata/awips2.git\">AWIPS</a>",
          "<a href=\"https://github.com/Unidata/MetPy.git\">MetPy</a>",
          "<a href=\"https://github.com/UdK-VPT/BuildingSystems.git\">BuildingSystems</a>",
          "<a href=\"https://github.com/UW-Hydro/VIC.git\">VIC</a>",
          "<a href=\"https://github.com/UW-Hydro/MetSim.git\">MetSim</a>",
          "<a href=\"https://github.com/Virtual-FCS/VirtualFCS.git\">VirtualFCS</a>",
          "<a href=\"https://github.com/YingyiLiu/HAMS.git\">HAMS</a>",
          "<a href=\"https://github.com/Unidata/siphon.git\">Siphon</a>",
          "<a href=\"https://github.com/Yuanchao-Xu/hyfo.git\">hyfo</a>",
          "<a href=\"https://github.com/a-b-street/abstreet.git\">A/B Street</a>",
          "<a href=\"https://github.com/aaronspring/remote_climate_data.git\">remote_climate_data</a>",
          "<a href=\"https://github.com/acircleda/footprint.git\">footprint</a>",
          "<a href=\"https://github.com/adokter/bioRad.git\">bioRad</a>",
          "<a href=\"https://github.com/ajwdewit/pcse.git\">PCSE</a>",
          "<a href=\"https://github.com/Yuanchao-Xu/gfer.git\">gfer</a>",
          "<a href=\"https://github.com/EVNotify/EVNotify.git\">EVNotify</a>",
          "<a href=\"https://github.com/ESMValGroup/ESMValTool.git\">ESMValTool</a>",
          "<a href=\"https://github.com/ESMG/pyroms.git\">pyroms</a>",
          "<a href=\"https://github.com/ESIPFed/sweet.git\">SWEET</a>",
          "<a href=\"https://github.com/FZJ-IEK3-VSA/LoadProfileGenerator.git\">LoadProfileGenerator</a>",
          "<a href=\"https://github.com/ExeClim/Isca.git\">Isca</a>",
          "<a href=\"https://github.com/FZJ-IEK3-VSA/FINE.git\">FINE</a>",
          "<a href=\"https://github.com/FLARE-forecast/FLAREr.git\">FLAREr</a>",
          "<a href=\"https://github.com/EVerest/EVerest.git\">EVerest</a>",
          "<a href=\"https://github.com/Exawind/nalu-wind.git\">nalu-wind</a>",
          "<a href=\"https://github.com/EnvironmentOntology/envo.git\">ENVO</a>",
          "<a href=\"https://github.com/Exawind/amr-wind.git\">amr-wind</a>",
          "<a href=\"https://github.com/EarthSystemDiagnostics/sedproxy.git\">sedproxy</a>",
          "<a href=\"https://github.com/FZJ-IEK3-VSA/HiSim.git\">HiSim</a>",
          "<a href=\"https://github.com/EcologicalSemantics/ecocore.git\">ecoCore</a>",
          "<a href=\"https://github.com/EcotopeResearch/HPWHsim.git\">HPWHsim</a>",
          "<a href=\"https://github.com/Ecotrust/forestplanner.git\">Forest Scenario Planner</a>",
          "<a href=\"https://github.com/EduardoFernandezC/dormancyR.git\">dormancyR</a>",
          "<a href=\"https://github.com/ElektrikAkar/3d_milp.git\">3d_milp</a>",
          "<a href=\"https://github.com/EnergieID/entsoe-py.git\">entsoe-py</a>",
          "<a href=\"https://github.com/Energy-Sparks/energy-sparks.git\">energy-sparks</a>",
          "<a href=\"https://github.com/EnergyInnovation/eps-us.git\">Energy Policy Simulator</a>",
          "<a href=\"https://github.com/EnergyTransition/ESDL.git\">ESDL</a>",
          "<a href=\"https://github.com/EnviroDIY/ModularSensors.git\">ModularSensors</a>",
          "<a href=\"https://github.com/Ecohackerfarm/powerplant.git\">powerplant</a>",
          "<a href=\"https://github.com/NOAA-OWP/inundation-mapping.git\">Cahaba</a>",
          "<a href=\"https://github.com/NOAA-OWP/ngen.git\">Next Gen Water Modeling Framework</a>",
          "<a href=\"https://github.com/NOAA-OWP/t-route.git\">Tree-based Inland Hydraulic Routing Project</a>",
          "<a href=\"https://github.com/NOAA-PMEL/Ferret.git\">Ferret</a>",
          "<a href=\"https://github.com/NREL-SIIP/InfrastructureSystems.jl.git\">InfrastructureSystems.jl</a>",
          "<a href=\"https://github.com/NRCan/CanFlood.git\">CanFlood</a>",
          "<a href=\"https://github.com/NREL-SIIP/HydroPowerSimulations.jl.git\">HydroPowerSimulations.jl</a>",
          "<a href=\"https://github.com/NOAA-ORR-ERD/PyGnome.git\">PyGnome</a>",
          "<a href=\"https://github.com/NREL-SIIP/PowerSimulations.jl.git\">PowerSimulations.jl</a>",
          "<a href=\"https://github.com/NOAAGov/NOAA-Affiliated-Projects.git\">NOAA-Affiliated-Projects</a>",
          "<a href=\"https://github.com/NOAA-GFDL/SIS2.git\">SIS2</a>",
          "<a href=\"https://github.com/NOAA-EMC/global-workflow.git\">global-workflow</a>",
          "<a href=\"https://github.com/NOAA-GFDL/MOM6.git\">MOM6</a>",
          "<a href=\"https://github.com/NOAA-GFDL/MDTF-diagnostics.git\">MDTF-diagnostics</a>",
          "<a href=\"https://github.com/NOAA-GFDL/FMS.git\">The Flexible Modeling System</a>",
          "<a href=\"https://github.com/NOAA-EDAB/ecodata.git\">ecodata</a>",
          "<a href=\"https://github.com/NMF-earth/nmf-app.git\">NMF.earth app</a>",
          "<a href=\"https://github.com/NGEET/fates.git\">FATES</a>",
          "<a href=\"https://github.com/NCAS-CMS/cf-python.git\">cf-python</a>",
          "<a href=\"https://github.com/NCAR/wrf_hydro_nwm_public.git\">WRF-Hydro</a>",
          "<a href=\"https://github.com/NCAR/icar.git\">ICAR</a>",
          "<a href=\"https://github.com/NCAR/ncl.git\">NCL</a>",
          "<a href=\"https://github.com/NCAR/wrf-python.git\">wrf-python</a>",
          "<a href=\"https://github.com/NCAR/ccpp-physics.git\">ccpp-physics</a>",
          "<a href=\"https://github.com/NREL-SIIP/PowerSystems.jl.git\">PowerSystems.jl</a>",
          "<a href=\"https://github.com/NREL/bifacialvf.git\">bifacialvf</a>",
          "<a href=\"https://github.com/NREL/NRWAL.git\">NRWAL</a>",
          "<a href=\"https://github.com/NorESMhub/BLOM.git\">Bergen Layered Ocean Model</a>",
          "<a href=\"https://github.com/NorESMhub/NorESM.git\">NorESM</a>",
          "<a href=\"https://github.com/Novarizark/easy-era5-trck.git\">Easy-ERA5-Trck</a>",
          "<a href=\"https://github.com/NCAR/VAPOR.git\">VAPOR</a>",
          "<a href=\"https://github.com/NREL/sup3r.git\">sup3r</a>",
          "<a href=\"https://github.com/NREL/ssc.git\">SSC</a>",
          "<a href=\"https://github.com/NREL/resstock.git\">resstock</a>",
          "<a href=\"https://github.com/NREL/reVX.git\">reVX</a>",
          "<a href=\"https://github.com/NREL/reV.git\">reV</a>",
          "<a href=\"https://github.com/NREL/rdtools.git\">rdtools</a>",
          "<a href=\"https://github.com/NREL/hescore-hpxml.git\">HPXML to Home Energy Score Translator</a>",
          "<a href=\"https://github.com/NREL/floris.git\">floris</a>",
          "<a href=\"https://github.com/NREL/dgen.git\">dGen</a>",
          "<a href=\"https://github.com/NREL/bifacial_radiance.git\">bifacial_radiance</a>",
          "<a href=\"https://github.com/NREL/WindSE.git\">WindSE</a>",
          "<a href=\"https://github.com/NREL/SolarPILOT.git\">SolarPILOT</a>",
          "<a href=\"https://github.com/NREL/SolTrace.git\">SolTrace</a>",
          "<a href=\"https://github.com/NREL/SAM.git\">System Advisor Model</a>",
          "<a href=\"https://github.com/NREL/ROSCO.git\">ROSCO</a>",
          "<a href=\"https://github.com/NREL/REopt_API.git\">REopt_Lite_API</a>",
          "<a href=\"https://github.com/NREL/PV_ICE.git\">PV_ICE</a>",
          "<a href=\"https://github.com/NREL/OpenStudio.git\">OpenStudio</a>",
          "<a href=\"https://github.com/NREL/OpenStudio-HPXML.git\">OpenStudio-HPXML</a>",
          "<a href=\"https://github.com/NREL/OpenStudio-ERI.git\">OpenStudio-ERI</a>",
          "<a href=\"https://github.com/NREL/OpenOA.git\">OpenOA</a>",
          "<a href=\"https://github.com/NREL/EnergyPlus.git\">EnergyPlus</a>",
          "<a href=\"https://github.com/Mohid-Water-Modelling-System/Mohid.git\">Mohid</a>",
          "<a href=\"https://github.com/JuliaEnergy/PowerDynamics.jl.git\">PowerDynamics.jl</a>",
          "<a href=\"https://github.com/MobilityData/gbfs.git\">gbfs</a>",
          "<a href=\"https://github.com/GreenswayAB/BIRDS.git\">BIRDS</a>",
          "<a href=\"https://github.com/GridMod/RTS-GMLC.git\">RTS-GMLC</a>",
          "<a href=\"https://github.com/Growstuff/growstuff.git\">Growstuff</a>",
          "<a href=\"https://github.com/HIT2GAP-EU-PROJECT/bemserver.git\">BEMServer</a>",
          "<a href=\"https://github.com/HabitatMap/AirCasting.git\">AirCasting</a>",
          "<a href=\"https://github.com/HotMaps/Hotmaps-toolbox-service.git\">Hotmaps</a>",
          "<a href=\"https://github.com/Greenstand/treetracker-android.git\">Treetracker</a>",
          "<a href=\"https://github.com/IAMconsortium/pyam.git\">pyam</a>",
          "<a href=\"https://github.com/ICOS-Carbon-Portal/pylib.git\">Integrated Carbon Observation System</a>",
          "<a href=\"https://github.com/IDAES/idaes-pse.git\">The IDAES Toolkit</a>",
          "<a href=\"https://github.com/IEA-Task-43/digital_wra_data_standard.git\">digital_wra_data_standard</a>",
          "<a href=\"https://github.com/IEAWindTask37/IEA-15-240-RWT.git\">IEA-15-240-RWT</a>",
          "<a href=\"https://github.com/IIT-EnergySystemModels/openTEPES.git\">openTEPES</a>",
          "<a href=\"https://github.com/IPCC-WG1/Chapter-9.git\">IPCC AR6 Chapter 9 Figures</a>",
          "<a href=\"https://github.com/IBM/rl-testbed-for-energyplus.git\">rl-testbed-for-energyplus</a>",
          "<a href=\"https://github.com/ISRICWorldSoil/SoilGrids250m.git\">SoilGrids250m</a>",
          "<a href=\"https://github.com/GreenDelta/openlca-python-tutorial.git\">openlca-python-tutorial</a>",
          "<a href=\"https://github.com/Green-Software-Foundation/software_carbon_intensity.git\">Software Carbon Intensity Specification</a>",
          "<a href=\"https://github.com/FZJ-IEK3-VSA/tsam.git\">tsam</a>",
          "<a href=\"https://github.com/FarmBot/Farmbot-Web-App.git\">Farmbot</a>",
          "<a href=\"https://github.com/FlexMeasures/flexmeasures.git\">FlexMeasures</a>",
          "<a href=\"https://github.com/FlexiGIS/FlexiGIS.git\">FlexiGIS</a>",
          "<a href=\"https://github.com/GClunies/noaa_coops.git\">noaa_coops</a>",
          "<a href=\"https://github.com/GEOSX/GEOSX.git\">GEOSX</a>",
          "<a href=\"https://github.com/GreenDelta/olca-app.git\">OpenLCA</a>",
          "<a href=\"https://github.com/GEUS-Glaciology-and-Climate/freshwater.git\">freshwater</a>",
          "<a href=\"https://github.com/GMLC-TDC/HELICS.git\">Hierarchical Engine for Large-scale Infrastructure Co-Simulation</a>",
          "<a href=\"https://github.com/GSA/sdg-indicators-usa.git\">US Sustainable Development Goal indicators</a>",
          "<a href=\"https://github.com/GenXProject/GenX.git\">GenX</a>",
          "<a href=\"https://github.com/GoogleCloudPlatform/region-carbon-info.git\">Carbon free energy for Google Cloud regions</a>",
          "<a href=\"https://github.com/GralDispersionModel/GRAL.git\">GRAL</a>",
          "<a href=\"https://github.com/GranthamImperial/silicone.git\">Silicone</a>",
          "<a href=\"https://github.com/GIS4WRF/gis4wrf.git\">gis4wrf</a>",
          "<a href=\"https://github.com/ITSLeeds/pct.git\">PCT</a>",
          "<a href=\"https://github.com/ImperialCollegeLondon/sharpy.git\">SHARPy</a>",
          "<a href=\"https://github.com/International-Soil-Radiocarbon-Database/ISRaD.git\">ISRaD</a>",
          "<a href=\"https://github.com/Lkruitwagen/global-fossil-fuel-supply-chain.git\">Global Coal, Oil, and Gas Supply Chains</a>",
          "<a href=\"https://github.com/Lkruitwagen/solar-pv-global-inventory.git\">A Global Inventory of Photovoltaic</a>",
          "<a href=\"https://github.com/MAAP-Project/maap-documentation.git\">MAAP</a>",
          "<a href=\"https://github.com/MATPOWER/matpower.git\">matpower</a>",
          "<a href=\"https://github.com/MHKiT-Software/MHKiT-Python.git\">MHKiT-Python</a>",
          "<a href=\"https://github.com/MITgcm/MITgcm.git\">MITgcm</a>",
          "<a href=\"https://github.com/LibreSolar/charge-controller-firmware.git\">Charge Controller Firmware</a>",
          "<a href=\"https://github.com/MODFLOW-USGS/modflow6.git\">modflow6</a>",
          "<a href=\"https://github.com/MPAS-Dev/MPAS-Model.git\">MPAS</a>",
          "<a href=\"https://github.com/MaREI-EPMG/times-ireland-model.git\">TIMES-Ireland Model</a>",
          "<a href=\"https://github.com/MassimoCimmino/pygfunction.git\">pygfunction</a>",
          "<a href=\"https://github.com/Matt-Brigida/EIAdata.git\">EIAdata</a>",
          "<a href=\"https://github.com/MetOffice/forest.git\">forest</a>",
          "<a href=\"https://github.com/MoBiodiv/mobr.git\">mobr</a>",
          "<a href=\"https://github.com/MPAS-Dev/MPAS-Analysis.git\">MPAS-Analysis</a>",
          "<a href=\"https://github.com/LibreSolar/bms-firmware.git\">LibreSolar</a>",
          "<a href=\"https://github.com/Libbum/DICE.jl.git\">DICE.jl</a>",
          "<a href=\"https://github.com/LBNL-UCB-STI/beam.git\">BEAM</a>",
          "<a href=\"https://github.com/InverseTampere/TreeQSM.git\">TreeQSM</a>",
          "<a href=\"https://github.com/JGCRI/CEDS.git\">The Community Emissions Data System</a>",
          "<a href=\"https://github.com/JGCRI/gcam-core.git\">GCAM</a>",
          "<a href=\"https://github.com/JGCRI/hector.git\">hector</a>",
          "<a href=\"https://github.com/JGCRI/rfasst.git\">rfasst</a>",
          "<a href=\"https://github.com/JRCSTU/CO2MPAS-TA.git\">CO2MPAS-TA</a>",
          "<a href=\"https://github.com/Joel-hanson/Iceberg-locations.git\">Iceberg Locations</a>",
          "<a href=\"https://github.com/JokeNetwork/vegancheck.me.git\">VeganCheck.me</a>",
          "<a href=\"https://github.com/JuliaClimate/ClimateTools.jl.git\">ClimateTools.jl</a>",
          "<a href=\"https://github.com/JuliaDataCubes/EarthDataLab.jl.git\">EarthDataLab.jl</a>",
          "<a href=\"https://github.com/JuliaOcean/AIBECS.jl.git\">AIBECS.jl</a>",
          "<a href=\"https://github.com/JuliaOcean/PlanktonIndividuals.jl.git\">PlanktonIndividuals.jl</a>",
          "<a href=\"https://github.com/KKulma/intensegRid.git\">intensegRid</a>",
          "<a href=\"https://github.com/LBL-EESA/TECA.git\">TECA</a>",
          "<a href=\"https://github.com/LBNL-ETA/MSWH.git\">Multiscale Solar Water Heating</a>",
          "<a href=\"https://github.com/Mohid-Water-Modelling-System/MOHID-Lagrangian.git\">MOHID-Lagrangian</a>",
          "<a href=\"https://github.com/JuliaClimate/ClimateBase.jl.git\">ClimateBase.jl</a>",
          "<a href=\"https://github.com/aqualinkorg/aqualink-app.git\">Aqualink</a>",
          "<a href=\"https://github.com/bi0m3trics/spanner.git\">spanner</a>",
          "<a href=\"https://github.com/alan-turing-institute/monitoring-ecosystem-resilience.git\">monitoring-ecosystem-resilience</a>",
          "<a href=\"https://github.com/allisonhorst/palmerpenguins.git\">palmerpenguins</a>",
          "<a href=\"https://github.com/andmos/BikeshareClient.git\">BikeshareClient</a>",
          "<a href=\"https://github.com/andrew-plowright/ForestTools.git\">ForestTools</a>",
          "<a href=\"https://github.com/apburt/treeseg.git\">treeseg</a>",
          "<a href=\"https://github.com/arbrandt/OPGEE.git\">OPGEE</a>",
          "<a href=\"https://github.com/architecture-building-systems/CityEnergyAnalyst.git\">City Energy Analyst</a>",
          "<a href=\"https://github.com/atmoschem/EmissV.git\">EmissV</a>",
          "<a href=\"https://github.com/atmoschem/eixport.git\">eixport</a>",
          "<a href=\"https://github.com/audunarn/ANYstructure.git\">ANYstructure</a>",
          "<a href=\"https://github.com/awebox/awebox.git\">awebox</a>",
          "<a href=\"https://github.com/badlands-model/badlands.git\">Badlands</a>",
          "<a href=\"https://github.com/atmtools/arts.git\">ARTS</a>",
          "<a href=\"https://github.com/battery-lcf/batteryarchive.git\">Battery Archive</a>",
          "<a href=\"https://github.com/beijbom/coralnet.git\">CoralNet</a>",
          "<a href=\"https://github.com/bczernecki/climate.git\">climate</a>",
          "<a href=\"https://github.com/bcgov/wqbc.git\">wqbc</a>",
          "<a href=\"https://github.com/balmorelcommunity/Balmorel.git\">Balmorel</a>",
          "<a href=\"https://github.com/bcgov/gwells.git\">gwells</a>",
          "<a href=\"https://github.com/bcgov/wps.git\">Wildfire Predictive Services</a>",
          "<a href=\"https://github.com/bcgov/ghg-emissions-indicator.git\">ghg emissions indicator</a>",
          "<a href=\"https://github.com/bcgov/fasstr.git\">fasstr</a>",
          "<a href=\"https://github.com/bcgov/canwqdata.git\">canwqdata</a>",
          "<a href=\"https://github.com/bcgov/bcgroundwater.git\">bcgroundwater</a>",
          "<a href=\"https://github.com/bcgov/groundwater-levels-indicator.git\">Long-term Trends in Groundwater Levels in B.C.</a>",
          "<a href=\"https://github.com/pcraster/pcraster.git\">PCRaster</a>",
          "<a href=\"https://github.com/pik-piam/mrremind.git\">mrremind</a>",
          "<a href=\"https://github.com/pedropro/TACO.git\">TACO</a>",
          "<a href=\"https://github.com/petermr/climate.git\">Open Climate Knowledge</a>",
          "<a href=\"https://github.com/petermr/semanticClimate.git\">semanticClimate</a>",
          "<a href=\"https://github.com/piersyork/owidR.git\">owidR</a>",
          "<a href=\"https://github.com/pik-piam/edgeTransport.git\">edgeTransport</a>",
          "<a href=\"https://github.com/pik-primap/climate_categories.git\">Climate categories</a>",
          "<a href=\"https://github.com/powerapi-ng/pyJoules.git\">pyJoules</a>",
          "<a href=\"https://github.com/pinskylab/OceanAdapt.git\">OceanAdapt</a>",
          "<a href=\"https://github.com/pism/pism.git\">PISM</a>",
          "<a href=\"https://github.com/polca/premise.git\">premise</a>",
          "<a href=\"https://github.com/poseidon-fisheries/POSEIDON.git\">POSEIDON</a>",
          "<a href=\"https://github.com/power-grid-lib/pglib-opf.git\">Power Grid Lib</a>",
          "<a href=\"https://github.com/powerapi-ng/powerapi.git\">PowerAPI</a>",
          "<a href=\"https://github.com/patch-technology/patch-node.git\">patch-node</a>",
          "<a href=\"https://github.com/pingswept/pysolar.git\">Pysolar</a>",
          "<a href=\"https://github.com/pastas/pastas.git\">Pastas</a>",
          "<a href=\"https://github.com/opentaps/blockchain-carbon-accounting.git\">blockchain-carbon-accounting</a>",
          "<a href=\"https://github.com/parflow/parflow.git\">ParFlow</a>",
          "<a href=\"https://github.com/stac-utils/stac-index.git\">STAC Index</a>",
          "<a href=\"https://github.com/steve-community/steve.git\">SteVe</a>",
          "<a href=\"https://github.com/streetmix/streetmix.git\">Streetmix</a>",
          "<a href=\"https://github.com/stripe/carbon-removal-source-materials.git\">Stripe Climate Carbon Removal Purchases</a>",
          "<a href=\"https://github.com/sustainable-computing-io/kepler.git\">Kepler</a>",
          "<a href=\"https://github.com/powsybl/powsybl-core.git\">PowSyBl</a>",
          "<a href=\"https://github.com/opentaps/open-climate-investing.git\">open-climate-investing</a>",
          "<a href=\"https://github.com/passaH2O/dorado.git\">dorado</a>",
          "<a href=\"https://github.com/opfab/operatorfabric-core.git\">OperatorFabric</a>",
          "<a href=\"https://github.com/os-climate/os_c_data_commons.git\">OS-Climate Data Commons</a>",
          "<a href=\"https://github.com/owid/co2-data.git\">co2-data</a>",
          "<a href=\"https://github.com/owid/energy-data.git\">energy-data</a>",
          "<a href=\"https://github.com/owid/owid-catalog-py.git\">owid-catalog</a>",
          "<a href=\"https://github.com/owid/sdg-tracker.org.git\">sdg-tracker.org</a>",
          "<a href=\"https://github.com/pangeo-data/climpred.git\">climpred</a>",
          "<a href=\"https://github.com/pangeo-data/pangeo.git\">pangeo</a>",
          "<a href=\"https://github.com/orbisgis/geoclimate.git\">Geoclimate</a>",
          "<a href=\"https://github.com/powsybl/powsybl-open-loadflow.git\">PowSyBl Open Load Flow</a>",
          "<a href=\"https://github.com/pyinat/pyinaturalist.git\">pyinaturalist</a>",
          "<a href=\"https://github.com/prioritizr/wdpar.git\">wdpar</a>",
          "<a href=\"https://github.com/quintel/etengine.git\">Energy Transition Engine</a>",
          "<a href=\"https://github.com/quintel/etmodel.git\">ETM Pro</a>",
          "<a href=\"https://github.com/quishqa/PyChEmiss.git\">PyChEmiss</a>",
          "<a href=\"https://github.com/r-lidar/lidR.git\">lidR</a>",
          "<a href=\"https://github.com/r-spatialecology/landscapemetrics.git\">landscapemetrics</a>",
          "<a href=\"https://github.com/r4ss/r4ss.git\">r4ss</a>",
          "<a href=\"https://github.com/rOpenGov/eurostat.git\">eurostat R package</a>",
          "<a href=\"https://github.com/qpv-research-group/solcore5.git\">solcore5</a>",
          "<a href=\"https://github.com/rOpenGov/giscoR.git\">giscoR</a>",
          "<a href=\"https://github.com/rabernat/intro_to_physical_oceanography.git\">Intro to Physical Oceanography</a>",
          "<a href=\"https://github.com/radiantearth/radiant-mlhub.git\">Radiant MLHub Python Client</a>",
          "<a href=\"https://github.com/rdbraatz/data-driven-prediction-of-battery-cycle-life-before-capacity-degradation.git\">prediction-of-battery-cycle</a>",
          "<a href=\"https://github.com/red-list-ecosystem/redlistr.git\">redlistr</a>",
          "<a href=\"https://github.com/reegis/deflex.git\">deflex</a>",
          "<a href=\"https://github.com/regen-network/regen-ledger.git\">Regen Ledger</a>",
          "<a href=\"https://github.com/reginalexavier/OpenLand.git\">OpenLand</a>",
          "<a href=\"https://github.com/rOpenSpain/climaemet.git\">climaemet</a>",
          "<a href=\"https://github.com/prioritizr/prioritizr.git\">prioritizr</a>",
          "<a href=\"https://github.com/qpv-research-group/rayflare.git\">rayflare</a>",
          "<a href=\"https://github.com/pytroll/pygac.git\">pygac</a>",
          "<a href=\"https://github.com/protect-earth/TreeTracker.git\">Tree Tracker</a>",
          "<a href=\"https://github.com/pvcaptest/pvcaptest.git\">pvcaptest</a>",
          "<a href=\"https://github.com/pvedu/photovoltaic.git\">photovoltaic</a>",
          "<a href=\"https://github.com/pvlib/pvanalytics.git\">pvanalytics</a>",
          "<a href=\"https://github.com/pvlib/pvlib-python.git\">pvlib-python</a>",
          "<a href=\"https://github.com/pySTEPS/pysteps.git\">pySTEPS</a>",
          "<a href=\"https://github.com/pyaf/load_forecasting.git\">load_forecasting</a>",
          "<a href=\"https://github.com/pyviz-topics/EarthML.git\">EarthML</a>",
          "<a href=\"https://github.com/pybamm-team/PyBaMM.git\">PyBaMM</a>",
          "<a href=\"https://github.com/pygsflow/pygsflow.git\">pyGSFLOW</a>",
          "<a href=\"https://github.com/ss3sim/ss3sim.git\">ss3sim</a>",
          "<a href=\"https://github.com/pylandtemp/pylandtemp.git\">pylandtemp</a>",
          "<a href=\"https://github.com/pypsa-meets-earth/pypsa-earth.git\">PyPSA-Earth</a>",
          "<a href=\"https://github.com/pyronear/pyro-risks.git\">Pyronear Risks</a>",
          "<a href=\"https://github.com/pyronear/pyro-vision.git\">Pyrovision</a>",
          "<a href=\"https://github.com/python-windrose/windrose.git\">windrose</a>",
          "<a href=\"https://github.com/pybamm-team/liionpack.git\">liionpack</a>",
          "<a href=\"https://github.com/squishykid/solax.git\">solax</a>",
          "<a href=\"https://github.com/slacgismo/TESS.git\">Transactive Energy Service System</a>",
          "<a href=\"https://github.com/spaceml-org/ml4floods.git\">ML4Floods</a>",
          "<a href=\"https://github.com/ropensci/epair.git\">epair</a>",
          "<a href=\"https://github.com/ropensci/getCRUCLdata.git\">getCRUCLdata</a>",
          "<a href=\"https://github.com/ropensci/hydroscoper.git\">hydroscoper</a>",
          "<a href=\"https://github.com/ropensci/nasapower.git\">nasapower</a>",
          "<a href=\"https://github.com/ropensci/prism.git\">PRISM</a>",
          "<a href=\"https://github.com/ropensci/qualR.git\">qualR</a>",
          "<a href=\"https://github.com/ropensci/rdefra.git\">rdefra</a>",
          "<a href=\"https://github.com/ropensci/eia.git\">EIA</a>",
          "<a href=\"https://github.com/ropensci/rebird.git\">rebird</a>",
          "<a href=\"https://github.com/ropensci/rgbif.git\">rgbif</a>",
          "<a href=\"https://github.com/ropensci/rnoaa.git\">rnoaa</a>",
          "<a href=\"https://github.com/ropensci/rredlist.git\">rredlist</a>",
          "<a href=\"https://github.com/ropensci/rrricanes.git\">rrricanes</a>",
          "<a href=\"https://github.com/ropensci/smapr.git\">smapr</a>",
          "<a href=\"https://github.com/ropensci/spocc.git\">spocc</a>",
          "<a href=\"https://github.com/ropensci/stplanr.git\">stplanr</a>",
          "<a href=\"https://github.com/ropensci/rfishbase.git\">rfishbase</a>",
          "<a href=\"https://github.com/ropensci/taxize.git\">taxize</a>",
          "<a href=\"https://github.com/ropensci/clifro.git\">CliFlo</a>",
          "<a href=\"https://github.com/ropensci/cde.git\">CDE</a>",
          "<a href=\"https://github.com/remindmodel/remind.git\">The REgional Model of INvestments and Development</a>",
          "<a href=\"https://github.com/responsibleproblemsolving/energy-usage.git\">energyusage</a>",
          "<a href=\"https://github.com/rich-iannone/splitr.git\">splitr</a>",
          "<a href=\"https://github.com/rl-institut/multi-vector-simulator.git\">MVS</a>",
          "<a href=\"https://github.com/rl-institut/offgridders.git\">offgridders</a>",
          "<a href=\"https://github.com/rlogiacco/BatterySense.git\">BatterySense</a>",
          "<a href=\"https://github.com/robinhenry/gym-anm.git\">Gym-ANM</a>",
          "<a href=\"https://github.com/ropensci/chirps.git\">chirps</a>",
          "<a href=\"https://github.com/robintw/Py6S.git\">Py6S</a>",
          "<a href=\"https://github.com/romainsacchi/carculator.git\">carculator</a>",
          "<a href=\"https://github.com/roocs/clisops.git\">clisops</a>",
          "<a href=\"https://github.com/ropensci/GSODR.git\">GSODR</a>",
          "<a href=\"https://github.com/ropensci/MODIStsp.git\">MODIStsp</a>",
          "<a href=\"https://github.com/ropensci/NLMR.git\">NLMR</a>",
          "<a href=\"https://github.com/ropensci/bikedata.git\">bikedata</a>",
          "<a href=\"https://github.com/ropensci/bomrang.git\">bomrang</a>",
          "<a href=\"https://github.com/robwschlegel/heatwaveR.git\">heatwaveR</a>",
          "<a href=\"https://github.com/ropensci/tidyhydat.git\">tidyhydat</a>",
          "<a href=\"https://github.com/ropensci/weathercan.git\">weathercan</a>",
          "<a href=\"https://github.com/rte-antares-rpackage/antaresRead.git\">antaresRead</a>",
          "<a href=\"https://github.com/sintel-dev/Draco.git\">GreenGuard</a>",
          "<a href=\"https://github.com/sizespectrum/mizer.git\">mizer</a>",
          "<a href=\"https://github.com/skgrange/rmweather.git\">rmweather</a>",
          "<a href=\"https://github.com/skgrange/saqgetr.git\">saqgetr</a>",
          "<a href=\"https://github.com/slacgismo/StatisticalClearSky.git\">StatisticalClearSky</a>",
          "<a href=\"https://github.com/resource-watch/resource-watch.git\">Resource Watch</a>",
          "<a href=\"https://github.com/slacgismo/gridlabd.git\">GridLAB-D</a>",
          "<a href=\"https://github.com/sinnwerkstatt/landmatrix.git\">Land Matrix</a>",
          "<a href=\"https://github.com/slacgismo/solar-data-tools.git\">solar-data-tools</a>",
          "<a href=\"https://github.com/slcs-jsc/mptrac.git\">Massive-Parallel Trajectory Calculations</a>",
          "<a href=\"https://github.com/smart-data-models/dataModel.Environment.git\">Smart Data Models</a>",
          "<a href=\"https://github.com/smrt-model/smrt.git\">smrt</a>",
          "<a href=\"https://github.com/snl-quest/snl-quest.git\">snl-quest</a>",
          "<a href=\"https://github.com/sogno-platform/dpsim.git\">DPsim</a>",
          "<a href=\"https://github.com/sollano/forestmangr.git\">forestmangr</a>",
          "<a href=\"https://github.com/space-physics/lowtran.git\">lowtran</a>",
          "<a href=\"https://github.com/slcs-jsc/jurassic.git\">Juelich Rapid Spectral Simulation Code</a>",
          "<a href=\"https://github.com/singularity-energy/open-grid-emissions.git\">Open Grid Emissions Initiative</a>",
          "<a href=\"https://github.com/simonom/PyCHAM.git\">PyCHAM</a>",
          "<a href=\"https://github.com/shuowang-ai/PM2.5-GNN.git\">PM2.5-GNN</a>",
          "<a href=\"https://github.com/rte-antares-rpackage/antaresViz.git\">antaresViz</a>",
          "<a href=\"https://github.com/rte-france/Grid2Op.git\">Grid2Op</a>",
          "<a href=\"https://github.com/sandialabs/hyram.git\">The Hydrogen Risk Assessment Models</a>",
          "<a href=\"https://github.com/santiago-sanitation-systems/Santiago.jl.git\">Santiago.jl</a>",
          "<a href=\"https://github.com/sashahafner/biogas.git\">biogas</a>",
          "<a href=\"https://github.com/satish1901/Methane-detection-from-hyperspectral-imagery.git\">Methane-detection-from-hyperspectral-imagery</a>",
          "<a href=\"https://github.com/sb-ai-lab/Eco2AI.git\">Eco2AI</a>",
          "<a href=\"https://github.com/sbegueria/SPEI.git\">SPEI</a>",
          "<a href=\"https://github.com/schildbach/public-transport-enabler.git\">Public Transport Enabler</a>",
          "<a href=\"https://github.com/sdl60660/river-runner.git\">River Runner</a>",
          "<a href=\"https://github.com/sensebox/openSenseMap.git\">openSenseMap</a>",
          "<a href=\"https://github.com/sentinel-hub/custom-scripts.git\">Custom Scripts Sentinel Hub</a>",
          "<a href=\"https://github.com/sentinel-hub/field-delineation.git\">Automatic field delineation</a>",
          "<a href=\"https://github.com/sentinel-hub/sentinelhub-py.git\">sentinelhub-py</a>",
          "<a href=\"https://github.com/sentinelsat/sentinelsat.git\">sentinelsat</a>",
          "<a href=\"https://github.com/shmh40/detectreeRGB.git\">detectreeRGB</a>",
          "<a href=\"https://github.com/shootismoke/mobile-app.git\">shoot-i-smoke</a>",
          "<a href=\"https://github.com/spatialmodel/inmap.git\">inmap</a>",
          "<a href=\"https://github.com/renewables-ninja/gsee.git\">gsee</a>",
          "<a href=\"https://github.com/16EAGLE/getSpatialData.git\">getSpatialData</a>",
          "<a href=\"https://github.com/ESIPFed/LakePy.git\">LakePy</a>",
          "<a href=\"https://github.com/Breakthrough-Energy/REISE.jl.git\">REISE.jl</a>",
          "<a href=\"https://github.com/BrickSchema/Brick.git\">Brick</a>",
          "<a href=\"https://github.com/CCI-Tools/cate.git\">Cate</a>",
          "<a href=\"https://github.com/CCSI-Toolset/FOQUS.git\">FOQUS</a>",
          "<a href=\"https://github.com/CEMPD/SMOKE.git\">SMOKE</a>",
          "<a href=\"https://github.com/CICE-Consortium/CICE.git\">CICE</a>",
          "<a href=\"https://github.com/CICE-Consortium/Icepack.git\">icepack</a>",
          "<a href=\"https://github.com/CLIMADA-project/climada_python.git\">CLIMADA</a>",
          "<a href=\"https://github.com/CMLPlatform/CircuMAT.git\">CircuMat</a>",
          "<a href=\"https://github.com/CMLPlatform/pycirk.git\">pycirk</a>",
          "<a href=\"https://github.com/CMLPlatform/ramascene.git\">RaMa-Scene</a>",
          "<a href=\"https://github.com/CMU-CREATE-Lab/deep-smoke-machine.git\">deep-smoke-machine</a>",
          "<a href=\"https://github.com/CMUSustainability/SDGmapR.git\">SDGmapR</a>",
          "<a href=\"https://github.com/CNES/MAJA.git\">maja</a>",
          "<a href=\"https://github.com/COSIMA/cosima-cookbook.git\">COSIMA</a>",
          "<a href=\"https://github.com/CSHS-CWRA/CSHShydRology.git\">CSHShydRology</a>",
          "<a href=\"https://github.com/CalebBell/thermo.git\">thermo</a>",
          "<a href=\"https://github.com/Breakthrough-Energy/PowerSimData.git\">PowerSimData</a>",
          "<a href=\"https://github.com/BreakingBytes/pvfree.git\">PV Free</a>",
          "<a href=\"https://github.com/Breakend/experiment-impact-tracker.git\">experiment-impact-tracker</a>",
          "<a href=\"https://github.com/Boavizta/environmental-footprint-data.git\">Environmental Footprint Data</a>",
          "<a href=\"https://github.com/ADGEfficiency/energy-py-linear.git\">energy-py-linear</a>",
          "<a href=\"https://github.com/ADGEfficiency/energy-py.git\">energy-py</a>",
          "<a href=\"https://github.com/AER-RC/LBLRTM.git\">LBLRTM</a>",
          "<a href=\"https://github.com/APSIMInitiative/ApsimX.git\">ApsimX</a>",
          "<a href=\"https://github.com/ARCCSS-extremes/climpact.git\">climpact</a>",
          "<a href=\"https://github.com/ARPA-SIMC/CRITERIA3D.git\">CRITERIA3D</a>",
          "<a href=\"https://github.com/ATFutures/gtfs-router.git\">gtfs-router</a>",
          "<a href=\"https://github.com/AgroCares/Open-Bodem-Index-Calculator.git\">OBI</a>",
          "<a href=\"https://github.com/Call-for-Code/Liquid-Prep.git\">Liquid Prep</a>",
          "<a href=\"https://github.com/AguaClara/aguaclara.git\">aguaclara</a>",
          "<a href=\"https://github.com/AquaticEcoDynamics/GLM.git\">The General Lake Model</a>",
          "<a href=\"https://github.com/AquaticEcoDynamics/libaed2.git\">AED2</a>",
          "<a href=\"https://github.com/BEMRosetta/BEMRosetta.git\">BEMRosetta</a>",
          "<a href=\"https://github.com/BattMoTeam/BattMo.git\">BattMo</a>",
          "<a href=\"https://github.com/BioPAL/BioPAL.git\">BioPAL</a>",
          "<a href=\"https://github.com/BioSTEAMDevelopmentGroup/biosteam.git\">biosteam</a>",
          "<a href=\"https://github.com/Bioverse-Labs/deep-learning.git\">Bioverse Labs</a>",
          "<a href=\"https://github.com/BlinkTagInc/node-gtfs.git\">node-gtfs</a>",
          "<a href=\"https://github.com/AntaresSimulatorTeam/Antares_Simulator.git\">Antares Simulator</a>",
          "<a href=\"https://github.com/CatalogueOfLife/general.git\">The Catalogue of Life</a>",
          "<a href=\"https://github.com/AustralianAntarcticDivision/blueant.git\">Blueant</a>",
          "<a href=\"https://github.com/CenterForTheBuiltEnvironment/comfort_tool.git\">comfort_tool</a>",
          "<a href=\"https://github.com/DemandRegioTeam/disaggregator.git\">disaggregator</a>",
          "<a href=\"https://github.com/DrafProject/draf.git\">draf</a>",
          "<a href=\"https://github.com/DrafProject/elmada.git\">elmada</a>",
          "<a href=\"https://github.com/DrylandEcology/SOILWAT2.git\">SOILWAT2</a>",
          "<a href=\"https://github.com/E3SM-Project/E3SM.git\">E3SM</a>",
          "<a href=\"https://github.com/E3SM-Project/e3sm_diags.git\">E3SM Diagnostics Package</a>",
          "<a href=\"https://github.com/E3SM-Project/gdess.git\">GDESS</a>",
          "<a href=\"https://github.com/E3SM-Project/scream.git\">SCREAM</a>",
          "<a href=\"https://github.com/Deltares/Wflow.jl.git\">Wflow</a>",
          "<a href=\"https://github.com/ECCC-ASTD-MRD/gem.git\">The Global Environmental Multiscale Model</a>",
          "<a href=\"https://github.com/ECSHackWeek/impedance.py.git\">impedance.py</a>",
          "<a href=\"https://github.com/ECSIM/opem.git\">OPEM</a>",
          "<a href=\"https://github.com/ECSIM/pem-dataset1.git\">pem-dataset1</a>",
          "<a href=\"https://github.com/EDF-Lab/BuildSysPro.git\">BuildSysPro</a>",
          "<a href=\"https://github.com/ESCOMP/CESM.git\">The Community Earth System Model</a>",
          "<a href=\"https://github.com/ESCOMP/CMEPS.git\">CMEPS</a>",
          "<a href=\"https://github.com/ESGF/esgf-pyclient.git\">ESGF PyClient</a>",
          "<a href=\"https://github.com/CenterForTheBuiltEnvironment/clima.git\">CBE Clima Tool</a>",
          "<a href=\"https://github.com/ECCO-GROUP/ECCO-v4-Python-Tutorial.git\">ECCO-v4-Python-Tutorial</a>",
          "<a href=\"https://github.com/DSSAT/dssat-csm-os.git\">DSSAT Cropping System Model</a>",
          "<a href=\"https://github.com/ECSIM/gopem.git\">gopem</a>",
          "<a href=\"https://github.com/DPGAlliance/publicgoods-candidates.git\">Digital Public Goods</a>",
          "<a href=\"https://github.com/CenterForTheBuiltEnvironment/pythermalcomfort.git\">pythermalcomfort</a>",
          "<a href=\"https://github.com/DS3Lab/forest-prediction.git\">forest-prediction</a>",
          "<a href=\"https://github.com/Christiaanvandertol/SCOPE.git\">SCOPE</a>",
          "<a href=\"https://github.com/CliMA/ClimateMachine.jl.git\">ClimateMachine.jl</a>",
          "<a href=\"https://github.com/CliMA/LESbrary.jl.git\">LESbrary.jl</a>",
          "<a href=\"https://github.com/CliMA/Oceananigans.jl.git\">Oceananigans.jl</a>",
          "<a href=\"https://github.com/CliMA/RRTMGP.jl.git\">RRTMGP.jl</a>",
          "<a href=\"https://github.com/CliMT/climt.git\">CliMT</a>",
          "<a href=\"https://github.com/ClimateMARGO/ClimateMARGO.jl.git\">ClimateMARGO.jl</a>",
          "<a href=\"https://github.com/CliMA/Land.git\">CLIMA-Land</a>",
          "<a href=\"https://github.com/ClimateWatch-Vizzuality/climate-watch.git\">Climate Watch</a>",
          "<a href=\"https://github.com/Climdyn/qgs.git\">qgs</a>",
          "<a href=\"https://github.com/ConferenceCarbonTracker/CarbonFootprintEGU.git\">CarbonFootprintEGU</a>",
          "<a href=\"https://github.com/DFO-Ocean-Navigator/Ocean-Data-Map-Project.git\">Ocean-Data-Map-Project</a>",
          "<a href=\"https://github.com/ConservationInternational/resilienceatlas.git\">Resilience Atlas</a>",
          "<a href=\"https://github.com/ConservationInternational/trends.earth.git\">Trends.Earth</a>",
          "<a href=\"https://github.com/CornellLabofOrnithology/auk.git\">auk</a>",
          "<a href=\"https://github.com/ClimateMind/climatemind-backend.git\">Climatemind</a>",
          "<a href=\"https://github.com/CriticalAssetManagement/CAMS.git\">CAMS</a>",
          "<a href=\"https://github.com/weecology/NeonTreeEvaluation.git\">NeonTreeEvaluation</a>",
          "<a href=\"https://github.com/weecology/DeepTreeAttention.git\">DeepTreeAttention</a>",
          "<a href=\"https://github.com/weecology/DeepForest.git\">DeepForest</a>",
          "<a href=\"https://github.com/wandb/droughtwatch.git\">droughtwatch</a>",
          "<a href=\"https://github.com/waiwera/waiwera.git\">waiwera</a>",
          "<a href=\"https://github.com/vannizhang/sea-ice.git\">sea-ice</a>",
          "<a href=\"https://github.com/volkszaehler/mbmd.git\">ModBus Measurement Daemon</a>",
          "<a href=\"https://github.com/uslci-admin/uslci-content.git\">uslci-content</a>",
          "<a href=\"https://github.com/weiji14/deepbedmap.git\">DeepBedMap</a>",
          "<a href=\"https://github.com/usbr/PyForecast.git\">PyForecast</a>",
          "<a href=\"https://github.com/usds/justice40-tool.git\">Justice40 Tool</a>",
          "<a href=\"https://github.com/volkszaehler/volkszaehler.org.git\">volkszaehler.org</a>",
          "<a href=\"https://github.com/weiji14/deepicedrain.git\">DeepIceDrain</a>",
          "<a href=\"https://github.com/wri/gfw-mapbuilder.git\">gfw-mapbuilder</a>",
          "<a href=\"https://github.com/wimlds-trojmiasto/detect-waste.git\">Detect waste</a>",
          "<a href=\"https://github.com/wind-python/windpowerlib.git\">windpowerlib</a>",
          "<a href=\"https://github.com/woodcrafty/PyETo.git\">PyETo</a>",
          "<a href=\"https://github.com/wouterpeere/GHEtool.git\">GHEtool</a>",
          "<a href=\"https://github.com/wpgp/wopr.git\">wopr</a>",
          "<a href=\"https://github.com/wrf-model/WRF.git\">WRF</a>",
          "<a href=\"https://github.com/wri/carbon-budget.git\">carbon budget</a>",
          "<a href=\"https://github.com/wri/global-power-plant-database.git\">Global Power Plant Database</a>",
          "<a href=\"https://github.com/wri/sentinel-tree-cover.git\">Sentinel-Tree-Cover</a>",
          "<a href=\"https://github.com/xCDAT/xcdat.git\">xCDAT</a>",
          "<a href=\"https://github.com/xarray-contrib/xskillscore.git\">xskillscore</a>",
          "<a href=\"https://github.com/usa-npn/rnpn.git\">rnpn</a>",
          "<a href=\"https://github.com/xgcm/xgcm.git\">xgcm</a>",
          "<a href=\"https://github.com/wikirate/wikirate.git\">WikiRate</a>",
          "<a href=\"https://github.com/upb-lea/openmodelica-microgrid-gym.git\">openmodelica-microgrid-gym</a>",
          "<a href=\"https://github.com/techmatters/terraso-backend.git\">Terraso</a>",
          "<a href=\"https://github.com/umr-amap/BIOMASS.git\">BIOMASS</a>",
          "<a href=\"https://github.com/zalf-rpm/monica.git\">monica</a>",
          "<a href=\"https://github.com/sustainlab-group/sustainbench.git\">SustainBench</a>",
          "<a href=\"https://github.com/switch-model/switch.git\">switch-model</a>",
          "<a href=\"https://github.com/systemcatch/eiapy.git\">eiapy</a>",
          "<a href=\"https://github.com/systragroup/quetzal.git\">Quetzal</a>",
          "<a href=\"https://github.com/tbep-tech/wqtrends.git\">wqtrends</a>",
          "<a href=\"https://github.com/tdcosim/SolarPV-DER-simulation-tool.git\">SolarPV-DER-simulation-utility</a>",
          "<a href=\"https://github.com/tdwg/dwc.git\">Darwin Core</a>",
          "<a href=\"https://github.com/team-ocean/veros.git\">Veros</a>",
          "<a href=\"https://github.com/technologiestiftung/giessdenkiez-de.git\">Gieß den Kiez</a>",
          "<a href=\"https://github.com/tenstream/tenstream.git\">Tenstream</a>",
          "<a href=\"https://github.com/thegreenwebfoundation/co2.js.git\">co2.js</a>",
          "<a href=\"https://github.com/thegreenwebfoundation/grid-intensity-go.git\">grid-intensity-go</a>",
          "<a href=\"https://github.com/thomastu/pyEIA.git\">pyEIA</a>",
          "<a href=\"https://github.com/tiagodc/TreeLS.git\">TreeLS</a>",
          "<a href=\"https://github.com/timduly4/pyglow.git\">pyglow</a>",
          "<a href=\"https://github.com/toogad/PooPyLab_Project.git\">PooPyLab_Project</a>",
          "<a href=\"https://github.com/traitecoevo/plant.git\">plant</a>",
          "<a href=\"https://github.com/transitland/transitland-atlas.git\">Transitland</a>",
          "<a href=\"https://github.com/trynthink/scout.git\">scout</a>",
          "<a href=\"https://github.com/tum-ens/pyGRETA.git\">pyGRETA</a>",
          "<a href=\"https://github.com/tum-ens/urbs.git\">urbs</a>",
          "<a href=\"https://github.com/turbinesFoam/turbinesFoam.git\">turbinesFoam</a>",
          "<a href=\"https://github.com/uataq/X-STILT.git\">X-STILT</a>",
          "<a href=\"https://github.com/uataq/stilt.git\">stilt</a>",
          "<a href=\"https://github.com/ubahnverleih/WoBike.git\">WoBike</a>",
          "<a href=\"https://github.com/ubilabs/esa-climate-from-space.git\">esa-climate-from-space</a>",
          "<a href=\"https://github.com/upb-lea/gym-electric-motor.git\">Gym Electric Motor</a>",
          "<a href=\"https://github.com/zmlabe/IceVarFigs.git\">IceVarFigs</a>",
          "Agriculture and Nutrition",
          "Air Quality",
          "Atmosphere",
          "Battery",
          "Bioenergy",
          "Biosphere",
          "Buildings and Heating",
          "Carbon Capture and Removel",
          "Carbon Intensity and Accounting",
          "Circular Economy and Waste",
          "Climate Data Processing and Access",
          "Computation and Communication",
          "Cryosphere",
          "Data Catalogs and Interfaces",
          "Datasets on Energy Systems",
          "Earth and Climate Modeling",
          "Emission Observation and Modeling",
          "Energy Distribution and Grids",
          "Energy Modeling and Optimization",
          "Energy Monitoring and Control",
          "Geothermal Energy",
          "Hydro Energy",
          "Hydrogen",
          "Hydrosphere",
          "Integrated Assessment",
          "Knowledge Platforms",
          "Life Cycle Assessment",
          "Meteorological Observation and Forecast",
          "Mobility and Transportation",
          "Natural Hazard and Poverty",
          "Photovoltaics and Solar Energy",
          "Production and Industry",
          "Radiative Transfer",
          "Soil and Land",
          "Sustainable Development Goals",
          "Sustainable Investment",
          "Water Supply and Quality",
          "Wind Energy",
          "Climate and Earth Science",
          "Consumption of Energy and Resources",
          "Earth Systems",
          "Emissions",
          "Energy Storage",
          "Energy Systems",
          "Industrial Ecology",
          "Natural Resources",
          "Renewable Energy",
          "Sustainable Development"
         ],
         "marker": {
          "colors": [
           "#0E7C7B",
           "#17BEBB",
           "#FFC857",
           "#0E7C7B",
           "#FFC857",
           "#FFC857",
           "#E9724C",
           "#C5283D",
           "#FFC857",
           "#0E7C7B",
           "#0E7C7B",
           "#17BEBB",
           "#0E7C7B",
           "#E9724C",
           "#FFC857",
           "#FFC857",
           "#17BEBB",
           "#E9724C",
           "#E9724C",
           "#17BEBB",
           "#17BEBB",
           "#FFC857",
           "#FFC857",
           "#E9724C",
           "#FFC857",
           "#0E7C7B",
           "#0E7C7B",
           "#E9724C",
           "#E9724C",
           "#0E7C7B",
           "#C5283D",
           "#0E7C7B",
           "#17BEBB",
           "#17BEBB",
           "#17BEBB",
           "#E9724C",
           "#E9724C",
           "#17BEBB",
           "#C5283D",
           "#0E7C7B",
           "#0E7C7B",
           "#E9724C",
           "#0E7C7B",
           "#0E7C7B",
           "#17BEBB",
           "#FFC857",
           "#FFC857",
           "#C5283D",
           "#17BEBB",
           "#0E7C7B",
           "#0E7C7B",
           "#0E7C7B",
           "#FFC857",
           "#17BEBB",
           "#17BEBB",
           "#0E7C7B",
           "#FFC857",
           "#17BEBB",
           "#FFC857",
           "#FFC857",
           "#FFC857",
           "#C5283D",
           "#0E7C7B",
           "#C5283D",
           "#FFC857",
           "#FFC857",
           "#17BEBB",
           "#E9724C",
           "#FFC857",
           "#17BEBB",
           "#0E7C7B",
           "#0E7C7B",
           "#FFC857",
           "#E9724C",
           "#E9724C",
           "#FFC857",
           "#C5283D",
           "#C5283D",
           "#C5283D",
           "#0E7C7B",
           "#0E7C7B",
           "#17BEBB",
           "#17BEBB",
           "#17BEBB",
           "#17BEBB",
           "#17BEBB",
           "#0E7C7B",
           "#0E7C7B",
           "#0E7C7B",
           "#17BEBB",
           "#FFC857",
           "#E9724C",
           "#17BEBB",
           "#0E7C7B",
           "#0E7C7B",
           "#17BEBB",
           "#FFC857",
           "#FFC857",
           "#FFC857",
           "#C5283D",
           "#17BEBB",
           "#FFC857",
           "#17BEBB",
           "#E9724C",
           "#FFC857",
           "#0E7C7B",
           "#FFC857",
           "#E9724C",
           "#E9724C",
           "#0E7C7B",
           "#0E7C7B",
           "#0E7C7B",
           "#0E7C7B",
           "#0E7C7B",
           "#17BEBB",
           "#FFC857",
           "#0E7C7B",
           "#FFC857",
           "#17BEBB",
           "#17BEBB",
           "#17BEBB",
           "#17BEBB",
           "#C5283D",
           "#E9724C",
           "#FFC857",
           "#FFC857",
           "#17BEBB",
           "#17BEBB",
           "#17BEBB",
           "#C5283D",
           "#0E7C7B",
           "#FFC857",
           "#17BEBB",
           "#17BEBB",
           "#17BEBB",
           "#FFC857",
           "#17BEBB",
           "#17BEBB",
           "#17BEBB",
           "#17BEBB",
           "#17BEBB",
           "#C5283D",
           "#17BEBB",
           "#17BEBB",
           "#17BEBB",
           "#0E7C7B",
           "#C5283D",
           "#0E7C7B",
           "#17BEBB",
           "#FFC857",
           "#17BEBB",
           "#FFC857",
           "#FFC857",
           "#17BEBB",
           "#C5283D",
           "#FFC857",
           "#E9724C",
           "#17BEBB",
           "#FFC857",
           "#C5283D",
           "#E9724C",
           "#E9724C",
           "#C5283D",
           "#FFC857",
           "#FFC857",
           "#FFC857",
           "#17BEBB",
           "#17BEBB",
           "#FFC857",
           "#FFC857",
           "#17BEBB",
           "#17BEBB",
           "#17BEBB",
           "#C5283D",
           "#0E7C7B",
           "#17BEBB",
           "#C5283D",
           "#FFC857",
           "#17BEBB",
           "#C5283D",
           "#17BEBB",
           "#0E7C7B",
           "#0E7C7B",
           "#FFC857",
           "#E9724C",
           "#17BEBB",
           "#E9724C",
           "#0E7C7B",
           "#0E7C7B",
           "#E9724C",
           "#FFC857",
           "#FFC857",
           "#0E7C7B",
           "#17BEBB",
           "#17BEBB",
           "#17BEBB",
           "#C5283D",
           "#17BEBB",
           "#0E7C7B",
           "#17BEBB",
           "#0E7C7B",
           "#0E7C7B",
           "#0E7C7B",
           "#C5283D",
           "#0E7C7B",
           "#C5283D",
           "#0E7C7B",
           "#0E7C7B",
           "#0E7C7B",
           "#C5283D",
           "#0E7C7B",
           "#0E7C7B",
           "#0E7C7B",
           "#0E7C7B",
           "#17BEBB",
           "#0E7C7B",
           "#17BEBB",
           "#17BEBB",
           "#0E7C7B",
           "#0E7C7B",
           "#0E7C7B",
           "#FFC857",
           "#E9724C",
           "#E9724C",
           "#17BEBB",
           "#C5283D",
           "#C5283D",
           "#FFC857",
           "#0E7C7B",
           "#0E7C7B",
           "#17BEBB",
           "#E9724C",
           "#E9724C",
           "#E9724C",
           "#E9724C",
           "#17BEBB",
           "#FFC857",
           "#0E7C7B",
           "#FFC857",
           "#0E7C7B",
           "#FFC857",
           "#C5283D",
           "#0E7C7B",
           "#C5283D",
           "#C5283D",
           "#17BEBB",
           "#17BEBB",
           "#C5283D",
           "#C5283D",
           "#FFC857",
           "#0E7C7B",
           "#E9724C",
           "#FFC857",
           "#FFC857",
           "#17BEBB",
           "#17BEBB",
           "#0E7C7B",
           "#E9724C",
           "#C5283D",
           "#17BEBB",
           "#0E7C7B",
           "#17BEBB",
           "#17BEBB",
           "#17BEBB",
           "#17BEBB",
           "#0E7C7B",
           "#E9724C",
           "#17BEBB",
           "#E9724C",
           "#17BEBB",
           "#0E7C7B",
           "#17BEBB",
           "#0E7C7B",
           "#FFC857",
           "#FFC857",
           "#FFC857",
           "#17BEBB",
           "#FFC857",
           "#0E7C7B",
           "#C5283D",
           "#FFC857",
           "#17BEBB",
           "#E9724C",
           "#0E7C7B",
           "#0E7C7B",
           "#E9724C",
           "#E9724C",
           "#17BEBB",
           "#17BEBB",
           "#C5283D",
           "#17BEBB",
           "#17BEBB",
           "#17BEBB",
           "#E9724C",
           "#E9724C",
           "#E9724C",
           "#FFC857",
           "#0E7C7B",
           "#17BEBB",
           "#FFC857",
           "#E9724C",
           "#0E7C7B",
           "#E9724C",
           "#17BEBB",
           "#E9724C",
           "#FFC857",
           "#17BEBB",
           "#0E7C7B",
           "#FFC857",
           "#17BEBB",
           "#17BEBB",
           "#C5283D",
           "#FFC857",
           "#17BEBB",
           "#E9724C",
           "#E9724C",
           "#17BEBB",
           "#17BEBB",
           "#17BEBB",
           "#17BEBB",
           "#E9724C",
           "#E9724C",
           "#FFC857",
           "#C5283D",
           "#17BEBB",
           "#17BEBB",
           "#17BEBB",
           "#17BEBB",
           "#C5283D",
           "#E9724C",
           "#E9724C",
           "#C5283D",
           "#E9724C",
           "#C5283D",
           "#17BEBB",
           "#FFC857",
           "#FFC857",
           "#FFC857",
           "#17BEBB",
           "#E9724C",
           "#E9724C",
           "#17BEBB",
           "#17BEBB",
           "#E9724C",
           "#17BEBB",
           "#FFC857",
           "#17BEBB",
           "#0E7C7B",
           "#FFC857",
           "#0E7C7B",
           "#FFC857",
           "#E9724C",
           "#FFC857",
           "#0E7C7B",
           "#FFC857",
           "#FFC857",
           "#17BEBB",
           "#0E7C7B",
           "#E9724C",
           "#E9724C",
           "#0E7C7B",
           "#17BEBB",
           "#17BEBB",
           "#E9724C",
           "#17BEBB",
           "#FFC857",
           "#FFC857",
           "#FFC857",
           "#FFC857",
           "#C5283D",
           "#17BEBB",
           "#17BEBB",
           "#17BEBB",
           "#FFC857",
           "#E9724C",
           "#E9724C",
           "#FFC857",
           "#17BEBB",
           "#17BEBB",
           "#17BEBB",
           "#0E7C7B",
           "#FFC857",
           "#E9724C",
           "#0E7C7B",
           "#0E7C7B",
           "#0E7C7B",
           "#FFC857",
           "#17BEBB",
           "#FFC857",
           "#0E7C7B",
           "#17BEBB",
           "#17BEBB",
           "#0E7C7B",
           "#17BEBB",
           "#E9724C",
           "#0E7C7B",
           "#17BEBB",
           "#FFC857",
           "#17BEBB",
           "#E9724C",
           "#FFC857",
           "#0E7C7B",
           "#C5283D",
           "#E9724C",
           "#FFC857",
           "#FFC857",
           "#E9724C",
           "#E9724C",
           "#17BEBB",
           "#17BEBB",
           "#E9724C",
           "#0E7C7B",
           "#0E7C7B",
           "#C5283D",
           "#0E7C7B",
           "#0E7C7B",
           "#FFC857",
           "#C5283D",
           "#17BEBB",
           "#0E7C7B",
           "#E9724C",
           "#0E7C7B",
           "#FFC857",
           "#0E7C7B",
           "#17BEBB",
           "#0E7C7B",
           "#0E7C7B",
           "#17BEBB",
           "#E9724C",
           "#FFC857",
           "#FFC857",
           "#FFC857",
           "#17BEBB",
           "#17BEBB",
           "#FFC857",
           "#17BEBB",
           "#E9724C",
           "#FFC857",
           "#E9724C",
           "#FFC857",
           "#17BEBB",
           "#0E7C7B",
           "#17BEBB",
           "#17BEBB",
           "#17BEBB",
           "#0E7C7B",
           "#E9724C",
           "#E9724C",
           "#0E7C7B",
           "#FFC857",
           "#FFC857",
           "#E9724C",
           "#17BEBB",
           "#E9724C",
           "#17BEBB",
           "#17BEBB",
           "#C5283D",
           "#C5283D",
           "#0E7C7B",
           "#C5283D",
           "#C5283D",
           "#C5283D",
           "#C5283D",
           "#0E7C7B",
           "#C5283D",
           "#17BEBB",
           "#C5283D",
           "#0E7C7B",
           "#C5283D",
           "#17BEBB",
           "#E9724C",
           "#17BEBB",
           "#17BEBB",
           "#FFC857",
           "#17BEBB",
           "#FFC857",
           "#FFC857",
           "#E9724C",
           "#E9724C",
           "#E9724C",
           "#E9724C",
           "#E9724C",
           "#FFC857",
           "#17BEBB",
           "#E9724C",
           "#0E7C7B",
           "#C5283D",
           "#FFC857",
           "#E9724C",
           "#FFC857",
           "#E9724C",
           "#E9724C",
           "#17BEBB",
           "#17BEBB",
           "#FFC857",
           "#FFC857",
           "#E9724C",
           "#17BEBB",
           "#FFC857",
           "#FFC857",
           "#17BEBB",
           "#17BEBB",
           "#17BEBB",
           "#FFC857",
           "#C5283D",
           "#FFC857",
           "#C5283D",
           "#E9724C",
           "#FFC857",
           "#17BEBB",
           "#FFC857",
           "#17BEBB",
           "#0E7C7B",
           "#0E7C7B",
           "#17BEBB",
           "#17BEBB",
           "#17BEBB",
           "#17BEBB",
           "#FFC857",
           "#0E7C7B",
           "#0E7C7B",
           "#0E7C7B",
           "#0E7C7B",
           "#17BEBB",
           "#17BEBB",
           "#0E7C7B",
           "#C5283D",
           "#0E7C7B",
           "#17BEBB",
           "#FFC857",
           "#17BEBB",
           "#E9724C",
           "#E9724C",
           "#E9724C",
           "#E9724C",
           "#17BEBB",
           "#E9724C",
           "#17BEBB",
           "#E9724C",
           "#17BEBB",
           "#17BEBB",
           "#E9724C",
           "#E9724C",
           "#17BEBB",
           "#17BEBB",
           "#C5283D",
           "#C5283D",
           "#17BEBB",
           "#E9724C",
           "#E9724C",
           "#17BEBB",
           "#17BEBB",
           "#FFC857",
           "#FFC857",
           "#17BEBB",
           "#17BEBB",
           "#C5283D",
           "#FFC857",
           "#C5283D",
           "#C5283D",
           "#C5283D",
           "#C5283D",
           "#C5283D",
           "#C5283D",
           "#17BEBB",
           "#C5283D",
           "#17BEBB",
           "#C5283D",
           "#FFC857",
           "#FFC857",
           "#FFC857",
           "#C5283D",
           "#FFC857",
           "#17BEBB",
           "#17BEBB",
           "#FFC857",
           "#17BEBB",
           "#17BEBB",
           "#0E7C7B",
           "#FFC857",
           "#0E7C7B",
           "#FFC857",
           "#17BEBB",
           "#E9724C",
           "#E9724C",
           "#17BEBB",
           "#C5283D",
           "#C5283D",
           "#17BEBB",
           "#E9724C",
           "#17BEBB",
           "#0E7C7B",
           "#C5283D",
           "#FFC857",
           "#17BEBB",
           "#0E7C7B",
           "#17BEBB",
           "#17BEBB",
           "#17BEBB",
           "#E9724C",
           "#C5283D",
           "#17BEBB",
           "#17BEBB",
           "#FFC857",
           "#17BEBB",
           "#FFC857",
           "#17BEBB",
           "#E9724C",
           "#E9724C",
           "#FFC857",
           "#C5283D",
           "#0E7C7B",
           "#17BEBB",
           "#C5283D",
           "#17BEBB",
           "#17BEBB",
           "#C5283D",
           "#17BEBB",
           "#C5283D",
           "#0E7C7B",
           "#E9724C",
           "#17BEBB",
           "#C5283D",
           "#17BEBB",
           "#17BEBB",
           "#17BEBB",
           "#E9724C",
           "#C5283D",
           "#E9724C",
           "#FFC857",
           "#17BEBB",
           "#E9724C",
           "#E9724C",
           "#E9724C",
           "#0E7C7B",
           "#FFC857",
           "#17BEBB",
           "#0E7C7B",
           "#E9724C",
           "#FFC857",
           "#17BEBB",
           "#17BEBB",
           "#E9724C",
           "#E9724C",
           "#FFC857",
           "#17BEBB",
           "#E9724C",
           "#17BEBB",
           "#17BEBB",
           "#17BEBB",
           "#17BEBB",
           "#FFC857",
           "#17BEBB",
           "#17BEBB",
           "#E9724C",
           "#FFC857",
           "#E9724C",
           "#E9724C",
           "#C5283D",
           "#C5283D",
           "#17BEBB",
           "#E9724C",
           "#0E7C7B",
           "#17BEBB",
           "#E9724C",
           "#0E7C7B",
           "#17BEBB",
           "#0E7C7B",
           "#17BEBB",
           "#E9724C",
           "#0E7C7B",
           "#0E7C7B",
           "#0E7C7B",
           "#0E7C7B",
           "#0E7C7B",
           "#E9724C",
           "#C5283D",
           "#FFC857",
           "#E9724C",
           "#FFC857",
           "#E9724C",
           "#E9724C",
           "#FFC857",
           "#17BEBB",
           "#17BEBB",
           "#C5283D",
           "#0E7C7B",
           "#17BEBB",
           "#FFC857",
           "#FFC857",
           "#C5283D",
           "#17BEBB",
           "#E9724C",
           "#17BEBB",
           "#FFC857",
           "#FFC857",
           "#FFC857",
           "#FFC857",
           "#FFC857",
           "#17BEBB",
           "#FFC857",
           "#17BEBB",
           "#17BEBB",
           "#FFC857",
           "#E9724C",
           "#17BEBB",
           "#FFC857",
           "#FFC857",
           "#E9724C",
           "#E9724C",
           "#E9724C",
           "#17BEBB",
           "#17BEBB",
           "#17BEBB",
           "#17BEBB",
           "#17BEBB",
           "#E9724C",
           "#17BEBB",
           "#0E7C7B",
           "#0E7C7B",
           "#FFC857",
           "#C5283D",
           "#FFC857",
           "#17BEBB",
           "#FFC857",
           "#0E7C7B",
           "#17BEBB",
           "#17BEBB",
           "#FFC857",
           "#0E7C7B",
           "#E9724C",
           "#17BEBB",
           "#C5283D",
           "#E9724C",
           "#17BEBB",
           "#C5283D",
           "#C5283D",
           "#C5283D",
           "#C5283D",
           "#0E7C7B",
           "#17BEBB",
           "#0E7C7B",
           "#0E7C7B",
           "#0E7C7B",
           "#0E7C7B",
           "#E9724C",
           "#17BEBB",
           "#17BEBB",
           "#17BEBB",
           "#C5283D",
           "#0E7C7B",
           "#C5283D",
           "#17BEBB",
           "#0E7C7B",
           "#FFC857",
           "#E9724C",
           "#17BEBB",
           "#C5283D",
           "#E9724C",
           "#0E7C7B",
           "#0E7C7B",
           "#17BEBB",
           "#17BEBB",
           "#17BEBB",
           "#17BEBB",
           "#17BEBB",
           "#17BEBB",
           "#0E7C7B",
           "#17BEBB",
           "#FFC857",
           "#17BEBB",
           "#17BEBB",
           "#E9724C",
           "#0E7C7B",
           "#FFC857",
           "#FFC857",
           "#17BEBB",
           "#17BEBB",
           "#17BEBB",
           "#0E7C7B",
           "#17BEBB",
           "#E9724C",
           "#E9724C",
           "#C5283D",
           "#E9724C",
           "#E9724C",
           "#FFC857",
           "#0E7C7B",
           "#FFC857",
           "#E9724C",
           "#17BEBB",
           "#17BEBB",
           "#E9724C",
           "#17BEBB",
           "#C5283D",
           "#0E7C7B",
           "#0E7C7B",
           "#0E7C7B",
           "#C5283D",
           "#FFC857",
           "#17BEBB",
           "#0E7C7B",
           "#C5283D",
           "#17BEBB",
           "#FFC857",
           "#17BEBB",
           "#0E7C7B",
           "#17BEBB",
           "#17BEBB",
           "#17BEBB",
           "#E9724C",
           "#E9724C",
           "#17BEBB",
           "#0E7C7B",
           "#17BEBB",
           "#17BEBB",
           "#0E7C7B",
           "#C5283D",
           "#C5283D",
           "#E9724C",
           "#FFC857",
           "#0E7C7B",
           "#FFC857",
           "#17BEBB",
           "#0E7C7B",
           "#FFC857",
           "#0E7C7B",
           "#FFC857",
           "#FFC857",
           "#17BEBB",
           "#0E7C7B",
           "#0E7C7B",
           "#C5283D",
           "#FFC857",
           "#17BEBB",
           "#17BEBB",
           "#FFC857",
           "#E9724C",
           "#E9724C",
           "#0E7C7B",
           "#17BEBB",
           "#17BEBB",
           "#E9724C",
           "#C5283D",
           "#C5283D",
           "#C5283D",
           "#E9724C",
           "#FFC857",
           "#17BEBB",
           "#17BEBB",
           "#0E7C7B",
           "#C5283D",
           "#17BEBB",
           "#C5283D",
           "#FFC857",
           "#FFC857",
           "#17BEBB",
           "#17BEBB",
           "#E9724C",
           "#0E7C7B",
           "#E9724C",
           "#0E7C7B",
           "#FFC857",
           "#0E7C7B",
           "#0E7C7B",
           "#0E7C7B",
           "#0E7C7B",
           "#0E7C7B",
           "#C5283D",
           "#0E7C7B",
           "#17BEBB",
           "#C5283D",
           "#17BEBB",
           "#FFC857",
           "#17BEBB",
           "#17BEBB",
           "#17BEBB",
           "#FFC857",
           "#17BEBB",
           "#17BEBB",
           "#E9724C",
           "#17BEBB",
           "#E9724C",
           "#E9724C",
           "#E9724C",
           "#17BEBB",
           "#17BEBB",
           "#E9724C",
           "#0E7C7B",
           "#0E7C7B",
           "#0E7C7B",
           "#FFC857",
           "#E9724C",
           "#E9724C",
           "#FFC857",
           "#FFC857",
           "#17BEBB",
           "#0E7C7B",
           "#0E7C7B",
           "#FFC857",
           "#FFC857",
           "#17BEBB",
           "#0E7C7B",
           "#E9724C",
           "#17BEBB",
           "#17BEBB",
           "#17BEBB",
           "#E9724C",
           "#E9724C",
           "#E9724C",
           "#FFC857",
           "#17BEBB",
           "#E9724C",
           "#17BEBB",
           "#0E7C7B",
           "#0E7C7B",
           "#17BEBB",
           "#FFC857",
           "#0E7C7B",
           "#17BEBB",
           "#17BEBB",
           "#17BEBB",
           "#0E7C7B",
           "#C5283D",
           "#17BEBB",
           "#FFC857",
           "#C5283D",
           "#17BEBB",
           "#0E7C7B",
           "#FFC857",
           "#FFC857",
           "#17BEBB",
           "#17BEBB",
           "#C5283D",
           "#C5283D",
           "#17BEBB",
           "#C5283D",
           "#FFC857",
           "#E9724C",
           "#17BEBB",
           "#17BEBB",
           "#17BEBB",
           "#E9724C",
           "#E9724C",
           "#17BEBB",
           "#E9724C",
           "#FFC857",
           "#17BEBB",
           "#0E7C7B",
           "#17BEBB",
           "#0E7C7B",
           "#FFC857",
           "#17BEBB",
           "#17BEBB",
           "#FFC857",
           "#0E7C7B",
           "#C5283D",
           "#17BEBB",
           "#17BEBB",
           "#17BEBB",
           "#E9724C",
           "#FFC857",
           "#FFC857",
           "#17BEBB",
           "#17BEBB",
           "#17BEBB",
           "#0E7C7B",
           "#17BEBB",
           "#FFC857",
           "#FFC857",
           "#17BEBB",
           "#17BEBB",
           "#C5283D",
           "#E9724C",
           "#E9724C",
           "#FFC857",
           "#E9724C",
           "#FFC857",
           "#E9724C",
           "#0E7C7B",
           "#0E7C7B",
           "#17BEBB",
           "#0E7C7B",
           "#C5283D",
           "#17BEBB",
           "#FFC857",
           "#E9724C",
           "#E9724C",
           "#C5283D",
           "#E9724C",
           "#FFC857",
           "#17BEBB",
           "#FFC857",
           "#17BEBB",
           "#E9724C",
           "#E9724C",
           "#17BEBB",
           "#17BEBB",
           "#17BEBB",
           "#C5283D",
           "#C5283D",
           "#0E7C7B",
           "#17BEBB",
           "#E9724C",
           "#FFC857",
           "#C5283D",
           "#E9724C",
           "#FFC857",
           "#0E7C7B",
           "#C5283D",
           "#FFC857",
           "#E9724C",
           "#0E7C7B",
           "#FFC857",
           "#FFC857",
           "#0E7C7B",
           "#C5283D",
           "#E9724C",
           "#FFC857",
           "#17BEBB",
           "#E9724C",
           "#0E7C7B",
           "#17BEBB",
           "#C5283D",
           "#0E7C7B",
           "#C5283D",
           "#FFC857"
          ]
         },
         "maxdepth": 2,
         "name": "",
         "parents": [
          "Natural Resources/Water Supply and Quality",
          "Earth Systems/Cryosphere",
          "Consumption of Energy and Resources/Computation and Communication",
          "Natural Resources/Agriculture and Nutrition",
          "Consumption of Energy and Resources/Computation and Communication",
          "Consumption of Energy and Resources/Computation and Communication",
          "Climate and Earth Science/Earth and Climate Modeling",
          "Renewable Energy/Photovoltaics and Solar Energy",
          "Consumption of Energy and Resources/Buildings and Heating",
          "Natural Resources/Soil and Land",
          "Energy Storage/Hydrogen",
          "Energy Systems/Energy Distribution and Grids",
          "Natural Resources/Air Quality",
          "Climate and Earth Science/Climate Data Processing and Access",
          "Sustainable Development/Data Catalogs and Interfaces",
          "Sustainable Development/Data Catalogs and Interfaces",
          "Earth Systems/Biosphere",
          "Climate and Earth Science/Climate Data Processing and Access",
          "Emissions/Emission Observation and Modeling",
          "Earth Systems/Atmosphere",
          "Earth Systems/Hydrosphere",
          "Consumption of Energy and Resources/Computation and Communication",
          "Consumption of Energy and Resources/Computation and Communication",
          "Emissions/Emission Observation and Modeling",
          "Consumption of Energy and Resources/Mobility and Transportation",
          "Natural Resources/Water Supply and Quality",
          "Natural Resources/Soil and Land",
          "Climate and Earth Science/Earth and Climate Modeling",
          "Climate and Earth Science/Earth and Climate Modeling",
          "Natural Resources/Agriculture and Nutrition",
          "Industrial Ecology/Life Cycle Assessment",
          "Natural Resources/Water Supply and Quality",
          "Energy Systems/Datasets on Energy Systems",
          "Energy Systems/Energy Modeling and Optimization",
          "Energy Systems/Energy Distribution and Grids",
          "Climate and Earth Science/Climate Data Processing and Access",
          "Climate and Earth Science/Climate Data Processing and Access",
          "Earth Systems/Hydrosphere",
          "Renewable Energy/Photovoltaics and Solar Energy",
          "Natural Resources/Water Supply and Quality",
          "Natural Resources/Water Supply and Quality",
          "Climate and Earth Science/Climate Data Processing and Access",
          "Energy Storage/Hydrogen",
          "Natural Resources/Soil and Land",
          "Earth Systems/Biosphere",
          "Consumption of Energy and Resources/Computation and Communication",
          "Consumption of Energy and Resources/Mobility and Transportation",
          "Industrial Ecology/Circular Economy and Waste",
          "Earth Systems/Biosphere",
          "Natural Resources/Agriculture and Nutrition",
          "Natural Resources/Air Quality",
          "Natural Resources/Agriculture and Nutrition",
          "Consumption of Energy and Resources/Mobility and Transportation",
          "Energy Systems/Datasets on Energy Systems",
          "Earth Systems/Biosphere",
          "Energy Storage/Battery",
          "Sustainable Development/Knowledge Platforms",
          "Energy Systems/Energy Modeling and Optimization",
          "Consumption of Energy and Resources/Buildings and Heating",
          "Consumption of Energy and Resources/Buildings and Heating",
          "Consumption of Energy and Resources/Buildings and Heating",
          "Renewable Energy/Geothermal Energy",
          "Natural Resources/Agriculture and Nutrition",
          "Renewable Energy/Photovoltaics and Solar Energy",
          "Consumption of Energy and Resources/Mobility and Transportation",
          "Consumption of Energy and Resources/Mobility and Transportation",
          "Earth Systems/Hydrosphere",
          "Climate and Earth Science/Meteorological Observation and Forecast",
          "Sustainable Development/Sustainable Development Goals",
          "Energy Systems/Energy Modeling and Optimization",
          "Natural Resources/Air Quality",
          "Natural Resources/Air Quality",
          "Consumption of Energy and Resources/Mobility and Transportation",
          "Climate and Earth Science/Earth and Climate Modeling",
          "Emissions/Carbon Intensity and Accounting",
          "Sustainable Development/Data Catalogs and Interfaces",
          "Renewable Energy/Photovoltaics and Solar Energy",
          "Renewable Energy/Photovoltaics and Solar Energy",
          "Renewable Energy/Photovoltaics and Solar Energy",
          "Natural Resources/Air Quality",
          "Natural Resources/Air Quality",
          "Energy Systems/Energy Monitoring and Control",
          "Earth Systems/Atmosphere",
          "Energy Systems/Energy Distribution and Grids",
          "Energy Systems/Energy Monitoring and Control",
          "Energy Systems/Energy Monitoring and Control",
          "Natural Resources/Agriculture and Nutrition",
          "Natural Resources/Agriculture and Nutrition",
          "Natural Resources/Agriculture and Nutrition",
          "Earth Systems/Biosphere",
          "Sustainable Development/Data Catalogs and Interfaces",
          "Emissions/Emission Observation and Modeling",
          "Energy Systems/Datasets on Energy Systems",
          "Natural Resources/Air Quality",
          "Natural Resources/Agriculture and Nutrition",
          "Earth Systems/Biosphere",
          "Consumption of Energy and Resources/Buildings and Heating",
          "Consumption of Energy and Resources/Buildings and Heating",
          "Consumption of Energy and Resources/Mobility and Transportation",
          "Industrial Ecology/Life Cycle Assessment",
          "Earth Systems/Hydrosphere",
          "Sustainable Development/Data Catalogs and Interfaces",
          "Earth Systems/Cryosphere",
          "Climate and Earth Science/Climate Data Processing and Access",
          "Sustainable Development/Data Catalogs and Interfaces",
          "Natural Resources/Agriculture and Nutrition",
          "Sustainable Development/Sustainable Investment",
          "Climate and Earth Science/Climate Data Processing and Access",
          "Climate and Earth Science/Climate Data Processing and Access",
          "Natural Resources/Soil and Land",
          "Natural Resources/Soil and Land",
          "Natural Resources/Soil and Land",
          "Natural Resources/Soil and Land",
          "Natural Resources/Water Supply and Quality",
          "Earth Systems/Cryosphere",
          "Consumption of Energy and Resources/Buildings and Heating",
          "Energy Storage/Battery",
          "Consumption of Energy and Resources/Buildings and Heating",
          "Energy Systems/Energy Modeling and Optimization",
          "Energy Systems/Energy Modeling and Optimization",
          "Energy Systems/Energy Modeling and Optimization",
          "Energy Systems/Energy Modeling and Optimization",
          "Renewable Energy/Photovoltaics and Solar Energy",
          "Climate and Earth Science/Earth and Climate Modeling",
          "Consumption of Energy and Resources/Buildings and Heating",
          "Sustainable Development/Data Catalogs and Interfaces",
          "Earth Systems/Cryosphere",
          "Energy Systems/Energy Modeling and Optimization",
          "Earth Systems/Atmosphere",
          "Renewable Energy/Wind Energy",
          "Natural Resources/Natural Hazard and Poverty",
          "Consumption of Energy and Resources/Mobility and Transportation",
          "Earth Systems/Biosphere",
          "Earth Systems/Biosphere",
          "Earth Systems/Cryosphere",
          "Sustainable Development/Knowledge Platforms",
          "Energy Systems/Energy Modeling and Optimization",
          "Earth Systems/Biosphere",
          "Energy Systems/Datasets on Energy Systems",
          "Energy Systems/Datasets on Energy Systems",
          "Energy Systems/Energy Modeling and Optimization",
          "Renewable Energy/Photovoltaics and Solar Energy",
          "Energy Systems/Energy Modeling and Optimization",
          "Energy Systems/Energy Modeling and Optimization",
          "Energy Systems/Energy Modeling and Optimization",
          "Natural Resources/Water Supply and Quality",
          "Industrial Ecology/Life Cycle Assessment",
          "Natural Resources/Water Supply and Quality",
          "Energy Systems/Energy Modeling and Optimization",
          "Consumption of Energy and Resources/Buildings and Heating",
          "Earth Systems/Hydrosphere",
          "Consumption of Energy and Resources/Buildings and Heating",
          "Consumption of Energy and Resources/Buildings and Heating",
          "Energy Systems/Energy Modeling and Optimization",
          "Renewable Energy/Bioenergy",
          "Sustainable Development/Sustainable Investment",
          "Climate and Earth Science/Radiative Transfer",
          "Energy Systems/Energy Distribution and Grids",
          "Consumption of Energy and Resources/Mobility and Transportation",
          "Renewable Energy/Wind Energy",
          "Climate and Earth Science/Climate Data Processing and Access",
          "Emissions/Emission Observation and Modeling",
          "Renewable Energy/Photovoltaics and Solar Energy",
          "Consumption of Energy and Resources/Mobility and Transportation",
          "Consumption of Energy and Resources/Mobility and Transportation",
          "Consumption of Energy and Resources/Mobility and Transportation",
          "Earth Systems/Hydrosphere",
          "Energy Systems/Energy Monitoring and Control",
          "Consumption of Energy and Resources/Mobility and Transportation",
          "Consumption of Energy and Resources/Mobility and Transportation",
          "Energy Systems/Energy Modeling and Optimization",
          "Energy Systems/Energy Modeling and Optimization",
          "Energy Systems/Datasets on Energy Systems",
          "Renewable Energy/Wind Energy",
          "Natural Resources/Soil and Land",
          "Energy Systems/Energy Modeling and Optimization",
          "Industrial Ecology/Circular Economy and Waste",
          "Consumption of Energy and Resources/Production and Industry",
          "Energy Systems/Energy Modeling and Optimization",
          "Renewable Energy/Hydro Energy",
          "Earth Systems/Biosphere",
          "Natural Resources/Water Supply and Quality",
          "Natural Resources/Water Supply and Quality",
          "Consumption of Energy and Resources/Computation and Communication",
          "Climate and Earth Science/Climate Data Processing and Access",
          "Earth Systems/Hydrosphere",
          "Climate and Earth Science/Climate Data Processing and Access",
          "Natural Resources/Air Quality",
          "Natural Resources/Agriculture and Nutrition",
          "Emissions/Emission Observation and Modeling",
          "Consumption of Energy and Resources/Buildings and Heating",
          "Consumption of Energy and Resources/Buildings and Heating",
          "Natural Resources/Soil and Land",
          "Energy Systems/Energy Modeling and Optimization",
          "Energy Systems/Energy Modeling and Optimization",
          "Energy Systems/Energy Modeling and Optimization",
          "Industrial Ecology/Circular Economy and Waste",
          "Energy Systems/Energy Distribution and Grids",
          "Natural Resources/Water Supply and Quality",
          "Energy Systems/Energy Modeling and Optimization",
          "Natural Resources/Air Quality",
          "Natural Resources/Air Quality",
          "Natural Resources/Air Quality",
          "Industrial Ecology/Life Cycle Assessment",
          "Natural Resources/Soil and Land",
          "Industrial Ecology/Life Cycle Assessment",
          "Natural Resources/Water Supply and Quality",
          "Natural Resources/Water Supply and Quality",
          "Natural Resources/Water Supply and Quality",
          "Industrial Ecology/Life Cycle Assessment",
          "Natural Resources/Water Supply and Quality",
          "Natural Resources/Water Supply and Quality",
          "Natural Resources/Water Supply and Quality",
          "Natural Resources/Water Supply and Quality",
          "Earth Systems/Hydrosphere",
          "Natural Resources/Water Supply and Quality",
          "Earth Systems/Hydrosphere",
          "Earth Systems/Atmosphere",
          "Natural Resources/Air Quality",
          "Natural Resources/Soil and Land",
          "Energy Storage/Battery",
          "Consumption of Energy and Resources/Mobility and Transportation",
          "Climate and Earth Science/Earth and Climate Modeling",
          "Climate and Earth Science/Earth and Climate Modeling",
          "Earth Systems/Biosphere",
          "Renewable Energy/Hydro Energy",
          "Renewable Energy/Hydro Energy",
          "Consumption of Energy and Resources/Mobility and Transportation",
          "Natural Resources/Air Quality",
          "Energy Storage/Battery",
          "Energy Systems/Energy Distribution and Grids",
          "Climate and Earth Science/Earth and Climate Modeling",
          "Climate and Earth Science/Climate Data Processing and Access",
          "Climate and Earth Science/Earth and Climate Modeling",
          "Climate and Earth Science/Climate Data Processing and Access",
          "Earth Systems/Hydrosphere",
          "Sustainable Development/Sustainable Investment",
          "Natural Resources/Natural Hazard and Poverty",
          "Consumption of Energy and Resources/Mobility and Transportation",
          "Natural Resources/Agriculture and Nutrition",
          "Consumption of Energy and Resources/Mobility and Transportation",
          "Renewable Energy/Geothermal Energy",
          "Natural Resources/Soil and Land",
          "Renewable Energy/Photovoltaics and Solar Energy",
          "Renewable Energy/Photovoltaics and Solar Energy",
          "Earth Systems/Biosphere",
          "Energy Systems/Energy Modeling and Optimization",
          "Renewable Energy/Photovoltaics and Solar Energy",
          "Renewable Energy/Photovoltaics and Solar Energy",
          "Consumption of Energy and Resources/Mobility and Transportation",
          "Natural Resources/Water Supply and Quality",
          "Climate and Earth Science/Climate Data Processing and Access",
          "Consumption of Energy and Resources/Mobility and Transportation",
          "Sustainable Development/Data Catalogs and Interfaces",
          "Earth Systems/Cryosphere",
          "Energy Systems/Energy Distribution and Grids",
          "Natural Resources/Water Supply and Quality",
          "Emissions/Emission Observation and Modeling",
          "Industrial Ecology/Circular Economy and Waste",
          "Energy Systems/Datasets on Energy Systems",
          "Natural Resources/Natural Hazard and Poverty",
          "Earth Systems/Atmosphere",
          "Earth Systems/Hydrosphere",
          "Energy Systems/Energy Modeling and Optimization",
          "Energy Systems/Datasets on Energy Systems",
          "Natural Resources/Soil and Land",
          "Climate and Earth Science/Meteorological Observation and Forecast",
          "Earth Systems/Biosphere",
          "Climate and Earth Science/Radiative Transfer",
          "Earth Systems/Hydrosphere",
          "Natural Resources/Soil and Land",
          "Energy Systems/Energy Distribution and Grids",
          "Energy Storage/Hydrogen",
          "Sustainable Development/Sustainable Development Goals",
          "Consumption of Energy and Resources/Mobility and Transportation",
          "Consumption of Energy and Resources/Buildings and Heating",
          "Energy Systems/Energy Modeling and Optimization",
          "Consumption of Energy and Resources/Computation and Communication",
          "Natural Resources/Agriculture and Nutrition",
          "Renewable Energy/Wind Energy",
          "Sustainable Development/Data Catalogs and Interfaces",
          "Energy Systems/Energy Modeling and Optimization",
          "Climate and Earth Science/Climate Data Processing and Access",
          "Energy Storage/Battery",
          "Natural Resources/Natural Hazard and Poverty",
          "Climate and Earth Science/Climate Data Processing and Access",
          "Climate and Earth Science/Earth and Climate Modeling",
          "Energy Systems/Energy Distribution and Grids",
          "Energy Systems/Energy Modeling and Optimization",
          "Renewable Energy/Hydro Energy",
          "Energy Systems/Energy Modeling and Optimization",
          "Energy Systems/Datasets on Energy Systems",
          "Energy Systems/Energy Monitoring and Control",
          "Emissions/Emission Observation and Modeling",
          "Climate and Earth Science/Meteorological Observation and Forecast",
          "Emissions/Carbon Intensity and Accounting",
          "Sustainable Development/Data Catalogs and Interfaces",
          "Natural Resources/Water Supply and Quality",
          "Earth Systems/Biosphere",
          "Sustainable Development/Data Catalogs and Interfaces",
          "Climate and Earth Science/Climate Data Processing and Access",
          "Energy Storage/Battery",
          "Climate and Earth Science/Climate Data Processing and Access",
          "Earth Systems/Biosphere",
          "Climate and Earth Science/Earth and Climate Modeling",
          "Consumption of Energy and Resources/Buildings and Heating",
          "Earth Systems/Hydrosphere",
          "Natural Resources/Air Quality",
          "Consumption of Energy and Resources/Mobility and Transportation",
          "Earth Systems/Hydrosphere",
          "Earth Systems/Hydrosphere",
          "Renewable Energy/Geothermal Energy",
          "Consumption of Energy and Resources/Mobility and Transportation",
          "Earth Systems/Cryosphere",
          "Climate and Earth Science/Climate Data Processing and Access",
          "Climate and Earth Science/Climate Data Processing and Access",
          "Earth Systems/Biosphere",
          "Energy Systems/Datasets on Energy Systems",
          "Earth Systems/Biosphere",
          "Earth Systems/Biosphere",
          "Climate and Earth Science/Climate Data Processing and Access",
          "Emissions/Carbon Capture and Removel",
          "Consumption of Energy and Resources/Computation and Communication",
          "Renewable Energy/Hydro Energy",
          "Energy Systems/Energy Modeling and Optimization",
          "Energy Systems/Energy Modeling and Optimization",
          "Earth Systems/Atmosphere",
          "Earth Systems/Biosphere",
          "Renewable Energy/Wind Energy",
          "Climate and Earth Science/Earth and Climate Modeling",
          "Emissions/Emission Observation and Modeling",
          "Industrial Ecology/Circular Economy and Waste",
          "Emissions/Carbon Intensity and Accounting",
          "Renewable Energy/Photovoltaics and Solar Energy",
          "Earth Systems/Biosphere",
          "Consumption of Energy and Resources/Mobility and Transportation",
          "Consumption of Energy and Resources/Mobility and Transportation",
          "Consumption of Energy and Resources/Mobility and Transportation",
          "Energy Systems/Energy Modeling and Optimization",
          "Climate and Earth Science/Earth and Climate Modeling",
          "Climate and Earth Science/Earth and Climate Modeling",
          "Earth Systems/Cryosphere",
          "Energy Systems/Datasets on Energy Systems",
          "Climate and Earth Science/Climate Data Processing and Access",
          "Earth Systems/Hydrosphere",
          "Consumption of Energy and Resources/Mobility and Transportation",
          "Energy Systems/Energy Modeling and Optimization",
          "Natural Resources/Water Supply and Quality",
          "Consumption of Energy and Resources/Computation and Communication",
          "Natural Resources/Natural Hazard and Poverty",
          "Consumption of Energy and Resources/Computation and Communication",
          "Climate and Earth Science/Earth and Climate Modeling",
          "Consumption of Energy and Resources/Mobility and Transportation",
          "Energy Storage/Battery",
          "Consumption of Energy and Resources/Mobility and Transportation",
          "Consumption of Energy and Resources/Mobility and Transportation",
          "Earth Systems/Biosphere",
          "Natural Resources/Natural Hazard and Poverty",
          "Climate and Earth Science/Integrated Assessment",
          "Climate and Earth Science/Integrated Assessment",
          "Natural Resources/Water Supply and Quality",
          "Energy Systems/Energy Distribution and Grids",
          "Energy Systems/Energy Modeling and Optimization",
          "Climate and Earth Science/Climate Data Processing and Access",
          "Earth Systems/Cryosphere",
          "Consumption of Energy and Resources/Buildings and Heating",
          "Consumption of Energy and Resources/Buildings and Heating",
          "Consumption of Energy and Resources/Buildings and Heating",
          "Consumption of Energy and Resources/Buildings and Heating",
          "Renewable Energy/Photovoltaics and Solar Energy",
          "Earth Systems/Hydrosphere",
          "Earth Systems/Hydrosphere",
          "Earth Systems/Biosphere",
          "Consumption of Energy and Resources/Computation and Communication",
          "Emissions/Carbon Capture and Removel",
          "Climate and Earth Science/Climate Data Processing and Access",
          "Consumption of Energy and Resources/Buildings and Heating",
          "Energy Systems/Energy Modeling and Optimization",
          "Earth Systems/Hydrosphere",
          "Earth Systems/Biosphere",
          "Natural Resources/Agriculture and Nutrition",
          "Sustainable Development/Data Catalogs and Interfaces",
          "Emissions/Carbon Intensity and Accounting",
          "Natural Resources/Natural Hazard and Poverty",
          "Natural Resources/Air Quality",
          "Natural Resources/Water Supply and Quality",
          "Consumption of Energy and Resources/Mobility and Transportation",
          "Earth Systems/Hydrosphere",
          "Consumption of Energy and Resources/Mobility and Transportation",
          "Natural Resources/Water Supply and Quality",
          "Earth Systems/Biosphere",
          "Earth Systems/Cryosphere",
          "Energy Storage/Battery",
          "Earth Systems/Biosphere",
          "Emissions/Carbon Intensity and Accounting",
          "Natural Resources/Water Supply and Quality",
          "Earth Systems/Biosphere",
          "Consumption of Energy and Resources/Computation and Communication",
          "Earth Systems/Biosphere",
          "Climate and Earth Science/Radiative Transfer",
          "Consumption of Energy and Resources/Mobility and Transportation",
          "Natural Resources/Agriculture and Nutrition",
          "Industrial Ecology/Circular Economy and Waste",
          "Climate and Earth Science/Earth and Climate Modeling",
          "Consumption of Energy and Resources/Computation and Communication",
          "Sustainable Development/Sustainable Investment",
          "Emissions/Emission Observation and Modeling",
          "Climate and Earth Science/Earth and Climate Modeling",
          "Earth Systems/Biosphere",
          "Earth Systems/Biosphere",
          "Climate and Earth Science/Earth and Climate Modeling",
          "Natural Resources/Agriculture and Nutrition",
          "Natural Resources/Agriculture and Nutrition",
          "Industrial Ecology/Life Cycle Assessment",
          "Natural Resources/Agriculture and Nutrition",
          "Natural Resources/Soil and Land",
          "Sustainable Development/Data Catalogs and Interfaces",
          "Industrial Ecology/Life Cycle Assessment",
          "Earth Systems/Hydrosphere",
          "Natural Resources/Soil and Land",
          "Climate and Earth Science/Earth and Climate Modeling",
          "Natural Resources/Soil and Land",
          "Consumption of Energy and Resources/Buildings and Heating",
          "Natural Resources/Water Supply and Quality",
          "Earth Systems/Atmosphere",
          "Natural Resources/Agriculture and Nutrition",
          "Natural Resources/Soil and Land",
          "Earth Systems/Hydrosphere",
          "Climate and Earth Science/Climate Data Processing and Access",
          "Consumption of Energy and Resources/Mobility and Transportation",
          "Consumption of Energy and Resources/Mobility and Transportation",
          "Consumption of Energy and Resources/Mobility and Transportation",
          "Energy Systems/Energy Distribution and Grids",
          "Energy Systems/Energy Distribution and Grids",
          "Consumption of Energy and Resources/Computation and Communication",
          "Earth Systems/Hydrosphere",
          "Climate and Earth Science/Climate Data Processing and Access",
          "Consumption of Energy and Resources/Mobility and Transportation",
          "Climate and Earth Science/Earth and Climate Modeling",
          "Consumption of Energy and Resources/Mobility and Transportation",
          "Earth Systems/Biosphere",
          "Natural Resources/Natural Hazard and Poverty",
          "Earth Systems/Biosphere",
          "Earth Systems/Biosphere",
          "Earth Systems/Atmosphere",
          "Natural Resources/Soil and Land",
          "Climate and Earth Science/Meteorological Observation and Forecast",
          "Climate and Earth Science/Climate Data Processing and Access",
          "Natural Resources/Soil and Land",
          "Consumption of Energy and Resources/Buildings and Heating",
          "Consumption of Energy and Resources/Mobility and Transportation",
          "Climate and Earth Science/Earth and Climate Modeling",
          "Energy Systems/Energy Modeling and Optimization",
          "Climate and Earth Science/Earth and Climate Modeling",
          "Energy Systems/Energy Modeling and Optimization",
          "Earth Systems/Biosphere",
          "Industrial Ecology/Life Cycle Assessment",
          "Renewable Energy/Hydro Energy",
          "Natural Resources/Natural Hazard and Poverty",
          "Renewable Energy/Wind Energy",
          "Renewable Energy/Wind Energy",
          "Renewable Energy/Wind Energy",
          "Renewable Energy/Wind Energy",
          "Natural Resources/Soil and Land",
          "Renewable Energy/Photovoltaics and Solar Energy",
          "Earth Systems/Biosphere",
          "Industrial Ecology/Circular Economy and Waste",
          "Natural Resources/Water Supply and Quality",
          "Renewable Energy/Wind Energy",
          "Earth Systems/Biosphere",
          "Climate and Earth Science/Climate Data Processing and Access",
          "Earth Systems/Biosphere",
          "Earth Systems/Hydrosphere",
          "Consumption of Energy and Resources/Buildings and Heating",
          "Earth Systems/Biosphere",
          "Consumption of Energy and Resources/Mobility and Transportation",
          "Consumption of Energy and Resources/Mobility and Transportation",
          "Climate and Earth Science/Climate Data Processing and Access",
          "Climate and Earth Science/Climate Data Processing and Access",
          "Climate and Earth Science/Climate Data Processing and Access",
          "Climate and Earth Science/Meteorological Observation and Forecast",
          "Climate and Earth Science/Meteorological Observation and Forecast",
          "Consumption of Energy and Resources/Buildings and Heating",
          "Earth Systems/Hydrosphere",
          "Climate and Earth Science/Earth and Climate Modeling",
          "Energy Storage/Hydrogen",
          "Renewable Energy/Wind Energy",
          "Sustainable Development/Data Catalogs and Interfaces",
          "Climate and Earth Science/Climate Data Processing and Access",
          "Consumption of Energy and Resources/Mobility and Transportation",
          "Climate and Earth Science/Climate Data Processing and Access",
          "Emissions/Carbon Intensity and Accounting",
          "Earth Systems/Biosphere",
          "Earth Systems/Biosphere",
          "Sustainable Development/Sustainable Investment",
          "Consumption of Energy and Resources/Mobility and Transportation",
          "Climate and Earth Science/Earth and Climate Modeling",
          "Earth Systems/Hydrosphere",
          "Sustainable Development/Knowledge Platforms",
          "Consumption of Energy and Resources/Buildings and Heating",
          "Earth Systems/Atmosphere",
          "Energy Systems/Energy Modeling and Optimization",
          "Earth Systems/Hydrosphere",
          "Consumption of Energy and Resources/Mobility and Transportation",
          "Renewable Energy/Wind Energy",
          "Sustainable Development/Knowledge Platforms",
          "Renewable Energy/Wind Energy",
          "Climate and Earth Science/Earth and Climate Modeling",
          "Consumption of Energy and Resources/Buildings and Heating",
          "Earth Systems/Biosphere",
          "Consumption of Energy and Resources/Buildings and Heating",
          "Earth Systems/Biosphere",
          "Natural Resources/Agriculture and Nutrition",
          "Energy Storage/Battery",
          "Energy Systems/Datasets on Energy Systems",
          "Energy Systems/Energy Monitoring and Control",
          "Energy Systems/Energy Modeling and Optimization",
          "Energy Systems/Energy Modeling and Optimization",
          "Sustainable Development/Knowledge Platforms",
          "Natural Resources/Agriculture and Nutrition",
          "Natural Resources/Natural Hazard and Poverty",
          "Natural Resources/Water Supply and Quality",
          "Natural Resources/Water Supply and Quality",
          "Earth Systems/Hydrosphere",
          "Energy Systems/Energy Distribution and Grids",
          "Natural Resources/Natural Hazard and Poverty",
          "Renewable Energy/Hydro Energy",
          "Natural Resources/Water Supply and Quality",
          "Energy Systems/Energy Modeling and Optimization",
          "Sustainable Development/Knowledge Platforms",
          "Earth Systems/Cryosphere",
          "Climate and Earth Science/Earth and Climate Modeling",
          "Climate and Earth Science/Earth and Climate Modeling",
          "Climate and Earth Science/Earth and Climate Modeling",
          "Climate and Earth Science/Earth and Climate Modeling",
          "Earth Systems/Biosphere",
          "Emissions/Carbon Intensity and Accounting",
          "Earth Systems/Biosphere",
          "Climate and Earth Science/Climate Data Processing and Access",
          "Earth Systems/Hydrosphere",
          "Earth Systems/Atmosphere",
          "Climate and Earth Science/Climate Data Processing and Access",
          "Climate and Earth Science/Earth and Climate Modeling",
          "Earth Systems/Hydrosphere",
          "Energy Systems/Energy Modeling and Optimization",
          "Renewable Energy/Photovoltaics and Solar Energy",
          "Renewable Energy/Wind Energy",
          "Earth Systems/Hydrosphere",
          "Climate and Earth Science/Earth and Climate Modeling",
          "Emissions/Emission Observation and Modeling",
          "Earth Systems/Hydrosphere",
          "Energy Systems/Datasets on Energy Systems",
          "Sustainable Development/Sustainable Investment",
          "Consumption of Energy and Resources/Buildings and Heating",
          "Energy Systems/Energy Modeling and Optimization",
          "Energy Systems/Energy Modeling and Optimization",
          "Renewable Energy/Photovoltaics and Solar Energy",
          "Consumption of Energy and Resources/Buildings and Heating",
          "Renewable Energy/Wind Energy",
          "Renewable Energy/Photovoltaics and Solar Energy",
          "Renewable Energy/Photovoltaics and Solar Energy",
          "Renewable Energy/Wind Energy",
          "Renewable Energy/Photovoltaics and Solar Energy",
          "Renewable Energy/Photovoltaics and Solar Energy",
          "Energy Systems/Energy Modeling and Optimization",
          "Renewable Energy/Wind Energy",
          "Energy Systems/Energy Modeling and Optimization",
          "Renewable Energy/Photovoltaics and Solar Energy",
          "Consumption of Energy and Resources/Buildings and Heating",
          "Consumption of Energy and Resources/Buildings and Heating",
          "Consumption of Energy and Resources/Buildings and Heating",
          "Renewable Energy/Wind Energy",
          "Consumption of Energy and Resources/Buildings and Heating",
          "Earth Systems/Hydrosphere",
          "Energy Systems/Energy Distribution and Grids",
          "Consumption of Energy and Resources/Mobility and Transportation",
          "Earth Systems/Biosphere",
          "Energy Systems/Energy Distribution and Grids",
          "Natural Resources/Agriculture and Nutrition",
          "Consumption of Energy and Resources/Buildings and Heating",
          "Natural Resources/Air Quality",
          "Consumption of Energy and Resources/Buildings and Heating",
          "Earth Systems/Biosphere",
          "Climate and Earth Science/Integrated Assessment",
          "Emissions/Emission Observation and Modeling",
          "Energy Systems/Energy Modeling and Optimization",
          "Renewable Energy/Wind Energy",
          "Renewable Energy/Wind Energy",
          "Energy Systems/Energy Modeling and Optimization",
          "Climate and Earth Science/Climate Data Processing and Access",
          "Energy Systems/Energy Modeling and Optimization",
          "Natural Resources/Soil and Land",
          "Industrial Ecology/Life Cycle Assessment",
          "Consumption of Energy and Resources/Computation and Communication",
          "Energy Systems/Energy Modeling and Optimization",
          "Natural Resources/Agriculture and Nutrition",
          "Energy Systems/Energy Monitoring and Control",
          "Energy Systems/Energy Modeling and Optimization",
          "Earth Systems/Hydrosphere",
          "Emissions/Carbon Capture and Removel",
          "Industrial Ecology/Life Cycle Assessment",
          "Earth Systems/Cryosphere",
          "Energy Systems/Energy Modeling and Optimization",
          "Sustainable Development/Sustainable Development Goals",
          "Energy Systems/Energy Modeling and Optimization",
          "Consumption of Energy and Resources/Computation and Communication",
          "Earth Systems/Atmosphere",
          "Emissions/Carbon Intensity and Accounting",
          "Climate and Earth Science/Earth and Climate Modeling",
          "Consumption of Energy and Resources/Mobility and Transportation",
          "Renewable Energy/Wind Energy",
          "Natural Resources/Soil and Land",
          "Energy Systems/Energy Modeling and Optimization",
          "Renewable Energy/Photovoltaics and Solar Energy",
          "Earth Systems/Biosphere",
          "Energy Systems/Energy Modeling and Optimization",
          "Renewable Energy/Hydro Energy",
          "Earth Systems/Hydrosphere",
          "Renewable Energy/Photovoltaics and Solar Energy",
          "Natural Resources/Water Supply and Quality",
          "Climate and Earth Science/Earth and Climate Modeling",
          "Energy Systems/Energy Modeling and Optimization",
          "Renewable Energy/Geothermal Energy",
          "Energy Systems/Energy Modeling and Optimization",
          "Earth Systems/Biosphere",
          "Earth Systems/Biosphere",
          "Climate and Earth Science/Earth and Climate Modeling",
          "Renewable Energy/Photovoltaics and Solar Energy",
          "Climate and Earth Science/Integrated Assessment",
          "Consumption of Energy and Resources/Mobility and Transportation",
          "Earth Systems/Biosphere",
          "Emissions/Emission Observation and Modeling",
          "Climate and Earth Science/Integrated Assessment",
          "Climate and Earth Science/Earth and Climate Modeling",
          "Natural Resources/Air Quality",
          "Consumption of Energy and Resources/Mobility and Transportation",
          "Earth Systems/Cryosphere",
          "Natural Resources/Agriculture and Nutrition",
          "Climate and Earth Science/Earth and Climate Modeling",
          "Sustainable Development/Data Catalogs and Interfaces",
          "Earth Systems/Hydrosphere",
          "Earth Systems/Biosphere",
          "Emissions/Carbon Intensity and Accounting",
          "Climate and Earth Science/Earth and Climate Modeling",
          "Consumption of Energy and Resources/Buildings and Heating",
          "Earth Systems/Hydrosphere",
          "Climate and Earth Science/Earth and Climate Modeling",
          "Earth Systems/Hydrosphere",
          "Earth Systems/Biosphere",
          "Earth Systems/Biosphere",
          "Earth Systems/Biosphere",
          "Consumption of Energy and Resources/Mobility and Transportation",
          "Earth Systems/Biosphere",
          "Earth Systems/Biosphere",
          "Emissions/Emission Observation and Modeling",
          "Consumption of Energy and Resources/Buildings and Heating",
          "Emissions/Emission Observation and Modeling",
          "Emissions/Emission Observation and Modeling",
          "Renewable Energy/Wind Energy",
          "Renewable Energy/Wind Energy",
          "Earth Systems/Hydrosphere",
          "Climate and Earth Science/Radiative Transfer",
          "Energy Storage/Battery",
          "Earth Systems/Hydrosphere",
          "Climate and Earth Science/Meteorological Observation and Forecast",
          "Natural Resources/Water Supply and Quality",
          "Energy Systems/Energy Modeling and Optimization",
          "Natural Resources/Water Supply and Quality",
          "Earth Systems/Biosphere",
          "Emissions/Emission Observation and Modeling",
          "Natural Resources/Water Supply and Quality",
          "Natural Resources/Water Supply and Quality",
          "Natural Resources/Water Supply and Quality",
          "Natural Resources/Water Supply and Quality",
          "Natural Resources/Water Supply and Quality",
          "Climate and Earth Science/Integrated Assessment",
          "Industrial Ecology/Circular Economy and Waste",
          "Sustainable Development/Knowledge Platforms",
          "Climate and Earth Science/Climate Data Processing and Access",
          "Sustainable Development/Data Catalogs and Interfaces",
          "Climate and Earth Science/Integrated Assessment",
          "Climate and Earth Science/Climate Data Processing and Access",
          "Consumption of Energy and Resources/Computation and Communication",
          "Earth Systems/Biosphere",
          "Earth Systems/Cryosphere",
          "Industrial Ecology/Life Cycle Assessment",
          "Natural Resources/Agriculture and Nutrition",
          "Energy Systems/Energy Distribution and Grids",
          "Consumption of Energy and Resources/Computation and Communication",
          "Consumption of Energy and Resources/Computation and Communication",
          "Renewable Energy/Photovoltaics and Solar Energy",
          "Earth Systems/Hydrosphere",
          "Emissions/Carbon Intensity and Accounting",
          "Earth Systems/Hydrosphere",
          "Sustainable Development/Data Catalogs and Interfaces",
          "Consumption of Energy and Resources/Mobility and Transportation",
          "Consumption of Energy and Resources/Mobility and Transportation",
          "Sustainable Development/Knowledge Platforms",
          "Consumption of Energy and Resources/Computation and Communication",
          "Energy Systems/Energy Modeling and Optimization",
          "Sustainable Development/Sustainable Investment",
          "Earth Systems/Hydrosphere",
          "Energy Systems/Energy Monitoring and Control",
          "Sustainable Development/Sustainable Investment",
          "Emissions/Emission Observation and Modeling",
          "Energy Systems/Datasets on Energy Systems",
          "Sustainable Development/Data Catalogs and Interfaces",
          "Sustainable Development/Sustainable Development Goals",
          "Climate and Earth Science/Earth and Climate Modeling",
          "Climate and Earth Science/Earth and Climate Modeling",
          "Climate and Earth Science/Climate Data Processing and Access",
          "Energy Systems/Energy Modeling and Optimization",
          "Earth Systems/Biosphere",
          "Earth Systems/Biosphere",
          "Energy Systems/Energy Distribution and Grids",
          "Energy Systems/Energy Distribution and Grids",
          "Emissions/Emission Observation and Modeling",
          "Earth Systems/Biosphere",
          "Natural Resources/Soil and Land",
          "Natural Resources/Agriculture and Nutrition",
          "Sustainable Development/Data Catalogs and Interfaces",
          "Renewable Energy/Photovoltaics and Solar Energy",
          "Sustainable Development/Data Catalogs and Interfaces",
          "Earth Systems/Hydrosphere",
          "Sustainable Development/Data Catalogs and Interfaces",
          "Energy Storage/Battery",
          "Earth Systems/Biosphere",
          "Energy Systems/Energy Modeling and Optimization",
          "Sustainable Development/Knowledge Platforms",
          "Natural Resources/Soil and Land",
          "Climate and Earth Science/Climate Data Processing and Access",
          "Earth Systems/Biosphere",
          "Renewable Energy/Photovoltaics and Solar Energy",
          "Climate and Earth Science/Earth and Climate Modeling",
          "Earth Systems/Biosphere",
          "Renewable Energy/Photovoltaics and Solar Energy",
          "Renewable Energy/Photovoltaics and Solar Energy",
          "Renewable Energy/Photovoltaics and Solar Energy",
          "Renewable Energy/Photovoltaics and Solar Energy",
          "Natural Resources/Water Supply and Quality",
          "Energy Systems/Energy Modeling and Optimization",
          "Natural Resources/Soil and Land",
          "Energy Storage/Battery",
          "Natural Resources/Water Supply and Quality",
          "Natural Resources/Agriculture and Nutrition",
          "Climate and Earth Science/Earth and Climate Modeling",
          "Energy Systems/Energy Modeling and Optimization",
          "Earth Systems/Biosphere",
          "Earth Systems/Biosphere",
          "Renewable Energy/Wind Energy",
          "Energy Storage/Battery",
          "Renewable Energy/Photovoltaics and Solar Energy",
          "Energy Systems/Energy Modeling and Optimization",
          "Natural Resources/Natural Hazard and Poverty",
          "Sustainable Development/Data Catalogs and Interfaces",
          "Climate and Earth Science/Climate Data Processing and Access",
          "Earth Systems/Hydrosphere",
          "Renewable Energy/Photovoltaics and Solar Energy",
          "Climate and Earth Science/Climate Data Processing and Access",
          "Natural Resources/Air Quality",
          "Natural Resources/Air Quality",
          "Energy Systems/Datasets on Energy Systems",
          "Earth Systems/Biosphere",
          "Earth Systems/Biosphere",
          "Earth Systems/Hydrosphere",
          "Earth Systems/Biosphere",
          "Earth Systems/Hydrosphere",
          "Natural Resources/Soil and Land",
          "Earth Systems/Biosphere",
          "Consumption of Energy and Resources/Mobility and Transportation",
          "Earth Systems/Biosphere",
          "Earth Systems/Biosphere",
          "Climate and Earth Science/Climate Data Processing and Access",
          "Natural Resources/Water Supply and Quality",
          "Sustainable Development/Sustainable Investment",
          "Consumption of Energy and Resources/Computation and Communication",
          "Earth Systems/Atmosphere",
          "Energy Systems/Energy Modeling and Optimization",
          "Energy Systems/Energy Distribution and Grids",
          "Energy Storage/Battery",
          "Energy Systems/Energy Distribution and Grids",
          "Climate and Earth Science/Earth and Climate Modeling",
          "Climate and Earth Science/Radiative Transfer",
          "Industrial Ecology/Life Cycle Assessment",
          "Climate and Earth Science/Climate Data Processing and Access",
          "Climate and Earth Science/Climate Data Processing and Access",
          "Sustainable Development/Data Catalogs and Interfaces",
          "Natural Resources/Soil and Land",
          "Consumption of Energy and Resources/Mobility and Transportation",
          "Climate and Earth Science/Climate Data Processing and Access",
          "Earth Systems/Hydrosphere",
          "Earth Systems/Hydrosphere",
          "Climate and Earth Science/Meteorological Observation and Forecast",
          "Energy Systems/Energy Modeling and Optimization",
          "Renewable Energy/Wind Energy",
          "Natural Resources/Agriculture and Nutrition",
          "Natural Resources/Air Quality",
          "Natural Resources/Air Quality",
          "Renewable Energy/Photovoltaics and Solar Energy",
          "Sustainable Development/Data Catalogs and Interfaces",
          "Energy Systems/Energy Distribution and Grids",
          "Natural Resources/Soil and Land",
          "Renewable Energy/Photovoltaics and Solar Energy",
          "Earth Systems/Atmosphere",
          "Sustainable Development/Data Catalogs and Interfaces",
          "Earth Systems/Cryosphere",
          "Energy Storage/Battery",
          "Energy Systems/Energy Modeling and Optimization",
          "Earth Systems/Biosphere",
          "Earth Systems/Atmosphere",
          "Climate and Earth Science/Radiative Transfer",
          "Emissions/Carbon Intensity and Accounting",
          "Earth Systems/Atmosphere",
          "Natural Resources/Air Quality",
          "Energy Systems/Energy Modeling and Optimization",
          "Energy Systems/Energy Distribution and Grids",
          "Energy Storage/Hydrogen",
          "Industrial Ecology/Circular Economy and Waste",
          "Renewable Energy/Bioenergy",
          "Emissions/Emission Observation and Modeling",
          "Consumption of Energy and Resources/Computation and Communication",
          "Natural Resources/Water Supply and Quality",
          "Consumption of Energy and Resources/Mobility and Transportation",
          "Earth Systems/Hydrosphere",
          "Natural Resources/Air Quality",
          "Sustainable Development/Data Catalogs and Interfaces",
          "Natural Resources/Agriculture and Nutrition",
          "Sustainable Development/Data Catalogs and Interfaces",
          "Sustainable Development/Data Catalogs and Interfaces",
          "Earth Systems/Biosphere",
          "Natural Resources/Air Quality",
          "Natural Resources/Air Quality",
          "Renewable Energy/Photovoltaics and Solar Energy",
          "Sustainable Development/Data Catalogs and Interfaces",
          "Earth Systems/Hydrosphere",
          "Energy Systems/Energy Modeling and Optimization",
          "Consumption of Energy and Resources/Buildings and Heating",
          "Climate and Earth Science/Climate Data Processing and Access",
          "Emissions/Carbon Capture and Removel",
          "Natural Resources/Air Quality",
          "Earth Systems/Cryosphere",
          "Earth Systems/Cryosphere",
          "Climate and Earth Science/Earth and Climate Modeling",
          "Industrial Ecology/Circular Economy and Waste",
          "Industrial Ecology/Circular Economy and Waste",
          "Industrial Ecology/Circular Economy and Waste",
          "Emissions/Emission Observation and Modeling",
          "Sustainable Development/Sustainable Development Goals",
          "Earth Systems/Atmosphere",
          "Earth Systems/Hydrosphere",
          "Natural Resources/Water Supply and Quality",
          "Renewable Energy/Geothermal Energy",
          "Energy Systems/Energy Distribution and Grids",
          "Renewable Energy/Photovoltaics and Solar Energy",
          "Consumption of Energy and Resources/Computation and Communication",
          "Consumption of Energy and Resources/Computation and Communication",
          "Energy Systems/Energy Modeling and Optimization",
          "Energy Systems/Energy Modeling and Optimization",
          "Climate and Earth Science/Radiative Transfer",
          "Natural Resources/Agriculture and Nutrition",
          "Climate and Earth Science/Climate Data Processing and Access",
          "Natural Resources/Water Supply and Quality",
          "Consumption of Energy and Resources/Mobility and Transportation",
          "Natural Resources/Agriculture and Nutrition",
          "Natural Resources/Water Supply and Quality",
          "Natural Resources/Water Supply and Quality",
          "Natural Resources/Water Supply and Quality",
          "Natural Resources/Water Supply and Quality",
          "Renewable Energy/Hydro Energy",
          "Energy Storage/Battery",
          "Earth Systems/Biosphere",
          "Renewable Energy/Bioenergy",
          "Earth Systems/Biosphere",
          "Consumption of Energy and Resources/Mobility and Transportation",
          "Energy Systems/Energy Modeling and Optimization",
          "Earth Systems/Biosphere",
          "Earth Systems/Hydrosphere",
          "Consumption of Energy and Resources/Buildings and Heating",
          "Energy Systems/Datasets on Energy Systems",
          "Energy Systems/Energy Modeling and Optimization",
          "Emissions/Carbon Intensity and Accounting",
          "Earth Systems/Hydrosphere",
          "Climate and Earth Science/Earth and Climate Modeling",
          "Climate and Earth Science/Earth and Climate Modeling",
          "Climate and Earth Science/Earth and Climate Modeling",
          "Earth Systems/Atmosphere",
          "Earth Systems/Hydrosphere",
          "Climate and Earth Science/Earth and Climate Modeling",
          "Energy Storage/Battery",
          "Energy Storage/Hydrogen",
          "Energy Storage/Hydrogen",
          "Consumption of Energy and Resources/Buildings and Heating",
          "Climate and Earth Science/Earth and Climate Modeling",
          "Climate and Earth Science/Earth and Climate Modeling",
          "Sustainable Development/Data Catalogs and Interfaces",
          "Consumption of Energy and Resources/Buildings and Heating",
          "Earth Systems/Cryosphere",
          "Natural Resources/Agriculture and Nutrition",
          "Energy Storage/Hydrogen",
          "Sustainable Development/Knowledge Platforms",
          "Consumption of Energy and Resources/Buildings and Heating",
          "Earth Systems/Biosphere",
          "Natural Resources/Soil and Land",
          "Climate and Earth Science/Earth and Climate Modeling",
          "Earth Systems/Hydrosphere",
          "Earth Systems/Hydrosphere",
          "Earth Systems/Atmosphere",
          "Climate and Earth Science/Earth and Climate Modeling",
          "Climate and Earth Science/Earth and Climate Modeling",
          "Climate and Earth Science/Earth and Climate Modeling",
          "Sustainable Development/Knowledge Platforms",
          "Earth Systems/Hydrosphere",
          "Emissions/Carbon Intensity and Accounting",
          "Earth Systems/Hydrosphere",
          "Natural Resources/Agriculture and Nutrition",
          "Natural Resources/Soil and Land",
          "Earth Systems/Biosphere",
          "Sustainable Development/Knowledge Platforms",
          "Natural Resources/Natural Hazard and Poverty",
          "Earth Systems/Biosphere",
          "Earth Systems/Biosphere",
          "Earth Systems/Biosphere",
          "Natural Resources/Soil and Land",
          "Renewable Energy/Geothermal Energy",
          "Earth Systems/Cryosphere",
          "Consumption of Energy and Resources/Buildings and Heating",
          "Industrial Ecology/Life Cycle Assessment",
          "Earth Systems/Cryosphere",
          "Natural Resources/Water Supply and Quality",
          "Sustainable Development/Knowledge Platforms",
          "Consumption of Energy and Resources/Buildings and Heating",
          "Earth Systems/Cryosphere",
          "Earth Systems/Biosphere",
          "Industrial Ecology/Circular Economy and Waste",
          "Renewable Energy/Wind Energy",
          "Earth Systems/Biosphere",
          "Renewable Energy/Geothermal Energy",
          "Sustainable Development/Data Catalogs and Interfaces",
          "Climate and Earth Science/Earth and Climate Modeling",
          "Earth Systems/Biosphere",
          "Energy Systems/Datasets on Energy Systems",
          "Earth Systems/Biosphere",
          "Climate and Earth Science/Climate Data Processing and Access",
          "Climate and Earth Science/Climate Data Processing and Access",
          "Earth Systems/Biosphere",
          "Climate and Earth Science/Earth and Climate Modeling",
          "Sustainable Development/Sustainable Investment",
          "Energy Systems/Energy Distribution and Grids",
          "Natural Resources/Soil and Land",
          "Earth Systems/Biosphere",
          "Natural Resources/Agriculture and Nutrition",
          "Sustainable Development/Sustainable Development Goals",
          "Energy Systems/Energy Modeling and Optimization",
          "Energy Systems/Datasets on Energy Systems",
          "Consumption of Energy and Resources/Mobility and Transportation",
          "Natural Resources/Water Supply and Quality",
          "Renewable Energy/Photovoltaics and Solar Energy",
          "Earth Systems/Biosphere",
          "Earth Systems/Hydrosphere",
          "Earth Systems/Biosphere",
          "Climate and Earth Science/Radiative Transfer",
          "Consumption of Energy and Resources/Computation and Communication",
          "Consumption of Energy and Resources/Computation and Communication",
          "Energy Systems/Datasets on Energy Systems",
          "Earth Systems/Biosphere",
          "Earth Systems/Atmosphere",
          "Natural Resources/Water Supply and Quality",
          "Earth Systems/Biosphere",
          "Consumption of Energy and Resources/Mobility and Transportation",
          "Consumption of Energy and Resources/Buildings and Heating",
          "Energy Systems/Energy Modeling and Optimization",
          "Energy Systems/Energy Modeling and Optimization",
          "Renewable Energy/Wind Energy",
          "Emissions/Emission Observation and Modeling",
          "Emissions/Emission Observation and Modeling",
          "Consumption of Energy and Resources/Mobility and Transportation",
          "Climate and Earth Science/Earth and Climate Modeling",
          "Consumption of Energy and Resources/Mobility and Transportation",
          "Climate and Earth Science/Climate Data Processing and Access",
          "Natural Resources",
          "Natural Resources",
          "Earth Systems",
          "Energy Storage",
          "Renewable Energy",
          "Earth Systems",
          "Consumption of Energy and Resources",
          "Emissions",
          "Emissions",
          "Industrial Ecology",
          "Climate and Earth Science",
          "Consumption of Energy and Resources",
          "Earth Systems",
          "Sustainable Development",
          "Energy Systems",
          "Climate and Earth Science",
          "Emissions",
          "Energy Systems",
          "Energy Systems",
          "Energy Systems",
          "Renewable Energy",
          "Renewable Energy",
          "Energy Storage",
          "Earth Systems",
          "Climate and Earth Science",
          "Sustainable Development",
          "Industrial Ecology",
          "Climate and Earth Science",
          "Consumption of Energy and Resources",
          "Natural Resources",
          "Renewable Energy",
          "Consumption of Energy and Resources",
          "Climate and Earth Science",
          "Natural Resources",
          "Sustainable Development",
          "Sustainable Development",
          "Natural Resources",
          "Renewable Energy",
          "",
          "",
          "",
          "",
          "",
          "",
          "",
          "",
          "",
          ""
         ],
         "textinfo": "label",
         "type": "sunburst",
         "values": [
          1,
          1,
          1,
          1,
          1,
          1,
          1,
          1,
          1,
          1,
          1,
          1,
          1,
          1,
          1,
          1,
          1,
          1,
          1,
          1,
          1,
          1,
          1,
          1,
          1,
          1,
          1,
          1,
          1,
          1,
          1,
          1,
          1,
          1,
          1,
          1,
          1,
          1,
          1,
          1,
          1,
          1,
          1,
          1,
          1,
          1,
          1,
          1,
          1,
          1,
          1,
          1,
          1,
          1,
          1,
          1,
          1,
          1,
          1,
          1,
          1,
          1,
          1,
          1,
          1,
          1,
          1,
          1,
          1,
          1,
          1,
          1,
          1,
          1,
          1,
          1,
          1,
          1,
          1,
          1,
          1,
          1,
          1,
          1,
          1,
          1,
          1,
          1,
          1,
          1,
          1,
          1,
          1,
          1,
          1,
          1,
          1,
          1,
          1,
          1,
          1,
          1,
          1,
          1,
          1,
          1,
          1,
          1,
          1,
          1,
          1,
          1,
          1,
          1,
          1,
          1,
          1,
          1,
          1,
          1,
          1,
          1,
          1,
          1,
          1,
          1,
          1,
          1,
          1,
          1,
          1,
          1,
          1,
          1,
          1,
          1,
          1,
          1,
          1,
          1,
          1,
          1,
          1,
          1,
          1,
          1,
          1,
          1,
          1,
          1,
          1,
          1,
          1,
          1,
          1,
          1,
          1,
          1,
          1,
          1,
          1,
          1,
          1,
          1,
          1,
          1,
          1,
          1,
          1,
          1,
          1,
          1,
          1,
          1,
          1,
          1,
          1,
          1,
          1,
          1,
          1,
          1,
          1,
          1,
          1,
          1,
          1,
          1,
          1,
          1,
          1,
          1,
          1,
          1,
          1,
          1,
          1,
          1,
          1,
          1,
          1,
          1,
          1,
          1,
          1,
          1,
          1,
          1,
          1,
          1,
          1,
          1,
          1,
          1,
          1,
          1,
          1,
          1,
          1,
          1,
          1,
          1,
          1,
          1,
          1,
          1,
          1,
          1,
          1,
          1,
          1,
          1,
          1,
          1,
          1,
          1,
          1,
          1,
          1,
          1,
          1,
          1,
          1,
          1,
          1,
          1,
          1,
          1,
          1,
          1,
          1,
          1,
          1,
          1,
          1,
          1,
          1,
          1,
          1,
          1,
          1,
          1,
          1,
          1,
          1,
          1,
          1,
          1,
          1,
          1,
          1,
          1,
          1,
          1,
          1,
          1,
          1,
          1,
          1,
          1,
          1,
          1,
          1,
          1,
          1,
          1,
          1,
          1,
          1,
          1,
          1,
          1,
          1,
          1,
          1,
          1,
          1,
          1,
          1,
          1,
          1,
          1,
          1,
          1,
          1,
          1,
          1,
          1,
          1,
          1,
          1,
          1,
          1,
          1,
          1,
          1,
          1,
          1,
          1,
          1,
          1,
          1,
          1,
          1,
          1,
          1,
          1,
          1,
          1,
          1,
          1,
          1,
          1,
          1,
          1,
          1,
          1,
          1,
          1,
          1,
          1,
          1,
          1,
          1,
          1,
          1,
          1,
          1,
          1,
          1,
          1,
          1,
          1,
          1,
          1,
          1,
          1,
          1,
          1,
          1,
          1,
          1,
          1,
          1,
          1,
          1,
          1,
          1,
          1,
          1,
          1,
          1,
          1,
          1,
          1,
          1,
          1,
          1,
          1,
          1,
          1,
          1,
          1,
          1,
          1,
          1,
          1,
          1,
          1,
          1,
          1,
          1,
          1,
          1,
          1,
          1,
          1,
          1,
          1,
          1,
          1,
          1,
          1,
          1,
          1,
          1,
          1,
          1,
          1,
          1,
          1,
          1,
          1,
          1,
          1,
          1,
          1,
          1,
          1,
          1,
          1,
          1,
          1,
          1,
          1,
          1,
          1,
          1,
          1,
          1,
          1,
          1,
          1,
          1,
          1,
          1,
          1,
          1,
          1,
          1,
          1,
          1,
          1,
          1,
          1,
          1,
          1,
          1,
          1,
          1,
          1,
          1,
          1,
          1,
          1,
          1,
          1,
          1,
          1,
          1,
          1,
          1,
          1,
          1,
          1,
          1,
          1,
          1,
          1,
          1,
          1,
          1,
          1,
          1,
          1,
          1,
          1,
          1,
          1,
          1,
          1,
          1,
          1,
          1,
          1,
          1,
          1,
          1,
          1,
          1,
          1,
          1,
          1,
          1,
          1,
          1,
          1,
          1,
          1,
          1,
          1,
          1,
          1,
          1,
          1,
          1,
          1,
          1,
          1,
          1,
          1,
          1,
          1,
          1,
          1,
          1,
          1,
          1,
          1,
          1,
          1,
          1,
          1,
          1,
          1,
          1,
          1,
          1,
          1,
          1,
          1,
          1,
          1,
          1,
          1,
          1,
          1,
          1,
          1,
          1,
          1,
          1,
          1,
          1,
          1,
          1,
          1,
          1,
          1,
          1,
          1,
          1,
          1,
          1,
          1,
          1,
          1,
          1,
          1,
          1,
          1,
          1,
          1,
          1,
          1,
          1,
          1,
          1,
          1,
          1,
          1,
          1,
          1,
          1,
          1,
          1,
          1,
          1,
          1,
          1,
          1,
          1,
          1,
          1,
          1,
          1,
          1,
          1,
          1,
          1,
          1,
          1,
          1,
          1,
          1,
          1,
          1,
          1,
          1,
          1,
          1,
          1,
          1,
          1,
          1,
          1,
          1,
          1,
          1,
          1,
          1,
          1,
          1,
          1,
          1,
          1,
          1,
          1,
          1,
          1,
          1,
          1,
          1,
          1,
          1,
          1,
          1,
          1,
          1,
          1,
          1,
          1,
          1,
          1,
          1,
          1,
          1,
          1,
          1,
          1,
          1,
          1,
          1,
          1,
          1,
          1,
          1,
          1,
          1,
          1,
          1,
          1,
          1,
          1,
          1,
          1,
          1,
          1,
          1,
          1,
          1,
          1,
          1,
          1,
          1,
          1,
          1,
          1,
          1,
          1,
          1,
          1,
          1,
          1,
          1,
          1,
          1,
          1,
          1,
          1,
          1,
          1,
          1,
          1,
          1,
          1,
          1,
          1,
          1,
          1,
          1,
          1,
          1,
          1,
          1,
          1,
          1,
          1,
          1,
          1,
          1,
          1,
          1,
          1,
          1,
          1,
          1,
          1,
          1,
          1,
          1,
          1,
          1,
          1,
          1,
          1,
          1,
          1,
          1,
          1,
          1,
          1,
          1,
          1,
          1,
          1,
          1,
          1,
          1,
          1,
          1,
          1,
          1,
          1,
          1,
          1,
          1,
          1,
          1,
          1,
          1,
          1,
          1,
          1,
          1,
          1,
          1,
          1,
          1,
          1,
          1,
          1,
          1,
          1,
          1,
          1,
          1,
          1,
          1,
          1,
          1,
          1,
          1,
          1,
          1,
          1,
          1,
          1,
          1,
          1,
          1,
          1,
          1,
          1,
          1,
          1,
          1,
          1,
          1,
          1,
          1,
          1,
          1,
          1,
          1,
          1,
          1,
          1,
          1,
          1,
          1,
          1,
          1,
          1,
          1,
          1,
          1,
          1,
          1,
          1,
          1,
          1,
          1,
          1,
          1,
          1,
          1,
          1,
          1,
          1,
          1,
          1,
          1,
          1,
          1,
          1,
          1,
          1,
          1,
          1,
          1,
          1,
          1,
          1,
          1,
          1,
          1,
          1,
          1,
          1,
          1,
          1,
          1,
          1,
          1,
          1,
          1,
          1,
          1,
          1,
          1,
          1,
          1,
          1,
          1,
          1,
          1,
          1,
          1,
          1,
          1,
          1,
          1,
          1,
          1,
          1,
          1,
          1,
          1,
          1,
          1,
          1,
          1,
          1,
          1,
          1,
          1,
          1,
          1,
          1,
          1,
          1,
          1,
          1,
          1,
          1,
          1,
          1,
          1,
          1,
          1,
          1,
          1,
          1,
          1,
          1,
          1,
          1,
          1,
          1,
          1,
          1,
          1,
          1,
          1,
          1,
          1,
          1,
          1,
          1,
          1,
          1,
          1,
          1,
          1,
          1,
          1,
          1,
          1,
          1,
          1,
          1,
          1,
          1,
          1,
          1,
          1,
          1,
          1,
          1,
          1,
          1,
          1,
          1,
          1,
          1,
          1,
          1,
          1,
          1,
          1,
          1,
          1,
          1,
          1,
          1,
          1,
          1,
          1,
          1,
          1,
          1,
          1,
          1,
          1,
          1,
          1,
          1,
          1,
          1,
          1,
          1,
          1,
          1,
          1,
          1,
          1,
          1,
          1,
          1,
          1,
          1,
          1,
          1,
          1,
          1,
          1,
          1,
          1,
          1,
          1,
          1,
          1,
          1,
          1,
          1,
          1,
          1,
          1,
          34,
          26,
          19,
          17,
          3,
          91,
          46,
          4,
          13,
          13,
          51,
          27,
          21,
          31,
          19,
          57,
          22,
          24,
          76,
          8,
          7,
          9,
          8,
          60,
          7,
          13,
          14,
          8,
          60,
          13,
          40,
          1,
          8,
          33,
          6,
          10,
          53,
          27,
          131,
          134,
          191,
          39,
          25,
          127,
          27,
          159,
          86,
          60
         ]
        }
       ],
       "layout": {
        "font": {
         "size": 11
        },
        "height": 600,
        "legend": {
         "tracegroupgap": 0
        },
        "margin": {
         "t": 60
        },
        "sunburstcolorway": [
         "#0E7C7B",
         "#17BEBB",
         "#FFC857",
         "#E9724C",
         "#C5283D"
        ],
        "template": {
         "data": {
          "bar": [
           {
            "error_x": {
             "color": "#2a3f5f"
            },
            "error_y": {
             "color": "#2a3f5f"
            },
            "marker": {
             "line": {
              "color": "#E5ECF6",
              "width": 0.5
             },
             "pattern": {
              "fillmode": "overlay",
              "size": 10,
              "solidity": 0.2
             }
            },
            "type": "bar"
           }
          ],
          "barpolar": [
           {
            "marker": {
             "line": {
              "color": "#E5ECF6",
              "width": 0.5
             },
             "pattern": {
              "fillmode": "overlay",
              "size": 10,
              "solidity": 0.2
             }
            },
            "type": "barpolar"
           }
          ],
          "carpet": [
           {
            "aaxis": {
             "endlinecolor": "#2a3f5f",
             "gridcolor": "white",
             "linecolor": "white",
             "minorgridcolor": "white",
             "startlinecolor": "#2a3f5f"
            },
            "baxis": {
             "endlinecolor": "#2a3f5f",
             "gridcolor": "white",
             "linecolor": "white",
             "minorgridcolor": "white",
             "startlinecolor": "#2a3f5f"
            },
            "type": "carpet"
           }
          ],
          "choropleth": [
           {
            "colorbar": {
             "outlinewidth": 0,
             "ticks": ""
            },
            "type": "choropleth"
           }
          ],
          "contour": [
           {
            "colorbar": {
             "outlinewidth": 0,
             "ticks": ""
            },
            "colorscale": [
             [
              0,
              "#0d0887"
             ],
             [
              0.1111111111111111,
              "#46039f"
             ],
             [
              0.2222222222222222,
              "#7201a8"
             ],
             [
              0.3333333333333333,
              "#9c179e"
             ],
             [
              0.4444444444444444,
              "#bd3786"
             ],
             [
              0.5555555555555556,
              "#d8576b"
             ],
             [
              0.6666666666666666,
              "#ed7953"
             ],
             [
              0.7777777777777778,
              "#fb9f3a"
             ],
             [
              0.8888888888888888,
              "#fdca26"
             ],
             [
              1,
              "#f0f921"
             ]
            ],
            "type": "contour"
           }
          ],
          "contourcarpet": [
           {
            "colorbar": {
             "outlinewidth": 0,
             "ticks": ""
            },
            "type": "contourcarpet"
           }
          ],
          "heatmap": [
           {
            "colorbar": {
             "outlinewidth": 0,
             "ticks": ""
            },
            "colorscale": [
             [
              0,
              "#0d0887"
             ],
             [
              0.1111111111111111,
              "#46039f"
             ],
             [
              0.2222222222222222,
              "#7201a8"
             ],
             [
              0.3333333333333333,
              "#9c179e"
             ],
             [
              0.4444444444444444,
              "#bd3786"
             ],
             [
              0.5555555555555556,
              "#d8576b"
             ],
             [
              0.6666666666666666,
              "#ed7953"
             ],
             [
              0.7777777777777778,
              "#fb9f3a"
             ],
             [
              0.8888888888888888,
              "#fdca26"
             ],
             [
              1,
              "#f0f921"
             ]
            ],
            "type": "heatmap"
           }
          ],
          "heatmapgl": [
           {
            "colorbar": {
             "outlinewidth": 0,
             "ticks": ""
            },
            "colorscale": [
             [
              0,
              "#0d0887"
             ],
             [
              0.1111111111111111,
              "#46039f"
             ],
             [
              0.2222222222222222,
              "#7201a8"
             ],
             [
              0.3333333333333333,
              "#9c179e"
             ],
             [
              0.4444444444444444,
              "#bd3786"
             ],
             [
              0.5555555555555556,
              "#d8576b"
             ],
             [
              0.6666666666666666,
              "#ed7953"
             ],
             [
              0.7777777777777778,
              "#fb9f3a"
             ],
             [
              0.8888888888888888,
              "#fdca26"
             ],
             [
              1,
              "#f0f921"
             ]
            ],
            "type": "heatmapgl"
           }
          ],
          "histogram": [
           {
            "marker": {
             "pattern": {
              "fillmode": "overlay",
              "size": 10,
              "solidity": 0.2
             }
            },
            "type": "histogram"
           }
          ],
          "histogram2d": [
           {
            "colorbar": {
             "outlinewidth": 0,
             "ticks": ""
            },
            "colorscale": [
             [
              0,
              "#0d0887"
             ],
             [
              0.1111111111111111,
              "#46039f"
             ],
             [
              0.2222222222222222,
              "#7201a8"
             ],
             [
              0.3333333333333333,
              "#9c179e"
             ],
             [
              0.4444444444444444,
              "#bd3786"
             ],
             [
              0.5555555555555556,
              "#d8576b"
             ],
             [
              0.6666666666666666,
              "#ed7953"
             ],
             [
              0.7777777777777778,
              "#fb9f3a"
             ],
             [
              0.8888888888888888,
              "#fdca26"
             ],
             [
              1,
              "#f0f921"
             ]
            ],
            "type": "histogram2d"
           }
          ],
          "histogram2dcontour": [
           {
            "colorbar": {
             "outlinewidth": 0,
             "ticks": ""
            },
            "colorscale": [
             [
              0,
              "#0d0887"
             ],
             [
              0.1111111111111111,
              "#46039f"
             ],
             [
              0.2222222222222222,
              "#7201a8"
             ],
             [
              0.3333333333333333,
              "#9c179e"
             ],
             [
              0.4444444444444444,
              "#bd3786"
             ],
             [
              0.5555555555555556,
              "#d8576b"
             ],
             [
              0.6666666666666666,
              "#ed7953"
             ],
             [
              0.7777777777777778,
              "#fb9f3a"
             ],
             [
              0.8888888888888888,
              "#fdca26"
             ],
             [
              1,
              "#f0f921"
             ]
            ],
            "type": "histogram2dcontour"
           }
          ],
          "mesh3d": [
           {
            "colorbar": {
             "outlinewidth": 0,
             "ticks": ""
            },
            "type": "mesh3d"
           }
          ],
          "parcoords": [
           {
            "line": {
             "colorbar": {
              "outlinewidth": 0,
              "ticks": ""
             }
            },
            "type": "parcoords"
           }
          ],
          "pie": [
           {
            "automargin": true,
            "type": "pie"
           }
          ],
          "scatter": [
           {
            "fillpattern": {
             "fillmode": "overlay",
             "size": 10,
             "solidity": 0.2
            },
            "type": "scatter"
           }
          ],
          "scatter3d": [
           {
            "line": {
             "colorbar": {
              "outlinewidth": 0,
              "ticks": ""
             }
            },
            "marker": {
             "colorbar": {
              "outlinewidth": 0,
              "ticks": ""
             }
            },
            "type": "scatter3d"
           }
          ],
          "scattercarpet": [
           {
            "marker": {
             "colorbar": {
              "outlinewidth": 0,
              "ticks": ""
             }
            },
            "type": "scattercarpet"
           }
          ],
          "scattergeo": [
           {
            "marker": {
             "colorbar": {
              "outlinewidth": 0,
              "ticks": ""
             }
            },
            "type": "scattergeo"
           }
          ],
          "scattergl": [
           {
            "marker": {
             "colorbar": {
              "outlinewidth": 0,
              "ticks": ""
             }
            },
            "type": "scattergl"
           }
          ],
          "scattermapbox": [
           {
            "marker": {
             "colorbar": {
              "outlinewidth": 0,
              "ticks": ""
             }
            },
            "type": "scattermapbox"
           }
          ],
          "scatterpolar": [
           {
            "marker": {
             "colorbar": {
              "outlinewidth": 0,
              "ticks": ""
             }
            },
            "type": "scatterpolar"
           }
          ],
          "scatterpolargl": [
           {
            "marker": {
             "colorbar": {
              "outlinewidth": 0,
              "ticks": ""
             }
            },
            "type": "scatterpolargl"
           }
          ],
          "scatterternary": [
           {
            "marker": {
             "colorbar": {
              "outlinewidth": 0,
              "ticks": ""
             }
            },
            "type": "scatterternary"
           }
          ],
          "surface": [
           {
            "colorbar": {
             "outlinewidth": 0,
             "ticks": ""
            },
            "colorscale": [
             [
              0,
              "#0d0887"
             ],
             [
              0.1111111111111111,
              "#46039f"
             ],
             [
              0.2222222222222222,
              "#7201a8"
             ],
             [
              0.3333333333333333,
              "#9c179e"
             ],
             [
              0.4444444444444444,
              "#bd3786"
             ],
             [
              0.5555555555555556,
              "#d8576b"
             ],
             [
              0.6666666666666666,
              "#ed7953"
             ],
             [
              0.7777777777777778,
              "#fb9f3a"
             ],
             [
              0.8888888888888888,
              "#fdca26"
             ],
             [
              1,
              "#f0f921"
             ]
            ],
            "type": "surface"
           }
          ],
          "table": [
           {
            "cells": {
             "fill": {
              "color": "#EBF0F8"
             },
             "line": {
              "color": "white"
             }
            },
            "header": {
             "fill": {
              "color": "#C8D4E3"
             },
             "line": {
              "color": "white"
             }
            },
            "type": "table"
           }
          ]
         },
         "layout": {
          "annotationdefaults": {
           "arrowcolor": "#2a3f5f",
           "arrowhead": 0,
           "arrowwidth": 1
          },
          "autotypenumbers": "strict",
          "coloraxis": {
           "colorbar": {
            "outlinewidth": 0,
            "ticks": ""
           }
          },
          "colorscale": {
           "diverging": [
            [
             0,
             "#8e0152"
            ],
            [
             0.1,
             "#c51b7d"
            ],
            [
             0.2,
             "#de77ae"
            ],
            [
             0.3,
             "#f1b6da"
            ],
            [
             0.4,
             "#fde0ef"
            ],
            [
             0.5,
             "#f7f7f7"
            ],
            [
             0.6,
             "#e6f5d0"
            ],
            [
             0.7,
             "#b8e186"
            ],
            [
             0.8,
             "#7fbc41"
            ],
            [
             0.9,
             "#4d9221"
            ],
            [
             1,
             "#276419"
            ]
           ],
           "sequential": [
            [
             0,
             "#0d0887"
            ],
            [
             0.1111111111111111,
             "#46039f"
            ],
            [
             0.2222222222222222,
             "#7201a8"
            ],
            [
             0.3333333333333333,
             "#9c179e"
            ],
            [
             0.4444444444444444,
             "#bd3786"
            ],
            [
             0.5555555555555556,
             "#d8576b"
            ],
            [
             0.6666666666666666,
             "#ed7953"
            ],
            [
             0.7777777777777778,
             "#fb9f3a"
            ],
            [
             0.8888888888888888,
             "#fdca26"
            ],
            [
             1,
             "#f0f921"
            ]
           ],
           "sequentialminus": [
            [
             0,
             "#0d0887"
            ],
            [
             0.1111111111111111,
             "#46039f"
            ],
            [
             0.2222222222222222,
             "#7201a8"
            ],
            [
             0.3333333333333333,
             "#9c179e"
            ],
            [
             0.4444444444444444,
             "#bd3786"
            ],
            [
             0.5555555555555556,
             "#d8576b"
            ],
            [
             0.6666666666666666,
             "#ed7953"
            ],
            [
             0.7777777777777778,
             "#fb9f3a"
            ],
            [
             0.8888888888888888,
             "#fdca26"
            ],
            [
             1,
             "#f0f921"
            ]
           ]
          },
          "colorway": [
           "#636efa",
           "#EF553B",
           "#00cc96",
           "#ab63fa",
           "#FFA15A",
           "#19d3f3",
           "#FF6692",
           "#B6E880",
           "#FF97FF",
           "#FECB52"
          ],
          "font": {
           "color": "#040404",
           "family": "Open Sans",
           "size": 15
          },
          "geo": {
           "bgcolor": "white",
           "lakecolor": "white",
           "landcolor": "#E5ECF6",
           "showlakes": true,
           "showland": true,
           "subunitcolor": "white"
          },
          "hoverlabel": {
           "align": "left"
          },
          "hovermode": "closest",
          "mapbox": {
           "style": "light"
          },
          "margin": {
           "b": 0
          },
          "paper_bgcolor": "white",
          "plot_bgcolor": "#E5ECF6",
          "polar": {
           "angularaxis": {
            "gridcolor": "white",
            "linecolor": "white",
            "ticks": ""
           },
           "bgcolor": "#E5ECF6",
           "radialaxis": {
            "gridcolor": "white",
            "linecolor": "white",
            "ticks": ""
           }
          },
          "scene": {
           "xaxis": {
            "backgroundcolor": "#E5ECF6",
            "gridcolor": "white",
            "gridwidth": 2,
            "linecolor": "white",
            "showbackground": true,
            "ticks": "",
            "zerolinecolor": "white"
           },
           "yaxis": {
            "backgroundcolor": "#E5ECF6",
            "gridcolor": "white",
            "gridwidth": 2,
            "linecolor": "white",
            "showbackground": true,
            "ticks": "",
            "zerolinecolor": "white"
           },
           "zaxis": {
            "backgroundcolor": "#E5ECF6",
            "gridcolor": "white",
            "gridwidth": 2,
            "linecolor": "white",
            "showbackground": true,
            "ticks": "",
            "zerolinecolor": "white"
           }
          },
          "shapedefaults": {
           "line": {
            "color": "#2a3f5f"
           }
          },
          "ternary": {
           "aaxis": {
            "gridcolor": "white",
            "linecolor": "white",
            "ticks": ""
           },
           "baxis": {
            "gridcolor": "white",
            "linecolor": "white",
            "ticks": ""
           },
           "bgcolor": "#E5ECF6",
           "caxis": {
            "gridcolor": "white",
            "linecolor": "white",
            "ticks": ""
           }
          },
          "title": {
           "font": {
            "color": "#040404",
            "family": "Open Sans"
           },
           "x": 0.05
          },
          "xaxis": {
           "automargin": true,
           "gridcolor": "white",
           "linecolor": "white",
           "ticks": "",
           "title": {
            "standoff": 15
           },
           "zerolinecolor": "white",
           "zerolinewidth": 2
          },
          "yaxis": {
           "automargin": true,
           "gridcolor": "white",
           "linecolor": "white",
           "ticks": "",
           "title": {
            "standoff": 15
           },
           "zerolinecolor": "white",
           "zerolinewidth": 2
          }
         }
        },
        "title": {
         "font": {
          "size": 22
         },
         "text": "Projects within categories and topics"
        }
       }
      }
     },
     "metadata": {},
     "output_type": "display_data"
    }
   ],
   "source": [
    "fig = px.sunburst(\n",
    "    df_active,\n",
    "    path=['sector', 'topic', 'project_name'],\n",
    "    color='sector',\n",
    "    maxdepth=2,\n",
    "    color_discrete_sequence=color_discrete_sequence\n",
    ")\n",
    "\n",
    "fig.update_layout(title=\"Projects within categories and topics\", height=800, title_font_size=22, font_size=11)\n",
    "# animated transitions are currently not implemented when uniformtext is used\n",
    "fig.update_traces(insidetextorientation='radial', textinfo='label')\n",
    "\n",
    "fig.show()"
   ]
  },
  {
   "cell_type": "markdown",
   "metadata": {},
   "source": [
    "```{figure} data:image/gif;base64,R0lGODlhAQABAIAAAAAAAP///yH5BAEAAAAALAAAAAABAAEAAAIBRAA7\n",
    ":figclass: caption-hack\n",
    ":name: projects-within-sectors\n",
    "\n",
    "Number of individual projects within topics and categories\n",
    "```"
   ]
  },
  {
   "cell_type": "markdown",
   "metadata": {},
   "source": []
  }
 ],
 "metadata": {
  "celltoolbar": "Tags",
  "kernelspec": {
   "display_name": "Python 3.8.10 64-bit",
   "language": "python",
   "name": "python3"
  },
  "language_info": {
   "codemirror_mode": {
    "name": "ipython",
    "version": 3
   },
   "file_extension": ".py",
   "mimetype": "text/x-python",
   "name": "python",
   "nbconvert_exporter": "python",
   "pygments_lexer": "ipython3",
   "version": "3.8.10"
  },
  "tags": "full-width",
  "vscode": {
   "interpreter": {
    "hash": "e7370f93d1d0cde622a1f8e1c04877d8463912d04d973331ad4851f04de6915a"
   }
  }
 },
 "nbformat": 4,
 "nbformat_minor": 4
}
