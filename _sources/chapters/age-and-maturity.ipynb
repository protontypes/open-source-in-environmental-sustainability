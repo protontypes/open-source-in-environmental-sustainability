{
 "cells": [
  {
   "cell_type": "markdown",
   "metadata": {},
   "source": [
    "# Age and Maturity\n",
    "\n",
    "A repository's age is an important health indicator. If a project has been actively used for a long time we can infer that developers and users are interested in its development. The age of all projects follows an approximate normal distribution, with a sharp drop for younger projects and a peak at 3.2 years. The decline of more junior projects within the dataset can be explained in several ways.\n",
    "\n",
    "- Repositories only meet the criteria for inclusion in this study after a certain period of time. This applies in particular to the documentation and the use of the project by third parties.\n",
    "- It is common practice to make a project public and advertise it only after sufficient development time has elapsed. \n",
    "- The age considered is the project age and not the repository age. GitHub only really became popular in the last 10 years. However, many Git repositories are older and have moved to the platform during this period.\n",
    "- There are fewer new developments within the subject area. \n",
    "\n",
    "**However, a closer look at the age distribution of the repositories indicates a median age of 4.45 years, indicating that most projects were developed recently.** According to the project age distribution, the number of new projects has decreased in recent years. Further analysis will be required to determine whether this is due to the study's bias or a real trend. "
   ]
  },
  {
   "cell_type": "code",
   "execution_count": null,
   "metadata": {
    "tags": [
     "remove-cell"
    ]
   },
   "outputs": [],
   "source": [
    "import numpy as np\n",
    "import pandas as pd\n",
    "import plotly.io as pio\n",
    "import plotly.graph_objects as go\n",
    "import plotly.express as px\n",
    "from opensustainTemplate import *"
   ]
  },
  {
   "cell_type": "code",
   "execution_count": null,
   "metadata": {
    "tags": [
     "remove-cell"
    ]
   },
   "outputs": [],
   "source": [
    "df_active = pd.read_csv(\"../csv/project_analysis.csv\")"
   ]
  },
  {
   "cell_type": "code",
   "execution_count": null,
   "metadata": {
    "tags": [
     "full-width",
     "remove-input"
    ]
   },
   "outputs": [],
   "source": [
    "fig = px.histogram(\n",
    "    df_active,\n",
    "    x=\"project_age_in_years\",\n",
    "    nbins=50,\n",
    "    title=\"Distribution of project Age\",\n",
    ")\n",
    "fig.update_layout(\n",
    "    yaxis_title=None,\n",
    "    xaxis_title=\"Project age in years\",\n",
    "    width=800,\n",
    "    dragmode=False,\n",
    ")\n",
    "fig.update_traces(marker_color=marker_color)\n",
    "fig.add_layout_image(\n",
    "    dict(\n",
    "        source=logo_img,\n",
    "        xref=\"paper\",\n",
    "        yref=\"paper\",\n",
    "        x=1,\n",
    "        y=1,\n",
    "        sizex=0.10,\n",
    "        sizey=0.10,\n",
    "        xanchor=\"right\",\n",
    "        yanchor=\"top\",\n",
    "    )\n",
    ")\n",
    "fig[\"layout\"][\"xaxis\"][\"autorange\"] = \"reversed\"\n",
    "fig.show()"
   ]
  },
  {
   "cell_type": "markdown",
   "metadata": {},
   "source": [
    "```{figure} data:image/gif;base64,R0lGODlhAQABAIAAAAAAAP///yH5BAEAAAAALAAAAAABAAEAAAIBRAA7\n",
    ":figclass: caption-hack\n",
    ":name: distribution-of-project-age\n",
    "\n",
    "<br/>Distribution of project age\n",
    "```"
   ]
  },
  {
   "cell_type": "markdown",
   "metadata": {},
   "source": [
    "**Some of the oldest projects that are still active such as Pysolar, iNaturalist or OCE with an age of more than 10 years originate in academic communities, when the share of other organisations in OSS was still low.** This illustrates the grassroots origins of the open source community. Some of these projects, such as [Py6S](https://github.com/robintw/Py6S), [agridat](https://github.com/kwstat/agridat) or [oce](https://github.com/dankelley/oce) have been predominantly developed by a single person for over 10 years. "
   ]
  },
  {
   "cell_type": "code",
   "execution_count": null,
   "metadata": {
    "tags": [
     "full-width",
     "remove-input"
    ]
   },
   "outputs": [],
   "source": [
    "oldest_projects = df_active.nlargest(40, \"project_age_in_years\")\n",
    "\n",
    "\n",
    "fig = px.bar(\n",
    "    oldest_projects,\n",
    "    x=oldest_projects[\"project_age_in_years\"],\n",
    "    y=oldest_projects[\"project_name\"],\n",
    "    orientation=\"h\",\n",
    "    range_x=(9.6, 14),\n",
    "    custom_data=[\"oneliner\", \"git_url\", \"topic\"],\n",
    "    color=oldest_projects[\"development_distribution_score\"],\n",
    "    color_continuous_scale=color_continuous_scale,\n",
    ")\n",
    "\n",
    "fig.add_layout_image(\n",
    "    dict(\n",
    "        source=logo_img,\n",
    "        xref=\"paper\",\n",
    "        yref=\"paper\",\n",
    "        x=1,\n",
    "        y=0,\n",
    "        sizex=0.05,\n",
    "        sizey=0.05,\n",
    "        xanchor=\"right\",\n",
    "        yanchor=\"bottom\",\n",
    "    )\n",
    ")\n",
    "\n",
    "fig.update_layout(\n",
    "    height=1000,  # Added parameter\n",
    "    width=800,\n",
    "    yaxis_title=None,\n",
    "    xaxis_title=\"Project age in years\",\n",
    "    title=\"The oldest projects still active\",\n",
    "    coloraxis_colorbar=dict(\n",
    "        title=\"DDS\",\n",
    "    ),\n",
    "    hoverlabel=dict(\n",
    "        bgcolor=\"white\",\n",
    "    ),\n",
    "    hovermode=\"y\",\n",
    "    hoverdistance=5,\n",
    "    dragmode=False,\n",
    ")\n",
    "\n",
    "fig.update_traces(\n",
    "    hovertemplate=\"<br>\".join(\n",
    "        [\n",
    "            \"Project Info: <b>%{customdata[0]}</b>\",\n",
    "            \"Topic: <b>%{customdata[1]}</b>\",\n",
    "            \"Git URL: <b>%{customdata[2]}</b>\",\n",
    "        ]\n",
    "    )\n",
    ")\n",
    "fig[\"layout\"][\"yaxis\"][\"autorange\"] = \"reversed\"\n",
    "\n",
    "fig.update(layout_showlegend=False)"
   ]
  },
  {
   "cell_type": "markdown",
   "metadata": {},
   "source": [
    "```{figure} data:image/gif;base64,R0lGODlhAQABAIAAAAAAAP///yH5BAEAAAAALAAAAAABAAEAAAIBRAA7\n",
    ":figclass: caption-hack\n",
    ":name: oldest-projects\n",
    "\n",
    "<br/>The oldest projects still active\n",
    "```"
   ]
  }
 ],
 "metadata": {
  "celltoolbar": "Tags",
  "kernelspec": {
   "display_name": "Python 3",
   "language": "python",
   "name": "python3"
  },
  "language_info": {
   "codemirror_mode": {
    "name": "ipython",
    "version": 3
   },
   "file_extension": ".py",
   "mimetype": "text/x-python",
   "name": "python",
   "nbconvert_exporter": "python",
   "pygments_lexer": "ipython3",
   "version": "3.8.10"
  },
  "tags": "full-width",
  "vscode": {
   "interpreter": {
    "hash": "e7370f93d1d0cde622a1f8e1c04877d8463912d04d973331ad4851f04de6915a"
   }
  }
 },
 "nbformat": 4,
 "nbformat_minor": 4
}
