{
 "cells": [
  {
   "cell_type": "markdown",
   "metadata": {},
   "source": [
    "# Users and Usage\n",
    "\n",
    "<!-- \n",
    "- Users: Who the users are\n",
    "- Usage: How are users are using OSS\n",
    "- Value: What is the use value and impact\n",
    "-->\n",
    "\n",
    "Capturing the use of open source projects, and understanding its users and the value they provide to, and obtain from the ecosystem, presents important yet significant challenges. Furthermore, there is no standard for measuring the time and resources saved by \"[standing on the shoulders of giants](https://en.wikipedia.org/wiki/Standing_on_the_shoulders_of_giants)\" and to what degree the added height extended one's view or reach. In future studies, it will be essential to use the various metrics and methods we have created in a targeted way. For example, by identifying projects that have high [usage](./15_users-and-usage.ipynb), fast [growth](./09_growth.ipynb) and low [DDS](./14a_development-distribution-score.ipynb), we can conduct targeted interviews to pinpoint key users and usage patterns, and evaluate ways and means of supporting effective projects. Until this time, we have considered several proxy methods to help paint a picture of what is possible.\n",
    "\n",
    "Since open source is often free-of-charge and open access, it is difficult to trace its final use. The people using these software products often act as evangelists, sharing OSS with other users or organisations who may find value in it and providing valuable feedback and expert knowledge in return. Much of the open source usage arises in integrating libraries or APIs as dependencies of other software projects. Importantly, this dependency on OSS will not be apparent to many users; especially in closed-source software, where the dependency on OSS is not always made evident. \n",
    "\n",
    "Project usage data from public software development and version control platforms is remains scarce. GitHub, unfortunately, offers little support in compiling accurate statistics. Additionally, statistics on package manager downloads are not universally available and must be obtained through the various platforms and their APIs. While this is technically possible, it was not feasible given the study's limited resources and timeframe. However, with the limited data obtained from the Python ecosystem, it was possible to identify individual projects with a high circulation but a low [DDS](./14a_development-distribution-score.ipynb) score. Here projects like [cfgrib](https://github.com/ecmwf/cfgrib), [sentinelhub-py](https://github.com/sentinel-hub/sentinelhub-py) or [Meteostat](https://github.com/meteostat/meteostat-python) stand out. Those projects widely used and depend highly on the goodwill of a single developer. The median DDS of 0.436 over the 50 most used Python projects indicates that the burden still lies on a few strong contributors leading the development.\n",
    "\n",
    "The user community of major projects in Energy and Battery modelling, such as [PyBaMM](https://github.com/pybamm-team/PyBaMM) and [PyPSA](https://github.com/PyPSA/PyPSA), is split relatively evenly between academia and industry, with fewer users coming from NGOs and independent consultancies. In some cases, industry can drive explosive user growth. For example, over a five years period, pvlib-python saw thousands of downloads per month. This was driven primarily by several commercial firms who integrated the library into their software products, effectively distributing pvlib-python to their clients.\n",
    "\n"
   ]
  },
  {
   "cell_type": "code",
   "execution_count": 1,
   "metadata": {
    "tags": [
     "remove-cell"
    ]
   },
   "outputs": [],
   "source": [
    "import numpy as np\n",
    "import pandas as pd\n",
    "import plotly.io as pio\n",
    "import plotly.graph_objects as go\n",
    "import plotly.express as px"
   ]
  },
  {
   "cell_type": "code",
   "execution_count": 2,
   "metadata": {
    "tags": [
     "remove-cell"
    ]
   },
   "outputs": [],
   "source": [
    "def count_strings(comma_seperated_string):\n",
    "    \"\"\"Count number of delimiters (commas) in a string \n",
    "    Arguments:\n",
    "        comma_seperated_string - a string containing commas\n",
    "    Outputs: \n",
    "        A number (int) of commas found in comma_seperated_string\n",
    "        \n",
    "    \"\"\"\n",
    "    \n",
    "    if type(comma_seperated_string) == str:\n",
    "        return comma_seperated_string.count(\",\")\n",
    "    else:\n",
    "        return 0"
   ]
  },
  {
   "cell_type": "code",
   "execution_count": 3,
   "metadata": {
    "tags": [
     "hide-cell",
     "remove-cell"
    ]
   },
   "outputs": [],
   "source": [
    "# default plotting options\n",
    "# Palette https://coolors.co/palette/0e7c7b-17bebb-ffc857-e9724c-c5283d\n",
    "height = (800,)  # Added parameter\n",
    "color_continuous_scale = px.colors.sequential.Aggrnyl[::-1]\n",
    "marker_color = \"#0E7C7B\"\n",
    "color_discrete_sequence = [\"#0E7C7B\", \"#17BEBB\", \"#FFC857\", \"#E9724C\", \"#C5283D\"]\n",
    "\n",
    "# Register your theme as a named template\n",
    "pio.templates[\"OpenSustain\"] = go.layout.Template(\n",
    "    layout=dict(\n",
    "        margin=dict(\n",
    "        b=0 #bottom margin\n",
    "    ),\n",
    "        font=dict(\n",
    "            family=\"Open Sans\",\n",
    "            color=\"#040404\",\n",
    "            size=15,\n",
    "        ),\n",
    "        title_font_family=\"Open Sans\",\n",
    "        title_font_color=\"#040404\",\n",
    "    ),\n",
    ")\n",
    "\n",
    "# Combine your theme with plotly's default\n",
    "pio.templates.default = \"plotly+OpenSustain\""
   ]
  },
  {
   "cell_type": "code",
   "execution_count": 4,
   "metadata": {
    "tags": [
     "remove-cell"
    ]
   },
   "outputs": [],
   "source": [
    "df_active = pd.read_csv(\"../csv/project_analysis.csv\")"
   ]
  },
  {
   "cell_type": "code",
   "execution_count": 5,
   "metadata": {
    "tags": [
     "full-width",
     "remove-input"
    ]
   },
   "outputs": [
    {
     "data": {
      "application/vnd.plotly.v1+json": {
       "config": {
        "plotlyServerURL": "https://plot.ly"
       },
       "data": [
        {
         "alignmentgroup": "True",
         "customdata": [
          [
           "The Unidata network Common Data Form (netCDF) in Python is an interface for scientific data access and a set of freely-distributed software libraries that provide an implementation of the interface.",
           "Climate Data Processing and Access",
           "https://github.com/Unidata/netcdf4-python.git"
          ],
          [
           "A collaboration server to plan atmospheric research flights.",
           "Atmosphere",
           "https://github.com/Open-MSS/MSS.git"
          ],
          [
           "A Python interface for the netCDF4 file format that reads and writes local or remote HDF5 files directly via h5py or h5pyd, without relying on the Unidata netCDF library.",
           "Climate Data Processing and Access",
           "https://github.com/h5netcdf/h5netcdf.git"
          ],
          [
           "A set of documented functions for simulating the performance of photovoltaic energy systems.",
           "Photovoltaics and Solar Energy",
           "https://github.com/pvlib/pvlib-python.git"
          ],
          [
           "Python API to access the Copernicus Climate Data Store.",
           "Climate Data Processing and Access",
           "https://github.com/ecmwf/cdsapi.git"
          ],
          [
           "Makes searching, downloading and retrieving the metadata of Sentinel satellite images from the Copernicus Open Access Hub easy.",
           "Data Catalogs and Interfaces",
           "https://github.com/sentinelsat/sentinelsat.git"
          ],
          [
           "A collection of tools in Python for reading, visualizing and performing calculations with weather data.",
           "Meteorological Observation and Forecast",
           "https://github.com/Unidata/MetPy.git"
          ],
          [
           "Read energy usage data from the real-time API on Solax solar inverters.",
           "Photovoltaics and Solar Energy",
           "https://github.com/squishykid/solax.git"
          ],
          [
           "Download and process satellite imagery in Python using Sentinel Hub services.",
           "Data Catalogs and Interfaces",
           "https://github.com/sentinel-hub/sentinelhub-py.git"
          ],
          [
           "A Python interface to map GRIB files to the NetCDF Common Data Model following the CF Convention using ecCodes.",
           "Climate Data Processing and Access",
           "https://github.com/ecmwf/cfgrib.git"
          ],
          [
           "Optimization of Aerodynamic systems.",
           "Wind Energy",
           "https://github.com/OpenMDAO/OpenMDAO.git"
          ],
          [
           "Access and analyze historical weather and climate data with Python.",
           "Climate Data Processing and Access",
           "https://github.com/meteostat/meteostat-python.git"
          ],
          [
           "Track emissions from Compute and recommend ways to reduce their impact on the environment.",
           "Computation and Communication",
           "https://github.com/mlco2/codecarbon.git"
          ],
          [
           "Create a canvas visualization layer for direction and intensity of arbitrary velocities (e.g. wind, ocean current).",
           "Hydrosphere",
           "https://github.com/onaci/leaflet-velocity.git"
          ],
          [
           "A collection of Python utilities for retrieving atmospheric and oceanic data from remote sources, focusing on being able to retrieve data from Unidata data technologies.",
           "Data Catalogs and Interfaces",
           "https://github.com/Unidata/siphon.git"
          ],
          [
           "A graphic tool used by meteorologists to give a succinct view of how wind speed and direction are typically distributed at a particular location.",
           "Wind Energy",
           "https://github.com/python-windrose/windrose.git"
          ],
          [
           "A platform that provides services for collecting and storing data from buildings and devices. It provides an environment for developing applications that interact with data.",
           "Buildings and Heating",
           "https://github.com/VOLTTRON/volttron.git"
          ],
          [
           "Plant phenotyping using computer vision.",
           "Biosphere",
           "https://github.com/danforthcenter/plantcv.git"
          ],
          [
           "Contains the module python nco, which implements a Python style access to the NetCDF Operators (NCO).",
           "Climate Data Processing and Access",
           "https://github.com/nco/pynco.git"
          ],
          [
           "A Python client for the ENTSO-E API (European Network of Transmission System Operators for Electricity).",
           "Datasets on Energy Systems",
           "https://github.com/EnergieID/entsoe-py.git"
          ],
          [
           "Thermodynamics, phase equilibrium, transport properties and chemical database component of Chemical Engineering Design Library.",
           "Geothermal Energy",
           "https://github.com/CalebBell/thermo.git"
          ],
          [
           "A free software toolbox for simulating and optimizing modern power systems that include features such as conventional generators with unit commitment, variable wind and solar generation, storage units, coupling to other energy sectors, and mixed alternating and direct current networks.",
           "Energy Modeling and Optimization",
           "https://github.com/PyPSA/PyPSA.git"
          ],
          [
           "A Python package designed to simulate and analyze resilience of water distribution networks.",
           "Water Supply and Quality",
           "https://github.com/USEPA/WNTR.git"
          ],
          [
           "An open source framework for life cycle assessment.",
           "Life Cycle Assessment",
           "https://github.com/brightway-lca/brightway2.git"
          ],
          [
           "Open Energy Modelling Framework - A Python toolbox for energy system modeling and optimization. A community driven, modular, flexible and generic software project.",
           "Energy Modeling and Optimization",
           "https://github.com/oemof/oemof.git"
          ],
          [
           "A Python package for analyzing general circulation model output data.",
           "Earth and Climate Modeling",
           "https://github.com/xgcm/xgcm.git"
          ],
          [
           "A Python library for reading, validating and writing transit schedule information in the GTFS format.",
           "Mobility and Transportation",
           "https://github.com/google/transitfeed.git"
          ],
          [
           "An intake plugin for parsing an Earth System Model catalog and loading assets into xarray datasets.",
           "Climate Data Processing and Access",
           "https://github.com/intake/intake-esm.git"
          ],
          [
           "Python Package for Tree Crown Detection in Airborne RGB imagery.",
           "Biosphere",
           "https://github.com/weecology/DeepForest.git"
          ],
          [
           "A Python package aiming at simplifying access to climate and meteorological datasets, allowing users to focus on science instead of technical issues such as data access and data formats.",
           "Climate Data Processing and Access",
           "https://github.com/ecmwf/climetlab.git"
          ],
          [
           "Simple and fast watershed delineation in Python.",
           "Water Supply and Quality",
           "https://github.com/mdbartos/pysheds.git"
          ],
          [
           "An open source implementation of the load flow API that can be found in PowSyBl Core. It supports AC Newtow-Raphson and linear DC calculation methods.",
           "Energy Modeling and Optimization",
           "https://github.com/powsybl/powsybl-open-loadflow.git"
          ],
          [
           "An open source software agent to track energy consumption of ICT services from the servers.",
           "Computation and Communication",
           "https://github.com/hubblo-org/scaphandre.git"
          ],
          [
           "A Python package which uses different machine learning algorithms for the aggregation of time series.",
           "Energy Modeling and Optimization",
           "https://github.com/FZJ-IEK3-VSA/tsam.git"
          ],
          [
           "A framework developed for implementing crop simulation models developed in Wageningen.",
           "Biosphere",
           "https://github.com/ajwdewit/pcse.git"
          ],
          [
           "Python client for iNaturalist, a community science platform that helps people get involved in the natural world by observing and identifying the living things around them.",
           "Biosphere",
           "https://github.com/pyinat/pyinaturalist.git"
          ],
          [
           "A python module for interfacing with the US Geological Survey's API.",
           "Data Catalogs and Interfaces",
           "https://github.com/kapadia/usgs.git"
          ],
          [
           "An extensible EV Charge Controller with PV integration implemented in Go.",
           "Mobility and Transportation",
           "https://github.com/evcc-io/evcc.git"
          ],
          [
           "An open source catastrophe modelling platform, free to use by anyone.",
           "Natural Hazard and Poverty",
           "https://github.com/OasisLMF/OasisLMF.git"
          ],
          [
           "A npm module for accessing the green web API, and estimating the carbon emissions from using digital services.",
           "Computation and Communication",
           "https://github.com/thegreenwebfoundation/co2.js.git"
          ],
          [
           "An open source project and Python package that provides verification metrics of deterministic (and probabilistic from properscoring) forecasts with xarray.",
           "Climate Data Processing and Access",
           "https://github.com/xarray-contrib/xskillscore.git"
          ],
          [
           "A Python alternative to USGS-R's dataRetrieval package for obtaining USGS or EPA water quality data, streamflow data, and metadata directly from web services.",
           "Water Supply and Quality",
           "https://github.com/USGS-python/dataretrieval.git"
          ],
          [
           "Fast and flexible physics-based battery models in Python.",
           "Battery",
           "https://github.com/pybamm-team/PyBaMM.git"
          ],
          [
           "A library of derived climate variables, i.e. climate indicators, based on xarray.",
           "Climate Data Processing and Access",
           "https://github.com/Ouranosinc/xclim.git"
          ],
          [
           "A framework to develop energy system models, with a focus on flexibility, high spatial and temporal resolution, the ability to execute many runs based on the same base model, and a clear separation of framework and model.",
           "Energy Modeling and Optimization",
           "https://github.com/calliope-project/calliope.git"
          ],
          [
           "With the demandlib you can create power and heat profiles for various sectors by scaling them to your desired demand.",
           "Energy Modeling and Optimization",
           "https://github.com/oemof/demandlib.git"
          ],
          [
           "Provides a powerful simulation toolkit for thermal engineering plants such as power plants, district heating systems or heat pumps.",
           "Buildings and Heating",
           "https://github.com/oemof/tespy.git"
          ],
          [
           "Package to calculate several thermal comfort indices (e.g. PMV, PPD, SET, adaptive) and convert physical variables.",
           "Buildings and Heating",
           "https://github.com/CenterForTheBuiltEnvironment/pythermalcomfort.git"
          ],
          [
           "Trying to make access to weather data in Python feel like a warm summer breeze.",
           "Meteorological Observation and Forecast",
           "https://github.com/earthobservations/wetterdienst.git"
          ],
          [
           "A library to model the output of wind turbines and farms.",
           "Wind Energy",
           "https://github.com/wind-python/windpowerlib.git"
          ]
         ],
         "hoverlabel": {
          "namelength": 0
         },
         "hovertemplate": "Project Info: <b>%{customdata[0]}</b><br>Topic: <b>%{customdata[1]}</b><br>Git URL: <b>%{customdata[2]}</b>",
         "legendgroup": "",
         "marker": {
          "color": [
           0.0844272076372315,
           0.6028751123090745,
           0.565,
           0.4787922358015816,
           0.4631578947368421,
           0.5128504672897196,
           0.4422496570644718,
           0.2727272727272727,
           0.275375939849624,
           0.093525179856115,
           0.6906206252916472,
           0.0344827586206896,
           0.8112449799196787,
           0.2916666666666666,
           0.4197031039136302,
           0.2894736842105263,
           0.5896830748482805,
           0.6187088274044796,
           0.4838709677419355,
           0.6069651741293532,
           0.0326397388820889,
           0.7035688273852877,
           0.5903771131339401,
           0.0118203309692671,
           0.6495726495726496,
           0.6814345991561181,
           0.4968553459119497,
           0.2095548317046688,
           0.5714285714285714,
           0.4946386946386946,
           0.0604395604395604,
           0.5154109589041096,
           0.2347140039447731,
           0.5441860465116279,
           0.1761194029850746,
           0.1140845070422534,
           0.1128205128205128,
           0.2349794238683127,
           0.5693430656934306,
           0.3316582914572864,
           0.5722070844686649,
           0.2916666666666666,
           0.5718423372371237,
           0.6206239580852584,
           0.243161094224924,
           0.3969072164948454,
           0.0981873111782477,
           0.0585241730279898,
           0.3356258596973865,
           0.3715481171548117
          ],
          "coloraxis": "coloraxis"
         },
         "name": "",
         "offsetgroup": "",
         "orientation": "h",
         "showlegend": false,
         "textposition": "auto",
         "type": "bar",
         "x": [
          596,
          571,
          338,
          272,
          260,
          253,
          225,
          194,
          170,
          162,
          136,
          131,
          117,
          106,
          105,
          89,
          78,
          58,
          48,
          47,
          43,
          41,
          41,
          39,
          36,
          36,
          35,
          35,
          30,
          30,
          30,
          29,
          27,
          25,
          23,
          23,
          23,
          22,
          20,
          18,
          18,
          18,
          17,
          16,
          15,
          15,
          15,
          15,
          15,
          14
         ],
         "xaxis": "x",
         "y": [
          "<a href=\"https://github.com/Unidata/netcdf4-python.git\">netcdf-python</a>",
          "<a href=\"https://github.com/Open-MSS/MSS.git\">Mission Support System</a>",
          "<a href=\"https://github.com/h5netcdf/h5netcdf.git\">h5netcdf</a>",
          "<a href=\"https://github.com/pvlib/pvlib-python.git\">pvlib-python</a>",
          "<a href=\"https://github.com/ecmwf/cdsapi.git\">cdsapi</a>",
          "<a href=\"https://github.com/sentinelsat/sentinelsat.git\">sentinelsat</a>",
          "<a href=\"https://github.com/Unidata/MetPy.git\">MetPy</a>",
          "<a href=\"https://github.com/squishykid/solax.git\">solax</a>",
          "<a href=\"https://github.com/sentinel-hub/sentinelhub-py.git\">sentinelhub-py</a>",
          "<a href=\"https://github.com/ecmwf/cfgrib.git\">cfgrib</a>",
          "<a href=\"https://github.com/OpenMDAO/OpenMDAO.git\">OpenMDAO</a>",
          "<a href=\"https://github.com/meteostat/meteostat-python.git\">Meteostat Python</a>",
          "<a href=\"https://github.com/mlco2/codecarbon.git\">CodeCarbon</a>",
          "<a href=\"https://github.com/onaci/leaflet-velocity.git\">leaflet-velocity</a>",
          "<a href=\"https://github.com/Unidata/siphon.git\">Siphon</a>",
          "<a href=\"https://github.com/python-windrose/windrose.git\">windrose</a>",
          "<a href=\"https://github.com/VOLTTRON/volttron.git\">VOLTTRON</a>",
          "<a href=\"https://github.com/danforthcenter/plantcv.git\">PlantCV</a>",
          "<a href=\"https://github.com/nco/pynco.git\">pynco</a>",
          "<a href=\"https://github.com/EnergieID/entsoe-py.git\">entsoe-py</a>",
          "<a href=\"https://github.com/CalebBell/thermo.git\">thermo</a>",
          "<a href=\"https://github.com/PyPSA/PyPSA.git\">PyPSA</a>",
          "<a href=\"https://github.com/USEPA/WNTR.git\">Water Network Tool for Resilience</a>",
          "<a href=\"https://github.com/brightway-lca/brightway2.git\">brightway2</a>",
          "<a href=\"https://github.com/oemof/oemof.git\">oemof</a>",
          "<a href=\"https://github.com/xgcm/xgcm.git\">xgcm</a>",
          "<a href=\"https://github.com/google/transitfeed.git\">transitfeed</a>",
          "<a href=\"https://github.com/intake/intake-esm.git\">Intake-esm</a>",
          "<a href=\"https://github.com/weecology/DeepForest.git\">DeepForest</a>",
          "<a href=\"https://github.com/ecmwf/climetlab.git\">climetlab</a>",
          "<a href=\"https://github.com/mdbartos/pysheds.git\">pysheds</a>",
          "<a href=\"https://github.com/powsybl/powsybl-open-loadflow.git\">PowSyBl Open Load Flow</a>",
          "<a href=\"https://github.com/hubblo-org/scaphandre.git\">Scaphandre</a>",
          "<a href=\"https://github.com/FZJ-IEK3-VSA/tsam.git\">tsam</a>",
          "<a href=\"https://github.com/ajwdewit/pcse.git\">PCSE</a>",
          "<a href=\"https://github.com/pyinat/pyinaturalist.git\">pyinaturalist</a>",
          "<a href=\"https://github.com/kapadia/usgs.git\">USGS</a>",
          "<a href=\"https://github.com/evcc-io/evcc.git\">EVCC</a>",
          "<a href=\"https://github.com/OasisLMF/OasisLMF.git\">OasisLMF</a>",
          "<a href=\"https://github.com/thegreenwebfoundation/co2.js.git\">co2.js</a>",
          "<a href=\"https://github.com/xarray-contrib/xskillscore.git\">xskillscore</a>",
          "<a href=\"https://github.com/USGS-python/dataretrieval.git\">dataretrieval</a>",
          "<a href=\"https://github.com/pybamm-team/PyBaMM.git\">PyBaMM</a>",
          "<a href=\"https://github.com/Ouranosinc/xclim.git\">xclim</a>",
          "<a href=\"https://github.com/calliope-project/calliope.git\">Calliope</a>",
          "<a href=\"https://github.com/oemof/demandlib.git\">demandlib</a>",
          "<a href=\"https://github.com/oemof/tespy.git\">tespy</a>",
          "<a href=\"https://github.com/CenterForTheBuiltEnvironment/pythermalcomfort.git\">pythermalcomfort</a>",
          "<a href=\"https://github.com/earthobservations/wetterdienst.git\">wetterdienst</a>",
          "<a href=\"https://github.com/wind-python/windpowerlib.git\">windpowerlib</a>"
         ],
         "yaxis": "y"
        }
       ],
       "layout": {
        "barmode": "relative",
        "coloraxis": {
         "colorbar": {
          "title": {
           "text": "DDS"
          }
         },
         "colorscale": [
          [
           0,
           "rgb(237, 239, 93)"
          ],
          [
           0.16666666666666666,
           "rgb(169, 220, 103)"
          ],
          [
           0.3333333333333333,
           "rgb(110, 197, 116)"
          ],
          [
           0.5,
           "rgb(57, 171, 126)"
          ],
          [
           0.6666666666666666,
           "rgb(13, 143, 129)"
          ],
          [
           0.8333333333333334,
           "rgb(15, 114, 121)"
          ],
          [
           1,
           "rgb(36, 86, 104)"
          ]
         ]
        },
        "height": 1200,
        "hoverlabel": {
         "bgcolor": "white"
        },
        "images": [
         {
          "sizex": 0.05,
          "sizey": 0.05,
          "source": "logo_img",
          "x": 1,
          "xanchor": "right",
          "xref": "paper",
          "y": 1,
          "yanchor": "top",
          "yref": "paper"
         }
        ],
        "legend": {
         "tracegroupgap": 0
        },
        "margin": {
         "t": 60
        },
        "template": {
         "data": {
          "bar": [
           {
            "error_x": {
             "color": "#2a3f5f"
            },
            "error_y": {
             "color": "#2a3f5f"
            },
            "marker": {
             "line": {
              "color": "#E5ECF6",
              "width": 0.5
             }
            },
            "type": "bar"
           }
          ],
          "barpolar": [
           {
            "marker": {
             "line": {
              "color": "#E5ECF6",
              "width": 0.5
             }
            },
            "type": "barpolar"
           }
          ],
          "carpet": [
           {
            "aaxis": {
             "endlinecolor": "#2a3f5f",
             "gridcolor": "white",
             "linecolor": "white",
             "minorgridcolor": "white",
             "startlinecolor": "#2a3f5f"
            },
            "baxis": {
             "endlinecolor": "#2a3f5f",
             "gridcolor": "white",
             "linecolor": "white",
             "minorgridcolor": "white",
             "startlinecolor": "#2a3f5f"
            },
            "type": "carpet"
           }
          ],
          "choropleth": [
           {
            "colorbar": {
             "outlinewidth": 0,
             "ticks": ""
            },
            "type": "choropleth"
           }
          ],
          "contour": [
           {
            "colorbar": {
             "outlinewidth": 0,
             "ticks": ""
            },
            "colorscale": [
             [
              0,
              "#0d0887"
             ],
             [
              0.1111111111111111,
              "#46039f"
             ],
             [
              0.2222222222222222,
              "#7201a8"
             ],
             [
              0.3333333333333333,
              "#9c179e"
             ],
             [
              0.4444444444444444,
              "#bd3786"
             ],
             [
              0.5555555555555556,
              "#d8576b"
             ],
             [
              0.6666666666666666,
              "#ed7953"
             ],
             [
              0.7777777777777778,
              "#fb9f3a"
             ],
             [
              0.8888888888888888,
              "#fdca26"
             ],
             [
              1,
              "#f0f921"
             ]
            ],
            "type": "contour"
           }
          ],
          "contourcarpet": [
           {
            "colorbar": {
             "outlinewidth": 0,
             "ticks": ""
            },
            "type": "contourcarpet"
           }
          ],
          "heatmap": [
           {
            "colorbar": {
             "outlinewidth": 0,
             "ticks": ""
            },
            "colorscale": [
             [
              0,
              "#0d0887"
             ],
             [
              0.1111111111111111,
              "#46039f"
             ],
             [
              0.2222222222222222,
              "#7201a8"
             ],
             [
              0.3333333333333333,
              "#9c179e"
             ],
             [
              0.4444444444444444,
              "#bd3786"
             ],
             [
              0.5555555555555556,
              "#d8576b"
             ],
             [
              0.6666666666666666,
              "#ed7953"
             ],
             [
              0.7777777777777778,
              "#fb9f3a"
             ],
             [
              0.8888888888888888,
              "#fdca26"
             ],
             [
              1,
              "#f0f921"
             ]
            ],
            "type": "heatmap"
           }
          ],
          "heatmapgl": [
           {
            "colorbar": {
             "outlinewidth": 0,
             "ticks": ""
            },
            "colorscale": [
             [
              0,
              "#0d0887"
             ],
             [
              0.1111111111111111,
              "#46039f"
             ],
             [
              0.2222222222222222,
              "#7201a8"
             ],
             [
              0.3333333333333333,
              "#9c179e"
             ],
             [
              0.4444444444444444,
              "#bd3786"
             ],
             [
              0.5555555555555556,
              "#d8576b"
             ],
             [
              0.6666666666666666,
              "#ed7953"
             ],
             [
              0.7777777777777778,
              "#fb9f3a"
             ],
             [
              0.8888888888888888,
              "#fdca26"
             ],
             [
              1,
              "#f0f921"
             ]
            ],
            "type": "heatmapgl"
           }
          ],
          "histogram": [
           {
            "marker": {
             "colorbar": {
              "outlinewidth": 0,
              "ticks": ""
             }
            },
            "type": "histogram"
           }
          ],
          "histogram2d": [
           {
            "colorbar": {
             "outlinewidth": 0,
             "ticks": ""
            },
            "colorscale": [
             [
              0,
              "#0d0887"
             ],
             [
              0.1111111111111111,
              "#46039f"
             ],
             [
              0.2222222222222222,
              "#7201a8"
             ],
             [
              0.3333333333333333,
              "#9c179e"
             ],
             [
              0.4444444444444444,
              "#bd3786"
             ],
             [
              0.5555555555555556,
              "#d8576b"
             ],
             [
              0.6666666666666666,
              "#ed7953"
             ],
             [
              0.7777777777777778,
              "#fb9f3a"
             ],
             [
              0.8888888888888888,
              "#fdca26"
             ],
             [
              1,
              "#f0f921"
             ]
            ],
            "type": "histogram2d"
           }
          ],
          "histogram2dcontour": [
           {
            "colorbar": {
             "outlinewidth": 0,
             "ticks": ""
            },
            "colorscale": [
             [
              0,
              "#0d0887"
             ],
             [
              0.1111111111111111,
              "#46039f"
             ],
             [
              0.2222222222222222,
              "#7201a8"
             ],
             [
              0.3333333333333333,
              "#9c179e"
             ],
             [
              0.4444444444444444,
              "#bd3786"
             ],
             [
              0.5555555555555556,
              "#d8576b"
             ],
             [
              0.6666666666666666,
              "#ed7953"
             ],
             [
              0.7777777777777778,
              "#fb9f3a"
             ],
             [
              0.8888888888888888,
              "#fdca26"
             ],
             [
              1,
              "#f0f921"
             ]
            ],
            "type": "histogram2dcontour"
           }
          ],
          "mesh3d": [
           {
            "colorbar": {
             "outlinewidth": 0,
             "ticks": ""
            },
            "type": "mesh3d"
           }
          ],
          "parcoords": [
           {
            "line": {
             "colorbar": {
              "outlinewidth": 0,
              "ticks": ""
             }
            },
            "type": "parcoords"
           }
          ],
          "pie": [
           {
            "automargin": true,
            "type": "pie"
           }
          ],
          "scatter": [
           {
            "marker": {
             "colorbar": {
              "outlinewidth": 0,
              "ticks": ""
             }
            },
            "type": "scatter"
           }
          ],
          "scatter3d": [
           {
            "line": {
             "colorbar": {
              "outlinewidth": 0,
              "ticks": ""
             }
            },
            "marker": {
             "colorbar": {
              "outlinewidth": 0,
              "ticks": ""
             }
            },
            "type": "scatter3d"
           }
          ],
          "scattercarpet": [
           {
            "marker": {
             "colorbar": {
              "outlinewidth": 0,
              "ticks": ""
             }
            },
            "type": "scattercarpet"
           }
          ],
          "scattergeo": [
           {
            "marker": {
             "colorbar": {
              "outlinewidth": 0,
              "ticks": ""
             }
            },
            "type": "scattergeo"
           }
          ],
          "scattergl": [
           {
            "marker": {
             "colorbar": {
              "outlinewidth": 0,
              "ticks": ""
             }
            },
            "type": "scattergl"
           }
          ],
          "scattermapbox": [
           {
            "marker": {
             "colorbar": {
              "outlinewidth": 0,
              "ticks": ""
             }
            },
            "type": "scattermapbox"
           }
          ],
          "scatterpolar": [
           {
            "marker": {
             "colorbar": {
              "outlinewidth": 0,
              "ticks": ""
             }
            },
            "type": "scatterpolar"
           }
          ],
          "scatterpolargl": [
           {
            "marker": {
             "colorbar": {
              "outlinewidth": 0,
              "ticks": ""
             }
            },
            "type": "scatterpolargl"
           }
          ],
          "scatterternary": [
           {
            "marker": {
             "colorbar": {
              "outlinewidth": 0,
              "ticks": ""
             }
            },
            "type": "scatterternary"
           }
          ],
          "surface": [
           {
            "colorbar": {
             "outlinewidth": 0,
             "ticks": ""
            },
            "colorscale": [
             [
              0,
              "#0d0887"
             ],
             [
              0.1111111111111111,
              "#46039f"
             ],
             [
              0.2222222222222222,
              "#7201a8"
             ],
             [
              0.3333333333333333,
              "#9c179e"
             ],
             [
              0.4444444444444444,
              "#bd3786"
             ],
             [
              0.5555555555555556,
              "#d8576b"
             ],
             [
              0.6666666666666666,
              "#ed7953"
             ],
             [
              0.7777777777777778,
              "#fb9f3a"
             ],
             [
              0.8888888888888888,
              "#fdca26"
             ],
             [
              1,
              "#f0f921"
             ]
            ],
            "type": "surface"
           }
          ],
          "table": [
           {
            "cells": {
             "fill": {
              "color": "#EBF0F8"
             },
             "line": {
              "color": "white"
             }
            },
            "header": {
             "fill": {
              "color": "#C8D4E3"
             },
             "line": {
              "color": "white"
             }
            },
            "type": "table"
           }
          ]
         },
         "layout": {
          "annotationdefaults": {
           "arrowcolor": "#2a3f5f",
           "arrowhead": 0,
           "arrowwidth": 1
          },
          "coloraxis": {
           "colorbar": {
            "outlinewidth": 0,
            "ticks": ""
           }
          },
          "colorscale": {
           "diverging": [
            [
             0,
             "#8e0152"
            ],
            [
             0.1,
             "#c51b7d"
            ],
            [
             0.2,
             "#de77ae"
            ],
            [
             0.3,
             "#f1b6da"
            ],
            [
             0.4,
             "#fde0ef"
            ],
            [
             0.5,
             "#f7f7f7"
            ],
            [
             0.6,
             "#e6f5d0"
            ],
            [
             0.7,
             "#b8e186"
            ],
            [
             0.8,
             "#7fbc41"
            ],
            [
             0.9,
             "#4d9221"
            ],
            [
             1,
             "#276419"
            ]
           ],
           "sequential": [
            [
             0,
             "#0d0887"
            ],
            [
             0.1111111111111111,
             "#46039f"
            ],
            [
             0.2222222222222222,
             "#7201a8"
            ],
            [
             0.3333333333333333,
             "#9c179e"
            ],
            [
             0.4444444444444444,
             "#bd3786"
            ],
            [
             0.5555555555555556,
             "#d8576b"
            ],
            [
             0.6666666666666666,
             "#ed7953"
            ],
            [
             0.7777777777777778,
             "#fb9f3a"
            ],
            [
             0.8888888888888888,
             "#fdca26"
            ],
            [
             1,
             "#f0f921"
            ]
           ],
           "sequentialminus": [
            [
             0,
             "#0d0887"
            ],
            [
             0.1111111111111111,
             "#46039f"
            ],
            [
             0.2222222222222222,
             "#7201a8"
            ],
            [
             0.3333333333333333,
             "#9c179e"
            ],
            [
             0.4444444444444444,
             "#bd3786"
            ],
            [
             0.5555555555555556,
             "#d8576b"
            ],
            [
             0.6666666666666666,
             "#ed7953"
            ],
            [
             0.7777777777777778,
             "#fb9f3a"
            ],
            [
             0.8888888888888888,
             "#fdca26"
            ],
            [
             1,
             "#f0f921"
            ]
           ]
          },
          "colorway": [
           "#636efa",
           "#EF553B",
           "#00cc96",
           "#ab63fa",
           "#FFA15A",
           "#19d3f3",
           "#FF6692",
           "#B6E880",
           "#FF97FF",
           "#FECB52"
          ],
          "font": {
           "color": "#040404",
           "family": "Open Sans",
           "size": 15
          },
          "geo": {
           "bgcolor": "white",
           "lakecolor": "white",
           "landcolor": "#E5ECF6",
           "showlakes": true,
           "showland": true,
           "subunitcolor": "white"
          },
          "hoverlabel": {
           "align": "left"
          },
          "hovermode": "closest",
          "mapbox": {
           "style": "light"
          },
          "margin": {
           "b": 0
          },
          "paper_bgcolor": "white",
          "plot_bgcolor": "#E5ECF6",
          "polar": {
           "angularaxis": {
            "gridcolor": "white",
            "linecolor": "white",
            "ticks": ""
           },
           "bgcolor": "#E5ECF6",
           "radialaxis": {
            "gridcolor": "white",
            "linecolor": "white",
            "ticks": ""
           }
          },
          "scene": {
           "xaxis": {
            "backgroundcolor": "#E5ECF6",
            "gridcolor": "white",
            "gridwidth": 2,
            "linecolor": "white",
            "showbackground": true,
            "ticks": "",
            "zerolinecolor": "white"
           },
           "yaxis": {
            "backgroundcolor": "#E5ECF6",
            "gridcolor": "white",
            "gridwidth": 2,
            "linecolor": "white",
            "showbackground": true,
            "ticks": "",
            "zerolinecolor": "white"
           },
           "zaxis": {
            "backgroundcolor": "#E5ECF6",
            "gridcolor": "white",
            "gridwidth": 2,
            "linecolor": "white",
            "showbackground": true,
            "ticks": "",
            "zerolinecolor": "white"
           }
          },
          "shapedefaults": {
           "line": {
            "color": "#2a3f5f"
           }
          },
          "ternary": {
           "aaxis": {
            "gridcolor": "white",
            "linecolor": "white",
            "ticks": ""
           },
           "baxis": {
            "gridcolor": "white",
            "linecolor": "white",
            "ticks": ""
           },
           "bgcolor": "#E5ECF6",
           "caxis": {
            "gridcolor": "white",
            "linecolor": "white",
            "ticks": ""
           }
          },
          "title": {
           "font": {
            "color": "#040404",
            "family": "Open Sans"
           },
           "x": 0.05
          },
          "xaxis": {
           "automargin": true,
           "gridcolor": "white",
           "linecolor": "white",
           "ticks": "",
           "title": {
            "standoff": 15
           },
           "zerolinecolor": "white",
           "zerolinewidth": 2
          },
          "yaxis": {
           "automargin": true,
           "gridcolor": "white",
           "linecolor": "white",
           "ticks": "",
           "title": {
            "standoff": 15
           },
           "zerolinecolor": "white",
           "zerolinewidth": 2
          }
         }
        },
        "title": {
         "text": "Python Projects most frequently used as Dependencies"
        },
        "xaxis": {
         "anchor": "y",
         "domain": [
          0,
          1
         ],
         "title": {
          "text": "Dependents"
         }
        },
        "yaxis": {
         "anchor": "x",
         "domain": [
          0,
          1
         ],
         "title": {}
        }
       }
      }
     },
     "metadata": {},
     "output_type": "display_data"
    }
   ],
   "source": [
    "# KK: can topics be grouped in fewer categories? can DDS be bucketed into categories, e.g. 0.3>=, 0.3<=&<=0.6, 0.6>=? Do we need to show all three variables, projects, DDS and dependents? \n",
    "\n",
    "df_active[\"dependents_count\"] = df_active[\"dependents_repos\"].apply(count_strings)\n",
    "\n",
    "most_dependent_projects = df_active.nlargest(50, \"dependents_count\")\n",
    "\n",
    "# The API gives wrong numbers for this project:\n",
    "most_dependent_projects = most_dependent_projects[most_dependent_projects[\"git_url\"] != \"https://github.com/Open-MSS/MSS.git\"]\n",
    "\n",
    "fig = px.bar(\n",
    "    most_dependent_projects,\n",
    "    x=most_dependent_projects[\"dependents_count\"],\n",
    "    y=most_dependent_projects[\"project_name\"],\n",
    "    orientation=\"h\",\n",
    "    custom_data=[\"oneliner\",\"topic\",\"git_url\"],\n",
    "    color=most_dependent_projects[\"development_distribution_score\"],\n",
    "    color_continuous_scale=color_continuous_scale\n",
    ")\n",
    "\n",
    "fig.update_layout(\n",
    "    height=1200,  # Added parameter\n",
    "    yaxis_title=None,\n",
    "    xaxis_title=\"Dependents\",\n",
    "    title=\"Python Projects most frequently used as Dependencies\",\n",
    "    coloraxis_colorbar=dict(\n",
    "    title=\"DDS\",\n",
    "    ),\n",
    "    hoverlabel=dict(\n",
    "    bgcolor=\"white\"\n",
    ")\n",
    ")\n",
    "\n",
    "\n",
    "fig.update_traces(\n",
    "    hovertemplate=\"<br>\".join([\n",
    "        \"Project Info: <b>%{customdata[0]}</b>\",\n",
    "        \"Topic: <b>%{customdata[1]}</b>\",\n",
    "        \"Git URL: <b>%{customdata[2]}</b>\"\n",
    "    ])\n",
    ")\n",
    "fig.add_layout_image(\n",
    "    dict(\n",
    "        source=\"logo_img\",\n",
    "        xref=\"paper\", yref=\"paper\",\n",
    "        x=1, y=0,\n",
    "        sizex=0.05, sizey=0.05,\n",
    "        xanchor=\"right\", yanchor=\"bottom\"\n",
    "    )\n",
    ")\n",
    "fig['layout']['yaxis']['autorange'] = \"reversed\"\n",
    "fig.show()"
   ]
  },
  {
   "cell_type": "markdown",
   "metadata": {},
   "source": [
    "```{figure} data:image/gif;base64,R0lGODlhAQABAIAAAAAAAP///yH5BAEAAAAALAAAAAABAAEAAAIBRAA7\n",
    ":figclass: caption-hack\n",
    ":name: python-dependencies\n",
    "\n",
    "Python Projects most frequently used as dependencies\n",
    "```"
   ]
  },
  {
   "cell_type": "markdown",
   "metadata": {},
   "source": [
    "### Final use and impact\n",
    "\n",
    "While open source business models, including the commonly used premium model, are unlikely to capture the total value that OSS contributes to society, recent research into the economic contributions of open source can provide a rough indication. A 2021 [study](https://digital-strategy.ec.europa.eu/en/library/study-about-impact-open-source-software-and-hardware-technological-independence-competitiveness-and) on the economic impact of open source software and hardware concluded that open source technologies injected **€65-95 billion** into the European economy. Open source significantly boosted small and mid-size enterprises – Europe's most important horizontal economic stakeholders - reflecting in the increased creation of more than 650 technology startups per year. While it is currently unknown to what extent open source has contributed to environmental sustainability, or what its potential impact is in monetary terms, we anticipate the figure to be several orders of magnitude greater."
   ]
  }
 ],
 "metadata": {
  "celltoolbar": "Tags",
  "kernelspec": {
   "display_name": "Python 3.8.10 64-bit",
   "language": "python",
   "name": "python3"
  },
  "language_info": {
   "codemirror_mode": {
    "name": "ipython",
    "version": 3
   },
   "file_extension": ".py",
   "mimetype": "text/x-python",
   "name": "python",
   "nbconvert_exporter": "python",
   "pygments_lexer": "ipython3",
   "version": "3.8.10"
  },
  "tags": "full-width",
  "vscode": {
   "interpreter": {
    "hash": "e7370f93d1d0cde622a1f8e1c04877d8463912d04d973331ad4851f04de6915a"
   }
  }
 },
 "nbformat": 4,
 "nbformat_minor": 4
}
