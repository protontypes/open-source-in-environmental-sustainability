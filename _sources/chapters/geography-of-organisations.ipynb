{
 "cells": [
  {
   "cell_type": "markdown",
   "metadata": {},
   "source": [
    "# Geography of Organisations\n",
    "\n",
    "Analysis of the geographic distribution of organisations behind OSS in sustainability shows an overwhelming majority (64%) is placed in Europe and North America. 28.7% of the projects are considered global, as no geographical affiliation could be identified. [Economic complexity](https://en.wikipedia.org/wiki/Economic_Complexity_Index) – whereby the more diverse knowledge accumulated in a population, the greater the productive capabilities – may partly explain the distribution of open source communities between continents."
   ]
  },
  {
   "cell_type": "code",
   "execution_count": null,
   "metadata": {
    "tags": [
     "remove-cell"
    ]
   },
   "outputs": [],
   "source": [
    "import dateparser\n",
    "import datetime\n",
    "import handcalcs.render\n",
    "import numpy as np\n",
    "import pandas as pd\n",
    "import plotly.io as pio\n",
    "import plotly.graph_objects as go\n",
    "import plotly.express as px\n",
    "import pycountry\n",
    "from pycountry_convert import (\n",
    "    country_alpha2_to_continent_code,\n",
    "    country_alpha3_to_country_alpha2,\n",
    ")\n",
    "from opensustainTemplate import *"
   ]
  },
  {
   "cell_type": "code",
   "execution_count": null,
   "metadata": {
    "tags": [
     "remove-cell"
    ]
   },
   "outputs": [],
   "source": [
    "df_organizations = pd.read_csv(\"../csv/github_organizations.csv\")"
   ]
  },
  {
   "cell_type": "code",
   "execution_count": null,
   "metadata": {
    "tags": [
     "remove-cell"
    ]
   },
   "outputs": [],
   "source": [
    "# Clean up the dataset\n",
    "def name_to_iso3(x):\n",
    "    \"\"\"Perform a fuzzy search for UK-like strings\n",
    "    Arguments:\n",
    "        x - a string with a country name\n",
    "\n",
    "    Outputs:\n",
    "        A string with ISO3 name standard for the UK\n",
    "\n",
    "    \"\"\"\n",
    "\n",
    "    if x == \"UK\":\n",
    "        x = \"United Kingdom\"\n",
    "    try:\n",
    "        iso3 = pycountry.countries.search_fuzzy(x)[0].alpha_3\n",
    "    except:\n",
    "        iso3 = \"\"\n",
    "    return iso3\n",
    "\n",
    "\n",
    "def alpha3_to_alpha2(x):\n",
    "    \"\"\"Convert country code ISO 3166-1 alpha-3 to country code ISO 3166-1 alpha-2 .\n",
    "    Arguments:\n",
    "        x - a string with a country name following ISO 3166-1 alpha-3 standard\n",
    "\n",
    "    Outputs:\n",
    "        A string with a country name following country code ISO 3166-1 alpha-2\n",
    "\n",
    "    \"\"\"\n",
    "\n",
    "    try:\n",
    "        alpha_2 = country_alpha3_to_country_alpha2(x)\n",
    "    except:\n",
    "        alpha_2 = \"\"\n",
    "    return alpha_2\n",
    "\n",
    "\n",
    "def alpha2_to_continent(x):\n",
    "    \"\"\"Convert country code ISO 3166-1 alpha-2 to continent name\n",
    "    Arguments:\n",
    "        x - a string with a country name following ISO 3166-1 alpha-2 standard\n",
    "\n",
    "    Outputs:\n",
    "        A string with a continent name\n",
    "\n",
    "    \"\"\"\n",
    "\n",
    "    try:\n",
    "        continent = country_alpha2_to_continent_code(x)\n",
    "    except:\n",
    "        continent = \"\"\n",
    "    return continent\n",
    "\n",
    "\n",
    "def upper_string(lower_string):\n",
    "    \"\"\"Apply title format\n",
    "    Arguments:\n",
    "        lower_string - a string\n",
    "    Outputs:\n",
    "        A string with a title format\n",
    "\n",
    "    \"\"\"\n",
    "\n",
    "    return lower_string.title()\n",
    "\n",
    "\n",
    "def calc_age(start_date):\n",
    "    \"\"\"Calculate age in years between now and start_date\n",
    "    Arguments:\n",
    "        start_date - a date\n",
    "    Outputs:\n",
    "        A float with number of years between now and start_date\n",
    "\n",
    "    \"\"\"\n",
    "    return (\n",
    "        datetime.datetime.now()\n",
    "        - dateparser.parse(start_date, settings={\"TIMEZONE\": \"CEST\"})\n",
    "    ).days / 365\n",
    "\n",
    "\n",
    "def count_strings(comma_seperated_string):\n",
    "    \"\"\"Count number of delimiters (commas) in a string\n",
    "    Arguments:\n",
    "        comma_seperated_string - a string containing commas\n",
    "    Outputs:\n",
    "        A number (int) of commas found in comma_seperated_string\n",
    "\n",
    "    \"\"\"\n",
    "\n",
    "    if type(comma_seperated_string) == str:\n",
    "        return comma_seperated_string.count(\",\")\n",
    "    else:\n",
    "        return 0"
   ]
  },
  {
   "cell_type": "code",
   "execution_count": null,
   "metadata": {
    "tags": [
     "hide-input",
     "remove-cell"
    ]
   },
   "outputs": [],
   "source": [
    "df_organizations = pd.read_csv(\"../csv/github_organizations.csv\")\n",
    "df_organizations[\"ISO_3\"] = df_organizations[\"location_country\"].apply(name_to_iso3)\n",
    "df_organizations[\"ISO_3_alpha2\"] = df_organizations[\"ISO_3\"].apply(alpha3_to_alpha2)\n",
    "df_organizations[\"continent\"] = df_organizations[\"ISO_3_alpha2\"].apply(\n",
    "    alpha2_to_continent\n",
    ")"
   ]
  },
  {
   "cell_type": "code",
   "execution_count": null,
   "metadata": {
    "tags": [
     "full-width",
     "remove-input"
    ]
   },
   "outputs": [],
   "source": [
    "continent_his = (\n",
    "    df_organizations[\"continent\"]\n",
    "    .value_counts()\n",
    "    .to_frame()\n",
    "    .rename_axis(\"continent_name\")\n",
    ")\n",
    "continent_his.rename(\n",
    "    index={\n",
    "        \"EU\": \"Europe\",\n",
    "        \"NA\": \"North America\",\n",
    "        \"\": \"Global\",\n",
    "        \"OC\": \"Oceania\",\n",
    "        \"AS\": \"Asia\",\n",
    "        \"SA\": \"South America\",\n",
    "        \"AF\": \"Africa\",\n",
    "    },\n",
    "    inplace=True,\n",
    ")\n",
    "fig = px.pie(\n",
    "    continent_his.reset_index(),\n",
    "    values=\"continent\",\n",
    "    names=\"continent_name\",\n",
    "    color_discrete_sequence=color_discrete_sequence,\n",
    "    hole=0.2,\n",
    ")\n",
    "\n",
    "fig.update_layout(\n",
    "    title=\"Distribution of Organisations between Continents\",\n",
    "    font_size=16,\n",
    "    showlegend=False,\n",
    "    hovermode=False,\n",
    ")\n",
    "fig.update_traces(\n",
    "    textposition=\"outside\",\n",
    "    textinfo=\"label+percent\",\n",
    "    marker=dict(line=dict(color=boarder_color, width=1)),\n",
    ")\n",
    "fig[\"layout\"].update(margin=dict(l=0, r=0, b=0, t=40))\n",
    "\n",
    "fig.show()"
   ]
  },
  {
   "cell_type": "markdown",
   "metadata": {},
   "source": [
    "```{figure} data:image/gif;base64,R0lGODlhAQABAIAAAAAAAP///yH5BAEAAAAALAAAAAABAAEAAAIBRAA7\n",
    ":figclass: caption-hack\n",
    ":name: distribution-of-organisations-between-continents\n",
    "\n",
    "<br/>Distributions of organisations between continents \n",
    "```"
   ]
  },
  {
   "cell_type": "code",
   "execution_count": null,
   "metadata": {
    "tags": [
     "remove-cell"
    ]
   },
   "outputs": [],
   "source": [
    "## https://octoverse.github.com/\n",
    "values = {31.5, 31.2, 27.3, 5.9, 2.3, 1.7}\n",
    "index_labels = [\"Oceania\", \"Africa\", \"South America\", \"Europe\", \"Asia\", \"North America\"]\n",
    "df_users_continent_cotoverse = pd.DataFrame(values, index=index_labels).reset_index()"
   ]
  },
  {
   "cell_type": "markdown",
   "metadata": {},
   "source": [
    "However, if one compares the ratios with open source developer statistics, clear differences in origin become apparent. Here, baseline data from “[The State of the Octoverse](https://octoverse.github.com/)” is used, a study that provides the geographic distribution of millions of active GitHub users."
   ]
  },
  {
   "cell_type": "code",
   "execution_count": null,
   "metadata": {
    "tags": [
     "full-width",
     "remove-input"
    ]
   },
   "outputs": [],
   "source": [
    "# similar pooling to the one in cell 53 could be done here for Africa + Oceania\n",
    "\n",
    "fig = px.pie(\n",
    "    df_users_continent_cotoverse,\n",
    "    values=0,\n",
    "    names=\"index\",\n",
    "    color_discrete_sequence=color_discrete_sequence,\n",
    "    hole=0.2,\n",
    ")\n",
    "\n",
    "fig.update_layout(\n",
    "    title=\"Distribution of all GitHub Users between Continents\",\n",
    "    font_size=16,\n",
    "    showlegend=False,\n",
    "    hovermode=False,\n",
    ")\n",
    "fig.update_traces(\n",
    "    textposition=\"outside\",\n",
    "    textinfo=\"label+percent\",\n",
    "    marker=dict(line=dict(color=boarder_color, width=1)),\n",
    ")\n",
    "fig[\"layout\"].update(margin=dict(l=0, r=0, b=0, t=40))\n",
    "\n",
    "fig.show()"
   ]
  },
  {
   "cell_type": "markdown",
   "metadata": {},
   "source": [
    "```{figure} data:image/gif;base64,R0lGODlhAQABAIAAAAAAAP///yH5BAEAAAAALAAAAAABAAEAAAIBRAA7\n",
    ":figclass: caption-hack\n",
    ":name: distribution-of-all-github-users\n",
    "\n",
    "<br/>Distributions of all GitHub users between continents\n",
    "```"
   ]
  },
  {
   "cell_type": "markdown",
   "metadata": {},
   "source": [
    "**At a national level, the United States, Germany, France, and the United Kingdom stand out**. Despite having more GitHub users than Europe, Asia accounts for only 1.9% of organisations working in OSS for sustainability. Moreover, the absence of Indian communities is notable, with no large organisation or project identified, despite a high number of open source developers present. Similarly, very few organisations or projects originate from China, despite a high number of open source developers and a high volume of scientific publications. While there are likely open source developers from underrepresented regions associated with both foreign organisations and global projects with no geographical affiliation, this deviation requires further investigation."
   ]
  },
  {
   "cell_type": "code",
   "execution_count": null,
   "metadata": {
    "tags": [
     "full-width",
     "remove-input"
    ]
   },
   "outputs": [],
   "source": [
    "df_countries = (\n",
    "    df_organizations[\"ISO_3\"]\n",
    "    .value_counts()\n",
    "    .to_frame()\n",
    "    .rename_axis(\"country\")\n",
    "    .reset_index()\n",
    ")\n",
    "df_countries = df_countries.rename(columns={\"ISO_3\": \"counts\"})\n",
    "\n",
    "fig = px.choropleth(\n",
    "    df_countries,\n",
    "    locations=\"country\",\n",
    "    locationmode=\"ISO-3\",\n",
    "    color=\"counts\",\n",
    "    color_continuous_scale=color_continuous_scale,\n",
    ")\n",
    "\n",
    "fig.update_layout(\n",
    "    title=\"Global Distribution of Organisations\",\n",
    "    coloraxis_colorbar=dict(\n",
    "        title=\"Organisations\",\n",
    "    ),\n",
    "    autosize=True,\n",
    "    dragmode=False,\n",
    ")\n",
    "\n",
    "fig[\"layout\"].update(margin=dict(l=0, r=0, b=0, t=40))\n",
    "\n",
    "fig.show()"
   ]
  },
  {
   "cell_type": "markdown",
   "metadata": {},
   "source": [
    "```{figure} data:image/gif;base64,R0lGODlhAQABAIAAAAAAAP///yH5BAEAAAAALAAAAAABAAEAAAIBRAA7\n",
    ":figclass: caption-hack\n",
    ":name: national-distribution-of-organisations\n",
    "\n",
    "<br/>Global distribution of organisations\n",
    "```"
   ]
  }
 ],
 "metadata": {
  "celltoolbar": "Tags",
  "kernelspec": {
   "display_name": "Python 3",
   "language": "python",
   "name": "python3"
  },
  "language_info": {
   "codemirror_mode": {
    "name": "ipython",
    "version": 3
   },
   "file_extension": ".py",
   "mimetype": "text/x-python",
   "name": "python",
   "nbconvert_exporter": "python",
   "pygments_lexer": "ipython3",
   "version": "3.8.10"
  },
  "tags": "full-width",
  "vscode": {
   "interpreter": {
    "hash": "e7370f93d1d0cde622a1f8e1c04877d8463912d04d973331ad4851f04de6915a"
   }
  }
 },
 "nbformat": 4,
 "nbformat_minor": 4
}
