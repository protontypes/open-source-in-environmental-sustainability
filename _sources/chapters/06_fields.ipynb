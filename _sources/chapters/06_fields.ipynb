{
 "cells": [
  {
   "cell_type": "markdown",
   "metadata": {},
   "source": [
    "# Fields\n",
    "Open source projects are grouped into fields based on their primary [topic](06_topics.md) of focus. While the boundaries often overlap, these fields help to paint a broad landscape and can provide insight into the ecosystem health and complexity of fields relative to each other. The following sunburst diagram shows the relationship between fields, topics, and projects. The colour bar shows the deviation from the median {ref}`dds_chapter`.\n",
    "\n",
    "`````{admonition} Tip\n",
    ":class: tip\n",
    "The plot is fully interactive. Drill into fields, topics, and individual projects with a click of a mouse!\n",
    "`````\n"
   ]
  },
  {
   "cell_type": "code",
   "execution_count": 8,
   "metadata": {
    "tags": [
     "remove-cell"
    ]
   },
   "outputs": [],
   "source": [
    "import numpy as np\n",
    "import pandas as pd\n",
    "import plotly.io as pio\n",
    "import plotly.graph_objects as go\n",
    "import plotly.express as px\n",
    "from opensustain_template import *"
   ]
  },
  {
   "cell_type": "code",
   "execution_count": 9,
   "metadata": {
    "tags": [
     "remove-cell"
    ]
   },
   "outputs": [],
   "source": [
    "df_active = pd.read_csv('../csv/project_analysis.csv')"
   ]
  },
  {
   "cell_type": "code",
   "execution_count": 13,
   "metadata": {
    "tags": [
     "remove-input"
    ]
   },
   "outputs": [
    {
     "data": {
      "application/vnd.plotly.v1+json": {
       "config": {
        "plotlyServerURL": "https://plot.ly"
       },
       "data": [
        {
         "branchvalues": "total",
         "customdata": [
          [
           "Making it easy to query, preview, download and preprocess multiple kinds of satellite datasets via R.",
           "Data Catalogs and Interfaces",
           "https://github.com/16EAGLE/getSpatialData.git",
           0.3344208809135399
          ],
          [
           "Optimizing energy systems using mixed integer linear programming.",
           "Energy Modeling and Optimization",
           "https://github.com/ADGEfficiency/energy-py-linear.git",
           0.2524271844660194
          ],
          [
           "Reinforcement learning for energy systems.",
           "Energy Modeling and Optimization",
           "https://github.com/ADGEfficiency/energy-py.git",
           0
          ],
          [
           "Line-By-Line Radiative Transfer Model is an accurate and efficient line-by-line radiative transfer model derived from the Fast Atmospheric Signature Code.",
           "Radiative Transfer",
           "https://github.com/AER-RC/LBLRTM.git",
           0.368421052631579
          ],
          [
           "An agricultural modeling framework used extensively worldwide.",
           "Agriculture and Nutrition",
           "https://github.com/APSIMInitiative/ApsimX.git",
           0.6563488670371953
          ],
          [
           "Calculate the ET-SCI climate extremes indices.",
           "Climate Data Processing and Access",
           "https://github.com/ARCCSS-extremes/climpact.git",
           0.4381625441696113
          ],
          [
           "Includes a numerical solution for three-dimensional water and heat flow in the soil, coupled surface and subsurface flow, meteorological data interpolation, radiation budget, crop development and crop water uptake.",
           "Water Supply and Quality",
           "https://github.com/ARPA-SIMC/CRITERIA3D.git",
           0.5870445344129555
          ],
          [
           "An R package for routing with GTFS (General Transit Feed Specification) data.",
           "Mobility and Transportation",
           "https://github.com/ATFutures/gtfs-router.git",
           0.0383091149273447
          ],
          [
           "The Open-Bodem-Index-Calculator is a tool that evaluates the soil of agricultural fields based on four main criteria: chemical, physical, biological and management.",
           "Agriculture and Nutrition",
           "https://github.com/AgroCares/Open-Bodem-Index-Calculator.git",
           0.6029526029526029
          ],
          [
           "A Python package for designing and performing research on AguaClara water treatment plants.",
           "Water Supply and Quality",
           "https://github.com/AguaClara/aguaclara.git",
           0.8060522696011004
          ],
          [
           "An Open Source power system simulator to quantify the adequacy or the economic performance of interconnected energy systems, at short or remote time horizons.",
           "Energy Modeling and Optimization",
           "https://github.com/AntaresSimulatorTeam/Antares_Simulator.git",
           0.4298480786416443
          ],
          [
           "A water balance and one-dimensional vertical stratification hydrodynamic model.",
           "Water Supply and Quality",
           "https://github.com/AquaticEcoDynamics/GLM.git",
           0.2928176795580111
          ],
          [
           "A community-driven library of modules and algorithms for simulation of \"aquatic ecodynamics\": water quality, aquatic biogeochemsitry, biotic habitat and aquatic ecosystem dynamics.",
           "Water Supply and Quality",
           "https://github.com/AquaticEcoDynamics/libaed2.git",
           0.4499999999999999
          ],
          [
           "Environmental data for Antarctic and Southern Ocean science.",
           "Hydrosphere",
           "https://github.com/AustralianAntarcticDivision/blueant.git",
           0.02
          ],
          [
           "Used to model hydrodynamic forces in offshore devices like ships, offshore wind platforms and wave energy converters.",
           "Hydro Energy",
           "https://github.com/BEMRosetta/BEMRosetta.git",
           0.012539184952978
          ],
          [
           "The Battery Modelling Toolbox (BattMo) is a resource for continuum modelling of electrochemical devices in MATLAB.",
           "Battery",
           "https://github.com/BattMoTeam/BattMo.git",
           0.1493555724033358
          ],
          [
           "The BIOMASS Product Algorithm Laboratory hosts official tools for processing and analysing ESA's BIOMASS mission data.",
           "Biosphere",
           "https://github.com/BioPAL/BioPAL.git",
           0.3133333333333333
          ],
          [
           "The Biorefinery Simulation and Techno-Economic Analysis Modules.",
           "Bioenergy",
           "https://github.com/BioSTEAMDevelopmentGroup/biosteam.git",
           0.1261437908496732
          ],
          [
           "Python scripts using usual frameworks in Deep Learning for pattern recognition on forest environments.",
           "Biosphere",
           "https://github.com/Bioverse-Labs/deep-learning.git",
           0.0304568527918781
          ],
          [
           "Import GTFS transit data into SQLite and query routes, stops, times, fares and more.",
           "Mobility and Transportation",
           "https://github.com/BlinkTagInc/node-gtfs.git",
           0.12
          ],
          [
           "Aims to reference as much data as possible to help organizations to evaluate the environmental footprint of their information systems, applications and digital services.",
           "Computation and Communication",
           "https://github.com/Boavizta/environmental-footprint-data.git",
           0.39568345323741
          ],
          [
           "Meant to be a simple drop-in method to track energy usage, carbon emissions, and compute utilization of your system.",
           "Computation and Communication",
           "https://github.com/Breakend/experiment-impact-tracker.git",
           0.2567567567567568
          ],
          [
           "A public API for PV modeling parameters.",
           "Photovoltaics and Solar Energy",
           "https://github.com/BreakingBytes/pvfree.git",
           0.0334928229665071
          ],
          [
           "Is part of a Python software ecosystem developed by Breakthrough Energy Sciences to carry out power flow study in the U.S. electrical grid.",
           "Energy Distribution and Grids",
           "https://github.com/Breakthrough-Energy/PowerSimData.git",
           0.5465020576131687
          ],
          [
           "Renewable Energy Integration Simulation Engine.",
           "Energy Modeling and Optimization",
           "https://github.com/Breakthrough-Energy/REISE.jl.git",
           0.3993610223642172
          ],
          [
           "An open-source effort to standardize semantic descriptions of the physical, logical and virtual assets in buildings and the relationships between them.",
           "Buildings and Heating",
           "https://github.com/BrickSchema/Brick.git",
           0.5463917525773196
          ],
          [
           "A software for ingesting, operating on and visualizing all ESA Climate Change Initiative data.",
           "Climate Data Processing and Access",
           "https://github.com/CCI-Tools/cate.git",
           0.5007675775253301
          ],
          [
           "Framework for Optimization and Quantification of Uncertainty and Surrogates.",
           "Carbon Capture and Removal",
           "https://github.com/CCSI-Toolset/FOQUS.git",
           0.8
          ],
          [
           "Create emissions inputs for multiple air quality modeling systems with unmatched speed and flexibility.",
           "Air Quality",
           "https://github.com/CEMPD/SMOKE.git",
           0.288135593220339
          ],
          [
           "A computationally efficient model for simulating the growth, melting, and movement of polar sea ice.",
           "Cryosphere",
           "https://github.com/CICE-Consortium/CICE.git",
           0.620414673046252
          ],
          [
           "Finite element modeling of glaciers and ice sheets.",
           "Cryosphere",
           "https://github.com/CICE-Consortium/Icepack.git",
           0.6309794988610478
          ],
          [
           "Stands for CLIMate ADAptation and is a probabilistic natural catastrophe impact model, that also calculates averted damage (benefit) thanks to adaptation measures of any kind (from grey to green infrastructure, behavioural, etc.).",
           "Earth and Climate Modeling",
           "https://github.com/CLIMADA-project/climada_python.git",
           0.6562810739144846
          ],
          [
           "RaMa-Scene fork, CircuMat focuses on NUTS2 level classification as opposed to Rama-Scene country level analysis tool.",
           "Circular Economy and Waste",
           "https://github.com/CMLPlatform/CircuMAT.git",
           0
          ],
          [
           "Model Circular Economy policy and technological interventions in Environmentally Extended Input-Output Analysis.",
           "Circular Economy and Waste",
           "https://github.com/CMLPlatform/pycirk.git",
           0
          ],
          [
           "RaMa-Scene a web-platform to analyse Environmentally Extended Input-Output data and generate scenarios.",
           "Circular Economy and Waste",
           "https://github.com/CMLPlatform/ramascene.git",
           0.4053156146179402
          ],
          [
           "Deep learning models and dataset for recognizing industrial smoke emissions.",
           "Emission Observation and Modeling",
           "https://github.com/CMU-CREATE-Lab/deep-smoke-machine.git",
           0.1307847082494969
          ],
          [
           "R functions and datasets related to the mapping of text to the United Nations 17 Sustainable Development Goals.",
           "Sustainable Development Goals",
           "https://github.com/CMUSustainability/SDGmapR.git",
           0.0999999999999999
          ],
          [
           "An atmospheric correction and cloud screening software.",
           "Atmosphere",
           "https://github.com/CNES/MAJA.git",
           0.1136363636363636
          ],
          [
           "Ocean and sea-ice model analysis tools and examples.",
           "Hydrosphere",
           "https://github.com/COSIMA/cosima-cookbook.git",
           0.7033639143730888
          ],
          [
           "This is a collection of R functions used by the Canadian Association Society for Hydrological Sciences.",
           "Water Supply and Quality",
           "https://github.com/CSHS-CWRA/CSHShydRology.git",
           0.3099630996309963
          ],
          [
           "Thermodynamics, phase equilibrium, transport properties and chemical database component of Chemical Engineering Design Library.",
           "Geothermal Energy",
           "https://github.com/CalebBell/thermo.git",
           0.0326397388820889
          ],
          [
           "Offers an end-to-end solution for farmers looking to optimize their water usage; especially during times of drought.",
           "Water Supply and Quality",
           "https://github.com/Call-for-Code/Liquid-Prep.git",
           0
          ],
          [
           "The most complete authoritative list of the world's species, maintained by hundreds of global taxonomists.",
           "Biosphere",
           "https://github.com/CatalogueOfLife/general.git",
           0.3559322033898305
          ],
          [
           "A web-based application built to support the need of architects and engineers interested in climate-adapted design.",
           "Buildings and Heating",
           "https://github.com/CenterForTheBuiltEnvironment/clima.git",
           0.3950850661625709
          ],
          [
           "A web interface for comfort model calculations and visualizations according to ASHRAE Standard-55, EN Standard 16798 and ISO Standard 7730.",
           "Buildings and Heating",
           "https://github.com/CenterForTheBuiltEnvironment/comfort_tool.git",
           0.1939546599496221
          ],
          [
           "Package to calculate several thermal comfort indices (e.g. PMV, PPD, SET, adaptive) and convert physical variables.",
           "Buildings and Heating",
           "https://github.com/CenterForTheBuiltEnvironment/pythermalcomfort.git",
           0.0585241730279898
          ],
          [
           "Simulation model for radiative transfer, photosynthesis and energy fluxes in vegetation and soil.",
           "Soil and Land",
           "https://github.com/Christiaanvandertol/SCOPE.git",
           0.5531914893617021
          ],
          [
           "Climate Machine: an Earth System Model that automatically learns from data.",
           "Earth and Climate Modeling",
           "https://github.com/CliMA/ClimateMachine.jl.git",
           0.7579175704989154
          ],
          [
           "Generating a library of ocean turbulence large eddy simulation data to train ocean and climate models.",
           "Hydrosphere",
           "https://github.com/CliMA/LESbrary.jl.git",
           0.3411016949152542
          ],
          [
           "Everything within the Land model (Soil Plant Atmosphere Module, Land Hydrology, etc).",
           "Earth and Climate Modeling",
           "https://github.com/CliMA/Land.git",
           0.1157222665602554
          ],
          [
           "Fast and friendly fluid dynamics on CPUs and GPUs.",
           "Hydrosphere",
           "https://github.com/CliMA/Oceananigans.jl.git",
           0.6231042271700549
          ],
          [
           "A Julia implementation of Rapid and accurate Radiative Transfer Model for General Circulation Models.",
           "Atmosphere",
           "https://github.com/CliMA/RRTMGP.jl.git",
           0.2375886524822694
          ],
          [
           "A Toolkit for building Earth system models in Python.",
           "Earth and Climate Modeling",
           "https://github.com/CliMT/climt.git",
           0.2631578947368421
          ],
          [
           "A Julia implementation of MARGO, an idealized framework for optimization of climate change control strategies.",
           "Earth and Climate Modeling",
           "https://github.com/ClimateMARGO/ClimateMARGO.jl.git",
           0.089108910891089
          ],
          [
           "Explore how your values and personal interests are being affected by climate change and shows you attractive solutions exist that you may not be aware of.",
           "Knowledge Platforms",
           "https://github.com/ClimateMind/climatemind-backend.git",
           0.7497612225405922
          ],
          [
           "Offers open data, visualizations and analysis to help policymakers, researchers and other stakeholders gather insights on countries' climate progress.",
           "Knowledge Platforms",
           "https://github.com/ClimateWatch-Vizzuality/climate-watch.git",
           0.621670592498641
          ],
          [
           "Models the dynamics of a 2-layer quasi-geostrophic channel atmosphere on a beta-plane, coupled to a simple land or shallow-water ocean component.",
           "Hydrosphere",
           "https://github.com/Climdyn/qgs.git",
           0.0677966101694915
          ],
          [
           "Travel carbon footprint of the European Geosciences Union General Assembly 2019.",
           "Carbon Intensity and Accounting",
           "https://github.com/ConferenceCarbonTracker/CarbonFootprintEGU.git",
           0.0158730158730159
          ],
          [
           "An interactive analytical tool for building understanding of the extent and severity of some of the key stressors and shocks that are affecting rural livelihoods, production systems, and ecosystems in the Sahel, Horn of Africa and South and Southeast Asia.",
           "Agriculture and Nutrition",
           "https://github.com/ConservationInternational/resilienceatlas.git",
           0.4267886855241264
          ],
          [
           "A QGIS plugin that supports monitoring of land change, including changes in productivity, land cover, and soil organic carbon.",
           "Soil and Land",
           "https://github.com/ConservationInternational/trends.earth.git",
           0.1544528425895498
          ],
          [
           "eBird Data Extraction and Processing in R.",
           "Biosphere",
           "https://github.com/CornellLabofOrnithology/auk.git",
           0.010752688172043
          ],
          [
           "Critical Asset Management and Disaster Resilience for Islands, Cities, and Communities.",
           "Natural Hazard and Poverty",
           "https://github.com/CriticalAssetManagement/CAMS.git",
           0.6923076923076923
          ],
          [
           "A Data Visualization tool that enables users to discover and view 3D ocean model output quickly and easily.",
           "Hydrosphere",
           "https://github.com/DFO-Ocean-Navigator/Ocean-Data-Map-Project.git",
           0.6255355612682091
          ],
          [
           "Accelerate the attainment of the sustainable development goals in low- and middle-income countries by facilitating the discovery, development, use of, and investment in digital public goods.",
           "Knowledge Platforms",
           "https://github.com/DPGAlliance/publicgoods-candidates.git",
           0.4561806352851129
          ],
          [
           "Deep learning for deforestation classification and forecasting in satellite imagery.",
           "Biosphere",
           "https://github.com/DS3Lab/forest-prediction.git",
           0.108695652173913
          ],
          [
           "Has been used for many applications ranging from on-farm and precision management to regional assessments of the impact of climate variability and climate change.",
           "Agriculture and Nutrition",
           "https://github.com/DSSAT/dssat-csm-os.git",
           0.527007299270073
          ],
          [
           "A Julia package that provides a hydrological modeling framework, as well as several different vertical and lateral concepts that can be used to run hydrological simulations.",
           "Hydrosphere",
           "https://github.com/Deltares/Wflow.jl.git",
           0.545343137254902
          ],
          [
           "A set of tools for processing of spatial and temporal disaggregations of demands of electricity, heat and natural gas.",
           "Datasets on Energy Systems",
           "https://github.com/DemandRegioTeam/disaggregator.git",
           0.0186915887850467
          ],
          [
           "Analysis and decision support framework for local multi-energy hubs focusing on demand response.",
           "Energy Modeling and Optimization",
           "https://github.com/DrafProject/draf.git",
           0
          ],
          [
           "Dynamic electricity carbon emission factors and prices for Europe.",
           "Carbon Intensity and Accounting",
           "https://github.com/DrafProject/elmada.git",
           0
          ],
          [
           "An ecosystem water balance simulation model.",
           "Hydrosphere",
           "https://github.com/DrylandEcology/SOILWAT2.git",
           0.3635448136958711
          ],
          [
           "A state-of-the-art fully coupled model of the Earth's climate including important biogeochemical and cryospheric processes.",
           "Earth and Climate Modeling",
           "https://github.com/E3SM-Project/E3SM.git",
           0.8774051285699043
          ],
          [
           "Diagnostics package constructed for supporting the diagnostics task of DOE's Energy Exascale Earth System Model (E3SM) project.",
           "Earth and Climate Modeling",
           "https://github.com/E3SM-Project/e3sm_diags.git",
           0.484922575387123
          ],
          [
           "Tool for evaluating atmospheric carbon dioxide concentrations as simulated by Earth system models.",
           "Earth and Climate Modeling",
           "https://github.com/E3SM-Project/gdess.git",
           0.0014409221902017
          ],
          [
           "A global atmosphere model targeted towards 3 km (\"cloud resolving\") resolution.",
           "Atmosphere",
           "https://github.com/E3SM-Project/scream.git",
           0.8919941420551623
          ],
          [
           "An integrated forecasting and data assimilation system developed by the Atmospheric Numerical Prediction Research Section, Meteorological Research Division, of Environment and Climate Change Canada.",
           "Earth and Climate Modeling",
           "https://github.com/ECCC-ASTD-MRD/gem.git",
           0.3041237113402062
          ],
          [
           "Contains several tutorials for using the ECCO Central Production Version 4 ocean and sea-ice state estimate.",
           "Cryosphere",
           "https://github.com/ECCO-GROUP/ECCO-v4-Python-Tutorial.git",
           0.1142857142857143
          ],
          [
           "A Python package for working with electro-chemical impedance data.",
           "Battery",
           "https://github.com/ECSHackWeek/impedance.py.git",
           0.5190156599552573
          ],
          [
           "GOPEM is a graphical user interface of OPEM.",
           "Hydrogen",
           "https://github.com/ECSIM/gopem.git",
           0.3521739130434782
          ],
          [
           "A modeling tool for evaluating the performance of proton exchange membrane fuel cells.",
           "Hydrogen",
           "https://github.com/ECSIM/opem.git",
           0.109628217349857
          ],
          [
           "Proton Exchange Membrane Fuel Cell Dataset.",
           "Hydrogen",
           "https://github.com/ECSIM/pem-dataset1.git",
           0.4311111111111111
          ],
          [
           "EDF's Modelica library for buildings, districts and energy systems modeling.",
           "Buildings and Heating",
           "https://github.com/EDF-Lab/BuildSysPro.git",
           0.6585365853658536
          ],
          [
           "Composed of separate models simultaneously simulating the Earth's atmosphere, ocean, land, river run-off, land-ice, and sea-ice, plus one central coupler/moderator component, it allows researchers to conduct fundamental research into the Earth's past, present, and future climate states.",
           "Earth and Climate Modeling",
           "https://github.com/ESCOMP/CESM.git",
           0.5598086124401913
          ],
          [
           "The Community Mediator for Earth Prediction Systems (CMEPS) is a NUOPC-compliant Mediator component used for coupling Earth system model component.",
           "Earth and Climate Modeling",
           "https://github.com/ESCOMP/CMEPS.git",
           0.5304937076476283
          ],
          [
           " A Python package designed for interacting with the Earth System Grid Federation system.",
           "Data Catalogs and Interfaces",
           "https://github.com/ESGF/esgf-pyclient.git",
           0.5258964143426295
          ],
          [
           "Pythonic user-centered front-end to the Global Lake Level Database.",
           "Hydrosphere",
           "https://github.com/ESIPFed/LakePy.git",
           0.3043478260869565
          ],
          [
           "Official repository for Semantic Web for Earth and Environmental Terminology Ontologies.",
           "Knowledge Platforms",
           "https://github.com/ESIPFed/sweet.git",
           0.6147540983606558
          ],
          [
           "A collection of tools to process input and output files from the Regional Ocean Modeling System.",
           "Hydrosphere",
           "https://github.com/ESMG/pyroms.git",
           0.2195121951219512
          ],
          [
           "A community diagnostic and performance metrics tool for routine evaluation of Earth system models in World Climate Research Programme.",
           "Earth and Climate Modeling",
           "https://github.com/ESMValGroup/ESMValTool.git",
           0.8355420090113967
          ],
          [
           "Allows you to monitor your electric vehicle and let you notify when the specified preset state of charge has been achieved.",
           "Mobility and Transportation",
           "https://github.com/EVNotify/EVNotify.git",
           0.1394611727416799
          ],
          [
           "An open source software stack for EV charging infrastructure.",
           "Mobility and Transportation",
           "https://github.com/EVerest/EVerest.git",
           0.6075949367088608
          ],
          [
           "An R package for modeling sediment archived climate proxy records.",
           "Earth and Climate Modeling",
           "https://github.com/EarthSystemDiagnostics/sedproxy.git",
           0.0030864197530864
          ],
          [
           "Provides intelligent planting suggestions which maximize positive crop interaction for the mutual benefit of all your crops.",
           "Agriculture and Nutrition",
           "https://github.com/Ecohackerfarm/powerplant.git",
           0.5733333333333333
          ],
          [
           "A standard vocabulary for the ecological community, a need expressed repeatedly over the past few years at workshops focused on ecological, environmental, and population-based semantics.",
           "Biosphere",
           "https://github.com/EcologicalSemantics/ecocore.git",
           0.3225806451612903
          ],
          [
           "An open source simulation model for Heat Pump Water Heaters (HPWH).",
           "Buildings and Heating",
           "https://github.com/EcotopeResearch/HPWHsim.git",
           0.5152091254752852
          ],
          [
           "An online tool for forest management scenario planning.",
           "Biosphere",
           "https://github.com/Ecotrust/forestplanner.git",
           0.555431131019037
          ],
          [
           "Provide alternatives to common chill models used in horticulture to compute chill metrics in deciduous fruit tree orchards as well as functions to handle weather data.",
           "Agriculture and Nutrition",
           "https://github.com/EduardoFernandezC/dormancyR.git",
           0.032051282051282
          ],
          [
           "Energy Arbitrage Optimization With Battery Storage.",
           "Battery",
           "https://github.com/ElektrikAkar/3d_milp.git",
           0
          ],
          [
           "A Python client for the ENTSO-E API (European Network of Transmission System Operators for Electricity).",
           "Datasets on Energy Systems",
           "https://github.com/EnergieID/entsoe-py.git",
           0.6069651741293532
          ],
          [
           "An open source application that is designed to help schools improve their energy efficiency.",
           "Energy Monitoring and Control",
           "https://github.com/Energy-Sparks/energy-sparks.git",
           0.6436013061732235
          ],
          [
           "The open-source United States Energy Policy Simulator estimates environmental and economic impacts of hundreds of climate and energy policies.",
           "Energy Modeling and Optimization",
           "https://github.com/EnergyInnovation/eps-us.git",
           0.4836065573770491
          ],
          [
           "A modelling language created for the components in an energy system and their relations towards each other.",
           "Energy Modeling and Optimization",
           "https://github.com/EnergyTransition/ESDL.git",
           0.5061728395061729
          ],
          [
           "This Arduino library gives environmental sensors a common interface of functions for use with Arduino-compatible dataloggers.",
           "Knowledge Platforms",
           "https://github.com/EnviroDIY/ModularSensors.git",
           0.0911627906976744
          ],
          [
           "A community-driven ontology for the representation of environments.",
           "Knowledge Platforms",
           "https://github.com/EnvironmentOntology/envo.git",
           0.5428740390301596
          ],
          [
           "A massively parallel, block-structured adaptive-mesh, incompressible flow solver for wind turbine and wind farm simulations.",
           "Wind Energy",
           "https://github.com/Exawind/amr-wind.git",
           0.7642466822794691
          ],
          [
           "Solver for wind farm simulations targeting exascale computational platforms.",
           "Wind Energy",
           "https://github.com/Exawind/nalu-wind.git",
           0.7882816346627277
          ],
          [
           "A framework for the idealized modeling of the global circulation of planetary atmospheres at varying levels of complexity and realism.",
           "Atmosphere",
           "https://github.com/ExeClim/Isca.git",
           0.5356868764389869
          ],
          [
           "Flexible, scalable, robust, and near-real time iterative ecological forecasts in lakes and reservoirs.",
           "Hydrosphere",
           "https://github.com/FLARE-forecast/FLAREr.git",
           0.451530612244898
          ],
          [
           "Provides a framework for modeling, optimizing and assessing energy systems.",
           "Energy Modeling and Optimization",
           "https://github.com/FZJ-IEK3-VSA/FINE.git",
           0.7283950617283951
          ],
          [
           "Simulation and analysis of household scenarios using modern components as alternative to fossil fuel based ones.",
           "Buildings and Heating",
           "https://github.com/FZJ-IEK3-VSA/HiSim.git",
           0.6214689265536724
          ],
          [
           "A program for generating load curves for residential consumers. Agent-based and extremely detailed.",
           "Buildings and Heating",
           "https://github.com/FZJ-IEK3-VSA/LoadProfileGenerator.git",
           0.5588235294117647
          ],
          [
           "A Python package which uses different machine learning algorithms for the aggregation of time series.",
           "Energy Modeling and Optimization",
           "https://github.com/FZJ-IEK3-VSA/tsam.git",
           0.5441860465116279
          ],
          [
           "Humanity's open-source CNC farming machine.",
           "Agriculture and Nutrition",
           "https://github.com/FarmBot/Farmbot-Web-App.git",
           0.2469677419354838
          ],
          [
           "A platform for building energy flexibility services with forecasting and scheduling, written in Python & offering a USEF-conform API.",
           "Energy Monitoring and Control",
           "https://github.com/FlexMeasures/flexmeasures.git",
           0.4994475138121547
          ],
          [
           "Extracts, filters and categorizes the geo-referenced urban energy infrastructure and allocates the required decentralized storage in urban settings.",
           "Energy Modeling and Optimization",
           "https://github.com/FlexiGIS/FlexiGIS.git",
           0.1639344262295081
          ],
          [
           " A Python wrapper for the NOAA CO-OPS Tides & Currents Data and Metadata APIs.",
           "Hydrosphere",
           "https://github.com/GClunies/noaa_coops.git",
           0.1122448979591836
          ],
          [
           "A simulation framework for modeling coupled flow, transport, and geomechanics in the subsurface.",
           "Carbon Capture and Removal",
           "https://github.com/GEOSX/GEOSX.git",
           0.5811590222466355
          ],
          [
           "Greenland liquid water runoff from 1958 through 2019.",
           "Cryosphere",
           "https://github.com/GEUS-Glaciology-and-Climate/freshwater.git",
           0
          ],
          [
           "A free and open source QGIS plug-in to help researchers and practitioners with their Advanced Research Weather Research and Forecasting modeling workflows.",
           "Earth and Climate Modeling",
           "https://github.com/GIS4WRF/gis4wrf.git",
           0.3841463414634146
          ],
          [
           "Today the core uses are in the energy domain, where there is extensive and growing support for a wide-range of electric power system, natural gas, communications and control-schemes, transportation, buildings, and related domain tools.",
           "Energy Modeling and Optimization",
           "https://github.com/GMLC-TDC/HELICS.git",
           0.5661462612982744
          ],
          [
           "U.S. National Reporting Platform for the Sustainable Development Goals.",
           "Sustainable Development Goals",
           "https://github.com/GSA/sdg-indicators-usa.git",
           0.8189884649511978
          ],
          [
           "A highly-configurable, open source electricity resource capacity expansion model that incorporates several state-of-the-art practices in electricity system planning to offer improved decision support for a changing electricity landscape.",
           "Energy Modeling and Optimization",
           "https://github.com/GenXProject/GenX.git",
           0.6415094339622642
          ],
          [
           "Contains sustainability characteristics of Google Cloud regions in a machine readable format.",
           "Computation and Communication",
           "https://github.com/GoogleCloudPlatform/region-carbon-info.git",
           0.1428571428571429
          ],
          [
           "Provides a CFD model for the flow calculation around buildings or micrsocale terrain structures.",
           "Atmosphere",
           "https://github.com/GralDispersionModel/GRAL.git",
           0.0129870129870129
          ],
          [
           "Automated filling of detail in reported emission scenarios.",
           "Carbon Intensity and Accounting",
           "https://github.com/GranthamImperial/silicone.git",
           0.36
          ],
          [
           "A specification that describes how to calculate a carbon intensity for software applications.",
           "Computation and Communication",
           "https://github.com/Green-Software-Foundation/software_carbon_intensity.git",
           0.6666666666666667
          ],
          [
           "An open source and free software for Sustainability and Life Cycle Assessment.",
           "Life Cycle Assessment",
           "https://github.com/GreenDelta/olca-app.git",
           0.307007786429366
          ],
          [
           "Explains the usage of the openLCA API from Python.",
           "Life Cycle Assessment",
           "https://github.com/GreenDelta/openlca-python-tutorial.git",
           0.1886792452830188
          ],
          [
           "Coordinates the digital capture of tree growth data in the field, allowing to establish employment for people living in extreme poverty based on tree planting.",
           "Biosphere",
           "https://github.com/Greenstand/treetracker-android.git",
           0.6093502377179081
          ],
          [
           "This set of tools has been developed for systematizing biodiversity data review in order to evaluate whether a set of species observation are fit-for-use and help take decisions upon its use on further analysis.",
           "Biosphere",
           "https://github.com/GreenswayAB/BIRDS.git",
           0.2919254658385093
          ],
          [
           "Reliability Test System of the Grid Modernization Lab Consortium.",
           "Energy Distribution and Grids",
           "https://github.com/GridMod/RTS-GMLC.git",
           0.5948051948051948
          ],
          [
           "Open source and open data platform that can predict when your plantings will be ready to harvest.",
           "Agriculture and Nutrition",
           "https://github.com/Growstuff/growstuff.git",
           0.4441517386722866
          ],
          [
           "An open source Python server to deploy energy management solutions for buildings.",
           "Buildings and Heating",
           "https://github.com/HIT2GAP-EU-PROJECT/bemserver.git",
           0.5
          ],
          [
           "The project aims to build a platform for gathering, visualization and sharing of environmental data.",
           "Air Quality",
           "https://github.com/HabitatMap/AirCasting.git",
           0.6867052023121387
          ],
          [
           "The open source mapping and planning tool for heating and cooling.",
           "Buildings and Heating",
           "https://github.com/HotMaps/Hotmaps-toolbox-service.git",
           0.61328125
          ],
          [
           "A Python package for data-wrangling, analysis and visualization of integrated-assessment scenarios and energy systems modeling results.",
           "Integrated Assessment",
           "https://github.com/IAMconsortium/pyam.git",
           0.374113475177305
          ],
          [
           "Reinforcement Learning Testbed for Power Consumption Optimization using EnergyPlus.",
           "Energy Modeling and Optimization",
           "https://github.com/IBM/rl-testbed-for-energyplus.git",
           0.2341772151898734
          ],
          [
           "Produces standardised data on greenhouse gas concentrations in the atmosphere, as well as on carbon fluxes between the atmosphere, the earth and oceans.",
           "Emission Observation and Modeling",
           "https://github.com/ICOS-Carbon-Portal/pylib.git",
           0.3461538461538461
          ],
          [
           "Aims to provide multi-scale, simulation-based, open source computational tools and models to support the design, analysis, optimization, scale-up, operation and troubleshooting of innovative, advanced energy systems.",
           "Energy Modeling and Optimization",
           "https://github.com/IDAES/idaes-pse.git",
           0.7442307692307693
          ],
          [
           "This standard data model and associated tools are intended as universal building blocks for Wind Energy Resource Assessment applications.",
           "Wind Energy",
           "https://github.com/IEA-Task-43/digital_wra_data_standard.git",
           0.4774011299435028
          ],
          [
           "A 15 MW reference wind turbine repository developed in conjunction with IEA Wind.",
           "Wind Energy",
           "https://github.com/IEAWindTask37/IEA-15-240-RWT.git",
           0.5183246073298429
          ],
          [
           "Determines the investment plans of new facilities (generators, ESS and lines) for supplying the forecasted demand at minimum cost.",
           "Energy Modeling and Optimization",
           "https://github.com/IIT-EnergySystemModels/openTEPES.git",
           0.4577464788732394
          ],
          [
           "Code and data for all figures from Chapter 9 of the IPCC AR6.",
           "Climate Data Processing and Access",
           "https://github.com/IPCC-WG1/Chapter-9.git",
           0.2280701754385965
          ],
          [
           "Global Spatial predictions of soil properties and classes at 250 m resolution.",
           "Soil and Land",
           "https://github.com/ISRICWorldSoil/SoilGrids250m.git",
           0.6551724137931034
          ],
          [
           "The goal is to increase the accessibility and reproducibility of the data produced by the Propensity to Cycle Tool (PCT).",
           "Mobility and Transportation",
           "https://github.com/ITSLeeds/pct.git",
           0.2393509127789046
          ],
          [
           "Simulation of High Aspect Ratio aeroplanes and wind turbines in Python.",
           "Wind Energy",
           "https://github.com/ImperialCollegeLondon/sharpy.git",
           0.6654424040066778
          ],
          [
           "Improve the use of radiocarbon as a constraint for understanding the soil carbon cycle.",
           "Soil and Land",
           "https://github.com/International-Soil-Radiocarbon-Database/ISRaD.git",
           0.5872133425990271
          ],
          [
           "Quantitative Structure Models of Single Trees from Laser Scanner Data.",
           "Biosphere",
           "https://github.com/InverseTampere/TreeQSM.git",
           0.03125
          ],
          [
           "Produces consistent estimates of global air emissions species over the industrial era (1750 - present).",
           "Emission Observation and Modeling",
           "https://github.com/JGCRI/CEDS.git",
           0.6544401544401545
          ],
          [
           "A dynamic-recursive model with technology-rich representations of the economy, energy sector, land use and water linked to a climate model that can be used to explore climate change mitigation policies including carbon taxes, carbon trading, regulations and accelerated deployment of energy technology.",
           "Integrated Assessment",
           "https://github.com/JGCRI/gcam-core.git",
           0.805531167690957
          ],
          [
           "An open source, object-oriented, simple global climate carbon-cycle model.",
           "Earth and Climate Modeling",
           "https://github.com/JGCRI/hector.git",
           0.7503121098626717
          ],
          [
           "Estimation of a consistent range of adverse health and agricultural effects attributable to air pollution for a GCAM scenario.",
           "Air Quality",
           "https://github.com/JGCRI/rfasst.git",
           0.0353982300884956
          ],
          [
           "CO2MPAS is backward-looking longitudinal-dynamics CO2 and fuel-consumption simulator for light-duty vehicles.",
           "Mobility and Transportation",
           "https://github.com/JRCSTU/CO2MPAS-TA.git",
           0.4924551386623165
          ],
          [
           "Antarctic large iceberg positions derived from ASCAT and OSCAT-2.",
           "Cryosphere",
           "https://github.com/Joel-hanson/Iceberg-locations.git",
           0
          ],
          [
           "A multilingual progressive web app, which scans the EAN or UPC codes of over 3.000.000 food- or non-food-products and simply tells you if it they're vegan or not.",
           "Agriculture and Nutrition",
           "https://github.com/JokeNetwork/vegancheck.me.git",
           0.1168831168831169
          ],
          [
           "A Julia package offering basic functionality for analyzing data that are typically in the form used by climate sciences.",
           "Earth and Climate Modeling",
           "https://github.com/JuliaClimate/ClimateBase.jl.git",
           0.183673469387755
          ],
          [
           "A collection of commonly-used tools in climate science. Basics of climate field analysis are covered, with some forays into exploratory techniques associated with climate scenarios design.",
           "Earth and Climate Modeling",
           "https://github.com/JuliaClimate/ClimateTools.jl.git",
           0.0352733686067019
          ],
          [
           "Julia interface for Reading from the Earth System Datacube.",
           "Data Catalogs and Interfaces",
           "https://github.com/JuliaDataCubes/EarthDataLab.jl.git",
           0.1301115241635687
          ],
          [
           "Provides all the tools you need to create a dynamic power grid model and analyze it.",
           "Energy Distribution and Grids",
           "https://github.com/JuliaEnergy/PowerDynamics.jl.git",
           0.7277936962750716
          ],
          [
           "A Julia package that provides ocean biogeochemistry modelers with an easy-to-use interface for creating and running models of the ocean system.",
           "Hydrosphere",
           "https://github.com/JuliaOcean/AIBECS.jl.git",
           0.0481586402266288
          ],
          [
           "This package simulates the behaviors of an ensemble of phytoplankton individuals.",
           "Biosphere",
           "https://github.com/JuliaOcean/PlanktonIndividuals.jl.git",
           0.069129916567342
          ],
          [
           "Provides information on national and regional carbon intensity, the amount of carbon emitted per unit of energy consumed, for the UK.",
           "Carbon Intensity and Accounting",
           "https://github.com/KKulma/intensegRid.git",
           0
          ],
          [
           "The Toolkit for Extreme Climate Analysis, contains a collection of climate anlysis algorithms targetted at extreme event detection and analysis.",
           "Earth and Climate Modeling",
           "https://github.com/LBL-EESA/TECA.git",
           0.0767356881851401
          ],
          [
           "Solar water heating system modeling and simulation for individual and community scale projects.",
           "Buildings and Heating",
           "https://github.com/LBNL-ETA/MSWH.git",
           0.1082251082251082
          ],
          [
           "The Framework for Modeling Behavior, Energy, Autonomy, and Mobility in Transportation Systems.",
           "Mobility and Transportation",
           "https://github.com/LBNL-UCB-STI/beam.git",
           0.8218543046357616
          ],
          [
           "The Dynamic Integrated model of Climate and the Economy model family are a popular and capable type of simple Integrated Assessment Model of climate change economics pioneered by William Nordhaus.",
           "Integrated Assessment",
           "https://github.com/Libbum/DICE.jl.git",
           0.0335570469798657
          ],
          [
           "Firmware for LibreSolar BMS boards based on bq769x0 or ISL94202.",
           "Photovoltaics and Solar Energy",
           "https://github.com/LibreSolar/bms-firmware.git",
           0.0199203187250995
          ],
          [
           "Firmware for LibreSolar MPPT/PWM charge controllers.",
           "Photovoltaics and Solar Energy",
           "https://github.com/LibreSolar/charge-controller-firmware.git",
           0.1094736842105262
          ],
          [
           "The global fossil fuel supply chain, mapped at the asset-level.",
           "Energy Modeling and Optimization",
           "https://github.com/Lkruitwagen/global-fossil-fuel-supply-chain.git",
           0.0329670329670329
          ],
          [
           "Used to produce a global inventory of utility-scale solar photvoltaic generating station.",
           "Photovoltaics and Solar Energy",
           "https://github.com/Lkruitwagen/solar-pv-global-inventory.git",
           0.031578947368421
          ],
          [
           "Discover and use biomass relevant data, integrating the data for comparison, analysis, evaluation, and generation.",
           "Biosphere",
           "https://github.com/MAAP-Project/maap-documentation.git",
           0.4945054945054945
          ],
          [
           "A package of M-files for solving power flow, continuation power flow and optimal power flow problems using MATLAB or Octave.",
           "Energy Modeling and Optimization",
           "https://github.com/MATPOWER/matpower.git",
           0.0180890538033394
          ],
          [
           "Provides the marine renewable energy community tools for data processing, visualization, quality control, resource assessment, and device performance.",
           "Hydro Energy",
           "https://github.com/MHKiT-Software/MHKiT-Python.git",
           0.6164383561643836
          ],
          [
           "A flexible non-hydrostatic formulation that efficiently simulates fluid phenomena over a wide range of scales.",
           "Hydrosphere",
           "https://github.com/MITgcm/MITgcm.git",
           0.4949859394068021
          ],
          [
           "Has been widely used by academics, private consultants, and government scientists to accurately, reliably, and efficiently simulate groundwater flow.",
           "Water Supply and Quality",
           "https://github.com/MODFLOW-USGS/modflow6.git",
           0.5404699738903394
          ],
          [
           "Provides analysis for the MPAS components of ACME.",
           "Earth and Climate Modeling",
           "https://github.com/MPAS-Dev/MPAS-Analysis.git",
           0.1623774509803921
          ],
          [
           "The Model for Prediction Across Scales is a collaborative project for developing atmosphere, ocean, and other earth-system simulation components for use in climate, regional climate, and weather studies.",
           "Earth and Climate Modeling",
           "https://github.com/MPAS-Dev/MPAS-Model.git",
           0.810784071234232
          ],
          [
           "Information on the Irish energy system as it is today and the best available projections for what the future technology and fuel options and demands will be.",
           "Energy Modeling and Optimization",
           "https://github.com/MaREI-EPMG/times-ireland-model.git",
           0.5046728971962617
          ],
          [
           "An open source toolbox for the evaluation of thermal response factors of geothermal borehole fields.",
           "Geothermal Energy",
           "https://github.com/MassimoCimmino/pygfunction.git",
           0.0372093023255813
          ],
          [
           "Provides programmatic access to the Energy Information Administration's API.",
           "Energy Modeling and Optimization",
           "https://github.com/Matt-Brigida/EIAdata.git",
           0.1029411764705882
          ],
          [
           "Forecast and Observation Research and Evaluation Survey Tool.",
           "Biosphere",
           "https://github.com/MetOffice/forest.git",
           0.2969808995686999
          ],
          [
           "Tools for analyzing changes in biodiversity across scales.",
           "Biosphere",
           "https://github.com/MoBiodiv/mobr.git",
           0.3783783783783784
          ],
          [
           "Documentation for the General Bikeshare Feed Specification, a standardized data feed for shared mobility system availability.",
           "Mobility and Transportation",
           "https://github.com/MobilityData/gbfs.git",
           0.8875
          ],
          [
           "Mainly developed for oceanographic and fluvial modeling, application to atmospheric and other planetary settings should be trivial.",
           "Hydrosphere",
           "https://github.com/Mohid-Water-Modelling-System/MOHID-Lagrangian.git",
           0.2056293979671618
          ],
          [
           "A modular finite volumes water-modeling system written in ANSI-Fortran95 using an Object-oriented programming philosophy, integrating diverse mathematical models and supporting graphical user interfaces that manage all the pre- and post-processing.",
           "Hydrosphere",
           "https://github.com/Mohid-Water-Modelling-System/Mohid.git",
           0.5807280513918629
          ],
          [
           "The Visualization and Analysis Platform for Ocean, Atmosphere and Solar Researchers.",
           "Hydrosphere",
           "https://github.com/NCAR/VAPOR.git",
           0.7008208321539768
          ],
          [
           "The Common Community Physics Package is designed to facilitate the implementation of physics innovations in state-of-the-art atmospheric models, the use of various models to develop physics, and the acceleration of transition of physics innovations to operational NOAA models.",
           "Hydrosphere",
           "https://github.com/NCAR/ccpp-physics.git",
           0.6904149834741095
          ],
          [
           "A simplified atmospheric model designed primarily for climate downscaling, atmospheric sensitivity tests, and hopefully educational uses.",
           "Atmosphere",
           "https://github.com/NCAR/icar.git",
           0.0973011363636363
          ],
          [
           "The NCAR Command Language is a scripting language for the analysis and visualization of climate and weather data.",
           "Climate Data Processing and Access",
           "https://github.com/NCAR/ncl.git",
           0.3443695479777954
          ],
          [
           "A collection of diagnostic and interpolation routines for use with output from the Weather Research and Forecasting Model.",
           "Earth and Climate Modeling",
           "https://github.com/NCAR/wrf-python.git",
           0.5967741935483871
          ],
          [
           "A community modeling system and framework for hydrologic modeling and model coupling.",
           "Hydrosphere",
           "https://github.com/NCAR/wrf_hydro_nwm_public.git",
           0.5864570737605804
          ],
          [
           "A CF-compliant Earth Science data analysis library.",
           "Climate Data Processing and Access",
           "https://github.com/NCAS-CMS/cf-python.git",
           0.4693266832917705
          ],
          [
           "A cohort model of vegetation competition and co-existence, allowing a representation of the biosphere which accounts for the division of the land surface into successional stages.",
           "Biosphere",
           "https://github.com/NGEET/fates.git",
           0.5020952380952381
          ],
          [
           "iOS & Android app to understand and reduce your carbon footprint.",
           "Carbon Intensity and Accounting",
           "https://github.com/NMF-earth/nmf-app.git",
           0.3979416809605489
          ],
          [
           "A data package for reporting on Northeast Continental Shelf ecosystem status and trends.",
           "Biosphere",
           "https://github.com/NOAA-EDAB/ecodata.git",
           0.3355525965379494
          ],
          [
           "Global Superstructure/Workflow currently supporting the Finite-Volume on a Cubed-Sphere Global Forecast System.",
           "Earth and Climate Modeling",
           "https://github.com/NOAA-EMC/global-workflow.git",
           0.726109556177529
          ],
          [
           "A software framework for supporting the efficient development, construction, execution, and scientific interpretation of atmospheric, oceanic, and climate system models.",
           "Earth and Climate Modeling",
           "https://github.com/NOAA-GFDL/FMS.git",
           0.8198830409356725
          ],
          [
           "Analysis framework and collection of process-oriented diagnostics for weather and climate simulations.",
           "Earth and Climate Modeling",
           "https://github.com/NOAA-GFDL/MDTF-diagnostics.git",
           0.4203539823008849
          ],
          [
           "A numerical representation of the ocean fluid with applications from the process scale to the planetary circulation scale.",
           "Earth and Climate Modeling",
           "https://github.com/NOAA-GFDL/MOM6.git",
           0.6848334709606385
          ],
          [
           "Calculates the concentration, thickness, temperature, brine content and snow cover of an arbitrary number of ice thickness categories (including open water) as well as the motion of the complete pack.",
           "Cryosphere",
           "https://github.com/NOAA-GFDL/SIS2.git",
           0.1407972858354538
          ],
          [
           "It is designed to support oil and other hazardous material spills in the coastal environment.",
           "Water Supply and Quality",
           "https://github.com/NOAA-ORR-ERD/PyGnome.git",
           0.6434077079107505
          ],
          [
           "Flood inundation mapping and evaluation software configured to work with U.S. National Water Model.",
           "Natural Hazard and Poverty",
           "https://github.com/NOAA-OWP/inundation-mapping.git",
           0.7222222222222222
          ],
          [
           "This framework includes an encapsulation strategy which focuses on the hydrologic data first, and then builds a functional abstraction of hydrologic behavior.",
           "Water Supply and Quality",
           "https://github.com/NOAA-OWP/ngen.git",
           0.4097007223942208
          ],
          [
           "The program under development here seeks to effectively manage the traversal of a network of streams with defined hydraulic properties specifically for the purpose of hydraulic routing in an operational flood and water resources forecasting system.",
           "Water Supply and Quality",
           "https://github.com/NOAA-OWP/t-route.git",
           0.474036850921273
          ],
          [
           "An interactive computer visualization and analysis environment designed to meet the needs of oceanographers and meteorologists analyzing large and complex gridded datasets.",
           "Hydrosphere",
           "https://github.com/NOAA-PMEL/Ferret.git",
           0.3447228549734245
          ],
          [
           "A list of GitHub accounts and repositories that are contributed to by National Oceanic and Atmospheric Administration staff from line offices and/or staff office throughout the organization.",
           "Knowledge Platforms",
           "https://github.com/NOAAGov/NOAA-Affiliated-Projects.git",
           0.9117647058823528
          ],
          [
           "Flood Risk modelling toolbox for Canada.",
           "Natural Hazard and Poverty",
           "https://github.com/NRCan/CanFlood.git",
           0.0647321428571429
          ],
          [
           "Contains extensions on PowerSystems.jl and PowerSimulations.jl to enable enhanced hydropower representations.",
           "Hydro Energy",
           "https://github.com/NREL-SIIP/HydroPowerSimulations.jl.git",
           0.5
          ],
          [
           "Provides utilities to support data models for infrastructure modeling in NREL-SIIP.",
           "Energy Distribution and Grids",
           "https://github.com/NREL-SIIP/InfrastructureSystems.jl.git",
           0.4517810599478714
          ],
          [
           "A Julia package for power system modeling and simulation of Power Systems operations.",
           "Energy Modeling and Optimization",
           "https://github.com/NREL-SIIP/PowerSimulations.jl.git",
           0.269703656998739
          ],
          [
           "Provides a rigorous data model using Julia structures to enable power systems analysis and modeling.",
           "Energy Modeling and Optimization",
           "https://github.com/NREL-SIIP/PowerSystems.jl.git",
           0.4413043478260869
          ],
          [
           "A whole building energy simulation program that engineers, architects, and researchers use to model both energy consumption and water usage in buildings.",
           "Buildings and Heating",
           "https://github.com/NREL/EnergyPlus.git",
           0.8557953408603687
          ],
          [
           "A library of offshore wind cost equations.",
           "Wind Energy",
           "https://github.com/NREL/NRWAL.git",
           0.4207920792079208
          ],
          [
           "This library provides a framework for working with large time series data from wind plants, such as SCADA.",
           "Wind Energy",
           "https://github.com/NREL/OpenOA.git",
           0.6
          ],
          [
           "Calculates an Energy Rating Index (ERI) via an OpenStudio/EnergyPlus-based workflow. Building information is provided through an HPXML file.",
           "Buildings and Heating",
           "https://github.com/NREL/OpenStudio-ERI.git",
           0.2112422484496899
          ],
          [
           "Modeling of residential buildings in EnergyPlus using OpenStudio/HPXML.",
           "Buildings and Heating",
           "https://github.com/NREL/OpenStudio-HPXML.git",
           0.4672614038040734
          ],
          [
           "A cross-platform collection of software tools to support whole building energy modeling using EnergyPlus and advanced daylight analysis using Radiance.",
           "Buildings and Heating",
           "https://github.com/NREL/OpenStudio.git",
           0.7263712214471345
          ],
          [
           "An open-source tool to quantify Solar Photovoltaics (PV) Energy and Mass Flows in the Circular Economy, from a Reliability and Lifetime approach.",
           "Photovoltaics and Solar Energy",
           "https://github.com/NREL/PV_ICE.git",
           0.4731343283582089
          ],
          [
           "Offers a subset of features from NREL's more comprehensive REopt model. Both models provide concurrent, multiple technology integration and optimization capabilities to help organizations meet their cost savings and energy performance goals.",
           "Energy Modeling and Optimization",
           "https://github.com/NREL/REopt_API.git",
           0.6086956521739131
          ],
          [
           "NREL's Reference OpenSource Controller for wind turbine applications.",
           "Wind Energy",
           "https://github.com/NREL/ROSCO.git",
           0.2106824925816023
          ],
          [
           "A simulation program for electricity generation projects. It has models for different kinds of renewable energy systems and financial models for residential, commercial, and utility-scale projects.",
           "Energy Modeling and Optimization",
           "https://github.com/NREL/SAM.git",
           0.6591089896579156
          ],
          [
           "A software tool developed at NREL to model concentrating solar power (CSP) systems and analyze their optical performance.",
           "Photovoltaics and Solar Energy",
           "https://github.com/NREL/SolTrace.git",
           0.1320754716981131
          ],
          [
           "Solar power tower layout and optimization tool.",
           "Photovoltaics and Solar Energy",
           "https://github.com/NREL/SolarPILOT.git",
           0.0651340996168582
          ],
          [
           "A Python package that uses a FEniCS backend to perform wind farm simulations and optimization.",
           "Wind Energy",
           "https://github.com/NREL/WindSE.git",
           0.4225721784776902
          ],
          [
           "Toolkit for working with RADIANCE for the ray-trace modeling of Bifacial Photovoltaics.",
           "Photovoltaics and Solar Energy",
           "https://github.com/NREL/bifacial_radiance.git",
           0.3916449086161879
          ],
          [
           "Bifacial PV View Factor model for system performance calculation.",
           "Photovoltaics and Solar Energy",
           "https://github.com/NREL/bifacialvf.git",
           0.5555555555555556
          ],
          [
           "Forecast PV adoption based on user specified configurations like electricity rate prices, electricity load growth, solar resource factors, and much more.",
           "Photovoltaics and Solar Energy",
           "https://github.com/NREL/dgen.git",
           0.4705882352941176
          ],
          [
           "A controls-oriented engineering wake modeling framework for evaluating the impact of wind farm controls on AEP and wind farm design.",
           "Wind Energy",
           "https://github.com/NREL/floris.git",
           0.4161205766710354
          ],
          [
           "This translator script takes an HPXML file or directory of files as an input and generates HEScore inputs from it.",
           "Buildings and Heating",
           "https://github.com/NREL/hescore-hpxml.git",
           0.4464831804281345
          ],
          [
           "An open source library to support reproducible technical analysis of time series data from photovoltaic energy systems.",
           "Photovoltaics and Solar Energy",
           "https://github.com/NREL/rdtools.git",
           0.5051546391752577
          ],
          [
           "Enables the efficient and scalable computation of renewable energy generation, levelized cost of energy, application of geospatial exclusion layers, and generation of renewable energy supply curves.",
           "Energy Modeling and Optimization",
           "https://github.com/NREL/reV.git",
           0.5586088449978532
          ],
          [
           "Renewable Energy Potential(V) eXchange Toot.",
           "Energy Modeling and Optimization",
           "https://github.com/NREL/reVX.git",
           0.375438596491228
          ],
          [
           "Helping states, municipalities, utilities, and manufacturers identify which building stock improvements save the most energy and money.",
           "Buildings and Heating",
           "https://github.com/NREL/resstock.git",
           0.3927148548662492
          ],
          [
           "Contains the source code for the technology and financial models contained within the National Renewable Energy Laboratory's System Advisor Model.",
           "Sustainable Investment",
           "https://github.com/NREL/ssc.git",
           0.7644058450510063
          ],
          [
           "The Super Resolution for Renewable Resource Data software uses generative adversarial networks to create synthetic high-resolution wind and solar spatiotemporal data from coarse low-resolution inputs.",
           "Datasets on Energy Systems",
           "https://github.com/NREL/sup3r.git",
           0.3086003372681282
          ],
          [
           "Employs an isopycnic vertical coordinate, with near-isopycnic interior layers and variable density layers in the surface mixed boundary layer.",
           "Hydrosphere",
           "https://github.com/NorESMhub/BLOM.git",
           0.6151079136690647
          ],
          [
           "Norwegian Earth System Model and Documentation.",
           "Earth and Climate Modeling",
           "https://github.com/NorESMhub/NorESM.git",
           0.5460060667340748
          ],
          [
           "A super lightweight Lagrangian model for calculating millions of trajectories using ERA5 data.",
           "Emission Observation and Modeling",
           "https://github.com/Novarizark/easy-era5-trck.git",
           0.05
          ],
          [
           "A modular open source model for glacier dynamics.",
           "Cryosphere",
           "https://github.com/OGGM/oggm.git",
           0.3634826711749789
          ],
          [
           "A series of tools for the Precious Plastic community to collaborate around the world and tackle plastic waste.",
           "Circular Economy and Waste",
           "https://github.com/ONEARMY/precious-plastic.git",
           0.3478260869565217
          ],
          [
           "An open, generic, scalable and independent 'Internet of Things' platform, which enables various connected smart objects in the public space to be easily controlled and monitored.",
           "Energy Distribution and Grids",
           "https://github.com/OSGP/open-smart-grid-platform.git",
           0.8535322777101096
          ],
          [
           "A package built to enable interoperability and scalability in ocean sonar data processing.",
           "Water Supply and Quality",
           "https://github.com/OSOceanAcoustics/echopype.git",
           0.6072222222222222
          ],
          [
           "Provides a Python client for retrieving the latest data on the EU Emissions Trading System market and its participants.",
           "Emission Observation and Modeling",
           "https://github.com/OSUKED/ETS-Watch.git",
           0
          ],
          [
           "Wrapper for the Balancing Mechanism Reporting Service API to balance power flowing on to and off from the electricity Transmission System in Great Britain.",
           "Datasets on Energy Systems",
           "https://github.com/OSUKED/ElexonDataPortal.git",
           0.0006114649681528
          ],
          [
           "A power station dictionary that enables mapping between various naming conventions and associated plant metadata.",
           "Datasets on Energy Systems",
           "https://github.com/OSUKED/Power-Station-Dictionary.git",
           0
          ],
          [
           "An open source catastrophe modelling platform, free to use by anyone.",
           "Natural Hazard and Poverty",
           "https://github.com/OasisLMF/OasisLMF.git",
           0.5693430656934306
          ],
          [
           "PiWind is a wind storm model for a small area of the UK.",
           "Atmosphere",
           "https://github.com/OasisLMF/OasisPiWind.git",
           0.4359375
          ],
          [
           "Can be used to track passive and active particulates such as water, plankton, plastic and fish.",
           "Hydrosphere",
           "https://github.com/OceanParcels/parcels.git",
           0.5423138725227639
          ],
          [
           "A GIS based optimization tool that has been developed to support electrification planning and decision making for the achievement of energy access goals in currently unserved locations.",
           "Energy Modeling and Optimization",
           "https://github.com/OnSSET/onsset.git",
           0.6871287128712871
          ],
          [
           "The Open Source platform for Real Time Transit Info.",
           "Mobility and Transportation",
           "https://github.com/OneBusAway/onebusaway-android.git",
           0.3212410501193318
          ],
          [
           "Provides intuitive programming libraries to process a wide variety of earth observation datasets.",
           "Data Catalogs and Interfaces",
           "https://github.com/Open-EO/openeo-python-client.git",
           0.4042867701404287
          ],
          [
           "Provides Google Earth Engine Python API based implementation of the SSEBop ET model used within OpenET.",
           "Water Supply and Quality",
           "https://github.com/Open-ET/openet-ssebop.git",
           0.2773279352226721
          ],
          [
           "A collaboration server to plan atmospheric research flights.",
           "Atmosphere",
           "https://github.com/Open-MSS/MSS.git",
           0.6028751123090745
          ],
          [
           "We monitor greenhouse gases emission reports published by organizations, along with their legal obligations and their own commitments, and track them over time.",
           "Emission Observation and Modeling",
           "https://github.com/OpenCarbonWatch/Website.git",
           0
          ],
          [
           "Chargy is a transparency software for secure and transparent e-mobility charging processes, as defined by the German \"Eichrecht\".",
           "Mobility and Transportation",
           "https://github.com/OpenChargingCloud/ChargyDesktopApp.git",
           0.0253411306042885
          ],
          [
           "The World Wide Charging Protocol Suite is a collection of protocols in order to connect market actors in the field of e-mobility solutions via scalable and secure Internet protocols.",
           "Mobility and Transportation",
           "https://github.com/OpenChargingCloud/WWCP_Core.git",
           0
          ],
          [
           "Connectivity between the World Wide Charging Protocol (WWCP) and the Open Charge Point Protocol (OCPP v1.6/v2.0).",
           "Mobility and Transportation",
           "https://github.com/OpenChargingCloud/WWCP_OCPP.git",
           0
          ],
          [
           "A software for modeling the trajectories and fate of objects or substances drifting in the ocean, or even in the atmosphere.",
           "Hydrosphere",
           "https://github.com/OpenDrift/opendrift.git",
           0.2829394626092586
          ],
          [
           "Open Source Energy Management System.",
           "Energy Monitoring and Control",
           "https://github.com/OpenEMS/openems.git",
           0.3402537485582468
          ],
          [
           "Uses an ESP8266 (ESP-12) which communicates with the OpenEVSE controller via serial utilizing the existing RAPI API serial interface.",
           "Mobility and Transportation",
           "https://github.com/OpenEVSE/ESP8266_WiFi_v2.x.git",
           0.528443113772455
          ],
          [
           "Firmware for OpenEVSE: Open Source Hardware J1772 Electric Vehicle Supply Equipment.",
           "Mobility and Transportation",
           "https://github.com/OpenEVSE/open_evse.git",
           0.4294790343074968
          ],
          [
           "Aims to ensure quality, transparency and reproducibility in energy system research. It is a collection of various tools and information and that help working with energy-related data.",
           "Energy Modeling and Optimization",
           "https://github.com/OpenEnergyPlatform/oeplatform.git",
           0.3960749330954505
          ],
          [
           "A domain ontology of the energy-system modeling context.",
           "Energy Modeling and Optimization",
           "https://github.com/OpenEnergyPlatform/ontology.git",
           0.6768342951360264
          ],
          [
           "Download and process German energy data from BNetzA database Marktstammdatenregister.",
           "Datasets on Energy Systems",
           "https://github.com/OpenEnergyPlatform/open-MaStR.git",
           0.6449511400651466
          ],
          [
           "A multi-physics, multi-fidelity tool for simulating the coupled dynamic response of wind turbines and wind farms.",
           "Wind Energy",
           "https://github.com/OpenFAST/openfast.git",
           0.6067090803932909
          ],
          [
           "A software environment for modeling and simulation of complex landscape systems.",
           "Soil and Land",
           "https://github.com/OpenFLUID/openfluid.git",
           0.4383697813121272
          ],
          [
           "A library of power system component models written in the Modelica language that can be used for power system dynamic analysis, such as phasor time-domain simulations.",
           "Energy Modeling and Optimization",
           "https://github.com/OpenIPSL/OpenIPSL.git",
           0.5574548907882242
          ],
          [
           "An open, interactive and accessible database of the world's litter and plastic pollution.",
           "Circular Economy and Waste",
           "https://github.com/OpenLitterMap/openlittermap-web.git",
           0.3536076326774001
          ],
          [
           "Optimization of Aerodynamic systems.",
           "Wind Energy",
           "https://github.com/OpenMDAO/OpenMDAO.git",
           0.6906206252916472
          ],
          [
           "An open source Modelica-based modeling and simulation environment intended for industrial and academic usage.",
           "Production and Industry",
           "https://github.com/OpenModelica/OpenModelica.git",
           0.7481946510868382
          ],
          [
           "A Python package which is used to make short term forecasts for the energy sector.",
           "Energy Modeling and Optimization",
           "https://github.com/OpenSTEF/openstef.git",
           0.7502673796791444
          ],
          [
           "An open source hydropower library that consists of hydropower unit models and is modeled using Modelica.",
           "Hydro Energy",
           "https://github.com/OpenSimHub/OpenHPL.git",
           0.2345132743362832
          ],
          [
           "A collaborative platform for crowdsourced tree inventory, ecosystem services calculations, urban forestry analysis and community engagement.",
           "Biosphere",
           "https://github.com/OpenTreeMap/otm-core.git",
           0.6467065868263473
          ],
          [
           "The Water Distribution System Hydraulic and Water Quality Analysis Toolkit.",
           "Water Supply and Quality",
           "https://github.com/OpenWaterAnalytics/EPANET.git",
           0.5445420326223338
          ],
          [
           "Python Wrapper for Stormwater Management Model.",
           "Water Supply and Quality",
           "https://github.com/OpenWaterAnalytics/pyswmm.git",
           0.5342679127725857
          ],
          [
           "Reduces data transfer by up to 70% in comparison to our regular website.",
           "Computation and Communication",
           "https://github.com/Organic-Basics/ob-low-impact-website.git",
           0.2247191011235955
          ],
          [
           "A modern Python utility library for climate data collection and management.",
           "Climate Data Processing and Access",
           "https://github.com/Ouranosinc/miranda.git",
           0.0953101361573374
          ],
          [
           "Made to help scientists run hydrological modeling experiments with climate change projections.",
           "Hydrosphere",
           "https://github.com/Ouranosinc/raven.git",
           0.6586314152410575
          ],
          [
           "A library of derived climate variables, i.e. climate indicators, based on xarray.",
           "Climate Data Processing and Access",
           "https://github.com/Ouranosinc/xclim.git",
           0.6206239580852584
          ],
          [
           "An open-source package to easily obtain real-time, historical, or forecasted air quality data for anywhere in the world.",
           "Air Quality",
           "https://github.com/Ozon3Org/Ozon3.git",
           0.4560439560439561
          ],
          [
           "Produce CF-compliant netCDF files that fulfill the requirements of many of the climate community's standard model experiments.",
           "Climate Data Processing and Access",
           "https://github.com/PCMDI/cmor.git",
           0.570334928229665
          ],
          [
           "A daily time-step agroecosystem model that simulates the biophysical processes and management practices occurring within cropping systems and other land uses.",
           "Agriculture and Nutrition",
           "https://github.com/PSUmodeling/Cycles.git",
           0.04
          ],
          [
           "Web-interface to the Biofuel Ecophysiological Traits and Yields Database.",
           "Bioenergy",
           "https://github.com/PecanProject/bety.git",
           0.3710280373831776
          ],
          [
           "The Predictive Ecosystem Analyzer is an integrated ecological bioinformatics toolbox.",
           "Biosphere",
           "https://github.com/PecanProject/pecan.git",
           0.8638583638583639
          ],
          [
           "Its primary purpose is to obtain velocities, surface areas, and distances from oblique, optical imagery of glacial environments.",
           "Cryosphere",
           "https://github.com/PennyHow/PyTrx.git",
           0.0044843049327354
          ],
          [
           "A free and fast perovskite solar cell simulator with coupled ion vacancy and charge carrier dynamics in one dimension.",
           "Photovoltaics and Solar Energy",
           "https://github.com/PerovskiteSCModelling/IonMonger.git",
           0.0769230769230768
          ],
          [
           "Aggregates on one map, more than 100 share vehicles like bikes, scooters, mopeds and cars.",
           "Mobility and Transportation",
           "https://github.com/PierrickP/multicycles.git",
           0.111310592459605
          ],
          [
           "Allows you to plant trees with over 100 reforestation projects around the world.",
           "Biosphere",
           "https://github.com/Plant-for-the-Planet-org/treecounter-app.git",
           0.7986606178440268
          ],
          [
           "Tree Mapper extends the Plant-for-the-Planet App and allows on site coordinate submission during plantation.",
           "Biosphere",
           "https://github.com/Plant-for-the-Planet-org/treemapper.git",
           0.7348726114649682
          ],
          [
           "A tool to quickly and easily create inputs for power systems models.",
           "Energy Modeling and Optimization",
           "https://github.com/PowerGenome/PowerGenome.git",
           0.231304347826087
          ],
          [
           "The mission of Project Drawdown is to help the world reach \"Drawdown\"— the point in the future when levels of greenhouse gases in the atmosphere stop climbing and start to steadily decline, thereby stopping catastrophic climate change — as quickly, safely, and equitably as possible.",
           "Knowledge Platforms",
           "https://github.com/ProjectDrawdown/solutions.git",
           0.5274135876042908
          ],
          [
           "A free software toolbox for simulating and optimizing modern power systems that include features such as conventional generators with unit commitment, variable wind and solar generation, storage units, coupling to other energy sectors, and mixed alternating and direct current networks.",
           "Energy Modeling and Optimization",
           "https://github.com/PyPSA/PyPSA.git",
           0.7035688273852877
          ],
          [
           "Light-weight version of Aarhus RE Atlas for converting weather data to power systems data.",
           "Datasets on Energy Systems",
           "https://github.com/PyPSA/atlite.git",
           0.6388888888888888
          ],
          [
           "A toolset for cleaning, standardizing and combining multiple power plant databases.",
           "Datasets on Energy Systems",
           "https://github.com/PyPSA/powerplantmatching.git",
           0.2853982300884956
          ],
          [
           "A Sector-Coupled Open Optimisation Model of the European Energy System.",
           "Energy Modeling and Optimization",
           "https://github.com/PyPSA/pypsa-eur-sec.git",
           0.6898305084745763
          ],
          [
           "An Open Optimization Model of the European Transmission System.",
           "Energy Distribution and Grids",
           "https://github.com/PyPSA/pypsa-eur.git",
           0.6205405405405405
          ],
          [
           "Compilation of assumptions about energy system technologies such as cost, efficiency and lifetime that can be read by energy system modelling software.",
           "Energy Modeling and Optimization",
           "https://github.com/PyPSA/technology-data.git",
           0.6304347826086957
          ],
          [
           "This is the code for the online optimization of zero-direct-emission electricity systems with wind, solar and storage (using batteries and electrolysed hydrogen gas) to provide a baseload electricity demand, using the cost and other assumptions of your choice.",
           "Energy Modeling and Optimization",
           "https://github.com/PyPSA/whobs-server.git",
           0.0441176470588234
          ],
          [
           "A waste-water application based on QGIS in compliance with SIA-405.",
           "Water Supply and Quality",
           "https://github.com/QGEP/QGEP.git",
           0.3323943661971831
          ],
          [
           "A package for the quantitative sustainable design of sanitation and resource recovery systems.",
           "Life Cycle Assessment",
           "https://github.com/QSD-Group/QSDsan.git",
           0.2887383573243014
          ],
          [
           "A package designed to detect and quantify water quality and cyanobacterial harmful algal bloom (CHABs) from remotely sensed imagery.",
           "Water Supply and Quality",
           "https://github.com/RAJohansen/waterquality.git",
           0.4205607476635514
          ],
          [
           "A novel application of the RAMP main engine for generating bottom-up stochastic electric vehicles load profiles.",
           "Mobility and Transportation",
           "https://github.com/RAMP-project/RAMP-mobility.git",
           0.2803738317757009
          ],
          [
           "A bottom-up stochastic model for the generation of high-resolution multi-energy profiles, conceived for application in contexts where only rough information about users' behaviour are obtainable.",
           "Energy Modeling and Optimization",
           "https://github.com/RAMP-project/RAMP.git",
           0.3199999999999999
          ],
          [
           "Database with efficiency parameters from public Heatpump Keymark datasets as well as parameter-sets and functions in order to simulate heat pumps.",
           "Buildings and Heating",
           "https://github.com/RE-Lab-Projects/hplib.git",
           0.4412811387900356
          ],
          [
           "The Regional Hydro-Ecologic Simulation System.",
           "Hydrosphere",
           "https://github.com/RHESSys/RHESSys.git",
           0.7260490894695171
          ],
          [
           "A Modelica model library for building performance simulations.",
           "Buildings and Heating",
           "https://github.com/RWTH-EBC/AixLib.git",
           0.7429349676540689
          ],
          [
           "Tool for Energy Analysis and Simulation for Efficient Retrofit.",
           "Buildings and Heating",
           "https://github.com/RWTH-EBC/TEASER.git",
           0.7434842249657064
          ],
          [
           "Forecast the US demand for electricity.",
           "Energy Modeling and Optimization",
           "https://github.com/RamiKrispin/USelectricity.git",
           0
          ],
          [
           "Water, Hydropower, Agriculture Tool for Investment and Financing decision support tool.",
           "Sustainable Investment",
           "https://github.com/RaphaelPB/WHAT-IF.git",
           0
          ],
          [
           "A full end-to-end modular software suite for radiative transfer and related atmospheric analysis.",
           "Radiative Transfer",
           "https://github.com/RemoteSensingTools/vSmartMOM.jl.git",
           0.1428571428571429
          ],
          [
           "Model-definition is a deep learning application for fault detection in photovoltaic plants.",
           "Photovoltaics and Solar Energy",
           "https://github.com/RentadroneCL/Photovoltaic_Fault_Detector.git",
           0.1696428571428571
          ],
          [
           "The sensor for the world's largest crowdsourced network of open-source, low-cost, CO2 Gas Detection Sensors.",
           "Emission Observation and Modeling",
           "https://github.com/Ribbit-Network/ribbit-network-frog-sensor.git",
           0.3115942028985508
          ],
          [
           "Smart charging algorithms with REST API for electric vehicle fleets.",
           "Mobility and Transportation",
           "https://github.com/SAP/emobility-smart-charging.git",
           0.3278688524590164
          ],
          [
           "Standard Energy Efficiency Data Platform™ is a web-based application that helps organizations easily manage data on the energy performance of large groups of buildings.",
           "Buildings and Heating",
           "https://github.com/SEED-platform/seed.git",
           0.7676632455748922
          ],
          [
           "This web application allows development practitioners, scientists/researchers, and government decision-makers to visualize and download historical rainfall data, vegetation condition data, and 180-day forecasts of rainfall and temperature to improve understanding of, and make improved decisions for, issues related to agriculture and water availability.",
           "Earth and Climate Modeling",
           "https://github.com/SERVIR/ClimateSERV2.git",
           0.2896698615548455
          ],
          [
           "Enables access to the ClimateSERV API where many types of climate data can be subset by area of interest, and time range, then either downloaded as tif, or NetCDf files, or the data can be statistically processed to render json values or csv.",
           "Earth and Climate Modeling",
           "https://github.com/SERVIR/ClimateSERVpy.git",
           0
          ],
          [
           "Allowing plot scale measurements to be extracted automatically from most high-resolution forest point clouds from a variety of sensor sources.",
           "Biosphere",
           "https://github.com/SKrisanski/FSCT.git",
           0.0208333333333333
          ],
          [
           "A turbine performance simulation code, based on a free wake vortex method, to study wind turbines and marine hydrokinetic devices.",
           "Hydro Energy",
           "https://github.com/SNL-WaterPower/CACTUS.git",
           0.3072289156626506
          ],
          [
           "Allows users to perform wave energy converter device design optimization studies with constrained optimal control.",
           "Hydro Energy",
           "https://github.com/SNL-WaterPower/WecOptTool.git",
           0.3448275862068966
          ],
          [
           "The first Argentine Facebook app that allows the users of this social network to share car trips with other users.",
           "Mobility and Transportation",
           "https://github.com/STS-Rosario/carpoolear.git",
           0.5588822355289421
          ],
          [
           "Building out a network of sensors to monitor particulate matter in sizes PM1.0, PM2.5, PM10.",
           "Air Quality",
           "https://github.com/Safecast/safecastapi.git",
           0.7605561277033985
          ],
          [
           "The Universal Battery Database is an open source software for managing Lithium-ion cell data.",
           "Battery",
           "https://github.com/Samuel-Buteau/universal-battery-database.git",
           0.3783783783783784
          ],
          [
           "Aims to be a complete platform for power systems research and simulation.",
           "Energy Distribution and Grids",
           "https://github.com/SanPen/GridCal.git",
           0.1486946651532349
          ],
          [
           "Datasets, code and virtual workspace for the Climate Change ATLAS.",
           "Climate Data Processing and Access",
           "https://github.com/SantanderMetGroup/ATLAS.git",
           0.4994606256742179
          ],
          [
           "Deep learning approaches for statistical downscaling in climate.",
           "Earth and Climate Modeling",
           "https://github.com/SantanderMetGroup/DeepDownscaling.git",
           0.18
          ],
          [
           "A bundle of R packages for transparent climate data access, post-processing (including data collocation and bias correction / downscaling) and visualization.",
           "Climate Data Processing and Access",
           "https://github.com/SantanderMetGroup/climate4R.git",
           0.7078651685393258
          ],
          [
           "An R package for empirical-statistical downscaling focusing on daily data and covering the most popular approaches (bias correction, Model Output Statistics, Perfect Prognosis) and techniques (e.g. quantile mapping, regression, analogs, neural networks).",
           "Earth and Climate Modeling",
           "https://github.com/SantanderMetGroup/downscaleR.git",
           0.3416216216216216
          ],
          [
           "An R package for climate data access building on the NetCDF-Java API.",
           "Climate Data Processing and Access",
           "https://github.com/SantanderMetGroup/loadeR.git",
           0.5388739946380697
          ],
          [
           "A powerful, format-agnostic, community-driven Python package for analyzing and visualizing Earth science data.",
           "Hydrosphere",
           "https://github.com/SciTools/iris.git",
           0.8637803590285111
          ],
          [
           "Helps companies and financial institutions to assess the temperature alignment of current targets, commitments, and investment and lending portfolios, and to use this information to develop targets for official validation.",
           "Sustainable Investment",
           "https://github.com/ScienceBasedTargets/SBTi-finance-tool.git",
           0.5617529880478087
          ],
          [
           "An open source Python application for downloading, processing, and delivering surface water maps derived from remote sensing data.",
           "Natural Hazard and Poverty",
           "https://github.com/Servir-Mekong/hydra-floods.git",
           0.0961538461538461
          ],
          [
           "Scriptable OCPP charge point simulator and test tool.",
           "Mobility and Transportation",
           "https://github.com/ShellRechargeSolutionsEU/docile-charge-point.git",
           0.3571428571428571
          ],
          [
           "Shiny R Dashboard to easily query, download, analyse and visualise Global Fishing Watch data on fishing effort.",
           "Agriculture and Nutrition",
           "https://github.com/Shyentist/fish-r-man.git",
           0
          ],
          [
           "Smart EVSE Electric Vehicle Charging Station.",
           "Mobility and Transportation",
           "https://github.com/SmartEVSE/smartevse.git",
           0.4700854700854701
          ],
          [
           "A repository containing all the data and codes required to demonstrate applications of machine learning methods for geothermal exploration.",
           "Geothermal Energy",
           "https://github.com/SmartTensors/GeoThermalCloud.jl.git",
           0.18
          ],
          [
           "A Google Earth Engine App to explore the state of the world's degraded soils.",
           "Soil and Land",
           "https://github.com/SoilWatch/soil-erosion-watch.git",
           0
          ],
          [
           "Core data gathering, validation, processing, and reporting package for the Solar Forecast Arbiter.",
           "Photovoltaics and Solar Energy",
           "https://github.com/SolarArbiter/solarforecastarbiter-core.git",
           0.5354330708661417
          ],
          [
           "Solar thermal power/fuel station performance simulation and optimization using Modelica.",
           "Photovoltaics and Solar Energy",
           "https://github.com/SolarTherm/SolarTherm.git",
           0.6428571428571428
          ],
          [
           "An integrated web-based workbench for taxonomists and biodiversity scientists.",
           "Biosphere",
           "https://github.com/SpeciesFileGroup/taxonworks.git",
           0.6788910077746809
          ],
          [
           "An application to define, manage, and execute various energy system simulation models.",
           "Energy Modeling and Optimization",
           "https://github.com/Spine-project/Spine-Toolbox.git",
           0.6124954857349223
          ],
          [
           "An explicit Python PV system IV & PV curve trace calculator which can also calculate mismatch.",
           "Photovoltaics and Solar Energy",
           "https://github.com/SunPower/PVMismatch.git",
           0.1734104046242774
          ],
          [
           "Open source view-factor model for diffuse shading and bifacial PV modeling.",
           "Photovoltaics and Solar Energy",
           "https://github.com/SunPower/pvfactors.git",
           0.1290322580645161
          ],
          [
           "The only fully-featured reference implementation of the Vehicle-2-Grid communication interface ISO 15118.",
           "Mobility and Transportation",
           "https://github.com/SwitchEV/RISE-V2G.git",
           0.5714285714285714
          ],
          [
           "A library to calculate the urban surface energy balance at neighborhood scale assuming a simplified canyon geometry.",
           "Buildings and Heating",
           "https://github.com/TEB-model/teb.git",
           0.028169014084507
          ],
          [
           "A set of tools designed to support Battery Evaluation and Early Prediction of cycle life corresponding to the research of the d3batt program and the Toyota Research Institute.",
           "Battery",
           "https://github.com/TRI-AMDD/beep.git",
           0.673202614379085
          ],
          [
           "Readers and converters for ESA CCI Soil Moisture image and time series data.",
           "Soil and Land",
           "https://github.com/TUW-GEO/esa_cci_sm.git",
           0.4196428571428571
          ],
          [
           "Readers for the data from the International Soil Moisture Database.",
           "Soil and Land",
           "https://github.com/TUW-GEO/ismn.git",
           0.5982142857142857
          ],
          [
           "Python Toolbox for the Evaluation of Soil Moisture Observations.",
           "Soil and Land",
           "https://github.com/TUW-GEO/pytesmo.git",
           0.6363636363636364
          ],
          [
           "Examining U.S. energy futures to inform future energy and climate policy efforts.",
           "Energy Modeling and Optimization",
           "https://github.com/TemoaProject/oeo.git",
           0.3028571428571428
          ],
          [
           "Tools for Energy Model Optimization and Analysis (Temoa) is an open source modeling framework for conducting energy system analysis.",
           "Energy Modeling and Optimization",
           "https://github.com/TemoaProject/temoa.git",
           0.6676970633693973
          ],
          [
           "Open-Source Software with advanced GUI features and CAD tools for electrical power system studies.",
           "Energy Modeling and Optimization",
           "https://github.com/Thales1330/PSP.git",
           0.0045766590389015
          ],
          [
           "A whole-ocean marine debris transport model which is built to handle millions of particles and terabytes of data.",
           "Circular Economy and Waste",
           "https://github.com/TheOceanCleanupAlgorithms/ADVECT.git",
           0.1187214611872146
          ],
          [
           "A Python library to generate and simulate a large number of microgrids.",
           "Energy Distribution and Grids",
           "https://github.com/Total-RD/pymgrid.git",
           0.2345215759849905
          ],
          [
           "Generates inputs for and runs the coupled groundwater-surface water model \"GSFLOW\".",
           "Water Supply and Quality",
           "https://github.com/UMN-Hydro/GSFLOW-GRASS.git",
           0.2241758241758241
          ],
          [
           "Aims to enhance the Australian electricity industries modeling and analytical capabilities.",
           "Energy Modeling and Optimization",
           "https://github.com/UNSW-CEEM/nempy.git",
           0.0034246575342465
          ],
          [
           "A suite of software designed to facilitate the analysis and evaluation of predictions from meteorological and air quality models.",
           "Air Quality",
           "https://github.com/USEPA/AMET.git",
           0.426497277676951
          ],
          [
           "Source code for EPA's annual air trends report on air quality, emissions and visibility trends.",
           "Air Quality",
           "https://github.com/USEPA/Air-Trends-Report.git",
           0.3043478260869565
          ],
          [
           "Code base for the U.S. EPA's Community Multiscale Air Quality Model.",
           "Air Quality",
           "https://github.com/USEPA/CMAQ.git",
           0.8136309825807543
          ],
          [
           "A Python package that uses standardized facility release and generation data to create regionalized life cycle inventory (LCI) models for the generation, mix of generation, mix of consumption, and distribution of electricity to end users for the US, with embedded system processes of upstream fuel production and infrastructure.",
           "Life Cycle Assessment",
           "https://github.com/USEPA/ElectricityLCI.git",
           0.5750708215297451
          ],
          [
           "A Python package that generates and provides a standardized elementary flow list for use in life cycle assessment (LCA) data as well as mappings to convert data from other sources.",
           "Life Cycle Assessment",
           "https://github.com/USEPA/Federal-LCA-Commons-Elementary-Flow-List.git",
           0.6846071044133477
          ],
          [
           "Retrieve data from the United States Environmental Protection Agency's Air Quality Systems.",
           "Air Quality",
           "https://github.com/USEPA/RAQSAPI.git",
           0
          ],
          [
           "Used for single event or long-term (continuous) simulation of runoff quantity and quality from primarily urban areas.",
           "Water Supply and Quality",
           "https://github.com/USEPA/Stormwater-Management-Model.git",
           0.0413793103448275
          ],
          [
           "Help developers compile and evaluate water quality data for samples collected from surface water monitoring sites on streams and lakes.",
           "Water Supply and Quality",
           "https://github.com/USEPA/TADA.git",
           0.3542857142857143
          ],
          [
           "A Python package designed to simulate and analyze resilience of water distribution networks.",
           "Water Supply and Quality",
           "https://github.com/USEPA/WNTR.git",
           0.5903771131339401
          ],
          [
           "Estimating potential environmental impacts of goods and services in the US economy.",
           "Life Cycle Assessment",
           "https://github.com/USEPA/useeior.git",
           0.5314121037463977
          ],
          [
           "An R package for the analysis of long-term changes in water quality and streamflow, including the water-quality method Weighted Regressions on Time, Discharge, and Season.",
           "Water Supply and Quality",
           "https://github.com/USGS-R/EGRET.git",
           0.0343377715487035
          ],
          [
           "Hydrologic AnalySis Package.",
           "Water Supply and Quality",
           "https://github.com/USGS-R/HASP.git",
           0.0509915014164306
          ],
          [
           "This R package is designed to obtain USGS or EPA water quality sample data, streamflow data and metadata directly from web services.",
           "Water Supply and Quality",
           "https://github.com/USGS-R/dataRetrieval.git",
           0.1268320180383314
          ],
          [
           "This package is a growing set of tools for manipulation of hydrographic data using the NHDPlus data model.",
           "Water Supply and Quality",
           "https://github.com/USGS-R/nhdplusTools.git",
           0.0929203539823009
          ],
          [
           "Deep learning model for predicting environmental variables on river systems.",
           "Hydrosphere",
           "https://github.com/USGS-R/river-dl.git",
           0.3892128279883382
          ],
          [
           "A Python alternative to USGS-R's dataRetrieval package for obtaining USGS or EPA water quality data, streamflow data, and metadata directly from web services.",
           "Water Supply and Quality",
           "https://github.com/USGS-python/dataretrieval.git",
           0.2916666666666666
          ],
          [
           "A large-scale hydrological model intended for global to regional studies.",
           "Hydrosphere",
           "https://github.com/UU-Hydro/PCR-GLOBWB_model.git",
           0.36
          ],
          [
           "A meteorological simulator and forcing disaggregator for hydrologic modeling and climate applications.",
           "Earth and Climate Modeling",
           "https://github.com/UW-Hydro/MetSim.git",
           0.0858585858585858
          ],
          [
           "A macroscale hydrologic model that solves full water and energy balances.",
           "Hydrosphere",
           "https://github.com/UW-Hydro/VIC.git",
           0.7282758620689656
          ],
          [
           "The Modelica open source BuildingSystems library is developed for dynamic simulation of the energetic behavior of single rooms, buildings and whole districts.",
           "Buildings and Heating",
           "https://github.com/UdK-VPT/BuildingSystems.git",
           0.4077046548956661
          ],
          [
           "A collection of tools in Python for reading, visualizing and performing calculations with weather data.",
           "Meteorological Observation and Forecast",
           "https://github.com/Unidata/MetPy.git",
           0.4422496570644718
          ],
          [
           "The Advanced Weather Interactive Processing System is a meteorological display and analysis package originally developed by the National Weather Service and Raytheon.",
           "Meteorological Observation and Forecast",
           "https://github.com/Unidata/awips2.git",
           0.3633305298570227
          ],
          [
           "The Unidata network Common Data Form (netCDF) in C is an interface for scientific data access and a set of freely-distributed software libraries that provide an implementation of the interface.",
           "Climate Data Processing and Access",
           "https://github.com/Unidata/netcdf-c.git",
           0.6754057428214731
          ],
          [
           "The Unidata network Common Data Form (netCDF) in Fortran is an interface for scientific data access and a set of freely-distributed software libraries that provide an implementation of the interface.",
           "Climate Data Processing and Access",
           "https://github.com/Unidata/netcdf-fortran.git",
           0.6515837104072398
          ],
          [
           "The Unidata network Common Data Form (netCDF) in Python is an interface for scientific data access and a set of freely-distributed software libraries that provide an implementation of the interface.",
           "Climate Data Processing and Access",
           "https://github.com/Unidata/netcdf4-python.git",
           0.0844272076372315
          ],
          [
           "A collection of Python utilities for retrieving atmospheric and oceanic data from remote sources, focusing on being able to retrieve data from Unidata data technologies.",
           "Data Catalogs and Interfaces",
           "https://github.com/Unidata/siphon.git",
           0.4197031039136302
          ],
          [
           "Android App dedicated to the measurement of environmental noise.",
           "Mobility and Transportation",
           "https://github.com/Universite-Gustave-Eiffel/NoiseCapture.git",
           0.15
          ],
          [
           "A free and open source model to compute noise maps.",
           "Mobility and Transportation",
           "https://github.com/Universite-Gustave-Eiffel/NoiseModelling.git",
           0.5244956772334294
          ],
          [
           "A computer vision application designed for do-it-yourself artificial intelligence including object detection, object tracking, image/video annotation, image/video search, image mosaicing, stereo measurement, rapid model generation, and tools for the evaluation of different algorithms.",
           "Biosphere",
           "https://github.com/VIAME/VIAME.git",
           0.053468433359314
          ],
          [
           "A platform that provides services for collecting and storing data from buildings and devices. It provides an environment for developing applications that interact with data.",
           "Buildings and Heating",
           "https://github.com/VOLTTRON/volttron.git",
           0.5896830748482805
          ],
          [
           "Extracting and quantifying graphical representations of river and delta channel networks from binary masks.",
           "Hydrosphere",
           "https://github.com/VeinsOfTheEarth/RivGraph.git",
           0.5737051792828685
          ],
          [
           "Easy access to high-resolution daily climate data for Europe.",
           "Climate Data Processing and Access",
           "https://github.com/VeruGHub/easyclimate.git",
           0.1057692307692307
          ],
          [
           "A Modelica library for hybrid hydrogen fuel cell and battery power systems.",
           "Hydrogen",
           "https://github.com/Virtual-FCS/VirtualFCS.git",
           0.575
          ],
          [
           "An online, global and near real-time forest monitoring tool.",
           "Biosphere",
           "https://github.com/Vizzuality/gfw.git",
           0.6636363636363636
          ],
          [
           "Platform for direct visualization, analysis and reporting of soil organic carbon predictions and changes over time.",
           "Soil and Land",
           "https://github.com/Vizzuality/soils-revealed.git",
           0.0919282511210762
          ],
          [
           "Brings unprecedented transparency to commodity supply chains revealing new pathways towards achieving a deforestation-free economy.",
           "Life Cycle Assessment",
           "https://github.com/Vizzuality/trase.git",
           0.7493408331868519
          ],
          [
           "Wave Energy Converter Simulator is an open source code for simulating wave energy converters.",
           "Hydro Energy",
           "https://github.com/WEC-Sim/WEC-Sim.git",
           0.6109839816933638
          ],
          [
           "Assesses the potential risk and forecasts the impact of climate hazards on the most vulnerable communities, in order to design risk reduction activities and target disaster responses.",
           "Natural Hazard and Poverty",
           "https://github.com/WFP-VAM/prism-app.git",
           0.6728016359918201
          ],
          [
           "The Land-based Balance-of-System Systems Engineering model is a systems engineering tool that estimates the balance-of-system costs associated with installing utility scale wind plants (10, 1.5 MW turbines or larger).",
           "Wind Energy",
           "https://github.com/WISDEM/LandBOSSE.git",
           0.3974630021141648
          ],
          [
           "Offshore Renewable Balance-of-system Installation Tool computes capital costs and activity times for offshore wind plant balance-of-system (everything besides the turbine) costs.",
           "Wind Energy",
           "https://github.com/WISDEM/ORBIT.git",
           0.0557620817843865
          ],
          [
           "WEIS is a framework that combines multiple tools to enable design optimization of floating offshore wind turbines.",
           "Wind Energy",
           "https://github.com/WISDEM/WEIS.git",
           0.5944811037792441
          ],
          [
           "Wind Plant Integrated System Design and Engineering Model.",
           "Wind Energy",
           "https://github.com/WISDEM/WISDEM.git",
           0.5529850746268656
          ],
          [
           "Windfarm Operations & Maintenance cost-Benefit Analysis Tool.",
           "Wind Energy",
           "https://github.com/WISDEM/WOMBAT.git",
           0.0697674418604651
          ],
          [
           "A set of codes to compute carrier capture and recombination rates in semiconducting compounds like solar cells.",
           "Photovoltaics and Solar Energy",
           "https://github.com/WMD-group/CarrierCapture.jl.git",
           0.5850622406639003
          ],
          [
           "A set of Python based tools developed for estimating and mapping evapotranspiration for large areas, utilizing the Landsat image archive.",
           "Biosphere",
           "https://github.com/WSWUP/pymetric.git",
           0.2335766423357664
          ],
          [
           "Visualises the most recent and high-resolution data of current scientific publications on marine plastic pollution.",
           "Circular Economy and Waste",
           "https://github.com/WWF-Deutschland/marine-plastic-explorer.git",
           0.196969696969697
          ],
          [
           "A watershed-modeling web app for citizens, conservation practitioners, municipal decision-makers, educators, and students.",
           "Water Supply and Quality",
           "https://github.com/WikiWatershed/model-my-watershed.git",
           0.2797411647585863
          ],
          [
           "Blends structured wildlife research with artificial intelligence, citizen science, and computer vision to speed population analysis and develop new insights to help fight extinction.",
           "Biosphere",
           "https://github.com/WildMeOrg/Wildbook.git",
           0.7769125057260651
          ],
          [
           "An open-source computer program for the analysis of wave diffraction and radiation of three-dimensional floating or submerged structures.",
           "Wind Energy",
           "https://github.com/YingyiLiu/HAMS.git",
           0.138728323699422
          ],
          [
           "Designed for green finance and environmental risk research focused on data collecting and analyzing in green finance and environmental risk research and analysis.",
           "Sustainable Investment",
           "https://github.com/Yuanchao-Xu/gfer.git",
           0
          ],
          [
           "Mainly focuses on data process and visualization in hydrology and climate forecasting.",
           "Climate Data Processing and Access",
           "https://github.com/Yuanchao-Xu/hyfo.git",
           0
          ],
          [
           "A traffic simulation game exploring how small changes to roads affect cyclists, transit users, pedestrians, and drivers.",
           "Mobility and Transportation",
           "https://github.com/a-b-street/abstreet.git",
           0.0502191609267376
          ],
          [
           "A collection of remote climate data accessed via intake cached to disk.",
           "Climate Data Processing and Access",
           "https://github.com/aaronspring/remote_climate_data.git",
           0.1909090909090909
          ],
          [
           "An R package to calculate carbon footprints from air travel based on IATA airport codes or latitude and longitude.",
           "Carbon Intensity and Accounting",
           "https://github.com/acircleda/footprint.git",
           0
          ],
          [
           "R package for analysis and visualisation of biological signals in weather radar data.",
           "Biosphere",
           "https://github.com/adokter/bioRad.git",
           0.5056242969628797
          ],
          [
           "A framework developed for implementing crop simulation models developed in Wageningen.",
           "Biosphere",
           "https://github.com/ajwdewit/pcse.git",
           0.1761194029850746
          ],
          [
           "The focus is understanding vegetation patterns in semi-arid environments.",
           "Biosphere",
           "https://github.com/alan-turing-institute/monitoring-ecosystem-resilience.git",
           0.6034618410700237
          ],
          [
           "The palmerpenguins data contains size measurements for three penguin species observed on three islands in the Palmer Archipelago, Antarctica.",
           "Biosphere",
           "https://github.com/allisonhorst/palmerpenguins.git",
           0.1842105263157895
          ],
          [
           "Dotnet library for integrating with GBFS bikeshare systems.",
           "Mobility and Transportation",
           "https://github.com/andmos/BikeshareClient.git",
           0.25
          ],
          [
           "Detect and segment individual tree from remotely sensed data.",
           "Biosphere",
           "https://github.com/andrew-plowright/ForestTools.git",
           0.04
          ],
          [
           "Developed to near-automatically extract tree-level point clouds from high-density larger-area lidar point clouds acquired in forests.",
           "Biosphere",
           "https://github.com/apburt/treeseg.git",
           0.0999999999999999
          ],
          [
           "A philanthropically funded system to help people manage their local marine ecosystems in the face of increasing Ocean temperatures.",
           "Hydrosphere",
           "https://github.com/aqualinkorg/aqualink-app.git",
           0.5324858757062148
          ],
          [
           "Oil Production Greenhouse Gas Emissions Estimator.",
           "Emission Observation and Modeling",
           "https://github.com/arbrandt/OPGEE.git",
           0.3712660028449502
          ],
          [
           "Helps you to analyze the effects of building retrofits, land-use planning, district heating and cooling and renewable energy on the future costs, emissions and energy consumption of neighborhoods and districts.",
           "Buildings and Heating",
           "https://github.com/architecture-building-systems/CityEnergyAnalyst.git",
           0.7044633368756642
          ],
          [
           "This package provides some methods to create emissions (with a focus on vehicular emissions) for use in numeric air quality models such as WRF-Chem.",
           "Emission Observation and Modeling",
           "https://github.com/atmoschem/EmissV.git",
           0.0339366515837104
          ],
          [
           "An R package that provides functions to read emissions from VEIN and from other models in different formats and export the emissions into the appropriate format suitable to other models.",
           "Emission Observation and Modeling",
           "https://github.com/atmoschem/eixport.git",
           0.4322916666666666
          ],
          [
           "A radiative transfer model for the millimeter and sub-millimeter spectral range.",
           "Radiative Transfer",
           "https://github.com/atmtools/arts.git",
           0.5420353982300885
          ],
          [
           "Offshore Steel structure calculation tool with automatic optimization and report generation.",
           "Wind Energy",
           "https://github.com/audunarn/ANYstructure.git",
           0.0029542097488921
          ],
          [
           "Modelling and optimal control of single- and multiple-kite systems for airborne wind energy.",
           "Wind Energy",
           "https://github.com/awebox/awebox.git",
           0.3753976670201484
          ],
          [
           "Basin and Landscape Dynamics is a long-term surface evolution model built to simulate landscape development, sediment transport and sedimentary basins formation from upstream regions down to marine environments.",
           "Hydrosphere",
           "https://github.com/badlands-model/badlands.git",
           0.2035010940919037
          ],
          [
           "A partial equilibrium model for analyzing the electricity and combined heat and power sectors in an international perspective.",
           "Energy Modeling and Optimization",
           "https://github.com/balmorelcommunity/Balmorel.git",
           0.1486146095717884
          ],
          [
           " Easy visualization, analysis, and comparison of battery data across institutions.",
           "Battery",
           "https://github.com/battery-lcf/batteryarchive.git",
           0
          ],
          [
           "An R package to facilitate analysis and visualization of groundwater data from the British Columbia groundwater observation well network.",
           "Water Supply and Quality",
           "https://github.com/bcgov/bcgroundwater.git",
           0.497907949790795
          ],
          [
           "An R package to download open water quality data from Environment and Climate Change Canada's National Long-term Water Quality Monitoring Data.",
           "Water Supply and Quality",
           "https://github.com/bcgov/canwqdata.git",
           0.073170731707317
          ],
          [
           "An R package to analyze, summarize, and visualize daily streamflow data.",
           "Water Supply and Quality",
           "https://github.com/bcgov/fasstr.git",
           0.0210355987055016
          ],
          [
           "R scripts for a greenhouse gases emissions indicator published on Environmental Reporting British Columbia.",
           "Emission Observation and Modeling",
           "https://github.com/bcgov/ghg-emissions-indicator.git",
           0.475177304964539
          ],
          [
           "R scripts for an indicator on long-term trends in groundwater levels in British Columbia published on Environmental Reporting British Columbia.",
           "Water Supply and Quality",
           "https://github.com/bcgov/groundwater-levels-indicator.git",
           0.4174757281553398
          ],
          [
           "Groundwater Wells and Aquifers application for the Ministry of Environment in British Columbia.",
           "Water Supply and Quality",
           "https://github.com/bcgov/gwells.git",
           0.7089129314786193
          ],
          [
           "Wildfire Predictive Services to support decision making in prevention, preparedness, response and recovery.",
           "Biosphere",
           "https://github.com/bcgov/wps.git",
           0.7411561691113029
          ],
          [
           "An R package for water quality thresholds and index calculation for British Columbia.",
           "Water Supply and Quality",
           "https://github.com/bcgov/wqbc.git",
           0.4216524216524216
          ],
          [
           "The goal of the climate R package is to automatize downloading of meteorological and hydrological data from publicly available repositories.",
           "Meteorological Observation and Forecast",
           "https://github.com/bczernecki/climate.git",
           0.4011299435028248
          ],
          [
           "A repository and resource for benthic image analysis.",
           "Hydrosphere",
           "https://github.com/beijbom/coralnet.git",
           0.2841952634122764
          ],
          [
           "Utilities to support landscape-, forest-, and tree-related data collection, manipulation, analysis, modelling, and visualization.",
           "Biosphere",
           "https://github.com/bi0m3trics/spanner.git",
           0.1408450704225352
          ],
          [
           "Used to calculate heat loss and gain on a timestep basis from building foundations.",
           "Buildings and Heating",
           "https://github.com/bigladder/kiva.git",
           0.3382570162481536
          ],
          [
           "Bike registration that works: online, powerful, free.",
           "Mobility and Transportation",
           "https://github.com/bikeindex/bike_index.git",
           0.1265582655826558
          ],
          [
           "The National Electricity Market Optimizer is a chronological dispatch model for testing and optimizing different portfolios of conventional and renewable electricity generation technologies.",
           "Energy Modeling and Optimization",
           "https://github.com/bje-/NEMO.git",
           0
          ],
          [
           "A versatile simulation and optimization platform for power-system planning and operations.",
           "Energy Modeling and Optimization",
           "https://github.com/blue-marble/gridpath.git",
           0.2306489444878812
          ],
          [
           "Provides easy access to the European Centre for Medium-Range Weather Forecasts web API services and Copernicus Climate Data Store from within R, matching and expanding upon the ECMWF Python tools.",
           "Earth and Climate Modeling",
           "https://github.com/bluegreen-labs/ecmwfr.git",
           0.2135922330097087
          ],
          [
           "Facilitates the retrieval and post-processing of PhenoCam time series.",
           "Biosphere",
           "https://github.com/bluegreen-labs/phenocamr.git",
           0.0352941176470588
          ],
          [
           "An R package to download the most up to date climate indices.",
           "Climate Data Processing and Access",
           "https://github.com/boshek/rsoi.git",
           0.1333333333333333
          ],
          [
           "Data, metadata, and software tools for the COSORE database of continuous soil respiration measurements.",
           "Soil and Land",
           "https://github.com/bpbond/cosore.git",
           0.0179487179487179
          ],
          [
           "Global soil respiration database.",
           "Soil and Land",
           "https://github.com/bpbond/srdb.git",
           0.1099656357388316
          ],
          [
           "An open source framework for life cycle assessment.",
           "Life Cycle Assessment",
           "https://github.com/brightway-lca/brightway2.git",
           0.0118203309692671
          ],
          [
           "A Python library aims to empower wind resource analysts and establish a common industry standard toolset.",
           "Wind Energy",
           "https://github.com/brightwind-dev/brightwind.git",
           0.5629139072847682
          ],
          [
           "An R package to select, download and read climate data from the German Weather Service.",
           "Meteorological Observation and Forecast",
           "https://github.com/brry/rdwd.git",
           0.0075187969924812
          ],
          [
           "An algorithm developed to monitor for low-magnitude forest disturbances using Landsat data.",
           "Biosphere",
           "https://github.com/bullocke/coded.git",
           0
          ],
          [
           "Open-source Visualization of Weather and Climate Data.",
           "Atmosphere",
           "https://github.com/byrd-polar/fluid-earth.git",
           0.0203951561504143
          ],
          [
           "A framework to develop energy system models, with a focus on flexibility, high spatial and temporal resolution, the ability to execute many runs based on the same base model, and a clear separation of framework and model.",
           "Energy Modeling and Optimization",
           "https://github.com/calliope-project/calliope.git",
           0.243161094224924
          ],
          [
           "A model of the European electricity system built using Calliope.",
           "Energy Modeling and Optimization",
           "https://github.com/calliope-project/euro-calliope.git",
           0.3506172839506173
          ],
          [
           "A Python package for the simulation of the interaction between water waves and floating bodies in frequency domain.",
           "Hydro Energy",
           "https://github.com/capytaine/capytaine.git",
           0.0330672748004561
          ],
          [
           "Allows to visualize the electricity consumption and greenhouse gases emissions that your Internet browsing leads to.",
           "Computation and Communication",
           "https://github.com/carbonalyser/Carbonalyser.git",
           0.175
          ],
          [
           "Open science reports on carbon removal projects and technologies.",
           "Carbon Capture and Removal",
           "https://github.com/carbonplan/cdr-database.git",
           0.294820717131474
          ],
          [
           "Climate downscaling using CMIP6 data.",
           "Climate Data Processing and Access",
           "https://github.com/carbonplan/cmip6-downscaling.git",
           0.6579439252336449
          ],
          [
           "Statistical models of forest carbon potential and risks.",
           "Biosphere",
           "https://github.com/carbonplan/forest-risks.git",
           0.521551724137931
          ],
          [
           "An R Package for NASA's Global Ecosystem Dynamics Investigation (GEDI) Data Visualization and Processing.",
           "Biosphere",
           "https://github.com/carlos-alberto-silva/rGEDI.git",
           0.3969594594594594
          ],
          [
           "Makes the US' energy data easier to access and use.",
           "Datasets on Energy Systems",
           "https://github.com/catalyst-cooperative/pudl.git",
           0.492288322316651
          ],
          [
           "An R package with modeling tools for C3 photosynthesis, as well as analytical tools for curve-fitting plant ecophysiology responses.",
           "Biosphere",
           "https://github.com/cdmuir/photosynthesis.git",
           0.0701754385964912
          ],
          [
           "Python library for climate indices and climate indicators calculation.",
           "Climate Data Processing and Access",
           "https://github.com/cerfacs-globc/icclim.git",
           0.2906287069988137
          ],
          [
           "The conventions for CF (Climate and Forecast) metadata are designed to promote the processing and sharing of files created with the NetCDF API.",
           "Climate Data Processing and Access",
           "https://github.com/cf-convention/cf-conventions.git",
           0.7483801295896328
          ],
          [
           "Matlab tools for loading, interpolating, and displaying BedMachine ice sheet topography.",
           "Cryosphere",
           "https://github.com/chadagreene/BedMachine.git",
           0
          ],
          [
           "Open Dataset of Electric Vehicle specs.",
           "Mobility and Transportation",
           "https://github.com/chargeprice/open-ev-data.git",
           0.0666666666666666
          ],
          [
           "Interactive (Heat Transfer) Simulations for Everyone.",
           "Geothermal Energy",
           "https://github.com/charxie/multiphysics.git",
           0
          ],
          [
           "A Python module which makes it easy for coastal engineers and scientists to test and use various empirical wave runup models which have been published in literature.",
           "Hydrosphere",
           "https://github.com/chrisleaman/py-wave-runup.git",
           0.2233502538071066
          ],
          [
           "An incomplete toolbox of scripts and modules used for analysis of climate models and climate data.",
           "Earth and Climate Modeling",
           "https://github.com/chrisroadmap/climateforcing.git",
           0
          ],
          [
           "The standard represents the results and findings of an extensive six-year research into the needs of stakeholders in the fashion industry to achieve a circular economy.",
           "Circular Economy and Waste",
           "https://github.com/circularfashion/cf-circularity-id-standard.git",
           0.4516129032258065
          ],
          [
           "A Multi-Agent Reinforcement Learning Environment for Large Scale City Traffic Scenario.",
           "Mobility and Transportation",
           "https://github.com/cityflow-project/CityFlow.git",
           0.5675675675675675
          ],
          [
           "An open access, contributer-led database of emission factors, validated by the team at Climatiq.",
           "Carbon Intensity and Accounting",
           "https://github.com/climatiq/Open-Emission-Factors-DB.git",
           0.773841961852861
          ],
          [
           "A Python package for process-oriented climate modeling.",
           "Earth and Climate Modeling",
           "https://github.com/climlab/climlab.git",
           0.066571224051539
          ],
          [
           "A tool to estimate energy use (kilowatt-hours) and carbon emissions (metric tons CO2e) from public cloud usage.",
           "Computation and Communication",
           "https://github.com/cloud-carbon-footprint/cloud-carbon-footprint.git",
           0.8300304878048781
          ],
          [
           "Used to produce the Global Flood Database and assess changes in population exposed to floods.",
           "Natural Hazard and Poverty",
           "https://github.com/cloudtostreet/MODIS_GlobalFloodDatabase.git",
           0.5
          ],
          [
           "Reduce the environmental footprint of your software applications with this cutting-edge sonarQube plugin.",
           "Computation and Communication",
           "https://github.com/cnumr/ecoCode.git",
           0.7590361445783133
          ],
          [
           "A team of volunteers at Code for Boston who are using data modeling, data visualization and machine learning to predict, visualize, and share data about the presence of hazardous drinking and surface water contaminants in the United States.",
           "Water Supply and Quality",
           "https://github.com/codeforboston/safe-water.git",
           0.8553459119496856
          ],
          [
           "Formed to develop open source software components related to IEC 61850 model implementation (profile management) and configuration of a power industry Protection Automation and Control System.",
           "Energy Modeling and Optimization",
           "https://github.com/com-pas/compas-architecture.git",
           0.3406113537117904
          ],
          [
           "A self-hosted platform to order meals in your neighborhood and get them delivered by bike couriers.",
           "Mobility and Transportation",
           "https://github.com/coopcycle/coopcycle-web.git",
           0.1738342594829669
          ],
          [
           "End-to-end algorithm to generate open water cover mask, specially conceived for L2A Sentinel 2 imagery from MAJA1 processor, without any a priori knowledge on the scene.",
           "Hydrosphere",
           "https://github.com/cordmaur/WaterDetect.git",
           0.237410071942446
          ],
          [
           "Make essential Climate Change datasets easily available to non-climate experts.",
           "Climate Data Processing and Access",
           "https://github.com/cortinah/hockeystick.git",
           0
          ],
          [
           "Database with information about Nuclear Power Plants worldwide.",
           "Datasets on Energy Systems",
           "https://github.com/cristianst85/GeoNuclearData.git",
           0.0389610389610389
          ],
          [
           "Solves the energy balance at the surface and is coupled to an adaptive vertical multi-layer subsurface module.",
           "Cryosphere",
           "https://github.com/cryotools/cosipy.git",
           0.1554878048780488
          ],
          [
           "A Python toolkit for running and coupling Earth surface models.",
           "Earth and Climate Modeling",
           "https://github.com/csdms/pymt.git",
           0.1828396322778345
          ],
          [
           "A Python library for computing Finite-Amplitude Local Wave Activity from climate data.",
           "Earth and Climate Modeling",
           "https://github.com/csyhuang/hn2016_falwa.git",
           0.0476190476190476
          ],
          [
           "Power system transient dynamics simulation with symbolic modeling and numerical analysis.",
           "Energy Modeling and Optimization",
           "https://github.com/cuihantao/andes.git",
           0.0791500664010623
          ],
          [
           "The goal of cyclestreets is to provide a simple R interface to the CycleStreets routing service.",
           "Mobility and Transportation",
           "https://github.com/cyclestreets/cyclestreets-r.git",
           0.0225563909774436
          ],
          [
           "A CartoCSS map style designed with cycling in mind.",
           "Mobility and Transportation",
           "https://github.com/cyclosm/cyclosm-cartocss-style.git",
           0.4460338101430429
          ],
          [
           "An ArcGIS CityEngine scenario oriented design tool intended to enable users to quickly create procedural generated multimodal streets.",
           "Mobility and Transportation",
           "https://github.com/d-wasserman/Complete_Street_Rule.git",
           0.0074906367041198
          ],
          [
           "Dutch Atmospheric Large-Eddy Simulation model.",
           "Earth and Climate Modeling",
           "https://github.com/dalesteam/dales.git",
           0.5104302477183833
          ],
          [
           "Plant phenotyping using computer vision.",
           "Biosphere",
           "https://github.com/danforthcenter/plantcv.git",
           0.6187088274044796
          ],
          [
           "Supporting documentation and software for the MPPT Solar Charger.",
           "Photovoltaics and Solar Energy",
           "https://github.com/danjulio/MPPT-Solar-Charger.git",
           0
          ],
          [
           "An R package for oceanographic processing.",
           "Hydrosphere",
           "https://github.com/dankelley/oce.git",
           0.0467860613633208
          ],
          [
           "The goal of our project is to localize CO2 emissions on Earth based on the the carbon concentration data measured by the OCO-2 Satellite from NASA.",
           "Emission Observation and Modeling",
           "https://github.com/dataforgoodfr/batch7_satellite_ges.git",
           0.6634304207119741
          ],
          [
           "An R package developed for the purpose of analyzing air quality data — or more generally atmospheric composition data.",
           "Air Quality",
           "https://github.com/davidcarslaw/openair.git",
           0.0284605433376455
          ],
          [
           "SLIDE is a C++ code that simulates degradation of lithium ion cell.",
           "Battery",
           "https://github.com/davidhowey/SLIDE.git",
           0.4038461538461538
          ],
          [
           "Learning on the sphere with a graph-based ConvNet.",
           "Climate Data Processing and Access",
           "https://github.com/deepsphere/deepsphere-pytorch.git",
           0.5
          ],
          [
           "Forecasting renewable energy generation in EU countries with machine learning algorithms, based on Streamlit and sktime.",
           "Energy Modeling and Optimization",
           "https://github.com/derevirn/renewcast.git",
           0
          ],
          [
           "Using Earth observations to address social, environmental and economic changes on the Africa continent.",
           "Data Catalogs and Interfaces",
           "https://github.com/digitalearthafrica/deafrica-sandbox-notebooks.git",
           0.6462668298653611
          ],
          [
           "An open source carpooling platform used as a basis for our commercial product Company Carpool.",
           "Mobility and Transportation",
           "https://github.com/diowa/icare.git",
           0.4920224234583872
          ],
          [
           "A Satellite Time Series Dataset for Crop Type Identification.",
           "Agriculture and Nutrition",
           "https://github.com/dl4sits/BreizhCrops.git",
           0.2442396313364055
          ],
          [
           "Simulator for modeling energy consumption in cloud, fog, and edge computing environments.",
           "Computation and Communication",
           "https://github.com/dos-group/leaf.git",
           0.0256410256410256
          ],
          [
           "A set of Python libraries for simulating power systems behavior with an emphasis on cost-benefit analysis of emerging technologies.",
           "Energy Modeling and Optimization",
           "https://github.com/dpinney/omf.git",
           0.5256283068783069
          ],
          [
           "Used for reading the smart meter DSMR (Dutch Smart Meter Requirements) P1 port yourself at your home.",
           "Buildings and Heating",
           "https://github.com/dsmrreader/dsmr-reader.git",
           0.0186113099498925
          ],
          [
           "Predicting total battery cycle life time with machine learning.",
           "Battery",
           "https://github.com/dsr-18/long-live-the-battery.git",
           0.4593639575971732
          ],
          [
           "Multi-system analysis package that identifies SDGs in text, opening up the opportunity to monitor any type of text-based data.",
           "Sustainable Development Goals",
           "https://github.com/dwulff/text2sdg.git",
           0.3733333333333333
          ],
          [
           "Enables users to apply machine learning techniques for classifying image time series obtained from earth observation data cubes.",
           "Soil and Land",
           "https://github.com/e-sensing/sits.git",
           0.6461273666092944
          ],
          [
           "A pipeflow calculation tool that complements pandapower in the simulation of multi energy grids, in particular heat and gas networks.",
           "Hydrogen",
           "https://github.com/e2nIEE/pandapipes.git",
           0.6701183431952662
          ],
          [
           "The objective of the research project SimBench is the development of a benchmark dataset to support research in grid planning and operation.",
           "Energy Distribution and Grids",
           "https://github.com/e2nIEE/simbench.git",
           0
          ],
          [
           "Google Earth Engine implementation of the LandTrendr spectral-temporal segmentation algorithm.",
           "Soil and Land",
           "https://github.com/eMapR/LT-GEE.git",
           0.0633484162895927
          ],
          [
           "Makes it easier to use hydrological models without having intimate knowledge about how to install and run the models.",
           "Hydrosphere",
           "https://github.com/eWaterCycle/ewatercycle.git",
           0.4858490566037735
          ],
          [
           "A set of codes for computing radiative fluxes in planetary atmospheres.",
           "Radiative Transfer",
           "https://github.com/earth-system-radiation/rte-rrtmgp.git",
           0.3457943925233645
          ],
          [
           "Classifying fire events from the Collection 6 MODIS Burned Area Product.",
           "Biosphere",
           "https://github.com/earthlab/firedpy.git",
           0.3027295285359801
          ],
          [
           "Trying to make access to weather data in Python feel like a warm summer breeze.",
           "Meteorological Observation and Forecast",
           "https://github.com/earthobservations/wetterdienst.git",
           0.3356258596973865
          ],
          [
           "Wind energy library, python and matlab tools for wind turbines analyses.",
           "Wind Energy",
           "https://github.com/ebranlard/welib.git",
           0
          ],
          [
           "A spatially distributed water resources model, developed by the Joint Research Centre of the European Commission since 1997.",
           "Natural Hazard and Poverty",
           "https://github.com/ec-jrc/lisflood-code.git",
           0.6170212765957447
          ],
          [
           "A module for Python which implements the Marine Heatwave definition of Hobday et al. (2016).",
           "Hydrosphere",
           "https://github.com/ecjoliver/marineHeatWaves.git",
           0
          ],
          [
           "A radiation scheme suitable for use in atmospheric weather and climate models.",
           "Earth and Climate Modeling",
           "https://github.com/ecmwf-ifs/ecrad.git",
           0.1902654867256636
          ],
          [
           "A library to calculate human thermal comfort indexes.",
           "Buildings and Heating",
           "https://github.com/ecmwf-projects/thermofeel.git",
           0.366412213740458
          ],
          [
           "A library for numerical weather prediction and climate modeling.",
           "Earth and Climate Modeling",
           "https://github.com/ecmwf/atlas.git",
           0.3333333333333333
          ],
          [
           "CALIbration and VERification of gridded fire danger models.",
           "Biosphere",
           "https://github.com/ecmwf/caliver.git",
           0.0052083333333333
          ],
          [
           "Python API to access the Copernicus Climate Data Store.",
           "Climate Data Processing and Access",
           "https://github.com/ecmwf/cdsapi.git",
           0.4631578947368421
          ],
          [
           "A Python interface to map GRIB files to the NetCDF Common Data Model following the CF Convention using ecCodes.",
           "Climate Data Processing and Access",
           "https://github.com/ecmwf/cfgrib.git",
           0.093525179856115
          ],
          [
           "A Python package aiming at simplifying access to climate and meteorological datasets, allowing users to focus on science instead of technical issues such as data access and data formats.",
           "Climate Data Processing and Access",
           "https://github.com/ecmwf/climetlab.git",
           0.4946386946386946
          ],
          [
           "A package to simplify the download of ECMWF open data.",
           "Data Catalogs and Interfaces",
           "https://github.com/ecmwf/ecmwf-opendata.git",
           0.0520833333333333
          ],
          [
           "A state-of-the-art remote sensing vegetation phenology extraction package.",
           "Biosphere",
           "https://github.com/eco-hydro/phenofit.git",
           0
          ],
          [
           "Monthly rainfall observations taken in the UK and Ireland, covering the period 1677-1960.",
           "Water Supply and Quality",
           "https://github.com/ed-hawkins/rainfall-rescue.git",
           0
          ],
          [
           "Discover and access easily the geospatial data catalogue of the European Environment Agency.",
           "Data Catalogs and Interfaces",
           "https://github.com/eea/geonetwork-eea.git",
           0.5793971042012818
          ],
          [
           "A real-time visualization of the CO2 emissions from electricity consumption.",
           "Carbon Intensity and Accounting",
           "https://github.com/electricitymaps/electricitymaps-contrib.git",
           0.5590631364562118
          ],
          [
           "Several functions and utilities that make R better for handling meteorological data in the tidy data paradigm.",
           "Meteorological Observation and Forecast",
           "https://github.com/eliocamp/metR.git",
           0.0031746031746031
          ],
          [
           "A solution that provides simple access to emissions data of climate-relevant gases.",
           "Emission Observation and Modeling",
           "https://github.com/emissions-api/emissions-api.git",
           0.7320441988950277
          ],
          [
           "A powerful open source web application for processing, logging and visualizing energy, temperature and other environmental data.",
           "Energy Monitoring and Control",
           "https://github.com/emoncms/emoncms.git",
           0.7925653969710876
          ],
          [
           "Allows applicants to demonstrate their ability to analyze and develop software that makes use of big energy production data.",
           "Datasets on Energy Systems",
           "https://github.com/enechange/EnergyDataSimulationChallenge.git",
           0.8878737541528239
          ],
          [
           "Allows to model a power system at any level of detail e.g. micro-grid, region, country, continent.",
           "Energy Modeling and Optimization",
           "https://github.com/energy-modelling-toolkit/Dispa-SET.git",
           0.5577507598784195
          ],
          [
           "Collects basic information on all the European hydro-power plants.",
           "Hydro Energy",
           "https://github.com/energy-modelling-toolkit/hydro-power-database.git",
           0.1132075471698113
          ],
          [
           "Making Energy Systems Modeling as simple as a linear regression in R.",
           "Energy Modeling and Optimization",
           "https://github.com/energyRt/energyRt.git",
           0.1807331628303495
          ],
          [
           "A set of toolkits that together provide a system for issuance and management of Energy Attribute Certificates.",
           "Energy Distribution and Grids",
           "https://github.com/energywebfoundation/origin.git",
           0.7071129707112971
          ],
          [
           "An Android App for collecting car sensor data for the enviroCar platform.",
           "Mobility and Transportation",
           "https://github.com/enviroCar/enviroCar-app.git",
           0.732045567112432
          ],
          [
           "A valuation model for analysis of energy storage technologies and some other energy resources paired with storage.",
           "Battery",
           "https://github.com/epri-dev/StorageVET.git",
           0.5
          ],
          [
           "A next-generation radiative transfer model for Earth observation applications.",
           "Radiative Transfer",
           "https://github.com/eradiate/eradiate.git",
           0.1590314136125654
          ],
          [
           "Provides a set of tools to scrape bike sharing data from different websites and APIs, thus providing a coherent and generalized set of classes and methods to access this sort of information.",
           "Mobility and Transportation",
           "https://github.com/eskerda/pybikes.git",
           0.3974999999999999
          ],
          [
           "The Earth System Modeling Framework is a suite of software tools for developing high-performance, multi-component Earth science modeling applications.",
           "Earth and Climate Modeling",
           "https://github.com/esmf-org/esmf.git",
           0.6790805115781171
          ],
          [
           "A Machine Learning Pipeline to Predict Vegetation Health.",
           "Soil and Land",
           "https://github.com/esowc/ml_drought.git",
           0.4599999999999999
          ],
          [
           "A global network of nearly 4000 autonomous probes measuring pressure, temperature and salinity from the surface to 2000m depth every 10 days.",
           "Hydrosphere",
           "https://github.com/euroargodev/argopy.git",
           0.0856031128404669
          ],
          [
           "An extensible EV Charge Controller with PV integration implemented in Go.",
           "Mobility and Transportation",
           "https://github.com/evcc-io/evcc.git",
           0.2349794238683127
          ],
          [
           "Provides automated access to the global online data archives LP DAAC, LAADS and NSIDC as well as processing capabilities such as file conversion, mosaicking, subsetting and time series.",
           "Data Catalogs and Interfaces",
           "https://github.com/fdetsch/MODIS.git",
           0.1194379391100702
          ],
          [
           "One-dimensional convolutional neural networks (CNN) for the classification of soil texture based on hyperspectral data.",
           "Soil and Land",
           "https://github.com/felixriese/CNN-SoilTextureClassification.git",
           0
          ],
          [
           "Forestry and Agriculture Biomass Input-Output Tables.",
           "Agriculture and Nutrition",
           "https://github.com/fineprint-global/fabio.git",
           0.478021978021978
          ],
          [
           "Physical multi-regional input-output model for forestry, wood and paper products.",
           "Life Cycle Assessment",
           "https://github.com/fineprint-global/forbio.git",
           0.3877551020408163
          ],
          [
           "Provides R functions to conduct typical introductory fisheries analyses.",
           "Agriculture and Nutrition",
           "https://github.com/fishR-Core-Team/FSA.git",
           0.0544554455445545
          ],
          [
           "Helps fisheries scientists collect measurements from calcified structures and back-calculate estimated lengths at previous ages.",
           "Agriculture and Nutrition",
           "https://github.com/fishR-Core-Team/RFishBC.git",
           0
          ],
          [
           "A python interface for the Ocean Successive Orders with Atmosphere radiative transfer.",
           "Earth and Climate Modeling",
           "https://github.com/fnemina/pyOSOAA.git",
           0
          ],
          [
           "Global Forest Carbon Database.",
           "Biosphere",
           "https://github.com/forc-db/ForC.git",
           0.6107129385137684
          ],
          [
           "Quantify carbon sequestration in naturally regenerating forests around the world.",
           "Biosphere",
           "https://github.com/forc-db/GROA.git",
           0.467741935483871
          ],
          [
           "This public repository is a portal for climate data and information for ForestGEO sites.",
           "Earth and Climate Modeling",
           "https://github.com/forestgeo/Climate.git",
           0.4798136645962733
          ],
          [
           "Open Source database of oil, gas and coal production and reserves globally, expressed in CO2-equivalent.",
           "Emission Observation and Modeling",
           "https://github.com/fossilfuelregistry/portal-v2.git",
           0.5675675675675675
          ],
          [
           "Used to perform cost-benefit and cost-effectiveness analyses of greenhouse gas emission reduction policies.",
           "Sustainable Investment",
           "https://github.com/fund-model/MimiFUND.jl.git",
           0.3890977443609023
          ],
          [
           "Tracarbon tracks your device's energy consumption and calculates your carbon emissions using your location.",
           "Computation and Communication",
           "https://github.com/fvaleye/tracarbon.git",
           0.4285714285714286
          ],
          [
           "Uniform interface to climate models of varying complexity and completeness.",
           "Earth and Climate Modeling",
           "https://github.com/gaelforget/ClimateModels.jl.git",
           0.0023866348448687
          ],
          [
           "Dataset of images of trash. Torch-based CNN for garbage image classification.",
           "Circular Economy and Waste",
           "https://github.com/garythung/trashnet.git",
           0
          ],
          [
           "Using global reanalyses for permafrost simulation.",
           "Soil and Land",
           "https://github.com/geocryology/globsim.git",
           0.5686274509803921
          ],
          [
           "An open source Fortran code for the numerical solution of the Sea Level Equation for a spherical, layered, rotating earth with viscoelastic rheology.",
           "Water Supply and Quality",
           "https://github.com/geodynamics/selen.git",
           0.3983739837398373
          ],
          [
           "A Python-based toolkit containing useful functions for working specifically with the GEOS-Chem model of atmospheric chemistry and composition.",
           "Atmosphere",
           "https://github.com/geoschem/gcpy.git",
           0.6527777777777778
          ],
          [
           "Advance understanding of human and natural influences on the environment through a comprehensive, state-of-the-science, readily accessible global model of atmospheric composition.",
           "Atmosphere",
           "https://github.com/geoschem/geos-chem.git",
           0.5625306522805297
          ],
          [
           "Forest refuge areas and carbon emissions from tropical deforestation in the 21st century.",
           "Biosphere",
           "https://github.com/ghislainv/forestatrisk-tropics.git",
           0
          ],
          [
           "A Python package to model and forecast the risk of deforestation.",
           "Biosphere",
           "https://github.com/ghislainv/forestatrisk.git",
           0.0117416829745596
          ],
          [
           "Designed to simulate the hydrodynamics in continental-scale rivers.",
           "Natural Hazard and Poverty",
           "https://github.com/global-hydrodynamics/CaMa-Flood_v4.git",
           0.2580645161290322
          ],
          [
           "Global Biotic Interactions provides access to existing species interaction datasets.",
           "Biosphere",
           "https://github.com/globalbioticinteractions/globalbioticinteractions.git",
           0.5
          ],
          [
           "A tool capable of modeling walking and cycling accessibility.",
           "Mobility and Transportation",
           "https://github.com/goat-community/goat.git",
           0.5708897270911915
          ],
          [
           "A global history of the climate highly accessible in the cloud.",
           "Earth and Climate Modeling",
           "https://github.com/google-research/ARCO-ERA5.git",
           0
          ],
          [
           "A Python library for reading, validating and writing transit schedule information in the GTFS format.",
           "Mobility and Transportation",
           "https://github.com/google/transitfeed.git",
           0.4968553459119497
          ],
          [
           "A series of command-line tools to make common data engineering tasks easier for researchers in climate and weather.",
           "Climate Data Processing and Access",
           "https://github.com/google/weather-tools.git",
           0.4680851063829787
          ],
          [
           "The General Ocean Turbulence Model is an ambitious name for a one-dimensional water column model for marine and limnological applications.",
           "Hydrosphere",
           "https://github.com/gotm-model/code.git",
           0.4844192634560906
          ],
          [
           "The complete set of tools for energy consumption analysis of programming languages, using Computer Language Benchmark Game.",
           "Computation and Communication",
           "https://github.com/greensoftwarelab/Energy-Languages.git",
           0.4499999999999999
          ],
          [
           "A Python-based package for electrical grid optimization based on the Pyomo optimization modeling language.",
           "Energy Distribution and Grids",
           "https://github.com/grid-parity-exchange/Egret.git",
           0.4189189189189189
          ],
          [
           "An interface to download and deploy interconnected, grid-aware energy marketplaces.",
           "Energy Distribution and Grids",
           "https://github.com/gridsingularity/gsy-e.git",
           0.7478344562078922
          ],
          [
           "The public transport companion that respects your privacy and your freedom.",
           "Mobility and Transportation",
           "https://github.com/grote/Transportr.git",
           0.1609477124183006
          ],
          [
           "Turn OpenStreetMap data and schedule information into GTFS.",
           "Mobility and Transportation",
           "https://github.com/grote/osm2gtfs.git",
           0.6296296296296297
          ],
          [
           "A large-scale dataset for vehicle energy consumption research.",
           "Mobility and Transportation",
           "https://github.com/gsoh/VED.git",
           0
          ],
          [
           "A Python interface for the netCDF4 file format that reads and writes local or remote HDF5 files directly via h5py or h5pyd, without relying on the Unidata netCDF library.",
           "Climate Data Processing and Access",
           "https://github.com/h5netcdf/h5netcdf.git",
           0.565
          ],
          [
           "An open source and user-friendly Python package that enables scientists and interested amateurs to analyze and visualize ocean model datasets.",
           "Hydrosphere",
           "https://github.com/hainegroup/oceanspy.git",
           0.5377551020408163
          ],
          [
           "Contains Python code for Two Source Energy Balance models (Priestley-Taylor TSEB-PT, Dual Time Difference DTD and TSEB with component soil and canopy temperatures TSEB-2T) for estimating sensible and latent heat flux based on measurements of radiometric surface temperature.",
           "Soil and Land",
           "https://github.com/hectornieto/pyTSEB.git",
           0.3865248226950354
          ],
          [
           "Helps you to find out which food ingredients are vegan / non-vegan.",
           "Agriculture and Nutrition",
           "https://github.com/hmontazeri/is-vegan.git",
           0.4236111111111111
          ],
          [
           "An Integrated Assessment and Modelling software that integrates a crop, biogeochemical and a agro-economical model.",
           "Agriculture and Nutrition",
           "https://github.com/hollorol/AgroMo.git",
           0.6598639455782314
          ],
          [
           "Provides a rich toolkit of using whole building energy simulation program EnergyPlus directly in R, which enables programmatic navigation, modification of EnergyPlus, conducts parametric simulations and retrieves outputs.",
           "Buildings and Heating",
           "https://github.com/hongyuanjia/eplusr.git",
           0
          ],
          [
           "An open source web API, initially built to provide traveler information on urban transportation networks.",
           "Mobility and Transportation",
           "https://github.com/hove-io/navitia.git",
           0.8587618403247632
          ],
          [
           "Home Performance XML is a data transfer standard for the home performance industry.",
           "Buildings and Heating",
           "https://github.com/hpxmlwg/hpxml.git",
           0.4007490636704119
          ],
          [
           "Carbon Dioxide Removal Modeling Experiments.",
           "Carbon Capture and Removal",
           "https://github.com/hsbay/cdrmex.git",
           0.0063291139240506
          ],
          [
           "An open source software agent to track energy consumption of ICT services from the servers.",
           "Computation and Communication",
           "https://github.com/hubblo-org/scaphandre.git",
           0.2347140039447731
          ],
          [
           "Increase the accessibility and use of the USFS Forest Inventory and Analysis Database by providing a user-friendly, open source platform to easily query and analyze.",
           "Biosphere",
           "https://github.com/hunter-stanke/rFIA.git",
           0.0051282051282051
          ],
          [
           "A collaborative website for better access to data and models in the hydrologic sciences.",
           "Hydrosphere",
           "https://github.com/hydroshare/hydroshare.git",
           0.7481049054631002
          ],
          [
           "A Python software stack for retrieving hydroclimate data from web services.",
           "Hydrosphere",
           "https://github.com/hyriver/hyriver.github.io.git",
           0.5
          ],
          [
           "A Monte Carlo ray tracer for the optical simulation of solar concentrating systems.",
           "Photovoltaics and Solar Energy",
           "https://github.com/iat-cener/tonatiuh.git",
           0.0757918552036198
          ],
          [
           "A Modelica library for building and district energy systems developed within IBPSA Project 1.",
           "Buildings and Heating",
           "https://github.com/ibpsa/modelica-ibpsa.git",
           0.4578900709219858
          ],
          [
           "The OpenAI-Gym interface of the BOPTEST framework facilitates the assessment and benchmarking of RL algorithms for building energy management.",
           "Buildings and Heating",
           "https://github.com/ibpsa/project1-boptest-gym.git",
           0.0036231884057971
          ],
          [
           "The Building Optimization Testing (BOPTEST) Framework enables the assessment and benchmarking of control algorithms for building energy management.",
           "Buildings and Heating",
           "https://github.com/ibpsa/project1-boptest.git",
           0.3770114942528736
          ],
          [
           "Creates open source software that builds the basis of next generation computing tools for the design and operation of building and district energy and control systems.",
           "Buildings and Heating",
           "https://github.com/ibpsa/project1.git",
           0.5740432612312811
          ],
          [
           "Python tools for obtaining and working with ICESat-2 data.",
           "Cryosphere",
           "https://github.com/icesat2py/icepyx.git",
           0.3333333333333333
          ],
          [
           "Create future EnergyPlus Weather files using CMIP6 data.",
           "Climate Data Processing and Access",
           "https://github.com/ideas-lab-nus/epwshiftr.git",
           0.125
          ],
          [
           "Provides an extensive data model capable of modeling energy systems with high granularity e.g. for bottom-up simulations.",
           "Energy Modeling and Optimization",
           "https://github.com/ie3-institute/PowerSystemDataModel.git",
           0.6286982248520709
          ],
          [
           "Provides a simulation toolbox to run and implement large-scale agent-based electricity grid simulations with focus on distribution grids.",
           "Energy Distribution and Grids",
           "https://github.com/ie3-institute/simona.git",
           0.7028231797919762
          ],
          [
           "Assess water supply, water demand and environmental needs at global and regional level.",
           "Water Supply and Quality",
           "https://github.com/iiasa/CWatM.git",
           0.2285714285714285
          ],
          [
           "Source code for figure generation and analysis of the ENGAGE netzero scenario analysis.",
           "Integrated Assessment",
           "https://github.com/iiasa/ENGAGE-netzero-analysis.git",
           0
          ],
          [
           "A versatile, dynamic systems-optimization modeling framework developed by the IIASA Energy, Climate, and Environment (ECE) Program since the 1980s.",
           "Integrated Assessment",
           "https://github.com/iiasa/message_ix.git",
           0.478021978021978
          ],
          [
           "QGIS plugin for estimating impact from natural disasters.",
           "Natural Hazard and Poverty",
           "https://github.com/inasafe/inasafe.git",
           0.731155981015204
          ],
          [
           "Helps you identify the plants and animals around you.",
           "Biosphere",
           "https://github.com/inaturalist/inaturalist.git",
           0.2967533543150571
          ],
          [
           "An intake plugin for parsing an Earth System Model catalog and loading assets into xarray datasets.",
           "Climate Data Processing and Access",
           "https://github.com/intake/intake-esm.git",
           0.2095548317046688
          ],
          [
           "Official reinforcement learning environment for demand response and load shaping.",
           "Energy Modeling and Optimization",
           "https://github.com/intelligent-environments-lab/CityLearn.git",
           0.2052631578947368
          ],
          [
           "Build and maintain a global alliance that collaborates with scientific communities to facilitate free and open access to, and application of, biodiversity and biogeographic data and information on marine life.",
           "Biosphere",
           "https://github.com/iobis/robis.git",
           0.2249999999999999
          ],
          [
           " A MATLAB (or Octave) project to compute variables of ocean CO2 systems.",
           "Hydrosphere",
           "https://github.com/jamesorr/CO2SYS-MATLAB.git",
           0
          ],
          [
           "Are a core set of competencies needed to define, build and run sustainable software applications.",
           "Computation and Communication",
           "https://github.com/jawache/principles-green.git",
           0.4571428571428572
          ],
          [
           "An R package for α- and β-diversity mapping using remotely-sensed images.",
           "Biosphere",
           "https://github.com/jbferet/biodivMapR.git",
           0.0124999999999999
          ],
          [
           "WhiteboxTools is an advanced geospatial data analysis platform.",
           "Water Supply and Quality",
           "https://github.com/jblindsay/whitebox-tools.git",
           0.0472103004291845
          ],
          [
           "Displays the hourly carbon footprint of the US electricity system.",
           "Carbon Intensity and Accounting",
           "https://github.com/jdechalendar/gridemissions.git",
           0.0625
          ],
          [
           "R package for spatial analysis and modelling of ecological systems.",
           "Biosphere",
           "https://github.com/jeffreyevans/spatialEco.git",
           0.009009009009009
          ],
          [
           "Extract and tweak data from electro-chemical tests of battery cells.",
           "Battery",
           "https://github.com/jepegit/cellpy.git",
           0.0557913887204366
          ],
          [
           "Predicts the spectral albedo of snow and glacier ice between 200nm to 5000nm given information about the illumination conditions, ice structure and the type and concentration particulates.",
           "Cryosphere",
           "https://github.com/jmcook1186/biosnicar-py.git",
           0.2735042735042735
          ],
          [
           "The Conservation Assessment Ranking Tool is designed for use in the conservation planning process to assess resource concerns, planned practices and site vulnerability.",
           "Biosphere",
           "https://github.com/jneme910/CART.git",
           0.0076726342710997
          ],
          [
           "A free, open source, and cross-platform interactive computer program whose main focus is the interpretation of observation well hydrographs.",
           "Water Supply and Quality",
           "https://github.com/jnsebgosselin/gwhat.git",
           0.0004142502071251
          ],
          [
           "Android app to access the goingelectric.de electric vehicle charging station directory.",
           "Mobility and Transportation",
           "https://github.com/johan12345/EVMap.git",
           0.0432330827067669
          ],
          [
           "An R package that calculates various parameters of the carbonate system in seawater.",
           "Hydrosphere",
           "https://github.com/jpgattuso/seacarb-git.git",
           0.3282051282051282
          ],
          [
           "Python Tesla Powerwall API for consuming a local endpoint.",
           "Mobility and Transportation",
           "https://github.com/jrester/tesla_powerwall.git",
           0.1512605042016807
          ],
          [
           "An R interface to the US National Hydrography Dataset.",
           "Water Supply and Quality",
           "https://github.com/jsta/nhdR.git",
           0.0148809523809523
          ],
          [
           "A macOS menu bar application that displays live air quality data from the nearest sensor station.",
           "Air Quality",
           "https://github.com/jsynowiec/airqmon.git",
           0.1428571428571429
          ],
          [
           "Simulation Sandbox for the Design and Evaluation of Stormwater Control Algorithms.",
           "Natural Hazard and Poverty",
           "https://github.com/kLabUM/pystorms.git",
           0.1666666666666666
          ],
          [
           "The carbon footprint models used by carbonfact.co.",
           "Carbon Intensity and Accounting",
           "https://github.com/kansoapp/carbonfact-models.git",
           0
          ],
          [
           "A python module for interfacing with the US Geological Survey's API.",
           "Data Catalogs and Interfaces",
           "https://github.com/kapadia/usgs.git",
           0.1128205128205128
          ],
          [
           "Web application for organization of foodsaving groups worldwide.",
           "Agriculture and Nutrition",
           "https://github.com/karrot-dev/karrot-frontend.git",
           0.4512901527119536
          ],
          [
           "A deep learning approach to detecting deforestation risk, using satellite images and a deep learning model.",
           "Biosphere",
           "https://github.com/karthikraja95/fsdl_deforestation_detection.git",
           0.3207547169811321
          ],
          [
           "A plant simulator based on Finite Element Method, which targets crops in fields. This software provides multi-physical simulations of agriculture for canopies, plants, and organs for farmers, breeders, and agronomists.",
           "Agriculture and Nutrition",
           "https://github.com/kazulagi/plantFEM.git",
           0.4177215189873418
          ],
          [
           "A Plotly Dash application with helpful peak load visualizations and a day ahead forecasting model for five different ISOs.",
           "Energy Modeling and Optimization",
           "https://github.com/kbaranko/peaky-finders.git",
           0
          ],
          [
           "Aims at democratizing and accelerating the access to photovoltaic systems data in Germany and beyond.",
           "Photovoltaics and Solar Energy",
           "https://github.com/kdmayer/3D-PV-Locator.git",
           0
          ],
          [
           "Provides standardized API to access energy data from the major Independent System Operators in the United States.",
           "Datasets on Energy Systems",
           "https://github.com/kmax12/gridstatus.git",
           0.1217948717948718
          ],
          [
           "Multi-Regional Input-Output Analysis in Python.",
           "Life Cycle Assessment",
           "https://github.com/konstantinstadler/pymrio.git",
           0.0182926829268292
          ],
          [
           "Use computer vision to automatically segment debris and ice glaciers from satellite images.",
           "Cryosphere",
           "https://github.com/krisrs1128/glacier_mapping.git",
           0.3831242873432154
          ],
          [
           "A k8s operator to reduce CO2 footprint of your clusters.",
           "Computation and Communication",
           "https://github.com/kube-green/kube-green.git",
           0.1467576791808873
          ],
          [
           "An extensive collection of datasets from agricultural experiments.",
           "Agriculture and Nutrition",
           "https://github.com/kwstat/agridat.git",
           0
          ],
          [
           "Estimate the total emissions for popular CryptoArt platforms.",
           "Computation and Communication",
           "https://github.com/kylemcdonald/ethereum-nft-activity.git",
           0.196078431372549
          ],
          [
           "Estimate the total emissions for popular CryptoArt platforms.",
           "Computation and Communication",
           "https://github.com/kylemcdonald/ethereum-nft-activity.git",
           0.196078431372549
          ],
          [
           "Legacy dragonfly plugin for large-scale climate and urban heat island modeling.",
           "Earth and Climate Modeling",
           "https://github.com/ladybug-tools/dragonfly-legacy.git",
           0.2714285714285714
          ],
          [
           "A Python library to create, run and visualize the results of daylight (RADIANCE) and energy analysis (EnergyPlus/OpenStudio).",
           "Photovoltaics and Solar Energy",
           "https://github.com/ladybug-tools/honeybee.git",
           0.4323899371069182
          ],
          [
           "A Python application for modeling the urban heat island effect.",
           "Buildings and Heating",
           "https://github.com/ladybug-tools/uwg.git",
           0.2813102119460501
          ],
          [
           "An open source Python package for numerical modeling of Earth surface dynamics.",
           "Soil and Land",
           "https://github.com/landlab/landlab.git",
           0.5533164074896858
          ],
          [
           "A Julia/JuMP Package for Gas Network Optimization.",
           "Hydrogen",
           "https://github.com/lanl-ansi/GasModels.jl.git",
           0.5875
          ],
          [
           "Designed to enable computational evaluation of emerging power network formulations and algorithms in a common platform.",
           "Energy Distribution and Grids",
           "https://github.com/lanl-ansi/PowerModels.jl.git",
           0.1586368977673325
          ],
          [
           "An extension of PowerModels.jl that provides a home for open source sharing of preliminary and/or exploratory methods in power system optimization.",
           "Energy Distribution and Grids",
           "https://github.com/lanl-ansi/PowerModelsAnnex.jl.git",
           0.1875
          ],
          [
           "Designed to enable computational evaluation of historical and emerging water network formulations and algorithms using a common platform.",
           "Water Supply and Quality",
           "https://github.com/lanl-ansi/WaterModels.jl.git",
           0.09375
          ],
          [
           "Has proved to be a valuable asset on a variety of projects of national interest including Environmental Remediation of the Nevada Test Site, the LANL Groundwater Protection Program, geologic CO2 sequestration, Enhanced Geothermal Energy programs, Oil and Gas production, Nuclear Waste Isolation, and Arctic Permafrost.",
           "Geothermal Energy",
           "https://github.com/lanl/FEHM.git",
           0.159217877094972
          ],
          [
           "The Python-based open source platform for model predictive control in buildings.",
           "Buildings and Heating",
           "https://github.com/lbl-srg/MPCPy.git",
           0.0356435643564356
          ],
          [
           "A free and open source library with dynamic simulation models for building energy and control systems.",
           "Buildings and Heating",
           "https://github.com/lbl-srg/modelica-buildings.git",
           0.3642314189189189
          ],
          [
           "Performance Evaluation, Specification, Deployment and Verification of Building Control Sequences.",
           "Buildings and Heating",
           "https://github.com/lbl-srg/obc.git",
           0.4065743944636678
          ],
          [
           "Creating large scale energy system models with multiple periods of capacity expansion formulated as linear optimization problems.",
           "Energy Modeling and Optimization",
           "https://github.com/leonardgoeke/AnyMOD.jl.git",
           0
          ],
          [
           "This landscape is intended as a map to explore the open source projects in the energy sector, and also shows the member companies of the LF Energy Foundation.",
           "Knowledge Platforms",
           "https://github.com/lf-energy/lfenergy-landscape.git",
           0.4082051282051282
          ],
          [
           "A Matlab framework based on a finite volume model suitable for Li-ion battery design, simulation, and control.",
           "Battery",
           "https://github.com/lionsimbatoolbox/LIONSIMBA.git",
           0
          ],
          [
           "Basic tools to analyze forest fire history data (e.g. FHX) in R.",
           "Biosphere",
           "https://github.com/ltrr-arizona-edu/burnr.git",
           0.1968325791855203
          ],
          [
           "A collection of modules for accessing power system data, generating statistics, and creating visualizations from the New York Independent System Operator.",
           "Datasets on Energy Systems",
           "https://github.com/m4rz910/NYISOToolkit.git",
           0.101063829787234
          ],
          [
           "Mobility as a Service API - data model, tests and validation.",
           "Mobility and Transportation",
           "https://github.com/maasglobal/maas-schemas.git",
           0.7997284453496266
          ],
          [
           "Model of Agricultural Production and its Impact on the Environment.",
           "Agriculture and Nutrition",
           "https://github.com/magpiemodel/magpie.git",
           0.7343799058084772
          ],
          [
           "Breethe allows instant access to up to date air quality data for locations in Europe.",
           "Air Quality",
           "https://github.com/mainmatter/breethe-server.git",
           0.3633217993079585
          ],
          [
           "A dataset collection combining all publicly available self-declared crop reporting datasets from countries of the European Union.",
           "Agriculture and Nutrition",
           "https://github.com/maja601/EuroCrops.git",
           0.1186440677966101
          ],
          [
           "Efficient analysis of spatial biodiversity datasets for global portfolios.",
           "Biosphere",
           "https://github.com/mapme-initiative/mapme.biodiversity.git",
           0.322463768115942
          ],
          [
           "A marine debris-oriented dataset on Sentinel-2 satellite images.",
           "Circular Economy and Waste",
           "https://github.com/marine-debris/marine-debris.github.io.git",
           0.0454545454545454
          ],
          [
           "A four step transport model for Germany using the quetzal transport modeling suite.",
           "Mobility and Transportation",
           "https://github.com/marlinarnz/quetzal_germany.git",
           0
          ],
          [
           "A tool to measure consumption of a given Docker command and see its performance evolution. Argos is able to measure CPU, memory and network usage of Docker containers for a given command. By measuring resource consumption of dockerized E2E tests, Argos allows to compare the consumption of an app between its different versions.",
           "Computation and Communication",
           "https://github.com/marmelab/argos.git",
           0.4444444444444444
          ],
          [
           "A Pythonic library to classify tree/non-tree pixels from aerial imagery.",
           "Biosphere",
           "https://github.com/martibosch/detectree.git",
           0.0166666666666667
          ],
          [
           "An open-source Pythonic library to compute landscape metrics.",
           "Soil and Land",
           "https://github.com/martibosch/pylandstats.git",
           0.0264317180616739
          ],
          [
           "Fuel cell electric vehicle with battery model and cooling system.",
           "Hydrogen",
           "https://github.com/mathworks/Fuel-Cell-Vehicle-Model-Simscape.git",
           0
          ],
          [
           "This toolbox allows you to easily access data and download hundreds of data sets associated with climate change for analysis in MATLAB.",
           "Climate Data Processing and Access",
           "https://github.com/mathworks/climatedatastore.git",
           0
          ],
          [
           "Interactive hydrodynamic solver for sewer/stormwater networks.",
           "Water Supply and Quality",
           "https://github.com/mdbartos/pipedream.git",
           0.0387096774193548
          ],
          [
           "Simple and fast watershed delineation in Python.",
           "Water Supply and Quality",
           "https://github.com/mdbartos/pysheds.git",
           0.0604395604395604
          ],
          [
           "A toolkit for conceptual MDAO of aircraft with unconventional propulsion architectures.",
           "Mobility and Transportation",
           "https://github.com/mdolab/openconcept.git",
           0.1558441558441559
          ],
          [
           "Leverage your IoT enabled Solar PV Inverter to stream your solar energy usage data to a real time dashboard.",
           "Photovoltaics and Solar Energy",
           "https://github.com/meltaxa/solariot.git",
           0.4888888888888889
          ],
          [
           "A Fortran package for analysis and diagnostics on NEMO ocean model output.",
           "Hydrosphere",
           "https://github.com/meom-group/CDFTOOLS.git",
           0.0467882632831085
          ],
          [
           "GIS and scientific computation environment for meteorological community.",
           "Climate Data Processing and Access",
           "https://github.com/meteoinfo/MeteoInfo.git",
           0.0048780487804878
          ],
          [
           "Access and analyze historical weather and climate data with Python.",
           "Climate Data Processing and Access",
           "https://github.com/meteostat/meteostat-python.git",
           0.0344827586206896
          ],
          [
           "Designed to calculate air concentrations and deposition fields for major acidifying and eutrophying pollutants, photo-oxidants and particulate matter.",
           "Air Quality",
           "https://github.com/metno/emep-ctm.git",
           0.0397727272727272
          ],
          [
           "Designed for climate and weather data analysis, empirical-statistical downscaling, and visualisation.",
           "Climate Data Processing and Access",
           "https://github.com/metno/esd.git",
           0.4853717026378896
          ],
          [
           "Notebooks and documentation for AI-for-Earth-managed datasets on Azure.",
           "Data Catalogs and Interfaces",
           "https://github.com/microsoft/AIforEarthDataSets.git",
           0.1142857142857143
          ],
          [
           "Combines a multi-petabyte catalog of global environmental data with intuitive APIs and a flexible scientific environment.",
           "Data Catalogs and Interfaces",
           "https://github.com/microsoft/PlanetaryComputerDataCatalog.git",
           0.2762836185819071
          ],
          [
           "Tools for detecting wildlife in aerial images using active learning.",
           "Biosphere",
           "https://github.com/microsoft/aerial_wildlife_detection.git",
           0.1885714285714286
          ],
          [
           "An R package for getting point and gridded climate data by AOI.",
           "Climate Data Processing and Access",
           "https://github.com/mikejohnson51/climateR.git",
           0.0365853658536585
          ],
          [
           "Model the CO2 and non-CO2 effects like nitrogen oxide emissions and contrail formation to analyse aviation's total warming footprint.",
           "Emission Observation and Modeling",
           "https://github.com/milankl/FlyingClimate.git",
           0.1395348837209302
          ],
          [
           "Model of an idealized Moist Atmosphere: Intermediate-complexity General Circulation Model with full radiation.",
           "Atmosphere",
           "https://github.com/mjucker/MiMA.git",
           0.0582959641255604
          ],
          [
           "Designed as an educational tool for students and instructors of undergraduate and graduate courses in open channel hydraulics.",
           "Hydrosphere",
           "https://github.com/mkoohafkan/rivr.git",
           0
          ],
          [
           "Track emissions from Compute and recommend ways to reduce their impact on the environment.",
           "Computation and Communication",
           "https://github.com/mlco2/codecarbon.git",
           0.8112449799196787
          ],
          [
           "Compute your ML model's emissions with our calculator and add the results to your paper with our generated LaTeX template.",
           "Computation and Communication",
           "https://github.com/mlco2/impact.git",
           0.2197802197802197
          ],
          [
           "A command-line tool for processing raw emissions data into spatially and temporally-allocated emissions inventories, suitable for photochemicaly modeling or other analysis.",
           "Emission Observation and Modeling",
           "https://github.com/mmb-carb/ESTA.git",
           0.3235294117647058
          ],
          [
           "Python implementation of the Open Charge Point Protocol.",
           "Mobility and Transportation",
           "https://github.com/mobilityhouse/ocpp.git",
           0.3769230769230769
          ],
          [
           "A Python package to create, run, and post-process MODFLOW-based models.",
           "Water Supply and Quality",
           "https://github.com/modflowpy/flopy.git",
           0.7220762155059133
          ],
          [
           "A modular system to estimate greenhouse gas emissions and removals by the land sector.",
           "Soil and Land",
           "https://github.com/moja-global/About_moja_global.git",
           0.6061269146608315
          ],
          [
           "A numerical ocean model based on the hydrostatic primitive equations. Development of the model is managed through this GitHub site.",
           "Earth and Climate Modeling",
           "https://github.com/mom-ocean/MOM5.git",
           0.5382830626450116
          ],
          [
           "Contains Python implementations of various climate index algorithms which provide a geographical and temporal picture of the severity of precipitation and temperature anomalies useful for climate monitoring and research.",
           "Earth and Climate Modeling",
           "https://github.com/monocongo/climate_indices.git",
           0.0271565495207667
          ],
          [
           "Creating your own plant database in a visual way.",
           "Agriculture and Nutrition",
           "https://github.com/morkro/happy-plants.git",
           0.0114613180515759
          ],
          [
           "A suite of convenience functions for working with hydrology data in an interactive Python session.",
           "Water Supply and Quality",
           "https://github.com/mroberge/hydrofunctions.git",
           0.0309597523219814
          ],
          [
           "Source code for the paper Growing Urban Bicycle Networks, exploring algorithmically the limitations of urban bicycle network growth.",
           "Mobility and Transportation",
           "https://github.com/mszell/bikenwgrowth.git",
           0.0920245398773006
          ],
          [
           "A scalable smart garden system that allows you to maintain controls, monitor conditions, and sustainably manage resources of your garden.",
           "Agriculture and Nutrition",
           "https://github.com/mudpi/mudpi-core.git",
           0.1914357682619647
          ],
          [
           "Marine carbonate system calculations in Python.",
           "Hydrosphere",
           "https://github.com/mvdh7/PyCO2SYS.git",
           0.045964125560538
          ],
          [
           "A simple, open database of local government climate action plan documents and emissions data.",
           "Data Catalogs and Interfaces",
           "https://github.com/mysociety/caps.git",
           0.6346633416458853
          ],
          [
           "Effective climate sensitivity, effective 2xCO2 radiative forcing, and radiative feedbacks for all CMIP5 and CMIP6 models that have published output from abrupt CO2 quadrupling experiments.",
           "Earth and Climate Modeling",
           "https://github.com/mzelinka/cmip56_forcing_feedback_ecs.git",
           0
          ],
          [
           "Sea ice drift from Sentinel-1 SAR imagery using open source feature tracking.",
           "Cryosphere",
           "https://github.com/nansencenter/sea_ice_drift.git",
           0.0263157894736841
          ],
          [
           "NASA's Cryosphere Altimetry Processing Toolkit.",
           "Cryosphere",
           "https://github.com/nasa-jpl/captoolkit.git",
           0.0928792569659442
          ],
          [
           "An R package that can generate gridded ASCII tables of climate (CIMP5) and weather data (GPM, TRMM, GLDAS) needed to drive various hydrological models (e.g. SWAT, VIC, RHESSys).",
           "Climate Data Processing and Access",
           "https://github.com/nasa/NASAaccess.git",
           0
          ],
          [
           "A web application developed by NASA EOSDIS to enable data discovery, search, comparison, visualization, and access across EOSDIS' Earth Science data holdings.",
           "Data Catalogs and Interfaces",
           "https://github.com/nasa/earthdata-search.git",
           0.752362381880906
          ],
          [
           "Collects data from a variety of agricultural land use datasets and remote sensing products.",
           "Agriculture and Nutrition",
           "https://github.com/nasaharvest/cropharvest.git",
           0.4153439153439153
          ],
          [
           "A family of tools for quantifying the values of natural capital in clear, credible, and practical ways.",
           "Sustainable Investment",
           "https://github.com/natcap/invest.git",
           0.6427733065057009
          ],
          [
           "Manipulates and analyzes data stored in netCDF-accessible formats.",
           "Climate Data Processing and Access",
           "https://github.com/nco/nco.git",
           0.3333333333333333
          ],
          [
           "Contains the module python nco, which implements a Python style access to the NetCDF Operators (NCO).",
           "Climate Data Processing and Access",
           "https://github.com/nco/pynco.git",
           0.4838709677419355
          ],
          [
           "Algorithms for Quantitative Pedology is a collection of code, ideas, documentation, and examples wrapped-up into several R packages.",
           "Soil and Land",
           "https://github.com/ncss-tech/aqp.git",
           0.3045230631437527
          ],
          [
           "Miscellaneous soil data management, summary, visualization, and conversion utilities to support soil survey.",
           "Soil and Land",
           "https://github.com/ncss-tech/sharpshootR.git",
           0.1691056910569105
          ],
          [
           "Simplified Access to NCSS Soil Databases.",
           "Soil and Land",
           "https://github.com/ncss-tech/soilDB.git",
           0.5056935817805384
          ],
          [
           "An R package that assists with the setup and operation of a collection of soil data summary, comparison, and evaluation reports.",
           "Soil and Land",
           "https://github.com/ncss-tech/soilReports.git",
           0.5483870967741935
          ],
          [
           "Python library to train neural networks with a strong focus on hydrological applications.",
           "Water Supply and Quality",
           "https://github.com/neuralhydrology/neuralhydrology.git",
           0.5029940119760479
          ],
          [
           "Generates input data for energy models on renewable energy in arbitrary world regions using public datasets.",
           "Energy Modeling and Optimization",
           "https://github.com/niclasmattsson/GlobalEnergyGIS.git",
           0
          ],
          [
           "Non-Intrusive Load Monitoring is the process of estimating the energy consumed by individual appliances given just a whole-house power meter reading.",
           "Buildings and Heating",
           "https://github.com/nilmtk/nilmtk.git",
           0.4519350811485643
          ],
          [
           "Specification of 'normal' wind turbine operating behaviour for rapid anomaly detection.",
           "Wind Energy",
           "https://github.com/nmstreethran/WindTurbineClassification.git",
           0
          ],
          [
           "A Python library to search and access NASA datasets.",
           "Data Catalogs and Interfaces",
           "https://github.com/nsidc/earthdata.git",
           0.1694915254237288
          ],
          [
           "A free mapping tool to support interdisciplinary Greenland-focused research, teaching, decision making, and collaboration.",
           "Cryosphere",
           "https://github.com/nsidc/qgreenland.git",
           0.1802168021680217
          ],
          [
           "An open source atmosphere ocean gas flux data processing toolbox.",
           "Atmosphere",
           "https://github.com/oceanflux-ghg/FluxEngine.git",
           0.26
          ],
          [
           "Provides Python interfaces for observational data surrounding named storm events.",
           "Natural Hazard and Poverty",
           "https://github.com/oceanmodeling/StormEvents.git",
           0.0268817204301075
          ],
          [
           "This package provides an open toolbox for district heating and cooling network optimization and simulation models.",
           "Buildings and Heating",
           "https://github.com/oemof/DHNx.git",
           0.4893184130213631
          ],
          [
           "With the demandlib you can create power and heat profiles for various sectors by scaling them to your desired demand.",
           "Energy Modeling and Optimization",
           "https://github.com/oemof/demandlib.git",
           0.3969072164948454
          ],
          [
           "Contains implementations of photovoltaic models to calculate electricity generation from a PV installation based on given solar radiation. Furthermore it contains all necessary pre-calculations.",
           "Photovoltaics and Solar Energy",
           "https://github.com/oemof/feedinlib.git",
           0.6869158878504673
          ],
          [
           "A model generator for energy system modeling and optimization.",
           "Energy Modeling and Optimization",
           "https://github.com/oemof/oemof-solph.git",
           0.5954648526077098
          ],
          [
           "Provides tools to model thermal energy components as an extension of oemof.solph, e.g. compression heat pumps, concentrating solar plants, thermal storage and solar thermal collectors.",
           "Energy Modeling and Optimization",
           "https://github.com/oemof/oemof-thermal.git",
           0.691588785046729
          ],
          [
           "Open Energy Modelling Framework - A Python toolbox for energy system modeling and optimization. A community driven, modular, flexible and generic software project.",
           "Energy Modeling and Optimization",
           "https://github.com/oemof/oemof.git",
           0.6495726495726496
          ],
          [
           "Provides a powerful simulation toolkit for thermal engineering plants such as power plants, district heating systems or heat pumps.",
           "Buildings and Heating",
           "https://github.com/oemof/tespy.git",
           0.0981873111782477
          ],
          [
           "Data sheet and assembly manual, component data sheets, busbars and files needed to build no-weld wireless BMS DKblock style battery packs.",
           "Battery",
           "https://github.com/offgridsystems/Documents.git",
           0.1098901098901099
          ],
          [
           "A small layer above brightway2, designed for the definition of parametric inventories with fast computation of LCA impacts, suitable for Monte Carlo analysis.",
           "Life Cycle Assessment",
           "https://github.com/oie-mines-paristech/lca_algebraic.git",
           0.0169491525423728
          ],
          [
           "Create a canvas visualization layer for direction and intensity of arbitrary velocities (e.g. wind, ocean current).",
           "Hydrosphere",
           "https://github.com/onaci/leaflet-velocity.git",
           0.2916666666666666
          ],
          [
           "A Modelica model library for integrated building or district energy simulations.",
           "Buildings and Heating",
           "https://github.com/open-ideas/IDEAS.git",
           0.3699885452462772
          ],
          [
           "An open web tool developed at the KU Leuven Building Physics Section to model the pervasive space for residential integrated district energy assessment simulations in the openIDEAS modeling environment.",
           "Buildings and Heating",
           "https://github.com/open-ideas/StROBe.git",
           0.1689189189189189
          ],
          [
           "Global weather API for non-commercial use with hourly weather forecast.",
           "Meteorological Observation and Forecast",
           "https://github.com/open-meteo/open-meteo.git",
           0.0240963855421686
          ],
          [
           "A platform for collecting and disseminating data for the Sustainable Development Goal global indicators.",
           "Sustainable Development Goals",
           "https://github.com/open-sdg/open-sdg.git",
           0.2491417361451692
          ],
          [
           "The Horizon 2020 openENTRANCE project aims at developing, using and disseminating an open, transparent and integrated modeling platform for assessing low-carbon transition pathways in Europe.",
           "Energy Modeling and Optimization",
           "https://github.com/openENTRANCE/openentrance.git",
           0.6011560693641618
          ],
          [
           "A web-accessible API that provides endpoints to query the real-time and historical air quality measurements on the platform.",
           "Air Quality",
           "https://github.com/openaq/openaq-api-v2.git",
           0.1636363636363637
          ],
          [
           "A tool to collect data for OpenAQ platform.",
           "Air Quality",
           "https://github.com/openaq/openaq-fetch.git",
           0.598326359832636
          ],
          [
           "The global public registry of electric vehicle charging locations.",
           "Mobility and Transportation",
           "https://github.com/openchargemap/ocm-system.git",
           0.0444697833523375
          ],
          [
           "A Python interface for the simple global climate carbon-cycle model Hector.",
           "Earth and Climate Modeling",
           "https://github.com/openclimatedata/pyhector.git",
           0.2696078431372549
          ],
          [
           "UNFCCC Emissions data from the Detailed Data By Party interface.",
           "Carbon Intensity and Accounting",
           "https://github.com/openclimatedata/unfccc-detailed-data-by-party.git",
           0.3
          ],
          [
           "A library for satellite image processing providing all of the functionality necessary for retrieving, and storing EUMETSAT data.",
           "Data Catalogs and Interfaces",
           "https://github.com/openclimatefix/Satip.git",
           0.659432387312187
          ],
          [
           "Build the world's best near-term forecasting system for solar electricity generation.",
           "Photovoltaics and Solar Energy",
           "https://github.com/openclimatefix/nowcasting.git",
           0.7119205298013245
          ],
          [
           "Use machine learning to map satellite imagery of clouds to solar PV yield.",
           "Photovoltaics and Solar Energy",
           "https://github.com/openclimatefix/predict_pv_yield.git",
           0.3716814159292035
          ],
          [
           "Python code for downloading PV data from PVOutput.org.",
           "Photovoltaics and Solar Energy",
           "https://github.com/openclimatefix/pvoutput.git",
           0.6597510373443983
          ],
          [
           "Making the world a better place through community driven, open environmental data.",
           "Air Quality",
           "https://github.com/opendata-stuttgart/sensor.community.git",
           0.4119241192411924
          ],
          [
           "The maintained main firmware for the Luftdaten.Info Sensor.",
           "Air Quality",
           "https://github.com/opendata-stuttgart/sensors-software.git",
           0.6846435100548446
          ],
          [
           "An open source Python package for implementing and developing standard methods for calculating normalized metered energy consumption and avoided energy use.",
           "Energy Monitoring and Control",
           "https://github.com/openeemeter/eemeter.git",
           0.2173611111111111
          ],
          [
           "Fetch NCDC ISD, TMY3, or CZ2010 weather data that corresponds to ZIP Code Tabulation Areas or Latitude/Longitude.",
           "Atmosphere",
           "https://github.com/openeemeter/eeweather.git",
           0.2251655629139073
          ],
          [
           "Optimization of flexibility options and grid expansion for distribution grids based on PyPSA.",
           "Energy Distribution and Grids",
           "https://github.com/openego/eDisGo.git",
           0.3045346062052506
          ],
          [
           "Arduino Energy Monitoring Library.",
           "Energy Monitoring and Control",
           "https://github.com/openenergymonitor/EmonLib.git",
           0.2894736842105263
          ],
          [
           "The OpenEnergyMonitor system has the capability to monitor electrical energy use / generation, temperature and humidity.",
           "Energy Monitoring and Control",
           "https://github.com/openenergymonitor/emonpi.git",
           0.2263814616755793
          ],
          [
           "A free and open database and web application for farming and gardening knowledge.",
           "Agriculture and Nutrition",
           "https://github.com/openfarmcc/OpenFarm.git",
           0.6204849084611579
          ],
          [
           "An online marketplace for local food. It enables a network of independent online food stores that connects farmers and food hubs with individuals and local businesses.",
           "Agriculture and Nutrition",
           "https://github.com/openfoodfoundation/openfoodnetwork.git",
           0.857922954725973
          ],
          [
           "System for Earth Observation Data Access, Processing and Analysis for Land Monitoring.",
           "Biosphere",
           "https://github.com/openforis/sepal.git",
           0.4860553324408746
          ],
          [
           "A Web API that provides a family of lightweight interfaces for accessing Environmental Data resources.",
           "Data Catalogs and Interfaces",
           "https://github.com/opengeospatial/ogcapi-environmental-data-retrieval.git",
           0.57223113964687
          ],
          [
           "A cloud platform for greenhouse gas data analysis and collaboration.",
           "Emission Observation and Modeling",
           "https://github.com/openghg/openghg.git",
           0.1831983805668016
          ],
          [
           "A data standard to enable communication between mobility companies and local governments.",
           "Mobility and Transportation",
           "https://github.com/openmobilityfoundation/mobility-data-specification.git",
           0.5873827791986359
          ],
          [
           "Aims to make the wealth of public Australian Electricity Market data more accessible to a wider audience.",
           "Datasets on Energy Systems",
           "https://github.com/opennem/opennem-fe.git",
           0.0185758513931888
          ],
          [
           "A platform for impacted communities to understand their local air quality and advocate for environmental justice.",
           "Air Quality",
           "https://github.com/openoakland/woeip.git",
           0.7159353348729792
          ],
          [
           "Open Plant Pathology is an initiative that supports and promotes the spread of all open, transparent and reproducible practices in the field of plant pathology.",
           "Biosphere",
           "https://github.com/openplantpathology/OpenPlantPathology.git",
           0.2667295004712535
          ],
          [
           "Code of the Carbon Accounting and Certification Working Group.",
           "Carbon Intensity and Accounting",
           "https://github.com/opentaps/blockchain-carbon-accounting.git",
           0.5861733203505355
          ],
          [
           "Application and data for analyzing and structuring portfolios for climate investing.",
           "Sustainable Investment",
           "https://github.com/opentaps/open-climate-investing.git",
           0.5111111111111111
          ],
          [
           "A modular, extensible, industrial-strength and field-tested platform for use in electricity, water and other utility operations.",
           "Energy Monitoring and Control",
           "https://github.com/opfab/operatorfabric-core.git",
           0.7969543147208122
          ],
          [
           "Geospatial processing toolbox for environmental and climate studies.",
           "Climate Data Processing and Access",
           "https://github.com/orbisgis/geoclimate.git",
           0.4559333795975017
          ],
          [
           "Collect, normalize and integrate climate and ESG data from public and private sources.",
           "Sustainable Investment",
           "https://github.com/os-climate/os_c_data_commons.git",
           0.5777777777777777
          ],
          [
           "Data on CO2 and greenhouse gas emissions by Our World in Data.",
           "Emission Observation and Modeling",
           "https://github.com/owid/co2-data.git",
           0.5208333333333333
          ],
          [
           "Data on global energy consumption (primary energy, per capita, and growth rates), energy mix, electricity mix and other relevant metrics.",
           "Datasets on Energy Systems",
           "https://github.com/owid/energy-data.git",
           0.2802197802197802
          ],
          [
           "A Pythonic API for working with Our World in Data catalog.",
           "Data Catalogs and Interfaces",
           "https://github.com/owid/owid-catalog-py.git",
           0.3931034482758621
          ],
          [
           "Sustainable Development Goals tracker website.",
           "Sustainable Development Goals",
           "https://github.com/owid/sdg-tracker.org.git",
           0.2108345534407028
          ],
          [
           "Aims to be the primary package used to analyze output from initialized dynamical forecast models, ranging from short-term weather forecasts to long-term climate forecasts.",
           "Earth and Climate Modeling",
           "https://github.com/pangeo-data/climpred.git",
           0.4441887226697353
          ],
          [
           "A community platform for Big Data geoscience.",
           "Earth and Climate Modeling",
           "https://github.com/pangeo-data/pangeo.git",
           0.7933884297520661
          ],
          [
           "An open-source, modular, parallel watershed flow model.",
           "Hydrosphere",
           "https://github.com/parflow/parflow.git",
           0.3217821782178217
          ],
          [
           "Simulating passive Lagrangian particle transport over flow-fields from any 2D shallow-water hydrodynamic model using a weighted random walk methodology.",
           "Hydrosphere",
           "https://github.com/passaH2O/dorado.git",
           0.1807692307692308
          ],
          [
           "An open-source Python framework for the analysis of groundwater time series.",
           "Hydrosphere",
           "https://github.com/pastas/pastas.git",
           0.4409038238702202
          ],
          [
           "The road to global carbon-neutrality will be through programmatic compensation.",
           "Computation and Communication",
           "https://github.com/patch-technology/patch-node.git",
           0.7058823529411764
          ],
          [
           "A collection of tools and software libraries tailored to the construction of spatio-temporal environmental models.",
           "Water Supply and Quality",
           "https://github.com/pcraster/pcraster.git",
           0.2383177570093457
          ],
          [
           "Trash Annotations in Context Dataset Toolkit.",
           "Circular Economy and Waste",
           "https://github.com/pedropro/TACO.git",
           0.0176470588235294
          ],
          [
           "An open research project for data mining Open Access papers related to Climate Change.",
           "Knowledge Platforms",
           "https://github.com/petermr/climate.git",
           0.2040816326530612
          ],
          [
           "Conversion of IPCC documents into semantic form.",
           "Climate Data Processing and Access",
           "https://github.com/petermr/semanticClimate.git",
           0.8305084745762712
          ],
          [
           "An R Package for Interacting with Data from Our World in Data.",
           "Data Catalogs and Interfaces",
           "https://github.com/piersyork/owidR.git",
           0
          ],
          [
           "Prepare EDGE Transport Data for the REMIND model.",
           "Integrated Assessment",
           "https://github.com/pik-piam/edgeTransport.git",
           0.438118811881188
          ],
          [
           "MadRat REMIND Input Data Package.",
           "Integrated Assessment",
           "https://github.com/pik-piam/mrremind.git",
           0.7640449438202247
          ],
          [
           "Commonly used codes, categories, terminologies, and nomenclatures used in climate policy analysis in a nice Python package.",
           "Climate Data Processing and Access",
           "https://github.com/pik-primap/climate_categories.git",
           0.2879256965944272
          ],
          [
           "A collection of Python libraries for simulating the irradiation of any point on earth by the sun. It includes code for extremely precise ephemeris calculations.",
           "Photovoltaics and Solar Energy",
           "https://github.com/pingswept/pysolar.git",
           0.4313725490196078
          ],
          [
           "Provide information about the impacts of changing climate and other factors on the distribution of marine life to the National Climate Assessment, fisheries communities, policymakers, and to others.",
           "Biosphere",
           "https://github.com/pinskylab/OceanAdapt.git",
           0.5163727959697733
          ],
          [
           "The Parallel Ice Sheet Model is an open source, parallel, high-resolution ice sheet model.",
           "Cryosphere",
           "https://github.com/pism/pism.git",
           0.2893976677008666
          ],
          [
           "Coupling Integrated Assessment Models output with Life Cycle Assessment.",
           "Life Cycle Assessment",
           "https://github.com/polca/premise.git",
           0.1040061633281972
          ],
          [
           "A fishery agent-based model.",
           "Agriculture and Nutrition",
           "https://github.com/poseidon-fisheries/POSEIDON.git",
           0.4521008403361344
          ],
          [
           "This benchmark library is curated and maintained by the IEEE PES Task Force on Benchmarks for Validation of Emerging Power System Algorithms and is designed to evaluate a well established version of the the AC Optimal Power Flow problem.",
           "Energy Distribution and Grids",
           "https://github.com/power-grid-lib/pglib-opf.git",
           0.0666666666666666
          ],
          [
           "A middleware toolkit for building software-defined power meters.",
           "Computation and Communication",
           "https://github.com/powerapi-ng/powerapi.git",
           0.4250645994832042
          ],
          [
           "A software toolkit to measure the energy footprint of a host machine along the execution of a piece of Python code.",
           "Computation and Communication",
           "https://github.com/powerapi-ng/pyJoules.git",
           0.1709401709401709
          ],
          [
           "An open source framework written in Java, that makes it easy to write complex software for power systems simulations and analysis.",
           "Energy Modeling and Optimization",
           "https://github.com/powsybl/powsybl-core.git",
           0.7677584006805614
          ],
          [
           "An open source implementation of the load flow API that can be found in PowSyBl Core. It supports AC Newtow-Raphson and linear DC calculation methods.",
           "Energy Modeling and Optimization",
           "https://github.com/powsybl/powsybl-open-loadflow.git",
           0.5154109589041096
          ],
          [
           "Uses mixed integer linear programming techniques to provide a flexible interface for building and solving conservation planning problems.",
           "Biosphere",
           "https://github.com/prioritizr/prioritizr.git",
           0.1318681318681318
          ],
          [
           "R Interface to the World Database on Protected Areas.",
           "Biosphere",
           "https://github.com/prioritizr/wdpar.git",
           0
          ],
          [
           "Used by people who plant trees so they don't have to manually type coordinates with pictures they took.",
           "Biosphere",
           "https://github.com/protect-earth/TreeTracker.git",
           0.4589371980676329
          ],
          [
           "Collection of functions and Jupyter Notebooks to partially automate running a capacity test following ASTM E2848.",
           "Photovoltaics and Solar Energy",
           "https://github.com/pvcaptest/pvcaptest.git",
           0.0018832391713747
          ],
          [
           "A Python library used in photovoltaics.",
           "Photovoltaics and Solar Energy",
           "https://github.com/pvedu/photovoltaic.git",
           0.2692307692307693
          ],
          [
           "Quality control, filtering, feature labeling, and other tools for working with data from photovoltaic energy systems.",
           "Photovoltaics and Solar Energy",
           "https://github.com/pvlib/pvanalytics.git",
           0.4625550660792952
          ],
          [
           "A set of documented functions for simulating the performance of photovoltaic energy systems.",
           "Photovoltaics and Solar Energy",
           "https://github.com/pvlib/pvlib-python.git",
           0.4787922358015816
          ],
          [
           "An open-source and community-driven Python library for probabilistic precipitation nowcasting, i.e. short-term ensemble prediction systems.",
           "Water Supply and Quality",
           "https://github.com/pySTEPS/pysteps.git",
           0.5754512635379061
          ],
          [
           "Load forecasting on Delhi area electric power load using ARIMA, RNN, LSTM and GRU models.",
           "Energy Modeling and Optimization",
           "https://github.com/pyaf/load_forecasting.git",
           0.3559322033898305
          ],
          [
           "Fast and flexible physics-based battery models in Python.",
           "Battery",
           "https://github.com/pybamm-team/PyBaMM.git",
           0.5718423372371237
          ],
          [
           "A battery pack simulation tool that uses the PyBaMM framework.",
           "Battery",
           "https://github.com/pybamm-team/liionpack.git",
           0.3148148148148147
          ],
          [
           "A set of Python modules to run the GSFLOW integrated hydrologic model program.",
           "Water Supply and Quality",
           "https://github.com/pygsflow/pygsflow.git",
           0.0089285714285713
          ],
          [
           "Python client for iNaturalist, a community science platform that helps people get involved in the natural world by observing and identifying the living things around them.",
           "Biosphere",
           "https://github.com/pyinat/pyinaturalist.git",
           0.1140845070422534
          ],
          [
           "Global land surface temperature and emissivity from NASA's Landsat satellite images.",
           "Earth and Climate Modeling",
           "https://github.com/pylandtemp/pylandtemp.git",
           0
          ],
          [
           "An Open Optimisation Model of the Earth Energy System.",
           "Energy Modeling and Optimization",
           "https://github.com/pypsa-meets-earth/pypsa-earth.git",
           0.7256983240223464
          ],
          [
           "The pyro-risks project aims at providing the pyronear-platform with a machine learning based wildfire forecasting capability.",
           "Biosphere",
           "https://github.com/pyronear/pyro-risks.git",
           0.6216216216216216
          ],
          [
           "Computer vision library for wildfire detection.",
           "Biosphere",
           "https://github.com/pyronear/pyro-vision.git",
           0.4461538461538461
          ],
          [
           "A graphic tool used by meteorologists to give a succinct view of how wind speed and direction are typically distributed at a particular location.",
           "Wind Energy",
           "https://github.com/python-windrose/windrose.git",
           0.2894736842105263
          ],
          [
           "A Python package to read and calibrate NOAA and Metop AVHRR GAC and LAC data.",
           "Earth and Climate Modeling",
           "https://github.com/pytroll/pygac.git",
           0.5626666666666666
          ],
          [
           "Improving, documenting, and illustrating how to use other, freely available, general-purpose open source projects to solve problems in the earth sciences.",
           "Soil and Land",
           "https://github.com/pyviz-topics/EarthML.git",
           0.4599999999999999
          ],
          [
           "Provide a flexible, user-friendly Python environment to model complex optical stacks, with a focus on solar cells.",
           "Photovoltaics and Solar Energy",
           "https://github.com/qpv-research-group/rayflare.git",
           0
          ],
          [
           "A multi-scale, Python-based library for the modeling of solar cells and semiconductor materials.",
           "Photovoltaics and Solar Energy",
           "https://github.com/qpv-research-group/solcore5.git",
           0.4962178517397881
          ],
          [
           "Calculation engine for the Energy Transition Model.",
           "Energy Distribution and Grids",
           "https://github.com/quintel/etengine.git",
           0.6165311653116532
          ],
          [
           "Professional interface of the Energy Transition model.",
           "Energy Distribution and Grids",
           "https://github.com/quintel/etmodel.git",
           0.7006305531670967
          ],
          [
           "A Python script to create the wrfchemi file from local emissions needed to run WRF-Chem model.",
           "Emission Observation and Modeling",
           "https://github.com/quishqa/PyChEmiss.git",
           0.0517241379310344
          ],
          [
           "An R package for airborne LiDAR data manipulation and visualization for forestry application.",
           "Biosphere",
           "https://github.com/r-lidar/lidR.git",
           0.041820418204182
          ],
          [
           "Landscape Metrics for Categorical Map Patterns in R.",
           "Soil and Land",
           "https://github.com/r-spatialecology/landscapemetrics.git",
           0.4667119565217391
          ],
          [
           "A fisheries stock assessment model written by Rick Methot.",
           "Agriculture and Nutrition",
           "https://github.com/r4ss/r4ss.git",
           0.3720183486238532
          ],
          [
           "R tools to access open data from Eurostat, the statistical office of the European Union.",
           "Data Catalogs and Interfaces",
           "https://github.com/rOpenGov/eurostat.git",
           0.4140786749482401
          ],
          [
           "An R API package that helps to retrieve data from Eurostat Geographic Information System of the Commission.",
           "Data Catalogs and Interfaces",
           "https://github.com/rOpenGov/giscoR.git",
           0.2012012012012012
          ],
          [
           "An interface to download the climatic data of the Spanish Meteorological Agency directly from R using their API and create scientific graphs.",
           "Climate Data Processing and Access",
           "https://github.com/rOpenSpain/climaemet.git",
           0.2214765100671141
          ],
          [
           "Course materials for Introduction to Physical Oceanography.",
           "Hydrosphere",
           "https://github.com/rabernat/intro_to_physical_oceanography.git",
           0.0251572327044025
          ],
          [
           "Open community commons for geospatial training data, machine learning models, and standards to encourage collaboration and share information.",
           "Data Catalogs and Interfaces",
           "https://github.com/radiantearth/radiant-mlhub.git",
           0.259493670886076
          ],
          [
           "Data driven prediction of battery cycle life before capacity degradation.",
           "Battery",
           "https://github.com/rdbraatz/data-driven-prediction-of-battery-cycle-life-before-capacity-degradation.git",
           0.5454545454545454
          ],
          [
           "An R package that contains a set of tools suitable for calculating the metrics required for making assessments of species and ecosystems against the IUCN Red List of Threatened Species and the IUCN Red List of Ecosystems categories and criteria.",
           "Biosphere",
           "https://github.com/red-list-ecosystem/redlistr.git",
           0.4590163934426229
          ],
          [
           "Flexible multi-regional energy system model for heat, power and mobility.",
           "Energy Modeling and Optimization",
           "https://github.com/reegis/deflex.git",
           0.0769230769230768
          ],
          [
           "Providing a structured database of claims regarding ecological state and change of state.",
           "Knowledge Platforms",
           "https://github.com/regen-network/regen-ledger.git",
           0.7323767935121647
          ],
          [
           "Tool for Quantitative Analysis and Visualization of Land Use and Land Cover Change.",
           "Soil and Land",
           "https://github.com/reginalexavier/OpenLand.git",
           0.0141509433962264
          ],
          [
           "A modular open source multi-regional model incorporating the economy, the climate system and a detailed representation of the energy sector.",
           "Sustainable Investment",
           "https://github.com/remindmodel/remind.git",
           0.7894959762812368
          ],
          [
           "Global Solar Energy Estimator.",
           "Photovoltaics and Solar Energy",
           "https://github.com/renewables-ninja/gsee.git",
           0.0727272727272727
          ],
          [
           "Features hundreds of data sets all in one place on the state of the planet's resources and citizens.",
           "Data Catalogs and Interfaces",
           "https://github.com/resource-watch/resource-watch.git",
           0.5767607919506654
          ],
          [
           "A Python package that measures the environmental impact of computation.",
           "Computation and Communication",
           "https://github.com/responsibleproblemsolving/energy-usage.git",
           0.3076923076923077
          ],
          [
           "We can determine, from one or more receptor sites, where arriving air masses originated.",
           "Atmosphere",
           "https://github.com/rich-iannone/splitr.git",
           0.0109800732004879
          ],
          [
           "The multi-vector simulator allows the evaluation of local sector-coupled energy systems that include the energy carriers electricity, heat and/or gas.",
           "Energy Modeling and Optimization",
           "https://github.com/rl-institut/multi-vector-simulator.git",
           0.650375939849624
          ],
          [
           "Models and optimizes capacity & dispatch of electricity supply systems, off-grid or connected to a (weak) central grid.",
           "Energy Distribution and Grids",
           "https://github.com/rl-institut/offgridders.git",
           0.3543233082706767
          ],
          [
           "A simple Arduino library to monitor battery consumption of your battery powered projects, being LiPo, LiIon, NiCd or any other battery type, single or multiple cells: if it can power your Arduino you can monitor it.",
           "Battery",
           "https://github.com/rlogiacco/BatterySense.git",
           0.3023255813953488
          ],
          [
           "Design Reinforcement Learning environments that model Active Network Management tasks in electricity distribution networks.",
           "Energy Distribution and Grids",
           "https://github.com/robinhenry/gym-anm.git",
           0.005524861878453
          ],
          [
           "A Python interface to the 6S Radiative Transfer Model.",
           "Radiative Transfer",
           "https://github.com/robintw/Py6S.git",
           0.0572916666666666
          ],
          [
           "Contains the original functions from the RmarineHeatWaves package that calculate and display marine heatwaves according to the definition of Hobday et al. (2016).",
           "Hydrosphere",
           "https://github.com/robwschlegel/heatwaveR.git",
           0.3478260869565217
          ],
          [
           "Prospective environmental and economic life cycle assessment of vehicles made blazing fast.",
           "Life Cycle Assessment",
           "https://github.com/romainsacchi/carculator.git",
           0.0410958904109589
          ],
          [
           "Climate simulation operations.",
           "Climate Data Processing and Access",
           "https://github.com/roocs/clisops.git",
           0.5951219512195122
          ],
          [
           "Global Surface Summary of the Day Weather Data Client for R.",
           "Climate Data Processing and Access",
           "https://github.com/ropensci/GSODR.git",
           0.0014778325123152
          ],
          [
           "An R package for automatic download and preprocessing of MODIS Land Products Time-Series.",
           "Data Catalogs and Interfaces",
           "https://github.com/ropensci/MODIStsp.git",
           0.2936746987951807
          ],
          [
           "R package to simulate neutral landscape models.",
           "Soil and Land",
           "https://github.com/ropensci/NLMR.git",
           0.1935483870967742
          ],
          [
           "Aims to enable ready importing of historical trip data from all public bicycle hire systems which provide data. Will be expanded on an ongoing basis as more systems publish open data.",
           "Mobility and Transportation",
           "https://github.com/ropensci/bikedata.git",
           0.0417310664605873
          ],
          [
           "Australian government Bureau of Meteorology (BOM) data client for R.",
           "Climate Data Processing and Access",
           "https://github.com/ropensci/bomrang.git",
           0.0896755162241887
          ],
          [
           "Facilitates searching and download of the Water Framework Directive reporting data for all waterbodies from the EA website.",
           "Water Supply and Quality",
           "https://github.com/ropensci/cde.git",
           0.0108695652173913
          ],
          [
           "A quasi-global high-resolution rainfall data set, which incorporates satellite imagery and in-situ station data to create gridded rainfall time series for trend analysis and seasonal drought monitoring.",
           "Earth and Climate Modeling",
           "https://github.com/ropensci/chirps.git",
           0.5
          ],
          [
           "Easily download and visualise climate data from New Zealand's National Climate Database.",
           "Climate Data Processing and Access",
           "https://github.com/ropensci/clifro.git",
           0.1747572815533981
          ],
          [
           "An R package wrapping the US Energy Information Administration open data API.",
           "Datasets on Energy Systems",
           "https://github.com/ropensci/eia.git",
           0.6666666666666667
          ],
          [
           "Use R to get data from the Environmental Protection Agency API.",
           "Data Catalogs and Interfaces",
           "https://github.com/ropensci/epair.git",
           0.3111888111888111
          ],
          [
           "Provides functions that automate importing CRU CL v. 2.0 climatology data into R.",
           "Climate Data Processing and Access",
           "https://github.com/ropensci/getCRUCLdata.git",
           0.0101180438448567
          ],
          [
           "An R interface to the Greek National Data Bank for Hydrometeorological Information.",
           "Hydrosphere",
           "https://github.com/ropensci/hydroscoper.git",
           0.0192307692307692
          ],
          [
           "Aims to make it quick and easy to automate downloading NASA-POWER global meteorology, surface solar energy and climatology data in your R session as a tidy data frame tibble object for analysis and use in modeling or other purposes.",
           "Photovoltaics and Solar Energy",
           "https://github.com/ropensci/nasapower.git",
           0.0021680216802167
          ],
          [
           "Download data from the Oregon PRISM climate data project.",
           "Climate Data Processing and Access",
           "https://github.com/ropensci/prism.git",
           0.3333333333333333
          ],
          [
           "Download of air pollutants and meteorological information from CETESB QUALAR System for São Paulo, and MonitorAr Program, for Rio de Janeiro.",
           "Air Quality",
           "https://github.com/ropensci/qualR.git",
           0.1129032258064516
          ],
          [
           "Interact with the UK AIR Pollution Database from DEFRA.",
           "Air Quality",
           "https://github.com/ropensci/rdefra.git",
           0.0144230769230768
          ],
          [
           "A package to interface with the eBird webservices a real-time, online bird checklist program.",
           "Biosphere",
           "https://github.com/ropensci/rebird.git",
           0.5260416666666667
          ],
          [
           "An R interface to the fishbase.org database.",
           "Biosphere",
           "https://github.com/ropensci/rfishbase.git",
           0.1245136186770428
          ],
          [
           "Interface to the Global Biodiversity Information Facility API.",
           "Biosphere",
           "https://github.com/ropensci/rgbif.git",
           0.1732973701955495
          ],
          [
           "An R interface to many National Oceanic and Atmospheric Administration data sources.",
           "Hydrosphere",
           "https://github.com/ropensci/rnoaa.git",
           0.1866546438232642
          ],
          [
           "An R client for the IUCN Red List of threatened and endangered species.",
           "Biosphere",
           "https://github.com/ropensci/rredlist.git",
           0.1313868613138685
          ],
          [
           "An R library that extracts information from Atlantic and east Pacific hurricanes and tropical storms.",
           "Hydrosphere",
           "https://github.com/ropensci/rrricanes.git",
           0.0759202453987729
          ],
          [
           "An R package for acquisition and processing of NASA (Soil Moisture Active-Passive) SMAP data.",
           "Soil and Land",
           "https://github.com/ropensci/smapr.git",
           0.0204081632653061
          ],
          [
           "An R package to query and collect species occurrence data from many sources.",
           "Biosphere",
           "https://github.com/ropensci/spocc.git",
           0.1006134969325153
          ],
          [
           "A package for sustainable transport planning with R.",
           "Mobility and Transportation",
           "https://github.com/ropensci/stplanr.git",
           0.1579254079254078
          ],
          [
           "Allows users to search over many taxonomic data sources for species names (scientific and common) and download up and downstream taxonomic hierarchical information.",
           "Biosphere",
           "https://github.com/ropensci/taxize.git",
           0.109431995831162
          ],
          [
           "An R package to import Water Survey of Canada hydrometric data and make it tidy.",
           "Hydrosphere",
           "https://github.com/ropensci/tidyhydat.git",
           0.0459418070444104
          ],
          [
           "This package makes it easier to search for and download multiple months/years of historical weather data from the Environment and Climate Change Canada (ECCC) website.",
           "Meteorological Observation and Forecast",
           "https://github.com/ropensci/weathercan.git",
           0.1167369901547117
          ],
          [
           "Import, manipulate and explore the results of an Antares simulation.",
           "Energy Modeling and Optimization",
           "https://github.com/rte-antares-rpackage/antaresRead.git",
           0.5822454308093995
          ],
          [
           "Visualize the results of Antares, an Open Source power system simulator meant to be used by anybody placing value in quantifying the adequacy or the economic performance of interconnected energy systems, at short or remote time horizons.",
           "Energy Modeling and Optimization",
           "https://github.com/rte-antares-rpackage/antaresViz.git",
           0.6215864759427828
          ],
          [
           "A testbed platform to model sequential decision making in power systems.",
           "Energy Distribution and Grids",
           "https://github.com/rte-france/Grid2Op.git",
           0.3474264705882353
          ],
          [
           "The first-ever software toolkit that integrates deterministic and probabilistic models for quantifying accident scenarios, predicting physical effects, and characterizing hydrogen hazards impact on people and structures.",
           "Hydrogen",
           "https://github.com/sandialabs/hyram.git",
           0.2727272727272727
          ],
          [
           "A Julia package to generate appropriate sanitation system options.",
           "Circular Economy and Waste",
           "https://github.com/santiago-sanitation-systems/Santiago.jl.git",
           0.1256684491978609
          ],
          [
           "Tools for biogas research in R: process biogas data and predict biogas production.",
           "Bioenergy",
           "https://github.com/sashahafner/biogas.git",
           0.3914728682170543
          ],
          [
           "Deep Learning based Remote Sensing Methods for Methane Detection in Airborne Hyperspectral Imagery.",
           "Emission Observation and Modeling",
           "https://github.com/satish1901/Methane-detection-from-hyperspectral-imagery.git",
           0
          ],
          [
           "A Python library which accumulates statistics about power consumption and CO2 emission during running code.",
           "Computation and Communication",
           "https://github.com/sb-ai-lab/Eco2AI.git",
           0.4642857142857143
          ],
          [
           "Computing the Standardized Precipitation-Evapotranspiration Index and other reference evapotranspiration.",
           "Water Supply and Quality",
           "https://github.com/sbegueria/SPEI.git",
           0.0303030303030302
          ],
          [
           "Unleash public transport data in your Java project.",
           "Mobility and Transportation",
           "https://github.com/schildbach/public-transport-enabler.git",
           0.0709939148073022
          ],
          [
           "Visualize the path of a rain droplet from any point in the contiguous United States to its end point.",
           "Hydrosphere",
           "https://github.com/sdl60660/river-runner.git",
           0
          ],
          [
           "Wikipedia for environmental data in order to awaken and promote education, environmental and climate protection.",
           "Air Quality",
           "https://github.com/sensebox/openSenseMap.git",
           0.3001038421599169
          ],
          [
           "A repository of custom scripts to be used with Sentinel Hub.",
           "Data Catalogs and Interfaces",
           "https://github.com/sentinel-hub/custom-scripts.git",
           0.6445714285714286
          ],
          [
           "Generate automatic contours for agricultural parcels, given Sentinel-2 images.",
           "Agriculture and Nutrition",
           "https://github.com/sentinel-hub/field-delineation.git",
           0.5
          ],
          [
           "Download and process satellite imagery in Python using Sentinel Hub services.",
           "Data Catalogs and Interfaces",
           "https://github.com/sentinel-hub/sentinelhub-py.git",
           0.275375939849624
          ],
          [
           "Makes searching, downloading and retrieving the metadata of Sentinel satellite images from the Copernicus Open Access Hub easy.",
           "Data Catalogs and Interfaces",
           "https://github.com/sentinelsat/sentinelsat.git",
           0.5128504672897196
          ],
          [
           "Tree crown delineation from RGB imagery, coupled with methods to delineate tree crowns from LiDAR data.",
           "Biosphere",
           "https://github.com/shmh40/detectreeRGB.git",
           0
          ],
          [
           "See your city's air pollution measured in daily cigarettes.",
           "Air Quality",
           "https://github.com/shootismoke/mobile-app.git",
           0.4525043177892919
          ],
          [
           "A Domain Knowledge Enhanced Graph Neural Network For PM2.5 Forecasting.",
           "Air Quality",
           "https://github.com/shuowang-ai/PM2.5-GNN.git",
           0
          ],
          [
           "CHemistry with Aerosol Microphysics in Python box model for Windows, Linux and Mac.",
           "Atmosphere",
           "https://github.com/simonom/PyCHAM.git",
           0.0093896713615023
          ],
          [
           "Seeks to fill a critical need for high-quality, publicly-accessible, hourly grid emissions data that can be used for GHG accounting, policymaking, academic research, and energy attribute certificate markets.",
           "Carbon Intensity and Accounting",
           "https://github.com/singularity-energy/open-grid-emissions.git",
           0.4658753709198813
          ],
          [
           "Independent global land monitoring initiative that promotes transparency & accountability in decisions over large-scale land acquisitions.",
           "Soil and Land",
           "https://github.com/sinnwerkstatt/landmatrix.git",
           0.6274754683318466
          ],
          [
           "A collection of end-to-end solutions for machine learning problems commonly found in monitoring wind energy production system.",
           "Wind Energy",
           "https://github.com/sintel-dev/Draco.git",
           0.5733333333333333
          ],
          [
           "An R package to run dynamic multi-species size-spectrum models of fish communities.",
           "Agriculture and Nutrition",
           "https://github.com/sizespectrum/mizer.git",
           0.2150814053127677
          ],
          [
           "An R package to conduct meteorological/weather normalisation on air quality so trends and interventions can be investigated in a robust way.",
           "Air Quality",
           "https://github.com/skgrange/rmweather.git",
           0
          ],
          [
           "Import Air Quality Monitoring Data in a Fast and Easy Way.",
           "Air Quality",
           "https://github.com/skgrange/saqgetr.git",
           0
          ],
          [
           "Statistical estimation of a clear sky signal from PV system power data.",
           "Photovoltaics and Solar Energy",
           "https://github.com/slacgismo/StatisticalClearSky.git",
           0.4156626506024096
          ],
          [
           "A platform to design, deploy, and operate transactive energy systems in electric utility retail environments.",
           "Energy Modeling and Optimization",
           "https://github.com/slacgismo/TESS.git",
           0.7089041095890412
          ],
          [
           "A distribution level power system simulator designed to allow users to create and analyze smart grid technologies.",
           "Energy Distribution and Grids",
           "https://github.com/slacgismo/gridlabd.git",
           0.34017363851618
          ],
          [
           "Data analysis tools for working with historical PV solar time-series data sets.",
           "Photovoltaics and Solar Energy",
           "https://github.com/slacgismo/solar-data-tools.git",
           0.3293768545994066
          ],
          [
           "The Juelich Rapid Spectral Simulation Code (JURASSIC) is a fast infrared radiative transfer model for the analysis of atmospheric remote sensing measurements.",
           "Radiative Transfer",
           "https://github.com/slcs-jsc/jurassic.git",
           0.0074626865671642
          ],
          [
           "A Lagrangian particle dispersion model for the analysis of atmospheric transport processes in the free troposphere and stratosphere.",
           "Atmosphere",
           "https://github.com/slcs-jsc/mptrac.git",
           0.0246376811594203
          ],
          [
           "This Models describe the main entities involved with smart applications that deal with environmental issues.",
           "Data Catalogs and Interfaces",
           "https://github.com/smart-data-models/dataModel.Environment.git",
           0.0384615384615384
          ],
          [
           "Snow Microwave Radiative Transfer model to compute thermal emission and backscatter from snowpack.",
           "Cryosphere",
           "https://github.com/smrt-model/smrt.git",
           0.1712328767123287
          ],
          [
           "An open source, Python-based software application suite for energy storage simulation and analysis developed by Sandia National Laboratories.",
           "Battery",
           "https://github.com/snl-quest/snl-quest.git",
           0.125
          ],
          [
           "A solver library for dynamic power system simulation.",
           "Energy Modeling and Optimization",
           "https://github.com/sogno-platform/dpsim.git",
           0.6407274895646988
          ],
          [
           "An R package for forest mensuration and management.",
           "Biosphere",
           "https://github.com/sollano/forestmangr.git",
           0
          ],
          [
           "Atmospheric absorption extinction, scatter and irradiance model in Python and Matlab.",
           "Atmosphere",
           "https://github.com/space-physics/lowtran.git",
           0
          ],
          [
           "An ecosystem of data, models and code pipelines to tackle flooding with machine learning.",
           "Natural Hazard and Poverty",
           "https://github.com/spaceml-org/ml4floods.git",
           0.3996383363471971
          ],
          [
           "A multi-scale emissions-to-health impact model for fine particulate matter (PM2.5) that mechanistically evaluates air quality and health benefits of perturbations to baseline emissions.",
           "Air Quality",
           "https://github.com/spatialmodel/inmap.git",
           0.0302114803625377
          ],
          [
           "Read energy usage data from the real-time API on Solax solar inverters.",
           "Photovoltaics and Solar Energy",
           "https://github.com/squishykid/solax.git",
           0.2727272727272727
          ],
          [
           "An R package that facilitates flexible, rapid, and reproducible fisheries stock assessment simulation testing with the widely-used Stock Synthesis statistical age-structured stock assessment framework.",
           "Agriculture and Nutrition",
           "https://github.com/ss3sim/ss3sim.git",
           0.4560126582278481
          ],
          [
           "Find STAC Catalogs, Collections, APIs, Software and Tools.",
           "Data Catalogs and Interfaces",
           "https://github.com/stac-utils/stac-index.git",
           0
          ],
          [
           "Provides basic functions for the administration of charge points, user data and RFID cards for user authentication and was tested successfully in operation.",
           "Mobility and Transportation",
           "https://github.com/steve-community/steve.git",
           0.3361027190332326
          ],
          [
           "Makes it easy for people to design public spaces together.",
           "Mobility and Transportation",
           "https://github.com/streetmix/streetmix.git",
           0.4434430752253081
          ],
          [
           "Source materials supporting Stripe Climate carbon removal purchases.",
           "Knowledge Platforms",
           "https://github.com/stripe/carbon-removal-source-materials.git",
           0.368421052631579
          ],
          [
           "Uses eBPF to probe energy related system stats and exports as Prometheus metrics.",
           "Computation and Communication",
           "https://github.com/sustainable-computing-io/kepler.git",
           0.6551724137931034
          ],
          [
           "Benchmarks for Monitoring the Sustainable Development Goals with Machine Learning.",
           "Sustainable Development Goals",
           "https://github.com/sustainlab-group/sustainbench.git",
           0.1428571428571429
          ],
          [
           "Optimal planning model for power systems with large shares of renewable energy.",
           "Energy Modeling and Optimization",
           "https://github.com/switch-model/switch.git",
           0.3429003021148036
          ],
          [
           "A simple wrapper for the U.S. Energy Information Administration API.",
           "Datasets on Energy Systems",
           "https://github.com/systemcatch/eiapy.git",
           0.0333333333333333
          ],
          [
           "A modeling library designed for transport planning and traffic forecasts.",
           "Mobility and Transportation",
           "https://github.com/systragroup/quetzal.git",
           0.4150943396226415
          ],
          [
           "R package to assess water quality trends with generalized additive models.",
           "Water Supply and Quality",
           "https://github.com/tbep-tech/wqtrends.git",
           0
          ],
          [
           "Allows user to run dynamics simulations for solar photovoltaic distributed energy resource connected to a stiff voltage source or to an external program.",
           "Photovoltaics and Solar Energy",
           "https://github.com/tdcosim/SolarPV-DER-simulation-tool.git",
           0.0139860139860139
          ],
          [
           "Standard for sharing of information about biological diversity.",
           "Biosphere",
           "https://github.com/tdwg/dwc.git",
           0.5281980742778543
          ],
          [
           "Powerful tool that makes high-performance ocean modeling approachable and fun.",
           "Hydrosphere",
           "https://github.com/team-ocean/veros.git",
           0.2876935615321924
          ],
          [
           "Develop an open source technology platform to help local community leaders practice Integrated Landscape Management.",
           "Soil and Land",
           "https://github.com/techmatters/terraso-backend.git",
           0.4054054054054054
          ],
          [
           "Enable coordinated citizen participation in the irrigation of urban trees.",
           "Biosphere",
           "https://github.com/technologiestiftung/giessdenkiez-de.git",
           0.6985559566787003
          ],
          [
           "A 3D radiative transfer solver for earth system models.",
           "Radiative Transfer",
           "https://github.com/tenstream/tenstream.git",
           0.085499316005472
          ],
          [
           "A npm module for accessing the green web API, and estimating the carbon emissions from using digital services.",
           "Computation and Communication",
           "https://github.com/thegreenwebfoundation/co2.js.git",
           0.3316582914572864
          ],
          [
           "A tool written in go to help you factor carbon intensity into decisions about where and when to run computing jobs.",
           "Computation and Communication",
           "https://github.com/thegreenwebfoundation/grid-intensity-go.git",
           0.1090909090909091
          ],
          [
           "An Energy Information Administration API Python client for researchers who need data.",
           "Datasets on Energy Systems",
           "https://github.com/thomastu/pyEIA.git",
           0.0625
          ],
          [
           "High performance R functions for forest data processing based on Terrestrial Laser Scanning (but not only) point clouds.",
           "Biosphere",
           "https://github.com/tiagodc/TreeLS.git",
           0.0095846645367412
          ],
          [
           "A Python module that wraps several upper atmosphere climatological models written in FORTRAN.",
           "Atmosphere",
           "https://github.com/timduly4/pyglow.git",
           0.1777777777777778
          ],
          [
           "A biological wastewater treatment software.",
           "Water Supply and Quality",
           "https://github.com/toogad/PooPyLab_Project.git",
           0.0060975609756097
          ],
          [
           "A package for modeling forest trait ecology and evolution.",
           "Biosphere",
           "https://github.com/traitecoevo/plant.git",
           0.266934942991281
          ],
          [
           " An open data platform that collects GTFS, GTFS Realtime, and other open data feeds from transit providers around the world.",
           "Mobility and Transportation",
           "https://github.com/transitland/transitland-atlas.git",
           0.3980099502487562
          ],
          [
           "A tool for estimating the future energy use, carbon emissions, and capital and operating cost impacts of energy efficiency and demand flexibility technologies in the U.S. residential and commercial building sectors.",
           "Buildings and Heating",
           "https://github.com/trynthink/scout.git",
           0.3499327052489905
          ],
          [
           "Python Generator of REnewable Time series and mAps: a tool that generates high-resolution potential maps and time series for user-defined regions within the globe.",
           "Energy Modeling and Optimization",
           "https://github.com/tum-ens/pyGRETA.git",
           0.5329249617151608
          ],
          [
           "A linear optimization model for distributed energy systems.",
           "Energy Modeling and Optimization",
           "https://github.com/tum-ens/urbs.git",
           0.646677471636953
          ],
          [
           "A library for simulating wind and marine hydrokinetic turbines in OpenFOAM using the actuator line method.",
           "Wind Energy",
           "https://github.com/turbinesFoam/turbinesFoam.git",
           0.0293040293040293
          ],
          [
           "An atmospheric transport model that deals with vertically integrated column CO2 and potentially other trace gases.",
           "Emission Observation and Modeling",
           "https://github.com/uataq/X-STILT.git",
           0.0067114093959731
          ],
          [
           "An open source Lagrangian particle dispersion model which is widely used to simulate the transport of pollution and greenhouse gases through the atmosphere.",
           "Emission Observation and Modeling",
           "https://github.com/uataq/stilt.git",
           0.0092165898617511
          ],
          [
           "Public transport and multimodal routing apps could benefit from showing nearby bikes from bikesharing services. So here's a list showing the APIs of a few of these platforms.",
           "Mobility and Transportation",
           "https://github.com/ubahnverleih/WoBike.git",
           0.7142857142857143
          ],
          [
           "The role of the Climate from Space application is to increase the visibility of the Climate Change Initiative programme and the role of ESA satellite data in climate science.",
           "Earth and Climate Modeling",
           "https://github.com/ubilabs/esa-climate-from-space.git",
           0.5708812260536398
          ],
          [
           "An R package for estimating aboveground biomass and its uncertainty in tropical forests.",
           "Biosphere",
           "https://github.com/umr-amap/BIOMASS.git",
           0.1841004184100418
          ],
          [
           "An OpenAI Gym Environment for Electric Motors.",
           "Mobility and Transportation",
           "https://github.com/upb-lea/gym-electric-motor.git",
           0.6063348416289593
          ],
          [
           "An OpenAI Gym Environment for Microgrids.",
           "Energy Distribution and Grids",
           "https://github.com/upb-lea/openmodelica-microgrid-gym.git",
           0.5157894736842106
          ],
          [
           "R client for interacting with the USA National Phenology Network data web services.",
           "Biosphere",
           "https://github.com/usa-npn/rnpn.git",
           0.3312101910828026
          ],
          [
           "A statistical modeling tool used by Reclamation water managers and reservoir operators to train and build predictive models for seasonal inflows and streamflows.",
           "Water Supply and Quality",
           "https://github.com/usbr/PyForecast.git",
           0.3348837209302325
          ],
          [
           "A tool to identify disadvantaged communities due to environmental, socioeconomic and health burdens.",
           "Knowledge Platforms",
           "https://github.com/usds/justice40-tool.git",
           0.7387247278382582
          ],
          [
           "Supplementary content for the U.S. Life Cycle Inventory Database.",
           "Life Cycle Assessment",
           "https://github.com/uslci-admin/uslci-content.git",
           0.0896656534954407
          ],
          [
           "Displays the monthly mean sea ice extent for the Arctic and Antarctic along with the historical median extent.",
           "Cryosphere",
           "https://github.com/vannizhang/sea-ice.git",
           0.0338983050847457
          ],
          [
           "A daemon for collecting measurement data from smart meters and grid inverters over modbus.",
           "Buildings and Heating",
           "https://github.com/volkszaehler/mbmd.git",
           0.3765432098765432
          ],
          [
           "A free smart meter implementation with focus on data privacy.",
           "Buildings and Heating",
           "https://github.com/volkszaehler/volkszaehler.org.git",
           0.564963503649635
          ],
          [
           "A parallel, open-source geothermal flow simulator.",
           "Geothermal Energy",
           "https://github.com/waiwera/waiwera.git",
           0.0437442643010095
          ],
          [
           "Leverages deep learning and computer vision for drought resilience, using satellite images and human expert labels to detect drought conditions in Northern Kenya.",
           "Soil and Land",
           "https://github.com/wandb/droughtwatch.git",
           0
          ],
          [
           "Python Package for Tree Crown Detection in Airborne RGB imagery.",
           "Biosphere",
           "https://github.com/weecology/DeepForest.git",
           0.5714285714285714
          ],
          [
           "Hyperspectral Image Classification with Attention Aided CNNs.",
           "Biosphere",
           "https://github.com/weecology/DeepTreeAttention.git",
           0.0027118644067796
          ],
          [
           "Benchmark dataset for tree detection for airborne RGB, Hyperspectral and LIDAR imagery.",
           "Biosphere",
           "https://github.com/weecology/NeonTreeEvaluation.git",
           0.0053191489361702
          ],
          [
           "Using a deep neural network to better resolve the bed topography of Antarctica.",
           "Cryosphere",
           "https://github.com/weiji14/deepbedmap.git",
           0.188034188034188
          ],
          [
           "Mapping and monitoring deep subglacial water activity in Antarctica using remote sensing and machine learning.",
           "Cryosphere",
           "https://github.com/weiji14/deepicedrain.git",
           0.4029227557411273
          ],
          [
           "Facilitates research and analysis on complex topics in collaboration with partners, to make ESG data open, comparable and useful for all.",
           "Sustainable Investment",
           "https://github.com/wikirate/wikirate.git",
           0.3741563248421511
          ],
          [
           "Detecting plastic waste in the environment to combat environmental pollution and promote circular economy.",
           "Circular Economy and Waste",
           "https://github.com/wimlds-trojmiasto/detect-waste.git",
           0.5168539325842696
          ],
          [
           "A library to model the output of wind turbines and farms.",
           "Wind Energy",
           "https://github.com/wind-python/windpowerlib.git",
           0.3715481171548117
          ],
          [
           "A Python library for calculating reference crop evapotranspiration, sometimes referred to as potential evapotranspiration.",
           "Biosphere",
           "https://github.com/woodcrafty/PyETo.git",
           0.0416666666666666
          ],
          [
           "GHEtool is an open source Python package that contains all the functionalities needed to deal with borefield design.",
           "Geothermal Energy",
           "https://github.com/wouterpeere/GHEtool.git",
           0.1789473684210526
          ],
          [
           "An R package and Shiny application to provide API access to the WorldPop Open Population Repository.",
           "Data Catalogs and Interfaces",
           "https://github.com/wpgp/wopr.git",
           0
          ],
          [
           "A state-of-the-art atmospheric modeling system designed for both meteorological research and numerical weather prediction.",
           "Earth and Climate Modeling",
           "https://github.com/wrf-model/WRF.git",
           0.6445086705202312
          ],
          [
           "This model maps gross greenhouse gas emissions from forests between 2001 and 2015, gross carbon removals by forests between 2001, and the difference between them (net flux).",
           "Biosphere",
           "https://github.com/wri/carbon-budget.git",
           0.011685276551545
          ],
          [
           "A library to build custom Forest Atlas web applications.",
           "Biosphere",
           "https://github.com/wri/gfw-mapbuilder.git",
           0.7096885813148789
          ],
          [
           "A comprehensive, global and open source database of power plants.",
           "Datasets on Energy Systems",
           "https://github.com/wri/global-power-plant-database.git",
           0.2199999999999999
          ],
          [
           "This project maps tree extent at the ten-meter scale using open source artificial intelligence and satellite imagery.",
           "Biosphere",
           "https://github.com/wri/sentinel-tree-cover.git",
           0.074074074074074
          ],
          [
           "An extension of xarray for climate data analysis on structured grids.",
           "Climate Data Processing and Access",
           "https://github.com/xCDAT/xcdat.git",
           0.1351351351351351
          ],
          [
           "An open source project and Python package that provides verification metrics of deterministic (and probabilistic from properscoring) forecasts with xarray.",
           "Climate Data Processing and Access",
           "https://github.com/xarray-contrib/xskillscore.git",
           0.5722070844686649
          ],
          [
           "A Python package for analyzing general circulation model output data.",
           "Earth and Climate Modeling",
           "https://github.com/xgcm/xgcm.git",
           0.6814345991561181
          ],
          [
           "A dynamic, process-based simulation model which describes transport and bio-chemical turn-over of carbon, nitrogen and water in agro-ecosystems.",
           "Agriculture and Nutrition",
           "https://github.com/zalf-rpm/monica.git",
           0.3468379446640316
          ],
          [
           "Weather and climate graphics for science communication.",
           "Climate Data Processing and Access",
           "https://github.com/zmlabe/IceVarFigs.git",
           0.0459770114942529
          ],
          [
           "(?)",
           "Agriculture and Nutrition",
           "(?)",
           0.3541640147444056
          ],
          [
           "(?)",
           "Air Quality",
           "(?)",
           0.30116688612183673
          ],
          [
           "(?)",
           "Atmosphere",
           "(?)",
           0.25947142700104653
          ],
          [
           "(?)",
           "Battery",
           "(?)",
           0.3004871243571625
          ],
          [
           "(?)",
           "Bioenergy",
           "(?)",
           0.29621489881663504
          ],
          [
           "(?)",
           "Biosphere",
           "(?)",
           0.28521389055894264
          ],
          [
           "(?)",
           "Buildings and Heating",
           "(?)",
           0.4084542821888722
          ],
          [
           "(?)",
           "Carbon Capture and Removal",
           "(?)",
           0.4205772133255401
          ],
          [
           "(?)",
           "Carbon Intensity and Accounting",
           "(?)",
           0.270866806647158
          ],
          [
           "(?)",
           "Circular Economy and Waste",
           "(?)",
           0.19843672166882964
          ],
          [
           "(?)",
           "Climate Data Processing and Access",
           "(?)",
           0.3255426971046065
          ],
          [
           "(?)",
           "Computation and Communication",
           "(?)",
           0.37892555607700185
          ],
          [
           "(?)",
           "Cryosphere",
           "(?)",
           0.20975197567028378
          ],
          [
           "(?)",
           "Data Catalogs and Interfaces",
           "(?)",
           0.3362559739677387
          ],
          [
           "(?)",
           "Datasets on Energy Systems",
           "(?)",
           0.28565180383256844
          ],
          [
           "(?)",
           "Earth and Climate Modeling",
           "(?)",
           0.36110350946769654
          ],
          [
           "(?)",
           "Emission Observation and Modeling",
           "(?)",
           0.2728834032523188
          ],
          [
           "(?)",
           "Energy Distribution and Grids",
           "(?)",
           0.4313582598215009
          ],
          [
           "(?)",
           "Energy Modeling and Optimization",
           "(?)",
           0.4025654031622455
          ],
          [
           "(?)",
           "Energy Monitoring and Control",
           "(?)",
           0.4757548171540927
          ],
          [
           "(?)",
           "Geothermal Energy",
           "(?)",
           0.09025122157495777
          ],
          [
           "(?)",
           "Hydro Energy",
           "(?)",
           0.3080895689985359
          ],
          [
           "(?)",
           "Hydrogen",
           "(?)",
           0.37478235717837316
          ],
          [
           "(?)",
           "Hydrosphere",
           "(?)",
           0.3463887178247552
          ],
          [
           "(?)",
           "Integrated Assessment",
           "(?)",
           0.4133410605102169
          ],
          [
           "(?)",
           "Knowledge Platforms",
           "(?)",
           0.5359531543645901
          ],
          [
           "(?)",
           "Life Cycle Assessment",
           "(?)",
           0.28531723054477937
          ],
          [
           "(?)",
           "Meteorological Observation and Forecast",
           "(?)",
           0.2117328457482088
          ],
          [
           "(?)",
           "Mobility and Transportation",
           "(?)",
           0.3286993970321614
          ],
          [
           "(?)",
           "Natural Hazard and Poverty",
           "(?)",
           0.42438377710846975
          ],
          [
           "(?)",
           "Photovoltaics and Solar Energy",
           "(?)",
           0.29435383530541487
          ],
          [
           "An open source Modelica-based modeling and simulation environment intended for industrial and academic usage.",
           "Production and Industry",
           "https://github.com/OpenModelica/OpenModelica.git",
           0.7481946510868382
          ],
          [
           "(?)",
           "Radiative Transfer",
           "(?)",
           0.21354913363675543
          ],
          [
           "(?)",
           "Soil and Land",
           "(?)",
           0.3420720032498216
          ],
          [
           "(?)",
           "Sustainable Development Goals",
           "(?)",
           0.31585920512125765
          ],
          [
           "(?)",
           "Sustainable Investment",
           "(?)",
           0.4610571073977695
          ],
          [
           "(?)",
           "Water Supply and Quality",
           "(?)",
           0.29538204470197493
          ],
          [
           "(?)",
           "Wind Energy",
           "(?)",
           0.39241872099135056
          ],
          [
           "(?)",
           "(?)",
           "(?)",
           0.33191771641713647
          ],
          [
           "(?)",
           "(?)",
           "(?)",
           0.3693286975207739
          ],
          [
           "(?)",
           "(?)",
           "(?)",
           0.2935734854054709
          ],
          [
           "(?)",
           "(?)",
           "(?)",
           0.2873592874683649
          ],
          [
           "(?)",
           "(?)",
           "(?)",
           0.32426159885994993
          ],
          [
           "(?)",
           "(?)",
           "(?)",
           0.3951259187881749
          ],
          [
           "(?)",
           "(?)",
           "(?)",
           0.2434858744193221
          ],
          [
           "(?)",
           "(?)",
           "(?)",
           0.32897699433286093
          ],
          [
           "(?)",
           "(?)",
           "(?)",
           0.3100310261330754
          ],
          [
           "(?)",
           "(?)",
           "(?)",
           0.3982842084074136
          ]
         ],
         "domain": {
          "x": [
           0,
           1
          ],
          "y": [
           0,
           1
          ]
         },
         "hovertemplate": "Project Info: <b>%{customdata[0]}</b><br>Topic: <b>%{customdata[1]}</b><br>Git URL: <b>%{customdata[2]}</b>",
         "ids": [
          "Sustainable Development/Data Catalogs and Interfaces/<a href=\"https://github.com/16EAGLE/getSpatialData.git\">getSpatialData</a>",
          "Energy Systems/Energy Modeling and Optimization/<a href=\"https://github.com/ADGEfficiency/energy-py-linear.git\">energy-py-linear</a>",
          "Energy Systems/Energy Modeling and Optimization/<a href=\"https://github.com/ADGEfficiency/energy-py.git\">energy-py</a>",
          "Climate and Earth Science/Radiative Transfer/<a href=\"https://github.com/AER-RC/LBLRTM.git\">LBLRTM</a>",
          "Natural Resources/Agriculture and Nutrition/<a href=\"https://github.com/APSIMInitiative/ApsimX.git\">ApsimX</a>",
          "Climate and Earth Science/Climate Data Processing and Access/<a href=\"https://github.com/ARCCSS-extremes/climpact.git\">climpact</a>",
          "Natural Resources/Water Supply and Quality/<a href=\"https://github.com/ARPA-SIMC/CRITERIA3D.git\">CRITERIA3D</a>",
          "Consumption of Energy and Resources/Mobility and Transportation/<a href=\"https://github.com/ATFutures/gtfs-router.git\">gtfs-router</a>",
          "Natural Resources/Agriculture and Nutrition/<a href=\"https://github.com/AgroCares/Open-Bodem-Index-Calculator.git\">OBI</a>",
          "Natural Resources/Water Supply and Quality/<a href=\"https://github.com/AguaClara/aguaclara.git\">aguaclara</a>",
          "Energy Systems/Energy Modeling and Optimization/<a href=\"https://github.com/AntaresSimulatorTeam/Antares_Simulator.git\">Antares Simulator</a>",
          "Natural Resources/Water Supply and Quality/<a href=\"https://github.com/AquaticEcoDynamics/GLM.git\">The General Lake Model</a>",
          "Natural Resources/Water Supply and Quality/<a href=\"https://github.com/AquaticEcoDynamics/libaed2.git\">AED2</a>",
          "Earth Systems/Hydrosphere/<a href=\"https://github.com/AustralianAntarcticDivision/blueant.git\">Blueant</a>",
          "Renewable Energy/Hydro Energy/<a href=\"https://github.com/BEMRosetta/BEMRosetta.git\">BEMRosetta</a>",
          "Energy Storage/Battery/<a href=\"https://github.com/BattMoTeam/BattMo.git\">BattMo</a>",
          "Earth Systems/Biosphere/<a href=\"https://github.com/BioPAL/BioPAL.git\">BioPAL</a>",
          "Renewable Energy/Bioenergy/<a href=\"https://github.com/BioSTEAMDevelopmentGroup/biosteam.git\">biosteam</a>",
          "Earth Systems/Biosphere/<a href=\"https://github.com/Bioverse-Labs/deep-learning.git\">Bioverse Labs</a>",
          "Consumption of Energy and Resources/Mobility and Transportation/<a href=\"https://github.com/BlinkTagInc/node-gtfs.git\">node-gtfs</a>",
          "Consumption of Energy and Resources/Computation and Communication/<a href=\"https://github.com/Boavizta/environmental-footprint-data.git\">Environmental Footprint Data</a>",
          "Consumption of Energy and Resources/Computation and Communication/<a href=\"https://github.com/Breakend/experiment-impact-tracker.git\">experiment-impact-tracker</a>",
          "Renewable Energy/Photovoltaics and Solar Energy/<a href=\"https://github.com/BreakingBytes/pvfree.git\">PV Free</a>",
          "Energy Systems/Energy Distribution and Grids/<a href=\"https://github.com/Breakthrough-Energy/PowerSimData.git\">PowerSimData</a>",
          "Energy Systems/Energy Modeling and Optimization/<a href=\"https://github.com/Breakthrough-Energy/REISE.jl.git\">REISE.jl</a>",
          "Consumption of Energy and Resources/Buildings and Heating/<a href=\"https://github.com/BrickSchema/Brick.git\">Brick</a>",
          "Climate and Earth Science/Climate Data Processing and Access/<a href=\"https://github.com/CCI-Tools/cate.git\">Cate</a>",
          "Emissions/Carbon Capture and Removal/<a href=\"https://github.com/CCSI-Toolset/FOQUS.git\">FOQUS</a>",
          "Natural Resources/Air Quality/<a href=\"https://github.com/CEMPD/SMOKE.git\">SMOKE</a>",
          "Earth Systems/Cryosphere/<a href=\"https://github.com/CICE-Consortium/CICE.git\">CICE</a>",
          "Earth Systems/Cryosphere/<a href=\"https://github.com/CICE-Consortium/Icepack.git\">icepack</a>",
          "Climate and Earth Science/Earth and Climate Modeling/<a href=\"https://github.com/CLIMADA-project/climada_python.git\">CLIMADA</a>",
          "Industrial Ecology/Circular Economy and Waste/<a href=\"https://github.com/CMLPlatform/CircuMAT.git\">CircuMat</a>",
          "Industrial Ecology/Circular Economy and Waste/<a href=\"https://github.com/CMLPlatform/pycirk.git\">pycirk</a>",
          "Industrial Ecology/Circular Economy and Waste/<a href=\"https://github.com/CMLPlatform/ramascene.git\">RaMa-Scene</a>",
          "Emissions/Emission Observation and Modeling/<a href=\"https://github.com/CMU-CREATE-Lab/deep-smoke-machine.git\">deep-smoke-machine</a>",
          "Sustainable Development/Sustainable Development Goals/<a href=\"https://github.com/CMUSustainability/SDGmapR.git\">SDGmapR</a>",
          "Earth Systems/Atmosphere/<a href=\"https://github.com/CNES/MAJA.git\">maja</a>",
          "Earth Systems/Hydrosphere/<a href=\"https://github.com/COSIMA/cosima-cookbook.git\">COSIMA</a>",
          "Natural Resources/Water Supply and Quality/<a href=\"https://github.com/CSHS-CWRA/CSHShydRology.git\">CSHShydRology</a>",
          "Renewable Energy/Geothermal Energy/<a href=\"https://github.com/CalebBell/thermo.git\">thermo</a>",
          "Natural Resources/Water Supply and Quality/<a href=\"https://github.com/Call-for-Code/Liquid-Prep.git\">Liquid Prep</a>",
          "Earth Systems/Biosphere/<a href=\"https://github.com/CatalogueOfLife/general.git\">The Catalogue of Life</a>",
          "Consumption of Energy and Resources/Buildings and Heating/<a href=\"https://github.com/CenterForTheBuiltEnvironment/clima.git\">CBE Clima Tool</a>",
          "Consumption of Energy and Resources/Buildings and Heating/<a href=\"https://github.com/CenterForTheBuiltEnvironment/comfort_tool.git\">comfort_tool</a>",
          "Consumption of Energy and Resources/Buildings and Heating/<a href=\"https://github.com/CenterForTheBuiltEnvironment/pythermalcomfort.git\">pythermalcomfort</a>",
          "Natural Resources/Soil and Land/<a href=\"https://github.com/Christiaanvandertol/SCOPE.git\">SCOPE</a>",
          "Climate and Earth Science/Earth and Climate Modeling/<a href=\"https://github.com/CliMA/ClimateMachine.jl.git\">ClimateMachine.jl</a>",
          "Earth Systems/Hydrosphere/<a href=\"https://github.com/CliMA/LESbrary.jl.git\">LESbrary.jl</a>",
          "Climate and Earth Science/Earth and Climate Modeling/<a href=\"https://github.com/CliMA/Land.git\">CLIMA-Land</a>",
          "Earth Systems/Hydrosphere/<a href=\"https://github.com/CliMA/Oceananigans.jl.git\">Oceananigans.jl</a>",
          "Earth Systems/Atmosphere/<a href=\"https://github.com/CliMA/RRTMGP.jl.git\">RRTMGP.jl</a>",
          "Climate and Earth Science/Earth and Climate Modeling/<a href=\"https://github.com/CliMT/climt.git\">CliMT</a>",
          "Climate and Earth Science/Earth and Climate Modeling/<a href=\"https://github.com/ClimateMARGO/ClimateMARGO.jl.git\">ClimateMARGO.jl</a>",
          "Sustainable Development/Knowledge Platforms/<a href=\"https://github.com/ClimateMind/climatemind-backend.git\">Climatemind</a>",
          "Sustainable Development/Knowledge Platforms/<a href=\"https://github.com/ClimateWatch-Vizzuality/climate-watch.git\">Climate Watch</a>",
          "Earth Systems/Hydrosphere/<a href=\"https://github.com/Climdyn/qgs.git\">qgs</a>",
          "Emissions/Carbon Intensity and Accounting/<a href=\"https://github.com/ConferenceCarbonTracker/CarbonFootprintEGU.git\">CarbonFootprintEGU</a>",
          "Natural Resources/Agriculture and Nutrition/<a href=\"https://github.com/ConservationInternational/resilienceatlas.git\">Resilience Atlas</a>",
          "Natural Resources/Soil and Land/<a href=\"https://github.com/ConservationInternational/trends.earth.git\">Trends.Earth</a>",
          "Earth Systems/Biosphere/<a href=\"https://github.com/CornellLabofOrnithology/auk.git\">auk</a>",
          "Natural Resources/Natural Hazard and Poverty/<a href=\"https://github.com/CriticalAssetManagement/CAMS.git\">CAMS</a>",
          "Earth Systems/Hydrosphere/<a href=\"https://github.com/DFO-Ocean-Navigator/Ocean-Data-Map-Project.git\">Ocean-Data-Map-Project</a>",
          "Sustainable Development/Knowledge Platforms/<a href=\"https://github.com/DPGAlliance/publicgoods-candidates.git\">Digital Public Goods</a>",
          "Earth Systems/Biosphere/<a href=\"https://github.com/DS3Lab/forest-prediction.git\">forest-prediction</a>",
          "Natural Resources/Agriculture and Nutrition/<a href=\"https://github.com/DSSAT/dssat-csm-os.git\">DSSAT Cropping System Model</a>",
          "Earth Systems/Hydrosphere/<a href=\"https://github.com/Deltares/Wflow.jl.git\">Wflow</a>",
          "Energy Systems/Datasets on Energy Systems/<a href=\"https://github.com/DemandRegioTeam/disaggregator.git\">disaggregator</a>",
          "Energy Systems/Energy Modeling and Optimization/<a href=\"https://github.com/DrafProject/draf.git\">draf</a>",
          "Emissions/Carbon Intensity and Accounting/<a href=\"https://github.com/DrafProject/elmada.git\">elmada</a>",
          "Earth Systems/Hydrosphere/<a href=\"https://github.com/DrylandEcology/SOILWAT2.git\">SOILWAT2</a>",
          "Climate and Earth Science/Earth and Climate Modeling/<a href=\"https://github.com/E3SM-Project/E3SM.git\">E3SM</a>",
          "Climate and Earth Science/Earth and Climate Modeling/<a href=\"https://github.com/E3SM-Project/e3sm_diags.git\">E3SM Diagnostics Package</a>",
          "Climate and Earth Science/Earth and Climate Modeling/<a href=\"https://github.com/E3SM-Project/gdess.git\">GDESS</a>",
          "Earth Systems/Atmosphere/<a href=\"https://github.com/E3SM-Project/scream.git\">SCREAM</a>",
          "Climate and Earth Science/Earth and Climate Modeling/<a href=\"https://github.com/ECCC-ASTD-MRD/gem.git\">The Global Environmental Multiscale Model</a>",
          "Earth Systems/Cryosphere/<a href=\"https://github.com/ECCO-GROUP/ECCO-v4-Python-Tutorial.git\">ECCO-v4-Python-Tutorial</a>",
          "Energy Storage/Battery/<a href=\"https://github.com/ECSHackWeek/impedance.py.git\">impedance.py</a>",
          "Energy Storage/Hydrogen/<a href=\"https://github.com/ECSIM/gopem.git\">gopem</a>",
          "Energy Storage/Hydrogen/<a href=\"https://github.com/ECSIM/opem.git\">OPEM</a>",
          "Energy Storage/Hydrogen/<a href=\"https://github.com/ECSIM/pem-dataset1.git\">pem-dataset1</a>",
          "Consumption of Energy and Resources/Buildings and Heating/<a href=\"https://github.com/EDF-Lab/BuildSysPro.git\">BuildSysPro</a>",
          "Climate and Earth Science/Earth and Climate Modeling/<a href=\"https://github.com/ESCOMP/CESM.git\">The Community Earth System Model</a>",
          "Climate and Earth Science/Earth and Climate Modeling/<a href=\"https://github.com/ESCOMP/CMEPS.git\">CMEPS</a>",
          "Sustainable Development/Data Catalogs and Interfaces/<a href=\"https://github.com/ESGF/esgf-pyclient.git\">ESGF PyClient</a>",
          "Earth Systems/Hydrosphere/<a href=\"https://github.com/ESIPFed/LakePy.git\">LakePy</a>",
          "Sustainable Development/Knowledge Platforms/<a href=\"https://github.com/ESIPFed/sweet.git\">SWEET</a>",
          "Earth Systems/Hydrosphere/<a href=\"https://github.com/ESMG/pyroms.git\">pyroms</a>",
          "Climate and Earth Science/Earth and Climate Modeling/<a href=\"https://github.com/ESMValGroup/ESMValTool.git\">ESMValTool</a>",
          "Consumption of Energy and Resources/Mobility and Transportation/<a href=\"https://github.com/EVNotify/EVNotify.git\">EVNotify</a>",
          "Consumption of Energy and Resources/Mobility and Transportation/<a href=\"https://github.com/EVerest/EVerest.git\">EVerest</a>",
          "Climate and Earth Science/Earth and Climate Modeling/<a href=\"https://github.com/EarthSystemDiagnostics/sedproxy.git\">sedproxy</a>",
          "Natural Resources/Agriculture and Nutrition/<a href=\"https://github.com/Ecohackerfarm/powerplant.git\">powerplant</a>",
          "Earth Systems/Biosphere/<a href=\"https://github.com/EcologicalSemantics/ecocore.git\">ecoCore</a>",
          "Consumption of Energy and Resources/Buildings and Heating/<a href=\"https://github.com/EcotopeResearch/HPWHsim.git\">HPWHsim</a>",
          "Earth Systems/Biosphere/<a href=\"https://github.com/Ecotrust/forestplanner.git\">Forest Scenario Planner</a>",
          "Natural Resources/Agriculture and Nutrition/<a href=\"https://github.com/EduardoFernandezC/dormancyR.git\">dormancyR</a>",
          "Energy Storage/Battery/<a href=\"https://github.com/ElektrikAkar/3d_milp.git\">3d_milp</a>",
          "Energy Systems/Datasets on Energy Systems/<a href=\"https://github.com/EnergieID/entsoe-py.git\">entsoe-py</a>",
          "Energy Systems/Energy Monitoring and Control/<a href=\"https://github.com/Energy-Sparks/energy-sparks.git\">energy-sparks</a>",
          "Energy Systems/Energy Modeling and Optimization/<a href=\"https://github.com/EnergyInnovation/eps-us.git\">Energy Policy Simulator</a>",
          "Energy Systems/Energy Modeling and Optimization/<a href=\"https://github.com/EnergyTransition/ESDL.git\">ESDL</a>",
          "Sustainable Development/Knowledge Platforms/<a href=\"https://github.com/EnviroDIY/ModularSensors.git\">ModularSensors</a>",
          "Sustainable Development/Knowledge Platforms/<a href=\"https://github.com/EnvironmentOntology/envo.git\">ENVO</a>",
          "Renewable Energy/Wind Energy/<a href=\"https://github.com/Exawind/amr-wind.git\">amr-wind</a>",
          "Renewable Energy/Wind Energy/<a href=\"https://github.com/Exawind/nalu-wind.git\">nalu-wind</a>",
          "Earth Systems/Atmosphere/<a href=\"https://github.com/ExeClim/Isca.git\">Isca</a>",
          "Earth Systems/Hydrosphere/<a href=\"https://github.com/FLARE-forecast/FLAREr.git\">FLAREr</a>",
          "Energy Systems/Energy Modeling and Optimization/<a href=\"https://github.com/FZJ-IEK3-VSA/FINE.git\">FINE</a>",
          "Consumption of Energy and Resources/Buildings and Heating/<a href=\"https://github.com/FZJ-IEK3-VSA/HiSim.git\">HiSim</a>",
          "Consumption of Energy and Resources/Buildings and Heating/<a href=\"https://github.com/FZJ-IEK3-VSA/LoadProfileGenerator.git\">LoadProfileGenerator</a>",
          "Energy Systems/Energy Modeling and Optimization/<a href=\"https://github.com/FZJ-IEK3-VSA/tsam.git\">tsam</a>",
          "Natural Resources/Agriculture and Nutrition/<a href=\"https://github.com/FarmBot/Farmbot-Web-App.git\">Farmbot</a>",
          "Energy Systems/Energy Monitoring and Control/<a href=\"https://github.com/FlexMeasures/flexmeasures.git\">FlexMeasures</a>",
          "Energy Systems/Energy Modeling and Optimization/<a href=\"https://github.com/FlexiGIS/FlexiGIS.git\">FlexiGIS</a>",
          "Earth Systems/Hydrosphere/<a href=\"https://github.com/GClunies/noaa_coops.git\">noaa_coops</a>",
          "Emissions/Carbon Capture and Removal/<a href=\"https://github.com/GEOSX/GEOSX.git\">GEOSX</a>",
          "Earth Systems/Cryosphere/<a href=\"https://github.com/GEUS-Glaciology-and-Climate/freshwater.git\">freshwater</a>",
          "Climate and Earth Science/Earth and Climate Modeling/<a href=\"https://github.com/GIS4WRF/gis4wrf.git\">gis4wrf</a>",
          "Energy Systems/Energy Modeling and Optimization/<a href=\"https://github.com/GMLC-TDC/HELICS.git\">Hierarchical Engine for Large-scale Infrastructure Co-Simulation</a>",
          "Sustainable Development/Sustainable Development Goals/<a href=\"https://github.com/GSA/sdg-indicators-usa.git\">US Sustainable Development Goal indicators</a>",
          "Energy Systems/Energy Modeling and Optimization/<a href=\"https://github.com/GenXProject/GenX.git\">GenX</a>",
          "Consumption of Energy and Resources/Computation and Communication/<a href=\"https://github.com/GoogleCloudPlatform/region-carbon-info.git\">Carbon free energy for Google Cloud regions</a>",
          "Earth Systems/Atmosphere/<a href=\"https://github.com/GralDispersionModel/GRAL.git\">GRAL</a>",
          "Emissions/Carbon Intensity and Accounting/<a href=\"https://github.com/GranthamImperial/silicone.git\">Silicone</a>",
          "Consumption of Energy and Resources/Computation and Communication/<a href=\"https://github.com/Green-Software-Foundation/software_carbon_intensity.git\">Software Carbon Intensity Specification</a>",
          "Industrial Ecology/Life Cycle Assessment/<a href=\"https://github.com/GreenDelta/olca-app.git\">OpenLCA</a>",
          "Industrial Ecology/Life Cycle Assessment/<a href=\"https://github.com/GreenDelta/openlca-python-tutorial.git\">openlca-python-tutorial</a>",
          "Earth Systems/Biosphere/<a href=\"https://github.com/Greenstand/treetracker-android.git\">Treetracker</a>",
          "Earth Systems/Biosphere/<a href=\"https://github.com/GreenswayAB/BIRDS.git\">BIRDS</a>",
          "Energy Systems/Energy Distribution and Grids/<a href=\"https://github.com/GridMod/RTS-GMLC.git\">RTS-GMLC</a>",
          "Natural Resources/Agriculture and Nutrition/<a href=\"https://github.com/Growstuff/growstuff.git\">Growstuff</a>",
          "Consumption of Energy and Resources/Buildings and Heating/<a href=\"https://github.com/HIT2GAP-EU-PROJECT/bemserver.git\">BEMServer</a>",
          "Natural Resources/Air Quality/<a href=\"https://github.com/HabitatMap/AirCasting.git\">AirCasting</a>",
          "Consumption of Energy and Resources/Buildings and Heating/<a href=\"https://github.com/HotMaps/Hotmaps-toolbox-service.git\">Hotmaps</a>",
          "Climate and Earth Science/Integrated Assessment/<a href=\"https://github.com/IAMconsortium/pyam.git\">pyam</a>",
          "Energy Systems/Energy Modeling and Optimization/<a href=\"https://github.com/IBM/rl-testbed-for-energyplus.git\">rl-testbed-for-energyplus</a>",
          "Emissions/Emission Observation and Modeling/<a href=\"https://github.com/ICOS-Carbon-Portal/pylib.git\">Integrated Carbon Observation System</a>",
          "Energy Systems/Energy Modeling and Optimization/<a href=\"https://github.com/IDAES/idaes-pse.git\">The IDAES Toolkit</a>",
          "Renewable Energy/Wind Energy/<a href=\"https://github.com/IEA-Task-43/digital_wra_data_standard.git\">digital_wra_data_standard</a>",
          "Renewable Energy/Wind Energy/<a href=\"https://github.com/IEAWindTask37/IEA-15-240-RWT.git\">IEA-15-240-RWT</a>",
          "Energy Systems/Energy Modeling and Optimization/<a href=\"https://github.com/IIT-EnergySystemModels/openTEPES.git\">openTEPES</a>",
          "Climate and Earth Science/Climate Data Processing and Access/<a href=\"https://github.com/IPCC-WG1/Chapter-9.git\">IPCC AR6 Chapter 9 Figures</a>",
          "Natural Resources/Soil and Land/<a href=\"https://github.com/ISRICWorldSoil/SoilGrids250m.git\">SoilGrids250m</a>",
          "Consumption of Energy and Resources/Mobility and Transportation/<a href=\"https://github.com/ITSLeeds/pct.git\">PCT</a>",
          "Renewable Energy/Wind Energy/<a href=\"https://github.com/ImperialCollegeLondon/sharpy.git\">SHARPy</a>",
          "Natural Resources/Soil and Land/<a href=\"https://github.com/International-Soil-Radiocarbon-Database/ISRaD.git\">ISRaD</a>",
          "Earth Systems/Biosphere/<a href=\"https://github.com/InverseTampere/TreeQSM.git\">TreeQSM</a>",
          "Emissions/Emission Observation and Modeling/<a href=\"https://github.com/JGCRI/CEDS.git\">The Community Emissions Data System</a>",
          "Climate and Earth Science/Integrated Assessment/<a href=\"https://github.com/JGCRI/gcam-core.git\">GCAM</a>",
          "Climate and Earth Science/Earth and Climate Modeling/<a href=\"https://github.com/JGCRI/hector.git\">hector</a>",
          "Natural Resources/Air Quality/<a href=\"https://github.com/JGCRI/rfasst.git\">rfasst</a>",
          "Consumption of Energy and Resources/Mobility and Transportation/<a href=\"https://github.com/JRCSTU/CO2MPAS-TA.git\">CO2MPAS-TA</a>",
          "Earth Systems/Cryosphere/<a href=\"https://github.com/Joel-hanson/Iceberg-locations.git\">Iceberg Locations</a>",
          "Natural Resources/Agriculture and Nutrition/<a href=\"https://github.com/JokeNetwork/vegancheck.me.git\">VeganCheck.me</a>",
          "Climate and Earth Science/Earth and Climate Modeling/<a href=\"https://github.com/JuliaClimate/ClimateBase.jl.git\">ClimateBase.jl</a>",
          "Climate and Earth Science/Earth and Climate Modeling/<a href=\"https://github.com/JuliaClimate/ClimateTools.jl.git\">ClimateTools.jl</a>",
          "Sustainable Development/Data Catalogs and Interfaces/<a href=\"https://github.com/JuliaDataCubes/EarthDataLab.jl.git\">EarthDataLab.jl</a>",
          "Energy Systems/Energy Distribution and Grids/<a href=\"https://github.com/JuliaEnergy/PowerDynamics.jl.git\">PowerDynamics.jl</a>",
          "Earth Systems/Hydrosphere/<a href=\"https://github.com/JuliaOcean/AIBECS.jl.git\">AIBECS.jl</a>",
          "Earth Systems/Biosphere/<a href=\"https://github.com/JuliaOcean/PlanktonIndividuals.jl.git\">PlanktonIndividuals.jl</a>",
          "Emissions/Carbon Intensity and Accounting/<a href=\"https://github.com/KKulma/intensegRid.git\">intensegRid</a>",
          "Climate and Earth Science/Earth and Climate Modeling/<a href=\"https://github.com/LBL-EESA/TECA.git\">TECA</a>",
          "Consumption of Energy and Resources/Buildings and Heating/<a href=\"https://github.com/LBNL-ETA/MSWH.git\">Multiscale Solar Water Heating</a>",
          "Consumption of Energy and Resources/Mobility and Transportation/<a href=\"https://github.com/LBNL-UCB-STI/beam.git\">BEAM</a>",
          "Climate and Earth Science/Integrated Assessment/<a href=\"https://github.com/Libbum/DICE.jl.git\">DICE.jl</a>",
          "Renewable Energy/Photovoltaics and Solar Energy/<a href=\"https://github.com/LibreSolar/bms-firmware.git\">LibreSolar</a>",
          "Renewable Energy/Photovoltaics and Solar Energy/<a href=\"https://github.com/LibreSolar/charge-controller-firmware.git\">Charge Controller Firmware</a>",
          "Energy Systems/Energy Modeling and Optimization/<a href=\"https://github.com/Lkruitwagen/global-fossil-fuel-supply-chain.git\">Global Coal, Oil, and Gas Supply Chains</a>",
          "Renewable Energy/Photovoltaics and Solar Energy/<a href=\"https://github.com/Lkruitwagen/solar-pv-global-inventory.git\">A Global Inventory of Photovoltaic</a>",
          "Earth Systems/Biosphere/<a href=\"https://github.com/MAAP-Project/maap-documentation.git\">MAAP</a>",
          "Energy Systems/Energy Modeling and Optimization/<a href=\"https://github.com/MATPOWER/matpower.git\">matpower</a>",
          "Renewable Energy/Hydro Energy/<a href=\"https://github.com/MHKiT-Software/MHKiT-Python.git\">MHKiT-Python</a>",
          "Earth Systems/Hydrosphere/<a href=\"https://github.com/MITgcm/MITgcm.git\">MITgcm</a>",
          "Natural Resources/Water Supply and Quality/<a href=\"https://github.com/MODFLOW-USGS/modflow6.git\">modflow6</a>",
          "Climate and Earth Science/Earth and Climate Modeling/<a href=\"https://github.com/MPAS-Dev/MPAS-Analysis.git\">MPAS-Analysis</a>",
          "Climate and Earth Science/Earth and Climate Modeling/<a href=\"https://github.com/MPAS-Dev/MPAS-Model.git\">MPAS</a>",
          "Energy Systems/Energy Modeling and Optimization/<a href=\"https://github.com/MaREI-EPMG/times-ireland-model.git\">TIMES-Ireland Model</a>",
          "Renewable Energy/Geothermal Energy/<a href=\"https://github.com/MassimoCimmino/pygfunction.git\">pygfunction</a>",
          "Energy Systems/Energy Modeling and Optimization/<a href=\"https://github.com/Matt-Brigida/EIAdata.git\">EIAdata</a>",
          "Earth Systems/Biosphere/<a href=\"https://github.com/MetOffice/forest.git\">forest</a>",
          "Earth Systems/Biosphere/<a href=\"https://github.com/MoBiodiv/mobr.git\">mobr</a>",
          "Consumption of Energy and Resources/Mobility and Transportation/<a href=\"https://github.com/MobilityData/gbfs.git\">gbfs</a>",
          "Earth Systems/Hydrosphere/<a href=\"https://github.com/Mohid-Water-Modelling-System/MOHID-Lagrangian.git\">MOHID-Lagrangian</a>",
          "Earth Systems/Hydrosphere/<a href=\"https://github.com/Mohid-Water-Modelling-System/Mohid.git\">Mohid</a>",
          "Earth Systems/Hydrosphere/<a href=\"https://github.com/NCAR/VAPOR.git\">VAPOR</a>",
          "Earth Systems/Hydrosphere/<a href=\"https://github.com/NCAR/ccpp-physics.git\">ccpp-physics</a>",
          "Earth Systems/Atmosphere/<a href=\"https://github.com/NCAR/icar.git\">ICAR</a>",
          "Climate and Earth Science/Climate Data Processing and Access/<a href=\"https://github.com/NCAR/ncl.git\">NCL</a>",
          "Climate and Earth Science/Earth and Climate Modeling/<a href=\"https://github.com/NCAR/wrf-python.git\">wrf-python</a>",
          "Earth Systems/Hydrosphere/<a href=\"https://github.com/NCAR/wrf_hydro_nwm_public.git\">WRF-Hydro</a>",
          "Climate and Earth Science/Climate Data Processing and Access/<a href=\"https://github.com/NCAS-CMS/cf-python.git\">cf-python</a>",
          "Earth Systems/Biosphere/<a href=\"https://github.com/NGEET/fates.git\">FATES</a>",
          "Emissions/Carbon Intensity and Accounting/<a href=\"https://github.com/NMF-earth/nmf-app.git\">NMF.earth app</a>",
          "Earth Systems/Biosphere/<a href=\"https://github.com/NOAA-EDAB/ecodata.git\">ecodata</a>",
          "Climate and Earth Science/Earth and Climate Modeling/<a href=\"https://github.com/NOAA-EMC/global-workflow.git\">global-workflow</a>",
          "Climate and Earth Science/Earth and Climate Modeling/<a href=\"https://github.com/NOAA-GFDL/FMS.git\">The Flexible Modeling System</a>",
          "Climate and Earth Science/Earth and Climate Modeling/<a href=\"https://github.com/NOAA-GFDL/MDTF-diagnostics.git\">MDTF-diagnostics</a>",
          "Climate and Earth Science/Earth and Climate Modeling/<a href=\"https://github.com/NOAA-GFDL/MOM6.git\">MOM6</a>",
          "Earth Systems/Cryosphere/<a href=\"https://github.com/NOAA-GFDL/SIS2.git\">SIS2</a>",
          "Natural Resources/Water Supply and Quality/<a href=\"https://github.com/NOAA-ORR-ERD/PyGnome.git\">PyGnome</a>",
          "Natural Resources/Natural Hazard and Poverty/<a href=\"https://github.com/NOAA-OWP/inundation-mapping.git\">Cahaba</a>",
          "Natural Resources/Water Supply and Quality/<a href=\"https://github.com/NOAA-OWP/ngen.git\">Next Gen Water Modeling Framework</a>",
          "Natural Resources/Water Supply and Quality/<a href=\"https://github.com/NOAA-OWP/t-route.git\">Tree-based Inland Hydraulic Routing Project</a>",
          "Earth Systems/Hydrosphere/<a href=\"https://github.com/NOAA-PMEL/Ferret.git\">Ferret</a>",
          "Sustainable Development/Knowledge Platforms/<a href=\"https://github.com/NOAAGov/NOAA-Affiliated-Projects.git\">NOAA-Affiliated-Projects</a>",
          "Natural Resources/Natural Hazard and Poverty/<a href=\"https://github.com/NRCan/CanFlood.git\">CanFlood</a>",
          "Renewable Energy/Hydro Energy/<a href=\"https://github.com/NREL-SIIP/HydroPowerSimulations.jl.git\">HydroPowerSimulations.jl</a>",
          "Energy Systems/Energy Distribution and Grids/<a href=\"https://github.com/NREL-SIIP/InfrastructureSystems.jl.git\">InfrastructureSystems.jl</a>",
          "Energy Systems/Energy Modeling and Optimization/<a href=\"https://github.com/NREL-SIIP/PowerSimulations.jl.git\">PowerSimulations.jl</a>",
          "Energy Systems/Energy Modeling and Optimization/<a href=\"https://github.com/NREL-SIIP/PowerSystems.jl.git\">PowerSystems.jl</a>",
          "Consumption of Energy and Resources/Buildings and Heating/<a href=\"https://github.com/NREL/EnergyPlus.git\">EnergyPlus</a>",
          "Renewable Energy/Wind Energy/<a href=\"https://github.com/NREL/NRWAL.git\">NRWAL</a>",
          "Renewable Energy/Wind Energy/<a href=\"https://github.com/NREL/OpenOA.git\">OpenOA</a>",
          "Consumption of Energy and Resources/Buildings and Heating/<a href=\"https://github.com/NREL/OpenStudio-ERI.git\">OpenStudio-ERI</a>",
          "Consumption of Energy and Resources/Buildings and Heating/<a href=\"https://github.com/NREL/OpenStudio-HPXML.git\">OpenStudio-HPXML</a>",
          "Consumption of Energy and Resources/Buildings and Heating/<a href=\"https://github.com/NREL/OpenStudio.git\">OpenStudio</a>",
          "Renewable Energy/Photovoltaics and Solar Energy/<a href=\"https://github.com/NREL/PV_ICE.git\">PV_ICE</a>",
          "Energy Systems/Energy Modeling and Optimization/<a href=\"https://github.com/NREL/REopt_API.git\">REopt_Lite_API</a>",
          "Renewable Energy/Wind Energy/<a href=\"https://github.com/NREL/ROSCO.git\">ROSCO</a>",
          "Energy Systems/Energy Modeling and Optimization/<a href=\"https://github.com/NREL/SAM.git\">System Advisor Model</a>",
          "Renewable Energy/Photovoltaics and Solar Energy/<a href=\"https://github.com/NREL/SolTrace.git\">SolTrace</a>",
          "Renewable Energy/Photovoltaics and Solar Energy/<a href=\"https://github.com/NREL/SolarPILOT.git\">SolarPILOT</a>",
          "Renewable Energy/Wind Energy/<a href=\"https://github.com/NREL/WindSE.git\">WindSE</a>",
          "Renewable Energy/Photovoltaics and Solar Energy/<a href=\"https://github.com/NREL/bifacial_radiance.git\">bifacial_radiance</a>",
          "Renewable Energy/Photovoltaics and Solar Energy/<a href=\"https://github.com/NREL/bifacialvf.git\">bifacialvf</a>",
          "Renewable Energy/Photovoltaics and Solar Energy/<a href=\"https://github.com/NREL/dgen.git\">dGen</a>",
          "Renewable Energy/Wind Energy/<a href=\"https://github.com/NREL/floris.git\">floris</a>",
          "Consumption of Energy and Resources/Buildings and Heating/<a href=\"https://github.com/NREL/hescore-hpxml.git\">HPXML to Home Energy Score Translator</a>",
          "Renewable Energy/Photovoltaics and Solar Energy/<a href=\"https://github.com/NREL/rdtools.git\">rdtools</a>",
          "Energy Systems/Energy Modeling and Optimization/<a href=\"https://github.com/NREL/reV.git\">reV</a>",
          "Energy Systems/Energy Modeling and Optimization/<a href=\"https://github.com/NREL/reVX.git\">reVX</a>",
          "Consumption of Energy and Resources/Buildings and Heating/<a href=\"https://github.com/NREL/resstock.git\">resstock</a>",
          "Sustainable Development/Sustainable Investment/<a href=\"https://github.com/NREL/ssc.git\">SSC</a>",
          "Energy Systems/Datasets on Energy Systems/<a href=\"https://github.com/NREL/sup3r.git\">sup3r</a>",
          "Earth Systems/Hydrosphere/<a href=\"https://github.com/NorESMhub/BLOM.git\">Bergen Layered Ocean Model</a>",
          "Climate and Earth Science/Earth and Climate Modeling/<a href=\"https://github.com/NorESMhub/NorESM.git\">NorESM</a>",
          "Emissions/Emission Observation and Modeling/<a href=\"https://github.com/Novarizark/easy-era5-trck.git\">Easy-ERA5-Trck</a>",
          "Earth Systems/Cryosphere/<a href=\"https://github.com/OGGM/oggm.git\">OGGM</a>",
          "Industrial Ecology/Circular Economy and Waste/<a href=\"https://github.com/ONEARMY/precious-plastic.git\">ONEARMY</a>",
          "Energy Systems/Energy Distribution and Grids/<a href=\"https://github.com/OSGP/open-smart-grid-platform.git\">Open Smart Grid Platform</a>",
          "Natural Resources/Water Supply and Quality/<a href=\"https://github.com/OSOceanAcoustics/echopype.git\">Echopype</a>",
          "Emissions/Emission Observation and Modeling/<a href=\"https://github.com/OSUKED/ETS-Watch.git\">ETS-Watch</a>",
          "Energy Systems/Datasets on Energy Systems/<a href=\"https://github.com/OSUKED/ElexonDataPortal.git\">ElexonDataPortal</a>",
          "Energy Systems/Datasets on Energy Systems/<a href=\"https://github.com/OSUKED/Power-Station-Dictionary.git\">Power Station Dictionary</a>",
          "Natural Resources/Natural Hazard and Poverty/<a href=\"https://github.com/OasisLMF/OasisLMF.git\">OasisLMF</a>",
          "Earth Systems/Atmosphere/<a href=\"https://github.com/OasisLMF/OasisPiWind.git\">OasisPiWind</a>",
          "Earth Systems/Hydrosphere/<a href=\"https://github.com/OceanParcels/parcels.git\">parcels</a>",
          "Energy Systems/Energy Modeling and Optimization/<a href=\"https://github.com/OnSSET/onsset.git\">onsset</a>",
          "Consumption of Energy and Resources/Mobility and Transportation/<a href=\"https://github.com/OneBusAway/onebusaway-android.git\">OneBusAway</a>",
          "Sustainable Development/Data Catalogs and Interfaces/<a href=\"https://github.com/Open-EO/openeo-python-client.git\">openEO</a>",
          "Natural Resources/Water Supply and Quality/<a href=\"https://github.com/Open-ET/openet-ssebop.git\">OpenET</a>",
          "Earth Systems/Atmosphere/<a href=\"https://github.com/Open-MSS/MSS.git\">Mission Support System</a>",
          "Emissions/Emission Observation and Modeling/<a href=\"https://github.com/OpenCarbonWatch/Website.git\">Open Carbon Watch</a>",
          "Consumption of Energy and Resources/Mobility and Transportation/<a href=\"https://github.com/OpenChargingCloud/ChargyDesktopApp.git\">ChargyDesktopApp</a>",
          "Consumption of Energy and Resources/Mobility and Transportation/<a href=\"https://github.com/OpenChargingCloud/WWCP_Core.git\">WWCP_Core</a>",
          "Consumption of Energy and Resources/Mobility and Transportation/<a href=\"https://github.com/OpenChargingCloud/WWCP_OCPP.git\">WWCP_OCPP</a>",
          "Earth Systems/Hydrosphere/<a href=\"https://github.com/OpenDrift/opendrift.git\">OpenDrift</a>",
          "Energy Systems/Energy Monitoring and Control/<a href=\"https://github.com/OpenEMS/openems.git\">OpenEMS</a>",
          "Consumption of Energy and Resources/Mobility and Transportation/<a href=\"https://github.com/OpenEVSE/ESP8266_WiFi_v2.x.git\">OpenEVSE WiFi gateway</a>",
          "Consumption of Energy and Resources/Mobility and Transportation/<a href=\"https://github.com/OpenEVSE/open_evse.git\">OpenEVSE</a>",
          "Energy Systems/Energy Modeling and Optimization/<a href=\"https://github.com/OpenEnergyPlatform/oeplatform.git\">Open Energy Platform</a>",
          "Energy Systems/Energy Modeling and Optimization/<a href=\"https://github.com/OpenEnergyPlatform/ontology.git\">The Open Energy Ontology</a>",
          "Energy Systems/Datasets on Energy Systems/<a href=\"https://github.com/OpenEnergyPlatform/open-MaStR.git\">open-MaStR</a>",
          "Renewable Energy/Wind Energy/<a href=\"https://github.com/OpenFAST/openfast.git\">openfast</a>",
          "Natural Resources/Soil and Land/<a href=\"https://github.com/OpenFLUID/openfluid.git\">OpenFLUID</a>",
          "Energy Systems/Energy Modeling and Optimization/<a href=\"https://github.com/OpenIPSL/OpenIPSL.git\">OpenIPSL</a>",
          "Industrial Ecology/Circular Economy and Waste/<a href=\"https://github.com/OpenLitterMap/openlittermap-web.git\">OpenLitterMap</a>",
          "Renewable Energy/Wind Energy/<a href=\"https://github.com/OpenMDAO/OpenMDAO.git\">OpenMDAO</a>",
          "Consumption of Energy and Resources/Production and Industry/<a href=\"https://github.com/OpenModelica/OpenModelica.git\">OpenModelica</a>",
          "Energy Systems/Energy Modeling and Optimization/<a href=\"https://github.com/OpenSTEF/openstef.git\">OpenSTEF</a>",
          "Renewable Energy/Hydro Energy/<a href=\"https://github.com/OpenSimHub/OpenHPL.git\">OpenHPL</a>",
          "Earth Systems/Biosphere/<a href=\"https://github.com/OpenTreeMap/otm-core.git\">OpenTreeMap</a>",
          "Natural Resources/Water Supply and Quality/<a href=\"https://github.com/OpenWaterAnalytics/EPANET.git\">EPANET</a>",
          "Natural Resources/Water Supply and Quality/<a href=\"https://github.com/OpenWaterAnalytics/pyswmm.git\">pyswmm</a>",
          "Consumption of Energy and Resources/Computation and Communication/<a href=\"https://github.com/Organic-Basics/ob-low-impact-website.git\">The Low Impact Website</a>",
          "Climate and Earth Science/Climate Data Processing and Access/<a href=\"https://github.com/Ouranosinc/miranda.git\">Miranda</a>",
          "Earth Systems/Hydrosphere/<a href=\"https://github.com/Ouranosinc/raven.git\">Raven</a>",
          "Climate and Earth Science/Climate Data Processing and Access/<a href=\"https://github.com/Ouranosinc/xclim.git\">xclim</a>",
          "Natural Resources/Air Quality/<a href=\"https://github.com/Ozon3Org/Ozon3.git\">Ozone</a>",
          "Climate and Earth Science/Climate Data Processing and Access/<a href=\"https://github.com/PCMDI/cmor.git\">Climate Model Output Rewriter</a>",
          "Natural Resources/Agriculture and Nutrition/<a href=\"https://github.com/PSUmodeling/Cycles.git\">Cycles</a>",
          "Renewable Energy/Bioenergy/<a href=\"https://github.com/PecanProject/bety.git\">BETYdb</a>",
          "Earth Systems/Biosphere/<a href=\"https://github.com/PecanProject/pecan.git\">PEcAn</a>",
          "Earth Systems/Cryosphere/<a href=\"https://github.com/PennyHow/PyTrx.git\">PyTrx</a>",
          "Renewable Energy/Photovoltaics and Solar Energy/<a href=\"https://github.com/PerovskiteSCModelling/IonMonger.git\">IonMonger</a>",
          "Consumption of Energy and Resources/Mobility and Transportation/<a href=\"https://github.com/PierrickP/multicycles.git\">multicycles</a>",
          "Earth Systems/Biosphere/<a href=\"https://github.com/Plant-for-the-Planet-org/treecounter-app.git\">Plant-for-the-Planet</a>",
          "Earth Systems/Biosphere/<a href=\"https://github.com/Plant-for-the-Planet-org/treemapper.git\">Tree Mapper App</a>",
          "Energy Systems/Energy Modeling and Optimization/<a href=\"https://github.com/PowerGenome/PowerGenome.git\">PowerGenome</a>",
          "Sustainable Development/Knowledge Platforms/<a href=\"https://github.com/ProjectDrawdown/solutions.git\">ProjectDrawdown</a>",
          "Energy Systems/Energy Modeling and Optimization/<a href=\"https://github.com/PyPSA/PyPSA.git\">PyPSA</a>",
          "Energy Systems/Datasets on Energy Systems/<a href=\"https://github.com/PyPSA/atlite.git\">atlite</a>",
          "Energy Systems/Datasets on Energy Systems/<a href=\"https://github.com/PyPSA/powerplantmatching.git\">powerplantmatching</a>",
          "Energy Systems/Energy Modeling and Optimization/<a href=\"https://github.com/PyPSA/pypsa-eur-sec.git\">PyPSA-Eur-Sec</a>",
          "Energy Systems/Energy Distribution and Grids/<a href=\"https://github.com/PyPSA/pypsa-eur.git\">PyPSA-Eur</a>",
          "Energy Systems/Energy Modeling and Optimization/<a href=\"https://github.com/PyPSA/technology-data.git\">Energy System Technology Data</a>",
          "Energy Systems/Energy Modeling and Optimization/<a href=\"https://github.com/PyPSA/whobs-server.git\">whobs-server</a>",
          "Natural Resources/Water Supply and Quality/<a href=\"https://github.com/QGEP/QGEP.git\">QGEP</a>",
          "Industrial Ecology/Life Cycle Assessment/<a href=\"https://github.com/QSD-Group/QSDsan.git\">QSDsan</a>",
          "Natural Resources/Water Supply and Quality/<a href=\"https://github.com/RAJohansen/waterquality.git\">waterquality</a>",
          "Consumption of Energy and Resources/Mobility and Transportation/<a href=\"https://github.com/RAMP-project/RAMP-mobility.git\">RAMP-mobility</a>",
          "Energy Systems/Energy Modeling and Optimization/<a href=\"https://github.com/RAMP-project/RAMP.git\">RAMP</a>",
          "Consumption of Energy and Resources/Buildings and Heating/<a href=\"https://github.com/RE-Lab-Projects/hplib.git\">hplib</a>",
          "Earth Systems/Hydrosphere/<a href=\"https://github.com/RHESSys/RHESSys.git\">RHESSys</a>",
          "Consumption of Energy and Resources/Buildings and Heating/<a href=\"https://github.com/RWTH-EBC/AixLib.git\">AixLib</a>",
          "Consumption of Energy and Resources/Buildings and Heating/<a href=\"https://github.com/RWTH-EBC/TEASER.git\">TEASER</a>",
          "Energy Systems/Energy Modeling and Optimization/<a href=\"https://github.com/RamiKrispin/USelectricity.git\">USelectricity</a>",
          "Sustainable Development/Sustainable Investment/<a href=\"https://github.com/RaphaelPB/WHAT-IF.git\">WHAT-IF</a>",
          "Climate and Earth Science/Radiative Transfer/<a href=\"https://github.com/RemoteSensingTools/vSmartMOM.jl.git\">RadiativeTransfer.jl</a>",
          "Renewable Energy/Photovoltaics and Solar Energy/<a href=\"https://github.com/RentadroneCL/Photovoltaic_Fault_Detector.git\">Photovoltaic_Fault_Detector</a>",
          "Emissions/Emission Observation and Modeling/<a href=\"https://github.com/Ribbit-Network/ribbit-network-frog-sensor.git\">Ribbit Network Frog Sensor</a>",
          "Consumption of Energy and Resources/Mobility and Transportation/<a href=\"https://github.com/SAP/emobility-smart-charging.git\">emobility-smart-charging</a>",
          "Consumption of Energy and Resources/Buildings and Heating/<a href=\"https://github.com/SEED-platform/seed.git\">SEED</a>",
          "Climate and Earth Science/Earth and Climate Modeling/<a href=\"https://github.com/SERVIR/ClimateSERV2.git\">ClimateSERV</a>",
          "Climate and Earth Science/Earth and Climate Modeling/<a href=\"https://github.com/SERVIR/ClimateSERVpy.git\">ClimateSERVpy</a>",
          "Earth Systems/Biosphere/<a href=\"https://github.com/SKrisanski/FSCT.git\">Forest Structural Complexity Tool</a>",
          "Renewable Energy/Hydro Energy/<a href=\"https://github.com/SNL-WaterPower/CACTUS.git\">CACTUS</a>",
          "Renewable Energy/Hydro Energy/<a href=\"https://github.com/SNL-WaterPower/WecOptTool.git\">WecOptTool</a>",
          "Consumption of Energy and Resources/Mobility and Transportation/<a href=\"https://github.com/STS-Rosario/carpoolear.git\">Carpoolear</a>",
          "Natural Resources/Air Quality/<a href=\"https://github.com/Safecast/safecastapi.git\">Safecast</a>",
          "Energy Storage/Battery/<a href=\"https://github.com/Samuel-Buteau/universal-battery-database.git\">universal-battery-database</a>",
          "Energy Systems/Energy Distribution and Grids/<a href=\"https://github.com/SanPen/GridCal.git\">GridCal</a>",
          "Climate and Earth Science/Climate Data Processing and Access/<a href=\"https://github.com/SantanderMetGroup/ATLAS.git\">ATLAS</a>",
          "Climate and Earth Science/Earth and Climate Modeling/<a href=\"https://github.com/SantanderMetGroup/DeepDownscaling.git\">DeepDownscaling</a>",
          "Climate and Earth Science/Climate Data Processing and Access/<a href=\"https://github.com/SantanderMetGroup/climate4R.git\">climate4R</a>",
          "Climate and Earth Science/Earth and Climate Modeling/<a href=\"https://github.com/SantanderMetGroup/downscaleR.git\">downscaleR</a>",
          "Climate and Earth Science/Climate Data Processing and Access/<a href=\"https://github.com/SantanderMetGroup/loadeR.git\">loadeR</a>",
          "Earth Systems/Hydrosphere/<a href=\"https://github.com/SciTools/iris.git\">Iris</a>",
          "Sustainable Development/Sustainable Investment/<a href=\"https://github.com/ScienceBasedTargets/SBTi-finance-tool.git\">SBTi Temperature Alignment tool</a>",
          "Natural Resources/Natural Hazard and Poverty/<a href=\"https://github.com/Servir-Mekong/hydra-floods.git\">HYDRAFloods</a>",
          "Consumption of Energy and Resources/Mobility and Transportation/<a href=\"https://github.com/ShellRechargeSolutionsEU/docile-charge-point.git\">docile-charge-point</a>",
          "Natural Resources/Agriculture and Nutrition/<a href=\"https://github.com/Shyentist/fish-r-man.git\">fishRman</a>",
          "Consumption of Energy and Resources/Mobility and Transportation/<a href=\"https://github.com/SmartEVSE/smartevse.git\">SmartEVSE</a>",
          "Renewable Energy/Geothermal Energy/<a href=\"https://github.com/SmartTensors/GeoThermalCloud.jl.git\">GeoThermalCloud.jl</a>",
          "Natural Resources/Soil and Land/<a href=\"https://github.com/SoilWatch/soil-erosion-watch.git\">Soil Erosion Watch</a>",
          "Renewable Energy/Photovoltaics and Solar Energy/<a href=\"https://github.com/SolarArbiter/solarforecastarbiter-core.git\">Solar Forecast Arbiter</a>",
          "Renewable Energy/Photovoltaics and Solar Energy/<a href=\"https://github.com/SolarTherm/SolarTherm.git\">SolarTherm</a>",
          "Earth Systems/Biosphere/<a href=\"https://github.com/SpeciesFileGroup/taxonworks.git\">TaxonWorks</a>",
          "Energy Systems/Energy Modeling and Optimization/<a href=\"https://github.com/Spine-project/Spine-Toolbox.git\">Spine-Toolbox</a>",
          "Renewable Energy/Photovoltaics and Solar Energy/<a href=\"https://github.com/SunPower/PVMismatch.git\">PVMismatch</a>",
          "Renewable Energy/Photovoltaics and Solar Energy/<a href=\"https://github.com/SunPower/pvfactors.git\">pvfactors</a>",
          "Consumption of Energy and Resources/Mobility and Transportation/<a href=\"https://github.com/SwitchEV/RISE-V2G.git\">RISE-V2G</a>",
          "Consumption of Energy and Resources/Buildings and Heating/<a href=\"https://github.com/TEB-model/teb.git\">teb</a>",
          "Energy Storage/Battery/<a href=\"https://github.com/TRI-AMDD/beep.git\">beep</a>",
          "Natural Resources/Soil and Land/<a href=\"https://github.com/TUW-GEO/esa_cci_sm.git\">esa_cci_sm</a>",
          "Natural Resources/Soil and Land/<a href=\"https://github.com/TUW-GEO/ismn.git\">ismn</a>",
          "Natural Resources/Soil and Land/<a href=\"https://github.com/TUW-GEO/pytesmo.git\">pytesmo</a>",
          "Energy Systems/Energy Modeling and Optimization/<a href=\"https://github.com/TemoaProject/oeo.git\">Open Energy Outlook</a>",
          "Energy Systems/Energy Modeling and Optimization/<a href=\"https://github.com/TemoaProject/temoa.git\">Temoa</a>",
          "Energy Systems/Energy Modeling and Optimization/<a href=\"https://github.com/Thales1330/PSP.git\">PSP-UFU</a>",
          "Industrial Ecology/Circular Economy and Waste/<a href=\"https://github.com/TheOceanCleanupAlgorithms/ADVECT.git\">ADVECTOR</a>",
          "Energy Systems/Energy Distribution and Grids/<a href=\"https://github.com/Total-RD/pymgrid.git\">pymgrid</a>",
          "Natural Resources/Water Supply and Quality/<a href=\"https://github.com/UMN-Hydro/GSFLOW-GRASS.git\">GSFLOW-GRASS</a>",
          "Energy Systems/Energy Modeling and Optimization/<a href=\"https://github.com/UNSW-CEEM/nempy.git\">nempy</a>",
          "Natural Resources/Air Quality/<a href=\"https://github.com/USEPA/AMET.git\">AMET</a>",
          "Natural Resources/Air Quality/<a href=\"https://github.com/USEPA/Air-Trends-Report.git\">Air-Trends-Report</a>",
          "Natural Resources/Air Quality/<a href=\"https://github.com/USEPA/CMAQ.git\">CMAQ</a>",
          "Industrial Ecology/Life Cycle Assessment/<a href=\"https://github.com/USEPA/ElectricityLCI.git\">Electricity Life Cycle Inventory</a>",
          "Industrial Ecology/Life Cycle Assessment/<a href=\"https://github.com/USEPA/Federal-LCA-Commons-Elementary-Flow-List.git\">fedelemflowlist</a>",
          "Natural Resources/Air Quality/<a href=\"https://github.com/USEPA/RAQSAPI.git\">RAQSAPI</a>",
          "Natural Resources/Water Supply and Quality/<a href=\"https://github.com/USEPA/Stormwater-Management-Model.git\">Stormwater-Management-Model</a>",
          "Natural Resources/Water Supply and Quality/<a href=\"https://github.com/USEPA/TADA.git\">TADA</a>",
          "Natural Resources/Water Supply and Quality/<a href=\"https://github.com/USEPA/WNTR.git\">Water Network Tool for Resilience</a>",
          "Industrial Ecology/Life Cycle Assessment/<a href=\"https://github.com/USEPA/useeior.git\">useeior</a>",
          "Natural Resources/Water Supply and Quality/<a href=\"https://github.com/USGS-R/EGRET.git\">EGRET</a>",
          "Natural Resources/Water Supply and Quality/<a href=\"https://github.com/USGS-R/HASP.git\">HASP</a>",
          "Natural Resources/Water Supply and Quality/<a href=\"https://github.com/USGS-R/dataRetrieval.git\">dataRetrieval</a>",
          "Natural Resources/Water Supply and Quality/<a href=\"https://github.com/USGS-R/nhdplusTools.git\">nhdplusTools</a>",
          "Earth Systems/Hydrosphere/<a href=\"https://github.com/USGS-R/river-dl.git\">river-dl</a>",
          "Natural Resources/Water Supply and Quality/<a href=\"https://github.com/USGS-python/dataretrieval.git\">dataretrieval</a>",
          "Earth Systems/Hydrosphere/<a href=\"https://github.com/UU-Hydro/PCR-GLOBWB_model.git\">PCR-GLOBWB_model</a>",
          "Climate and Earth Science/Earth and Climate Modeling/<a href=\"https://github.com/UW-Hydro/MetSim.git\">MetSim</a>",
          "Earth Systems/Hydrosphere/<a href=\"https://github.com/UW-Hydro/VIC.git\">VIC</a>",
          "Consumption of Energy and Resources/Buildings and Heating/<a href=\"https://github.com/UdK-VPT/BuildingSystems.git\">BuildingSystems</a>",
          "Climate and Earth Science/Meteorological Observation and Forecast/<a href=\"https://github.com/Unidata/MetPy.git\">MetPy</a>",
          "Climate and Earth Science/Meteorological Observation and Forecast/<a href=\"https://github.com/Unidata/awips2.git\">AWIPS</a>",
          "Climate and Earth Science/Climate Data Processing and Access/<a href=\"https://github.com/Unidata/netcdf-c.git\">netcdf-c</a>",
          "Climate and Earth Science/Climate Data Processing and Access/<a href=\"https://github.com/Unidata/netcdf-fortran.git\">netcdf-fortran</a>",
          "Climate and Earth Science/Climate Data Processing and Access/<a href=\"https://github.com/Unidata/netcdf4-python.git\">netcdf-python</a>",
          "Sustainable Development/Data Catalogs and Interfaces/<a href=\"https://github.com/Unidata/siphon.git\">Siphon</a>",
          "Consumption of Energy and Resources/Mobility and Transportation/<a href=\"https://github.com/Universite-Gustave-Eiffel/NoiseCapture.git\">NoiseCapture</a>",
          "Consumption of Energy and Resources/Mobility and Transportation/<a href=\"https://github.com/Universite-Gustave-Eiffel/NoiseModelling.git\">NoiseModelling</a>",
          "Earth Systems/Biosphere/<a href=\"https://github.com/VIAME/VIAME.git\">VIAME</a>",
          "Consumption of Energy and Resources/Buildings and Heating/<a href=\"https://github.com/VOLTTRON/volttron.git\">VOLTTRON</a>",
          "Earth Systems/Hydrosphere/<a href=\"https://github.com/VeinsOfTheEarth/RivGraph.git\">RivGraph</a>",
          "Climate and Earth Science/Climate Data Processing and Access/<a href=\"https://github.com/VeruGHub/easyclimate.git\">easyclimate</a>",
          "Energy Storage/Hydrogen/<a href=\"https://github.com/Virtual-FCS/VirtualFCS.git\">VirtualFCS</a>",
          "Earth Systems/Biosphere/<a href=\"https://github.com/Vizzuality/gfw.git\">Global Forest Watch</a>",
          "Natural Resources/Soil and Land/<a href=\"https://github.com/Vizzuality/soils-revealed.git\">soils-revealed</a>",
          "Industrial Ecology/Life Cycle Assessment/<a href=\"https://github.com/Vizzuality/trase.git\">Trase</a>",
          "Renewable Energy/Hydro Energy/<a href=\"https://github.com/WEC-Sim/WEC-Sim.git\">WEC-Sim</a>",
          "Natural Resources/Natural Hazard and Poverty/<a href=\"https://github.com/WFP-VAM/prism-app.git\">PRISM</a>",
          "Renewable Energy/Wind Energy/<a href=\"https://github.com/WISDEM/LandBOSSE.git\">LandBOSSE</a>",
          "Renewable Energy/Wind Energy/<a href=\"https://github.com/WISDEM/ORBIT.git\">ORBIT</a>",
          "Renewable Energy/Wind Energy/<a href=\"https://github.com/WISDEM/WEIS.git\">WEIS</a>",
          "Renewable Energy/Wind Energy/<a href=\"https://github.com/WISDEM/WISDEM.git\">WISDEM</a>",
          "Renewable Energy/Wind Energy/<a href=\"https://github.com/WISDEM/WOMBAT.git\">WOMBAT</a>",
          "Renewable Energy/Photovoltaics and Solar Energy/<a href=\"https://github.com/WMD-group/CarrierCapture.jl.git\">CarrierCapture.jl</a>",
          "Earth Systems/Biosphere/<a href=\"https://github.com/WSWUP/pymetric.git\">pyMETRIC</a>",
          "Industrial Ecology/Circular Economy and Waste/<a href=\"https://github.com/WWF-Deutschland/marine-plastic-explorer.git\">Global Plastic Navigator</a>",
          "Natural Resources/Water Supply and Quality/<a href=\"https://github.com/WikiWatershed/model-my-watershed.git\">Model My Watershed</a>",
          "Earth Systems/Biosphere/<a href=\"https://github.com/WildMeOrg/Wildbook.git\">Wildbook</a>",
          "Renewable Energy/Wind Energy/<a href=\"https://github.com/YingyiLiu/HAMS.git\">HAMS</a>",
          "Sustainable Development/Sustainable Investment/<a href=\"https://github.com/Yuanchao-Xu/gfer.git\">gfer</a>",
          "Climate and Earth Science/Climate Data Processing and Access/<a href=\"https://github.com/Yuanchao-Xu/hyfo.git\">hyfo</a>",
          "Consumption of Energy and Resources/Mobility and Transportation/<a href=\"https://github.com/a-b-street/abstreet.git\">A/B Street</a>",
          "Climate and Earth Science/Climate Data Processing and Access/<a href=\"https://github.com/aaronspring/remote_climate_data.git\">remote_climate_data</a>",
          "Emissions/Carbon Intensity and Accounting/<a href=\"https://github.com/acircleda/footprint.git\">footprint</a>",
          "Earth Systems/Biosphere/<a href=\"https://github.com/adokter/bioRad.git\">bioRad</a>",
          "Earth Systems/Biosphere/<a href=\"https://github.com/ajwdewit/pcse.git\">PCSE</a>",
          "Earth Systems/Biosphere/<a href=\"https://github.com/alan-turing-institute/monitoring-ecosystem-resilience.git\">monitoring-ecosystem-resilience</a>",
          "Earth Systems/Biosphere/<a href=\"https://github.com/allisonhorst/palmerpenguins.git\">palmerpenguins</a>",
          "Consumption of Energy and Resources/Mobility and Transportation/<a href=\"https://github.com/andmos/BikeshareClient.git\">BikeshareClient</a>",
          "Earth Systems/Biosphere/<a href=\"https://github.com/andrew-plowright/ForestTools.git\">ForestTools</a>",
          "Earth Systems/Biosphere/<a href=\"https://github.com/apburt/treeseg.git\">treeseg</a>",
          "Earth Systems/Hydrosphere/<a href=\"https://github.com/aqualinkorg/aqualink-app.git\">Aqualink</a>",
          "Emissions/Emission Observation and Modeling/<a href=\"https://github.com/arbrandt/OPGEE.git\">OPGEE</a>",
          "Consumption of Energy and Resources/Buildings and Heating/<a href=\"https://github.com/architecture-building-systems/CityEnergyAnalyst.git\">City Energy Analyst</a>",
          "Emissions/Emission Observation and Modeling/<a href=\"https://github.com/atmoschem/EmissV.git\">EmissV</a>",
          "Emissions/Emission Observation and Modeling/<a href=\"https://github.com/atmoschem/eixport.git\">eixport</a>",
          "Climate and Earth Science/Radiative Transfer/<a href=\"https://github.com/atmtools/arts.git\">ARTS</a>",
          "Renewable Energy/Wind Energy/<a href=\"https://github.com/audunarn/ANYstructure.git\">ANYstructure</a>",
          "Renewable Energy/Wind Energy/<a href=\"https://github.com/awebox/awebox.git\">awebox</a>",
          "Earth Systems/Hydrosphere/<a href=\"https://github.com/badlands-model/badlands.git\">Badlands</a>",
          "Energy Systems/Energy Modeling and Optimization/<a href=\"https://github.com/balmorelcommunity/Balmorel.git\">Balmorel</a>",
          "Energy Storage/Battery/<a href=\"https://github.com/battery-lcf/batteryarchive.git\">Battery Archive</a>",
          "Natural Resources/Water Supply and Quality/<a href=\"https://github.com/bcgov/bcgroundwater.git\">bcgroundwater</a>",
          "Natural Resources/Water Supply and Quality/<a href=\"https://github.com/bcgov/canwqdata.git\">canwqdata</a>",
          "Natural Resources/Water Supply and Quality/<a href=\"https://github.com/bcgov/fasstr.git\">fasstr</a>",
          "Emissions/Emission Observation and Modeling/<a href=\"https://github.com/bcgov/ghg-emissions-indicator.git\">ghg emissions indicator</a>",
          "Natural Resources/Water Supply and Quality/<a href=\"https://github.com/bcgov/groundwater-levels-indicator.git\">Long-term Trends in Groundwater Levels in B.C.</a>",
          "Natural Resources/Water Supply and Quality/<a href=\"https://github.com/bcgov/gwells.git\">gwells</a>",
          "Earth Systems/Biosphere/<a href=\"https://github.com/bcgov/wps.git\">Wildfire Predictive Services</a>",
          "Natural Resources/Water Supply and Quality/<a href=\"https://github.com/bcgov/wqbc.git\">wqbc</a>",
          "Climate and Earth Science/Meteorological Observation and Forecast/<a href=\"https://github.com/bczernecki/climate.git\">climate</a>",
          "Earth Systems/Hydrosphere/<a href=\"https://github.com/beijbom/coralnet.git\">CoralNet</a>",
          "Earth Systems/Biosphere/<a href=\"https://github.com/bi0m3trics/spanner.git\">spanner</a>",
          "Consumption of Energy and Resources/Buildings and Heating/<a href=\"https://github.com/bigladder/kiva.git\">Kiva</a>",
          "Consumption of Energy and Resources/Mobility and Transportation/<a href=\"https://github.com/bikeindex/bike_index.git\">Bike Index</a>",
          "Energy Systems/Energy Modeling and Optimization/<a href=\"https://github.com/bje-/NEMO.git\">NEMO</a>",
          "Energy Systems/Energy Modeling and Optimization/<a href=\"https://github.com/blue-marble/gridpath.git\">GridPath</a>",
          "Climate and Earth Science/Earth and Climate Modeling/<a href=\"https://github.com/bluegreen-labs/ecmwfr.git\">ecmwfr</a>",
          "Earth Systems/Biosphere/<a href=\"https://github.com/bluegreen-labs/phenocamr.git\">phenocamr</a>",
          "Climate and Earth Science/Climate Data Processing and Access/<a href=\"https://github.com/boshek/rsoi.git\">rsoi</a>",
          "Natural Resources/Soil and Land/<a href=\"https://github.com/bpbond/cosore.git\">cosore</a>",
          "Natural Resources/Soil and Land/<a href=\"https://github.com/bpbond/srdb.git\">srdb</a>",
          "Industrial Ecology/Life Cycle Assessment/<a href=\"https://github.com/brightway-lca/brightway2.git\">brightway2</a>",
          "Renewable Energy/Wind Energy/<a href=\"https://github.com/brightwind-dev/brightwind.git\">brightwind</a>",
          "Climate and Earth Science/Meteorological Observation and Forecast/<a href=\"https://github.com/brry/rdwd.git\">rdwd</a>",
          "Earth Systems/Biosphere/<a href=\"https://github.com/bullocke/coded.git\">CODED</a>",
          "Earth Systems/Atmosphere/<a href=\"https://github.com/byrd-polar/fluid-earth.git\">Fluid Earth</a>",
          "Energy Systems/Energy Modeling and Optimization/<a href=\"https://github.com/calliope-project/calliope.git\">Calliope</a>",
          "Energy Systems/Energy Modeling and Optimization/<a href=\"https://github.com/calliope-project/euro-calliope.git\">Euro-Calliope</a>",
          "Renewable Energy/Hydro Energy/<a href=\"https://github.com/capytaine/capytaine.git\">Capytaine</a>",
          "Consumption of Energy and Resources/Computation and Communication/<a href=\"https://github.com/carbonalyser/Carbonalyser.git\">Carbonalyser</a>",
          "Emissions/Carbon Capture and Removal/<a href=\"https://github.com/carbonplan/cdr-database.git\">Carbon Dioxide Removal Database</a>",
          "Climate and Earth Science/Climate Data Processing and Access/<a href=\"https://github.com/carbonplan/cmip6-downscaling.git\">cmip6-downscaling</a>",
          "Earth Systems/Biosphere/<a href=\"https://github.com/carbonplan/forest-risks.git\">forest-risks</a>",
          "Earth Systems/Biosphere/<a href=\"https://github.com/carlos-alberto-silva/rGEDI.git\">rGEDI</a>",
          "Energy Systems/Datasets on Energy Systems/<a href=\"https://github.com/catalyst-cooperative/pudl.git\">The Public Utility Data Liberation Project</a>",
          "Earth Systems/Biosphere/<a href=\"https://github.com/cdmuir/photosynthesis.git\">photosynthesis</a>",
          "Climate and Earth Science/Climate Data Processing and Access/<a href=\"https://github.com/cerfacs-globc/icclim.git\">icclim</a>",
          "Climate and Earth Science/Climate Data Processing and Access/<a href=\"https://github.com/cf-convention/cf-conventions.git\">cf-conventions</a>",
          "Earth Systems/Cryosphere/<a href=\"https://github.com/chadagreene/BedMachine.git\">BedMachine</a>",
          "Consumption of Energy and Resources/Mobility and Transportation/<a href=\"https://github.com/chargeprice/open-ev-data.git\">open-ev-data</a>",
          "Renewable Energy/Geothermal Energy/<a href=\"https://github.com/charxie/multiphysics.git\">multiphysics</a>",
          "Earth Systems/Hydrosphere/<a href=\"https://github.com/chrisleaman/py-wave-runup.git\">py-wave-runup</a>",
          "Climate and Earth Science/Earth and Climate Modeling/<a href=\"https://github.com/chrisroadmap/climateforcing.git\">climateforcing</a>",
          "Industrial Ecology/Circular Economy and Waste/<a href=\"https://github.com/circularfashion/cf-circularity-id-standard.git\">circularity.ID Open Data Standard</a>",
          "Consumption of Energy and Resources/Mobility and Transportation/<a href=\"https://github.com/cityflow-project/CityFlow.git\">CityFlow</a>",
          "Emissions/Carbon Intensity and Accounting/<a href=\"https://github.com/climatiq/Open-Emission-Factors-DB.git\">Open-Emission-Factors-DB</a>",
          "Climate and Earth Science/Earth and Climate Modeling/<a href=\"https://github.com/climlab/climlab.git\">climlab</a>",
          "Consumption of Energy and Resources/Computation and Communication/<a href=\"https://github.com/cloud-carbon-footprint/cloud-carbon-footprint.git\">Cloud Carbon Footprint</a>",
          "Natural Resources/Natural Hazard and Poverty/<a href=\"https://github.com/cloudtostreet/MODIS_GlobalFloodDatabase.git\">Global Flood Database Scripts & Data</a>",
          "Consumption of Energy and Resources/Computation and Communication/<a href=\"https://github.com/cnumr/ecoCode.git\">ecoCode</a>",
          "Natural Resources/Water Supply and Quality/<a href=\"https://github.com/codeforboston/safe-water.git\">The Safe Water Project</a>",
          "Energy Systems/Energy Modeling and Optimization/<a href=\"https://github.com/com-pas/compas-architecture.git\">CoMPAS</a>",
          "Consumption of Energy and Resources/Mobility and Transportation/<a href=\"https://github.com/coopcycle/coopcycle-web.git\">CoopCycle</a>",
          "Earth Systems/Hydrosphere/<a href=\"https://github.com/cordmaur/WaterDetect.git\">WaterDetect</a>",
          "Climate and Earth Science/Climate Data Processing and Access/<a href=\"https://github.com/cortinah/hockeystick.git\">hockeystick</a>",
          "Energy Systems/Datasets on Energy Systems/<a href=\"https://github.com/cristianst85/GeoNuclearData.git\">GeoNuclearData</a>",
          "Earth Systems/Cryosphere/<a href=\"https://github.com/cryotools/cosipy.git\">cosipy</a>",
          "Climate and Earth Science/Earth and Climate Modeling/<a href=\"https://github.com/csdms/pymt.git\">pymt</a>",
          "Climate and Earth Science/Earth and Climate Modeling/<a href=\"https://github.com/csyhuang/hn2016_falwa.git\">hn2016_falwa</a>",
          "Energy Systems/Energy Modeling and Optimization/<a href=\"https://github.com/cuihantao/andes.git\">ANDES</a>",
          "Consumption of Energy and Resources/Mobility and Transportation/<a href=\"https://github.com/cyclestreets/cyclestreets-r.git\">cyclestreets</a>",
          "Consumption of Energy and Resources/Mobility and Transportation/<a href=\"https://github.com/cyclosm/cyclosm-cartocss-style.git\">CyclOSM</a>",
          "Consumption of Energy and Resources/Mobility and Transportation/<a href=\"https://github.com/d-wasserman/Complete_Street_Rule.git\">Complete_Street_Rule</a>",
          "Climate and Earth Science/Earth and Climate Modeling/<a href=\"https://github.com/dalesteam/dales.git\">DALES</a>",
          "Earth Systems/Biosphere/<a href=\"https://github.com/danforthcenter/plantcv.git\">PlantCV</a>",
          "Renewable Energy/Photovoltaics and Solar Energy/<a href=\"https://github.com/danjulio/MPPT-Solar-Charger.git\">MPPT-Solar-Charger</a>",
          "Earth Systems/Hydrosphere/<a href=\"https://github.com/dankelley/oce.git\">oce</a>",
          "Emissions/Emission Observation and Modeling/<a href=\"https://github.com/dataforgoodfr/batch7_satellite_ges.git\">oco2peak</a>",
          "Natural Resources/Air Quality/<a href=\"https://github.com/davidcarslaw/openair.git\">openair</a>",
          "Energy Storage/Battery/<a href=\"https://github.com/davidhowey/SLIDE.git\">SLIDE</a>",
          "Climate and Earth Science/Climate Data Processing and Access/<a href=\"https://github.com/deepsphere/deepsphere-pytorch.git\">DeepSphere</a>",
          "Energy Systems/Energy Modeling and Optimization/<a href=\"https://github.com/derevirn/renewcast.git\">Renewcast</a>",
          "Sustainable Development/Data Catalogs and Interfaces/<a href=\"https://github.com/digitalearthafrica/deafrica-sandbox-notebooks.git\">Digital Earth Africa Notebooks</a>",
          "Consumption of Energy and Resources/Mobility and Transportation/<a href=\"https://github.com/diowa/icare.git\">icare</a>",
          "Natural Resources/Agriculture and Nutrition/<a href=\"https://github.com/dl4sits/BreizhCrops.git\">BreizhCrops</a>",
          "Consumption of Energy and Resources/Computation and Communication/<a href=\"https://github.com/dos-group/leaf.git\">LEAF</a>",
          "Energy Systems/Energy Modeling and Optimization/<a href=\"https://github.com/dpinney/omf.git\">Open Modeling Framework</a>",
          "Consumption of Energy and Resources/Buildings and Heating/<a href=\"https://github.com/dsmrreader/dsmr-reader.git\">DSMR-reader</a>",
          "Energy Storage/Battery/<a href=\"https://github.com/dsr-18/long-live-the-battery.git\">long-live-the-battery</a>",
          "Sustainable Development/Sustainable Development Goals/<a href=\"https://github.com/dwulff/text2sdg.git\">text2sdg</a>",
          "Natural Resources/Soil and Land/<a href=\"https://github.com/e-sensing/sits.git\">SITS</a>",
          "Energy Storage/Hydrogen/<a href=\"https://github.com/e2nIEE/pandapipes.git\">pandapipes</a>",
          "Energy Systems/Energy Distribution and Grids/<a href=\"https://github.com/e2nIEE/simbench.git\">SimBench</a>",
          "Natural Resources/Soil and Land/<a href=\"https://github.com/eMapR/LT-GEE.git\">LT-GEE</a>",
          "Earth Systems/Hydrosphere/<a href=\"https://github.com/eWaterCycle/ewatercycle.git\">eWaterCycle</a>",
          "Climate and Earth Science/Radiative Transfer/<a href=\"https://github.com/earth-system-radiation/rte-rrtmgp.git\">RTE+RRTMGP</a>",
          "Earth Systems/Biosphere/<a href=\"https://github.com/earthlab/firedpy.git\">FIREDpy</a>",
          "Climate and Earth Science/Meteorological Observation and Forecast/<a href=\"https://github.com/earthobservations/wetterdienst.git\">wetterdienst</a>",
          "Renewable Energy/Wind Energy/<a href=\"https://github.com/ebranlard/welib.git\">welib</a>",
          "Natural Resources/Natural Hazard and Poverty/<a href=\"https://github.com/ec-jrc/lisflood-code.git\">LISFLOOD</a>",
          "Earth Systems/Hydrosphere/<a href=\"https://github.com/ecjoliver/marineHeatWaves.git\">marineHeatWaves</a>",
          "Climate and Earth Science/Earth and Climate Modeling/<a href=\"https://github.com/ecmwf-ifs/ecrad.git\">ECRAD</a>",
          "Consumption of Energy and Resources/Buildings and Heating/<a href=\"https://github.com/ecmwf-projects/thermofeel.git\">Thermofeel</a>",
          "Climate and Earth Science/Earth and Climate Modeling/<a href=\"https://github.com/ecmwf/atlas.git\">atlas</a>",
          "Earth Systems/Biosphere/<a href=\"https://github.com/ecmwf/caliver.git\">caliver</a>",
          "Climate and Earth Science/Climate Data Processing and Access/<a href=\"https://github.com/ecmwf/cdsapi.git\">cdsapi</a>",
          "Climate and Earth Science/Climate Data Processing and Access/<a href=\"https://github.com/ecmwf/cfgrib.git\">cfgrib</a>",
          "Climate and Earth Science/Climate Data Processing and Access/<a href=\"https://github.com/ecmwf/climetlab.git\">climetlab</a>",
          "Sustainable Development/Data Catalogs and Interfaces/<a href=\"https://github.com/ecmwf/ecmwf-opendata.git\">ecmwf-opendata</a>",
          "Earth Systems/Biosphere/<a href=\"https://github.com/eco-hydro/phenofit.git\">phenofit</a>",
          "Natural Resources/Water Supply and Quality/<a href=\"https://github.com/ed-hawkins/rainfall-rescue.git\">RainfallRescue</a>",
          "Sustainable Development/Data Catalogs and Interfaces/<a href=\"https://github.com/eea/geonetwork-eea.git\">EEA geospatial data catalogue</a>",
          "Emissions/Carbon Intensity and Accounting/<a href=\"https://github.com/electricitymaps/electricitymaps-contrib.git\">Electricity Maps</a>",
          "Climate and Earth Science/Meteorological Observation and Forecast/<a href=\"https://github.com/eliocamp/metR.git\">metR</a>",
          "Emissions/Emission Observation and Modeling/<a href=\"https://github.com/emissions-api/emissions-api.git\">emissions-api</a>",
          "Energy Systems/Energy Monitoring and Control/<a href=\"https://github.com/emoncms/emoncms.git\">Emoncms</a>",
          "Energy Systems/Datasets on Energy Systems/<a href=\"https://github.com/enechange/EnergyDataSimulationChallenge.git\">EnergyDataSimulationChallenge</a>",
          "Energy Systems/Energy Modeling and Optimization/<a href=\"https://github.com/energy-modelling-toolkit/Dispa-SET.git\">Dispa-SET</a>",
          "Renewable Energy/Hydro Energy/<a href=\"https://github.com/energy-modelling-toolkit/hydro-power-database.git\">hydro-power-database</a>",
          "Energy Systems/Energy Modeling and Optimization/<a href=\"https://github.com/energyRt/energyRt.git\">energyRt</a>",
          "Energy Systems/Energy Distribution and Grids/<a href=\"https://github.com/energywebfoundation/origin.git\">origin</a>",
          "Consumption of Energy and Resources/Mobility and Transportation/<a href=\"https://github.com/enviroCar/enviroCar-app.git\">enviroCar</a>",
          "Energy Storage/Battery/<a href=\"https://github.com/epri-dev/StorageVET.git\">StorageVET</a>",
          "Climate and Earth Science/Radiative Transfer/<a href=\"https://github.com/eradiate/eradiate.git\">Eradiate</a>",
          "Consumption of Energy and Resources/Mobility and Transportation/<a href=\"https://github.com/eskerda/pybikes.git\">pybikes</a>",
          "Climate and Earth Science/Earth and Climate Modeling/<a href=\"https://github.com/esmf-org/esmf.git\">ESMF</a>",
          "Natural Resources/Soil and Land/<a href=\"https://github.com/esowc/ml_drought.git\">ml_drought</a>",
          "Earth Systems/Hydrosphere/<a href=\"https://github.com/euroargodev/argopy.git\">argopy</a>",
          "Consumption of Energy and Resources/Mobility and Transportation/<a href=\"https://github.com/evcc-io/evcc.git\">EVCC</a>",
          "Sustainable Development/Data Catalogs and Interfaces/<a href=\"https://github.com/fdetsch/MODIS.git\">MODIS</a>",
          "Natural Resources/Soil and Land/<a href=\"https://github.com/felixriese/CNN-SoilTextureClassification.git\">CNN-SoilTextureClassification</a>",
          "Natural Resources/Agriculture and Nutrition/<a href=\"https://github.com/fineprint-global/fabio.git\">FABIO</a>",
          "Industrial Ecology/Life Cycle Assessment/<a href=\"https://github.com/fineprint-global/forbio.git\">FORBIO</a>",
          "Natural Resources/Agriculture and Nutrition/<a href=\"https://github.com/fishR-Core-Team/FSA.git\">Fisheries Stock Assessment</a>",
          "Natural Resources/Agriculture and Nutrition/<a href=\"https://github.com/fishR-Core-Team/RFishBC.git\">RFishBC</a>",
          "Climate and Earth Science/Earth and Climate Modeling/<a href=\"https://github.com/fnemina/pyOSOAA.git\">pyOSOAA</a>",
          "Earth Systems/Biosphere/<a href=\"https://github.com/forc-db/ForC.git\">Forest Carbon database</a>",
          "Earth Systems/Biosphere/<a href=\"https://github.com/forc-db/GROA.git\">Global Reforestation Opportunity Assessment</a>",
          "Climate and Earth Science/Earth and Climate Modeling/<a href=\"https://github.com/forestgeo/Climate.git\">ForestGEO</a>",
          "Emissions/Emission Observation and Modeling/<a href=\"https://github.com/fossilfuelregistry/portal-v2.git\">The Global Registry of Fossil Fuels</a>",
          "Sustainable Development/Sustainable Investment/<a href=\"https://github.com/fund-model/MimiFUND.jl.git\">MimiFUND.jl</a>",
          "Consumption of Energy and Resources/Computation and Communication/<a href=\"https://github.com/fvaleye/tracarbon.git\">Tracarbon</a>",
          "Climate and Earth Science/Earth and Climate Modeling/<a href=\"https://github.com/gaelforget/ClimateModels.jl.git\">ClimateModels.jl</a>",
          "Industrial Ecology/Circular Economy and Waste/<a href=\"https://github.com/garythung/trashnet.git\">trashnet</a>",
          "Natural Resources/Soil and Land/<a href=\"https://github.com/geocryology/globsim.git\">globsim</a>",
          "Natural Resources/Water Supply and Quality/<a href=\"https://github.com/geodynamics/selen.git\">SELEN</a>",
          "Earth Systems/Atmosphere/<a href=\"https://github.com/geoschem/gcpy.git\">gcpy</a>",
          "Earth Systems/Atmosphere/<a href=\"https://github.com/geoschem/geos-chem.git\">GEOS-Chem</a>",
          "Earth Systems/Biosphere/<a href=\"https://github.com/ghislainv/forestatrisk-tropics.git\">forestatrisk</a>",
          "Earth Systems/Biosphere/<a href=\"https://github.com/ghislainv/forestatrisk.git\">forestatrisk</a>",
          "Natural Resources/Natural Hazard and Poverty/<a href=\"https://github.com/global-hydrodynamics/CaMa-Flood_v4.git\">CaMa</a>",
          "Earth Systems/Biosphere/<a href=\"https://github.com/globalbioticinteractions/globalbioticinteractions.git\">Global Biotic Interactions</a>",
          "Consumption of Energy and Resources/Mobility and Transportation/<a href=\"https://github.com/goat-community/goat.git\">goat</a>",
          "Climate and Earth Science/Earth and Climate Modeling/<a href=\"https://github.com/google-research/ARCO-ERA5.git\">Analysis-Ready, Cloud Optimized ERA5</a>",
          "Consumption of Energy and Resources/Mobility and Transportation/<a href=\"https://github.com/google/transitfeed.git\">transitfeed</a>",
          "Climate and Earth Science/Climate Data Processing and Access/<a href=\"https://github.com/google/weather-tools.git\">weather-tools</a>",
          "Earth Systems/Hydrosphere/<a href=\"https://github.com/gotm-model/code.git\">GOTM</a>",
          "Consumption of Energy and Resources/Computation and Communication/<a href=\"https://github.com/greensoftwarelab/Energy-Languages.git\">Energy-Languages</a>",
          "Energy Systems/Energy Distribution and Grids/<a href=\"https://github.com/grid-parity-exchange/Egret.git\">Egret</a>",
          "Energy Systems/Energy Distribution and Grids/<a href=\"https://github.com/gridsingularity/gsy-e.git\">Grid Singularity Energy Exchange Engine (D3A)</a>",
          "Consumption of Energy and Resources/Mobility and Transportation/<a href=\"https://github.com/grote/Transportr.git\">Transportr</a>",
          "Consumption of Energy and Resources/Mobility and Transportation/<a href=\"https://github.com/grote/osm2gtfs.git\">osm2gtfs</a>",
          "Consumption of Energy and Resources/Mobility and Transportation/<a href=\"https://github.com/gsoh/VED.git\">Vehicle Energy Dataset</a>",
          "Climate and Earth Science/Climate Data Processing and Access/<a href=\"https://github.com/h5netcdf/h5netcdf.git\">h5netcdf</a>",
          "Earth Systems/Hydrosphere/<a href=\"https://github.com/hainegroup/oceanspy.git\">OceanSpy</a>",
          "Natural Resources/Soil and Land/<a href=\"https://github.com/hectornieto/pyTSEB.git\">pyTSEB</a>",
          "Natural Resources/Agriculture and Nutrition/<a href=\"https://github.com/hmontazeri/is-vegan.git\">Is-Vegan</a>",
          "Natural Resources/Agriculture and Nutrition/<a href=\"https://github.com/hollorol/AgroMo.git\">AgroMo</a>",
          "Consumption of Energy and Resources/Buildings and Heating/<a href=\"https://github.com/hongyuanjia/eplusr.git\">eplusr</a>",
          "Consumption of Energy and Resources/Mobility and Transportation/<a href=\"https://github.com/hove-io/navitia.git\">navitia</a>",
          "Consumption of Energy and Resources/Buildings and Heating/<a href=\"https://github.com/hpxmlwg/hpxml.git\">hpxml</a>",
          "Emissions/Carbon Capture and Removal/<a href=\"https://github.com/hsbay/cdrmex.git\">CDRMEx</a>",
          "Consumption of Energy and Resources/Computation and Communication/<a href=\"https://github.com/hubblo-org/scaphandre.git\">Scaphandre</a>",
          "Earth Systems/Biosphere/<a href=\"https://github.com/hunter-stanke/rFIA.git\">rFIA</a>",
          "Earth Systems/Hydrosphere/<a href=\"https://github.com/hydroshare/hydroshare.git\">HydroShare</a>",
          "Earth Systems/Hydrosphere/<a href=\"https://github.com/hyriver/hyriver.github.io.git\">HyRiver</a>",
          "Renewable Energy/Photovoltaics and Solar Energy/<a href=\"https://github.com/iat-cener/tonatiuh.git\">Tonatiuh</a>",
          "Consumption of Energy and Resources/Buildings and Heating/<a href=\"https://github.com/ibpsa/modelica-ibpsa.git\">modelica-ibpsa</a>",
          "Consumption of Energy and Resources/Buildings and Heating/<a href=\"https://github.com/ibpsa/project1-boptest-gym.git\">BOPTEST-Gym</a>",
          "Consumption of Energy and Resources/Buildings and Heating/<a href=\"https://github.com/ibpsa/project1-boptest.git\">BOPTEST</a>",
          "Consumption of Energy and Resources/Buildings and Heating/<a href=\"https://github.com/ibpsa/project1.git\">project1</a>",
          "Earth Systems/Cryosphere/<a href=\"https://github.com/icesat2py/icepyx.git\">icepyx</a>",
          "Climate and Earth Science/Climate Data Processing and Access/<a href=\"https://github.com/ideas-lab-nus/epwshiftr.git\">epwshiftr</a>",
          "Energy Systems/Energy Modeling and Optimization/<a href=\"https://github.com/ie3-institute/PowerSystemDataModel.git\">PowerSystemDataModel</a>",
          "Energy Systems/Energy Distribution and Grids/<a href=\"https://github.com/ie3-institute/simona.git\">SIMONA</a>",
          "Natural Resources/Water Supply and Quality/<a href=\"https://github.com/iiasa/CWatM.git\">CWatM</a>",
          "Climate and Earth Science/Integrated Assessment/<a href=\"https://github.com/iiasa/ENGAGE-netzero-analysis.git\">ENGAGE</a>",
          "Climate and Earth Science/Integrated Assessment/<a href=\"https://github.com/iiasa/message_ix.git\">MESSAGEix</a>",
          "Natural Resources/Natural Hazard and Poverty/<a href=\"https://github.com/inasafe/inasafe.git\">InaSAFE</a>",
          "Earth Systems/Biosphere/<a href=\"https://github.com/inaturalist/inaturalist.git\">iNaturalist</a>",
          "Climate and Earth Science/Climate Data Processing and Access/<a href=\"https://github.com/intake/intake-esm.git\">Intake-esm</a>",
          "Energy Systems/Energy Modeling and Optimization/<a href=\"https://github.com/intelligent-environments-lab/CityLearn.git\">CityLearn</a>",
          "Earth Systems/Biosphere/<a href=\"https://github.com/iobis/robis.git\">robis</a>",
          "Earth Systems/Hydrosphere/<a href=\"https://github.com/jamesorr/CO2SYS-MATLAB.git\">CO2SYS</a>",
          "Consumption of Energy and Resources/Computation and Communication/<a href=\"https://github.com/jawache/principles-green.git\">Principles of Green Software Engineering</a>",
          "Earth Systems/Biosphere/<a href=\"https://github.com/jbferet/biodivMapR.git\">biodivMapR</a>",
          "Natural Resources/Water Supply and Quality/<a href=\"https://github.com/jblindsay/whitebox-tools.git\">WhiteboxTools</a>",
          "Emissions/Carbon Intensity and Accounting/<a href=\"https://github.com/jdechalendar/gridemissions.git\">gridemissions</a>",
          "Earth Systems/Biosphere/<a href=\"https://github.com/jeffreyevans/spatialEco.git\">spatialEco</a>",
          "Energy Storage/Battery/<a href=\"https://github.com/jepegit/cellpy.git\">cellpy</a>",
          "Earth Systems/Cryosphere/<a href=\"https://github.com/jmcook1186/biosnicar-py.git\">BioSNICAR</a>",
          "Earth Systems/Biosphere/<a href=\"https://github.com/jneme910/CART.git\">CART</a>",
          "Natural Resources/Water Supply and Quality/<a href=\"https://github.com/jnsebgosselin/gwhat.git\">GWHAT</a>",
          "Consumption of Energy and Resources/Mobility and Transportation/<a href=\"https://github.com/johan12345/EVMap.git\">EVMap</a>",
          "Earth Systems/Hydrosphere/<a href=\"https://github.com/jpgattuso/seacarb-git.git\">seacarb</a>",
          "Consumption of Energy and Resources/Mobility and Transportation/<a href=\"https://github.com/jrester/tesla_powerwall.git\">tesla_powerwall</a>",
          "Natural Resources/Water Supply and Quality/<a href=\"https://github.com/jsta/nhdR.git\">nhdR</a>",
          "Natural Resources/Air Quality/<a href=\"https://github.com/jsynowiec/airqmon.git\">airqmon</a>",
          "Natural Resources/Natural Hazard and Poverty/<a href=\"https://github.com/kLabUM/pystorms.git\">pystorms</a>",
          "Emissions/Carbon Intensity and Accounting/<a href=\"https://github.com/kansoapp/carbonfact-models.git\">Carbonfact Models</a>",
          "Sustainable Development/Data Catalogs and Interfaces/<a href=\"https://github.com/kapadia/usgs.git\">USGS</a>",
          "Natural Resources/Agriculture and Nutrition/<a href=\"https://github.com/karrot-dev/karrot-frontend.git\">Karrot</a>",
          "Earth Systems/Biosphere/<a href=\"https://github.com/karthikraja95/fsdl_deforestation_detection.git\">FSDL Deforestation Detection</a>",
          "Natural Resources/Agriculture and Nutrition/<a href=\"https://github.com/kazulagi/plantFEM.git\">plantFEM</a>",
          "Energy Systems/Energy Modeling and Optimization/<a href=\"https://github.com/kbaranko/peaky-finders.git\">Peaky Finders</a>",
          "Renewable Energy/Photovoltaics and Solar Energy/<a href=\"https://github.com/kdmayer/3D-PV-Locator.git\">PV4GER</a>",
          "Energy Systems/Datasets on Energy Systems/<a href=\"https://github.com/kmax12/gridstatus.git\">isodata</a>",
          "Industrial Ecology/Life Cycle Assessment/<a href=\"https://github.com/konstantinstadler/pymrio.git\">pymrio</a>",
          "Earth Systems/Cryosphere/<a href=\"https://github.com/krisrs1128/glacier_mapping.git\">Glacier Mapping From Satellite Imagery</a>",
          "Consumption of Energy and Resources/Computation and Communication/<a href=\"https://github.com/kube-green/kube-green.git\">kube-green</a>",
          "Natural Resources/Agriculture and Nutrition/<a href=\"https://github.com/kwstat/agridat.git\">Agridat</a>",
          "Consumption of Energy and Resources/Computation and Communication/<a href=\"https://github.com/kylemcdonald/ethereum-nft-activity.git\">cryptoart-footprint</a>",
          "Consumption of Energy and Resources/Computation and Communication/<a href=\"https://github.com/kylemcdonald/ethereum-nft-activity.git\">ethereum-nft-activity</a>",
          "Climate and Earth Science/Earth and Climate Modeling/<a href=\"https://github.com/ladybug-tools/dragonfly-legacy.git\">Dragonfly for Grasshopper</a>",
          "Renewable Energy/Photovoltaics and Solar Energy/<a href=\"https://github.com/ladybug-tools/honeybee.git\">honeybee</a>",
          "Consumption of Energy and Resources/Buildings and Heating/<a href=\"https://github.com/ladybug-tools/uwg.git\">Urban Weather Generator</a>",
          "Natural Resources/Soil and Land/<a href=\"https://github.com/landlab/landlab.git\">Landlab</a>",
          "Energy Storage/Hydrogen/<a href=\"https://github.com/lanl-ansi/GasModels.jl.git\">GasModels.jl</a>",
          "Energy Systems/Energy Distribution and Grids/<a href=\"https://github.com/lanl-ansi/PowerModels.jl.git\">PowerModels.jl</a>",
          "Energy Systems/Energy Distribution and Grids/<a href=\"https://github.com/lanl-ansi/PowerModelsAnnex.jl.git\">PowerModelsAnnex.jl</a>",
          "Natural Resources/Water Supply and Quality/<a href=\"https://github.com/lanl-ansi/WaterModels.jl.git\">WaterModels.jl</a>",
          "Renewable Energy/Geothermal Energy/<a href=\"https://github.com/lanl/FEHM.git\">FEHM</a>",
          "Consumption of Energy and Resources/Buildings and Heating/<a href=\"https://github.com/lbl-srg/MPCPy.git\">MPCPy</a>",
          "Consumption of Energy and Resources/Buildings and Heating/<a href=\"https://github.com/lbl-srg/modelica-buildings.git\">Modelica Buildings library</a>",
          "Consumption of Energy and Resources/Buildings and Heating/<a href=\"https://github.com/lbl-srg/obc.git\">obc</a>",
          "Energy Systems/Energy Modeling and Optimization/<a href=\"https://github.com/leonardgoeke/AnyMOD.jl.git\">AnyMOD.jl</a>",
          "Sustainable Development/Knowledge Platforms/<a href=\"https://github.com/lf-energy/lfenergy-landscape.git\">Linux Foundation Energy Landscape</a>",
          "Energy Storage/Battery/<a href=\"https://github.com/lionsimbatoolbox/LIONSIMBA.git\">LIONSIMBA</a>",
          "Earth Systems/Biosphere/<a href=\"https://github.com/ltrr-arizona-edu/burnr.git\">burnr</a>",
          "Energy Systems/Datasets on Energy Systems/<a href=\"https://github.com/m4rz910/NYISOToolkit.git\">NYISOToolkit</a>",
          "Consumption of Energy and Resources/Mobility and Transportation/<a href=\"https://github.com/maasglobal/maas-schemas.git\">MaaS Global</a>",
          "Natural Resources/Agriculture and Nutrition/<a href=\"https://github.com/magpiemodel/magpie.git\">MAgPIE</a>",
          "Natural Resources/Air Quality/<a href=\"https://github.com/mainmatter/breethe-server.git\">breethe-server</a>",
          "Natural Resources/Agriculture and Nutrition/<a href=\"https://github.com/maja601/EuroCrops.git\">EuroCrops</a>",
          "Earth Systems/Biosphere/<a href=\"https://github.com/mapme-initiative/mapme.biodiversity.git\">mapme.biodiversity</a>",
          "Industrial Ecology/Circular Economy and Waste/<a href=\"https://github.com/marine-debris/marine-debris.github.io.git\">MARIDA</a>",
          "Consumption of Energy and Resources/Mobility and Transportation/<a href=\"https://github.com/marlinarnz/quetzal_germany.git\">quetzal_germany</a>",
          "Consumption of Energy and Resources/Computation and Communication/<a href=\"https://github.com/marmelab/argos.git\">argos</a>",
          "Earth Systems/Biosphere/<a href=\"https://github.com/martibosch/detectree.git\">DetecTree</a>",
          "Natural Resources/Soil and Land/<a href=\"https://github.com/martibosch/pylandstats.git\">PyLandStats</a>",
          "Energy Storage/Hydrogen/<a href=\"https://github.com/mathworks/Fuel-Cell-Vehicle-Model-Simscape.git\">Vehicle with Fuel Cell Powertrain</a>",
          "Climate and Earth Science/Climate Data Processing and Access/<a href=\"https://github.com/mathworks/climatedatastore.git\">Climate Data Store Toolbox for MATLAB</a>",
          "Natural Resources/Water Supply and Quality/<a href=\"https://github.com/mdbartos/pipedream.git\">pipedream</a>",
          "Natural Resources/Water Supply and Quality/<a href=\"https://github.com/mdbartos/pysheds.git\">pysheds</a>",
          "Consumption of Energy and Resources/Mobility and Transportation/<a href=\"https://github.com/mdolab/openconcept.git\">OpenConcept</a>",
          "Renewable Energy/Photovoltaics and Solar Energy/<a href=\"https://github.com/meltaxa/solariot.git\">solariot</a>",
          "Earth Systems/Hydrosphere/<a href=\"https://github.com/meom-group/CDFTOOLS.git\">CDFTOOLS</a>",
          "Climate and Earth Science/Climate Data Processing and Access/<a href=\"https://github.com/meteoinfo/MeteoInfo.git\">MeteoInfo</a>",
          "Climate and Earth Science/Climate Data Processing and Access/<a href=\"https://github.com/meteostat/meteostat-python.git\">Meteostat Python</a>",
          "Natural Resources/Air Quality/<a href=\"https://github.com/metno/emep-ctm.git\">Open Source EMEP MSC-W model</a>",
          "Climate and Earth Science/Climate Data Processing and Access/<a href=\"https://github.com/metno/esd.git\">esd</a>",
          "Sustainable Development/Data Catalogs and Interfaces/<a href=\"https://github.com/microsoft/AIforEarthDataSets.git\">AI for Earth Data Sets</a>",
          "Sustainable Development/Data Catalogs and Interfaces/<a href=\"https://github.com/microsoft/PlanetaryComputerDataCatalog.git\">Planetary Computer Data Catalog</a>",
          "Earth Systems/Biosphere/<a href=\"https://github.com/microsoft/aerial_wildlife_detection.git\">Annotation Interface for Data-driven Ecology</a>",
          "Climate and Earth Science/Climate Data Processing and Access/<a href=\"https://github.com/mikejohnson51/climateR.git\">climateR</a>",
          "Emissions/Emission Observation and Modeling/<a href=\"https://github.com/milankl/FlyingClimate.git\">FlyingClimate</a>",
          "Earth Systems/Atmosphere/<a href=\"https://github.com/mjucker/MiMA.git\">MiMA</a>",
          "Earth Systems/Hydrosphere/<a href=\"https://github.com/mkoohafkan/rivr.git\">rivr</a>",
          "Consumption of Energy and Resources/Computation and Communication/<a href=\"https://github.com/mlco2/codecarbon.git\">CodeCarbon</a>",
          "Consumption of Energy and Resources/Computation and Communication/<a href=\"https://github.com/mlco2/impact.git\">impact</a>",
          "Emissions/Emission Observation and Modeling/<a href=\"https://github.com/mmb-carb/ESTA.git\">ESTA</a>",
          "Consumption of Energy and Resources/Mobility and Transportation/<a href=\"https://github.com/mobilityhouse/ocpp.git\">ocpp</a>",
          "Natural Resources/Water Supply and Quality/<a href=\"https://github.com/modflowpy/flopy.git\">flopy</a>",
          "Natural Resources/Soil and Land/<a href=\"https://github.com/moja-global/About_moja_global.git\">Full Lands INtegration Tool</a>",
          "Climate and Earth Science/Earth and Climate Modeling/<a href=\"https://github.com/mom-ocean/MOM5.git\">MOM5</a>",
          "Climate and Earth Science/Earth and Climate Modeling/<a href=\"https://github.com/monocongo/climate_indices.git\">Climate_Indices</a>",
          "Natural Resources/Agriculture and Nutrition/<a href=\"https://github.com/morkro/happy-plants.git\">HappyPlants</a>",
          "Natural Resources/Water Supply and Quality/<a href=\"https://github.com/mroberge/hydrofunctions.git\">HydroFunctions</a>",
          "Consumption of Energy and Resources/Mobility and Transportation/<a href=\"https://github.com/mszell/bikenwgrowth.git\">Growing Urban Bicycle Networks</a>",
          "Natural Resources/Agriculture and Nutrition/<a href=\"https://github.com/mudpi/mudpi-core.git\">MudPi</a>",
          "Earth Systems/Hydrosphere/<a href=\"https://github.com/mvdh7/PyCO2SYS.git\">PyCO2SYS</a>",
          "Sustainable Development/Data Catalogs and Interfaces/<a href=\"https://github.com/mysociety/caps.git\">Climate Action Plans</a>",
          "Climate and Earth Science/Earth and Climate Modeling/<a href=\"https://github.com/mzelinka/cmip56_forcing_feedback_ecs.git\">cmip56_forcing_feedback_ecs</a>",
          "Earth Systems/Cryosphere/<a href=\"https://github.com/nansencenter/sea_ice_drift.git\">Sea ice drift</a>",
          "Earth Systems/Cryosphere/<a href=\"https://github.com/nasa-jpl/captoolkit.git\">captoolkit</a>",
          "Climate and Earth Science/Climate Data Processing and Access/<a href=\"https://github.com/nasa/NASAaccess.git\">NASAaccess</a>",
          "Sustainable Development/Data Catalogs and Interfaces/<a href=\"https://github.com/nasa/earthdata-search.git\">Earthdata Search</a>",
          "Natural Resources/Agriculture and Nutrition/<a href=\"https://github.com/nasaharvest/cropharvest.git\">CropHarvest</a>",
          "Sustainable Development/Sustainable Investment/<a href=\"https://github.com/natcap/invest.git\">Integrated Valuation of Ecosystem Services and Tradeoffs</a>",
          "Climate and Earth Science/Climate Data Processing and Access/<a href=\"https://github.com/nco/nco.git\">NCO</a>",
          "Climate and Earth Science/Climate Data Processing and Access/<a href=\"https://github.com/nco/pynco.git\">pynco</a>",
          "Natural Resources/Soil and Land/<a href=\"https://github.com/ncss-tech/aqp.git\">AQP</a>",
          "Natural Resources/Soil and Land/<a href=\"https://github.com/ncss-tech/sharpshootR.git\">sharpshootR</a>",
          "Natural Resources/Soil and Land/<a href=\"https://github.com/ncss-tech/soilDB.git\">soilDB</a>",
          "Natural Resources/Soil and Land/<a href=\"https://github.com/ncss-tech/soilReports.git\">soilReports</a>",
          "Natural Resources/Water Supply and Quality/<a href=\"https://github.com/neuralhydrology/neuralhydrology.git\">NeuralHydrology</a>",
          "Energy Systems/Energy Modeling and Optimization/<a href=\"https://github.com/niclasmattsson/GlobalEnergyGIS.git\">GlobalEnergyGIS</a>",
          "Consumption of Energy and Resources/Buildings and Heating/<a href=\"https://github.com/nilmtk/nilmtk.git\">NILM</a>",
          "Renewable Energy/Wind Energy/<a href=\"https://github.com/nmstreethran/WindTurbineClassification.git\">WindTurbineClassification</a>",
          "Sustainable Development/Data Catalogs and Interfaces/<a href=\"https://github.com/nsidc/earthdata.git\">earthdata</a>",
          "Earth Systems/Cryosphere/<a href=\"https://github.com/nsidc/qgreenland.git\">QGreenland</a>",
          "Earth Systems/Atmosphere/<a href=\"https://github.com/oceanflux-ghg/FluxEngine.git\">FluxEngine</a>",
          "Natural Resources/Natural Hazard and Poverty/<a href=\"https://github.com/oceanmodeling/StormEvents.git\">StormEvents</a>",
          "Consumption of Energy and Resources/Buildings and Heating/<a href=\"https://github.com/oemof/DHNx.git\">DHNx</a>",
          "Energy Systems/Energy Modeling and Optimization/<a href=\"https://github.com/oemof/demandlib.git\">demandlib</a>",
          "Renewable Energy/Photovoltaics and Solar Energy/<a href=\"https://github.com/oemof/feedinlib.git\">feedinlib</a>",
          "Energy Systems/Energy Modeling and Optimization/<a href=\"https://github.com/oemof/oemof-solph.git\">oemof-solph</a>",
          "Energy Systems/Energy Modeling and Optimization/<a href=\"https://github.com/oemof/oemof-thermal.git\">oemof-thermal</a>",
          "Energy Systems/Energy Modeling and Optimization/<a href=\"https://github.com/oemof/oemof.git\">oemof</a>",
          "Consumption of Energy and Resources/Buildings and Heating/<a href=\"https://github.com/oemof/tespy.git\">tespy</a>",
          "Energy Storage/Battery/<a href=\"https://github.com/offgridsystems/Documents.git\">offgridsystems</a>",
          "Industrial Ecology/Life Cycle Assessment/<a href=\"https://github.com/oie-mines-paristech/lca_algebraic.git\">lca_algebraic</a>",
          "Earth Systems/Hydrosphere/<a href=\"https://github.com/onaci/leaflet-velocity.git\">leaflet-velocity</a>",
          "Consumption of Energy and Resources/Buildings and Heating/<a href=\"https://github.com/open-ideas/IDEAS.git\">IDEAS</a>",
          "Consumption of Energy and Resources/Buildings and Heating/<a href=\"https://github.com/open-ideas/StROBe.git\">StROBe</a>",
          "Climate and Earth Science/Meteorological Observation and Forecast/<a href=\"https://github.com/open-meteo/open-meteo.git\">Open-Meteo</a>",
          "Sustainable Development/Sustainable Development Goals/<a href=\"https://github.com/open-sdg/open-sdg.git\">open-sdg</a>",
          "Energy Systems/Energy Modeling and Optimization/<a href=\"https://github.com/openENTRANCE/openentrance.git\">openENTRANCE</a>",
          "Natural Resources/Air Quality/<a href=\"https://github.com/openaq/openaq-api-v2.git\">OpenAQ API Version 2</a>",
          "Natural Resources/Air Quality/<a href=\"https://github.com/openaq/openaq-fetch.git\">OpenAQ Data Ingest Pipeline</a>",
          "Consumption of Energy and Resources/Mobility and Transportation/<a href=\"https://github.com/openchargemap/ocm-system.git\">Open Charge Map</a>",
          "Climate and Earth Science/Earth and Climate Modeling/<a href=\"https://github.com/openclimatedata/pyhector.git\">pyhector</a>",
          "Emissions/Carbon Intensity and Accounting/<a href=\"https://github.com/openclimatedata/unfccc-detailed-data-by-party.git\">UNFCCC emissions data</a>",
          "Sustainable Development/Data Catalogs and Interfaces/<a href=\"https://github.com/openclimatefix/Satip.git\">Satip</a>",
          "Renewable Energy/Photovoltaics and Solar Energy/<a href=\"https://github.com/openclimatefix/nowcasting.git\">Solar electricity Nowcasting</a>",
          "Renewable Energy/Photovoltaics and Solar Energy/<a href=\"https://github.com/openclimatefix/predict_pv_yield.git\">predict_pv_yield</a>",
          "Renewable Energy/Photovoltaics and Solar Energy/<a href=\"https://github.com/openclimatefix/pvoutput.git\">pvoutput</a>",
          "Natural Resources/Air Quality/<a href=\"https://github.com/opendata-stuttgart/sensor.community.git\">Sensor.Community</a>",
          "Natural Resources/Air Quality/<a href=\"https://github.com/opendata-stuttgart/sensors-software.git\">opendata-stuttgart</a>",
          "Energy Systems/Energy Monitoring and Control/<a href=\"https://github.com/openeemeter/eemeter.git\">eemeter</a>",
          "Earth Systems/Atmosphere/<a href=\"https://github.com/openeemeter/eeweather.git\">eeweather</a>",
          "Energy Systems/Energy Distribution and Grids/<a href=\"https://github.com/openego/eDisGo.git\">eDisGo</a>",
          "Energy Systems/Energy Monitoring and Control/<a href=\"https://github.com/openenergymonitor/EmonLib.git\">EmonLib</a>",
          "Energy Systems/Energy Monitoring and Control/<a href=\"https://github.com/openenergymonitor/emonpi.git\">emonpi</a>",
          "Natural Resources/Agriculture and Nutrition/<a href=\"https://github.com/openfarmcc/OpenFarm.git\">OpenFarm</a>",
          "Natural Resources/Agriculture and Nutrition/<a href=\"https://github.com/openfoodfoundation/openfoodnetwork.git\">openfoodnetwork</a>",
          "Earth Systems/Biosphere/<a href=\"https://github.com/openforis/sepal.git\">SEPAL</a>",
          "Sustainable Development/Data Catalogs and Interfaces/<a href=\"https://github.com/opengeospatial/ogcapi-environmental-data-retrieval.git\">OGC API - Environmental Data Retrieval</a>",
          "Emissions/Emission Observation and Modeling/<a href=\"https://github.com/openghg/openghg.git\">OpenGHG</a>",
          "Consumption of Energy and Resources/Mobility and Transportation/<a href=\"https://github.com/openmobilityfoundation/mobility-data-specification.git\">mobility-data-specification</a>",
          "Energy Systems/Datasets on Energy Systems/<a href=\"https://github.com/opennem/opennem-fe.git\">OpenNEM</a>",
          "Natural Resources/Air Quality/<a href=\"https://github.com/openoakland/woeip.git\">West Oakland Air Quality Project</a>",
          "Earth Systems/Biosphere/<a href=\"https://github.com/openplantpathology/OpenPlantPathology.git\">OpenPlantPathology</a>",
          "Emissions/Carbon Intensity and Accounting/<a href=\"https://github.com/opentaps/blockchain-carbon-accounting.git\">blockchain-carbon-accounting</a>",
          "Sustainable Development/Sustainable Investment/<a href=\"https://github.com/opentaps/open-climate-investing.git\">open-climate-investing</a>",
          "Energy Systems/Energy Monitoring and Control/<a href=\"https://github.com/opfab/operatorfabric-core.git\">OperatorFabric</a>",
          "Climate and Earth Science/Climate Data Processing and Access/<a href=\"https://github.com/orbisgis/geoclimate.git\">Geoclimate</a>",
          "Sustainable Development/Sustainable Investment/<a href=\"https://github.com/os-climate/os_c_data_commons.git\">OS-Climate Data Commons</a>",
          "Emissions/Emission Observation and Modeling/<a href=\"https://github.com/owid/co2-data.git\">co2-data</a>",
          "Energy Systems/Datasets on Energy Systems/<a href=\"https://github.com/owid/energy-data.git\">energy-data</a>",
          "Sustainable Development/Data Catalogs and Interfaces/<a href=\"https://github.com/owid/owid-catalog-py.git\">owid-catalog</a>",
          "Sustainable Development/Sustainable Development Goals/<a href=\"https://github.com/owid/sdg-tracker.org.git\">sdg-tracker.org</a>",
          "Climate and Earth Science/Earth and Climate Modeling/<a href=\"https://github.com/pangeo-data/climpred.git\">climpred</a>",
          "Climate and Earth Science/Earth and Climate Modeling/<a href=\"https://github.com/pangeo-data/pangeo.git\">pangeo</a>",
          "Earth Systems/Hydrosphere/<a href=\"https://github.com/parflow/parflow.git\">ParFlow</a>",
          "Earth Systems/Hydrosphere/<a href=\"https://github.com/passaH2O/dorado.git\">dorado</a>",
          "Earth Systems/Hydrosphere/<a href=\"https://github.com/pastas/pastas.git\">Pastas</a>",
          "Consumption of Energy and Resources/Computation and Communication/<a href=\"https://github.com/patch-technology/patch-node.git\">patch-node</a>",
          "Natural Resources/Water Supply and Quality/<a href=\"https://github.com/pcraster/pcraster.git\">PCRaster</a>",
          "Industrial Ecology/Circular Economy and Waste/<a href=\"https://github.com/pedropro/TACO.git\">TACO</a>",
          "Sustainable Development/Knowledge Platforms/<a href=\"https://github.com/petermr/climate.git\">Open Climate Knowledge</a>",
          "Climate and Earth Science/Climate Data Processing and Access/<a href=\"https://github.com/petermr/semanticClimate.git\">semanticClimate</a>",
          "Sustainable Development/Data Catalogs and Interfaces/<a href=\"https://github.com/piersyork/owidR.git\">owidR</a>",
          "Climate and Earth Science/Integrated Assessment/<a href=\"https://github.com/pik-piam/edgeTransport.git\">edgeTransport</a>",
          "Climate and Earth Science/Integrated Assessment/<a href=\"https://github.com/pik-piam/mrremind.git\">mrremind</a>",
          "Climate and Earth Science/Climate Data Processing and Access/<a href=\"https://github.com/pik-primap/climate_categories.git\">Climate categories</a>",
          "Renewable Energy/Photovoltaics and Solar Energy/<a href=\"https://github.com/pingswept/pysolar.git\">Pysolar</a>",
          "Earth Systems/Biosphere/<a href=\"https://github.com/pinskylab/OceanAdapt.git\">OceanAdapt</a>",
          "Earth Systems/Cryosphere/<a href=\"https://github.com/pism/pism.git\">PISM</a>",
          "Industrial Ecology/Life Cycle Assessment/<a href=\"https://github.com/polca/premise.git\">premise</a>",
          "Natural Resources/Agriculture and Nutrition/<a href=\"https://github.com/poseidon-fisheries/POSEIDON.git\">POSEIDON</a>",
          "Energy Systems/Energy Distribution and Grids/<a href=\"https://github.com/power-grid-lib/pglib-opf.git\">Power Grid Lib</a>",
          "Consumption of Energy and Resources/Computation and Communication/<a href=\"https://github.com/powerapi-ng/powerapi.git\">PowerAPI</a>",
          "Consumption of Energy and Resources/Computation and Communication/<a href=\"https://github.com/powerapi-ng/pyJoules.git\">pyJoules</a>",
          "Energy Systems/Energy Modeling and Optimization/<a href=\"https://github.com/powsybl/powsybl-core.git\">PowSyBl</a>",
          "Energy Systems/Energy Modeling and Optimization/<a href=\"https://github.com/powsybl/powsybl-open-loadflow.git\">PowSyBl Open Load Flow</a>",
          "Earth Systems/Biosphere/<a href=\"https://github.com/prioritizr/prioritizr.git\">prioritizr</a>",
          "Earth Systems/Biosphere/<a href=\"https://github.com/prioritizr/wdpar.git\">wdpar</a>",
          "Earth Systems/Biosphere/<a href=\"https://github.com/protect-earth/TreeTracker.git\">Tree Tracker</a>",
          "Renewable Energy/Photovoltaics and Solar Energy/<a href=\"https://github.com/pvcaptest/pvcaptest.git\">pvcaptest</a>",
          "Renewable Energy/Photovoltaics and Solar Energy/<a href=\"https://github.com/pvedu/photovoltaic.git\">photovoltaic</a>",
          "Renewable Energy/Photovoltaics and Solar Energy/<a href=\"https://github.com/pvlib/pvanalytics.git\">pvanalytics</a>",
          "Renewable Energy/Photovoltaics and Solar Energy/<a href=\"https://github.com/pvlib/pvlib-python.git\">pvlib-python</a>",
          "Natural Resources/Water Supply and Quality/<a href=\"https://github.com/pySTEPS/pysteps.git\">pySTEPS</a>",
          "Energy Systems/Energy Modeling and Optimization/<a href=\"https://github.com/pyaf/load_forecasting.git\">load_forecasting</a>",
          "Energy Storage/Battery/<a href=\"https://github.com/pybamm-team/PyBaMM.git\">PyBaMM</a>",
          "Energy Storage/Battery/<a href=\"https://github.com/pybamm-team/liionpack.git\">liionpack</a>",
          "Natural Resources/Water Supply and Quality/<a href=\"https://github.com/pygsflow/pygsflow.git\">pyGSFLOW</a>",
          "Earth Systems/Biosphere/<a href=\"https://github.com/pyinat/pyinaturalist.git\">pyinaturalist</a>",
          "Climate and Earth Science/Earth and Climate Modeling/<a href=\"https://github.com/pylandtemp/pylandtemp.git\">pylandtemp</a>",
          "Energy Systems/Energy Modeling and Optimization/<a href=\"https://github.com/pypsa-meets-earth/pypsa-earth.git\">PyPSA-Earth</a>",
          "Earth Systems/Biosphere/<a href=\"https://github.com/pyronear/pyro-risks.git\">Pyronear Risks</a>",
          "Earth Systems/Biosphere/<a href=\"https://github.com/pyronear/pyro-vision.git\">Pyrovision</a>",
          "Renewable Energy/Wind Energy/<a href=\"https://github.com/python-windrose/windrose.git\">windrose</a>",
          "Climate and Earth Science/Earth and Climate Modeling/<a href=\"https://github.com/pytroll/pygac.git\">pygac</a>",
          "Natural Resources/Soil and Land/<a href=\"https://github.com/pyviz-topics/EarthML.git\">EarthML</a>",
          "Renewable Energy/Photovoltaics and Solar Energy/<a href=\"https://github.com/qpv-research-group/rayflare.git\">rayflare</a>",
          "Renewable Energy/Photovoltaics and Solar Energy/<a href=\"https://github.com/qpv-research-group/solcore5.git\">solcore5</a>",
          "Energy Systems/Energy Distribution and Grids/<a href=\"https://github.com/quintel/etengine.git\">Energy Transition Engine</a>",
          "Energy Systems/Energy Distribution and Grids/<a href=\"https://github.com/quintel/etmodel.git\">ETM Pro</a>",
          "Emissions/Emission Observation and Modeling/<a href=\"https://github.com/quishqa/PyChEmiss.git\">PyChEmiss</a>",
          "Earth Systems/Biosphere/<a href=\"https://github.com/r-lidar/lidR.git\">lidR</a>",
          "Natural Resources/Soil and Land/<a href=\"https://github.com/r-spatialecology/landscapemetrics.git\">landscapemetrics</a>",
          "Natural Resources/Agriculture and Nutrition/<a href=\"https://github.com/r4ss/r4ss.git\">r4ss</a>",
          "Sustainable Development/Data Catalogs and Interfaces/<a href=\"https://github.com/rOpenGov/eurostat.git\">eurostat R package</a>",
          "Sustainable Development/Data Catalogs and Interfaces/<a href=\"https://github.com/rOpenGov/giscoR.git\">giscoR</a>",
          "Climate and Earth Science/Climate Data Processing and Access/<a href=\"https://github.com/rOpenSpain/climaemet.git\">climaemet</a>",
          "Earth Systems/Hydrosphere/<a href=\"https://github.com/rabernat/intro_to_physical_oceanography.git\">Intro to Physical Oceanography</a>",
          "Sustainable Development/Data Catalogs and Interfaces/<a href=\"https://github.com/radiantearth/radiant-mlhub.git\">Radiant MLHub Python Client</a>",
          "Energy Storage/Battery/<a href=\"https://github.com/rdbraatz/data-driven-prediction-of-battery-cycle-life-before-capacity-degradation.git\">prediction-of-battery-cycle</a>",
          "Earth Systems/Biosphere/<a href=\"https://github.com/red-list-ecosystem/redlistr.git\">redlistr</a>",
          "Energy Systems/Energy Modeling and Optimization/<a href=\"https://github.com/reegis/deflex.git\">deflex</a>",
          "Sustainable Development/Knowledge Platforms/<a href=\"https://github.com/regen-network/regen-ledger.git\">Regen Ledger</a>",
          "Natural Resources/Soil and Land/<a href=\"https://github.com/reginalexavier/OpenLand.git\">OpenLand</a>",
          "Sustainable Development/Sustainable Investment/<a href=\"https://github.com/remindmodel/remind.git\">The REgional Model of INvestments and Development</a>",
          "Renewable Energy/Photovoltaics and Solar Energy/<a href=\"https://github.com/renewables-ninja/gsee.git\">gsee</a>",
          "Sustainable Development/Data Catalogs and Interfaces/<a href=\"https://github.com/resource-watch/resource-watch.git\">Resource Watch</a>",
          "Consumption of Energy and Resources/Computation and Communication/<a href=\"https://github.com/responsibleproblemsolving/energy-usage.git\">energyusage</a>",
          "Earth Systems/Atmosphere/<a href=\"https://github.com/rich-iannone/splitr.git\">splitr</a>",
          "Energy Systems/Energy Modeling and Optimization/<a href=\"https://github.com/rl-institut/multi-vector-simulator.git\">MVS</a>",
          "Energy Systems/Energy Distribution and Grids/<a href=\"https://github.com/rl-institut/offgridders.git\">offgridders</a>",
          "Energy Storage/Battery/<a href=\"https://github.com/rlogiacco/BatterySense.git\">BatterySense</a>",
          "Energy Systems/Energy Distribution and Grids/<a href=\"https://github.com/robinhenry/gym-anm.git\">Gym-ANM</a>",
          "Climate and Earth Science/Radiative Transfer/<a href=\"https://github.com/robintw/Py6S.git\">Py6S</a>",
          "Earth Systems/Hydrosphere/<a href=\"https://github.com/robwschlegel/heatwaveR.git\">heatwaveR</a>",
          "Industrial Ecology/Life Cycle Assessment/<a href=\"https://github.com/romainsacchi/carculator.git\">carculator</a>",
          "Climate and Earth Science/Climate Data Processing and Access/<a href=\"https://github.com/roocs/clisops.git\">clisops</a>",
          "Climate and Earth Science/Climate Data Processing and Access/<a href=\"https://github.com/ropensci/GSODR.git\">GSODR</a>",
          "Sustainable Development/Data Catalogs and Interfaces/<a href=\"https://github.com/ropensci/MODIStsp.git\">MODIStsp</a>",
          "Natural Resources/Soil and Land/<a href=\"https://github.com/ropensci/NLMR.git\">NLMR</a>",
          "Consumption of Energy and Resources/Mobility and Transportation/<a href=\"https://github.com/ropensci/bikedata.git\">bikedata</a>",
          "Climate and Earth Science/Climate Data Processing and Access/<a href=\"https://github.com/ropensci/bomrang.git\">bomrang</a>",
          "Natural Resources/Water Supply and Quality/<a href=\"https://github.com/ropensci/cde.git\">CDE</a>",
          "Climate and Earth Science/Earth and Climate Modeling/<a href=\"https://github.com/ropensci/chirps.git\">chirps</a>",
          "Climate and Earth Science/Climate Data Processing and Access/<a href=\"https://github.com/ropensci/clifro.git\">CliFlo</a>",
          "Energy Systems/Datasets on Energy Systems/<a href=\"https://github.com/ropensci/eia.git\">EIA</a>",
          "Sustainable Development/Data Catalogs and Interfaces/<a href=\"https://github.com/ropensci/epair.git\">epair</a>",
          "Climate and Earth Science/Climate Data Processing and Access/<a href=\"https://github.com/ropensci/getCRUCLdata.git\">getCRUCLdata</a>",
          "Earth Systems/Hydrosphere/<a href=\"https://github.com/ropensci/hydroscoper.git\">hydroscoper</a>",
          "Renewable Energy/Photovoltaics and Solar Energy/<a href=\"https://github.com/ropensci/nasapower.git\">nasapower</a>",
          "Climate and Earth Science/Climate Data Processing and Access/<a href=\"https://github.com/ropensci/prism.git\">PRISM</a>",
          "Natural Resources/Air Quality/<a href=\"https://github.com/ropensci/qualR.git\">qualR</a>",
          "Natural Resources/Air Quality/<a href=\"https://github.com/ropensci/rdefra.git\">rdefra</a>",
          "Earth Systems/Biosphere/<a href=\"https://github.com/ropensci/rebird.git\">rebird</a>",
          "Earth Systems/Biosphere/<a href=\"https://github.com/ropensci/rfishbase.git\">rfishbase</a>",
          "Earth Systems/Biosphere/<a href=\"https://github.com/ropensci/rgbif.git\">rgbif</a>",
          "Earth Systems/Hydrosphere/<a href=\"https://github.com/ropensci/rnoaa.git\">rnoaa</a>",
          "Earth Systems/Biosphere/<a href=\"https://github.com/ropensci/rredlist.git\">rredlist</a>",
          "Earth Systems/Hydrosphere/<a href=\"https://github.com/ropensci/rrricanes.git\">rrricanes</a>",
          "Natural Resources/Soil and Land/<a href=\"https://github.com/ropensci/smapr.git\">smapr</a>",
          "Earth Systems/Biosphere/<a href=\"https://github.com/ropensci/spocc.git\">spocc</a>",
          "Consumption of Energy and Resources/Mobility and Transportation/<a href=\"https://github.com/ropensci/stplanr.git\">stplanr</a>",
          "Earth Systems/Biosphere/<a href=\"https://github.com/ropensci/taxize.git\">taxize</a>",
          "Earth Systems/Hydrosphere/<a href=\"https://github.com/ropensci/tidyhydat.git\">tidyhydat</a>",
          "Climate and Earth Science/Meteorological Observation and Forecast/<a href=\"https://github.com/ropensci/weathercan.git\">weathercan</a>",
          "Energy Systems/Energy Modeling and Optimization/<a href=\"https://github.com/rte-antares-rpackage/antaresRead.git\">antaresRead</a>",
          "Energy Systems/Energy Modeling and Optimization/<a href=\"https://github.com/rte-antares-rpackage/antaresViz.git\">antaresViz</a>",
          "Energy Systems/Energy Distribution and Grids/<a href=\"https://github.com/rte-france/Grid2Op.git\">Grid2Op</a>",
          "Energy Storage/Hydrogen/<a href=\"https://github.com/sandialabs/hyram.git\">The Hydrogen Risk Assessment Models</a>",
          "Industrial Ecology/Circular Economy and Waste/<a href=\"https://github.com/santiago-sanitation-systems/Santiago.jl.git\">Santiago.jl</a>",
          "Renewable Energy/Bioenergy/<a href=\"https://github.com/sashahafner/biogas.git\">biogas</a>",
          "Emissions/Emission Observation and Modeling/<a href=\"https://github.com/satish1901/Methane-detection-from-hyperspectral-imagery.git\">Methane-detection-from-hyperspectral-imagery</a>",
          "Consumption of Energy and Resources/Computation and Communication/<a href=\"https://github.com/sb-ai-lab/Eco2AI.git\">Eco2AI</a>",
          "Natural Resources/Water Supply and Quality/<a href=\"https://github.com/sbegueria/SPEI.git\">SPEI</a>",
          "Consumption of Energy and Resources/Mobility and Transportation/<a href=\"https://github.com/schildbach/public-transport-enabler.git\">Public Transport Enabler</a>",
          "Earth Systems/Hydrosphere/<a href=\"https://github.com/sdl60660/river-runner.git\">River Runner</a>",
          "Natural Resources/Air Quality/<a href=\"https://github.com/sensebox/openSenseMap.git\">openSenseMap</a>",
          "Sustainable Development/Data Catalogs and Interfaces/<a href=\"https://github.com/sentinel-hub/custom-scripts.git\">Custom Scripts Sentinel Hub</a>",
          "Natural Resources/Agriculture and Nutrition/<a href=\"https://github.com/sentinel-hub/field-delineation.git\">Automatic field delineation</a>",
          "Sustainable Development/Data Catalogs and Interfaces/<a href=\"https://github.com/sentinel-hub/sentinelhub-py.git\">sentinelhub-py</a>",
          "Sustainable Development/Data Catalogs and Interfaces/<a href=\"https://github.com/sentinelsat/sentinelsat.git\">sentinelsat</a>",
          "Earth Systems/Biosphere/<a href=\"https://github.com/shmh40/detectreeRGB.git\">detectreeRGB</a>",
          "Natural Resources/Air Quality/<a href=\"https://github.com/shootismoke/mobile-app.git\">shoot-i-smoke</a>",
          "Natural Resources/Air Quality/<a href=\"https://github.com/shuowang-ai/PM2.5-GNN.git\">PM2.5-GNN</a>",
          "Earth Systems/Atmosphere/<a href=\"https://github.com/simonom/PyCHAM.git\">PyCHAM</a>",
          "Emissions/Carbon Intensity and Accounting/<a href=\"https://github.com/singularity-energy/open-grid-emissions.git\">Open Grid Emissions Initiative</a>",
          "Natural Resources/Soil and Land/<a href=\"https://github.com/sinnwerkstatt/landmatrix.git\">Land Matrix</a>",
          "Renewable Energy/Wind Energy/<a href=\"https://github.com/sintel-dev/Draco.git\">GreenGuard</a>",
          "Natural Resources/Agriculture and Nutrition/<a href=\"https://github.com/sizespectrum/mizer.git\">mizer</a>",
          "Natural Resources/Air Quality/<a href=\"https://github.com/skgrange/rmweather.git\">rmweather</a>",
          "Natural Resources/Air Quality/<a href=\"https://github.com/skgrange/saqgetr.git\">saqgetr</a>",
          "Renewable Energy/Photovoltaics and Solar Energy/<a href=\"https://github.com/slacgismo/StatisticalClearSky.git\">StatisticalClearSky</a>",
          "Energy Systems/Energy Modeling and Optimization/<a href=\"https://github.com/slacgismo/TESS.git\">Transactive Energy Service System</a>",
          "Energy Systems/Energy Distribution and Grids/<a href=\"https://github.com/slacgismo/gridlabd.git\">GridLAB-D</a>",
          "Renewable Energy/Photovoltaics and Solar Energy/<a href=\"https://github.com/slacgismo/solar-data-tools.git\">solar-data-tools</a>",
          "Climate and Earth Science/Radiative Transfer/<a href=\"https://github.com/slcs-jsc/jurassic.git\">Juelich Rapid Spectral Simulation Code</a>",
          "Earth Systems/Atmosphere/<a href=\"https://github.com/slcs-jsc/mptrac.git\">Massive-Parallel Trajectory Calculations</a>",
          "Sustainable Development/Data Catalogs and Interfaces/<a href=\"https://github.com/smart-data-models/dataModel.Environment.git\">Smart Data Models</a>",
          "Earth Systems/Cryosphere/<a href=\"https://github.com/smrt-model/smrt.git\">smrt</a>",
          "Energy Storage/Battery/<a href=\"https://github.com/snl-quest/snl-quest.git\">snl-quest</a>",
          "Energy Systems/Energy Modeling and Optimization/<a href=\"https://github.com/sogno-platform/dpsim.git\">DPsim</a>",
          "Earth Systems/Biosphere/<a href=\"https://github.com/sollano/forestmangr.git\">forestmangr</a>",
          "Earth Systems/Atmosphere/<a href=\"https://github.com/space-physics/lowtran.git\">lowtran</a>",
          "Natural Resources/Natural Hazard and Poverty/<a href=\"https://github.com/spaceml-org/ml4floods.git\">ML4Floods</a>",
          "Natural Resources/Air Quality/<a href=\"https://github.com/spatialmodel/inmap.git\">inmap</a>",
          "Renewable Energy/Photovoltaics and Solar Energy/<a href=\"https://github.com/squishykid/solax.git\">solax</a>",
          "Natural Resources/Agriculture and Nutrition/<a href=\"https://github.com/ss3sim/ss3sim.git\">ss3sim</a>",
          "Sustainable Development/Data Catalogs and Interfaces/<a href=\"https://github.com/stac-utils/stac-index.git\">STAC Index</a>",
          "Consumption of Energy and Resources/Mobility and Transportation/<a href=\"https://github.com/steve-community/steve.git\">SteVe</a>",
          "Consumption of Energy and Resources/Mobility and Transportation/<a href=\"https://github.com/streetmix/streetmix.git\">Streetmix</a>",
          "Sustainable Development/Knowledge Platforms/<a href=\"https://github.com/stripe/carbon-removal-source-materials.git\">Stripe Climate Carbon Removal Purchases</a>",
          "Consumption of Energy and Resources/Computation and Communication/<a href=\"https://github.com/sustainable-computing-io/kepler.git\">Kepler</a>",
          "Sustainable Development/Sustainable Development Goals/<a href=\"https://github.com/sustainlab-group/sustainbench.git\">SustainBench</a>",
          "Energy Systems/Energy Modeling and Optimization/<a href=\"https://github.com/switch-model/switch.git\">switch-model</a>",
          "Energy Systems/Datasets on Energy Systems/<a href=\"https://github.com/systemcatch/eiapy.git\">eiapy</a>",
          "Consumption of Energy and Resources/Mobility and Transportation/<a href=\"https://github.com/systragroup/quetzal.git\">Quetzal</a>",
          "Natural Resources/Water Supply and Quality/<a href=\"https://github.com/tbep-tech/wqtrends.git\">wqtrends</a>",
          "Renewable Energy/Photovoltaics and Solar Energy/<a href=\"https://github.com/tdcosim/SolarPV-DER-simulation-tool.git\">SolarPV-DER-simulation-utility</a>",
          "Earth Systems/Biosphere/<a href=\"https://github.com/tdwg/dwc.git\">Darwin Core</a>",
          "Earth Systems/Hydrosphere/<a href=\"https://github.com/team-ocean/veros.git\">Veros</a>",
          "Natural Resources/Soil and Land/<a href=\"https://github.com/techmatters/terraso-backend.git\">Terraso</a>",
          "Earth Systems/Biosphere/<a href=\"https://github.com/technologiestiftung/giessdenkiez-de.git\">Gieß den Kiez</a>",
          "Climate and Earth Science/Radiative Transfer/<a href=\"https://github.com/tenstream/tenstream.git\">Tenstream</a>",
          "Consumption of Energy and Resources/Computation and Communication/<a href=\"https://github.com/thegreenwebfoundation/co2.js.git\">co2.js</a>",
          "Consumption of Energy and Resources/Computation and Communication/<a href=\"https://github.com/thegreenwebfoundation/grid-intensity-go.git\">grid-intensity-go</a>",
          "Energy Systems/Datasets on Energy Systems/<a href=\"https://github.com/thomastu/pyEIA.git\">pyEIA</a>",
          "Earth Systems/Biosphere/<a href=\"https://github.com/tiagodc/TreeLS.git\">TreeLS</a>",
          "Earth Systems/Atmosphere/<a href=\"https://github.com/timduly4/pyglow.git\">pyglow</a>",
          "Natural Resources/Water Supply and Quality/<a href=\"https://github.com/toogad/PooPyLab_Project.git\">PooPyLab_Project</a>",
          "Earth Systems/Biosphere/<a href=\"https://github.com/traitecoevo/plant.git\">plant</a>",
          "Consumption of Energy and Resources/Mobility and Transportation/<a href=\"https://github.com/transitland/transitland-atlas.git\">Transitland</a>",
          "Consumption of Energy and Resources/Buildings and Heating/<a href=\"https://github.com/trynthink/scout.git\">scout</a>",
          "Energy Systems/Energy Modeling and Optimization/<a href=\"https://github.com/tum-ens/pyGRETA.git\">pyGRETA</a>",
          "Energy Systems/Energy Modeling and Optimization/<a href=\"https://github.com/tum-ens/urbs.git\">urbs</a>",
          "Renewable Energy/Wind Energy/<a href=\"https://github.com/turbinesFoam/turbinesFoam.git\">turbinesFoam</a>",
          "Emissions/Emission Observation and Modeling/<a href=\"https://github.com/uataq/X-STILT.git\">X-STILT</a>",
          "Emissions/Emission Observation and Modeling/<a href=\"https://github.com/uataq/stilt.git\">stilt</a>",
          "Consumption of Energy and Resources/Mobility and Transportation/<a href=\"https://github.com/ubahnverleih/WoBike.git\">WoBike</a>",
          "Climate and Earth Science/Earth and Climate Modeling/<a href=\"https://github.com/ubilabs/esa-climate-from-space.git\">esa-climate-from-space</a>",
          "Earth Systems/Biosphere/<a href=\"https://github.com/umr-amap/BIOMASS.git\">BIOMASS</a>",
          "Consumption of Energy and Resources/Mobility and Transportation/<a href=\"https://github.com/upb-lea/gym-electric-motor.git\">Gym Electric Motor</a>",
          "Energy Systems/Energy Distribution and Grids/<a href=\"https://github.com/upb-lea/openmodelica-microgrid-gym.git\">openmodelica-microgrid-gym</a>",
          "Earth Systems/Biosphere/<a href=\"https://github.com/usa-npn/rnpn.git\">rnpn</a>",
          "Natural Resources/Water Supply and Quality/<a href=\"https://github.com/usbr/PyForecast.git\">PyForecast</a>",
          "Sustainable Development/Knowledge Platforms/<a href=\"https://github.com/usds/justice40-tool.git\">Justice40 Tool</a>",
          "Industrial Ecology/Life Cycle Assessment/<a href=\"https://github.com/uslci-admin/uslci-content.git\">uslci-content</a>",
          "Earth Systems/Cryosphere/<a href=\"https://github.com/vannizhang/sea-ice.git\">sea-ice</a>",
          "Consumption of Energy and Resources/Buildings and Heating/<a href=\"https://github.com/volkszaehler/mbmd.git\">ModBus Measurement Daemon</a>",
          "Consumption of Energy and Resources/Buildings and Heating/<a href=\"https://github.com/volkszaehler/volkszaehler.org.git\">volkszaehler.org</a>",
          "Renewable Energy/Geothermal Energy/<a href=\"https://github.com/waiwera/waiwera.git\">waiwera</a>",
          "Natural Resources/Soil and Land/<a href=\"https://github.com/wandb/droughtwatch.git\">droughtwatch</a>",
          "Earth Systems/Biosphere/<a href=\"https://github.com/weecology/DeepForest.git\">DeepForest</a>",
          "Earth Systems/Biosphere/<a href=\"https://github.com/weecology/DeepTreeAttention.git\">DeepTreeAttention</a>",
          "Earth Systems/Biosphere/<a href=\"https://github.com/weecology/NeonTreeEvaluation.git\">NeonTreeEvaluation</a>",
          "Earth Systems/Cryosphere/<a href=\"https://github.com/weiji14/deepbedmap.git\">DeepBedMap</a>",
          "Earth Systems/Cryosphere/<a href=\"https://github.com/weiji14/deepicedrain.git\">DeepIceDrain</a>",
          "Sustainable Development/Sustainable Investment/<a href=\"https://github.com/wikirate/wikirate.git\">WikiRate</a>",
          "Industrial Ecology/Circular Economy and Waste/<a href=\"https://github.com/wimlds-trojmiasto/detect-waste.git\">Detect waste</a>",
          "Renewable Energy/Wind Energy/<a href=\"https://github.com/wind-python/windpowerlib.git\">windpowerlib</a>",
          "Earth Systems/Biosphere/<a href=\"https://github.com/woodcrafty/PyETo.git\">PyETo</a>",
          "Renewable Energy/Geothermal Energy/<a href=\"https://github.com/wouterpeere/GHEtool.git\">GHEtool</a>",
          "Sustainable Development/Data Catalogs and Interfaces/<a href=\"https://github.com/wpgp/wopr.git\">wopr</a>",
          "Climate and Earth Science/Earth and Climate Modeling/<a href=\"https://github.com/wrf-model/WRF.git\">WRF</a>",
          "Earth Systems/Biosphere/<a href=\"https://github.com/wri/carbon-budget.git\">carbon budget</a>",
          "Earth Systems/Biosphere/<a href=\"https://github.com/wri/gfw-mapbuilder.git\">gfw-mapbuilder</a>",
          "Energy Systems/Datasets on Energy Systems/<a href=\"https://github.com/wri/global-power-plant-database.git\">Global Power Plant Database</a>",
          "Earth Systems/Biosphere/<a href=\"https://github.com/wri/sentinel-tree-cover.git\">Sentinel-Tree-Cover</a>",
          "Climate and Earth Science/Climate Data Processing and Access/<a href=\"https://github.com/xCDAT/xcdat.git\">xCDAT</a>",
          "Climate and Earth Science/Climate Data Processing and Access/<a href=\"https://github.com/xarray-contrib/xskillscore.git\">xskillscore</a>",
          "Climate and Earth Science/Earth and Climate Modeling/<a href=\"https://github.com/xgcm/xgcm.git\">xgcm</a>",
          "Natural Resources/Agriculture and Nutrition/<a href=\"https://github.com/zalf-rpm/monica.git\">monica</a>",
          "Climate and Earth Science/Climate Data Processing and Access/<a href=\"https://github.com/zmlabe/IceVarFigs.git\">IceVarFigs</a>",
          "Natural Resources/Agriculture and Nutrition",
          "Natural Resources/Air Quality",
          "Earth Systems/Atmosphere",
          "Energy Storage/Battery",
          "Renewable Energy/Bioenergy",
          "Earth Systems/Biosphere",
          "Consumption of Energy and Resources/Buildings and Heating",
          "Emissions/Carbon Capture and Removal",
          "Emissions/Carbon Intensity and Accounting",
          "Industrial Ecology/Circular Economy and Waste",
          "Climate and Earth Science/Climate Data Processing and Access",
          "Consumption of Energy and Resources/Computation and Communication",
          "Earth Systems/Cryosphere",
          "Sustainable Development/Data Catalogs and Interfaces",
          "Energy Systems/Datasets on Energy Systems",
          "Climate and Earth Science/Earth and Climate Modeling",
          "Emissions/Emission Observation and Modeling",
          "Energy Systems/Energy Distribution and Grids",
          "Energy Systems/Energy Modeling and Optimization",
          "Energy Systems/Energy Monitoring and Control",
          "Renewable Energy/Geothermal Energy",
          "Renewable Energy/Hydro Energy",
          "Energy Storage/Hydrogen",
          "Earth Systems/Hydrosphere",
          "Climate and Earth Science/Integrated Assessment",
          "Sustainable Development/Knowledge Platforms",
          "Industrial Ecology/Life Cycle Assessment",
          "Climate and Earth Science/Meteorological Observation and Forecast",
          "Consumption of Energy and Resources/Mobility and Transportation",
          "Natural Resources/Natural Hazard and Poverty",
          "Renewable Energy/Photovoltaics and Solar Energy",
          "Consumption of Energy and Resources/Production and Industry",
          "Climate and Earth Science/Radiative Transfer",
          "Natural Resources/Soil and Land",
          "Sustainable Development/Sustainable Development Goals",
          "Sustainable Development/Sustainable Investment",
          "Natural Resources/Water Supply and Quality",
          "Renewable Energy/Wind Energy",
          "Climate and Earth Science",
          "Consumption of Energy and Resources",
          "Earth Systems",
          "Emissions",
          "Energy Storage",
          "Energy Systems",
          "Industrial Ecology",
          "Natural Resources",
          "Renewable Energy",
          "Sustainable Development"
         ],
         "insidetextorientation": "radial",
         "labels": [
          "<a href=\"https://github.com/16EAGLE/getSpatialData.git\">getSpatialData</a>",
          "<a href=\"https://github.com/ADGEfficiency/energy-py-linear.git\">energy-py-linear</a>",
          "<a href=\"https://github.com/ADGEfficiency/energy-py.git\">energy-py</a>",
          "<a href=\"https://github.com/AER-RC/LBLRTM.git\">LBLRTM</a>",
          "<a href=\"https://github.com/APSIMInitiative/ApsimX.git\">ApsimX</a>",
          "<a href=\"https://github.com/ARCCSS-extremes/climpact.git\">climpact</a>",
          "<a href=\"https://github.com/ARPA-SIMC/CRITERIA3D.git\">CRITERIA3D</a>",
          "<a href=\"https://github.com/ATFutures/gtfs-router.git\">gtfs-router</a>",
          "<a href=\"https://github.com/AgroCares/Open-Bodem-Index-Calculator.git\">OBI</a>",
          "<a href=\"https://github.com/AguaClara/aguaclara.git\">aguaclara</a>",
          "<a href=\"https://github.com/AntaresSimulatorTeam/Antares_Simulator.git\">Antares Simulator</a>",
          "<a href=\"https://github.com/AquaticEcoDynamics/GLM.git\">The General Lake Model</a>",
          "<a href=\"https://github.com/AquaticEcoDynamics/libaed2.git\">AED2</a>",
          "<a href=\"https://github.com/AustralianAntarcticDivision/blueant.git\">Blueant</a>",
          "<a href=\"https://github.com/BEMRosetta/BEMRosetta.git\">BEMRosetta</a>",
          "<a href=\"https://github.com/BattMoTeam/BattMo.git\">BattMo</a>",
          "<a href=\"https://github.com/BioPAL/BioPAL.git\">BioPAL</a>",
          "<a href=\"https://github.com/BioSTEAMDevelopmentGroup/biosteam.git\">biosteam</a>",
          "<a href=\"https://github.com/Bioverse-Labs/deep-learning.git\">Bioverse Labs</a>",
          "<a href=\"https://github.com/BlinkTagInc/node-gtfs.git\">node-gtfs</a>",
          "<a href=\"https://github.com/Boavizta/environmental-footprint-data.git\">Environmental Footprint Data</a>",
          "<a href=\"https://github.com/Breakend/experiment-impact-tracker.git\">experiment-impact-tracker</a>",
          "<a href=\"https://github.com/BreakingBytes/pvfree.git\">PV Free</a>",
          "<a href=\"https://github.com/Breakthrough-Energy/PowerSimData.git\">PowerSimData</a>",
          "<a href=\"https://github.com/Breakthrough-Energy/REISE.jl.git\">REISE.jl</a>",
          "<a href=\"https://github.com/BrickSchema/Brick.git\">Brick</a>",
          "<a href=\"https://github.com/CCI-Tools/cate.git\">Cate</a>",
          "<a href=\"https://github.com/CCSI-Toolset/FOQUS.git\">FOQUS</a>",
          "<a href=\"https://github.com/CEMPD/SMOKE.git\">SMOKE</a>",
          "<a href=\"https://github.com/CICE-Consortium/CICE.git\">CICE</a>",
          "<a href=\"https://github.com/CICE-Consortium/Icepack.git\">icepack</a>",
          "<a href=\"https://github.com/CLIMADA-project/climada_python.git\">CLIMADA</a>",
          "<a href=\"https://github.com/CMLPlatform/CircuMAT.git\">CircuMat</a>",
          "<a href=\"https://github.com/CMLPlatform/pycirk.git\">pycirk</a>",
          "<a href=\"https://github.com/CMLPlatform/ramascene.git\">RaMa-Scene</a>",
          "<a href=\"https://github.com/CMU-CREATE-Lab/deep-smoke-machine.git\">deep-smoke-machine</a>",
          "<a href=\"https://github.com/CMUSustainability/SDGmapR.git\">SDGmapR</a>",
          "<a href=\"https://github.com/CNES/MAJA.git\">maja</a>",
          "<a href=\"https://github.com/COSIMA/cosima-cookbook.git\">COSIMA</a>",
          "<a href=\"https://github.com/CSHS-CWRA/CSHShydRology.git\">CSHShydRology</a>",
          "<a href=\"https://github.com/CalebBell/thermo.git\">thermo</a>",
          "<a href=\"https://github.com/Call-for-Code/Liquid-Prep.git\">Liquid Prep</a>",
          "<a href=\"https://github.com/CatalogueOfLife/general.git\">The Catalogue of Life</a>",
          "<a href=\"https://github.com/CenterForTheBuiltEnvironment/clima.git\">CBE Clima Tool</a>",
          "<a href=\"https://github.com/CenterForTheBuiltEnvironment/comfort_tool.git\">comfort_tool</a>",
          "<a href=\"https://github.com/CenterForTheBuiltEnvironment/pythermalcomfort.git\">pythermalcomfort</a>",
          "<a href=\"https://github.com/Christiaanvandertol/SCOPE.git\">SCOPE</a>",
          "<a href=\"https://github.com/CliMA/ClimateMachine.jl.git\">ClimateMachine.jl</a>",
          "<a href=\"https://github.com/CliMA/LESbrary.jl.git\">LESbrary.jl</a>",
          "<a href=\"https://github.com/CliMA/Land.git\">CLIMA-Land</a>",
          "<a href=\"https://github.com/CliMA/Oceananigans.jl.git\">Oceananigans.jl</a>",
          "<a href=\"https://github.com/CliMA/RRTMGP.jl.git\">RRTMGP.jl</a>",
          "<a href=\"https://github.com/CliMT/climt.git\">CliMT</a>",
          "<a href=\"https://github.com/ClimateMARGO/ClimateMARGO.jl.git\">ClimateMARGO.jl</a>",
          "<a href=\"https://github.com/ClimateMind/climatemind-backend.git\">Climatemind</a>",
          "<a href=\"https://github.com/ClimateWatch-Vizzuality/climate-watch.git\">Climate Watch</a>",
          "<a href=\"https://github.com/Climdyn/qgs.git\">qgs</a>",
          "<a href=\"https://github.com/ConferenceCarbonTracker/CarbonFootprintEGU.git\">CarbonFootprintEGU</a>",
          "<a href=\"https://github.com/ConservationInternational/resilienceatlas.git\">Resilience Atlas</a>",
          "<a href=\"https://github.com/ConservationInternational/trends.earth.git\">Trends.Earth</a>",
          "<a href=\"https://github.com/CornellLabofOrnithology/auk.git\">auk</a>",
          "<a href=\"https://github.com/CriticalAssetManagement/CAMS.git\">CAMS</a>",
          "<a href=\"https://github.com/DFO-Ocean-Navigator/Ocean-Data-Map-Project.git\">Ocean-Data-Map-Project</a>",
          "<a href=\"https://github.com/DPGAlliance/publicgoods-candidates.git\">Digital Public Goods</a>",
          "<a href=\"https://github.com/DS3Lab/forest-prediction.git\">forest-prediction</a>",
          "<a href=\"https://github.com/DSSAT/dssat-csm-os.git\">DSSAT Cropping System Model</a>",
          "<a href=\"https://github.com/Deltares/Wflow.jl.git\">Wflow</a>",
          "<a href=\"https://github.com/DemandRegioTeam/disaggregator.git\">disaggregator</a>",
          "<a href=\"https://github.com/DrafProject/draf.git\">draf</a>",
          "<a href=\"https://github.com/DrafProject/elmada.git\">elmada</a>",
          "<a href=\"https://github.com/DrylandEcology/SOILWAT2.git\">SOILWAT2</a>",
          "<a href=\"https://github.com/E3SM-Project/E3SM.git\">E3SM</a>",
          "<a href=\"https://github.com/E3SM-Project/e3sm_diags.git\">E3SM Diagnostics Package</a>",
          "<a href=\"https://github.com/E3SM-Project/gdess.git\">GDESS</a>",
          "<a href=\"https://github.com/E3SM-Project/scream.git\">SCREAM</a>",
          "<a href=\"https://github.com/ECCC-ASTD-MRD/gem.git\">The Global Environmental Multiscale Model</a>",
          "<a href=\"https://github.com/ECCO-GROUP/ECCO-v4-Python-Tutorial.git\">ECCO-v4-Python-Tutorial</a>",
          "<a href=\"https://github.com/ECSHackWeek/impedance.py.git\">impedance.py</a>",
          "<a href=\"https://github.com/ECSIM/gopem.git\">gopem</a>",
          "<a href=\"https://github.com/ECSIM/opem.git\">OPEM</a>",
          "<a href=\"https://github.com/ECSIM/pem-dataset1.git\">pem-dataset1</a>",
          "<a href=\"https://github.com/EDF-Lab/BuildSysPro.git\">BuildSysPro</a>",
          "<a href=\"https://github.com/ESCOMP/CESM.git\">The Community Earth System Model</a>",
          "<a href=\"https://github.com/ESCOMP/CMEPS.git\">CMEPS</a>",
          "<a href=\"https://github.com/ESGF/esgf-pyclient.git\">ESGF PyClient</a>",
          "<a href=\"https://github.com/ESIPFed/LakePy.git\">LakePy</a>",
          "<a href=\"https://github.com/ESIPFed/sweet.git\">SWEET</a>",
          "<a href=\"https://github.com/ESMG/pyroms.git\">pyroms</a>",
          "<a href=\"https://github.com/ESMValGroup/ESMValTool.git\">ESMValTool</a>",
          "<a href=\"https://github.com/EVNotify/EVNotify.git\">EVNotify</a>",
          "<a href=\"https://github.com/EVerest/EVerest.git\">EVerest</a>",
          "<a href=\"https://github.com/EarthSystemDiagnostics/sedproxy.git\">sedproxy</a>",
          "<a href=\"https://github.com/Ecohackerfarm/powerplant.git\">powerplant</a>",
          "<a href=\"https://github.com/EcologicalSemantics/ecocore.git\">ecoCore</a>",
          "<a href=\"https://github.com/EcotopeResearch/HPWHsim.git\">HPWHsim</a>",
          "<a href=\"https://github.com/Ecotrust/forestplanner.git\">Forest Scenario Planner</a>",
          "<a href=\"https://github.com/EduardoFernandezC/dormancyR.git\">dormancyR</a>",
          "<a href=\"https://github.com/ElektrikAkar/3d_milp.git\">3d_milp</a>",
          "<a href=\"https://github.com/EnergieID/entsoe-py.git\">entsoe-py</a>",
          "<a href=\"https://github.com/Energy-Sparks/energy-sparks.git\">energy-sparks</a>",
          "<a href=\"https://github.com/EnergyInnovation/eps-us.git\">Energy Policy Simulator</a>",
          "<a href=\"https://github.com/EnergyTransition/ESDL.git\">ESDL</a>",
          "<a href=\"https://github.com/EnviroDIY/ModularSensors.git\">ModularSensors</a>",
          "<a href=\"https://github.com/EnvironmentOntology/envo.git\">ENVO</a>",
          "<a href=\"https://github.com/Exawind/amr-wind.git\">amr-wind</a>",
          "<a href=\"https://github.com/Exawind/nalu-wind.git\">nalu-wind</a>",
          "<a href=\"https://github.com/ExeClim/Isca.git\">Isca</a>",
          "<a href=\"https://github.com/FLARE-forecast/FLAREr.git\">FLAREr</a>",
          "<a href=\"https://github.com/FZJ-IEK3-VSA/FINE.git\">FINE</a>",
          "<a href=\"https://github.com/FZJ-IEK3-VSA/HiSim.git\">HiSim</a>",
          "<a href=\"https://github.com/FZJ-IEK3-VSA/LoadProfileGenerator.git\">LoadProfileGenerator</a>",
          "<a href=\"https://github.com/FZJ-IEK3-VSA/tsam.git\">tsam</a>",
          "<a href=\"https://github.com/FarmBot/Farmbot-Web-App.git\">Farmbot</a>",
          "<a href=\"https://github.com/FlexMeasures/flexmeasures.git\">FlexMeasures</a>",
          "<a href=\"https://github.com/FlexiGIS/FlexiGIS.git\">FlexiGIS</a>",
          "<a href=\"https://github.com/GClunies/noaa_coops.git\">noaa_coops</a>",
          "<a href=\"https://github.com/GEOSX/GEOSX.git\">GEOSX</a>",
          "<a href=\"https://github.com/GEUS-Glaciology-and-Climate/freshwater.git\">freshwater</a>",
          "<a href=\"https://github.com/GIS4WRF/gis4wrf.git\">gis4wrf</a>",
          "<a href=\"https://github.com/GMLC-TDC/HELICS.git\">Hierarchical Engine for Large-scale Infrastructure Co-Simulation</a>",
          "<a href=\"https://github.com/GSA/sdg-indicators-usa.git\">US Sustainable Development Goal indicators</a>",
          "<a href=\"https://github.com/GenXProject/GenX.git\">GenX</a>",
          "<a href=\"https://github.com/GoogleCloudPlatform/region-carbon-info.git\">Carbon free energy for Google Cloud regions</a>",
          "<a href=\"https://github.com/GralDispersionModel/GRAL.git\">GRAL</a>",
          "<a href=\"https://github.com/GranthamImperial/silicone.git\">Silicone</a>",
          "<a href=\"https://github.com/Green-Software-Foundation/software_carbon_intensity.git\">Software Carbon Intensity Specification</a>",
          "<a href=\"https://github.com/GreenDelta/olca-app.git\">OpenLCA</a>",
          "<a href=\"https://github.com/GreenDelta/openlca-python-tutorial.git\">openlca-python-tutorial</a>",
          "<a href=\"https://github.com/Greenstand/treetracker-android.git\">Treetracker</a>",
          "<a href=\"https://github.com/GreenswayAB/BIRDS.git\">BIRDS</a>",
          "<a href=\"https://github.com/GridMod/RTS-GMLC.git\">RTS-GMLC</a>",
          "<a href=\"https://github.com/Growstuff/growstuff.git\">Growstuff</a>",
          "<a href=\"https://github.com/HIT2GAP-EU-PROJECT/bemserver.git\">BEMServer</a>",
          "<a href=\"https://github.com/HabitatMap/AirCasting.git\">AirCasting</a>",
          "<a href=\"https://github.com/HotMaps/Hotmaps-toolbox-service.git\">Hotmaps</a>",
          "<a href=\"https://github.com/IAMconsortium/pyam.git\">pyam</a>",
          "<a href=\"https://github.com/IBM/rl-testbed-for-energyplus.git\">rl-testbed-for-energyplus</a>",
          "<a href=\"https://github.com/ICOS-Carbon-Portal/pylib.git\">Integrated Carbon Observation System</a>",
          "<a href=\"https://github.com/IDAES/idaes-pse.git\">The IDAES Toolkit</a>",
          "<a href=\"https://github.com/IEA-Task-43/digital_wra_data_standard.git\">digital_wra_data_standard</a>",
          "<a href=\"https://github.com/IEAWindTask37/IEA-15-240-RWT.git\">IEA-15-240-RWT</a>",
          "<a href=\"https://github.com/IIT-EnergySystemModels/openTEPES.git\">openTEPES</a>",
          "<a href=\"https://github.com/IPCC-WG1/Chapter-9.git\">IPCC AR6 Chapter 9 Figures</a>",
          "<a href=\"https://github.com/ISRICWorldSoil/SoilGrids250m.git\">SoilGrids250m</a>",
          "<a href=\"https://github.com/ITSLeeds/pct.git\">PCT</a>",
          "<a href=\"https://github.com/ImperialCollegeLondon/sharpy.git\">SHARPy</a>",
          "<a href=\"https://github.com/International-Soil-Radiocarbon-Database/ISRaD.git\">ISRaD</a>",
          "<a href=\"https://github.com/InverseTampere/TreeQSM.git\">TreeQSM</a>",
          "<a href=\"https://github.com/JGCRI/CEDS.git\">The Community Emissions Data System</a>",
          "<a href=\"https://github.com/JGCRI/gcam-core.git\">GCAM</a>",
          "<a href=\"https://github.com/JGCRI/hector.git\">hector</a>",
          "<a href=\"https://github.com/JGCRI/rfasst.git\">rfasst</a>",
          "<a href=\"https://github.com/JRCSTU/CO2MPAS-TA.git\">CO2MPAS-TA</a>",
          "<a href=\"https://github.com/Joel-hanson/Iceberg-locations.git\">Iceberg Locations</a>",
          "<a href=\"https://github.com/JokeNetwork/vegancheck.me.git\">VeganCheck.me</a>",
          "<a href=\"https://github.com/JuliaClimate/ClimateBase.jl.git\">ClimateBase.jl</a>",
          "<a href=\"https://github.com/JuliaClimate/ClimateTools.jl.git\">ClimateTools.jl</a>",
          "<a href=\"https://github.com/JuliaDataCubes/EarthDataLab.jl.git\">EarthDataLab.jl</a>",
          "<a href=\"https://github.com/JuliaEnergy/PowerDynamics.jl.git\">PowerDynamics.jl</a>",
          "<a href=\"https://github.com/JuliaOcean/AIBECS.jl.git\">AIBECS.jl</a>",
          "<a href=\"https://github.com/JuliaOcean/PlanktonIndividuals.jl.git\">PlanktonIndividuals.jl</a>",
          "<a href=\"https://github.com/KKulma/intensegRid.git\">intensegRid</a>",
          "<a href=\"https://github.com/LBL-EESA/TECA.git\">TECA</a>",
          "<a href=\"https://github.com/LBNL-ETA/MSWH.git\">Multiscale Solar Water Heating</a>",
          "<a href=\"https://github.com/LBNL-UCB-STI/beam.git\">BEAM</a>",
          "<a href=\"https://github.com/Libbum/DICE.jl.git\">DICE.jl</a>",
          "<a href=\"https://github.com/LibreSolar/bms-firmware.git\">LibreSolar</a>",
          "<a href=\"https://github.com/LibreSolar/charge-controller-firmware.git\">Charge Controller Firmware</a>",
          "<a href=\"https://github.com/Lkruitwagen/global-fossil-fuel-supply-chain.git\">Global Coal, Oil, and Gas Supply Chains</a>",
          "<a href=\"https://github.com/Lkruitwagen/solar-pv-global-inventory.git\">A Global Inventory of Photovoltaic</a>",
          "<a href=\"https://github.com/MAAP-Project/maap-documentation.git\">MAAP</a>",
          "<a href=\"https://github.com/MATPOWER/matpower.git\">matpower</a>",
          "<a href=\"https://github.com/MHKiT-Software/MHKiT-Python.git\">MHKiT-Python</a>",
          "<a href=\"https://github.com/MITgcm/MITgcm.git\">MITgcm</a>",
          "<a href=\"https://github.com/MODFLOW-USGS/modflow6.git\">modflow6</a>",
          "<a href=\"https://github.com/MPAS-Dev/MPAS-Analysis.git\">MPAS-Analysis</a>",
          "<a href=\"https://github.com/MPAS-Dev/MPAS-Model.git\">MPAS</a>",
          "<a href=\"https://github.com/MaREI-EPMG/times-ireland-model.git\">TIMES-Ireland Model</a>",
          "<a href=\"https://github.com/MassimoCimmino/pygfunction.git\">pygfunction</a>",
          "<a href=\"https://github.com/Matt-Brigida/EIAdata.git\">EIAdata</a>",
          "<a href=\"https://github.com/MetOffice/forest.git\">forest</a>",
          "<a href=\"https://github.com/MoBiodiv/mobr.git\">mobr</a>",
          "<a href=\"https://github.com/MobilityData/gbfs.git\">gbfs</a>",
          "<a href=\"https://github.com/Mohid-Water-Modelling-System/MOHID-Lagrangian.git\">MOHID-Lagrangian</a>",
          "<a href=\"https://github.com/Mohid-Water-Modelling-System/Mohid.git\">Mohid</a>",
          "<a href=\"https://github.com/NCAR/VAPOR.git\">VAPOR</a>",
          "<a href=\"https://github.com/NCAR/ccpp-physics.git\">ccpp-physics</a>",
          "<a href=\"https://github.com/NCAR/icar.git\">ICAR</a>",
          "<a href=\"https://github.com/NCAR/ncl.git\">NCL</a>",
          "<a href=\"https://github.com/NCAR/wrf-python.git\">wrf-python</a>",
          "<a href=\"https://github.com/NCAR/wrf_hydro_nwm_public.git\">WRF-Hydro</a>",
          "<a href=\"https://github.com/NCAS-CMS/cf-python.git\">cf-python</a>",
          "<a href=\"https://github.com/NGEET/fates.git\">FATES</a>",
          "<a href=\"https://github.com/NMF-earth/nmf-app.git\">NMF.earth app</a>",
          "<a href=\"https://github.com/NOAA-EDAB/ecodata.git\">ecodata</a>",
          "<a href=\"https://github.com/NOAA-EMC/global-workflow.git\">global-workflow</a>",
          "<a href=\"https://github.com/NOAA-GFDL/FMS.git\">The Flexible Modeling System</a>",
          "<a href=\"https://github.com/NOAA-GFDL/MDTF-diagnostics.git\">MDTF-diagnostics</a>",
          "<a href=\"https://github.com/NOAA-GFDL/MOM6.git\">MOM6</a>",
          "<a href=\"https://github.com/NOAA-GFDL/SIS2.git\">SIS2</a>",
          "<a href=\"https://github.com/NOAA-ORR-ERD/PyGnome.git\">PyGnome</a>",
          "<a href=\"https://github.com/NOAA-OWP/inundation-mapping.git\">Cahaba</a>",
          "<a href=\"https://github.com/NOAA-OWP/ngen.git\">Next Gen Water Modeling Framework</a>",
          "<a href=\"https://github.com/NOAA-OWP/t-route.git\">Tree-based Inland Hydraulic Routing Project</a>",
          "<a href=\"https://github.com/NOAA-PMEL/Ferret.git\">Ferret</a>",
          "<a href=\"https://github.com/NOAAGov/NOAA-Affiliated-Projects.git\">NOAA-Affiliated-Projects</a>",
          "<a href=\"https://github.com/NRCan/CanFlood.git\">CanFlood</a>",
          "<a href=\"https://github.com/NREL-SIIP/HydroPowerSimulations.jl.git\">HydroPowerSimulations.jl</a>",
          "<a href=\"https://github.com/NREL-SIIP/InfrastructureSystems.jl.git\">InfrastructureSystems.jl</a>",
          "<a href=\"https://github.com/NREL-SIIP/PowerSimulations.jl.git\">PowerSimulations.jl</a>",
          "<a href=\"https://github.com/NREL-SIIP/PowerSystems.jl.git\">PowerSystems.jl</a>",
          "<a href=\"https://github.com/NREL/EnergyPlus.git\">EnergyPlus</a>",
          "<a href=\"https://github.com/NREL/NRWAL.git\">NRWAL</a>",
          "<a href=\"https://github.com/NREL/OpenOA.git\">OpenOA</a>",
          "<a href=\"https://github.com/NREL/OpenStudio-ERI.git\">OpenStudio-ERI</a>",
          "<a href=\"https://github.com/NREL/OpenStudio-HPXML.git\">OpenStudio-HPXML</a>",
          "<a href=\"https://github.com/NREL/OpenStudio.git\">OpenStudio</a>",
          "<a href=\"https://github.com/NREL/PV_ICE.git\">PV_ICE</a>",
          "<a href=\"https://github.com/NREL/REopt_API.git\">REopt_Lite_API</a>",
          "<a href=\"https://github.com/NREL/ROSCO.git\">ROSCO</a>",
          "<a href=\"https://github.com/NREL/SAM.git\">System Advisor Model</a>",
          "<a href=\"https://github.com/NREL/SolTrace.git\">SolTrace</a>",
          "<a href=\"https://github.com/NREL/SolarPILOT.git\">SolarPILOT</a>",
          "<a href=\"https://github.com/NREL/WindSE.git\">WindSE</a>",
          "<a href=\"https://github.com/NREL/bifacial_radiance.git\">bifacial_radiance</a>",
          "<a href=\"https://github.com/NREL/bifacialvf.git\">bifacialvf</a>",
          "<a href=\"https://github.com/NREL/dgen.git\">dGen</a>",
          "<a href=\"https://github.com/NREL/floris.git\">floris</a>",
          "<a href=\"https://github.com/NREL/hescore-hpxml.git\">HPXML to Home Energy Score Translator</a>",
          "<a href=\"https://github.com/NREL/rdtools.git\">rdtools</a>",
          "<a href=\"https://github.com/NREL/reV.git\">reV</a>",
          "<a href=\"https://github.com/NREL/reVX.git\">reVX</a>",
          "<a href=\"https://github.com/NREL/resstock.git\">resstock</a>",
          "<a href=\"https://github.com/NREL/ssc.git\">SSC</a>",
          "<a href=\"https://github.com/NREL/sup3r.git\">sup3r</a>",
          "<a href=\"https://github.com/NorESMhub/BLOM.git\">Bergen Layered Ocean Model</a>",
          "<a href=\"https://github.com/NorESMhub/NorESM.git\">NorESM</a>",
          "<a href=\"https://github.com/Novarizark/easy-era5-trck.git\">Easy-ERA5-Trck</a>",
          "<a href=\"https://github.com/OGGM/oggm.git\">OGGM</a>",
          "<a href=\"https://github.com/ONEARMY/precious-plastic.git\">ONEARMY</a>",
          "<a href=\"https://github.com/OSGP/open-smart-grid-platform.git\">Open Smart Grid Platform</a>",
          "<a href=\"https://github.com/OSOceanAcoustics/echopype.git\">Echopype</a>",
          "<a href=\"https://github.com/OSUKED/ETS-Watch.git\">ETS-Watch</a>",
          "<a href=\"https://github.com/OSUKED/ElexonDataPortal.git\">ElexonDataPortal</a>",
          "<a href=\"https://github.com/OSUKED/Power-Station-Dictionary.git\">Power Station Dictionary</a>",
          "<a href=\"https://github.com/OasisLMF/OasisLMF.git\">OasisLMF</a>",
          "<a href=\"https://github.com/OasisLMF/OasisPiWind.git\">OasisPiWind</a>",
          "<a href=\"https://github.com/OceanParcels/parcels.git\">parcels</a>",
          "<a href=\"https://github.com/OnSSET/onsset.git\">onsset</a>",
          "<a href=\"https://github.com/OneBusAway/onebusaway-android.git\">OneBusAway</a>",
          "<a href=\"https://github.com/Open-EO/openeo-python-client.git\">openEO</a>",
          "<a href=\"https://github.com/Open-ET/openet-ssebop.git\">OpenET</a>",
          "<a href=\"https://github.com/Open-MSS/MSS.git\">Mission Support System</a>",
          "<a href=\"https://github.com/OpenCarbonWatch/Website.git\">Open Carbon Watch</a>",
          "<a href=\"https://github.com/OpenChargingCloud/ChargyDesktopApp.git\">ChargyDesktopApp</a>",
          "<a href=\"https://github.com/OpenChargingCloud/WWCP_Core.git\">WWCP_Core</a>",
          "<a href=\"https://github.com/OpenChargingCloud/WWCP_OCPP.git\">WWCP_OCPP</a>",
          "<a href=\"https://github.com/OpenDrift/opendrift.git\">OpenDrift</a>",
          "<a href=\"https://github.com/OpenEMS/openems.git\">OpenEMS</a>",
          "<a href=\"https://github.com/OpenEVSE/ESP8266_WiFi_v2.x.git\">OpenEVSE WiFi gateway</a>",
          "<a href=\"https://github.com/OpenEVSE/open_evse.git\">OpenEVSE</a>",
          "<a href=\"https://github.com/OpenEnergyPlatform/oeplatform.git\">Open Energy Platform</a>",
          "<a href=\"https://github.com/OpenEnergyPlatform/ontology.git\">The Open Energy Ontology</a>",
          "<a href=\"https://github.com/OpenEnergyPlatform/open-MaStR.git\">open-MaStR</a>",
          "<a href=\"https://github.com/OpenFAST/openfast.git\">openfast</a>",
          "<a href=\"https://github.com/OpenFLUID/openfluid.git\">OpenFLUID</a>",
          "<a href=\"https://github.com/OpenIPSL/OpenIPSL.git\">OpenIPSL</a>",
          "<a href=\"https://github.com/OpenLitterMap/openlittermap-web.git\">OpenLitterMap</a>",
          "<a href=\"https://github.com/OpenMDAO/OpenMDAO.git\">OpenMDAO</a>",
          "<a href=\"https://github.com/OpenModelica/OpenModelica.git\">OpenModelica</a>",
          "<a href=\"https://github.com/OpenSTEF/openstef.git\">OpenSTEF</a>",
          "<a href=\"https://github.com/OpenSimHub/OpenHPL.git\">OpenHPL</a>",
          "<a href=\"https://github.com/OpenTreeMap/otm-core.git\">OpenTreeMap</a>",
          "<a href=\"https://github.com/OpenWaterAnalytics/EPANET.git\">EPANET</a>",
          "<a href=\"https://github.com/OpenWaterAnalytics/pyswmm.git\">pyswmm</a>",
          "<a href=\"https://github.com/Organic-Basics/ob-low-impact-website.git\">The Low Impact Website</a>",
          "<a href=\"https://github.com/Ouranosinc/miranda.git\">Miranda</a>",
          "<a href=\"https://github.com/Ouranosinc/raven.git\">Raven</a>",
          "<a href=\"https://github.com/Ouranosinc/xclim.git\">xclim</a>",
          "<a href=\"https://github.com/Ozon3Org/Ozon3.git\">Ozone</a>",
          "<a href=\"https://github.com/PCMDI/cmor.git\">Climate Model Output Rewriter</a>",
          "<a href=\"https://github.com/PSUmodeling/Cycles.git\">Cycles</a>",
          "<a href=\"https://github.com/PecanProject/bety.git\">BETYdb</a>",
          "<a href=\"https://github.com/PecanProject/pecan.git\">PEcAn</a>",
          "<a href=\"https://github.com/PennyHow/PyTrx.git\">PyTrx</a>",
          "<a href=\"https://github.com/PerovskiteSCModelling/IonMonger.git\">IonMonger</a>",
          "<a href=\"https://github.com/PierrickP/multicycles.git\">multicycles</a>",
          "<a href=\"https://github.com/Plant-for-the-Planet-org/treecounter-app.git\">Plant-for-the-Planet</a>",
          "<a href=\"https://github.com/Plant-for-the-Planet-org/treemapper.git\">Tree Mapper App</a>",
          "<a href=\"https://github.com/PowerGenome/PowerGenome.git\">PowerGenome</a>",
          "<a href=\"https://github.com/ProjectDrawdown/solutions.git\">ProjectDrawdown</a>",
          "<a href=\"https://github.com/PyPSA/PyPSA.git\">PyPSA</a>",
          "<a href=\"https://github.com/PyPSA/atlite.git\">atlite</a>",
          "<a href=\"https://github.com/PyPSA/powerplantmatching.git\">powerplantmatching</a>",
          "<a href=\"https://github.com/PyPSA/pypsa-eur-sec.git\">PyPSA-Eur-Sec</a>",
          "<a href=\"https://github.com/PyPSA/pypsa-eur.git\">PyPSA-Eur</a>",
          "<a href=\"https://github.com/PyPSA/technology-data.git\">Energy System Technology Data</a>",
          "<a href=\"https://github.com/PyPSA/whobs-server.git\">whobs-server</a>",
          "<a href=\"https://github.com/QGEP/QGEP.git\">QGEP</a>",
          "<a href=\"https://github.com/QSD-Group/QSDsan.git\">QSDsan</a>",
          "<a href=\"https://github.com/RAJohansen/waterquality.git\">waterquality</a>",
          "<a href=\"https://github.com/RAMP-project/RAMP-mobility.git\">RAMP-mobility</a>",
          "<a href=\"https://github.com/RAMP-project/RAMP.git\">RAMP</a>",
          "<a href=\"https://github.com/RE-Lab-Projects/hplib.git\">hplib</a>",
          "<a href=\"https://github.com/RHESSys/RHESSys.git\">RHESSys</a>",
          "<a href=\"https://github.com/RWTH-EBC/AixLib.git\">AixLib</a>",
          "<a href=\"https://github.com/RWTH-EBC/TEASER.git\">TEASER</a>",
          "<a href=\"https://github.com/RamiKrispin/USelectricity.git\">USelectricity</a>",
          "<a href=\"https://github.com/RaphaelPB/WHAT-IF.git\">WHAT-IF</a>",
          "<a href=\"https://github.com/RemoteSensingTools/vSmartMOM.jl.git\">RadiativeTransfer.jl</a>",
          "<a href=\"https://github.com/RentadroneCL/Photovoltaic_Fault_Detector.git\">Photovoltaic_Fault_Detector</a>",
          "<a href=\"https://github.com/Ribbit-Network/ribbit-network-frog-sensor.git\">Ribbit Network Frog Sensor</a>",
          "<a href=\"https://github.com/SAP/emobility-smart-charging.git\">emobility-smart-charging</a>",
          "<a href=\"https://github.com/SEED-platform/seed.git\">SEED</a>",
          "<a href=\"https://github.com/SERVIR/ClimateSERV2.git\">ClimateSERV</a>",
          "<a href=\"https://github.com/SERVIR/ClimateSERVpy.git\">ClimateSERVpy</a>",
          "<a href=\"https://github.com/SKrisanski/FSCT.git\">Forest Structural Complexity Tool</a>",
          "<a href=\"https://github.com/SNL-WaterPower/CACTUS.git\">CACTUS</a>",
          "<a href=\"https://github.com/SNL-WaterPower/WecOptTool.git\">WecOptTool</a>",
          "<a href=\"https://github.com/STS-Rosario/carpoolear.git\">Carpoolear</a>",
          "<a href=\"https://github.com/Safecast/safecastapi.git\">Safecast</a>",
          "<a href=\"https://github.com/Samuel-Buteau/universal-battery-database.git\">universal-battery-database</a>",
          "<a href=\"https://github.com/SanPen/GridCal.git\">GridCal</a>",
          "<a href=\"https://github.com/SantanderMetGroup/ATLAS.git\">ATLAS</a>",
          "<a href=\"https://github.com/SantanderMetGroup/DeepDownscaling.git\">DeepDownscaling</a>",
          "<a href=\"https://github.com/SantanderMetGroup/climate4R.git\">climate4R</a>",
          "<a href=\"https://github.com/SantanderMetGroup/downscaleR.git\">downscaleR</a>",
          "<a href=\"https://github.com/SantanderMetGroup/loadeR.git\">loadeR</a>",
          "<a href=\"https://github.com/SciTools/iris.git\">Iris</a>",
          "<a href=\"https://github.com/ScienceBasedTargets/SBTi-finance-tool.git\">SBTi Temperature Alignment tool</a>",
          "<a href=\"https://github.com/Servir-Mekong/hydra-floods.git\">HYDRAFloods</a>",
          "<a href=\"https://github.com/ShellRechargeSolutionsEU/docile-charge-point.git\">docile-charge-point</a>",
          "<a href=\"https://github.com/Shyentist/fish-r-man.git\">fishRman</a>",
          "<a href=\"https://github.com/SmartEVSE/smartevse.git\">SmartEVSE</a>",
          "<a href=\"https://github.com/SmartTensors/GeoThermalCloud.jl.git\">GeoThermalCloud.jl</a>",
          "<a href=\"https://github.com/SoilWatch/soil-erosion-watch.git\">Soil Erosion Watch</a>",
          "<a href=\"https://github.com/SolarArbiter/solarforecastarbiter-core.git\">Solar Forecast Arbiter</a>",
          "<a href=\"https://github.com/SolarTherm/SolarTherm.git\">SolarTherm</a>",
          "<a href=\"https://github.com/SpeciesFileGroup/taxonworks.git\">TaxonWorks</a>",
          "<a href=\"https://github.com/Spine-project/Spine-Toolbox.git\">Spine-Toolbox</a>",
          "<a href=\"https://github.com/SunPower/PVMismatch.git\">PVMismatch</a>",
          "<a href=\"https://github.com/SunPower/pvfactors.git\">pvfactors</a>",
          "<a href=\"https://github.com/SwitchEV/RISE-V2G.git\">RISE-V2G</a>",
          "<a href=\"https://github.com/TEB-model/teb.git\">teb</a>",
          "<a href=\"https://github.com/TRI-AMDD/beep.git\">beep</a>",
          "<a href=\"https://github.com/TUW-GEO/esa_cci_sm.git\">esa_cci_sm</a>",
          "<a href=\"https://github.com/TUW-GEO/ismn.git\">ismn</a>",
          "<a href=\"https://github.com/TUW-GEO/pytesmo.git\">pytesmo</a>",
          "<a href=\"https://github.com/TemoaProject/oeo.git\">Open Energy Outlook</a>",
          "<a href=\"https://github.com/TemoaProject/temoa.git\">Temoa</a>",
          "<a href=\"https://github.com/Thales1330/PSP.git\">PSP-UFU</a>",
          "<a href=\"https://github.com/TheOceanCleanupAlgorithms/ADVECT.git\">ADVECTOR</a>",
          "<a href=\"https://github.com/Total-RD/pymgrid.git\">pymgrid</a>",
          "<a href=\"https://github.com/UMN-Hydro/GSFLOW-GRASS.git\">GSFLOW-GRASS</a>",
          "<a href=\"https://github.com/UNSW-CEEM/nempy.git\">nempy</a>",
          "<a href=\"https://github.com/USEPA/AMET.git\">AMET</a>",
          "<a href=\"https://github.com/USEPA/Air-Trends-Report.git\">Air-Trends-Report</a>",
          "<a href=\"https://github.com/USEPA/CMAQ.git\">CMAQ</a>",
          "<a href=\"https://github.com/USEPA/ElectricityLCI.git\">Electricity Life Cycle Inventory</a>",
          "<a href=\"https://github.com/USEPA/Federal-LCA-Commons-Elementary-Flow-List.git\">fedelemflowlist</a>",
          "<a href=\"https://github.com/USEPA/RAQSAPI.git\">RAQSAPI</a>",
          "<a href=\"https://github.com/USEPA/Stormwater-Management-Model.git\">Stormwater-Management-Model</a>",
          "<a href=\"https://github.com/USEPA/TADA.git\">TADA</a>",
          "<a href=\"https://github.com/USEPA/WNTR.git\">Water Network Tool for Resilience</a>",
          "<a href=\"https://github.com/USEPA/useeior.git\">useeior</a>",
          "<a href=\"https://github.com/USGS-R/EGRET.git\">EGRET</a>",
          "<a href=\"https://github.com/USGS-R/HASP.git\">HASP</a>",
          "<a href=\"https://github.com/USGS-R/dataRetrieval.git\">dataRetrieval</a>",
          "<a href=\"https://github.com/USGS-R/nhdplusTools.git\">nhdplusTools</a>",
          "<a href=\"https://github.com/USGS-R/river-dl.git\">river-dl</a>",
          "<a href=\"https://github.com/USGS-python/dataretrieval.git\">dataretrieval</a>",
          "<a href=\"https://github.com/UU-Hydro/PCR-GLOBWB_model.git\">PCR-GLOBWB_model</a>",
          "<a href=\"https://github.com/UW-Hydro/MetSim.git\">MetSim</a>",
          "<a href=\"https://github.com/UW-Hydro/VIC.git\">VIC</a>",
          "<a href=\"https://github.com/UdK-VPT/BuildingSystems.git\">BuildingSystems</a>",
          "<a href=\"https://github.com/Unidata/MetPy.git\">MetPy</a>",
          "<a href=\"https://github.com/Unidata/awips2.git\">AWIPS</a>",
          "<a href=\"https://github.com/Unidata/netcdf-c.git\">netcdf-c</a>",
          "<a href=\"https://github.com/Unidata/netcdf-fortran.git\">netcdf-fortran</a>",
          "<a href=\"https://github.com/Unidata/netcdf4-python.git\">netcdf-python</a>",
          "<a href=\"https://github.com/Unidata/siphon.git\">Siphon</a>",
          "<a href=\"https://github.com/Universite-Gustave-Eiffel/NoiseCapture.git\">NoiseCapture</a>",
          "<a href=\"https://github.com/Universite-Gustave-Eiffel/NoiseModelling.git\">NoiseModelling</a>",
          "<a href=\"https://github.com/VIAME/VIAME.git\">VIAME</a>",
          "<a href=\"https://github.com/VOLTTRON/volttron.git\">VOLTTRON</a>",
          "<a href=\"https://github.com/VeinsOfTheEarth/RivGraph.git\">RivGraph</a>",
          "<a href=\"https://github.com/VeruGHub/easyclimate.git\">easyclimate</a>",
          "<a href=\"https://github.com/Virtual-FCS/VirtualFCS.git\">VirtualFCS</a>",
          "<a href=\"https://github.com/Vizzuality/gfw.git\">Global Forest Watch</a>",
          "<a href=\"https://github.com/Vizzuality/soils-revealed.git\">soils-revealed</a>",
          "<a href=\"https://github.com/Vizzuality/trase.git\">Trase</a>",
          "<a href=\"https://github.com/WEC-Sim/WEC-Sim.git\">WEC-Sim</a>",
          "<a href=\"https://github.com/WFP-VAM/prism-app.git\">PRISM</a>",
          "<a href=\"https://github.com/WISDEM/LandBOSSE.git\">LandBOSSE</a>",
          "<a href=\"https://github.com/WISDEM/ORBIT.git\">ORBIT</a>",
          "<a href=\"https://github.com/WISDEM/WEIS.git\">WEIS</a>",
          "<a href=\"https://github.com/WISDEM/WISDEM.git\">WISDEM</a>",
          "<a href=\"https://github.com/WISDEM/WOMBAT.git\">WOMBAT</a>",
          "<a href=\"https://github.com/WMD-group/CarrierCapture.jl.git\">CarrierCapture.jl</a>",
          "<a href=\"https://github.com/WSWUP/pymetric.git\">pyMETRIC</a>",
          "<a href=\"https://github.com/WWF-Deutschland/marine-plastic-explorer.git\">Global Plastic Navigator</a>",
          "<a href=\"https://github.com/WikiWatershed/model-my-watershed.git\">Model My Watershed</a>",
          "<a href=\"https://github.com/WildMeOrg/Wildbook.git\">Wildbook</a>",
          "<a href=\"https://github.com/YingyiLiu/HAMS.git\">HAMS</a>",
          "<a href=\"https://github.com/Yuanchao-Xu/gfer.git\">gfer</a>",
          "<a href=\"https://github.com/Yuanchao-Xu/hyfo.git\">hyfo</a>",
          "<a href=\"https://github.com/a-b-street/abstreet.git\">A/B Street</a>",
          "<a href=\"https://github.com/aaronspring/remote_climate_data.git\">remote_climate_data</a>",
          "<a href=\"https://github.com/acircleda/footprint.git\">footprint</a>",
          "<a href=\"https://github.com/adokter/bioRad.git\">bioRad</a>",
          "<a href=\"https://github.com/ajwdewit/pcse.git\">PCSE</a>",
          "<a href=\"https://github.com/alan-turing-institute/monitoring-ecosystem-resilience.git\">monitoring-ecosystem-resilience</a>",
          "<a href=\"https://github.com/allisonhorst/palmerpenguins.git\">palmerpenguins</a>",
          "<a href=\"https://github.com/andmos/BikeshareClient.git\">BikeshareClient</a>",
          "<a href=\"https://github.com/andrew-plowright/ForestTools.git\">ForestTools</a>",
          "<a href=\"https://github.com/apburt/treeseg.git\">treeseg</a>",
          "<a href=\"https://github.com/aqualinkorg/aqualink-app.git\">Aqualink</a>",
          "<a href=\"https://github.com/arbrandt/OPGEE.git\">OPGEE</a>",
          "<a href=\"https://github.com/architecture-building-systems/CityEnergyAnalyst.git\">City Energy Analyst</a>",
          "<a href=\"https://github.com/atmoschem/EmissV.git\">EmissV</a>",
          "<a href=\"https://github.com/atmoschem/eixport.git\">eixport</a>",
          "<a href=\"https://github.com/atmtools/arts.git\">ARTS</a>",
          "<a href=\"https://github.com/audunarn/ANYstructure.git\">ANYstructure</a>",
          "<a href=\"https://github.com/awebox/awebox.git\">awebox</a>",
          "<a href=\"https://github.com/badlands-model/badlands.git\">Badlands</a>",
          "<a href=\"https://github.com/balmorelcommunity/Balmorel.git\">Balmorel</a>",
          "<a href=\"https://github.com/battery-lcf/batteryarchive.git\">Battery Archive</a>",
          "<a href=\"https://github.com/bcgov/bcgroundwater.git\">bcgroundwater</a>",
          "<a href=\"https://github.com/bcgov/canwqdata.git\">canwqdata</a>",
          "<a href=\"https://github.com/bcgov/fasstr.git\">fasstr</a>",
          "<a href=\"https://github.com/bcgov/ghg-emissions-indicator.git\">ghg emissions indicator</a>",
          "<a href=\"https://github.com/bcgov/groundwater-levels-indicator.git\">Long-term Trends in Groundwater Levels in B.C.</a>",
          "<a href=\"https://github.com/bcgov/gwells.git\">gwells</a>",
          "<a href=\"https://github.com/bcgov/wps.git\">Wildfire Predictive Services</a>",
          "<a href=\"https://github.com/bcgov/wqbc.git\">wqbc</a>",
          "<a href=\"https://github.com/bczernecki/climate.git\">climate</a>",
          "<a href=\"https://github.com/beijbom/coralnet.git\">CoralNet</a>",
          "<a href=\"https://github.com/bi0m3trics/spanner.git\">spanner</a>",
          "<a href=\"https://github.com/bigladder/kiva.git\">Kiva</a>",
          "<a href=\"https://github.com/bikeindex/bike_index.git\">Bike Index</a>",
          "<a href=\"https://github.com/bje-/NEMO.git\">NEMO</a>",
          "<a href=\"https://github.com/blue-marble/gridpath.git\">GridPath</a>",
          "<a href=\"https://github.com/bluegreen-labs/ecmwfr.git\">ecmwfr</a>",
          "<a href=\"https://github.com/bluegreen-labs/phenocamr.git\">phenocamr</a>",
          "<a href=\"https://github.com/boshek/rsoi.git\">rsoi</a>",
          "<a href=\"https://github.com/bpbond/cosore.git\">cosore</a>",
          "<a href=\"https://github.com/bpbond/srdb.git\">srdb</a>",
          "<a href=\"https://github.com/brightway-lca/brightway2.git\">brightway2</a>",
          "<a href=\"https://github.com/brightwind-dev/brightwind.git\">brightwind</a>",
          "<a href=\"https://github.com/brry/rdwd.git\">rdwd</a>",
          "<a href=\"https://github.com/bullocke/coded.git\">CODED</a>",
          "<a href=\"https://github.com/byrd-polar/fluid-earth.git\">Fluid Earth</a>",
          "<a href=\"https://github.com/calliope-project/calliope.git\">Calliope</a>",
          "<a href=\"https://github.com/calliope-project/euro-calliope.git\">Euro-Calliope</a>",
          "<a href=\"https://github.com/capytaine/capytaine.git\">Capytaine</a>",
          "<a href=\"https://github.com/carbonalyser/Carbonalyser.git\">Carbonalyser</a>",
          "<a href=\"https://github.com/carbonplan/cdr-database.git\">Carbon Dioxide Removal Database</a>",
          "<a href=\"https://github.com/carbonplan/cmip6-downscaling.git\">cmip6-downscaling</a>",
          "<a href=\"https://github.com/carbonplan/forest-risks.git\">forest-risks</a>",
          "<a href=\"https://github.com/carlos-alberto-silva/rGEDI.git\">rGEDI</a>",
          "<a href=\"https://github.com/catalyst-cooperative/pudl.git\">The Public Utility Data Liberation Project</a>",
          "<a href=\"https://github.com/cdmuir/photosynthesis.git\">photosynthesis</a>",
          "<a href=\"https://github.com/cerfacs-globc/icclim.git\">icclim</a>",
          "<a href=\"https://github.com/cf-convention/cf-conventions.git\">cf-conventions</a>",
          "<a href=\"https://github.com/chadagreene/BedMachine.git\">BedMachine</a>",
          "<a href=\"https://github.com/chargeprice/open-ev-data.git\">open-ev-data</a>",
          "<a href=\"https://github.com/charxie/multiphysics.git\">multiphysics</a>",
          "<a href=\"https://github.com/chrisleaman/py-wave-runup.git\">py-wave-runup</a>",
          "<a href=\"https://github.com/chrisroadmap/climateforcing.git\">climateforcing</a>",
          "<a href=\"https://github.com/circularfashion/cf-circularity-id-standard.git\">circularity.ID Open Data Standard</a>",
          "<a href=\"https://github.com/cityflow-project/CityFlow.git\">CityFlow</a>",
          "<a href=\"https://github.com/climatiq/Open-Emission-Factors-DB.git\">Open-Emission-Factors-DB</a>",
          "<a href=\"https://github.com/climlab/climlab.git\">climlab</a>",
          "<a href=\"https://github.com/cloud-carbon-footprint/cloud-carbon-footprint.git\">Cloud Carbon Footprint</a>",
          "<a href=\"https://github.com/cloudtostreet/MODIS_GlobalFloodDatabase.git\">Global Flood Database Scripts & Data</a>",
          "<a href=\"https://github.com/cnumr/ecoCode.git\">ecoCode</a>",
          "<a href=\"https://github.com/codeforboston/safe-water.git\">The Safe Water Project</a>",
          "<a href=\"https://github.com/com-pas/compas-architecture.git\">CoMPAS</a>",
          "<a href=\"https://github.com/coopcycle/coopcycle-web.git\">CoopCycle</a>",
          "<a href=\"https://github.com/cordmaur/WaterDetect.git\">WaterDetect</a>",
          "<a href=\"https://github.com/cortinah/hockeystick.git\">hockeystick</a>",
          "<a href=\"https://github.com/cristianst85/GeoNuclearData.git\">GeoNuclearData</a>",
          "<a href=\"https://github.com/cryotools/cosipy.git\">cosipy</a>",
          "<a href=\"https://github.com/csdms/pymt.git\">pymt</a>",
          "<a href=\"https://github.com/csyhuang/hn2016_falwa.git\">hn2016_falwa</a>",
          "<a href=\"https://github.com/cuihantao/andes.git\">ANDES</a>",
          "<a href=\"https://github.com/cyclestreets/cyclestreets-r.git\">cyclestreets</a>",
          "<a href=\"https://github.com/cyclosm/cyclosm-cartocss-style.git\">CyclOSM</a>",
          "<a href=\"https://github.com/d-wasserman/Complete_Street_Rule.git\">Complete_Street_Rule</a>",
          "<a href=\"https://github.com/dalesteam/dales.git\">DALES</a>",
          "<a href=\"https://github.com/danforthcenter/plantcv.git\">PlantCV</a>",
          "<a href=\"https://github.com/danjulio/MPPT-Solar-Charger.git\">MPPT-Solar-Charger</a>",
          "<a href=\"https://github.com/dankelley/oce.git\">oce</a>",
          "<a href=\"https://github.com/dataforgoodfr/batch7_satellite_ges.git\">oco2peak</a>",
          "<a href=\"https://github.com/davidcarslaw/openair.git\">openair</a>",
          "<a href=\"https://github.com/davidhowey/SLIDE.git\">SLIDE</a>",
          "<a href=\"https://github.com/deepsphere/deepsphere-pytorch.git\">DeepSphere</a>",
          "<a href=\"https://github.com/derevirn/renewcast.git\">Renewcast</a>",
          "<a href=\"https://github.com/digitalearthafrica/deafrica-sandbox-notebooks.git\">Digital Earth Africa Notebooks</a>",
          "<a href=\"https://github.com/diowa/icare.git\">icare</a>",
          "<a href=\"https://github.com/dl4sits/BreizhCrops.git\">BreizhCrops</a>",
          "<a href=\"https://github.com/dos-group/leaf.git\">LEAF</a>",
          "<a href=\"https://github.com/dpinney/omf.git\">Open Modeling Framework</a>",
          "<a href=\"https://github.com/dsmrreader/dsmr-reader.git\">DSMR-reader</a>",
          "<a href=\"https://github.com/dsr-18/long-live-the-battery.git\">long-live-the-battery</a>",
          "<a href=\"https://github.com/dwulff/text2sdg.git\">text2sdg</a>",
          "<a href=\"https://github.com/e-sensing/sits.git\">SITS</a>",
          "<a href=\"https://github.com/e2nIEE/pandapipes.git\">pandapipes</a>",
          "<a href=\"https://github.com/e2nIEE/simbench.git\">SimBench</a>",
          "<a href=\"https://github.com/eMapR/LT-GEE.git\">LT-GEE</a>",
          "<a href=\"https://github.com/eWaterCycle/ewatercycle.git\">eWaterCycle</a>",
          "<a href=\"https://github.com/earth-system-radiation/rte-rrtmgp.git\">RTE+RRTMGP</a>",
          "<a href=\"https://github.com/earthlab/firedpy.git\">FIREDpy</a>",
          "<a href=\"https://github.com/earthobservations/wetterdienst.git\">wetterdienst</a>",
          "<a href=\"https://github.com/ebranlard/welib.git\">welib</a>",
          "<a href=\"https://github.com/ec-jrc/lisflood-code.git\">LISFLOOD</a>",
          "<a href=\"https://github.com/ecjoliver/marineHeatWaves.git\">marineHeatWaves</a>",
          "<a href=\"https://github.com/ecmwf-ifs/ecrad.git\">ECRAD</a>",
          "<a href=\"https://github.com/ecmwf-projects/thermofeel.git\">Thermofeel</a>",
          "<a href=\"https://github.com/ecmwf/atlas.git\">atlas</a>",
          "<a href=\"https://github.com/ecmwf/caliver.git\">caliver</a>",
          "<a href=\"https://github.com/ecmwf/cdsapi.git\">cdsapi</a>",
          "<a href=\"https://github.com/ecmwf/cfgrib.git\">cfgrib</a>",
          "<a href=\"https://github.com/ecmwf/climetlab.git\">climetlab</a>",
          "<a href=\"https://github.com/ecmwf/ecmwf-opendata.git\">ecmwf-opendata</a>",
          "<a href=\"https://github.com/eco-hydro/phenofit.git\">phenofit</a>",
          "<a href=\"https://github.com/ed-hawkins/rainfall-rescue.git\">RainfallRescue</a>",
          "<a href=\"https://github.com/eea/geonetwork-eea.git\">EEA geospatial data catalogue</a>",
          "<a href=\"https://github.com/electricitymaps/electricitymaps-contrib.git\">Electricity Maps</a>",
          "<a href=\"https://github.com/eliocamp/metR.git\">metR</a>",
          "<a href=\"https://github.com/emissions-api/emissions-api.git\">emissions-api</a>",
          "<a href=\"https://github.com/emoncms/emoncms.git\">Emoncms</a>",
          "<a href=\"https://github.com/enechange/EnergyDataSimulationChallenge.git\">EnergyDataSimulationChallenge</a>",
          "<a href=\"https://github.com/energy-modelling-toolkit/Dispa-SET.git\">Dispa-SET</a>",
          "<a href=\"https://github.com/energy-modelling-toolkit/hydro-power-database.git\">hydro-power-database</a>",
          "<a href=\"https://github.com/energyRt/energyRt.git\">energyRt</a>",
          "<a href=\"https://github.com/energywebfoundation/origin.git\">origin</a>",
          "<a href=\"https://github.com/enviroCar/enviroCar-app.git\">enviroCar</a>",
          "<a href=\"https://github.com/epri-dev/StorageVET.git\">StorageVET</a>",
          "<a href=\"https://github.com/eradiate/eradiate.git\">Eradiate</a>",
          "<a href=\"https://github.com/eskerda/pybikes.git\">pybikes</a>",
          "<a href=\"https://github.com/esmf-org/esmf.git\">ESMF</a>",
          "<a href=\"https://github.com/esowc/ml_drought.git\">ml_drought</a>",
          "<a href=\"https://github.com/euroargodev/argopy.git\">argopy</a>",
          "<a href=\"https://github.com/evcc-io/evcc.git\">EVCC</a>",
          "<a href=\"https://github.com/fdetsch/MODIS.git\">MODIS</a>",
          "<a href=\"https://github.com/felixriese/CNN-SoilTextureClassification.git\">CNN-SoilTextureClassification</a>",
          "<a href=\"https://github.com/fineprint-global/fabio.git\">FABIO</a>",
          "<a href=\"https://github.com/fineprint-global/forbio.git\">FORBIO</a>",
          "<a href=\"https://github.com/fishR-Core-Team/FSA.git\">Fisheries Stock Assessment</a>",
          "<a href=\"https://github.com/fishR-Core-Team/RFishBC.git\">RFishBC</a>",
          "<a href=\"https://github.com/fnemina/pyOSOAA.git\">pyOSOAA</a>",
          "<a href=\"https://github.com/forc-db/ForC.git\">Forest Carbon database</a>",
          "<a href=\"https://github.com/forc-db/GROA.git\">Global Reforestation Opportunity Assessment</a>",
          "<a href=\"https://github.com/forestgeo/Climate.git\">ForestGEO</a>",
          "<a href=\"https://github.com/fossilfuelregistry/portal-v2.git\">The Global Registry of Fossil Fuels</a>",
          "<a href=\"https://github.com/fund-model/MimiFUND.jl.git\">MimiFUND.jl</a>",
          "<a href=\"https://github.com/fvaleye/tracarbon.git\">Tracarbon</a>",
          "<a href=\"https://github.com/gaelforget/ClimateModels.jl.git\">ClimateModels.jl</a>",
          "<a href=\"https://github.com/garythung/trashnet.git\">trashnet</a>",
          "<a href=\"https://github.com/geocryology/globsim.git\">globsim</a>",
          "<a href=\"https://github.com/geodynamics/selen.git\">SELEN</a>",
          "<a href=\"https://github.com/geoschem/gcpy.git\">gcpy</a>",
          "<a href=\"https://github.com/geoschem/geos-chem.git\">GEOS-Chem</a>",
          "<a href=\"https://github.com/ghislainv/forestatrisk-tropics.git\">forestatrisk</a>",
          "<a href=\"https://github.com/ghislainv/forestatrisk.git\">forestatrisk</a>",
          "<a href=\"https://github.com/global-hydrodynamics/CaMa-Flood_v4.git\">CaMa</a>",
          "<a href=\"https://github.com/globalbioticinteractions/globalbioticinteractions.git\">Global Biotic Interactions</a>",
          "<a href=\"https://github.com/goat-community/goat.git\">goat</a>",
          "<a href=\"https://github.com/google-research/ARCO-ERA5.git\">Analysis-Ready, Cloud Optimized ERA5</a>",
          "<a href=\"https://github.com/google/transitfeed.git\">transitfeed</a>",
          "<a href=\"https://github.com/google/weather-tools.git\">weather-tools</a>",
          "<a href=\"https://github.com/gotm-model/code.git\">GOTM</a>",
          "<a href=\"https://github.com/greensoftwarelab/Energy-Languages.git\">Energy-Languages</a>",
          "<a href=\"https://github.com/grid-parity-exchange/Egret.git\">Egret</a>",
          "<a href=\"https://github.com/gridsingularity/gsy-e.git\">Grid Singularity Energy Exchange Engine (D3A)</a>",
          "<a href=\"https://github.com/grote/Transportr.git\">Transportr</a>",
          "<a href=\"https://github.com/grote/osm2gtfs.git\">osm2gtfs</a>",
          "<a href=\"https://github.com/gsoh/VED.git\">Vehicle Energy Dataset</a>",
          "<a href=\"https://github.com/h5netcdf/h5netcdf.git\">h5netcdf</a>",
          "<a href=\"https://github.com/hainegroup/oceanspy.git\">OceanSpy</a>",
          "<a href=\"https://github.com/hectornieto/pyTSEB.git\">pyTSEB</a>",
          "<a href=\"https://github.com/hmontazeri/is-vegan.git\">Is-Vegan</a>",
          "<a href=\"https://github.com/hollorol/AgroMo.git\">AgroMo</a>",
          "<a href=\"https://github.com/hongyuanjia/eplusr.git\">eplusr</a>",
          "<a href=\"https://github.com/hove-io/navitia.git\">navitia</a>",
          "<a href=\"https://github.com/hpxmlwg/hpxml.git\">hpxml</a>",
          "<a href=\"https://github.com/hsbay/cdrmex.git\">CDRMEx</a>",
          "<a href=\"https://github.com/hubblo-org/scaphandre.git\">Scaphandre</a>",
          "<a href=\"https://github.com/hunter-stanke/rFIA.git\">rFIA</a>",
          "<a href=\"https://github.com/hydroshare/hydroshare.git\">HydroShare</a>",
          "<a href=\"https://github.com/hyriver/hyriver.github.io.git\">HyRiver</a>",
          "<a href=\"https://github.com/iat-cener/tonatiuh.git\">Tonatiuh</a>",
          "<a href=\"https://github.com/ibpsa/modelica-ibpsa.git\">modelica-ibpsa</a>",
          "<a href=\"https://github.com/ibpsa/project1-boptest-gym.git\">BOPTEST-Gym</a>",
          "<a href=\"https://github.com/ibpsa/project1-boptest.git\">BOPTEST</a>",
          "<a href=\"https://github.com/ibpsa/project1.git\">project1</a>",
          "<a href=\"https://github.com/icesat2py/icepyx.git\">icepyx</a>",
          "<a href=\"https://github.com/ideas-lab-nus/epwshiftr.git\">epwshiftr</a>",
          "<a href=\"https://github.com/ie3-institute/PowerSystemDataModel.git\">PowerSystemDataModel</a>",
          "<a href=\"https://github.com/ie3-institute/simona.git\">SIMONA</a>",
          "<a href=\"https://github.com/iiasa/CWatM.git\">CWatM</a>",
          "<a href=\"https://github.com/iiasa/ENGAGE-netzero-analysis.git\">ENGAGE</a>",
          "<a href=\"https://github.com/iiasa/message_ix.git\">MESSAGEix</a>",
          "<a href=\"https://github.com/inasafe/inasafe.git\">InaSAFE</a>",
          "<a href=\"https://github.com/inaturalist/inaturalist.git\">iNaturalist</a>",
          "<a href=\"https://github.com/intake/intake-esm.git\">Intake-esm</a>",
          "<a href=\"https://github.com/intelligent-environments-lab/CityLearn.git\">CityLearn</a>",
          "<a href=\"https://github.com/iobis/robis.git\">robis</a>",
          "<a href=\"https://github.com/jamesorr/CO2SYS-MATLAB.git\">CO2SYS</a>",
          "<a href=\"https://github.com/jawache/principles-green.git\">Principles of Green Software Engineering</a>",
          "<a href=\"https://github.com/jbferet/biodivMapR.git\">biodivMapR</a>",
          "<a href=\"https://github.com/jblindsay/whitebox-tools.git\">WhiteboxTools</a>",
          "<a href=\"https://github.com/jdechalendar/gridemissions.git\">gridemissions</a>",
          "<a href=\"https://github.com/jeffreyevans/spatialEco.git\">spatialEco</a>",
          "<a href=\"https://github.com/jepegit/cellpy.git\">cellpy</a>",
          "<a href=\"https://github.com/jmcook1186/biosnicar-py.git\">BioSNICAR</a>",
          "<a href=\"https://github.com/jneme910/CART.git\">CART</a>",
          "<a href=\"https://github.com/jnsebgosselin/gwhat.git\">GWHAT</a>",
          "<a href=\"https://github.com/johan12345/EVMap.git\">EVMap</a>",
          "<a href=\"https://github.com/jpgattuso/seacarb-git.git\">seacarb</a>",
          "<a href=\"https://github.com/jrester/tesla_powerwall.git\">tesla_powerwall</a>",
          "<a href=\"https://github.com/jsta/nhdR.git\">nhdR</a>",
          "<a href=\"https://github.com/jsynowiec/airqmon.git\">airqmon</a>",
          "<a href=\"https://github.com/kLabUM/pystorms.git\">pystorms</a>",
          "<a href=\"https://github.com/kansoapp/carbonfact-models.git\">Carbonfact Models</a>",
          "<a href=\"https://github.com/kapadia/usgs.git\">USGS</a>",
          "<a href=\"https://github.com/karrot-dev/karrot-frontend.git\">Karrot</a>",
          "<a href=\"https://github.com/karthikraja95/fsdl_deforestation_detection.git\">FSDL Deforestation Detection</a>",
          "<a href=\"https://github.com/kazulagi/plantFEM.git\">plantFEM</a>",
          "<a href=\"https://github.com/kbaranko/peaky-finders.git\">Peaky Finders</a>",
          "<a href=\"https://github.com/kdmayer/3D-PV-Locator.git\">PV4GER</a>",
          "<a href=\"https://github.com/kmax12/gridstatus.git\">isodata</a>",
          "<a href=\"https://github.com/konstantinstadler/pymrio.git\">pymrio</a>",
          "<a href=\"https://github.com/krisrs1128/glacier_mapping.git\">Glacier Mapping From Satellite Imagery</a>",
          "<a href=\"https://github.com/kube-green/kube-green.git\">kube-green</a>",
          "<a href=\"https://github.com/kwstat/agridat.git\">Agridat</a>",
          "<a href=\"https://github.com/kylemcdonald/ethereum-nft-activity.git\">cryptoart-footprint</a>",
          "<a href=\"https://github.com/kylemcdonald/ethereum-nft-activity.git\">ethereum-nft-activity</a>",
          "<a href=\"https://github.com/ladybug-tools/dragonfly-legacy.git\">Dragonfly for Grasshopper</a>",
          "<a href=\"https://github.com/ladybug-tools/honeybee.git\">honeybee</a>",
          "<a href=\"https://github.com/ladybug-tools/uwg.git\">Urban Weather Generator</a>",
          "<a href=\"https://github.com/landlab/landlab.git\">Landlab</a>",
          "<a href=\"https://github.com/lanl-ansi/GasModels.jl.git\">GasModels.jl</a>",
          "<a href=\"https://github.com/lanl-ansi/PowerModels.jl.git\">PowerModels.jl</a>",
          "<a href=\"https://github.com/lanl-ansi/PowerModelsAnnex.jl.git\">PowerModelsAnnex.jl</a>",
          "<a href=\"https://github.com/lanl-ansi/WaterModels.jl.git\">WaterModels.jl</a>",
          "<a href=\"https://github.com/lanl/FEHM.git\">FEHM</a>",
          "<a href=\"https://github.com/lbl-srg/MPCPy.git\">MPCPy</a>",
          "<a href=\"https://github.com/lbl-srg/modelica-buildings.git\">Modelica Buildings library</a>",
          "<a href=\"https://github.com/lbl-srg/obc.git\">obc</a>",
          "<a href=\"https://github.com/leonardgoeke/AnyMOD.jl.git\">AnyMOD.jl</a>",
          "<a href=\"https://github.com/lf-energy/lfenergy-landscape.git\">Linux Foundation Energy Landscape</a>",
          "<a href=\"https://github.com/lionsimbatoolbox/LIONSIMBA.git\">LIONSIMBA</a>",
          "<a href=\"https://github.com/ltrr-arizona-edu/burnr.git\">burnr</a>",
          "<a href=\"https://github.com/m4rz910/NYISOToolkit.git\">NYISOToolkit</a>",
          "<a href=\"https://github.com/maasglobal/maas-schemas.git\">MaaS Global</a>",
          "<a href=\"https://github.com/magpiemodel/magpie.git\">MAgPIE</a>",
          "<a href=\"https://github.com/mainmatter/breethe-server.git\">breethe-server</a>",
          "<a href=\"https://github.com/maja601/EuroCrops.git\">EuroCrops</a>",
          "<a href=\"https://github.com/mapme-initiative/mapme.biodiversity.git\">mapme.biodiversity</a>",
          "<a href=\"https://github.com/marine-debris/marine-debris.github.io.git\">MARIDA</a>",
          "<a href=\"https://github.com/marlinarnz/quetzal_germany.git\">quetzal_germany</a>",
          "<a href=\"https://github.com/marmelab/argos.git\">argos</a>",
          "<a href=\"https://github.com/martibosch/detectree.git\">DetecTree</a>",
          "<a href=\"https://github.com/martibosch/pylandstats.git\">PyLandStats</a>",
          "<a href=\"https://github.com/mathworks/Fuel-Cell-Vehicle-Model-Simscape.git\">Vehicle with Fuel Cell Powertrain</a>",
          "<a href=\"https://github.com/mathworks/climatedatastore.git\">Climate Data Store Toolbox for MATLAB</a>",
          "<a href=\"https://github.com/mdbartos/pipedream.git\">pipedream</a>",
          "<a href=\"https://github.com/mdbartos/pysheds.git\">pysheds</a>",
          "<a href=\"https://github.com/mdolab/openconcept.git\">OpenConcept</a>",
          "<a href=\"https://github.com/meltaxa/solariot.git\">solariot</a>",
          "<a href=\"https://github.com/meom-group/CDFTOOLS.git\">CDFTOOLS</a>",
          "<a href=\"https://github.com/meteoinfo/MeteoInfo.git\">MeteoInfo</a>",
          "<a href=\"https://github.com/meteostat/meteostat-python.git\">Meteostat Python</a>",
          "<a href=\"https://github.com/metno/emep-ctm.git\">Open Source EMEP MSC-W model</a>",
          "<a href=\"https://github.com/metno/esd.git\">esd</a>",
          "<a href=\"https://github.com/microsoft/AIforEarthDataSets.git\">AI for Earth Data Sets</a>",
          "<a href=\"https://github.com/microsoft/PlanetaryComputerDataCatalog.git\">Planetary Computer Data Catalog</a>",
          "<a href=\"https://github.com/microsoft/aerial_wildlife_detection.git\">Annotation Interface for Data-driven Ecology</a>",
          "<a href=\"https://github.com/mikejohnson51/climateR.git\">climateR</a>",
          "<a href=\"https://github.com/milankl/FlyingClimate.git\">FlyingClimate</a>",
          "<a href=\"https://github.com/mjucker/MiMA.git\">MiMA</a>",
          "<a href=\"https://github.com/mkoohafkan/rivr.git\">rivr</a>",
          "<a href=\"https://github.com/mlco2/codecarbon.git\">CodeCarbon</a>",
          "<a href=\"https://github.com/mlco2/impact.git\">impact</a>",
          "<a href=\"https://github.com/mmb-carb/ESTA.git\">ESTA</a>",
          "<a href=\"https://github.com/mobilityhouse/ocpp.git\">ocpp</a>",
          "<a href=\"https://github.com/modflowpy/flopy.git\">flopy</a>",
          "<a href=\"https://github.com/moja-global/About_moja_global.git\">Full Lands INtegration Tool</a>",
          "<a href=\"https://github.com/mom-ocean/MOM5.git\">MOM5</a>",
          "<a href=\"https://github.com/monocongo/climate_indices.git\">Climate_Indices</a>",
          "<a href=\"https://github.com/morkro/happy-plants.git\">HappyPlants</a>",
          "<a href=\"https://github.com/mroberge/hydrofunctions.git\">HydroFunctions</a>",
          "<a href=\"https://github.com/mszell/bikenwgrowth.git\">Growing Urban Bicycle Networks</a>",
          "<a href=\"https://github.com/mudpi/mudpi-core.git\">MudPi</a>",
          "<a href=\"https://github.com/mvdh7/PyCO2SYS.git\">PyCO2SYS</a>",
          "<a href=\"https://github.com/mysociety/caps.git\">Climate Action Plans</a>",
          "<a href=\"https://github.com/mzelinka/cmip56_forcing_feedback_ecs.git\">cmip56_forcing_feedback_ecs</a>",
          "<a href=\"https://github.com/nansencenter/sea_ice_drift.git\">Sea ice drift</a>",
          "<a href=\"https://github.com/nasa-jpl/captoolkit.git\">captoolkit</a>",
          "<a href=\"https://github.com/nasa/NASAaccess.git\">NASAaccess</a>",
          "<a href=\"https://github.com/nasa/earthdata-search.git\">Earthdata Search</a>",
          "<a href=\"https://github.com/nasaharvest/cropharvest.git\">CropHarvest</a>",
          "<a href=\"https://github.com/natcap/invest.git\">Integrated Valuation of Ecosystem Services and Tradeoffs</a>",
          "<a href=\"https://github.com/nco/nco.git\">NCO</a>",
          "<a href=\"https://github.com/nco/pynco.git\">pynco</a>",
          "<a href=\"https://github.com/ncss-tech/aqp.git\">AQP</a>",
          "<a href=\"https://github.com/ncss-tech/sharpshootR.git\">sharpshootR</a>",
          "<a href=\"https://github.com/ncss-tech/soilDB.git\">soilDB</a>",
          "<a href=\"https://github.com/ncss-tech/soilReports.git\">soilReports</a>",
          "<a href=\"https://github.com/neuralhydrology/neuralhydrology.git\">NeuralHydrology</a>",
          "<a href=\"https://github.com/niclasmattsson/GlobalEnergyGIS.git\">GlobalEnergyGIS</a>",
          "<a href=\"https://github.com/nilmtk/nilmtk.git\">NILM</a>",
          "<a href=\"https://github.com/nmstreethran/WindTurbineClassification.git\">WindTurbineClassification</a>",
          "<a href=\"https://github.com/nsidc/earthdata.git\">earthdata</a>",
          "<a href=\"https://github.com/nsidc/qgreenland.git\">QGreenland</a>",
          "<a href=\"https://github.com/oceanflux-ghg/FluxEngine.git\">FluxEngine</a>",
          "<a href=\"https://github.com/oceanmodeling/StormEvents.git\">StormEvents</a>",
          "<a href=\"https://github.com/oemof/DHNx.git\">DHNx</a>",
          "<a href=\"https://github.com/oemof/demandlib.git\">demandlib</a>",
          "<a href=\"https://github.com/oemof/feedinlib.git\">feedinlib</a>",
          "<a href=\"https://github.com/oemof/oemof-solph.git\">oemof-solph</a>",
          "<a href=\"https://github.com/oemof/oemof-thermal.git\">oemof-thermal</a>",
          "<a href=\"https://github.com/oemof/oemof.git\">oemof</a>",
          "<a href=\"https://github.com/oemof/tespy.git\">tespy</a>",
          "<a href=\"https://github.com/offgridsystems/Documents.git\">offgridsystems</a>",
          "<a href=\"https://github.com/oie-mines-paristech/lca_algebraic.git\">lca_algebraic</a>",
          "<a href=\"https://github.com/onaci/leaflet-velocity.git\">leaflet-velocity</a>",
          "<a href=\"https://github.com/open-ideas/IDEAS.git\">IDEAS</a>",
          "<a href=\"https://github.com/open-ideas/StROBe.git\">StROBe</a>",
          "<a href=\"https://github.com/open-meteo/open-meteo.git\">Open-Meteo</a>",
          "<a href=\"https://github.com/open-sdg/open-sdg.git\">open-sdg</a>",
          "<a href=\"https://github.com/openENTRANCE/openentrance.git\">openENTRANCE</a>",
          "<a href=\"https://github.com/openaq/openaq-api-v2.git\">OpenAQ API Version 2</a>",
          "<a href=\"https://github.com/openaq/openaq-fetch.git\">OpenAQ Data Ingest Pipeline</a>",
          "<a href=\"https://github.com/openchargemap/ocm-system.git\">Open Charge Map</a>",
          "<a href=\"https://github.com/openclimatedata/pyhector.git\">pyhector</a>",
          "<a href=\"https://github.com/openclimatedata/unfccc-detailed-data-by-party.git\">UNFCCC emissions data</a>",
          "<a href=\"https://github.com/openclimatefix/Satip.git\">Satip</a>",
          "<a href=\"https://github.com/openclimatefix/nowcasting.git\">Solar electricity Nowcasting</a>",
          "<a href=\"https://github.com/openclimatefix/predict_pv_yield.git\">predict_pv_yield</a>",
          "<a href=\"https://github.com/openclimatefix/pvoutput.git\">pvoutput</a>",
          "<a href=\"https://github.com/opendata-stuttgart/sensor.community.git\">Sensor.Community</a>",
          "<a href=\"https://github.com/opendata-stuttgart/sensors-software.git\">opendata-stuttgart</a>",
          "<a href=\"https://github.com/openeemeter/eemeter.git\">eemeter</a>",
          "<a href=\"https://github.com/openeemeter/eeweather.git\">eeweather</a>",
          "<a href=\"https://github.com/openego/eDisGo.git\">eDisGo</a>",
          "<a href=\"https://github.com/openenergymonitor/EmonLib.git\">EmonLib</a>",
          "<a href=\"https://github.com/openenergymonitor/emonpi.git\">emonpi</a>",
          "<a href=\"https://github.com/openfarmcc/OpenFarm.git\">OpenFarm</a>",
          "<a href=\"https://github.com/openfoodfoundation/openfoodnetwork.git\">openfoodnetwork</a>",
          "<a href=\"https://github.com/openforis/sepal.git\">SEPAL</a>",
          "<a href=\"https://github.com/opengeospatial/ogcapi-environmental-data-retrieval.git\">OGC API - Environmental Data Retrieval</a>",
          "<a href=\"https://github.com/openghg/openghg.git\">OpenGHG</a>",
          "<a href=\"https://github.com/openmobilityfoundation/mobility-data-specification.git\">mobility-data-specification</a>",
          "<a href=\"https://github.com/opennem/opennem-fe.git\">OpenNEM</a>",
          "<a href=\"https://github.com/openoakland/woeip.git\">West Oakland Air Quality Project</a>",
          "<a href=\"https://github.com/openplantpathology/OpenPlantPathology.git\">OpenPlantPathology</a>",
          "<a href=\"https://github.com/opentaps/blockchain-carbon-accounting.git\">blockchain-carbon-accounting</a>",
          "<a href=\"https://github.com/opentaps/open-climate-investing.git\">open-climate-investing</a>",
          "<a href=\"https://github.com/opfab/operatorfabric-core.git\">OperatorFabric</a>",
          "<a href=\"https://github.com/orbisgis/geoclimate.git\">Geoclimate</a>",
          "<a href=\"https://github.com/os-climate/os_c_data_commons.git\">OS-Climate Data Commons</a>",
          "<a href=\"https://github.com/owid/co2-data.git\">co2-data</a>",
          "<a href=\"https://github.com/owid/energy-data.git\">energy-data</a>",
          "<a href=\"https://github.com/owid/owid-catalog-py.git\">owid-catalog</a>",
          "<a href=\"https://github.com/owid/sdg-tracker.org.git\">sdg-tracker.org</a>",
          "<a href=\"https://github.com/pangeo-data/climpred.git\">climpred</a>",
          "<a href=\"https://github.com/pangeo-data/pangeo.git\">pangeo</a>",
          "<a href=\"https://github.com/parflow/parflow.git\">ParFlow</a>",
          "<a href=\"https://github.com/passaH2O/dorado.git\">dorado</a>",
          "<a href=\"https://github.com/pastas/pastas.git\">Pastas</a>",
          "<a href=\"https://github.com/patch-technology/patch-node.git\">patch-node</a>",
          "<a href=\"https://github.com/pcraster/pcraster.git\">PCRaster</a>",
          "<a href=\"https://github.com/pedropro/TACO.git\">TACO</a>",
          "<a href=\"https://github.com/petermr/climate.git\">Open Climate Knowledge</a>",
          "<a href=\"https://github.com/petermr/semanticClimate.git\">semanticClimate</a>",
          "<a href=\"https://github.com/piersyork/owidR.git\">owidR</a>",
          "<a href=\"https://github.com/pik-piam/edgeTransport.git\">edgeTransport</a>",
          "<a href=\"https://github.com/pik-piam/mrremind.git\">mrremind</a>",
          "<a href=\"https://github.com/pik-primap/climate_categories.git\">Climate categories</a>",
          "<a href=\"https://github.com/pingswept/pysolar.git\">Pysolar</a>",
          "<a href=\"https://github.com/pinskylab/OceanAdapt.git\">OceanAdapt</a>",
          "<a href=\"https://github.com/pism/pism.git\">PISM</a>",
          "<a href=\"https://github.com/polca/premise.git\">premise</a>",
          "<a href=\"https://github.com/poseidon-fisheries/POSEIDON.git\">POSEIDON</a>",
          "<a href=\"https://github.com/power-grid-lib/pglib-opf.git\">Power Grid Lib</a>",
          "<a href=\"https://github.com/powerapi-ng/powerapi.git\">PowerAPI</a>",
          "<a href=\"https://github.com/powerapi-ng/pyJoules.git\">pyJoules</a>",
          "<a href=\"https://github.com/powsybl/powsybl-core.git\">PowSyBl</a>",
          "<a href=\"https://github.com/powsybl/powsybl-open-loadflow.git\">PowSyBl Open Load Flow</a>",
          "<a href=\"https://github.com/prioritizr/prioritizr.git\">prioritizr</a>",
          "<a href=\"https://github.com/prioritizr/wdpar.git\">wdpar</a>",
          "<a href=\"https://github.com/protect-earth/TreeTracker.git\">Tree Tracker</a>",
          "<a href=\"https://github.com/pvcaptest/pvcaptest.git\">pvcaptest</a>",
          "<a href=\"https://github.com/pvedu/photovoltaic.git\">photovoltaic</a>",
          "<a href=\"https://github.com/pvlib/pvanalytics.git\">pvanalytics</a>",
          "<a href=\"https://github.com/pvlib/pvlib-python.git\">pvlib-python</a>",
          "<a href=\"https://github.com/pySTEPS/pysteps.git\">pySTEPS</a>",
          "<a href=\"https://github.com/pyaf/load_forecasting.git\">load_forecasting</a>",
          "<a href=\"https://github.com/pybamm-team/PyBaMM.git\">PyBaMM</a>",
          "<a href=\"https://github.com/pybamm-team/liionpack.git\">liionpack</a>",
          "<a href=\"https://github.com/pygsflow/pygsflow.git\">pyGSFLOW</a>",
          "<a href=\"https://github.com/pyinat/pyinaturalist.git\">pyinaturalist</a>",
          "<a href=\"https://github.com/pylandtemp/pylandtemp.git\">pylandtemp</a>",
          "<a href=\"https://github.com/pypsa-meets-earth/pypsa-earth.git\">PyPSA-Earth</a>",
          "<a href=\"https://github.com/pyronear/pyro-risks.git\">Pyronear Risks</a>",
          "<a href=\"https://github.com/pyronear/pyro-vision.git\">Pyrovision</a>",
          "<a href=\"https://github.com/python-windrose/windrose.git\">windrose</a>",
          "<a href=\"https://github.com/pytroll/pygac.git\">pygac</a>",
          "<a href=\"https://github.com/pyviz-topics/EarthML.git\">EarthML</a>",
          "<a href=\"https://github.com/qpv-research-group/rayflare.git\">rayflare</a>",
          "<a href=\"https://github.com/qpv-research-group/solcore5.git\">solcore5</a>",
          "<a href=\"https://github.com/quintel/etengine.git\">Energy Transition Engine</a>",
          "<a href=\"https://github.com/quintel/etmodel.git\">ETM Pro</a>",
          "<a href=\"https://github.com/quishqa/PyChEmiss.git\">PyChEmiss</a>",
          "<a href=\"https://github.com/r-lidar/lidR.git\">lidR</a>",
          "<a href=\"https://github.com/r-spatialecology/landscapemetrics.git\">landscapemetrics</a>",
          "<a href=\"https://github.com/r4ss/r4ss.git\">r4ss</a>",
          "<a href=\"https://github.com/rOpenGov/eurostat.git\">eurostat R package</a>",
          "<a href=\"https://github.com/rOpenGov/giscoR.git\">giscoR</a>",
          "<a href=\"https://github.com/rOpenSpain/climaemet.git\">climaemet</a>",
          "<a href=\"https://github.com/rabernat/intro_to_physical_oceanography.git\">Intro to Physical Oceanography</a>",
          "<a href=\"https://github.com/radiantearth/radiant-mlhub.git\">Radiant MLHub Python Client</a>",
          "<a href=\"https://github.com/rdbraatz/data-driven-prediction-of-battery-cycle-life-before-capacity-degradation.git\">prediction-of-battery-cycle</a>",
          "<a href=\"https://github.com/red-list-ecosystem/redlistr.git\">redlistr</a>",
          "<a href=\"https://github.com/reegis/deflex.git\">deflex</a>",
          "<a href=\"https://github.com/regen-network/regen-ledger.git\">Regen Ledger</a>",
          "<a href=\"https://github.com/reginalexavier/OpenLand.git\">OpenLand</a>",
          "<a href=\"https://github.com/remindmodel/remind.git\">The REgional Model of INvestments and Development</a>",
          "<a href=\"https://github.com/renewables-ninja/gsee.git\">gsee</a>",
          "<a href=\"https://github.com/resource-watch/resource-watch.git\">Resource Watch</a>",
          "<a href=\"https://github.com/responsibleproblemsolving/energy-usage.git\">energyusage</a>",
          "<a href=\"https://github.com/rich-iannone/splitr.git\">splitr</a>",
          "<a href=\"https://github.com/rl-institut/multi-vector-simulator.git\">MVS</a>",
          "<a href=\"https://github.com/rl-institut/offgridders.git\">offgridders</a>",
          "<a href=\"https://github.com/rlogiacco/BatterySense.git\">BatterySense</a>",
          "<a href=\"https://github.com/robinhenry/gym-anm.git\">Gym-ANM</a>",
          "<a href=\"https://github.com/robintw/Py6S.git\">Py6S</a>",
          "<a href=\"https://github.com/robwschlegel/heatwaveR.git\">heatwaveR</a>",
          "<a href=\"https://github.com/romainsacchi/carculator.git\">carculator</a>",
          "<a href=\"https://github.com/roocs/clisops.git\">clisops</a>",
          "<a href=\"https://github.com/ropensci/GSODR.git\">GSODR</a>",
          "<a href=\"https://github.com/ropensci/MODIStsp.git\">MODIStsp</a>",
          "<a href=\"https://github.com/ropensci/NLMR.git\">NLMR</a>",
          "<a href=\"https://github.com/ropensci/bikedata.git\">bikedata</a>",
          "<a href=\"https://github.com/ropensci/bomrang.git\">bomrang</a>",
          "<a href=\"https://github.com/ropensci/cde.git\">CDE</a>",
          "<a href=\"https://github.com/ropensci/chirps.git\">chirps</a>",
          "<a href=\"https://github.com/ropensci/clifro.git\">CliFlo</a>",
          "<a href=\"https://github.com/ropensci/eia.git\">EIA</a>",
          "<a href=\"https://github.com/ropensci/epair.git\">epair</a>",
          "<a href=\"https://github.com/ropensci/getCRUCLdata.git\">getCRUCLdata</a>",
          "<a href=\"https://github.com/ropensci/hydroscoper.git\">hydroscoper</a>",
          "<a href=\"https://github.com/ropensci/nasapower.git\">nasapower</a>",
          "<a href=\"https://github.com/ropensci/prism.git\">PRISM</a>",
          "<a href=\"https://github.com/ropensci/qualR.git\">qualR</a>",
          "<a href=\"https://github.com/ropensci/rdefra.git\">rdefra</a>",
          "<a href=\"https://github.com/ropensci/rebird.git\">rebird</a>",
          "<a href=\"https://github.com/ropensci/rfishbase.git\">rfishbase</a>",
          "<a href=\"https://github.com/ropensci/rgbif.git\">rgbif</a>",
          "<a href=\"https://github.com/ropensci/rnoaa.git\">rnoaa</a>",
          "<a href=\"https://github.com/ropensci/rredlist.git\">rredlist</a>",
          "<a href=\"https://github.com/ropensci/rrricanes.git\">rrricanes</a>",
          "<a href=\"https://github.com/ropensci/smapr.git\">smapr</a>",
          "<a href=\"https://github.com/ropensci/spocc.git\">spocc</a>",
          "<a href=\"https://github.com/ropensci/stplanr.git\">stplanr</a>",
          "<a href=\"https://github.com/ropensci/taxize.git\">taxize</a>",
          "<a href=\"https://github.com/ropensci/tidyhydat.git\">tidyhydat</a>",
          "<a href=\"https://github.com/ropensci/weathercan.git\">weathercan</a>",
          "<a href=\"https://github.com/rte-antares-rpackage/antaresRead.git\">antaresRead</a>",
          "<a href=\"https://github.com/rte-antares-rpackage/antaresViz.git\">antaresViz</a>",
          "<a href=\"https://github.com/rte-france/Grid2Op.git\">Grid2Op</a>",
          "<a href=\"https://github.com/sandialabs/hyram.git\">The Hydrogen Risk Assessment Models</a>",
          "<a href=\"https://github.com/santiago-sanitation-systems/Santiago.jl.git\">Santiago.jl</a>",
          "<a href=\"https://github.com/sashahafner/biogas.git\">biogas</a>",
          "<a href=\"https://github.com/satish1901/Methane-detection-from-hyperspectral-imagery.git\">Methane-detection-from-hyperspectral-imagery</a>",
          "<a href=\"https://github.com/sb-ai-lab/Eco2AI.git\">Eco2AI</a>",
          "<a href=\"https://github.com/sbegueria/SPEI.git\">SPEI</a>",
          "<a href=\"https://github.com/schildbach/public-transport-enabler.git\">Public Transport Enabler</a>",
          "<a href=\"https://github.com/sdl60660/river-runner.git\">River Runner</a>",
          "<a href=\"https://github.com/sensebox/openSenseMap.git\">openSenseMap</a>",
          "<a href=\"https://github.com/sentinel-hub/custom-scripts.git\">Custom Scripts Sentinel Hub</a>",
          "<a href=\"https://github.com/sentinel-hub/field-delineation.git\">Automatic field delineation</a>",
          "<a href=\"https://github.com/sentinel-hub/sentinelhub-py.git\">sentinelhub-py</a>",
          "<a href=\"https://github.com/sentinelsat/sentinelsat.git\">sentinelsat</a>",
          "<a href=\"https://github.com/shmh40/detectreeRGB.git\">detectreeRGB</a>",
          "<a href=\"https://github.com/shootismoke/mobile-app.git\">shoot-i-smoke</a>",
          "<a href=\"https://github.com/shuowang-ai/PM2.5-GNN.git\">PM2.5-GNN</a>",
          "<a href=\"https://github.com/simonom/PyCHAM.git\">PyCHAM</a>",
          "<a href=\"https://github.com/singularity-energy/open-grid-emissions.git\">Open Grid Emissions Initiative</a>",
          "<a href=\"https://github.com/sinnwerkstatt/landmatrix.git\">Land Matrix</a>",
          "<a href=\"https://github.com/sintel-dev/Draco.git\">GreenGuard</a>",
          "<a href=\"https://github.com/sizespectrum/mizer.git\">mizer</a>",
          "<a href=\"https://github.com/skgrange/rmweather.git\">rmweather</a>",
          "<a href=\"https://github.com/skgrange/saqgetr.git\">saqgetr</a>",
          "<a href=\"https://github.com/slacgismo/StatisticalClearSky.git\">StatisticalClearSky</a>",
          "<a href=\"https://github.com/slacgismo/TESS.git\">Transactive Energy Service System</a>",
          "<a href=\"https://github.com/slacgismo/gridlabd.git\">GridLAB-D</a>",
          "<a href=\"https://github.com/slacgismo/solar-data-tools.git\">solar-data-tools</a>",
          "<a href=\"https://github.com/slcs-jsc/jurassic.git\">Juelich Rapid Spectral Simulation Code</a>",
          "<a href=\"https://github.com/slcs-jsc/mptrac.git\">Massive-Parallel Trajectory Calculations</a>",
          "<a href=\"https://github.com/smart-data-models/dataModel.Environment.git\">Smart Data Models</a>",
          "<a href=\"https://github.com/smrt-model/smrt.git\">smrt</a>",
          "<a href=\"https://github.com/snl-quest/snl-quest.git\">snl-quest</a>",
          "<a href=\"https://github.com/sogno-platform/dpsim.git\">DPsim</a>",
          "<a href=\"https://github.com/sollano/forestmangr.git\">forestmangr</a>",
          "<a href=\"https://github.com/space-physics/lowtran.git\">lowtran</a>",
          "<a href=\"https://github.com/spaceml-org/ml4floods.git\">ML4Floods</a>",
          "<a href=\"https://github.com/spatialmodel/inmap.git\">inmap</a>",
          "<a href=\"https://github.com/squishykid/solax.git\">solax</a>",
          "<a href=\"https://github.com/ss3sim/ss3sim.git\">ss3sim</a>",
          "<a href=\"https://github.com/stac-utils/stac-index.git\">STAC Index</a>",
          "<a href=\"https://github.com/steve-community/steve.git\">SteVe</a>",
          "<a href=\"https://github.com/streetmix/streetmix.git\">Streetmix</a>",
          "<a href=\"https://github.com/stripe/carbon-removal-source-materials.git\">Stripe Climate Carbon Removal Purchases</a>",
          "<a href=\"https://github.com/sustainable-computing-io/kepler.git\">Kepler</a>",
          "<a href=\"https://github.com/sustainlab-group/sustainbench.git\">SustainBench</a>",
          "<a href=\"https://github.com/switch-model/switch.git\">switch-model</a>",
          "<a href=\"https://github.com/systemcatch/eiapy.git\">eiapy</a>",
          "<a href=\"https://github.com/systragroup/quetzal.git\">Quetzal</a>",
          "<a href=\"https://github.com/tbep-tech/wqtrends.git\">wqtrends</a>",
          "<a href=\"https://github.com/tdcosim/SolarPV-DER-simulation-tool.git\">SolarPV-DER-simulation-utility</a>",
          "<a href=\"https://github.com/tdwg/dwc.git\">Darwin Core</a>",
          "<a href=\"https://github.com/team-ocean/veros.git\">Veros</a>",
          "<a href=\"https://github.com/techmatters/terraso-backend.git\">Terraso</a>",
          "<a href=\"https://github.com/technologiestiftung/giessdenkiez-de.git\">Gieß den Kiez</a>",
          "<a href=\"https://github.com/tenstream/tenstream.git\">Tenstream</a>",
          "<a href=\"https://github.com/thegreenwebfoundation/co2.js.git\">co2.js</a>",
          "<a href=\"https://github.com/thegreenwebfoundation/grid-intensity-go.git\">grid-intensity-go</a>",
          "<a href=\"https://github.com/thomastu/pyEIA.git\">pyEIA</a>",
          "<a href=\"https://github.com/tiagodc/TreeLS.git\">TreeLS</a>",
          "<a href=\"https://github.com/timduly4/pyglow.git\">pyglow</a>",
          "<a href=\"https://github.com/toogad/PooPyLab_Project.git\">PooPyLab_Project</a>",
          "<a href=\"https://github.com/traitecoevo/plant.git\">plant</a>",
          "<a href=\"https://github.com/transitland/transitland-atlas.git\">Transitland</a>",
          "<a href=\"https://github.com/trynthink/scout.git\">scout</a>",
          "<a href=\"https://github.com/tum-ens/pyGRETA.git\">pyGRETA</a>",
          "<a href=\"https://github.com/tum-ens/urbs.git\">urbs</a>",
          "<a href=\"https://github.com/turbinesFoam/turbinesFoam.git\">turbinesFoam</a>",
          "<a href=\"https://github.com/uataq/X-STILT.git\">X-STILT</a>",
          "<a href=\"https://github.com/uataq/stilt.git\">stilt</a>",
          "<a href=\"https://github.com/ubahnverleih/WoBike.git\">WoBike</a>",
          "<a href=\"https://github.com/ubilabs/esa-climate-from-space.git\">esa-climate-from-space</a>",
          "<a href=\"https://github.com/umr-amap/BIOMASS.git\">BIOMASS</a>",
          "<a href=\"https://github.com/upb-lea/gym-electric-motor.git\">Gym Electric Motor</a>",
          "<a href=\"https://github.com/upb-lea/openmodelica-microgrid-gym.git\">openmodelica-microgrid-gym</a>",
          "<a href=\"https://github.com/usa-npn/rnpn.git\">rnpn</a>",
          "<a href=\"https://github.com/usbr/PyForecast.git\">PyForecast</a>",
          "<a href=\"https://github.com/usds/justice40-tool.git\">Justice40 Tool</a>",
          "<a href=\"https://github.com/uslci-admin/uslci-content.git\">uslci-content</a>",
          "<a href=\"https://github.com/vannizhang/sea-ice.git\">sea-ice</a>",
          "<a href=\"https://github.com/volkszaehler/mbmd.git\">ModBus Measurement Daemon</a>",
          "<a href=\"https://github.com/volkszaehler/volkszaehler.org.git\">volkszaehler.org</a>",
          "<a href=\"https://github.com/waiwera/waiwera.git\">waiwera</a>",
          "<a href=\"https://github.com/wandb/droughtwatch.git\">droughtwatch</a>",
          "<a href=\"https://github.com/weecology/DeepForest.git\">DeepForest</a>",
          "<a href=\"https://github.com/weecology/DeepTreeAttention.git\">DeepTreeAttention</a>",
          "<a href=\"https://github.com/weecology/NeonTreeEvaluation.git\">NeonTreeEvaluation</a>",
          "<a href=\"https://github.com/weiji14/deepbedmap.git\">DeepBedMap</a>",
          "<a href=\"https://github.com/weiji14/deepicedrain.git\">DeepIceDrain</a>",
          "<a href=\"https://github.com/wikirate/wikirate.git\">WikiRate</a>",
          "<a href=\"https://github.com/wimlds-trojmiasto/detect-waste.git\">Detect waste</a>",
          "<a href=\"https://github.com/wind-python/windpowerlib.git\">windpowerlib</a>",
          "<a href=\"https://github.com/woodcrafty/PyETo.git\">PyETo</a>",
          "<a href=\"https://github.com/wouterpeere/GHEtool.git\">GHEtool</a>",
          "<a href=\"https://github.com/wpgp/wopr.git\">wopr</a>",
          "<a href=\"https://github.com/wrf-model/WRF.git\">WRF</a>",
          "<a href=\"https://github.com/wri/carbon-budget.git\">carbon budget</a>",
          "<a href=\"https://github.com/wri/gfw-mapbuilder.git\">gfw-mapbuilder</a>",
          "<a href=\"https://github.com/wri/global-power-plant-database.git\">Global Power Plant Database</a>",
          "<a href=\"https://github.com/wri/sentinel-tree-cover.git\">Sentinel-Tree-Cover</a>",
          "<a href=\"https://github.com/xCDAT/xcdat.git\">xCDAT</a>",
          "<a href=\"https://github.com/xarray-contrib/xskillscore.git\">xskillscore</a>",
          "<a href=\"https://github.com/xgcm/xgcm.git\">xgcm</a>",
          "<a href=\"https://github.com/zalf-rpm/monica.git\">monica</a>",
          "<a href=\"https://github.com/zmlabe/IceVarFigs.git\">IceVarFigs</a>",
          "Agriculture and Nutrition",
          "Air Quality",
          "Atmosphere",
          "Battery",
          "Bioenergy",
          "Biosphere",
          "Buildings and Heating",
          "Carbon Capture and Removal",
          "Carbon Intensity and Accounting",
          "Circular Economy and Waste",
          "Climate Data Processing and Access",
          "Computation and Communication",
          "Cryosphere",
          "Data Catalogs and Interfaces",
          "Datasets on Energy Systems",
          "Earth and Climate Modeling",
          "Emission Observation and Modeling",
          "Energy Distribution and Grids",
          "Energy Modeling and Optimization",
          "Energy Monitoring and Control",
          "Geothermal Energy",
          "Hydro Energy",
          "Hydrogen",
          "Hydrosphere",
          "Integrated Assessment",
          "Knowledge Platforms",
          "Life Cycle Assessment",
          "Meteorological Observation and Forecast",
          "Mobility and Transportation",
          "Natural Hazard and Poverty",
          "Photovoltaics and Solar Energy",
          "Production and Industry",
          "Radiative Transfer",
          "Soil and Land",
          "Sustainable Development Goals",
          "Sustainable Investment",
          "Water Supply and Quality",
          "Wind Energy",
          "Climate and Earth Science",
          "Consumption of Energy and Resources",
          "Earth Systems",
          "Emissions",
          "Energy Storage",
          "Energy Systems",
          "Industrial Ecology",
          "Natural Resources",
          "Renewable Energy",
          "Sustainable Development"
         ],
         "marker": {
          "coloraxis": "coloraxis",
          "colors": [
           0.3344208809135399,
           0.2524271844660194,
           0,
           0.368421052631579,
           0.6563488670371953,
           0.4381625441696113,
           0.5870445344129555,
           0.0383091149273447,
           0.6029526029526029,
           0.8060522696011004,
           0.4298480786416443,
           0.2928176795580111,
           0.4499999999999999,
           0.02,
           0.012539184952978,
           0.1493555724033358,
           0.3133333333333333,
           0.1261437908496732,
           0.0304568527918781,
           0.12,
           0.39568345323741,
           0.2567567567567568,
           0.0334928229665071,
           0.5465020576131687,
           0.3993610223642172,
           0.5463917525773196,
           0.5007675775253301,
           0.8,
           0.288135593220339,
           0.620414673046252,
           0.6309794988610478,
           0.6562810739144846,
           0,
           0,
           0.4053156146179402,
           0.1307847082494969,
           0.0999999999999999,
           0.1136363636363636,
           0.7033639143730888,
           0.3099630996309963,
           0.0326397388820889,
           0,
           0.3559322033898305,
           0.3950850661625709,
           0.1939546599496221,
           0.0585241730279898,
           0.5531914893617021,
           0.7579175704989154,
           0.3411016949152542,
           0.1157222665602554,
           0.6231042271700549,
           0.2375886524822694,
           0.2631578947368421,
           0.089108910891089,
           0.7497612225405922,
           0.621670592498641,
           0.0677966101694915,
           0.0158730158730159,
           0.4267886855241264,
           0.1544528425895498,
           0.010752688172043,
           0.6923076923076923,
           0.6255355612682091,
           0.4561806352851129,
           0.108695652173913,
           0.527007299270073,
           0.545343137254902,
           0.0186915887850467,
           0,
           0,
           0.3635448136958711,
           0.8774051285699043,
           0.484922575387123,
           0.0014409221902017,
           0.8919941420551623,
           0.3041237113402062,
           0.1142857142857143,
           0.5190156599552573,
           0.3521739130434782,
           0.109628217349857,
           0.4311111111111111,
           0.6585365853658536,
           0.5598086124401913,
           0.5304937076476283,
           0.5258964143426295,
           0.3043478260869565,
           0.6147540983606558,
           0.2195121951219512,
           0.8355420090113967,
           0.1394611727416799,
           0.6075949367088608,
           0.0030864197530864,
           0.5733333333333333,
           0.3225806451612903,
           0.5152091254752852,
           0.555431131019037,
           0.032051282051282,
           0,
           0.6069651741293532,
           0.6436013061732235,
           0.4836065573770491,
           0.5061728395061729,
           0.0911627906976744,
           0.5428740390301596,
           0.7642466822794691,
           0.7882816346627277,
           0.5356868764389869,
           0.451530612244898,
           0.7283950617283951,
           0.6214689265536724,
           0.5588235294117647,
           0.5441860465116279,
           0.2469677419354838,
           0.4994475138121547,
           0.1639344262295081,
           0.1122448979591836,
           0.5811590222466355,
           0,
           0.3841463414634146,
           0.5661462612982744,
           0.8189884649511978,
           0.6415094339622642,
           0.1428571428571429,
           0.0129870129870129,
           0.36,
           0.6666666666666667,
           0.307007786429366,
           0.1886792452830188,
           0.6093502377179081,
           0.2919254658385093,
           0.5948051948051948,
           0.4441517386722866,
           0.5,
           0.6867052023121387,
           0.61328125,
           0.374113475177305,
           0.2341772151898734,
           0.3461538461538461,
           0.7442307692307693,
           0.4774011299435028,
           0.5183246073298429,
           0.4577464788732394,
           0.2280701754385965,
           0.6551724137931034,
           0.2393509127789046,
           0.6654424040066778,
           0.5872133425990271,
           0.03125,
           0.6544401544401545,
           0.805531167690957,
           0.7503121098626717,
           0.0353982300884956,
           0.4924551386623165,
           0,
           0.1168831168831169,
           0.183673469387755,
           0.0352733686067019,
           0.1301115241635687,
           0.7277936962750716,
           0.0481586402266288,
           0.069129916567342,
           0,
           0.0767356881851401,
           0.1082251082251082,
           0.8218543046357616,
           0.0335570469798657,
           0.0199203187250995,
           0.1094736842105262,
           0.0329670329670329,
           0.031578947368421,
           0.4945054945054945,
           0.0180890538033394,
           0.6164383561643836,
           0.4949859394068021,
           0.5404699738903394,
           0.1623774509803921,
           0.810784071234232,
           0.5046728971962617,
           0.0372093023255813,
           0.1029411764705882,
           0.2969808995686999,
           0.3783783783783784,
           0.8875,
           0.2056293979671618,
           0.5807280513918629,
           0.7008208321539768,
           0.6904149834741095,
           0.0973011363636363,
           0.3443695479777954,
           0.5967741935483871,
           0.5864570737605804,
           0.4693266832917705,
           0.5020952380952381,
           0.3979416809605489,
           0.3355525965379494,
           0.726109556177529,
           0.8198830409356725,
           0.4203539823008849,
           0.6848334709606385,
           0.1407972858354538,
           0.6434077079107505,
           0.7222222222222222,
           0.4097007223942208,
           0.474036850921273,
           0.3447228549734245,
           0.9117647058823528,
           0.0647321428571429,
           0.5,
           0.4517810599478714,
           0.269703656998739,
           0.4413043478260869,
           0.8557953408603687,
           0.4207920792079208,
           0.6,
           0.2112422484496899,
           0.4672614038040734,
           0.7263712214471345,
           0.4731343283582089,
           0.6086956521739131,
           0.2106824925816023,
           0.6591089896579156,
           0.1320754716981131,
           0.0651340996168582,
           0.4225721784776902,
           0.3916449086161879,
           0.5555555555555556,
           0.4705882352941176,
           0.4161205766710354,
           0.4464831804281345,
           0.5051546391752577,
           0.5586088449978532,
           0.375438596491228,
           0.3927148548662492,
           0.7644058450510063,
           0.3086003372681282,
           0.6151079136690647,
           0.5460060667340748,
           0.05,
           0.3634826711749789,
           0.3478260869565217,
           0.8535322777101096,
           0.6072222222222222,
           0,
           0.0006114649681528,
           0,
           0.5693430656934306,
           0.4359375,
           0.5423138725227639,
           0.6871287128712871,
           0.3212410501193318,
           0.4042867701404287,
           0.2773279352226721,
           0.6028751123090745,
           0,
           0.0253411306042885,
           0,
           0,
           0.2829394626092586,
           0.3402537485582468,
           0.528443113772455,
           0.4294790343074968,
           0.3960749330954505,
           0.6768342951360264,
           0.6449511400651466,
           0.6067090803932909,
           0.4383697813121272,
           0.5574548907882242,
           0.3536076326774001,
           0.6906206252916472,
           0.7481946510868382,
           0.7502673796791444,
           0.2345132743362832,
           0.6467065868263473,
           0.5445420326223338,
           0.5342679127725857,
           0.2247191011235955,
           0.0953101361573374,
           0.6586314152410575,
           0.6206239580852584,
           0.4560439560439561,
           0.570334928229665,
           0.04,
           0.3710280373831776,
           0.8638583638583639,
           0.0044843049327354,
           0.0769230769230768,
           0.111310592459605,
           0.7986606178440268,
           0.7348726114649682,
           0.231304347826087,
           0.5274135876042908,
           0.7035688273852877,
           0.6388888888888888,
           0.2853982300884956,
           0.6898305084745763,
           0.6205405405405405,
           0.6304347826086957,
           0.0441176470588234,
           0.3323943661971831,
           0.2887383573243014,
           0.4205607476635514,
           0.2803738317757009,
           0.3199999999999999,
           0.4412811387900356,
           0.7260490894695171,
           0.7429349676540689,
           0.7434842249657064,
           0,
           0,
           0.1428571428571429,
           0.1696428571428571,
           0.3115942028985508,
           0.3278688524590164,
           0.7676632455748922,
           0.2896698615548455,
           0,
           0.0208333333333333,
           0.3072289156626506,
           0.3448275862068966,
           0.5588822355289421,
           0.7605561277033985,
           0.3783783783783784,
           0.1486946651532349,
           0.4994606256742179,
           0.18,
           0.7078651685393258,
           0.3416216216216216,
           0.5388739946380697,
           0.8637803590285111,
           0.5617529880478087,
           0.0961538461538461,
           0.3571428571428571,
           0,
           0.4700854700854701,
           0.18,
           0,
           0.5354330708661417,
           0.6428571428571428,
           0.6788910077746809,
           0.6124954857349223,
           0.1734104046242774,
           0.1290322580645161,
           0.5714285714285714,
           0.028169014084507,
           0.673202614379085,
           0.4196428571428571,
           0.5982142857142857,
           0.6363636363636364,
           0.3028571428571428,
           0.6676970633693973,
           0.0045766590389015,
           0.1187214611872146,
           0.2345215759849905,
           0.2241758241758241,
           0.0034246575342465,
           0.426497277676951,
           0.3043478260869565,
           0.8136309825807543,
           0.5750708215297451,
           0.6846071044133477,
           0,
           0.0413793103448275,
           0.3542857142857143,
           0.5903771131339401,
           0.5314121037463977,
           0.0343377715487035,
           0.0509915014164306,
           0.1268320180383314,
           0.0929203539823009,
           0.3892128279883382,
           0.2916666666666666,
           0.36,
           0.0858585858585858,
           0.7282758620689656,
           0.4077046548956661,
           0.4422496570644718,
           0.3633305298570227,
           0.6754057428214731,
           0.6515837104072398,
           0.0844272076372315,
           0.4197031039136302,
           0.15,
           0.5244956772334294,
           0.053468433359314,
           0.5896830748482805,
           0.5737051792828685,
           0.1057692307692307,
           0.575,
           0.6636363636363636,
           0.0919282511210762,
           0.7493408331868519,
           0.6109839816933638,
           0.6728016359918201,
           0.3974630021141648,
           0.0557620817843865,
           0.5944811037792441,
           0.5529850746268656,
           0.0697674418604651,
           0.5850622406639003,
           0.2335766423357664,
           0.196969696969697,
           0.2797411647585863,
           0.7769125057260651,
           0.138728323699422,
           0,
           0,
           0.0502191609267376,
           0.1909090909090909,
           0,
           0.5056242969628797,
           0.1761194029850746,
           0.6034618410700237,
           0.1842105263157895,
           0.25,
           0.04,
           0.0999999999999999,
           0.5324858757062148,
           0.3712660028449502,
           0.7044633368756642,
           0.0339366515837104,
           0.4322916666666666,
           0.5420353982300885,
           0.0029542097488921,
           0.3753976670201484,
           0.2035010940919037,
           0.1486146095717884,
           0,
           0.497907949790795,
           0.073170731707317,
           0.0210355987055016,
           0.475177304964539,
           0.4174757281553398,
           0.7089129314786193,
           0.7411561691113029,
           0.4216524216524216,
           0.4011299435028248,
           0.2841952634122764,
           0.1408450704225352,
           0.3382570162481536,
           0.1265582655826558,
           0,
           0.2306489444878812,
           0.2135922330097087,
           0.0352941176470588,
           0.1333333333333333,
           0.0179487179487179,
           0.1099656357388316,
           0.0118203309692671,
           0.5629139072847682,
           0.0075187969924812,
           0,
           0.0203951561504143,
           0.243161094224924,
           0.3506172839506173,
           0.0330672748004561,
           0.175,
           0.294820717131474,
           0.6579439252336449,
           0.521551724137931,
           0.3969594594594594,
           0.492288322316651,
           0.0701754385964912,
           0.2906287069988137,
           0.7483801295896328,
           0,
           0.0666666666666666,
           0,
           0.2233502538071066,
           0,
           0.4516129032258065,
           0.5675675675675675,
           0.773841961852861,
           0.066571224051539,
           0.8300304878048781,
           0.5,
           0.7590361445783133,
           0.8553459119496856,
           0.3406113537117904,
           0.1738342594829669,
           0.237410071942446,
           0,
           0.0389610389610389,
           0.1554878048780488,
           0.1828396322778345,
           0.0476190476190476,
           0.0791500664010623,
           0.0225563909774436,
           0.4460338101430429,
           0.0074906367041198,
           0.5104302477183833,
           0.6187088274044796,
           0,
           0.0467860613633208,
           0.6634304207119741,
           0.0284605433376455,
           0.4038461538461538,
           0.5,
           0,
           0.6462668298653611,
           0.4920224234583872,
           0.2442396313364055,
           0.0256410256410256,
           0.5256283068783069,
           0.0186113099498925,
           0.4593639575971732,
           0.3733333333333333,
           0.6461273666092944,
           0.6701183431952662,
           0,
           0.0633484162895927,
           0.4858490566037735,
           0.3457943925233645,
           0.3027295285359801,
           0.3356258596973865,
           0,
           0.6170212765957447,
           0,
           0.1902654867256636,
           0.366412213740458,
           0.3333333333333333,
           0.0052083333333333,
           0.4631578947368421,
           0.093525179856115,
           0.4946386946386946,
           0.0520833333333333,
           0,
           0,
           0.5793971042012818,
           0.5590631364562118,
           0.0031746031746031,
           0.7320441988950277,
           0.7925653969710876,
           0.8878737541528239,
           0.5577507598784195,
           0.1132075471698113,
           0.1807331628303495,
           0.7071129707112971,
           0.732045567112432,
           0.5,
           0.1590314136125654,
           0.3974999999999999,
           0.6790805115781171,
           0.4599999999999999,
           0.0856031128404669,
           0.2349794238683127,
           0.1194379391100702,
           0,
           0.478021978021978,
           0.3877551020408163,
           0.0544554455445545,
           0,
           0,
           0.6107129385137684,
           0.467741935483871,
           0.4798136645962733,
           0.5675675675675675,
           0.3890977443609023,
           0.4285714285714286,
           0.0023866348448687,
           0,
           0.5686274509803921,
           0.3983739837398373,
           0.6527777777777778,
           0.5625306522805297,
           0,
           0.0117416829745596,
           0.2580645161290322,
           0.5,
           0.5708897270911915,
           0,
           0.4968553459119497,
           0.4680851063829787,
           0.4844192634560906,
           0.4499999999999999,
           0.4189189189189189,
           0.7478344562078922,
           0.1609477124183006,
           0.6296296296296297,
           0,
           0.565,
           0.5377551020408163,
           0.3865248226950354,
           0.4236111111111111,
           0.6598639455782314,
           0,
           0.8587618403247632,
           0.4007490636704119,
           0.0063291139240506,
           0.2347140039447731,
           0.0051282051282051,
           0.7481049054631002,
           0.5,
           0.0757918552036198,
           0.4578900709219858,
           0.0036231884057971,
           0.3770114942528736,
           0.5740432612312811,
           0.3333333333333333,
           0.125,
           0.6286982248520709,
           0.7028231797919762,
           0.2285714285714285,
           0,
           0.478021978021978,
           0.731155981015204,
           0.2967533543150571,
           0.2095548317046688,
           0.2052631578947368,
           0.2249999999999999,
           0,
           0.4571428571428572,
           0.0124999999999999,
           0.0472103004291845,
           0.0625,
           0.009009009009009,
           0.0557913887204366,
           0.2735042735042735,
           0.0076726342710997,
           0.0004142502071251,
           0.0432330827067669,
           0.3282051282051282,
           0.1512605042016807,
           0.0148809523809523,
           0.1428571428571429,
           0.1666666666666666,
           0,
           0.1128205128205128,
           0.4512901527119536,
           0.3207547169811321,
           0.4177215189873418,
           0,
           0,
           0.1217948717948718,
           0.0182926829268292,
           0.3831242873432154,
           0.1467576791808873,
           0,
           0.196078431372549,
           0.196078431372549,
           0.2714285714285714,
           0.4323899371069182,
           0.2813102119460501,
           0.5533164074896858,
           0.5875,
           0.1586368977673325,
           0.1875,
           0.09375,
           0.159217877094972,
           0.0356435643564356,
           0.3642314189189189,
           0.4065743944636678,
           0,
           0.4082051282051282,
           0,
           0.1968325791855203,
           0.101063829787234,
           0.7997284453496266,
           0.7343799058084772,
           0.3633217993079585,
           0.1186440677966101,
           0.322463768115942,
           0.0454545454545454,
           0,
           0.4444444444444444,
           0.0166666666666667,
           0.0264317180616739,
           0,
           0,
           0.0387096774193548,
           0.0604395604395604,
           0.1558441558441559,
           0.4888888888888889,
           0.0467882632831085,
           0.0048780487804878,
           0.0344827586206896,
           0.0397727272727272,
           0.4853717026378896,
           0.1142857142857143,
           0.2762836185819071,
           0.1885714285714286,
           0.0365853658536585,
           0.1395348837209302,
           0.0582959641255604,
           0,
           0.8112449799196787,
           0.2197802197802197,
           0.3235294117647058,
           0.3769230769230769,
           0.7220762155059133,
           0.6061269146608315,
           0.5382830626450116,
           0.0271565495207667,
           0.0114613180515759,
           0.0309597523219814,
           0.0920245398773006,
           0.1914357682619647,
           0.045964125560538,
           0.6346633416458853,
           0,
           0.0263157894736841,
           0.0928792569659442,
           0,
           0.752362381880906,
           0.4153439153439153,
           0.6427733065057009,
           0.3333333333333333,
           0.4838709677419355,
           0.3045230631437527,
           0.1691056910569105,
           0.5056935817805384,
           0.5483870967741935,
           0.5029940119760479,
           0,
           0.4519350811485643,
           0,
           0.1694915254237288,
           0.1802168021680217,
           0.26,
           0.0268817204301075,
           0.4893184130213631,
           0.3969072164948454,
           0.6869158878504673,
           0.5954648526077098,
           0.691588785046729,
           0.6495726495726496,
           0.0981873111782477,
           0.1098901098901099,
           0.0169491525423728,
           0.2916666666666666,
           0.3699885452462772,
           0.1689189189189189,
           0.0240963855421686,
           0.2491417361451692,
           0.6011560693641618,
           0.1636363636363637,
           0.598326359832636,
           0.0444697833523375,
           0.2696078431372549,
           0.3,
           0.659432387312187,
           0.7119205298013245,
           0.3716814159292035,
           0.6597510373443983,
           0.4119241192411924,
           0.6846435100548446,
           0.2173611111111111,
           0.2251655629139073,
           0.3045346062052506,
           0.2894736842105263,
           0.2263814616755793,
           0.6204849084611579,
           0.857922954725973,
           0.4860553324408746,
           0.57223113964687,
           0.1831983805668016,
           0.5873827791986359,
           0.0185758513931888,
           0.7159353348729792,
           0.2667295004712535,
           0.5861733203505355,
           0.5111111111111111,
           0.7969543147208122,
           0.4559333795975017,
           0.5777777777777777,
           0.5208333333333333,
           0.2802197802197802,
           0.3931034482758621,
           0.2108345534407028,
           0.4441887226697353,
           0.7933884297520661,
           0.3217821782178217,
           0.1807692307692308,
           0.4409038238702202,
           0.7058823529411764,
           0.2383177570093457,
           0.0176470588235294,
           0.2040816326530612,
           0.8305084745762712,
           0,
           0.438118811881188,
           0.7640449438202247,
           0.2879256965944272,
           0.4313725490196078,
           0.5163727959697733,
           0.2893976677008666,
           0.1040061633281972,
           0.4521008403361344,
           0.0666666666666666,
           0.4250645994832042,
           0.1709401709401709,
           0.7677584006805614,
           0.5154109589041096,
           0.1318681318681318,
           0,
           0.4589371980676329,
           0.0018832391713747,
           0.2692307692307693,
           0.4625550660792952,
           0.4787922358015816,
           0.5754512635379061,
           0.3559322033898305,
           0.5718423372371237,
           0.3148148148148147,
           0.0089285714285713,
           0.1140845070422534,
           0,
           0.7256983240223464,
           0.6216216216216216,
           0.4461538461538461,
           0.2894736842105263,
           0.5626666666666666,
           0.4599999999999999,
           0,
           0.4962178517397881,
           0.6165311653116532,
           0.7006305531670967,
           0.0517241379310344,
           0.041820418204182,
           0.4667119565217391,
           0.3720183486238532,
           0.4140786749482401,
           0.2012012012012012,
           0.2214765100671141,
           0.0251572327044025,
           0.259493670886076,
           0.5454545454545454,
           0.4590163934426229,
           0.0769230769230768,
           0.7323767935121647,
           0.0141509433962264,
           0.7894959762812368,
           0.0727272727272727,
           0.5767607919506654,
           0.3076923076923077,
           0.0109800732004879,
           0.650375939849624,
           0.3543233082706767,
           0.3023255813953488,
           0.005524861878453,
           0.0572916666666666,
           0.3478260869565217,
           0.0410958904109589,
           0.5951219512195122,
           0.0014778325123152,
           0.2936746987951807,
           0.1935483870967742,
           0.0417310664605873,
           0.0896755162241887,
           0.0108695652173913,
           0.5,
           0.1747572815533981,
           0.6666666666666667,
           0.3111888111888111,
           0.0101180438448567,
           0.0192307692307692,
           0.0021680216802167,
           0.3333333333333333,
           0.1129032258064516,
           0.0144230769230768,
           0.5260416666666667,
           0.1245136186770428,
           0.1732973701955495,
           0.1866546438232642,
           0.1313868613138685,
           0.0759202453987729,
           0.0204081632653061,
           0.1006134969325153,
           0.1579254079254078,
           0.109431995831162,
           0.0459418070444104,
           0.1167369901547117,
           0.5822454308093995,
           0.6215864759427828,
           0.3474264705882353,
           0.2727272727272727,
           0.1256684491978609,
           0.3914728682170543,
           0,
           0.4642857142857143,
           0.0303030303030302,
           0.0709939148073022,
           0,
           0.3001038421599169,
           0.6445714285714286,
           0.5,
           0.275375939849624,
           0.5128504672897196,
           0,
           0.4525043177892919,
           0,
           0.0093896713615023,
           0.4658753709198813,
           0.6274754683318466,
           0.5733333333333333,
           0.2150814053127677,
           0,
           0,
           0.4156626506024096,
           0.7089041095890412,
           0.34017363851618,
           0.3293768545994066,
           0.0074626865671642,
           0.0246376811594203,
           0.0384615384615384,
           0.1712328767123287,
           0.125,
           0.6407274895646988,
           0,
           0,
           0.3996383363471971,
           0.0302114803625377,
           0.2727272727272727,
           0.4560126582278481,
           0,
           0.3361027190332326,
           0.4434430752253081,
           0.368421052631579,
           0.6551724137931034,
           0.1428571428571429,
           0.3429003021148036,
           0.0333333333333333,
           0.4150943396226415,
           0,
           0.0139860139860139,
           0.5281980742778543,
           0.2876935615321924,
           0.4054054054054054,
           0.6985559566787003,
           0.085499316005472,
           0.3316582914572864,
           0.1090909090909091,
           0.0625,
           0.0095846645367412,
           0.1777777777777778,
           0.0060975609756097,
           0.266934942991281,
           0.3980099502487562,
           0.3499327052489905,
           0.5329249617151608,
           0.646677471636953,
           0.0293040293040293,
           0.0067114093959731,
           0.0092165898617511,
           0.7142857142857143,
           0.5708812260536398,
           0.1841004184100418,
           0.6063348416289593,
           0.5157894736842106,
           0.3312101910828026,
           0.3348837209302325,
           0.7387247278382582,
           0.0896656534954407,
           0.0338983050847457,
           0.3765432098765432,
           0.564963503649635,
           0.0437442643010095,
           0,
           0.5714285714285714,
           0.0027118644067796,
           0.0053191489361702,
           0.188034188034188,
           0.4029227557411273,
           0.3741563248421511,
           0.5168539325842696,
           0.3715481171548117,
           0.0416666666666666,
           0.1789473684210526,
           0,
           0.6445086705202312,
           0.011685276551545,
           0.7096885813148789,
           0.2199999999999999,
           0.074074074074074,
           0.1351351351351351,
           0.5722070844686649,
           0.6814345991561181,
           0.3468379446640316,
           0.0459770114942529,
           0.3541640147444056,
           0.30116688612183673,
           0.25947142700104653,
           0.3004871243571625,
           0.29621489881663504,
           0.28521389055894264,
           0.4084542821888722,
           0.4205772133255401,
           0.270866806647158,
           0.19843672166882964,
           0.3255426971046065,
           0.37892555607700185,
           0.20975197567028378,
           0.3362559739677387,
           0.28565180383256844,
           0.36110350946769654,
           0.2728834032523188,
           0.4313582598215009,
           0.4025654031622455,
           0.4757548171540927,
           0.09025122157495777,
           0.3080895689985359,
           0.37478235717837316,
           0.3463887178247552,
           0.4133410605102169,
           0.5359531543645901,
           0.28531723054477937,
           0.2117328457482088,
           0.3286993970321614,
           0.42438377710846975,
           0.29435383530541487,
           0.7481946510868382,
           0.21354913363675543,
           0.3420720032498216,
           0.31585920512125765,
           0.4610571073977695,
           0.29538204470197493,
           0.39241872099135056,
           0.33191771641713647,
           0.3693286975207739,
           0.2935734854054709,
           0.2873592874683649,
           0.32426159885994993,
           0.3951259187881749,
           0.2434858744193221,
           0.32897699433286093,
           0.3100310261330754,
           0.3982842084074136
          ],
          "line": {
           "color": "#ffffff",
           "width": 0.3
          }
         },
         "maxdepth": 2,
         "name": "",
         "parents": [
          "Sustainable Development/Data Catalogs and Interfaces",
          "Energy Systems/Energy Modeling and Optimization",
          "Energy Systems/Energy Modeling and Optimization",
          "Climate and Earth Science/Radiative Transfer",
          "Natural Resources/Agriculture and Nutrition",
          "Climate and Earth Science/Climate Data Processing and Access",
          "Natural Resources/Water Supply and Quality",
          "Consumption of Energy and Resources/Mobility and Transportation",
          "Natural Resources/Agriculture and Nutrition",
          "Natural Resources/Water Supply and Quality",
          "Energy Systems/Energy Modeling and Optimization",
          "Natural Resources/Water Supply and Quality",
          "Natural Resources/Water Supply and Quality",
          "Earth Systems/Hydrosphere",
          "Renewable Energy/Hydro Energy",
          "Energy Storage/Battery",
          "Earth Systems/Biosphere",
          "Renewable Energy/Bioenergy",
          "Earth Systems/Biosphere",
          "Consumption of Energy and Resources/Mobility and Transportation",
          "Consumption of Energy and Resources/Computation and Communication",
          "Consumption of Energy and Resources/Computation and Communication",
          "Renewable Energy/Photovoltaics and Solar Energy",
          "Energy Systems/Energy Distribution and Grids",
          "Energy Systems/Energy Modeling and Optimization",
          "Consumption of Energy and Resources/Buildings and Heating",
          "Climate and Earth Science/Climate Data Processing and Access",
          "Emissions/Carbon Capture and Removal",
          "Natural Resources/Air Quality",
          "Earth Systems/Cryosphere",
          "Earth Systems/Cryosphere",
          "Climate and Earth Science/Earth and Climate Modeling",
          "Industrial Ecology/Circular Economy and Waste",
          "Industrial Ecology/Circular Economy and Waste",
          "Industrial Ecology/Circular Economy and Waste",
          "Emissions/Emission Observation and Modeling",
          "Sustainable Development/Sustainable Development Goals",
          "Earth Systems/Atmosphere",
          "Earth Systems/Hydrosphere",
          "Natural Resources/Water Supply and Quality",
          "Renewable Energy/Geothermal Energy",
          "Natural Resources/Water Supply and Quality",
          "Earth Systems/Biosphere",
          "Consumption of Energy and Resources/Buildings and Heating",
          "Consumption of Energy and Resources/Buildings and Heating",
          "Consumption of Energy and Resources/Buildings and Heating",
          "Natural Resources/Soil and Land",
          "Climate and Earth Science/Earth and Climate Modeling",
          "Earth Systems/Hydrosphere",
          "Climate and Earth Science/Earth and Climate Modeling",
          "Earth Systems/Hydrosphere",
          "Earth Systems/Atmosphere",
          "Climate and Earth Science/Earth and Climate Modeling",
          "Climate and Earth Science/Earth and Climate Modeling",
          "Sustainable Development/Knowledge Platforms",
          "Sustainable Development/Knowledge Platforms",
          "Earth Systems/Hydrosphere",
          "Emissions/Carbon Intensity and Accounting",
          "Natural Resources/Agriculture and Nutrition",
          "Natural Resources/Soil and Land",
          "Earth Systems/Biosphere",
          "Natural Resources/Natural Hazard and Poverty",
          "Earth Systems/Hydrosphere",
          "Sustainable Development/Knowledge Platforms",
          "Earth Systems/Biosphere",
          "Natural Resources/Agriculture and Nutrition",
          "Earth Systems/Hydrosphere",
          "Energy Systems/Datasets on Energy Systems",
          "Energy Systems/Energy Modeling and Optimization",
          "Emissions/Carbon Intensity and Accounting",
          "Earth Systems/Hydrosphere",
          "Climate and Earth Science/Earth and Climate Modeling",
          "Climate and Earth Science/Earth and Climate Modeling",
          "Climate and Earth Science/Earth and Climate Modeling",
          "Earth Systems/Atmosphere",
          "Climate and Earth Science/Earth and Climate Modeling",
          "Earth Systems/Cryosphere",
          "Energy Storage/Battery",
          "Energy Storage/Hydrogen",
          "Energy Storage/Hydrogen",
          "Energy Storage/Hydrogen",
          "Consumption of Energy and Resources/Buildings and Heating",
          "Climate and Earth Science/Earth and Climate Modeling",
          "Climate and Earth Science/Earth and Climate Modeling",
          "Sustainable Development/Data Catalogs and Interfaces",
          "Earth Systems/Hydrosphere",
          "Sustainable Development/Knowledge Platforms",
          "Earth Systems/Hydrosphere",
          "Climate and Earth Science/Earth and Climate Modeling",
          "Consumption of Energy and Resources/Mobility and Transportation",
          "Consumption of Energy and Resources/Mobility and Transportation",
          "Climate and Earth Science/Earth and Climate Modeling",
          "Natural Resources/Agriculture and Nutrition",
          "Earth Systems/Biosphere",
          "Consumption of Energy and Resources/Buildings and Heating",
          "Earth Systems/Biosphere",
          "Natural Resources/Agriculture and Nutrition",
          "Energy Storage/Battery",
          "Energy Systems/Datasets on Energy Systems",
          "Energy Systems/Energy Monitoring and Control",
          "Energy Systems/Energy Modeling and Optimization",
          "Energy Systems/Energy Modeling and Optimization",
          "Sustainable Development/Knowledge Platforms",
          "Sustainable Development/Knowledge Platforms",
          "Renewable Energy/Wind Energy",
          "Renewable Energy/Wind Energy",
          "Earth Systems/Atmosphere",
          "Earth Systems/Hydrosphere",
          "Energy Systems/Energy Modeling and Optimization",
          "Consumption of Energy and Resources/Buildings and Heating",
          "Consumption of Energy and Resources/Buildings and Heating",
          "Energy Systems/Energy Modeling and Optimization",
          "Natural Resources/Agriculture and Nutrition",
          "Energy Systems/Energy Monitoring and Control",
          "Energy Systems/Energy Modeling and Optimization",
          "Earth Systems/Hydrosphere",
          "Emissions/Carbon Capture and Removal",
          "Earth Systems/Cryosphere",
          "Climate and Earth Science/Earth and Climate Modeling",
          "Energy Systems/Energy Modeling and Optimization",
          "Sustainable Development/Sustainable Development Goals",
          "Energy Systems/Energy Modeling and Optimization",
          "Consumption of Energy and Resources/Computation and Communication",
          "Earth Systems/Atmosphere",
          "Emissions/Carbon Intensity and Accounting",
          "Consumption of Energy and Resources/Computation and Communication",
          "Industrial Ecology/Life Cycle Assessment",
          "Industrial Ecology/Life Cycle Assessment",
          "Earth Systems/Biosphere",
          "Earth Systems/Biosphere",
          "Energy Systems/Energy Distribution and Grids",
          "Natural Resources/Agriculture and Nutrition",
          "Consumption of Energy and Resources/Buildings and Heating",
          "Natural Resources/Air Quality",
          "Consumption of Energy and Resources/Buildings and Heating",
          "Climate and Earth Science/Integrated Assessment",
          "Energy Systems/Energy Modeling and Optimization",
          "Emissions/Emission Observation and Modeling",
          "Energy Systems/Energy Modeling and Optimization",
          "Renewable Energy/Wind Energy",
          "Renewable Energy/Wind Energy",
          "Energy Systems/Energy Modeling and Optimization",
          "Climate and Earth Science/Climate Data Processing and Access",
          "Natural Resources/Soil and Land",
          "Consumption of Energy and Resources/Mobility and Transportation",
          "Renewable Energy/Wind Energy",
          "Natural Resources/Soil and Land",
          "Earth Systems/Biosphere",
          "Emissions/Emission Observation and Modeling",
          "Climate and Earth Science/Integrated Assessment",
          "Climate and Earth Science/Earth and Climate Modeling",
          "Natural Resources/Air Quality",
          "Consumption of Energy and Resources/Mobility and Transportation",
          "Earth Systems/Cryosphere",
          "Natural Resources/Agriculture and Nutrition",
          "Climate and Earth Science/Earth and Climate Modeling",
          "Climate and Earth Science/Earth and Climate Modeling",
          "Sustainable Development/Data Catalogs and Interfaces",
          "Energy Systems/Energy Distribution and Grids",
          "Earth Systems/Hydrosphere",
          "Earth Systems/Biosphere",
          "Emissions/Carbon Intensity and Accounting",
          "Climate and Earth Science/Earth and Climate Modeling",
          "Consumption of Energy and Resources/Buildings and Heating",
          "Consumption of Energy and Resources/Mobility and Transportation",
          "Climate and Earth Science/Integrated Assessment",
          "Renewable Energy/Photovoltaics and Solar Energy",
          "Renewable Energy/Photovoltaics and Solar Energy",
          "Energy Systems/Energy Modeling and Optimization",
          "Renewable Energy/Photovoltaics and Solar Energy",
          "Earth Systems/Biosphere",
          "Energy Systems/Energy Modeling and Optimization",
          "Renewable Energy/Hydro Energy",
          "Earth Systems/Hydrosphere",
          "Natural Resources/Water Supply and Quality",
          "Climate and Earth Science/Earth and Climate Modeling",
          "Climate and Earth Science/Earth and Climate Modeling",
          "Energy Systems/Energy Modeling and Optimization",
          "Renewable Energy/Geothermal Energy",
          "Energy Systems/Energy Modeling and Optimization",
          "Earth Systems/Biosphere",
          "Earth Systems/Biosphere",
          "Consumption of Energy and Resources/Mobility and Transportation",
          "Earth Systems/Hydrosphere",
          "Earth Systems/Hydrosphere",
          "Earth Systems/Hydrosphere",
          "Earth Systems/Hydrosphere",
          "Earth Systems/Atmosphere",
          "Climate and Earth Science/Climate Data Processing and Access",
          "Climate and Earth Science/Earth and Climate Modeling",
          "Earth Systems/Hydrosphere",
          "Climate and Earth Science/Climate Data Processing and Access",
          "Earth Systems/Biosphere",
          "Emissions/Carbon Intensity and Accounting",
          "Earth Systems/Biosphere",
          "Climate and Earth Science/Earth and Climate Modeling",
          "Climate and Earth Science/Earth and Climate Modeling",
          "Climate and Earth Science/Earth and Climate Modeling",
          "Climate and Earth Science/Earth and Climate Modeling",
          "Earth Systems/Cryosphere",
          "Natural Resources/Water Supply and Quality",
          "Natural Resources/Natural Hazard and Poverty",
          "Natural Resources/Water Supply and Quality",
          "Natural Resources/Water Supply and Quality",
          "Earth Systems/Hydrosphere",
          "Sustainable Development/Knowledge Platforms",
          "Natural Resources/Natural Hazard and Poverty",
          "Renewable Energy/Hydro Energy",
          "Energy Systems/Energy Distribution and Grids",
          "Energy Systems/Energy Modeling and Optimization",
          "Energy Systems/Energy Modeling and Optimization",
          "Consumption of Energy and Resources/Buildings and Heating",
          "Renewable Energy/Wind Energy",
          "Renewable Energy/Wind Energy",
          "Consumption of Energy and Resources/Buildings and Heating",
          "Consumption of Energy and Resources/Buildings and Heating",
          "Consumption of Energy and Resources/Buildings and Heating",
          "Renewable Energy/Photovoltaics and Solar Energy",
          "Energy Systems/Energy Modeling and Optimization",
          "Renewable Energy/Wind Energy",
          "Energy Systems/Energy Modeling and Optimization",
          "Renewable Energy/Photovoltaics and Solar Energy",
          "Renewable Energy/Photovoltaics and Solar Energy",
          "Renewable Energy/Wind Energy",
          "Renewable Energy/Photovoltaics and Solar Energy",
          "Renewable Energy/Photovoltaics and Solar Energy",
          "Renewable Energy/Photovoltaics and Solar Energy",
          "Renewable Energy/Wind Energy",
          "Consumption of Energy and Resources/Buildings and Heating",
          "Renewable Energy/Photovoltaics and Solar Energy",
          "Energy Systems/Energy Modeling and Optimization",
          "Energy Systems/Energy Modeling and Optimization",
          "Consumption of Energy and Resources/Buildings and Heating",
          "Sustainable Development/Sustainable Investment",
          "Energy Systems/Datasets on Energy Systems",
          "Earth Systems/Hydrosphere",
          "Climate and Earth Science/Earth and Climate Modeling",
          "Emissions/Emission Observation and Modeling",
          "Earth Systems/Cryosphere",
          "Industrial Ecology/Circular Economy and Waste",
          "Energy Systems/Energy Distribution and Grids",
          "Natural Resources/Water Supply and Quality",
          "Emissions/Emission Observation and Modeling",
          "Energy Systems/Datasets on Energy Systems",
          "Energy Systems/Datasets on Energy Systems",
          "Natural Resources/Natural Hazard and Poverty",
          "Earth Systems/Atmosphere",
          "Earth Systems/Hydrosphere",
          "Energy Systems/Energy Modeling and Optimization",
          "Consumption of Energy and Resources/Mobility and Transportation",
          "Sustainable Development/Data Catalogs and Interfaces",
          "Natural Resources/Water Supply and Quality",
          "Earth Systems/Atmosphere",
          "Emissions/Emission Observation and Modeling",
          "Consumption of Energy and Resources/Mobility and Transportation",
          "Consumption of Energy and Resources/Mobility and Transportation",
          "Consumption of Energy and Resources/Mobility and Transportation",
          "Earth Systems/Hydrosphere",
          "Energy Systems/Energy Monitoring and Control",
          "Consumption of Energy and Resources/Mobility and Transportation",
          "Consumption of Energy and Resources/Mobility and Transportation",
          "Energy Systems/Energy Modeling and Optimization",
          "Energy Systems/Energy Modeling and Optimization",
          "Energy Systems/Datasets on Energy Systems",
          "Renewable Energy/Wind Energy",
          "Natural Resources/Soil and Land",
          "Energy Systems/Energy Modeling and Optimization",
          "Industrial Ecology/Circular Economy and Waste",
          "Renewable Energy/Wind Energy",
          "Consumption of Energy and Resources/Production and Industry",
          "Energy Systems/Energy Modeling and Optimization",
          "Renewable Energy/Hydro Energy",
          "Earth Systems/Biosphere",
          "Natural Resources/Water Supply and Quality",
          "Natural Resources/Water Supply and Quality",
          "Consumption of Energy and Resources/Computation and Communication",
          "Climate and Earth Science/Climate Data Processing and Access",
          "Earth Systems/Hydrosphere",
          "Climate and Earth Science/Climate Data Processing and Access",
          "Natural Resources/Air Quality",
          "Climate and Earth Science/Climate Data Processing and Access",
          "Natural Resources/Agriculture and Nutrition",
          "Renewable Energy/Bioenergy",
          "Earth Systems/Biosphere",
          "Earth Systems/Cryosphere",
          "Renewable Energy/Photovoltaics and Solar Energy",
          "Consumption of Energy and Resources/Mobility and Transportation",
          "Earth Systems/Biosphere",
          "Earth Systems/Biosphere",
          "Energy Systems/Energy Modeling and Optimization",
          "Sustainable Development/Knowledge Platforms",
          "Energy Systems/Energy Modeling and Optimization",
          "Energy Systems/Datasets on Energy Systems",
          "Energy Systems/Datasets on Energy Systems",
          "Energy Systems/Energy Modeling and Optimization",
          "Energy Systems/Energy Distribution and Grids",
          "Energy Systems/Energy Modeling and Optimization",
          "Energy Systems/Energy Modeling and Optimization",
          "Natural Resources/Water Supply and Quality",
          "Industrial Ecology/Life Cycle Assessment",
          "Natural Resources/Water Supply and Quality",
          "Consumption of Energy and Resources/Mobility and Transportation",
          "Energy Systems/Energy Modeling and Optimization",
          "Consumption of Energy and Resources/Buildings and Heating",
          "Earth Systems/Hydrosphere",
          "Consumption of Energy and Resources/Buildings and Heating",
          "Consumption of Energy and Resources/Buildings and Heating",
          "Energy Systems/Energy Modeling and Optimization",
          "Sustainable Development/Sustainable Investment",
          "Climate and Earth Science/Radiative Transfer",
          "Renewable Energy/Photovoltaics and Solar Energy",
          "Emissions/Emission Observation and Modeling",
          "Consumption of Energy and Resources/Mobility and Transportation",
          "Consumption of Energy and Resources/Buildings and Heating",
          "Climate and Earth Science/Earth and Climate Modeling",
          "Climate and Earth Science/Earth and Climate Modeling",
          "Earth Systems/Biosphere",
          "Renewable Energy/Hydro Energy",
          "Renewable Energy/Hydro Energy",
          "Consumption of Energy and Resources/Mobility and Transportation",
          "Natural Resources/Air Quality",
          "Energy Storage/Battery",
          "Energy Systems/Energy Distribution and Grids",
          "Climate and Earth Science/Climate Data Processing and Access",
          "Climate and Earth Science/Earth and Climate Modeling",
          "Climate and Earth Science/Climate Data Processing and Access",
          "Climate and Earth Science/Earth and Climate Modeling",
          "Climate and Earth Science/Climate Data Processing and Access",
          "Earth Systems/Hydrosphere",
          "Sustainable Development/Sustainable Investment",
          "Natural Resources/Natural Hazard and Poverty",
          "Consumption of Energy and Resources/Mobility and Transportation",
          "Natural Resources/Agriculture and Nutrition",
          "Consumption of Energy and Resources/Mobility and Transportation",
          "Renewable Energy/Geothermal Energy",
          "Natural Resources/Soil and Land",
          "Renewable Energy/Photovoltaics and Solar Energy",
          "Renewable Energy/Photovoltaics and Solar Energy",
          "Earth Systems/Biosphere",
          "Energy Systems/Energy Modeling and Optimization",
          "Renewable Energy/Photovoltaics and Solar Energy",
          "Renewable Energy/Photovoltaics and Solar Energy",
          "Consumption of Energy and Resources/Mobility and Transportation",
          "Consumption of Energy and Resources/Buildings and Heating",
          "Energy Storage/Battery",
          "Natural Resources/Soil and Land",
          "Natural Resources/Soil and Land",
          "Natural Resources/Soil and Land",
          "Energy Systems/Energy Modeling and Optimization",
          "Energy Systems/Energy Modeling and Optimization",
          "Energy Systems/Energy Modeling and Optimization",
          "Industrial Ecology/Circular Economy and Waste",
          "Energy Systems/Energy Distribution and Grids",
          "Natural Resources/Water Supply and Quality",
          "Energy Systems/Energy Modeling and Optimization",
          "Natural Resources/Air Quality",
          "Natural Resources/Air Quality",
          "Natural Resources/Air Quality",
          "Industrial Ecology/Life Cycle Assessment",
          "Industrial Ecology/Life Cycle Assessment",
          "Natural Resources/Air Quality",
          "Natural Resources/Water Supply and Quality",
          "Natural Resources/Water Supply and Quality",
          "Natural Resources/Water Supply and Quality",
          "Industrial Ecology/Life Cycle Assessment",
          "Natural Resources/Water Supply and Quality",
          "Natural Resources/Water Supply and Quality",
          "Natural Resources/Water Supply and Quality",
          "Natural Resources/Water Supply and Quality",
          "Earth Systems/Hydrosphere",
          "Natural Resources/Water Supply and Quality",
          "Earth Systems/Hydrosphere",
          "Climate and Earth Science/Earth and Climate Modeling",
          "Earth Systems/Hydrosphere",
          "Consumption of Energy and Resources/Buildings and Heating",
          "Climate and Earth Science/Meteorological Observation and Forecast",
          "Climate and Earth Science/Meteorological Observation and Forecast",
          "Climate and Earth Science/Climate Data Processing and Access",
          "Climate and Earth Science/Climate Data Processing and Access",
          "Climate and Earth Science/Climate Data Processing and Access",
          "Sustainable Development/Data Catalogs and Interfaces",
          "Consumption of Energy and Resources/Mobility and Transportation",
          "Consumption of Energy and Resources/Mobility and Transportation",
          "Earth Systems/Biosphere",
          "Consumption of Energy and Resources/Buildings and Heating",
          "Earth Systems/Hydrosphere",
          "Climate and Earth Science/Climate Data Processing and Access",
          "Energy Storage/Hydrogen",
          "Earth Systems/Biosphere",
          "Natural Resources/Soil and Land",
          "Industrial Ecology/Life Cycle Assessment",
          "Renewable Energy/Hydro Energy",
          "Natural Resources/Natural Hazard and Poverty",
          "Renewable Energy/Wind Energy",
          "Renewable Energy/Wind Energy",
          "Renewable Energy/Wind Energy",
          "Renewable Energy/Wind Energy",
          "Renewable Energy/Wind Energy",
          "Renewable Energy/Photovoltaics and Solar Energy",
          "Earth Systems/Biosphere",
          "Industrial Ecology/Circular Economy and Waste",
          "Natural Resources/Water Supply and Quality",
          "Earth Systems/Biosphere",
          "Renewable Energy/Wind Energy",
          "Sustainable Development/Sustainable Investment",
          "Climate and Earth Science/Climate Data Processing and Access",
          "Consumption of Energy and Resources/Mobility and Transportation",
          "Climate and Earth Science/Climate Data Processing and Access",
          "Emissions/Carbon Intensity and Accounting",
          "Earth Systems/Biosphere",
          "Earth Systems/Biosphere",
          "Earth Systems/Biosphere",
          "Earth Systems/Biosphere",
          "Consumption of Energy and Resources/Mobility and Transportation",
          "Earth Systems/Biosphere",
          "Earth Systems/Biosphere",
          "Earth Systems/Hydrosphere",
          "Emissions/Emission Observation and Modeling",
          "Consumption of Energy and Resources/Buildings and Heating",
          "Emissions/Emission Observation and Modeling",
          "Emissions/Emission Observation and Modeling",
          "Climate and Earth Science/Radiative Transfer",
          "Renewable Energy/Wind Energy",
          "Renewable Energy/Wind Energy",
          "Earth Systems/Hydrosphere",
          "Energy Systems/Energy Modeling and Optimization",
          "Energy Storage/Battery",
          "Natural Resources/Water Supply and Quality",
          "Natural Resources/Water Supply and Quality",
          "Natural Resources/Water Supply and Quality",
          "Emissions/Emission Observation and Modeling",
          "Natural Resources/Water Supply and Quality",
          "Natural Resources/Water Supply and Quality",
          "Earth Systems/Biosphere",
          "Natural Resources/Water Supply and Quality",
          "Climate and Earth Science/Meteorological Observation and Forecast",
          "Earth Systems/Hydrosphere",
          "Earth Systems/Biosphere",
          "Consumption of Energy and Resources/Buildings and Heating",
          "Consumption of Energy and Resources/Mobility and Transportation",
          "Energy Systems/Energy Modeling and Optimization",
          "Energy Systems/Energy Modeling and Optimization",
          "Climate and Earth Science/Earth and Climate Modeling",
          "Earth Systems/Biosphere",
          "Climate and Earth Science/Climate Data Processing and Access",
          "Natural Resources/Soil and Land",
          "Natural Resources/Soil and Land",
          "Industrial Ecology/Life Cycle Assessment",
          "Renewable Energy/Wind Energy",
          "Climate and Earth Science/Meteorological Observation and Forecast",
          "Earth Systems/Biosphere",
          "Earth Systems/Atmosphere",
          "Energy Systems/Energy Modeling and Optimization",
          "Energy Systems/Energy Modeling and Optimization",
          "Renewable Energy/Hydro Energy",
          "Consumption of Energy and Resources/Computation and Communication",
          "Emissions/Carbon Capture and Removal",
          "Climate and Earth Science/Climate Data Processing and Access",
          "Earth Systems/Biosphere",
          "Earth Systems/Biosphere",
          "Energy Systems/Datasets on Energy Systems",
          "Earth Systems/Biosphere",
          "Climate and Earth Science/Climate Data Processing and Access",
          "Climate and Earth Science/Climate Data Processing and Access",
          "Earth Systems/Cryosphere",
          "Consumption of Energy and Resources/Mobility and Transportation",
          "Renewable Energy/Geothermal Energy",
          "Earth Systems/Hydrosphere",
          "Climate and Earth Science/Earth and Climate Modeling",
          "Industrial Ecology/Circular Economy and Waste",
          "Consumption of Energy and Resources/Mobility and Transportation",
          "Emissions/Carbon Intensity and Accounting",
          "Climate and Earth Science/Earth and Climate Modeling",
          "Consumption of Energy and Resources/Computation and Communication",
          "Natural Resources/Natural Hazard and Poverty",
          "Consumption of Energy and Resources/Computation and Communication",
          "Natural Resources/Water Supply and Quality",
          "Energy Systems/Energy Modeling and Optimization",
          "Consumption of Energy and Resources/Mobility and Transportation",
          "Earth Systems/Hydrosphere",
          "Climate and Earth Science/Climate Data Processing and Access",
          "Energy Systems/Datasets on Energy Systems",
          "Earth Systems/Cryosphere",
          "Climate and Earth Science/Earth and Climate Modeling",
          "Climate and Earth Science/Earth and Climate Modeling",
          "Energy Systems/Energy Modeling and Optimization",
          "Consumption of Energy and Resources/Mobility and Transportation",
          "Consumption of Energy and Resources/Mobility and Transportation",
          "Consumption of Energy and Resources/Mobility and Transportation",
          "Climate and Earth Science/Earth and Climate Modeling",
          "Earth Systems/Biosphere",
          "Renewable Energy/Photovoltaics and Solar Energy",
          "Earth Systems/Hydrosphere",
          "Emissions/Emission Observation and Modeling",
          "Natural Resources/Air Quality",
          "Energy Storage/Battery",
          "Climate and Earth Science/Climate Data Processing and Access",
          "Energy Systems/Energy Modeling and Optimization",
          "Sustainable Development/Data Catalogs and Interfaces",
          "Consumption of Energy and Resources/Mobility and Transportation",
          "Natural Resources/Agriculture and Nutrition",
          "Consumption of Energy and Resources/Computation and Communication",
          "Energy Systems/Energy Modeling and Optimization",
          "Consumption of Energy and Resources/Buildings and Heating",
          "Energy Storage/Battery",
          "Sustainable Development/Sustainable Development Goals",
          "Natural Resources/Soil and Land",
          "Energy Storage/Hydrogen",
          "Energy Systems/Energy Distribution and Grids",
          "Natural Resources/Soil and Land",
          "Earth Systems/Hydrosphere",
          "Climate and Earth Science/Radiative Transfer",
          "Earth Systems/Biosphere",
          "Climate and Earth Science/Meteorological Observation and Forecast",
          "Renewable Energy/Wind Energy",
          "Natural Resources/Natural Hazard and Poverty",
          "Earth Systems/Hydrosphere",
          "Climate and Earth Science/Earth and Climate Modeling",
          "Consumption of Energy and Resources/Buildings and Heating",
          "Climate and Earth Science/Earth and Climate Modeling",
          "Earth Systems/Biosphere",
          "Climate and Earth Science/Climate Data Processing and Access",
          "Climate and Earth Science/Climate Data Processing and Access",
          "Climate and Earth Science/Climate Data Processing and Access",
          "Sustainable Development/Data Catalogs and Interfaces",
          "Earth Systems/Biosphere",
          "Natural Resources/Water Supply and Quality",
          "Sustainable Development/Data Catalogs and Interfaces",
          "Emissions/Carbon Intensity and Accounting",
          "Climate and Earth Science/Meteorological Observation and Forecast",
          "Emissions/Emission Observation and Modeling",
          "Energy Systems/Energy Monitoring and Control",
          "Energy Systems/Datasets on Energy Systems",
          "Energy Systems/Energy Modeling and Optimization",
          "Renewable Energy/Hydro Energy",
          "Energy Systems/Energy Modeling and Optimization",
          "Energy Systems/Energy Distribution and Grids",
          "Consumption of Energy and Resources/Mobility and Transportation",
          "Energy Storage/Battery",
          "Climate and Earth Science/Radiative Transfer",
          "Consumption of Energy and Resources/Mobility and Transportation",
          "Climate and Earth Science/Earth and Climate Modeling",
          "Natural Resources/Soil and Land",
          "Earth Systems/Hydrosphere",
          "Consumption of Energy and Resources/Mobility and Transportation",
          "Sustainable Development/Data Catalogs and Interfaces",
          "Natural Resources/Soil and Land",
          "Natural Resources/Agriculture and Nutrition",
          "Industrial Ecology/Life Cycle Assessment",
          "Natural Resources/Agriculture and Nutrition",
          "Natural Resources/Agriculture and Nutrition",
          "Climate and Earth Science/Earth and Climate Modeling",
          "Earth Systems/Biosphere",
          "Earth Systems/Biosphere",
          "Climate and Earth Science/Earth and Climate Modeling",
          "Emissions/Emission Observation and Modeling",
          "Sustainable Development/Sustainable Investment",
          "Consumption of Energy and Resources/Computation and Communication",
          "Climate and Earth Science/Earth and Climate Modeling",
          "Industrial Ecology/Circular Economy and Waste",
          "Natural Resources/Soil and Land",
          "Natural Resources/Water Supply and Quality",
          "Earth Systems/Atmosphere",
          "Earth Systems/Atmosphere",
          "Earth Systems/Biosphere",
          "Earth Systems/Biosphere",
          "Natural Resources/Natural Hazard and Poverty",
          "Earth Systems/Biosphere",
          "Consumption of Energy and Resources/Mobility and Transportation",
          "Climate and Earth Science/Earth and Climate Modeling",
          "Consumption of Energy and Resources/Mobility and Transportation",
          "Climate and Earth Science/Climate Data Processing and Access",
          "Earth Systems/Hydrosphere",
          "Consumption of Energy and Resources/Computation and Communication",
          "Energy Systems/Energy Distribution and Grids",
          "Energy Systems/Energy Distribution and Grids",
          "Consumption of Energy and Resources/Mobility and Transportation",
          "Consumption of Energy and Resources/Mobility and Transportation",
          "Consumption of Energy and Resources/Mobility and Transportation",
          "Climate and Earth Science/Climate Data Processing and Access",
          "Earth Systems/Hydrosphere",
          "Natural Resources/Soil and Land",
          "Natural Resources/Agriculture and Nutrition",
          "Natural Resources/Agriculture and Nutrition",
          "Consumption of Energy and Resources/Buildings and Heating",
          "Consumption of Energy and Resources/Mobility and Transportation",
          "Consumption of Energy and Resources/Buildings and Heating",
          "Emissions/Carbon Capture and Removal",
          "Consumption of Energy and Resources/Computation and Communication",
          "Earth Systems/Biosphere",
          "Earth Systems/Hydrosphere",
          "Earth Systems/Hydrosphere",
          "Renewable Energy/Photovoltaics and Solar Energy",
          "Consumption of Energy and Resources/Buildings and Heating",
          "Consumption of Energy and Resources/Buildings and Heating",
          "Consumption of Energy and Resources/Buildings and Heating",
          "Consumption of Energy and Resources/Buildings and Heating",
          "Earth Systems/Cryosphere",
          "Climate and Earth Science/Climate Data Processing and Access",
          "Energy Systems/Energy Modeling and Optimization",
          "Energy Systems/Energy Distribution and Grids",
          "Natural Resources/Water Supply and Quality",
          "Climate and Earth Science/Integrated Assessment",
          "Climate and Earth Science/Integrated Assessment",
          "Natural Resources/Natural Hazard and Poverty",
          "Earth Systems/Biosphere",
          "Climate and Earth Science/Climate Data Processing and Access",
          "Energy Systems/Energy Modeling and Optimization",
          "Earth Systems/Biosphere",
          "Earth Systems/Hydrosphere",
          "Consumption of Energy and Resources/Computation and Communication",
          "Earth Systems/Biosphere",
          "Natural Resources/Water Supply and Quality",
          "Emissions/Carbon Intensity and Accounting",
          "Earth Systems/Biosphere",
          "Energy Storage/Battery",
          "Earth Systems/Cryosphere",
          "Earth Systems/Biosphere",
          "Natural Resources/Water Supply and Quality",
          "Consumption of Energy and Resources/Mobility and Transportation",
          "Earth Systems/Hydrosphere",
          "Consumption of Energy and Resources/Mobility and Transportation",
          "Natural Resources/Water Supply and Quality",
          "Natural Resources/Air Quality",
          "Natural Resources/Natural Hazard and Poverty",
          "Emissions/Carbon Intensity and Accounting",
          "Sustainable Development/Data Catalogs and Interfaces",
          "Natural Resources/Agriculture and Nutrition",
          "Earth Systems/Biosphere",
          "Natural Resources/Agriculture and Nutrition",
          "Energy Systems/Energy Modeling and Optimization",
          "Renewable Energy/Photovoltaics and Solar Energy",
          "Energy Systems/Datasets on Energy Systems",
          "Industrial Ecology/Life Cycle Assessment",
          "Earth Systems/Cryosphere",
          "Consumption of Energy and Resources/Computation and Communication",
          "Natural Resources/Agriculture and Nutrition",
          "Consumption of Energy and Resources/Computation and Communication",
          "Consumption of Energy and Resources/Computation and Communication",
          "Climate and Earth Science/Earth and Climate Modeling",
          "Renewable Energy/Photovoltaics and Solar Energy",
          "Consumption of Energy and Resources/Buildings and Heating",
          "Natural Resources/Soil and Land",
          "Energy Storage/Hydrogen",
          "Energy Systems/Energy Distribution and Grids",
          "Energy Systems/Energy Distribution and Grids",
          "Natural Resources/Water Supply and Quality",
          "Renewable Energy/Geothermal Energy",
          "Consumption of Energy and Resources/Buildings and Heating",
          "Consumption of Energy and Resources/Buildings and Heating",
          "Consumption of Energy and Resources/Buildings and Heating",
          "Energy Systems/Energy Modeling and Optimization",
          "Sustainable Development/Knowledge Platforms",
          "Energy Storage/Battery",
          "Earth Systems/Biosphere",
          "Energy Systems/Datasets on Energy Systems",
          "Consumption of Energy and Resources/Mobility and Transportation",
          "Natural Resources/Agriculture and Nutrition",
          "Natural Resources/Air Quality",
          "Natural Resources/Agriculture and Nutrition",
          "Earth Systems/Biosphere",
          "Industrial Ecology/Circular Economy and Waste",
          "Consumption of Energy and Resources/Mobility and Transportation",
          "Consumption of Energy and Resources/Computation and Communication",
          "Earth Systems/Biosphere",
          "Natural Resources/Soil and Land",
          "Energy Storage/Hydrogen",
          "Climate and Earth Science/Climate Data Processing and Access",
          "Natural Resources/Water Supply and Quality",
          "Natural Resources/Water Supply and Quality",
          "Consumption of Energy and Resources/Mobility and Transportation",
          "Renewable Energy/Photovoltaics and Solar Energy",
          "Earth Systems/Hydrosphere",
          "Climate and Earth Science/Climate Data Processing and Access",
          "Climate and Earth Science/Climate Data Processing and Access",
          "Natural Resources/Air Quality",
          "Climate and Earth Science/Climate Data Processing and Access",
          "Sustainable Development/Data Catalogs and Interfaces",
          "Sustainable Development/Data Catalogs and Interfaces",
          "Earth Systems/Biosphere",
          "Climate and Earth Science/Climate Data Processing and Access",
          "Emissions/Emission Observation and Modeling",
          "Earth Systems/Atmosphere",
          "Earth Systems/Hydrosphere",
          "Consumption of Energy and Resources/Computation and Communication",
          "Consumption of Energy and Resources/Computation and Communication",
          "Emissions/Emission Observation and Modeling",
          "Consumption of Energy and Resources/Mobility and Transportation",
          "Natural Resources/Water Supply and Quality",
          "Natural Resources/Soil and Land",
          "Climate and Earth Science/Earth and Climate Modeling",
          "Climate and Earth Science/Earth and Climate Modeling",
          "Natural Resources/Agriculture and Nutrition",
          "Natural Resources/Water Supply and Quality",
          "Consumption of Energy and Resources/Mobility and Transportation",
          "Natural Resources/Agriculture and Nutrition",
          "Earth Systems/Hydrosphere",
          "Sustainable Development/Data Catalogs and Interfaces",
          "Climate and Earth Science/Earth and Climate Modeling",
          "Earth Systems/Cryosphere",
          "Earth Systems/Cryosphere",
          "Climate and Earth Science/Climate Data Processing and Access",
          "Sustainable Development/Data Catalogs and Interfaces",
          "Natural Resources/Agriculture and Nutrition",
          "Sustainable Development/Sustainable Investment",
          "Climate and Earth Science/Climate Data Processing and Access",
          "Climate and Earth Science/Climate Data Processing and Access",
          "Natural Resources/Soil and Land",
          "Natural Resources/Soil and Land",
          "Natural Resources/Soil and Land",
          "Natural Resources/Soil and Land",
          "Natural Resources/Water Supply and Quality",
          "Energy Systems/Energy Modeling and Optimization",
          "Consumption of Energy and Resources/Buildings and Heating",
          "Renewable Energy/Wind Energy",
          "Sustainable Development/Data Catalogs and Interfaces",
          "Earth Systems/Cryosphere",
          "Earth Systems/Atmosphere",
          "Natural Resources/Natural Hazard and Poverty",
          "Consumption of Energy and Resources/Buildings and Heating",
          "Energy Systems/Energy Modeling and Optimization",
          "Renewable Energy/Photovoltaics and Solar Energy",
          "Energy Systems/Energy Modeling and Optimization",
          "Energy Systems/Energy Modeling and Optimization",
          "Energy Systems/Energy Modeling and Optimization",
          "Consumption of Energy and Resources/Buildings and Heating",
          "Energy Storage/Battery",
          "Industrial Ecology/Life Cycle Assessment",
          "Earth Systems/Hydrosphere",
          "Consumption of Energy and Resources/Buildings and Heating",
          "Consumption of Energy and Resources/Buildings and Heating",
          "Climate and Earth Science/Meteorological Observation and Forecast",
          "Sustainable Development/Sustainable Development Goals",
          "Energy Systems/Energy Modeling and Optimization",
          "Natural Resources/Air Quality",
          "Natural Resources/Air Quality",
          "Consumption of Energy and Resources/Mobility and Transportation",
          "Climate and Earth Science/Earth and Climate Modeling",
          "Emissions/Carbon Intensity and Accounting",
          "Sustainable Development/Data Catalogs and Interfaces",
          "Renewable Energy/Photovoltaics and Solar Energy",
          "Renewable Energy/Photovoltaics and Solar Energy",
          "Renewable Energy/Photovoltaics and Solar Energy",
          "Natural Resources/Air Quality",
          "Natural Resources/Air Quality",
          "Energy Systems/Energy Monitoring and Control",
          "Earth Systems/Atmosphere",
          "Energy Systems/Energy Distribution and Grids",
          "Energy Systems/Energy Monitoring and Control",
          "Energy Systems/Energy Monitoring and Control",
          "Natural Resources/Agriculture and Nutrition",
          "Natural Resources/Agriculture and Nutrition",
          "Earth Systems/Biosphere",
          "Sustainable Development/Data Catalogs and Interfaces",
          "Emissions/Emission Observation and Modeling",
          "Consumption of Energy and Resources/Mobility and Transportation",
          "Energy Systems/Datasets on Energy Systems",
          "Natural Resources/Air Quality",
          "Earth Systems/Biosphere",
          "Emissions/Carbon Intensity and Accounting",
          "Sustainable Development/Sustainable Investment",
          "Energy Systems/Energy Monitoring and Control",
          "Climate and Earth Science/Climate Data Processing and Access",
          "Sustainable Development/Sustainable Investment",
          "Emissions/Emission Observation and Modeling",
          "Energy Systems/Datasets on Energy Systems",
          "Sustainable Development/Data Catalogs and Interfaces",
          "Sustainable Development/Sustainable Development Goals",
          "Climate and Earth Science/Earth and Climate Modeling",
          "Climate and Earth Science/Earth and Climate Modeling",
          "Earth Systems/Hydrosphere",
          "Earth Systems/Hydrosphere",
          "Earth Systems/Hydrosphere",
          "Consumption of Energy and Resources/Computation and Communication",
          "Natural Resources/Water Supply and Quality",
          "Industrial Ecology/Circular Economy and Waste",
          "Sustainable Development/Knowledge Platforms",
          "Climate and Earth Science/Climate Data Processing and Access",
          "Sustainable Development/Data Catalogs and Interfaces",
          "Climate and Earth Science/Integrated Assessment",
          "Climate and Earth Science/Integrated Assessment",
          "Climate and Earth Science/Climate Data Processing and Access",
          "Renewable Energy/Photovoltaics and Solar Energy",
          "Earth Systems/Biosphere",
          "Earth Systems/Cryosphere",
          "Industrial Ecology/Life Cycle Assessment",
          "Natural Resources/Agriculture and Nutrition",
          "Energy Systems/Energy Distribution and Grids",
          "Consumption of Energy and Resources/Computation and Communication",
          "Consumption of Energy and Resources/Computation and Communication",
          "Energy Systems/Energy Modeling and Optimization",
          "Energy Systems/Energy Modeling and Optimization",
          "Earth Systems/Biosphere",
          "Earth Systems/Biosphere",
          "Earth Systems/Biosphere",
          "Renewable Energy/Photovoltaics and Solar Energy",
          "Renewable Energy/Photovoltaics and Solar Energy",
          "Renewable Energy/Photovoltaics and Solar Energy",
          "Renewable Energy/Photovoltaics and Solar Energy",
          "Natural Resources/Water Supply and Quality",
          "Energy Systems/Energy Modeling and Optimization",
          "Energy Storage/Battery",
          "Energy Storage/Battery",
          "Natural Resources/Water Supply and Quality",
          "Earth Systems/Biosphere",
          "Climate and Earth Science/Earth and Climate Modeling",
          "Energy Systems/Energy Modeling and Optimization",
          "Earth Systems/Biosphere",
          "Earth Systems/Biosphere",
          "Renewable Energy/Wind Energy",
          "Climate and Earth Science/Earth and Climate Modeling",
          "Natural Resources/Soil and Land",
          "Renewable Energy/Photovoltaics and Solar Energy",
          "Renewable Energy/Photovoltaics and Solar Energy",
          "Energy Systems/Energy Distribution and Grids",
          "Energy Systems/Energy Distribution and Grids",
          "Emissions/Emission Observation and Modeling",
          "Earth Systems/Biosphere",
          "Natural Resources/Soil and Land",
          "Natural Resources/Agriculture and Nutrition",
          "Sustainable Development/Data Catalogs and Interfaces",
          "Sustainable Development/Data Catalogs and Interfaces",
          "Climate and Earth Science/Climate Data Processing and Access",
          "Earth Systems/Hydrosphere",
          "Sustainable Development/Data Catalogs and Interfaces",
          "Energy Storage/Battery",
          "Earth Systems/Biosphere",
          "Energy Systems/Energy Modeling and Optimization",
          "Sustainable Development/Knowledge Platforms",
          "Natural Resources/Soil and Land",
          "Sustainable Development/Sustainable Investment",
          "Renewable Energy/Photovoltaics and Solar Energy",
          "Sustainable Development/Data Catalogs and Interfaces",
          "Consumption of Energy and Resources/Computation and Communication",
          "Earth Systems/Atmosphere",
          "Energy Systems/Energy Modeling and Optimization",
          "Energy Systems/Energy Distribution and Grids",
          "Energy Storage/Battery",
          "Energy Systems/Energy Distribution and Grids",
          "Climate and Earth Science/Radiative Transfer",
          "Earth Systems/Hydrosphere",
          "Industrial Ecology/Life Cycle Assessment",
          "Climate and Earth Science/Climate Data Processing and Access",
          "Climate and Earth Science/Climate Data Processing and Access",
          "Sustainable Development/Data Catalogs and Interfaces",
          "Natural Resources/Soil and Land",
          "Consumption of Energy and Resources/Mobility and Transportation",
          "Climate and Earth Science/Climate Data Processing and Access",
          "Natural Resources/Water Supply and Quality",
          "Climate and Earth Science/Earth and Climate Modeling",
          "Climate and Earth Science/Climate Data Processing and Access",
          "Energy Systems/Datasets on Energy Systems",
          "Sustainable Development/Data Catalogs and Interfaces",
          "Climate and Earth Science/Climate Data Processing and Access",
          "Earth Systems/Hydrosphere",
          "Renewable Energy/Photovoltaics and Solar Energy",
          "Climate and Earth Science/Climate Data Processing and Access",
          "Natural Resources/Air Quality",
          "Natural Resources/Air Quality",
          "Earth Systems/Biosphere",
          "Earth Systems/Biosphere",
          "Earth Systems/Biosphere",
          "Earth Systems/Hydrosphere",
          "Earth Systems/Biosphere",
          "Earth Systems/Hydrosphere",
          "Natural Resources/Soil and Land",
          "Earth Systems/Biosphere",
          "Consumption of Energy and Resources/Mobility and Transportation",
          "Earth Systems/Biosphere",
          "Earth Systems/Hydrosphere",
          "Climate and Earth Science/Meteorological Observation and Forecast",
          "Energy Systems/Energy Modeling and Optimization",
          "Energy Systems/Energy Modeling and Optimization",
          "Energy Systems/Energy Distribution and Grids",
          "Energy Storage/Hydrogen",
          "Industrial Ecology/Circular Economy and Waste",
          "Renewable Energy/Bioenergy",
          "Emissions/Emission Observation and Modeling",
          "Consumption of Energy and Resources/Computation and Communication",
          "Natural Resources/Water Supply and Quality",
          "Consumption of Energy and Resources/Mobility and Transportation",
          "Earth Systems/Hydrosphere",
          "Natural Resources/Air Quality",
          "Sustainable Development/Data Catalogs and Interfaces",
          "Natural Resources/Agriculture and Nutrition",
          "Sustainable Development/Data Catalogs and Interfaces",
          "Sustainable Development/Data Catalogs and Interfaces",
          "Earth Systems/Biosphere",
          "Natural Resources/Air Quality",
          "Natural Resources/Air Quality",
          "Earth Systems/Atmosphere",
          "Emissions/Carbon Intensity and Accounting",
          "Natural Resources/Soil and Land",
          "Renewable Energy/Wind Energy",
          "Natural Resources/Agriculture and Nutrition",
          "Natural Resources/Air Quality",
          "Natural Resources/Air Quality",
          "Renewable Energy/Photovoltaics and Solar Energy",
          "Energy Systems/Energy Modeling and Optimization",
          "Energy Systems/Energy Distribution and Grids",
          "Renewable Energy/Photovoltaics and Solar Energy",
          "Climate and Earth Science/Radiative Transfer",
          "Earth Systems/Atmosphere",
          "Sustainable Development/Data Catalogs and Interfaces",
          "Earth Systems/Cryosphere",
          "Energy Storage/Battery",
          "Energy Systems/Energy Modeling and Optimization",
          "Earth Systems/Biosphere",
          "Earth Systems/Atmosphere",
          "Natural Resources/Natural Hazard and Poverty",
          "Natural Resources/Air Quality",
          "Renewable Energy/Photovoltaics and Solar Energy",
          "Natural Resources/Agriculture and Nutrition",
          "Sustainable Development/Data Catalogs and Interfaces",
          "Consumption of Energy and Resources/Mobility and Transportation",
          "Consumption of Energy and Resources/Mobility and Transportation",
          "Sustainable Development/Knowledge Platforms",
          "Consumption of Energy and Resources/Computation and Communication",
          "Sustainable Development/Sustainable Development Goals",
          "Energy Systems/Energy Modeling and Optimization",
          "Energy Systems/Datasets on Energy Systems",
          "Consumption of Energy and Resources/Mobility and Transportation",
          "Natural Resources/Water Supply and Quality",
          "Renewable Energy/Photovoltaics and Solar Energy",
          "Earth Systems/Biosphere",
          "Earth Systems/Hydrosphere",
          "Natural Resources/Soil and Land",
          "Earth Systems/Biosphere",
          "Climate and Earth Science/Radiative Transfer",
          "Consumption of Energy and Resources/Computation and Communication",
          "Consumption of Energy and Resources/Computation and Communication",
          "Energy Systems/Datasets on Energy Systems",
          "Earth Systems/Biosphere",
          "Earth Systems/Atmosphere",
          "Natural Resources/Water Supply and Quality",
          "Earth Systems/Biosphere",
          "Consumption of Energy and Resources/Mobility and Transportation",
          "Consumption of Energy and Resources/Buildings and Heating",
          "Energy Systems/Energy Modeling and Optimization",
          "Energy Systems/Energy Modeling and Optimization",
          "Renewable Energy/Wind Energy",
          "Emissions/Emission Observation and Modeling",
          "Emissions/Emission Observation and Modeling",
          "Consumption of Energy and Resources/Mobility and Transportation",
          "Climate and Earth Science/Earth and Climate Modeling",
          "Earth Systems/Biosphere",
          "Consumption of Energy and Resources/Mobility and Transportation",
          "Energy Systems/Energy Distribution and Grids",
          "Earth Systems/Biosphere",
          "Natural Resources/Water Supply and Quality",
          "Sustainable Development/Knowledge Platforms",
          "Industrial Ecology/Life Cycle Assessment",
          "Earth Systems/Cryosphere",
          "Consumption of Energy and Resources/Buildings and Heating",
          "Consumption of Energy and Resources/Buildings and Heating",
          "Renewable Energy/Geothermal Energy",
          "Natural Resources/Soil and Land",
          "Earth Systems/Biosphere",
          "Earth Systems/Biosphere",
          "Earth Systems/Biosphere",
          "Earth Systems/Cryosphere",
          "Earth Systems/Cryosphere",
          "Sustainable Development/Sustainable Investment",
          "Industrial Ecology/Circular Economy and Waste",
          "Renewable Energy/Wind Energy",
          "Earth Systems/Biosphere",
          "Renewable Energy/Geothermal Energy",
          "Sustainable Development/Data Catalogs and Interfaces",
          "Climate and Earth Science/Earth and Climate Modeling",
          "Earth Systems/Biosphere",
          "Earth Systems/Biosphere",
          "Energy Systems/Datasets on Energy Systems",
          "Earth Systems/Biosphere",
          "Climate and Earth Science/Climate Data Processing and Access",
          "Climate and Earth Science/Climate Data Processing and Access",
          "Climate and Earth Science/Earth and Climate Modeling",
          "Natural Resources/Agriculture and Nutrition",
          "Climate and Earth Science/Climate Data Processing and Access",
          "Natural Resources",
          "Natural Resources",
          "Earth Systems",
          "Energy Storage",
          "Renewable Energy",
          "Earth Systems",
          "Consumption of Energy and Resources",
          "Emissions",
          "Emissions",
          "Industrial Ecology",
          "Climate and Earth Science",
          "Consumption of Energy and Resources",
          "Earth Systems",
          "Sustainable Development",
          "Energy Systems",
          "Climate and Earth Science",
          "Emissions",
          "Energy Systems",
          "Energy Systems",
          "Energy Systems",
          "Renewable Energy",
          "Renewable Energy",
          "Energy Storage",
          "Earth Systems",
          "Climate and Earth Science",
          "Sustainable Development",
          "Industrial Ecology",
          "Climate and Earth Science",
          "Consumption of Energy and Resources",
          "Natural Resources",
          "Renewable Energy",
          "Consumption of Energy and Resources",
          "Climate and Earth Science",
          "Natural Resources",
          "Sustainable Development",
          "Sustainable Development",
          "Natural Resources",
          "Renewable Energy",
          "",
          "",
          "",
          "",
          "",
          "",
          "",
          "",
          "",
          ""
         ],
         "textinfo": "label",
         "type": "sunburst",
         "values": [
          1,
          1,
          1,
          1,
          1,
          1,
          1,
          1,
          1,
          1,
          1,
          1,
          1,
          1,
          1,
          1,
          1,
          1,
          1,
          1,
          1,
          1,
          1,
          1,
          1,
          1,
          1,
          1,
          1,
          1,
          1,
          1,
          1,
          1,
          1,
          1,
          1,
          1,
          1,
          1,
          1,
          1,
          1,
          1,
          1,
          1,
          1,
          1,
          1,
          1,
          1,
          1,
          1,
          1,
          1,
          1,
          1,
          1,
          1,
          1,
          1,
          1,
          1,
          1,
          1,
          1,
          1,
          1,
          1,
          1,
          1,
          1,
          1,
          1,
          1,
          1,
          1,
          1,
          1,
          1,
          1,
          1,
          1,
          1,
          1,
          1,
          1,
          1,
          1,
          1,
          1,
          1,
          1,
          1,
          1,
          1,
          1,
          1,
          1,
          1,
          1,
          1,
          1,
          1,
          1,
          1,
          1,
          1,
          1,
          1,
          1,
          1,
          1,
          1,
          1,
          1,
          1,
          1,
          1,
          1,
          1,
          1,
          1,
          1,
          1,
          1,
          1,
          1,
          1,
          1,
          1,
          1,
          1,
          1,
          1,
          1,
          1,
          1,
          1,
          1,
          1,
          1,
          1,
          1,
          1,
          1,
          1,
          1,
          1,
          1,
          1,
          1,
          1,
          1,
          1,
          1,
          1,
          1,
          1,
          1,
          1,
          1,
          1,
          1,
          1,
          1,
          1,
          1,
          1,
          1,
          1,
          1,
          1,
          1,
          1,
          1,
          1,
          1,
          1,
          1,
          1,
          1,
          1,
          1,
          1,
          1,
          1,
          1,
          1,
          1,
          1,
          1,
          1,
          1,
          1,
          1,
          1,
          1,
          1,
          1,
          1,
          1,
          1,
          1,
          1,
          1,
          1,
          1,
          1,
          1,
          1,
          1,
          1,
          1,
          1,
          1,
          1,
          1,
          1,
          1,
          1,
          1,
          1,
          1,
          1,
          1,
          1,
          1,
          1,
          1,
          1,
          1,
          1,
          1,
          1,
          1,
          1,
          1,
          1,
          1,
          1,
          1,
          1,
          1,
          1,
          1,
          1,
          1,
          1,
          1,
          1,
          1,
          1,
          1,
          1,
          1,
          1,
          1,
          1,
          1,
          1,
          1,
          1,
          1,
          1,
          1,
          1,
          1,
          1,
          1,
          1,
          1,
          1,
          1,
          1,
          1,
          1,
          1,
          1,
          1,
          1,
          1,
          1,
          1,
          1,
          1,
          1,
          1,
          1,
          1,
          1,
          1,
          1,
          1,
          1,
          1,
          1,
          1,
          1,
          1,
          1,
          1,
          1,
          1,
          1,
          1,
          1,
          1,
          1,
          1,
          1,
          1,
          1,
          1,
          1,
          1,
          1,
          1,
          1,
          1,
          1,
          1,
          1,
          1,
          1,
          1,
          1,
          1,
          1,
          1,
          1,
          1,
          1,
          1,
          1,
          1,
          1,
          1,
          1,
          1,
          1,
          1,
          1,
          1,
          1,
          1,
          1,
          1,
          1,
          1,
          1,
          1,
          1,
          1,
          1,
          1,
          1,
          1,
          1,
          1,
          1,
          1,
          1,
          1,
          1,
          1,
          1,
          1,
          1,
          1,
          1,
          1,
          1,
          1,
          1,
          1,
          1,
          1,
          1,
          1,
          1,
          1,
          1,
          1,
          1,
          1,
          1,
          1,
          1,
          1,
          1,
          1,
          1,
          1,
          1,
          1,
          1,
          1,
          1,
          1,
          1,
          1,
          1,
          1,
          1,
          1,
          1,
          1,
          1,
          1,
          1,
          1,
          1,
          1,
          1,
          1,
          1,
          1,
          1,
          1,
          1,
          1,
          1,
          1,
          1,
          1,
          1,
          1,
          1,
          1,
          1,
          1,
          1,
          1,
          1,
          1,
          1,
          1,
          1,
          1,
          1,
          1,
          1,
          1,
          1,
          1,
          1,
          1,
          1,
          1,
          1,
          1,
          1,
          1,
          1,
          1,
          1,
          1,
          1,
          1,
          1,
          1,
          1,
          1,
          1,
          1,
          1,
          1,
          1,
          1,
          1,
          1,
          1,
          1,
          1,
          1,
          1,
          1,
          1,
          1,
          1,
          1,
          1,
          1,
          1,
          1,
          1,
          1,
          1,
          1,
          1,
          1,
          1,
          1,
          1,
          1,
          1,
          1,
          1,
          1,
          1,
          1,
          1,
          1,
          1,
          1,
          1,
          1,
          1,
          1,
          1,
          1,
          1,
          1,
          1,
          1,
          1,
          1,
          1,
          1,
          1,
          1,
          1,
          1,
          1,
          1,
          1,
          1,
          1,
          1,
          1,
          1,
          1,
          1,
          1,
          1,
          1,
          1,
          1,
          1,
          1,
          1,
          1,
          1,
          1,
          1,
          1,
          1,
          1,
          1,
          1,
          1,
          1,
          1,
          1,
          1,
          1,
          1,
          1,
          1,
          1,
          1,
          1,
          1,
          1,
          1,
          1,
          1,
          1,
          1,
          1,
          1,
          1,
          1,
          1,
          1,
          1,
          1,
          1,
          1,
          1,
          1,
          1,
          1,
          1,
          1,
          1,
          1,
          1,
          1,
          1,
          1,
          1,
          1,
          1,
          1,
          1,
          1,
          1,
          1,
          1,
          1,
          1,
          1,
          1,
          1,
          1,
          1,
          1,
          1,
          1,
          1,
          1,
          1,
          1,
          1,
          1,
          1,
          1,
          1,
          1,
          1,
          1,
          1,
          1,
          1,
          1,
          1,
          1,
          1,
          1,
          1,
          1,
          1,
          1,
          1,
          1,
          1,
          1,
          1,
          1,
          1,
          1,
          1,
          1,
          1,
          1,
          1,
          1,
          1,
          1,
          1,
          1,
          1,
          1,
          1,
          1,
          1,
          1,
          1,
          1,
          1,
          1,
          1,
          1,
          1,
          1,
          1,
          1,
          1,
          1,
          1,
          1,
          1,
          1,
          1,
          1,
          1,
          1,
          1,
          1,
          1,
          1,
          1,
          1,
          1,
          1,
          1,
          1,
          1,
          1,
          1,
          1,
          1,
          1,
          1,
          1,
          1,
          1,
          1,
          1,
          1,
          1,
          1,
          1,
          1,
          1,
          1,
          1,
          1,
          1,
          1,
          1,
          1,
          1,
          1,
          1,
          1,
          1,
          1,
          1,
          1,
          1,
          1,
          1,
          1,
          1,
          1,
          1,
          1,
          1,
          1,
          1,
          1,
          1,
          1,
          1,
          1,
          1,
          1,
          1,
          1,
          1,
          1,
          1,
          1,
          1,
          1,
          1,
          1,
          1,
          1,
          1,
          1,
          1,
          1,
          1,
          1,
          1,
          1,
          1,
          1,
          1,
          1,
          1,
          1,
          1,
          1,
          1,
          1,
          1,
          1,
          1,
          1,
          1,
          1,
          1,
          1,
          1,
          1,
          1,
          1,
          1,
          1,
          1,
          1,
          1,
          1,
          1,
          1,
          1,
          1,
          1,
          1,
          1,
          1,
          1,
          1,
          1,
          1,
          1,
          1,
          1,
          1,
          1,
          1,
          1,
          1,
          1,
          1,
          1,
          1,
          1,
          1,
          1,
          1,
          1,
          1,
          1,
          1,
          1,
          1,
          1,
          1,
          1,
          1,
          1,
          1,
          1,
          1,
          1,
          1,
          1,
          1,
          1,
          1,
          1,
          1,
          1,
          1,
          1,
          1,
          1,
          1,
          1,
          1,
          1,
          1,
          1,
          1,
          1,
          1,
          1,
          1,
          1,
          1,
          1,
          1,
          1,
          1,
          1,
          1,
          1,
          1,
          1,
          1,
          1,
          1,
          1,
          1,
          1,
          1,
          1,
          1,
          1,
          1,
          1,
          1,
          1,
          1,
          1,
          1,
          1,
          1,
          1,
          1,
          1,
          1,
          1,
          1,
          1,
          1,
          1,
          1,
          1,
          1,
          1,
          1,
          1,
          1,
          1,
          1,
          1,
          1,
          1,
          1,
          1,
          1,
          1,
          1,
          1,
          1,
          1,
          1,
          1,
          1,
          1,
          1,
          1,
          1,
          1,
          1,
          1,
          1,
          1,
          1,
          1,
          1,
          1,
          1,
          1,
          1,
          1,
          1,
          1,
          1,
          1,
          1,
          1,
          1,
          1,
          1,
          1,
          1,
          1,
          1,
          1,
          1,
          1,
          1,
          1,
          1,
          1,
          1,
          1,
          1,
          1,
          1,
          1,
          1,
          1,
          1,
          1,
          1,
          1,
          1,
          1,
          1,
          1,
          1,
          1,
          1,
          1,
          1,
          1,
          1,
          1,
          1,
          33,
          26,
          19,
          17,
          3,
          91,
          46,
          4,
          13,
          13,
          51,
          27,
          21,
          31,
          19,
          57,
          22,
          24,
          76,
          8,
          7,
          9,
          8,
          60,
          7,
          13,
          14,
          8,
          60,
          13,
          40,
          1,
          8,
          33,
          6,
          10,
          53,
          27,
          131,
          134,
          191,
          39,
          25,
          127,
          27,
          158,
          86,
          60
         ]
        }
       ],
       "layout": {
        "coloraxis": {
         "cmid": 0.33521815873409094,
         "colorbar": {
          "title": {
           "text": "DDS"
          }
         },
         "colorscale": [
          [
           0,
           "#3b52ff"
          ],
          [
           0.5,
           "#f1f1f1"
          ],
          [
           1,
           "#169485"
          ]
         ]
        },
        "font": {
         "size": 12
        },
        "height": 1000,
        "legend": {
         "tracegroupgap": 0
        },
        "margin": {
         "t": 60
        },
        "template": {
         "data": {
          "bar": [
           {
            "error_x": {
             "color": "#2a3f5f"
            },
            "error_y": {
             "color": "#2a3f5f"
            },
            "marker": {
             "line": {
              "color": "#E5ECF6",
              "width": 0.5
             },
             "pattern": {
              "fillmode": "overlay",
              "size": 10,
              "solidity": 0.2
             }
            },
            "type": "bar"
           }
          ],
          "barpolar": [
           {
            "marker": {
             "line": {
              "color": "#E5ECF6",
              "width": 0.5
             },
             "pattern": {
              "fillmode": "overlay",
              "size": 10,
              "solidity": 0.2
             }
            },
            "type": "barpolar"
           }
          ],
          "carpet": [
           {
            "aaxis": {
             "endlinecolor": "#2a3f5f",
             "gridcolor": "white",
             "linecolor": "white",
             "minorgridcolor": "white",
             "startlinecolor": "#2a3f5f"
            },
            "baxis": {
             "endlinecolor": "#2a3f5f",
             "gridcolor": "white",
             "linecolor": "white",
             "minorgridcolor": "white",
             "startlinecolor": "#2a3f5f"
            },
            "type": "carpet"
           }
          ],
          "choropleth": [
           {
            "colorbar": {
             "outlinewidth": 0,
             "ticks": ""
            },
            "type": "choropleth"
           }
          ],
          "contour": [
           {
            "colorbar": {
             "outlinewidth": 0,
             "ticks": ""
            },
            "colorscale": [
             [
              0,
              "#0d0887"
             ],
             [
              0.1111111111111111,
              "#46039f"
             ],
             [
              0.2222222222222222,
              "#7201a8"
             ],
             [
              0.3333333333333333,
              "#9c179e"
             ],
             [
              0.4444444444444444,
              "#bd3786"
             ],
             [
              0.5555555555555556,
              "#d8576b"
             ],
             [
              0.6666666666666666,
              "#ed7953"
             ],
             [
              0.7777777777777778,
              "#fb9f3a"
             ],
             [
              0.8888888888888888,
              "#fdca26"
             ],
             [
              1,
              "#f0f921"
             ]
            ],
            "type": "contour"
           }
          ],
          "contourcarpet": [
           {
            "colorbar": {
             "outlinewidth": 0,
             "ticks": ""
            },
            "type": "contourcarpet"
           }
          ],
          "heatmap": [
           {
            "colorbar": {
             "outlinewidth": 0,
             "ticks": ""
            },
            "colorscale": [
             [
              0,
              "#0d0887"
             ],
             [
              0.1111111111111111,
              "#46039f"
             ],
             [
              0.2222222222222222,
              "#7201a8"
             ],
             [
              0.3333333333333333,
              "#9c179e"
             ],
             [
              0.4444444444444444,
              "#bd3786"
             ],
             [
              0.5555555555555556,
              "#d8576b"
             ],
             [
              0.6666666666666666,
              "#ed7953"
             ],
             [
              0.7777777777777778,
              "#fb9f3a"
             ],
             [
              0.8888888888888888,
              "#fdca26"
             ],
             [
              1,
              "#f0f921"
             ]
            ],
            "type": "heatmap"
           }
          ],
          "heatmapgl": [
           {
            "colorbar": {
             "outlinewidth": 0,
             "ticks": ""
            },
            "colorscale": [
             [
              0,
              "#0d0887"
             ],
             [
              0.1111111111111111,
              "#46039f"
             ],
             [
              0.2222222222222222,
              "#7201a8"
             ],
             [
              0.3333333333333333,
              "#9c179e"
             ],
             [
              0.4444444444444444,
              "#bd3786"
             ],
             [
              0.5555555555555556,
              "#d8576b"
             ],
             [
              0.6666666666666666,
              "#ed7953"
             ],
             [
              0.7777777777777778,
              "#fb9f3a"
             ],
             [
              0.8888888888888888,
              "#fdca26"
             ],
             [
              1,
              "#f0f921"
             ]
            ],
            "type": "heatmapgl"
           }
          ],
          "histogram": [
           {
            "marker": {
             "pattern": {
              "fillmode": "overlay",
              "size": 10,
              "solidity": 0.2
             }
            },
            "type": "histogram"
           }
          ],
          "histogram2d": [
           {
            "colorbar": {
             "outlinewidth": 0,
             "ticks": ""
            },
            "colorscale": [
             [
              0,
              "#0d0887"
             ],
             [
              0.1111111111111111,
              "#46039f"
             ],
             [
              0.2222222222222222,
              "#7201a8"
             ],
             [
              0.3333333333333333,
              "#9c179e"
             ],
             [
              0.4444444444444444,
              "#bd3786"
             ],
             [
              0.5555555555555556,
              "#d8576b"
             ],
             [
              0.6666666666666666,
              "#ed7953"
             ],
             [
              0.7777777777777778,
              "#fb9f3a"
             ],
             [
              0.8888888888888888,
              "#fdca26"
             ],
             [
              1,
              "#f0f921"
             ]
            ],
            "type": "histogram2d"
           }
          ],
          "histogram2dcontour": [
           {
            "colorbar": {
             "outlinewidth": 0,
             "ticks": ""
            },
            "colorscale": [
             [
              0,
              "#0d0887"
             ],
             [
              0.1111111111111111,
              "#46039f"
             ],
             [
              0.2222222222222222,
              "#7201a8"
             ],
             [
              0.3333333333333333,
              "#9c179e"
             ],
             [
              0.4444444444444444,
              "#bd3786"
             ],
             [
              0.5555555555555556,
              "#d8576b"
             ],
             [
              0.6666666666666666,
              "#ed7953"
             ],
             [
              0.7777777777777778,
              "#fb9f3a"
             ],
             [
              0.8888888888888888,
              "#fdca26"
             ],
             [
              1,
              "#f0f921"
             ]
            ],
            "type": "histogram2dcontour"
           }
          ],
          "mesh3d": [
           {
            "colorbar": {
             "outlinewidth": 0,
             "ticks": ""
            },
            "type": "mesh3d"
           }
          ],
          "parcoords": [
           {
            "line": {
             "colorbar": {
              "outlinewidth": 0,
              "ticks": ""
             }
            },
            "type": "parcoords"
           }
          ],
          "pie": [
           {
            "automargin": true,
            "type": "pie"
           }
          ],
          "scatter": [
           {
            "fillpattern": {
             "fillmode": "overlay",
             "size": 10,
             "solidity": 0.2
            },
            "type": "scatter"
           }
          ],
          "scatter3d": [
           {
            "line": {
             "colorbar": {
              "outlinewidth": 0,
              "ticks": ""
             }
            },
            "marker": {
             "colorbar": {
              "outlinewidth": 0,
              "ticks": ""
             }
            },
            "type": "scatter3d"
           }
          ],
          "scattercarpet": [
           {
            "marker": {
             "colorbar": {
              "outlinewidth": 0,
              "ticks": ""
             }
            },
            "type": "scattercarpet"
           }
          ],
          "scattergeo": [
           {
            "marker": {
             "colorbar": {
              "outlinewidth": 0,
              "ticks": ""
             }
            },
            "type": "scattergeo"
           }
          ],
          "scattergl": [
           {
            "marker": {
             "colorbar": {
              "outlinewidth": 0,
              "ticks": ""
             }
            },
            "type": "scattergl"
           }
          ],
          "scattermapbox": [
           {
            "marker": {
             "colorbar": {
              "outlinewidth": 0,
              "ticks": ""
             }
            },
            "type": "scattermapbox"
           }
          ],
          "scatterpolar": [
           {
            "marker": {
             "colorbar": {
              "outlinewidth": 0,
              "ticks": ""
             }
            },
            "type": "scatterpolar"
           }
          ],
          "scatterpolargl": [
           {
            "marker": {
             "colorbar": {
              "outlinewidth": 0,
              "ticks": ""
             }
            },
            "type": "scatterpolargl"
           }
          ],
          "scatterternary": [
           {
            "marker": {
             "colorbar": {
              "outlinewidth": 0,
              "ticks": ""
             }
            },
            "type": "scatterternary"
           }
          ],
          "surface": [
           {
            "colorbar": {
             "outlinewidth": 0,
             "ticks": ""
            },
            "colorscale": [
             [
              0,
              "#0d0887"
             ],
             [
              0.1111111111111111,
              "#46039f"
             ],
             [
              0.2222222222222222,
              "#7201a8"
             ],
             [
              0.3333333333333333,
              "#9c179e"
             ],
             [
              0.4444444444444444,
              "#bd3786"
             ],
             [
              0.5555555555555556,
              "#d8576b"
             ],
             [
              0.6666666666666666,
              "#ed7953"
             ],
             [
              0.7777777777777778,
              "#fb9f3a"
             ],
             [
              0.8888888888888888,
              "#fdca26"
             ],
             [
              1,
              "#f0f921"
             ]
            ],
            "type": "surface"
           }
          ],
          "table": [
           {
            "cells": {
             "fill": {
              "color": "#EBF0F8"
             },
             "line": {
              "color": "white"
             }
            },
            "header": {
             "fill": {
              "color": "#C8D4E3"
             },
             "line": {
              "color": "white"
             }
            },
            "type": "table"
           }
          ]
         },
         "layout": {
          "annotationdefaults": {
           "arrowcolor": "#2a3f5f",
           "arrowhead": 0,
           "arrowwidth": 1
          },
          "autotypenumbers": "strict",
          "coloraxis": {
           "colorbar": {
            "outlinewidth": 0,
            "ticks": ""
           }
          },
          "colorscale": {
           "diverging": [
            [
             0,
             "#8e0152"
            ],
            [
             0.1,
             "#c51b7d"
            ],
            [
             0.2,
             "#de77ae"
            ],
            [
             0.3,
             "#f1b6da"
            ],
            [
             0.4,
             "#fde0ef"
            ],
            [
             0.5,
             "#f7f7f7"
            ],
            [
             0.6,
             "#e6f5d0"
            ],
            [
             0.7,
             "#b8e186"
            ],
            [
             0.8,
             "#7fbc41"
            ],
            [
             0.9,
             "#4d9221"
            ],
            [
             1,
             "#276419"
            ]
           ],
           "sequential": [
            [
             0,
             "#0d0887"
            ],
            [
             0.1111111111111111,
             "#46039f"
            ],
            [
             0.2222222222222222,
             "#7201a8"
            ],
            [
             0.3333333333333333,
             "#9c179e"
            ],
            [
             0.4444444444444444,
             "#bd3786"
            ],
            [
             0.5555555555555556,
             "#d8576b"
            ],
            [
             0.6666666666666666,
             "#ed7953"
            ],
            [
             0.7777777777777778,
             "#fb9f3a"
            ],
            [
             0.8888888888888888,
             "#fdca26"
            ],
            [
             1,
             "#f0f921"
            ]
           ],
           "sequentialminus": [
            [
             0,
             "#0d0887"
            ],
            [
             0.1111111111111111,
             "#46039f"
            ],
            [
             0.2222222222222222,
             "#7201a8"
            ],
            [
             0.3333333333333333,
             "#9c179e"
            ],
            [
             0.4444444444444444,
             "#bd3786"
            ],
            [
             0.5555555555555556,
             "#d8576b"
            ],
            [
             0.6666666666666666,
             "#ed7953"
            ],
            [
             0.7777777777777778,
             "#fb9f3a"
            ],
            [
             0.8888888888888888,
             "#fdca26"
            ],
            [
             1,
             "#f0f921"
            ]
           ]
          },
          "colorway": [
           "#636efa",
           "#EF553B",
           "#00cc96",
           "#ab63fa",
           "#FFA15A",
           "#19d3f3",
           "#FF6692",
           "#B6E880",
           "#FF97FF",
           "#FECB52"
          ],
          "font": {
           "color": "#040404",
           "family": "Open Sans",
           "size": 15
          },
          "geo": {
           "bgcolor": "white",
           "lakecolor": "white",
           "landcolor": "#E5ECF6",
           "showlakes": true,
           "showland": true,
           "subunitcolor": "white"
          },
          "hoverlabel": {
           "align": "left"
          },
          "hovermode": "closest",
          "mapbox": {
           "style": "light"
          },
          "margin": {
           "b": 0
          },
          "paper_bgcolor": "white",
          "plot_bgcolor": "#E5ECF6",
          "polar": {
           "angularaxis": {
            "gridcolor": "white",
            "linecolor": "white",
            "ticks": ""
           },
           "bgcolor": "#E5ECF6",
           "radialaxis": {
            "gridcolor": "white",
            "linecolor": "white",
            "ticks": ""
           }
          },
          "scene": {
           "xaxis": {
            "backgroundcolor": "#E5ECF6",
            "gridcolor": "white",
            "gridwidth": 2,
            "linecolor": "white",
            "showbackground": true,
            "ticks": "",
            "zerolinecolor": "white"
           },
           "yaxis": {
            "backgroundcolor": "#E5ECF6",
            "gridcolor": "white",
            "gridwidth": 2,
            "linecolor": "white",
            "showbackground": true,
            "ticks": "",
            "zerolinecolor": "white"
           },
           "zaxis": {
            "backgroundcolor": "#E5ECF6",
            "gridcolor": "white",
            "gridwidth": 2,
            "linecolor": "white",
            "showbackground": true,
            "ticks": "",
            "zerolinecolor": "white"
           }
          },
          "shapedefaults": {
           "line": {
            "color": "#2a3f5f"
           }
          },
          "ternary": {
           "aaxis": {
            "gridcolor": "white",
            "linecolor": "white",
            "ticks": ""
           },
           "baxis": {
            "gridcolor": "white",
            "linecolor": "white",
            "ticks": ""
           },
           "bgcolor": "#E5ECF6",
           "caxis": {
            "gridcolor": "white",
            "linecolor": "white",
            "ticks": ""
           }
          },
          "title": {
           "font": {
            "color": "#040404",
            "family": "Open Sans"
           },
           "x": 0.05
          },
          "xaxis": {
           "automargin": true,
           "gridcolor": "white",
           "linecolor": "white",
           "ticks": "",
           "title": {
            "standoff": 15
           },
           "zerolinecolor": "white",
           "zerolinewidth": 2
          },
          "yaxis": {
           "automargin": true,
           "gridcolor": "white",
           "linecolor": "white",
           "ticks": "",
           "title": {
            "standoff": 15
           },
           "zerolinecolor": "white",
           "zerolinewidth": 2
          }
         }
        },
        "title": {
         "font": {
          "size": 22
         },
         "text": "Projects within Fields and Topics"
        },
        "width": 1000
       }
      }
     },
     "metadata": {},
     "output_type": "display_data"
    }
   ],
   "source": [
    "color_continuous_scale = [[0, '#3b52ff'], [0.5, '#f1f1f1'],[1, '#169485']]\n",
    "fig = px.sunburst(\n",
    "    df_active.assign(hole=\"<a href=\\\"https://opensustain.tech/\\\">Open Sustainable Technology</a>\"),\n",
    "    path=['field', 'topic', 'project_name'],\n",
    "    maxdepth=2,\n",
    "    color='development_distribution_score',\n",
    "    custom_data=[\"oneliner\",\"topic\",\"git_url\"],\n",
    "\n",
    "    ## Descrete colors for all 10 feilds/categories\n",
    "    # color_discrete_sequence=['#0E7C7B',' #17BEBB', '#FFC857', '#E9724C', '#C5283D', '#A3F5F3', '#25E4E1', '#FFDD99', '#F6C6B6',' #E37886'],\n",
    "    # color='field',\n",
    "    \n",
    "    ## Continuous colors\n",
    "    # color_continuous_scale=px.colors.sequential.Aggrnyl, # GnBu, Aggrnyl\n",
    "    # color_continuous_midpoint=np.average(df_active['development_distribution_score'], weights=df_active['development_distribution_score']),\n",
    "    \n",
    "    # Diverging colors\n",
    "    color_continuous_scale=color_continuous_scale,#px.colors.diverging.Portland[::-1], # PRGn\n",
    "    color_continuous_midpoint=df_active['development_distribution_score'].median()\n",
    ")\n",
    "\n",
    "fig.update_layout(coloraxis_colorbar=dict(title='DDS'),title='Projects within Fields and Topics', height=1000, width=1000, title_font_size=22, font_size=12)\n",
    "# animated transitions are currently not implemented when uniformtext is used\n",
    "fig.update_traces(insidetextorientation='radial', textinfo='label', marker=dict(line=dict(color='#ffffff', width=0.3)),\n",
    "    hovertemplate=\"<br>\".join([\n",
    "        \"Project Info: <b>%{customdata[0]}</b>\",\n",
    "        \"Topic: <b>%{customdata[1]}</b>\",\n",
    "        \"Git URL: <b>%{customdata[2]}</b>\"\n",
    "    ]))\n",
    "fig.write_html(\"output.html\", full_html=False, include_plotlyjs='cdn')\n",
    "fig.show()"
   ]
  },
  {
   "cell_type": "markdown",
   "metadata": {},
   "source": [
    "```{figure} data:image/gif;base64,R0lGODlhAQABAIAAAAAAAP///yH5BAEAAAAALAAAAAABAAEAAAIBRAA7\n",
    ":figclass: caption-hack\n",
    ":name: projects-within-sectors\n",
    "\n",
    "Number of individual projects within fields and topics\n",
    "```"
   ]
  },
  {
   "cell_type": "markdown",
   "metadata": {},
   "source": []
  }
 ],
 "metadata": {
  "celltoolbar": "Tags",
  "kernelspec": {
   "display_name": "Python 3.8.10 64-bit",
   "language": "python",
   "name": "python3"
  },
  "language_info": {
   "codemirror_mode": {
    "name": "ipython",
    "version": 3
   },
   "file_extension": ".py",
   "mimetype": "text/x-python",
   "name": "python",
   "nbconvert_exporter": "python",
   "pygments_lexer": "ipython3",
   "version": "3.8.10"
  },
  "tags": "full-width",
  "vscode": {
   "interpreter": {
    "hash": "e7370f93d1d0cde622a1f8e1c04877d8463912d04d973331ad4851f04de6915a"
   }
  }
 },
 "nbformat": 4,
 "nbformat_minor": 4
}
