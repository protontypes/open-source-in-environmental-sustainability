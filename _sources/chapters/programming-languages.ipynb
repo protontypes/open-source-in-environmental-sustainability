{
 "cells": [
  {
   "cell_type": "markdown",
   "metadata": {},
   "source": [
    "# Programming Languages"
   ]
  },
  {
   "cell_type": "code",
   "execution_count": 1,
   "metadata": {
    "tags": [
     "remove-cell"
    ]
   },
   "outputs": [],
   "source": [
    "import numpy as np\n",
    "import pandas as pd\n",
    "import plotly.io as pio\n",
    "import plotly.graph_objects as go\n",
    "import plotly.express as px\n",
    "from opensustain_template import *"
   ]
  },
  {
   "cell_type": "code",
   "execution_count": 2,
   "metadata": {
    "tags": [
     "remove-cell"
    ]
   },
   "outputs": [],
   "source": [
    "df_active = pd.read_csv(\"../csv/project_analysis.csv\")"
   ]
  },
  {
   "cell_type": "code",
   "execution_count": 3,
   "metadata": {
    "tags": [
     "full-width",
     "remove-input"
    ]
   },
   "outputs": [
    {
     "data": {
      "application/vnd.plotly.v1+json": {
       "config": {
        "plotlyServerURL": "https://plot.ly"
       },
       "data": [
        {
         "domain": {
          "x": [
           0,
           1
          ],
          "y": [
           0,
           1
          ]
         },
         "hole": 0.2,
         "hovertemplate": "dominating_language_names=%{label}<br>dominating_language=%{value}<extra></extra>",
         "labels": [
          "Python",
          "R",
          "Jupyter Notebook",
          "Fortran",
          "C++",
          "JavaScript",
          "Julia",
          "C",
          "TypeScript",
          "Java",
          "HTML",
          "Ruby",
          "MATLAB",
          "Modelica",
          "C#",
          "Vue",
          "Go",
          "PHP"
         ],
         "legendgroup": "",
         "marker": {
          "line": {
           "color": "#000000",
           "width": 1
          }
         },
         "name": "",
         "showlegend": true,
         "textinfo": "percent+label",
         "textposition": "inside",
         "type": "pie",
         "values": [
          362,
          152,
          85,
          47,
          43,
          33,
          29,
          23,
          21,
          21,
          19,
          18,
          14,
          14,
          8,
          8,
          7,
          6
         ]
        }
       ],
       "layout": {
        "font": {
         "size": 16
        },
        "legend": {
         "tracegroupgap": 0
        },
        "margin": {
         "t": 60
        },
        "piecolorway": [
         "#0E7C7B",
         "#17BEBB",
         "#FFC857",
         "#E9724C",
         "#C5283D"
        ],
        "showlegend": false,
        "template": {
         "data": {
          "bar": [
           {
            "error_x": {
             "color": "#2a3f5f"
            },
            "error_y": {
             "color": "#2a3f5f"
            },
            "marker": {
             "line": {
              "color": "#E5ECF6",
              "width": 0.5
             },
             "pattern": {
              "fillmode": "overlay",
              "size": 10,
              "solidity": 0.2
             }
            },
            "type": "bar"
           }
          ],
          "barpolar": [
           {
            "marker": {
             "line": {
              "color": "#E5ECF6",
              "width": 0.5
             },
             "pattern": {
              "fillmode": "overlay",
              "size": 10,
              "solidity": 0.2
             }
            },
            "type": "barpolar"
           }
          ],
          "carpet": [
           {
            "aaxis": {
             "endlinecolor": "#2a3f5f",
             "gridcolor": "white",
             "linecolor": "white",
             "minorgridcolor": "white",
             "startlinecolor": "#2a3f5f"
            },
            "baxis": {
             "endlinecolor": "#2a3f5f",
             "gridcolor": "white",
             "linecolor": "white",
             "minorgridcolor": "white",
             "startlinecolor": "#2a3f5f"
            },
            "type": "carpet"
           }
          ],
          "choropleth": [
           {
            "colorbar": {
             "outlinewidth": 0,
             "ticks": ""
            },
            "type": "choropleth"
           }
          ],
          "contour": [
           {
            "colorbar": {
             "outlinewidth": 0,
             "ticks": ""
            },
            "colorscale": [
             [
              0,
              "#0d0887"
             ],
             [
              0.1111111111111111,
              "#46039f"
             ],
             [
              0.2222222222222222,
              "#7201a8"
             ],
             [
              0.3333333333333333,
              "#9c179e"
             ],
             [
              0.4444444444444444,
              "#bd3786"
             ],
             [
              0.5555555555555556,
              "#d8576b"
             ],
             [
              0.6666666666666666,
              "#ed7953"
             ],
             [
              0.7777777777777778,
              "#fb9f3a"
             ],
             [
              0.8888888888888888,
              "#fdca26"
             ],
             [
              1,
              "#f0f921"
             ]
            ],
            "type": "contour"
           }
          ],
          "contourcarpet": [
           {
            "colorbar": {
             "outlinewidth": 0,
             "ticks": ""
            },
            "type": "contourcarpet"
           }
          ],
          "heatmap": [
           {
            "colorbar": {
             "outlinewidth": 0,
             "ticks": ""
            },
            "colorscale": [
             [
              0,
              "#0d0887"
             ],
             [
              0.1111111111111111,
              "#46039f"
             ],
             [
              0.2222222222222222,
              "#7201a8"
             ],
             [
              0.3333333333333333,
              "#9c179e"
             ],
             [
              0.4444444444444444,
              "#bd3786"
             ],
             [
              0.5555555555555556,
              "#d8576b"
             ],
             [
              0.6666666666666666,
              "#ed7953"
             ],
             [
              0.7777777777777778,
              "#fb9f3a"
             ],
             [
              0.8888888888888888,
              "#fdca26"
             ],
             [
              1,
              "#f0f921"
             ]
            ],
            "type": "heatmap"
           }
          ],
          "heatmapgl": [
           {
            "colorbar": {
             "outlinewidth": 0,
             "ticks": ""
            },
            "colorscale": [
             [
              0,
              "#0d0887"
             ],
             [
              0.1111111111111111,
              "#46039f"
             ],
             [
              0.2222222222222222,
              "#7201a8"
             ],
             [
              0.3333333333333333,
              "#9c179e"
             ],
             [
              0.4444444444444444,
              "#bd3786"
             ],
             [
              0.5555555555555556,
              "#d8576b"
             ],
             [
              0.6666666666666666,
              "#ed7953"
             ],
             [
              0.7777777777777778,
              "#fb9f3a"
             ],
             [
              0.8888888888888888,
              "#fdca26"
             ],
             [
              1,
              "#f0f921"
             ]
            ],
            "type": "heatmapgl"
           }
          ],
          "histogram": [
           {
            "marker": {
             "pattern": {
              "fillmode": "overlay",
              "size": 10,
              "solidity": 0.2
             }
            },
            "type": "histogram"
           }
          ],
          "histogram2d": [
           {
            "colorbar": {
             "outlinewidth": 0,
             "ticks": ""
            },
            "colorscale": [
             [
              0,
              "#0d0887"
             ],
             [
              0.1111111111111111,
              "#46039f"
             ],
             [
              0.2222222222222222,
              "#7201a8"
             ],
             [
              0.3333333333333333,
              "#9c179e"
             ],
             [
              0.4444444444444444,
              "#bd3786"
             ],
             [
              0.5555555555555556,
              "#d8576b"
             ],
             [
              0.6666666666666666,
              "#ed7953"
             ],
             [
              0.7777777777777778,
              "#fb9f3a"
             ],
             [
              0.8888888888888888,
              "#fdca26"
             ],
             [
              1,
              "#f0f921"
             ]
            ],
            "type": "histogram2d"
           }
          ],
          "histogram2dcontour": [
           {
            "colorbar": {
             "outlinewidth": 0,
             "ticks": ""
            },
            "colorscale": [
             [
              0,
              "#0d0887"
             ],
             [
              0.1111111111111111,
              "#46039f"
             ],
             [
              0.2222222222222222,
              "#7201a8"
             ],
             [
              0.3333333333333333,
              "#9c179e"
             ],
             [
              0.4444444444444444,
              "#bd3786"
             ],
             [
              0.5555555555555556,
              "#d8576b"
             ],
             [
              0.6666666666666666,
              "#ed7953"
             ],
             [
              0.7777777777777778,
              "#fb9f3a"
             ],
             [
              0.8888888888888888,
              "#fdca26"
             ],
             [
              1,
              "#f0f921"
             ]
            ],
            "type": "histogram2dcontour"
           }
          ],
          "mesh3d": [
           {
            "colorbar": {
             "outlinewidth": 0,
             "ticks": ""
            },
            "type": "mesh3d"
           }
          ],
          "parcoords": [
           {
            "line": {
             "colorbar": {
              "outlinewidth": 0,
              "ticks": ""
             }
            },
            "type": "parcoords"
           }
          ],
          "pie": [
           {
            "automargin": true,
            "type": "pie"
           }
          ],
          "scatter": [
           {
            "fillpattern": {
             "fillmode": "overlay",
             "size": 10,
             "solidity": 0.2
            },
            "type": "scatter"
           }
          ],
          "scatter3d": [
           {
            "line": {
             "colorbar": {
              "outlinewidth": 0,
              "ticks": ""
             }
            },
            "marker": {
             "colorbar": {
              "outlinewidth": 0,
              "ticks": ""
             }
            },
            "type": "scatter3d"
           }
          ],
          "scattercarpet": [
           {
            "marker": {
             "colorbar": {
              "outlinewidth": 0,
              "ticks": ""
             }
            },
            "type": "scattercarpet"
           }
          ],
          "scattergeo": [
           {
            "marker": {
             "colorbar": {
              "outlinewidth": 0,
              "ticks": ""
             }
            },
            "type": "scattergeo"
           }
          ],
          "scattergl": [
           {
            "marker": {
             "colorbar": {
              "outlinewidth": 0,
              "ticks": ""
             }
            },
            "type": "scattergl"
           }
          ],
          "scattermapbox": [
           {
            "marker": {
             "colorbar": {
              "outlinewidth": 0,
              "ticks": ""
             }
            },
            "type": "scattermapbox"
           }
          ],
          "scatterpolar": [
           {
            "marker": {
             "colorbar": {
              "outlinewidth": 0,
              "ticks": ""
             }
            },
            "type": "scatterpolar"
           }
          ],
          "scatterpolargl": [
           {
            "marker": {
             "colorbar": {
              "outlinewidth": 0,
              "ticks": ""
             }
            },
            "type": "scatterpolargl"
           }
          ],
          "scatterternary": [
           {
            "marker": {
             "colorbar": {
              "outlinewidth": 0,
              "ticks": ""
             }
            },
            "type": "scatterternary"
           }
          ],
          "surface": [
           {
            "colorbar": {
             "outlinewidth": 0,
             "ticks": ""
            },
            "colorscale": [
             [
              0,
              "#0d0887"
             ],
             [
              0.1111111111111111,
              "#46039f"
             ],
             [
              0.2222222222222222,
              "#7201a8"
             ],
             [
              0.3333333333333333,
              "#9c179e"
             ],
             [
              0.4444444444444444,
              "#bd3786"
             ],
             [
              0.5555555555555556,
              "#d8576b"
             ],
             [
              0.6666666666666666,
              "#ed7953"
             ],
             [
              0.7777777777777778,
              "#fb9f3a"
             ],
             [
              0.8888888888888888,
              "#fdca26"
             ],
             [
              1,
              "#f0f921"
             ]
            ],
            "type": "surface"
           }
          ],
          "table": [
           {
            "cells": {
             "fill": {
              "color": "#EBF0F8"
             },
             "line": {
              "color": "white"
             }
            },
            "header": {
             "fill": {
              "color": "#C8D4E3"
             },
             "line": {
              "color": "white"
             }
            },
            "type": "table"
           }
          ]
         },
         "layout": {
          "annotationdefaults": {
           "arrowcolor": "#2a3f5f",
           "arrowhead": 0,
           "arrowwidth": 1
          },
          "autotypenumbers": "strict",
          "coloraxis": {
           "colorbar": {
            "outlinewidth": 0,
            "ticks": ""
           }
          },
          "colorscale": {
           "diverging": [
            [
             0,
             "#8e0152"
            ],
            [
             0.1,
             "#c51b7d"
            ],
            [
             0.2,
             "#de77ae"
            ],
            [
             0.3,
             "#f1b6da"
            ],
            [
             0.4,
             "#fde0ef"
            ],
            [
             0.5,
             "#f7f7f7"
            ],
            [
             0.6,
             "#e6f5d0"
            ],
            [
             0.7,
             "#b8e186"
            ],
            [
             0.8,
             "#7fbc41"
            ],
            [
             0.9,
             "#4d9221"
            ],
            [
             1,
             "#276419"
            ]
           ],
           "sequential": [
            [
             0,
             "#0d0887"
            ],
            [
             0.1111111111111111,
             "#46039f"
            ],
            [
             0.2222222222222222,
             "#7201a8"
            ],
            [
             0.3333333333333333,
             "#9c179e"
            ],
            [
             0.4444444444444444,
             "#bd3786"
            ],
            [
             0.5555555555555556,
             "#d8576b"
            ],
            [
             0.6666666666666666,
             "#ed7953"
            ],
            [
             0.7777777777777778,
             "#fb9f3a"
            ],
            [
             0.8888888888888888,
             "#fdca26"
            ],
            [
             1,
             "#f0f921"
            ]
           ],
           "sequentialminus": [
            [
             0,
             "#0d0887"
            ],
            [
             0.1111111111111111,
             "#46039f"
            ],
            [
             0.2222222222222222,
             "#7201a8"
            ],
            [
             0.3333333333333333,
             "#9c179e"
            ],
            [
             0.4444444444444444,
             "#bd3786"
            ],
            [
             0.5555555555555556,
             "#d8576b"
            ],
            [
             0.6666666666666666,
             "#ed7953"
            ],
            [
             0.7777777777777778,
             "#fb9f3a"
            ],
            [
             0.8888888888888888,
             "#fdca26"
            ],
            [
             1,
             "#f0f921"
            ]
           ]
          },
          "colorway": [
           "#636efa",
           "#EF553B",
           "#00cc96",
           "#ab63fa",
           "#FFA15A",
           "#19d3f3",
           "#FF6692",
           "#B6E880",
           "#FF97FF",
           "#FECB52"
          ],
          "font": {
           "color": "#040404",
           "family": "Open Sans",
           "size": 15
          },
          "geo": {
           "bgcolor": "white",
           "lakecolor": "white",
           "landcolor": "#E5ECF6",
           "showlakes": true,
           "showland": true,
           "subunitcolor": "white"
          },
          "hoverlabel": {
           "align": "left"
          },
          "hovermode": "closest",
          "mapbox": {
           "style": "light"
          },
          "margin": {
           "b": 0
          },
          "paper_bgcolor": "white",
          "plot_bgcolor": "#E5ECF6",
          "polar": {
           "angularaxis": {
            "gridcolor": "white",
            "linecolor": "white",
            "ticks": ""
           },
           "bgcolor": "#E5ECF6",
           "radialaxis": {
            "gridcolor": "white",
            "linecolor": "white",
            "ticks": ""
           }
          },
          "scene": {
           "xaxis": {
            "backgroundcolor": "#E5ECF6",
            "gridcolor": "white",
            "gridwidth": 2,
            "linecolor": "white",
            "showbackground": true,
            "ticks": "",
            "zerolinecolor": "white"
           },
           "yaxis": {
            "backgroundcolor": "#E5ECF6",
            "gridcolor": "white",
            "gridwidth": 2,
            "linecolor": "white",
            "showbackground": true,
            "ticks": "",
            "zerolinecolor": "white"
           },
           "zaxis": {
            "backgroundcolor": "#E5ECF6",
            "gridcolor": "white",
            "gridwidth": 2,
            "linecolor": "white",
            "showbackground": true,
            "ticks": "",
            "zerolinecolor": "white"
           }
          },
          "shapedefaults": {
           "line": {
            "color": "#2a3f5f"
           }
          },
          "ternary": {
           "aaxis": {
            "gridcolor": "white",
            "linecolor": "white",
            "ticks": ""
           },
           "baxis": {
            "gridcolor": "white",
            "linecolor": "white",
            "ticks": ""
           },
           "bgcolor": "#E5ECF6",
           "caxis": {
            "gridcolor": "white",
            "linecolor": "white",
            "ticks": ""
           }
          },
          "title": {
           "font": {
            "color": "#040404",
            "family": "Open Sans"
           },
           "x": 0.05
          },
          "xaxis": {
           "automargin": true,
           "gridcolor": "white",
           "linecolor": "white",
           "ticks": "",
           "title": {
            "standoff": 15
           },
           "zerolinecolor": "white",
           "zerolinewidth": 2
          },
          "yaxis": {
           "automargin": true,
           "gridcolor": "white",
           "linecolor": "white",
           "ticks": "",
           "title": {
            "standoff": 15
           },
           "zerolinecolor": "white",
           "zerolinewidth": 2
          }
         }
        }
       }
      }
     },
     "metadata": {},
     "output_type": "display_data"
    }
   ],
   "source": [
    "license_dominating_language = (\n",
    "    df_active[\"dominating_language\"]\n",
    "    .value_counts()\n",
    "    .to_frame()\n",
    "    .rename_axis(\"dominating_language_names\")\n",
    "    .reset_index()\n",
    ")\n",
    "license_dominating_language\n",
    "license_dominating_language = license_dominating_language[(license_dominating_language[\"dominating_language\"] > 4)]\n",
    "fig = px.pie(license_dominating_language, values=\"dominating_language\", names=\"dominating_language_names\", color_discrete_sequence=color_discrete_sequence, hole=0.2)\n",
    "\n",
    "\n",
    "fig.update_layout(showlegend=False, font_size=16)\n",
    "fig.update_traces(textposition='inside', textinfo='percent+label', marker=dict(line=dict(color=boarder_color, width=1)))\n",
    "fig['layout'].update(margin=dict(l=0,r=0,b=0,t=0))\n",
    "fig.show()"
   ]
  },
  {
   "cell_type": "markdown",
   "metadata": {},
   "source": [
    "```{figure} data:image/gif;base64,R0lGODlhAQABAIAAAAAAAP///yH5BAEAAAAALAAAAAABAAEAAAIBRAA7\n",
    ":figclass: caption-hack\n",
    ":name: languages-distribution\n",
    "\n",
    "Distribution of programming languages\n",
    "```"
   ]
  },
  {
   "cell_type": "markdown",
   "metadata": {},
   "source": [
    "**The number and kinds of programming languages provide insight into the skills required of code contributors and the nature of the projects themselves.** This metric can help newcomers navigate open source projects, as well as project and product managers gain insight into the project's profile within the context of their own experience and organisations. It can also help inform students on which programming languages they might focus their efforts on learning, depending on their topic of interest.\n",
    "\n",
    "**Python dominates the OSS movement for sustainability and is used in 39.8% of all projects, followed by R (16.7%), Jupyter notebooks (9.34%) and other languages like Fortran, C++ and Java.** Statistics from [GitHut 2.0](https://madnight.github.io/githut/#/pull_requests/2022/1) or the official number of GitHub provide insights into the programming language usage of Open Source projects on GitHub in general. Compared to the broader open source ecosystem, it is clear that Python has a significantly higher use within the repositories analysed here compared to widely popular languages, such as JavaScript. This indicates a strong focus on analysing large datasets, where Python and Jupyter Notebooks are increasingly dominant, with less focus on the application side. Python, in particular, is the language of choice in projects in Energy Modelling, Biosphere, Hydrosphere, Wind Energy, Buildings and Heating. Python is considered to be an energy-inefficient programming language. However, in practice, computationally intensive operations are typically offloaded to energy-efficient processes (e.g., via a C-API) using libraries such as NumPy.\n",
    "\n",
    "**The use of R deviates significantly from other statistics and has a high prevalence within the software world.** A concentration of R developments can be found, particularly within the topics of Biosphere, Hydrosphere, Water Supply, Soil and Land Use, Climate, and Food and Agriculture. This can be attributed to the high number of data science-related projects within these topics and the low number of general web development projects within the field of Sustainable Development. Despite its advanced age of over 65 years, Fortran is still widely used in the Earth system models in Hydrosphere, Climate and Atmosphere. This can be explained by the long development time of these projects and the necessary numerical efficiency of such models for high-performance computing.\n",
    "\n",
    "**Julia, a relatively new language, also has a wide range of applications.**  For some special use cases, such as building simulation, programming languages like Modelica are frequently used. "
   ]
  },
  {
   "cell_type": "code",
   "execution_count": 4,
   "metadata": {
    "tags": [
     "full-width",
     "remove-input"
    ]
   },
   "outputs": [
    {
     "data": {
      "application/vnd.plotly.v1+json": {
       "config": {
        "plotlyServerURL": "https://plot.ly"
       },
       "data": [
        {
         "hovertemplate": "dominating_language=%{x}<br>topic=%{y}<br>counts=%{marker.size}<extra></extra>",
         "legendgroup": "",
         "marker": {
          "color": "#0E7C7B",
          "size": [
           46,
           33,
           25,
           23,
           22,
           21,
           21,
           18,
           18,
           18,
           16,
           16,
           13,
           12,
           11,
           11,
           11,
           11,
           11,
           10,
           10,
           10,
           9,
           9,
           8,
           8,
           8,
           8,
           8,
           8,
           7,
           7,
           6,
           6,
           6,
           6,
           6,
           6,
           6,
           6,
           6,
           6,
           5,
           5,
           5,
           5,
           5,
           5,
           5,
           4,
           4,
           4,
           4,
           4,
           4,
           4,
           4,
           4,
           4,
           4,
           4,
           4,
           4,
           4,
           4,
           3,
           3,
           3,
           3,
           3,
           3,
           3,
           3,
           3,
           3,
           3,
           3,
           3,
           3,
           3,
           3,
           3,
           3,
           3,
           3,
           3,
           3,
           3,
           3,
           3,
           3,
           3,
           3,
           3,
           2,
           2,
           2,
           2,
           2,
           2,
           2,
           2,
           2,
           2,
           2,
           2,
           2,
           2,
           2,
           2,
           2,
           2,
           2,
           2,
           2,
           2,
           2,
           2,
           2,
           2,
           2,
           2,
           2,
           2,
           2,
           2,
           2,
           2,
           2,
           2,
           2,
           2,
           2,
           2,
           2,
           2,
           1,
           1,
           1,
           1,
           1,
           1,
           1,
           1,
           1,
           1,
           1,
           1,
           1,
           1,
           1,
           1,
           1,
           1,
           1,
           1,
           1,
           1,
           1,
           1,
           1,
           1,
           1,
           1,
           1,
           1,
           1,
           1,
           1,
           1,
           1,
           1,
           1,
           1,
           1,
           1,
           1,
           1,
           1,
           1,
           1,
           1,
           1,
           1,
           1,
           1,
           1,
           1,
           1,
           1,
           1,
           1,
           1,
           1,
           1,
           1,
           1,
           1,
           1,
           1,
           1,
           1,
           1,
           1,
           1,
           1,
           1,
           1,
           1,
           1,
           1,
           1,
           1,
           1,
           1,
           1,
           1,
           1,
           1,
           1,
           1,
           1,
           1,
           1,
           1,
           1,
           1,
           1,
           1,
           1,
           1,
           1,
           1,
           1,
           1,
           1,
           1,
           1,
           1,
           1,
           1,
           1,
           1,
           1,
           1,
           1,
           1,
           1,
           1,
           1,
           1,
           1,
           1,
           1,
           1,
           1,
           1,
           1,
           1,
           1,
           1,
           1,
           1,
           1,
           1,
           1,
           1,
           1,
           1,
           1,
           1,
           1,
           1,
           1,
           1,
           1,
           1,
           1,
           1,
           1,
           1,
           1,
           1,
           1,
           1,
           1,
           1,
           1
          ],
          "sizemode": "area",
          "sizeref": 0.115,
          "symbol": "circle"
         },
         "mode": "markers",
         "name": "",
         "orientation": "v",
         "showlegend": false,
         "type": "scatter",
         "x": [
          "Python",
          "R",
          "Python",
          "Python",
          "Python",
          "Python",
          "Python",
          "Python",
          "Python",
          "Python",
          "R",
          "R",
          "Python",
          "R",
          "Python",
          "Python",
          "Fortran",
          "R",
          "Python",
          "Python",
          "R",
          "Python",
          "Python",
          "Python",
          "Fortran",
          "Modelica",
          "Jupyter Notebook",
          "Python",
          "R",
          "Java",
          "R",
          "Python",
          "Fortran",
          "Julia",
          "R",
          "Jupyter Notebook",
          "Jupyter Notebook",
          "Python",
          "Python",
          "Julia",
          "Python",
          "JavaScript",
          "R",
          "Jupyter Notebook",
          "Jupyter Notebook",
          "R",
          "C",
          "Python",
          "HTML",
          "Jupyter Notebook",
          "Julia",
          "C",
          "Jupyter Notebook",
          "R",
          "C",
          "JavaScript",
          "Jupyter Notebook",
          "C++",
          "C#",
          "C++",
          "R",
          "C++",
          "Julia",
          "C++",
          "Ruby",
          "Jupyter Notebook",
          "Python",
          "Jupyter Notebook",
          "Python",
          "JavaScript",
          "Jupyter Notebook",
          "Vue",
          "Fortran",
          "Python",
          "Jupyter Notebook",
          "R",
          "C++",
          "Fortran",
          "Jupyter Notebook",
          "Jupyter Notebook",
          "Python",
          "Jupyter Notebook",
          "Go",
          "Java",
          "Jupyter Notebook",
          "C++",
          "C++",
          "JavaScript",
          "TypeScript",
          "TypeScript",
          "Fortran",
          "MATLAB",
          "Ruby",
          "Python",
          "Roff",
          "C++",
          "JavaScript",
          "TypeScript",
          "Python",
          "Ruby",
          "Java",
          "JavaScript",
          "Python",
          "JavaScript",
          "Jupyter Notebook",
          "C",
          "Fortran",
          "C++",
          "Fortran",
          "Python",
          "Python",
          "HTML",
          "R",
          "Vue",
          "Ruby",
          "Fortran",
          "HTML",
          "JavaScript",
          "JavaScript",
          "C++",
          "MATLAB",
          "R",
          "Fortran",
          "C",
          "Jupyter Notebook",
          "Jupyter Notebook",
          "JavaScript",
          "Scala",
          "Java",
          "TypeScript",
          "Ruby",
          "HTML",
          "Kotlin",
          "R",
          "Jupyter Notebook",
          "Jupyter Notebook",
          "Makefile",
          "C++",
          "C++",
          "Python",
          "Jupyter Notebook",
          "Python",
          "TypeScript",
          "JavaScript",
          "Svelte",
          "GAMS",
          "Go",
          "Julia",
          "Shell",
          "C",
          "MATLAB",
          "Makefile",
          "Vue",
          "Turtle",
          "Java",
          "R",
          "C++",
          "Ruby",
          "HTML",
          "Fortran",
          "MATLAB",
          "Modelica",
          "TeX",
          "Rust",
          "R",
          "PHP",
          "Jupyter Notebook",
          "TypeScript",
          "TypeScript",
          "Modelica",
          "C",
          "JavaScript",
          "C++",
          "Julia",
          "Go",
          "CartoCSS",
          "Julia",
          "JavaScript",
          "TypeScript",
          "QML",
          "Java",
          "C",
          "Ruby",
          "Rust",
          "C++",
          "C#",
          "Modelica",
          "JavaScript",
          "Swift",
          "C#",
          "Fortran",
          "Go",
          "HTML",
          "JavaScript",
          "Jupyter Notebook",
          "PHP",
          "R",
          "C++",
          "Jupyter Notebook",
          "Makefile",
          "Python",
          "Jupyter Notebook",
          "HTML",
          "Julia",
          "Jupyter Notebook",
          "Lua",
          "PHP",
          "Cython",
          "Fortran",
          "Groovy",
          "Ruby",
          "MATLAB",
          "MATLAB",
          "Svelte",
          "GAMS",
          "HTML",
          "PHP",
          "Python",
          "TypeScript",
          "C++",
          "Elixir",
          "Go",
          "HTML",
          "Jupyter Notebook",
          "C",
          "Kotlin",
          "C#",
          "C++",
          "Julia",
          "R",
          "Svelte",
          "Python",
          "R",
          "Ruby",
          "Fortran",
          "Julia",
          "HTML",
          "Java",
          "C",
          "PHP",
          "Modelica",
          "Scala",
          "TypeScript",
          "C",
          "CSS",
          "MATLAB",
          "Modelica",
          "PowerBuilder",
          "Shell",
          "TeX",
          "Ruby",
          "Groovy",
          "Java",
          "Jupyter Notebook",
          "C++",
          "Fortran",
          "Julia",
          "MATLAB",
          "Modelica",
          "C#",
          "Julia",
          "Jupyter Notebook",
          "C++",
          "Java",
          "HTML",
          "C++",
          "HTML",
          "Rust",
          "SCSS",
          "TypeScript",
          "Vue",
          "C++",
          "MATLAB",
          "TeX",
          "TypeScript",
          "Java",
          "Julia",
          "TypeScript",
          "R",
          "Vue",
          "NCL",
          "Shell",
          "TypeScript",
          "G-code",
          "MATLAB",
          "PHP",
          "TypeScript",
          "MATLAB"
         ],
         "xaxis": "x",
         "y": [
          "Energy Modeling and Optimization",
          "Biosphere",
          "Biosphere",
          "Buildings and Heating",
          "Hydrosphere",
          "Photovoltaics and Solar Energy",
          "Earth and Climate Modeling",
          "Water Supply and Quality",
          "Wind Energy",
          "Climate Data Processing and Access",
          "Climate Data Processing and Access",
          "Water Supply and Quality",
          "Mobility and Transportation",
          "Soil and Land",
          "Soil and Land",
          "Datasets on Energy Systems",
          "Earth and Climate Modeling",
          "Agriculture and Nutrition",
          "Energy Distribution and Grids",
          "Data Catalogs and Interfaces",
          "Hydrosphere",
          "Cryosphere",
          "Emission Observation and Modeling",
          "Battery",
          "Hydrosphere",
          "Buildings and Heating",
          "Photovoltaics and Solar Energy",
          "Computation and Communication",
          "Air Quality",
          "Mobility and Transportation",
          "Data Catalogs and Interfaces",
          "Natural Hazard and Poverty",
          "Atmosphere",
          "Earth and Climate Modeling",
          "Emission Observation and Modeling",
          "Hydrosphere",
          "Earth and Climate Modeling",
          "Carbon Intensity and Accounting",
          "Life Cycle Assessment",
          "Energy Modeling and Optimization",
          "Circular Economy and Waste",
          "Biosphere",
          "Energy Modeling and Optimization",
          "Climate Data Processing and Access",
          "Energy Modeling and Optimization",
          "Earth and Climate Modeling",
          "Hydrosphere",
          "Atmosphere",
          "Biosphere",
          "Biosphere",
          "Energy Distribution and Grids",
          "Climate Data Processing and Access",
          "Cryosphere",
          "Mobility and Transportation",
          "Water Supply and Quality",
          "Data Catalogs and Interfaces",
          "Data Catalogs and Interfaces",
          "Earth and Climate Modeling",
          "Mobility and Transportation",
          "Biosphere",
          "Meteorological Observation and Forecast",
          "Photovoltaics and Solar Energy",
          "Hydrosphere",
          "Buildings and Heating",
          "Agriculture and Nutrition",
          "Life Cycle Assessment",
          "Geothermal Energy",
          "Natural Hazard and Poverty",
          "Hydrogen",
          "Computation and Communication",
          "Computation and Communication",
          "Mobility and Transportation",
          "Cryosphere",
          "Hydro Energy",
          "Agriculture and Nutrition",
          "Integrated Assessment",
          "Energy Modeling and Optimization",
          "Water Supply and Quality",
          "Mobility and Transportation",
          "Datasets on Energy Systems",
          "Air Quality",
          "Water Supply and Quality",
          "Computation and Communication",
          "Energy Modeling and Optimization",
          "Emission Observation and Modeling",
          "Mobility and Transportation",
          "Water Supply and Quality",
          "Soil and Land",
          "Biosphere",
          "Carbon Intensity and Accounting",
          "Radiative Transfer",
          "Battery",
          "Buildings and Heating",
          "Sustainable Investment",
          "Wind Energy",
          "Energy Monitoring and Control",
          "Mobility and Transportation",
          "Air Quality",
          "Energy Monitoring and Control",
          "Air Quality",
          "Energy Monitoring and Control",
          "Air Quality",
          "Radiative Transfer",
          "Knowledge Platforms",
          "Integrated Assessment",
          "Mobility and Transportation",
          "Wind Energy",
          "Wind Energy",
          "Air Quality",
          "Meteorological Observation and Forecast",
          "Knowledge Platforms",
          "Soil and Land",
          "Life Cycle Assessment",
          "Agriculture and Nutrition",
          "Energy Distribution and Grids",
          "Geothermal Energy",
          "Datasets on Energy Systems",
          "Sustainable Development Goals",
          "Circular Economy and Waste",
          "Battery",
          "Climate Data Processing and Access",
          "Sustainable Development Goals",
          "Agriculture and Nutrition",
          "Photovoltaics and Solar Energy",
          "Wind Energy",
          "Battery",
          "Agriculture and Nutrition",
          "Mobility and Transportation",
          "Biosphere",
          "Mobility and Transportation",
          "Mobility and Transportation",
          "Data Catalogs and Interfaces",
          "Mobility and Transportation",
          "Carbon Intensity and Accounting",
          "Atmosphere",
          "Soil and Land",
          "Hydrosphere",
          "Knowledge Platforms",
          "Sustainable Investment",
          "Sustainable Development Goals",
          "Knowledge Platforms",
          "Integrated Assessment",
          "Hydrosphere",
          "Hydrosphere",
          "Hydrosphere",
          "Sustainable Investment",
          "Knowledge Platforms",
          "Integrated Assessment",
          "Knowledge Platforms",
          "Wind Energy",
          "Soil and Land",
          "Knowledge Platforms",
          "Natural Hazard and Poverty",
          "Knowledge Platforms",
          "Life Cycle Assessment",
          "Sustainable Investment",
          "Hydrosphere",
          "Sustainable Investment",
          "Photovoltaics and Solar Energy",
          "Natural Hazard and Poverty",
          "Photovoltaics and Solar Energy",
          "Photovoltaics and Solar Energy",
          "Mobility and Transportation",
          "Mobility and Transportation",
          "Photovoltaics and Solar Energy",
          "Mobility and Transportation",
          "Sustainable Investment",
          "Sustainable Development Goals",
          "Photovoltaics and Solar Energy",
          "Production and Industry",
          "Radiative Transfer",
          "Water Supply and Quality",
          "Radiative Transfer",
          "Water Supply and Quality",
          "Mobility and Transportation",
          "Mobility and Transportation",
          "Radiative Transfer",
          "Sustainable Investment",
          "Natural Hazard and Poverty",
          "Water Supply and Quality",
          "Meteorological Observation and Forecast",
          "Meteorological Observation and Forecast",
          "Life Cycle Assessment",
          "Water Supply and Quality",
          "Soil and Land",
          "Agriculture and Nutrition",
          "Hydrogen",
          "Carbon Capture and Removal",
          "Biosphere",
          "Buildings and Heating",
          "Buildings and Heating",
          "Buildings and Heating",
          "Buildings and Heating",
          "Buildings and Heating",
          "Buildings and Heating",
          "Buildings and Heating",
          "Buildings and Heating",
          "Carbon Capture and Removal",
          "Carbon Capture and Removal",
          "Biosphere",
          "Carbon Capture and Removal",
          "Carbon Intensity and Accounting",
          "Circular Economy and Waste",
          "Circular Economy and Waste",
          "Circular Economy and Waste",
          "Circular Economy and Waste",
          "Circular Economy and Waste",
          "Climate Data Processing and Access",
          "Climate Data Processing and Access",
          "Climate Data Processing and Access",
          "Biosphere",
          "Biosphere",
          "Hydrogen",
          "Air Quality",
          "Agriculture and Nutrition",
          "Agriculture and Nutrition",
          "Agriculture and Nutrition",
          "Agriculture and Nutrition",
          "Agriculture and Nutrition",
          "Air Quality",
          "Air Quality",
          "Air Quality",
          "Air Quality",
          "Air Quality",
          "Atmosphere",
          "Biosphere",
          "Atmosphere",
          "Atmosphere",
          "Atmosphere",
          "Atmosphere",
          "Atmosphere",
          "Bioenergy",
          "Bioenergy",
          "Bioenergy",
          "Biosphere",
          "Biosphere",
          "Climate Data Processing and Access",
          "Climate Data Processing and Access",
          "Computation and Communication",
          "Energy Monitoring and Control",
          "Energy Distribution and Grids",
          "Energy Distribution and Grids",
          "Energy Distribution and Grids",
          "Energy Modeling and Optimization",
          "Energy Modeling and Optimization",
          "Energy Modeling and Optimization",
          "Energy Modeling and Optimization",
          "Energy Modeling and Optimization",
          "Energy Modeling and Optimization",
          "Energy Modeling and Optimization",
          "Energy Monitoring and Control",
          "Computation and Communication",
          "Geothermal Energy",
          "Geothermal Energy",
          "Hydro Energy",
          "Hydro Energy",
          "Hydro Energy",
          "Hydro Energy",
          "Hydro Energy",
          "Hydrogen",
          "Hydrogen",
          "Hydrogen",
          "Agriculture and Nutrition",
          "Energy Distribution and Grids",
          "Energy Distribution and Grids",
          "Energy Distribution and Grids",
          "Computation and Communication",
          "Computation and Communication",
          "Computation and Communication",
          "Computation and Communication",
          "Computation and Communication",
          "Cryosphere",
          "Cryosphere",
          "Cryosphere",
          "Cryosphere",
          "Data Catalogs and Interfaces",
          "Data Catalogs and Interfaces",
          "Data Catalogs and Interfaces",
          "Datasets on Energy Systems",
          "Datasets on Energy Systems",
          "Earth and Climate Modeling",
          "Earth and Climate Modeling",
          "Earth and Climate Modeling",
          "Emission Observation and Modeling",
          "Emission Observation and Modeling",
          "Emission Observation and Modeling",
          "Emission Observation and Modeling",
          "Energy Distribution and Grids"
         ],
         "yaxis": "y"
        }
       ],
       "layout": {
        "height": 1000,
        "images": [
         {
          "sizex": 0.05,
          "sizey": 0.05,
          "source": "data:image/png;base64,iVBORw0KGgoAAAANSUhEUgAAADwAAAA8CAYAAAA6/NlyAAAD20lEQVR4nO2ZTWgcZRjHf8/spjWkFYmKmbR+oVKaCPbQU8i2tCBqEbrU7LIJVhG0PVWQih4UehAVQVAkAQ/qRW1WdhPrB+pJ1DQF6aEnQ0WqqCQbhfpFW6nJzOMhBgQ3u+/MvPORmP91n/n/nx/v7DvPvCOqyv9JTtoNJK114LWufBIh5TIbZj3uQLldhJtV2CJwlfrkpicpJtHDsmIDHtzPZjo4gM8IQkGgE1n6Tf7ZJ0W4HFf+SrIOvLvI9YsORyXPwyhdy5BZkTXgwf1s1jzHJMejAh22fG3LCnDhAHeT53WBXht+cSoS8J495Beu5nmEo5C1m7e5QgPv28fGxW7eQhmy2VDcCgV81wN0XezkE2DQcj+xKzDwzsN0XHGJGqsQFkJMWp3nGUO5J45mklCgFS7cx0GFRyzk/izCT6p8Z8ErkMT09XCgzBZnkRmEK0NmTaswicd70+9yLqRHZBmvcM7jZQ0He1qEZ6bqfBDiWusyWuGBEgOOz3RAb1+Ep05O8IIqmTllMFphR3k6oO8FUYanJvgwRE+xqu0K7yrT53t8FcDTE6U4NZk9WDB4LKnHg0EMVXgiq7DQBlgEAUYC+H15aoKXorUUr1oCF0psV9hqaibK41naoJqpJbDvs9fYSflsapKTkTuKWa3/w8oOUyOBetRmklC7TWuboY86Pu9HbSYJtQO+0dDn/Ocn+DFqM0mo9S6N8Sg5Z6GXRNRy0lIYUyHXzkSUb+y1FK+M35bWitY/tSQhaVQvAxvaV+oX6g7vtpmd1gpfMCsT13ZwWsC/GdZZP9hPCVi/NSzsktnjO2wmpwOs8rVxrThFm9HpADt62rhWGBKLn3HSAfbl0wDV/cxVy7aiUxs8pFGdAbYblp/j11yf9pX+ipqb5uBxPEDtLXT7L9oITRHYfxPwjMtVj0jjnUNRU1MDVnfkeyTooYGOSmP8cJTcdGfpRX0OAp2BdYC8KnPVUZmpGYym/1Xqb0syP/4GKg+FuPQHkGdxz76mHPON89IHrl2LemeB7nAOOoNSBzmhvZUzbfPSBgaQ+eoQSs2C1Z8IsygNdSu7mhVk4n1Yeyp1lDELVp0otwKFlQoyAQxA7x+PAR/HHZMZYOXQAs5CCTgVZ05mgAH0uoMXYdOdIB/FlZEpYAB1772E+3sRYTQO/8wBw9LtrT2VIwgl4Beb3pkEXpb2VOp4uduAVwDj4aKVMvEcNpHMj/ej8iQwjMFpq7qVpocGqwZ4WdKo3QDe/Sx9qO9fqW7NAP9bMvv2VnL5vcBOVLcBNwHXAJvUrWxses1qBg6jTG9acWgdeK3rb5uuGEmTzESgAAAAAElFTkSuQmCC",
          "x": 1,
          "xanchor": "right",
          "xref": "paper",
          "y": 1,
          "yanchor": "top",
          "yref": "paper"
         }
        ],
        "legend": {
         "itemsizing": "constant",
         "tracegroupgap": 0
        },
        "margin": {
         "t": 60
        },
        "template": {
         "data": {
          "bar": [
           {
            "error_x": {
             "color": "#2a3f5f"
            },
            "error_y": {
             "color": "#2a3f5f"
            },
            "marker": {
             "line": {
              "color": "#E5ECF6",
              "width": 0.5
             },
             "pattern": {
              "fillmode": "overlay",
              "size": 10,
              "solidity": 0.2
             }
            },
            "type": "bar"
           }
          ],
          "barpolar": [
           {
            "marker": {
             "line": {
              "color": "#E5ECF6",
              "width": 0.5
             },
             "pattern": {
              "fillmode": "overlay",
              "size": 10,
              "solidity": 0.2
             }
            },
            "type": "barpolar"
           }
          ],
          "carpet": [
           {
            "aaxis": {
             "endlinecolor": "#2a3f5f",
             "gridcolor": "white",
             "linecolor": "white",
             "minorgridcolor": "white",
             "startlinecolor": "#2a3f5f"
            },
            "baxis": {
             "endlinecolor": "#2a3f5f",
             "gridcolor": "white",
             "linecolor": "white",
             "minorgridcolor": "white",
             "startlinecolor": "#2a3f5f"
            },
            "type": "carpet"
           }
          ],
          "choropleth": [
           {
            "colorbar": {
             "outlinewidth": 0,
             "ticks": ""
            },
            "type": "choropleth"
           }
          ],
          "contour": [
           {
            "colorbar": {
             "outlinewidth": 0,
             "ticks": ""
            },
            "colorscale": [
             [
              0,
              "#0d0887"
             ],
             [
              0.1111111111111111,
              "#46039f"
             ],
             [
              0.2222222222222222,
              "#7201a8"
             ],
             [
              0.3333333333333333,
              "#9c179e"
             ],
             [
              0.4444444444444444,
              "#bd3786"
             ],
             [
              0.5555555555555556,
              "#d8576b"
             ],
             [
              0.6666666666666666,
              "#ed7953"
             ],
             [
              0.7777777777777778,
              "#fb9f3a"
             ],
             [
              0.8888888888888888,
              "#fdca26"
             ],
             [
              1,
              "#f0f921"
             ]
            ],
            "type": "contour"
           }
          ],
          "contourcarpet": [
           {
            "colorbar": {
             "outlinewidth": 0,
             "ticks": ""
            },
            "type": "contourcarpet"
           }
          ],
          "heatmap": [
           {
            "colorbar": {
             "outlinewidth": 0,
             "ticks": ""
            },
            "colorscale": [
             [
              0,
              "#0d0887"
             ],
             [
              0.1111111111111111,
              "#46039f"
             ],
             [
              0.2222222222222222,
              "#7201a8"
             ],
             [
              0.3333333333333333,
              "#9c179e"
             ],
             [
              0.4444444444444444,
              "#bd3786"
             ],
             [
              0.5555555555555556,
              "#d8576b"
             ],
             [
              0.6666666666666666,
              "#ed7953"
             ],
             [
              0.7777777777777778,
              "#fb9f3a"
             ],
             [
              0.8888888888888888,
              "#fdca26"
             ],
             [
              1,
              "#f0f921"
             ]
            ],
            "type": "heatmap"
           }
          ],
          "heatmapgl": [
           {
            "colorbar": {
             "outlinewidth": 0,
             "ticks": ""
            },
            "colorscale": [
             [
              0,
              "#0d0887"
             ],
             [
              0.1111111111111111,
              "#46039f"
             ],
             [
              0.2222222222222222,
              "#7201a8"
             ],
             [
              0.3333333333333333,
              "#9c179e"
             ],
             [
              0.4444444444444444,
              "#bd3786"
             ],
             [
              0.5555555555555556,
              "#d8576b"
             ],
             [
              0.6666666666666666,
              "#ed7953"
             ],
             [
              0.7777777777777778,
              "#fb9f3a"
             ],
             [
              0.8888888888888888,
              "#fdca26"
             ],
             [
              1,
              "#f0f921"
             ]
            ],
            "type": "heatmapgl"
           }
          ],
          "histogram": [
           {
            "marker": {
             "pattern": {
              "fillmode": "overlay",
              "size": 10,
              "solidity": 0.2
             }
            },
            "type": "histogram"
           }
          ],
          "histogram2d": [
           {
            "colorbar": {
             "outlinewidth": 0,
             "ticks": ""
            },
            "colorscale": [
             [
              0,
              "#0d0887"
             ],
             [
              0.1111111111111111,
              "#46039f"
             ],
             [
              0.2222222222222222,
              "#7201a8"
             ],
             [
              0.3333333333333333,
              "#9c179e"
             ],
             [
              0.4444444444444444,
              "#bd3786"
             ],
             [
              0.5555555555555556,
              "#d8576b"
             ],
             [
              0.6666666666666666,
              "#ed7953"
             ],
             [
              0.7777777777777778,
              "#fb9f3a"
             ],
             [
              0.8888888888888888,
              "#fdca26"
             ],
             [
              1,
              "#f0f921"
             ]
            ],
            "type": "histogram2d"
           }
          ],
          "histogram2dcontour": [
           {
            "colorbar": {
             "outlinewidth": 0,
             "ticks": ""
            },
            "colorscale": [
             [
              0,
              "#0d0887"
             ],
             [
              0.1111111111111111,
              "#46039f"
             ],
             [
              0.2222222222222222,
              "#7201a8"
             ],
             [
              0.3333333333333333,
              "#9c179e"
             ],
             [
              0.4444444444444444,
              "#bd3786"
             ],
             [
              0.5555555555555556,
              "#d8576b"
             ],
             [
              0.6666666666666666,
              "#ed7953"
             ],
             [
              0.7777777777777778,
              "#fb9f3a"
             ],
             [
              0.8888888888888888,
              "#fdca26"
             ],
             [
              1,
              "#f0f921"
             ]
            ],
            "type": "histogram2dcontour"
           }
          ],
          "mesh3d": [
           {
            "colorbar": {
             "outlinewidth": 0,
             "ticks": ""
            },
            "type": "mesh3d"
           }
          ],
          "parcoords": [
           {
            "line": {
             "colorbar": {
              "outlinewidth": 0,
              "ticks": ""
             }
            },
            "type": "parcoords"
           }
          ],
          "pie": [
           {
            "automargin": true,
            "type": "pie"
           }
          ],
          "scatter": [
           {
            "fillpattern": {
             "fillmode": "overlay",
             "size": 10,
             "solidity": 0.2
            },
            "type": "scatter"
           }
          ],
          "scatter3d": [
           {
            "line": {
             "colorbar": {
              "outlinewidth": 0,
              "ticks": ""
             }
            },
            "marker": {
             "colorbar": {
              "outlinewidth": 0,
              "ticks": ""
             }
            },
            "type": "scatter3d"
           }
          ],
          "scattercarpet": [
           {
            "marker": {
             "colorbar": {
              "outlinewidth": 0,
              "ticks": ""
             }
            },
            "type": "scattercarpet"
           }
          ],
          "scattergeo": [
           {
            "marker": {
             "colorbar": {
              "outlinewidth": 0,
              "ticks": ""
             }
            },
            "type": "scattergeo"
           }
          ],
          "scattergl": [
           {
            "marker": {
             "colorbar": {
              "outlinewidth": 0,
              "ticks": ""
             }
            },
            "type": "scattergl"
           }
          ],
          "scattermapbox": [
           {
            "marker": {
             "colorbar": {
              "outlinewidth": 0,
              "ticks": ""
             }
            },
            "type": "scattermapbox"
           }
          ],
          "scatterpolar": [
           {
            "marker": {
             "colorbar": {
              "outlinewidth": 0,
              "ticks": ""
             }
            },
            "type": "scatterpolar"
           }
          ],
          "scatterpolargl": [
           {
            "marker": {
             "colorbar": {
              "outlinewidth": 0,
              "ticks": ""
             }
            },
            "type": "scatterpolargl"
           }
          ],
          "scatterternary": [
           {
            "marker": {
             "colorbar": {
              "outlinewidth": 0,
              "ticks": ""
             }
            },
            "type": "scatterternary"
           }
          ],
          "surface": [
           {
            "colorbar": {
             "outlinewidth": 0,
             "ticks": ""
            },
            "colorscale": [
             [
              0,
              "#0d0887"
             ],
             [
              0.1111111111111111,
              "#46039f"
             ],
             [
              0.2222222222222222,
              "#7201a8"
             ],
             [
              0.3333333333333333,
              "#9c179e"
             ],
             [
              0.4444444444444444,
              "#bd3786"
             ],
             [
              0.5555555555555556,
              "#d8576b"
             ],
             [
              0.6666666666666666,
              "#ed7953"
             ],
             [
              0.7777777777777778,
              "#fb9f3a"
             ],
             [
              0.8888888888888888,
              "#fdca26"
             ],
             [
              1,
              "#f0f921"
             ]
            ],
            "type": "surface"
           }
          ],
          "table": [
           {
            "cells": {
             "fill": {
              "color": "#EBF0F8"
             },
             "line": {
              "color": "white"
             }
            },
            "header": {
             "fill": {
              "color": "#C8D4E3"
             },
             "line": {
              "color": "white"
             }
            },
            "type": "table"
           }
          ]
         },
         "layout": {
          "annotationdefaults": {
           "arrowcolor": "#2a3f5f",
           "arrowhead": 0,
           "arrowwidth": 1
          },
          "autotypenumbers": "strict",
          "coloraxis": {
           "colorbar": {
            "outlinewidth": 0,
            "ticks": ""
           }
          },
          "colorscale": {
           "diverging": [
            [
             0,
             "#8e0152"
            ],
            [
             0.1,
             "#c51b7d"
            ],
            [
             0.2,
             "#de77ae"
            ],
            [
             0.3,
             "#f1b6da"
            ],
            [
             0.4,
             "#fde0ef"
            ],
            [
             0.5,
             "#f7f7f7"
            ],
            [
             0.6,
             "#e6f5d0"
            ],
            [
             0.7,
             "#b8e186"
            ],
            [
             0.8,
             "#7fbc41"
            ],
            [
             0.9,
             "#4d9221"
            ],
            [
             1,
             "#276419"
            ]
           ],
           "sequential": [
            [
             0,
             "#0d0887"
            ],
            [
             0.1111111111111111,
             "#46039f"
            ],
            [
             0.2222222222222222,
             "#7201a8"
            ],
            [
             0.3333333333333333,
             "#9c179e"
            ],
            [
             0.4444444444444444,
             "#bd3786"
            ],
            [
             0.5555555555555556,
             "#d8576b"
            ],
            [
             0.6666666666666666,
             "#ed7953"
            ],
            [
             0.7777777777777778,
             "#fb9f3a"
            ],
            [
             0.8888888888888888,
             "#fdca26"
            ],
            [
             1,
             "#f0f921"
            ]
           ],
           "sequentialminus": [
            [
             0,
             "#0d0887"
            ],
            [
             0.1111111111111111,
             "#46039f"
            ],
            [
             0.2222222222222222,
             "#7201a8"
            ],
            [
             0.3333333333333333,
             "#9c179e"
            ],
            [
             0.4444444444444444,
             "#bd3786"
            ],
            [
             0.5555555555555556,
             "#d8576b"
            ],
            [
             0.6666666666666666,
             "#ed7953"
            ],
            [
             0.7777777777777778,
             "#fb9f3a"
            ],
            [
             0.8888888888888888,
             "#fdca26"
            ],
            [
             1,
             "#f0f921"
            ]
           ]
          },
          "colorway": [
           "#636efa",
           "#EF553B",
           "#00cc96",
           "#ab63fa",
           "#FFA15A",
           "#19d3f3",
           "#FF6692",
           "#B6E880",
           "#FF97FF",
           "#FECB52"
          ],
          "font": {
           "color": "#040404",
           "family": "Open Sans",
           "size": 15
          },
          "geo": {
           "bgcolor": "white",
           "lakecolor": "white",
           "landcolor": "#E5ECF6",
           "showlakes": true,
           "showland": true,
           "subunitcolor": "white"
          },
          "hoverlabel": {
           "align": "left"
          },
          "hovermode": "closest",
          "mapbox": {
           "style": "light"
          },
          "margin": {
           "b": 0
          },
          "paper_bgcolor": "white",
          "plot_bgcolor": "#E5ECF6",
          "polar": {
           "angularaxis": {
            "gridcolor": "white",
            "linecolor": "white",
            "ticks": ""
           },
           "bgcolor": "#E5ECF6",
           "radialaxis": {
            "gridcolor": "white",
            "linecolor": "white",
            "ticks": ""
           }
          },
          "scene": {
           "xaxis": {
            "backgroundcolor": "#E5ECF6",
            "gridcolor": "white",
            "gridwidth": 2,
            "linecolor": "white",
            "showbackground": true,
            "ticks": "",
            "zerolinecolor": "white"
           },
           "yaxis": {
            "backgroundcolor": "#E5ECF6",
            "gridcolor": "white",
            "gridwidth": 2,
            "linecolor": "white",
            "showbackground": true,
            "ticks": "",
            "zerolinecolor": "white"
           },
           "zaxis": {
            "backgroundcolor": "#E5ECF6",
            "gridcolor": "white",
            "gridwidth": 2,
            "linecolor": "white",
            "showbackground": true,
            "ticks": "",
            "zerolinecolor": "white"
           }
          },
          "shapedefaults": {
           "line": {
            "color": "#2a3f5f"
           }
          },
          "ternary": {
           "aaxis": {
            "gridcolor": "white",
            "linecolor": "white",
            "ticks": ""
           },
           "baxis": {
            "gridcolor": "white",
            "linecolor": "white",
            "ticks": ""
           },
           "bgcolor": "#E5ECF6",
           "caxis": {
            "gridcolor": "white",
            "linecolor": "white",
            "ticks": ""
           }
          },
          "title": {
           "font": {
            "color": "#040404",
            "family": "Open Sans"
           },
           "x": 0.05
          },
          "xaxis": {
           "automargin": true,
           "gridcolor": "white",
           "linecolor": "white",
           "ticks": "",
           "title": {
            "standoff": 15
           },
           "zerolinecolor": "white",
           "zerolinewidth": 2
          },
          "yaxis": {
           "automargin": true,
           "gridcolor": "white",
           "linecolor": "white",
           "ticks": "",
           "title": {
            "standoff": 15
           },
           "zerolinecolor": "white",
           "zerolinewidth": 2
          }
         }
        },
        "title": {
         "text": "Distribution of Programming Languages within Topics"
        },
        "width": 1200,
        "xaxis": {
         "anchor": "y",
         "domain": [
          0,
          1
         ],
         "title": {}
        },
        "yaxis": {
         "anchor": "x",
         "domain": [
          0,
          1
         ],
         "title": {}
        }
       }
      }
     },
     "metadata": {},
     "output_type": "display_data"
    }
   ],
   "source": [
    "df_language_distribution = (\n",
    "    df_active.value_counts([\"topic\", \"dominating_language\"]).to_frame().reset_index()\n",
    ")\n",
    "\n",
    "df_language_distribution.rename(columns={0: \"counts\"}, inplace=True)\n",
    "fig = px.scatter(\n",
    "    df_language_distribution, x=\"dominating_language\", y=\"topic\", size=\"counts\", \n",
    ")\n",
    "\n",
    "\n",
    "fig.update_layout(\n",
    "    height=1000,  # Added parameter\n",
    "    width=1200,\n",
    "    xaxis_title= None,\n",
    "    yaxis_title= None,\n",
    "    title=\"Distribution of programming languages within topics\"\n",
    ")\n",
    "fig.update_traces(marker_color=marker_color)\n",
    "\n",
    "fig.add_layout_image(\n",
    "    dict(\n",
    "        source=logo_img,\n",
    "        xref=\"paper\", yref=\"paper\",\n",
    "        x=1, y=1,\n",
    "        sizex=0.05, sizey=0.05,\n",
    "        xanchor=\"right\", yanchor=\"top\"\n",
    "    )\n",
    ")\n",
    "\n",
    "fig.show()"
   ]
  },
  {
   "cell_type": "markdown",
   "metadata": {},
   "source": []
  },
  {
   "cell_type": "markdown",
   "metadata": {},
   "source": [
    "```{figure} data:image/gif;base64,R0lGODlhAQABAIAAAAAAAP///yH5BAEAAAAALAAAAAABAAEAAAIBRAA7\n",
    ":figclass: caption-hack\n",
    ":name: languages-within-topics\n",
    "\n",
    "Distribution of programming languages within topics\n",
    "```"
   ]
  },
  {
   "cell_type": "markdown",
   "metadata": {},
   "source": []
  }
 ],
 "metadata": {
  "celltoolbar": "Tags",
  "kernelspec": {
   "display_name": "Python 3.8.10 64-bit",
   "language": "python",
   "name": "python3"
  },
  "language_info": {
   "codemirror_mode": {
    "name": "ipython",
    "version": 3
   },
   "file_extension": ".py",
   "mimetype": "text/x-python",
   "name": "python",
   "nbconvert_exporter": "python",
   "pygments_lexer": "ipython3",
   "version": "3.8.10"
  },
  "tags": "full-width",
  "vscode": {
   "interpreter": {
    "hash": "e7370f93d1d0cde622a1f8e1c04877d8463912d04d973331ad4851f04de6915a"
   }
  }
 },
 "nbformat": 4,
 "nbformat_minor": 4
}
