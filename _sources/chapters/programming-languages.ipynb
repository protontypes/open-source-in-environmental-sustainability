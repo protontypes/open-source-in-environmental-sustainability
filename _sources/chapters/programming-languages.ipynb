{
 "cells": [
  {
   "cell_type": "markdown",
   "metadata": {},
   "source": [
    "# Programming Languages\n",
    "\n",
    "**The number and kinds of programming languages provide insight into the skills required of code contributors and the nature of the projects themselves.** This metric can help newcomers navigate open source projects, as well as enable project and product managers to gain insight into the project’s profile within the context of their own experience and organisations. It can also help inform students on which programming languages they might focus their efforts on learning, depending on their topic of interest."
   ]
  },
  {
   "cell_type": "code",
   "execution_count": 5,
   "metadata": {
    "tags": [
     "remove-cell"
    ]
   },
   "outputs": [],
   "source": [
    "import numpy as np\n",
    "import pandas as pd\n",
    "import plotly.io as pio\n",
    "import plotly.graph_objects as go\n",
    "import plotly.express as px\n",
    "from opensustainTemplate import *"
   ]
  },
  {
   "cell_type": "code",
   "execution_count": 6,
   "metadata": {
    "tags": [
     "remove-cell"
    ]
   },
   "outputs": [],
   "source": [
    "df_active = pd.read_csv(\"../csv/project_analysis.csv\")"
   ]
  },
  {
   "cell_type": "code",
   "execution_count": 7,
   "metadata": {
    "tags": [
     "remove-input"
    ]
   },
   "outputs": [
    {
     "data": {
      "application/vnd.plotly.v1+json": {
       "config": {
        "plotlyServerURL": "https://plot.ly"
       },
       "data": [
        {
         "domain": {
          "x": [
           0,
           1
          ],
          "y": [
           0,
           1
          ]
         },
         "hole": 0.2,
         "hovertemplate": "dominating_language_names=%{label}<br>dominating_language=%{value}<extra></extra>",
         "labels": [
          "Python",
          "R",
          "Jupyter Notebook",
          "Fortran",
          "C++",
          "JavaScript",
          "Julia",
          "C",
          "TypeScript",
          "Java",
          "HTML",
          "Ruby",
          "MATLAB",
          "Modelica",
          "C#",
          "Vue",
          "Go",
          "PHP"
         ],
         "legendgroup": "",
         "marker": {
          "line": {
           "color": "#000000",
           "width": 1
          }
         },
         "name": "",
         "showlegend": true,
         "textinfo": "percent+label",
         "textposition": "inside",
         "type": "pie",
         "values": [
          362,
          152,
          85,
          47,
          43,
          33,
          29,
          23,
          21,
          21,
          19,
          18,
          14,
          13,
          8,
          8,
          7,
          6
         ]
        }
       ],
       "layout": {
        "dragmode": false,
        "font": {
         "size": 16
        },
        "legend": {
         "tracegroupgap": 0
        },
        "margin": {
         "b": 0,
         "l": 0,
         "r": 0,
         "t": 0
        },
        "piecolorway": [
         "#0E7C7B",
         "#17BEBB",
         "#FFC857",
         "#E9724C",
         "#C5283D"
        ],
        "showlegend": false,
        "template": {
         "data": {
          "bar": [
           {
            "error_x": {
             "color": "#2a3f5f"
            },
            "error_y": {
             "color": "#2a3f5f"
            },
            "marker": {
             "line": {
              "color": "#E5ECF6",
              "width": 0.5
             },
             "pattern": {
              "fillmode": "overlay",
              "size": 10,
              "solidity": 0.2
             }
            },
            "type": "bar"
           }
          ],
          "barpolar": [
           {
            "marker": {
             "line": {
              "color": "#E5ECF6",
              "width": 0.5
             },
             "pattern": {
              "fillmode": "overlay",
              "size": 10,
              "solidity": 0.2
             }
            },
            "type": "barpolar"
           }
          ],
          "carpet": [
           {
            "aaxis": {
             "endlinecolor": "#2a3f5f",
             "gridcolor": "white",
             "linecolor": "white",
             "minorgridcolor": "white",
             "startlinecolor": "#2a3f5f"
            },
            "baxis": {
             "endlinecolor": "#2a3f5f",
             "gridcolor": "white",
             "linecolor": "white",
             "minorgridcolor": "white",
             "startlinecolor": "#2a3f5f"
            },
            "type": "carpet"
           }
          ],
          "choropleth": [
           {
            "colorbar": {
             "outlinewidth": 0,
             "ticks": ""
            },
            "type": "choropleth"
           }
          ],
          "contour": [
           {
            "colorbar": {
             "outlinewidth": 0,
             "ticks": ""
            },
            "colorscale": [
             [
              0,
              "#0d0887"
             ],
             [
              0.1111111111111111,
              "#46039f"
             ],
             [
              0.2222222222222222,
              "#7201a8"
             ],
             [
              0.3333333333333333,
              "#9c179e"
             ],
             [
              0.4444444444444444,
              "#bd3786"
             ],
             [
              0.5555555555555556,
              "#d8576b"
             ],
             [
              0.6666666666666666,
              "#ed7953"
             ],
             [
              0.7777777777777778,
              "#fb9f3a"
             ],
             [
              0.8888888888888888,
              "#fdca26"
             ],
             [
              1,
              "#f0f921"
             ]
            ],
            "type": "contour"
           }
          ],
          "contourcarpet": [
           {
            "colorbar": {
             "outlinewidth": 0,
             "ticks": ""
            },
            "type": "contourcarpet"
           }
          ],
          "heatmap": [
           {
            "colorbar": {
             "outlinewidth": 0,
             "ticks": ""
            },
            "colorscale": [
             [
              0,
              "#0d0887"
             ],
             [
              0.1111111111111111,
              "#46039f"
             ],
             [
              0.2222222222222222,
              "#7201a8"
             ],
             [
              0.3333333333333333,
              "#9c179e"
             ],
             [
              0.4444444444444444,
              "#bd3786"
             ],
             [
              0.5555555555555556,
              "#d8576b"
             ],
             [
              0.6666666666666666,
              "#ed7953"
             ],
             [
              0.7777777777777778,
              "#fb9f3a"
             ],
             [
              0.8888888888888888,
              "#fdca26"
             ],
             [
              1,
              "#f0f921"
             ]
            ],
            "type": "heatmap"
           }
          ],
          "heatmapgl": [
           {
            "colorbar": {
             "outlinewidth": 0,
             "ticks": ""
            },
            "colorscale": [
             [
              0,
              "#0d0887"
             ],
             [
              0.1111111111111111,
              "#46039f"
             ],
             [
              0.2222222222222222,
              "#7201a8"
             ],
             [
              0.3333333333333333,
              "#9c179e"
             ],
             [
              0.4444444444444444,
              "#bd3786"
             ],
             [
              0.5555555555555556,
              "#d8576b"
             ],
             [
              0.6666666666666666,
              "#ed7953"
             ],
             [
              0.7777777777777778,
              "#fb9f3a"
             ],
             [
              0.8888888888888888,
              "#fdca26"
             ],
             [
              1,
              "#f0f921"
             ]
            ],
            "type": "heatmapgl"
           }
          ],
          "histogram": [
           {
            "marker": {
             "pattern": {
              "fillmode": "overlay",
              "size": 10,
              "solidity": 0.2
             }
            },
            "type": "histogram"
           }
          ],
          "histogram2d": [
           {
            "colorbar": {
             "outlinewidth": 0,
             "ticks": ""
            },
            "colorscale": [
             [
              0,
              "#0d0887"
             ],
             [
              0.1111111111111111,
              "#46039f"
             ],
             [
              0.2222222222222222,
              "#7201a8"
             ],
             [
              0.3333333333333333,
              "#9c179e"
             ],
             [
              0.4444444444444444,
              "#bd3786"
             ],
             [
              0.5555555555555556,
              "#d8576b"
             ],
             [
              0.6666666666666666,
              "#ed7953"
             ],
             [
              0.7777777777777778,
              "#fb9f3a"
             ],
             [
              0.8888888888888888,
              "#fdca26"
             ],
             [
              1,
              "#f0f921"
             ]
            ],
            "type": "histogram2d"
           }
          ],
          "histogram2dcontour": [
           {
            "colorbar": {
             "outlinewidth": 0,
             "ticks": ""
            },
            "colorscale": [
             [
              0,
              "#0d0887"
             ],
             [
              0.1111111111111111,
              "#46039f"
             ],
             [
              0.2222222222222222,
              "#7201a8"
             ],
             [
              0.3333333333333333,
              "#9c179e"
             ],
             [
              0.4444444444444444,
              "#bd3786"
             ],
             [
              0.5555555555555556,
              "#d8576b"
             ],
             [
              0.6666666666666666,
              "#ed7953"
             ],
             [
              0.7777777777777778,
              "#fb9f3a"
             ],
             [
              0.8888888888888888,
              "#fdca26"
             ],
             [
              1,
              "#f0f921"
             ]
            ],
            "type": "histogram2dcontour"
           }
          ],
          "mesh3d": [
           {
            "colorbar": {
             "outlinewidth": 0,
             "ticks": ""
            },
            "type": "mesh3d"
           }
          ],
          "parcoords": [
           {
            "line": {
             "colorbar": {
              "outlinewidth": 0,
              "ticks": ""
             }
            },
            "type": "parcoords"
           }
          ],
          "pie": [
           {
            "automargin": true,
            "type": "pie"
           }
          ],
          "scatter": [
           {
            "fillpattern": {
             "fillmode": "overlay",
             "size": 10,
             "solidity": 0.2
            },
            "type": "scatter"
           }
          ],
          "scatter3d": [
           {
            "line": {
             "colorbar": {
              "outlinewidth": 0,
              "ticks": ""
             }
            },
            "marker": {
             "colorbar": {
              "outlinewidth": 0,
              "ticks": ""
             }
            },
            "type": "scatter3d"
           }
          ],
          "scattercarpet": [
           {
            "marker": {
             "colorbar": {
              "outlinewidth": 0,
              "ticks": ""
             }
            },
            "type": "scattercarpet"
           }
          ],
          "scattergeo": [
           {
            "marker": {
             "colorbar": {
              "outlinewidth": 0,
              "ticks": ""
             }
            },
            "type": "scattergeo"
           }
          ],
          "scattergl": [
           {
            "marker": {
             "colorbar": {
              "outlinewidth": 0,
              "ticks": ""
             }
            },
            "type": "scattergl"
           }
          ],
          "scattermapbox": [
           {
            "marker": {
             "colorbar": {
              "outlinewidth": 0,
              "ticks": ""
             }
            },
            "type": "scattermapbox"
           }
          ],
          "scatterpolar": [
           {
            "marker": {
             "colorbar": {
              "outlinewidth": 0,
              "ticks": ""
             }
            },
            "type": "scatterpolar"
           }
          ],
          "scatterpolargl": [
           {
            "marker": {
             "colorbar": {
              "outlinewidth": 0,
              "ticks": ""
             }
            },
            "type": "scatterpolargl"
           }
          ],
          "scatterternary": [
           {
            "marker": {
             "colorbar": {
              "outlinewidth": 0,
              "ticks": ""
             }
            },
            "type": "scatterternary"
           }
          ],
          "surface": [
           {
            "colorbar": {
             "outlinewidth": 0,
             "ticks": ""
            },
            "colorscale": [
             [
              0,
              "#0d0887"
             ],
             [
              0.1111111111111111,
              "#46039f"
             ],
             [
              0.2222222222222222,
              "#7201a8"
             ],
             [
              0.3333333333333333,
              "#9c179e"
             ],
             [
              0.4444444444444444,
              "#bd3786"
             ],
             [
              0.5555555555555556,
              "#d8576b"
             ],
             [
              0.6666666666666666,
              "#ed7953"
             ],
             [
              0.7777777777777778,
              "#fb9f3a"
             ],
             [
              0.8888888888888888,
              "#fdca26"
             ],
             [
              1,
              "#f0f921"
             ]
            ],
            "type": "surface"
           }
          ],
          "table": [
           {
            "cells": {
             "fill": {
              "color": "#EBF0F8"
             },
             "line": {
              "color": "white"
             }
            },
            "header": {
             "fill": {
              "color": "#C8D4E3"
             },
             "line": {
              "color": "white"
             }
            },
            "type": "table"
           }
          ]
         },
         "layout": {
          "annotationdefaults": {
           "arrowcolor": "#2a3f5f",
           "arrowhead": 0,
           "arrowwidth": 1
          },
          "autotypenumbers": "strict",
          "coloraxis": {
           "colorbar": {
            "outlinewidth": 0,
            "ticks": ""
           }
          },
          "colorscale": {
           "diverging": [
            [
             0,
             "#8e0152"
            ],
            [
             0.1,
             "#c51b7d"
            ],
            [
             0.2,
             "#de77ae"
            ],
            [
             0.3,
             "#f1b6da"
            ],
            [
             0.4,
             "#fde0ef"
            ],
            [
             0.5,
             "#f7f7f7"
            ],
            [
             0.6,
             "#e6f5d0"
            ],
            [
             0.7,
             "#b8e186"
            ],
            [
             0.8,
             "#7fbc41"
            ],
            [
             0.9,
             "#4d9221"
            ],
            [
             1,
             "#276419"
            ]
           ],
           "sequential": [
            [
             0,
             "#0d0887"
            ],
            [
             0.1111111111111111,
             "#46039f"
            ],
            [
             0.2222222222222222,
             "#7201a8"
            ],
            [
             0.3333333333333333,
             "#9c179e"
            ],
            [
             0.4444444444444444,
             "#bd3786"
            ],
            [
             0.5555555555555556,
             "#d8576b"
            ],
            [
             0.6666666666666666,
             "#ed7953"
            ],
            [
             0.7777777777777778,
             "#fb9f3a"
            ],
            [
             0.8888888888888888,
             "#fdca26"
            ],
            [
             1,
             "#f0f921"
            ]
           ],
           "sequentialminus": [
            [
             0,
             "#0d0887"
            ],
            [
             0.1111111111111111,
             "#46039f"
            ],
            [
             0.2222222222222222,
             "#7201a8"
            ],
            [
             0.3333333333333333,
             "#9c179e"
            ],
            [
             0.4444444444444444,
             "#bd3786"
            ],
            [
             0.5555555555555556,
             "#d8576b"
            ],
            [
             0.6666666666666666,
             "#ed7953"
            ],
            [
             0.7777777777777778,
             "#fb9f3a"
            ],
            [
             0.8888888888888888,
             "#fdca26"
            ],
            [
             1,
             "#f0f921"
            ]
           ]
          },
          "colorway": [
           "#636efa",
           "#EF553B",
           "#00cc96",
           "#ab63fa",
           "#FFA15A",
           "#19d3f3",
           "#FF6692",
           "#B6E880",
           "#FF97FF",
           "#FECB52"
          ],
          "font": {
           "color": "#040404",
           "family": "Open Sans",
           "size": 15
          },
          "geo": {
           "bgcolor": "white",
           "lakecolor": "white",
           "landcolor": "#E5ECF6",
           "showlakes": true,
           "showland": true,
           "subunitcolor": "white"
          },
          "hoverlabel": {
           "align": "left"
          },
          "hovermode": "closest",
          "mapbox": {
           "style": "light"
          },
          "margin": {
           "b": 0
          },
          "paper_bgcolor": "white",
          "plot_bgcolor": "#E5ECF6",
          "polar": {
           "angularaxis": {
            "gridcolor": "white",
            "linecolor": "white",
            "ticks": ""
           },
           "bgcolor": "#E5ECF6",
           "radialaxis": {
            "gridcolor": "white",
            "linecolor": "white",
            "ticks": ""
           }
          },
          "scene": {
           "xaxis": {
            "backgroundcolor": "#E5ECF6",
            "gridcolor": "white",
            "gridwidth": 2,
            "linecolor": "white",
            "showbackground": true,
            "ticks": "",
            "zerolinecolor": "white"
           },
           "yaxis": {
            "backgroundcolor": "#E5ECF6",
            "gridcolor": "white",
            "gridwidth": 2,
            "linecolor": "white",
            "showbackground": true,
            "ticks": "",
            "zerolinecolor": "white"
           },
           "zaxis": {
            "backgroundcolor": "#E5ECF6",
            "gridcolor": "white",
            "gridwidth": 2,
            "linecolor": "white",
            "showbackground": true,
            "ticks": "",
            "zerolinecolor": "white"
           }
          },
          "shapedefaults": {
           "line": {
            "color": "#2a3f5f"
           }
          },
          "ternary": {
           "aaxis": {
            "gridcolor": "white",
            "linecolor": "white",
            "ticks": ""
           },
           "baxis": {
            "gridcolor": "white",
            "linecolor": "white",
            "ticks": ""
           },
           "bgcolor": "#E5ECF6",
           "caxis": {
            "gridcolor": "white",
            "linecolor": "white",
            "ticks": ""
           }
          },
          "title": {
           "font": {
            "color": "#040404",
            "family": "Open Sans"
           },
           "x": 0.05
          },
          "xaxis": {
           "automargin": true,
           "gridcolor": "white",
           "linecolor": "white",
           "ticks": "",
           "title": {
            "standoff": 15
           },
           "zerolinecolor": "white",
           "zerolinewidth": 2
          },
          "yaxis": {
           "automargin": true,
           "gridcolor": "white",
           "linecolor": "white",
           "ticks": "",
           "title": {
            "standoff": 15
           },
           "zerolinecolor": "white",
           "zerolinewidth": 2
          }
         }
        }
       }
      }
     },
     "metadata": {},
     "output_type": "display_data"
    }
   ],
   "source": [
    "license_dominating_language = (\n",
    "    df_active[\"dominating_language\"]\n",
    "    .value_counts()\n",
    "    .to_frame()\n",
    "    .rename_axis(\"dominating_language_names\")\n",
    "    .reset_index()\n",
    ")\n",
    "license_dominating_language\n",
    "license_dominating_language = license_dominating_language[\n",
    "    (license_dominating_language[\"dominating_language\"] > 4)\n",
    "]\n",
    "fig = px.pie(\n",
    "    license_dominating_language,\n",
    "    values=\"dominating_language\",\n",
    "    names=\"dominating_language_names\",\n",
    "    color_discrete_sequence=color_discrete_sequence,\n",
    "    hole=0.2,\n",
    ")\n",
    "\n",
    "\n",
    "fig.update_layout(showlegend=False, font_size=16, dragmode=False)\n",
    "fig.update_traces(\n",
    "    textposition=\"inside\",\n",
    "    textinfo=\"percent+label\",\n",
    "    marker=dict(line=dict(color=boarder_color, width=1)),\n",
    ")\n",
    "fig[\"layout\"].update(margin=dict(l=0, r=0, b=0, t=0))\n",
    "fig.show()"
   ]
  },
  {
   "attachments": {},
   "cell_type": "markdown",
   "metadata": {},
   "source": [
    "```{figure} data:image/gif;base64,R0lGODlhAQABAIAAAAAAAP///yH5BAEAAAAALAAAAAABAAEAAAIBRAA7\n",
    ":figclass: caption-hack\n",
    ":name: languages-distribution\n",
    "\n",
    "\\- Distribution of programming languages\n",
    "```"
   ]
  },
  {
   "attachments": {},
   "cell_type": "markdown",
   "metadata": {},
   "source": [
    "**Python dominates the OSS movement for sustainability and is used in 39.8% of all projects, followed by R (16.7%), Jupyter notebooks (9.34%) and other languages like Fortran, C++ and Java.** Statistics from [GitHut 2.0](https://madnight.github.io/githut/#/pull_requests/2022/1) or the [official numbers](https://octoverse.github.com/#geographical-distribution-of-active-users) of GitHub provide insights into the programming language usage of Open Source projects. Compared to the broader open source ecosystem, it is clear that Python has a significantly higher use within the repositories analysed, compared to widely popular languages, such as JavaScript. This indicates a strong focus on analysing large datasets, where Python and Jupyter Notebooks are increasingly dominant, with less focus on the web application side. Python, in particular, is the language of choice in projects in energy modelling, biosphere, hydrosphere, wind energy, buildings and heating. Python is considered to be an energy-inefficient programming language. However, in practice, computationally intensive operations are typically offloaded to energy-efficient processes (e.g., via a C-API) using libraries such as NumPy.\n",
    "\n",
    "**The use of R deviates significantly from other statistics and has a high prevalence within the software world.** A concentration of R developments can be found, particularly within the topics of biosphere, hydrosphere, water supply, soil and land use, climate, and food and agriculture. This can be attributed to the high number of data statistical-related projects within these topics, and the low number of general web development projects within the field of Sustainable Development. Despite its advanced age of over 65 years, Fortran is still widely used in the Earth system models applied across hydrosphere, climate and atmosphere fields. This can be explained by the long development time of these projects, and the necessary numerical efficiency of such models for high-performance computing.\n",
    "\n",
    "**Julia, a relatively new language, also has a wide range of applications.**  For some special use cases, such as building simulation, programming languages like Modelica are frequently used. "
   ]
  },
  {
   "cell_type": "code",
   "execution_count": 8,
   "metadata": {
    "tags": [
     "full-width",
     "remove-input"
    ]
   },
   "outputs": [
    {
     "data": {
      "application/vnd.plotly.v1+json": {
       "config": {
        "plotlyServerURL": "https://plot.ly"
       },
       "data": [
        {
         "hovertemplate": "dominating_language=%{x}<br>topic=%{y}<br>counts=%{marker.size}<extra></extra>",
         "legendgroup": "",
         "marker": {
          "color": "#0E7C7B",
          "size": [
           46,
           33,
           25,
           23,
           22,
           21,
           21,
           18,
           18,
           18,
           16,
           16,
           13,
           12,
           11,
           11,
           11,
           11,
           11,
           10,
           10,
           10,
           9,
           9,
           8,
           8,
           8,
           8,
           8,
           8,
           7,
           7,
           6,
           6,
           6,
           6,
           6,
           6,
           6,
           6,
           6,
           6,
           5,
           5,
           5,
           5,
           5,
           5,
           5,
           4,
           4,
           4,
           4,
           4,
           4,
           4,
           4,
           4,
           4,
           4,
           4,
           4,
           4,
           4,
           4,
           3,
           3,
           3,
           3,
           3,
           3,
           3,
           3,
           3,
           3,
           3,
           3,
           3,
           3,
           3,
           3,
           3,
           3,
           3,
           3,
           3,
           3,
           3,
           3,
           3,
           3,
           3,
           3,
           3,
           2,
           2,
           2,
           2,
           2,
           2,
           2,
           2,
           2,
           2,
           2,
           2,
           2,
           2,
           2,
           2,
           2,
           2,
           2,
           2,
           2,
           2,
           2,
           2,
           2,
           2,
           2,
           2,
           2,
           2,
           2,
           2,
           2,
           2,
           2,
           2,
           2,
           2,
           2,
           2,
           2,
           2,
           1,
           1,
           1,
           1,
           1,
           1,
           1,
           1,
           1,
           1,
           1,
           1,
           1,
           1,
           1,
           1,
           1,
           1,
           1,
           1,
           1,
           1,
           1,
           1,
           1,
           1,
           1,
           1,
           1,
           1,
           1,
           1,
           1,
           1,
           1,
           1,
           1,
           1,
           1,
           1,
           1,
           1,
           1,
           1,
           1,
           1,
           1,
           1,
           1,
           1,
           1,
           1,
           1,
           1,
           1,
           1,
           1,
           1,
           1,
           1,
           1,
           1,
           1,
           1,
           1,
           1,
           1,
           1,
           1,
           1,
           1,
           1,
           1,
           1,
           1,
           1,
           1,
           1,
           1,
           1,
           1,
           1,
           1,
           1,
           1,
           1,
           1,
           1,
           1,
           1,
           1,
           1,
           1,
           1,
           1,
           1,
           1,
           1,
           1,
           1,
           1,
           1,
           1,
           1,
           1,
           1,
           1,
           1,
           1,
           1,
           1,
           1,
           1,
           1,
           1,
           1,
           1,
           1,
           1,
           1,
           1,
           1,
           1,
           1,
           1,
           1,
           1,
           1,
           1,
           1,
           1,
           1,
           1,
           1,
           1,
           1,
           1,
           1,
           1,
           1,
           1,
           1,
           1,
           1,
           1,
           1,
           1,
           1,
           1,
           1,
           1
          ],
          "sizemode": "area",
          "sizeref": 0.115,
          "symbol": "circle"
         },
         "mode": "markers",
         "name": "",
         "orientation": "v",
         "showlegend": false,
         "type": "scatter",
         "x": [
          "Python",
          "R",
          "Python",
          "Python",
          "Python",
          "Python",
          "Python",
          "Python",
          "Python",
          "Python",
          "R",
          "R",
          "Python",
          "R",
          "Python",
          "Python",
          "Python",
          "R",
          "Fortran",
          "R",
          "Python",
          "Python",
          "Python",
          "Python",
          "Fortran",
          "Jupyter Notebook",
          "Modelica",
          "Python",
          "R",
          "Java",
          "Python",
          "R",
          "Jupyter Notebook",
          "Python",
          "Python",
          "JavaScript",
          "Python",
          "Fortran",
          "Julia",
          "Julia",
          "R",
          "Jupyter Notebook",
          "C",
          "Jupyter Notebook",
          "HTML",
          "Jupyter Notebook",
          "Python",
          "R",
          "R",
          "Jupyter Notebook",
          "C++",
          "JavaScript",
          "C",
          "Jupyter Notebook",
          "C++",
          "Julia",
          "R",
          "Julia",
          "C",
          "Ruby",
          "C++",
          "C#",
          "R",
          "Jupyter Notebook",
          "C++",
          "Python",
          "Fortran",
          "MATLAB",
          "Jupyter Notebook",
          "Jupyter Notebook",
          "Vue",
          "C++",
          "Fortran",
          "Python",
          "Go",
          "Java",
          "C++",
          "JavaScript",
          "Jupyter Notebook",
          "Jupyter Notebook",
          "Python",
          "Python",
          "Jupyter Notebook",
          "TypeScript",
          "Jupyter Notebook",
          "C++",
          "Ruby",
          "R",
          "JavaScript",
          "Jupyter Notebook",
          "Jupyter Notebook",
          "TypeScript",
          "Fortran",
          "Python",
          "C++",
          "JavaScript",
          "Fortran",
          "R",
          "Jupyter Notebook",
          "Jupyter Notebook",
          "C",
          "Ruby",
          "HTML",
          "R",
          "Python",
          "JavaScript",
          "Jupyter Notebook",
          "JavaScript",
          "Kotlin",
          "Ruby",
          "Fortran",
          "Scala",
          "TypeScript",
          "Python",
          "Java",
          "C++",
          "C",
          "Python",
          "Python",
          "Roff",
          "HTML",
          "Jupyter Notebook",
          "JavaScript",
          "R",
          "Fortran",
          "Ruby",
          "TypeScript",
          "MATLAB",
          "Vue",
          "Java",
          "JavaScript",
          "C++",
          "HTML",
          "JavaScript",
          "Jupyter Notebook",
          "Fortran",
          "Fortran",
          "Svelte",
          "TeX",
          "TypeScript",
          "Vue",
          "R",
          "R",
          "Rust",
          "Ruby",
          "Fortran",
          "Python",
          "Kotlin",
          "PHP",
          "Fortran",
          "Jupyter Notebook",
          "JavaScript",
          "HTML",
          "Ruby",
          "C",
          "Java",
          "Go",
          "C#",
          "Julia",
          "Swift",
          "Ruby",
          "CartoCSS",
          "Go",
          "Makefile",
          "MATLAB",
          "Julia",
          "HTML",
          "TypeScript",
          "MATLAB",
          "GAMS",
          "Jupyter Notebook",
          "R",
          "Ruby",
          "Elixir",
          "C++",
          "JavaScript",
          "Julia",
          "TypeScript",
          "Python",
          "QML",
          "PHP",
          "Rust",
          "C",
          "HTML",
          "GAMS",
          "JavaScript",
          "C++",
          "Modelica",
          "TypeScript",
          "C++",
          "R",
          "Turtle",
          "C",
          "C++",
          "C#",
          "Julia",
          "C",
          "C++",
          "Svelte",
          "MATLAB",
          "Jupyter Notebook",
          "HTML",
          "Python",
          "Go",
          "Java",
          "Makefile",
          "Shell",
          "TeX",
          "C++",
          "MATLAB",
          "Modelica",
          "SCSS",
          "Rust",
          "Scala",
          "TypeScript",
          "C",
          "HTML",
          "CSS",
          "Groovy",
          "C",
          "MATLAB",
          "Modelica",
          "PowerBuilder",
          "Java",
          "HTML",
          "Java",
          "HTML",
          "C++",
          "MATLAB",
          "R",
          "Vue",
          "Julia",
          "Java",
          "TypeScript",
          "NCL",
          "TeX",
          "Shell",
          "TypeScript",
          "TypeScript",
          "G-code",
          "C++",
          "MATLAB",
          "PHP",
          "Vue",
          "TypeScript",
          "Shell",
          "Groovy",
          "PHP",
          "Fortran",
          "HTML",
          "JavaScript",
          "Jupyter Notebook",
          "Makefile",
          "Python",
          "Jupyter Notebook",
          "Svelte",
          "TypeScript",
          "Julia",
          "JavaScript",
          "Python",
          "C++",
          "C++",
          "Go",
          "R",
          "Jupyter Notebook",
          "TypeScript",
          "C++",
          "Julia",
          "Modelica",
          "C++",
          "PHP",
          "Cython",
          "Ruby",
          "PHP",
          "Java",
          "Jupyter Notebook",
          "Lua",
          "Fortran",
          "MATLAB",
          "Julia",
          "MATLAB",
          "Modelica",
          "Jupyter Notebook",
          "C#",
          "Julia",
          "Jupyter Notebook",
          "C#"
         ],
         "xaxis": "x",
         "y": [
          "Energy Modeling and Optimization",
          "Biosphere",
          "Biosphere",
          "Buildings and Heating",
          "Hydrosphere",
          "Photovoltaics and Solar Energy",
          "Earth and Climate Modeling",
          "Wind Energy",
          "Climate Data Processing and Access",
          "Water Supply and Quality",
          "Water Supply and Quality",
          "Climate Data Processing and Access",
          "Mobility and Transportation",
          "Soil and Land",
          "Soil and Land",
          "Energy Distribution and Grids",
          "Datasets on Energy Systems",
          "Agriculture and Nutrition",
          "Earth and Climate Modeling",
          "Hydrosphere",
          "Data Catalogs and Interfaces",
          "Cryosphere",
          "Emission Observation and Modeling",
          "Battery",
          "Hydrosphere",
          "Photovoltaics and Solar Energy",
          "Buildings and Heating",
          "Computation and Communication",
          "Air Quality",
          "Mobility and Transportation",
          "Natural Hazard and Poverty",
          "Data Catalogs and Interfaces",
          "Hydrosphere",
          "Carbon Intensity and Accounting",
          "Life Cycle Assessment",
          "Biosphere",
          "Circular Economy and Waste",
          "Atmosphere",
          "Energy Modeling and Optimization",
          "Earth and Climate Modeling",
          "Emission Observation and Modeling",
          "Earth and Climate Modeling",
          "Hydrosphere",
          "Climate Data Processing and Access",
          "Biosphere",
          "Energy Modeling and Optimization",
          "Atmosphere",
          "Energy Modeling and Optimization",
          "Earth and Climate Modeling",
          "Data Catalogs and Interfaces",
          "Earth and Climate Modeling",
          "Data Catalogs and Interfaces",
          "Climate Data Processing and Access",
          "Cryosphere",
          "Buildings and Heating",
          "Hydrosphere",
          "Meteorological Observation and Forecast",
          "Energy Distribution and Grids",
          "Water Supply and Quality",
          "Agriculture and Nutrition",
          "Biosphere",
          "Mobility and Transportation",
          "Mobility and Transportation",
          "Biosphere",
          "Photovoltaics and Solar Energy",
          "Sustainable Investment",
          "Cryosphere",
          "Battery",
          "Datasets on Energy Systems",
          "Natural Hazard and Poverty",
          "Mobility and Transportation",
          "Water Supply and Quality",
          "Radiative Transfer",
          "Air Quality",
          "Computation and Communication",
          "Energy Modeling and Optimization",
          "Energy Modeling and Optimization",
          "Computation and Communication",
          "Computation and Communication",
          "Emission Observation and Modeling",
          "Hydro Energy",
          "Geothermal Energy",
          "Mobility and Transportation",
          "Biosphere",
          "Life Cycle Assessment",
          "Mobility and Transportation",
          "Buildings and Heating",
          "Integrated Assessment",
          "Soil and Land",
          "Agriculture and Nutrition",
          "Water Supply and Quality",
          "Carbon Intensity and Accounting",
          "Water Supply and Quality",
          "Hydrogen",
          "Wind Energy",
          "Sustainable Development Goals",
          "Wind Energy",
          "Sustainable Development Goals",
          "Wind Energy",
          "Soil and Land",
          "Mobility and Transportation",
          "Energy Distribution and Grids",
          "Soil and Land",
          "Life Cycle Assessment",
          "Knowledge Platforms",
          "Knowledge Platforms",
          "Integrated Assessment",
          "Mobility and Transportation",
          "Mobility and Transportation",
          "Mobility and Transportation",
          "Geothermal Energy",
          "Mobility and Transportation",
          "Mobility and Transportation",
          "Energy Monitoring and Control",
          "Energy Monitoring and Control",
          "Energy Monitoring and Control",
          "Photovoltaics and Solar Energy",
          "Radiative Transfer",
          "Meteorological Observation and Forecast",
          "Wind Energy",
          "Datasets on Energy Systems",
          "Battery",
          "Air Quality",
          "Carbon Intensity and Accounting",
          "Air Quality",
          "Air Quality",
          "Air Quality",
          "Climate Data Processing and Access",
          "Agriculture and Nutrition",
          "Biosphere",
          "Circular Economy and Waste",
          "Battery",
          "Data Catalogs and Interfaces",
          "Agriculture and Nutrition",
          "Atmosphere",
          "Agriculture and Nutrition",
          "Natural Hazard and Poverty",
          "Atmosphere",
          "Mobility and Transportation",
          "Natural Hazard and Poverty",
          "Natural Hazard and Poverty",
          "Bioenergy",
          "Atmosphere",
          "Mobility and Transportation",
          "Bioenergy",
          "Biosphere",
          "Bioenergy",
          "Biosphere",
          "Mobility and Transportation",
          "Buildings and Heating",
          "Buildings and Heating",
          "Buildings and Heating",
          "Buildings and Heating",
          "Life Cycle Assessment",
          "Meteorological Observation and Forecast",
          "Meteorological Observation and Forecast",
          "Buildings and Heating",
          "Buildings and Heating",
          "Biosphere",
          "Biosphere",
          "Biosphere",
          "Mobility and Transportation",
          "Mobility and Transportation",
          "Biosphere",
          "Biosphere",
          "Atmosphere",
          "Photovoltaics and Solar Energy",
          "Photovoltaics and Solar Energy",
          "Photovoltaics and Solar Energy",
          "Sustainable Investment",
          "Sustainable Investment",
          "Sustainable Investment",
          "Sustainable Investment",
          "Air Quality",
          "Air Quality",
          "Water Supply and Quality",
          "Water Supply and Quality",
          "Agriculture and Nutrition",
          "Agriculture and Nutrition",
          "Water Supply and Quality",
          "Agriculture and Nutrition",
          "Water Supply and Quality",
          "Wind Energy",
          "Agriculture and Nutrition",
          "Agriculture and Nutrition",
          "Sustainable Investment",
          "Sustainable Investment",
          "Photovoltaics and Solar Energy",
          "Sustainable Development Goals",
          "Atmosphere",
          "Photovoltaics and Solar Energy",
          "Knowledge Platforms",
          "Radiative Transfer",
          "Radiative Transfer",
          "Atmosphere",
          "Radiative Transfer",
          "Atmosphere",
          "Soil and Land",
          "Air Quality",
          "Soil and Land",
          "Air Quality",
          "Air Quality",
          "Sustainable Development Goals",
          "Air Quality",
          "Life Cycle Assessment",
          "Knowledge Platforms",
          "Knowledge Platforms",
          "Energy Modeling and Optimization",
          "Agriculture and Nutrition",
          "Energy Distribution and Grids",
          "Energy Distribution and Grids",
          "Computation and Communication",
          "Computation and Communication",
          "Energy Distribution and Grids",
          "Energy Distribution and Grids",
          "Energy Modeling and Optimization",
          "Computation and Communication",
          "Energy Modeling and Optimization",
          "Computation and Communication",
          "Computation and Communication",
          "Energy Modeling and Optimization",
          "Energy Modeling and Optimization",
          "Energy Modeling and Optimization",
          "Climate Data Processing and Access",
          "Climate Data Processing and Access",
          "Energy Distribution and Grids",
          "Energy Distribution and Grids",
          "Energy Distribution and Grids",
          "Cryosphere",
          "Datasets on Energy Systems",
          "Datasets on Energy Systems",
          "Data Catalogs and Interfaces",
          "Data Catalogs and Interfaces",
          "Cryosphere",
          "Earth and Climate Modeling",
          "Cryosphere",
          "Earth and Climate Modeling",
          "Emission Observation and Modeling",
          "Earth and Climate Modeling",
          "Emission Observation and Modeling",
          "Cryosphere",
          "Emission Observation and Modeling",
          "Emission Observation and Modeling",
          "Computation and Communication",
          "Computation and Communication",
          "Energy Modeling and Optimization",
          "Climate Data Processing and Access",
          "Buildings and Heating",
          "Climate Data Processing and Access",
          "Circular Economy and Waste",
          "Hydrosphere",
          "Carbon Intensity and Accounting",
          "Hydrosphere",
          "Carbon Capture and Removal",
          "Carbon Capture and Removal",
          "Hydrosphere",
          "Hydrosphere",
          "Integrated Assessment",
          "Carbon Capture and Removal",
          "Integrated Assessment",
          "Carbon Capture and Removal",
          "Knowledge Platforms",
          "Knowledge Platforms",
          "Buildings and Heating",
          "Knowledge Platforms",
          "Data Catalogs and Interfaces",
          "Hydrosphere",
          "Circular Economy and Waste",
          "Hydrogen",
          "Hydro Energy",
          "Energy Monitoring and Control",
          "Climate Data Processing and Access",
          "Energy Monitoring and Control",
          "Circular Economy and Waste",
          "Geothermal Energy",
          "Geothermal Energy",
          "Circular Economy and Waste",
          "Hydro Energy",
          "Hydrogen",
          "Hydro Energy",
          "Hydro Energy",
          "Hydro Energy",
          "Circular Economy and Waste",
          "Hydrogen",
          "Hydrogen",
          "Hydrogen",
          "Agriculture and Nutrition"
         ],
         "yaxis": "y"
        }
       ],
       "layout": {
        "dragmode": false,
        "height": 1000,
        "images": [
         {
          "sizex": 0.05,
          "sizey": 0.05,
          "source": "data:image/png;base64,iVBORw0KGgoAAAANSUhEUgAAADwAAAA8CAYAAAA6/NlyAAAD20lEQVR4nO2ZTWgcZRjHf8/spjWkFYmKmbR+oVKaCPbQU8i2tCBqEbrU7LIJVhG0PVWQih4UehAVQVAkAQ/qRW1WdhPrB+pJ1DQF6aEnQ0WqqCQbhfpFW6nJzOMhBgQ3u+/MvPORmP91n/n/nx/v7DvPvCOqyv9JTtoNJK114LWufBIh5TIbZj3uQLldhJtV2CJwlfrkpicpJtHDsmIDHtzPZjo4gM8IQkGgE1n6Tf7ZJ0W4HFf+SrIOvLvI9YsORyXPwyhdy5BZkTXgwf1s1jzHJMejAh22fG3LCnDhAHeT53WBXht+cSoS8J495Beu5nmEo5C1m7e5QgPv28fGxW7eQhmy2VDcCgV81wN0XezkE2DQcj+xKzDwzsN0XHGJGqsQFkJMWp3nGUO5J45mklCgFS7cx0GFRyzk/izCT6p8Z8ErkMT09XCgzBZnkRmEK0NmTaswicd70+9yLqRHZBmvcM7jZQ0He1qEZ6bqfBDiWusyWuGBEgOOz3RAb1+Ep05O8IIqmTllMFphR3k6oO8FUYanJvgwRE+xqu0K7yrT53t8FcDTE6U4NZk9WDB4LKnHg0EMVXgiq7DQBlgEAUYC+H15aoKXorUUr1oCF0psV9hqaibK41naoJqpJbDvs9fYSflsapKTkTuKWa3/w8oOUyOBetRmklC7TWuboY86Pu9HbSYJtQO+0dDn/Ocn+DFqM0mo9S6N8Sg5Z6GXRNRy0lIYUyHXzkSUb+y1FK+M35bWitY/tSQhaVQvAxvaV+oX6g7vtpmd1gpfMCsT13ZwWsC/GdZZP9hPCVi/NSzsktnjO2wmpwOs8rVxrThFm9HpADt62rhWGBKLn3HSAfbl0wDV/cxVy7aiUxs8pFGdAbYblp/j11yf9pX+ipqb5uBxPEDtLXT7L9oITRHYfxPwjMtVj0jjnUNRU1MDVnfkeyTooYGOSmP8cJTcdGfpRX0OAp2BdYC8KnPVUZmpGYym/1Xqb0syP/4GKg+FuPQHkGdxz76mHPON89IHrl2LemeB7nAOOoNSBzmhvZUzbfPSBgaQ+eoQSs2C1Z8IsygNdSu7mhVk4n1Yeyp1lDELVp0otwKFlQoyAQxA7x+PAR/HHZMZYOXQAs5CCTgVZ05mgAH0uoMXYdOdIB/FlZEpYAB1772E+3sRYTQO/8wBw9LtrT2VIwgl4Beb3pkEXpb2VOp4uduAVwDj4aKVMvEcNpHMj/ej8iQwjMFpq7qVpocGqwZ4WdKo3QDe/Sx9qO9fqW7NAP9bMvv2VnL5vcBOVLcBNwHXAJvUrWxses1qBg6jTG9acWgdeK3rb5uuGEmTzESgAAAAAElFTkSuQmCC",
          "x": 1,
          "xanchor": "right",
          "xref": "paper",
          "y": 1,
          "yanchor": "top",
          "yref": "paper"
         }
        ],
        "legend": {
         "itemsizing": "constant",
         "tracegroupgap": 0
        },
        "margin": {
         "t": 60
        },
        "template": {
         "data": {
          "bar": [
           {
            "error_x": {
             "color": "#2a3f5f"
            },
            "error_y": {
             "color": "#2a3f5f"
            },
            "marker": {
             "line": {
              "color": "#E5ECF6",
              "width": 0.5
             },
             "pattern": {
              "fillmode": "overlay",
              "size": 10,
              "solidity": 0.2
             }
            },
            "type": "bar"
           }
          ],
          "barpolar": [
           {
            "marker": {
             "line": {
              "color": "#E5ECF6",
              "width": 0.5
             },
             "pattern": {
              "fillmode": "overlay",
              "size": 10,
              "solidity": 0.2
             }
            },
            "type": "barpolar"
           }
          ],
          "carpet": [
           {
            "aaxis": {
             "endlinecolor": "#2a3f5f",
             "gridcolor": "white",
             "linecolor": "white",
             "minorgridcolor": "white",
             "startlinecolor": "#2a3f5f"
            },
            "baxis": {
             "endlinecolor": "#2a3f5f",
             "gridcolor": "white",
             "linecolor": "white",
             "minorgridcolor": "white",
             "startlinecolor": "#2a3f5f"
            },
            "type": "carpet"
           }
          ],
          "choropleth": [
           {
            "colorbar": {
             "outlinewidth": 0,
             "ticks": ""
            },
            "type": "choropleth"
           }
          ],
          "contour": [
           {
            "colorbar": {
             "outlinewidth": 0,
             "ticks": ""
            },
            "colorscale": [
             [
              0,
              "#0d0887"
             ],
             [
              0.1111111111111111,
              "#46039f"
             ],
             [
              0.2222222222222222,
              "#7201a8"
             ],
             [
              0.3333333333333333,
              "#9c179e"
             ],
             [
              0.4444444444444444,
              "#bd3786"
             ],
             [
              0.5555555555555556,
              "#d8576b"
             ],
             [
              0.6666666666666666,
              "#ed7953"
             ],
             [
              0.7777777777777778,
              "#fb9f3a"
             ],
             [
              0.8888888888888888,
              "#fdca26"
             ],
             [
              1,
              "#f0f921"
             ]
            ],
            "type": "contour"
           }
          ],
          "contourcarpet": [
           {
            "colorbar": {
             "outlinewidth": 0,
             "ticks": ""
            },
            "type": "contourcarpet"
           }
          ],
          "heatmap": [
           {
            "colorbar": {
             "outlinewidth": 0,
             "ticks": ""
            },
            "colorscale": [
             [
              0,
              "#0d0887"
             ],
             [
              0.1111111111111111,
              "#46039f"
             ],
             [
              0.2222222222222222,
              "#7201a8"
             ],
             [
              0.3333333333333333,
              "#9c179e"
             ],
             [
              0.4444444444444444,
              "#bd3786"
             ],
             [
              0.5555555555555556,
              "#d8576b"
             ],
             [
              0.6666666666666666,
              "#ed7953"
             ],
             [
              0.7777777777777778,
              "#fb9f3a"
             ],
             [
              0.8888888888888888,
              "#fdca26"
             ],
             [
              1,
              "#f0f921"
             ]
            ],
            "type": "heatmap"
           }
          ],
          "heatmapgl": [
           {
            "colorbar": {
             "outlinewidth": 0,
             "ticks": ""
            },
            "colorscale": [
             [
              0,
              "#0d0887"
             ],
             [
              0.1111111111111111,
              "#46039f"
             ],
             [
              0.2222222222222222,
              "#7201a8"
             ],
             [
              0.3333333333333333,
              "#9c179e"
             ],
             [
              0.4444444444444444,
              "#bd3786"
             ],
             [
              0.5555555555555556,
              "#d8576b"
             ],
             [
              0.6666666666666666,
              "#ed7953"
             ],
             [
              0.7777777777777778,
              "#fb9f3a"
             ],
             [
              0.8888888888888888,
              "#fdca26"
             ],
             [
              1,
              "#f0f921"
             ]
            ],
            "type": "heatmapgl"
           }
          ],
          "histogram": [
           {
            "marker": {
             "pattern": {
              "fillmode": "overlay",
              "size": 10,
              "solidity": 0.2
             }
            },
            "type": "histogram"
           }
          ],
          "histogram2d": [
           {
            "colorbar": {
             "outlinewidth": 0,
             "ticks": ""
            },
            "colorscale": [
             [
              0,
              "#0d0887"
             ],
             [
              0.1111111111111111,
              "#46039f"
             ],
             [
              0.2222222222222222,
              "#7201a8"
             ],
             [
              0.3333333333333333,
              "#9c179e"
             ],
             [
              0.4444444444444444,
              "#bd3786"
             ],
             [
              0.5555555555555556,
              "#d8576b"
             ],
             [
              0.6666666666666666,
              "#ed7953"
             ],
             [
              0.7777777777777778,
              "#fb9f3a"
             ],
             [
              0.8888888888888888,
              "#fdca26"
             ],
             [
              1,
              "#f0f921"
             ]
            ],
            "type": "histogram2d"
           }
          ],
          "histogram2dcontour": [
           {
            "colorbar": {
             "outlinewidth": 0,
             "ticks": ""
            },
            "colorscale": [
             [
              0,
              "#0d0887"
             ],
             [
              0.1111111111111111,
              "#46039f"
             ],
             [
              0.2222222222222222,
              "#7201a8"
             ],
             [
              0.3333333333333333,
              "#9c179e"
             ],
             [
              0.4444444444444444,
              "#bd3786"
             ],
             [
              0.5555555555555556,
              "#d8576b"
             ],
             [
              0.6666666666666666,
              "#ed7953"
             ],
             [
              0.7777777777777778,
              "#fb9f3a"
             ],
             [
              0.8888888888888888,
              "#fdca26"
             ],
             [
              1,
              "#f0f921"
             ]
            ],
            "type": "histogram2dcontour"
           }
          ],
          "mesh3d": [
           {
            "colorbar": {
             "outlinewidth": 0,
             "ticks": ""
            },
            "type": "mesh3d"
           }
          ],
          "parcoords": [
           {
            "line": {
             "colorbar": {
              "outlinewidth": 0,
              "ticks": ""
             }
            },
            "type": "parcoords"
           }
          ],
          "pie": [
           {
            "automargin": true,
            "type": "pie"
           }
          ],
          "scatter": [
           {
            "fillpattern": {
             "fillmode": "overlay",
             "size": 10,
             "solidity": 0.2
            },
            "type": "scatter"
           }
          ],
          "scatter3d": [
           {
            "line": {
             "colorbar": {
              "outlinewidth": 0,
              "ticks": ""
             }
            },
            "marker": {
             "colorbar": {
              "outlinewidth": 0,
              "ticks": ""
             }
            },
            "type": "scatter3d"
           }
          ],
          "scattercarpet": [
           {
            "marker": {
             "colorbar": {
              "outlinewidth": 0,
              "ticks": ""
             }
            },
            "type": "scattercarpet"
           }
          ],
          "scattergeo": [
           {
            "marker": {
             "colorbar": {
              "outlinewidth": 0,
              "ticks": ""
             }
            },
            "type": "scattergeo"
           }
          ],
          "scattergl": [
           {
            "marker": {
             "colorbar": {
              "outlinewidth": 0,
              "ticks": ""
             }
            },
            "type": "scattergl"
           }
          ],
          "scattermapbox": [
           {
            "marker": {
             "colorbar": {
              "outlinewidth": 0,
              "ticks": ""
             }
            },
            "type": "scattermapbox"
           }
          ],
          "scatterpolar": [
           {
            "marker": {
             "colorbar": {
              "outlinewidth": 0,
              "ticks": ""
             }
            },
            "type": "scatterpolar"
           }
          ],
          "scatterpolargl": [
           {
            "marker": {
             "colorbar": {
              "outlinewidth": 0,
              "ticks": ""
             }
            },
            "type": "scatterpolargl"
           }
          ],
          "scatterternary": [
           {
            "marker": {
             "colorbar": {
              "outlinewidth": 0,
              "ticks": ""
             }
            },
            "type": "scatterternary"
           }
          ],
          "surface": [
           {
            "colorbar": {
             "outlinewidth": 0,
             "ticks": ""
            },
            "colorscale": [
             [
              0,
              "#0d0887"
             ],
             [
              0.1111111111111111,
              "#46039f"
             ],
             [
              0.2222222222222222,
              "#7201a8"
             ],
             [
              0.3333333333333333,
              "#9c179e"
             ],
             [
              0.4444444444444444,
              "#bd3786"
             ],
             [
              0.5555555555555556,
              "#d8576b"
             ],
             [
              0.6666666666666666,
              "#ed7953"
             ],
             [
              0.7777777777777778,
              "#fb9f3a"
             ],
             [
              0.8888888888888888,
              "#fdca26"
             ],
             [
              1,
              "#f0f921"
             ]
            ],
            "type": "surface"
           }
          ],
          "table": [
           {
            "cells": {
             "fill": {
              "color": "#EBF0F8"
             },
             "line": {
              "color": "white"
             }
            },
            "header": {
             "fill": {
              "color": "#C8D4E3"
             },
             "line": {
              "color": "white"
             }
            },
            "type": "table"
           }
          ]
         },
         "layout": {
          "annotationdefaults": {
           "arrowcolor": "#2a3f5f",
           "arrowhead": 0,
           "arrowwidth": 1
          },
          "autotypenumbers": "strict",
          "coloraxis": {
           "colorbar": {
            "outlinewidth": 0,
            "ticks": ""
           }
          },
          "colorscale": {
           "diverging": [
            [
             0,
             "#8e0152"
            ],
            [
             0.1,
             "#c51b7d"
            ],
            [
             0.2,
             "#de77ae"
            ],
            [
             0.3,
             "#f1b6da"
            ],
            [
             0.4,
             "#fde0ef"
            ],
            [
             0.5,
             "#f7f7f7"
            ],
            [
             0.6,
             "#e6f5d0"
            ],
            [
             0.7,
             "#b8e186"
            ],
            [
             0.8,
             "#7fbc41"
            ],
            [
             0.9,
             "#4d9221"
            ],
            [
             1,
             "#276419"
            ]
           ],
           "sequential": [
            [
             0,
             "#0d0887"
            ],
            [
             0.1111111111111111,
             "#46039f"
            ],
            [
             0.2222222222222222,
             "#7201a8"
            ],
            [
             0.3333333333333333,
             "#9c179e"
            ],
            [
             0.4444444444444444,
             "#bd3786"
            ],
            [
             0.5555555555555556,
             "#d8576b"
            ],
            [
             0.6666666666666666,
             "#ed7953"
            ],
            [
             0.7777777777777778,
             "#fb9f3a"
            ],
            [
             0.8888888888888888,
             "#fdca26"
            ],
            [
             1,
             "#f0f921"
            ]
           ],
           "sequentialminus": [
            [
             0,
             "#0d0887"
            ],
            [
             0.1111111111111111,
             "#46039f"
            ],
            [
             0.2222222222222222,
             "#7201a8"
            ],
            [
             0.3333333333333333,
             "#9c179e"
            ],
            [
             0.4444444444444444,
             "#bd3786"
            ],
            [
             0.5555555555555556,
             "#d8576b"
            ],
            [
             0.6666666666666666,
             "#ed7953"
            ],
            [
             0.7777777777777778,
             "#fb9f3a"
            ],
            [
             0.8888888888888888,
             "#fdca26"
            ],
            [
             1,
             "#f0f921"
            ]
           ]
          },
          "colorway": [
           "#636efa",
           "#EF553B",
           "#00cc96",
           "#ab63fa",
           "#FFA15A",
           "#19d3f3",
           "#FF6692",
           "#B6E880",
           "#FF97FF",
           "#FECB52"
          ],
          "font": {
           "color": "#040404",
           "family": "Open Sans",
           "size": 15
          },
          "geo": {
           "bgcolor": "white",
           "lakecolor": "white",
           "landcolor": "#E5ECF6",
           "showlakes": true,
           "showland": true,
           "subunitcolor": "white"
          },
          "hoverlabel": {
           "align": "left"
          },
          "hovermode": "closest",
          "mapbox": {
           "style": "light"
          },
          "margin": {
           "b": 0
          },
          "paper_bgcolor": "white",
          "plot_bgcolor": "#E5ECF6",
          "polar": {
           "angularaxis": {
            "gridcolor": "white",
            "linecolor": "white",
            "ticks": ""
           },
           "bgcolor": "#E5ECF6",
           "radialaxis": {
            "gridcolor": "white",
            "linecolor": "white",
            "ticks": ""
           }
          },
          "scene": {
           "xaxis": {
            "backgroundcolor": "#E5ECF6",
            "gridcolor": "white",
            "gridwidth": 2,
            "linecolor": "white",
            "showbackground": true,
            "ticks": "",
            "zerolinecolor": "white"
           },
           "yaxis": {
            "backgroundcolor": "#E5ECF6",
            "gridcolor": "white",
            "gridwidth": 2,
            "linecolor": "white",
            "showbackground": true,
            "ticks": "",
            "zerolinecolor": "white"
           },
           "zaxis": {
            "backgroundcolor": "#E5ECF6",
            "gridcolor": "white",
            "gridwidth": 2,
            "linecolor": "white",
            "showbackground": true,
            "ticks": "",
            "zerolinecolor": "white"
           }
          },
          "shapedefaults": {
           "line": {
            "color": "#2a3f5f"
           }
          },
          "ternary": {
           "aaxis": {
            "gridcolor": "white",
            "linecolor": "white",
            "ticks": ""
           },
           "baxis": {
            "gridcolor": "white",
            "linecolor": "white",
            "ticks": ""
           },
           "bgcolor": "#E5ECF6",
           "caxis": {
            "gridcolor": "white",
            "linecolor": "white",
            "ticks": ""
           }
          },
          "title": {
           "font": {
            "color": "#040404",
            "family": "Open Sans"
           },
           "x": 0.05
          },
          "xaxis": {
           "automargin": true,
           "gridcolor": "white",
           "linecolor": "white",
           "ticks": "",
           "title": {
            "standoff": 15
           },
           "zerolinecolor": "white",
           "zerolinewidth": 2
          },
          "yaxis": {
           "automargin": true,
           "gridcolor": "white",
           "linecolor": "white",
           "ticks": "",
           "title": {
            "standoff": 15
           },
           "zerolinecolor": "white",
           "zerolinewidth": 2
          }
         }
        },
        "title": {
         "text": "Distribution of programming languages within topics"
        },
        "width": 1200,
        "xaxis": {
         "anchor": "y",
         "domain": [
          0,
          1
         ],
         "title": {}
        },
        "yaxis": {
         "anchor": "x",
         "domain": [
          0,
          1
         ],
         "title": {}
        }
       }
      }
     },
     "metadata": {},
     "output_type": "display_data"
    }
   ],
   "source": [
    "df_language_distribution = (\n",
    "    df_active.value_counts([\"topic\", \"dominating_language\"]).to_frame().reset_index()\n",
    ")\n",
    "\n",
    "df_language_distribution.rename(columns={0: \"counts\"}, inplace=True)\n",
    "fig = px.scatter(\n",
    "    df_language_distribution,\n",
    "    x=\"dominating_language\",\n",
    "    y=\"topic\",\n",
    "    size=\"counts\",\n",
    ")\n",
    "\n",
    "\n",
    "fig.update_layout(\n",
    "    height=1000,  # Added parameter\n",
    "    width=1200,\n",
    "    xaxis_title=None,\n",
    "    yaxis_title=None,\n",
    "    title=\"Distribution of programming languages within topics\",\n",
    "    dragmode=False,\n",
    ")\n",
    "fig.update_traces(marker_color=marker_color)\n",
    "\n",
    "fig.add_layout_image(\n",
    "    dict(\n",
    "        source=logo_img,\n",
    "        xref=\"paper\",\n",
    "        yref=\"paper\",\n",
    "        x=1,\n",
    "        y=1,\n",
    "        sizex=0.05,\n",
    "        sizey=0.05,\n",
    "        xanchor=\"right\",\n",
    "        yanchor=\"top\",\n",
    "    )\n",
    ")\n",
    "\n",
    "fig.show()"
   ]
  },
  {
   "cell_type": "markdown",
   "metadata": {},
   "source": []
  },
  {
   "attachments": {},
   "cell_type": "markdown",
   "metadata": {},
   "source": [
    "```{figure} data:image/gif;base64,R0lGODlhAQABAIAAAAAAAP///yH5BAEAAAAALAAAAAABAAEAAAIBRAA7\n",
    ":figclass: caption-hack\n",
    ":name: languages-within-topics\n",
    "\n",
    "\\- Distribution of programming languages within topics\n",
    "```"
   ]
  },
  {
   "cell_type": "markdown",
   "metadata": {},
   "source": []
  }
 ],
 "metadata": {
  "celltoolbar": "Tags",
  "kernelspec": {
   "display_name": "Python 3",
   "language": "python",
   "name": "python3"
  },
  "language_info": {
   "codemirror_mode": {
    "name": "ipython",
    "version": 3
   },
   "file_extension": ".py",
   "mimetype": "text/x-python",
   "name": "python",
   "nbconvert_exporter": "python",
   "pygments_lexer": "ipython3",
   "version": "3.8.10"
  },
  "tags": "full-width",
  "vscode": {
   "interpreter": {
    "hash": "916dbcbb3f70747c44a77c7bcd40155683ae19c65e1c03b4aa3499c5328201f1"
   }
  }
 },
 "nbformat": 4,
 "nbformat_minor": 4
}
