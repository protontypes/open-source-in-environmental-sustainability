{
 "cells": [
  {
   "cell_type": "markdown",
   "metadata": {},
   "source": [
    "(dds_chapter)=\n",
    "# Development Distribution Score\n",
    "\n",
    "The distribution of responsibility and workload among contributors is essential to a stable community. A common way to estimate the distribution of work, knowledge and responsibility is the so-called [Bus Factor](https://en.wikipedia.org/wiki/Bus_factor). It is a measurement of the risk resulting from information and capabilities not being shared among team members, derived from the phrase \"in case they get hit by a bus\".\n",
    "\n",
    "Quantifying a bus factor requires deep insights into the project's organisational structure. In this study, a proxy is developed to quantify the bus factor at the scale, the Development Distribution Score (DDS). The DDS weighs how the development is distributed between project contributors by benchmarking the contributor with the most commits in relation to the other contributors. The distribution of knowledge, work, and governance is vital to project sustainability. When a project or organisation experiences significant social or technological changes (e.g., personnel leave a project or can no longer contribute), others have the knowledge and capacity to continue with the initiative. The metric compares a project's reliance on a small group of contributors and, therefore, its resilience to change. Projects with a low DDS appear to be more vulnerable to decisions made by one organisation or developer that affects not only other immediate developers or users but the dependencies of other projects.\n",
    "\n",
    "**The commits of the strongest contributor are measured in relation to the total number of commits.** Even though commits are not an absolute measure of the performance of individuals within a project, they do reflect working relationships after a certain period of development in relative terms. In addition, this offers the possibility to evaluate the state of a project without having to form a direct comparison with other projects. The following formula shows the calculation of the DDS value:\n",
    "\n",
    "```{figure} ../images/dds_calc.png\n",
    "---\n",
    "align: center\n",
    "height: 100\n",
    "---\n",
    "```\n",
    "**For instance, a DDS of 0.1 means that 90% of the transfers come from a single developer.** Without the high engagement of the individual, it will become challenging for the rest of the community to maintain and further develop the existing code base. The following table shows the statistical median of the DDS on the whole dataset.\n",
    "\n",
    "**Across all active and inactive projects, the median DDS is at 0.3. This means that most open source projects depend heavily on a single developer contributing 70% of the commits to a project.** Looking at the inactive projects, this value dropped down to 0.12. The active projects show a DDS of 0.33. The highest values are shown for projects within GitHub organisations, with a DDS of 0.38. The top 50 projects ranked by stars have a median DDS of 0.4."
   ]
  },
  {
   "cell_type": "code",
   "execution_count": 1,
   "metadata": {
    "tags": [
     "remove-cell"
    ]
   },
   "outputs": [],
   "source": [
    "import numpy as np\n",
    "import pandas as pd\n",
    "import plotly.io as pio\n",
    "import plotly.graph_objects as go\n",
    "import plotly.express as px\n",
    "from opensustain_template import *"
   ]
  },
  {
   "cell_type": "code",
   "execution_count": 2,
   "metadata": {
    "tags": [
     "remove-cell"
    ]
   },
   "outputs": [],
   "source": [
    "df_active = pd.read_csv(\"../csv/project_analysis.csv\")\n",
    "df_raw = pd.read_csv(\"../csv/projects.csv\")"
   ]
  },
  {
   "cell_type": "code",
   "execution_count": 6,
   "metadata": {
    "tags": [
     "full-width",
     "remove-input"
    ]
   },
   "outputs": [
    {
     "data": {
      "application/vnd.plotly.v1+json": {
       "config": {
        "plotlyServerURL": "https://plot.ly"
       },
       "data": [
        {
         "cells": {
          "fill": {
           "color": "#ffffff"
          },
          "font": {
           "size": 16
          },
          "height": 30,
          "line": {
           "color": "#ffffff"
          },
          "values": [
           [
            "All projects",
            "Active projects in personal namespace",
            "Active organisation projects",
            "Active projects",
            "Inactive projects",
            "Active projects over than 50 Stars",
            "Projects with most contributors"
           ],
           [
            0.304,
            0.136,
            0.404,
            0.336,
            0.117,
            0.414,
            0.685
           ]
          ]
         },
         "header": {
          "fill": {
           "color": "#ffffff"
          },
          "font": {
           "size": 18
          },
          "line": {
           "color": "#000000"
          },
          "values": [
           "Group",
           "Median DDS"
          ]
         },
         "type": "table"
        }
       ],
       "layout": {
        "height": 255,
        "margin": {
         "b": 0,
         "l": 20,
         "r": 0,
         "t": 20
        },
        "template": {
         "data": {
          "bar": [
           {
            "error_x": {
             "color": "#2a3f5f"
            },
            "error_y": {
             "color": "#2a3f5f"
            },
            "marker": {
             "line": {
              "color": "#E5ECF6",
              "width": 0.5
             }
            },
            "type": "bar"
           }
          ],
          "barpolar": [
           {
            "marker": {
             "line": {
              "color": "#E5ECF6",
              "width": 0.5
             }
            },
            "type": "barpolar"
           }
          ],
          "carpet": [
           {
            "aaxis": {
             "endlinecolor": "#2a3f5f",
             "gridcolor": "white",
             "linecolor": "white",
             "minorgridcolor": "white",
             "startlinecolor": "#2a3f5f"
            },
            "baxis": {
             "endlinecolor": "#2a3f5f",
             "gridcolor": "white",
             "linecolor": "white",
             "minorgridcolor": "white",
             "startlinecolor": "#2a3f5f"
            },
            "type": "carpet"
           }
          ],
          "choropleth": [
           {
            "colorbar": {
             "outlinewidth": 0,
             "ticks": ""
            },
            "type": "choropleth"
           }
          ],
          "contour": [
           {
            "colorbar": {
             "outlinewidth": 0,
             "ticks": ""
            },
            "colorscale": [
             [
              0,
              "#0d0887"
             ],
             [
              0.1111111111111111,
              "#46039f"
             ],
             [
              0.2222222222222222,
              "#7201a8"
             ],
             [
              0.3333333333333333,
              "#9c179e"
             ],
             [
              0.4444444444444444,
              "#bd3786"
             ],
             [
              0.5555555555555556,
              "#d8576b"
             ],
             [
              0.6666666666666666,
              "#ed7953"
             ],
             [
              0.7777777777777778,
              "#fb9f3a"
             ],
             [
              0.8888888888888888,
              "#fdca26"
             ],
             [
              1,
              "#f0f921"
             ]
            ],
            "type": "contour"
           }
          ],
          "contourcarpet": [
           {
            "colorbar": {
             "outlinewidth": 0,
             "ticks": ""
            },
            "type": "contourcarpet"
           }
          ],
          "heatmap": [
           {
            "colorbar": {
             "outlinewidth": 0,
             "ticks": ""
            },
            "colorscale": [
             [
              0,
              "#0d0887"
             ],
             [
              0.1111111111111111,
              "#46039f"
             ],
             [
              0.2222222222222222,
              "#7201a8"
             ],
             [
              0.3333333333333333,
              "#9c179e"
             ],
             [
              0.4444444444444444,
              "#bd3786"
             ],
             [
              0.5555555555555556,
              "#d8576b"
             ],
             [
              0.6666666666666666,
              "#ed7953"
             ],
             [
              0.7777777777777778,
              "#fb9f3a"
             ],
             [
              0.8888888888888888,
              "#fdca26"
             ],
             [
              1,
              "#f0f921"
             ]
            ],
            "type": "heatmap"
           }
          ],
          "heatmapgl": [
           {
            "colorbar": {
             "outlinewidth": 0,
             "ticks": ""
            },
            "colorscale": [
             [
              0,
              "#0d0887"
             ],
             [
              0.1111111111111111,
              "#46039f"
             ],
             [
              0.2222222222222222,
              "#7201a8"
             ],
             [
              0.3333333333333333,
              "#9c179e"
             ],
             [
              0.4444444444444444,
              "#bd3786"
             ],
             [
              0.5555555555555556,
              "#d8576b"
             ],
             [
              0.6666666666666666,
              "#ed7953"
             ],
             [
              0.7777777777777778,
              "#fb9f3a"
             ],
             [
              0.8888888888888888,
              "#fdca26"
             ],
             [
              1,
              "#f0f921"
             ]
            ],
            "type": "heatmapgl"
           }
          ],
          "histogram": [
           {
            "marker": {
             "colorbar": {
              "outlinewidth": 0,
              "ticks": ""
             }
            },
            "type": "histogram"
           }
          ],
          "histogram2d": [
           {
            "colorbar": {
             "outlinewidth": 0,
             "ticks": ""
            },
            "colorscale": [
             [
              0,
              "#0d0887"
             ],
             [
              0.1111111111111111,
              "#46039f"
             ],
             [
              0.2222222222222222,
              "#7201a8"
             ],
             [
              0.3333333333333333,
              "#9c179e"
             ],
             [
              0.4444444444444444,
              "#bd3786"
             ],
             [
              0.5555555555555556,
              "#d8576b"
             ],
             [
              0.6666666666666666,
              "#ed7953"
             ],
             [
              0.7777777777777778,
              "#fb9f3a"
             ],
             [
              0.8888888888888888,
              "#fdca26"
             ],
             [
              1,
              "#f0f921"
             ]
            ],
            "type": "histogram2d"
           }
          ],
          "histogram2dcontour": [
           {
            "colorbar": {
             "outlinewidth": 0,
             "ticks": ""
            },
            "colorscale": [
             [
              0,
              "#0d0887"
             ],
             [
              0.1111111111111111,
              "#46039f"
             ],
             [
              0.2222222222222222,
              "#7201a8"
             ],
             [
              0.3333333333333333,
              "#9c179e"
             ],
             [
              0.4444444444444444,
              "#bd3786"
             ],
             [
              0.5555555555555556,
              "#d8576b"
             ],
             [
              0.6666666666666666,
              "#ed7953"
             ],
             [
              0.7777777777777778,
              "#fb9f3a"
             ],
             [
              0.8888888888888888,
              "#fdca26"
             ],
             [
              1,
              "#f0f921"
             ]
            ],
            "type": "histogram2dcontour"
           }
          ],
          "mesh3d": [
           {
            "colorbar": {
             "outlinewidth": 0,
             "ticks": ""
            },
            "type": "mesh3d"
           }
          ],
          "parcoords": [
           {
            "line": {
             "colorbar": {
              "outlinewidth": 0,
              "ticks": ""
             }
            },
            "type": "parcoords"
           }
          ],
          "pie": [
           {
            "automargin": true,
            "type": "pie"
           }
          ],
          "scatter": [
           {
            "marker": {
             "colorbar": {
              "outlinewidth": 0,
              "ticks": ""
             }
            },
            "type": "scatter"
           }
          ],
          "scatter3d": [
           {
            "line": {
             "colorbar": {
              "outlinewidth": 0,
              "ticks": ""
             }
            },
            "marker": {
             "colorbar": {
              "outlinewidth": 0,
              "ticks": ""
             }
            },
            "type": "scatter3d"
           }
          ],
          "scattercarpet": [
           {
            "marker": {
             "colorbar": {
              "outlinewidth": 0,
              "ticks": ""
             }
            },
            "type": "scattercarpet"
           }
          ],
          "scattergeo": [
           {
            "marker": {
             "colorbar": {
              "outlinewidth": 0,
              "ticks": ""
             }
            },
            "type": "scattergeo"
           }
          ],
          "scattergl": [
           {
            "marker": {
             "colorbar": {
              "outlinewidth": 0,
              "ticks": ""
             }
            },
            "type": "scattergl"
           }
          ],
          "scattermapbox": [
           {
            "marker": {
             "colorbar": {
              "outlinewidth": 0,
              "ticks": ""
             }
            },
            "type": "scattermapbox"
           }
          ],
          "scatterpolar": [
           {
            "marker": {
             "colorbar": {
              "outlinewidth": 0,
              "ticks": ""
             }
            },
            "type": "scatterpolar"
           }
          ],
          "scatterpolargl": [
           {
            "marker": {
             "colorbar": {
              "outlinewidth": 0,
              "ticks": ""
             }
            },
            "type": "scatterpolargl"
           }
          ],
          "scatterternary": [
           {
            "marker": {
             "colorbar": {
              "outlinewidth": 0,
              "ticks": ""
             }
            },
            "type": "scatterternary"
           }
          ],
          "surface": [
           {
            "colorbar": {
             "outlinewidth": 0,
             "ticks": ""
            },
            "colorscale": [
             [
              0,
              "#0d0887"
             ],
             [
              0.1111111111111111,
              "#46039f"
             ],
             [
              0.2222222222222222,
              "#7201a8"
             ],
             [
              0.3333333333333333,
              "#9c179e"
             ],
             [
              0.4444444444444444,
              "#bd3786"
             ],
             [
              0.5555555555555556,
              "#d8576b"
             ],
             [
              0.6666666666666666,
              "#ed7953"
             ],
             [
              0.7777777777777778,
              "#fb9f3a"
             ],
             [
              0.8888888888888888,
              "#fdca26"
             ],
             [
              1,
              "#f0f921"
             ]
            ],
            "type": "surface"
           }
          ],
          "table": [
           {
            "cells": {
             "fill": {
              "color": "#EBF0F8"
             },
             "line": {
              "color": "white"
             }
            },
            "header": {
             "fill": {
              "color": "#C8D4E3"
             },
             "line": {
              "color": "white"
             }
            },
            "type": "table"
           }
          ]
         },
         "layout": {
          "annotationdefaults": {
           "arrowcolor": "#2a3f5f",
           "arrowhead": 0,
           "arrowwidth": 1
          },
          "coloraxis": {
           "colorbar": {
            "outlinewidth": 0,
            "ticks": ""
           }
          },
          "colorscale": {
           "diverging": [
            [
             0,
             "#8e0152"
            ],
            [
             0.1,
             "#c51b7d"
            ],
            [
             0.2,
             "#de77ae"
            ],
            [
             0.3,
             "#f1b6da"
            ],
            [
             0.4,
             "#fde0ef"
            ],
            [
             0.5,
             "#f7f7f7"
            ],
            [
             0.6,
             "#e6f5d0"
            ],
            [
             0.7,
             "#b8e186"
            ],
            [
             0.8,
             "#7fbc41"
            ],
            [
             0.9,
             "#4d9221"
            ],
            [
             1,
             "#276419"
            ]
           ],
           "sequential": [
            [
             0,
             "#0d0887"
            ],
            [
             0.1111111111111111,
             "#46039f"
            ],
            [
             0.2222222222222222,
             "#7201a8"
            ],
            [
             0.3333333333333333,
             "#9c179e"
            ],
            [
             0.4444444444444444,
             "#bd3786"
            ],
            [
             0.5555555555555556,
             "#d8576b"
            ],
            [
             0.6666666666666666,
             "#ed7953"
            ],
            [
             0.7777777777777778,
             "#fb9f3a"
            ],
            [
             0.8888888888888888,
             "#fdca26"
            ],
            [
             1,
             "#f0f921"
            ]
           ],
           "sequentialminus": [
            [
             0,
             "#0d0887"
            ],
            [
             0.1111111111111111,
             "#46039f"
            ],
            [
             0.2222222222222222,
             "#7201a8"
            ],
            [
             0.3333333333333333,
             "#9c179e"
            ],
            [
             0.4444444444444444,
             "#bd3786"
            ],
            [
             0.5555555555555556,
             "#d8576b"
            ],
            [
             0.6666666666666666,
             "#ed7953"
            ],
            [
             0.7777777777777778,
             "#fb9f3a"
            ],
            [
             0.8888888888888888,
             "#fdca26"
            ],
            [
             1,
             "#f0f921"
            ]
           ]
          },
          "colorway": [
           "#636efa",
           "#EF553B",
           "#00cc96",
           "#ab63fa",
           "#FFA15A",
           "#19d3f3",
           "#FF6692",
           "#B6E880",
           "#FF97FF",
           "#FECB52"
          ],
          "font": {
           "color": "#040404",
           "family": "Open Sans",
           "size": 15
          },
          "geo": {
           "bgcolor": "white",
           "lakecolor": "white",
           "landcolor": "#E5ECF6",
           "showlakes": true,
           "showland": true,
           "subunitcolor": "white"
          },
          "hoverlabel": {
           "align": "left"
          },
          "hovermode": "closest",
          "mapbox": {
           "style": "light"
          },
          "margin": {
           "b": 0
          },
          "paper_bgcolor": "white",
          "plot_bgcolor": "#E5ECF6",
          "polar": {
           "angularaxis": {
            "gridcolor": "white",
            "linecolor": "white",
            "ticks": ""
           },
           "bgcolor": "#E5ECF6",
           "radialaxis": {
            "gridcolor": "white",
            "linecolor": "white",
            "ticks": ""
           }
          },
          "scene": {
           "xaxis": {
            "backgroundcolor": "#E5ECF6",
            "gridcolor": "white",
            "gridwidth": 2,
            "linecolor": "white",
            "showbackground": true,
            "ticks": "",
            "zerolinecolor": "white"
           },
           "yaxis": {
            "backgroundcolor": "#E5ECF6",
            "gridcolor": "white",
            "gridwidth": 2,
            "linecolor": "white",
            "showbackground": true,
            "ticks": "",
            "zerolinecolor": "white"
           },
           "zaxis": {
            "backgroundcolor": "#E5ECF6",
            "gridcolor": "white",
            "gridwidth": 2,
            "linecolor": "white",
            "showbackground": true,
            "ticks": "",
            "zerolinecolor": "white"
           }
          },
          "shapedefaults": {
           "line": {
            "color": "#2a3f5f"
           }
          },
          "ternary": {
           "aaxis": {
            "gridcolor": "white",
            "linecolor": "white",
            "ticks": ""
           },
           "baxis": {
            "gridcolor": "white",
            "linecolor": "white",
            "ticks": ""
           },
           "bgcolor": "#E5ECF6",
           "caxis": {
            "gridcolor": "white",
            "linecolor": "white",
            "ticks": ""
           }
          },
          "title": {
           "font": {
            "color": "#040404",
            "family": "Open Sans"
           },
           "x": 0.05
          },
          "xaxis": {
           "automargin": true,
           "gridcolor": "white",
           "linecolor": "white",
           "ticks": "",
           "title": {
            "standoff": 15
           },
           "zerolinecolor": "white",
           "zerolinewidth": 2
          },
          "yaxis": {
           "automargin": true,
           "gridcolor": "white",
           "linecolor": "white",
           "ticks": "",
           "title": {
            "standoff": 15
           },
           "zerolinecolor": "white",
           "zerolinewidth": 2
          }
         }
        },
        "width": 800
       }
      }
     },
     "metadata": {},
     "output_type": "display_data"
    }
   ],
   "source": [
    "df_personal_projects = df_active[df_active[\"organization\"].isna()]\n",
    "df_organization_projects = df_active[df_active[\"organization\"].notna()]\n",
    "df_inactive = df_raw[(df_raw[\"project_active\"] == False)]\n",
    "df_top_stargazers = df_active[(df_active[\"stargazers_count\"] > 100)]\n",
    "\n",
    "fig = go.Figure(\n",
    "    data=[\n",
    "        go.Table(\n",
    "            header=dict(values=[\"Group\", \"Median DDS\"],line_color='#000000',fill_color='#ffffff',font_size=18),\n",
    "            cells=dict(\n",
    "                        line_color='#ffffff',fill_color='#ffffff', font_size=16, height =30,\n",
    "                values=[\n",
    "                    [\n",
    "                        \"All projects\",\n",
    "                        \"Active projects in personal namespace\",\n",
    "                        \"Active organisation projects\",\n",
    "                        \"Active projects\",\n",
    "                        \"Inactive projects\",\n",
    "                        \"Active projects over than 50 Stars\",\n",
    "                        \"Projects with most contributors\"\n",
    "\n",
    "                    ],\n",
    "                    [\n",
    "                        round(df_raw[\"development_distribution_score\"].median(),3),\n",
    "                        round(df_personal_projects[\"development_distribution_score\"].median(),3),\n",
    "                        round(df_organization_projects[\"development_distribution_score\"].median(),3),\n",
    "                        round(df_active[\"development_distribution_score\"].median(),3),\n",
    "                        round(df_inactive[\"development_distribution_score\"].median(),3),\n",
    "                        round(df_top_stargazers[\"development_distribution_score\"].median(),3),\n",
    "                        round(df_active.nlargest(50, \"contributors\")[\"development_distribution_score\"].median(),3)\n",
    "                    ],\n",
    "                ]\n",
    "            ),\n",
    "        )\n",
    "    ]\n",
    ")\n",
    "\n",
    "fig.update_layout(\n",
    "width=800,\n",
    "height=255\n",
    "\n",
    ")\n",
    "fig['layout'].update(margin=dict(l=20,r=0,b=0,t=20))\n",
    "\n",
    "fig.show()"
   ]
  },
  {
   "cell_type": "markdown",
   "metadata": {},
   "source": [
    "```{figure} data:image/gif;base64,R0lGODlhAQABAIAAAAAAAP///yH5BAEAAAAALAAAAAABAAEAAAIBRAA7\n",
    ":figclass: caption-hack\n",
    ":name: median-dds\n",
    "\n",
    "Median Development Distribution Score within various groups of projects\n",
    "```"
   ]
  },
  {
   "cell_type": "markdown",
   "metadata": {},
   "source": [
    "In particular, the difference between inactive and active projects makes it clear that the DDS is an important indicator for the longevity of an open source project. It should be noted that a high DDS is not advantageous in every case. [Brooks' Law](https://en.wikipedia.org/wiki/Brooks's_law) is an observation about software project management according to which \"adding manpower to a late software project makes it later\". Especially for projects of high complexity, very large team sizes quickly lead to overhead and communication problems. Under these conditions, the distribution of work between many can become problematic. One solution to this is to split software projects into modular components that can be managed by smaller groups. This approach is known as the [Unix philosophy](https://en.wikipedia.org/wiki/Unix_philosophy) in software development."
   ]
  },
  {
   "cell_type": "markdown",
   "metadata": {},
   "source": [
    "The development communities with the most contributors also show the highest DDS value of 0.685, **illustrating that for a large development community, the work is more evenly distributed among individuals**. "
   ]
  },
  {
   "cell_type": "code",
   "execution_count": 4,
   "metadata": {
    "tags": [
     "full-width",
     "remove-input"
    ]
   },
   "outputs": [
    {
     "data": {
      "application/vnd.plotly.v1+json": {
       "config": {
        "plotlyServerURL": "https://plot.ly"
       },
       "data": [
        {
         "customdata": [
          [
           "<a href=\"https://github.com/pvlib/pvlib-python.git\">pvlib-python</a>",
           "A set of documented functions for simulating the performance of photovoltaic energy systems.",
           "Photovoltaics and Solar Energy",
           "https://github.com/pvlib/pvlib-python.git"
          ],
          [
           "<a href=\"https://github.com/SunPower/pvfactors.git\">pvfactors</a>",
           "Open source view-factor model for diffuse shading and bifacial PV modeling.",
           "Photovoltaics and Solar Energy",
           "https://github.com/SunPower/pvfactors.git"
          ],
          [
           "<a href=\"https://github.com/renewables-ninja/gsee.git\">gsee</a>",
           "Global Solar Energy Estimator.",
           "Photovoltaics and Solar Energy",
           "https://github.com/renewables-ninja/gsee.git"
          ],
          [
           "<a href=\"https://github.com/SunPower/PVMismatch.git\">PVMismatch</a>",
           "An explicit Python PV system IV & PV curve trace calculator which can also calculate mismatch.",
           "Photovoltaics and Solar Energy",
           "https://github.com/SunPower/PVMismatch.git"
          ],
          [
           "<a href=\"https://github.com/NREL/rdtools.git\">rdtools</a>",
           "An open source library to support reproducible technical analysis of time series data from photovoltaic energy systems.",
           "Photovoltaics and Solar Energy",
           "https://github.com/NREL/rdtools.git"
          ],
          [
           "<a href=\"https://github.com/oemof/feedinlib.git\">feedinlib</a>",
           "Contains implementations of photovoltaic models to calculate electricity generation from a PV installation based on given solar radiation. Furthermore it contains all necessary pre-calculations.",
           "Photovoltaics and Solar Energy",
           "https://github.com/oemof/feedinlib.git"
          ],
          [
           "<a href=\"https://github.com/pvedu/photovoltaic.git\">photovoltaic</a>",
           "A Python library used in photovoltaics.",
           "Photovoltaics and Solar Energy",
           "https://github.com/pvedu/photovoltaic.git"
          ],
          [
           "<a href=\"https://github.com/pvcaptest/pvcaptest.git\">pvcaptest</a>",
           "Collection of functions and Jupyter Notebooks to partially automate running a capacity test following ASTM E2848.",
           "Photovoltaics and Solar Energy",
           "https://github.com/pvcaptest/pvcaptest.git"
          ],
          [
           "<a href=\"https://github.com/NREL/SolarPILOT.git\">SolarPILOT</a>",
           "Solar power tower layout and optimization tool.",
           "Photovoltaics and Solar Energy",
           "https://github.com/NREL/SolarPILOT.git"
          ],
          [
           "<a href=\"https://github.com/slacgismo/solar-data-tools.git\">solar-data-tools</a>",
           "Data analysis tools for working with historical PV solar time-series data sets.",
           "Photovoltaics and Solar Energy",
           "https://github.com/slacgismo/solar-data-tools.git"
          ],
          [
           "<a href=\"https://github.com/tdcosim/SolarPV-DER-simulation-tool.git\">SolarPV-DER-simulation-utility</a>",
           "Allows user to run dynamics simulations for solar photovoltaic distributed energy resource connected to a stiff voltage source or to an external program.",
           "Photovoltaics and Solar Energy",
           "https://github.com/tdcosim/SolarPV-DER-simulation-tool.git"
          ],
          [
           "<a href=\"https://github.com/NREL/bifacial_radiance.git\">bifacial_radiance</a>",
           "Toolkit for working with RADIANCE for the ray-trace modeling of Bifacial Photovoltaics.",
           "Photovoltaics and Solar Energy",
           "https://github.com/NREL/bifacial_radiance.git"
          ],
          [
           "<a href=\"https://github.com/qpv-research-group/solcore5.git\">solcore5</a>",
           "A multi-scale, Python-based library for the modeling of solar cells and semiconductor materials.",
           "Photovoltaics and Solar Energy",
           "https://github.com/qpv-research-group/solcore5.git"
          ],
          [
           "<a href=\"https://github.com/squishykid/solax.git\">solax</a>",
           "Read energy usage data from the real-time API on Solax solar inverters.",
           "Photovoltaics and Solar Energy",
           "https://github.com/squishykid/solax.git"
          ],
          [
           "<a href=\"https://github.com/NREL/bifacialvf.git\">bifacialvf</a>",
           "Bifacial PV View Factor model for system performance calculation.",
           "Photovoltaics and Solar Energy",
           "https://github.com/NREL/bifacialvf.git"
          ],
          [
           "<a href=\"https://github.com/SolarTherm/SolarTherm.git\">SolarTherm</a>",
           "Solar thermal power/fuel station performance simulation and optimization using Modelica.",
           "Photovoltaics and Solar Energy",
           "https://github.com/SolarTherm/SolarTherm.git"
          ],
          [
           "<a href=\"https://github.com/LibreSolar/bms-firmware.git\">LibreSolar</a>",
           "Firmware for LibreSolar BMS boards based on bq769x0 or ISL94202.",
           "Photovoltaics and Solar Energy",
           "https://github.com/LibreSolar/bms-firmware.git"
          ],
          [
           "<a href=\"https://github.com/LibreSolar/charge-controller-firmware.git\">Charge Controller Firmware</a>",
           "Firmware for LibreSolar MPPT/PWM charge controllers.",
           "Photovoltaics and Solar Energy",
           "https://github.com/LibreSolar/charge-controller-firmware.git"
          ],
          [
           "<a href=\"https://github.com/openclimatefix/pvoutput.git\">pvoutput</a>",
           "Python code for downloading PV data from PVOutput.org.",
           "Photovoltaics and Solar Energy",
           "https://github.com/openclimatefix/pvoutput.git"
          ],
          [
           "<a href=\"https://github.com/openclimatefix/predict_pv_yield.git\">predict_pv_yield</a>",
           "Use machine learning to map satellite imagery of clouds to solar PV yield.",
           "Photovoltaics and Solar Energy",
           "https://github.com/openclimatefix/predict_pv_yield.git"
          ],
          [
           "<a href=\"https://github.com/meltaxa/solariot.git\">solariot</a>",
           "Leverage your IoT enabled Solar PV Inverter to stream your solar energy usage data to a real time dashboard.",
           "Photovoltaics and Solar Energy",
           "https://github.com/meltaxa/solariot.git"
          ],
          [
           "<a href=\"https://github.com/pvlib/pvanalytics.git\">pvanalytics</a>",
           "Quality control, filtering, feature labeling, and other tools for working with data from photovoltaic energy systems.",
           "Photovoltaics and Solar Energy",
           "https://github.com/pvlib/pvanalytics.git"
          ],
          [
           "<a href=\"https://github.com/PerovskiteSCModelling/IonMonger.git\">IonMonger</a>",
           "A free and fast perovskite solar cell simulator with coupled ion vacancy and charge carrier dynamics in one dimension.",
           "Photovoltaics and Solar Energy",
           "https://github.com/PerovskiteSCModelling/IonMonger.git"
          ],
          [
           "<a href=\"https://github.com/qpv-research-group/rayflare.git\">rayflare</a>",
           "Provide a flexible, user-friendly Python environment to model complex optical stacks, with a focus on solar cells.",
           "Photovoltaics and Solar Energy",
           "https://github.com/qpv-research-group/rayflare.git"
          ],
          [
           "<a href=\"https://github.com/slacgismo/StatisticalClearSky.git\">StatisticalClearSky</a>",
           "Statistical estimation of a clear sky signal from PV system power data.",
           "Photovoltaics and Solar Energy",
           "https://github.com/slacgismo/StatisticalClearSky.git"
          ],
          [
           "<a href=\"https://github.com/RentadroneCL/Photovoltaic_Fault_Detector.git\">Photovoltaic_Fault_Detector</a>",
           "Model-definition is a deep learning application for fault detection in photovoltaic plants.",
           "Photovoltaics and Solar Energy",
           "https://github.com/RentadroneCL/Photovoltaic_Fault_Detector.git"
          ],
          [
           "<a href=\"https://github.com/ropensci/nasapower.git\">nasapower</a>",
           "Aims to make it quick and easy to automate downloading NASA-POWER global meteorology, surface solar energy and climatology data in your R session as a tidy data frame tibble object for analysis and use in modeling or other purposes.",
           "Photovoltaics and Solar Energy",
           "https://github.com/ropensci/nasapower.git"
          ],
          [
           "<a href=\"https://github.com/NREL/SolTrace.git\">SolTrace</a>",
           "A software tool developed at NREL to model concentrating solar power (CSP) systems and analyze their optical performance.",
           "Photovoltaics and Solar Energy",
           "https://github.com/NREL/SolTrace.git"
          ],
          [
           "<a href=\"https://github.com/WMD-group/CarrierCapture.jl.git\">CarrierCapture.jl</a>",
           "A set of codes to compute carrier capture and recombination rates in semiconducting compounds like solar cells.",
           "Photovoltaics and Solar Energy",
           "https://github.com/WMD-group/CarrierCapture.jl.git"
          ],
          [
           "<a href=\"https://github.com/ladybug-tools/honeybee.git\">honeybee</a>",
           "A Python library to create, run and visualize the results of daylight (RADIANCE) and energy analysis (EnergyPlus/OpenStudio).",
           "Photovoltaics and Solar Energy",
           "https://github.com/ladybug-tools/honeybee.git"
          ],
          [
           "<a href=\"https://github.com/danjulio/MPPT-Solar-Charger.git\">MPPT-Solar-Charger</a>",
           "Supporting documentation and software for the MPPT Solar Charger.",
           "Photovoltaics and Solar Energy",
           "https://github.com/danjulio/MPPT-Solar-Charger.git"
          ],
          [
           "<a href=\"https://github.com/iat-cener/tonatiuh.git\">Tonatiuh</a>",
           "A Monte Carlo ray tracer for the optical simulation of solar concentrating systems.",
           "Photovoltaics and Solar Energy",
           "https://github.com/iat-cener/tonatiuh.git"
          ],
          [
           "<a href=\"https://github.com/kdmayer/3D-PV-Locator.git\">PV4GER</a>",
           "Aims at democratizing and accelerating the access to photovoltaic systems data in Germany and beyond.",
           "Photovoltaics and Solar Energy",
           "https://github.com/kdmayer/3D-PV-Locator.git"
          ],
          [
           "<a href=\"https://github.com/BreakingBytes/pvfree.git\">PV Free</a>",
           "A public API for PV modeling parameters.",
           "Photovoltaics and Solar Energy",
           "https://github.com/BreakingBytes/pvfree.git"
          ],
          [
           "<a href=\"https://github.com/NREL/PV_ICE.git\">PV_ICE</a>",
           "An open-source tool to quantify Solar Photovoltaics (PV) Energy and Mass Flows in the Circular Economy, from a Reliability and Lifetime approach.",
           "Photovoltaics and Solar Energy",
           "https://github.com/NREL/PV_ICE.git"
          ],
          [
           "<a href=\"https://github.com/openclimatefix/nowcasting.git\">Solar electricity Nowcasting</a>",
           "Build the world's best near-term forecasting system for solar electricity generation.",
           "Photovoltaics and Solar Energy",
           "https://github.com/openclimatefix/nowcasting.git"
          ],
          [
           "<a href=\"https://github.com/SolarArbiter/solarforecastarbiter-core.git\">Solar Forecast Arbiter</a>",
           "Core data gathering, validation, processing, and reporting package for the Solar Forecast Arbiter.",
           "Photovoltaics and Solar Energy",
           "https://github.com/SolarArbiter/solarforecastarbiter-core.git"
          ],
          [
           "<a href=\"https://github.com/Lkruitwagen/solar-pv-global-inventory.git\">A Global Inventory of Photovoltaic</a>",
           "Used to produce a global inventory of utility-scale solar photvoltaic generating station.",
           "Photovoltaics and Solar Energy",
           "https://github.com/Lkruitwagen/solar-pv-global-inventory.git"
          ],
          [
           "<a href=\"https://github.com/NREL/dgen.git\">dGen</a>",
           "Forecast PV adoption based on user specified configurations like electricity rate prices, electricity load growth, solar resource factors, and much more.",
           "Photovoltaics and Solar Energy",
           "https://github.com/NREL/dgen.git"
          ],
          [
           "<a href=\"https://github.com/IEAWindTask37/IEA-15-240-RWT.git\">IEA-15-240-RWT</a>",
           "A 15 MW reference wind turbine repository developed in conjunction with IEA Wind.",
           "Wind Energy",
           "https://github.com/IEAWindTask37/IEA-15-240-RWT.git"
          ],
          [
           "<a href=\"https://github.com/wind-python/windpowerlib.git\">windpowerlib</a>",
           "A library to model the output of wind turbines and farms.",
           "Wind Energy",
           "https://github.com/wind-python/windpowerlib.git"
          ],
          [
           "<a href=\"https://github.com/turbinesFoam/turbinesFoam.git\">turbinesFoam</a>",
           "A library for simulating wind and marine hydrokinetic turbines in OpenFOAM using the actuator line method.",
           "Wind Energy",
           "https://github.com/turbinesFoam/turbinesFoam.git"
          ],
          [
           "<a href=\"https://github.com/Exawind/nalu-wind.git\">nalu-wind</a>",
           "Solver for wind farm simulations targeting exascale computational platforms.",
           "Wind Energy",
           "https://github.com/Exawind/nalu-wind.git"
          ],
          [
           "<a href=\"https://github.com/OpenFAST/openfast.git\">openfast</a>",
           "A multi-physics, multi-fidelity tool for simulating the coupled dynamic response of wind turbines and wind farms.",
           "Wind Energy",
           "https://github.com/OpenFAST/openfast.git"
          ],
          [
           "<a href=\"https://github.com/Exawind/amr-wind.git\">amr-wind</a>",
           "A massively parallel, block-structured adaptive-mesh, incompressible flow solver for wind turbine and wind farm simulations.",
           "Wind Energy",
           "https://github.com/Exawind/amr-wind.git"
          ],
          [
           "<a href=\"https://github.com/NREL/OpenOA.git\">OpenOA</a>",
           "This library provides a framework for working with large time series data from wind plants, such as SCADA.",
           "Wind Energy",
           "https://github.com/NREL/OpenOA.git"
          ],
          [
           "<a href=\"https://github.com/NREL/ROSCO.git\">ROSCO</a>",
           "NREL's Reference OpenSource Controller for wind turbine applications.",
           "Wind Energy",
           "https://github.com/NREL/ROSCO.git"
          ],
          [
           "<a href=\"https://github.com/NREL/floris.git\">floris</a>",
           "A controls-oriented engineering wake modeling framework for evaluating the impact of wind farm controls on AEP and wind farm design.",
           "Wind Energy",
           "https://github.com/NREL/floris.git"
          ],
          [
           "<a href=\"https://github.com/WISDEM/WISDEM.git\">WISDEM</a>",
           "Wind Plant Integrated System Design and Engineering Model.",
           "Wind Energy",
           "https://github.com/WISDEM/WISDEM.git"
          ],
          [
           "<a href=\"https://github.com/WISDEM/WOMBAT.git\">WOMBAT</a>",
           "Windfarm Operations & Maintenance cost-Benefit Analysis Tool.",
           "Wind Energy",
           "https://github.com/WISDEM/WOMBAT.git"
          ],
          [
           "<a href=\"https://github.com/WISDEM/LandBOSSE.git\">LandBOSSE</a>",
           "The Land-based Balance-of-System Systems Engineering model is a systems engineering tool that estimates the balance-of-system costs associated with installing utility scale wind plants (10, 1.5 MW turbines or larger).",
           "Wind Energy",
           "https://github.com/WISDEM/LandBOSSE.git"
          ],
          [
           "<a href=\"https://github.com/OpenMDAO/OpenMDAO.git\">OpenMDAO</a>",
           "Optimization of Aerodynamic systems.",
           "Wind Energy",
           "https://github.com/OpenMDAO/OpenMDAO.git"
          ],
          [
           "<a href=\"https://github.com/sintel-dev/Draco.git\">GreenGuard</a>",
           "A collection of end-to-end solutions for machine learning problems commonly found in monitoring wind energy production system.",
           "Wind Energy",
           "https://github.com/sintel-dev/Draco.git"
          ],
          [
           "<a href=\"https://github.com/WISDEM/ORBIT.git\">ORBIT</a>",
           "Offshore Renewable Balance-of-system Installation Tool computes capital costs and activity times for offshore wind plant balance-of-system (everything besides the turbine) costs.",
           "Wind Energy",
           "https://github.com/WISDEM/ORBIT.git"
          ],
          [
           "<a href=\"https://github.com/nmstreethran/WindTurbineClassification.git\">WindTurbineClassification</a>",
           "Specification of 'normal' wind turbine operating behaviour for rapid anomaly detection.",
           "Wind Energy",
           "https://github.com/nmstreethran/WindTurbineClassification.git"
          ],
          [
           "<a href=\"https://github.com/audunarn/ANYstructure.git\">ANYstructure</a>",
           "Offshore Steel structure calculation tool with automatic optimization and report generation.",
           "Wind Energy",
           "https://github.com/audunarn/ANYstructure.git"
          ],
          [
           "<a href=\"https://github.com/python-windrose/windrose.git\">windrose</a>",
           "A graphic tool used by meteorologists to give a succinct view of how wind speed and direction are typically distributed at a particular location.",
           "Wind Energy",
           "https://github.com/python-windrose/windrose.git"
          ],
          [
           "<a href=\"https://github.com/ImperialCollegeLondon/sharpy.git\">SHARPy</a>",
           "Simulation of High Aspect Ratio aeroplanes and wind turbines in Python.",
           "Wind Energy",
           "https://github.com/ImperialCollegeLondon/sharpy.git"
          ],
          [
           "<a href=\"https://github.com/NREL/WindSE.git\">WindSE</a>",
           "A Python package that uses a FEniCS backend to perform wind farm simulations and optimization.",
           "Wind Energy",
           "https://github.com/NREL/WindSE.git"
          ],
          [
           "<a href=\"https://github.com/WISDEM/WEIS.git\">WEIS</a>",
           "WEIS is a framework that combines multiple tools to enable design optimization of floating offshore wind turbines.",
           "Wind Energy",
           "https://github.com/WISDEM/WEIS.git"
          ],
          [
           "<a href=\"https://github.com/YingyiLiu/HAMS.git\">HAMS</a>",
           "An open-source computer program for the analysis of wave diffraction and radiation of three-dimensional floating or submerged structures.",
           "Wind Energy",
           "https://github.com/YingyiLiu/HAMS.git"
          ],
          [
           "<a href=\"https://github.com/brightwind-dev/brightwind.git\">brightwind</a>",
           "A Python library aims to empower wind resource analysts and establish a common industry standard toolset.",
           "Wind Energy",
           "https://github.com/brightwind-dev/brightwind.git"
          ],
          [
           "<a href=\"https://github.com/NREL/NRWAL.git\">NRWAL</a>",
           "A library of offshore wind cost equations.",
           "Wind Energy",
           "https://github.com/NREL/NRWAL.git"
          ],
          [
           "<a href=\"https://github.com/ebranlard/welib.git\">welib</a>",
           "Wind energy library, python and matlab tools for wind turbines analyses.",
           "Wind Energy",
           "https://github.com/ebranlard/welib.git"
          ],
          [
           "<a href=\"https://github.com/IEA-Task-43/digital_wra_data_standard.git\">digital_wra_data_standard</a>",
           "This standard data model and associated tools are intended as universal building blocks for Wind Energy Resource Assessment applications.",
           "Wind Energy",
           "https://github.com/IEA-Task-43/digital_wra_data_standard.git"
          ],
          [
           "<a href=\"https://github.com/awebox/awebox.git\">awebox</a>",
           "Modelling and optimal control of single- and multiple-kite systems for airborne wind energy.",
           "Wind Energy",
           "https://github.com/awebox/awebox.git"
          ],
          [
           "<a href=\"https://github.com/SNL-WaterPower/WecOptTool.git\">WecOptTool</a>",
           "Allows users to perform wave energy converter device design optimization studies with constrained optimal control.",
           "Hydro Energy",
           "https://github.com/SNL-WaterPower/WecOptTool.git"
          ],
          [
           "<a href=\"https://github.com/SNL-WaterPower/CACTUS.git\">CACTUS</a>",
           "A turbine performance simulation code, based on a free wake vortex method, to study wind turbines and marine hydrokinetic devices.",
           "Hydro Energy",
           "https://github.com/SNL-WaterPower/CACTUS.git"
          ],
          [
           "<a href=\"https://github.com/energy-modelling-toolkit/hydro-power-database.git\">hydro-power-database</a>",
           "Collects basic information on all the European hydro-power plants.",
           "Hydro Energy",
           "https://github.com/energy-modelling-toolkit/hydro-power-database.git"
          ],
          [
           "<a href=\"https://github.com/MHKiT-Software/MHKiT-Python.git\">MHKiT-Python</a>",
           "Provides the marine renewable energy community tools for data processing, visualization, quality control, resource assessment, and device performance.",
           "Hydro Energy",
           "https://github.com/MHKiT-Software/MHKiT-Python.git"
          ],
          [
           "<a href=\"https://github.com/NREL-SIIP/HydroPowerSimulations.jl.git\">HydroPowerSimulations.jl</a>",
           "Contains extensions on PowerSystems.jl and PowerSimulations.jl to enable enhanced hydropower representations.",
           "Hydro Energy",
           "https://github.com/NREL-SIIP/HydroPowerSimulations.jl.git"
          ],
          [
           "<a href=\"https://github.com/OpenSimHub/OpenHPL.git\">OpenHPL</a>",
           "An open source hydropower library that consists of hydropower unit models and is modeled using Modelica.",
           "Hydro Energy",
           "https://github.com/OpenSimHub/OpenHPL.git"
          ],
          [
           "<a href=\"https://github.com/WEC-Sim/WEC-Sim.git\">WEC-Sim</a>",
           "Wave Energy Converter Simulator is an open source code for simulating wave energy converters.",
           "Hydro Energy",
           "https://github.com/WEC-Sim/WEC-Sim.git"
          ],
          [
           "<a href=\"https://github.com/BEMRosetta/BEMRosetta.git\">BEMRosetta</a>",
           "Used to model hydrodynamic forces in offshore devices like ships, offshore wind platforms and wave energy converters.",
           "Hydro Energy",
           "https://github.com/BEMRosetta/BEMRosetta.git"
          ],
          [
           "<a href=\"https://github.com/capytaine/capytaine.git\">Capytaine</a>",
           "A Python package for the simulation of the interaction between water waves and floating bodies in frequency domain.",
           "Hydro Energy",
           "https://github.com/capytaine/capytaine.git"
          ],
          [
           "<a href=\"https://github.com/MassimoCimmino/pygfunction.git\">pygfunction</a>",
           "An open source toolbox for the evaluation of thermal response factors of geothermal borehole fields.",
           "Geothermal Energy",
           "https://github.com/MassimoCimmino/pygfunction.git"
          ],
          [
           "<a href=\"https://github.com/wouterpeere/GHEtool.git\">GHEtool</a>",
           "GHEtool is an open source Python package that contains all the functionalities needed to deal with borefield design.",
           "Geothermal Energy",
           "https://github.com/wouterpeere/GHEtool.git"
          ],
          [
           "<a href=\"https://github.com/charxie/multiphysics.git\">multiphysics</a>",
           "Interactive (Heat Transfer) Simulations for Everyone.",
           "Geothermal Energy",
           "https://github.com/charxie/multiphysics.git"
          ],
          [
           "<a href=\"https://github.com/lanl/FEHM.git\">FEHM</a>",
           "Has proved to be a valuable asset on a variety of projects of national interest including Environmental Remediation of the Nevada Test Site, the LANL Groundwater Protection Program, geologic CO2 sequestration, Enhanced Geothermal Energy programs, Oil and Gas production, Nuclear Waste Isolation, and Arctic Permafrost.",
           "Geothermal Energy",
           "https://github.com/lanl/FEHM.git"
          ],
          [
           "<a href=\"https://github.com/CalebBell/thermo.git\">thermo</a>",
           "Thermodynamics, phase equilibrium, transport properties and chemical database component of Chemical Engineering Design Library.",
           "Geothermal Energy",
           "https://github.com/CalebBell/thermo.git"
          ],
          [
           "<a href=\"https://github.com/waiwera/waiwera.git\">waiwera</a>",
           "A parallel, open-source geothermal flow simulator.",
           "Geothermal Energy",
           "https://github.com/waiwera/waiwera.git"
          ],
          [
           "<a href=\"https://github.com/SmartTensors/GeoThermalCloud.jl.git\">GeoThermalCloud.jl</a>",
           "A repository containing all the data and codes required to demonstrate applications of machine learning methods for geothermal exploration.",
           "Geothermal Energy",
           "https://github.com/SmartTensors/GeoThermalCloud.jl.git"
          ],
          [
           "<a href=\"https://github.com/sashahafner/biogas.git\">biogas</a>",
           "Tools for biogas research in R: process biogas data and predict biogas production.",
           "Bioenergy",
           "https://github.com/sashahafner/biogas.git"
          ],
          [
           "<a href=\"https://github.com/BioSTEAMDevelopmentGroup/biosteam.git\">biosteam</a>",
           "The Biorefinery Simulation and Techno-Economic Analysis Modules.",
           "Bioenergy",
           "https://github.com/BioSTEAMDevelopmentGroup/biosteam.git"
          ],
          [
           "<a href=\"https://github.com/PecanProject/bety.git\">BETYdb</a>",
           "Web-interface to the Biofuel Ecophysiological Traits and Yields Database.",
           "Bioenergy",
           "https://github.com/PecanProject/bety.git"
          ],
          [
           "<a href=\"https://github.com/ECSHackWeek/impedance.py.git\">impedance.py</a>",
           "A Python package for working with electro-chemical impedance data.",
           "Battery",
           "https://github.com/ECSHackWeek/impedance.py.git"
          ],
          [
           "<a href=\"https://github.com/pybamm-team/PyBaMM.git\">PyBaMM</a>",
           "Fast and flexible physics-based battery models in Python.",
           "Battery",
           "https://github.com/pybamm-team/PyBaMM.git"
          ],
          [
           "<a href=\"https://github.com/pybamm-team/liionpack.git\">liionpack</a>",
           "A battery pack simulation tool that uses the PyBaMM framework.",
           "Battery",
           "https://github.com/pybamm-team/liionpack.git"
          ],
          [
           "<a href=\"https://github.com/jepegit/cellpy.git\">cellpy</a>",
           "Extract and tweak data from electro-chemical tests of battery cells.",
           "Battery",
           "https://github.com/jepegit/cellpy.git"
          ],
          [
           "<a href=\"https://github.com/rdbraatz/data-driven-prediction-of-battery-cycle-life-before-capacity-degradation.git\">prediction-of-battery-cycle</a>",
           "Data driven prediction of battery cycle life before capacity degradation.",
           "Battery",
           "https://github.com/rdbraatz/data-driven-prediction-of-battery-cycle-life-before-capacity-degradation.git"
          ],
          [
           "<a href=\"https://github.com/rlogiacco/BatterySense.git\">BatterySense</a>",
           "A simple Arduino library to monitor battery consumption of your battery powered projects, being LiPo, LiIon, NiCd or any other battery type, single or multiple cells: if it can power your Arduino you can monitor it.",
           "Battery",
           "https://github.com/rlogiacco/BatterySense.git"
          ],
          [
           "<a href=\"https://github.com/TRI-AMDD/beep.git\">beep</a>",
           "A set of tools designed to support Battery Evaluation and Early Prediction of cycle life corresponding to the research of the d3batt program and the Toyota Research Institute.",
           "Battery",
           "https://github.com/TRI-AMDD/beep.git"
          ],
          [
           "<a href=\"https://github.com/snl-quest/snl-quest.git\">snl-quest</a>",
           "An open source, Python-based software application suite for energy storage simulation and analysis developed by Sandia National Laboratories.",
           "Battery",
           "https://github.com/snl-quest/snl-quest.git"
          ],
          [
           "<a href=\"https://github.com/Samuel-Buteau/universal-battery-database.git\">universal-battery-database</a>",
           "The Universal Battery Database is an open source software for managing Lithium-ion cell data.",
           "Battery",
           "https://github.com/Samuel-Buteau/universal-battery-database.git"
          ],
          [
           "<a href=\"https://github.com/davidhowey/SLIDE.git\">SLIDE</a>",
           "SLIDE is a C++ code that simulates degradation of lithium ion cell.",
           "Battery",
           "https://github.com/davidhowey/SLIDE.git"
          ],
          [
           "<a href=\"https://github.com/dsr-18/long-live-the-battery.git\">long-live-the-battery</a>",
           "Predicting total battery cycle life time with machine learning.",
           "Battery",
           "https://github.com/dsr-18/long-live-the-battery.git"
          ],
          [
           "<a href=\"https://github.com/epri-dev/StorageVET.git\">StorageVET</a>",
           "A valuation model for analysis of energy storage technologies and some other energy resources paired with storage.",
           "Battery",
           "https://github.com/epri-dev/StorageVET.git"
          ],
          [
           "<a href=\"https://github.com/offgridsystems/Documents.git\">offgridsystems</a>",
           "Data sheet and assembly manual, component data sheets, busbars and files needed to build no-weld wireless BMS DKblock style battery packs.",
           "Battery",
           "https://github.com/offgridsystems/Documents.git"
          ],
          [
           "<a href=\"https://github.com/ElektrikAkar/3d_milp.git\">3d_milp</a>",
           "Energy Arbitrage Optimization With Battery Storage.",
           "Battery",
           "https://github.com/ElektrikAkar/3d_milp.git"
          ],
          [
           "<a href=\"https://github.com/lionsimbatoolbox/LIONSIMBA.git\">LIONSIMBA</a>",
           "A Matlab framework based on a finite volume model suitable for Li-ion battery design, simulation, and control.",
           "Battery",
           "https://github.com/lionsimbatoolbox/LIONSIMBA.git"
          ],
          [
           "<a href=\"https://github.com/BattMoTeam/BattMo.git\">BattMo</a>",
           "The Battery Modelling Toolbox (BattMo) is a resource for continuum modelling of electrochemical devices in MATLAB.",
           "Battery",
           "https://github.com/BattMoTeam/BattMo.git"
          ],
          [
           "<a href=\"https://github.com/battery-lcf/batteryarchive.git\">Battery Archive</a>",
           " Easy visualization, analysis, and comparison of battery data across institutions.",
           "Battery",
           "https://github.com/battery-lcf/batteryarchive.git"
          ],
          [
           "<a href=\"https://github.com/ECSIM/opem.git\">OPEM</a>",
           "A modeling tool for evaluating the performance of proton exchange membrane fuel cells.",
           "Hydrogen",
           "https://github.com/ECSIM/opem.git"
          ],
          [
           "<a href=\"https://github.com/ECSIM/gopem.git\">gopem</a>",
           "GOPEM is a graphical user interface of OPEM.",
           "Hydrogen",
           "https://github.com/ECSIM/gopem.git"
          ],
          [
           "<a href=\"https://github.com/ECSIM/pem-dataset1.git\">pem-dataset1</a>",
           "Proton Exchange Membrane Fuel Cell Dataset.",
           "Hydrogen",
           "https://github.com/ECSIM/pem-dataset1.git"
          ],
          [
           "<a href=\"https://github.com/e2nIEE/pandapipes.git\">pandapipes</a>",
           "A pipeflow calculation tool that complements pandapower in the simulation of multi energy grids, in particular heat and gas networks.",
           "Hydrogen",
           "https://github.com/e2nIEE/pandapipes.git"
          ],
          [
           "<a href=\"https://github.com/sandialabs/hyram.git\">The Hydrogen Risk Assessment Models</a>",
           "The first-ever software toolkit that integrates deterministic and probabilistic models for quantifying accident scenarios, predicting physical effects, and characterizing hydrogen hazards impact on people and structures.",
           "Hydrogen",
           "https://github.com/sandialabs/hyram.git"
          ],
          [
           "<a href=\"https://github.com/lanl-ansi/GasModels.jl.git\">GasModels.jl</a>",
           "A Julia/JuMP Package for Gas Network Optimization.",
           "Hydrogen",
           "https://github.com/lanl-ansi/GasModels.jl.git"
          ],
          [
           "<a href=\"https://github.com/mathworks/Fuel-Cell-Vehicle-Model-Simscape.git\">Vehicle with Fuel Cell Powertrain</a>",
           "Fuel cell electric vehicle with battery model and cooling system.",
           "Hydrogen",
           "https://github.com/mathworks/Fuel-Cell-Vehicle-Model-Simscape.git"
          ],
          [
           "<a href=\"https://github.com/Virtual-FCS/VirtualFCS.git\">VirtualFCS</a>",
           "A Modelica library for hybrid hydrogen fuel cell and battery power systems.",
           "Hydrogen",
           "https://github.com/Virtual-FCS/VirtualFCS.git"
          ],
          [
           "<a href=\"https://github.com/NREL/SAM.git\">System Advisor Model</a>",
           "A simulation program for electricity generation projects. It has models for different kinds of renewable energy systems and financial models for residential, commercial, and utility-scale projects.",
           "Energy Modeling and Optimization",
           "https://github.com/NREL/SAM.git"
          ],
          [
           "<a href=\"https://github.com/IIT-EnergySystemModels/openTEPES.git\">openTEPES</a>",
           "Determines the investment plans of new facilities (generators, ESS and lines) for supplying the forecasted demand at minimum cost.",
           "Energy Modeling and Optimization",
           "https://github.com/IIT-EnergySystemModels/openTEPES.git"
          ],
          [
           "<a href=\"https://github.com/PowerGenome/PowerGenome.git\">PowerGenome</a>",
           "A tool to quickly and easily create inputs for power systems models.",
           "Energy Modeling and Optimization",
           "https://github.com/PowerGenome/PowerGenome.git"
          ],
          [
           "<a href=\"https://github.com/pyaf/load_forecasting.git\">load_forecasting</a>",
           "Load forecasting on Delhi area electric power load using ARIMA, RNN, LSTM and GRU models.",
           "Energy Modeling and Optimization",
           "https://github.com/pyaf/load_forecasting.git"
          ],
          [
           "<a href=\"https://github.com/NREL/REopt_API.git\">REopt_Lite_API</a>",
           "Offers a subset of features from NREL's more comprehensive REopt model. Both models provide concurrent, multiple technology integration and optimization capabilities to help organizations meet their cost savings and energy performance goals.",
           "Energy Modeling and Optimization",
           "https://github.com/NREL/REopt_API.git"
          ],
          [
           "<a href=\"https://github.com/tum-ens/urbs.git\">urbs</a>",
           "A linear optimization model for distributed energy systems.",
           "Energy Modeling and Optimization",
           "https://github.com/tum-ens/urbs.git"
          ],
          [
           "<a href=\"https://github.com/energy-modelling-toolkit/Dispa-SET.git\">Dispa-SET</a>",
           "Allows to model a power system at any level of detail e.g. micro-grid, region, country, continent.",
           "Energy Modeling and Optimization",
           "https://github.com/energy-modelling-toolkit/Dispa-SET.git"
          ],
          [
           "<a href=\"https://github.com/calliope-project/calliope.git\">Calliope</a>",
           "A framework to develop energy system models, with a focus on flexibility, high spatial and temporal resolution, the ability to execute many runs based on the same base model, and a clear separation of framework and model.",
           "Energy Modeling and Optimization",
           "https://github.com/calliope-project/calliope.git"
          ],
          [
           "<a href=\"https://github.com/calliope-project/euro-calliope.git\">Euro-Calliope</a>",
           "A model of the European electricity system built using Calliope.",
           "Energy Modeling and Optimization",
           "https://github.com/calliope-project/euro-calliope.git"
          ],
          [
           "<a href=\"https://github.com/FZJ-IEK3-VSA/FINE.git\">FINE</a>",
           "Provides a framework for modeling, optimizing and assessing energy systems.",
           "Energy Modeling and Optimization",
           "https://github.com/FZJ-IEK3-VSA/FINE.git"
          ],
          [
           "<a href=\"https://github.com/com-pas/compas-architecture.git\">CoMPAS</a>",
           "Formed to develop open source software components related to IEC 61850 model implementation (profile management) and configuration of a power industry Protection Automation and Control System.",
           "Energy Modeling and Optimization",
           "https://github.com/com-pas/compas-architecture.git"
          ],
          [
           "<a href=\"https://github.com/NREL-SIIP/PowerSimulations.jl.git\">PowerSimulations.jl</a>",
           "A Julia package for power system modeling and simulation of Power Systems operations.",
           "Energy Modeling and Optimization",
           "https://github.com/NREL-SIIP/PowerSimulations.jl.git"
          ],
          [
           "<a href=\"https://github.com/NREL-SIIP/PowerSystems.jl.git\">PowerSystems.jl</a>",
           "Provides a rigorous data model using Julia structures to enable power systems analysis and modeling.",
           "Energy Modeling and Optimization",
           "https://github.com/NREL-SIIP/PowerSystems.jl.git"
          ],
          [
           "<a href=\"https://github.com/balmorelcommunity/Balmorel.git\">Balmorel</a>",
           "A partial equilibrium model for analyzing the electricity and combined heat and power sectors in an international perspective.",
           "Energy Modeling and Optimization",
           "https://github.com/balmorelcommunity/Balmorel.git"
          ],
          [
           "<a href=\"https://github.com/OpenEnergyPlatform/ontology.git\">The Open Energy Ontology</a>",
           "A domain ontology of the energy-system modeling context.",
           "Energy Modeling and Optimization",
           "https://github.com/OpenEnergyPlatform/ontology.git"
          ],
          [
           "<a href=\"https://github.com/UNSW-CEEM/nempy.git\">nempy</a>",
           "Aims to enhance the Australian electricity industries modeling and analytical capabilities.",
           "Energy Modeling and Optimization",
           "https://github.com/UNSW-CEEM/nempy.git"
          ],
          [
           "<a href=\"https://github.com/bje-/NEMO.git\">NEMO</a>",
           "The National Electricity Market Optimizer is a chronological dispatch model for testing and optimizing different portfolios of conventional and renewable electricity generation technologies.",
           "Energy Modeling and Optimization",
           "https://github.com/bje-/NEMO.git"
          ],
          [
           "<a href=\"https://github.com/niclasmattsson/GlobalEnergyGIS.git\">GlobalEnergyGIS</a>",
           "Generates input data for energy models on renewable energy in arbitrary world regions using public datasets.",
           "Energy Modeling and Optimization",
           "https://github.com/niclasmattsson/GlobalEnergyGIS.git"
          ],
          [
           "<a href=\"https://github.com/AntaresSimulatorTeam/Antares_Simulator.git\">Antares Simulator</a>",
           "An Open Source power system simulator to quantify the adequacy or the economic performance of interconnected energy systems, at short or remote time horizons.",
           "Energy Modeling and Optimization",
           "https://github.com/AntaresSimulatorTeam/Antares_Simulator.git"
          ],
          [
           "<a href=\"https://github.com/GMLC-TDC/HELICS.git\">Hierarchical Engine for Large-scale Infrastructure Co-Simulation</a>",
           "Today the core uses are in the energy domain, where there is extensive and growing support for a wide-range of electric power system, natural gas, communications and control-schemes, transportation, buildings, and related domain tools.",
           "Energy Modeling and Optimization",
           "https://github.com/GMLC-TDC/HELICS.git"
          ],
          [
           "<a href=\"https://github.com/oemof/oemof-solph.git\">oemof-solph</a>",
           "A model generator for energy system modeling and optimization.",
           "Energy Modeling and Optimization",
           "https://github.com/oemof/oemof-solph.git"
          ],
          [
           "<a href=\"https://github.com/oemof/oemof-thermal.git\">oemof-thermal</a>",
           "Provides tools to model thermal energy components as an extension of oemof.solph, e.g. compression heat pumps, concentrating solar plants, thermal storage and solar thermal collectors.",
           "Energy Modeling and Optimization",
           "https://github.com/oemof/oemof-thermal.git"
          ],
          [
           "<a href=\"https://github.com/openENTRANCE/openentrance.git\">openENTRANCE</a>",
           "The Horizon 2020 openENTRANCE project aims at developing, using and disseminating an open, transparent and integrated modeling platform for assessing low-carbon transition pathways in Europe.",
           "Energy Modeling and Optimization",
           "https://github.com/openENTRANCE/openentrance.git"
          ],
          [
           "<a href=\"https://github.com/IDAES/idaes-pse.git\">The IDAES Toolkit</a>",
           "Aims to provide multi-scale, simulation-based, open source computational tools and models to support the design, analysis, optimization, scale-up, operation and troubleshooting of innovative, advanced energy systems.",
           "Energy Modeling and Optimization",
           "https://github.com/IDAES/idaes-pse.git"
          ],
          [
           "<a href=\"https://github.com/TemoaProject/temoa.git\">Temoa</a>",
           "Tools for Energy Model Optimization and Analysis (Temoa) is an open source modeling framework for conducting energy system analysis.",
           "Energy Modeling and Optimization",
           "https://github.com/TemoaProject/temoa.git"
          ],
          [
           "<a href=\"https://github.com/ie3-institute/PowerSystemDataModel.git\">PowerSystemDataModel</a>",
           "Provides an extensive data model capable of modeling energy systems with high granularity e.g. for bottom-up simulations.",
           "Energy Modeling and Optimization",
           "https://github.com/ie3-institute/PowerSystemDataModel.git"
          ],
          [
           "<a href=\"https://github.com/PyPSA/pypsa-eur-sec.git\">PyPSA-Eur-Sec</a>",
           "A Sector-Coupled Open Optimisation Model of the European Energy System.",
           "Energy Modeling and Optimization",
           "https://github.com/PyPSA/pypsa-eur-sec.git"
          ],
          [
           "<a href=\"https://github.com/rte-antares-rpackage/antaresViz.git\">antaresViz</a>",
           "Visualize the results of Antares, an Open Source power system simulator meant to be used by anybody placing value in quantifying the adequacy or the economic performance of interconnected energy systems, at short or remote time horizons.",
           "Energy Modeling and Optimization",
           "https://github.com/rte-antares-rpackage/antaresViz.git"
          ],
          [
           "<a href=\"https://github.com/rte-antares-rpackage/antaresRead.git\">antaresRead</a>",
           "Import, manipulate and explore the results of an Antares simulation.",
           "Energy Modeling and Optimization",
           "https://github.com/rte-antares-rpackage/antaresRead.git"
          ],
          [
           "<a href=\"https://github.com/Spine-project/Spine-Toolbox.git\">Spine-Toolbox</a>",
           "An application to define, manage, and execute various energy system simulation models.",
           "Energy Modeling and Optimization",
           "https://github.com/Spine-project/Spine-Toolbox.git"
          ],
          [
           "<a href=\"https://github.com/oemof/demandlib.git\">demandlib</a>",
           "With the demandlib you can create power and heat profiles for various sectors by scaling them to your desired demand.",
           "Energy Modeling and Optimization",
           "https://github.com/oemof/demandlib.git"
          ],
          [
           "<a href=\"https://github.com/reegis/deflex.git\">deflex</a>",
           "Flexible multi-regional energy system model for heat, power and mobility.",
           "Energy Modeling and Optimization",
           "https://github.com/reegis/deflex.git"
          ],
          [
           "<a href=\"https://github.com/ADGEfficiency/energy-py-linear.git\">energy-py-linear</a>",
           "Optimizing energy systems using mixed integer linear programming.",
           "Energy Modeling and Optimization",
           "https://github.com/ADGEfficiency/energy-py-linear.git"
          ],
          [
           "<a href=\"https://github.com/switch-model/switch.git\">switch-model</a>",
           "Optimal planning model for power systems with large shares of renewable energy.",
           "Energy Modeling and Optimization",
           "https://github.com/switch-model/switch.git"
          ],
          [
           "<a href=\"https://github.com/leonardgoeke/AnyMOD.jl.git\">AnyMOD.jl</a>",
           "Creating large scale energy system models with multiple periods of capacity expansion formulated as linear optimization problems.",
           "Energy Modeling and Optimization",
           "https://github.com/leonardgoeke/AnyMOD.jl.git"
          ],
          [
           "<a href=\"https://github.com/FlexiGIS/FlexiGIS.git\">FlexiGIS</a>",
           "Extracts, filters and categorizes the geo-referenced urban energy infrastructure and allocates the required decentralized storage in urban settings.",
           "Energy Modeling and Optimization",
           "https://github.com/FlexiGIS/FlexiGIS.git"
          ],
          [
           "<a href=\"https://github.com/NREL/reVX.git\">reVX</a>",
           "Renewable Energy Potential(V) eXchange Toot.",
           "Energy Modeling and Optimization",
           "https://github.com/NREL/reVX.git"
          ],
          [
           "<a href=\"https://github.com/sogno-platform/dpsim.git\">DPsim</a>",
           "A solver library for dynamic power system simulation.",
           "Energy Modeling and Optimization",
           "https://github.com/sogno-platform/dpsim.git"
          ],
          [
           "<a href=\"https://github.com/GenXProject/GenX.git\">GenX</a>",
           "A highly-configurable, open source electricity resource capacity expansion model that incorporates several state-of-the-art practices in electricity system planning to offer improved decision support for a changing electricity landscape.",
           "Energy Modeling and Optimization",
           "https://github.com/GenXProject/GenX.git"
          ],
          [
           "<a href=\"https://github.com/OpenEnergyPlatform/oeplatform.git\">Open Energy Platform</a>",
           "Aims to ensure quality, transparency and reproducibility in energy system research. It is a collection of various tools and information and that help working with energy-related data.",
           "Energy Modeling and Optimization",
           "https://github.com/OpenEnergyPlatform/oeplatform.git"
          ],
          [
           "<a href=\"https://github.com/PyPSA/PyPSA.git\">PyPSA</a>",
           "A free software toolbox for simulating and optimizing modern power systems that include features such as conventional generators with unit commitment, variable wind and solar generation, storage units, coupling to other energy sectors, and mixed alternating and direct current networks.",
           "Energy Modeling and Optimization",
           "https://github.com/PyPSA/PyPSA.git"
          ],
          [
           "<a href=\"https://github.com/oemof/oemof.git\">oemof</a>",
           "Open Energy Modelling Framework - A Python toolbox for energy system modeling and optimization. A community driven, modular, flexible and generic software project.",
           "Energy Modeling and Optimization",
           "https://github.com/oemof/oemof.git"
          ],
          [
           "<a href=\"https://github.com/tum-ens/pyGRETA.git\">pyGRETA</a>",
           "Python Generator of REnewable Time series and mAps: a tool that generates high-resolution potential maps and time series for user-defined regions within the globe.",
           "Energy Modeling and Optimization",
           "https://github.com/tum-ens/pyGRETA.git"
          ],
          [
           "<a href=\"https://github.com/powsybl/powsybl-core.git\">PowSyBl</a>",
           "An open source framework written in Java, that makes it easy to write complex software for power systems simulations and analysis.",
           "Energy Modeling and Optimization",
           "https://github.com/powsybl/powsybl-core.git"
          ],
          [
           "<a href=\"https://github.com/powsybl/powsybl-open-loadflow.git\">PowSyBl Open Load Flow</a>",
           "An open source implementation of the load flow API that can be found in PowSyBl Core. It supports AC Newtow-Raphson and linear DC calculation methods.",
           "Energy Modeling and Optimization",
           "https://github.com/powsybl/powsybl-open-loadflow.git"
          ],
          [
           "<a href=\"https://github.com/MATPOWER/matpower.git\">matpower</a>",
           "A package of M-files for solving power flow, continuation power flow and optimal power flow problems using MATLAB or Octave.",
           "Energy Modeling and Optimization",
           "https://github.com/MATPOWER/matpower.git"
          ],
          [
           "<a href=\"https://github.com/energyRt/energyRt.git\">energyRt</a>",
           "Making Energy Systems Modeling as simple as a linear regression in R.",
           "Energy Modeling and Optimization",
           "https://github.com/energyRt/energyRt.git"
          ],
          [
           "<a href=\"https://github.com/rl-institut/multi-vector-simulator.git\">MVS</a>",
           "The multi-vector simulator allows the evaluation of local sector-coupled energy systems that include the energy carriers electricity, heat and/or gas.",
           "Energy Modeling and Optimization",
           "https://github.com/rl-institut/multi-vector-simulator.git"
          ],
          [
           "<a href=\"https://github.com/OpenIPSL/OpenIPSL.git\">OpenIPSL</a>",
           "A library of power system component models written in the Modelica language that can be used for power system dynamic analysis, such as phasor time-domain simulations.",
           "Energy Modeling and Optimization",
           "https://github.com/OpenIPSL/OpenIPSL.git"
          ],
          [
           "<a href=\"https://github.com/RAMP-project/RAMP.git\">RAMP</a>",
           "A bottom-up stochastic model for the generation of high-resolution multi-energy profiles, conceived for application in contexts where only rough information about users' behaviour are obtainable.",
           "Energy Modeling and Optimization",
           "https://github.com/RAMP-project/RAMP.git"
          ],
          [
           "<a href=\"https://github.com/RamiKrispin/USelectricity.git\">USelectricity</a>",
           "Forecast the US demand for electricity.",
           "Energy Modeling and Optimization",
           "https://github.com/RamiKrispin/USelectricity.git"
          ],
          [
           "<a href=\"https://github.com/NREL/reV.git\">reV</a>",
           "Enables the efficient and scalable computation of renewable energy generation, levelized cost of energy, application of geospatial exclusion layers, and generation of renewable energy supply curves.",
           "Energy Modeling and Optimization",
           "https://github.com/NREL/reV.git"
          ],
          [
           "<a href=\"https://github.com/ADGEfficiency/energy-py.git\">energy-py</a>",
           "Reinforcement learning for energy systems.",
           "Energy Modeling and Optimization",
           "https://github.com/ADGEfficiency/energy-py.git"
          ],
          [
           "<a href=\"https://github.com/OnSSET/onsset.git\">onsset</a>",
           "A GIS based optimization tool that has been developed to support electrification planning and decision making for the achievement of energy access goals in currently unserved locations.",
           "Energy Modeling and Optimization",
           "https://github.com/OnSSET/onsset.git"
          ],
          [
           "<a href=\"https://github.com/PyPSA/whobs-server.git\">whobs-server</a>",
           "This is the code for the online optimization of zero-direct-emission electricity systems with wind, solar and storage (using batteries and electrolysed hydrogen gas) to provide a baseload electricity demand, using the cost and other assumptions of your choice.",
           "Energy Modeling and Optimization",
           "https://github.com/PyPSA/whobs-server.git"
          ],
          [
           "<a href=\"https://github.com/intelligent-environments-lab/CityLearn.git\">CityLearn</a>",
           "Official reinforcement learning environment for demand response and load shaping.",
           "Energy Modeling and Optimization",
           "https://github.com/intelligent-environments-lab/CityLearn.git"
          ],
          [
           "<a href=\"https://github.com/IBM/rl-testbed-for-energyplus.git\">rl-testbed-for-energyplus</a>",
           "Reinforcement Learning Testbed for Power Consumption Optimization using EnergyPlus.",
           "Energy Modeling and Optimization",
           "https://github.com/IBM/rl-testbed-for-energyplus.git"
          ],
          [
           "<a href=\"https://github.com/FZJ-IEK3-VSA/tsam.git\">tsam</a>",
           "A Python package which uses different machine learning algorithms for the aggregation of time series.",
           "Energy Modeling and Optimization",
           "https://github.com/FZJ-IEK3-VSA/tsam.git"
          ],
          [
           "<a href=\"https://github.com/blue-marble/gridpath.git\">GridPath</a>",
           "A versatile simulation and optimization platform for power-system planning and operations.",
           "Energy Modeling and Optimization",
           "https://github.com/blue-marble/gridpath.git"
          ],
          [
           "<a href=\"https://github.com/kbaranko/peaky-finders.git\">Peaky Finders</a>",
           "A Plotly Dash application with helpful peak load visualizations and a day ahead forecasting model for five different ISOs.",
           "Energy Modeling and Optimization",
           "https://github.com/kbaranko/peaky-finders.git"
          ],
          [
           "<a href=\"https://github.com/derevirn/renewcast.git\">Renewcast</a>",
           "Forecasting renewable energy generation in EU countries with machine learning algorithms, based on Streamlit and sktime.",
           "Energy Modeling and Optimization",
           "https://github.com/derevirn/renewcast.git"
          ],
          [
           "<a href=\"https://github.com/cuihantao/andes.git\">ANDES</a>",
           "Power system transient dynamics simulation with symbolic modeling and numerical analysis.",
           "Energy Modeling and Optimization",
           "https://github.com/cuihantao/andes.git"
          ],
          [
           "<a href=\"https://github.com/Breakthrough-Energy/REISE.jl.git\">REISE.jl</a>",
           "Renewable Energy Integration Simulation Engine.",
           "Energy Modeling and Optimization",
           "https://github.com/Breakthrough-Energy/REISE.jl.git"
          ],
          [
           "<a href=\"https://github.com/EnergyTransition/ESDL.git\">ESDL</a>",
           "A modelling language created for the components in an energy system and their relations towards each other.",
           "Energy Modeling and Optimization",
           "https://github.com/EnergyTransition/ESDL.git"
          ],
          [
           "<a href=\"https://github.com/slacgismo/TESS.git\">Transactive Energy Service System</a>",
           "A platform to design, deploy, and operate transactive energy systems in electric utility retail environments.",
           "Energy Modeling and Optimization",
           "https://github.com/slacgismo/TESS.git"
          ],
          [
           "<a href=\"https://github.com/MaREI-EPMG/times-ireland-model.git\">TIMES-Ireland Model</a>",
           "Information on the Irish energy system as it is today and the best available projections for what the future technology and fuel options and demands will be.",
           "Energy Modeling and Optimization",
           "https://github.com/MaREI-EPMG/times-ireland-model.git"
          ],
          [
           "<a href=\"https://github.com/Thales1330/PSP.git\">PSP-UFU</a>",
           "Open-Source Software with advanced GUI features and CAD tools for electrical power system studies.",
           "Energy Modeling and Optimization",
           "https://github.com/Thales1330/PSP.git"
          ],
          [
           "<a href=\"https://github.com/EnergyInnovation/eps-us.git\">Energy Policy Simulator</a>",
           "The open-source United States Energy Policy Simulator estimates environmental and economic impacts of hundreds of climate and energy policies.",
           "Energy Modeling and Optimization",
           "https://github.com/EnergyInnovation/eps-us.git"
          ],
          [
           "<a href=\"https://github.com/TemoaProject/oeo.git\">Open Energy Outlook</a>",
           "Examining U.S. energy futures to inform future energy and climate policy efforts.",
           "Energy Modeling and Optimization",
           "https://github.com/TemoaProject/oeo.git"
          ],
          [
           "<a href=\"https://github.com/OpenSTEF/openstef.git\">OpenSTEF</a>",
           "A Python package which is used to make short term forecasts for the energy sector.",
           "Energy Modeling and Optimization",
           "https://github.com/OpenSTEF/openstef.git"
          ],
          [
           "<a href=\"https://github.com/Matt-Brigida/EIAdata.git\">EIAdata</a>",
           "Provides programmatic access to the Energy Information Administration's API.",
           "Energy Modeling and Optimization",
           "https://github.com/Matt-Brigida/EIAdata.git"
          ],
          [
           "<a href=\"https://github.com/PyPSA/technology-data.git\">Energy System Technology Data</a>",
           "Compilation of assumptions about energy system technologies such as cost, efficiency and lifetime that can be read by energy system modelling software.",
           "Energy Modeling and Optimization",
           "https://github.com/PyPSA/technology-data.git"
          ],
          [
           "<a href=\"https://github.com/Lkruitwagen/global-fossil-fuel-supply-chain.git\">Global Coal, Oil, and Gas Supply Chains</a>",
           "The global fossil fuel supply chain, mapped at the asset-level.",
           "Energy Modeling and Optimization",
           "https://github.com/Lkruitwagen/global-fossil-fuel-supply-chain.git"
          ],
          [
           "<a href=\"https://github.com/DrafProject/draf.git\">draf</a>",
           "Analysis and decision support framework for local multi-energy hubs focusing on demand response.",
           "Energy Modeling and Optimization",
           "https://github.com/DrafProject/draf.git"
          ],
          [
           "<a href=\"https://github.com/pypsa-meets-earth/pypsa-earth.git\">PyPSA-Earth</a>",
           "An Open Optimisation Model of the Earth Energy System.",
           "Energy Modeling and Optimization",
           "https://github.com/pypsa-meets-earth/pypsa-earth.git"
          ],
          [
           "<a href=\"https://github.com/OpenEMS/openems.git\">OpenEMS</a>",
           "Open Source Energy Management System.",
           "Energy Monitoring and Control",
           "https://github.com/OpenEMS/openems.git"
          ],
          [
           "<a href=\"https://github.com/openeemeter/eemeter.git\">eemeter</a>",
           "An open source Python package for implementing and developing standard methods for calculating normalized metered energy consumption and avoided energy use.",
           "Energy Monitoring and Control",
           "https://github.com/openeemeter/eemeter.git"
          ],
          [
           "<a href=\"https://github.com/opfab/operatorfabric-core.git\">OperatorFabric</a>",
           "A modular, extensible, industrial-strength and field-tested platform for use in electricity, water and other utility operations.",
           "Energy Monitoring and Control",
           "https://github.com/opfab/operatorfabric-core.git"
          ],
          [
           "<a href=\"https://github.com/Energy-Sparks/energy-sparks.git\">energy-sparks</a>",
           "An open source application that is designed to help schools improve their energy efficiency.",
           "Energy Monitoring and Control",
           "https://github.com/Energy-Sparks/energy-sparks.git"
          ],
          [
           "<a href=\"https://github.com/openenergymonitor/emonpi.git\">emonpi</a>",
           "The OpenEnergyMonitor system has the capability to monitor electrical energy use / generation, temperature and humidity.",
           "Energy Monitoring and Control",
           "https://github.com/openenergymonitor/emonpi.git"
          ],
          [
           "<a href=\"https://github.com/FlexMeasures/flexmeasures.git\">FlexMeasures</a>",
           "A platform for building energy flexibility services with forecasting and scheduling, written in Python & offering a USEF-conform API.",
           "Energy Monitoring and Control",
           "https://github.com/FlexMeasures/flexmeasures.git"
          ],
          [
           "<a href=\"https://github.com/e2nIEE/simbench.git\">SimBench</a>",
           "The objective of the research project SimBench is the development of a benchmark dataset to support research in grid planning and operation.",
           "Energy Distribution and Grids",
           "https://github.com/e2nIEE/simbench.git"
          ],
          [
           "<a href=\"https://github.com/grid-parity-exchange/Egret.git\">Egret</a>",
           "A Python-based package for electrical grid optimization based on the Pyomo optimization modeling language.",
           "Energy Distribution and Grids",
           "https://github.com/grid-parity-exchange/Egret.git"
          ],
          [
           "<a href=\"https://github.com/PyPSA/pypsa-eur.git\">PyPSA-Eur</a>",
           "An Open Optimization Model of the European Transmission System.",
           "Energy Distribution and Grids",
           "https://github.com/PyPSA/pypsa-eur.git"
          ],
          [
           "<a href=\"https://github.com/OSGP/open-smart-grid-platform.git\">Open Smart Grid Platform</a>",
           "An open, generic, scalable and independent 'Internet of Things' platform, which enables various connected smart objects in the public space to be easily controlled and monitored.",
           "Energy Distribution and Grids",
           "https://github.com/OSGP/open-smart-grid-platform.git"
          ],
          [
           "<a href=\"https://github.com/lanl-ansi/PowerModels.jl.git\">PowerModels.jl</a>",
           "Designed to enable computational evaluation of emerging power network formulations and algorithms in a common platform.",
           "Energy Distribution and Grids",
           "https://github.com/lanl-ansi/PowerModels.jl.git"
          ],
          [
           "<a href=\"https://github.com/lanl-ansi/PowerModelsAnnex.jl.git\">PowerModelsAnnex.jl</a>",
           "An extension of PowerModels.jl that provides a home for open source sharing of preliminary and/or exploratory methods in power system optimization.",
           "Energy Distribution and Grids",
           "https://github.com/lanl-ansi/PowerModelsAnnex.jl.git"
          ],
          [
           "<a href=\"https://github.com/power-grid-lib/pglib-opf.git\">Power Grid Lib</a>",
           "This benchmark library is curated and maintained by the IEEE PES Task Force on Benchmarks for Validation of Emerging Power System Algorithms and is designed to evaluate a well established version of the the AC Optimal Power Flow problem.",
           "Energy Distribution and Grids",
           "https://github.com/power-grid-lib/pglib-opf.git"
          ],
          [
           "<a href=\"https://github.com/rte-france/Grid2Op.git\">Grid2Op</a>",
           "A testbed platform to model sequential decision making in power systems.",
           "Energy Distribution and Grids",
           "https://github.com/rte-france/Grid2Op.git"
          ],
          [
           "<a href=\"https://github.com/openego/eDisGo.git\">eDisGo</a>",
           "Optimization of flexibility options and grid expansion for distribution grids based on PyPSA.",
           "Energy Distribution and Grids",
           "https://github.com/openego/eDisGo.git"
          ],
          [
           "<a href=\"https://github.com/rl-institut/offgridders.git\">offgridders</a>",
           "Models and optimizes capacity & dispatch of electricity supply systems, off-grid or connected to a (weak) central grid.",
           "Energy Distribution and Grids",
           "https://github.com/rl-institut/offgridders.git"
          ],
          [
           "<a href=\"https://github.com/GridMod/RTS-GMLC.git\">RTS-GMLC</a>",
           "Reliability Test System of the Grid Modernization Lab Consortium.",
           "Energy Distribution and Grids",
           "https://github.com/GridMod/RTS-GMLC.git"
          ],
          [
           "<a href=\"https://github.com/upb-lea/openmodelica-microgrid-gym.git\">openmodelica-microgrid-gym</a>",
           "An OpenAI Gym Environment for Microgrids.",
           "Energy Distribution and Grids",
           "https://github.com/upb-lea/openmodelica-microgrid-gym.git"
          ],
          [
           "<a href=\"https://github.com/JuliaEnergy/PowerDynamics.jl.git\">PowerDynamics.jl</a>",
           "Provides all the tools you need to create a dynamic power grid model and analyze it.",
           "Energy Distribution and Grids",
           "https://github.com/JuliaEnergy/PowerDynamics.jl.git"
          ],
          [
           "<a href=\"https://github.com/NREL-SIIP/InfrastructureSystems.jl.git\">InfrastructureSystems.jl</a>",
           "Provides utilities to support data models for infrastructure modeling in NREL-SIIP.",
           "Energy Distribution and Grids",
           "https://github.com/NREL-SIIP/InfrastructureSystems.jl.git"
          ],
          [
           "<a href=\"https://github.com/SanPen/GridCal.git\">GridCal</a>",
           "Aims to be a complete platform for power systems research and simulation.",
           "Energy Distribution and Grids",
           "https://github.com/SanPen/GridCal.git"
          ],
          [
           "<a href=\"https://github.com/energywebfoundation/origin.git\">origin</a>",
           "A set of toolkits that together provide a system for issuance and management of Energy Attribute Certificates.",
           "Energy Distribution and Grids",
           "https://github.com/energywebfoundation/origin.git"
          ],
          [
           "<a href=\"https://github.com/gridsingularity/gsy-e.git\">Grid Singularity Energy Exchange Engine (D3A)</a>",
           "An interface to download and deploy interconnected, grid-aware energy marketplaces.",
           "Energy Distribution and Grids",
           "https://github.com/gridsingularity/gsy-e.git"
          ],
          [
           "<a href=\"https://github.com/Total-RD/pymgrid.git\">pymgrid</a>",
           "A Python library to generate and simulate a large number of microgrids.",
           "Energy Distribution and Grids",
           "https://github.com/Total-RD/pymgrid.git"
          ],
          [
           "<a href=\"https://github.com/slacgismo/gridlabd.git\">GridLAB-D</a>",
           "A distribution level power system simulator designed to allow users to create and analyze smart grid technologies.",
           "Energy Distribution and Grids",
           "https://github.com/slacgismo/gridlabd.git"
          ],
          [
           "<a href=\"https://github.com/robinhenry/gym-anm.git\">Gym-ANM</a>",
           "Design Reinforcement Learning environments that model Active Network Management tasks in electricity distribution networks.",
           "Energy Distribution and Grids",
           "https://github.com/robinhenry/gym-anm.git"
          ],
          [
           "<a href=\"https://github.com/Breakthrough-Energy/PowerSimData.git\">PowerSimData</a>",
           "Is part of a Python software ecosystem developed by Breakthrough Energy Sciences to carry out power flow study in the U.S. electrical grid.",
           "Energy Distribution and Grids",
           "https://github.com/Breakthrough-Energy/PowerSimData.git"
          ],
          [
           "<a href=\"https://github.com/ie3-institute/simona.git\">SIMONA</a>",
           "Provides a simulation toolbox to run and implement large-scale agent-based electricity grid simulations with focus on distribution grids.",
           "Energy Distribution and Grids",
           "https://github.com/ie3-institute/simona.git"
          ],
          [
           "<a href=\"https://github.com/opennem/opennem-fe.git\">OpenNEM</a>",
           "Aims to make the wealth of public Australian Electricity Market data more accessible to a wider audience.",
           "Datasets on Energy Systems",
           "https://github.com/opennem/opennem-fe.git"
          ],
          [
           "<a href=\"https://github.com/catalyst-cooperative/pudl.git\">The Public Utility Data Liberation Project</a>",
           "Makes the US' energy data easier to access and use.",
           "Datasets on Energy Systems",
           "https://github.com/catalyst-cooperative/pudl.git"
          ],
          [
           "<a href=\"https://github.com/wri/global-power-plant-database.git\">Global Power Plant Database</a>",
           "A comprehensive, global and open source database of power plants.",
           "Datasets on Energy Systems",
           "https://github.com/wri/global-power-plant-database.git"
          ],
          [
           "<a href=\"https://github.com/EnergieID/entsoe-py.git\">entsoe-py</a>",
           "A Python client for the ENTSO-E API (European Network of Transmission System Operators for Electricity).",
           "Datasets on Energy Systems",
           "https://github.com/EnergieID/entsoe-py.git"
          ],
          [
           "<a href=\"https://github.com/OpenEnergyPlatform/open-MaStR.git\">open-MaStR</a>",
           "Download and process German energy data from BNetzA database Marktstammdatenregister.",
           "Datasets on Energy Systems",
           "https://github.com/OpenEnergyPlatform/open-MaStR.git"
          ],
          [
           "<a href=\"https://github.com/PyPSA/powerplantmatching.git\">powerplantmatching</a>",
           "A toolset for cleaning, standardizing and combining multiple power plant databases.",
           "Datasets on Energy Systems",
           "https://github.com/PyPSA/powerplantmatching.git"
          ],
          [
           "<a href=\"https://github.com/cristianst85/GeoNuclearData.git\">GeoNuclearData</a>",
           "Database with information about Nuclear Power Plants worldwide.",
           "Datasets on Energy Systems",
           "https://github.com/cristianst85/GeoNuclearData.git"
          ],
          [
           "<a href=\"https://github.com/thomastu/pyEIA.git\">pyEIA</a>",
           "An Energy Information Administration API Python client for researchers who need data.",
           "Datasets on Energy Systems",
           "https://github.com/thomastu/pyEIA.git"
          ],
          [
           "<a href=\"https://github.com/ropensci/eia.git\">EIA</a>",
           "An R package wrapping the US Energy Information Administration open data API.",
           "Datasets on Energy Systems",
           "https://github.com/ropensci/eia.git"
          ],
          [
           "<a href=\"https://github.com/PyPSA/atlite.git\">atlite</a>",
           "Light-weight version of Aarhus RE Atlas for converting weather data to power systems data.",
           "Datasets on Energy Systems",
           "https://github.com/PyPSA/atlite.git"
          ],
          [
           "<a href=\"https://github.com/m4rz910/NYISOToolkit.git\">NYISOToolkit</a>",
           "A collection of modules for accessing power system data, generating statistics, and creating visualizations from the New York Independent System Operator.",
           "Datasets on Energy Systems",
           "https://github.com/m4rz910/NYISOToolkit.git"
          ],
          [
           "<a href=\"https://github.com/owid/energy-data.git\">energy-data</a>",
           "Data on global energy consumption (primary energy, per capita, and growth rates), energy mix, electricity mix and other relevant metrics.",
           "Datasets on Energy Systems",
           "https://github.com/owid/energy-data.git"
          ],
          [
           "<a href=\"https://github.com/enechange/EnergyDataSimulationChallenge.git\">EnergyDataSimulationChallenge</a>",
           "Allows applicants to demonstrate their ability to analyze and develop software that makes use of big energy production data.",
           "Datasets on Energy Systems",
           "https://github.com/enechange/EnergyDataSimulationChallenge.git"
          ],
          [
           "<a href=\"https://github.com/DemandRegioTeam/disaggregator.git\">disaggregator</a>",
           "A set of tools for processing of spatial and temporal disaggregations of demands of electricity, heat and natural gas.",
           "Datasets on Energy Systems",
           "https://github.com/DemandRegioTeam/disaggregator.git"
          ],
          [
           "<a href=\"https://github.com/systemcatch/eiapy.git\">eiapy</a>",
           "A simple wrapper for the U.S. Energy Information Administration API.",
           "Datasets on Energy Systems",
           "https://github.com/systemcatch/eiapy.git"
          ],
          [
           "<a href=\"https://github.com/OSUKED/Power-Station-Dictionary.git\">Power Station Dictionary</a>",
           "A power station dictionary that enables mapping between various naming conventions and associated plant metadata.",
           "Datasets on Energy Systems",
           "https://github.com/OSUKED/Power-Station-Dictionary.git"
          ],
          [
           "<a href=\"https://github.com/OSUKED/ElexonDataPortal.git\">ElexonDataPortal</a>",
           "Wrapper for the Balancing Mechanism Reporting Service API to balance power flowing on to and off from the electricity Transmission System in Great Britain.",
           "Datasets on Energy Systems",
           "https://github.com/OSUKED/ElexonDataPortal.git"
          ],
          [
           "<a href=\"https://github.com/kmax12/gridstatus.git\">isodata</a>",
           "Provides standardized API to access energy data from the major Independent System Operators in the United States.",
           "Datasets on Energy Systems",
           "https://github.com/kmax12/gridstatus.git"
          ],
          [
           "<a href=\"https://github.com/NREL/sup3r.git\">sup3r</a>",
           "The Super Resolution for Renewable Resource Data software uses generative adversarial networks to create synthetic high-resolution wind and solar spatiotemporal data from coarse low-resolution inputs.",
           "Datasets on Energy Systems",
           "https://github.com/NREL/sup3r.git"
          ],
          [
           "<a href=\"https://github.com/trynthink/scout.git\">scout</a>",
           "A tool for estimating the future energy use, carbon emissions, and capital and operating cost impacts of energy efficiency and demand flexibility technologies in the U.S. residential and commercial building sectors.",
           "Buildings and Heating",
           "https://github.com/trynthink/scout.git"
          ],
          [
           "<a href=\"https://github.com/ibpsa/project1-boptest.git\">BOPTEST</a>",
           "The Building Optimization Testing (BOPTEST) Framework enables the assessment and benchmarking of control algorithms for building energy management.",
           "Buildings and Heating",
           "https://github.com/ibpsa/project1-boptest.git"
          ],
          [
           "<a href=\"https://github.com/ibpsa/project1-boptest-gym.git\">BOPTEST-Gym</a>",
           "The OpenAI-Gym interface of the BOPTEST framework facilitates the assessment and benchmarking of RL algorithms for building energy management.",
           "Buildings and Heating",
           "https://github.com/ibpsa/project1-boptest-gym.git"
          ],
          [
           "<a href=\"https://github.com/hpxmlwg/hpxml.git\">hpxml</a>",
           "Home Performance XML is a data transfer standard for the home performance industry.",
           "Buildings and Heating",
           "https://github.com/hpxmlwg/hpxml.git"
          ],
          [
           "<a href=\"https://github.com/NREL/hescore-hpxml.git\">HPXML to Home Energy Score Translator</a>",
           "This translator script takes an HPXML file or directory of files as an input and generates HEScore inputs from it.",
           "Buildings and Heating",
           "https://github.com/NREL/hescore-hpxml.git"
          ],
          [
           "<a href=\"https://github.com/FZJ-IEK3-VSA/LoadProfileGenerator.git\">LoadProfileGenerator</a>",
           "A program for generating load curves for residential consumers. Agent-based and extremely detailed.",
           "Buildings and Heating",
           "https://github.com/FZJ-IEK3-VSA/LoadProfileGenerator.git"
          ],
          [
           "<a href=\"https://github.com/VOLTTRON/volttron.git\">VOLTTRON</a>",
           "A platform that provides services for collecting and storing data from buildings and devices. It provides an environment for developing applications that interact with data.",
           "Buildings and Heating",
           "https://github.com/VOLTTRON/volttron.git"
          ],
          [
           "<a href=\"https://github.com/NREL/EnergyPlus.git\">EnergyPlus</a>",
           "A whole building energy simulation program that engineers, architects, and researchers use to model both energy consumption and water usage in buildings.",
           "Buildings and Heating",
           "https://github.com/NREL/EnergyPlus.git"
          ],
          [
           "<a href=\"https://github.com/NREL/OpenStudio.git\">OpenStudio</a>",
           "A cross-platform collection of software tools to support whole building energy modeling using EnergyPlus and advanced daylight analysis using Radiance.",
           "Buildings and Heating",
           "https://github.com/NREL/OpenStudio.git"
          ],
          [
           "<a href=\"https://github.com/HIT2GAP-EU-PROJECT/bemserver.git\">BEMServer</a>",
           "An open source Python server to deploy energy management solutions for buildings.",
           "Buildings and Heating",
           "https://github.com/HIT2GAP-EU-PROJECT/bemserver.git"
          ],
          [
           "<a href=\"https://github.com/SEED-platform/seed.git\">SEED</a>",
           "Standard Energy Efficiency Data Platform™ is a web-based application that helps organizations easily manage data on the energy performance of large groups of buildings.",
           "Buildings and Heating",
           "https://github.com/SEED-platform/seed.git"
          ],
          [
           "<a href=\"https://github.com/EcotopeResearch/HPWHsim.git\">HPWHsim</a>",
           "An open source simulation model for Heat Pump Water Heaters (HPWH).",
           "Buildings and Heating",
           "https://github.com/EcotopeResearch/HPWHsim.git"
          ],
          [
           "<a href=\"https://github.com/NREL/OpenStudio-ERI.git\">OpenStudio-ERI</a>",
           "Calculates an Energy Rating Index (ERI) via an OpenStudio/EnergyPlus-based workflow. Building information is provided through an HPXML file.",
           "Buildings and Heating",
           "https://github.com/NREL/OpenStudio-ERI.git"
          ],
          [
           "<a href=\"https://github.com/NREL/OpenStudio-HPXML.git\">OpenStudio-HPXML</a>",
           "Modeling of residential buildings in EnergyPlus using OpenStudio/HPXML.",
           "Buildings and Heating",
           "https://github.com/NREL/OpenStudio-HPXML.git"
          ],
          [
           "<a href=\"https://github.com/RWTH-EBC/AixLib.git\">AixLib</a>",
           "A Modelica model library for building performance simulations.",
           "Buildings and Heating",
           "https://github.com/RWTH-EBC/AixLib.git"
          ],
          [
           "<a href=\"https://github.com/RWTH-EBC/TEASER.git\">TEASER</a>",
           "Tool for Energy Analysis and Simulation for Efficient Retrofit.",
           "Buildings and Heating",
           "https://github.com/RWTH-EBC/TEASER.git"
          ],
          [
           "<a href=\"https://github.com/open-ideas/IDEAS.git\">IDEAS</a>",
           "A Modelica model library for integrated building or district energy simulations.",
           "Buildings and Heating",
           "https://github.com/open-ideas/IDEAS.git"
          ],
          [
           "<a href=\"https://github.com/oemof/tespy.git\">tespy</a>",
           "Provides a powerful simulation toolkit for thermal engineering plants such as power plants, district heating systems or heat pumps.",
           "Buildings and Heating",
           "https://github.com/oemof/tespy.git"
          ],
          [
           "<a href=\"https://github.com/architecture-building-systems/CityEnergyAnalyst.git\">City Energy Analyst</a>",
           "Helps you to analyze the effects of building retrofits, land-use planning, district heating and cooling and renewable energy on the future costs, emissions and energy consumption of neighborhoods and districts.",
           "Buildings and Heating",
           "https://github.com/architecture-building-systems/CityEnergyAnalyst.git"
          ],
          [
           "<a href=\"https://github.com/lbl-srg/modelica-buildings.git\">Modelica Buildings library</a>",
           "A free and open source library with dynamic simulation models for building energy and control systems.",
           "Buildings and Heating",
           "https://github.com/lbl-srg/modelica-buildings.git"
          ],
          [
           "<a href=\"https://github.com/open-ideas/StROBe.git\">StROBe</a>",
           "An open web tool developed at the KU Leuven Building Physics Section to model the pervasive space for residential integrated district energy assessment simulations in the openIDEAS modeling environment.",
           "Buildings and Heating",
           "https://github.com/open-ideas/StROBe.git"
          ],
          [
           "<a href=\"https://github.com/HotMaps/Hotmaps-toolbox-service.git\">Hotmaps</a>",
           "The open source mapping and planning tool for heating and cooling.",
           "Buildings and Heating",
           "https://github.com/HotMaps/Hotmaps-toolbox-service.git"
          ],
          [
           "<a href=\"https://github.com/EDF-Lab/BuildSysPro.git\">BuildSysPro</a>",
           "EDF's Modelica library for buildings, districts and energy systems modeling.",
           "Buildings and Heating",
           "https://github.com/EDF-Lab/BuildSysPro.git"
          ],
          [
           "<a href=\"https://github.com/lbl-srg/MPCPy.git\">MPCPy</a>",
           "The Python-based open source platform for model predictive control in buildings.",
           "Buildings and Heating",
           "https://github.com/lbl-srg/MPCPy.git"
          ],
          [
           "<a href=\"https://github.com/lbl-srg/obc.git\">obc</a>",
           "Performance Evaluation, Specification, Deployment and Verification of Building Control Sequences.",
           "Buildings and Heating",
           "https://github.com/lbl-srg/obc.git"
          ],
          [
           "<a href=\"https://github.com/UdK-VPT/BuildingSystems.git\">BuildingSystems</a>",
           "The Modelica open source BuildingSystems library is developed for dynamic simulation of the energetic behavior of single rooms, buildings and whole districts.",
           "Buildings and Heating",
           "https://github.com/UdK-VPT/BuildingSystems.git"
          ],
          [
           "<a href=\"https://github.com/ibpsa/modelica-ibpsa.git\">modelica-ibpsa</a>",
           "A Modelica library for building and district energy systems developed within IBPSA Project 1.",
           "Buildings and Heating",
           "https://github.com/ibpsa/modelica-ibpsa.git"
          ],
          [
           "<a href=\"https://github.com/ibpsa/project1.git\">project1</a>",
           "Creates open source software that builds the basis of next generation computing tools for the design and operation of building and district energy and control systems.",
           "Buildings and Heating",
           "https://github.com/ibpsa/project1.git"
          ],
          [
           "<a href=\"https://github.com/TEB-model/teb.git\">teb</a>",
           "A library to calculate the urban surface energy balance at neighborhood scale assuming a simplified canyon geometry.",
           "Buildings and Heating",
           "https://github.com/TEB-model/teb.git"
          ],
          [
           "<a href=\"https://github.com/oemof/DHNx.git\">DHNx</a>",
           "This package provides an open toolbox for district heating and cooling network optimization and simulation models.",
           "Buildings and Heating",
           "https://github.com/oemof/DHNx.git"
          ],
          [
           "<a href=\"https://github.com/CenterForTheBuiltEnvironment/pythermalcomfort.git\">pythermalcomfort</a>",
           "Package to calculate several thermal comfort indices (e.g. PMV, PPD, SET, adaptive) and convert physical variables.",
           "Buildings and Heating",
           "https://github.com/CenterForTheBuiltEnvironment/pythermalcomfort.git"
          ],
          [
           "<a href=\"https://github.com/CenterForTheBuiltEnvironment/comfort_tool.git\">comfort_tool</a>",
           "A web interface for comfort model calculations and visualizations according to ASHRAE Standard-55, EN Standard 16798 and ISO Standard 7730.",
           "Buildings and Heating",
           "https://github.com/CenterForTheBuiltEnvironment/comfort_tool.git"
          ],
          [
           "<a href=\"https://github.com/NREL/resstock.git\">resstock</a>",
           "Helping states, municipalities, utilities, and manufacturers identify which building stock improvements save the most energy and money.",
           "Buildings and Heating",
           "https://github.com/NREL/resstock.git"
          ],
          [
           "<a href=\"https://github.com/dsmrreader/dsmr-reader.git\">DSMR-reader</a>",
           "Used for reading the smart meter DSMR (Dutch Smart Meter Requirements) P1 port yourself at your home.",
           "Buildings and Heating",
           "https://github.com/dsmrreader/dsmr-reader.git"
          ],
          [
           "<a href=\"https://github.com/LBNL-ETA/MSWH.git\">Multiscale Solar Water Heating</a>",
           "Solar water heating system modeling and simulation for individual and community scale projects.",
           "Buildings and Heating",
           "https://github.com/LBNL-ETA/MSWH.git"
          ],
          [
           "<a href=\"https://github.com/hongyuanjia/eplusr.git\">eplusr</a>",
           "Provides a rich toolkit of using whole building energy simulation program EnergyPlus directly in R, which enables programmatic navigation, modification of EnergyPlus, conducts parametric simulations and retrieves outputs.",
           "Buildings and Heating",
           "https://github.com/hongyuanjia/eplusr.git"
          ],
          [
           "<a href=\"https://github.com/BrickSchema/Brick.git\">Brick</a>",
           "An open-source effort to standardize semantic descriptions of the physical, logical and virtual assets in buildings and the relationships between them.",
           "Buildings and Heating",
           "https://github.com/BrickSchema/Brick.git"
          ],
          [
           "<a href=\"https://github.com/nilmtk/nilmtk.git\">NILM</a>",
           "Non-Intrusive Load Monitoring is the process of estimating the energy consumed by individual appliances given just a whole-house power meter reading.",
           "Buildings and Heating",
           "https://github.com/nilmtk/nilmtk.git"
          ],
          [
           "<a href=\"https://github.com/volkszaehler/mbmd.git\">ModBus Measurement Daemon</a>",
           "A daemon for collecting measurement data from smart meters and grid inverters over modbus.",
           "Buildings and Heating",
           "https://github.com/volkszaehler/mbmd.git"
          ],
          [
           "<a href=\"https://github.com/FZJ-IEK3-VSA/HiSim.git\">HiSim</a>",
           "Simulation and analysis of household scenarios using modern components as alternative to fossil fuel based ones.",
           "Buildings and Heating",
           "https://github.com/FZJ-IEK3-VSA/HiSim.git"
          ],
          [
           "<a href=\"https://github.com/RE-Lab-Projects/hplib.git\">hplib</a>",
           "Database with efficiency parameters from public Heatpump Keymark datasets as well as parameter-sets and functions in order to simulate heat pumps.",
           "Buildings and Heating",
           "https://github.com/RE-Lab-Projects/hplib.git"
          ],
          [
           "<a href=\"https://github.com/ecmwf-projects/thermofeel.git\">Thermofeel</a>",
           "A library to calculate human thermal comfort indexes.",
           "Buildings and Heating",
           "https://github.com/ecmwf-projects/thermofeel.git"
          ],
          [
           "<a href=\"https://github.com/CenterForTheBuiltEnvironment/clima.git\">CBE Clima Tool</a>",
           "A web-based application built to support the need of architects and engineers interested in climate-adapted design.",
           "Buildings and Heating",
           "https://github.com/CenterForTheBuiltEnvironment/clima.git"
          ],
          [
           "<a href=\"https://github.com/bigladder/kiva.git\">Kiva</a>",
           "Used to calculate heat loss and gain on a timestep basis from building foundations.",
           "Buildings and Heating",
           "https://github.com/bigladder/kiva.git"
          ],
          [
           "<a href=\"https://github.com/ladybug-tools/uwg.git\">Urban Weather Generator</a>",
           "A Python application for modeling the urban heat island effect.",
           "Buildings and Heating",
           "https://github.com/ladybug-tools/uwg.git"
          ],
          [
           "<a href=\"https://github.com/ropensci/stplanr.git\">stplanr</a>",
           "A package for sustainable transport planning with R.",
           "Mobility and Transportation",
           "https://github.com/ropensci/stplanr.git"
          ],
          [
           "<a href=\"https://github.com/JRCSTU/CO2MPAS-TA.git\">CO2MPAS-TA</a>",
           "CO2MPAS is backward-looking longitudinal-dynamics CO2 and fuel-consumption simulator for light-duty vehicles.",
           "Mobility and Transportation",
           "https://github.com/JRCSTU/CO2MPAS-TA.git"
          ],
          [
           "<a href=\"https://github.com/mobilityhouse/ocpp.git\">ocpp</a>",
           "Python implementation of the Open Charge Point Protocol.",
           "Mobility and Transportation",
           "https://github.com/mobilityhouse/ocpp.git"
          ],
          [
           "<a href=\"https://github.com/ShellRechargeSolutionsEU/docile-charge-point.git\">docile-charge-point</a>",
           "Scriptable OCPP charge point simulator and test tool.",
           "Mobility and Transportation",
           "https://github.com/ShellRechargeSolutionsEU/docile-charge-point.git"
          ],
          [
           "<a href=\"https://github.com/maasglobal/maas-schemas.git\">MaaS Global</a>",
           "Mobility as a Service API - data model, tests and validation.",
           "Mobility and Transportation",
           "https://github.com/maasglobal/maas-schemas.git"
          ],
          [
           "<a href=\"https://github.com/coopcycle/coopcycle-web.git\">CoopCycle</a>",
           "A self-hosted platform to order meals in your neighborhood and get them delivered by bike couriers.",
           "Mobility and Transportation",
           "https://github.com/coopcycle/coopcycle-web.git"
          ],
          [
           "<a href=\"https://github.com/EVNotify/EVNotify.git\">EVNotify</a>",
           "Allows you to monitor your electric vehicle and let you notify when the specified preset state of charge has been achieved.",
           "Mobility and Transportation",
           "https://github.com/EVNotify/EVNotify.git"
          ],
          [
           "<a href=\"https://github.com/STS-Rosario/carpoolear.git\">Carpoolear</a>",
           "The first Argentine Facebook app that allows the users of this social network to share car trips with other users.",
           "Mobility and Transportation",
           "https://github.com/STS-Rosario/carpoolear.git"
          ],
          [
           "<a href=\"https://github.com/OpenEVSE/open_evse.git\">OpenEVSE</a>",
           "Firmware for OpenEVSE: Open Source Hardware J1772 Electric Vehicle Supply Equipment.",
           "Mobility and Transportation",
           "https://github.com/OpenEVSE/open_evse.git"
          ],
          [
           "<a href=\"https://github.com/OpenEVSE/ESP8266_WiFi_v2.x.git\">OpenEVSE WiFi gateway</a>",
           "Uses an ESP8266 (ESP-12) which communicates with the OpenEVSE controller via serial utilizing the existing RAPI API serial interface.",
           "Mobility and Transportation",
           "https://github.com/OpenEVSE/ESP8266_WiFi_v2.x.git"
          ],
          [
           "<a href=\"https://github.com/hove-io/navitia.git\">navitia</a>",
           "An open source web API, initially built to provide traveler information on urban transportation networks.",
           "Mobility and Transportation",
           "https://github.com/hove-io/navitia.git"
          ],
          [
           "<a href=\"https://github.com/openmobilityfoundation/mobility-data-specification.git\">mobility-data-specification</a>",
           "A data standard to enable communication between mobility companies and local governments.",
           "Mobility and Transportation",
           "https://github.com/openmobilityfoundation/mobility-data-specification.git"
          ],
          [
           "<a href=\"https://github.com/mdolab/openconcept.git\">OpenConcept</a>",
           "A toolkit for conceptual MDAO of aircraft with unconventional propulsion architectures.",
           "Mobility and Transportation",
           "https://github.com/mdolab/openconcept.git"
          ],
          [
           "<a href=\"https://github.com/openchargemap/ocm-system.git\">Open Charge Map</a>",
           "The global public registry of electric vehicle charging locations.",
           "Mobility and Transportation",
           "https://github.com/openchargemap/ocm-system.git"
          ],
          [
           "<a href=\"https://github.com/evcc-io/evcc.git\">EVCC</a>",
           "An extensible EV Charge Controller with PV integration implemented in Go.",
           "Mobility and Transportation",
           "https://github.com/evcc-io/evcc.git"
          ],
          [
           "<a href=\"https://github.com/steve-community/steve.git\">SteVe</a>",
           "Provides basic functions for the administration of charge points, user data and RFID cards for user authentication and was tested successfully in operation.",
           "Mobility and Transportation",
           "https://github.com/steve-community/steve.git"
          ],
          [
           "<a href=\"https://github.com/SwitchEV/RISE-V2G.git\">RISE-V2G</a>",
           "The only fully-featured reference implementation of the Vehicle-2-Grid communication interface ISO 15118.",
           "Mobility and Transportation",
           "https://github.com/SwitchEV/RISE-V2G.git"
          ],
          [
           "<a href=\"https://github.com/grote/Transportr.git\">Transportr</a>",
           "The public transport companion that respects your privacy and your freedom.",
           "Mobility and Transportation",
           "https://github.com/grote/Transportr.git"
          ],
          [
           "<a href=\"https://github.com/google/transitfeed.git\">transitfeed</a>",
           "A Python library for reading, validating and writing transit schedule information in the GTFS format.",
           "Mobility and Transportation",
           "https://github.com/google/transitfeed.git"
          ],
          [
           "<a href=\"https://github.com/schildbach/public-transport-enabler.git\">Public Transport Enabler</a>",
           "Unleash public transport data in your Java project.",
           "Mobility and Transportation",
           "https://github.com/schildbach/public-transport-enabler.git"
          ],
          [
           "<a href=\"https://github.com/grote/osm2gtfs.git\">osm2gtfs</a>",
           "Turn OpenStreetMap data and schedule information into GTFS.",
           "Mobility and Transportation",
           "https://github.com/grote/osm2gtfs.git"
          ],
          [
           "<a href=\"https://github.com/systragroup/quetzal.git\">Quetzal</a>",
           "A modeling library designed for transport planning and traffic forecasts.",
           "Mobility and Transportation",
           "https://github.com/systragroup/quetzal.git"
          ],
          [
           "<a href=\"https://github.com/marlinarnz/quetzal_germany.git\">quetzal_germany</a>",
           "A four step transport model for Germany using the quetzal transport modeling suite.",
           "Mobility and Transportation",
           "https://github.com/marlinarnz/quetzal_germany.git"
          ],
          [
           "<a href=\"https://github.com/Universite-Gustave-Eiffel/NoiseCapture.git\">NoiseCapture</a>",
           "Android App dedicated to the measurement of environmental noise.",
           "Mobility and Transportation",
           "https://github.com/Universite-Gustave-Eiffel/NoiseCapture.git"
          ],
          [
           "<a href=\"https://github.com/ropensci/bikedata.git\">bikedata</a>",
           "Aims to enable ready importing of historical trip data from all public bicycle hire systems which provide data. Will be expanded on an ongoing basis as more systems publish open data.",
           "Mobility and Transportation",
           "https://github.com/ropensci/bikedata.git"
          ],
          [
           "<a href=\"https://github.com/cyclosm/cyclosm-cartocss-style.git\">CyclOSM</a>",
           "A CartoCSS map style designed with cycling in mind.",
           "Mobility and Transportation",
           "https://github.com/cyclosm/cyclosm-cartocss-style.git"
          ],
          [
           "<a href=\"https://github.com/upb-lea/gym-electric-motor.git\">Gym Electric Motor</a>",
           "An OpenAI Gym Environment for Electric Motors.",
           "Mobility and Transportation",
           "https://github.com/upb-lea/gym-electric-motor.git"
          ],
          [
           "<a href=\"https://github.com/LBNL-UCB-STI/beam.git\">BEAM</a>",
           "The Framework for Modeling Behavior, Energy, Autonomy, and Mobility in Transportation Systems.",
           "Mobility and Transportation",
           "https://github.com/LBNL-UCB-STI/beam.git"
          ],
          [
           "<a href=\"https://github.com/ubahnverleih/WoBike.git\">WoBike</a>",
           "Public transport and multimodal routing apps could benefit from showing nearby bikes from bikesharing services. So here's a list showing the APIs of a few of these platforms.",
           "Mobility and Transportation",
           "https://github.com/ubahnverleih/WoBike.git"
          ],
          [
           "<a href=\"https://github.com/PierrickP/multicycles.git\">multicycles</a>",
           "Aggregates on one map, more than 100 share vehicles like bikes, scooters, mopeds and cars.",
           "Mobility and Transportation",
           "https://github.com/PierrickP/multicycles.git"
          ],
          [
           "<a href=\"https://github.com/OpenChargingCloud/ChargyDesktopApp.git\">ChargyDesktopApp</a>",
           "Chargy is a transparency software for secure and transparent e-mobility charging processes, as defined by the German \"Eichrecht\".",
           "Mobility and Transportation",
           "https://github.com/OpenChargingCloud/ChargyDesktopApp.git"
          ],
          [
           "<a href=\"https://github.com/OpenChargingCloud/WWCP_OCPP.git\">WWCP_OCPP</a>",
           "Connectivity between the World Wide Charging Protocol (WWCP) and the Open Charge Point Protocol (OCPP v1.6/v2.0).",
           "Mobility and Transportation",
           "https://github.com/OpenChargingCloud/WWCP_OCPP.git"
          ],
          [
           "<a href=\"https://github.com/OpenChargingCloud/WWCP_Core.git\">WWCP_Core</a>",
           "The World Wide Charging Protocol Suite is a collection of protocols in order to connect market actors in the field of e-mobility solutions via scalable and secure Internet protocols.",
           "Mobility and Transportation",
           "https://github.com/OpenChargingCloud/WWCP_Core.git"
          ],
          [
           "<a href=\"https://github.com/RAMP-project/RAMP-mobility.git\">RAMP-mobility</a>",
           "A novel application of the RAMP main engine for generating bottom-up stochastic electric vehicles load profiles.",
           "Mobility and Transportation",
           "https://github.com/RAMP-project/RAMP-mobility.git"
          ],
          [
           "<a href=\"https://github.com/ITSLeeds/pct.git\">PCT</a>",
           "The goal is to increase the accessibility and reproducibility of the data produced by the Propensity to Cycle Tool (PCT).",
           "Mobility and Transportation",
           "https://github.com/ITSLeeds/pct.git"
          ],
          [
           "<a href=\"https://github.com/goat-community/goat.git\">goat</a>",
           "A tool capable of modeling walking and cycling accessibility.",
           "Mobility and Transportation",
           "https://github.com/goat-community/goat.git"
          ],
          [
           "<a href=\"https://github.com/ATFutures/gtfs-router.git\">gtfs-router</a>",
           "An R package for routing with GTFS (General Transit Feed Specification) data.",
           "Mobility and Transportation",
           "https://github.com/ATFutures/gtfs-router.git"
          ],
          [
           "<a href=\"https://github.com/cityflow-project/CityFlow.git\">CityFlow</a>",
           "A Multi-Agent Reinforcement Learning Environment for Large Scale City Traffic Scenario.",
           "Mobility and Transportation",
           "https://github.com/cityflow-project/CityFlow.git"
          ],
          [
           "<a href=\"https://github.com/d-wasserman/Complete_Street_Rule.git\">Complete_Street_Rule</a>",
           "An ArcGIS CityEngine scenario oriented design tool intended to enable users to quickly create procedural generated multimodal streets.",
           "Mobility and Transportation",
           "https://github.com/d-wasserman/Complete_Street_Rule.git"
          ],
          [
           "<a href=\"https://github.com/jrester/tesla_powerwall.git\">tesla_powerwall</a>",
           "Python Tesla Powerwall API for consuming a local endpoint.",
           "Mobility and Transportation",
           "https://github.com/jrester/tesla_powerwall.git"
          ],
          [
           "<a href=\"https://github.com/gsoh/VED.git\">Vehicle Energy Dataset</a>",
           "A large-scale dataset for vehicle energy consumption research.",
           "Mobility and Transportation",
           "https://github.com/gsoh/VED.git"
          ],
          [
           "<a href=\"https://github.com/MobilityData/gbfs.git\">gbfs</a>",
           "Documentation for the General Bikeshare Feed Specification, a standardized data feed for shared mobility system availability.",
           "Mobility and Transportation",
           "https://github.com/MobilityData/gbfs.git"
          ],
          [
           "<a href=\"https://github.com/bikeindex/bike_index.git\">Bike Index</a>",
           "Bike registration that works: online, powerful, free.",
           "Mobility and Transportation",
           "https://github.com/bikeindex/bike_index.git"
          ],
          [
           "<a href=\"https://github.com/johan12345/EVMap.git\">EVMap</a>",
           "Android app to access the goingelectric.de electric vehicle charging station directory.",
           "Mobility and Transportation",
           "https://github.com/johan12345/EVMap.git"
          ],
          [
           "<a href=\"https://github.com/SAP/emobility-smart-charging.git\">emobility-smart-charging</a>",
           "Smart charging algorithms with REST API for electric vehicle fleets.",
           "Mobility and Transportation",
           "https://github.com/SAP/emobility-smart-charging.git"
          ],
          [
           "<a href=\"https://github.com/chargeprice/open-ev-data.git\">open-ev-data</a>",
           "Open Dataset of Electric Vehicle specs.",
           "Mobility and Transportation",
           "https://github.com/chargeprice/open-ev-data.git"
          ],
          [
           "<a href=\"https://github.com/SmartEVSE/smartevse.git\">SmartEVSE</a>",
           "Smart EVSE Electric Vehicle Charging Station.",
           "Mobility and Transportation",
           "https://github.com/SmartEVSE/smartevse.git"
          ],
          [
           "<a href=\"https://github.com/andmos/BikeshareClient.git\">BikeshareClient</a>",
           "Dotnet library for integrating with GBFS bikeshare systems.",
           "Mobility and Transportation",
           "https://github.com/andmos/BikeshareClient.git"
          ],
          [
           "<a href=\"https://github.com/mszell/bikenwgrowth.git\">Growing Urban Bicycle Networks</a>",
           "Source code for the paper Growing Urban Bicycle Networks, exploring algorithmically the limitations of urban bicycle network growth.",
           "Mobility and Transportation",
           "https://github.com/mszell/bikenwgrowth.git"
          ],
          [
           "<a href=\"https://github.com/a-b-street/abstreet.git\">A/B Street</a>",
           "A traffic simulation game exploring how small changes to roads affect cyclists, transit users, pedestrians, and drivers.",
           "Mobility and Transportation",
           "https://github.com/a-b-street/abstreet.git"
          ],
          [
           "<a href=\"https://github.com/enviroCar/enviroCar-app.git\">enviroCar</a>",
           "An Android App for collecting car sensor data for the enviroCar platform.",
           "Mobility and Transportation",
           "https://github.com/enviroCar/enviroCar-app.git"
          ],
          [
           "<a href=\"https://github.com/EVerest/EVerest.git\">EVerest</a>",
           "An open source software stack for EV charging infrastructure.",
           "Mobility and Transportation",
           "https://github.com/EVerest/EVerest.git"
          ],
          [
           "<a href=\"https://github.com/streetmix/streetmix.git\">Streetmix</a>",
           "Makes it easy for people to design public spaces together.",
           "Mobility and Transportation",
           "https://github.com/streetmix/streetmix.git"
          ],
          [
           "<a href=\"https://github.com/transitland/transitland-atlas.git\">Transitland</a>",
           " An open data platform that collects GTFS, GTFS Realtime, and other open data feeds from transit providers around the world.",
           "Mobility and Transportation",
           "https://github.com/transitland/transitland-atlas.git"
          ],
          [
           "<a href=\"https://github.com/cyclestreets/cyclestreets-r.git\">cyclestreets</a>",
           "The goal of cyclestreets is to provide a simple R interface to the CycleStreets routing service.",
           "Mobility and Transportation",
           "https://github.com/cyclestreets/cyclestreets-r.git"
          ],
          [
           "<a href=\"https://github.com/OpenModelica/OpenModelica.git\">OpenModelica</a>",
           "An open source Modelica-based modeling and simulation environment intended for industrial and academic usage.",
           "Production and Industry",
           "https://github.com/OpenModelica/OpenModelica.git"
          ],
          [
           "<a href=\"https://github.com/hubblo-org/scaphandre.git\">Scaphandre</a>",
           "An open source software agent to track energy consumption of ICT services from the servers.",
           "Computation and Communication",
           "https://github.com/hubblo-org/scaphandre.git"
          ],
          [
           "<a href=\"https://github.com/fvaleye/tracarbon.git\">Tracarbon</a>",
           "Tracarbon tracks your device's energy consumption and calculates your carbon emissions using your location.",
           "Computation and Communication",
           "https://github.com/fvaleye/tracarbon.git"
          ],
          [
           "<a href=\"https://github.com/greensoftwarelab/Energy-Languages.git\">Energy-Languages</a>",
           "The complete set of tools for energy consumption analysis of programming languages, using Computer Language Benchmark Game.",
           "Computation and Communication",
           "https://github.com/greensoftwarelab/Energy-Languages.git"
          ],
          [
           "<a href=\"https://github.com/responsibleproblemsolving/energy-usage.git\">energyusage</a>",
           "A Python package that measures the environmental impact of computation.",
           "Computation and Communication",
           "https://github.com/responsibleproblemsolving/energy-usage.git"
          ],
          [
           "<a href=\"https://github.com/powerapi-ng/powerapi.git\">PowerAPI</a>",
           "A middleware toolkit for building software-defined power meters.",
           "Computation and Communication",
           "https://github.com/powerapi-ng/powerapi.git"
          ],
          [
           "<a href=\"https://github.com/marmelab/argos.git\">argos</a>",
           "A tool to measure consumption of a given Docker command and see its performance evolution. Argos is able to measure CPU, memory and network usage of Docker containers for a given command. By measuring resource consumption of dockerized E2E tests, Argos allows to compare the consumption of an app between its different versions.",
           "Computation and Communication",
           "https://github.com/marmelab/argos.git"
          ],
          [
           "<a href=\"https://github.com/patch-technology/patch-node.git\">patch-node</a>",
           "The road to global carbon-neutrality will be through programmatic compensation.",
           "Computation and Communication",
           "https://github.com/patch-technology/patch-node.git"
          ],
          [
           "<a href=\"https://github.com/thegreenwebfoundation/co2.js.git\">co2.js</a>",
           "A npm module for accessing the green web API, and estimating the carbon emissions from using digital services.",
           "Computation and Communication",
           "https://github.com/thegreenwebfoundation/co2.js.git"
          ],
          [
           "<a href=\"https://github.com/Organic-Basics/ob-low-impact-website.git\">The Low Impact Website</a>",
           "Reduces data transfer by up to 70% in comparison to our regular website.",
           "Computation and Communication",
           "https://github.com/Organic-Basics/ob-low-impact-website.git"
          ],
          [
           "<a href=\"https://github.com/kylemcdonald/ethereum-nft-activity.git\">cryptoart-footprint</a>",
           "Estimate the total emissions for popular CryptoArt platforms.",
           "Computation and Communication",
           "https://github.com/kylemcdonald/ethereum-nft-activity.git"
          ],
          [
           "<a href=\"https://github.com/cloud-carbon-footprint/cloud-carbon-footprint.git\">Cloud Carbon Footprint</a>",
           "A tool to estimate energy use (kilowatt-hours) and carbon emissions (metric tons CO2e) from public cloud usage.",
           "Computation and Communication",
           "https://github.com/cloud-carbon-footprint/cloud-carbon-footprint.git"
          ],
          [
           "<a href=\"https://github.com/powerapi-ng/pyJoules.git\">pyJoules</a>",
           "A software toolkit to measure the energy footprint of a host machine along the execution of a piece of Python code.",
           "Computation and Communication",
           "https://github.com/powerapi-ng/pyJoules.git"
          ],
          [
           "<a href=\"https://github.com/GoogleCloudPlatform/region-carbon-info.git\">Carbon free energy for Google Cloud regions</a>",
           "Contains sustainability characteristics of Google Cloud regions in a machine readable format.",
           "Computation and Communication",
           "https://github.com/GoogleCloudPlatform/region-carbon-info.git"
          ],
          [
           "<a href=\"https://github.com/dos-group/leaf.git\">LEAF</a>",
           "Simulator for modeling energy consumption in cloud, fog, and edge computing environments.",
           "Computation and Communication",
           "https://github.com/dos-group/leaf.git"
          ],
          [
           "<a href=\"https://github.com/kylemcdonald/ethereum-nft-activity.git\">ethereum-nft-activity</a>",
           "Estimate the total emissions for popular CryptoArt platforms.",
           "Computation and Communication",
           "https://github.com/kylemcdonald/ethereum-nft-activity.git"
          ],
          [
           "<a href=\"https://github.com/kube-green/kube-green.git\">kube-green</a>",
           "A k8s operator to reduce CO2 footprint of your clusters.",
           "Computation and Communication",
           "https://github.com/kube-green/kube-green.git"
          ],
          [
           "<a href=\"https://github.com/cnumr/ecoCode.git\">ecoCode</a>",
           "Reduce the environmental footprint of your software applications with this cutting-edge sonarQube plugin.",
           "Computation and Communication",
           "https://github.com/cnumr/ecoCode.git"
          ],
          [
           "<a href=\"https://github.com/sustainable-computing-io/kepler.git\">Kepler</a>",
           "Uses eBPF to probe energy related system stats and exports as Prometheus metrics.",
           "Computation and Communication",
           "https://github.com/sustainable-computing-io/kepler.git"
          ],
          [
           "<a href=\"https://github.com/Green-Software-Foundation/software_carbon_intensity.git\">Software Carbon Intensity Specification</a>",
           "A specification that describes how to calculate a carbon intensity for software applications.",
           "Computation and Communication",
           "https://github.com/Green-Software-Foundation/software_carbon_intensity.git"
          ],
          [
           "<a href=\"https://github.com/jawache/principles-green.git\">Principles of Green Software Engineering</a>",
           "Are a core set of competencies needed to define, build and run sustainable software applications.",
           "Computation and Communication",
           "https://github.com/jawache/principles-green.git"
          ],
          [
           "<a href=\"https://github.com/thegreenwebfoundation/grid-intensity-go.git\">grid-intensity-go</a>",
           "A tool written in go to help you factor carbon intensity into decisions about where and when to run computing jobs.",
           "Computation and Communication",
           "https://github.com/thegreenwebfoundation/grid-intensity-go.git"
          ],
          [
           "<a href=\"https://github.com/sb-ai-lab/Eco2AI.git\">Eco2AI</a>",
           "A Python library which accumulates statistics about power consumption and CO2 emission during running code.",
           "Computation and Communication",
           "https://github.com/sb-ai-lab/Eco2AI.git"
          ],
          [
           "<a href=\"https://github.com/mlco2/impact.git\">impact</a>",
           "Compute your ML model's emissions with our calculator and add the results to your paper with our generated LaTeX template.",
           "Computation and Communication",
           "https://github.com/mlco2/impact.git"
          ],
          [
           "<a href=\"https://github.com/mlco2/codecarbon.git\">CodeCarbon</a>",
           "Track emissions from Compute and recommend ways to reduce their impact on the environment.",
           "Computation and Communication",
           "https://github.com/mlco2/codecarbon.git"
          ],
          [
           "<a href=\"https://github.com/Breakend/experiment-impact-tracker.git\">experiment-impact-tracker</a>",
           "Meant to be a simple drop-in method to track energy usage, carbon emissions, and compute utilization of your system.",
           "Computation and Communication",
           "https://github.com/Breakend/experiment-impact-tracker.git"
          ],
          [
           "<a href=\"https://github.com/Boavizta/environmental-footprint-data.git\">Environmental Footprint Data</a>",
           "Aims to reference as much data as possible to help organizations to evaluate the environmental footprint of their information systems, applications and digital services.",
           "Computation and Communication",
           "https://github.com/Boavizta/environmental-footprint-data.git"
          ],
          [
           "<a href=\"https://github.com/carbonalyser/Carbonalyser.git\">Carbonalyser</a>",
           "Allows to visualize the electricity consumption and greenhouse gases emissions that your Internet browsing leads to.",
           "Computation and Communication",
           "https://github.com/carbonalyser/Carbonalyser.git"
          ],
          [
           "<a href=\"https://github.com/electricitymaps/electricitymaps-contrib.git\">Electricity Maps</a>",
           "A real-time visualization of the CO2 emissions from electricity consumption.",
           "Carbon Intensity and Accounting",
           "https://github.com/electricitymaps/electricitymaps-contrib.git"
          ],
          [
           "<a href=\"https://github.com/singularity-energy/open-grid-emissions.git\">Open Grid Emissions Initiative</a>",
           "Seeks to fill a critical need for high-quality, publicly-accessible, hourly grid emissions data that can be used for GHG accounting, policymaking, academic research, and energy attribute certificate markets.",
           "Carbon Intensity and Accounting",
           "https://github.com/singularity-energy/open-grid-emissions.git"
          ],
          [
           "<a href=\"https://github.com/ConferenceCarbonTracker/CarbonFootprintEGU.git\">CarbonFootprintEGU</a>",
           "Travel carbon footprint of the European Geosciences Union General Assembly 2019.",
           "Carbon Intensity and Accounting",
           "https://github.com/ConferenceCarbonTracker/CarbonFootprintEGU.git"
          ],
          [
           "<a href=\"https://github.com/NMF-earth/nmf-app.git\">NMF.earth app</a>",
           "iOS & Android app to understand and reduce your carbon footprint.",
           "Carbon Intensity and Accounting",
           "https://github.com/NMF-earth/nmf-app.git"
          ],
          [
           "<a href=\"https://github.com/opentaps/blockchain-carbon-accounting.git\">blockchain-carbon-accounting</a>",
           "Code of the Carbon Accounting and Certification Working Group.",
           "Carbon Intensity and Accounting",
           "https://github.com/opentaps/blockchain-carbon-accounting.git"
          ],
          [
           "<a href=\"https://github.com/acircleda/footprint.git\">footprint</a>",
           "An R package to calculate carbon footprints from air travel based on IATA airport codes or latitude and longitude.",
           "Carbon Intensity and Accounting",
           "https://github.com/acircleda/footprint.git"
          ],
          [
           "<a href=\"https://github.com/KKulma/intensegRid.git\">intensegRid</a>",
           "Provides information on national and regional carbon intensity, the amount of carbon emitted per unit of energy consumed, for the UK.",
           "Carbon Intensity and Accounting",
           "https://github.com/KKulma/intensegRid.git"
          ],
          [
           "<a href=\"https://github.com/kansoapp/carbonfact-models.git\">Carbonfact Models</a>",
           "The carbon footprint models used by carbonfact.co.",
           "Carbon Intensity and Accounting",
           "https://github.com/kansoapp/carbonfact-models.git"
          ],
          [
           "<a href=\"https://github.com/climatiq/Open-Emission-Factors-DB.git\">Open-Emission-Factors-DB</a>",
           "An open access, contributer-led database of emission factors, validated by the team at Climatiq.",
           "Carbon Intensity and Accounting",
           "https://github.com/climatiq/Open-Emission-Factors-DB.git"
          ],
          [
           "<a href=\"https://github.com/DrafProject/elmada.git\">elmada</a>",
           "Dynamic electricity carbon emission factors and prices for Europe.",
           "Carbon Intensity and Accounting",
           "https://github.com/DrafProject/elmada.git"
          ],
          [
           "<a href=\"https://github.com/openclimatedata/unfccc-detailed-data-by-party.git\">UNFCCC emissions data</a>",
           "UNFCCC Emissions data from the Detailed Data By Party interface.",
           "Carbon Intensity and Accounting",
           "https://github.com/openclimatedata/unfccc-detailed-data-by-party.git"
          ],
          [
           "<a href=\"https://github.com/GranthamImperial/silicone.git\">Silicone</a>",
           "Automated filling of detail in reported emission scenarios.",
           "Carbon Intensity and Accounting",
           "https://github.com/GranthamImperial/silicone.git"
          ],
          [
           "<a href=\"https://github.com/jdechalendar/gridemissions.git\">gridemissions</a>",
           "Displays the hourly carbon footprint of the US electricity system.",
           "Carbon Intensity and Accounting",
           "https://github.com/jdechalendar/gridemissions.git"
          ],
          [
           "<a href=\"https://github.com/carbonplan/cdr-database.git\">Carbon Dioxide Removal Database</a>",
           "Open science reports on carbon removal projects and technologies.",
           "Carbon Capture and Removel",
           "https://github.com/carbonplan/cdr-database.git"
          ],
          [
           "<a href=\"https://github.com/CCSI-Toolset/FOQUS.git\">FOQUS</a>",
           "Framework for Optimization and Quantification of Uncertainty and Surrogates.",
           "Carbon Capture and Removel",
           "https://github.com/CCSI-Toolset/FOQUS.git"
          ],
          [
           "<a href=\"https://github.com/GEOSX/GEOSX.git\">GEOSX</a>",
           "A simulation framework for modeling coupled flow, transport, and geomechanics in the subsurface.",
           "Carbon Capture and Removel",
           "https://github.com/GEOSX/GEOSX.git"
          ],
          [
           "<a href=\"https://github.com/hsbay/cdrmex.git\">CDRMEx</a>",
           "Carbon Dioxide Removal Modeling Experiments.",
           "Carbon Capture and Removel",
           "https://github.com/hsbay/cdrmex.git"
          ],
          [
           "<a href=\"https://github.com/bcgov/ghg-emissions-indicator.git\">ghg emissions indicator</a>",
           "R scripts for a greenhouse gases emissions indicator published on Environmental Reporting British Columbia.",
           "Emission Observation and Modeling",
           "https://github.com/bcgov/ghg-emissions-indicator.git"
          ],
          [
           "<a href=\"https://github.com/dataforgoodfr/batch7_satellite_ges.git\">oco2peak</a>",
           "The goal of our project is to localize CO2 emissions on Earth based on the the carbon concentration data measured by the OCO-2 Satellite from NASA.",
           "Emission Observation and Modeling",
           "https://github.com/dataforgoodfr/batch7_satellite_ges.git"
          ],
          [
           "<a href=\"https://github.com/emissions-api/emissions-api.git\">emissions-api</a>",
           "A solution that provides simple access to emissions data of climate-relevant gases.",
           "Emission Observation and Modeling",
           "https://github.com/emissions-api/emissions-api.git"
          ],
          [
           "<a href=\"https://github.com/atmoschem/eixport.git\">eixport</a>",
           "An R package that provides functions to read emissions from VEIN and from other models in different formats and export the emissions into the appropriate format suitable to other models.",
           "Emission Observation and Modeling",
           "https://github.com/atmoschem/eixport.git"
          ],
          [
           "<a href=\"https://github.com/atmoschem/EmissV.git\">EmissV</a>",
           "This package provides some methods to create emissions (with a focus on vehicular emissions) for use in numeric air quality models such as WRF-Chem.",
           "Emission Observation and Modeling",
           "https://github.com/atmoschem/EmissV.git"
          ],
          [
           "<a href=\"https://github.com/JGCRI/CEDS.git\">The Community Emissions Data System</a>",
           "Produces consistent estimates of global air emissions species over the industrial era (1750 - present).",
           "Emission Observation and Modeling",
           "https://github.com/JGCRI/CEDS.git"
          ],
          [
           "<a href=\"https://github.com/quishqa/PyChEmiss.git\">PyChEmiss</a>",
           "A Python script to create the wrfchemi file from local emissions needed to run WRF-Chem model.",
           "Emission Observation and Modeling",
           "https://github.com/quishqa/PyChEmiss.git"
          ],
          [
           "<a href=\"https://github.com/owid/co2-data.git\">co2-data</a>",
           "Data on CO2 and greenhouse gas emissions by Our World in Data.",
           "Emission Observation and Modeling",
           "https://github.com/owid/co2-data.git"
          ],
          [
           "<a href=\"https://github.com/uataq/X-STILT.git\">X-STILT</a>",
           "An atmospheric transport model that deals with vertically integrated column CO2 and potentially other trace gases.",
           "Emission Observation and Modeling",
           "https://github.com/uataq/X-STILT.git"
          ],
          [
           "<a href=\"https://github.com/uataq/stilt.git\">stilt</a>",
           "An open source Lagrangian particle dispersion model which is widely used to simulate the transport of pollution and greenhouse gases through the atmosphere.",
           "Emission Observation and Modeling",
           "https://github.com/uataq/stilt.git"
          ],
          [
           "<a href=\"https://github.com/arbrandt/OPGEE.git\">OPGEE</a>",
           "Oil Production Greenhouse Gas Emissions Estimator.",
           "Emission Observation and Modeling",
           "https://github.com/arbrandt/OPGEE.git"
          ],
          [
           "<a href=\"https://github.com/openghg/openghg.git\">OpenGHG</a>",
           "A cloud platform for greenhouse gas data analysis and collaboration.",
           "Emission Observation and Modeling",
           "https://github.com/openghg/openghg.git"
          ],
          [
           "<a href=\"https://github.com/OpenCarbonWatch/Website.git\">Open Carbon Watch</a>",
           "We monitor greenhouse gases emission reports published by organizations, along with their legal obligations and their own commitments, and track them over time.",
           "Emission Observation and Modeling",
           "https://github.com/OpenCarbonWatch/Website.git"
          ],
          [
           "<a href=\"https://github.com/satish1901/Methane-detection-from-hyperspectral-imagery.git\">Methane-detection-from-hyperspectral-imagery</a>",
           "Deep Learning based Remote Sensing Methods for Methane Detection in Airborne Hyperspectral Imagery.",
           "Emission Observation and Modeling",
           "https://github.com/satish1901/Methane-detection-from-hyperspectral-imagery.git"
          ],
          [
           "<a href=\"https://github.com/CMU-CREATE-Lab/deep-smoke-machine.git\">deep-smoke-machine</a>",
           "Deep learning models and dataset for recognizing industrial smoke emissions.",
           "Emission Observation and Modeling",
           "https://github.com/CMU-CREATE-Lab/deep-smoke-machine.git"
          ],
          [
           "<a href=\"https://github.com/Ribbit-Network/ribbit-network-frog-sensor.git\">Ribbit Network Frog Sensor</a>",
           "The sensor for the world's largest crowdsourced network of open-source, low-cost, CO2 Gas Detection Sensors.",
           "Emission Observation and Modeling",
           "https://github.com/Ribbit-Network/ribbit-network-frog-sensor.git"
          ],
          [
           "<a href=\"https://github.com/mmb-carb/ESTA.git\">ESTA</a>",
           "A command-line tool for processing raw emissions data into spatially and temporally-allocated emissions inventories, suitable for photochemicaly modeling or other analysis.",
           "Emission Observation and Modeling",
           "https://github.com/mmb-carb/ESTA.git"
          ],
          [
           "<a href=\"https://github.com/milankl/FlyingClimate.git\">FlyingClimate</a>",
           "Model the CO2 and non-CO2 effects like nitrogen oxide emissions and contrail formation to analyse aviation's total warming footprint.",
           "Emission Observation and Modeling",
           "https://github.com/milankl/FlyingClimate.git"
          ],
          [
           "<a href=\"https://github.com/OSUKED/ETS-Watch.git\">ETS-Watch</a>",
           "Provides a Python client for retrieving the latest data on the EU Emissions Trading System market and its participants.",
           "Emission Observation and Modeling",
           "https://github.com/OSUKED/ETS-Watch.git"
          ],
          [
           "<a href=\"https://github.com/ICOS-Carbon-Portal/pylib.git\">Integrated Carbon Observation System</a>",
           "Produces standardised data on greenhouse gas concentrations in the atmosphere, as well as on carbon fluxes between the atmosphere, the earth and oceans.",
           "Emission Observation and Modeling",
           "https://github.com/ICOS-Carbon-Portal/pylib.git"
          ],
          [
           "<a href=\"https://github.com/fossilfuelregistry/portal-v2.git\">The Global Registry of Fossil Fuels</a>",
           "Open Source database of oil, gas and coal production and reserves globally, expressed in CO2-equivalent.",
           "Emission Observation and Modeling",
           "https://github.com/fossilfuelregistry/portal-v2.git"
          ],
          [
           "<a href=\"https://github.com/Novarizark/easy-era5-trck.git\">Easy-ERA5-Trck</a>",
           "A super lightweight Lagrangian model for calculating millions of trajectories using ERA5 data.",
           "Emission Observation and Modeling",
           "https://github.com/Novarizark/easy-era5-trck.git"
          ],
          [
           "<a href=\"https://github.com/brightway-lca/brightway2.git\">brightway2</a>",
           "An open source framework for life cycle assessment.",
           "Life Cycle Assessment",
           "https://github.com/brightway-lca/brightway2.git"
          ],
          [
           "<a href=\"https://github.com/romainsacchi/carculator.git\">carculator</a>",
           "Prospective environmental and economic life cycle assessment of vehicles made blazing fast.",
           "Life Cycle Assessment",
           "https://github.com/romainsacchi/carculator.git"
          ],
          [
           "<a href=\"https://github.com/USEPA/ElectricityLCI.git\">Electricity Life Cycle Inventory</a>",
           "A Python package that uses standardized facility release and generation data to create regionalized life cycle inventory (LCI) models for the generation, mix of generation, mix of consumption, and distribution of electricity to end users for the US, with embedded system processes of upstream fuel production and infrastructure.",
           "Life Cycle Assessment",
           "https://github.com/USEPA/ElectricityLCI.git"
          ],
          [
           "<a href=\"https://github.com/uslci-admin/uslci-content.git\">uslci-content</a>",
           "Supplementary content for the U.S. Life Cycle Inventory Database.",
           "Life Cycle Assessment",
           "https://github.com/uslci-admin/uslci-content.git"
          ],
          [
           "<a href=\"https://github.com/GreenDelta/olca-app.git\">OpenLCA</a>",
           "An open source and free software for Sustainability and Life Cycle Assessment.",
           "Life Cycle Assessment",
           "https://github.com/GreenDelta/olca-app.git"
          ],
          [
           "<a href=\"https://github.com/GreenDelta/openlca-python-tutorial.git\">openlca-python-tutorial</a>",
           "Explains the usage of the openLCA API from Python.",
           "Life Cycle Assessment",
           "https://github.com/GreenDelta/openlca-python-tutorial.git"
          ],
          [
           "<a href=\"https://github.com/oie-mines-paristech/lca_algebraic.git\">lca_algebraic</a>",
           "A small layer above brightway2, designed for the definition of parametric inventories with fast computation of LCA impacts, suitable for Monte Carlo analysis.",
           "Life Cycle Assessment",
           "https://github.com/oie-mines-paristech/lca_algebraic.git"
          ],
          [
           "<a href=\"https://github.com/Vizzuality/trase.git\">Trase</a>",
           "Brings unprecedented transparency to commodity supply chains revealing new pathways towards achieving a deforestation-free economy.",
           "Life Cycle Assessment",
           "https://github.com/Vizzuality/trase.git"
          ],
          [
           "<a href=\"https://github.com/QSD-Group/QSDsan.git\">QSDsan</a>",
           "A package for the quantitative sustainable design of sanitation and resource recovery systems.",
           "Life Cycle Assessment",
           "https://github.com/QSD-Group/QSDsan.git"
          ],
          [
           "<a href=\"https://github.com/polca/premise.git\">premise</a>",
           "Coupling Integrated Assessment Models output with Life Cycle Assessment.",
           "Life Cycle Assessment",
           "https://github.com/polca/premise.git"
          ],
          [
           "<a href=\"https://github.com/USEPA/useeior.git\">useeior</a>",
           "Estimating potential environmental impacts of goods and services in the US economy.",
           "Life Cycle Assessment",
           "https://github.com/USEPA/useeior.git"
          ],
          [
           "<a href=\"https://github.com/USEPA/Federal-LCA-Commons-Elementary-Flow-List.git\">fedelemflowlist</a>",
           "A Python package that generates and provides a standardized elementary flow list for use in life cycle assessment (LCA) data as well as mappings to convert data from other sources.",
           "Life Cycle Assessment",
           "https://github.com/USEPA/Federal-LCA-Commons-Elementary-Flow-List.git"
          ],
          [
           "<a href=\"https://github.com/fineprint-global/forbio.git\">FORBIO</a>",
           "Physical multi-regional input-output model for forestry, wood and paper products.",
           "Life Cycle Assessment",
           "https://github.com/fineprint-global/forbio.git"
          ],
          [
           "<a href=\"https://github.com/konstantinstadler/pymrio.git\">pymrio</a>",
           "Multi-Regional Input-Output Analysis in Python.",
           "Life Cycle Assessment",
           "https://github.com/konstantinstadler/pymrio.git"
          ],
          [
           "<a href=\"https://github.com/ONEARMY/precious-plastic.git\">ONEARMY</a>",
           "A series of tools for the Precious Plastic community to collaborate around the world and tackle plastic waste.",
           "Circular Economy and Waste",
           "https://github.com/ONEARMY/precious-plastic.git"
          ],
          [
           "<a href=\"https://github.com/pedropro/TACO.git\">TACO</a>",
           "Trash Annotations in Context Dataset Toolkit.",
           "Circular Economy and Waste",
           "https://github.com/pedropro/TACO.git"
          ],
          [
           "<a href=\"https://github.com/circularfashion/cf-circularity-id-standard.git\">circularity.ID Open Data Standard</a>",
           "The standard represents the results and findings of an extensive six-year research into the needs of stakeholders in the fashion industry to achieve a circular economy.",
           "Circular Economy and Waste",
           "https://github.com/circularfashion/cf-circularity-id-standard.git"
          ],
          [
           "<a href=\"https://github.com/garythung/trashnet.git\">trashnet</a>",
           "Dataset of images of trash. Torch-based CNN for garbage image classification.",
           "Circular Economy and Waste",
           "https://github.com/garythung/trashnet.git"
          ],
          [
           "<a href=\"https://github.com/OpenLitterMap/openlittermap-web.git\">OpenLitterMap</a>",
           "An open, interactive and accessible database of the world's litter and plastic pollution.",
           "Circular Economy and Waste",
           "https://github.com/OpenLitterMap/openlittermap-web.git"
          ],
          [
           "<a href=\"https://github.com/CMLPlatform/pycirk.git\">pycirk</a>",
           "Model Circular Economy policy and technological interventions in Environmentally Extended Input-Output Analysis.",
           "Circular Economy and Waste",
           "https://github.com/CMLPlatform/pycirk.git"
          ],
          [
           "<a href=\"https://github.com/WWF-Deutschland/marine-plastic-explorer.git\">Global Plastic Navigator</a>",
           "Visualises the most recent and high-resolution data of current scientific publications on marine plastic pollution.",
           "Circular Economy and Waste",
           "https://github.com/WWF-Deutschland/marine-plastic-explorer.git"
          ],
          [
           "<a href=\"https://github.com/TheOceanCleanupAlgorithms/ADVECT.git\">ADVECTOR</a>",
           "A whole-ocean marine debris transport model which is built to handle millions of particles and terabytes of data.",
           "Circular Economy and Waste",
           "https://github.com/TheOceanCleanupAlgorithms/ADVECT.git"
          ],
          [
           "<a href=\"https://github.com/marine-debris/marine-debris.github.io.git\">MARIDA</a>",
           "A marine debris-oriented dataset on Sentinel-2 satellite images.",
           "Circular Economy and Waste",
           "https://github.com/marine-debris/marine-debris.github.io.git"
          ],
          [
           "<a href=\"https://github.com/wimlds-trojmiasto/detect-waste.git\">Detect waste</a>",
           "Detecting plastic waste in the environment to combat environmental pollution and promote circular economy.",
           "Circular Economy and Waste",
           "https://github.com/wimlds-trojmiasto/detect-waste.git"
          ],
          [
           "<a href=\"https://github.com/santiago-sanitation-systems/Santiago.jl.git\">Santiago.jl</a>",
           "A Julia package to generate appropriate sanitation system options.",
           "Circular Economy and Waste",
           "https://github.com/santiago-sanitation-systems/Santiago.jl.git"
          ],
          [
           "<a href=\"https://github.com/CMLPlatform/ramascene.git\">RaMa-Scene</a>",
           "RaMa-Scene a web-platform to analyse Environmentally Extended Input-Output data and generate scenarios.",
           "Circular Economy and Waste",
           "https://github.com/CMLPlatform/ramascene.git"
          ],
          [
           "<a href=\"https://github.com/CMLPlatform/CircuMAT.git\">CircuMat</a>",
           "RaMa-Scene fork, CircuMat focuses on NUTS2 level classification as opposed to Rama-Scene country level analysis tool.",
           "Circular Economy and Waste",
           "https://github.com/CMLPlatform/CircuMAT.git"
          ],
          [
           "<a href=\"https://github.com/wri/carbon-budget.git\">carbon budget</a>",
           "This model maps gross greenhouse gas emissions from forests between 2001 and 2015, gross carbon removals by forests between 2001, and the difference between them (net flux).",
           "Biosphere",
           "https://github.com/wri/carbon-budget.git"
          ],
          [
           "<a href=\"https://github.com/apburt/treeseg.git\">treeseg</a>",
           "Developed to near-automatically extract tree-level point clouds from high-density larger-area lidar point clouds acquired in forests.",
           "Biosphere",
           "https://github.com/apburt/treeseg.git"
          ],
          [
           "<a href=\"https://github.com/umr-amap/BIOMASS.git\">BIOMASS</a>",
           "An R package for estimating aboveground biomass and its uncertainty in tropical forests.",
           "Biosphere",
           "https://github.com/umr-amap/BIOMASS.git"
          ],
          [
           "<a href=\"https://github.com/MetOffice/forest.git\">forest</a>",
           "Forecast and Observation Research and Evaluation Survey Tool.",
           "Biosphere",
           "https://github.com/MetOffice/forest.git"
          ],
          [
           "<a href=\"https://github.com/openforis/sepal.git\">SEPAL</a>",
           "System for Earth Observation Data Access, Processing and Analysis for Land Monitoring.",
           "Biosphere",
           "https://github.com/openforis/sepal.git"
          ],
          [
           "<a href=\"https://github.com/forc-db/ForC.git\">Forest Carbon database</a>",
           "Global Forest Carbon Database.",
           "Biosphere",
           "https://github.com/forc-db/ForC.git"
          ],
          [
           "<a href=\"https://github.com/tiagodc/TreeLS.git\">TreeLS</a>",
           "High performance R functions for forest data processing based on Terrestrial Laser Scanning (but not only) point clouds.",
           "Biosphere",
           "https://github.com/tiagodc/TreeLS.git"
          ],
          [
           "<a href=\"https://github.com/InverseTampere/TreeQSM.git\">TreeQSM</a>",
           "Quantitative Structure Models of Single Trees from Laser Scanner Data.",
           "Biosphere",
           "https://github.com/InverseTampere/TreeQSM.git"
          ],
          [
           "<a href=\"https://github.com/ecmwf/caliver.git\">caliver</a>",
           "CALIbration and VERification of gridded fire danger models.",
           "Biosphere",
           "https://github.com/ecmwf/caliver.git"
          ],
          [
           "<a href=\"https://github.com/wri/gfw-mapbuilder.git\">gfw-mapbuilder</a>",
           "A library to build custom Forest Atlas web applications.",
           "Biosphere",
           "https://github.com/wri/gfw-mapbuilder.git"
          ],
          [
           "<a href=\"https://github.com/r-lidar/lidR.git\">lidR</a>",
           "An R package for airborne LiDAR data manipulation and visualization for forestry application.",
           "Biosphere",
           "https://github.com/r-lidar/lidR.git"
          ],
          [
           "<a href=\"https://github.com/weecology/DeepForest.git\">DeepForest</a>",
           "Python Package for Tree Crown Detection in Airborne RGB imagery.",
           "Biosphere",
           "https://github.com/weecology/DeepForest.git"
          ],
          [
           "<a href=\"https://github.com/WSWUP/pymetric.git\">pyMETRIC</a>",
           "A set of Python based tools developed for estimating and mapping evapotranspiration for large areas, utilizing the Landsat image archive.",
           "Biosphere",
           "https://github.com/WSWUP/pymetric.git"
          ],
          [
           "<a href=\"https://github.com/weecology/NeonTreeEvaluation.git\">NeonTreeEvaluation</a>",
           "Benchmark dataset for tree detection for airborne RGB, Hyperspectral and LIDAR imagery.",
           "Biosphere",
           "https://github.com/weecology/NeonTreeEvaluation.git"
          ],
          [
           "<a href=\"https://github.com/OpenTreeMap/otm-core.git\">OpenTreeMap</a>",
           "A collaborative platform for crowdsourced tree inventory, ecosystem services calculations, urban forestry analysis and community engagement.",
           "Biosphere",
           "https://github.com/OpenTreeMap/otm-core.git"
          ],
          [
           "<a href=\"https://github.com/weecology/DeepTreeAttention.git\">DeepTreeAttention</a>",
           "Hyperspectral Image Classification with Attention Aided CNNs.",
           "Biosphere",
           "https://github.com/weecology/DeepTreeAttention.git"
          ],
          [
           "<a href=\"https://github.com/ropensci/rredlist.git\">rredlist</a>",
           "An R client for the IUCN Red List of threatened and endangered species.",
           "Biosphere",
           "https://github.com/ropensci/rredlist.git"
          ],
          [
           "<a href=\"https://github.com/woodcrafty/PyETo.git\">PyETo</a>",
           "A Python library for calculating reference crop evapotranspiration, sometimes referred to as potential evapotranspiration.",
           "Biosphere",
           "https://github.com/woodcrafty/PyETo.git"
          ],
          [
           "<a href=\"https://github.com/sollano/forestmangr.git\">forestmangr</a>",
           "An R package for forest mensuration and management.",
           "Biosphere",
           "https://github.com/sollano/forestmangr.git"
          ],
          [
           "<a href=\"https://github.com/jneme910/CART.git\">CART</a>",
           "The Conservation Assessment Ranking Tool is designed for use in the conservation planning process to assess resource concerns, planned practices and site vulnerability.",
           "Biosphere",
           "https://github.com/jneme910/CART.git"
          ],
          [
           "<a href=\"https://github.com/DS3Lab/forest-prediction.git\">forest-prediction</a>",
           "Deep learning for deforestation classification and forecasting in satellite imagery.",
           "Biosphere",
           "https://github.com/DS3Lab/forest-prediction.git"
          ],
          [
           "<a href=\"https://github.com/GreenswayAB/BIRDS.git\">BIRDS</a>",
           "This set of tools has been developed for systematizing biodiversity data review in order to evaluate whether a set of species observation are fit-for-use and help take decisions upon its use on further analysis.",
           "Biosphere",
           "https://github.com/GreenswayAB/BIRDS.git"
          ],
          [
           "<a href=\"https://github.com/danforthcenter/plantcv.git\">PlantCV</a>",
           "Plant phenotyping using computer vision.",
           "Biosphere",
           "https://github.com/danforthcenter/plantcv.git"
          ],
          [
           "<a href=\"https://github.com/NGEET/fates.git\">FATES</a>",
           "A cohort model of vegetation competition and co-existence, allowing a representation of the biosphere which accounts for the division of the land surface into successional stages.",
           "Biosphere",
           "https://github.com/NGEET/fates.git"
          ],
          [
           "<a href=\"https://github.com/ghislainv/forestatrisk.git\">forestatrisk</a>",
           "A Python package to model and forecast the risk of deforestation.",
           "Biosphere",
           "https://github.com/ghislainv/forestatrisk.git"
          ],
          [
           "<a href=\"https://github.com/pyronear/pyro-vision.git\">Pyrovision</a>",
           "Computer vision library for wildfire detection.",
           "Biosphere",
           "https://github.com/pyronear/pyro-vision.git"
          ],
          [
           "<a href=\"https://github.com/CornellLabofOrnithology/auk.git\">auk</a>",
           "eBird Data Extraction and Processing in R.",
           "Biosphere",
           "https://github.com/CornellLabofOrnithology/auk.git"
          ],
          [
           "<a href=\"https://github.com/ropensci/spocc.git\">spocc</a>",
           "An R package to query and collect species occurrence data from many sources.",
           "Biosphere",
           "https://github.com/ropensci/spocc.git"
          ],
          [
           "<a href=\"https://github.com/VIAME/VIAME.git\">VIAME</a>",
           "A computer vision application designed for do-it-yourself artificial intelligence including object detection, object tracking, image/video annotation, image/video search, image mosaicing, stereo measurement, rapid model generation, and tools for the evaluation of different algorithms.",
           "Biosphere",
           "https://github.com/VIAME/VIAME.git"
          ],
          [
           "<a href=\"https://github.com/NOAA-EDAB/ecodata.git\">ecodata</a>",
           "A data package for reporting on Northeast Continental Shelf ecosystem status and trends.",
           "Biosphere",
           "https://github.com/NOAA-EDAB/ecodata.git"
          ],
          [
           "<a href=\"https://github.com/bullocke/coded.git\">CODED</a>",
           "An algorithm developed to monitor for low-magnitude forest disturbances using Landsat data.",
           "Biosphere",
           "https://github.com/bullocke/coded.git"
          ],
          [
           "<a href=\"https://github.com/openplantpathology/OpenPlantPathology.git\">OpenPlantPathology</a>",
           "Open Plant Pathology is an initiative that supports and promotes the spread of all open, transparent and reproducible practices in the field of plant pathology.",
           "Biosphere",
           "https://github.com/openplantpathology/OpenPlantPathology.git"
          ],
          [
           "<a href=\"https://github.com/allisonhorst/palmerpenguins.git\">palmerpenguins</a>",
           "The palmerpenguins data contains size measurements for three penguin species observed on three islands in the Palmer Archipelago, Antarctica.",
           "Biosphere",
           "https://github.com/allisonhorst/palmerpenguins.git"
          ],
          [
           "<a href=\"https://github.com/iobis/robis.git\">robis</a>",
           "Build and maintain a global alliance that collaborates with scientific communities to facilitate free and open access to, and application of, biodiversity and biogeographic data and information on marine life.",
           "Biosphere",
           "https://github.com/iobis/robis.git"
          ],
          [
           "<a href=\"https://github.com/ajwdewit/pcse.git\">PCSE</a>",
           "A framework developed for implementing crop simulation models developed in Wageningen.",
           "Biosphere",
           "https://github.com/ajwdewit/pcse.git"
          ],
          [
           "<a href=\"https://github.com/JuliaOcean/PlanktonIndividuals.jl.git\">PlanktonIndividuals.jl</a>",
           "This package simulates the behaviors of an ensemble of phytoplankton individuals.",
           "Biosphere",
           "https://github.com/JuliaOcean/PlanktonIndividuals.jl.git"
          ],
          [
           "<a href=\"https://github.com/red-list-ecosystem/redlistr.git\">redlistr</a>",
           "An R package that contains a set of tools suitable for calculating the metrics required for making assessments of species and ecosystems against the IUCN Red List of Threatened Species and the IUCN Red List of Ecosystems categories and criteria.",
           "Biosphere",
           "https://github.com/red-list-ecosystem/redlistr.git"
          ],
          [
           "<a href=\"https://github.com/prioritizr/wdpar.git\">wdpar</a>",
           "R Interface to the World Database on Protected Areas.",
           "Biosphere",
           "https://github.com/prioritizr/wdpar.git"
          ],
          [
           "<a href=\"https://github.com/traitecoevo/plant.git\">plant</a>",
           "A package for modeling forest trait ecology and evolution.",
           "Biosphere",
           "https://github.com/traitecoevo/plant.git"
          ],
          [
           "<a href=\"https://github.com/alan-turing-institute/monitoring-ecosystem-resilience.git\">monitoring-ecosystem-resilience</a>",
           "The focus is understanding vegetation patterns in semi-arid environments.",
           "Biosphere",
           "https://github.com/alan-turing-institute/monitoring-ecosystem-resilience.git"
          ],
          [
           "<a href=\"https://github.com/bluegreen-labs/phenocamr.git\">phenocamr</a>",
           "Facilitates the retrieval and post-processing of PhenoCam time series.",
           "Biosphere",
           "https://github.com/bluegreen-labs/phenocamr.git"
          ],
          [
           "<a href=\"https://github.com/pinskylab/OceanAdapt.git\">OceanAdapt</a>",
           "Provide information about the impacts of changing climate and other factors on the distribution of marine life to the National Climate Assessment, fisheries communities, policymakers, and to others.",
           "Biosphere",
           "https://github.com/pinskylab/OceanAdapt.git"
          ],
          [
           "<a href=\"https://github.com/forc-db/GROA.git\">Global Reforestation Opportunity Assessment</a>",
           "Quantify carbon sequestration in naturally regenerating forests around the world.",
           "Biosphere",
           "https://github.com/forc-db/GROA.git"
          ],
          [
           "<a href=\"https://github.com/Plant-for-the-Planet-org/treecounter-app.git\">Plant-for-the-Planet</a>",
           "Allows you to plant trees with over 100 reforestation projects around the world.",
           "Biosphere",
           "https://github.com/Plant-for-the-Planet-org/treecounter-app.git"
          ],
          [
           "<a href=\"https://github.com/microsoft/aerial_wildlife_detection.git\">Annotation Interface for Data-driven Ecology</a>",
           "Tools for detecting wildlife in aerial images using active learning.",
           "Biosphere",
           "https://github.com/microsoft/aerial_wildlife_detection.git"
          ],
          [
           "<a href=\"https://github.com/pyronear/pyro-risks.git\">Pyronear Risks</a>",
           "The pyro-risks project aims at providing the pyronear-platform with a machine learning based wildfire forecasting capability.",
           "Biosphere",
           "https://github.com/pyronear/pyro-risks.git"
          ],
          [
           "<a href=\"https://github.com/Plant-for-the-Planet-org/treemapper.git\">Tree Mapper App</a>",
           "Tree Mapper extends the Plant-for-the-Planet App and allows on site coordinate submission during plantation.",
           "Biosphere",
           "https://github.com/Plant-for-the-Planet-org/treemapper.git"
          ],
          [
           "<a href=\"https://github.com/jbferet/biodivMapR.git\">biodivMapR</a>",
           "An R package for α- and β-diversity mapping using remotely-sensed images.",
           "Biosphere",
           "https://github.com/jbferet/biodivMapR.git"
          ],
          [
           "<a href=\"https://github.com/ghislainv/forestatrisk-tropics.git\">forestatrisk</a>",
           "Forest refuge areas and carbon emissions from tropical deforestation in the 21st century.",
           "Biosphere",
           "https://github.com/ghislainv/forestatrisk-tropics.git"
          ],
          [
           "<a href=\"https://github.com/martibosch/detectree.git\">DetecTree</a>",
           "A Pythonic library to classify tree/non-tree pixels from aerial imagery.",
           "Biosphere",
           "https://github.com/martibosch/detectree.git"
          ],
          [
           "<a href=\"https://github.com/wri/sentinel-tree-cover.git\">Sentinel-Tree-Cover</a>",
           "This project maps tree extent at the ten-meter scale using open source artificial intelligence and satellite imagery.",
           "Biosphere",
           "https://github.com/wri/sentinel-tree-cover.git"
          ],
          [
           "<a href=\"https://github.com/Bioverse-Labs/deep-learning.git\">Bioverse Labs</a>",
           "Python scripts using usual frameworks in Deep Learning for pattern recognition on forest environments.",
           "Biosphere",
           "https://github.com/Bioverse-Labs/deep-learning.git"
          ],
          [
           "<a href=\"https://github.com/protect-earth/TreeTracker.git\">Tree Tracker</a>",
           "Used by people who plant trees so they don't have to manually type coordinates with pictures they took.",
           "Biosphere",
           "https://github.com/protect-earth/TreeTracker.git"
          ],
          [
           "<a href=\"https://github.com/carbonplan/forest-risks.git\">forest-risks</a>",
           "Statistical models of forest carbon potential and risks.",
           "Biosphere",
           "https://github.com/carbonplan/forest-risks.git"
          ],
          [
           "<a href=\"https://github.com/carlos-alberto-silva/rGEDI.git\">rGEDI</a>",
           "An R Package for NASA's Global Ecosystem Dynamics Investigation (GEDI) Data Visualization and Processing.",
           "Biosphere",
           "https://github.com/carlos-alberto-silva/rGEDI.git"
          ],
          [
           "<a href=\"https://github.com/bcgov/wps.git\">Wildfire Predictive Services</a>",
           "Wildfire Predictive Services to support decision making in prevention, preparedness, response and recovery.",
           "Biosphere",
           "https://github.com/bcgov/wps.git"
          ],
          [
           "<a href=\"https://github.com/shmh40/detectreeRGB.git\">detectreeRGB</a>",
           "Tree crown delineation from RGB imagery, coupled with methods to delineate tree crowns from LiDAR data.",
           "Biosphere",
           "https://github.com/shmh40/detectreeRGB.git"
          ],
          [
           "<a href=\"https://github.com/karthikraja95/fsdl_deforestation_detection.git\">FSDL Deforestation Detection</a>",
           "A deep learning approach to detecting deforestation risk, using satellite images and a deep learning model.",
           "Biosphere",
           "https://github.com/karthikraja95/fsdl_deforestation_detection.git"
          ],
          [
           "<a href=\"https://github.com/technologiestiftung/giessdenkiez-de.git\">Gieß den Kiez</a>",
           "Enable coordinated citizen participation in the irrigation of urban trees.",
           "Biosphere",
           "https://github.com/technologiestiftung/giessdenkiez-de.git"
          ],
          [
           "<a href=\"https://github.com/MoBiodiv/mobr.git\">mobr</a>",
           "Tools for analyzing changes in biodiversity across scales.",
           "Biosphere",
           "https://github.com/MoBiodiv/mobr.git"
          ],
          [
           "<a href=\"https://github.com/SKrisanski/FSCT.git\">Forest Structural Complexity Tool</a>",
           "Allowing plot scale measurements to be extracted automatically from most high-resolution forest point clouds from a variety of sensor sources.",
           "Biosphere",
           "https://github.com/SKrisanski/FSCT.git"
          ],
          [
           "<a href=\"https://github.com/MAAP-Project/maap-documentation.git\">MAAP</a>",
           "Discover and use biomass relevant data, integrating the data for comparison, analysis, evaluation, and generation.",
           "Biosphere",
           "https://github.com/MAAP-Project/maap-documentation.git"
          ],
          [
           "<a href=\"https://github.com/WildMeOrg/Wildbook.git\">Wildbook</a>",
           "Blends structured wildlife research with artificial intelligence, citizen science, and computer vision to speed population analysis and develop new insights to help fight extinction.",
           "Biosphere",
           "https://github.com/WildMeOrg/Wildbook.git"
          ],
          [
           "<a href=\"https://github.com/PecanProject/pecan.git\">PEcAn</a>",
           "The Predictive Ecosystem Analyzer is an integrated ecological bioinformatics toolbox.",
           "Biosphere",
           "https://github.com/PecanProject/pecan.git"
          ],
          [
           "<a href=\"https://github.com/bi0m3trics/spanner.git\">spanner</a>",
           "Utilities to support landscape-, forest-, and tree-related data collection, manipulation, analysis, modelling, and visualization.",
           "Biosphere",
           "https://github.com/bi0m3trics/spanner.git"
          ],
          [
           "<a href=\"https://github.com/Greenstand/treetracker-android.git\">Treetracker</a>",
           "Coordinates the digital capture of tree growth data in the field, allowing to establish employment for people living in extreme poverty based on tree planting.",
           "Biosphere",
           "https://github.com/Greenstand/treetracker-android.git"
          ],
          [
           "<a href=\"https://github.com/andrew-plowright/ForestTools.git\">ForestTools</a>",
           "Detect and segment individual tree from remotely sensed data.",
           "Biosphere",
           "https://github.com/andrew-plowright/ForestTools.git"
          ],
          [
           "<a href=\"https://github.com/earthlab/firedpy.git\">FIREDpy</a>",
           "Classifying fire events from the Collection 6 MODIS Burned Area Product.",
           "Biosphere",
           "https://github.com/earthlab/firedpy.git"
          ],
          [
           "<a href=\"https://github.com/BioPAL/BioPAL.git\">BioPAL</a>",
           "The BIOMASS Product Algorithm Laboratory hosts official tools for processing and analysing ESA's BIOMASS mission data.",
           "Biosphere",
           "https://github.com/BioPAL/BioPAL.git"
          ],
          [
           "<a href=\"https://github.com/eco-hydro/phenofit.git\">phenofit</a>",
           "A state-of-the-art remote sensing vegetation phenology extraction package.",
           "Biosphere",
           "https://github.com/eco-hydro/phenofit.git"
          ],
          [
           "<a href=\"https://github.com/mapme-initiative/mapme.biodiversity.git\">mapme.biodiversity</a>",
           "Efficient analysis of spatial biodiversity datasets for global portfolios.",
           "Biosphere",
           "https://github.com/mapme-initiative/mapme.biodiversity.git"
          ],
          [
           "<a href=\"https://github.com/prioritizr/prioritizr.git\">prioritizr</a>",
           "Uses mixed integer linear programming techniques to provide a flexible interface for building and solving conservation planning problems.",
           "Biosphere",
           "https://github.com/prioritizr/prioritizr.git"
          ],
          [
           "<a href=\"https://github.com/CatalogueOfLife/general.git\">The Catalogue of Life</a>",
           "The most complete authoritative list of the world's species, maintained by hundreds of global taxonomists.",
           "Biosphere",
           "https://github.com/CatalogueOfLife/general.git"
          ],
          [
           "<a href=\"https://github.com/tdwg/dwc.git\">Darwin Core</a>",
           "Standard for sharing of information about biological diversity.",
           "Biosphere",
           "https://github.com/tdwg/dwc.git"
          ],
          [
           "<a href=\"https://github.com/pyinat/pyinaturalist.git\">pyinaturalist</a>",
           "Python client for iNaturalist, a community science platform that helps people get involved in the natural world by observing and identifying the living things around them.",
           "Biosphere",
           "https://github.com/pyinat/pyinaturalist.git"
          ],
          [
           "<a href=\"https://github.com/SpeciesFileGroup/taxonworks.git\">TaxonWorks</a>",
           "An integrated web-based workbench for taxonomists and biodiversity scientists.",
           "Biosphere",
           "https://github.com/SpeciesFileGroup/taxonworks.git"
          ],
          [
           "<a href=\"https://github.com/adokter/bioRad.git\">bioRad</a>",
           "R package for analysis and visualisation of biological signals in weather radar data.",
           "Biosphere",
           "https://github.com/adokter/bioRad.git"
          ],
          [
           "<a href=\"https://github.com/jeffreyevans/spatialEco.git\">spatialEco</a>",
           "R package for spatial analysis and modelling of ecological systems.",
           "Biosphere",
           "https://github.com/jeffreyevans/spatialEco.git"
          ],
          [
           "<a href=\"https://github.com/EcologicalSemantics/ecocore.git\">ecoCore</a>",
           "A standard vocabulary for the ecological community, a need expressed repeatedly over the past few years at workshops focused on ecological, environmental, and population-based semantics.",
           "Biosphere",
           "https://github.com/EcologicalSemantics/ecocore.git"
          ],
          [
           "<a href=\"https://github.com/cdmuir/photosynthesis.git\">photosynthesis</a>",
           "An R package with modeling tools for C3 photosynthesis, as well as analytical tools for curve-fitting plant ecophysiology responses.",
           "Biosphere",
           "https://github.com/cdmuir/photosynthesis.git"
          ],
          [
           "<a href=\"https://github.com/hunter-stanke/rFIA.git\">rFIA</a>",
           "Increase the accessibility and use of the USFS Forest Inventory and Analysis Database by providing a user-friendly, open source platform to easily query and analyze.",
           "Biosphere",
           "https://github.com/hunter-stanke/rFIA.git"
          ],
          [
           "<a href=\"https://github.com/nansencenter/sea_ice_drift.git\">Sea ice drift</a>",
           "Sea ice drift from Sentinel-1 SAR imagery using open source feature tracking.",
           "Cryosphere",
           "https://github.com/nansencenter/sea_ice_drift.git"
          ],
          [
           "<a href=\"https://github.com/smrt-model/smrt.git\">smrt</a>",
           "Snow Microwave Radiative Transfer model to compute thermal emission and backscatter from snowpack.",
           "Cryosphere",
           "https://github.com/smrt-model/smrt.git"
          ],
          [
           "<a href=\"https://github.com/OGGM/oggm.git\">OGGM</a>",
           "A modular open source model for glacier dynamics.",
           "Cryosphere",
           "https://github.com/OGGM/oggm.git"
          ],
          [
           "<a href=\"https://github.com/CICE-Consortium/CICE.git\">CICE</a>",
           "A computationally efficient model for simulating the growth, melting, and movement of polar sea ice.",
           "Cryosphere",
           "https://github.com/CICE-Consortium/CICE.git"
          ],
          [
           "<a href=\"https://github.com/CICE-Consortium/Icepack.git\">icepack</a>",
           "Finite element modeling of glaciers and ice sheets.",
           "Cryosphere",
           "https://github.com/CICE-Consortium/Icepack.git"
          ],
          [
           "<a href=\"https://github.com/weiji14/deepbedmap.git\">DeepBedMap</a>",
           "Using a deep neural network to better resolve the bed topography of Antarctica.",
           "Cryosphere",
           "https://github.com/weiji14/deepbedmap.git"
          ],
          [
           "<a href=\"https://github.com/nasa-jpl/captoolkit.git\">captoolkit</a>",
           "NASA's Cryosphere Altimetry Processing Toolkit.",
           "Cryosphere",
           "https://github.com/nasa-jpl/captoolkit.git"
          ],
          [
           "<a href=\"https://github.com/vannizhang/sea-ice.git\">sea-ice</a>",
           "Displays the monthly mean sea ice extent for the Arctic and Antarctic along with the historical median extent.",
           "Cryosphere",
           "https://github.com/vannizhang/sea-ice.git"
          ],
          [
           "<a href=\"https://github.com/NOAA-GFDL/SIS2.git\">SIS2</a>",
           "Calculates the concentration, thickness, temperature, brine content and snow cover of an arbitrary number of ice thickness categories (including open water) as well as the motion of the complete pack.",
           "Cryosphere",
           "https://github.com/NOAA-GFDL/SIS2.git"
          ],
          [
           "<a href=\"https://github.com/GEUS-Glaciology-and-Climate/freshwater.git\">freshwater</a>",
           "Greenland liquid water runoff from 1958 through 2019.",
           "Cryosphere",
           "https://github.com/GEUS-Glaciology-and-Climate/freshwater.git"
          ],
          [
           "<a href=\"https://github.com/PennyHow/PyTrx.git\">PyTrx</a>",
           "Its primary purpose is to obtain velocities, surface areas, and distances from oblique, optical imagery of glacial environments.",
           "Cryosphere",
           "https://github.com/PennyHow/PyTrx.git"
          ],
          [
           "<a href=\"https://github.com/ECCO-GROUP/ECCO-v4-Python-Tutorial.git\">ECCO-v4-Python-Tutorial</a>",
           "Contains several tutorials for using the ECCO Central Production Version 4 ocean and sea-ice state estimate.",
           "Cryosphere",
           "https://github.com/ECCO-GROUP/ECCO-v4-Python-Tutorial.git"
          ],
          [
           "<a href=\"https://github.com/icesat2py/icepyx.git\">icepyx</a>",
           "Python tools for obtaining and working with ICESat-2 data.",
           "Cryosphere",
           "https://github.com/icesat2py/icepyx.git"
          ],
          [
           "<a href=\"https://github.com/chadagreene/BedMachine.git\">BedMachine</a>",
           "Matlab tools for loading, interpolating, and displaying BedMachine ice sheet topography.",
           "Cryosphere",
           "https://github.com/chadagreene/BedMachine.git"
          ],
          [
           "<a href=\"https://github.com/Joel-hanson/Iceberg-locations.git\">Iceberg Locations</a>",
           "Antarctic large iceberg positions derived from ASCAT and OSCAT-2.",
           "Cryosphere",
           "https://github.com/Joel-hanson/Iceberg-locations.git"
          ],
          [
           "<a href=\"https://github.com/krisrs1128/glacier_mapping.git\">Glacier Mapping From Satellite Imagery</a>",
           "Use computer vision to automatically segment debris and ice glaciers from satellite images.",
           "Cryosphere",
           "https://github.com/krisrs1128/glacier_mapping.git"
          ],
          [
           "<a href=\"https://github.com/weiji14/deepicedrain.git\">DeepIceDrain</a>",
           "Mapping and monitoring deep subglacial water activity in Antarctica using remote sensing and machine learning.",
           "Cryosphere",
           "https://github.com/weiji14/deepicedrain.git"
          ],
          [
           "<a href=\"https://github.com/cryotools/cosipy.git\">cosipy</a>",
           "Solves the energy balance at the surface and is coupled to an adaptive vertical multi-layer subsurface module.",
           "Cryosphere",
           "https://github.com/cryotools/cosipy.git"
          ],
          [
           "<a href=\"https://github.com/nsidc/qgreenland.git\">QGreenland</a>",
           "A free mapping tool to support interdisciplinary Greenland-focused research, teaching, decision making, and collaboration.",
           "Cryosphere",
           "https://github.com/nsidc/qgreenland.git"
          ],
          [
           "<a href=\"https://github.com/jmcook1186/biosnicar-py.git\">BioSNICAR</a>",
           "Predicts the spectral albedo of snow and glacier ice between 200nm to 5000nm given information about the illumination conditions, ice structure and the type and concentration particulates.",
           "Cryosphere",
           "https://github.com/jmcook1186/biosnicar-py.git"
          ],
          [
           "<a href=\"https://github.com/Ouranosinc/raven.git\">Raven</a>",
           "Made to help scientists run hydrological modeling experiments with climate change projections.",
           "Hydrosphere",
           "https://github.com/Ouranosinc/raven.git"
          ],
          [
           "<a href=\"https://github.com/NorESMhub/BLOM.git\">Bergen Layered Ocean Model</a>",
           "Employs an isopycnic vertical coordinate, with near-isopycnic interior layers and variable density layers in the surface mixed boundary layer.",
           "Hydrosphere",
           "https://github.com/NorESMhub/BLOM.git"
          ],
          [
           "<a href=\"https://github.com/CliMA/Oceananigans.jl.git\">Oceananigans.jl</a>",
           "Fast and friendly fluid dynamics on CPUs and GPUs.",
           "Hydrosphere",
           "https://github.com/CliMA/Oceananigans.jl.git"
          ],
          [
           "<a href=\"https://github.com/CliMA/LESbrary.jl.git\">LESbrary.jl</a>",
           "Generating a library of ocean turbulence large eddy simulation data to train ocean and climate models.",
           "Hydrosphere",
           "https://github.com/CliMA/LESbrary.jl.git"
          ],
          [
           "<a href=\"https://github.com/ropensci/rrricanes.git\">rrricanes</a>",
           "An R library that extracts information from Atlantic and east Pacific hurricanes and tropical storms.",
           "Hydrosphere",
           "https://github.com/ropensci/rrricanes.git"
          ],
          [
           "<a href=\"https://github.com/ropensci/hydroscoper.git\">hydroscoper</a>",
           "An R interface to the Greek National Data Bank for Hydrometeorological Information.",
           "Hydrosphere",
           "https://github.com/ropensci/hydroscoper.git"
          ],
          [
           "<a href=\"https://github.com/OpenDrift/opendrift.git\">OpenDrift</a>",
           "A software for modeling the trajectories and fate of objects or substances drifting in the ocean, or even in the atmosphere.",
           "Hydrosphere",
           "https://github.com/OpenDrift/opendrift.git"
          ],
          [
           "<a href=\"https://github.com/hainegroup/oceanspy.git\">OceanSpy</a>",
           "An open source and user-friendly Python package that enables scientists and interested amateurs to analyze and visualize ocean model datasets.",
           "Hydrosphere",
           "https://github.com/hainegroup/oceanspy.git"
          ],
          [
           "<a href=\"https://github.com/team-ocean/veros.git\">Veros</a>",
           "Powerful tool that makes high-performance ocean modeling approachable and fun.",
           "Hydrosphere",
           "https://github.com/team-ocean/veros.git"
          ],
          [
           "<a href=\"https://github.com/DFO-Ocean-Navigator/Ocean-Data-Map-Project.git\">Ocean-Data-Map-Project</a>",
           "A Data Visualization tool that enables users to discover and view 3D ocean model output quickly and easily.",
           "Hydrosphere",
           "https://github.com/DFO-Ocean-Navigator/Ocean-Data-Map-Project.git"
          ],
          [
           "<a href=\"https://github.com/ecjoliver/marineHeatWaves.git\">marineHeatWaves</a>",
           "A module for Python which implements the Marine Heatwave definition of Hobday et al. (2016).",
           "Hydrosphere",
           "https://github.com/ecjoliver/marineHeatWaves.git"
          ],
          [
           "<a href=\"https://github.com/robwschlegel/heatwaveR.git\">heatwaveR</a>",
           "Contains the original functions from the RmarineHeatWaves package that calculate and display marine heatwaves according to the definition of Hobday et al. (2016).",
           "Hydrosphere",
           "https://github.com/robwschlegel/heatwaveR.git"
          ],
          [
           "<a href=\"https://github.com/MITgcm/MITgcm.git\">MITgcm</a>",
           "A flexible non-hydrostatic formulation that efficiently simulates fluid phenomena over a wide range of scales.",
           "Hydrosphere",
           "https://github.com/MITgcm/MITgcm.git"
          ],
          [
           "<a href=\"https://github.com/NCAR/VAPOR.git\">VAPOR</a>",
           "The Visualization and Analysis Platform for Ocean, Atmosphere and Solar Researchers.",
           "Hydrosphere",
           "https://github.com/NCAR/VAPOR.git"
          ],
          [
           "<a href=\"https://github.com/beijbom/coralnet.git\">CoralNet</a>",
           "A repository and resource for benthic image analysis.",
           "Hydrosphere",
           "https://github.com/beijbom/coralnet.git"
          ],
          [
           "<a href=\"https://github.com/NOAA-PMEL/Ferret.git\">Ferret</a>",
           "An interactive computer visualization and analysis environment designed to meet the needs of oceanographers and meteorologists analyzing large and complex gridded datasets.",
           "Hydrosphere",
           "https://github.com/NOAA-PMEL/Ferret.git"
          ],
          [
           "<a href=\"https://github.com/NCAR/ccpp-physics.git\">ccpp-physics</a>",
           "The Common Community Physics Package is designed to facilitate the implementation of physics innovations in state-of-the-art atmospheric models, the use of various models to develop physics, and the acceleration of transition of physics innovations to operational NOAA models.",
           "Hydrosphere",
           "https://github.com/NCAR/ccpp-physics.git"
          ],
          [
           "<a href=\"https://github.com/ropensci/rnoaa.git\">rnoaa</a>",
           "An R interface to many National Oceanic and Atmospheric Administration data sources.",
           "Hydrosphere",
           "https://github.com/ropensci/rnoaa.git"
          ],
          [
           "<a href=\"https://github.com/OceanParcels/parcels.git\">parcels</a>",
           "Can be used to track passive and active particulates such as water, plankton, plastic and fish.",
           "Hydrosphere",
           "https://github.com/OceanParcels/parcels.git"
          ],
          [
           "<a href=\"https://github.com/Mohid-Water-Modelling-System/MOHID-Lagrangian.git\">MOHID-Lagrangian</a>",
           "Mainly developed for oceanographic and fluvial modeling, application to atmospheric and other planetary settings should be trivial.",
           "Hydrosphere",
           "https://github.com/Mohid-Water-Modelling-System/MOHID-Lagrangian.git"
          ],
          [
           "<a href=\"https://github.com/Mohid-Water-Modelling-System/Mohid.git\">Mohid</a>",
           "A modular finite volumes water-modeling system written in ANSI-Fortran95 using an Object-oriented programming philosophy, integrating diverse mathematical models and supporting graphical user interfaces that manage all the pre- and post-processing.",
           "Hydrosphere",
           "https://github.com/Mohid-Water-Modelling-System/Mohid.git"
          ],
          [
           "<a href=\"https://github.com/JuliaOcean/AIBECS.jl.git\">AIBECS.jl</a>",
           "A Julia package that provides ocean biogeochemistry modelers with an easy-to-use interface for creating and running models of the ocean system.",
           "Hydrosphere",
           "https://github.com/JuliaOcean/AIBECS.jl.git"
          ],
          [
           "<a href=\"https://github.com/meom-group/CDFTOOLS.git\">CDFTOOLS</a>",
           "A Fortran package for analysis and diagnostics on NEMO ocean model output.",
           "Hydrosphere",
           "https://github.com/meom-group/CDFTOOLS.git"
          ],
          [
           "<a href=\"https://github.com/gotm-model/code.git\">GOTM</a>",
           "The General Ocean Turbulence Model is an ambitious name for a one-dimensional water column model for marine and limnological applications.",
           "Hydrosphere",
           "https://github.com/gotm-model/code.git"
          ],
          [
           "<a href=\"https://github.com/rabernat/intro_to_physical_oceanography.git\">Intro to Physical Oceanography</a>",
           "Course materials for Introduction to Physical Oceanography.",
           "Hydrosphere",
           "https://github.com/rabernat/intro_to_physical_oceanography.git"
          ],
          [
           "<a href=\"https://github.com/NCAR/wrf_hydro_nwm_public.git\">WRF-Hydro</a>",
           "A community modeling system and framework for hydrologic modeling and model coupling.",
           "Hydrosphere",
           "https://github.com/NCAR/wrf_hydro_nwm_public.git"
          ],
          [
           "<a href=\"https://github.com/UU-Hydro/PCR-GLOBWB_model.git\">PCR-GLOBWB_model</a>",
           "A large-scale hydrological model intended for global to regional studies.",
           "Hydrosphere",
           "https://github.com/UU-Hydro/PCR-GLOBWB_model.git"
          ],
          [
           "<a href=\"https://github.com/hydroshare/hydroshare.git\">HydroShare</a>",
           "A collaborative website for better access to data and models in the hydrologic sciences.",
           "Hydrosphere",
           "https://github.com/hydroshare/hydroshare.git"
          ],
          [
           "<a href=\"https://github.com/DrylandEcology/SOILWAT2.git\">SOILWAT2</a>",
           "An ecosystem water balance simulation model.",
           "Hydrosphere",
           "https://github.com/DrylandEcology/SOILWAT2.git"
          ],
          [
           "<a href=\"https://github.com/passaH2O/dorado.git\">dorado</a>",
           "Simulating passive Lagrangian particle transport over flow-fields from any 2D shallow-water hydrodynamic model using a weighted random walk methodology.",
           "Hydrosphere",
           "https://github.com/passaH2O/dorado.git"
          ],
          [
           "<a href=\"https://github.com/AustralianAntarcticDivision/blueant.git\">Blueant</a>",
           "Environmental data for Antarctic and Southern Ocean science.",
           "Hydrosphere",
           "https://github.com/AustralianAntarcticDivision/blueant.git"
          ],
          [
           "<a href=\"https://github.com/jamesorr/CO2SYS-MATLAB.git\">CO2SYS</a>",
           " A MATLAB (or Octave) project to compute variables of ocean CO2 systems.",
           "Hydrosphere",
           "https://github.com/jamesorr/CO2SYS-MATLAB.git"
          ],
          [
           "<a href=\"https://github.com/jpgattuso/seacarb-git.git\">seacarb</a>",
           "An R package that calculates various parameters of the carbonate system in seawater.",
           "Hydrosphere",
           "https://github.com/jpgattuso/seacarb-git.git"
          ],
          [
           "<a href=\"https://github.com/VeinsOfTheEarth/RivGraph.git\">RivGraph</a>",
           "Extracting and quantifying graphical representations of river and delta channel networks from binary masks.",
           "Hydrosphere",
           "https://github.com/VeinsOfTheEarth/RivGraph.git"
          ],
          [
           "<a href=\"https://github.com/GClunies/noaa_coops.git\">noaa_coops</a>",
           " A Python wrapper for the NOAA CO-OPS Tides & Currents Data and Metadata APIs.",
           "Hydrosphere",
           "https://github.com/GClunies/noaa_coops.git"
          ],
          [
           "<a href=\"https://github.com/COSIMA/cosima-cookbook.git\">COSIMA</a>",
           "Ocean and sea-ice model analysis tools and examples.",
           "Hydrosphere",
           "https://github.com/COSIMA/cosima-cookbook.git"
          ],
          [
           "<a href=\"https://github.com/cordmaur/WaterDetect.git\">WaterDetect</a>",
           "End-to-end algorithm to generate open water cover mask, specially conceived for L2A Sentinel 2 imagery from MAJA1 processor, without any a priori knowledge on the scene.",
           "Hydrosphere",
           "https://github.com/cordmaur/WaterDetect.git"
          ],
          [
           "<a href=\"https://github.com/FLARE-forecast/FLAREr.git\">FLAREr</a>",
           "Flexible, scalable, robust, and near-real time iterative ecological forecasts in lakes and reservoirs.",
           "Hydrosphere",
           "https://github.com/FLARE-forecast/FLAREr.git"
          ],
          [
           "<a href=\"https://github.com/hyriver/hyriver.github.io.git\">HyRiver</a>",
           "A Python software stack for retrieving hydroclimate data from web services.",
           "Hydrosphere",
           "https://github.com/hyriver/hyriver.github.io.git"
          ],
          [
           "<a href=\"https://github.com/Deltares/Wflow.jl.git\">Wflow</a>",
           "A Julia package that provides a hydrological modeling framework, as well as several different vertical and lateral concepts that can be used to run hydrological simulations.",
           "Hydrosphere",
           "https://github.com/Deltares/Wflow.jl.git"
          ],
          [
           "<a href=\"https://github.com/parflow/parflow.git\">ParFlow</a>",
           "An open-source, modular, parallel watershed flow model.",
           "Hydrosphere",
           "https://github.com/parflow/parflow.git"
          ],
          [
           "<a href=\"https://github.com/sdl60660/river-runner.git\">River Runner</a>",
           "Visualize the path of a rain droplet from any point in the contiguous United States to its end point.",
           "Hydrosphere",
           "https://github.com/sdl60660/river-runner.git"
          ],
          [
           "<a href=\"https://github.com/ESIPFed/LakePy.git\">LakePy</a>",
           "Pythonic user-centered front-end to the Global Lake Level Database.",
           "Hydrosphere",
           "https://github.com/ESIPFed/LakePy.git"
          ],
          [
           "<a href=\"https://github.com/mkoohafkan/rivr.git\">rivr</a>",
           "Designed as an educational tool for students and instructors of undergraduate and graduate courses in open channel hydraulics.",
           "Hydrosphere",
           "https://github.com/mkoohafkan/rivr.git"
          ],
          [
           "<a href=\"https://github.com/aqualinkorg/aqualink-app.git\">Aqualink</a>",
           "A philanthropically funded system to help people manage their local marine ecosystems in the face of increasing Ocean temperatures.",
           "Hydrosphere",
           "https://github.com/aqualinkorg/aqualink-app.git"
          ],
          [
           "<a href=\"https://github.com/euroargodev/argopy.git\">argopy</a>",
           "A global network of nearly 4000 autonomous probes measuring pressure, temperature and salinity from the surface to 2000m depth every 10 days.",
           "Hydrosphere",
           "https://github.com/euroargodev/argopy.git"
          ],
          [
           "<a href=\"https://github.com/eWaterCycle/ewatercycle.git\">eWaterCycle</a>",
           "Makes it easier to use hydrological models without having intimate knowledge about how to install and run the models.",
           "Hydrosphere",
           "https://github.com/eWaterCycle/ewatercycle.git"
          ],
          [
           "<a href=\"https://github.com/RHESSys/RHESSys.git\">RHESSys</a>",
           "The Regional Hydro-Ecologic Simulation System.",
           "Hydrosphere",
           "https://github.com/RHESSys/RHESSys.git"
          ],
          [
           "<a href=\"https://github.com/ropensci/tidyhydat.git\">tidyhydat</a>",
           "An R package to import Water Survey of Canada hydrometric data and make it tidy.",
           "Hydrosphere",
           "https://github.com/ropensci/tidyhydat.git"
          ],
          [
           "<a href=\"https://github.com/mvdh7/PyCO2SYS.git\">PyCO2SYS</a>",
           "Marine carbonate system calculations in Python.",
           "Hydrosphere",
           "https://github.com/mvdh7/PyCO2SYS.git"
          ],
          [
           "<a href=\"https://github.com/pastas/pastas.git\">Pastas</a>",
           "An open-source Python framework for the analysis of groundwater time series.",
           "Hydrosphere",
           "https://github.com/pastas/pastas.git"
          ],
          [
           "<a href=\"https://github.com/USGS-R/river-dl.git\">river-dl</a>",
           "Deep learning model for predicting environmental variables on river systems.",
           "Hydrosphere",
           "https://github.com/USGS-R/river-dl.git"
          ],
          [
           "<a href=\"https://github.com/UW-Hydro/VIC.git\">VIC</a>",
           "A macroscale hydrologic model that solves full water and energy balances.",
           "Hydrosphere",
           "https://github.com/UW-Hydro/VIC.git"
          ],
          [
           "<a href=\"https://github.com/badlands-model/badlands.git\">Badlands</a>",
           "Basin and Landscape Dynamics is a long-term surface evolution model built to simulate landscape development, sediment transport and sedimentary basins formation from upstream regions down to marine environments.",
           "Hydrosphere",
           "https://github.com/badlands-model/badlands.git"
          ],
          [
           "<a href=\"https://github.com/Climdyn/qgs.git\">qgs</a>",
           "Models the dynamics of a 2-layer quasi-geostrophic channel atmosphere on a beta-plane, coupled to a simple land or shallow-water ocean component.",
           "Hydrosphere",
           "https://github.com/Climdyn/qgs.git"
          ],
          [
           "<a href=\"https://github.com/onaci/leaflet-velocity.git\">leaflet-velocity</a>",
           "Create a canvas visualization layer for direction and intensity of arbitrary velocities (e.g. wind, ocean current).",
           "Hydrosphere",
           "https://github.com/onaci/leaflet-velocity.git"
          ],
          [
           "<a href=\"https://github.com/chrisleaman/py-wave-runup.git\">py-wave-runup</a>",
           "A Python module which makes it easy for coastal engineers and scientists to test and use various empirical wave runup models which have been published in literature.",
           "Hydrosphere",
           "https://github.com/chrisleaman/py-wave-runup.git"
          ],
          [
           "<a href=\"https://github.com/timduly4/pyglow.git\">pyglow</a>",
           "A Python module that wraps several upper atmosphere climatological models written in FORTRAN.",
           "Atmosphere",
           "https://github.com/timduly4/pyglow.git"
          ],
          [
           "<a href=\"https://github.com/OasisLMF/OasisPiWind.git\">OasisPiWind</a>",
           "PiWind is a wind storm model for a small area of the UK.",
           "Atmosphere",
           "https://github.com/OasisLMF/OasisPiWind.git"
          ],
          [
           "<a href=\"https://github.com/slcs-jsc/mptrac.git\">Massive-Parallel Trajectory Calculations</a>",
           "A Lagrangian particle dispersion model for the analysis of atmospheric transport processes in the free troposphere and stratosphere.",
           "Atmosphere",
           "https://github.com/slcs-jsc/mptrac.git"
          ],
          [
           "<a href=\"https://github.com/NCAR/icar.git\">ICAR</a>",
           "A simplified atmospheric model designed primarily for climate downscaling, atmospheric sensitivity tests, and hopefully educational uses.",
           "Atmosphere",
           "https://github.com/NCAR/icar.git"
          ],
          [
           "<a href=\"https://github.com/rich-iannone/splitr.git\">splitr</a>",
           "We can determine, from one or more receptor sites, where arriving air masses originated.",
           "Atmosphere",
           "https://github.com/rich-iannone/splitr.git"
          ],
          [
           "<a href=\"https://github.com/simonom/PyCHAM.git\">PyCHAM</a>",
           "CHemistry with Aerosol Microphysics in Python box model for Windows, Linux and Mac.",
           "Atmosphere",
           "https://github.com/simonom/PyCHAM.git"
          ],
          [
           "<a href=\"https://github.com/CNES/MAJA.git\">maja</a>",
           "An atmospheric correction and cloud screening software.",
           "Atmosphere",
           "https://github.com/CNES/MAJA.git"
          ],
          [
           "<a href=\"https://github.com/Open-MSS/MSS.git\">Mission Support System</a>",
           "A collaboration server to plan atmospheric research flights.",
           "Atmosphere",
           "https://github.com/Open-MSS/MSS.git"
          ],
          [
           "<a href=\"https://github.com/mjucker/MiMA.git\">MiMA</a>",
           "Model of an idealized Moist Atmosphere: Intermediate-complexity General Circulation Model with full radiation.",
           "Atmosphere",
           "https://github.com/mjucker/MiMA.git"
          ],
          [
           "<a href=\"https://github.com/space-physics/lowtran.git\">lowtran</a>",
           "Atmospheric absorption extinction, scatter and irradiance model in Python and Matlab.",
           "Atmosphere",
           "https://github.com/space-physics/lowtran.git"
          ],
          [
           "<a href=\"https://github.com/ExeClim/Isca.git\">Isca</a>",
           "A framework for the idealized modeling of the global circulation of planetary atmospheres at varying levels of complexity and realism.",
           "Atmosphere",
           "https://github.com/ExeClim/Isca.git"
          ],
          [
           "<a href=\"https://github.com/oceanflux-ghg/FluxEngine.git\">FluxEngine</a>",
           "An open source atmosphere ocean gas flux data processing toolbox.",
           "Atmosphere",
           "https://github.com/oceanflux-ghg/FluxEngine.git"
          ],
          [
           "<a href=\"https://github.com/openeemeter/eeweather.git\">eeweather</a>",
           "Fetch NCDC ISD, TMY3, or CZ2010 weather data that corresponds to ZIP Code Tabulation Areas or Latitude/Longitude.",
           "Atmosphere",
           "https://github.com/openeemeter/eeweather.git"
          ],
          [
           "<a href=\"https://github.com/GralDispersionModel/GRAL.git\">GRAL</a>",
           "Provides a CFD model for the flow calculation around buildings or micrsocale terrain structures.",
           "Atmosphere",
           "https://github.com/GralDispersionModel/GRAL.git"
          ],
          [
           "<a href=\"https://github.com/geoschem/geos-chem.git\">GEOS-Chem</a>",
           "Advance understanding of human and natural influences on the environment through a comprehensive, state-of-the-science, readily accessible global model of atmospheric composition.",
           "Atmosphere",
           "https://github.com/geoschem/geos-chem.git"
          ],
          [
           "<a href=\"https://github.com/E3SM-Project/scream.git\">SCREAM</a>",
           "A global atmosphere model targeted towards 3 km (\"cloud resolving\") resolution.",
           "Atmosphere",
           "https://github.com/E3SM-Project/scream.git"
          ],
          [
           "<a href=\"https://github.com/CliMA/RRTMGP.jl.git\">RRTMGP.jl</a>",
           "A Julia implementation of Rapid and accurate Radiative Transfer Model for General Circulation Models.",
           "Atmosphere",
           "https://github.com/CliMA/RRTMGP.jl.git"
          ],
          [
           "<a href=\"https://github.com/geoschem/gcpy.git\">gcpy</a>",
           "A Python-based toolkit containing useful functions for working specifically with the GEOS-Chem model of atmospheric chemistry and composition.",
           "Atmosphere",
           "https://github.com/geoschem/gcpy.git"
          ],
          [
           "<a href=\"https://github.com/byrd-polar/fluid-earth.git\">Fluid Earth</a>",
           "Open-source Visualization of Weather and Climate Data.",
           "Atmosphere",
           "https://github.com/byrd-polar/fluid-earth.git"
          ],
          [
           "<a href=\"https://github.com/ESMValGroup/ESMValTool.git\">ESMValTool</a>",
           "A community diagnostic and performance metrics tool for routine evaluation of Earth system models in World Climate Research Programme.",
           "Earth and Climate Modeling",
           "https://github.com/ESMValGroup/ESMValTool.git"
          ],
          [
           "<a href=\"https://github.com/NOAA-GFDL/FMS.git\">The Flexible Modeling System</a>",
           "A software framework for supporting the efficient development, construction, execution, and scientific interpretation of atmospheric, oceanic, and climate system models.",
           "Earth and Climate Modeling",
           "https://github.com/NOAA-GFDL/FMS.git"
          ],
          [
           "<a href=\"https://github.com/NOAA-EMC/global-workflow.git\">global-workflow</a>",
           "Global Superstructure/Workflow currently supporting the Finite-Volume on a Cubed-Sphere Global Forecast System.",
           "Earth and Climate Modeling",
           "https://github.com/NOAA-EMC/global-workflow.git"
          ],
          [
           "<a href=\"https://github.com/EarthSystemDiagnostics/sedproxy.git\">sedproxy</a>",
           "An R package for modeling sediment archived climate proxy records.",
           "Earth and Climate Modeling",
           "https://github.com/EarthSystemDiagnostics/sedproxy.git"
          ],
          [
           "<a href=\"https://github.com/pangeo-data/pangeo.git\">pangeo</a>",
           "A community platform for Big Data geoscience.",
           "Earth and Climate Modeling",
           "https://github.com/pangeo-data/pangeo.git"
          ],
          [
           "<a href=\"https://github.com/ESCOMP/CMEPS.git\">CMEPS</a>",
           "The Community Mediator for Earth Prediction Systems (CMEPS) is a NUOPC-compliant Mediator component used for coupling Earth system model component.",
           "Earth and Climate Modeling",
           "https://github.com/ESCOMP/CMEPS.git"
          ],
          [
           "<a href=\"https://github.com/E3SM-Project/E3SM.git\">E3SM</a>",
           "A state-of-the-art fully coupled model of the Earth's climate including important biogeochemical and cryospheric processes.",
           "Earth and Climate Modeling",
           "https://github.com/E3SM-Project/E3SM.git"
          ],
          [
           "<a href=\"https://github.com/E3SM-Project/e3sm_diags.git\">E3SM Diagnostics Package</a>",
           "Diagnostics package constructed for supporting the diagnostics task of DOE's Energy Exascale Earth System Model (E3SM) project.",
           "Earth and Climate Modeling",
           "https://github.com/E3SM-Project/e3sm_diags.git"
          ],
          [
           "<a href=\"https://github.com/NOAA-GFDL/MDTF-diagnostics.git\">MDTF-diagnostics</a>",
           "Analysis framework and collection of process-oriented diagnostics for weather and climate simulations.",
           "Earth and Climate Modeling",
           "https://github.com/NOAA-GFDL/MDTF-diagnostics.git"
          ],
          [
           "<a href=\"https://github.com/ESCOMP/CESM.git\">The Community Earth System Model</a>",
           "Composed of separate models simultaneously simulating the Earth's atmosphere, ocean, land, river run-off, land-ice, and sea-ice, plus one central coupler/moderator component, it allows researchers to conduct fundamental research into the Earth's past, present, and future climate states.",
           "Earth and Climate Modeling",
           "https://github.com/ESCOMP/CESM.git"
          ],
          [
           "<a href=\"https://github.com/JuliaClimate/ClimateBase.jl.git\">ClimateBase.jl</a>",
           "A Julia package offering basic functionality for analyzing data that are typically in the form used by climate sciences.",
           "Earth and Climate Modeling",
           "https://github.com/JuliaClimate/ClimateBase.jl.git"
          ],
          [
           "<a href=\"https://github.com/CliMA/Land.git\">CLIMA-Land</a>",
           "Everything within the Land model (Soil Plant Atmosphere Module, Land Hydrology, etc).",
           "Earth and Climate Modeling",
           "https://github.com/CliMA/Land.git"
          ],
          [
           "<a href=\"https://github.com/LBL-EESA/TECA.git\">TECA</a>",
           "The Toolkit for Extreme Climate Analysis, contains a collection of climate anlysis algorithms targetted at extreme event detection and analysis.",
           "Earth and Climate Modeling",
           "https://github.com/LBL-EESA/TECA.git"
          ],
          [
           "<a href=\"https://github.com/monocongo/climate_indices.git\">Climate_Indices</a>",
           "Contains Python implementations of various climate index algorithms which provide a geographical and temporal picture of the severity of precipitation and temperature anomalies useful for climate monitoring and research.",
           "Earth and Climate Modeling",
           "https://github.com/monocongo/climate_indices.git"
          ],
          [
           "<a href=\"https://github.com/ECCC-ASTD-MRD/gem.git\">The Global Environmental Multiscale Model</a>",
           "An integrated forecasting and data assimilation system developed by the Atmospheric Numerical Prediction Research Section, Meteorological Research Division, of Environment and Climate Change Canada.",
           "Earth and Climate Modeling",
           "https://github.com/ECCC-ASTD-MRD/gem.git"
          ],
          [
           "<a href=\"https://github.com/CliMA/ClimateMachine.jl.git\">ClimateMachine.jl</a>",
           "Climate Machine: an Earth System Model that automatically learns from data.",
           "Earth and Climate Modeling",
           "https://github.com/CliMA/ClimateMachine.jl.git"
          ],
          [
           "<a href=\"https://github.com/ecmwf/atlas.git\">atlas</a>",
           "A library for numerical weather prediction and climate modeling.",
           "Earth and Climate Modeling",
           "https://github.com/ecmwf/atlas.git"
          ],
          [
           "<a href=\"https://github.com/NOAA-GFDL/MOM6.git\">MOM6</a>",
           "A numerical representation of the ocean fluid with applications from the process scale to the planetary circulation scale.",
           "Earth and Climate Modeling",
           "https://github.com/NOAA-GFDL/MOM6.git"
          ],
          [
           "<a href=\"https://github.com/JGCRI/hector.git\">hector</a>",
           "An open source, object-oriented, simple global climate carbon-cycle model.",
           "Earth and Climate Modeling",
           "https://github.com/JGCRI/hector.git"
          ],
          [
           "<a href=\"https://github.com/openclimatedata/pyhector.git\">pyhector</a>",
           "A Python interface for the simple global climate carbon-cycle model Hector.",
           "Earth and Climate Modeling",
           "https://github.com/openclimatedata/pyhector.git"
          ],
          [
           "<a href=\"https://github.com/NorESMhub/NorESM.git\">NorESM</a>",
           "Norwegian Earth System Model and Documentation.",
           "Earth and Climate Modeling",
           "https://github.com/NorESMhub/NorESM.git"
          ],
          [
           "<a href=\"https://github.com/CliMT/climt.git\">CliMT</a>",
           "A Toolkit for building Earth system models in Python.",
           "Earth and Climate Modeling",
           "https://github.com/CliMT/climt.git"
          ],
          [
           "<a href=\"https://github.com/climlab/climlab.git\">climlab</a>",
           "A Python package for process-oriented climate modeling.",
           "Earth and Climate Modeling",
           "https://github.com/climlab/climlab.git"
          ],
          [
           "<a href=\"https://github.com/CLIMADA-project/climada_python.git\">CLIMADA</a>",
           "Stands for CLIMate ADAptation and is a probabilistic natural catastrophe impact model, that also calculates averted damage (benefit) thanks to adaptation measures of any kind (from grey to green infrastructure, behavioural, etc.).",
           "Earth and Climate Modeling",
           "https://github.com/CLIMADA-project/climada_python.git"
          ],
          [
           "<a href=\"https://github.com/ClimateMARGO/ClimateMARGO.jl.git\">ClimateMARGO.jl</a>",
           "A Julia implementation of MARGO, an idealized framework for optimization of climate change control strategies.",
           "Earth and Climate Modeling",
           "https://github.com/ClimateMARGO/ClimateMARGO.jl.git"
          ],
          [
           "<a href=\"https://github.com/JuliaClimate/ClimateTools.jl.git\">ClimateTools.jl</a>",
           "A collection of commonly-used tools in climate science. Basics of climate field analysis are covered, with some forays into exploratory techniques associated with climate scenarios design.",
           "Earth and Climate Modeling",
           "https://github.com/JuliaClimate/ClimateTools.jl.git"
          ],
          [
           "<a href=\"https://github.com/UW-Hydro/MetSim.git\">MetSim</a>",
           "A meteorological simulator and forcing disaggregator for hydrologic modeling and climate applications.",
           "Earth and Climate Modeling",
           "https://github.com/UW-Hydro/MetSim.git"
          ],
          [
           "<a href=\"https://github.com/esmf-org/esmf.git\">ESMF</a>",
           "The Earth System Modeling Framework is a suite of software tools for developing high-performance, multi-component Earth science modeling applications.",
           "Earth and Climate Modeling",
           "https://github.com/esmf-org/esmf.git"
          ],
          [
           "<a href=\"https://github.com/GIS4WRF/gis4wrf.git\">gis4wrf</a>",
           "A free and open source QGIS plug-in to help researchers and practitioners with their Advanced Research Weather Research and Forecasting modeling workflows.",
           "Earth and Climate Modeling",
           "https://github.com/GIS4WRF/gis4wrf.git"
          ],
          [
           "<a href=\"https://github.com/MPAS-Dev/MPAS-Model.git\">MPAS</a>",
           "The Model for Prediction Across Scales is a collaborative project for developing atmosphere, ocean, and other earth-system simulation components for use in climate, regional climate, and weather studies.",
           "Earth and Climate Modeling",
           "https://github.com/MPAS-Dev/MPAS-Model.git"
          ],
          [
           "<a href=\"https://github.com/csdms/pymt.git\">pymt</a>",
           "A Python toolkit for running and coupling Earth surface models.",
           "Earth and Climate Modeling",
           "https://github.com/csdms/pymt.git"
          ],
          [
           "<a href=\"https://github.com/ladybug-tools/dragonfly-legacy.git\">Dragonfly for Grasshopper</a>",
           "Legacy dragonfly plugin for large-scale climate and urban heat island modeling.",
           "Earth and Climate Modeling",
           "https://github.com/ladybug-tools/dragonfly-legacy.git"
          ],
          [
           "<a href=\"https://github.com/fnemina/pyOSOAA.git\">pyOSOAA</a>",
           "A python interface for the Ocean Successive Orders with Atmosphere radiative transfer.",
           "Earth and Climate Modeling",
           "https://github.com/fnemina/pyOSOAA.git"
          ],
          [
           "<a href=\"https://github.com/ecmwf-ifs/ecrad.git\">ECRAD</a>",
           "A radiation scheme suitable for use in atmospheric weather and climate models.",
           "Earth and Climate Modeling",
           "https://github.com/ecmwf-ifs/ecrad.git"
          ],
          [
           "<a href=\"https://github.com/gaelforget/ClimateModels.jl.git\">ClimateModels.jl</a>",
           "Uniform interface to climate models of varying complexity and completeness.",
           "Earth and Climate Modeling",
           "https://github.com/gaelforget/ClimateModels.jl.git"
          ],
          [
           "<a href=\"https://github.com/mzelinka/cmip56_forcing_feedback_ecs.git\">cmip56_forcing_feedback_ecs</a>",
           "Effective climate sensitivity, effective 2xCO2 radiative forcing, and radiative feedbacks for all CMIP5 and CMIP6 models that have published output from abrupt CO2 quadrupling experiments.",
           "Earth and Climate Modeling",
           "https://github.com/mzelinka/cmip56_forcing_feedback_ecs.git"
          ],
          [
           "<a href=\"https://github.com/csyhuang/hn2016_falwa.git\">hn2016_falwa</a>",
           "A Python library for computing Finite-Amplitude Local Wave Activity from climate data.",
           "Earth and Climate Modeling",
           "https://github.com/csyhuang/hn2016_falwa.git"
          ],
          [
           "<a href=\"https://github.com/pangeo-data/climpred.git\">climpred</a>",
           "Aims to be the primary package used to analyze output from initialized dynamical forecast models, ranging from short-term weather forecasts to long-term climate forecasts.",
           "Earth and Climate Modeling",
           "https://github.com/pangeo-data/climpred.git"
          ],
          [
           "<a href=\"https://github.com/SantanderMetGroup/downscaleR.git\">downscaleR</a>",
           "An R package for empirical-statistical downscaling focusing on daily data and covering the most popular approaches (bias correction, Model Output Statistics, Perfect Prognosis) and techniques (e.g. quantile mapping, regression, analogs, neural networks).",
           "Earth and Climate Modeling",
           "https://github.com/SantanderMetGroup/downscaleR.git"
          ],
          [
           "<a href=\"https://github.com/SantanderMetGroup/DeepDownscaling.git\">DeepDownscaling</a>",
           "Deep learning approaches for statistical downscaling in climate.",
           "Earth and Climate Modeling",
           "https://github.com/SantanderMetGroup/DeepDownscaling.git"
          ],
          [
           "<a href=\"https://github.com/chrisroadmap/climateforcing.git\">climateforcing</a>",
           "An incomplete toolbox of scripts and modules used for analysis of climate models and climate data.",
           "Earth and Climate Modeling",
           "https://github.com/chrisroadmap/climateforcing.git"
          ],
          [
           "<a href=\"https://github.com/xgcm/xgcm.git\">xgcm</a>",
           "A Python package for analyzing general circulation model output data.",
           "Earth and Climate Modeling",
           "https://github.com/xgcm/xgcm.git"
          ],
          [
           "<a href=\"https://github.com/MPAS-Dev/MPAS-Analysis.git\">MPAS-Analysis</a>",
           "Provides analysis for the MPAS components of ACME.",
           "Earth and Climate Modeling",
           "https://github.com/MPAS-Dev/MPAS-Analysis.git"
          ],
          [
           "<a href=\"https://github.com/dalesteam/dales.git\">DALES</a>",
           "Dutch Atmospheric Large-Eddy Simulation model.",
           "Earth and Climate Modeling",
           "https://github.com/dalesteam/dales.git"
          ],
          [
           "<a href=\"https://github.com/wrf-model/WRF.git\">WRF</a>",
           "A state-of-the-art atmospheric modeling system designed for both meteorological research and numerical weather prediction.",
           "Earth and Climate Modeling",
           "https://github.com/wrf-model/WRF.git"
          ],
          [
           "<a href=\"https://github.com/NCAR/wrf-python.git\">wrf-python</a>",
           "A collection of diagnostic and interpolation routines for use with output from the Weather Research and Forecasting Model.",
           "Earth and Climate Modeling",
           "https://github.com/NCAR/wrf-python.git"
          ],
          [
           "<a href=\"https://github.com/SERVIR/ClimateSERV2.git\">ClimateSERV</a>",
           "This web application allows development practitioners, scientists/researchers, and government decision-makers to visualize and download historical rainfall data, vegetation condition data, and 180-day forecasts of rainfall and temperature to improve understanding of, and make improved decisions for, issues related to agriculture and water availability.",
           "Earth and Climate Modeling",
           "https://github.com/SERVIR/ClimateSERV2.git"
          ],
          [
           "<a href=\"https://github.com/SERVIR/ClimateSERVpy.git\">ClimateSERVpy</a>",
           "Enables access to the ClimateSERV API where many types of climate data can be subset by area of interest, and time range, then either downloaded as tif, or NetCDf files, or the data can be statistically processed to render json values or csv.",
           "Earth and Climate Modeling",
           "https://github.com/SERVIR/ClimateSERVpy.git"
          ],
          [
           "<a href=\"https://github.com/ropensci/chirps.git\">chirps</a>",
           "A quasi-global high-resolution rainfall data set, which incorporates satellite imagery and in-situ station data to create gridded rainfall time series for trend analysis and seasonal drought monitoring.",
           "Earth and Climate Modeling",
           "https://github.com/ropensci/chirps.git"
          ],
          [
           "<a href=\"https://github.com/pylandtemp/pylandtemp.git\">pylandtemp</a>",
           "Global land surface temperature and emissivity from NASA's Landsat satellite images.",
           "Earth and Climate Modeling",
           "https://github.com/pylandtemp/pylandtemp.git"
          ],
          [
           "<a href=\"https://github.com/forestgeo/Climate.git\">ForestGEO</a>",
           "This public repository is a portal for climate data and information for ForestGEO sites.",
           "Earth and Climate Modeling",
           "https://github.com/forestgeo/Climate.git"
          ],
          [
           "<a href=\"https://github.com/ubilabs/esa-climate-from-space.git\">esa-climate-from-space</a>",
           "The role of the Climate from Space application is to increase the visibility of the Climate Change Initiative programme and the role of ESA satellite data in climate science.",
           "Earth and Climate Modeling",
           "https://github.com/ubilabs/esa-climate-from-space.git"
          ],
          [
           "<a href=\"https://github.com/pytroll/pygac.git\">pygac</a>",
           "A Python package to read and calibrate NOAA and Metop AVHRR GAC and LAC data.",
           "Earth and Climate Modeling",
           "https://github.com/pytroll/pygac.git"
          ],
          [
           "<a href=\"https://github.com/bluegreen-labs/ecmwfr.git\">ecmwfr</a>",
           "Provides easy access to the European Centre for Medium-Range Weather Forecasts web API services and Copernicus Climate Data Store from within R, matching and expanding upon the ECMWF Python tools.",
           "Earth and Climate Modeling",
           "https://github.com/bluegreen-labs/ecmwfr.git"
          ],
          [
           "<a href=\"https://github.com/E3SM-Project/gdess.git\">GDESS</a>",
           "Tool for evaluating atmospheric carbon dioxide concentrations as simulated by Earth system models.",
           "Earth and Climate Modeling",
           "https://github.com/E3SM-Project/gdess.git"
          ],
          [
           "<a href=\"https://github.com/google-research/ARCO-ERA5.git\">Analysis-Ready, Cloud Optimized ERA5</a>",
           "A global history of the climate highly accessible in the cloud.",
           "Earth and Climate Modeling",
           "https://github.com/google-research/ARCO-ERA5.git"
          ],
          [
           "<a href=\"https://github.com/RemoteSensingTools/vSmartMOM.jl.git\">RadiativeTransfer.jl</a>",
           "A full end-to-end modular software suite for radiative transfer and related atmospheric analysis.",
           "Radiative Transfer",
           "https://github.com/RemoteSensingTools/vSmartMOM.jl.git"
          ],
          [
           "<a href=\"https://github.com/earth-system-radiation/rte-rrtmgp.git\">RTE+RRTMGP</a>",
           "A set of codes for computing radiative fluxes in planetary atmospheres.",
           "Radiative Transfer",
           "https://github.com/earth-system-radiation/rte-rrtmgp.git"
          ],
          [
           "<a href=\"https://github.com/AER-RC/LBLRTM.git\">LBLRTM</a>",
           "Line-By-Line Radiative Transfer Model is an accurate and efficient line-by-line radiative transfer model derived from the Fast Atmospheric Signature Code.",
           "Radiative Transfer",
           "https://github.com/AER-RC/LBLRTM.git"
          ],
          [
           "<a href=\"https://github.com/eradiate/eradiate.git\">Eradiate</a>",
           "A next-generation radiative transfer model for Earth observation applications.",
           "Radiative Transfer",
           "https://github.com/eradiate/eradiate.git"
          ],
          [
           "<a href=\"https://github.com/slcs-jsc/jurassic.git\">Juelich Rapid Spectral Simulation Code</a>",
           "The Juelich Rapid Spectral Simulation Code (JURASSIC) is a fast infrared radiative transfer model for the analysis of atmospheric remote sensing measurements.",
           "Radiative Transfer",
           "https://github.com/slcs-jsc/jurassic.git"
          ],
          [
           "<a href=\"https://github.com/tenstream/tenstream.git\">Tenstream</a>",
           "A 3D radiative transfer solver for earth system models.",
           "Radiative Transfer",
           "https://github.com/tenstream/tenstream.git"
          ],
          [
           "<a href=\"https://github.com/open-meteo/open-meteo.git\">Open-Meteo</a>",
           "Global weather API for non-commercial use with hourly weather forecast.",
           "Meteorological Observation and Forecast",
           "https://github.com/open-meteo/open-meteo.git"
          ],
          [
           "<a href=\"https://github.com/ropensci/weathercan.git\">weathercan</a>",
           "This package makes it easier to search for and download multiple months/years of historical weather data from the Environment and Climate Change Canada (ECCC) website.",
           "Meteorological Observation and Forecast",
           "https://github.com/ropensci/weathercan.git"
          ],
          [
           "<a href=\"https://github.com/eliocamp/metR.git\">metR</a>",
           "Several functions and utilities that make R better for handling meteorological data in the tidy data paradigm.",
           "Meteorological Observation and Forecast",
           "https://github.com/eliocamp/metR.git"
          ],
          [
           "<a href=\"https://github.com/bczernecki/climate.git\">climate</a>",
           "The goal of the climate R package is to automatize downloading of meteorological and hydrological data from publicly available repositories.",
           "Meteorological Observation and Forecast",
           "https://github.com/bczernecki/climate.git"
          ],
          [
           "<a href=\"https://github.com/brry/rdwd.git\">rdwd</a>",
           "An R package to select, download and read climate data from the German Weather Service.",
           "Meteorological Observation and Forecast",
           "https://github.com/brry/rdwd.git"
          ],
          [
           "<a href=\"https://github.com/earthobservations/wetterdienst.git\">wetterdienst</a>",
           "Trying to make access to weather data in Python feel like a warm summer breeze.",
           "Meteorological Observation and Forecast",
           "https://github.com/earthobservations/wetterdienst.git"
          ],
          [
           "<a href=\"https://github.com/Unidata/awips2.git\">AWIPS</a>",
           "The Advanced Weather Interactive Processing System is a meteorological display and analysis package originally developed by the National Weather Service and Raytheon.",
           "Meteorological Observation and Forecast",
           "https://github.com/Unidata/awips2.git"
          ],
          [
           "<a href=\"https://github.com/cf-convention/cf-conventions.git\">cf-conventions</a>",
           "The conventions for CF (Climate and Forecast) metadata are designed to promote the processing and sharing of files created with the NetCDF API.",
           "Climate Data Processing and Access",
           "https://github.com/cf-convention/cf-conventions.git"
          ],
          [
           "<a href=\"https://github.com/NCAS-CMS/cf-python.git\">cf-python</a>",
           "A CF-compliant Earth Science data analysis library.",
           "Climate Data Processing and Access",
           "https://github.com/NCAS-CMS/cf-python.git"
          ],
          [
           "<a href=\"https://github.com/xCDAT/xcdat.git\">xCDAT</a>",
           "An extension of xarray for climate data analysis on structured grids.",
           "Climate Data Processing and Access",
           "https://github.com/xCDAT/xcdat.git"
          ],
          [
           "<a href=\"https://github.com/orbisgis/geoclimate.git\">Geoclimate</a>",
           "Geospatial processing toolbox for environmental and climate studies.",
           "Climate Data Processing and Access",
           "https://github.com/orbisgis/geoclimate.git"
          ],
          [
           "<a href=\"https://github.com/meteostat/meteostat-python.git\">Meteostat Python</a>",
           "Access and analyze historical weather and climate data with Python.",
           "Climate Data Processing and Access",
           "https://github.com/meteostat/meteostat-python.git"
          ],
          [
           "<a href=\"https://github.com/carbonplan/cmip6-downscaling.git\">cmip6-downscaling</a>",
           "Climate downscaling using CMIP6 data.",
           "Climate Data Processing and Access",
           "https://github.com/carbonplan/cmip6-downscaling.git"
          ],
          [
           "<a href=\"https://github.com/google/weather-tools.git\">weather-tools</a>",
           "A series of command-line tools to make common data engineering tasks easier for researchers in climate and weather.",
           "Climate Data Processing and Access",
           "https://github.com/google/weather-tools.git"
          ],
          [
           "<a href=\"https://github.com/SantanderMetGroup/loadeR.git\">loadeR</a>",
           "An R package for climate data access building on the NetCDF-Java API.",
           "Climate Data Processing and Access",
           "https://github.com/SantanderMetGroup/loadeR.git"
          ],
          [
           "<a href=\"https://github.com/SantanderMetGroup/climate4R.git\">climate4R</a>",
           "A bundle of R packages for transparent climate data access, post-processing (including data collocation and bias correction / downscaling) and visualization.",
           "Climate Data Processing and Access",
           "https://github.com/SantanderMetGroup/climate4R.git"
          ],
          [
           "<a href=\"https://github.com/meteoinfo/MeteoInfo.git\">MeteoInfo</a>",
           "GIS and scientific computation environment for meteorological community.",
           "Climate Data Processing and Access",
           "https://github.com/meteoinfo/MeteoInfo.git"
          ],
          [
           "<a href=\"https://github.com/ropensci/GSODR.git\">GSODR</a>",
           "Global Surface Summary of the Day Weather Data Client for R.",
           "Climate Data Processing and Access",
           "https://github.com/ropensci/GSODR.git"
          ],
          [
           "<a href=\"https://github.com/VeruGHub/easyclimate.git\">easyclimate</a>",
           "Easy access to high-resolution daily climate data for Europe.",
           "Climate Data Processing and Access",
           "https://github.com/VeruGHub/easyclimate.git"
          ],
          [
           "<a href=\"https://github.com/pik-primap/climate_categories.git\">Climate categories</a>",
           "Commonly used codes, categories, terminologies, and nomenclatures used in climate policy analysis in a nice Python package.",
           "Climate Data Processing and Access",
           "https://github.com/pik-primap/climate_categories.git"
          ],
          [
           "<a href=\"https://github.com/aaronspring/remote_climate_data.git\">remote_climate_data</a>",
           "A collection of remote climate data accessed via intake cached to disk.",
           "Climate Data Processing and Access",
           "https://github.com/aaronspring/remote_climate_data.git"
          ],
          [
           "<a href=\"https://github.com/IPCC-WG1/Chapter-9.git\">IPCC AR6 Chapter 9 Figures</a>",
           "Code and data for all figures from Chapter 9 of the IPCC AR6.",
           "Climate Data Processing and Access",
           "https://github.com/IPCC-WG1/Chapter-9.git"
          ],
          [
           "<a href=\"https://github.com/cerfacs-globc/icclim.git\">icclim</a>",
           "Python library for climate indices and climate indicators calculation.",
           "Climate Data Processing and Access",
           "https://github.com/cerfacs-globc/icclim.git"
          ],
          [
           "<a href=\"https://github.com/deepsphere/deepsphere-pytorch.git\">DeepSphere</a>",
           "Learning on the sphere with a graph-based ConvNet.",
           "Climate Data Processing and Access",
           "https://github.com/deepsphere/deepsphere-pytorch.git"
          ],
          [
           "<a href=\"https://github.com/roocs/clisops.git\">clisops</a>",
           "Climate simulation operations.",
           "Climate Data Processing and Access",
           "https://github.com/roocs/clisops.git"
          ],
          [
           "<a href=\"https://github.com/SantanderMetGroup/ATLAS.git\">ATLAS</a>",
           "Datasets, code and virtual workspace for the Climate Change ATLAS.",
           "Climate Data Processing and Access",
           "https://github.com/SantanderMetGroup/ATLAS.git"
          ],
          [
           "<a href=\"https://github.com/Ouranosinc/xclim.git\">xclim</a>",
           "A library of derived climate variables, i.e. climate indicators, based on xarray.",
           "Climate Data Processing and Access",
           "https://github.com/Ouranosinc/xclim.git"
          ],
          [
           "<a href=\"https://github.com/ARCCSS-extremes/climpact.git\">climpact</a>",
           "Calculate the ET-SCI climate extremes indices.",
           "Climate Data Processing and Access",
           "https://github.com/ARCCSS-extremes/climpact.git"
          ],
          [
           "<a href=\"https://github.com/ropensci/prism.git\">PRISM</a>",
           "Download data from the Oregon PRISM climate data project.",
           "Climate Data Processing and Access",
           "https://github.com/ropensci/prism.git"
          ],
          [
           "<a href=\"https://github.com/ropensci/clifro.git\">CliFlo</a>",
           "Easily download and visualise climate data from New Zealand's National Climate Database.",
           "Climate Data Processing and Access",
           "https://github.com/ropensci/clifro.git"
          ],
          [
           "<a href=\"https://github.com/Yuanchao-Xu/hyfo.git\">hyfo</a>",
           "Mainly focuses on data process and visualization in hydrology and climate forecasting.",
           "Climate Data Processing and Access",
           "https://github.com/Yuanchao-Xu/hyfo.git"
          ],
          [
           "<a href=\"https://github.com/nasa/NASAaccess.git\">NASAaccess</a>",
           "An R package that can generate gridded ASCII tables of climate (CIMP5) and weather data (GPM, TRMM, GLDAS) needed to drive various hydrological models (e.g. SWAT, VIC, RHESSys).",
           "Climate Data Processing and Access",
           "https://github.com/nasa/NASAaccess.git"
          ],
          [
           "<a href=\"https://github.com/CCI-Tools/cate.git\">Cate</a>",
           "A software for ingesting, operating on and visualizing all ESA Climate Change Initiative data.",
           "Climate Data Processing and Access",
           "https://github.com/CCI-Tools/cate.git"
          ],
          [
           "<a href=\"https://github.com/ecmwf/climetlab.git\">climetlab</a>",
           "A Python package aiming at simplifying access to climate and meteorological datasets, allowing users to focus on science instead of technical issues such as data access and data formats.",
           "Climate Data Processing and Access",
           "https://github.com/ecmwf/climetlab.git"
          ],
          [
           "<a href=\"https://github.com/ecmwf/cdsapi.git\">cdsapi</a>",
           "Python API to access the Copernicus Climate Data Store.",
           "Climate Data Processing and Access",
           "https://github.com/ecmwf/cdsapi.git"
          ],
          [
           "<a href=\"https://github.com/Unidata/netcdf-fortran.git\">netcdf-fortran</a>",
           "The Unidata network Common Data Form (netCDF) in Fortran is an interface for scientific data access and a set of freely-distributed software libraries that provide an implementation of the interface.",
           "Climate Data Processing and Access",
           "https://github.com/Unidata/netcdf-fortran.git"
          ],
          [
           "<a href=\"https://github.com/Unidata/netcdf-c.git\">netcdf-c</a>",
           "The Unidata network Common Data Form (netCDF) in C is an interface for scientific data access and a set of freely-distributed software libraries that provide an implementation of the interface.",
           "Climate Data Processing and Access",
           "https://github.com/Unidata/netcdf-c.git"
          ],
          [
           "<a href=\"https://github.com/Unidata/netcdf4-python.git\">netcdf-python</a>",
           "The Unidata network Common Data Form (netCDF) in Python is an interface for scientific data access and a set of freely-distributed software libraries that provide an implementation of the interface.",
           "Climate Data Processing and Access",
           "https://github.com/Unidata/netcdf4-python.git"
          ],
          [
           "<a href=\"https://github.com/zmlabe/IceVarFigs.git\">IceVarFigs</a>",
           "Weather and climate graphics for science communication.",
           "Climate Data Processing and Access",
           "https://github.com/zmlabe/IceVarFigs.git"
          ],
          [
           "<a href=\"https://github.com/rOpenSpain/climaemet.git\">climaemet</a>",
           "An interface to download the climatic data of the Spanish Meteorological Agency directly from R using their API and create scientific graphs.",
           "Climate Data Processing and Access",
           "https://github.com/rOpenSpain/climaemet.git"
          ],
          [
           "<a href=\"https://github.com/PCMDI/cmor.git\">Climate Model Output Rewriter</a>",
           "Produce CF-compliant netCDF files that fulfill the requirements of many of the climate community's standard model experiments.",
           "Climate Data Processing and Access",
           "https://github.com/PCMDI/cmor.git"
          ],
          [
           "<a href=\"https://github.com/NCAR/ncl.git\">NCL</a>",
           "The NCAR Command Language is a scripting language for the analysis and visualization of climate and weather data.",
           "Climate Data Processing and Access",
           "https://github.com/NCAR/ncl.git"
          ],
          [
           "<a href=\"https://github.com/xarray-contrib/xskillscore.git\">xskillscore</a>",
           "An open source project and Python package that provides verification metrics of deterministic (and probabilistic from properscoring) forecasts with xarray.",
           "Climate Data Processing and Access",
           "https://github.com/xarray-contrib/xskillscore.git"
          ],
          [
           "<a href=\"https://github.com/ropensci/getCRUCLdata.git\">getCRUCLdata</a>",
           "Provides functions that automate importing CRU CL v. 2.0 climatology data into R.",
           "Climate Data Processing and Access",
           "https://github.com/ropensci/getCRUCLdata.git"
          ],
          [
           "<a href=\"https://github.com/cortinah/hockeystick.git\">hockeystick</a>",
           "Make essential Climate Change datasets easily available to non-climate experts.",
           "Climate Data Processing and Access",
           "https://github.com/cortinah/hockeystick.git"
          ],
          [
           "<a href=\"https://github.com/ecmwf/cfgrib.git\">cfgrib</a>",
           "A Python interface to map GRIB files to the NetCDF Common Data Model following the CF Convention using ecCodes.",
           "Climate Data Processing and Access",
           "https://github.com/ecmwf/cfgrib.git"
          ],
          [
           "<a href=\"https://github.com/ideas-lab-nus/epwshiftr.git\">epwshiftr</a>",
           "Create future EnergyPlus Weather files using CMIP6 data.",
           "Climate Data Processing and Access",
           "https://github.com/ideas-lab-nus/epwshiftr.git"
          ],
          [
           "<a href=\"https://github.com/ropensci/bomrang.git\">bomrang</a>",
           "Australian government Bureau of Meteorology (BOM) data client for R.",
           "Climate Data Processing and Access",
           "https://github.com/ropensci/bomrang.git"
          ],
          [
           "<a href=\"https://github.com/intake/intake-esm.git\">Intake-esm</a>",
           "An intake plugin for parsing an Earth System Model catalog and loading assets into xarray datasets.",
           "Climate Data Processing and Access",
           "https://github.com/intake/intake-esm.git"
          ],
          [
           "<a href=\"https://github.com/h5netcdf/h5netcdf.git\">h5netcdf</a>",
           "A Python interface for the netCDF4 file format that reads and writes local or remote HDF5 files directly via h5py or h5pyd, without relying on the Unidata netCDF library.",
           "Climate Data Processing and Access",
           "https://github.com/h5netcdf/h5netcdf.git"
          ],
          [
           "<a href=\"https://github.com/boshek/rsoi.git\">rsoi</a>",
           "An R package to download the most up to date climate indices.",
           "Climate Data Processing and Access",
           "https://github.com/boshek/rsoi.git"
          ],
          [
           "<a href=\"https://github.com/nco/nco.git\">NCO</a>",
           "Manipulates and analyzes data stored in netCDF-accessible formats.",
           "Climate Data Processing and Access",
           "https://github.com/nco/nco.git"
          ],
          [
           "<a href=\"https://github.com/nco/pynco.git\">pynco</a>",
           "Contains the module python nco, which implements a Python style access to the NetCDF Operators (NCO).",
           "Climate Data Processing and Access",
           "https://github.com/nco/pynco.git"
          ],
          [
           "<a href=\"https://github.com/mikejohnson51/climateR.git\">climateR</a>",
           "An R package for getting point and gridded climate data by AOI.",
           "Climate Data Processing and Access",
           "https://github.com/mikejohnson51/climateR.git"
          ],
          [
           "<a href=\"https://github.com/metno/esd.git\">esd</a>",
           "Designed for climate and weather data analysis, empirical-statistical downscaling, and visualisation.",
           "Climate Data Processing and Access",
           "https://github.com/metno/esd.git"
          ],
          [
           "<a href=\"https://github.com/mathworks/climatedatastore.git\">Climate Data Store Toolbox for MATLAB</a>",
           "This toolbox allows you to easily access data and download hundreds of data sets associated with climate change for analysis in MATLAB.",
           "Climate Data Processing and Access",
           "https://github.com/mathworks/climatedatastore.git"
          ],
          [
           "<a href=\"https://github.com/petermr/semanticClimate.git\">semanticClimate</a>",
           "Conversion of IPCC documents into semantic form.",
           "Climate Data Processing and Access",
           "https://github.com/petermr/semanticClimate.git"
          ],
          [
           "<a href=\"https://github.com/Ouranosinc/miranda.git\">Miranda</a>",
           "A modern Python utility library for climate data collection and management.",
           "Climate Data Processing and Access",
           "https://github.com/Ouranosinc/miranda.git"
          ],
          [
           "<a href=\"https://github.com/iiasa/message_ix.git\">MESSAGEix</a>",
           "A versatile, dynamic systems-optimization modeling framework developed by the IIASA Energy, Climate, and Environment (ECE) Program since the 1980s.",
           "Integrated Assessment",
           "https://github.com/iiasa/message_ix.git"
          ],
          [
           "<a href=\"https://github.com/Libbum/DICE.jl.git\">DICE.jl</a>",
           "The Dynamic Integrated model of Climate and the Economy model family are a popular and capable type of simple Integrated Assessment Model of climate change economics pioneered by William Nordhaus.",
           "Integrated Assessment",
           "https://github.com/Libbum/DICE.jl.git"
          ],
          [
           "<a href=\"https://github.com/iiasa/ENGAGE-netzero-analysis.git\">ENGAGE</a>",
           "Source code for figure generation and analysis of the ENGAGE netzero scenario analysis.",
           "Integrated Assessment",
           "https://github.com/iiasa/ENGAGE-netzero-analysis.git"
          ],
          [
           "<a href=\"https://github.com/IAMconsortium/pyam.git\">pyam</a>",
           "A Python package for data-wrangling, analysis and visualization of integrated-assessment scenarios and energy systems modeling results.",
           "Integrated Assessment",
           "https://github.com/IAMconsortium/pyam.git"
          ],
          [
           "<a href=\"https://github.com/JGCRI/gcam-core.git\">GCAM</a>",
           "A dynamic-recursive model with technology-rich representations of the economy, energy sector, land use and water linked to a climate model that can be used to explore climate change mitigation policies including carbon taxes, carbon trading, regulations and accelerated deployment of energy technology.",
           "Integrated Assessment",
           "https://github.com/JGCRI/gcam-core.git"
          ],
          [
           "<a href=\"https://github.com/pik-piam/mrremind.git\">mrremind</a>",
           "MadRat REMIND Input Data Package.",
           "Integrated Assessment",
           "https://github.com/pik-piam/mrremind.git"
          ],
          [
           "<a href=\"https://github.com/pik-piam/edgeTransport.git\">edgeTransport</a>",
           "Prepare EDGE Transport Data for the REMIND model.",
           "Integrated Assessment",
           "https://github.com/pik-piam/edgeTransport.git"
          ],
          [
           "<a href=\"https://github.com/USEPA/CMAQ.git\">CMAQ</a>",
           "Code base for the U.S. EPA's Community Multiscale Air Quality Model.",
           "Air Quality",
           "https://github.com/USEPA/CMAQ.git"
          ],
          [
           "<a href=\"https://github.com/USEPA/AMET.git\">AMET</a>",
           "A suite of software designed to facilitate the analysis and evaluation of predictions from meteorological and air quality models.",
           "Air Quality",
           "https://github.com/USEPA/AMET.git"
          ],
          [
           "<a href=\"https://github.com/shootismoke/mobile-app.git\">shoot-i-smoke</a>",
           "See your city's air pollution measured in daily cigarettes.",
           "Air Quality",
           "https://github.com/shootismoke/mobile-app.git"
          ],
          [
           "<a href=\"https://github.com/jsynowiec/airqmon.git\">airqmon</a>",
           "A macOS menu bar application that displays live air quality data from the nearest sensor station.",
           "Air Quality",
           "https://github.com/jsynowiec/airqmon.git"
          ],
          [
           "<a href=\"https://github.com/opendata-stuttgart/sensors-software.git\">opendata-stuttgart</a>",
           "The maintained main firmware for the Luftdaten.Info Sensor.",
           "Air Quality",
           "https://github.com/opendata-stuttgart/sensors-software.git"
          ],
          [
           "<a href=\"https://github.com/davidcarslaw/openair.git\">openair</a>",
           "An R package developed for the purpose of analyzing air quality data — or more generally atmospheric composition data.",
           "Air Quality",
           "https://github.com/davidcarslaw/openair.git"
          ],
          [
           "<a href=\"https://github.com/USEPA/Air-Trends-Report.git\">Air-Trends-Report</a>",
           "Source code for EPA's annual air trends report on air quality, emissions and visibility trends.",
           "Air Quality",
           "https://github.com/USEPA/Air-Trends-Report.git"
          ],
          [
           "<a href=\"https://github.com/openaq/openaq-api-v2.git\">OpenAQ API Version 2</a>",
           "A web-accessible API that provides endpoints to query the real-time and historical air quality measurements on the platform.",
           "Air Quality",
           "https://github.com/openaq/openaq-api-v2.git"
          ],
          [
           "<a href=\"https://github.com/openaq/openaq-fetch.git\">OpenAQ Data Ingest Pipeline</a>",
           "A tool to collect data for OpenAQ platform.",
           "Air Quality",
           "https://github.com/openaq/openaq-fetch.git"
          ],
          [
           "<a href=\"https://github.com/mainmatter/breethe-server.git\">breethe-server</a>",
           "Breethe allows instant access to up to date air quality data for locations in Europe.",
           "Air Quality",
           "https://github.com/mainmatter/breethe-server.git"
          ],
          [
           "<a href=\"https://github.com/CEMPD/SMOKE.git\">SMOKE</a>",
           "Create emissions inputs for multiple air quality modeling systems with unmatched speed and flexibility.",
           "Air Quality",
           "https://github.com/CEMPD/SMOKE.git"
          ],
          [
           "<a href=\"https://github.com/spatialmodel/inmap.git\">inmap</a>",
           "A multi-scale emissions-to-health impact model for fine particulate matter (PM2.5) that mechanistically evaluates air quality and health benefits of perturbations to baseline emissions.",
           "Air Quality",
           "https://github.com/spatialmodel/inmap.git"
          ],
          [
           "<a href=\"https://github.com/metno/emep-ctm.git\">Open Source EMEP MSC-W model</a>",
           "Designed to calculate air concentrations and deposition fields for major acidifying and eutrophying pollutants, photo-oxidants and particulate matter.",
           "Air Quality",
           "https://github.com/metno/emep-ctm.git"
          ],
          [
           "<a href=\"https://github.com/shuowang-ai/PM2.5-GNN.git\">PM2.5-GNN</a>",
           "A Domain Knowledge Enhanced Graph Neural Network For PM2.5 Forecasting.",
           "Air Quality",
           "https://github.com/shuowang-ai/PM2.5-GNN.git"
          ],
          [
           "<a href=\"https://github.com/ropensci/rdefra.git\">rdefra</a>",
           "Interact with the UK AIR Pollution Database from DEFRA.",
           "Air Quality",
           "https://github.com/ropensci/rdefra.git"
          ],
          [
           "<a href=\"https://github.com/skgrange/rmweather.git\">rmweather</a>",
           "An R package to conduct meteorological/weather normalisation on air quality so trends and interventions can be investigated in a robust way.",
           "Air Quality",
           "https://github.com/skgrange/rmweather.git"
          ],
          [
           "<a href=\"https://github.com/openoakland/woeip.git\">West Oakland Air Quality Project</a>",
           "A platform for impacted communities to understand their local air quality and advocate for environmental justice.",
           "Air Quality",
           "https://github.com/openoakland/woeip.git"
          ],
          [
           "<a href=\"https://github.com/opendata-stuttgart/sensor.community.git\">Sensor.Community</a>",
           "Making the world a better place through community driven, open environmental data.",
           "Air Quality",
           "https://github.com/opendata-stuttgart/sensor.community.git"
          ],
          [
           "<a href=\"https://github.com/sensebox/openSenseMap.git\">openSenseMap</a>",
           "Wikipedia for environmental data in order to awaken and promote education, environmental and climate protection.",
           "Air Quality",
           "https://github.com/sensebox/openSenseMap.git"
          ],
          [
           "<a href=\"https://github.com/JGCRI/rfasst.git\">rfasst</a>",
           "Estimation of a consistent range of adverse health and agricultural effects attributable to air pollution for a GCAM scenario.",
           "Air Quality",
           "https://github.com/JGCRI/rfasst.git"
          ],
          [
           "<a href=\"https://github.com/skgrange/saqgetr.git\">saqgetr</a>",
           "Import Air Quality Monitoring Data in a Fast and Easy Way.",
           "Air Quality",
           "https://github.com/skgrange/saqgetr.git"
          ],
          [
           "<a href=\"https://github.com/Ozon3Org/Ozon3.git\">Ozone</a>",
           "An open-source package to easily obtain real-time, historical, or forecasted air quality data for anywhere in the world.",
           "Air Quality",
           "https://github.com/Ozon3Org/Ozon3.git"
          ],
          [
           "<a href=\"https://github.com/USEPA/RAQSAPI.git\">RAQSAPI</a>",
           "Retrieve data from the United States Environmental Protection Agency's Air Quality Systems.",
           "Air Quality",
           "https://github.com/USEPA/RAQSAPI.git"
          ],
          [
           "<a href=\"https://github.com/ropensci/qualR.git\">qualR</a>",
           "Download of air pollutants and meteorological information from CETESB QUALAR System for São Paulo, and MonitorAr Program, for Rio de Janeiro.",
           "Air Quality",
           "https://github.com/ropensci/qualR.git"
          ],
          [
           "<a href=\"https://github.com/USEPA/Stormwater-Management-Model.git\">Stormwater-Management-Model</a>",
           "Used for single event or long-term (continuous) simulation of runoff quantity and quality from primarily urban areas.",
           "Water Supply and Quality",
           "https://github.com/USEPA/Stormwater-Management-Model.git"
          ],
          [
           "<a href=\"https://github.com/USGS-R/dataRetrieval.git\">dataRetrieval</a>",
           "This R package is designed to obtain USGS or EPA water quality sample data, streamflow data and metadata directly from web services.",
           "Water Supply and Quality",
           "https://github.com/USGS-R/dataRetrieval.git"
          ],
          [
           "<a href=\"https://github.com/USGS-R/EGRET.git\">EGRET</a>",
           "An R package for the analysis of long-term changes in water quality and streamflow, including the water-quality method Weighted Regressions on Time, Discharge, and Season.",
           "Water Supply and Quality",
           "https://github.com/USGS-R/EGRET.git"
          ],
          [
           "<a href=\"https://github.com/lanl-ansi/WaterModels.jl.git\">WaterModels.jl</a>",
           "Designed to enable computational evaluation of historical and emerging water network formulations and algorithms using a common platform.",
           "Water Supply and Quality",
           "https://github.com/lanl-ansi/WaterModels.jl.git"
          ],
          [
           "<a href=\"https://github.com/NOAA-OWP/t-route.git\">Tree-based Inland Hydraulic Routing Project</a>",
           "The program under development here seeks to effectively manage the traversal of a network of streams with defined hydraulic properties specifically for the purpose of hydraulic routing in an operational flood and water resources forecasting system.",
           "Water Supply and Quality",
           "https://github.com/NOAA-OWP/t-route.git"
          ],
          [
           "<a href=\"https://github.com/NOAA-OWP/ngen.git\">Next Gen Water Modeling Framework</a>",
           "This framework includes an encapsulation strategy which focuses on the hydrologic data first, and then builds a functional abstraction of hydrologic behavior.",
           "Water Supply and Quality",
           "https://github.com/NOAA-OWP/ngen.git"
          ],
          [
           "<a href=\"https://github.com/USGS-R/nhdplusTools.git\">nhdplusTools</a>",
           "This package is a growing set of tools for manipulation of hydrographic data using the NHDPlus data model.",
           "Water Supply and Quality",
           "https://github.com/USGS-R/nhdplusTools.git"
          ],
          [
           "<a href=\"https://github.com/codeforboston/safe-water.git\">The Safe Water Project</a>",
           "A team of volunteers at Code for Boston who are using data modeling, data visualization and machine learning to predict, visualize, and share data about the presence of hazardous drinking and surface water contaminants in the United States.",
           "Water Supply and Quality",
           "https://github.com/codeforboston/safe-water.git"
          ],
          [
           "<a href=\"https://github.com/mroberge/hydrofunctions.git\">HydroFunctions</a>",
           "A suite of convenience functions for working with hydrology data in an interactive Python session.",
           "Water Supply and Quality",
           "https://github.com/mroberge/hydrofunctions.git"
          ],
          [
           "<a href=\"https://github.com/AquaticEcoDynamics/GLM.git\">The General Lake Model</a>",
           "A water balance and one-dimensional vertical stratification hydrodynamic model.",
           "Water Supply and Quality",
           "https://github.com/AquaticEcoDynamics/GLM.git"
          ],
          [
           "<a href=\"https://github.com/jsta/nhdR.git\">nhdR</a>",
           "An R interface to the US National Hydrography Dataset.",
           "Water Supply and Quality",
           "https://github.com/jsta/nhdR.git"
          ],
          [
           "<a href=\"https://github.com/MODFLOW-USGS/modflow6.git\">modflow6</a>",
           "Has been widely used by academics, private consultants, and government scientists to accurately, reliably, and efficiently simulate groundwater flow.",
           "Water Supply and Quality",
           "https://github.com/MODFLOW-USGS/modflow6.git"
          ],
          [
           "<a href=\"https://github.com/mdbartos/pysheds.git\">pysheds</a>",
           "Simple and fast watershed delineation in Python.",
           "Water Supply and Quality",
           "https://github.com/mdbartos/pysheds.git"
          ],
          [
           "<a href=\"https://github.com/jblindsay/whitebox-tools.git\">WhiteboxTools</a>",
           "WhiteboxTools is an advanced geospatial data analysis platform.",
           "Water Supply and Quality",
           "https://github.com/jblindsay/whitebox-tools.git"
          ],
          [
           "<a href=\"https://github.com/ARPA-SIMC/CRITERIA3D.git\">CRITERIA3D</a>",
           "Includes a numerical solution for three-dimensional water and heat flow in the soil, coupled surface and subsurface flow, meteorological data interpolation, radiation budget, crop development and crop water uptake.",
           "Water Supply and Quality",
           "https://github.com/ARPA-SIMC/CRITERIA3D.git"
          ],
          [
           "<a href=\"https://github.com/USEPA/WNTR.git\">Water Network Tool for Resilience</a>",
           "A Python package designed to simulate and analyze resilience of water distribution networks.",
           "Water Supply and Quality",
           "https://github.com/USEPA/WNTR.git"
          ],
          [
           "<a href=\"https://github.com/bcgov/fasstr.git\">fasstr</a>",
           "An R package to analyze, summarize, and visualize daily streamflow data.",
           "Water Supply and Quality",
           "https://github.com/bcgov/fasstr.git"
          ],
          [
           "<a href=\"https://github.com/bcgov/gwells.git\">gwells</a>",
           "Groundwater Wells and Aquifers application for the Ministry of Environment in British Columbia.",
           "Water Supply and Quality",
           "https://github.com/bcgov/gwells.git"
          ],
          [
           "<a href=\"https://github.com/RAJohansen/waterquality.git\">waterquality</a>",
           "A package designed to detect and quantify water quality and cyanobacterial harmful algal bloom (CHABs) from remotely sensed imagery.",
           "Water Supply and Quality",
           "https://github.com/RAJohansen/waterquality.git"
          ],
          [
           "<a href=\"https://github.com/toogad/PooPyLab_Project.git\">PooPyLab_Project</a>",
           "A biological wastewater treatment software.",
           "Water Supply and Quality",
           "https://github.com/toogad/PooPyLab_Project.git"
          ],
          [
           "<a href=\"https://github.com/AguaClara/aguaclara.git\">aguaclara</a>",
           "A Python package for designing and performing research on AguaClara water treatment plants.",
           "Water Supply and Quality",
           "https://github.com/AguaClara/aguaclara.git"
          ],
          [
           "<a href=\"https://github.com/OpenWaterAnalytics/EPANET.git\">EPANET</a>",
           "The Water Distribution System Hydraulic and Water Quality Analysis Toolkit.",
           "Water Supply and Quality",
           "https://github.com/OpenWaterAnalytics/EPANET.git"
          ],
          [
           "<a href=\"https://github.com/OpenWaterAnalytics/pyswmm.git\">pyswmm</a>",
           "Python Wrapper for Stormwater Management Model.",
           "Water Supply and Quality",
           "https://github.com/OpenWaterAnalytics/pyswmm.git"
          ],
          [
           "<a href=\"https://github.com/geodynamics/selen.git\">SELEN</a>",
           "An open source Fortran code for the numerical solution of the Sea Level Equation for a spherical, layered, rotating earth with viscoelastic rheology.",
           "Water Supply and Quality",
           "https://github.com/geodynamics/selen.git"
          ],
          [
           "<a href=\"https://github.com/NOAA-ORR-ERD/PyGnome.git\">PyGnome</a>",
           "It is designed to support oil and other hazardous material spills in the coastal environment.",
           "Water Supply and Quality",
           "https://github.com/NOAA-ORR-ERD/PyGnome.git"
          ],
          [
           "<a href=\"https://github.com/AquaticEcoDynamics/libaed2.git\">AED2</a>",
           "A community-driven library of modules and algorithms for simulation of \"aquatic ecodynamics\": water quality, aquatic biogeochemsitry, biotic habitat and aquatic ecosystem dynamics.",
           "Water Supply and Quality",
           "https://github.com/AquaticEcoDynamics/libaed2.git"
          ],
          [
           "<a href=\"https://github.com/bcgov/wqbc.git\">wqbc</a>",
           "An R package for water quality thresholds and index calculation for British Columbia.",
           "Water Supply and Quality",
           "https://github.com/bcgov/wqbc.git"
          ],
          [
           "<a href=\"https://github.com/WikiWatershed/model-my-watershed.git\">Model My Watershed</a>",
           "A watershed-modeling web app for citizens, conservation practitioners, municipal decision-makers, educators, and students.",
           "Water Supply and Quality",
           "https://github.com/WikiWatershed/model-my-watershed.git"
          ],
          [
           "<a href=\"https://github.com/ropensci/cde.git\">CDE</a>",
           "Facilitates searching and download of the Water Framework Directive reporting data for all waterbodies from the EA website.",
           "Water Supply and Quality",
           "https://github.com/ropensci/cde.git"
          ],
          [
           "<a href=\"https://github.com/pygsflow/pygsflow.git\">pyGSFLOW</a>",
           "A set of Python modules to run the GSFLOW integrated hydrologic model program.",
           "Water Supply and Quality",
           "https://github.com/pygsflow/pygsflow.git"
          ],
          [
           "<a href=\"https://github.com/bcgov/bcgroundwater.git\">bcgroundwater</a>",
           "An R package to facilitate analysis and visualization of groundwater data from the British Columbia groundwater observation well network.",
           "Water Supply and Quality",
           "https://github.com/bcgov/bcgroundwater.git"
          ],
          [
           "<a href=\"https://github.com/UMN-Hydro/GSFLOW-GRASS.git\">GSFLOW-GRASS</a>",
           "Generates inputs for and runs the coupled groundwater-surface water model \"GSFLOW\".",
           "Water Supply and Quality",
           "https://github.com/UMN-Hydro/GSFLOW-GRASS.git"
          ],
          [
           "<a href=\"https://github.com/jnsebgosselin/gwhat.git\">GWHAT</a>",
           "A free, open source, and cross-platform interactive computer program whose main focus is the interpretation of observation well hydrographs.",
           "Water Supply and Quality",
           "https://github.com/jnsebgosselin/gwhat.git"
          ],
          [
           "<a href=\"https://github.com/bcgov/groundwater-levels-indicator.git\">Long-term Trends in Groundwater Levels in B.C.</a>",
           "R scripts for an indicator on long-term trends in groundwater levels in British Columbia published on Environmental Reporting British Columbia.",
           "Water Supply and Quality",
           "https://github.com/bcgov/groundwater-levels-indicator.git"
          ],
          [
           "<a href=\"https://github.com/bcgov/canwqdata.git\">canwqdata</a>",
           "An R package to download open water quality data from Environment and Climate Change Canada's National Long-term Water Quality Monitoring Data.",
           "Water Supply and Quality",
           "https://github.com/bcgov/canwqdata.git"
          ],
          [
           "<a href=\"https://github.com/USGS-R/HASP.git\">HASP</a>",
           "Hydrologic AnalySis Package.",
           "Water Supply and Quality",
           "https://github.com/USGS-R/HASP.git"
          ],
          [
           "<a href=\"https://github.com/CSHS-CWRA/CSHShydRology.git\">CSHShydRology</a>",
           "This is a collection of R functions used by the Canadian Association Society for Hydrological Sciences.",
           "Water Supply and Quality",
           "https://github.com/CSHS-CWRA/CSHShydRology.git"
          ],
          [
           "<a href=\"https://github.com/Call-for-Code/Liquid-Prep.git\">Liquid Prep</a>",
           "Offers an end-to-end solution for farmers looking to optimize their water usage; especially during times of drought.",
           "Water Supply and Quality",
           "https://github.com/Call-for-Code/Liquid-Prep.git"
          ],
          [
           "<a href=\"https://github.com/modflowpy/flopy.git\">flopy</a>",
           "A Python package to create, run, and post-process MODFLOW-based models.",
           "Water Supply and Quality",
           "https://github.com/modflowpy/flopy.git"
          ],
          [
           "<a href=\"https://github.com/pcraster/pcraster.git\">PCRaster</a>",
           "A collection of tools and software libraries tailored to the construction of spatio-temporal environmental models.",
           "Water Supply and Quality",
           "https://github.com/pcraster/pcraster.git"
          ],
          [
           "<a href=\"https://github.com/OSOceanAcoustics/echopype.git\">Echopype</a>",
           "A package built to enable interoperability and scalability in ocean sonar data processing.",
           "Water Supply and Quality",
           "https://github.com/OSOceanAcoustics/echopype.git"
          ],
          [
           "<a href=\"https://github.com/neuralhydrology/neuralhydrology.git\">NeuralHydrology</a>",
           "Python library to train neural networks with a strong focus on hydrological applications.",
           "Water Supply and Quality",
           "https://github.com/neuralhydrology/neuralhydrology.git"
          ],
          [
           "<a href=\"https://github.com/USGS-python/dataretrieval.git\">dataretrieval</a>",
           "A Python alternative to USGS-R's dataRetrieval package for obtaining USGS or EPA water quality data, streamflow data, and metadata directly from web services.",
           "Water Supply and Quality",
           "https://github.com/USGS-python/dataretrieval.git"
          ],
          [
           "<a href=\"https://github.com/iiasa/CWatM.git\">CWatM</a>",
           "Assess water supply, water demand and environmental needs at global and regional level.",
           "Water Supply and Quality",
           "https://github.com/iiasa/CWatM.git"
          ],
          [
           "<a href=\"https://github.com/ed-hawkins/rainfall-rescue.git\">RainfallRescue</a>",
           "Monthly rainfall observations taken in the UK and Ireland, covering the period 1677-1960.",
           "Water Supply and Quality",
           "https://github.com/ed-hawkins/rainfall-rescue.git"
          ],
          [
           "<a href=\"https://github.com/pySTEPS/pysteps.git\">pySTEPS</a>",
           "An open-source and community-driven Python library for probabilistic precipitation nowcasting, i.e. short-term ensemble prediction systems.",
           "Water Supply and Quality",
           "https://github.com/pySTEPS/pysteps.git"
          ],
          [
           "<a href=\"https://github.com/usbr/PyForecast.git\">PyForecast</a>",
           "A statistical modeling tool used by Reclamation water managers and reservoir operators to train and build predictive models for seasonal inflows and streamflows.",
           "Water Supply and Quality",
           "https://github.com/usbr/PyForecast.git"
          ],
          [
           "<a href=\"https://github.com/Open-ET/openet-ssebop.git\">OpenET</a>",
           "Provides Google Earth Engine Python API based implementation of the SSEBop ET model used within OpenET.",
           "Water Supply and Quality",
           "https://github.com/Open-ET/openet-ssebop.git"
          ],
          [
           "<a href=\"https://github.com/sbegueria/SPEI.git\">SPEI</a>",
           "Computing the Standardized Precipitation-Evapotranspiration Index and other reference evapotranspiration.",
           "Water Supply and Quality",
           "https://github.com/sbegueria/SPEI.git"
          ],
          [
           "<a href=\"https://github.com/mdbartos/pipedream.git\">pipedream</a>",
           "Interactive hydrodynamic solver for sewer/stormwater networks.",
           "Water Supply and Quality",
           "https://github.com/mdbartos/pipedream.git"
          ],
          [
           "<a href=\"https://github.com/USEPA/TADA.git\">TADA</a>",
           "Help developers compile and evaluate water quality data for samples collected from surface water monitoring sites on streams and lakes.",
           "Water Supply and Quality",
           "https://github.com/USEPA/TADA.git"
          ],
          [
           "<a href=\"https://github.com/tbep-tech/wqtrends.git\">wqtrends</a>",
           "R package to assess water quality trends with generalized additive models.",
           "Water Supply and Quality",
           "https://github.com/tbep-tech/wqtrends.git"
          ],
          [
           "<a href=\"https://github.com/ISRICWorldSoil/SoilGrids250m.git\">SoilGrids250m</a>",
           "Global Spatial predictions of soil properties and classes at 250 m resolution.",
           "Soil and Land",
           "https://github.com/ISRICWorldSoil/SoilGrids250m.git"
          ],
          [
           "<a href=\"https://github.com/ncss-tech/soilReports.git\">soilReports</a>",
           "An R package that assists with the setup and operation of a collection of soil data summary, comparison, and evaluation reports.",
           "Soil and Land",
           "https://github.com/ncss-tech/soilReports.git"
          ],
          [
           "<a href=\"https://github.com/ncss-tech/aqp.git\">AQP</a>",
           "Algorithms for Quantitative Pedology is a collection of code, ideas, documentation, and examples wrapped-up into several R packages.",
           "Soil and Land",
           "https://github.com/ncss-tech/aqp.git"
          ],
          [
           "<a href=\"https://github.com/ncss-tech/sharpshootR.git\">sharpshootR</a>",
           "Miscellaneous soil data management, summary, visualization, and conversion utilities to support soil survey.",
           "Soil and Land",
           "https://github.com/ncss-tech/sharpshootR.git"
          ],
          [
           "<a href=\"https://github.com/ncss-tech/soilDB.git\">soilDB</a>",
           "Simplified Access to NCSS Soil Databases.",
           "Soil and Land",
           "https://github.com/ncss-tech/soilDB.git"
          ],
          [
           "<a href=\"https://github.com/hectornieto/pyTSEB.git\">pyTSEB</a>",
           "Contains Python code for Two Source Energy Balance models (Priestley-Taylor TSEB-PT, Dual Time Difference DTD and TSEB with component soil and canopy temperatures TSEB-2T) for estimating sensible and latent heat flux based on measurements of radiometric surface temperature.",
           "Soil and Land",
           "https://github.com/hectornieto/pyTSEB.git"
          ],
          [
           "<a href=\"https://github.com/ropensci/smapr.git\">smapr</a>",
           "An R package for acquisition and processing of NASA (Soil Moisture Active-Passive) SMAP data.",
           "Soil and Land",
           "https://github.com/ropensci/smapr.git"
          ],
          [
           "<a href=\"https://github.com/TUW-GEO/esa_cci_sm.git\">esa_cci_sm</a>",
           "Readers and converters for ESA CCI Soil Moisture image and time series data.",
           "Soil and Land",
           "https://github.com/TUW-GEO/esa_cci_sm.git"
          ],
          [
           "<a href=\"https://github.com/TUW-GEO/pytesmo.git\">pytesmo</a>",
           "Python Toolbox for the Evaluation of Soil Moisture Observations.",
           "Soil and Land",
           "https://github.com/TUW-GEO/pytesmo.git"
          ],
          [
           "<a href=\"https://github.com/esowc/ml_drought.git\">ml_drought</a>",
           "A Machine Learning Pipeline to Predict Vegetation Health.",
           "Soil and Land",
           "https://github.com/esowc/ml_drought.git"
          ],
          [
           "<a href=\"https://github.com/wandb/droughtwatch.git\">droughtwatch</a>",
           "Leverages deep learning and computer vision for drought resilience, using satellite images and human expert labels to detect drought conditions in Northern Kenya.",
           "Soil and Land",
           "https://github.com/wandb/droughtwatch.git"
          ],
          [
           "<a href=\"https://github.com/bpbond/srdb.git\">srdb</a>",
           "Global soil respiration database.",
           "Soil and Land",
           "https://github.com/bpbond/srdb.git"
          ],
          [
           "<a href=\"https://github.com/bpbond/cosore.git\">cosore</a>",
           "Data, metadata, and software tools for the COSORE database of continuous soil respiration measurements.",
           "Soil and Land",
           "https://github.com/bpbond/cosore.git"
          ],
          [
           "<a href=\"https://github.com/International-Soil-Radiocarbon-Database/ISRaD.git\">ISRaD</a>",
           "Improve the use of radiocarbon as a constraint for understanding the soil carbon cycle.",
           "Soil and Land",
           "https://github.com/International-Soil-Radiocarbon-Database/ISRaD.git"
          ],
          [
           "<a href=\"https://github.com/OpenFLUID/openfluid.git\">OpenFLUID</a>",
           "A software environment for modeling and simulation of complex landscape systems.",
           "Soil and Land",
           "https://github.com/OpenFLUID/openfluid.git"
          ],
          [
           "<a href=\"https://github.com/ConservationInternational/trends.earth.git\">Trends.Earth</a>",
           "A QGIS plugin that supports monitoring of land change, including changes in productivity, land cover, and soil organic carbon.",
           "Soil and Land",
           "https://github.com/ConservationInternational/trends.earth.git"
          ],
          [
           "<a href=\"https://github.com/felixriese/CNN-SoilTextureClassification.git\">CNN-SoilTextureClassification</a>",
           "One-dimensional convolutional neural networks (CNN) for the classification of soil texture based on hyperspectral data.",
           "Soil and Land",
           "https://github.com/felixriese/CNN-SoilTextureClassification.git"
          ],
          [
           "<a href=\"https://github.com/pyviz-topics/EarthML.git\">EarthML</a>",
           "Improving, documenting, and illustrating how to use other, freely available, general-purpose open source projects to solve problems in the earth sciences.",
           "Soil and Land",
           "https://github.com/pyviz-topics/EarthML.git"
          ],
          [
           "<a href=\"https://github.com/geocryology/globsim.git\">globsim</a>",
           "Using global reanalyses for permafrost simulation.",
           "Soil and Land",
           "https://github.com/geocryology/globsim.git"
          ],
          [
           "<a href=\"https://github.com/r-spatialecology/landscapemetrics.git\">landscapemetrics</a>",
           "Landscape Metrics for Categorical Map Patterns in R.",
           "Soil and Land",
           "https://github.com/r-spatialecology/landscapemetrics.git"
          ],
          [
           "<a href=\"https://github.com/Christiaanvandertol/SCOPE.git\">SCOPE</a>",
           "Simulation model for radiative transfer, photosynthesis and energy fluxes in vegetation and soil.",
           "Soil and Land",
           "https://github.com/Christiaanvandertol/SCOPE.git"
          ],
          [
           "<a href=\"https://github.com/martibosch/pylandstats.git\">PyLandStats</a>",
           "An open-source Pythonic library to compute landscape metrics.",
           "Soil and Land",
           "https://github.com/martibosch/pylandstats.git"
          ],
          [
           "<a href=\"https://github.com/ropensci/NLMR.git\">NLMR</a>",
           "R package to simulate neutral landscape models.",
           "Soil and Land",
           "https://github.com/ropensci/NLMR.git"
          ],
          [
           "<a href=\"https://github.com/eMapR/LT-GEE.git\">LT-GEE</a>",
           "Google Earth Engine implementation of the LandTrendr spectral-temporal segmentation algorithm.",
           "Soil and Land",
           "https://github.com/eMapR/LT-GEE.git"
          ],
          [
           "<a href=\"https://github.com/moja-global/About_moja_global.git\">Full Lands INtegration Tool</a>",
           "A modular system to estimate greenhouse gas emissions and removals by the land sector.",
           "Soil and Land",
           "https://github.com/moja-global/About_moja_global.git"
          ],
          [
           "<a href=\"https://github.com/TUW-GEO/ismn.git\">ismn</a>",
           "Readers for the data from the International Soil Moisture Database.",
           "Soil and Land",
           "https://github.com/TUW-GEO/ismn.git"
          ],
          [
           "<a href=\"https://github.com/Vizzuality/soils-revealed.git\">soils-revealed</a>",
           "Platform for direct visualization, analysis and reporting of soil organic carbon predictions and changes over time.",
           "Soil and Land",
           "https://github.com/Vizzuality/soils-revealed.git"
          ],
          [
           "<a href=\"https://github.com/SoilWatch/soil-erosion-watch.git\">Soil Erosion Watch</a>",
           "A Google Earth Engine App to explore the state of the world's degraded soils.",
           "Soil and Land",
           "https://github.com/SoilWatch/soil-erosion-watch.git"
          ],
          [
           "<a href=\"https://github.com/sinnwerkstatt/landmatrix.git\">Land Matrix</a>",
           "Independent global land monitoring initiative that promotes transparency & accountability in decisions over large-scale land acquisitions.",
           "Soil and Land",
           "https://github.com/sinnwerkstatt/landmatrix.git"
          ],
          [
           "<a href=\"https://github.com/e-sensing/sits.git\">SITS</a>",
           "Enables users to apply machine learning techniques for classifying image time series obtained from earth observation data cubes.",
           "Soil and Land",
           "https://github.com/e-sensing/sits.git"
          ],
          [
           "<a href=\"https://github.com/landlab/landlab.git\">Landlab</a>",
           "An open source Python package for numerical modeling of Earth surface dynamics.",
           "Soil and Land",
           "https://github.com/landlab/landlab.git"
          ],
          [
           "<a href=\"https://github.com/techmatters/terraso-backend.git\">Terraso</a>",
           "Develop an open source technology platform to help local community leaders practice Integrated Landscape Management.",
           "Soil and Land",
           "https://github.com/techmatters/terraso-backend.git"
          ],
          [
           "<a href=\"https://github.com/reginalexavier/OpenLand.git\">OpenLand</a>",
           "Tool for Quantitative Analysis and Visualization of Land Use and Land Cover Change.",
           "Soil and Land",
           "https://github.com/reginalexavier/OpenLand.git"
          ],
          [
           "<a href=\"https://github.com/FarmBot/Farmbot-Web-App.git\">Farmbot</a>",
           "Humanity's open-source CNC farming machine.",
           "Agriculture and Nutrition",
           "https://github.com/FarmBot/Farmbot-Web-App.git"
          ],
          [
           "<a href=\"https://github.com/mudpi/mudpi-core.git\">MudPi</a>",
           "A scalable smart garden system that allows you to maintain controls, monitor conditions, and sustainably manage resources of your garden.",
           "Agriculture and Nutrition",
           "https://github.com/mudpi/mudpi-core.git"
          ],
          [
           "<a href=\"https://github.com/DSSAT/dssat-csm-os.git\">DSSAT Cropping System Model</a>",
           "Has been used for many applications ranging from on-farm and precision management to regional assessments of the impact of climate variability and climate change.",
           "Agriculture and Nutrition",
           "https://github.com/DSSAT/dssat-csm-os.git"
          ],
          [
           "<a href=\"https://github.com/magpiemodel/magpie.git\">MAgPIE</a>",
           "Model of Agricultural Production and its Impact on the Environment.",
           "Agriculture and Nutrition",
           "https://github.com/magpiemodel/magpie.git"
          ],
          [
           "<a href=\"https://github.com/AgroCares/Open-Bodem-Index-Calculator.git\">OBI</a>",
           "The Open-Bodem-Index-Calculator is a tool that evaluates the soil of agricultural fields based on four main criteria: chemical, physical, biological and management.",
           "Agriculture and Nutrition",
           "https://github.com/AgroCares/Open-Bodem-Index-Calculator.git"
          ],
          [
           "<a href=\"https://github.com/PSUmodeling/Cycles.git\">Cycles</a>",
           "A daily time-step agroecosystem model that simulates the biophysical processes and management practices occurring within cropping systems and other land uses.",
           "Agriculture and Nutrition",
           "https://github.com/PSUmodeling/Cycles.git"
          ],
          [
           "<a href=\"https://github.com/APSIMInitiative/ApsimX.git\">ApsimX</a>",
           "An agricultural modeling framework used extensively worldwide.",
           "Agriculture and Nutrition",
           "https://github.com/APSIMInitiative/ApsimX.git"
          ],
          [
           "<a href=\"https://github.com/ConservationInternational/resilienceatlas.git\">Resilience Atlas</a>",
           "An interactive analytical tool for building understanding of the extent and severity of some of the key stressors and shocks that are affecting rural livelihoods, production systems, and ecosystems in the Sahel, Horn of Africa and South and Southeast Asia.",
           "Agriculture and Nutrition",
           "https://github.com/ConservationInternational/resilienceatlas.git"
          ],
          [
           "<a href=\"https://github.com/zalf-rpm/monica.git\">monica</a>",
           "A dynamic, process-based simulation model which describes transport and bio-chemical turn-over of carbon, nitrogen and water in agro-ecosystems.",
           "Agriculture and Nutrition",
           "https://github.com/zalf-rpm/monica.git"
          ],
          [
           "<a href=\"https://github.com/openfarmcc/OpenFarm.git\">OpenFarm</a>",
           "A free and open database and web application for farming and gardening knowledge.",
           "Agriculture and Nutrition",
           "https://github.com/openfarmcc/OpenFarm.git"
          ],
          [
           "<a href=\"https://github.com/ss3sim/ss3sim.git\">ss3sim</a>",
           "An R package that facilitates flexible, rapid, and reproducible fisheries stock assessment simulation testing with the widely-used Stock Synthesis statistical age-structured stock assessment framework.",
           "Agriculture and Nutrition",
           "https://github.com/ss3sim/ss3sim.git"
          ],
          [
           "<a href=\"https://github.com/fishR-Core-Team/FSA.git\">Fisheries Stock Assessment</a>",
           "Provides R functions to conduct typical introductory fisheries analyses.",
           "Agriculture and Nutrition",
           "https://github.com/fishR-Core-Team/FSA.git"
          ],
          [
           "<a href=\"https://github.com/fishR-Core-Team/RFishBC.git\">RFishBC</a>",
           "Helps fisheries scientists collect measurements from calcified structures and back-calculate estimated lengths at previous ages.",
           "Agriculture and Nutrition",
           "https://github.com/fishR-Core-Team/RFishBC.git"
          ],
          [
           "<a href=\"https://github.com/poseidon-fisheries/POSEIDON.git\">POSEIDON</a>",
           "A fishery agent-based model.",
           "Agriculture and Nutrition",
           "https://github.com/poseidon-fisheries/POSEIDON.git"
          ],
          [
           "<a href=\"https://github.com/karrot-dev/karrot-frontend.git\">Karrot</a>",
           "Web application for organization of foodsaving groups worldwide.",
           "Agriculture and Nutrition",
           "https://github.com/karrot-dev/karrot-frontend.git"
          ],
          [
           "<a href=\"https://github.com/Ecohackerfarm/powerplant.git\">powerplant</a>",
           "Provides intelligent planting suggestions which maximize positive crop interaction for the mutual benefit of all your crops.",
           "Agriculture and Nutrition",
           "https://github.com/Ecohackerfarm/powerplant.git"
          ],
          [
           "<a href=\"https://github.com/morkro/happy-plants.git\">HappyPlants</a>",
           "Creating your own plant database in a visual way.",
           "Agriculture and Nutrition",
           "https://github.com/morkro/happy-plants.git"
          ],
          [
           "<a href=\"https://github.com/EduardoFernandezC/dormancyR.git\">dormancyR</a>",
           "Provide alternatives to common chill models used in horticulture to compute chill metrics in deciduous fruit tree orchards as well as functions to handle weather data.",
           "Agriculture and Nutrition",
           "https://github.com/EduardoFernandezC/dormancyR.git"
          ],
          [
           "<a href=\"https://github.com/kazulagi/plantFEM.git\">plantFEM</a>",
           "A plant simulator based on Finite Element Method, which targets crops in fields. This software provides multi-physical simulations of agriculture for canopies, plants, and organs for farmers, breeders, and agronomists.",
           "Agriculture and Nutrition",
           "https://github.com/kazulagi/plantFEM.git"
          ],
          [
           "<a href=\"https://github.com/openfoodfacts/openfoodfacts-server.git\">openfoodfacts-server</a>",
           "Open Food Facts is a collaborative, free and open database of food products from around the world.",
           "Agriculture and Nutrition",
           "https://github.com/openfoodfacts/openfoodfacts-server.git"
          ],
          [
           "<a href=\"https://github.com/fineprint-global/fabio.git\">FABIO</a>",
           "Forestry and Agriculture Biomass Input-Output Tables.",
           "Agriculture and Nutrition",
           "https://github.com/fineprint-global/fabio.git"
          ],
          [
           "<a href=\"https://github.com/hmontazeri/is-vegan.git\">Is-Vegan</a>",
           "Helps you to find out which food ingredients are vegan / non-vegan.",
           "Agriculture and Nutrition",
           "https://github.com/hmontazeri/is-vegan.git"
          ],
          [
           "<a href=\"https://github.com/Shyentist/fish-r-man.git\">fishRman</a>",
           "Shiny R Dashboard to easily query, download, analyse and visualise Global Fishing Watch data on fishing effort.",
           "Agriculture and Nutrition",
           "https://github.com/Shyentist/fish-r-man.git"
          ],
          [
           "<a href=\"https://github.com/r4ss/r4ss.git\">r4ss</a>",
           "A fisheries stock assessment model written by Rick Methot.",
           "Agriculture and Nutrition",
           "https://github.com/r4ss/r4ss.git"
          ],
          [
           "<a href=\"https://github.com/hollorol/AgroMo.git\">AgroMo</a>",
           "An Integrated Assessment and Modelling software that integrates a crop, biogeochemical and a agro-economical model.",
           "Agriculture and Nutrition",
           "https://github.com/hollorol/AgroMo.git"
          ],
          [
           "<a href=\"https://github.com/nasaharvest/cropharvest.git\">CropHarvest</a>",
           "Collects data from a variety of agricultural land use datasets and remote sensing products.",
           "Agriculture and Nutrition",
           "https://github.com/nasaharvest/cropharvest.git"
          ],
          [
           "<a href=\"https://github.com/dl4sits/BreizhCrops.git\">BreizhCrops</a>",
           "A Satellite Time Series Dataset for Crop Type Identification.",
           "Agriculture and Nutrition",
           "https://github.com/dl4sits/BreizhCrops.git"
          ],
          [
           "<a href=\"https://github.com/JokeNetwork/vegancheck.me.git\">VeganCheck.me</a>",
           "A multilingual progressive web app, which scans the EAN or UPC codes of over 3.000.000 food- or non-food-products and simply tells you if it they're vegan or not.",
           "Agriculture and Nutrition",
           "https://github.com/JokeNetwork/vegancheck.me.git"
          ],
          [
           "<a href=\"https://github.com/sentinel-hub/field-delineation.git\">Automatic field delineation</a>",
           "Generate automatic contours for agricultural parcels, given Sentinel-2 images.",
           "Agriculture and Nutrition",
           "https://github.com/sentinel-hub/field-delineation.git"
          ],
          [
           "<a href=\"https://github.com/maja601/EuroCrops.git\">EuroCrops</a>",
           "A dataset collection combining all publicly available self-declared crop reporting datasets from countries of the European Union.",
           "Agriculture and Nutrition",
           "https://github.com/maja601/EuroCrops.git"
          ],
          [
           "<a href=\"https://github.com/WFP-VAM/prism-app.git\">PRISM</a>",
           "Assesses the potential risk and forecasts the impact of climate hazards on the most vulnerable communities, in order to design risk reduction activities and target disaster responses.",
           "Natural Hazard and Poverty",
           "https://github.com/WFP-VAM/prism-app.git"
          ],
          [
           "<a href=\"https://github.com/spaceml-org/ml4floods.git\">ML4Floods</a>",
           "An ecosystem of data, models and code pipelines to tackle flooding with machine learning.",
           "Natural Hazard and Poverty",
           "https://github.com/spaceml-org/ml4floods.git"
          ],
          [
           "<a href=\"https://github.com/global-hydrodynamics/CaMa-Flood_v4.git\">CaMa</a>",
           "Designed to simulate the hydrodynamics in continental-scale rivers.",
           "Natural Hazard and Poverty",
           "https://github.com/global-hydrodynamics/CaMa-Flood_v4.git"
          ],
          [
           "<a href=\"https://github.com/NOAA-OWP/inundation-mapping.git\">Cahaba</a>",
           "Flood inundation mapping and evaluation software configured to work with U.S. National Water Model.",
           "Natural Hazard and Poverty",
           "https://github.com/NOAA-OWP/inundation-mapping.git"
          ],
          [
           "<a href=\"https://github.com/cloudtostreet/MODIS_GlobalFloodDatabase.git\">Global Flood Database Scripts & Data</a>",
           "Used to produce the Global Flood Database and assess changes in population exposed to floods.",
           "Natural Hazard and Poverty",
           "https://github.com/cloudtostreet/MODIS_GlobalFloodDatabase.git"
          ],
          [
           "<a href=\"https://github.com/ec-jrc/lisflood-code.git\">LISFLOOD</a>",
           "A spatially distributed water resources model, developed by the Joint Research Centre of the European Commission since 1997.",
           "Natural Hazard and Poverty",
           "https://github.com/ec-jrc/lisflood-code.git"
          ],
          [
           "<a href=\"https://github.com/NRCan/CanFlood.git\">CanFlood</a>",
           "Flood Risk modelling toolbox for Canada.",
           "Natural Hazard and Poverty",
           "https://github.com/NRCan/CanFlood.git"
          ],
          [
           "<a href=\"https://github.com/Servir-Mekong/hydra-floods.git\">HYDRAFloods</a>",
           "An open source Python application for downloading, processing, and delivering surface water maps derived from remote sensing data.",
           "Natural Hazard and Poverty",
           "https://github.com/Servir-Mekong/hydra-floods.git"
          ],
          [
           "<a href=\"https://github.com/OasisLMF/OasisLMF.git\">OasisLMF</a>",
           "An open source catastrophe modelling platform, free to use by anyone.",
           "Natural Hazard and Poverty",
           "https://github.com/OasisLMF/OasisLMF.git"
          ],
          [
           "<a href=\"https://github.com/CriticalAssetManagement/CAMS.git\">CAMS</a>",
           "Critical Asset Management and Disaster Resilience for Islands, Cities, and Communities.",
           "Natural Hazard and Poverty",
           "https://github.com/CriticalAssetManagement/CAMS.git"
          ],
          [
           "<a href=\"https://github.com/kLabUM/pystorms.git\">pystorms</a>",
           "Simulation Sandbox for the Design and Evaluation of Stormwater Control Algorithms.",
           "Natural Hazard and Poverty",
           "https://github.com/kLabUM/pystorms.git"
          ],
          [
           "<a href=\"https://github.com/oceanmodeling/StormEvents.git\">StormEvents</a>",
           "Provides Python interfaces for observational data surrounding named storm events.",
           "Natural Hazard and Poverty",
           "https://github.com/oceanmodeling/StormEvents.git"
          ],
          [
           "<a href=\"https://github.com/open-sdg/open-sdg.git\">open-sdg</a>",
           "A platform for collecting and disseminating data for the Sustainable Development Goal global indicators.",
           "Sustainable Development Goals",
           "https://github.com/open-sdg/open-sdg.git"
          ],
          [
           "<a href=\"https://github.com/sustainlab-group/sustainbench.git\">SustainBench</a>",
           "Benchmarks for Monitoring the Sustainable Development Goals with Machine Learning.",
           "Sustainable Development Goals",
           "https://github.com/sustainlab-group/sustainbench.git"
          ],
          [
           "<a href=\"https://github.com/GSA/sdg-indicators-usa.git\">US Sustainable Development Goal indicators</a>",
           "U.S. National Reporting Platform for the Sustainable Development Goals.",
           "Sustainable Development Goals",
           "https://github.com/GSA/sdg-indicators-usa.git"
          ],
          [
           "<a href=\"https://github.com/owid/sdg-tracker.org.git\">sdg-tracker.org</a>",
           "Sustainable Development Goals tracker website.",
           "Sustainable Development Goals",
           "https://github.com/owid/sdg-tracker.org.git"
          ],
          [
           "<a href=\"https://github.com/CMUSustainability/SDGmapR.git\">SDGmapR</a>",
           "R functions and datasets related to the mapping of text to the United Nations 17 Sustainable Development Goals.",
           "Sustainable Development Goals",
           "https://github.com/CMUSustainability/SDGmapR.git"
          ],
          [
           "<a href=\"https://github.com/dwulff/text2sdg.git\">text2sdg</a>",
           "Multi-system analysis package that identifies SDGs in text, opening up the opportunity to monitor any type of text-based data.",
           "Sustainable Development Goals",
           "https://github.com/dwulff/text2sdg.git"
          ],
          [
           "<a href=\"https://github.com/natcap/invest.git\">Integrated Valuation of Ecosystem Services and Tradeoffs</a>",
           "A family of tools for quantifying the values of natural capital in clear, credible, and practical ways.",
           "Sustainable Investment",
           "https://github.com/natcap/invest.git"
          ],
          [
           "<a href=\"https://github.com/remindmodel/remind.git\">The REgional Model of INvestments and Development</a>",
           "A modular open source multi-regional model incorporating the economy, the climate system and a detailed representation of the energy sector.",
           "Sustainable Investment",
           "https://github.com/remindmodel/remind.git"
          ],
          [
           "<a href=\"https://github.com/RaphaelPB/WHAT-IF.git\">WHAT-IF</a>",
           "Water, Hydropower, Agriculture Tool for Investment and Financing decision support tool.",
           "Sustainable Investment",
           "https://github.com/RaphaelPB/WHAT-IF.git"
          ],
          [
           "<a href=\"https://github.com/ScienceBasedTargets/SBTi-finance-tool.git\">SBTi Temperature Alignment tool</a>",
           "Helps companies and financial institutions to assess the temperature alignment of current targets, commitments, and investment and lending portfolios, and to use this information to develop targets for official validation.",
           "Sustainable Investment",
           "https://github.com/ScienceBasedTargets/SBTi-finance-tool.git"
          ],
          [
           "<a href=\"https://github.com/opentaps/open-climate-investing.git\">open-climate-investing</a>",
           "Application and data for analyzing and structuring portfolios for climate investing.",
           "Sustainable Investment",
           "https://github.com/opentaps/open-climate-investing.git"
          ],
          [
           "<a href=\"https://github.com/NREL/ssc.git\">SSC</a>",
           "Contains the source code for the technology and financial models contained within the National Renewable Energy Laboratory's System Advisor Model.",
           "Sustainable Investment",
           "https://github.com/NREL/ssc.git"
          ],
          [
           "<a href=\"https://github.com/os-climate/os_c_data_commons.git\">OS-Climate Data Commons</a>",
           "Collect, normalize and integrate climate and ESG data from public and private sources.",
           "Sustainable Investment",
           "https://github.com/os-climate/os_c_data_commons.git"
          ],
          [
           "<a href=\"https://github.com/Yuanchao-Xu/gfer.git\">gfer</a>",
           "Designed for green finance and environmental risk research focused on data collecting and analyzing in green finance and environmental risk research and analysis.",
           "Sustainable Investment",
           "https://github.com/Yuanchao-Xu/gfer.git"
          ],
          [
           "<a href=\"https://github.com/wikirate/wikirate.git\">WikiRate</a>",
           "Facilitates research and analysis on complex topics in collaboration with partners, to make ESG data open, comparable and useful for all.",
           "Sustainable Investment",
           "https://github.com/wikirate/wikirate.git"
          ],
          [
           "<a href=\"https://github.com/ClimateWatch-Vizzuality/climate-watch.git\">Climate Watch</a>",
           "Offers open data, visualizations and analysis to help policymakers, researchers and other stakeholders gather insights on countries' climate progress.",
           "Knowledge Platforms",
           "https://github.com/ClimateWatch-Vizzuality/climate-watch.git"
          ],
          [
           "<a href=\"https://github.com/lf-energy/lfenergy-landscape.git\">Linux Foundation Energy Landscape</a>",
           "This landscape is intended as a map to explore the open source projects in the energy sector, and also shows the member companies of the LF Energy Foundation.",
           "Knowledge Platforms",
           "https://github.com/lf-energy/lfenergy-landscape.git"
          ],
          [
           "<a href=\"https://github.com/ProjectDrawdown/solutions.git\">ProjectDrawdown</a>",
           "The mission of Project Drawdown is to help the world reach \"Drawdown\"— the point in the future when levels of greenhouse gases in the atmosphere stop climbing and start to steadily decline, thereby stopping catastrophic climate change — as quickly, safely, and equitably as possible.",
           "Knowledge Platforms",
           "https://github.com/ProjectDrawdown/solutions.git"
          ],
          [
           "<a href=\"https://github.com/NOAAGov/NOAA-Affiliated-Projects.git\">NOAA-Affiliated-Projects</a>",
           "A list of GitHub accounts and repositories that are contributed to by National Oceanic and Atmospheric Administration staff from line offices and/or staff office throughout the organization.",
           "Knowledge Platforms",
           "https://github.com/NOAAGov/NOAA-Affiliated-Projects.git"
          ],
          [
           "<a href=\"https://github.com/EnvironmentOntology/envo.git\">ENVO</a>",
           "A community-driven ontology for the representation of environments.",
           "Knowledge Platforms",
           "https://github.com/EnvironmentOntology/envo.git"
          ],
          [
           "<a href=\"https://github.com/petermr/climate.git\">Open Climate Knowledge</a>",
           "An open research project for data mining Open Access papers related to Climate Change.",
           "Knowledge Platforms",
           "https://github.com/petermr/climate.git"
          ],
          [
           "<a href=\"https://github.com/EnviroDIY/ModularSensors.git\">ModularSensors</a>",
           "This Arduino library gives environmental sensors a common interface of functions for use with Arduino-compatible dataloggers.",
           "Knowledge Platforms",
           "https://github.com/EnviroDIY/ModularSensors.git"
          ],
          [
           "<a href=\"https://github.com/regen-network/regen-ledger.git\">Regen Ledger</a>",
           "Providing a structured database of claims regarding ecological state and change of state.",
           "Knowledge Platforms",
           "https://github.com/regen-network/regen-ledger.git"
          ],
          [
           "<a href=\"https://github.com/stripe/carbon-removal-source-materials.git\">Stripe Climate Carbon Removal Purchases</a>",
           "Source materials supporting Stripe Climate carbon removal purchases.",
           "Knowledge Platforms",
           "https://github.com/stripe/carbon-removal-source-materials.git"
          ],
          [
           "<a href=\"https://github.com/usds/justice40-tool.git\">Justice40 Tool</a>",
           "A tool to identify disadvantaged communities due to environmental, socioeconomic and health burdens.",
           "Knowledge Platforms",
           "https://github.com/usds/justice40-tool.git"
          ],
          [
           "<a href=\"https://github.com/DPGAlliance/publicgoods-candidates.git\">Digital Public Goods</a>",
           "Accelerate the attainment of the sustainable development goals in low- and middle-income countries by facilitating the discovery, development, use of, and investment in digital public goods.",
           "Knowledge Platforms",
           "https://github.com/DPGAlliance/publicgoods-candidates.git"
          ],
          [
           "<a href=\"https://github.com/ESIPFed/sweet.git\">SWEET</a>",
           "Official repository for Semantic Web for Earth and Environmental Terminology Ontologies.",
           "Knowledge Platforms",
           "https://github.com/ESIPFed/sweet.git"
          ],
          [
           "<a href=\"https://github.com/ClimateMind/climatemind-backend.git\">Climatemind</a>",
           "Explore how your values and personal interests are being affected by climate change and shows you attractive solutions exist that you may not be aware of.",
           "Knowledge Platforms",
           "https://github.com/ClimateMind/climatemind-backend.git"
          ],
          [
           "<a href=\"https://github.com/radiantearth/radiant-mlhub.git\">Radiant MLHub Python Client</a>",
           "Open community commons for geospatial training data, machine learning models, and standards to encourage collaboration and share information.",
           "Data Catalogs and Interfaces",
           "https://github.com/radiantearth/radiant-mlhub.git"
          ],
          [
           "<a href=\"https://github.com/owid/owid-catalog-py.git\">owid-catalog</a>",
           "A Pythonic API for working with Our World in Data catalog.",
           "Data Catalogs and Interfaces",
           "https://github.com/owid/owid-catalog-py.git"
          ],
          [
           "<a href=\"https://github.com/resource-watch/resource-watch.git\">Resource Watch</a>",
           "Features hundreds of data sets all in one place on the state of the planet's resources and citizens.",
           "Data Catalogs and Interfaces",
           "https://github.com/resource-watch/resource-watch.git"
          ],
          [
           "<a href=\"https://github.com/piersyork/owidR.git\">owidR</a>",
           "An R Package for Interacting with Data from Our World in Data.",
           "Data Catalogs and Interfaces",
           "https://github.com/piersyork/owidR.git"
          ],
          [
           "<a href=\"https://github.com/sentinel-hub/custom-scripts.git\">Custom Scripts Sentinel Hub</a>",
           "A repository of custom scripts to be used with Sentinel Hub.",
           "Data Catalogs and Interfaces",
           "https://github.com/sentinel-hub/custom-scripts.git"
          ],
          [
           "<a href=\"https://github.com/opengeospatial/ogcapi-environmental-data-retrieval.git\">OGC API - Environmental Data Retrieval</a>",
           "A Web API that provides a family of lightweight interfaces for accessing Environmental Data resources.",
           "Data Catalogs and Interfaces",
           "https://github.com/opengeospatial/ogcapi-environmental-data-retrieval.git"
          ],
          [
           "<a href=\"https://github.com/rOpenGov/eurostat.git\">eurostat R package</a>",
           "R tools to access open data from Eurostat, the statistical office of the European Union.",
           "Data Catalogs and Interfaces",
           "https://github.com/rOpenGov/eurostat.git"
          ],
          [
           "<a href=\"https://github.com/rOpenGov/giscoR.git\">giscoR</a>",
           "An R API package that helps to retrieve data from Eurostat Geographic Information System of the Commission.",
           "Data Catalogs and Interfaces",
           "https://github.com/rOpenGov/giscoR.git"
          ],
          [
           "<a href=\"https://github.com/digitalearthafrica/deafrica-sandbox-notebooks.git\">Digital Earth Africa Notebooks</a>",
           "Using Earth observations to address social, environmental and economic changes on the Africa continent.",
           "Data Catalogs and Interfaces",
           "https://github.com/digitalearthafrica/deafrica-sandbox-notebooks.git"
          ],
          [
           "<a href=\"https://github.com/ESGF/esgf-pyclient.git\">ESGF PyClient</a>",
           " A Python package designed for interacting with the Earth System Grid Federation system.",
           "Data Catalogs and Interfaces",
           "https://github.com/ESGF/esgf-pyclient.git"
          ],
          [
           "<a href=\"https://github.com/Open-EO/openeo-python-client.git\">openEO</a>",
           "Provides intuitive programming libraries to process a wide variety of earth observation datasets.",
           "Data Catalogs and Interfaces",
           "https://github.com/Open-EO/openeo-python-client.git"
          ],
          [
           "<a href=\"https://github.com/mysociety/caps.git\">Climate Action Plans</a>",
           "A simple, open database of local government climate action plan documents and emissions data.",
           "Data Catalogs and Interfaces",
           "https://github.com/mysociety/caps.git"
          ],
          [
           "<a href=\"https://github.com/nsidc/earthdata.git\">earthdata</a>",
           "A Python library to search and access NASA datasets.",
           "Data Catalogs and Interfaces",
           "https://github.com/nsidc/earthdata.git"
          ],
          [
           "<a href=\"https://github.com/microsoft/AIforEarthDataSets.git\">AI for Earth Data Sets</a>",
           "Notebooks and documentation for AI-for-Earth-managed datasets on Azure.",
           "Data Catalogs and Interfaces",
           "https://github.com/microsoft/AIforEarthDataSets.git"
          ],
          [
           "<a href=\"https://github.com/wpgp/wopr.git\">wopr</a>",
           "An R package and Shiny application to provide API access to the WorldPop Open Population Repository.",
           "Data Catalogs and Interfaces",
           "https://github.com/wpgp/wopr.git"
          ],
          [
           "<a href=\"https://github.com/nasa/earthdata-search.git\">Earthdata Search</a>",
           "A web application developed by NASA EOSDIS to enable data discovery, search, comparison, visualization, and access across EOSDIS' Earth Science data holdings.",
           "Data Catalogs and Interfaces",
           "https://github.com/nasa/earthdata-search.git"
          ],
          [
           "<a href=\"https://github.com/sentinel-hub/sentinelhub-py.git\">sentinelhub-py</a>",
           "Download and process satellite imagery in Python using Sentinel Hub services.",
           "Data Catalogs and Interfaces",
           "https://github.com/sentinel-hub/sentinelhub-py.git"
          ],
          [
           "<a href=\"https://github.com/microsoft/PlanetaryComputerDataCatalog.git\">Planetary Computer Data Catalog</a>",
           "Combines a multi-petabyte catalog of global environmental data with intuitive APIs and a flexible scientific environment.",
           "Data Catalogs and Interfaces",
           "https://github.com/microsoft/PlanetaryComputerDataCatalog.git"
          ],
          [
           "<a href=\"https://github.com/stac-utils/stac-index.git\">STAC Index</a>",
           "Find STAC Catalogs, Collections, APIs, Software and Tools.",
           "Data Catalogs and Interfaces",
           "https://github.com/stac-utils/stac-index.git"
          ],
          [
           "<a href=\"https://github.com/openclimatefix/Satip.git\">Satip</a>",
           "A library for satellite image processing providing all of the functionality necessary for retrieving, and storing EUMETSAT data.",
           "Data Catalogs and Interfaces",
           "https://github.com/openclimatefix/Satip.git"
          ],
          [
           "<a href=\"https://github.com/fdetsch/MODIS.git\">MODIS</a>",
           "Provides automated access to the global online data archives LP DAAC, LAADS and NSIDC as well as processing capabilities such as file conversion, mosaicking, subsetting and time series.",
           "Data Catalogs and Interfaces",
           "https://github.com/fdetsch/MODIS.git"
          ],
          [
           "<a href=\"https://github.com/ropensci/MODIStsp.git\">MODIStsp</a>",
           "An R package for automatic download and preprocessing of MODIS Land Products Time-Series.",
           "Data Catalogs and Interfaces",
           "https://github.com/ropensci/MODIStsp.git"
          ],
          [
           "<a href=\"https://github.com/ecmwf/ecmwf-opendata.git\">ecmwf-opendata</a>",
           "A package to simplify the download of ECMWF open data.",
           "Data Catalogs and Interfaces",
           "https://github.com/ecmwf/ecmwf-opendata.git"
          ],
          [
           "<a href=\"https://github.com/JuliaDataCubes/EarthDataLab.jl.git\">EarthDataLab.jl</a>",
           "Julia interface for Reading from the Earth System Datacube.",
           "Data Catalogs and Interfaces",
           "https://github.com/JuliaDataCubes/EarthDataLab.jl.git"
          ],
          [
           "<a href=\"https://github.com/kapadia/usgs.git\">USGS</a>",
           "A python module for interfacing with the US Geological Survey's API.",
           "Data Catalogs and Interfaces",
           "https://github.com/kapadia/usgs.git"
          ],
          [
           "<a href=\"https://github.com/16EAGLE/getSpatialData.git\">getSpatialData</a>",
           "Making it easy to query, preview, download and preprocess multiple kinds of satellite datasets via R.",
           "Data Catalogs and Interfaces",
           "https://github.com/16EAGLE/getSpatialData.git"
          ],
          [
           "<a href=\"https://github.com/sentinelsat/sentinelsat.git\">sentinelsat</a>",
           "Makes searching, downloading and retrieving the metadata of Sentinel satellite images from the Copernicus Open Access Hub easy.",
           "Data Catalogs and Interfaces",
           "https://github.com/sentinelsat/sentinelsat.git"
          ],
          [
           "<a href=\"https://github.com/smart-data-models/dataModel.Environment.git\">Smart Data Models</a>",
           "This Models describe the main entities involved with smart applications that deal with environmental issues.",
           "Data Catalogs and Interfaces",
           "https://github.com/smart-data-models/dataModel.Environment.git"
          ],
          [
           "<a href=\"https://github.com/ropensci/epair.git\">epair</a>",
           "Use R to get data from the Environmental Protection Agency API.",
           "Data Catalogs and Interfaces",
           "https://github.com/ropensci/epair.git"
          ],
          [
           "<a href=\"https://github.com/Unidata/siphon.git\">Siphon</a>",
           "A collection of Python utilities for retrieving atmospheric and oceanic data from remote sources, focusing on being able to retrieve data from Unidata data technologies.",
           "Data Catalogs and Interfaces",
           "https://github.com/Unidata/siphon.git"
          ]
         ],
         "hoverlabel": {
          "namelength": 0
         },
         "hovertemplate": "Project Name: <b>%{customdata[0]}<br>Project Info: <b>%{customdata[1]}</b><br>Topic: <b>%{customdata[2]}</b><br>Git URL: <b>%{customdata[3]}</b>",
         "legendgroup": "",
         "marker": {
          "color": [
           0.4787922358015816,
           0.1290322580645161,
           0.0727272727272727,
           0.1734104046242774,
           0.5051546391752577,
           0.6869158878504673,
           0.2692307692307693,
           0.0018832391713747,
           0.0651340996168582,
           0.3293768545994066,
           0.0139860139860139,
           0.3916449086161879,
           0.4962178517397881,
           0.2727272727272727,
           0.5555555555555556,
           0.6428571428571428,
           0.0199203187250995,
           0.1094736842105262,
           0.6597510373443983,
           0.3716814159292035,
           0.4888888888888889,
           0.4625550660792952,
           0.0769230769230768,
           0,
           0.4156626506024096,
           0.1696428571428571,
           0.0021680216802167,
           0.1320754716981131,
           0.5850622406639003,
           0.4323899371069182,
           0,
           0.0757918552036198,
           0,
           0.0334928229665071,
           0.4731343283582089,
           0.7119205298013245,
           0.5354330708661417,
           0.031578947368421,
           0.4705882352941176,
           0.5183246073298429,
           0.3715481171548117,
           0.0293040293040293,
           0.7882816346627277,
           0.6067090803932909,
           0.7642466822794691,
           0.6,
           0.2106824925816023,
           0.4161205766710354,
           0.5529850746268656,
           0.0697674418604651,
           0.3974630021141648,
           0.6906206252916472,
           0.5733333333333333,
           0.0557620817843865,
           0,
           0.0029542097488921,
           0.2894736842105263,
           0.6654424040066778,
           0.4225721784776902,
           0.5944811037792441,
           0.138728323699422,
           0.5629139072847682,
           0.4207920792079208,
           0,
           0.4774011299435028,
           0.3753976670201484,
           0.3448275862068966,
           0.3072289156626506,
           0.1132075471698113,
           0.6164383561643836,
           0.5,
           0.2345132743362832,
           0.6109839816933638,
           0.012539184952978,
           0.0330672748004561,
           0.0372093023255813,
           0.1789473684210526,
           0,
           0.159217877094972,
           0.0326397388820889,
           0.0437442643010095,
           0.18,
           0.3914728682170543,
           0.1261437908496732,
           0.3710280373831776,
           0.5190156599552573,
           0.5718423372371237,
           0.3148148148148147,
           0.0557913887204366,
           0.5454545454545454,
           0.3023255813953488,
           0.673202614379085,
           0.125,
           0.3783783783783784,
           0.4038461538461538,
           0.4593639575971732,
           0.5,
           0.1098901098901099,
           0,
           0,
           0.1493555724033358,
           0,
           0.109628217349857,
           0.3521739130434782,
           0.4311111111111111,
           0.6701183431952662,
           0.2727272727272727,
           0.5875,
           0,
           0.575,
           0.6591089896579156,
           0.4577464788732394,
           0.231304347826087,
           0.3559322033898305,
           0.6086956521739131,
           0.646677471636953,
           0.5577507598784195,
           0.243161094224924,
           0.3506172839506173,
           0.7283950617283951,
           0.3406113537117904,
           0.269703656998739,
           0.4413043478260869,
           0.1486146095717884,
           0.6768342951360264,
           0.0034246575342465,
           0,
           0,
           0.4298480786416443,
           0.5661462612982744,
           0.5954648526077098,
           0.691588785046729,
           0.6011560693641618,
           0.7442307692307693,
           0.6676970633693973,
           0.6286982248520709,
           0.6898305084745763,
           0.6215864759427828,
           0.5822454308093995,
           0.6124954857349223,
           0.3969072164948454,
           0.0769230769230768,
           0.2524271844660194,
           0.3429003021148036,
           0,
           0.1639344262295081,
           0.375438596491228,
           0.6407274895646988,
           0.6415094339622642,
           0.3960749330954505,
           0.7035688273852877,
           0.6495726495726496,
           0.5329249617151608,
           0.7677584006805614,
           0.5154109589041096,
           0.0180890538033394,
           0.1807331628303495,
           0.650375939849624,
           0.5574548907882242,
           0.3199999999999999,
           0,
           0.5586088449978532,
           0,
           0.6871287128712871,
           0.0441176470588234,
           0.2052631578947368,
           0.2341772151898734,
           0.5441860465116279,
           0.2306489444878812,
           0,
           0,
           0.0791500664010623,
           0.3993610223642172,
           0.5061728395061729,
           0.7089041095890412,
           0.5046728971962617,
           0.0045766590389015,
           0.4836065573770491,
           0.3028571428571428,
           0.7502673796791444,
           0.1029411764705882,
           0.6304347826086957,
           0.0329670329670329,
           0,
           0.7256983240223464,
           0.3402537485582468,
           0.2173611111111111,
           0.7969543147208122,
           0.6436013061732235,
           0.2263814616755793,
           0.4994475138121547,
           0,
           0.4189189189189189,
           0.6205405405405405,
           0.8535322777101096,
           0.1586368977673325,
           0.1875,
           0.0666666666666666,
           0.3474264705882353,
           0.3045346062052506,
           0.3543233082706767,
           0.5948051948051948,
           0.5157894736842106,
           0.7277936962750716,
           0.4517810599478714,
           0.1486946651532349,
           0.7071129707112971,
           0.7478344562078922,
           0.2345215759849905,
           0.34017363851618,
           0.005524861878453,
           0.5465020576131687,
           0.7028231797919762,
           0.0185758513931888,
           0.492288322316651,
           0.2199999999999999,
           0.6069651741293532,
           0.6449511400651466,
           0.2853982300884956,
           0.0389610389610389,
           0.0625,
           0.6666666666666667,
           0.6388888888888888,
           0.101063829787234,
           0.2802197802197802,
           0.8878737541528239,
           0.0186915887850467,
           0.0333333333333333,
           0,
           0.0006114649681528,
           0.1217948717948718,
           0.3086003372681282,
           0.3499327052489905,
           0.3770114942528736,
           0.0036231884057971,
           0.4007490636704119,
           0.4464831804281345,
           0.5588235294117647,
           0.5896830748482805,
           0.8557953408603687,
           0.7263712214471345,
           0.5,
           0.7676632455748922,
           0.5152091254752852,
           0.2112422484496899,
           0.4672614038040734,
           0.7429349676540689,
           0.7434842249657064,
           0.3699885452462772,
           0.0981873111782477,
           0.7044633368756642,
           0.3642314189189189,
           0.1689189189189189,
           0.61328125,
           0.6585365853658536,
           0.0356435643564356,
           0.4065743944636678,
           0.4077046548956661,
           0.4578900709219858,
           0.5740432612312811,
           0.028169014084507,
           0.4893184130213631,
           0.0585241730279898,
           0.1939546599496221,
           0.3927148548662492,
           0.0186113099498925,
           0.1082251082251082,
           0,
           0.5463917525773196,
           0.4519350811485643,
           0.3765432098765432,
           0.6214689265536724,
           0.4412811387900356,
           0.366412213740458,
           0.3950850661625709,
           0.3382570162481536,
           0.2813102119460501,
           0.1579254079254078,
           0.4924551386623165,
           0.3769230769230769,
           0.3571428571428571,
           0.7997284453496266,
           0.1738342594829669,
           0.1394611727416799,
           0.5588822355289421,
           0.4294790343074968,
           0.528443113772455,
           0.8587618403247632,
           0.5873827791986359,
           0.1558441558441559,
           0.0444697833523375,
           0.2349794238683127,
           0.3361027190332326,
           0.5714285714285714,
           0.1609477124183006,
           0.4968553459119497,
           0.0709939148073022,
           0.6296296296296297,
           0.4150943396226415,
           0,
           0.15,
           0.0417310664605873,
           0.4460338101430429,
           0.6063348416289593,
           0.8218543046357616,
           0.7142857142857143,
           0.111310592459605,
           0.0253411306042885,
           0,
           0,
           0.2803738317757009,
           0.2393509127789046,
           0.5708897270911915,
           0.0383091149273447,
           0.5675675675675675,
           0.0074906367041198,
           0.1512605042016807,
           0,
           0.8875,
           0.1265582655826558,
           0.0432330827067669,
           0.3278688524590164,
           0.0666666666666666,
           0.4700854700854701,
           0.25,
           0.0920245398773006,
           0.0502191609267376,
           0.732045567112432,
           0.6075949367088608,
           0.4434430752253081,
           0.3980099502487562,
           0.0225563909774436,
           0.7481946510868382,
           0.2347140039447731,
           0.4285714285714286,
           0.4499999999999999,
           0.3076923076923077,
           0.4250645994832042,
           0.4444444444444444,
           0.7058823529411764,
           0.3316582914572864,
           0.2247191011235955,
           0.196078431372549,
           0.8300304878048781,
           0.1709401709401709,
           0.1428571428571429,
           0.0256410256410256,
           0.196078431372549,
           0.1467576791808873,
           0.7590361445783133,
           0.6551724137931034,
           0.6666666666666667,
           0.4571428571428572,
           0.1090909090909091,
           0.4642857142857143,
           0.2197802197802197,
           0.8112449799196787,
           0.2567567567567568,
           0.39568345323741,
           0.175,
           0.5590631364562118,
           0.4658753709198813,
           0.0158730158730159,
           0.3979416809605489,
           0.5861733203505355,
           0,
           0,
           0,
           0.773841961852861,
           0,
           0.3,
           0.36,
           0.0625,
           0.294820717131474,
           0.8,
           0.5811590222466355,
           0.0063291139240506,
           0.475177304964539,
           0.6634304207119741,
           0.7320441988950277,
           0.4322916666666666,
           0.0339366515837104,
           0.6544401544401545,
           0.0517241379310344,
           0.5208333333333333,
           0.0067114093959731,
           0.0092165898617511,
           0.3712660028449502,
           0.1831983805668016,
           0,
           0,
           0.1307847082494969,
           0.3115942028985508,
           0.3235294117647058,
           0.1395348837209302,
           0,
           0.3461538461538461,
           0.5675675675675675,
           0.05,
           0.0118203309692671,
           0.0410958904109589,
           0.5750708215297451,
           0.0896656534954407,
           0.307007786429366,
           0.1886792452830188,
           0.0169491525423728,
           0.7493408331868519,
           0.2887383573243014,
           0.1040061633281972,
           0.5314121037463977,
           0.6846071044133477,
           0.3877551020408163,
           0.0182926829268292,
           0.3478260869565217,
           0.0176470588235294,
           0.4516129032258065,
           0,
           0.3536076326774001,
           0,
           0.196969696969697,
           0.1187214611872146,
           0.0454545454545454,
           0.5168539325842696,
           0.1256684491978609,
           0.4053156146179402,
           0,
           0.011685276551545,
           0.0999999999999999,
           0.1841004184100418,
           0.2969808995686999,
           0.4860553324408746,
           0.6107129385137684,
           0.0095846645367412,
           0.03125,
           0.0052083333333333,
           0.7096885813148789,
           0.041820418204182,
           0.5714285714285714,
           0.2335766423357664,
           0.0053191489361702,
           0.6467065868263473,
           0.0027118644067796,
           0.1313868613138685,
           0.0416666666666666,
           0,
           0.0076726342710997,
           0.108695652173913,
           0.2919254658385093,
           0.6187088274044796,
           0.5020952380952381,
           0.0117416829745596,
           0.4461538461538461,
           0.010752688172043,
           0.1006134969325153,
           0.053468433359314,
           0.3355525965379494,
           0,
           0.2667295004712535,
           0.1842105263157895,
           0.2249999999999999,
           0.1761194029850746,
           0.069129916567342,
           0.4590163934426229,
           0,
           0.266934942991281,
           0.6034618410700237,
           0.0352941176470588,
           0.5163727959697733,
           0.467741935483871,
           0.7986606178440268,
           0.1885714285714286,
           0.6216216216216216,
           0.7348726114649682,
           0.0124999999999999,
           0,
           0.0166666666666667,
           0.074074074074074,
           0.0304568527918781,
           0.4589371980676329,
           0.521551724137931,
           0.3969594594594594,
           0.7411561691113029,
           0,
           0.3207547169811321,
           0.6985559566787003,
           0.3783783783783784,
           0.0208333333333333,
           0.4945054945054945,
           0.7769125057260651,
           0.8638583638583639,
           0.1408450704225352,
           0.6093502377179081,
           0.04,
           0.3027295285359801,
           0.3133333333333333,
           0,
           0.322463768115942,
           0.1318681318681318,
           0.3559322033898305,
           0.5281980742778543,
           0.1140845070422534,
           0.6788910077746809,
           0.5056242969628797,
           0.009009009009009,
           0.3225806451612903,
           0.0701754385964912,
           0.0051282051282051,
           0.0263157894736841,
           0.1712328767123287,
           0.3634826711749789,
           0.620414673046252,
           0.6309794988610478,
           0.188034188034188,
           0.0928792569659442,
           0.0338983050847457,
           0.1407972858354538,
           0,
           0.0044843049327354,
           0.1142857142857143,
           0.3333333333333333,
           0,
           0,
           0.3831242873432154,
           0.4029227557411273,
           0.1554878048780488,
           0.1802168021680217,
           0.2735042735042735,
           0.6586314152410575,
           0.6151079136690647,
           0.6231042271700549,
           0.3411016949152542,
           0.0759202453987729,
           0.0192307692307692,
           0.2829394626092586,
           0.5377551020408163,
           0.2876935615321924,
           0.6255355612682091,
           0,
           0.3478260869565217,
           0.4949859394068021,
           0.7008208321539768,
           0.2841952634122764,
           0.3447228549734245,
           0.6904149834741095,
           0.1866546438232642,
           0.5423138725227639,
           0.2056293979671618,
           0.5807280513918629,
           0.0481586402266288,
           0.0467882632831085,
           0.4844192634560906,
           0.0251572327044025,
           0.5864570737605804,
           0.36,
           0.7481049054631002,
           0.3635448136958711,
           0.1807692307692308,
           0.02,
           0,
           0.3282051282051282,
           0.5737051792828685,
           0.1122448979591836,
           0.7033639143730888,
           0.237410071942446,
           0.451530612244898,
           0.5,
           0.545343137254902,
           0.3217821782178217,
           0,
           0.3043478260869565,
           0,
           0.5324858757062148,
           0.0856031128404669,
           0.4858490566037735,
           0.7260490894695171,
           0.0459418070444104,
           0.045964125560538,
           0.4409038238702202,
           0.3892128279883382,
           0.7282758620689656,
           0.2035010940919037,
           0.0677966101694915,
           0.2916666666666666,
           0.2233502538071066,
           0.1777777777777778,
           0.4359375,
           0.0246376811594203,
           0.0973011363636363,
           0.0109800732004879,
           0.0093896713615023,
           0.1136363636363636,
           0.6028751123090745,
           0.0582959641255604,
           0,
           0.5356868764389869,
           0.26,
           0.2251655629139073,
           0.0129870129870129,
           0.5625306522805297,
           0.8919941420551623,
           0.2375886524822694,
           0.6527777777777778,
           0.0203951561504143,
           0.8355420090113967,
           0.8198830409356725,
           0.726109556177529,
           0.0030864197530864,
           0.7933884297520661,
           0.5304937076476283,
           0.8774051285699043,
           0.484922575387123,
           0.4203539823008849,
           0.5598086124401913,
           0.183673469387755,
           0.1157222665602554,
           0.0767356881851401,
           0.0271565495207667,
           0.3041237113402062,
           0.7579175704989154,
           0.3333333333333333,
           0.6848334709606385,
           0.7503121098626717,
           0.2696078431372549,
           0.5460060667340748,
           0.2631578947368421,
           0.066571224051539,
           0.6562810739144846,
           0.089108910891089,
           0.0352733686067019,
           0.0858585858585858,
           0.6790805115781171,
           0.3841463414634146,
           0.810784071234232,
           0.1828396322778345,
           0.2714285714285714,
           0,
           0.1902654867256636,
           0.0023866348448687,
           0,
           0.0476190476190476,
           0.4441887226697353,
           0.3416216216216216,
           0.18,
           0,
           0.6814345991561181,
           0.1623774509803921,
           0.5104302477183833,
           0.6445086705202312,
           0.5967741935483871,
           0.2896698615548455,
           0,
           0.5,
           0,
           0.4798136645962733,
           0.5708812260536398,
           0.5626666666666666,
           0.2135922330097087,
           0.0014409221902017,
           0,
           0.1428571428571429,
           0.3457943925233645,
           0.368421052631579,
           0.1590314136125654,
           0.0074626865671642,
           0.085499316005472,
           0.0240963855421686,
           0.1167369901547117,
           0.0031746031746031,
           0.4011299435028248,
           0.0075187969924812,
           0.3356258596973865,
           0.3633305298570227,
           0.7483801295896328,
           0.4693266832917705,
           0.1351351351351351,
           0.4559333795975017,
           0.0344827586206896,
           0.6579439252336449,
           0.4680851063829787,
           0.5388739946380697,
           0.7078651685393258,
           0.0048780487804878,
           0.0014778325123152,
           0.1057692307692307,
           0.2879256965944272,
           0.1909090909090909,
           0.2280701754385965,
           0.2906287069988137,
           0.5,
           0.5951219512195122,
           0.4994606256742179,
           0.6206239580852584,
           0.4381625441696113,
           0.3333333333333333,
           0.1747572815533981,
           0,
           0,
           0.5007675775253301,
           0.4946386946386946,
           0.4631578947368421,
           0.6515837104072398,
           0.6754057428214731,
           0.0844272076372315,
           0.0459770114942529,
           0.2214765100671141,
           0.570334928229665,
           0.3443695479777954,
           0.5722070844686649,
           0.0101180438448567,
           0,
           0.093525179856115,
           0.125,
           0.0896755162241887,
           0.2095548317046688,
           0.565,
           0.1333333333333333,
           0.3333333333333333,
           0.4838709677419355,
           0.0365853658536585,
           0.4853717026378896,
           0,
           0.8305084745762712,
           0.0953101361573374,
           0.478021978021978,
           0.0335570469798657,
           0,
           0.374113475177305,
           0.805531167690957,
           0.7640449438202247,
           0.438118811881188,
           0.8136309825807543,
           0.426497277676951,
           0.4525043177892919,
           0.1428571428571429,
           0.6846435100548446,
           0.0284605433376455,
           0.3043478260869565,
           0.1636363636363637,
           0.598326359832636,
           0.3633217993079585,
           0.288135593220339,
           0.0302114803625377,
           0.0397727272727272,
           0,
           0.0144230769230768,
           0,
           0.7159353348729792,
           0.4119241192411924,
           0.3001038421599169,
           0.0353982300884956,
           0,
           0.4560439560439561,
           0,
           0.1129032258064516,
           0.0413793103448275,
           0.1268320180383314,
           0.0343377715487035,
           0.09375,
           0.474036850921273,
           0.4097007223942208,
           0.0929203539823009,
           0.8553459119496856,
           0.0309597523219814,
           0.2928176795580111,
           0.0148809523809523,
           0.5404699738903394,
           0.0604395604395604,
           0.0472103004291845,
           0.5870445344129555,
           0.5903771131339401,
           0.0210355987055016,
           0.7089129314786193,
           0.4205607476635514,
           0.0060975609756097,
           0.8060522696011004,
           0.5445420326223338,
           0.5342679127725857,
           0.3983739837398373,
           0.6434077079107505,
           0.4499999999999999,
           0.4216524216524216,
           0.2797411647585863,
           0.0108695652173913,
           0.0089285714285713,
           0.497907949790795,
           0.2241758241758241,
           0.0004142502071251,
           0.4174757281553398,
           0.073170731707317,
           0.0509915014164306,
           0.3099630996309963,
           0,
           0.7220762155059133,
           0.2383177570093457,
           0.6072222222222222,
           0.5029940119760479,
           0.2916666666666666,
           0.2285714285714285,
           0,
           0.5754512635379061,
           0.3348837209302325,
           0.2773279352226721,
           0.0303030303030302,
           0.0387096774193548,
           0.3542857142857143,
           0,
           0.6551724137931034,
           0.5483870967741935,
           0.3045230631437527,
           0.1691056910569105,
           0.5056935817805384,
           0.3865248226950354,
           0.0204081632653061,
           0.4196428571428571,
           0.6363636363636364,
           0.4599999999999999,
           0,
           0.1099656357388316,
           0.0179487179487179,
           0.5872133425990271,
           0.4383697813121272,
           0.1544528425895498,
           0,
           0.4599999999999999,
           0.5686274509803921,
           0.4667119565217391,
           0.5531914893617021,
           0.0264317180616739,
           0.1935483870967742,
           0.0633484162895927,
           0.6061269146608315,
           0.5982142857142857,
           0.0919282511210762,
           0,
           0.6274754683318466,
           0.6461273666092944,
           0.5533164074896858,
           0.4054054054054054,
           0.0141509433962264,
           0.2469677419354838,
           0.1914357682619647,
           0.527007299270073,
           0.7343799058084772,
           0.6029526029526029,
           0.04,
           0.6563488670371953,
           0.4267886855241264,
           0.3468379446640316,
           0.6204849084611579,
           0.4560126582278481,
           0.0544554455445545,
           0,
           0.4521008403361344,
           0.4512901527119536,
           0.5733333333333333,
           0.0114613180515759,
           0.032051282051282,
           0.4177215189873418,
           0.3518679711709203,
           0.478021978021978,
           0.4236111111111111,
           0,
           0.3720183486238532,
           0.6598639455782314,
           0.4153439153439153,
           0.2442396313364055,
           0.1168831168831169,
           0.5,
           0.1186440677966101,
           0.6728016359918201,
           0.3996383363471971,
           0.2580645161290322,
           0.7222222222222222,
           0.5,
           0.6170212765957447,
           0.0647321428571429,
           0.0961538461538461,
           0.5693430656934306,
           0.6923076923076923,
           0.1666666666666666,
           0.0268817204301075,
           0.2491417361451692,
           0.1428571428571429,
           0.8189884649511978,
           0.2108345534407028,
           0.0999999999999999,
           0.3733333333333333,
           0.6427733065057009,
           0.7894959762812368,
           0,
           0.5617529880478087,
           0.5111111111111111,
           0.7644058450510063,
           0.5777777777777777,
           0,
           0.3741563248421511,
           0.621670592498641,
           0.4082051282051282,
           0.5274135876042908,
           0.9117647058823528,
           0.5428740390301596,
           0.2040816326530612,
           0.0911627906976744,
           0.7323767935121647,
           0.368421052631579,
           0.7387247278382582,
           0.4561806352851129,
           0.6147540983606558,
           0.7497612225405922,
           0.259493670886076,
           0.3931034482758621,
           0.5767607919506654,
           0,
           0.6445714285714286,
           0.57223113964687,
           0.4140786749482401,
           0.2012012012012012,
           0.6462668298653611,
           0.5258964143426295,
           0.4042867701404287,
           0.6346633416458853,
           0.1694915254237288,
           0.1142857142857143,
           0,
           0.752362381880906,
           0.275375939849624,
           0.2762836185819071,
           0,
           0.659432387312187,
           0.1194379391100702,
           0.2936746987951807,
           0.0520833333333333,
           0.1301115241635687,
           0.1128205128205128,
           0.3344208809135399,
           0.5128504672897196,
           0.0384615384615384,
           0.3111888111888111,
           0.4197031039136302
          ],
          "coloraxis": "coloraxis",
          "size": [
           3.551583248212461,
           1.648621041879469,
           0.6246169560776302,
           1.8799795709908071,
           2.638406537282942,
           1.757405515832482,
           0.4882533197139939,
           1.2757916241062308,
           1.3273748723186929,
           2.1189989785495404,
           0.992849846782431,
           2.781409601634321,
           2.7517875383043924,
           1.4724208375893768,
           1.290602655771195,
           1.8590398365679264,
           1.0791624106230848,
           2.1624106230847806,
           1.9576098059244127,
           1.3023493360572012,
           1.5495403472931564,
           1.933605720122574,
           0.8212461695607762,
           1.2058222676200203,
           1.670582226762002,
           1.1144024514811033,
           1.681818181818182,
           0.8835546475995915,
           1.3585291113381002,
           2.70173646578141,
           0.1573033707865168,
           1.5280898876404492,
           0.3605720122574055,
           1.1108273748723183,
           1.5158324821246172,
           2.4198161389172625,
           2.5827374872318694,
           0.6098059244126659,
           0.7732379979570991,
           2.1629213483146064,
           2.3192032686414707,
           2.233401430030644,
           3.5720122574055155,
           3.66802860061287,
           3.4284984678243107,
           2.498467824310521,
           2.1169560776302347,
           3.151685393258427,
           3.22267620020429,
           1.0367722165474975,
           2.164453524004086,
           3.89070480081716,
           1.575076608784474,
           1.7543411644535238,
           0.2568947906026557,
           1.9203268641470888,
           2.3094994892747702,
           2.86976506639428,
           1.81511746680286,
           3.0873340143003065,
           0.7717058222676201,
           2.5587334014300307,
           1.437691521961185,
           0.5117466802860061,
           2.27170582226762,
           2.061797752808989,
           1.6251276813074569,
           1.4233912155260469,
           0.6843718079673136,
           2.546475995914198,
           0.5985699693564862,
           1.306435137895812,
           3.279877425944842,
           0.698161389172625,
           2.4203268641470888,
           2.1210418794688457,
           1.1384065372829415,
           0.2216547497446374,
           1.5490296220633302,
           2.4448416751787536,
           1.3161389172625129,
           0.3043922369765066,
           0.6813074565883556,
           2.32073544433095,
           3.246680286006129,
           2.5878447395301327,
           3.808478038815117,
           2.3907048008171605,
           2.6532175689479063,
           0.8217568947906027,
           1.120020429009193,
           3.351889683350357,
           0.8789581205311543,
           1.628702757916241,
           0.3850868232890704,
           1.31511746680286,
           0.6721144024514811,
           0.3069458631256384,
           0.196629213483146,
           0.3503575076608785,
           1.22267620020429,
           0.1486210418794688,
           2.5122574055158324,
           2.0786516853932584,
           1.1378958120531155,
           2.9167517875383044,
           0.3835546475995914,
           2.5,
           0.0903983656792645,
           0.9734422880490295,
           3.635342185903984,
           1.9111338100102144,
           2.4964249233912152,
           0.985699693564862,
           3.180286006128703,
           2.831460674157303,
           2.0715015321756893,
           2.755873340143003,
           2.1353421859039834,
           2.279366700715016,
           2.068947906026557,
           3.529111338100102,
           3.490296220633299,
           1.3268641470888662,
           3.595505617977528,
           0.663432073544433,
           0.8702757916241062,
           0.4943820224719101,
           3.158835546475996,
           3.6930541368743617,
           3.541879468845761,
           2.580183861082737,
           2.4121552604698677,
           3.67926455566905,
           1.872318692543412,
           3.3232890704800817,
           2.5873340143003065,
           2.170582226762002,
           2.387129724208376,
           2.9417773237997955,
           1.5909090909090908,
           1.6195097037793666,
           0.8094994892747702,
           2.27170582226762,
           0.8355464759959143,
           0.7303370786516854,
           2.397344228804903,
           2.687946884576098,
           2.708375893769152,
           3.476506639427988,
           3.268130745658836,
           1.497446373850868,
           2.365168539325843,
           3.730847803881512,
           2.9948927477017366,
           2.3677221654749743,
           1.6986721144024512,
           3.34320735444331,
           3.006639427987743,
           1.2415730337078652,
           1.011746680286006,
           2.842696629213483,
           0.7865168539325842,
           2.2002042900919307,
           0.5781409601634321,
           1.0112359550561798,
           1.6700715015321757,
           1.8432073544433096,
           2.9744637385086827,
           0.7941777323799795,
           0.1292134831460674,
           3.050051072522982,
           2.202247191011236,
           0.9269662921348314,
           2.1230847803881514,
           1.160878447395301,
           1.3804902962206334,
           1.7814096016343206,
           1.459652706843718,
           3.221654749744637,
           0.696629213483146,
           1.5863125638406537,
           0.8003064351378958,
           0.365679264555669,
           3.210418794688458,
           3.776813074565883,
           3.314606741573034,
           3.7860061287027578,
           3.504596527068437,
           2.653217568947906,
           2.693564862104188,
           0.5362614913176711,
           2.8222676200204293,
           3.0786516853932584,
           3.780388151174668,
           3.1598569969356487,
           1.878447395301328,
           0.5270684371807968,
           2.9632277834525027,
           2.906026557711951,
           2.209397344228805,
           2.1710929519918283,
           1.9080694586312563,
           2.469356486210419,
           2.958631256384065,
           2.7609805924412667,
           3.813074565883554,
           3.727783452502553,
           2.192543411644535,
           3.601123595505618,
           0.5413687436159347,
           3.248212461695608,
           2.6123595505617976,
           2.2609805924412667,
           3.5674157303370784,
           0.2665985699693565,
           2.376915219611849,
           2.95097037793667,
           1.9862104187946883,
           0.3978549540347293,
           0.5949948927477017,
           0.5643513789581205,
           2.629213483146068,
           0.9080694586312564,
           1.186414708886619,
           3.290602655771196,
           0.7808988764044944,
           0.6450459652706844,
           0.4397344228804902,
           1.5505617977528092,
           1.4821246169560776,
           1.950459652706844,
           2.3309499489274765,
           3.100612870275792,
           1.4759959141981611,
           2.759959141981614,
           2.1782431052093973,
           1.0040858018386107,
           3.870275791624106,
           3.965270684371808,
           3.8876404494382015,
           0.4494382022471909,
           3.838100102145046,
           2.293667007150153,
           3.371297242083759,
           3.425434116445353,
           3.7211440245148113,
           3.326864147088866,
           3.5587334014300307,
           3.161899897854954,
           3.774770173646578,
           3.8386108273748727,
           1.435137895812053,
           1.4759959141981611,
           0.8866189989785496,
           2.0847803881511746,
           2.2696629213483144,
           2.351889683350357,
           3.735955056179775,
           2.157303370786517,
           0.9775280898876404,
           2.019407558733401,
           1.2262512768130749,
           1.829417773237998,
           3.5786516853932584,
           3.3115423901940755,
           1.2487231869254345,
           2.3912155260469867,
           2.9438202247191017,
           3.174668028600613,
           2.7507660878447395,
           2.213483146067416,
           1.027579162410623,
           1.436159346271706,
           1.4382022471910112,
           1.7900919305413687,
           2.391726251276813,
           3.2277834525025533,
           1.7548518896833505,
           2.3467824310520937,
           1.2574055158324822,
           3.4055158324821244,
           3.889172625127681,
           2.415730337078652,
           2.0388151174668026,
           1.786006128702758,
           2.670582226762002,
           3.9433094994892746,
           3.4116445352400406,
           1.330949948927477,
           2.225229826353422,
           3.726251276813074,
           3.2885597548518897,
           1.7293156281920328,
           3.201225740551584,
           2.467313585291113,
           3.1302349336057205,
           1.852400408580184,
           2.032686414708887,
           0.1910112359550561,
           2.6205311542390195,
           1.86976506639428,
           2.813585291113381,
           2.51123595505618,
           3.883554647599592,
           2.4535240040858017,
           2.14708886618999,
           1.3891726251276812,
           0.3161389172625127,
           0.7206332992849847,
           0.9101123595505618,
           1.9606741573033708,
           3.557711950970378,
           1.5209397344228803,
           1.639938712972421,
           1.0684371807967312,
           1.4601634320735444,
           0.153217568947906,
           3.065372829417773,
           3.6593462717058234,
           2.2926455566905006,
           1.2814096016343206,
           0.4545454545454545,
           1.0827374872318691,
           1.737997957099081,
           0.5817160367722165,
           3.5929519918283965,
           3.360061287027579,
           1.2078651685393256,
           3.811031664964249,
           3.3478038815117466,
           0.9397344228804902,
           3.965781409601634,
           2.493871297242084,
           1.278855975485189,
           1.034729315628192,
           1.0010214504596529,
           2.423901940755873,
           1.4198161389172623,
           1.8646578140960164,
           2.0847803881511746,
           0.9673135852911132,
           0.7022471910112359,
           3.560776302349336,
           0.8983656792645558,
           0.4862104187946884,
           0.5076608784473953,
           0.7022471910112359,
           2.2288049029622066,
           2.5975485188968337,
           2.8146067415730336,
           2.2206332992849847,
           1.51123595505618,
           1.1859039836567926,
           0.5403472931562819,
           1.4397344228804902,
           3.0474974463738507,
           1.1450459652706844,
           1.8815117466802864,
           0.985699693564862,
           3.85291113381001,
           1.8687436159346271,
           0.6797752808988764,
           2.958120531154239,
           2.452502553626149,
           0.5372829417773238,
           0.7957099080694586,
           0.2972420837589377,
           2.5500510725229826,
           0.2339121552604698,
           0.5178753830439223,
           2.038815117466803,
           0.4708886618998978,
           2.589376915219612,
           3.390194075587334,
           3.738508682328907,
           1.1220633299284986,
           0.8769152196118488,
           1.8028600612870276,
           2.6843718079673136,
           1.3743615934627171,
           1.013278855975485,
           2.0556690500510726,
           0.5755873340143003,
           1.0408580183861085,
           0.4479060265577119,
           1.4877425944841671,
           1.835546475995914,
           2.5837589376915218,
           0.7048008171603677,
           0.5893769152196119,
           0.8268641470888662,
           2.1583248212461696,
           0.8881511746680286,
           0.8467824310520939,
           0.482635342185904,
           1.82635342185904,
           0.6016343207354442,
           0.3462717058222676,
           1.13023493360572,
           1.2288049029622063,
           2.3580183861082737,
           0.8784473953013279,
           2.72829417773238,
           0.5551583248212462,
           0.7987742594484166,
           3.632788559754852,
           2.2783452502553625,
           2.200715015321757,
           2.8329928498467822,
           2.508682328907048,
           0.3549540347293157,
           1.553626149131767,
           1.9039836567926456,
           0.6475995914198163,
           1.0255362614913175,
           0.1072522982635342,
           3.2002042900919307,
           0.247191011235955,
           1.612870275791624,
           1.620020429009193,
           0.2880490296220633,
           1.5842696629213484,
           1.465270684371808,
           1.2696629213483146,
           0.7671092951991829,
           1.888661899897855,
           0.849846782431052,
           1.2808988764044944,
           3.23953013278856,
           2.80388151174668,
           2.7533197139938714,
           1.0342185903983656,
           0.3365679264555669,
           1.278855975485189,
           3.5485188968335035,
           2.8881511746680286,
           2.433605720122574,
           1.127170582226762,
           0.8820224719101124,
           3.691011235955056,
           2.015832482124617,
           0.9325842696629214,
           0.7997957099080695,
           0.3733401430030643,
           0.6567926455566905,
           0.8518896833503575,
           1.1797752808988764,
           3.5607763023493364,
           3.409601634320736,
           1.8258426966292136,
           1.9412665985699693,
           0.9759959141981612,
           2.1103166496424923,
           2.9494382022471908,
           1.7354443309499492,
           0.3682328907048008,
           2.160878447395301,
           1.6241062308478038,
           1.0025536261491317,
           1.797752808988764,
           1.643003064351379,
           0.7640449438202246,
           1.0658835546475995,
           2.53217568947906,
           2.797752808988764,
           1.0617977528089888,
           1.7834525025536263,
           0.806435137895812,
           3.754341164453524,
           1.7068437180796732,
           1.2747701736465782,
           3.13585291113381,
           0.7814096016343208,
           0.4984678243105209,
           0.4433094994892747,
           1.0725229826353422,
           0.9601634320735444,
           1.473953013278856,
           1.9203268641470888,
           1.099591419816139,
           3.14708886618999,
           0.1578140960163432,
           1.4427987742594484,
           3.0878447395301327,
           2.240040858018386,
           0.702247191011236,
           2.1230847803881514,
           3.2768130745658834,
           3.922369765066394,
           0.4770173646578141,
           3.446884576098059,
           0.6220633299284984,
           1.5873340143003063,
           1.5280898876404496,
           0.6859039836567927,
           1.6670071501532175,
           2.2099080694586317,
           1.341164453524004,
           2.6583248212461696,
           2.6031664964249237,
           3.5720122574055155,
           3.0035750766087848,
           1.1813074565883557,
           1.6537282941777325,
           0.4816138917262512,
           0.9867211440245148,
           0.9116445352400409,
           1.3932584269662922,
           3.4208375893769154,
           3.077630234933606,
           2.8401430030643517,
           2.1542390194075587,
           1.0071501532175688,
           0.6281920326864148,
           2.7660878447395305,
           0.3626149131767109,
           1.1945863125638407,
           1.2722165474974465,
           2.827374872318692,
           0.0990806945863125,
           0.2441266598569969,
           2.1394279877425944,
           2.240040858018386,
           1.3794688457609807,
           3.0372829417773235,
           1.81511746680286,
           2.86976506639428,
           2.559244126659857,
           3.8146067415730336,
           2.157303370786517,
           2.475485188968335,
           0.7936670071501531,
           3.4683350357507656,
           2.703779366700715,
           2.960674157303371,
           3.2405515832482124,
           0.1230847803881511,
           0.9719101123595506,
           3.631767109295199,
           3.4662921348314604,
           2.6210418794688457,
           2.5143003064351377,
           3.6654749744637374,
           2.9310520939734426,
           3.675178753830439,
           2.138917262512768,
           2.567926455566905,
           1.4182839632277835,
           1.9943820224719104,
           1.7880490296220632,
           0.5766087844739529,
           3.3840653728294177,
           1.6961184882533198,
           3.8896833503575072,
           2.746680286006129,
           1.3304392236976506,
           0.7681307456588355,
           0.2027579162410623,
           1.7655771195097036,
           1.875383043922369,
           1.1241062308478038,
           2.467313585291113,
           0.8784473953013279,
           1.5495403472931562,
           0.8728294177732381,
           2.5526046986721145,
           3.012768130745659,
           1.034729315628192,
           0.5949948927477018,
           0.2175689479060265,
           2.934627170582227,
           2.672625127681308,
           2.160367722165475,
           2.4371807967313583,
           2.1828396322778345,
           1.838610827374872,
           2.9407558733401427,
           2.191521961184882,
           3.301838610827375,
           1.332482124616956,
           0.5091930541368743,
           1.496935648621042,
           2.178753830439224,
           1.8687436159346276,
           2.342185903983657,
           1.365679264555669,
           2.7180796731358527,
           1.9453524004085805,
           0.8329928498467825,
           1.0091930541368743,
           3.583248212461696,
           1.3171603677221655,
           0.575076608784474,
           2.8799795709908067,
           1.5122574055158324,
           1.6496424923391215,
           0.797752808988764,
           3.617977528089888,
           3.895812053115424,
           2.444841675178754,
           2.206843718079673,
           1.424923391215526,
           3.866189989785495,
           3.593973442288049,
           3.5745658835546474,
           0.5204290091930541,
           3.096016343207354,
           3.2293156281920328,
           3.985699693564862,
           2.899387129724208,
           3.030132788559755,
           2.6409601634320734,
           1.7921348314606742,
           2.061797752808989,
           2.8569969356486213,
           2.6593462717058225,
           0.729826353421859,
           3.748212461695608,
           2.8580183861082737,
           3.3569969356486213,
           3.062308478038815,
           1.2722165474974465,
           3.1200204290091933,
           2.3304392236976508,
           2.508171603677222,
           3.366189989785495,
           1.400408580183861,
           2.722165474974464,
           2.434627170582227,
           2.874361593462717,
           1.5975485188968337,
           3.654239019407559,
           2.373850868232891,
           1.5832482124616956,
           0.8212461695607763,
           0.9872318692543413,
           1.6598569969356487,
           0.1654749744637385,
           1.3023493360572012,
           2.829417773237998,
           1.882533197139939,
           0.4504596527068437,
           0.7282941777323799,
           2.946373850868233,
           3.3304392236976508,
           2.212461695607763,
           3.8146067415730336,
           2.300817160367722,
           1.808988764044944,
           0.1588355464759959,
           0.9555669050051072,
           0.4254341164453523,
           1.7206332992849849,
           3.0020429009193053,
           2.2900919305413687,
           1.715526046986721,
           1.0643513789581205,
           0.2808988764044944,
           2.0495403472931564,
           2.02655771195097,
           1.193564862104188,
           2.5898876404494384,
           0.4305413687436159,
           1.616956077630235,
           1.7420837589376916,
           1.95658835546476,
           1.7477017364657814,
           1.5061287027579162,
           1.0898876404494382,
           2.9141981613891725,
           2.6654749744637387,
           3.103166496424924,
           2.9147088866189987,
           2.09805924412666,
           3.19611848825332,
           1.187946884576098,
           2.650153217568948,
           2.414198161389173,
           1.394790602655771,
           1.1230847803881512,
           1.4662921348314608,
           1.987742594484168,
           0.8140960163432074,
           1.6241062308478038,
           1.3646578140960164,
           0.962717058222676,
           2.697139938712972,
           0.7614913176710929,
           2.530643513789581,
           1.712461695607763,
           3.6036772216547495,
           1.3054136874361593,
           1.8845760980592443,
           1.244637385086823,
           0.4402451481103167,
           0.2063329928498467,
           3.354443309499489,
           1.9162410623084776,
           1.1859039836567926,
           2.940755873340143,
           3.845760980592441,
           3.5975485188968337,
           0.4244126659856997,
           0.9632277834525024,
           3.09805924412666,
           2.5837589376915218,
           2.611338100102145,
           1.0944841675178756,
           0.5699693564862105,
           2.825331971399387,
           1.1649642492339125,
           2.438202247191011,
           2.9964249233912152,
           2.2436159346271705,
           1.0326864147088866,
           3.1271705822267624,
           1.368232890704801,
           0.8508682328907049,
           2.153217568947906,
           0.4157303370786517,
           1.3687436159346271,
           1.973953013278856,
           3.1307456588355462,
           1.1164453524004083,
           0.0929519918283963,
           3.044433094994893,
           2.691521961184882,
           3.213483146067416,
           2.505107252298264,
           3.1695607763023497,
           2.433094994892748,
           3.256894790602656,
           1.3549540347293156,
           3.420837589376915,
           2.1552604698672115,
           0.5194075587334015,
           1.6399387129724208,
           3.2242083758937694,
           2.223186925434117,
           1.9821246169560776,
           2.1843718079673136,
           1.0199182839632277,
           0.2150153217568947,
           0.8059244126659857,
           0.2706843718079673,
           2.851889683350357,
           2.7303370786516856,
           3.0168539325842696,
           1.452502553626149,
           0.2073544433094994,
           2.3115423901940755,
           0.3585291113381001,
           0.3983656792645557,
           1.5444330949948928,
           3.28140960163432,
           2.9009193054136877,
           2.207865168539326,
           2.759448416751788,
           3.1235955056179776,
           2.574055158324821,
           2.2900919305413687,
           2.033197139938713,
           1.1552604698672115,
           1.210929519918284,
           3.1884576098059245,
           1.7635342185903982,
           2.360572012257405,
           1.3253319713993872,
           3.152196118488253,
           1.7063329928498463,
           3.823289070480082,
           0.6542390194075588,
           0.8289070480081715,
           2.895812053115424,
           3.210418794688457,
           2.7323799795709904,
           0.7793667007150151,
           2.346782431052094,
           0.7563840653728293,
           2.237997957099081,
           3.681307456588355,
           0.9392236976506638,
           0.8375893769152196,
           1.4055158324821246,
           0.86976506639428,
           2.5515832482124616,
           1.0495403472931564,
           0.6133810010214504,
           1.4805924412665985,
           1.7778345250255363,
           0.0842696629213483,
           3.687946884576098,
           1.693564862104188,
           3.3677221654749747,
           1.6118488253319714,
           0.9897854954034728,
           0.2997957099080695,
           0.5955056179775281,
           2.961695607763024,
           1.732890704800817,
           1.497446373850868,
           0.8003064351378958,
           1.1409601634320734,
           1.9622063329928496,
           0.3028600612870276,
           1.146067415730337,
           1.6670071501532175,
           2.574055158324821,
           1.7058222676200203,
           2.656281920326864,
           1.6230847803881512,
           1.2992849846782433,
           1.069458631256384,
           2.734422880490296,
           1.7216547497446375,
           0.5148110316649642,
           1.6103166496424923,
           1.9693564862104187,
           2.699182839632278,
           3.073033707865169,
           3.2175689479060265,
           0.236976506639428,
           1.740040858018386,
           2.169050051072523,
           2.7517875383043924,
           0.9443309499489274,
           0.801838610827375,
           2.113891726251277,
           0.8621041879468845,
           2.4519918283963227,
           1.5234933605720122,
           1.632788559754852,
           0.3140960163432074,
           2.070480081716037,
           3.2885597548518897,
           3.672114402451481,
           1.884576098059244,
           0.6276813074565883,
           3.780388151174668,
           1.468335035750766,
           2.8743615934627167,
           3.4259448416751788,
           2.4371807967313583,
           0.6057201225740552,
           3.926966292134832,
           2.3850868232890705,
           1.518896833503575,
           3.633810010214504,
           3.006128702757916,
           1.7594484167517874,
           0.9489274770173648,
           2.0398365679264554,
           3.810520939734423,
           1.9703779366700716,
           2.094484167517876,
           0.6726251276813076,
           2.5628192032686417,
           3.987742594484167,
           1.13023493360572,
           1.4274770173646578,
           1.2834525025536263,
           3.372829417773238,
           2.0265577119509706,
           1.834014300306435,
           0.9433094994892746,
           2.1481103166496425,
           0.6935648621041879,
           0.5168539325842696,
           2.8033707865168536,
           2.2145045965270684,
           1.7722165474974465,
           2.668539325842697,
           0.2880490296220633,
           2.1567926455566906,
           2,
           1.6511746680286006,
           3.400919305413688,
           1.0045965270684372,
           1.0035750766087843,
           1.2441266598569969,
           3.548518896833504,
           0.2334014300306435,
           3.654239019407559,
           1.7073544433094994,
           0.2088866189989785,
           0.3953013278855976,
           3.337078651685393,
           3.65679264555669,
           0.195097037793667,
           2.696629213483146,
           1.2206332992849849,
           3.6149131767109295,
           1.386108273748723,
           0.205311542390194,
           3.4300306435137897,
           3.696629213483146,
           3.313585291113381,
           3.3278855975485184,
           1.5286006128702758,
           3.342185903983657,
           0.7390194075587334,
           2.908580183861083,
           3.442288049029622,
           0.4530132788559755,
           3.183861082737487,
           3.784473953013279,
           2.2579162410623086,
           3.2078651685393256,
           2.1772216547497445,
           1.4560776302349336,
           3.775280898876405,
           0.322267620020429,
           3.0280898876404496,
           3.004085801838611,
           2.631256384065373,
           1.5939734422880492,
           3.104187946884576,
           1.939223697650664,
           2.8467824310520937,
           2.661899897854954,
           1.7088866189989784,
           1.6853932584269664,
           1.198161389172625,
           3.7660878447395305,
           3.108273748723187,
           2.917773237997957,
           0.3799795709908069,
           2.1930541368743617,
           1.6046986721144023,
           2.5107252298263534,
           0.6731358529111338,
           2.576608784473953,
           1.7216547497446373,
           1.8769152196118488,
           3.1435137895812053,
           2.057711950970378,
           1.2696629213483146,
           3.185903983656793
          ],
          "sizemode": "area",
          "sizeref": 0.009969356486210418,
          "symbol": "circle"
         },
         "mode": "markers",
         "name": "",
         "showlegend": false,
         "type": "scatter",
         "x": [
          7.734246575342466,
          4.495890410958904,
          6.1945205479452055,
          9.802739726027395,
          5.978082191780822,
          8.304109589041095,
          5.2,
          5.145205479452055,
          5.632876712328767,
          3.731506849315069,
          3.6465753424657534,
          4.909589041095891,
          5.032876712328767,
          3.591780821917808,
          4.909589041095891,
          7.312328767123287,
          5.947945205479452,
          6.276712328767124,
          3.3232876712328765,
          2.112328767123288,
          5.156164383561644,
          2.728767123287671,
          3.221917808219178,
          3.4136986301369863,
          4.821917808219178,
          2.819178082191781,
          5.024657534246575,
          5.36986301369863,
          4.553424657534246,
          6.882191780821918,
          4.534246575342466,
          7.515068493150685,
          1.8054794520547943,
          7.704109589041096,
          2.646575342465753,
          1.904109589041096,
          3.797260273972603,
          2.9616438356164383,
          2.572602739726028,
          3.0931506849315067,
          6.210958904109589,
          8.383561643835616,
          4.526027397260274,
          6.1945205479452055,
          3.016438356164384,
          5.884931506849315,
          3.008219178082192,
          3.610958904109589,
          8.186301369863013,
          1.558904109589041,
          8.098630136986301,
          6.213698630136986,
          4.123287671232877,
          2.92054794520548,
          4.284931506849315,
          4.589041095890411,
          7.405479452054794,
          6.095890410958904,
          3.5424657534246577,
          2.221917808219178,
          2.03013698630137,
          3.9178082191780814,
          1.926027397260274,
          4.065753424657534,
          2.936986301369863,
          3.5452054794520547,
          1.421917808219178,
          8.936986301369863,
          3.602739726027397,
          2.898630136986301,
          2.23013698630137,
          3.210958904109589,
          8.443835616438356,
          3.665753424657534,
          5.153424657534247,
          5.241095890410959,
          1.6054794520547946,
          8.627397260273973,
          4.909589041095891,
          6.364383561643836,
          3.6136986301369856,
          1.8246575342465756,
          4.528767123287671,
          3.841095890410959,
          9.96164383561644,
          4.435616438356164,
          4.03013698630137,
          1.1178082191780825,
          6.904109589041096,
          3.758904109589041,
          7.693150684931507,
          2.73972602739726,
          4.295890410958904,
          3.073972602739726,
          3.5178082191780824,
          3.4904109589041097,
          2.473972602739726,
          3.084931506849315,
          2.010958904109589,
          6.208219178082191,
          1.1287671232876713,
          1.832876712328767,
          4.904109589041096,
          4.208219178082191,
          2.852054794520548,
          2.76986301369863,
          3.515068493150685,
          6.2027397260273975,
          2.010958904109589,
          1.5616438356164384,
          9.838356164383562,
          2.295890410958904,
          3.317808219178082,
          4.810958904109589,
          3.898630136986301,
          8.317808219178081,
          5.079452054794521,
          9.150684931506849,
          4.073972602739726,
          4.361643835616438,
          2.5534246575342467,
          5.019178082191781,
          4.912328767123288,
          5.35068493150685,
          4.432876712328767,
          2.5753424657534247,
          6.96986301369863,
          3.4767123287671238,
          4.358904109589041,
          5.446575342465754,
          6.967123287671233,
          6.835616438356165,
          2.663013698630137,
          3.775342465753425,
          7.835616438356165,
          2.8,
          3.56986301369863,
          5.989041095890411,
          5.989041095890411,
          4.126027397260274,
          6.594520547945206,
          4.7835616438356166,
          3.819178082191781,
          7.597260273972603,
          3.164383561643836,
          2.9424657534246577,
          3.2575342465753425,
          2.783561643835617,
          1.4794520547945205,
          6.978082191780822,
          6.835616438356165,
          6.561643835616438,
          3.67945205479452,
          5.117808219178082,
          3.112328767123288,
          5.901369863013699,
          6.654794520547945,
          3.287671232876712,
          6.572602739726028,
          3.723287671232877,
          1.821917808219178,
          3.2575342465753425,
          5.608219178082192,
          3.46027397260274,
          3.86027397260274,
          3.367123287671233,
          4.273972602739726,
          5.493150684931507,
          6.249315068493151,
          2.852054794520548,
          2.254794520547945,
          6.010958904109589,
          2.813698630136986,
          4.427397260273972,
          3.3232876712328765,
          0.978082191780822,
          6.2904109589041095,
          3.063013698630137,
          2.6410958904109587,
          1.7506849315068491,
          8.263013698630138,
          2.515068493150685,
          2.8,
          1.304109589041096,
          1.695890410958904,
          6.071232876712329,
          6.227397260273973,
          4.123287671232877,
          6.238356164383561,
          7.742465753424658,
          1.9342465753424656,
          3.4986301369863013,
          3.783561643835617,
          5.082191780821918,
          4.052054794520548,
          6.276712328767124,
          5.293150684931507,
          5.372602739726028,
          3.0876712328767124,
          5.602739726027397,
          4.071232876712329,
          5.824657534246575,
          2.572602739726028,
          4.087671232876712,
          3.2356164383561645,
          6.83013698630137,
          3.243835616438356,
          6.005479452054795,
          2.646575342465753,
          5.904109589041096,
          3.317808219178082,
          3.994520547945205,
          0.9753424657534246,
          5.153424657534247,
          5.7753424657534245,
          4.589041095890411,
          5.3342465753424655,
          3.2246575342465755,
          6.241095890410959,
          7.471232876712329,
          7.506849315068493,
          3.378082191780822,
          6.019178082191781,
          2.315068493150685,
          2.1726027397260275,
          9.208219178082192,
          3.0712328767123287,
          4.610958904109589,
          1.895890410958904,
          3.4438356164383563,
          0.284931506849315,
          1.0356164383561643,
          8.01917808219178,
          4.504109589041096,
          2.0136986301369864,
          8.07945205479452,
          8.150684931506849,
          2.3972602739726026,
          9.013698630136986,
          8.972602739726028,
          9.35890410958904,
          3.3232876712328765,
          8.063013698630137,
          6.93972602739726,
          5.2904109589041095,
          4.021917808219178,
          8.342465753424657,
          7.057534246575343,
          8.73150684931507,
          4.917808219178082,
          6.832876712328767,
          9.695890410958905,
          9.115068493150686,
          5.742465753424658,
          6.786301369863014,
          5.717808219178083,
          5.906849315068493,
          7.008219178082192,
          9.142465753424656,
          6.287671232876712,
          3.578082191780822,
          3.416438356164384,
          2.750684931506849,
          8.189041095890412,
          6.586301369863014,
          6.761643835616439,
          3.4712328767123286,
          5.545205479452055,
          6.197260273972603,
          8.942465753424658,
          3.4493150684931506,
          1.0986301369863014,
          1.5972602739726027,
          1.4,
          1.8246575342465756,
          9.364383561643836,
          5.567123287671233,
          7.783561643835616,
          6.156164383561644,
          3.5095890410958903,
          4.605479452054794,
          6.30958904109589,
          5.950684931506849,
          5.424657534246576,
          5.920547945205479,
          7.002739726027397,
          5.693150684931507,
          9.4,
          4.526027397260274,
          4.372602739726028,
          9.452054794520548,
          2.9315068493150687,
          9.186301369863012,
          5.312328767123288,
          9.183561643835615,
          8.158904109589042,
          9.463013698630135,
          6.3342465753424655,
          3.9753424657534246,
          1.7232876712328766,
          7.635616438356164,
          5.9150684931506845,
          3.8,
          3.0575342465753423,
          6.008219178082192,
          5.271232876712329,
          4.873972602739726,
          3.947945205479452,
          6.471232876712329,
          7.523287671232877,
          2.4657534246575343,
          3.72054794520548,
          4.115068493150685,
          3.786301369863014,
          3.706849315068493,
          7.197260273972603,
          3.7424657534246575,
          3.564383561643836,
          6.936986301369863,
          9.2986301369863,
          2.632876712328767,
          2.898630136986301,
          3.26027397260274,
          8.849315068493151,
          4.438356164383562,
          2.186301369863014,
          4.438356164383562,
          9.572602739726028,
          0.8904109589041096,
          9.810958904109588,
          2.9863013698630136,
          4.542465753424658,
          7.528767123287671,
          2.068493150684932,
          0.6657534246575343,
          5.205479452054795,
          3.326027397260274,
          3.671232876712329,
          2.7260273972602738,
          2.290410958904109,
          2.7150684931506848,
          2.5205479452054798,
          1.673972602739726,
          1.978082191780822,
          2.978082191780822,
          1.652054794520548,
          1.8,
          1.673972602739726,
          1.717808219178082,
          1.6684931506849314,
          0.7726027397260274,
          1.3643835616438356,
          2.643835616438356,
          2.0191780821917806,
          0.4465753424657534,
          3.246575342465753,
          2.4986301369863013,
          3.0136986301369864,
          1.8630136986301369,
          3.682191780821918,
          6.476712328767123,
          0.726027397260274,
          3.0356164383561643,
          2.9616438356164383,
          1.8164383561643835,
          1.926027397260274,
          2.6931506849315068,
          1.347945205479452,
          1.1369863013698631,
          1.4794520547945205,
          4.608219178082192,
          3.4986301369863013,
          2.1397260273972605,
          2.610958904109589,
          5.413698630136986,
          4.528767123287671,
          3.5452054794520547,
          6.227397260273973,
          2.6876712328767125,
          3.1232876712328768,
          5.093150684931507,
          5.082191780821918,
          5.175342465753425,
          2.473972602739726,
          2.263013698630137,
          4.597260273972603,
          6.342465753424658,
          4.293150684931507,
          2.112328767123288,
          3.024657534246576,
          2.441095890410959,
          3.5342465753424657,
          1.4328767123287671,
          5.158904109589041,
          1.9726027397260275,
          1.9232876712328768,
          2.290410958904109,
          0.2904109589041095,
          2.0356164383561643,
          2.6931506849315068,
          3.43013698630137,
          5.3863013698630136,
          4.890410958904109,
          9.205479452054794,
          5.758904109589041,
          2.616438356164384,
          5.734246575342466,
          2.115068493150685,
          3.994520547945205,
          2.9945205479452053,
          4.764383561643836,
          1.9534246575342469,
          8.342465753424657,
          6.706849315068493,
          3.4246575342465757,
          3.0904109589041098,
          5.5917808219178085,
          2.2246575342465755,
          3.9863013698630136,
          2.421917808219178,
          2.1671232876712327,
          1.273972602739726,
          1.9753424657534249,
          2.378082191780822,
          3.315068493150685,
          3.1534246575342464,
          5.586301369863014,
          4.920547945205479,
          4.189041095890411,
          4.83013698630137,
          7.353424657534247,
          6.846575342465753,
          6.49041095890411,
          5.235616438356164,
          6.008219178082192,
          6.69041095890411,
          6.734246575342466,
          4.682191780821918,
          4.504109589041096,
          3.991780821917808,
          9.728767123287671,
          2.4438356164383563,
          6.802739726027397,
          7.597260273972603,
          4.093150684931507,
          3.602739726027397,
          3.2986301369863016,
          3.295890410958904,
          8.665753424657535,
          6.923287671232877,
          5.945205479452055,
          3.175342465753425,
          5.364383561643836,
          9.186301369863012,
          6.257534246575342,
          4.263013698630137,
          5.13972602739726,
          4.841095890410959,
          2.432876712328768,
          6.934246575342466,
          9.156164383561643,
          3.627397260273973,
          6.605479452054794,
          4.909589041095891,
          9.575342465753424,
          3.317808219178082,
          6.857534246575343,
          7.8,
          4.18082191780822,
          4.531506849315068,
          3.315068493150685,
          2.112328767123288,
          2.558904109589041,
          3.186301369863014,
          2.794520547945205,
          3.282191780821918,
          2.767123287671233,
          2.326027397260274,
          1.8767123287671232,
          2.26027397260274,
          2.794520547945205,
          2.8,
          1.3616438356164384,
          1.6191780821917807,
          3.265753424657534,
          7.446575342465754,
          1.3863013698630138,
          2.802739726027397,
          6.331506849315068,
          9.96164383561644,
          2.6684931506849314,
          5.161643835616438,
          5.8712328767123285,
          3.0876712328767124,
          2.306849315068493,
          4.553424657534246,
          0.7506849315068493,
          5.764383561643836,
          5.550684931506849,
          8.043835616438356,
          4.087671232876712,
          9.191780821917808,
          6.468493150684932,
          5.041095890410959,
          5.243835616438356,
          3.997260273972602,
          3.2684931506849315,
          6.980821917808219,
          6.03013698630137,
          7.093150684931507,
          5.468493150684932,
          5.468493150684932,
          4.18082191780822,
          5.128767123287672,
          3.287671232876712,
          8.753424657534246,
          3.3945205479452056,
          5.487671232876712,
          4.7972602739726025,
          3.3917808219178083,
          1.5835616438356164,
          1.83013698630137,
          3.0904109589041098,
          3.0904109589041098,
          5.052054794520548,
          2.728767123287671,
          3.66027397260274,
          4.449315068493151,
          2.767123287671233,
          4.079452054794521,
          3.26027397260274,
          5.953424657534247,
          4.912328767123288,
          8.906849315068493,
          4.5917808219178085,
          5.6,
          5.35068493150685,
          7.542465753424658,
          4.550684931506849,
          4.778082191780822,
          5.410958904109589,
          6.676712328767123,
          6.756164383561644,
          5.427397260273972,
          9.345205479452057,
          7.120547945205479,
          4.715068493150685,
          7.019178082191781,
          3.512328767123288,
          6.156164383561644,
          6.920547945205479,
          7.2,
          4.734246575342466,
          6.235616438356164,
          8.112328767123287,
          9.567123287671231,
          2.287671232876712,
          5.221917808219178,
          5.8931506849315065,
          8.197260273972603,
          3.687671232876713,
          3.6,
          5.66027397260274,
          2.9506849315068493,
          2.1890410958904107,
          1.6876712328767125,
          2.665753424657534,
          6.465753424657534,
          1.5095890410958903,
          1.8986301369863012,
          7.832876712328767,
          2.536986301369863,
          2.652054794520548,
          4.2027397260273975,
          9.58904109589041,
          5.224657534246576,
          2.780821917808219,
          6.575342465753424,
          2.8,
          9.761643835616438,
          6.758904109589041,
          2.6684931506849314,
          5.761643835616439,
          3.591780821917808,
          9.26027397260274,
          5.586301369863014,
          2.873972602739726,
          7.043835616438356,
          8.934246575342465,
          3.1616438356164385,
          3.824657534246575,
          1.936986301369863,
          7.47945205479452,
          7.619178082191781,
          5.326027397260274,
          8.10958904109589,
          4.7835616438356166,
          2.873972602739726,
          4.397260273972603,
          4.375342465753425,
          3.1616438356164385,
          4.295890410958904,
          2.326027397260274,
          5.791780821917809,
          8.572602739726028,
          2.904109589041096,
          3.967123287671233,
          5.2,
          3.5945205479452054,
          8.361643835616439,
          5.36986301369863,
          3.4547945205479453,
          4.989041095890411,
          3.4986301369863013,
          3.4712328767123286,
          6.904109589041096,
          5.413698630136986,
          1.4821917808219178,
          3.9013698630136986,
          4.706849315068493,
          0.9945205479452056,
          8.252054794520548,
          5.7972602739726025,
          3.904109589041096,
          5.958904109589041,
          8.093150684931507,
          4.945205479452055,
          2.463013698630137,
          5.9150684931506845,
          6.1068493150684935,
          2.76986301369863,
          4.413698630136986,
          9.424657534246576,
          8.687671232876712,
          7.142465753424657,
          3.824657534246575,
          2.2054794520547945,
          2.5287671232876714,
          2.5397260273972604,
          6.306849315068493,
          5.153424657534247,
          9.04931506849315,
          3.1671232876712327,
          3.3917808219178083,
          7.205479452054795,
          6.389041095890411,
          7.641095890410959,
          6.238356164383561,
          6.471232876712329,
          1.4,
          2.778082191780822,
          2.9397260273972603,
          3.687671232876713,
          5.704109589041096,
          3.684931506849315,
          8.536986301369863,
          4.013698630136986,
          2.115068493150685,
          0.5178082191780822,
          2.3589041095890413,
          4.372602739726028,
          4.241095890410959,
          2.016438356164384,
          2.873972602739726,
          7.69041095890411,
          1.3808219178082193,
          6.4301369863013695,
          5.353424657534247,
          3.32054794520548,
          6.063013698630137,
          3.926027397260274,
          8.534246575342467,
          7.441095890410959,
          3.1616438356164385,
          1.6082191780821915,
          3.7095890410958905,
          2.265753424657534,
          2.06027397260274,
          0.9671232876712328,
          7.021917808219178,
          3.591780821917808,
          3.706849315068493,
          7.638356164383562,
          3.008219178082192,
          1.808219178082192,
          2.2849315068493152,
          1.2328767123287672,
          8.824657534246576,
          2.819178082191781,
          2.627397260273973,
          3.5972602739726027,
          4.293150684931507,
          5.010958904109589,
          8.635616438356164,
          8.515068493150684,
          7.413698630136986,
          3.671232876712329,
          6.635616438356164,
          2.356164383561644,
          3.816438356164384,
          9.26849315068493,
          9.26849315068493,
          8.830136986301369,
          5.054794520547945,
          2.347945205479452,
          9.490410958904109,
          6.1945205479452055,
          4.410958904109589,
          6.06027397260274,
          2.293150684931507,
          4.323287671232877,
          2.904109589041096,
          5.53972602739726,
          3.863013698630137,
          7.6,
          5.6219178082191785,
          7.712328767123288,
          8.830136986301369,
          3.96986301369863,
          8.04109589041096,
          0.8493150684931506,
          0.4383561643835616,
          3.221917808219178,
          4.936986301369863,
          4.449315068493151,
          1.093150684931507,
          4.931506849315069,
          6.786301369863014,
          2.5315068493150683,
          2.126027397260274,
          6.18082191780822,
          5.583561643835616,
          4.638356164383562,
          4.986301369863014,
          7.608219178082192,
          7.824657534246575,
          6.161643835616438,
          1.8273972602739723,
          7.043835616438356,
          4.6876712328767125,
          7.295890410958904,
          6.545205479452055,
          6.241095890410959,
          2.0821917808219177,
          6.701369863013698,
          4.64931506849315,
          3.953424657534247,
          2.852054794520548,
          8.87945205479452,
          1.6849315068493151,
          3.682191780821918,
          0.7835616438356164,
          1.7315068493150685,
          2.4575342465753423,
          8.665753424657535,
          9.827397260273973,
          9.827397260273973,
          5.473972602739726,
          2.627397260273973,
          2.7260273972602738,
          4.627397260273972,
          4.164383561643835,
          6.249315068493151,
          5.427397260273972,
          5.945205479452055,
          4.854794520547945,
          5.580821917808219,
          4.5917808219178085,
          6.986301369863014,
          6.331506849315068,
          5.032876712328767,
          5.701369863013698,
          4.950684931506849,
          8.032876712328767,
          5.452054794520548,
          8.153424657534247,
          8.504109589041096,
          9.775342465753424,
          9.202739726027398,
          6.7972602739726025,
          7.906849315068493,
          7.641095890410959,
          5.454794520547945,
          3.73972602739726,
          7.668493150684932,
          5.013698630136986,
          7.9150684931506845,
          7.668493150684932,
          4.8,
          2.572602739726028,
          5.084931506849316,
          0.7835616438356164,
          7.912328767123288,
          7.36986301369863,
          4.210958904109589,
          2.112328767123288,
          4.123287671232877,
          1.917808219178082,
          2.5178082191780824,
          4.342465753424658,
          3.797260273972603,
          4.2,
          9.145205479452056,
          3.638356164383562,
          0.9068493150684932,
          2.747945205479452,
          7.186301369863013,
          6.268493150684932,
          6.638356164383562,
          6.638356164383562,
          6.638356164383562,
          6.8273972602739725,
          6.504109589041096,
          4.090410958904109,
          9.252054794520548,
          3.5315068493150683,
          3.416438356164384,
          8.210958904109589,
          3.6,
          4.465753424657534,
          9.808219178082192,
          5.52054794520548,
          3.821917808219178,
          4.561643835616438,
          6.071232876712329,
          4.698630136986301,
          7.6,
          3.997260273972602,
          5.271232876712329,
          4.726027397260274,
          3.668493150684931,
          5.2,
          2.7095890410958905,
          1.498630136986301,
          6.517808219178082,
          5.293150684931507,
          8.512328767123288,
          0.9808219178082191,
          3.043835616438356,
          8.67123287671233,
          4.191780821917808,
          2.9945205479452053,
          4.452054794520548,
          3.378082191780822,
          8.07123287671233,
          7.597260273972603,
          4.619178082191781,
          9.323287671232876,
          9.043835616438356,
          9.608219178082193,
          8.616438356164384,
          4.747945205479452,
          7.621917808219178,
          6.30958904109589,
          5.416438356164384,
          5.605479452054794,
          3.723287671232877,
          3.136986301369863,
          9.02191780821918,
          3.7260273972602738,
          4.767123287671233,
          1.9452054794520548,
          8.493150684931507,
          3.5287671232876714,
          1.4,
          3.5424657534246577,
          1.2219178082191782,
          2.0575342465753423,
          1.2246575342465753,
          2.665753424657534,
          1.7671232876712328,
          1.8438356164383565,
          2.493150684931507,
          1.5506849315068494,
          4.049315068493151,
          1.5315068493150683,
          4.421917808219178,
          4.821917808219178,
          1.0465753424657531,
          3.112328767123288,
          1.0136986301369864,
          3.947945205479452,
          1.202739726027397,
          6.345205479452055,
          4.906849315068493,
          1.106849315068493,
          1.536986301369863,
          2.783561643835617,
          2.9315068493150687,
          3.66027397260274,
          2.463013698630137,
          1.2547945205479452,
          5.413698630136986,
          1.441095890410959,
          5.920547945205479,
          8.830136986301369,
          5.298630136986302,
          3.186301369863014,
          2.756164383561644,
          5.032876712328767,
          7.627397260273972,
          3.202739726027397,
          5.7315068493150685,
          4.49041095890411,
          2.4821917808219176,
          1.5726027397260274,
          3.758904109589041,
          5.673972602739726,
          2.3424657534246576,
          2.0767123287671234,
          1.1342465753424658,
          5.487671232876712,
          1.36986301369863,
          5.087671232876712,
          2.958904109589041,
          8.561643835616438,
          2.1315068493150684,
          3.317808219178082,
          7.463013698630137,
          5.098630136986301,
          2.221917808219178,
          1.210958904109589,
          1.726027397260274,
          3.010958904109589,
          7.249315068493151,
          5.487671232876712,
          1.9424657534246572,
          2.2246575342465755,
          2.021917808219178,
          7.120547945205479,
          8.345205479452055,
          0.9424657534246575,
          6.942465753424657,
          7.898630136986301,
          4.994520547945205,
          7.476712328767123,
          3.432876712328768,
          2.493150684931507,
          9.202739726027398
         ],
         "xaxis": "x",
         "y": [
          "Photovoltaics and Solar Energy",
          "Photovoltaics and Solar Energy",
          "Photovoltaics and Solar Energy",
          "Photovoltaics and Solar Energy",
          "Photovoltaics and Solar Energy",
          "Photovoltaics and Solar Energy",
          "Photovoltaics and Solar Energy",
          "Photovoltaics and Solar Energy",
          "Photovoltaics and Solar Energy",
          "Photovoltaics and Solar Energy",
          "Photovoltaics and Solar Energy",
          "Photovoltaics and Solar Energy",
          "Photovoltaics and Solar Energy",
          "Photovoltaics and Solar Energy",
          "Photovoltaics and Solar Energy",
          "Photovoltaics and Solar Energy",
          "Photovoltaics and Solar Energy",
          "Photovoltaics and Solar Energy",
          "Photovoltaics and Solar Energy",
          "Photovoltaics and Solar Energy",
          "Photovoltaics and Solar Energy",
          "Photovoltaics and Solar Energy",
          "Photovoltaics and Solar Energy",
          "Photovoltaics and Solar Energy",
          "Photovoltaics and Solar Energy",
          "Photovoltaics and Solar Energy",
          "Photovoltaics and Solar Energy",
          "Photovoltaics and Solar Energy",
          "Photovoltaics and Solar Energy",
          "Photovoltaics and Solar Energy",
          "Photovoltaics and Solar Energy",
          "Photovoltaics and Solar Energy",
          "Photovoltaics and Solar Energy",
          "Photovoltaics and Solar Energy",
          "Photovoltaics and Solar Energy",
          "Photovoltaics and Solar Energy",
          "Photovoltaics and Solar Energy",
          "Photovoltaics and Solar Energy",
          "Photovoltaics and Solar Energy",
          "Wind Energy",
          "Wind Energy",
          "Wind Energy",
          "Wind Energy",
          "Wind Energy",
          "Wind Energy",
          "Wind Energy",
          "Wind Energy",
          "Wind Energy",
          "Wind Energy",
          "Wind Energy",
          "Wind Energy",
          "Wind Energy",
          "Wind Energy",
          "Wind Energy",
          "Wind Energy",
          "Wind Energy",
          "Wind Energy",
          "Wind Energy",
          "Wind Energy",
          "Wind Energy",
          "Wind Energy",
          "Wind Energy",
          "Wind Energy",
          "Wind Energy",
          "Wind Energy",
          "Wind Energy",
          "Hydro Energy",
          "Hydro Energy",
          "Hydro Energy",
          "Hydro Energy",
          "Hydro Energy",
          "Hydro Energy",
          "Hydro Energy",
          "Hydro Energy",
          "Hydro Energy",
          "Geothermal Energy",
          "Geothermal Energy",
          "Geothermal Energy",
          "Geothermal Energy",
          "Geothermal Energy",
          "Geothermal Energy",
          "Geothermal Energy",
          "Bioenergy",
          "Bioenergy",
          "Bioenergy",
          "Battery",
          "Battery",
          "Battery",
          "Battery",
          "Battery",
          "Battery",
          "Battery",
          "Battery",
          "Battery",
          "Battery",
          "Battery",
          "Battery",
          "Battery",
          "Battery",
          "Battery",
          "Battery",
          "Battery",
          "Hydrogen",
          "Hydrogen",
          "Hydrogen",
          "Hydrogen",
          "Hydrogen",
          "Hydrogen",
          "Hydrogen",
          "Hydrogen",
          "Energy Modeling and Optimization",
          "Energy Modeling and Optimization",
          "Energy Modeling and Optimization",
          "Energy Modeling and Optimization",
          "Energy Modeling and Optimization",
          "Energy Modeling and Optimization",
          "Energy Modeling and Optimization",
          "Energy Modeling and Optimization",
          "Energy Modeling and Optimization",
          "Energy Modeling and Optimization",
          "Energy Modeling and Optimization",
          "Energy Modeling and Optimization",
          "Energy Modeling and Optimization",
          "Energy Modeling and Optimization",
          "Energy Modeling and Optimization",
          "Energy Modeling and Optimization",
          "Energy Modeling and Optimization",
          "Energy Modeling and Optimization",
          "Energy Modeling and Optimization",
          "Energy Modeling and Optimization",
          "Energy Modeling and Optimization",
          "Energy Modeling and Optimization",
          "Energy Modeling and Optimization",
          "Energy Modeling and Optimization",
          "Energy Modeling and Optimization",
          "Energy Modeling and Optimization",
          "Energy Modeling and Optimization",
          "Energy Modeling and Optimization",
          "Energy Modeling and Optimization",
          "Energy Modeling and Optimization",
          "Energy Modeling and Optimization",
          "Energy Modeling and Optimization",
          "Energy Modeling and Optimization",
          "Energy Modeling and Optimization",
          "Energy Modeling and Optimization",
          "Energy Modeling and Optimization",
          "Energy Modeling and Optimization",
          "Energy Modeling and Optimization",
          "Energy Modeling and Optimization",
          "Energy Modeling and Optimization",
          "Energy Modeling and Optimization",
          "Energy Modeling and Optimization",
          "Energy Modeling and Optimization",
          "Energy Modeling and Optimization",
          "Energy Modeling and Optimization",
          "Energy Modeling and Optimization",
          "Energy Modeling and Optimization",
          "Energy Modeling and Optimization",
          "Energy Modeling and Optimization",
          "Energy Modeling and Optimization",
          "Energy Modeling and Optimization",
          "Energy Modeling and Optimization",
          "Energy Modeling and Optimization",
          "Energy Modeling and Optimization",
          "Energy Modeling and Optimization",
          "Energy Modeling and Optimization",
          "Energy Modeling and Optimization",
          "Energy Modeling and Optimization",
          "Energy Modeling and Optimization",
          "Energy Modeling and Optimization",
          "Energy Modeling and Optimization",
          "Energy Modeling and Optimization",
          "Energy Modeling and Optimization",
          "Energy Modeling and Optimization",
          "Energy Modeling and Optimization",
          "Energy Modeling and Optimization",
          "Energy Modeling and Optimization",
          "Energy Modeling and Optimization",
          "Energy Modeling and Optimization",
          "Energy Modeling and Optimization",
          "Energy Modeling and Optimization",
          "Energy Modeling and Optimization",
          "Energy Modeling and Optimization",
          "Energy Modeling and Optimization",
          "Energy Modeling and Optimization",
          "Energy Monitoring and Control",
          "Energy Monitoring and Control",
          "Energy Monitoring and Control",
          "Energy Monitoring and Control",
          "Energy Monitoring and Control",
          "Energy Monitoring and Control",
          "Energy Distribution and Grids",
          "Energy Distribution and Grids",
          "Energy Distribution and Grids",
          "Energy Distribution and Grids",
          "Energy Distribution and Grids",
          "Energy Distribution and Grids",
          "Energy Distribution and Grids",
          "Energy Distribution and Grids",
          "Energy Distribution and Grids",
          "Energy Distribution and Grids",
          "Energy Distribution and Grids",
          "Energy Distribution and Grids",
          "Energy Distribution and Grids",
          "Energy Distribution and Grids",
          "Energy Distribution and Grids",
          "Energy Distribution and Grids",
          "Energy Distribution and Grids",
          "Energy Distribution and Grids",
          "Energy Distribution and Grids",
          "Energy Distribution and Grids",
          "Energy Distribution and Grids",
          "Energy Distribution and Grids",
          "Datasets on Energy Systems",
          "Datasets on Energy Systems",
          "Datasets on Energy Systems",
          "Datasets on Energy Systems",
          "Datasets on Energy Systems",
          "Datasets on Energy Systems",
          "Datasets on Energy Systems",
          "Datasets on Energy Systems",
          "Datasets on Energy Systems",
          "Datasets on Energy Systems",
          "Datasets on Energy Systems",
          "Datasets on Energy Systems",
          "Datasets on Energy Systems",
          "Datasets on Energy Systems",
          "Datasets on Energy Systems",
          "Datasets on Energy Systems",
          "Datasets on Energy Systems",
          "Datasets on Energy Systems",
          "Datasets on Energy Systems",
          "Buildings and Heating",
          "Buildings and Heating",
          "Buildings and Heating",
          "Buildings and Heating",
          "Buildings and Heating",
          "Buildings and Heating",
          "Buildings and Heating",
          "Buildings and Heating",
          "Buildings and Heating",
          "Buildings and Heating",
          "Buildings and Heating",
          "Buildings and Heating",
          "Buildings and Heating",
          "Buildings and Heating",
          "Buildings and Heating",
          "Buildings and Heating",
          "Buildings and Heating",
          "Buildings and Heating",
          "Buildings and Heating",
          "Buildings and Heating",
          "Buildings and Heating",
          "Buildings and Heating",
          "Buildings and Heating",
          "Buildings and Heating",
          "Buildings and Heating",
          "Buildings and Heating",
          "Buildings and Heating",
          "Buildings and Heating",
          "Buildings and Heating",
          "Buildings and Heating",
          "Buildings and Heating",
          "Buildings and Heating",
          "Buildings and Heating",
          "Buildings and Heating",
          "Buildings and Heating",
          "Buildings and Heating",
          "Buildings and Heating",
          "Buildings and Heating",
          "Buildings and Heating",
          "Buildings and Heating",
          "Buildings and Heating",
          "Buildings and Heating",
          "Buildings and Heating",
          "Buildings and Heating",
          "Buildings and Heating",
          "Mobility and Transportation",
          "Mobility and Transportation",
          "Mobility and Transportation",
          "Mobility and Transportation",
          "Mobility and Transportation",
          "Mobility and Transportation",
          "Mobility and Transportation",
          "Mobility and Transportation",
          "Mobility and Transportation",
          "Mobility and Transportation",
          "Mobility and Transportation",
          "Mobility and Transportation",
          "Mobility and Transportation",
          "Mobility and Transportation",
          "Mobility and Transportation",
          "Mobility and Transportation",
          "Mobility and Transportation",
          "Mobility and Transportation",
          "Mobility and Transportation",
          "Mobility and Transportation",
          "Mobility and Transportation",
          "Mobility and Transportation",
          "Mobility and Transportation",
          "Mobility and Transportation",
          "Mobility and Transportation",
          "Mobility and Transportation",
          "Mobility and Transportation",
          "Mobility and Transportation",
          "Mobility and Transportation",
          "Mobility and Transportation",
          "Mobility and Transportation",
          "Mobility and Transportation",
          "Mobility and Transportation",
          "Mobility and Transportation",
          "Mobility and Transportation",
          "Mobility and Transportation",
          "Mobility and Transportation",
          "Mobility and Transportation",
          "Mobility and Transportation",
          "Mobility and Transportation",
          "Mobility and Transportation",
          "Mobility and Transportation",
          "Mobility and Transportation",
          "Mobility and Transportation",
          "Mobility and Transportation",
          "Mobility and Transportation",
          "Mobility and Transportation",
          "Mobility and Transportation",
          "Mobility and Transportation",
          "Mobility and Transportation",
          "Mobility and Transportation",
          "Mobility and Transportation",
          "Mobility and Transportation",
          "Mobility and Transportation",
          "Mobility and Transportation",
          "Production and Industry",
          "Computation and Communication",
          "Computation and Communication",
          "Computation and Communication",
          "Computation and Communication",
          "Computation and Communication",
          "Computation and Communication",
          "Computation and Communication",
          "Computation and Communication",
          "Computation and Communication",
          "Computation and Communication",
          "Computation and Communication",
          "Computation and Communication",
          "Computation and Communication",
          "Computation and Communication",
          "Computation and Communication",
          "Computation and Communication",
          "Computation and Communication",
          "Computation and Communication",
          "Computation and Communication",
          "Computation and Communication",
          "Computation and Communication",
          "Computation and Communication",
          "Computation and Communication",
          "Computation and Communication",
          "Computation and Communication",
          "Computation and Communication",
          "Computation and Communication",
          "Carbon Intensity and Accounting",
          "Carbon Intensity and Accounting",
          "Carbon Intensity and Accounting",
          "Carbon Intensity and Accounting",
          "Carbon Intensity and Accounting",
          "Carbon Intensity and Accounting",
          "Carbon Intensity and Accounting",
          "Carbon Intensity and Accounting",
          "Carbon Intensity and Accounting",
          "Carbon Intensity and Accounting",
          "Carbon Intensity and Accounting",
          "Carbon Intensity and Accounting",
          "Carbon Intensity and Accounting",
          "Carbon Capture and Removel",
          "Carbon Capture and Removel",
          "Carbon Capture and Removel",
          "Carbon Capture and Removel",
          "Emission Observation and Modeling",
          "Emission Observation and Modeling",
          "Emission Observation and Modeling",
          "Emission Observation and Modeling",
          "Emission Observation and Modeling",
          "Emission Observation and Modeling",
          "Emission Observation and Modeling",
          "Emission Observation and Modeling",
          "Emission Observation and Modeling",
          "Emission Observation and Modeling",
          "Emission Observation and Modeling",
          "Emission Observation and Modeling",
          "Emission Observation and Modeling",
          "Emission Observation and Modeling",
          "Emission Observation and Modeling",
          "Emission Observation and Modeling",
          "Emission Observation and Modeling",
          "Emission Observation and Modeling",
          "Emission Observation and Modeling",
          "Emission Observation and Modeling",
          "Emission Observation and Modeling",
          "Emission Observation and Modeling",
          "Life Cycle Assessment",
          "Life Cycle Assessment",
          "Life Cycle Assessment",
          "Life Cycle Assessment",
          "Life Cycle Assessment",
          "Life Cycle Assessment",
          "Life Cycle Assessment",
          "Life Cycle Assessment",
          "Life Cycle Assessment",
          "Life Cycle Assessment",
          "Life Cycle Assessment",
          "Life Cycle Assessment",
          "Life Cycle Assessment",
          "Life Cycle Assessment",
          "Circular Economy and Waste",
          "Circular Economy and Waste",
          "Circular Economy and Waste",
          "Circular Economy and Waste",
          "Circular Economy and Waste",
          "Circular Economy and Waste",
          "Circular Economy and Waste",
          "Circular Economy and Waste",
          "Circular Economy and Waste",
          "Circular Economy and Waste",
          "Circular Economy and Waste",
          "Circular Economy and Waste",
          "Circular Economy and Waste",
          "Biosphere",
          "Biosphere",
          "Biosphere",
          "Biosphere",
          "Biosphere",
          "Biosphere",
          "Biosphere",
          "Biosphere",
          "Biosphere",
          "Biosphere",
          "Biosphere",
          "Biosphere",
          "Biosphere",
          "Biosphere",
          "Biosphere",
          "Biosphere",
          "Biosphere",
          "Biosphere",
          "Biosphere",
          "Biosphere",
          "Biosphere",
          "Biosphere",
          "Biosphere",
          "Biosphere",
          "Biosphere",
          "Biosphere",
          "Biosphere",
          "Biosphere",
          "Biosphere",
          "Biosphere",
          "Biosphere",
          "Biosphere",
          "Biosphere",
          "Biosphere",
          "Biosphere",
          "Biosphere",
          "Biosphere",
          "Biosphere",
          "Biosphere",
          "Biosphere",
          "Biosphere",
          "Biosphere",
          "Biosphere",
          "Biosphere",
          "Biosphere",
          "Biosphere",
          "Biosphere",
          "Biosphere",
          "Biosphere",
          "Biosphere",
          "Biosphere",
          "Biosphere",
          "Biosphere",
          "Biosphere",
          "Biosphere",
          "Biosphere",
          "Biosphere",
          "Biosphere",
          "Biosphere",
          "Biosphere",
          "Biosphere",
          "Biosphere",
          "Biosphere",
          "Biosphere",
          "Biosphere",
          "Biosphere",
          "Biosphere",
          "Biosphere",
          "Biosphere",
          "Biosphere",
          "Biosphere",
          "Biosphere",
          "Biosphere",
          "Biosphere",
          "Biosphere",
          "Biosphere",
          "Biosphere",
          "Biosphere",
          "Biosphere",
          "Biosphere",
          "Biosphere",
          "Cryosphere",
          "Cryosphere",
          "Cryosphere",
          "Cryosphere",
          "Cryosphere",
          "Cryosphere",
          "Cryosphere",
          "Cryosphere",
          "Cryosphere",
          "Cryosphere",
          "Cryosphere",
          "Cryosphere",
          "Cryosphere",
          "Cryosphere",
          "Cryosphere",
          "Cryosphere",
          "Cryosphere",
          "Cryosphere",
          "Cryosphere",
          "Cryosphere",
          "Hydrosphere",
          "Hydrosphere",
          "Hydrosphere",
          "Hydrosphere",
          "Hydrosphere",
          "Hydrosphere",
          "Hydrosphere",
          "Hydrosphere",
          "Hydrosphere",
          "Hydrosphere",
          "Hydrosphere",
          "Hydrosphere",
          "Hydrosphere",
          "Hydrosphere",
          "Hydrosphere",
          "Hydrosphere",
          "Hydrosphere",
          "Hydrosphere",
          "Hydrosphere",
          "Hydrosphere",
          "Hydrosphere",
          "Hydrosphere",
          "Hydrosphere",
          "Hydrosphere",
          "Hydrosphere",
          "Hydrosphere",
          "Hydrosphere",
          "Hydrosphere",
          "Hydrosphere",
          "Hydrosphere",
          "Hydrosphere",
          "Hydrosphere",
          "Hydrosphere",
          "Hydrosphere",
          "Hydrosphere",
          "Hydrosphere",
          "Hydrosphere",
          "Hydrosphere",
          "Hydrosphere",
          "Hydrosphere",
          "Hydrosphere",
          "Hydrosphere",
          "Hydrosphere",
          "Hydrosphere",
          "Hydrosphere",
          "Hydrosphere",
          "Hydrosphere",
          "Hydrosphere",
          "Hydrosphere",
          "Hydrosphere",
          "Hydrosphere",
          "Hydrosphere",
          "Hydrosphere",
          "Hydrosphere",
          "Hydrosphere",
          "Hydrosphere",
          "Hydrosphere",
          "Atmosphere",
          "Atmosphere",
          "Atmosphere",
          "Atmosphere",
          "Atmosphere",
          "Atmosphere",
          "Atmosphere",
          "Atmosphere",
          "Atmosphere",
          "Atmosphere",
          "Atmosphere",
          "Atmosphere",
          "Atmosphere",
          "Atmosphere",
          "Atmosphere",
          "Atmosphere",
          "Atmosphere",
          "Atmosphere",
          "Atmosphere",
          "Earth and Climate Modeling",
          "Earth and Climate Modeling",
          "Earth and Climate Modeling",
          "Earth and Climate Modeling",
          "Earth and Climate Modeling",
          "Earth and Climate Modeling",
          "Earth and Climate Modeling",
          "Earth and Climate Modeling",
          "Earth and Climate Modeling",
          "Earth and Climate Modeling",
          "Earth and Climate Modeling",
          "Earth and Climate Modeling",
          "Earth and Climate Modeling",
          "Earth and Climate Modeling",
          "Earth and Climate Modeling",
          "Earth and Climate Modeling",
          "Earth and Climate Modeling",
          "Earth and Climate Modeling",
          "Earth and Climate Modeling",
          "Earth and Climate Modeling",
          "Earth and Climate Modeling",
          "Earth and Climate Modeling",
          "Earth and Climate Modeling",
          "Earth and Climate Modeling",
          "Earth and Climate Modeling",
          "Earth and Climate Modeling",
          "Earth and Climate Modeling",
          "Earth and Climate Modeling",
          "Earth and Climate Modeling",
          "Earth and Climate Modeling",
          "Earth and Climate Modeling",
          "Earth and Climate Modeling",
          "Earth and Climate Modeling",
          "Earth and Climate Modeling",
          "Earth and Climate Modeling",
          "Earth and Climate Modeling",
          "Earth and Climate Modeling",
          "Earth and Climate Modeling",
          "Earth and Climate Modeling",
          "Earth and Climate Modeling",
          "Earth and Climate Modeling",
          "Earth and Climate Modeling",
          "Earth and Climate Modeling",
          "Earth and Climate Modeling",
          "Earth and Climate Modeling",
          "Earth and Climate Modeling",
          "Earth and Climate Modeling",
          "Earth and Climate Modeling",
          "Earth and Climate Modeling",
          "Earth and Climate Modeling",
          "Earth and Climate Modeling",
          "Earth and Climate Modeling",
          "Earth and Climate Modeling",
          "Earth and Climate Modeling",
          "Earth and Climate Modeling",
          "Earth and Climate Modeling",
          "Radiative Transfer",
          "Radiative Transfer",
          "Radiative Transfer",
          "Radiative Transfer",
          "Radiative Transfer",
          "Radiative Transfer",
          "Meteorological Observation and Forecast",
          "Meteorological Observation and Forecast",
          "Meteorological Observation and Forecast",
          "Meteorological Observation and Forecast",
          "Meteorological Observation and Forecast",
          "Meteorological Observation and Forecast",
          "Meteorological Observation and Forecast",
          "Climate Data Processing and Access",
          "Climate Data Processing and Access",
          "Climate Data Processing and Access",
          "Climate Data Processing and Access",
          "Climate Data Processing and Access",
          "Climate Data Processing and Access",
          "Climate Data Processing and Access",
          "Climate Data Processing and Access",
          "Climate Data Processing and Access",
          "Climate Data Processing and Access",
          "Climate Data Processing and Access",
          "Climate Data Processing and Access",
          "Climate Data Processing and Access",
          "Climate Data Processing and Access",
          "Climate Data Processing and Access",
          "Climate Data Processing and Access",
          "Climate Data Processing and Access",
          "Climate Data Processing and Access",
          "Climate Data Processing and Access",
          "Climate Data Processing and Access",
          "Climate Data Processing and Access",
          "Climate Data Processing and Access",
          "Climate Data Processing and Access",
          "Climate Data Processing and Access",
          "Climate Data Processing and Access",
          "Climate Data Processing and Access",
          "Climate Data Processing and Access",
          "Climate Data Processing and Access",
          "Climate Data Processing and Access",
          "Climate Data Processing and Access",
          "Climate Data Processing and Access",
          "Climate Data Processing and Access",
          "Climate Data Processing and Access",
          "Climate Data Processing and Access",
          "Climate Data Processing and Access",
          "Climate Data Processing and Access",
          "Climate Data Processing and Access",
          "Climate Data Processing and Access",
          "Climate Data Processing and Access",
          "Climate Data Processing and Access",
          "Climate Data Processing and Access",
          "Climate Data Processing and Access",
          "Climate Data Processing and Access",
          "Climate Data Processing and Access",
          "Climate Data Processing and Access",
          "Climate Data Processing and Access",
          "Climate Data Processing and Access",
          "Climate Data Processing and Access",
          "Climate Data Processing and Access",
          "Climate Data Processing and Access",
          "Climate Data Processing and Access",
          "Integrated Assessment",
          "Integrated Assessment",
          "Integrated Assessment",
          "Integrated Assessment",
          "Integrated Assessment",
          "Integrated Assessment",
          "Integrated Assessment",
          "Air Quality",
          "Air Quality",
          "Air Quality",
          "Air Quality",
          "Air Quality",
          "Air Quality",
          "Air Quality",
          "Air Quality",
          "Air Quality",
          "Air Quality",
          "Air Quality",
          "Air Quality",
          "Air Quality",
          "Air Quality",
          "Air Quality",
          "Air Quality",
          "Air Quality",
          "Air Quality",
          "Air Quality",
          "Air Quality",
          "Air Quality",
          "Air Quality",
          "Air Quality",
          "Air Quality",
          "Water Supply and Quality",
          "Water Supply and Quality",
          "Water Supply and Quality",
          "Water Supply and Quality",
          "Water Supply and Quality",
          "Water Supply and Quality",
          "Water Supply and Quality",
          "Water Supply and Quality",
          "Water Supply and Quality",
          "Water Supply and Quality",
          "Water Supply and Quality",
          "Water Supply and Quality",
          "Water Supply and Quality",
          "Water Supply and Quality",
          "Water Supply and Quality",
          "Water Supply and Quality",
          "Water Supply and Quality",
          "Water Supply and Quality",
          "Water Supply and Quality",
          "Water Supply and Quality",
          "Water Supply and Quality",
          "Water Supply and Quality",
          "Water Supply and Quality",
          "Water Supply and Quality",
          "Water Supply and Quality",
          "Water Supply and Quality",
          "Water Supply and Quality",
          "Water Supply and Quality",
          "Water Supply and Quality",
          "Water Supply and Quality",
          "Water Supply and Quality",
          "Water Supply and Quality",
          "Water Supply and Quality",
          "Water Supply and Quality",
          "Water Supply and Quality",
          "Water Supply and Quality",
          "Water Supply and Quality",
          "Water Supply and Quality",
          "Water Supply and Quality",
          "Water Supply and Quality",
          "Water Supply and Quality",
          "Water Supply and Quality",
          "Water Supply and Quality",
          "Water Supply and Quality",
          "Water Supply and Quality",
          "Water Supply and Quality",
          "Water Supply and Quality",
          "Water Supply and Quality",
          "Water Supply and Quality",
          "Water Supply and Quality",
          "Water Supply and Quality",
          "Water Supply and Quality",
          "Soil and Land",
          "Soil and Land",
          "Soil and Land",
          "Soil and Land",
          "Soil and Land",
          "Soil and Land",
          "Soil and Land",
          "Soil and Land",
          "Soil and Land",
          "Soil and Land",
          "Soil and Land",
          "Soil and Land",
          "Soil and Land",
          "Soil and Land",
          "Soil and Land",
          "Soil and Land",
          "Soil and Land",
          "Soil and Land",
          "Soil and Land",
          "Soil and Land",
          "Soil and Land",
          "Soil and Land",
          "Soil and Land",
          "Soil and Land",
          "Soil and Land",
          "Soil and Land",
          "Soil and Land",
          "Soil and Land",
          "Soil and Land",
          "Soil and Land",
          "Soil and Land",
          "Soil and Land",
          "Soil and Land",
          "Agriculture and Nutrition",
          "Agriculture and Nutrition",
          "Agriculture and Nutrition",
          "Agriculture and Nutrition",
          "Agriculture and Nutrition",
          "Agriculture and Nutrition",
          "Agriculture and Nutrition",
          "Agriculture and Nutrition",
          "Agriculture and Nutrition",
          "Agriculture and Nutrition",
          "Agriculture and Nutrition",
          "Agriculture and Nutrition",
          "Agriculture and Nutrition",
          "Agriculture and Nutrition",
          "Agriculture and Nutrition",
          "Agriculture and Nutrition",
          "Agriculture and Nutrition",
          "Agriculture and Nutrition",
          "Agriculture and Nutrition",
          "Agriculture and Nutrition",
          "Agriculture and Nutrition",
          "Agriculture and Nutrition",
          "Agriculture and Nutrition",
          "Agriculture and Nutrition",
          "Agriculture and Nutrition",
          "Agriculture and Nutrition",
          "Agriculture and Nutrition",
          "Agriculture and Nutrition",
          "Agriculture and Nutrition",
          "Agriculture and Nutrition",
          "Natural Hazard and Poverty",
          "Natural Hazard and Poverty",
          "Natural Hazard and Poverty",
          "Natural Hazard and Poverty",
          "Natural Hazard and Poverty",
          "Natural Hazard and Poverty",
          "Natural Hazard and Poverty",
          "Natural Hazard and Poverty",
          "Natural Hazard and Poverty",
          "Natural Hazard and Poverty",
          "Natural Hazard and Poverty",
          "Natural Hazard and Poverty",
          "Sustainable Development Goals",
          "Sustainable Development Goals",
          "Sustainable Development Goals",
          "Sustainable Development Goals",
          "Sustainable Development Goals",
          "Sustainable Development Goals",
          "Sustainable Investment",
          "Sustainable Investment",
          "Sustainable Investment",
          "Sustainable Investment",
          "Sustainable Investment",
          "Sustainable Investment",
          "Sustainable Investment",
          "Sustainable Investment",
          "Sustainable Investment",
          "Knowledge Platforms",
          "Knowledge Platforms",
          "Knowledge Platforms",
          "Knowledge Platforms",
          "Knowledge Platforms",
          "Knowledge Platforms",
          "Knowledge Platforms",
          "Knowledge Platforms",
          "Knowledge Platforms",
          "Knowledge Platforms",
          "Knowledge Platforms",
          "Knowledge Platforms",
          "Knowledge Platforms",
          "Data Catalogs and Interfaces",
          "Data Catalogs and Interfaces",
          "Data Catalogs and Interfaces",
          "Data Catalogs and Interfaces",
          "Data Catalogs and Interfaces",
          "Data Catalogs and Interfaces",
          "Data Catalogs and Interfaces",
          "Data Catalogs and Interfaces",
          "Data Catalogs and Interfaces",
          "Data Catalogs and Interfaces",
          "Data Catalogs and Interfaces",
          "Data Catalogs and Interfaces",
          "Data Catalogs and Interfaces",
          "Data Catalogs and Interfaces",
          "Data Catalogs and Interfaces",
          "Data Catalogs and Interfaces",
          "Data Catalogs and Interfaces",
          "Data Catalogs and Interfaces",
          "Data Catalogs and Interfaces",
          "Data Catalogs and Interfaces",
          "Data Catalogs and Interfaces",
          "Data Catalogs and Interfaces",
          "Data Catalogs and Interfaces",
          "Data Catalogs and Interfaces",
          "Data Catalogs and Interfaces",
          "Data Catalogs and Interfaces",
          "Data Catalogs and Interfaces",
          "Data Catalogs and Interfaces",
          "Data Catalogs and Interfaces",
          "Data Catalogs and Interfaces"
         ],
         "yaxis": "y"
        }
       ],
       "layout": {
        "coloraxis": {
         "colorbar": {
          "title": {
           "text": "DDS"
          }
         },
         "colorscale": [
          [
           0,
           "#0d0887"
          ],
          [
           0.1111111111111111,
           "#46039f"
          ],
          [
           0.2222222222222222,
           "#7201a8"
          ],
          [
           0.3333333333333333,
           "#9c179e"
          ],
          [
           0.4444444444444444,
           "#bd3786"
          ],
          [
           0.5555555555555556,
           "#d8576b"
          ],
          [
           0.6666666666666666,
           "#ed7953"
          ],
          [
           0.7777777777777778,
           "#fb9f3a"
          ],
          [
           0.8888888888888888,
           "#fdca26"
          ],
          [
           1,
           "#f0f921"
          ]
         ]
        },
        "height": 1000,
        "hoverlabel": {
         "bgcolor": "white"
        },
        "images": [
         {
          "sizex": 0.05,
          "sizey": 0.05,
          "source": "data:image/png;base64,iVBORw0KGgoAAAANSUhEUgAAADwAAAA8CAYAAAA6/NlyAAAD20lEQVR4nO2ZTWgcZRjHf8/spjWkFYmKmbR+oVKaCPbQU8i2tCBqEbrU7LIJVhG0PVWQih4UehAVQVAkAQ/qRW1WdhPrB+pJ1DQF6aEnQ0WqqCQbhfpFW6nJzOMhBgQ3u+/MvPORmP91n/n/nx/v7DvPvCOqyv9JTtoNJK114LWufBIh5TIbZj3uQLldhJtV2CJwlfrkpicpJtHDsmIDHtzPZjo4gM8IQkGgE1n6Tf7ZJ0W4HFf+SrIOvLvI9YsORyXPwyhdy5BZkTXgwf1s1jzHJMejAh22fG3LCnDhAHeT53WBXht+cSoS8J495Beu5nmEo5C1m7e5QgPv28fGxW7eQhmy2VDcCgV81wN0XezkE2DQcj+xKzDwzsN0XHGJGqsQFkJMWp3nGUO5J45mklCgFS7cx0GFRyzk/izCT6p8Z8ErkMT09XCgzBZnkRmEK0NmTaswicd70+9yLqRHZBmvcM7jZQ0He1qEZ6bqfBDiWusyWuGBEgOOz3RAb1+Ep05O8IIqmTllMFphR3k6oO8FUYanJvgwRE+xqu0K7yrT53t8FcDTE6U4NZk9WDB4LKnHg0EMVXgiq7DQBlgEAUYC+H15aoKXorUUr1oCF0psV9hqaibK41naoJqpJbDvs9fYSflsapKTkTuKWa3/w8oOUyOBetRmklC7TWuboY86Pu9HbSYJtQO+0dDn/Ocn+DFqM0mo9S6N8Sg5Z6GXRNRy0lIYUyHXzkSUb+y1FK+M35bWitY/tSQhaVQvAxvaV+oX6g7vtpmd1gpfMCsT13ZwWsC/GdZZP9hPCVi/NSzsktnjO2wmpwOs8rVxrThFm9HpADt62rhWGBKLn3HSAfbl0wDV/cxVy7aiUxs8pFGdAbYblp/j11yf9pX+ipqb5uBxPEDtLXT7L9oITRHYfxPwjMtVj0jjnUNRU1MDVnfkeyTooYGOSmP8cJTcdGfpRX0OAp2BdYC8KnPVUZmpGYym/1Xqb0syP/4GKg+FuPQHkGdxz76mHPON89IHrl2LemeB7nAOOoNSBzmhvZUzbfPSBgaQ+eoQSs2C1Z8IsygNdSu7mhVk4n1Yeyp1lDELVp0otwKFlQoyAQxA7x+PAR/HHZMZYOXQAs5CCTgVZ05mgAH0uoMXYdOdIB/FlZEpYAB1772E+3sRYTQO/8wBw9LtrT2VIwgl4Beb3pkEXpb2VOp4uduAVwDj4aKVMvEcNpHMj/ej8iQwjMFpq7qVpocGqwZ4WdKo3QDe/Sx9qO9fqW7NAP9bMvv2VnL5vcBOVLcBNwHXAJvUrWxses1qBg6jTG9acWgdeK3rb5uuGEmTzESgAAAAAElFTkSuQmCC",
          "x": 1,
          "xanchor": "right",
          "xref": "paper",
          "y": 1,
          "yanchor": "top",
          "yref": "paper"
         }
        ],
        "legend": {
         "itemsizing": "constant",
         "tracegroupgap": 0
        },
        "margin": {
         "t": 60
        },
        "template": {
         "data": {
          "bar": [
           {
            "error_x": {
             "color": "#2a3f5f"
            },
            "error_y": {
             "color": "#2a3f5f"
            },
            "marker": {
             "line": {
              "color": "#E5ECF6",
              "width": 0.5
             }
            },
            "type": "bar"
           }
          ],
          "barpolar": [
           {
            "marker": {
             "line": {
              "color": "#E5ECF6",
              "width": 0.5
             }
            },
            "type": "barpolar"
           }
          ],
          "carpet": [
           {
            "aaxis": {
             "endlinecolor": "#2a3f5f",
             "gridcolor": "white",
             "linecolor": "white",
             "minorgridcolor": "white",
             "startlinecolor": "#2a3f5f"
            },
            "baxis": {
             "endlinecolor": "#2a3f5f",
             "gridcolor": "white",
             "linecolor": "white",
             "minorgridcolor": "white",
             "startlinecolor": "#2a3f5f"
            },
            "type": "carpet"
           }
          ],
          "choropleth": [
           {
            "colorbar": {
             "outlinewidth": 0,
             "ticks": ""
            },
            "type": "choropleth"
           }
          ],
          "contour": [
           {
            "colorbar": {
             "outlinewidth": 0,
             "ticks": ""
            },
            "colorscale": [
             [
              0,
              "#0d0887"
             ],
             [
              0.1111111111111111,
              "#46039f"
             ],
             [
              0.2222222222222222,
              "#7201a8"
             ],
             [
              0.3333333333333333,
              "#9c179e"
             ],
             [
              0.4444444444444444,
              "#bd3786"
             ],
             [
              0.5555555555555556,
              "#d8576b"
             ],
             [
              0.6666666666666666,
              "#ed7953"
             ],
             [
              0.7777777777777778,
              "#fb9f3a"
             ],
             [
              0.8888888888888888,
              "#fdca26"
             ],
             [
              1,
              "#f0f921"
             ]
            ],
            "type": "contour"
           }
          ],
          "contourcarpet": [
           {
            "colorbar": {
             "outlinewidth": 0,
             "ticks": ""
            },
            "type": "contourcarpet"
           }
          ],
          "heatmap": [
           {
            "colorbar": {
             "outlinewidth": 0,
             "ticks": ""
            },
            "colorscale": [
             [
              0,
              "#0d0887"
             ],
             [
              0.1111111111111111,
              "#46039f"
             ],
             [
              0.2222222222222222,
              "#7201a8"
             ],
             [
              0.3333333333333333,
              "#9c179e"
             ],
             [
              0.4444444444444444,
              "#bd3786"
             ],
             [
              0.5555555555555556,
              "#d8576b"
             ],
             [
              0.6666666666666666,
              "#ed7953"
             ],
             [
              0.7777777777777778,
              "#fb9f3a"
             ],
             [
              0.8888888888888888,
              "#fdca26"
             ],
             [
              1,
              "#f0f921"
             ]
            ],
            "type": "heatmap"
           }
          ],
          "heatmapgl": [
           {
            "colorbar": {
             "outlinewidth": 0,
             "ticks": ""
            },
            "colorscale": [
             [
              0,
              "#0d0887"
             ],
             [
              0.1111111111111111,
              "#46039f"
             ],
             [
              0.2222222222222222,
              "#7201a8"
             ],
             [
              0.3333333333333333,
              "#9c179e"
             ],
             [
              0.4444444444444444,
              "#bd3786"
             ],
             [
              0.5555555555555556,
              "#d8576b"
             ],
             [
              0.6666666666666666,
              "#ed7953"
             ],
             [
              0.7777777777777778,
              "#fb9f3a"
             ],
             [
              0.8888888888888888,
              "#fdca26"
             ],
             [
              1,
              "#f0f921"
             ]
            ],
            "type": "heatmapgl"
           }
          ],
          "histogram": [
           {
            "marker": {
             "colorbar": {
              "outlinewidth": 0,
              "ticks": ""
             }
            },
            "type": "histogram"
           }
          ],
          "histogram2d": [
           {
            "colorbar": {
             "outlinewidth": 0,
             "ticks": ""
            },
            "colorscale": [
             [
              0,
              "#0d0887"
             ],
             [
              0.1111111111111111,
              "#46039f"
             ],
             [
              0.2222222222222222,
              "#7201a8"
             ],
             [
              0.3333333333333333,
              "#9c179e"
             ],
             [
              0.4444444444444444,
              "#bd3786"
             ],
             [
              0.5555555555555556,
              "#d8576b"
             ],
             [
              0.6666666666666666,
              "#ed7953"
             ],
             [
              0.7777777777777778,
              "#fb9f3a"
             ],
             [
              0.8888888888888888,
              "#fdca26"
             ],
             [
              1,
              "#f0f921"
             ]
            ],
            "type": "histogram2d"
           }
          ],
          "histogram2dcontour": [
           {
            "colorbar": {
             "outlinewidth": 0,
             "ticks": ""
            },
            "colorscale": [
             [
              0,
              "#0d0887"
             ],
             [
              0.1111111111111111,
              "#46039f"
             ],
             [
              0.2222222222222222,
              "#7201a8"
             ],
             [
              0.3333333333333333,
              "#9c179e"
             ],
             [
              0.4444444444444444,
              "#bd3786"
             ],
             [
              0.5555555555555556,
              "#d8576b"
             ],
             [
              0.6666666666666666,
              "#ed7953"
             ],
             [
              0.7777777777777778,
              "#fb9f3a"
             ],
             [
              0.8888888888888888,
              "#fdca26"
             ],
             [
              1,
              "#f0f921"
             ]
            ],
            "type": "histogram2dcontour"
           }
          ],
          "mesh3d": [
           {
            "colorbar": {
             "outlinewidth": 0,
             "ticks": ""
            },
            "type": "mesh3d"
           }
          ],
          "parcoords": [
           {
            "line": {
             "colorbar": {
              "outlinewidth": 0,
              "ticks": ""
             }
            },
            "type": "parcoords"
           }
          ],
          "pie": [
           {
            "automargin": true,
            "type": "pie"
           }
          ],
          "scatter": [
           {
            "marker": {
             "colorbar": {
              "outlinewidth": 0,
              "ticks": ""
             }
            },
            "type": "scatter"
           }
          ],
          "scatter3d": [
           {
            "line": {
             "colorbar": {
              "outlinewidth": 0,
              "ticks": ""
             }
            },
            "marker": {
             "colorbar": {
              "outlinewidth": 0,
              "ticks": ""
             }
            },
            "type": "scatter3d"
           }
          ],
          "scattercarpet": [
           {
            "marker": {
             "colorbar": {
              "outlinewidth": 0,
              "ticks": ""
             }
            },
            "type": "scattercarpet"
           }
          ],
          "scattergeo": [
           {
            "marker": {
             "colorbar": {
              "outlinewidth": 0,
              "ticks": ""
             }
            },
            "type": "scattergeo"
           }
          ],
          "scattergl": [
           {
            "marker": {
             "colorbar": {
              "outlinewidth": 0,
              "ticks": ""
             }
            },
            "type": "scattergl"
           }
          ],
          "scattermapbox": [
           {
            "marker": {
             "colorbar": {
              "outlinewidth": 0,
              "ticks": ""
             }
            },
            "type": "scattermapbox"
           }
          ],
          "scatterpolar": [
           {
            "marker": {
             "colorbar": {
              "outlinewidth": 0,
              "ticks": ""
             }
            },
            "type": "scatterpolar"
           }
          ],
          "scatterpolargl": [
           {
            "marker": {
             "colorbar": {
              "outlinewidth": 0,
              "ticks": ""
             }
            },
            "type": "scatterpolargl"
           }
          ],
          "scatterternary": [
           {
            "marker": {
             "colorbar": {
              "outlinewidth": 0,
              "ticks": ""
             }
            },
            "type": "scatterternary"
           }
          ],
          "surface": [
           {
            "colorbar": {
             "outlinewidth": 0,
             "ticks": ""
            },
            "colorscale": [
             [
              0,
              "#0d0887"
             ],
             [
              0.1111111111111111,
              "#46039f"
             ],
             [
              0.2222222222222222,
              "#7201a8"
             ],
             [
              0.3333333333333333,
              "#9c179e"
             ],
             [
              0.4444444444444444,
              "#bd3786"
             ],
             [
              0.5555555555555556,
              "#d8576b"
             ],
             [
              0.6666666666666666,
              "#ed7953"
             ],
             [
              0.7777777777777778,
              "#fb9f3a"
             ],
             [
              0.8888888888888888,
              "#fdca26"
             ],
             [
              1,
              "#f0f921"
             ]
            ],
            "type": "surface"
           }
          ],
          "table": [
           {
            "cells": {
             "fill": {
              "color": "#EBF0F8"
             },
             "line": {
              "color": "white"
             }
            },
            "header": {
             "fill": {
              "color": "#C8D4E3"
             },
             "line": {
              "color": "white"
             }
            },
            "type": "table"
           }
          ]
         },
         "layout": {
          "annotationdefaults": {
           "arrowcolor": "#2a3f5f",
           "arrowhead": 0,
           "arrowwidth": 1
          },
          "coloraxis": {
           "colorbar": {
            "outlinewidth": 0,
            "ticks": ""
           }
          },
          "colorscale": {
           "diverging": [
            [
             0,
             "#8e0152"
            ],
            [
             0.1,
             "#c51b7d"
            ],
            [
             0.2,
             "#de77ae"
            ],
            [
             0.3,
             "#f1b6da"
            ],
            [
             0.4,
             "#fde0ef"
            ],
            [
             0.5,
             "#f7f7f7"
            ],
            [
             0.6,
             "#e6f5d0"
            ],
            [
             0.7,
             "#b8e186"
            ],
            [
             0.8,
             "#7fbc41"
            ],
            [
             0.9,
             "#4d9221"
            ],
            [
             1,
             "#276419"
            ]
           ],
           "sequential": [
            [
             0,
             "#0d0887"
            ],
            [
             0.1111111111111111,
             "#46039f"
            ],
            [
             0.2222222222222222,
             "#7201a8"
            ],
            [
             0.3333333333333333,
             "#9c179e"
            ],
            [
             0.4444444444444444,
             "#bd3786"
            ],
            [
             0.5555555555555556,
             "#d8576b"
            ],
            [
             0.6666666666666666,
             "#ed7953"
            ],
            [
             0.7777777777777778,
             "#fb9f3a"
            ],
            [
             0.8888888888888888,
             "#fdca26"
            ],
            [
             1,
             "#f0f921"
            ]
           ],
           "sequentialminus": [
            [
             0,
             "#0d0887"
            ],
            [
             0.1111111111111111,
             "#46039f"
            ],
            [
             0.2222222222222222,
             "#7201a8"
            ],
            [
             0.3333333333333333,
             "#9c179e"
            ],
            [
             0.4444444444444444,
             "#bd3786"
            ],
            [
             0.5555555555555556,
             "#d8576b"
            ],
            [
             0.6666666666666666,
             "#ed7953"
            ],
            [
             0.7777777777777778,
             "#fb9f3a"
            ],
            [
             0.8888888888888888,
             "#fdca26"
            ],
            [
             1,
             "#f0f921"
            ]
           ]
          },
          "colorway": [
           "#636efa",
           "#EF553B",
           "#00cc96",
           "#ab63fa",
           "#FFA15A",
           "#19d3f3",
           "#FF6692",
           "#B6E880",
           "#FF97FF",
           "#FECB52"
          ],
          "font": {
           "color": "#040404",
           "family": "Open Sans",
           "size": 15
          },
          "geo": {
           "bgcolor": "white",
           "lakecolor": "white",
           "landcolor": "#E5ECF6",
           "showlakes": true,
           "showland": true,
           "subunitcolor": "white"
          },
          "hoverlabel": {
           "align": "left"
          },
          "hovermode": "closest",
          "mapbox": {
           "style": "light"
          },
          "margin": {
           "b": 0
          },
          "paper_bgcolor": "white",
          "plot_bgcolor": "#E5ECF6",
          "polar": {
           "angularaxis": {
            "gridcolor": "white",
            "linecolor": "white",
            "ticks": ""
           },
           "bgcolor": "#E5ECF6",
           "radialaxis": {
            "gridcolor": "white",
            "linecolor": "white",
            "ticks": ""
           }
          },
          "scene": {
           "xaxis": {
            "backgroundcolor": "#E5ECF6",
            "gridcolor": "white",
            "gridwidth": 2,
            "linecolor": "white",
            "showbackground": true,
            "ticks": "",
            "zerolinecolor": "white"
           },
           "yaxis": {
            "backgroundcolor": "#E5ECF6",
            "gridcolor": "white",
            "gridwidth": 2,
            "linecolor": "white",
            "showbackground": true,
            "ticks": "",
            "zerolinecolor": "white"
           },
           "zaxis": {
            "backgroundcolor": "#E5ECF6",
            "gridcolor": "white",
            "gridwidth": 2,
            "linecolor": "white",
            "showbackground": true,
            "ticks": "",
            "zerolinecolor": "white"
           }
          },
          "shapedefaults": {
           "line": {
            "color": "#2a3f5f"
           }
          },
          "ternary": {
           "aaxis": {
            "gridcolor": "white",
            "linecolor": "white",
            "ticks": ""
           },
           "baxis": {
            "gridcolor": "white",
            "linecolor": "white",
            "ticks": ""
           },
           "bgcolor": "#E5ECF6",
           "caxis": {
            "gridcolor": "white",
            "linecolor": "white",
            "ticks": ""
           }
          },
          "title": {
           "font": {
            "color": "#040404",
            "family": "Open Sans"
           },
           "x": 0.05
          },
          "xaxis": {
           "automargin": true,
           "gridcolor": "white",
           "linecolor": "white",
           "ticks": "",
           "title": {
            "standoff": 15
           },
           "zerolinecolor": "white",
           "zerolinewidth": 2
          },
          "yaxis": {
           "automargin": true,
           "gridcolor": "white",
           "linecolor": "white",
           "ticks": "",
           "title": {
            "standoff": 15
           },
           "zerolinecolor": "white",
           "zerolinewidth": 2
          }
         }
        },
        "title": {
         "text": "Development Distribution Score within Topics"
        },
        "width": 1200,
        "xaxis": {
         "anchor": "y",
         "domain": [
          0,
          1
         ],
         "title": {
          "text": "Project Age in Years"
         }
        },
        "yaxis": {
         "anchor": "x",
         "domain": [
          0,
          1
         ],
         "title": {}
        }
       }
      }
     },
     "metadata": {},
     "output_type": "display_data"
    }
   ],
   "source": [
    "max_age_in_years=10\n",
    "fig = px.scatter(\n",
    "    df_active.query(\"project_age_in_years<@max_age_in_years\"),\n",
    "    x=\"project_age_in_years\",\n",
    "    y=\"topic\",\n",
    "    size=\"size\",\n",
    "    color=\"development_distribution_score\",\n",
    "    custom_data=[\"project_name\",\"oneliner\",\"topic\",\"git_url\"],\n",
    "    size_max=20,\n",
    ")\n",
    "\n",
    "fig.update_layout(\n",
    "    coloraxis_colorbar=dict(\n",
    "        title=\"DDS\",\n",
    "    ),\n",
    "    yaxis_title=None,\n",
    "    xaxis_title=\"Project Age in Years\",\n",
    "    height=1000,  # Added parameter\n",
    "    width=1200,\n",
    "    title=\"Development Distribution Score within Topics\",\n",
    "    hoverlabel=dict(\n",
    "    bgcolor=\"white\"\n",
    ")\n",
    ")\n",
    "fig.update_traces(\n",
    "    hovertemplate=\"<br>\".join([\n",
    "        \"Project Name: <b>%{customdata[0]}\",\n",
    "        \"Project Info: <b>%{customdata[1]}</b>\",\n",
    "        \"Topic: <b>%{customdata[2]}</b>\",\n",
    "        \"Git URL: <b>%{customdata[3]}</b>\"\n",
    "    ])\n",
    ")\n",
    "fig.add_layout_image(\n",
    "    dict(\n",
    "        source=logo_img,\n",
    "        xref=\"paper\", yref=\"paper\",\n",
    "        x=1, y=1,\n",
    "        sizex=0.05, sizey=0.05,\n",
    "        xanchor=\"right\", yanchor=\"top\"\n",
    "    )\n",
    ")\n",
    "fig['layout']['xaxis']['autorange'] = \"reversed\"\n",
    "\n",
    "fig.show()"
   ]
  },
  {
   "cell_type": "markdown",
   "metadata": {},
   "source": [
    "```{figure} data:image/gif;base64,R0lGODlhAQABAIAAAAAAAP///yH5BAEAAAAALAAAAAABAAEAAAIBRAA7\n",
    ":figclass: caption-hack\n",
    ":name: median-dds-overview\n",
    "\n",
    "Development Distribution Score of all projects\n",
    "```"
   ]
  }
 ],
 "metadata": {
  "celltoolbar": "Tags",
  "kernelspec": {
   "display_name": "Python 3.8.10 64-bit",
   "language": "python",
   "name": "python3"
  },
  "language_info": {
   "codemirror_mode": {
    "name": "ipython",
    "version": 3
   },
   "file_extension": ".py",
   "mimetype": "text/x-python",
   "name": "python",
   "nbconvert_exporter": "python",
   "pygments_lexer": "ipython3",
   "version": "3.8.10"
  },
  "tags": "full-width",
  "vscode": {
   "interpreter": {
    "hash": "e7370f93d1d0cde622a1f8e1c04877d8463912d04d973331ad4851f04de6915a"
   }
  }
 },
 "nbformat": 4,
 "nbformat_minor": 4
}
