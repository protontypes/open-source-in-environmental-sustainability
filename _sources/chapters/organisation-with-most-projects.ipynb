{
 "cells": [
  {
   "cell_type": "markdown",
   "metadata": {},
   "source": [
    "# Organisations With Most Listed Repositories\n",
    "\n",
    "Ranking organisations by the number of active projects in the GitHub namespace shows another important indicator of where strong developments are evident. [National Renewable Energy Laboratory](https://github.com/NREL) and [rOpenSci](https://github.com/ropensci) in particular, stand out. Again, the strength of the US government agency also becomes clear. It is worth noting, however, that organisations that adopt frameworks that rely on strong modularity, such as [Open Energy Modelling Framework](https://github.com/oemof), [Wind-Plant Integrated System Design and Engineering Model](https://github.com/WISDEM) or the [Climate Modeling Alliance](https://github.com/CliMA) may be overrepresented compared to projects using monoreprositories (a version-controlled code repository that holds many projects, also known as a [monorepo](https://en.wikipedia.org/wiki/Monorepo))."
   ]
  },
  {
   "cell_type": "code",
   "execution_count": null,
   "metadata": {
    "tags": [
     "remove-cell"
    ]
   },
   "outputs": [],
   "source": [
    "import dateparser\n",
    "import datetime\n",
    "import handcalcs.render\n",
    "import numpy as np\n",
    "import pandas as pd\n",
    "import plotly.io as pio\n",
    "import plotly.graph_objects as go\n",
    "import plotly.express as px\n",
    "import pycountry\n",
    "from pycountry_convert import (\n",
    "    country_alpha2_to_continent_code,\n",
    "    country_alpha3_to_country_alpha2,\n",
    ")\n",
    "from opensustainTemplate import *"
   ]
  },
  {
   "cell_type": "code",
   "execution_count": null,
   "metadata": {
    "tags": [
     "remove-cell"
    ]
   },
   "outputs": [],
   "source": [
    "df_active = pd.read_csv(\"../csv/project_analysis.csv\")\n",
    "\n",
    "\n",
    "def text_to_link(organization_name, git_url):\n",
    "    if type(organization_name) is float or type(organization_name) is float:\n",
    "        return organization_name\n",
    "    return '<a href=\"' + git_url + '\">' + organization_name + \"</a>\"\n",
    "\n",
    "\n",
    "df_active[\"organization\"] = df_active.apply(\n",
    "    lambda x: text_to_link(x.organization, x.organization_github_url), axis=1\n",
    ")"
   ]
  },
  {
   "cell_type": "code",
   "execution_count": null,
   "metadata": {
    "tags": [
     "remove-input"
    ]
   },
   "outputs": [],
   "source": [
    "most_listed_projects = (\n",
    "    df_active[\"organization\"]\n",
    "    .value_counts(ascending=False)\n",
    "    .to_frame()\n",
    "    .rename_axis(\"Namespace\")\n",
    "    .reset_index()\n",
    "    .rename(columns={\"organization\": \"counts\"})\n",
    ")\n",
    "most_listed_projects = most_listed_projects[most_listed_projects[\"counts\"] > 1]\n",
    "fig = go.Figure(\n",
    "    data=[\n",
    "        go.Table(\n",
    "            columnwidth=[300, 40],\n",
    "            header=dict(\n",
    "                values=list(most_listed_projects.columns),\n",
    "                line_color=\"#000000\",\n",
    "                fill_color=\"#ffffff\",\n",
    "                font_size=18,\n",
    "            ),\n",
    "            cells=dict(\n",
    "                line_color=\"#ffffff\",\n",
    "                fill_color=\"#ffffff\",\n",
    "                font_size=16,\n",
    "                height=30,\n",
    "                values=[most_listed_projects.Namespace, most_listed_projects.counts],\n",
    "            ),\n",
    "        )\n",
    "    ]\n",
    ")\n",
    "fig.update_layout(\n",
    "    autosize=False,\n",
    "    height=800,  # Added parameter\n",
    "    width=700,\n",
    ")\n",
    "fig[\"layout\"].update(margin=dict(l=5, r=5, b=0, t=5))\n",
    "\n",
    "\n",
    "fig.show()"
   ]
  },
  {
   "cell_type": "markdown",
   "metadata": {},
   "source": [
    "```{figure} data:image/gif;base64,R0lGODlhAQABAIAAAAAAAP///yH5BAEAAAAALAAAAAABAAEAAAIBRAA7\n",
    ":figclass: caption-hack\n",
    ":name: organisations-with-most-projects\n",
    "\n",
    "<br/>Organisations with the most listed projects\n",
    "```"
   ]
  }
 ],
 "metadata": {
  "celltoolbar": "Tags",
  "kernelspec": {
   "display_name": "Python 3",
   "language": "python",
   "name": "python3"
  },
  "language_info": {
   "codemirror_mode": {
    "name": "ipython",
    "version": 3
   },
   "file_extension": ".py",
   "mimetype": "text/x-python",
   "name": "python",
   "nbconvert_exporter": "python",
   "pygments_lexer": "ipython3",
   "version": "3.8.10"
  },
  "tags": "full-width",
  "vscode": {
   "interpreter": {
    "hash": "e7370f93d1d0cde622a1f8e1c04877d8463912d04d973331ad4851f04de6915a"
   }
  }
 },
 "nbformat": 4,
 "nbformat_minor": 4
}
