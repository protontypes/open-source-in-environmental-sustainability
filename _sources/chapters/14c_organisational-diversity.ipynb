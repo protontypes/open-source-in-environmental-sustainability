{
 "cells": [
  {
   "cell_type": "markdown",
   "metadata": {},
   "source": [
    "# Organisational diversity\n",
    "We collected the details of organisations affiliated with the projects identified. All organisations were labelled by 6 distinct categories:"
   ]
  },
  {
   "cell_type": "code",
   "execution_count": 16,
   "metadata": {
    "tags": [
     "remove-cell"
    ]
   },
   "outputs": [],
   "source": [
    "import dateparser\n",
    "import datetime\n",
    "import handcalcs.render\n",
    "import numpy as np\n",
    "import pandas as pd\n",
    "import plotly.io as pio\n",
    "import plotly.graph_objects as go\n",
    "import plotly.express as px\n",
    "import pycountry\n",
    "from pycountry_convert import (\n",
    "    country_alpha2_to_continent_code,\n",
    "    country_alpha3_to_country_alpha2,\n",
    ")\n",
    "from opensustain_template import *"
   ]
  },
  {
   "cell_type": "code",
   "execution_count": 17,
   "metadata": {
    "tags": [
     "remove-cell"
    ]
   },
   "outputs": [],
   "source": [
    "def upper_string(lower_string):\n",
    "    \"\"\"Apply title format\n",
    "    Arguments:\n",
    "        lower_string - a string \n",
    "    Outputs: \n",
    "        A string with a title format\n",
    "        \n",
    "    \"\"\"\n",
    "    \n",
    "    return lower_string.title()"
   ]
  },
  {
   "cell_type": "code",
   "execution_count": 18,
   "metadata": {
    "tags": [
     "hide-input",
     "remove-cell"
    ]
   },
   "outputs": [],
   "source": [
    "df_active = pd.read_csv(\"../csv/project_analysis.csv\")\n",
    "df_organizations = pd.read_csv(\"../csv/github_organizations.csv\")"
   ]
  },
  {
   "cell_type": "code",
   "execution_count": 19,
   "metadata": {
    "tags": [
     "hide-input",
     "full-width"
    ]
   },
   "outputs": [
    {
     "data": {
      "application/vnd.plotly.v1+json": {
       "config": {
        "plotlyServerURL": "https://plot.ly"
       },
       "data": [
        {
         "domain": {
          "x": [
           0,
           1
          ],
          "y": [
           0,
           1
          ]
         },
         "hole": 0.2,
         "hoverlabel": {
          "namelength": 0
         },
         "hovertemplate": "organization=%{label}<br>form_of_organization=%{value}",
         "labels": [
          "Community",
          "Academia",
          "Government Agency",
          "For-Profit",
          "Non-Profit",
          "Collaboration"
         ],
         "legendgroup": "",
         "marker": {
          "line": {
           "color": "#000000",
           "width": 2
          }
         },
         "name": "",
         "showlegend": true,
         "textinfo": "percent+label",
         "textposition": "outside",
         "type": "pie",
         "values": [
          162,
          147,
          100,
          90,
          68,
          61
         ]
        }
       ],
       "layout": {
        "font": {
         "size": 16
        },
        "hovermode": false,
        "images": [
         {
          "sizex": 0.05,
          "sizey": 0.05,
          "source": "logo.png",
          "x": 1,
          "xanchor": "right",
          "xref": "paper",
          "y": 1,
          "yanchor": "top",
          "yref": "paper"
         }
        ],
        "legend": {
         "tracegroupgap": 0
        },
        "margin": {
         "b": 50,
         "l": 0,
         "r": 0,
         "t": 40
        },
        "piecolorway": [
         "#0E7C7B",
         "#17BEBB",
         "#FFC857",
         "#E9724C",
         "#C5283D"
        ],
        "showlegend": false,
        "template": {
         "data": {
          "bar": [
           {
            "error_x": {
             "color": "#2a3f5f"
            },
            "error_y": {
             "color": "#2a3f5f"
            },
            "marker": {
             "line": {
              "color": "#E5ECF6",
              "width": 0.5
             }
            },
            "type": "bar"
           }
          ],
          "barpolar": [
           {
            "marker": {
             "line": {
              "color": "#E5ECF6",
              "width": 0.5
             }
            },
            "type": "barpolar"
           }
          ],
          "carpet": [
           {
            "aaxis": {
             "endlinecolor": "#2a3f5f",
             "gridcolor": "white",
             "linecolor": "white",
             "minorgridcolor": "white",
             "startlinecolor": "#2a3f5f"
            },
            "baxis": {
             "endlinecolor": "#2a3f5f",
             "gridcolor": "white",
             "linecolor": "white",
             "minorgridcolor": "white",
             "startlinecolor": "#2a3f5f"
            },
            "type": "carpet"
           }
          ],
          "choropleth": [
           {
            "colorbar": {
             "outlinewidth": 0,
             "ticks": ""
            },
            "type": "choropleth"
           }
          ],
          "contour": [
           {
            "colorbar": {
             "outlinewidth": 0,
             "ticks": ""
            },
            "colorscale": [
             [
              0,
              "#0d0887"
             ],
             [
              0.1111111111111111,
              "#46039f"
             ],
             [
              0.2222222222222222,
              "#7201a8"
             ],
             [
              0.3333333333333333,
              "#9c179e"
             ],
             [
              0.4444444444444444,
              "#bd3786"
             ],
             [
              0.5555555555555556,
              "#d8576b"
             ],
             [
              0.6666666666666666,
              "#ed7953"
             ],
             [
              0.7777777777777778,
              "#fb9f3a"
             ],
             [
              0.8888888888888888,
              "#fdca26"
             ],
             [
              1,
              "#f0f921"
             ]
            ],
            "type": "contour"
           }
          ],
          "contourcarpet": [
           {
            "colorbar": {
             "outlinewidth": 0,
             "ticks": ""
            },
            "type": "contourcarpet"
           }
          ],
          "heatmap": [
           {
            "colorbar": {
             "outlinewidth": 0,
             "ticks": ""
            },
            "colorscale": [
             [
              0,
              "#0d0887"
             ],
             [
              0.1111111111111111,
              "#46039f"
             ],
             [
              0.2222222222222222,
              "#7201a8"
             ],
             [
              0.3333333333333333,
              "#9c179e"
             ],
             [
              0.4444444444444444,
              "#bd3786"
             ],
             [
              0.5555555555555556,
              "#d8576b"
             ],
             [
              0.6666666666666666,
              "#ed7953"
             ],
             [
              0.7777777777777778,
              "#fb9f3a"
             ],
             [
              0.8888888888888888,
              "#fdca26"
             ],
             [
              1,
              "#f0f921"
             ]
            ],
            "type": "heatmap"
           }
          ],
          "heatmapgl": [
           {
            "colorbar": {
             "outlinewidth": 0,
             "ticks": ""
            },
            "colorscale": [
             [
              0,
              "#0d0887"
             ],
             [
              0.1111111111111111,
              "#46039f"
             ],
             [
              0.2222222222222222,
              "#7201a8"
             ],
             [
              0.3333333333333333,
              "#9c179e"
             ],
             [
              0.4444444444444444,
              "#bd3786"
             ],
             [
              0.5555555555555556,
              "#d8576b"
             ],
             [
              0.6666666666666666,
              "#ed7953"
             ],
             [
              0.7777777777777778,
              "#fb9f3a"
             ],
             [
              0.8888888888888888,
              "#fdca26"
             ],
             [
              1,
              "#f0f921"
             ]
            ],
            "type": "heatmapgl"
           }
          ],
          "histogram": [
           {
            "marker": {
             "colorbar": {
              "outlinewidth": 0,
              "ticks": ""
             }
            },
            "type": "histogram"
           }
          ],
          "histogram2d": [
           {
            "colorbar": {
             "outlinewidth": 0,
             "ticks": ""
            },
            "colorscale": [
             [
              0,
              "#0d0887"
             ],
             [
              0.1111111111111111,
              "#46039f"
             ],
             [
              0.2222222222222222,
              "#7201a8"
             ],
             [
              0.3333333333333333,
              "#9c179e"
             ],
             [
              0.4444444444444444,
              "#bd3786"
             ],
             [
              0.5555555555555556,
              "#d8576b"
             ],
             [
              0.6666666666666666,
              "#ed7953"
             ],
             [
              0.7777777777777778,
              "#fb9f3a"
             ],
             [
              0.8888888888888888,
              "#fdca26"
             ],
             [
              1,
              "#f0f921"
             ]
            ],
            "type": "histogram2d"
           }
          ],
          "histogram2dcontour": [
           {
            "colorbar": {
             "outlinewidth": 0,
             "ticks": ""
            },
            "colorscale": [
             [
              0,
              "#0d0887"
             ],
             [
              0.1111111111111111,
              "#46039f"
             ],
             [
              0.2222222222222222,
              "#7201a8"
             ],
             [
              0.3333333333333333,
              "#9c179e"
             ],
             [
              0.4444444444444444,
              "#bd3786"
             ],
             [
              0.5555555555555556,
              "#d8576b"
             ],
             [
              0.6666666666666666,
              "#ed7953"
             ],
             [
              0.7777777777777778,
              "#fb9f3a"
             ],
             [
              0.8888888888888888,
              "#fdca26"
             ],
             [
              1,
              "#f0f921"
             ]
            ],
            "type": "histogram2dcontour"
           }
          ],
          "mesh3d": [
           {
            "colorbar": {
             "outlinewidth": 0,
             "ticks": ""
            },
            "type": "mesh3d"
           }
          ],
          "parcoords": [
           {
            "line": {
             "colorbar": {
              "outlinewidth": 0,
              "ticks": ""
             }
            },
            "type": "parcoords"
           }
          ],
          "pie": [
           {
            "automargin": true,
            "type": "pie"
           }
          ],
          "scatter": [
           {
            "marker": {
             "colorbar": {
              "outlinewidth": 0,
              "ticks": ""
             }
            },
            "type": "scatter"
           }
          ],
          "scatter3d": [
           {
            "line": {
             "colorbar": {
              "outlinewidth": 0,
              "ticks": ""
             }
            },
            "marker": {
             "colorbar": {
              "outlinewidth": 0,
              "ticks": ""
             }
            },
            "type": "scatter3d"
           }
          ],
          "scattercarpet": [
           {
            "marker": {
             "colorbar": {
              "outlinewidth": 0,
              "ticks": ""
             }
            },
            "type": "scattercarpet"
           }
          ],
          "scattergeo": [
           {
            "marker": {
             "colorbar": {
              "outlinewidth": 0,
              "ticks": ""
             }
            },
            "type": "scattergeo"
           }
          ],
          "scattergl": [
           {
            "marker": {
             "colorbar": {
              "outlinewidth": 0,
              "ticks": ""
             }
            },
            "type": "scattergl"
           }
          ],
          "scattermapbox": [
           {
            "marker": {
             "colorbar": {
              "outlinewidth": 0,
              "ticks": ""
             }
            },
            "type": "scattermapbox"
           }
          ],
          "scatterpolar": [
           {
            "marker": {
             "colorbar": {
              "outlinewidth": 0,
              "ticks": ""
             }
            },
            "type": "scatterpolar"
           }
          ],
          "scatterpolargl": [
           {
            "marker": {
             "colorbar": {
              "outlinewidth": 0,
              "ticks": ""
             }
            },
            "type": "scatterpolargl"
           }
          ],
          "scatterternary": [
           {
            "marker": {
             "colorbar": {
              "outlinewidth": 0,
              "ticks": ""
             }
            },
            "type": "scatterternary"
           }
          ],
          "surface": [
           {
            "colorbar": {
             "outlinewidth": 0,
             "ticks": ""
            },
            "colorscale": [
             [
              0,
              "#0d0887"
             ],
             [
              0.1111111111111111,
              "#46039f"
             ],
             [
              0.2222222222222222,
              "#7201a8"
             ],
             [
              0.3333333333333333,
              "#9c179e"
             ],
             [
              0.4444444444444444,
              "#bd3786"
             ],
             [
              0.5555555555555556,
              "#d8576b"
             ],
             [
              0.6666666666666666,
              "#ed7953"
             ],
             [
              0.7777777777777778,
              "#fb9f3a"
             ],
             [
              0.8888888888888888,
              "#fdca26"
             ],
             [
              1,
              "#f0f921"
             ]
            ],
            "type": "surface"
           }
          ],
          "table": [
           {
            "cells": {
             "fill": {
              "color": "#EBF0F8"
             },
             "line": {
              "color": "white"
             }
            },
            "header": {
             "fill": {
              "color": "#C8D4E3"
             },
             "line": {
              "color": "white"
             }
            },
            "type": "table"
           }
          ]
         },
         "layout": {
          "annotationdefaults": {
           "arrowcolor": "#2a3f5f",
           "arrowhead": 0,
           "arrowwidth": 1
          },
          "coloraxis": {
           "colorbar": {
            "outlinewidth": 0,
            "ticks": ""
           }
          },
          "colorscale": {
           "diverging": [
            [
             0,
             "#8e0152"
            ],
            [
             0.1,
             "#c51b7d"
            ],
            [
             0.2,
             "#de77ae"
            ],
            [
             0.3,
             "#f1b6da"
            ],
            [
             0.4,
             "#fde0ef"
            ],
            [
             0.5,
             "#f7f7f7"
            ],
            [
             0.6,
             "#e6f5d0"
            ],
            [
             0.7,
             "#b8e186"
            ],
            [
             0.8,
             "#7fbc41"
            ],
            [
             0.9,
             "#4d9221"
            ],
            [
             1,
             "#276419"
            ]
           ],
           "sequential": [
            [
             0,
             "#0d0887"
            ],
            [
             0.1111111111111111,
             "#46039f"
            ],
            [
             0.2222222222222222,
             "#7201a8"
            ],
            [
             0.3333333333333333,
             "#9c179e"
            ],
            [
             0.4444444444444444,
             "#bd3786"
            ],
            [
             0.5555555555555556,
             "#d8576b"
            ],
            [
             0.6666666666666666,
             "#ed7953"
            ],
            [
             0.7777777777777778,
             "#fb9f3a"
            ],
            [
             0.8888888888888888,
             "#fdca26"
            ],
            [
             1,
             "#f0f921"
            ]
           ],
           "sequentialminus": [
            [
             0,
             "#0d0887"
            ],
            [
             0.1111111111111111,
             "#46039f"
            ],
            [
             0.2222222222222222,
             "#7201a8"
            ],
            [
             0.3333333333333333,
             "#9c179e"
            ],
            [
             0.4444444444444444,
             "#bd3786"
            ],
            [
             0.5555555555555556,
             "#d8576b"
            ],
            [
             0.6666666666666666,
             "#ed7953"
            ],
            [
             0.7777777777777778,
             "#fb9f3a"
            ],
            [
             0.8888888888888888,
             "#fdca26"
            ],
            [
             1,
             "#f0f921"
            ]
           ]
          },
          "colorway": [
           "#636efa",
           "#EF553B",
           "#00cc96",
           "#ab63fa",
           "#FFA15A",
           "#19d3f3",
           "#FF6692",
           "#B6E880",
           "#FF97FF",
           "#FECB52"
          ],
          "font": {
           "color": "#040404",
           "family": "Open Sans",
           "size": 15
          },
          "geo": {
           "bgcolor": "white",
           "lakecolor": "white",
           "landcolor": "#E5ECF6",
           "showlakes": true,
           "showland": true,
           "subunitcolor": "white"
          },
          "hoverlabel": {
           "align": "left"
          },
          "hovermode": "closest",
          "mapbox": {
           "style": "light"
          },
          "margin": {
           "b": 0
          },
          "paper_bgcolor": "white",
          "plot_bgcolor": "#E5ECF6",
          "polar": {
           "angularaxis": {
            "gridcolor": "white",
            "linecolor": "white",
            "ticks": ""
           },
           "bgcolor": "#E5ECF6",
           "radialaxis": {
            "gridcolor": "white",
            "linecolor": "white",
            "ticks": ""
           }
          },
          "scene": {
           "xaxis": {
            "backgroundcolor": "#E5ECF6",
            "gridcolor": "white",
            "gridwidth": 2,
            "linecolor": "white",
            "showbackground": true,
            "ticks": "",
            "zerolinecolor": "white"
           },
           "yaxis": {
            "backgroundcolor": "#E5ECF6",
            "gridcolor": "white",
            "gridwidth": 2,
            "linecolor": "white",
            "showbackground": true,
            "ticks": "",
            "zerolinecolor": "white"
           },
           "zaxis": {
            "backgroundcolor": "#E5ECF6",
            "gridcolor": "white",
            "gridwidth": 2,
            "linecolor": "white",
            "showbackground": true,
            "ticks": "",
            "zerolinecolor": "white"
           }
          },
          "shapedefaults": {
           "line": {
            "color": "#2a3f5f"
           }
          },
          "ternary": {
           "aaxis": {
            "gridcolor": "white",
            "linecolor": "white",
            "ticks": ""
           },
           "baxis": {
            "gridcolor": "white",
            "linecolor": "white",
            "ticks": ""
           },
           "bgcolor": "#E5ECF6",
           "caxis": {
            "gridcolor": "white",
            "linecolor": "white",
            "ticks": ""
           }
          },
          "title": {
           "font": {
            "color": "#040404",
            "family": "Open Sans"
           },
           "x": 0.05
          },
          "xaxis": {
           "automargin": true,
           "gridcolor": "white",
           "linecolor": "white",
           "ticks": "",
           "title": {
            "standoff": 15
           },
           "zerolinecolor": "white",
           "zerolinewidth": 2
          },
          "yaxis": {
           "automargin": true,
           "gridcolor": "white",
           "linecolor": "white",
           "ticks": "",
           "title": {
            "standoff": 15
           },
           "zerolinecolor": "white",
           "zerolinewidth": 2
          }
         }
        },
        "title": {
         "text": "Distribution of Organisational Forms"
        }
       }
      }
     },
     "metadata": {},
     "output_type": "display_data"
    }
   ],
   "source": [
    "organization_his = (\n",
    "    df_organizations[\"form_of_organization\"]\n",
    "    .value_counts()\n",
    "    .to_frame()\n",
    "    .rename_axis(\"organization\")\n",
    "    .reset_index()\n",
    ")\n",
    "\n",
    "organization_his[\"organization\"] = organization_his[\"organization\"].apply(upper_string)\n",
    "fig = px.pie(organization_his, values=\"form_of_organization\", names=\"organization\", color_discrete_sequence=color_discrete_sequence, hole=0.2)\n",
    "\n",
    "fig.update_layout(title='Distribution of Organisational Forms',font_size=16, showlegend=False, hovermode=False)\n",
    "fig.update_traces(textposition='outside', textinfo='percent+label', marker=dict(line=dict(color='#000000', width=2)))\n",
    "fig['layout'].update(margin=dict(l=0,r=0,b=50,t=40))\n",
    "fig.add_layout_image(\n",
    "    dict(\n",
    "        source=\"logo.png\",\n",
    "        xref=\"paper\", yref=\"paper\",\n",
    "        x=1, y=1,\n",
    "        sizex=0.15, sizey=0.15,\n",
    "        xanchor=\"right\", yanchor=\"top\"\n",
    "    )\n",
    ")\n",
    "fig.show()"
   ]
  },
  {
   "cell_type": "markdown",
   "metadata": {},
   "source": [
    "- **Community-driven**: for projects without institutional affiliation, that are led by individual contributors. The majority of OSS projects for environmental sustainability can be found in this category, with a total share of **25.5%**. These projects are also the oldest we identified. The organisations leading these projects are characterised by a high degree of flexibility and freedom, and typify the origin of the OSS movement itself. The lack of institutional affiliation and support can lead to greater risks in terms of financial sustainability and resourcing.\n",
    "\n",
    "- **Academia**: for projects primarily hosted, managed, or developed by academic labs and research institutions; **23%** of all projects are hosted by university departments. Academic institutions can play a critical role in open source sustainability. Universities and in particular research software engineering labs can provide long-term stability and deep expertise. At the same time, such developments run the risk of bypassing practical usage and losing development capacity due to high turnover of staff and lack of financial resources within the academic environment.**Government agency**: for projects that are hosted, led or developed by national and/or subnational governments; governments are responsible for **16.5%** of projects. Open source provides greater control and independence while lowering the risk of vendor or political lock-in. This makes it easier for governments, in particular, to plan their digital sustainability futures in a more holistic way. Such projects run the risk of losing resources due to political realignment. The large number of US institutions setting a good example here is remarkable. However, the Canadian Province of British Columbia stands out due to the high number of [projects](https://github.com/bcgov).\n",
    "\n",
    "- **For-profit**: Projects that are hosted by private sector entities; Industry, startups and other private organisations are responsible for **14.5%** of projects. Such projects have the potential to grow very quickly and offer the opportunity to transfer theoretical knowledge into practical applications. They have a high level of resources at the beginning, but harbour the risk of not being further developed due to a change in strategy in the company. Despite the massive capital strength, there are very few good examples for for-profit organisations within open source environmental sustainability like [Electricity Maps](https://www.electricitymaps.com/), [Breakthrough Energy](https://breakthrough-energy.github.io/docs/), [Vizzuality](https://www.vizzuality.com/) or [Ladybug Tools](https://www.ladybug.tools/). \n",
    "\n",
    "- **Non-profit**: In contrast to for-profit organisations, non-profit organisations do not primarily aim to generate profits for the shareholders, but rather pursue charitable goals. For open source development, such an organisation can provide the structure for long-term sustainability if sufficient resources are provided. Several community-oriented organisations became nonprofits to provide the legal structure for additional growth of a project or community, such as the Python Software Foundation or the Linux Foundation. With a total share of 10.9 % this organisational form is strongly underrepresented. Strong nonprofits that take precedence here for instance are [rOpenSci](https://ropensci.org/), [Reiner Lemoine Institute](https://reiner-lemoine-institut.de/), [OpenClimateFix](https://www.openclimatefix.org/) or [Drawdown](https://drawdown.org/). \n",
    "\n",
    "- **Collaborations**: for projects that are hosted, led or developed by a consortium of different actors and institutions. This form of organisation is particularly suitable for generating knowledge transfer between different partners and accounts for the smallest share at 9.1%. The diversity of different organisations can consider developments from different perspectives, but also bears the risk of very slow development cycles. In particular, cooperation at eye level between business, civil society and science has a very high potential to drive sustainable developments for society as a whole. These include collaborations such as [Science Based Targets Network (SBTN)](https://sciencebasedtargetsnetwork.org/), [California Forest Observatory](https://forestobservatory.com/) or the [International Building Performance Simulation Association](http://www.ibpsa.org/).\n"
   ]
  },
  {
   "cell_type": "markdown",
   "metadata": {},
   "source": [
    "# Organisations with most listed projects\n",
    "\n",
    "Ranking organisations by the number of projects in the GitHub namespace shows another important indicator of where strong developments are evident. [National Renewable Energy Laboratory](https://github.com/NREL) and [rOpenSci](https://github.com/ropensci) in particular stand out here with 24 projects each. Again, the strength of the US government agency also becomes clear. In this way, however, the frameworks that rely on a strong modularity such as [Open Energy Modelling Framework](https://github.com/oemof), [Wind-Plant Integrated System Design and Engineering Model](https://github.com/WISDEM) or the [Climate Modeling Alliance](https://github.com/CliMA)."
   ]
  },
  {
   "cell_type": "code",
   "execution_count": 20,
   "metadata": {
    "tags": [
     "hide-input"
    ]
   },
   "outputs": [
    {
     "data": {
      "application/vnd.plotly.v1+json": {
       "config": {
        "plotlyServerURL": "https://plot.ly"
       },
       "data": [
        {
         "cells": {
          "fill": {
           "color": "#ffffff"
          },
          "font": {
           "size": 16
          },
          "height": 30,
          "line": {
           "color": "#ffffff"
          },
          "values": [
           [
            "rOpenSci",
            "National Renewable Energy Laboratory",
            "U.S. Environmental Protection Agency",
            "Province of British Columbia",
            "European Centre for Medium-Range Weather Forecasts",
            "oemof community",
            "PyPSA",
            "Unidata",
            "National Center for Atmospheric Research",
            "Climate Modeling Alliance",
            "WISDEM",
            "USGS-R",
            "Santander Meteorology Group (UC-CSIC)",
            "Energy Exascale Earth System Model Project",
            "Our World in Data",
            "World Resources Institute",
            "IBPSA",
            "Open Climate Fix",
            "NOAA - Geophysical Fluid Dynamics Laboratory",
            "NREL-SIIP",
            "SLAC GISMo",
            "Joint Global Change Research Institute",
            "ncss-tech",
            "FZJ-IEK3",
            "advanced network science initiative",
            "Vizzuality",
            "Weecology",
            "carbonplan",
            "CML-IE-EB",
            "Open Charging Cloud",
            "ECSIM",
            "IIASA",
            "Microsoft",
            "Open Energy Family",
            "Ouranos inc.",
            "Berkeley Lab - Modeling & Simulation",
            "TU Wien - Department of Geodesy and Geoinformation",
            "Open Source UK Energy Data",
            "Sentinel Hub",
            "Ladybug Tools",
            "Paderborn University - LEA",
            "Potsdam Integrated Assessment Modelling (PIAM)",
            "Open Data Stuttgart",
            "OpenAQ Platform",
            "Quintel",
            "Université Gustave Eiffel",
            "Open Water Analytics",
            "Google",
            "RWTH Aachen University - E.ON Energy Research Center - Institute for Energy Efficient Buildings and Indoor Climate",
            "OpenIDEAS",
            "Aquatic EcoDynamics research group",
            "volkszaehler.org project",
            "OpenEVSE",
            "pvlib",
            "ATMOSCHEM",
            "Norwegian Meteorological Institute",
            "PyroNear",
            "National Snow and Ice Data Center",
            "CICE Consortium",
            "MOHIDWater Modelling System",
            "ESIP",
            "Plant-for-the-Planet",
            "BlueGreen Labs",
            "UW Hydro | Computational Hydrology",
            "SunPower",
            "Oasis Loss Modelling Framework",
            "Simulation and Data Laboratory Climate Science",
            "GEOS-Chem",
            "netCDF Operators",
            "ForC",
            "Pangeo",
            "Earth System Community Modeling Portal",
            "FINEPRINT",
            "Utah Atmospheric Trace gas & Air Quality Lab",
            "OpenEEmeter",
            "Open Climate Data",
            "The Green Web Foundation",
            "NASA",
            "PowerAPI",
            "OpenEnergyMonitor",
            "Norwegian Earth System Modeling hub",
            "fishR Core Team",
            "Breakthrough Energy",
            "PyBaMM Team",
            "Chair of Renewable and Sustainable Energy Systems",
            "PEcAn Project",
            "Calliope",
            "Institute of Energy Systems, Energy Efficiency and Energy Economics - ie3",
            "Energy Modelling Toolkit ",
            "rte-antares-rpackage",
            "Sandia National Laboratories Water Power Technologies",
            "exawind",
            "powsybl",
            "rOpenGov",
            "Reiner Lemoine Institut",
            "RAMP",
            "MathWorks",
            "Libre Solar Project",
            "Quantum Photovoltaics Research Group",
            "The Draf Project",
            "climlab",
            "Community Surface Dynamics Modeling System",
            "OpenDrift",
            "Earth System Modeling Framework",
            "Project Drawdown",
            "ClimateMARGO",
            "Weather and Climate Risks Group",
            "National Oceanic and Atmospheric Administration",
            "WorldPop",
            "Modular Ocean Model (Community Supported Version)",
            "Meteorological Research Informatics Services",
            "LBL-EESA",
            "The Environment Ontology",
            "EnviroDIY",
            "EarthSystemDiagnostics",
            "Regen Network",
            "LF Energy",
            "GOTM",
            "Stripe",
            "Science Based Targets initiative",
            "Open-Meteo",
            "Tenstream Radiative Transfer Model",
            "Eradiate",
            "The Natural Capital Project",
            "Atmospheric and Environmental Research R&C",
            "RemoteSensingTools",
            "REMIND - REgional Model of INvestments and Development",
            "stac-utils",
            "OS-Climate",
            "Google Research",
            "Pytroll",
            "Ubilabs",
            "ForestGEO",
            "pylandtemp",
            "Weather Research and Forecasting Model",
            "xgcm",
            "NOAA Environmental Modeling Center (EMC)",
            "Thomas Haine Research Group",
            "ESMValGroup",
            "Deltares",
            "Digital Earth Africa",
            "Euro-Argo ERIC",
            "Aqualink.org",
            "Pacific Marine Environmental Laboratory",
            "Earth System Grid Federation",
            "openEO",
            "Parflow",
            "HyRiver",
            "UU-Hydro",
            "COSIMA",
            "Veins of the Earth",
            "Australian Antarctic Division",
            "PassaH2O Group",
            "Dryland Ecology",
            "HydroShare",
            "MEOM Research Group",
            "mySociety",
            "Pastas",
            "Open Geospatial Consortium",
            "MITgcm",
            "TeamOcean",
            "Byrd Polar Education and Outreach",
            "Ocean Navigator",
            "U.S. Digital Service",
            "Exeter Climate Systems",
            "Space Physics",
            "U.S. General Services Administration",
            "Digital Public Goods Alliance",
            "Climate Mind",
            "European Environment Agency",
            "CSIRO Oceans and Atmosphere - Coastal Informatics Team",
            "RMIB - Dynamical Meteorology and Climatology",
            "Radiant Earth Foundation",
            "Badlands",
            "Resource Watch",
            "CNES",
            "OrbisGIS",
            "Open SDG",
            "U.S. Bureau of Reclamation",
            "Weights & Biases",
            "ECMWF Summer of Weather Code (ESoWC)",
            "Open Food Facts",
            "Growstuff",
            "R4SS",
            "ISRIC — World Soil Information",
            "Tampa Bay Estuary Program",
            "Open ET",
            "pySTEPS",
            "JokeNetwork Open Web ",
            "Neural Hydrology",
            "Open-Source Ocean Acoustics",
            "PCRaster",
            "Call for Code® with The Linux Foundation",
            "Canadian Society for Hydrological Sciences",
            "pyGSFLOW",
            "WikiWatershed",
            "NOAA-ORR-ERD",
            "OpenFLUID",
            "Eco Hacker Farm",
            "Open Food Foundation",
            "Pyviz Topics",
            "Research Platform \"Data Analysis & Simulation\"",
            "APSIM Initiative",
            "Penn State Earth System Modeling Team",
            "Model of Agricultural Production and its Impact on the Environment",
            "Sizespectrum",
            "DSSAT Foundation",
            "MudPi",
            "FarmBot",
            "POSEIDON",
            "Tech Matters",
            "Landlab",
            "e-sensing",
            "Sinnwerkstatt",
            "SoilWatch",
            "moja global",
            "eMapR Lab",
            "Karrot Dev",
            "Computational Infrastructure for Geodynamics",
            "InaSAFE",
            "CF Conventions",
            "roocs - remote operations on climate simulations",
            "IDEAS-lab",
            "xarray-contrib ",
            "Program for Climate Model Diagnosis and Intercomparison",
            "rOpenSpain",
            "ESA CCI Toolbox (Cate)",
            "Real-time water systems lab",
            "Ocean Modeling Collaboration",
            "ARCCSS climate extremes",
            "DeepSphere",
            "AguaClara",
            "CERFACS GLOBC",
            "IPCC-WG1",
            "PRIMAP",
            "MeteoInfo",
            "Meteostat",
            "OpenFarm",
            "xCDAT",
            "NCAS CMS",
            "Intake",
            "CAMS",
            "SERVIR-Mekong",
            "Integrated Assessment Modeling Consortium (IAMC)",
            "WFP-VAM",
            "Arpae ER - Servizio Idro Meteo Clima",
            "MODFLOW and Related Programs",
            "Code for Boston",
            "Ozon3",
            "senseBox",
            "SpaceML",
            "OpenOakland",
            "Safecast",
            "Global Hydrodynamics Lab",
            "Center for Environmental Modeling for Policy Development",
            "Mainmatter",
            "Cloud to Street",
            "HabitatMap",
            "European Commission, Joint Research Centre (JRC)",
            "Sh**t! I Smoke",
            "Natural Resources Canada",
            "TEKSI wastewater module (Project QGEP)",
            "OBIS",
            "CryoTools",
            "Energy Web Foundation",
            "Standard Energy Efficiency Data Platform™",
            "HIT2GAP",
            "HPXML Working Group",
            "ENECHANGE",
            "EnergieID cvba-so",
            "Catalyst Cooperative",
            "OpenNEM",
            "TotalEnergies-R&D",
            "Grid Singularity",
            "JuliaEnergy",
            "Architecture and Building Systems",
            "Réseau de transport d'électricité",
            "A Library of IEEE PES Power Grid Benchmarks",
            "Grid eXchange Fabric (GXF): formerly known as the Open Smart Grid Platform",
            "Grid Parity Exchange",
            "FlexMeasures",
            "Emoncms",
            "Energy Sparks",
            "OperatorFabric",
            "OpenEMS",
            "Ecotope, Inc.",
            "UdK-VPT",
            "MaREI-EPMG",
            "diowa",
            "BlinkTag",
            "OneBusAway",
            "Switch",
            "SteVe Community",
            "Open Charge Map",
            "MDO Lab",
            "Open Mobility Foundation",
            "Hove",
            "STS Rosario",
            "CoopCycle",
            "DSMR-reader",
            "MaaS Global Ltd",
            "Shell Recharge Solutions EU",
            "The Mobility House",
            "STU-IET, JRC-EC",
            "Big Ladder Software",
            "ECMWF projects",
            "RE-Lab-Projects",
            "Brick Schema",
            "LBNL Energy Technologies Area",
            "Energy Innovation",
            "Blue Marble Analytics",
            "Estimating the Circulation and Climate of the Ocean (ECCO)",
            "The Signal Intelligence Project",
            "SmartTensors",
            "Waiwera",
            "Los Alamos National Laboratory",
            "BEMRosetta",
            "OpenSimHub",
            "MHKiT",
            "IEA Wind Digitalization (Task 43)",
            "brightwind",
            "Imperial College London",
            "OpenMDAO",
            "ECS Hack Week ",
            "OpenFAST",
            "turbinesFoam",
            "Solar Forecast Arbiter",
            "Breaking Bytes",
            "National Renewable Energy Centre - CENER",
            "Materials Design Group",
            "SimpleMap",
            "TDcoSim Team",
            "Renewables.ninja",
            "BioSTEAM Development Group",
            "Toyota Research Institute - Accelerated Materials Design & Discovery (AMDD)",
            "International Business Machines",
            "H2020 openENTRANCE",
            "Intelligent Environments Laboratory",
            "The Open Source Spatial Electrification Tool",
            "OpenIPSL",
            "MATPOWER Development",
            "SOGNO",
            "Switch Power System Planning Model",
            "reegis",
            "Spine project",
            "IDAES",
            "GMLC-TDC",
            "QuESt",
            "AntaresSimulatorTeam",
            "Collaboration on Energy and Environmental Markets (CEEM)",
            "Balmorel Community",
            "CoMPAS - (Co)nfiguration (M)odules for (P)ower industry (A)utomation (S)ystems",
            "Comillas Pontifical University",
            "Virtual-FCS H2020",
            "Sandia National Laboratories",
            "BatteryModel.com",
            "EPRI",
            "SYSTRA",
            "CyclOSM",
            "LBNL/UCB - Sustainable Transportation Initiative",
            "Laboratory of Tree-Ring Research",
            "IUCN Red List of Ecosystems Science Team",
            "Open Plant Pathology",
            "Ecosystem Dynamics and Assessment Branch",
            "VIAME",
            "Cornell Lab of Ornithology",
            "NGEE-Tropics",
            "Donald Danforth Plant Science Center",
            "Greensway AB",
            "DS3 Lab",
            "Western States Water Use Program (WSWUP)",
            "The Alan Turing Institute",
            "R lidar",
            "Inverse Tampere",
            "Open Foris",
            "Met Office",
            "UMR AMAP",
            "MARIDA",
            "The Ocean Cleanup",
            "WWF Deutschland",
            "OpenLitterMap",
            "Trait Ecology and Evolution",
            "Global Change Ecology & Evolution Research Group",
            "Institute for Transport Studies",
            "mapme-initiative",
            "GEUS Glaciology and Climate",
            "NASA Jet Propulsion Laboratory",
            "Parallel Ice Sheet Model",
            "Open Global Glacier Model",
            "Nansen Environmental and Remote Sensing Center",
            "Species File Group",
            "iNaturalist",
            "Biodiversity Information Standards (TDWG)",
            "COL",
            "USA National Phenology Network",
            "Bioverse Labs",
            "Eco-Hydrological Researches in China University of Geosciences (Wuhan)",
            "BioPAL",
            "Earth Lab",
            "Greenstand",
            "Ecotrust",
            "Wild Me",
            "Measurement of Biodiversity (MoB)",
            "Technologiestiftung Berlin",
            "Protect Earth",
            "circular.fashion",
            "ONE ARMY",
            "POLCA",
            "Transitland",
            "Google Cloud Platform",
            "Cloud Carbon Footprint",
            "Organic Basics ApS",
            "Patch",
            "marmelab",
            "Green Software Lab",
            "Hubblo",
            "OpenModelica",
            "CycleStreets",
            "Streetmix",
            "Quantitative Sustainable Design (QSD) Group",
            "EVerest",
            "enviroCar",
            "A/B Street",
            "Chargeprice",
            "SAP",
            "Bike Index",
            "MobilityData IO",
            "Active Transport Futures",
            "Plan4Better",
            "DOS Group at TU Berlin",
            "Collectif Conception Numérique Responsable",
            "Sustainable Computing",
            "Green Software Foundation",
            "OIE - Mines ParisTech",
            "Brightway LCA software framework",
            "ICOS Carbon Portal",
            "Modeling and Meteorology Branch of the California Air Resources Board",
            "Ribbit Network",
            "CMU CREATE Lab",
            "Open Carbon Watch",
            "OpenGHG",
            "Emissions API",
            "Data For Good France",
            "Open NanoCarbon",
            "GEOSX",
            "CCSI Toolset",
            "Climatiq",
            "Carbonfact",
            "NMF.earth",
            "Singularity Energy",
            "Electricity Maps",
            "Boavizta",
            "Smart Data Models"
           ],
           [
            28,
            24,
            10,
            8,
            7,
            7,
            7,
            6,
            6,
            5,
            5,
            5,
            5,
            4,
            4,
            4,
            4,
            4,
            4,
            4,
            4,
            4,
            4,
            4,
            4,
            3,
            3,
            3,
            3,
            3,
            3,
            3,
            3,
            3,
            3,
            3,
            3,
            3,
            3,
            3,
            2,
            2,
            2,
            2,
            2,
            2,
            2,
            2,
            2,
            2,
            2,
            2,
            2,
            2,
            2,
            2,
            2,
            2,
            2,
            2,
            2,
            2,
            2,
            2,
            2,
            2,
            2,
            2,
            2,
            2,
            2,
            2,
            2,
            2,
            2,
            2,
            2,
            2,
            2,
            2,
            2,
            2,
            2,
            2,
            2,
            2,
            2,
            2,
            2,
            2,
            2,
            2,
            2,
            2,
            2,
            2,
            2,
            2,
            2,
            2,
            1,
            1,
            1,
            1,
            1,
            1,
            1,
            1,
            1,
            1,
            1,
            1,
            1,
            1,
            1,
            1,
            1,
            1,
            1,
            1,
            1,
            1,
            1,
            1,
            1,
            1,
            1,
            1,
            1,
            1,
            1,
            1,
            1,
            1,
            1,
            1,
            1,
            1,
            1,
            1,
            1,
            1,
            1,
            1,
            1,
            1,
            1,
            1,
            1,
            1,
            1,
            1,
            1,
            1,
            1,
            1,
            1,
            1,
            1,
            1,
            1,
            1,
            1,
            1,
            1,
            1,
            1,
            1,
            1,
            1,
            1,
            1,
            1,
            1,
            1,
            1,
            1,
            1,
            1,
            1,
            1,
            1,
            1,
            1,
            1,
            1,
            1,
            1,
            1,
            1,
            1,
            1,
            1,
            1,
            1,
            1,
            1,
            1,
            1,
            1,
            1,
            1,
            1,
            1,
            1,
            1,
            1,
            1,
            1,
            1,
            1,
            1,
            1,
            1,
            1,
            1,
            1,
            1,
            1,
            1,
            1,
            1,
            1,
            1,
            1,
            1,
            1,
            1,
            1,
            1,
            1,
            1,
            1,
            1,
            1,
            1,
            1,
            1,
            1,
            1,
            1,
            1,
            1,
            1,
            1,
            1,
            1,
            1,
            1,
            1,
            1,
            1,
            1,
            1,
            1,
            1,
            1,
            1,
            1,
            1,
            1,
            1,
            1,
            1,
            1,
            1,
            1,
            1,
            1,
            1,
            1,
            1,
            1,
            1,
            1,
            1,
            1,
            1,
            1,
            1,
            1,
            1,
            1,
            1,
            1,
            1,
            1,
            1,
            1,
            1,
            1,
            1,
            1,
            1,
            1,
            1,
            1,
            1,
            1,
            1,
            1,
            1,
            1,
            1,
            1,
            1,
            1,
            1,
            1,
            1,
            1,
            1,
            1,
            1,
            1,
            1,
            1,
            1,
            1,
            1,
            1,
            1,
            1,
            1,
            1,
            1,
            1,
            1,
            1,
            1,
            1,
            1,
            1,
            1,
            1,
            1,
            1,
            1,
            1,
            1,
            1,
            1,
            1,
            1,
            1,
            1,
            1,
            1,
            1,
            1,
            1,
            1,
            1,
            1,
            1,
            1,
            1,
            1,
            1,
            1,
            1,
            1,
            1,
            1,
            1,
            1,
            1,
            1,
            1,
            1,
            1,
            1,
            1,
            1,
            1,
            1,
            1,
            1,
            1,
            1,
            1,
            1,
            1,
            1,
            1,
            1,
            1,
            1,
            1,
            1,
            1,
            1,
            1,
            1,
            1,
            1,
            1,
            1,
            1,
            1,
            1,
            1,
            1,
            1,
            1,
            1,
            1,
            1,
            1,
            1,
            1,
            1,
            1,
            1,
            1,
            1,
            1,
            1,
            1,
            1,
            1,
            1,
            1,
            1,
            1,
            1,
            1,
            1,
            1,
            1,
            1,
            1,
            1,
            1,
            1,
            1,
            1,
            1,
            1,
            1,
            1,
            1,
            1,
            1,
            1,
            1,
            1,
            1,
            1,
            1,
            1,
            1,
            1
           ]
          ]
         },
         "columnwidth": [
          300,
          40
         ],
         "header": {
          "fill": {
           "color": "#ffffff"
          },
          "font": {
           "size": 18
          },
          "line": {
           "color": "#000000"
          },
          "values": [
           "Namespace",
           "counts"
          ]
         },
         "type": "table"
        }
       ],
       "layout": {
        "autosize": false,
        "height": 1000,
        "margin": {
         "b": 0,
         "l": 5,
         "r": 0,
         "t": 5
        },
        "template": {
         "data": {
          "bar": [
           {
            "error_x": {
             "color": "#2a3f5f"
            },
            "error_y": {
             "color": "#2a3f5f"
            },
            "marker": {
             "line": {
              "color": "#E5ECF6",
              "width": 0.5
             }
            },
            "type": "bar"
           }
          ],
          "barpolar": [
           {
            "marker": {
             "line": {
              "color": "#E5ECF6",
              "width": 0.5
             }
            },
            "type": "barpolar"
           }
          ],
          "carpet": [
           {
            "aaxis": {
             "endlinecolor": "#2a3f5f",
             "gridcolor": "white",
             "linecolor": "white",
             "minorgridcolor": "white",
             "startlinecolor": "#2a3f5f"
            },
            "baxis": {
             "endlinecolor": "#2a3f5f",
             "gridcolor": "white",
             "linecolor": "white",
             "minorgridcolor": "white",
             "startlinecolor": "#2a3f5f"
            },
            "type": "carpet"
           }
          ],
          "choropleth": [
           {
            "colorbar": {
             "outlinewidth": 0,
             "ticks": ""
            },
            "type": "choropleth"
           }
          ],
          "contour": [
           {
            "colorbar": {
             "outlinewidth": 0,
             "ticks": ""
            },
            "colorscale": [
             [
              0,
              "#0d0887"
             ],
             [
              0.1111111111111111,
              "#46039f"
             ],
             [
              0.2222222222222222,
              "#7201a8"
             ],
             [
              0.3333333333333333,
              "#9c179e"
             ],
             [
              0.4444444444444444,
              "#bd3786"
             ],
             [
              0.5555555555555556,
              "#d8576b"
             ],
             [
              0.6666666666666666,
              "#ed7953"
             ],
             [
              0.7777777777777778,
              "#fb9f3a"
             ],
             [
              0.8888888888888888,
              "#fdca26"
             ],
             [
              1,
              "#f0f921"
             ]
            ],
            "type": "contour"
           }
          ],
          "contourcarpet": [
           {
            "colorbar": {
             "outlinewidth": 0,
             "ticks": ""
            },
            "type": "contourcarpet"
           }
          ],
          "heatmap": [
           {
            "colorbar": {
             "outlinewidth": 0,
             "ticks": ""
            },
            "colorscale": [
             [
              0,
              "#0d0887"
             ],
             [
              0.1111111111111111,
              "#46039f"
             ],
             [
              0.2222222222222222,
              "#7201a8"
             ],
             [
              0.3333333333333333,
              "#9c179e"
             ],
             [
              0.4444444444444444,
              "#bd3786"
             ],
             [
              0.5555555555555556,
              "#d8576b"
             ],
             [
              0.6666666666666666,
              "#ed7953"
             ],
             [
              0.7777777777777778,
              "#fb9f3a"
             ],
             [
              0.8888888888888888,
              "#fdca26"
             ],
             [
              1,
              "#f0f921"
             ]
            ],
            "type": "heatmap"
           }
          ],
          "heatmapgl": [
           {
            "colorbar": {
             "outlinewidth": 0,
             "ticks": ""
            },
            "colorscale": [
             [
              0,
              "#0d0887"
             ],
             [
              0.1111111111111111,
              "#46039f"
             ],
             [
              0.2222222222222222,
              "#7201a8"
             ],
             [
              0.3333333333333333,
              "#9c179e"
             ],
             [
              0.4444444444444444,
              "#bd3786"
             ],
             [
              0.5555555555555556,
              "#d8576b"
             ],
             [
              0.6666666666666666,
              "#ed7953"
             ],
             [
              0.7777777777777778,
              "#fb9f3a"
             ],
             [
              0.8888888888888888,
              "#fdca26"
             ],
             [
              1,
              "#f0f921"
             ]
            ],
            "type": "heatmapgl"
           }
          ],
          "histogram": [
           {
            "marker": {
             "colorbar": {
              "outlinewidth": 0,
              "ticks": ""
             }
            },
            "type": "histogram"
           }
          ],
          "histogram2d": [
           {
            "colorbar": {
             "outlinewidth": 0,
             "ticks": ""
            },
            "colorscale": [
             [
              0,
              "#0d0887"
             ],
             [
              0.1111111111111111,
              "#46039f"
             ],
             [
              0.2222222222222222,
              "#7201a8"
             ],
             [
              0.3333333333333333,
              "#9c179e"
             ],
             [
              0.4444444444444444,
              "#bd3786"
             ],
             [
              0.5555555555555556,
              "#d8576b"
             ],
             [
              0.6666666666666666,
              "#ed7953"
             ],
             [
              0.7777777777777778,
              "#fb9f3a"
             ],
             [
              0.8888888888888888,
              "#fdca26"
             ],
             [
              1,
              "#f0f921"
             ]
            ],
            "type": "histogram2d"
           }
          ],
          "histogram2dcontour": [
           {
            "colorbar": {
             "outlinewidth": 0,
             "ticks": ""
            },
            "colorscale": [
             [
              0,
              "#0d0887"
             ],
             [
              0.1111111111111111,
              "#46039f"
             ],
             [
              0.2222222222222222,
              "#7201a8"
             ],
             [
              0.3333333333333333,
              "#9c179e"
             ],
             [
              0.4444444444444444,
              "#bd3786"
             ],
             [
              0.5555555555555556,
              "#d8576b"
             ],
             [
              0.6666666666666666,
              "#ed7953"
             ],
             [
              0.7777777777777778,
              "#fb9f3a"
             ],
             [
              0.8888888888888888,
              "#fdca26"
             ],
             [
              1,
              "#f0f921"
             ]
            ],
            "type": "histogram2dcontour"
           }
          ],
          "mesh3d": [
           {
            "colorbar": {
             "outlinewidth": 0,
             "ticks": ""
            },
            "type": "mesh3d"
           }
          ],
          "parcoords": [
           {
            "line": {
             "colorbar": {
              "outlinewidth": 0,
              "ticks": ""
             }
            },
            "type": "parcoords"
           }
          ],
          "pie": [
           {
            "automargin": true,
            "type": "pie"
           }
          ],
          "scatter": [
           {
            "marker": {
             "colorbar": {
              "outlinewidth": 0,
              "ticks": ""
             }
            },
            "type": "scatter"
           }
          ],
          "scatter3d": [
           {
            "line": {
             "colorbar": {
              "outlinewidth": 0,
              "ticks": ""
             }
            },
            "marker": {
             "colorbar": {
              "outlinewidth": 0,
              "ticks": ""
             }
            },
            "type": "scatter3d"
           }
          ],
          "scattercarpet": [
           {
            "marker": {
             "colorbar": {
              "outlinewidth": 0,
              "ticks": ""
             }
            },
            "type": "scattercarpet"
           }
          ],
          "scattergeo": [
           {
            "marker": {
             "colorbar": {
              "outlinewidth": 0,
              "ticks": ""
             }
            },
            "type": "scattergeo"
           }
          ],
          "scattergl": [
           {
            "marker": {
             "colorbar": {
              "outlinewidth": 0,
              "ticks": ""
             }
            },
            "type": "scattergl"
           }
          ],
          "scattermapbox": [
           {
            "marker": {
             "colorbar": {
              "outlinewidth": 0,
              "ticks": ""
             }
            },
            "type": "scattermapbox"
           }
          ],
          "scatterpolar": [
           {
            "marker": {
             "colorbar": {
              "outlinewidth": 0,
              "ticks": ""
             }
            },
            "type": "scatterpolar"
           }
          ],
          "scatterpolargl": [
           {
            "marker": {
             "colorbar": {
              "outlinewidth": 0,
              "ticks": ""
             }
            },
            "type": "scatterpolargl"
           }
          ],
          "scatterternary": [
           {
            "marker": {
             "colorbar": {
              "outlinewidth": 0,
              "ticks": ""
             }
            },
            "type": "scatterternary"
           }
          ],
          "surface": [
           {
            "colorbar": {
             "outlinewidth": 0,
             "ticks": ""
            },
            "colorscale": [
             [
              0,
              "#0d0887"
             ],
             [
              0.1111111111111111,
              "#46039f"
             ],
             [
              0.2222222222222222,
              "#7201a8"
             ],
             [
              0.3333333333333333,
              "#9c179e"
             ],
             [
              0.4444444444444444,
              "#bd3786"
             ],
             [
              0.5555555555555556,
              "#d8576b"
             ],
             [
              0.6666666666666666,
              "#ed7953"
             ],
             [
              0.7777777777777778,
              "#fb9f3a"
             ],
             [
              0.8888888888888888,
              "#fdca26"
             ],
             [
              1,
              "#f0f921"
             ]
            ],
            "type": "surface"
           }
          ],
          "table": [
           {
            "cells": {
             "fill": {
              "color": "#EBF0F8"
             },
             "line": {
              "color": "white"
             }
            },
            "header": {
             "fill": {
              "color": "#C8D4E3"
             },
             "line": {
              "color": "white"
             }
            },
            "type": "table"
           }
          ]
         },
         "layout": {
          "annotationdefaults": {
           "arrowcolor": "#2a3f5f",
           "arrowhead": 0,
           "arrowwidth": 1
          },
          "coloraxis": {
           "colorbar": {
            "outlinewidth": 0,
            "ticks": ""
           }
          },
          "colorscale": {
           "diverging": [
            [
             0,
             "#8e0152"
            ],
            [
             0.1,
             "#c51b7d"
            ],
            [
             0.2,
             "#de77ae"
            ],
            [
             0.3,
             "#f1b6da"
            ],
            [
             0.4,
             "#fde0ef"
            ],
            [
             0.5,
             "#f7f7f7"
            ],
            [
             0.6,
             "#e6f5d0"
            ],
            [
             0.7,
             "#b8e186"
            ],
            [
             0.8,
             "#7fbc41"
            ],
            [
             0.9,
             "#4d9221"
            ],
            [
             1,
             "#276419"
            ]
           ],
           "sequential": [
            [
             0,
             "#0d0887"
            ],
            [
             0.1111111111111111,
             "#46039f"
            ],
            [
             0.2222222222222222,
             "#7201a8"
            ],
            [
             0.3333333333333333,
             "#9c179e"
            ],
            [
             0.4444444444444444,
             "#bd3786"
            ],
            [
             0.5555555555555556,
             "#d8576b"
            ],
            [
             0.6666666666666666,
             "#ed7953"
            ],
            [
             0.7777777777777778,
             "#fb9f3a"
            ],
            [
             0.8888888888888888,
             "#fdca26"
            ],
            [
             1,
             "#f0f921"
            ]
           ],
           "sequentialminus": [
            [
             0,
             "#0d0887"
            ],
            [
             0.1111111111111111,
             "#46039f"
            ],
            [
             0.2222222222222222,
             "#7201a8"
            ],
            [
             0.3333333333333333,
             "#9c179e"
            ],
            [
             0.4444444444444444,
             "#bd3786"
            ],
            [
             0.5555555555555556,
             "#d8576b"
            ],
            [
             0.6666666666666666,
             "#ed7953"
            ],
            [
             0.7777777777777778,
             "#fb9f3a"
            ],
            [
             0.8888888888888888,
             "#fdca26"
            ],
            [
             1,
             "#f0f921"
            ]
           ]
          },
          "colorway": [
           "#636efa",
           "#EF553B",
           "#00cc96",
           "#ab63fa",
           "#FFA15A",
           "#19d3f3",
           "#FF6692",
           "#B6E880",
           "#FF97FF",
           "#FECB52"
          ],
          "font": {
           "color": "#040404",
           "family": "Open Sans",
           "size": 15
          },
          "geo": {
           "bgcolor": "white",
           "lakecolor": "white",
           "landcolor": "#E5ECF6",
           "showlakes": true,
           "showland": true,
           "subunitcolor": "white"
          },
          "hoverlabel": {
           "align": "left"
          },
          "hovermode": "closest",
          "mapbox": {
           "style": "light"
          },
          "margin": {
           "b": 0
          },
          "paper_bgcolor": "white",
          "plot_bgcolor": "#E5ECF6",
          "polar": {
           "angularaxis": {
            "gridcolor": "white",
            "linecolor": "white",
            "ticks": ""
           },
           "bgcolor": "#E5ECF6",
           "radialaxis": {
            "gridcolor": "white",
            "linecolor": "white",
            "ticks": ""
           }
          },
          "scene": {
           "xaxis": {
            "backgroundcolor": "#E5ECF6",
            "gridcolor": "white",
            "gridwidth": 2,
            "linecolor": "white",
            "showbackground": true,
            "ticks": "",
            "zerolinecolor": "white"
           },
           "yaxis": {
            "backgroundcolor": "#E5ECF6",
            "gridcolor": "white",
            "gridwidth": 2,
            "linecolor": "white",
            "showbackground": true,
            "ticks": "",
            "zerolinecolor": "white"
           },
           "zaxis": {
            "backgroundcolor": "#E5ECF6",
            "gridcolor": "white",
            "gridwidth": 2,
            "linecolor": "white",
            "showbackground": true,
            "ticks": "",
            "zerolinecolor": "white"
           }
          },
          "shapedefaults": {
           "line": {
            "color": "#2a3f5f"
           }
          },
          "ternary": {
           "aaxis": {
            "gridcolor": "white",
            "linecolor": "white",
            "ticks": ""
           },
           "baxis": {
            "gridcolor": "white",
            "linecolor": "white",
            "ticks": ""
           },
           "bgcolor": "#E5ECF6",
           "caxis": {
            "gridcolor": "white",
            "linecolor": "white",
            "ticks": ""
           }
          },
          "title": {
           "font": {
            "color": "#040404",
            "family": "Open Sans"
           },
           "x": 0.05
          },
          "xaxis": {
           "automargin": true,
           "gridcolor": "white",
           "linecolor": "white",
           "ticks": "",
           "title": {
            "standoff": 15
           },
           "zerolinecolor": "white",
           "zerolinewidth": 2
          },
          "yaxis": {
           "automargin": true,
           "gridcolor": "white",
           "linecolor": "white",
           "ticks": "",
           "title": {
            "standoff": 15
           },
           "zerolinecolor": "white",
           "zerolinewidth": 2
          }
         }
        },
        "width": 700
       }
      }
     },
     "metadata": {},
     "output_type": "display_data"
    }
   ],
   "source": [
    "most_listed_projects = df_active[\"organization\"].value_counts(ascending=False).to_frame().rename_axis(\"Namespace\").reset_index().rename(columns={\"organization\": \"counts\"})\n",
    "fig = go.Figure(data=[go.Table(columnwidth = [300,40],\n",
    "    header=dict(values=list(most_listed_projects.columns), line_color='#000000', fill_color='#ffffff',font_size=18 ),\n",
    "    cells=dict(line_color='#ffffff', fill_color='#ffffff', font_size=16, height=30, values=[most_listed_projects.Namespace, most_listed_projects.counts])\n",
    ")])\n",
    "\n",
    "fig.update_layout(\n",
    "autosize=False,\n",
    "    height=1000,  # Added parameter\n",
    "    width=700,\n",
    ")\n",
    "fig['layout'].update(margin=dict(l=5,r=0,b=0,t=5))\n",
    "\n",
    "\n",
    "fig.show()"
   ]
  }
 ],
 "metadata": {
  "celltoolbar": "Tags",
  "kernelspec": {
   "display_name": "Python 3.8.10 64-bit",
   "language": "python",
   "name": "python3"
  },
  "language_info": {
   "codemirror_mode": {
    "name": "ipython",
    "version": 3
   },
   "file_extension": ".py",
   "mimetype": "text/x-python",
   "name": "python",
   "nbconvert_exporter": "python",
   "pygments_lexer": "ipython3",
   "version": "3.8.10"
  },
  "tags": "full-width",
  "vscode": {
   "interpreter": {
    "hash": "e7370f93d1d0cde622a1f8e1c04877d8463912d04d973331ad4851f04de6915a"
   }
  }
 },
 "nbformat": 4,
 "nbformat_minor": 4
}
