{
 "cells": [
  {
   "cell_type": "markdown",
   "metadata": {},
   "source": [
    "# Users and Usage\n",
    "\n",
    "<!-- \n",
    "- Users: Who the users are\n",
    "- Usage: How are users are using OSS\n",
    "- Value: What is the use value and impact\n",
    "-->\n",
    "\n",
    "Since open source is often free-of-charge and open access, it is difficult to trace its final use. The people using these software products often act as evangelists, sharing OSS with other users or organisations who may find value in it and providing valuable feedback and expert knowledge in return. Much of the open source usage arises in integrating libraries or APIs as dependencies of other software projects. Importantly, this dependency on OSS will not be apparent to many users; especially in closed-source software, where the dependency on OSS is not always made evident. \n",
    "\n",
    "Project usage data from public software development and version control platforms remains scarce. GitHub, unfortunately, offers little support in compiling accurate statistics. Additionally, statistics on package manager downloads are not universally available and must be obtained through the various platforms and their APIs. While this is technically possible, it was not feasible given the study's limited resources and timeframe. However, with the limited data obtained from the Python ecosystem, it was possible to identify individual projects with a high circulation but a low [DDS](./development-distribution-score.ipynb) score. Here projects like [cfgrib](https://github.com/ecmwf/cfgrib), [sentinelhub-py](https://github.com/sentinel-hub/sentinelhub-py) or [Meteostat](https://github.com/meteostat/meteostat-python) stand out. Those projects widely used and depend highly on the goodwill of a single developer. The median DDS of 0.436 over the 50 most used Python projects indicates that the burden still lies on a few strong contributors leading the development.\n",
    "\n",
    "The user community of major projects in energy and battery modelling, such as [PyBaMM](https://github.com/pybamm-team/PyBaMM) and [PyPSA](https://github.com/PyPSA/PyPSA), is split relatively evenly between academia and industry, with fewer users coming from NGOs and independent consultancies. In some cases, industry can drive explosive user growth. For example, over a five years period, pvlib-python saw thousands of downloads per month. This was driven primarily by several commercial firms who integrated the library into their software products, effectively distributing pvlib-python to their clients.\n",
    "\n",
    "In future studies, it will be essential to use the various metrics and methods we have created in a targeted way. For example, by identifying projects that have high [usage](./users-and-usage.ipynb), fast [growth](./growth.ipynb) and low [DDS](./development-distribution-score.ipynb), we can conduct targeted interviews to pinpoint key users and usage patterns, and evaluate ways and means of supporting effective projects. Until this time, we have considered several proxy methods to help paint a picture of what is possible.\n",
   ]
  },
  {
   "cell_type": "code",
   "execution_count": null,
   "metadata": {
    "tags": [
     "remove-cell"
    ]
   },
   "outputs": [],
   "source": [
    "import numpy as np\n",
    "import pandas as pd\n",
    "import plotly.io as pio\n",
    "import plotly.graph_objects as go\n",
    "import plotly.express as px\n",
    "from opensustainTemplate import *"
   ]
  },
  {
   "cell_type": "code",
   "execution_count": null,
   "metadata": {
    "tags": [
     "remove-cell"
    ]
   },
   "outputs": [],
   "source": [
    "def count_strings(comma_seperated_string):\n",
    "    \"\"\"Count number of delimiters (commas) in a string\n",
    "    Arguments:\n",
    "        comma_seperated_string - a string containing commas\n",
    "    Outputs:\n",
    "        A number (int) of commas found in comma_seperated_string\n",
    "\n",
    "    \"\"\"\n",
    "\n",
    "    if type(comma_seperated_string) == str:\n",
    "        return comma_seperated_string.count(\",\")\n",
    "    else:\n",
    "        return 0"
   ]
  },
  {
   "cell_type": "code",
   "execution_count": null,
   "metadata": {
    "tags": [
     "hide-cell",
     "remove-cell"
    ]
   },
   "outputs": [],
   "source": [
    "# default plotting options\n",
    "# Palette https://coolors.co/palette/0e7c7b-17bebb-ffc857-e9724c-c5283d\n",
    "height = 800  # Added parameter\n",
    "width = 800\n",
    "color_continuous_scale = color_continuous_scale\n",
    "marker_color = marker_color\n",
    "\n",
    "# Register your theme as a named template\n",
    "pio.templates[\"OpenSustain\"] = go.layout.Template(\n",
    "    layout=dict(\n",
    "        margin=dict(b=0),  # bottom margin\n",
    "        font=dict(\n",
    "            family=\"Open Sans\",\n",
    "            color=\"#040404\",\n",
    "            size=15,\n",
    "        ),\n",
    "        title_font_family=\"Open Sans\",\n",
    "        title_font_color=\"#040404\",\n",
    "    ),\n",
    ")\n",
    "\n",
    "# Combine your theme with plotly's default\n",
    "pio.templates.default = \"plotly+OpenSustain\""
   ]
  },
  {
   "cell_type": "code",
   "execution_count": null,
   "metadata": {
    "tags": [
     "remove-cell"
    ]
   },
   "outputs": [],
   "source": [
    "df_active = pd.read_csv(\"../csv/project_analysis.csv\")"
   ]
  },
  {
   "cell_type": "code",
   "execution_count": null,
   "metadata": {
    "tags": [
     "full-width",
     "remove-input"
    ]
   },
   "outputs": [],
   "source": [
    "# KK: can topics be grouped in fewer categories? can DDS be bucketed into categories, e.g. 0.3>=, 0.3<=&<=0.6, 0.6>=? Do we need to show all three variables, projects, DDS and dependents?\n",
    "\n",
    "df_active[\"dependents_count\"] = df_active[\"dependents_repos\"].apply(count_strings)\n",
    "\n",
    "most_dependent_projects = df_active.nlargest(50, \"dependents_count\")\n",
    "\n",
    "# The API gives wrong numbers for this project:\n",
    "most_dependent_projects = most_dependent_projects[\n",
    "    most_dependent_projects[\"git_url\"] != \"https://github.com/Open-MSS/MSS.git\"\n",
    "]\n",
    "\n",
    "fig = px.bar(\n",
    "    most_dependent_projects,\n",
    "    x=most_dependent_projects[\"dependents_count\"],\n",
    "    y=most_dependent_projects[\"project_name\"],\n",
    "    orientation=\"h\",\n",
    "    custom_data=[\"oneliner\", \"topic\", \"git_url\"],\n",
    "    color=most_dependent_projects[\"development_distribution_score\"],\n",
    "    color_continuous_scale=color_continuous_scale,\n",
    ")\n",
    "\n",
    "fig.update_layout(\n",
    "    height=1200,  # Added parameter\n",
    "    width=800,\n",
    "    yaxis_title=None,\n",
    "    xaxis_title=\"Dependents\",\n",
    "    title=\"Python projects most frequently used as dependencies\",\n",
    "    coloraxis_colorbar=dict(\n",
    "        title=\"DDS\",\n",
    "    ),\n",
    "    hoverlabel=dict(\n",
    "        bgcolor=\"white\",\n",
    "    ),\n",
    "    dragmode=False,\n",
    ")\n",
    "\n",
    "\n",
    "fig.update_traces(\n",
    "    hovertemplate=\"<br>\".join(\n",
    "        [\n",
    "            \"Project Info: <b>%{customdata[0]}</b>\",\n",
    "            \"Topic: <b>%{customdata[1]}</b>\",\n",
    "            \"Git URL: <b>%{customdata[2]}</b>\",\n",
    "        ]\n",
    "    )\n",
    ")\n",
    "fig.add_layout_image(\n",
    "    dict(\n",
    "        source=\"logo_img\",\n",
    "        xref=\"paper\",\n",
    "        yref=\"paper\",\n",
    "        x=1,\n",
    "        y=0,\n",
    "        sizex=0.05,\n",
    "        sizey=0.05,\n",
    "        xanchor=\"right\",\n",
    "        yanchor=\"bottom\",\n",
    "    )\n",
    ")\n",
    "fig[\"layout\"][\"yaxis\"][\"autorange\"] = \"reversed\"\n",
    "fig.show()"
   ]
  },
  {
   "cell_type": "markdown",
   "metadata": {},
   "source": [
    "```{figure} data:image/gif;base64,R0lGODlhAQABAIAAAAAAAP///yH5BAEAAAAALAAAAAABAAEAAAIBRAA7\n",
    ":figclass: caption-hack\n",
    ":name: python-dependencies\n",
    "\n",
    "<br/>Python Projects most frequently used as dependencies\n",
    "```"
   ]
  },
  {
   "cell_type": "markdown",
   "metadata": {},
   "source": [
    "## Final use and impact\n",
    "\n",
    "While open source business models, including the commonly used premium model, are unlikely to capture the total value that OSS contributes to society, recent research into the economic contributions of open source can provide a rough indication. A 2021 [study](https://digital-strategy.ec.europa.eu/en/library/study-about-impact-open-source-software-and-hardware-technological-independence-competitiveness-and) on the economic impact of open source software and hardware concluded that open source technologies injected **€65-95 billion** into the European economy. Open source significantly boosted small and mid-size enterprises – Europe's most important horizontal economic stakeholders - reflecting in the increased creation of more than 650 technology startups per year. While it is currently unknown to what extent open source has contributed to environmental sustainability, or what its potential impact is in monetary terms, we anticipate the figure to be several orders of magnitude greater."
   ]
  }
 ],
 "metadata": {
  "celltoolbar": "Tags",
  "kernelspec": {
   "display_name": "Python 3",
   "language": "python",
   "name": "python3"
  },
  "language_info": {
   "codemirror_mode": {
    "name": "ipython",
    "version": 3
   },
   "file_extension": ".py",
   "mimetype": "text/x-python",
   "name": "python",
   "nbconvert_exporter": "python",
   "pygments_lexer": "ipython3",
   "version": "3.8.10"
  },
  "tags": "full-width",
  "vscode": {
   "interpreter": {
    "hash": "e7370f93d1d0cde622a1f8e1c04877d8463912d04d973331ad4851f04de6915a"
   }
  }
 },
 "nbformat": 4,
 "nbformat_minor": 4
}
