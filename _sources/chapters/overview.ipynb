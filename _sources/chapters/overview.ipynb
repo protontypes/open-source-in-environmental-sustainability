{
 "cells": [
  {
   "cell_type": "markdown",
   "metadata": {},
   "source": [
    "# Overview\n",
    "\n",
    "At the time of writing, 1339 projects have been identified worldwide. Of these:\n",
    "- 1188 projects are hosted on GitHub,\n",
    "- 27 on GitLab and\n",
    "- 125 on other websites or self-hosted Git platforms.\n",
    "\n",
    "**We found 996 active project repositories in total on GitHub**. A project is considered active if the public repository has at least one commit or closed issue within the last year. We have excluded inactive projects from our analysis as their inclusion would distort current trends. The listed inactive open source projects are those that have become inactive since starting data the collection two years ago. The statistics on all active and inactive projects in the table below are based on the raw dataset. **Unless otherwise noted, all following plots in the study always refer to the active projects.** "
   ]
  },
  {
   "cell_type": "code",
   "execution_count": null,
   "metadata": {
    "tags": [
     "remove-cell"
    ]
   },
   "outputs": [],
   "source": [
    "import numpy as np\n",
    "import pandas as pd\n",
    "import plotly.io as pio\n",
    "import plotly.graph_objects as go\n",
    "import plotly.express as px\n",
    "from opensustainTemplate import *"
   ]
  },
  {
   "cell_type": "code",
   "execution_count": null,
   "metadata": {
    "tags": [
     "remove-cell"
    ]
   },
   "outputs": [],
   "source": [
    "df_raw = pd.read_csv(\"../csv/projects.csv\")\n",
    "df_raw.rename(columns={\"rubric\": \"topic\"}, inplace=True)\n",
    "df_raw.rename(columns={\"topics\": \"labels\"}, inplace=True)\n",
    "\n",
    "# This projects is two times in the database\n",
    "df_raw = df_raw[\n",
    "    df_raw[\"git_url\"] != \"https://github.com/openfoodfacts/openfoodfacts-server.git\"\n",
    "]"
   ]
  },
  {
   "cell_type": "code",
   "execution_count": null,
   "metadata": {
    "tags": [
     "remove-cell"
    ]
   },
   "outputs": [],
   "source": [
    "# Age plots are better in years\n",
    "df_raw[\"project_age_in_years\"] = df_raw[\"project_age_in_days\"].apply(lambda x: x / 365)\n",
    "max_age_in_years = 8.0"
   ]
  },
  {
   "cell_type": "code",
   "execution_count": null,
   "metadata": {
    "tags": [
     "full-width",
     "remove-input"
    ]
   },
   "outputs": [],
   "source": [
    "fig = go.Figure(\n",
    "    data=[\n",
    "        go.Table(\n",
    "            columnwidth=[100, 30],\n",
    "            header=dict(\n",
    "                values=[\"Dimension\", \"Value\"],\n",
    "                line_color=\"#000000\",\n",
    "                fill_color=\"#ffffff\",\n",
    "                font_size=18,\n",
    "            ),\n",
    "            cells=dict(\n",
    "                fill_color=\"#ffffff\",\n",
    "                line_color=\"#ffffff\",\n",
    "                font_size=16,\n",
    "                height=30,\n",
    "                values=[\n",
    "                    [\n",
    "                        \"Total number of projects\",\n",
    "                        \"GitHub projects\",\n",
    "                        \"GitLab projects\",\n",
    "                        \"Other platforms\",\n",
    "                        \"Number of projects in personal namespace\",\n",
    "                        \"Number of projects in community namespace\",\n",
    "                        \"Total stars of all projects\",\n",
    "                        \"Total contributors in all projects\",\n",
    "                        \"Active GitHub projects\",\n",
    "                        \"Inactive GitHub projects\",\n",
    "                        \"Projects with contribution guide in %\",\n",
    "                        \"Projects with code of conduct in %\",\n",
    "                        \"Projects accepting donations in %\",\n",
    "                        \"Median number of commits\",\n",
    "                        \"Median stargazers\",\n",
    "                        \"Median stars last year\",\n",
    "                        \"Median Development Distribution Score\",\n",
    "                        \"Median number of contributors\",\n",
    "                        \"Median closed issues last year\",\n",
    "                        \"Median commits last year\",\n",
    "                        \"Median age in years\",\n",
    "                    ],\n",
    "                    [\n",
    "                        df_raw[\"project_name\"].count(),\n",
    "                        df_raw[\"platform\"].value_counts()[\"github\"],\n",
    "                        df_raw[\"platform\"].value_counts()[\"gitlab\"],\n",
    "                        df_raw[\"platform\"].value_counts()[\"custom\"],\n",
    "                        df_raw[\"project_name\"].count() - df_raw[\"organization\"].count(),\n",
    "                        df_raw[\"organization\"].count(),\n",
    "                        df_raw[\"stargazers_count\"].sum(),\n",
    "                        df_raw[\"contributors\"].sum(),\n",
    "                        df_raw[\"project_active\"].value_counts()[True],\n",
    "                        df_raw[\"project_active\"].value_counts()[False],\n",
    "                        round(\n",
    "                            df_raw[\"contribution_guide\"].value_counts(normalize=True)[\n",
    "                                True\n",
    "                            ]\n",
    "                            * 100,\n",
    "                            2,\n",
    "                        ),\n",
    "                        round(\n",
    "                            df_raw[\"code_of_conduct\"].value_counts(normalize=True)[True]\n",
    "                            * 100,\n",
    "                            2,\n",
    "                        ),\n",
    "                        round(\n",
    "                            df_raw[\"accepts_donations\"].value_counts(normalize=True)[\n",
    "                                True\n",
    "                            ]\n",
    "                            * 100,\n",
    "                            2,\n",
    "                        ),\n",
    "                        df_raw[\"total_number_of_commits\"].median(),\n",
    "                        df_raw[\"stargazers_count\"].median(),\n",
    "                        df_raw[\"stars_last_year\"].median(),\n",
    "                        round(df_raw[\"development_distribution_score\"].median(), 4),\n",
    "                        df_raw[\"contributors\"].median(),\n",
    "                        df_raw[\"issues_closed_last_year\"].median(),\n",
    "                        df_raw[\"total_commits_last_year\"].median(),\n",
    "                        round(df_raw[\"project_age_in_years\"].median(), 2),\n",
    "                    ],\n",
    "                ],\n",
    "            ),\n",
    "        )\n",
    "    ]\n",
    ")\n",
    "\n",
    "\n",
    "fig[\"layout\"].update(margin=dict(l=5, r=5, b=0, t=5))\n",
    "fig.update_layout(height=700, width=500)\n",
    "fig.show()"
   ]
  },
  {
   "cell_type": "markdown",
   "metadata": {},
   "source": [
    "```{figure} data:image/gif;base64,R0lGODlhAQABAIAAAAAAAP///yH5BAEAAAAALAAAAAABAAEAAAIBRAA7\n",
    ":figclass: caption-hack\n",
    ":name: statistics-all-projects\n",
    "\n",
    "<br/>Statistics on all active and inactive projects\n",
    "```"
   ]
  },
  {
   "cell_type": "code",
   "execution_count": null,
   "metadata": {
    "tags": [
     "remove-cell"
    ]
   },
   "outputs": [],
   "source": [
    "df_active = df_raw.copy()\n",
    "# Filter out the inactive project for further analysis\n",
    "df_active = df_active[(df_active[\"project_active\"] == True)]\n",
    "# Ciruated Lists are no classical open source projects and are not included into the analysis\n",
    "df_active = df_active[(df_active[\"topic\"] != \"Curated Lists\")]\n",
    "# Filter out the projects not on the GitHub platform\n",
    "df_active = df_active[(df_active[\"platform\"] == \"github\")]\n",
    "df_active[\"project_name\"] = df_active[\"project_name\"].replace(\n",
    "    {\n",
    "        \"A Global Inventory of Commerical-, Industrial-, and Utility-Scale Photovoltaic Solar Generating Units\": \"A Global Inventory of Photovoltaic\"\n",
    "    }\n",
    ")\n",
    "df_active[\"project_name\"] = df_active[\"project_name\"].replace(\n",
    "    {\n",
    "        \"Asset-level Transition Risk in the Global Coal, Oil, and Gas Supply Chains\": \"Global Coal, Oil, and Gas Supply Chains\"\n",
    "    }\n",
    ")\n",
    "\n",
    "\n",
    "def text_to_link(project_name, git_url):\n",
    "    return '<a href=\"' + git_url + '\">' + project_name + \"</a>\"\n",
    "\n",
    "\n",
    "df_active[\"project_name\"] = df_active.apply(\n",
    "    lambda x: text_to_link(x.project_name, x.git_url), axis=1\n",
    ")"
   ]
  },
  {
   "cell_type": "code",
   "execution_count": null,
   "metadata": {
    "tags": [
     "remove-cell"
    ]
   },
   "outputs": [],
   "source": [
    "## Hack field content into dataset\n",
    "\n",
    "\n",
    "def topic_to_field(topic):\n",
    "    if topic in (\n",
    "        \"Photovoltaics and Solar Energy\",\n",
    "        \"Wind Energy\",\n",
    "        \"Hydro Energy\",\n",
    "        \"Geothermal Energy\",\n",
    "        \"Bioenergy\",\n",
    "    ):\n",
    "        field = \"Renewable Energy\"\n",
    "    elif topic in (\"Battery\", \"Hydrogen\"):\n",
    "        field = \"Energy Storage\"\n",
    "    elif topic in (\n",
    "        \"Energy Modeling and Optimization\",\n",
    "        \"Energy Monitoring and Control\",\n",
    "        \"Energy Distribution and Grids\",\n",
    "        \"Datasets on Energy Systems\",\n",
    "    ):\n",
    "        field = \"Energy Systems\"\n",
    "    elif topic in (\n",
    "        \"Buildings and Heating\",\n",
    "        \"Mobility and Transportation\",\n",
    "        \"Production and Industry\",\n",
    "        \"Computation and Communication\",\n",
    "    ):\n",
    "        field = \"Consumption of Energy and Resources\"\n",
    "    elif topic in (\n",
    "        \"Carbon Intensity and Accounting\",\n",
    "        \"Carbon Capture and Removal\",\n",
    "        \"Emission Observation and Modeling\",\n",
    "    ):\n",
    "        field = \"Emissions\"\n",
    "    elif topic in (\"Life Cycle Assessment\", \"Circular Economy and Waste\"):\n",
    "        field = \"Industrial Ecology\"\n",
    "    elif topic in (\"Biosphere\", \"Cryosphere\", \"Hydrosphere\", \"Atmosphere\"):\n",
    "        field = \"Earth Systems\"\n",
    "    elif topic in (\n",
    "        \"Earth and Climate Modeling\",\n",
    "        \"Radiative Transfer\",\n",
    "        \"Meteorological Observation and Forecast\",\n",
    "        \"Climate Data Processing and Access\",\n",
    "        \"Integrated Assessment\",\n",
    "    ):\n",
    "        field = \"Climate and Earth Science\"\n",
    "    elif topic in (\n",
    "        \"Air Quality\",\n",
    "        \"Water Supply and Quality\",\n",
    "        \"Soil and Land\",\n",
    "        \"Agriculture and Nutrition\",\n",
    "        \"Natural Hazard and Poverty\",\n",
    "    ):\n",
    "        field = \"Natural Resources\"\n",
    "    elif topic in (\n",
    "        \"Sustainable Development Goals\",\n",
    "        \"Sustainable Investment\",\n",
    "        \"Knowledge Platforms\",\n",
    "        \"Data Catalogs and Interfaces\",\n",
    "        \"Curated Lists\",\n",
    "    ):\n",
    "        field = \"Sustainable Development\"\n",
    "    else:\n",
    "        print(topic)\n",
    "        raise ValueError(\"Topic not within fields\")\n",
    "    return field\n",
    "\n",
    "\n",
    "df_active[\"topic\"].replace(\n",
    "    {\"Carbon Capture and Removel\": \"Carbon Capture and Removal\"}, inplace=True\n",
    ")\n",
    "df_active[\"field\"] = df_active[\"topic\"].apply(topic_to_field)"
   ]
  },
  {
   "cell_type": "code",
   "execution_count": null,
   "metadata": {
    "tags": [
     "remove-cell"
    ]
   },
   "outputs": [],
   "source": [
    "# Each project is ranked according to different indicators in the categories of community, activity and size.\n",
    "# A value of 1 represents the highest rank and 0 the lowest.\n",
    "# The individual values are summed up within the categories to create the scores for the different categories.\n",
    "df_active[\"activity\"] = (\n",
    "    df_active[\"total_commits_last_year\"].rank(pct=True)\n",
    "    + df_active[\"issues_closed_last_year\"].rank(pct=True)\n",
    "    + df_active[\"days_until_last_issue_closed\"].rank(pct=True)\n",
    "    + df_active[\"last_released_date\"].rank(pct=True, na_option=\"top\")\n",
    ")\n",
    "\n",
    "df_active[\"community\"] = (\n",
    "    df_active[\"contributors\"].rank(pct=True)\n",
    "    + df_active[\"development_distribution_score\"].rank(pct=True)\n",
    "    + df_active[\"reviews_per_pr\"].rank(pct=True)\n",
    ")\n",
    "\n",
    "df_active[\"size\"] = (\n",
    "    df_active[\"total_number_of_commits\"].rank(pct=True)\n",
    "    + df_active[\"contributors\"].rank(pct=True)\n",
    "    + df_active[\"closed_issues\"].rank(pct=True)\n",
    "    + df_active[\"closed_pullrequests\"].rank(pct=True)\n",
    ")\n",
    "\n",
    "# The scores are summed up and normalised so that 1 represents the largest total score.\n",
    "df_active[\"total_score\"] = (\n",
    "    df_active[\"activity\"] / df_active[\"activity\"].max()\n",
    "    + df_active[\"community\"] / df_active[\"community\"].max()\n",
    "    + df_active[\"size\"] / df_active[\"size\"].max()\n",
    ") / 3"
   ]
  },
  {
   "cell_type": "markdown",
   "metadata": {},
   "source": [
    "The following scatter plot provides an overview of all projects studied that are less than ten years old. The size of the circles is proportional to the relative scale of the projects, based on total commits and contributions. The colour bar shows the Development Distribution Score (DDS) as a measure of the distribution of work among the individual developers. A high value indicates a high distribution of work and, thus, a strong developer community. More details about this can be found in chapter {ref}`dds_chapter`."
   ]
  },
  {
   "cell_type": "code",
   "execution_count": null,
   "metadata": {
    "tags": [
     "full-width",
     "remove-input"
    ]
   },
   "outputs": [],
   "source": [
    "max_age_in_years = 14\n",
    "fig = px.scatter(\n",
    "    df_active.query(\"project_age_in_years<@max_age_in_years\"),\n",
    "    x=\"project_age_in_years\",\n",
    "    y=\"topic\",\n",
    "    size=\"size\",\n",
    "    color=\"development_distribution_score\",\n",
    "    color_continuous_scale=color_continuous_scale,\n",
    "    custom_data=[\"project_name\", \"oneliner\", \"git_url\"],\n",
    "    size_max=20,\n",
    ")\n",
    "\n",
    "fig.update_layout(\n",
    "    coloraxis_colorbar=dict(\n",
    "        title=\"DDS\",\n",
    "    ),\n",
    "    yaxis_title=None,\n",
    "    xaxis_title=\"Project Age in Years\",\n",
    "    height=1000,  # Added parameter\n",
    "    width=1310,\n",
    "    title=\"Overview of all projects\",\n",
    "    hoverlabel=dict(\n",
    "        bgcolor=\"white\",\n",
    "    ),\n",
    "    dragmode=False,\n",
    ")\n",
    "fig.update_xaxes(range=[0, 14])\n",
    "fig.update_traces(\n",
    "    hovertemplate=\"<br>\".join(\n",
    "        [\n",
    "            \"Project Name: <b>%{customdata[0]}</b>\",\n",
    "            \"Project Info: <b>%{customdata[1]}</b>\",\n",
    "            \"Git URL: <b>%{customdata[2]}</b>\",\n",
    "        ]\n",
    "    )\n",
    ")\n",
    "fig.add_layout_image(\n",
    "    dict(\n",
    "        source=logo_img,\n",
    "        xref=\"paper\",\n",
    "        yref=\"paper\",\n",
    "        x=1,\n",
    "        y=1,\n",
    "        sizex=0.05,\n",
    "        sizey=0.05,\n",
    "        xanchor=\"right\",\n",
    "        yanchor=\"top\",\n",
    "    )\n",
    ")\n",
    "fig[\"layout\"].update(margin=dict(l=0, r=0, b=0, t=40))\n",
    "fig[\"layout\"][\"xaxis\"][\"autorange\"] = \"reversed\"\n",
    "fig.show()"
   ]
  },
  {
   "cell_type": "markdown",
   "metadata": {},
   "source": [
    "```{figure} data:image/gif;base64,R0lGODlhAQABAIAAAAAAAP///yH5BAEAAAAALAAAAAABAAEAAAIBRAA7\n",
    ":figclass: caption-hack\n",
    ":name: overview-all-projects\n",
    "\n",
    "<br/>Overview of all projects of the last 14 years since the launch of GitHub\n",
    "```"
   ]
  },
  {
   "cell_type": "code",
   "execution_count": null,
   "metadata": {
    "tags": [
     "full-width",
     "remove-cell"
    ]
   },
   "outputs": [],
   "source": [
    "# Save the dataset with the scores\n",
    "df_active_path = \"../csv/project_analysis.csv\"\n",
    "df_active.to_csv(df_active_path)"
   ]
  }
 ],
 "metadata": {
  "celltoolbar": "Tags",
  "kernelspec": {
   "display_name": "Python 3",
   "language": "python",
   "name": "python3"
  },
  "language_info": {
   "codemirror_mode": {
    "name": "ipython",
    "version": 3
   },
   "file_extension": ".py",
   "mimetype": "text/x-python",
   "name": "python",
   "nbconvert_exporter": "python",
   "pygments_lexer": "ipython3",
   "version": "3.8.10"
  },
  "tags": "full-width",
  "vscode": {
   "interpreter": {
    "hash": "e7370f93d1d0cde622a1f8e1c04877d8463912d04d973331ad4851f04de6915a"
   }
  }
 },
 "nbformat": 4,
 "nbformat_minor": 4
}
