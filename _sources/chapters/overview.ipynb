{
 "cells": [
  {
   "cell_type": "markdown",
   "metadata": {},
   "source": [
    "# Overview\n",
    "\n",
    "At the time of writing, 1339 projects have been identified worldwide. Of these:\n",
    "- 1188 projects are hosted on GitHub,\n",
    "- 27 on GitLab and\n",
    "- 125 on other websites or self-hosted Git platforms.\n",
    "\n",
    "**We found 996 active project repositories in total on GitHub**. A project is considered active if the public repository has at least one commit or closed issue within the last year. We have excluded inactive projects from our analysis as their inclusion would distort current trends. The listed inactive open source projects are those that have become inactive since data collection began two years ago. The statistics on all active and inactive projects in the table below are based on the raw dataset. **Unless otherwise noted, all following plots in the study always refer to the active projects.** "
   ]
  },
  {
   "cell_type": "code",
   "execution_count": 1,
   "metadata": {
    "tags": [
     "remove-cell"
    ]
   },
   "outputs": [],
   "source": [
    "import numpy as np\n",
    "import pandas as pd\n",
    "import plotly.io as pio\n",
    "import plotly.graph_objects as go\n",
    "import plotly.express as px\n",
    "from opensustainTemplate import *"
   ]
  },
  {
   "cell_type": "code",
   "execution_count": 2,
   "metadata": {
    "tags": [
     "remove-cell"
    ]
   },
   "outputs": [],
   "source": [
    "df_raw = pd.read_csv(\"../csv/projects.csv\")\n",
    "df_raw.rename(columns={\"rubric\": \"topic\"}, inplace=True)\n",
    "df_raw.rename(columns={\"topics\": \"labels\"}, inplace=True)\n",
    "\n",
    "# This projects is two times in the database\n",
    "df_raw = df_raw[\n",
    "    df_raw[\"git_url\"] != \"https://github.com/openfoodfacts/openfoodfacts-server.git\"\n",
    "]"
   ]
  },
  {
   "cell_type": "code",
   "execution_count": 3,
   "metadata": {
    "tags": [
     "remove-cell"
    ]
   },
   "outputs": [],
   "source": [
    "# Age plots are better in years\n",
    "df_raw[\"project_age_in_years\"] = df_raw[\"project_age_in_days\"].apply(lambda x: x / 365)\n",
    "max_age_in_years = 8.0"
   ]
  },
  {
   "cell_type": "code",
   "execution_count": 4,
   "metadata": {
    "tags": [
     "full-width",
     "remove-input"
    ]
   },
   "outputs": [
    {
     "data": {
      "application/vnd.plotly.v1+json": {
       "config": {
        "plotlyServerURL": "https://plot.ly"
       },
       "data": [
        {
         "cells": {
          "fill": {
           "color": "#ffffff"
          },
          "font": {
           "size": 16
          },
          "height": 30,
          "line": {
           "color": "#ffffff"
          },
          "values": [
           [
            "Total number of projects",
            "GitHub projects",
            "GitLab projects",
            "Other platforms",
            "Number of projects in personal namespace",
            "Number of projects in community namespace",
            "Total stars of all projects",
            "Total contributors in all projects",
            "Active GitHub projects",
            "Inactive GitHub projects",
            "Projects with contribution guide in %",
            "Projects with code of conduct in %",
            "Projects accepting donations in %",
            "Median number of commits",
            "Median stargazers",
            "Median stars last year",
            "Median Development Distribution Score",
            "Median number of contributors",
            "Median closed issues last year",
            "Median commits last year",
            "Median age in years"
           ],
           [
            1339,
            1187,
            27,
            125,
            547,
            792,
            126568,
            14628,
            995,
            192,
            30.58,
            13.98,
            3.71,
            481,
            42,
            11,
            0.3043,
            6,
            8,
            23,
            4.45
           ]
          ]
         },
         "columnwidth": [
          100,
          30
         ],
         "header": {
          "fill": {
           "color": "#ffffff"
          },
          "font": {
           "size": 18
          },
          "line": {
           "color": "#000000"
          },
          "values": [
           "Dimension",
           "Value"
          ]
         },
         "type": "table"
        }
       ],
       "layout": {
        "dragmode": false,
        "height": 700,
        "margin": {
         "b": 0,
         "l": 5,
         "r": 5,
         "t": 5
        },
        "template": {
         "data": {
          "bar": [
           {
            "error_x": {
             "color": "#2a3f5f"
            },
            "error_y": {
             "color": "#2a3f5f"
            },
            "marker": {
             "line": {
              "color": "#E5ECF6",
              "width": 0.5
             },
             "pattern": {
              "fillmode": "overlay",
              "size": 10,
              "solidity": 0.2
             }
            },
            "type": "bar"
           }
          ],
          "barpolar": [
           {
            "marker": {
             "line": {
              "color": "#E5ECF6",
              "width": 0.5
             },
             "pattern": {
              "fillmode": "overlay",
              "size": 10,
              "solidity": 0.2
             }
            },
            "type": "barpolar"
           }
          ],
          "carpet": [
           {
            "aaxis": {
             "endlinecolor": "#2a3f5f",
             "gridcolor": "white",
             "linecolor": "white",
             "minorgridcolor": "white",
             "startlinecolor": "#2a3f5f"
            },
            "baxis": {
             "endlinecolor": "#2a3f5f",
             "gridcolor": "white",
             "linecolor": "white",
             "minorgridcolor": "white",
             "startlinecolor": "#2a3f5f"
            },
            "type": "carpet"
           }
          ],
          "choropleth": [
           {
            "colorbar": {
             "outlinewidth": 0,
             "ticks": ""
            },
            "type": "choropleth"
           }
          ],
          "contour": [
           {
            "colorbar": {
             "outlinewidth": 0,
             "ticks": ""
            },
            "colorscale": [
             [
              0,
              "#0d0887"
             ],
             [
              0.1111111111111111,
              "#46039f"
             ],
             [
              0.2222222222222222,
              "#7201a8"
             ],
             [
              0.3333333333333333,
              "#9c179e"
             ],
             [
              0.4444444444444444,
              "#bd3786"
             ],
             [
              0.5555555555555556,
              "#d8576b"
             ],
             [
              0.6666666666666666,
              "#ed7953"
             ],
             [
              0.7777777777777778,
              "#fb9f3a"
             ],
             [
              0.8888888888888888,
              "#fdca26"
             ],
             [
              1,
              "#f0f921"
             ]
            ],
            "type": "contour"
           }
          ],
          "contourcarpet": [
           {
            "colorbar": {
             "outlinewidth": 0,
             "ticks": ""
            },
            "type": "contourcarpet"
           }
          ],
          "heatmap": [
           {
            "colorbar": {
             "outlinewidth": 0,
             "ticks": ""
            },
            "colorscale": [
             [
              0,
              "#0d0887"
             ],
             [
              0.1111111111111111,
              "#46039f"
             ],
             [
              0.2222222222222222,
              "#7201a8"
             ],
             [
              0.3333333333333333,
              "#9c179e"
             ],
             [
              0.4444444444444444,
              "#bd3786"
             ],
             [
              0.5555555555555556,
              "#d8576b"
             ],
             [
              0.6666666666666666,
              "#ed7953"
             ],
             [
              0.7777777777777778,
              "#fb9f3a"
             ],
             [
              0.8888888888888888,
              "#fdca26"
             ],
             [
              1,
              "#f0f921"
             ]
            ],
            "type": "heatmap"
           }
          ],
          "heatmapgl": [
           {
            "colorbar": {
             "outlinewidth": 0,
             "ticks": ""
            },
            "colorscale": [
             [
              0,
              "#0d0887"
             ],
             [
              0.1111111111111111,
              "#46039f"
             ],
             [
              0.2222222222222222,
              "#7201a8"
             ],
             [
              0.3333333333333333,
              "#9c179e"
             ],
             [
              0.4444444444444444,
              "#bd3786"
             ],
             [
              0.5555555555555556,
              "#d8576b"
             ],
             [
              0.6666666666666666,
              "#ed7953"
             ],
             [
              0.7777777777777778,
              "#fb9f3a"
             ],
             [
              0.8888888888888888,
              "#fdca26"
             ],
             [
              1,
              "#f0f921"
             ]
            ],
            "type": "heatmapgl"
           }
          ],
          "histogram": [
           {
            "marker": {
             "pattern": {
              "fillmode": "overlay",
              "size": 10,
              "solidity": 0.2
             }
            },
            "type": "histogram"
           }
          ],
          "histogram2d": [
           {
            "colorbar": {
             "outlinewidth": 0,
             "ticks": ""
            },
            "colorscale": [
             [
              0,
              "#0d0887"
             ],
             [
              0.1111111111111111,
              "#46039f"
             ],
             [
              0.2222222222222222,
              "#7201a8"
             ],
             [
              0.3333333333333333,
              "#9c179e"
             ],
             [
              0.4444444444444444,
              "#bd3786"
             ],
             [
              0.5555555555555556,
              "#d8576b"
             ],
             [
              0.6666666666666666,
              "#ed7953"
             ],
             [
              0.7777777777777778,
              "#fb9f3a"
             ],
             [
              0.8888888888888888,
              "#fdca26"
             ],
             [
              1,
              "#f0f921"
             ]
            ],
            "type": "histogram2d"
           }
          ],
          "histogram2dcontour": [
           {
            "colorbar": {
             "outlinewidth": 0,
             "ticks": ""
            },
            "colorscale": [
             [
              0,
              "#0d0887"
             ],
             [
              0.1111111111111111,
              "#46039f"
             ],
             [
              0.2222222222222222,
              "#7201a8"
             ],
             [
              0.3333333333333333,
              "#9c179e"
             ],
             [
              0.4444444444444444,
              "#bd3786"
             ],
             [
              0.5555555555555556,
              "#d8576b"
             ],
             [
              0.6666666666666666,
              "#ed7953"
             ],
             [
              0.7777777777777778,
              "#fb9f3a"
             ],
             [
              0.8888888888888888,
              "#fdca26"
             ],
             [
              1,
              "#f0f921"
             ]
            ],
            "type": "histogram2dcontour"
           }
          ],
          "mesh3d": [
           {
            "colorbar": {
             "outlinewidth": 0,
             "ticks": ""
            },
            "type": "mesh3d"
           }
          ],
          "parcoords": [
           {
            "line": {
             "colorbar": {
              "outlinewidth": 0,
              "ticks": ""
             }
            },
            "type": "parcoords"
           }
          ],
          "pie": [
           {
            "automargin": true,
            "type": "pie"
           }
          ],
          "scatter": [
           {
            "fillpattern": {
             "fillmode": "overlay",
             "size": 10,
             "solidity": 0.2
            },
            "type": "scatter"
           }
          ],
          "scatter3d": [
           {
            "line": {
             "colorbar": {
              "outlinewidth": 0,
              "ticks": ""
             }
            },
            "marker": {
             "colorbar": {
              "outlinewidth": 0,
              "ticks": ""
             }
            },
            "type": "scatter3d"
           }
          ],
          "scattercarpet": [
           {
            "marker": {
             "colorbar": {
              "outlinewidth": 0,
              "ticks": ""
             }
            },
            "type": "scattercarpet"
           }
          ],
          "scattergeo": [
           {
            "marker": {
             "colorbar": {
              "outlinewidth": 0,
              "ticks": ""
             }
            },
            "type": "scattergeo"
           }
          ],
          "scattergl": [
           {
            "marker": {
             "colorbar": {
              "outlinewidth": 0,
              "ticks": ""
             }
            },
            "type": "scattergl"
           }
          ],
          "scattermapbox": [
           {
            "marker": {
             "colorbar": {
              "outlinewidth": 0,
              "ticks": ""
             }
            },
            "type": "scattermapbox"
           }
          ],
          "scatterpolar": [
           {
            "marker": {
             "colorbar": {
              "outlinewidth": 0,
              "ticks": ""
             }
            },
            "type": "scatterpolar"
           }
          ],
          "scatterpolargl": [
           {
            "marker": {
             "colorbar": {
              "outlinewidth": 0,
              "ticks": ""
             }
            },
            "type": "scatterpolargl"
           }
          ],
          "scatterternary": [
           {
            "marker": {
             "colorbar": {
              "outlinewidth": 0,
              "ticks": ""
             }
            },
            "type": "scatterternary"
           }
          ],
          "surface": [
           {
            "colorbar": {
             "outlinewidth": 0,
             "ticks": ""
            },
            "colorscale": [
             [
              0,
              "#0d0887"
             ],
             [
              0.1111111111111111,
              "#46039f"
             ],
             [
              0.2222222222222222,
              "#7201a8"
             ],
             [
              0.3333333333333333,
              "#9c179e"
             ],
             [
              0.4444444444444444,
              "#bd3786"
             ],
             [
              0.5555555555555556,
              "#d8576b"
             ],
             [
              0.6666666666666666,
              "#ed7953"
             ],
             [
              0.7777777777777778,
              "#fb9f3a"
             ],
             [
              0.8888888888888888,
              "#fdca26"
             ],
             [
              1,
              "#f0f921"
             ]
            ],
            "type": "surface"
           }
          ],
          "table": [
           {
            "cells": {
             "fill": {
              "color": "#EBF0F8"
             },
             "line": {
              "color": "white"
             }
            },
            "header": {
             "fill": {
              "color": "#C8D4E3"
             },
             "line": {
              "color": "white"
             }
            },
            "type": "table"
           }
          ]
         },
         "layout": {
          "annotationdefaults": {
           "arrowcolor": "#2a3f5f",
           "arrowhead": 0,
           "arrowwidth": 1
          },
          "autotypenumbers": "strict",
          "coloraxis": {
           "colorbar": {
            "outlinewidth": 0,
            "ticks": ""
           }
          },
          "colorscale": {
           "diverging": [
            [
             0,
             "#8e0152"
            ],
            [
             0.1,
             "#c51b7d"
            ],
            [
             0.2,
             "#de77ae"
            ],
            [
             0.3,
             "#f1b6da"
            ],
            [
             0.4,
             "#fde0ef"
            ],
            [
             0.5,
             "#f7f7f7"
            ],
            [
             0.6,
             "#e6f5d0"
            ],
            [
             0.7,
             "#b8e186"
            ],
            [
             0.8,
             "#7fbc41"
            ],
            [
             0.9,
             "#4d9221"
            ],
            [
             1,
             "#276419"
            ]
           ],
           "sequential": [
            [
             0,
             "#0d0887"
            ],
            [
             0.1111111111111111,
             "#46039f"
            ],
            [
             0.2222222222222222,
             "#7201a8"
            ],
            [
             0.3333333333333333,
             "#9c179e"
            ],
            [
             0.4444444444444444,
             "#bd3786"
            ],
            [
             0.5555555555555556,
             "#d8576b"
            ],
            [
             0.6666666666666666,
             "#ed7953"
            ],
            [
             0.7777777777777778,
             "#fb9f3a"
            ],
            [
             0.8888888888888888,
             "#fdca26"
            ],
            [
             1,
             "#f0f921"
            ]
           ],
           "sequentialminus": [
            [
             0,
             "#0d0887"
            ],
            [
             0.1111111111111111,
             "#46039f"
            ],
            [
             0.2222222222222222,
             "#7201a8"
            ],
            [
             0.3333333333333333,
             "#9c179e"
            ],
            [
             0.4444444444444444,
             "#bd3786"
            ],
            [
             0.5555555555555556,
             "#d8576b"
            ],
            [
             0.6666666666666666,
             "#ed7953"
            ],
            [
             0.7777777777777778,
             "#fb9f3a"
            ],
            [
             0.8888888888888888,
             "#fdca26"
            ],
            [
             1,
             "#f0f921"
            ]
           ]
          },
          "colorway": [
           "#636efa",
           "#EF553B",
           "#00cc96",
           "#ab63fa",
           "#FFA15A",
           "#19d3f3",
           "#FF6692",
           "#B6E880",
           "#FF97FF",
           "#FECB52"
          ],
          "font": {
           "color": "#040404",
           "family": "Open Sans",
           "size": 15
          },
          "geo": {
           "bgcolor": "white",
           "lakecolor": "white",
           "landcolor": "#E5ECF6",
           "showlakes": true,
           "showland": true,
           "subunitcolor": "white"
          },
          "hoverlabel": {
           "align": "left"
          },
          "hovermode": "closest",
          "mapbox": {
           "style": "light"
          },
          "margin": {
           "b": 0
          },
          "paper_bgcolor": "white",
          "plot_bgcolor": "#E5ECF6",
          "polar": {
           "angularaxis": {
            "gridcolor": "white",
            "linecolor": "white",
            "ticks": ""
           },
           "bgcolor": "#E5ECF6",
           "radialaxis": {
            "gridcolor": "white",
            "linecolor": "white",
            "ticks": ""
           }
          },
          "scene": {
           "xaxis": {
            "backgroundcolor": "#E5ECF6",
            "gridcolor": "white",
            "gridwidth": 2,
            "linecolor": "white",
            "showbackground": true,
            "ticks": "",
            "zerolinecolor": "white"
           },
           "yaxis": {
            "backgroundcolor": "#E5ECF6",
            "gridcolor": "white",
            "gridwidth": 2,
            "linecolor": "white",
            "showbackground": true,
            "ticks": "",
            "zerolinecolor": "white"
           },
           "zaxis": {
            "backgroundcolor": "#E5ECF6",
            "gridcolor": "white",
            "gridwidth": 2,
            "linecolor": "white",
            "showbackground": true,
            "ticks": "",
            "zerolinecolor": "white"
           }
          },
          "shapedefaults": {
           "line": {
            "color": "#2a3f5f"
           }
          },
          "ternary": {
           "aaxis": {
            "gridcolor": "white",
            "linecolor": "white",
            "ticks": ""
           },
           "baxis": {
            "gridcolor": "white",
            "linecolor": "white",
            "ticks": ""
           },
           "bgcolor": "#E5ECF6",
           "caxis": {
            "gridcolor": "white",
            "linecolor": "white",
            "ticks": ""
           }
          },
          "title": {
           "font": {
            "color": "#040404",
            "family": "Open Sans"
           },
           "x": 0.05
          },
          "xaxis": {
           "automargin": true,
           "gridcolor": "white",
           "linecolor": "white",
           "ticks": "",
           "title": {
            "standoff": 15
           },
           "zerolinecolor": "white",
           "zerolinewidth": 2
          },
          "yaxis": {
           "automargin": true,
           "gridcolor": "white",
           "linecolor": "white",
           "ticks": "",
           "title": {
            "standoff": 15
           },
           "zerolinecolor": "white",
           "zerolinewidth": 2
          }
         }
        },
        "width": 500
       }
      }
     },
     "metadata": {},
     "output_type": "display_data"
    }
   ],
   "source": [
    "fig = go.Figure(\n",
    "    data=[\n",
    "        go.Table(\n",
    "            columnwidth=[100, 30],\n",
    "            header=dict(\n",
    "                values=[\"Dimension\", \"Value\"],\n",
    "                line_color=\"#000000\",\n",
    "                fill_color=\"#ffffff\",\n",
    "                font_size=18,\n",
    "            ),\n",
    "            cells=dict(\n",
    "                fill_color=\"#ffffff\",\n",
    "                line_color=\"#ffffff\",\n",
    "                font_size=16,\n",
    "                height=30,\n",
    "                values=[\n",
    "                    [\n",
    "                        \"Total number of projects\",\n",
    "                        \"GitHub projects\",\n",
    "                        \"GitLab projects\",\n",
    "                        \"Other platforms\",\n",
    "                        \"Number of projects in personal namespace\",\n",
    "                        \"Number of projects in community namespace\",\n",
    "                        \"Total stars of all projects\",\n",
    "                        \"Total contributors in all projects\",\n",
    "                        \"Active GitHub projects\",\n",
    "                        \"Inactive GitHub projects\",\n",
    "                        \"Projects with contribution guide in %\",\n",
    "                        \"Projects with code of conduct in %\",\n",
    "                        \"Projects accepting donations in %\",\n",
    "                        \"Median number of commits\",\n",
    "                        \"Median stargazers\",\n",
    "                        \"Median stars last year\",\n",
    "                        \"Median Development Distribution Score\",\n",
    "                        \"Median number of contributors\",\n",
    "                        \"Median closed issues last year\",\n",
    "                        \"Median commits last year\",\n",
    "                        \"Median age in years\",\n",
    "                    ],\n",
    "                    [\n",
    "                        df_raw[\"project_name\"].count(),\n",
    "                        df_raw[\"platform\"].value_counts()[\"github\"],\n",
    "                        df_raw[\"platform\"].value_counts()[\"gitlab\"],\n",
    "                        df_raw[\"platform\"].value_counts()[\"custom\"],\n",
    "                        df_raw[\"project_name\"].count() - df_raw[\"organization\"].count(),\n",
    "                        df_raw[\"organization\"].count(),\n",
    "                        df_raw[\"stargazers_count\"].sum(),\n",
    "                        df_raw[\"contributors\"].sum(),\n",
    "                        df_raw[\"project_active\"].value_counts()[True],\n",
    "                        df_raw[\"project_active\"].value_counts()[False],\n",
    "                        round(\n",
    "                            df_raw[\"contribution_guide\"].value_counts(normalize=True)[\n",
    "                                True\n",
    "                            ]\n",
    "                            * 100,\n",
    "                            2,\n",
    "                        ),\n",
    "                        round(\n",
    "                            df_raw[\"code_of_conduct\"].value_counts(normalize=True)[True]\n",
    "                            * 100,\n",
    "                            2,\n",
    "                        ),\n",
    "                        round(\n",
    "                            df_raw[\"accepts_donations\"].value_counts(normalize=True)[\n",
    "                                True\n",
    "                            ]\n",
    "                            * 100,\n",
    "                            2,\n",
    "                        ),\n",
    "                        df_raw[\"total_number_of_commits\"].median(),\n",
    "                        df_raw[\"stargazers_count\"].median(),\n",
    "                        df_raw[\"stars_last_year\"].median(),\n",
    "                        round(df_raw[\"development_distribution_score\"].median(), 4),\n",
    "                        df_raw[\"contributors\"].median(),\n",
    "                        df_raw[\"issues_closed_last_year\"].median(),\n",
    "                        df_raw[\"total_commits_last_year\"].median(),\n",
    "                        round(df_raw[\"project_age_in_years\"].median(), 2),\n",
    "                    ],\n",
    "                ],\n",
    "            ),\n",
    "        )\n",
    "    ]\n",
    ")\n",
    "\n",
    "\n",
    "fig[\"layout\"].update(margin=dict(l=5, r=5, b=0, t=5))\n",
    "fig.update_layout(height=700, width=500, dragmode=False)\n",
    "fig.show()"
   ]
  },
  {
   "cell_type": "markdown",
   "metadata": {},
   "source": [
    "```{figure} data:image/gif;base64,R0lGODlhAQABAIAAAAAAAP///yH5BAEAAAAALAAAAAABAAEAAAIBRAA7\n",
    ":figclass: caption-hack\n",
    ":name: statistics-all-projects\n",
    "\n",
    "<br/>Statistics on all active and inactive projects\n",
    "```"
   ]
  },
  {
   "cell_type": "code",
   "execution_count": 5,
   "metadata": {
    "tags": [
     "remove-cell"
    ]
   },
   "outputs": [],
   "source": [
    "df_active = df_raw.copy()\n",
    "# Filter out the inactive project for further analysis\n",
    "df_active = df_active[(df_active[\"project_active\"] == True)]\n",
    "# Ciruated Lists are no classical open source projects and are not included into the analysis\n",
    "df_active = df_active[(df_active[\"topic\"] != \"Curated Lists\")]\n",
    "# At the time of the data processing just one project was active in this topic.\n",
    "df_active = df_active[(df_active[\"topic\"] != \"Production and Industry\")]\n",
    "\n",
    "# Filter out the projects not on the GitHub platform\n",
    "df_active = df_active[(df_active[\"platform\"] == \"github\")]\n",
    "df_active[\"project_name\"] = df_active[\"project_name\"].replace(\n",
    "    {\n",
    "        \"A Global Inventory of Commerical-, Industrial-, and Utility-Scale Photovoltaic Solar Generating Units\": \"A Global Inventory of Photovoltaic\"\n",
    "    }\n",
    ")\n",
    "df_active[\"project_name\"] = df_active[\"project_name\"].replace(\n",
    "    {\n",
    "        \"Asset-level Transition Risk in the Global Coal, Oil, and Gas Supply Chains\": \"Global Coal, Oil, and Gas Supply Chains\"\n",
    "    }\n",
    ")\n",
    "\n",
    "df_active[\"project_name\"] = df_active[\"project_name\"].replace(\n",
    "    {\n",
    "        \"The REgional Model of INvestments and Development\": \"REMIND\"\n",
    "    }\n",
    ")\n",
    "\n",
    "df_active[\"project_name\"] = df_active[\"project_name\"].replace(\n",
    "    {\n",
    "        \"Hierarchical Engine for Large-scale Infrastructure Co-Simulation\": \"HELICS\"\n",
    "    }\n",
    ")\n",
    "\n",
    "df_active[\"project_name\"] = df_active[\"project_name\"].replace(\n",
    "    {\n",
    "        \"Grid Singularity Energy Exchange Engine (D3A)\": \"Grid Singularity Energy Exchange\"\n",
    "    }\n",
    ")\n",
    "\n",
    "df_active[\"project_name\"] = df_active[\"project_name\"].replace(\n",
    "    {\n",
    "        \"Integrated Valuation of Ecosystem Services and Tradeoffs\": \"InVEST\"\n",
    "    }\n",
    ")\n",
    "\n",
    "\n",
    "\n",
    "def text_to_link(project_name, git_url):\n",
    "    return '<a href=\"' + git_url + '\" style = \"color: black\">' + project_name + \"</a>\"\n",
    "\n",
    "\n",
    "df_active[\"project_name\"] = df_active.apply(\n",
    "    lambda x: text_to_link(x.project_name, x.git_url), axis=1\n",
    ")"
   ]
  },
  {
   "cell_type": "code",
   "execution_count": 6,
   "metadata": {
    "tags": [
     "remove-cell"
    ]
   },
   "outputs": [],
   "source": [
    "## Hack field content into dataset\n",
    "\n",
    "\n",
    "def topic_to_field(topic):\n",
    "    if topic in (\n",
    "        \"Photovoltaics and Solar Energy\",\n",
    "        \"Wind Energy\",\n",
    "        \"Hydro Energy\",\n",
    "        \"Geothermal Energy\",\n",
    "        \"Bioenergy\",\n",
    "    ):\n",
    "        field = \"Renewable Energy\"\n",
    "    elif topic in (\"Battery\", \"Hydrogen\"):\n",
    "        field = \"Energy Storage\"\n",
    "    elif topic in (\n",
    "        \"Energy Modeling and Optimization\",\n",
    "        \"Energy Monitoring and Control\",\n",
    "        \"Energy Distribution and Grids\",\n",
    "        \"Datasets on Energy Systems\",\n",
    "    ):\n",
    "        field = \"Energy Systems\"\n",
    "    elif topic in (\n",
    "        \"Buildings and Heating\",\n",
    "        \"Mobility and Transportation\",\n",
    "        \"Production and Industry\",\n",
    "        \"Computation and Communication\",\n",
    "    ):\n",
    "        field = \"Consumption of Energy and Resources\"\n",
    "    elif topic in (\n",
    "        \"Carbon Intensity and Accounting\",\n",
    "        \"Carbon Capture and Removal\",\n",
    "        \"Emission Observation and Modeling\",\n",
    "    ):\n",
    "        field = \"Emissions\"\n",
    "    elif topic in (\"Life Cycle Assessment\", \"Circular Economy and Waste\"):\n",
    "        field = \"Industrial Ecology\"\n",
    "    elif topic in (\"Biosphere\", \"Cryosphere\", \"Hydrosphere\", \"Atmosphere\"):\n",
    "        field = \"Earth Systems\"\n",
    "    elif topic in (\n",
    "        \"Earth and Climate Modeling\",\n",
    "        \"Radiative Transfer\",\n",
    "        \"Meteorological Observation and Forecast\",\n",
    "        \"Climate Data Processing and Access\",\n",
    "        \"Integrated Assessment\",\n",
    "    ):\n",
    "        field = \"Climate and Earth Science\"\n",
    "    elif topic in (\n",
    "        \"Air Quality\",\n",
    "        \"Water Supply and Quality\",\n",
    "        \"Soil and Land\",\n",
    "        \"Agriculture and Nutrition\",\n",
    "        \"Natural Hazard and Poverty\",\n",
    "    ):\n",
    "        field = \"Natural Resources\"\n",
    "    elif topic in (\n",
    "        \"Sustainable Development Goals\",\n",
    "        \"Sustainable Investment\",\n",
    "        \"Knowledge Platforms\",\n",
    "        \"Data Catalogs and Interfaces\",\n",
    "        \"Curated Lists\",\n",
    "    ):\n",
    "        field = \"Sustainable Development\"\n",
    "    else:\n",
    "        print(topic)\n",
    "        raise ValueError(\"Topic not within fields\")\n",
    "    return field\n",
    "\n",
    "\n",
    "df_active[\"topic\"].replace(\n",
    "    {\"Carbon Capture and Removel\": \"Carbon Capture and Removal\"}, inplace=True\n",
    ")\n",
    "df_active[\"field\"] = df_active[\"topic\"].apply(topic_to_field)"
   ]
  },
  {
   "cell_type": "code",
   "execution_count": 7,
   "metadata": {
    "tags": [
     "remove-cell"
    ]
   },
   "outputs": [],
   "source": [
    "# Each project is ranked according to different indicators in the categories of community, activity and size.\n",
    "# A value of 1 represents the highest rank and 0 the lowest.\n",
    "# The individual values are summed up within the categories to create the scores for the different categories.\n",
    "df_active[\"activity\"] = (\n",
    "    df_active[\"total_commits_last_year\"].rank(pct=True)\n",
    "    + df_active[\"issues_closed_last_year\"].rank(pct=True)\n",
    "    + df_active[\"days_until_last_issue_closed\"].rank(pct=True)\n",
    "    + df_active[\"last_released_date\"].rank(pct=True, na_option=\"top\")\n",
    ") / 4\n",
    "\n",
    "df_active[\"community\"] = (\n",
    "    df_active[\"contributors\"].rank(pct=True)\n",
    "    + df_active[\"development_distribution_score\"].rank(pct=True)\n",
    "    + df_active[\"reviews_per_pr\"].rank(pct=True)\n",
    ") / 3\n",
    "\n",
    "df_active[\"size\"] = (\n",
    "    df_active[\"total_number_of_commits\"].rank(pct=True)\n",
    "    + df_active[\"contributors\"].rank(pct=True)\n",
    "    + df_active[\"closed_issues\"].rank(pct=True)\n",
    "    + df_active[\"closed_pullrequests\"].rank(pct=True)\n",
    ") / 4\n",
    "\n",
    "# The scores are summed up and normalised so that 1 represents the largest total score.\n",
    "df_active[\"total_score\"] = (\n",
    "    df_active[\"activity\"] / df_active[\"activity\"].max()\n",
    "    + df_active[\"community\"] / df_active[\"community\"].max()\n",
    "    + df_active[\"size\"] / df_active[\"size\"].max()\n",
    ") / 3"
   ]
  },
  {
   "cell_type": "markdown",
   "metadata": {},
   "source": [
    "The following scatter plot provides an overview of all projects studied. The size of the circles is proportional to the relative scale of the projects, based on total commits and contributions. The colour bar shows the Development Distribution Score (DDS) as a measure of the distribution of work among the individual developers. A high value indicates a high distribution of work and, thus, a strong developer community. More details about this can be found in chapter {ref}`dds_chapter`."
   ]
  },
  {
   "cell_type": "code",
   "execution_count": 8,
   "metadata": {
    "tags": [
     "full-width",
     "remove-input"
    ]
   },
   "outputs": [
    {
     "data": {
      "application/vnd.plotly.v1+json": {
       "config": {
        "plotlyServerURL": "https://plot.ly"
       },
       "data": [
        {
         "customdata": [
          [
           "<a href=\"https://github.com/pvlib/pvlib-python.git\" style = \"color: black\">pvlib-python</a>",
           "A set of documented functions for simulating the performance of photovoltaic energy systems.",
           "https://github.com/pvlib/pvlib-python.git"
          ],
          [
           "<a href=\"https://github.com/SunPower/pvfactors.git\" style = \"color: black\">pvfactors</a>",
           "Open source view-factor model for diffuse shading and bifacial PV modeling.",
           "https://github.com/SunPower/pvfactors.git"
          ],
          [
           "<a href=\"https://github.com/renewables-ninja/gsee.git\" style = \"color: black\">gsee</a>",
           "Global Solar Energy Estimator.",
           "https://github.com/renewables-ninja/gsee.git"
          ],
          [
           "<a href=\"https://github.com/SunPower/PVMismatch.git\" style = \"color: black\">PVMismatch</a>",
           "An explicit Python PV system IV & PV curve trace calculator which can also calculate mismatch.",
           "https://github.com/SunPower/PVMismatch.git"
          ],
          [
           "<a href=\"https://github.com/NREL/rdtools.git\" style = \"color: black\">rdtools</a>",
           "An open source library to support reproducible technical analysis of time series data from photovoltaic energy systems.",
           "https://github.com/NREL/rdtools.git"
          ],
          [
           "<a href=\"https://github.com/oemof/feedinlib.git\" style = \"color: black\">feedinlib</a>",
           "Contains implementations of photovoltaic models to calculate electricity generation from a PV installation based on given solar radiation. Furthermore it contains all necessary pre-calculations.",
           "https://github.com/oemof/feedinlib.git"
          ],
          [
           "<a href=\"https://github.com/pvedu/photovoltaic.git\" style = \"color: black\">photovoltaic</a>",
           "A Python library used in photovoltaics.",
           "https://github.com/pvedu/photovoltaic.git"
          ],
          [
           "<a href=\"https://github.com/pvcaptest/pvcaptest.git\" style = \"color: black\">pvcaptest</a>",
           "Collection of functions and Jupyter Notebooks to partially automate running a capacity test following ASTM E2848.",
           "https://github.com/pvcaptest/pvcaptest.git"
          ],
          [
           "<a href=\"https://github.com/NREL/SolarPILOT.git\" style = \"color: black\">SolarPILOT</a>",
           "Solar power tower layout and optimization tool.",
           "https://github.com/NREL/SolarPILOT.git"
          ],
          [
           "<a href=\"https://github.com/slacgismo/solar-data-tools.git\" style = \"color: black\">solar-data-tools</a>",
           "Data analysis tools for working with historical PV solar time-series data sets.",
           "https://github.com/slacgismo/solar-data-tools.git"
          ],
          [
           "<a href=\"https://github.com/tdcosim/SolarPV-DER-simulation-tool.git\" style = \"color: black\">SolarPV-DER-simulation-utility</a>",
           "Allows user to run dynamics simulations for solar photovoltaic distributed energy resource connected to a stiff voltage source or to an external program.",
           "https://github.com/tdcosim/SolarPV-DER-simulation-tool.git"
          ],
          [
           "<a href=\"https://github.com/NREL/bifacial_radiance.git\" style = \"color: black\">bifacial_radiance</a>",
           "Toolkit for working with RADIANCE for the ray-trace modeling of Bifacial Photovoltaics.",
           "https://github.com/NREL/bifacial_radiance.git"
          ],
          [
           "<a href=\"https://github.com/qpv-research-group/solcore5.git\" style = \"color: black\">solcore5</a>",
           "A multi-scale, Python-based library for the modeling of solar cells and semiconductor materials.",
           "https://github.com/qpv-research-group/solcore5.git"
          ],
          [
           "<a href=\"https://github.com/squishykid/solax.git\" style = \"color: black\">solax</a>",
           "Read energy usage data from the real-time API on Solax solar inverters.",
           "https://github.com/squishykid/solax.git"
          ],
          [
           "<a href=\"https://github.com/NREL/bifacialvf.git\" style = \"color: black\">bifacialvf</a>",
           "Bifacial PV View Factor model for system performance calculation.",
           "https://github.com/NREL/bifacialvf.git"
          ],
          [
           "<a href=\"https://github.com/SolarTherm/SolarTherm.git\" style = \"color: black\">SolarTherm</a>",
           "Solar thermal power/fuel station performance simulation and optimization using Modelica.",
           "https://github.com/SolarTherm/SolarTherm.git"
          ],
          [
           "<a href=\"https://github.com/LibreSolar/bms-firmware.git\" style = \"color: black\">LibreSolar</a>",
           "Firmware for LibreSolar BMS boards based on bq769x0 or ISL94202.",
           "https://github.com/LibreSolar/bms-firmware.git"
          ],
          [
           "<a href=\"https://github.com/LibreSolar/charge-controller-firmware.git\" style = \"color: black\">Charge Controller Firmware</a>",
           "Firmware for LibreSolar MPPT/PWM charge controllers.",
           "https://github.com/LibreSolar/charge-controller-firmware.git"
          ],
          [
           "<a href=\"https://github.com/openclimatefix/pvoutput.git\" style = \"color: black\">pvoutput</a>",
           "Python code for downloading PV data from PVOutput.org.",
           "https://github.com/openclimatefix/pvoutput.git"
          ],
          [
           "<a href=\"https://github.com/openclimatefix/predict_pv_yield.git\" style = \"color: black\">predict_pv_yield</a>",
           "Use machine learning to map satellite imagery of clouds to solar PV yield.",
           "https://github.com/openclimatefix/predict_pv_yield.git"
          ],
          [
           "<a href=\"https://github.com/meltaxa/solariot.git\" style = \"color: black\">solariot</a>",
           "Leverage your IoT enabled Solar PV Inverter to stream your solar energy usage data to a real time dashboard.",
           "https://github.com/meltaxa/solariot.git"
          ],
          [
           "<a href=\"https://github.com/pvlib/pvanalytics.git\" style = \"color: black\">pvanalytics</a>",
           "Quality control, filtering, feature labeling, and other tools for working with data from photovoltaic energy systems.",
           "https://github.com/pvlib/pvanalytics.git"
          ],
          [
           "<a href=\"https://github.com/PerovskiteSCModelling/IonMonger.git\" style = \"color: black\">IonMonger</a>",
           "A free and fast perovskite solar cell simulator with coupled ion vacancy and charge carrier dynamics in one dimension.",
           "https://github.com/PerovskiteSCModelling/IonMonger.git"
          ],
          [
           "<a href=\"https://github.com/qpv-research-group/rayflare.git\" style = \"color: black\">rayflare</a>",
           "Provide a flexible, user-friendly Python environment to model complex optical stacks, with a focus on solar cells.",
           "https://github.com/qpv-research-group/rayflare.git"
          ],
          [
           "<a href=\"https://github.com/slacgismo/StatisticalClearSky.git\" style = \"color: black\">StatisticalClearSky</a>",
           "Statistical estimation of a clear sky signal from PV system power data.",
           "https://github.com/slacgismo/StatisticalClearSky.git"
          ],
          [
           "<a href=\"https://github.com/RentadroneCL/Photovoltaic_Fault_Detector.git\" style = \"color: black\">Photovoltaic_Fault_Detector</a>",
           "Model-definition is a deep learning application for fault detection in photovoltaic plants.",
           "https://github.com/RentadroneCL/Photovoltaic_Fault_Detector.git"
          ],
          [
           "<a href=\"https://github.com/ropensci/nasapower.git\" style = \"color: black\">nasapower</a>",
           "Aims to make it quick and easy to automate downloading NASA-POWER global meteorology, surface solar energy and climatology data in your R session as a tidy data frame tibble object for analysis and use in modeling or other purposes.",
           "https://github.com/ropensci/nasapower.git"
          ],
          [
           "<a href=\"https://github.com/NREL/SolTrace.git\" style = \"color: black\">SolTrace</a>",
           "A software tool developed at NREL to model concentrating solar power (CSP) systems and analyze their optical performance.",
           "https://github.com/NREL/SolTrace.git"
          ],
          [
           "<a href=\"https://github.com/WMD-group/CarrierCapture.jl.git\" style = \"color: black\">CarrierCapture.jl</a>",
           "A set of codes to compute carrier capture and recombination rates in semiconducting compounds like solar cells.",
           "https://github.com/WMD-group/CarrierCapture.jl.git"
          ],
          [
           "<a href=\"https://github.com/ladybug-tools/honeybee.git\" style = \"color: black\">honeybee</a>",
           "A Python library to create, run and visualize the results of daylight (RADIANCE) and energy analysis (EnergyPlus/OpenStudio).",
           "https://github.com/ladybug-tools/honeybee.git"
          ],
          [
           "<a href=\"https://github.com/danjulio/MPPT-Solar-Charger.git\" style = \"color: black\">MPPT-Solar-Charger</a>",
           "Supporting documentation and software for the MPPT Solar Charger.",
           "https://github.com/danjulio/MPPT-Solar-Charger.git"
          ],
          [
           "<a href=\"https://github.com/iat-cener/tonatiuh.git\" style = \"color: black\">Tonatiuh</a>",
           "A Monte Carlo ray tracer for the optical simulation of solar concentrating systems.",
           "https://github.com/iat-cener/tonatiuh.git"
          ],
          [
           "<a href=\"https://github.com/kdmayer/3D-PV-Locator.git\" style = \"color: black\">PV4GER</a>",
           "Aims at democratizing and accelerating the access to photovoltaic systems data in Germany and beyond.",
           "https://github.com/kdmayer/3D-PV-Locator.git"
          ],
          [
           "<a href=\"https://github.com/BreakingBytes/pvfree.git\" style = \"color: black\">PV Free</a>",
           "A public API for PV modeling parameters.",
           "https://github.com/BreakingBytes/pvfree.git"
          ],
          [
           "<a href=\"https://github.com/pingswept/pysolar.git\" style = \"color: black\">Pysolar</a>",
           "A collection of Python libraries for simulating the irradiation of any point on earth by the sun. It includes code for extremely precise ephemeris calculations.",
           "https://github.com/pingswept/pysolar.git"
          ],
          [
           "<a href=\"https://github.com/NREL/PV_ICE.git\" style = \"color: black\">PV_ICE</a>",
           "An open-source tool to quantify Solar Photovoltaics (PV) Energy and Mass Flows in the Circular Economy, from a Reliability and Lifetime approach.",
           "https://github.com/NREL/PV_ICE.git"
          ],
          [
           "<a href=\"https://github.com/openclimatefix/nowcasting.git\" style = \"color: black\">Solar electricity Nowcasting</a>",
           "Build the world's best near-term forecasting system for solar electricity generation.",
           "https://github.com/openclimatefix/nowcasting.git"
          ],
          [
           "<a href=\"https://github.com/SolarArbiter/solarforecastarbiter-core.git\" style = \"color: black\">Solar Forecast Arbiter</a>",
           "Core data gathering, validation, processing, and reporting package for the Solar Forecast Arbiter.",
           "https://github.com/SolarArbiter/solarforecastarbiter-core.git"
          ],
          [
           "<a href=\"https://github.com/Lkruitwagen/solar-pv-global-inventory.git\" style = \"color: black\">A Global Inventory of Photovoltaic</a>",
           "Used to produce a global inventory of utility-scale solar photvoltaic generating station.",
           "https://github.com/Lkruitwagen/solar-pv-global-inventory.git"
          ],
          [
           "<a href=\"https://github.com/NREL/dgen.git\" style = \"color: black\">dGen</a>",
           "Forecast PV adoption based on user specified configurations like electricity rate prices, electricity load growth, solar resource factors, and much more.",
           "https://github.com/NREL/dgen.git"
          ],
          [
           "<a href=\"https://github.com/IEAWindTask37/IEA-15-240-RWT.git\" style = \"color: black\">IEA-15-240-RWT</a>",
           "A 15 MW reference wind turbine repository developed in conjunction with IEA Wind.",
           "https://github.com/IEAWindTask37/IEA-15-240-RWT.git"
          ],
          [
           "<a href=\"https://github.com/wind-python/windpowerlib.git\" style = \"color: black\">windpowerlib</a>",
           "A library to model the output of wind turbines and farms.",
           "https://github.com/wind-python/windpowerlib.git"
          ],
          [
           "<a href=\"https://github.com/turbinesFoam/turbinesFoam.git\" style = \"color: black\">turbinesFoam</a>",
           "A library for simulating wind and marine hydrokinetic turbines in OpenFOAM using the actuator line method.",
           "https://github.com/turbinesFoam/turbinesFoam.git"
          ],
          [
           "<a href=\"https://github.com/Exawind/nalu-wind.git\" style = \"color: black\">nalu-wind</a>",
           "Solver for wind farm simulations targeting exascale computational platforms.",
           "https://github.com/Exawind/nalu-wind.git"
          ],
          [
           "<a href=\"https://github.com/OpenFAST/openfast.git\" style = \"color: black\">openfast</a>",
           "A multi-physics, multi-fidelity tool for simulating the coupled dynamic response of wind turbines and wind farms.",
           "https://github.com/OpenFAST/openfast.git"
          ],
          [
           "<a href=\"https://github.com/Exawind/amr-wind.git\" style = \"color: black\">amr-wind</a>",
           "A massively parallel, block-structured adaptive-mesh, incompressible flow solver for wind turbine and wind farm simulations.",
           "https://github.com/Exawind/amr-wind.git"
          ],
          [
           "<a href=\"https://github.com/NREL/OpenOA.git\" style = \"color: black\">OpenOA</a>",
           "This library provides a framework for working with large time series data from wind plants, such as SCADA.",
           "https://github.com/NREL/OpenOA.git"
          ],
          [
           "<a href=\"https://github.com/NREL/ROSCO.git\" style = \"color: black\">ROSCO</a>",
           "NREL's Reference OpenSource Controller for wind turbine applications.",
           "https://github.com/NREL/ROSCO.git"
          ],
          [
           "<a href=\"https://github.com/NREL/floris.git\" style = \"color: black\">floris</a>",
           "A controls-oriented engineering wake modeling framework for evaluating the impact of wind farm controls on AEP and wind farm design.",
           "https://github.com/NREL/floris.git"
          ],
          [
           "<a href=\"https://github.com/WISDEM/WISDEM.git\" style = \"color: black\">WISDEM</a>",
           "Wind Plant Integrated System Design and Engineering Model.",
           "https://github.com/WISDEM/WISDEM.git"
          ],
          [
           "<a href=\"https://github.com/WISDEM/WOMBAT.git\" style = \"color: black\">WOMBAT</a>",
           "Windfarm Operations & Maintenance cost-Benefit Analysis Tool.",
           "https://github.com/WISDEM/WOMBAT.git"
          ],
          [
           "<a href=\"https://github.com/WISDEM/LandBOSSE.git\" style = \"color: black\">LandBOSSE</a>",
           "The Land-based Balance-of-System Systems Engineering model is a systems engineering tool that estimates the balance-of-system costs associated with installing utility scale wind plants (10, 1.5 MW turbines or larger).",
           "https://github.com/WISDEM/LandBOSSE.git"
          ],
          [
           "<a href=\"https://github.com/OpenMDAO/OpenMDAO.git\" style = \"color: black\">OpenMDAO</a>",
           "Optimization of Aerodynamic systems.",
           "https://github.com/OpenMDAO/OpenMDAO.git"
          ],
          [
           "<a href=\"https://github.com/sintel-dev/Draco.git\" style = \"color: black\">GreenGuard</a>",
           "A collection of end-to-end solutions for machine learning problems commonly found in monitoring wind energy production system.",
           "https://github.com/sintel-dev/Draco.git"
          ],
          [
           "<a href=\"https://github.com/WISDEM/ORBIT.git\" style = \"color: black\">ORBIT</a>",
           "Offshore Renewable Balance-of-system Installation Tool computes capital costs and activity times for offshore wind plant balance-of-system (everything besides the turbine) costs.",
           "https://github.com/WISDEM/ORBIT.git"
          ],
          [
           "<a href=\"https://github.com/nmstreethran/WindTurbineClassification.git\" style = \"color: black\">WindTurbineClassification</a>",
           "Specification of 'normal' wind turbine operating behaviour for rapid anomaly detection.",
           "https://github.com/nmstreethran/WindTurbineClassification.git"
          ],
          [
           "<a href=\"https://github.com/audunarn/ANYstructure.git\" style = \"color: black\">ANYstructure</a>",
           "Offshore Steel structure calculation tool with automatic optimization and report generation.",
           "https://github.com/audunarn/ANYstructure.git"
          ],
          [
           "<a href=\"https://github.com/python-windrose/windrose.git\" style = \"color: black\">windrose</a>",
           "A graphic tool used by meteorologists to give a succinct view of how wind speed and direction are typically distributed at a particular location.",
           "https://github.com/python-windrose/windrose.git"
          ],
          [
           "<a href=\"https://github.com/ImperialCollegeLondon/sharpy.git\" style = \"color: black\">SHARPy</a>",
           "Simulation of High Aspect Ratio aeroplanes and wind turbines in Python.",
           "https://github.com/ImperialCollegeLondon/sharpy.git"
          ],
          [
           "<a href=\"https://github.com/NREL/WindSE.git\" style = \"color: black\">WindSE</a>",
           "A Python package that uses a FEniCS backend to perform wind farm simulations and optimization.",
           "https://github.com/NREL/WindSE.git"
          ],
          [
           "<a href=\"https://github.com/WISDEM/WEIS.git\" style = \"color: black\">WEIS</a>",
           "WEIS is a framework that combines multiple tools to enable design optimization of floating offshore wind turbines.",
           "https://github.com/WISDEM/WEIS.git"
          ],
          [
           "<a href=\"https://github.com/YingyiLiu/HAMS.git\" style = \"color: black\">HAMS</a>",
           "An open-source computer program for the analysis of wave diffraction and radiation of three-dimensional floating or submerged structures.",
           "https://github.com/YingyiLiu/HAMS.git"
          ],
          [
           "<a href=\"https://github.com/brightwind-dev/brightwind.git\" style = \"color: black\">brightwind</a>",
           "A Python library aims to empower wind resource analysts and establish a common industry standard toolset.",
           "https://github.com/brightwind-dev/brightwind.git"
          ],
          [
           "<a href=\"https://github.com/NREL/NRWAL.git\" style = \"color: black\">NRWAL</a>",
           "A library of offshore wind cost equations.",
           "https://github.com/NREL/NRWAL.git"
          ],
          [
           "<a href=\"https://github.com/ebranlard/welib.git\" style = \"color: black\">welib</a>",
           "Wind energy library, python and matlab tools for wind turbines analyses.",
           "https://github.com/ebranlard/welib.git"
          ],
          [
           "<a href=\"https://github.com/IEA-Task-43/digital_wra_data_standard.git\" style = \"color: black\">digital_wra_data_standard</a>",
           "This standard data model and associated tools are intended as universal building blocks for Wind Energy Resource Assessment applications.",
           "https://github.com/IEA-Task-43/digital_wra_data_standard.git"
          ],
          [
           "<a href=\"https://github.com/awebox/awebox.git\" style = \"color: black\">awebox</a>",
           "Modelling and optimal control of single- and multiple-kite systems for airborne wind energy.",
           "https://github.com/awebox/awebox.git"
          ],
          [
           "<a href=\"https://github.com/SNL-WaterPower/WecOptTool.git\" style = \"color: black\">WecOptTool</a>",
           "Allows users to perform wave energy converter device design optimization studies with constrained optimal control.",
           "https://github.com/SNL-WaterPower/WecOptTool.git"
          ],
          [
           "<a href=\"https://github.com/SNL-WaterPower/CACTUS.git\" style = \"color: black\">CACTUS</a>",
           "A turbine performance simulation code, based on a free wake vortex method, to study wind turbines and marine hydrokinetic devices.",
           "https://github.com/SNL-WaterPower/CACTUS.git"
          ],
          [
           "<a href=\"https://github.com/energy-modelling-toolkit/hydro-power-database.git\" style = \"color: black\">hydro-power-database</a>",
           "Collects basic information on all the European hydro-power plants.",
           "https://github.com/energy-modelling-toolkit/hydro-power-database.git"
          ],
          [
           "<a href=\"https://github.com/MHKiT-Software/MHKiT-Python.git\" style = \"color: black\">MHKiT-Python</a>",
           "Provides the marine renewable energy community tools for data processing, visualization, quality control, resource assessment, and device performance.",
           "https://github.com/MHKiT-Software/MHKiT-Python.git"
          ],
          [
           "<a href=\"https://github.com/NREL-SIIP/HydroPowerSimulations.jl.git\" style = \"color: black\">HydroPowerSimulations.jl</a>",
           "Contains extensions on PowerSystems.jl and PowerSimulations.jl to enable enhanced hydropower representations.",
           "https://github.com/NREL-SIIP/HydroPowerSimulations.jl.git"
          ],
          [
           "<a href=\"https://github.com/OpenSimHub/OpenHPL.git\" style = \"color: black\">OpenHPL</a>",
           "An open source hydropower library that consists of hydropower unit models and is modeled using Modelica.",
           "https://github.com/OpenSimHub/OpenHPL.git"
          ],
          [
           "<a href=\"https://github.com/WEC-Sim/WEC-Sim.git\" style = \"color: black\">WEC-Sim</a>",
           "Wave Energy Converter Simulator is an open source code for simulating wave energy converters.",
           "https://github.com/WEC-Sim/WEC-Sim.git"
          ],
          [
           "<a href=\"https://github.com/BEMRosetta/BEMRosetta.git\" style = \"color: black\">BEMRosetta</a>",
           "Used to model hydrodynamic forces in offshore devices like ships, offshore wind platforms and wave energy converters.",
           "https://github.com/BEMRosetta/BEMRosetta.git"
          ],
          [
           "<a href=\"https://github.com/capytaine/capytaine.git\" style = \"color: black\">Capytaine</a>",
           "A Python package for the simulation of the interaction between water waves and floating bodies in frequency domain.",
           "https://github.com/capytaine/capytaine.git"
          ],
          [
           "<a href=\"https://github.com/MassimoCimmino/pygfunction.git\" style = \"color: black\">pygfunction</a>",
           "An open source toolbox for the evaluation of thermal response factors of geothermal borehole fields.",
           "https://github.com/MassimoCimmino/pygfunction.git"
          ],
          [
           "<a href=\"https://github.com/wouterpeere/GHEtool.git\" style = \"color: black\">GHEtool</a>",
           "GHEtool is an open source Python package that contains all the functionalities needed to deal with borefield design.",
           "https://github.com/wouterpeere/GHEtool.git"
          ],
          [
           "<a href=\"https://github.com/charxie/multiphysics.git\" style = \"color: black\">multiphysics</a>",
           "Interactive (Heat Transfer) Simulations for Everyone.",
           "https://github.com/charxie/multiphysics.git"
          ],
          [
           "<a href=\"https://github.com/lanl/FEHM.git\" style = \"color: black\">FEHM</a>",
           "Has proved to be a valuable asset on a variety of projects of national interest including Environmental Remediation of the Nevada Test Site, the LANL Groundwater Protection Program, geologic CO2 sequestration, Enhanced Geothermal Energy programs, Oil and Gas production, Nuclear Waste Isolation, and Arctic Permafrost.",
           "https://github.com/lanl/FEHM.git"
          ],
          [
           "<a href=\"https://github.com/CalebBell/thermo.git\" style = \"color: black\">thermo</a>",
           "Thermodynamics, phase equilibrium, transport properties and chemical database component of Chemical Engineering Design Library.",
           "https://github.com/CalebBell/thermo.git"
          ],
          [
           "<a href=\"https://github.com/waiwera/waiwera.git\" style = \"color: black\">waiwera</a>",
           "A parallel, open-source geothermal flow simulator.",
           "https://github.com/waiwera/waiwera.git"
          ],
          [
           "<a href=\"https://github.com/SmartTensors/GeoThermalCloud.jl.git\" style = \"color: black\">GeoThermalCloud.jl</a>",
           "A repository containing all the data and codes required to demonstrate applications of machine learning methods for geothermal exploration.",
           "https://github.com/SmartTensors/GeoThermalCloud.jl.git"
          ],
          [
           "<a href=\"https://github.com/sashahafner/biogas.git\" style = \"color: black\">biogas</a>",
           "Tools for biogas research in R: process biogas data and predict biogas production.",
           "https://github.com/sashahafner/biogas.git"
          ],
          [
           "<a href=\"https://github.com/BioSTEAMDevelopmentGroup/biosteam.git\" style = \"color: black\">biosteam</a>",
           "The Biorefinery Simulation and Techno-Economic Analysis Modules.",
           "https://github.com/BioSTEAMDevelopmentGroup/biosteam.git"
          ],
          [
           "<a href=\"https://github.com/PecanProject/bety.git\" style = \"color: black\">BETYdb</a>",
           "Web-interface to the Biofuel Ecophysiological Traits and Yields Database.",
           "https://github.com/PecanProject/bety.git"
          ],
          [
           "<a href=\"https://github.com/ECSHackWeek/impedance.py.git\" style = \"color: black\">impedance.py</a>",
           "A Python package for working with electro-chemical impedance data.",
           "https://github.com/ECSHackWeek/impedance.py.git"
          ],
          [
           "<a href=\"https://github.com/pybamm-team/PyBaMM.git\" style = \"color: black\">PyBaMM</a>",
           "Fast and flexible physics-based battery models in Python.",
           "https://github.com/pybamm-team/PyBaMM.git"
          ],
          [
           "<a href=\"https://github.com/pybamm-team/liionpack.git\" style = \"color: black\">liionpack</a>",
           "A battery pack simulation tool that uses the PyBaMM framework.",
           "https://github.com/pybamm-team/liionpack.git"
          ],
          [
           "<a href=\"https://github.com/jepegit/cellpy.git\" style = \"color: black\">cellpy</a>",
           "Extract and tweak data from electro-chemical tests of battery cells.",
           "https://github.com/jepegit/cellpy.git"
          ],
          [
           "<a href=\"https://github.com/rdbraatz/data-driven-prediction-of-battery-cycle-life-before-capacity-degradation.git\" style = \"color: black\">prediction-of-battery-cycle</a>",
           "Data driven prediction of battery cycle life before capacity degradation.",
           "https://github.com/rdbraatz/data-driven-prediction-of-battery-cycle-life-before-capacity-degradation.git"
          ],
          [
           "<a href=\"https://github.com/rlogiacco/BatterySense.git\" style = \"color: black\">BatterySense</a>",
           "A simple Arduino library to monitor battery consumption of your battery powered projects, being LiPo, LiIon, NiCd or any other battery type, single or multiple cells: if it can power your Arduino you can monitor it.",
           "https://github.com/rlogiacco/BatterySense.git"
          ],
          [
           "<a href=\"https://github.com/TRI-AMDD/beep.git\" style = \"color: black\">beep</a>",
           "A set of tools designed to support Battery Evaluation and Early Prediction of cycle life corresponding to the research of the d3batt program and the Toyota Research Institute.",
           "https://github.com/TRI-AMDD/beep.git"
          ],
          [
           "<a href=\"https://github.com/snl-quest/snl-quest.git\" style = \"color: black\">snl-quest</a>",
           "An open source, Python-based software application suite for energy storage simulation and analysis developed by Sandia National Laboratories.",
           "https://github.com/snl-quest/snl-quest.git"
          ],
          [
           "<a href=\"https://github.com/Samuel-Buteau/universal-battery-database.git\" style = \"color: black\">universal-battery-database</a>",
           "The Universal Battery Database is an open source software for managing Lithium-ion cell data.",
           "https://github.com/Samuel-Buteau/universal-battery-database.git"
          ],
          [
           "<a href=\"https://github.com/davidhowey/SLIDE.git\" style = \"color: black\">SLIDE</a>",
           "SLIDE is a C++ code that simulates degradation of lithium ion cell.",
           "https://github.com/davidhowey/SLIDE.git"
          ],
          [
           "<a href=\"https://github.com/dsr-18/long-live-the-battery.git\" style = \"color: black\">long-live-the-battery</a>",
           "Predicting total battery cycle life time with machine learning.",
           "https://github.com/dsr-18/long-live-the-battery.git"
          ],
          [
           "<a href=\"https://github.com/epri-dev/StorageVET.git\" style = \"color: black\">StorageVET</a>",
           "A valuation model for analysis of energy storage technologies and some other energy resources paired with storage.",
           "https://github.com/epri-dev/StorageVET.git"
          ],
          [
           "<a href=\"https://github.com/offgridsystems/Documents.git\" style = \"color: black\">offgridsystems</a>",
           "Data sheet and assembly manual, component data sheets, busbars and files needed to build no-weld wireless BMS DKblock style battery packs.",
           "https://github.com/offgridsystems/Documents.git"
          ],
          [
           "<a href=\"https://github.com/ElektrikAkar/3d_milp.git\" style = \"color: black\">3d_milp</a>",
           "Energy Arbitrage Optimization With Battery Storage.",
           "https://github.com/ElektrikAkar/3d_milp.git"
          ],
          [
           "<a href=\"https://github.com/lionsimbatoolbox/LIONSIMBA.git\" style = \"color: black\">LIONSIMBA</a>",
           "A Matlab framework based on a finite volume model suitable for Li-ion battery design, simulation, and control.",
           "https://github.com/lionsimbatoolbox/LIONSIMBA.git"
          ],
          [
           "<a href=\"https://github.com/BattMoTeam/BattMo.git\" style = \"color: black\">BattMo</a>",
           "The Battery Modelling Toolbox (BattMo) is a resource for continuum modelling of electrochemical devices in MATLAB.",
           "https://github.com/BattMoTeam/BattMo.git"
          ],
          [
           "<a href=\"https://github.com/battery-lcf/batteryarchive.git\" style = \"color: black\">Battery Archive</a>",
           " Easy visualization, analysis, and comparison of battery data across institutions.",
           "https://github.com/battery-lcf/batteryarchive.git"
          ],
          [
           "<a href=\"https://github.com/ECSIM/opem.git\" style = \"color: black\">OPEM</a>",
           "A modeling tool for evaluating the performance of proton exchange membrane fuel cells.",
           "https://github.com/ECSIM/opem.git"
          ],
          [
           "<a href=\"https://github.com/ECSIM/gopem.git\" style = \"color: black\">gopem</a>",
           "GOPEM is a graphical user interface of OPEM.",
           "https://github.com/ECSIM/gopem.git"
          ],
          [
           "<a href=\"https://github.com/ECSIM/pem-dataset1.git\" style = \"color: black\">pem-dataset1</a>",
           "Proton Exchange Membrane Fuel Cell Dataset.",
           "https://github.com/ECSIM/pem-dataset1.git"
          ],
          [
           "<a href=\"https://github.com/e2nIEE/pandapipes.git\" style = \"color: black\">pandapipes</a>",
           "A pipeflow calculation tool that complements pandapower in the simulation of multi energy grids, in particular heat and gas networks.",
           "https://github.com/e2nIEE/pandapipes.git"
          ],
          [
           "<a href=\"https://github.com/sandialabs/hyram.git\" style = \"color: black\">The Hydrogen Risk Assessment Models</a>",
           "The first-ever software toolkit that integrates deterministic and probabilistic models for quantifying accident scenarios, predicting physical effects, and characterizing hydrogen hazards impact on people and structures.",
           "https://github.com/sandialabs/hyram.git"
          ],
          [
           "<a href=\"https://github.com/lanl-ansi/GasModels.jl.git\" style = \"color: black\">GasModels.jl</a>",
           "A Julia/JuMP Package for Gas Network Optimization.",
           "https://github.com/lanl-ansi/GasModels.jl.git"
          ],
          [
           "<a href=\"https://github.com/mathworks/Fuel-Cell-Vehicle-Model-Simscape.git\" style = \"color: black\">Vehicle with Fuel Cell Powertrain</a>",
           "Fuel cell electric vehicle with battery model and cooling system.",
           "https://github.com/mathworks/Fuel-Cell-Vehicle-Model-Simscape.git"
          ],
          [
           "<a href=\"https://github.com/Virtual-FCS/VirtualFCS.git\" style = \"color: black\">VirtualFCS</a>",
           "A Modelica library for hybrid hydrogen fuel cell and battery power systems.",
           "https://github.com/Virtual-FCS/VirtualFCS.git"
          ],
          [
           "<a href=\"https://github.com/NREL/SAM.git\" style = \"color: black\">System Advisor Model</a>",
           "A simulation program for electricity generation projects. It has models for different kinds of renewable energy systems and financial models for residential, commercial, and utility-scale projects.",
           "https://github.com/NREL/SAM.git"
          ],
          [
           "<a href=\"https://github.com/IIT-EnergySystemModels/openTEPES.git\" style = \"color: black\">openTEPES</a>",
           "Determines the investment plans of new facilities (generators, ESS and lines) for supplying the forecasted demand at minimum cost.",
           "https://github.com/IIT-EnergySystemModels/openTEPES.git"
          ],
          [
           "<a href=\"https://github.com/PowerGenome/PowerGenome.git\" style = \"color: black\">PowerGenome</a>",
           "A tool to quickly and easily create inputs for power systems models.",
           "https://github.com/PowerGenome/PowerGenome.git"
          ],
          [
           "<a href=\"https://github.com/pyaf/load_forecasting.git\" style = \"color: black\">load_forecasting</a>",
           "Load forecasting on Delhi area electric power load using ARIMA, RNN, LSTM and GRU models.",
           "https://github.com/pyaf/load_forecasting.git"
          ],
          [
           "<a href=\"https://github.com/NREL/REopt_API.git\" style = \"color: black\">REopt_Lite_API</a>",
           "Offers a subset of features from NREL's more comprehensive REopt model. Both models provide concurrent, multiple technology integration and optimization capabilities to help organizations meet their cost savings and energy performance goals.",
           "https://github.com/NREL/REopt_API.git"
          ],
          [
           "<a href=\"https://github.com/tum-ens/urbs.git\" style = \"color: black\">urbs</a>",
           "A linear optimization model for distributed energy systems.",
           "https://github.com/tum-ens/urbs.git"
          ],
          [
           "<a href=\"https://github.com/energy-modelling-toolkit/Dispa-SET.git\" style = \"color: black\">Dispa-SET</a>",
           "Allows to model a power system at any level of detail e.g. micro-grid, region, country, continent.",
           "https://github.com/energy-modelling-toolkit/Dispa-SET.git"
          ],
          [
           "<a href=\"https://github.com/calliope-project/calliope.git\" style = \"color: black\">Calliope</a>",
           "A framework to develop energy system models, with a focus on flexibility, high spatial and temporal resolution, the ability to execute many runs based on the same base model, and a clear separation of framework and model.",
           "https://github.com/calliope-project/calliope.git"
          ],
          [
           "<a href=\"https://github.com/calliope-project/euro-calliope.git\" style = \"color: black\">Euro-Calliope</a>",
           "A model of the European electricity system built using Calliope.",
           "https://github.com/calliope-project/euro-calliope.git"
          ],
          [
           "<a href=\"https://github.com/FZJ-IEK3-VSA/FINE.git\" style = \"color: black\">FINE</a>",
           "Provides a framework for modeling, optimizing and assessing energy systems.",
           "https://github.com/FZJ-IEK3-VSA/FINE.git"
          ],
          [
           "<a href=\"https://github.com/com-pas/compas-architecture.git\" style = \"color: black\">CoMPAS</a>",
           "Formed to develop open source software components related to IEC 61850 model implementation (profile management) and configuration of a power industry Protection Automation and Control System.",
           "https://github.com/com-pas/compas-architecture.git"
          ],
          [
           "<a href=\"https://github.com/NREL-SIIP/PowerSimulations.jl.git\" style = \"color: black\">PowerSimulations.jl</a>",
           "A Julia package for power system modeling and simulation of Power Systems operations.",
           "https://github.com/NREL-SIIP/PowerSimulations.jl.git"
          ],
          [
           "<a href=\"https://github.com/NREL-SIIP/PowerSystems.jl.git\" style = \"color: black\">PowerSystems.jl</a>",
           "Provides a rigorous data model using Julia structures to enable power systems analysis and modeling.",
           "https://github.com/NREL-SIIP/PowerSystems.jl.git"
          ],
          [
           "<a href=\"https://github.com/balmorelcommunity/Balmorel.git\" style = \"color: black\">Balmorel</a>",
           "A partial equilibrium model for analyzing the electricity and combined heat and power sectors in an international perspective.",
           "https://github.com/balmorelcommunity/Balmorel.git"
          ],
          [
           "<a href=\"https://github.com/OpenEnergyPlatform/ontology.git\" style = \"color: black\">The Open Energy Ontology</a>",
           "A domain ontology of the energy-system modeling context.",
           "https://github.com/OpenEnergyPlatform/ontology.git"
          ],
          [
           "<a href=\"https://github.com/UNSW-CEEM/nempy.git\" style = \"color: black\">nempy</a>",
           "Aims to enhance the Australian electricity industries modeling and analytical capabilities.",
           "https://github.com/UNSW-CEEM/nempy.git"
          ],
          [
           "<a href=\"https://github.com/bje-/NEMO.git\" style = \"color: black\">NEMO</a>",
           "The National Electricity Market Optimizer is a chronological dispatch model for testing and optimizing different portfolios of conventional and renewable electricity generation technologies.",
           "https://github.com/bje-/NEMO.git"
          ],
          [
           "<a href=\"https://github.com/niclasmattsson/GlobalEnergyGIS.git\" style = \"color: black\">GlobalEnergyGIS</a>",
           "Generates input data for energy models on renewable energy in arbitrary world regions using public datasets.",
           "https://github.com/niclasmattsson/GlobalEnergyGIS.git"
          ],
          [
           "<a href=\"https://github.com/AntaresSimulatorTeam/Antares_Simulator.git\" style = \"color: black\">Antares Simulator</a>",
           "An Open Source power system simulator to quantify the adequacy or the economic performance of interconnected energy systems, at short or remote time horizons.",
           "https://github.com/AntaresSimulatorTeam/Antares_Simulator.git"
          ],
          [
           "<a href=\"https://github.com/GMLC-TDC/HELICS.git\" style = \"color: black\">HELICS</a>",
           "Today the core uses are in the energy domain, where there is extensive and growing support for a wide-range of electric power system, natural gas, communications and control-schemes, transportation, buildings, and related domain tools.",
           "https://github.com/GMLC-TDC/HELICS.git"
          ],
          [
           "<a href=\"https://github.com/oemof/oemof-solph.git\" style = \"color: black\">oemof-solph</a>",
           "A model generator for energy system modeling and optimization.",
           "https://github.com/oemof/oemof-solph.git"
          ],
          [
           "<a href=\"https://github.com/oemof/oemof-thermal.git\" style = \"color: black\">oemof-thermal</a>",
           "Provides tools to model thermal energy components as an extension of oemof.solph, e.g. compression heat pumps, concentrating solar plants, thermal storage and solar thermal collectors.",
           "https://github.com/oemof/oemof-thermal.git"
          ],
          [
           "<a href=\"https://github.com/openENTRANCE/openentrance.git\" style = \"color: black\">openENTRANCE</a>",
           "The Horizon 2020 openENTRANCE project aims at developing, using and disseminating an open, transparent and integrated modeling platform for assessing low-carbon transition pathways in Europe.",
           "https://github.com/openENTRANCE/openentrance.git"
          ],
          [
           "<a href=\"https://github.com/IDAES/idaes-pse.git\" style = \"color: black\">The IDAES Toolkit</a>",
           "Aims to provide multi-scale, simulation-based, open source computational tools and models to support the design, analysis, optimization, scale-up, operation and troubleshooting of innovative, advanced energy systems.",
           "https://github.com/IDAES/idaes-pse.git"
          ],
          [
           "<a href=\"https://github.com/TemoaProject/temoa.git\" style = \"color: black\">Temoa</a>",
           "Tools for Energy Model Optimization and Analysis (Temoa) is an open source modeling framework for conducting energy system analysis.",
           "https://github.com/TemoaProject/temoa.git"
          ],
          [
           "<a href=\"https://github.com/ie3-institute/PowerSystemDataModel.git\" style = \"color: black\">PowerSystemDataModel</a>",
           "Provides an extensive data model capable of modeling energy systems with high granularity e.g. for bottom-up simulations.",
           "https://github.com/ie3-institute/PowerSystemDataModel.git"
          ],
          [
           "<a href=\"https://github.com/PyPSA/pypsa-eur-sec.git\" style = \"color: black\">PyPSA-Eur-Sec</a>",
           "A Sector-Coupled Open Optimisation Model of the European Energy System.",
           "https://github.com/PyPSA/pypsa-eur-sec.git"
          ],
          [
           "<a href=\"https://github.com/rte-antares-rpackage/antaresViz.git\" style = \"color: black\">antaresViz</a>",
           "Visualize the results of Antares, an Open Source power system simulator meant to be used by anybody placing value in quantifying the adequacy or the economic performance of interconnected energy systems, at short or remote time horizons.",
           "https://github.com/rte-antares-rpackage/antaresViz.git"
          ],
          [
           "<a href=\"https://github.com/rte-antares-rpackage/antaresRead.git\" style = \"color: black\">antaresRead</a>",
           "Import, manipulate and explore the results of an Antares simulation.",
           "https://github.com/rte-antares-rpackage/antaresRead.git"
          ],
          [
           "<a href=\"https://github.com/Spine-project/Spine-Toolbox.git\" style = \"color: black\">Spine-Toolbox</a>",
           "An application to define, manage, and execute various energy system simulation models.",
           "https://github.com/Spine-project/Spine-Toolbox.git"
          ],
          [
           "<a href=\"https://github.com/oemof/demandlib.git\" style = \"color: black\">demandlib</a>",
           "With the demandlib you can create power and heat profiles for various sectors by scaling them to your desired demand.",
           "https://github.com/oemof/demandlib.git"
          ],
          [
           "<a href=\"https://github.com/reegis/deflex.git\" style = \"color: black\">deflex</a>",
           "Flexible multi-regional energy system model for heat, power and mobility.",
           "https://github.com/reegis/deflex.git"
          ],
          [
           "<a href=\"https://github.com/ADGEfficiency/energy-py-linear.git\" style = \"color: black\">energy-py-linear</a>",
           "Optimizing energy systems using mixed integer linear programming.",
           "https://github.com/ADGEfficiency/energy-py-linear.git"
          ],
          [
           "<a href=\"https://github.com/switch-model/switch.git\" style = \"color: black\">switch-model</a>",
           "Optimal planning model for power systems with large shares of renewable energy.",
           "https://github.com/switch-model/switch.git"
          ],
          [
           "<a href=\"https://github.com/leonardgoeke/AnyMOD.jl.git\" style = \"color: black\">AnyMOD.jl</a>",
           "Creating large scale energy system models with multiple periods of capacity expansion formulated as linear optimization problems.",
           "https://github.com/leonardgoeke/AnyMOD.jl.git"
          ],
          [
           "<a href=\"https://github.com/FlexiGIS/FlexiGIS.git\" style = \"color: black\">FlexiGIS</a>",
           "Extracts, filters and categorizes the geo-referenced urban energy infrastructure and allocates the required decentralized storage in urban settings.",
           "https://github.com/FlexiGIS/FlexiGIS.git"
          ],
          [
           "<a href=\"https://github.com/NREL/reVX.git\" style = \"color: black\">reVX</a>",
           "Renewable Energy Potential(V) eXchange Toot.",
           "https://github.com/NREL/reVX.git"
          ],
          [
           "<a href=\"https://github.com/sogno-platform/dpsim.git\" style = \"color: black\">DPsim</a>",
           "A solver library for dynamic power system simulation.",
           "https://github.com/sogno-platform/dpsim.git"
          ],
          [
           "<a href=\"https://github.com/GenXProject/GenX.git\" style = \"color: black\">GenX</a>",
           "A highly-configurable, open source electricity resource capacity expansion model that incorporates several state-of-the-art practices in electricity system planning to offer improved decision support for a changing electricity landscape.",
           "https://github.com/GenXProject/GenX.git"
          ],
          [
           "<a href=\"https://github.com/OpenEnergyPlatform/oeplatform.git\" style = \"color: black\">Open Energy Platform</a>",
           "Aims to ensure quality, transparency and reproducibility in energy system research. It is a collection of various tools and information and that help working with energy-related data.",
           "https://github.com/OpenEnergyPlatform/oeplatform.git"
          ],
          [
           "<a href=\"https://github.com/PyPSA/PyPSA.git\" style = \"color: black\">PyPSA</a>",
           "A free software toolbox for simulating and optimizing modern power systems that include features such as conventional generators with unit commitment, variable wind and solar generation, storage units, coupling to other energy sectors, and mixed alternating and direct current networks.",
           "https://github.com/PyPSA/PyPSA.git"
          ],
          [
           "<a href=\"https://github.com/oemof/oemof.git\" style = \"color: black\">oemof</a>",
           "Open Energy Modelling Framework - A Python toolbox for energy system modeling and optimization. A community driven, modular, flexible and generic software project.",
           "https://github.com/oemof/oemof.git"
          ],
          [
           "<a href=\"https://github.com/tum-ens/pyGRETA.git\" style = \"color: black\">pyGRETA</a>",
           "Python Generator of REnewable Time series and mAps: a tool that generates high-resolution potential maps and time series for user-defined regions within the globe.",
           "https://github.com/tum-ens/pyGRETA.git"
          ],
          [
           "<a href=\"https://github.com/powsybl/powsybl-core.git\" style = \"color: black\">PowSyBl</a>",
           "An open source framework written in Java, that makes it easy to write complex software for power systems simulations and analysis.",
           "https://github.com/powsybl/powsybl-core.git"
          ],
          [
           "<a href=\"https://github.com/powsybl/powsybl-open-loadflow.git\" style = \"color: black\">PowSyBl Open Load Flow</a>",
           "An open source implementation of the load flow API that can be found in PowSyBl Core. It supports AC Newtow-Raphson and linear DC calculation methods.",
           "https://github.com/powsybl/powsybl-open-loadflow.git"
          ],
          [
           "<a href=\"https://github.com/MATPOWER/matpower.git\" style = \"color: black\">matpower</a>",
           "A package of M-files for solving power flow, continuation power flow and optimal power flow problems using MATLAB or Octave.",
           "https://github.com/MATPOWER/matpower.git"
          ],
          [
           "<a href=\"https://github.com/energyRt/energyRt.git\" style = \"color: black\">energyRt</a>",
           "Making Energy Systems Modeling as simple as a linear regression in R.",
           "https://github.com/energyRt/energyRt.git"
          ],
          [
           "<a href=\"https://github.com/rl-institut/multi-vector-simulator.git\" style = \"color: black\">MVS</a>",
           "The multi-vector simulator allows the evaluation of local sector-coupled energy systems that include the energy carriers electricity, heat and/or gas.",
           "https://github.com/rl-institut/multi-vector-simulator.git"
          ],
          [
           "<a href=\"https://github.com/OpenIPSL/OpenIPSL.git\" style = \"color: black\">OpenIPSL</a>",
           "A library of power system component models written in the Modelica language that can be used for power system dynamic analysis, such as phasor time-domain simulations.",
           "https://github.com/OpenIPSL/OpenIPSL.git"
          ],
          [
           "<a href=\"https://github.com/RAMP-project/RAMP.git\" style = \"color: black\">RAMP</a>",
           "A bottom-up stochastic model for the generation of high-resolution multi-energy profiles, conceived for application in contexts where only rough information about users' behaviour are obtainable.",
           "https://github.com/RAMP-project/RAMP.git"
          ],
          [
           "<a href=\"https://github.com/RamiKrispin/USelectricity.git\" style = \"color: black\">USelectricity</a>",
           "Forecast the US demand for electricity.",
           "https://github.com/RamiKrispin/USelectricity.git"
          ],
          [
           "<a href=\"https://github.com/NREL/reV.git\" style = \"color: black\">reV</a>",
           "Enables the efficient and scalable computation of renewable energy generation, levelized cost of energy, application of geospatial exclusion layers, and generation of renewable energy supply curves.",
           "https://github.com/NREL/reV.git"
          ],
          [
           "<a href=\"https://github.com/ADGEfficiency/energy-py.git\" style = \"color: black\">energy-py</a>",
           "Reinforcement learning for energy systems.",
           "https://github.com/ADGEfficiency/energy-py.git"
          ],
          [
           "<a href=\"https://github.com/OnSSET/onsset.git\" style = \"color: black\">onsset</a>",
           "A GIS based optimization tool that has been developed to support electrification planning and decision making for the achievement of energy access goals in currently unserved locations.",
           "https://github.com/OnSSET/onsset.git"
          ],
          [
           "<a href=\"https://github.com/PyPSA/whobs-server.git\" style = \"color: black\">whobs-server</a>",
           "This is the code for the online optimization of zero-direct-emission electricity systems with wind, solar and storage (using batteries and electrolysed hydrogen gas) to provide a baseload electricity demand, using the cost and other assumptions of your choice.",
           "https://github.com/PyPSA/whobs-server.git"
          ],
          [
           "<a href=\"https://github.com/intelligent-environments-lab/CityLearn.git\" style = \"color: black\">CityLearn</a>",
           "Official reinforcement learning environment for demand response and load shaping.",
           "https://github.com/intelligent-environments-lab/CityLearn.git"
          ],
          [
           "<a href=\"https://github.com/IBM/rl-testbed-for-energyplus.git\" style = \"color: black\">rl-testbed-for-energyplus</a>",
           "Reinforcement Learning Testbed for Power Consumption Optimization using EnergyPlus.",
           "https://github.com/IBM/rl-testbed-for-energyplus.git"
          ],
          [
           "<a href=\"https://github.com/FZJ-IEK3-VSA/tsam.git\" style = \"color: black\">tsam</a>",
           "A Python package which uses different machine learning algorithms for the aggregation of time series.",
           "https://github.com/FZJ-IEK3-VSA/tsam.git"
          ],
          [
           "<a href=\"https://github.com/blue-marble/gridpath.git\" style = \"color: black\">GridPath</a>",
           "A versatile simulation and optimization platform for power-system planning and operations.",
           "https://github.com/blue-marble/gridpath.git"
          ],
          [
           "<a href=\"https://github.com/kbaranko/peaky-finders.git\" style = \"color: black\">Peaky Finders</a>",
           "A Plotly Dash application with helpful peak load visualizations and a day ahead forecasting model for five different ISOs.",
           "https://github.com/kbaranko/peaky-finders.git"
          ],
          [
           "<a href=\"https://github.com/derevirn/renewcast.git\" style = \"color: black\">Renewcast</a>",
           "Forecasting renewable energy generation in EU countries with machine learning algorithms, based on Streamlit and sktime.",
           "https://github.com/derevirn/renewcast.git"
          ],
          [
           "<a href=\"https://github.com/cuihantao/andes.git\" style = \"color: black\">ANDES</a>",
           "Power system transient dynamics simulation with symbolic modeling and numerical analysis.",
           "https://github.com/cuihantao/andes.git"
          ],
          [
           "<a href=\"https://github.com/Breakthrough-Energy/REISE.jl.git\" style = \"color: black\">REISE.jl</a>",
           "Renewable Energy Integration Simulation Engine.",
           "https://github.com/Breakthrough-Energy/REISE.jl.git"
          ],
          [
           "<a href=\"https://github.com/EnergyTransition/ESDL.git\" style = \"color: black\">ESDL</a>",
           "A modelling language created for the components in an energy system and their relations towards each other.",
           "https://github.com/EnergyTransition/ESDL.git"
          ],
          [
           "<a href=\"https://github.com/slacgismo/TESS.git\" style = \"color: black\">Transactive Energy Service System</a>",
           "A platform to design, deploy, and operate transactive energy systems in electric utility retail environments.",
           "https://github.com/slacgismo/TESS.git"
          ],
          [
           "<a href=\"https://github.com/MaREI-EPMG/times-ireland-model.git\" style = \"color: black\">TIMES-Ireland Model</a>",
           "Information on the Irish energy system as it is today and the best available projections for what the future technology and fuel options and demands will be.",
           "https://github.com/MaREI-EPMG/times-ireland-model.git"
          ],
          [
           "<a href=\"https://github.com/dpinney/omf.git\" style = \"color: black\">Open Modeling Framework</a>",
           "A set of Python libraries for simulating power systems behavior with an emphasis on cost-benefit analysis of emerging technologies.",
           "https://github.com/dpinney/omf.git"
          ],
          [
           "<a href=\"https://github.com/Thales1330/PSP.git\" style = \"color: black\">PSP-UFU</a>",
           "Open-Source Software with advanced GUI features and CAD tools for electrical power system studies.",
           "https://github.com/Thales1330/PSP.git"
          ],
          [
           "<a href=\"https://github.com/EnergyInnovation/eps-us.git\" style = \"color: black\">Energy Policy Simulator</a>",
           "The open-source United States Energy Policy Simulator estimates environmental and economic impacts of hundreds of climate and energy policies.",
           "https://github.com/EnergyInnovation/eps-us.git"
          ],
          [
           "<a href=\"https://github.com/TemoaProject/oeo.git\" style = \"color: black\">Open Energy Outlook</a>",
           "Examining U.S. energy futures to inform future energy and climate policy efforts.",
           "https://github.com/TemoaProject/oeo.git"
          ],
          [
           "<a href=\"https://github.com/OpenSTEF/openstef.git\" style = \"color: black\">OpenSTEF</a>",
           "A Python package which is used to make short term forecasts for the energy sector.",
           "https://github.com/OpenSTEF/openstef.git"
          ],
          [
           "<a href=\"https://github.com/Matt-Brigida/EIAdata.git\" style = \"color: black\">EIAdata</a>",
           "Provides programmatic access to the Energy Information Administration's API.",
           "https://github.com/Matt-Brigida/EIAdata.git"
          ],
          [
           "<a href=\"https://github.com/PyPSA/technology-data.git\" style = \"color: black\">Energy System Technology Data</a>",
           "Compilation of assumptions about energy system technologies such as cost, efficiency and lifetime that can be read by energy system modelling software.",
           "https://github.com/PyPSA/technology-data.git"
          ],
          [
           "<a href=\"https://github.com/Lkruitwagen/global-fossil-fuel-supply-chain.git\" style = \"color: black\">Global Coal, Oil, and Gas Supply Chains</a>",
           "The global fossil fuel supply chain, mapped at the asset-level.",
           "https://github.com/Lkruitwagen/global-fossil-fuel-supply-chain.git"
          ],
          [
           "<a href=\"https://github.com/DrafProject/draf.git\" style = \"color: black\">draf</a>",
           "Analysis and decision support framework for local multi-energy hubs focusing on demand response.",
           "https://github.com/DrafProject/draf.git"
          ],
          [
           "<a href=\"https://github.com/pypsa-meets-earth/pypsa-earth.git\" style = \"color: black\">PyPSA-Earth</a>",
           "An Open Optimisation Model of the Earth Energy System.",
           "https://github.com/pypsa-meets-earth/pypsa-earth.git"
          ],
          [
           "<a href=\"https://github.com/OpenEMS/openems.git\" style = \"color: black\">OpenEMS</a>",
           "Open Source Energy Management System.",
           "https://github.com/OpenEMS/openems.git"
          ],
          [
           "<a href=\"https://github.com/openeemeter/eemeter.git\" style = \"color: black\">eemeter</a>",
           "An open source Python package for implementing and developing standard methods for calculating normalized metered energy consumption and avoided energy use.",
           "https://github.com/openeemeter/eemeter.git"
          ],
          [
           "<a href=\"https://github.com/opfab/operatorfabric-core.git\" style = \"color: black\">OperatorFabric</a>",
           "A modular, extensible, industrial-strength and field-tested platform for use in electricity, water and other utility operations.",
           "https://github.com/opfab/operatorfabric-core.git"
          ],
          [
           "<a href=\"https://github.com/Energy-Sparks/energy-sparks.git\" style = \"color: black\">energy-sparks</a>",
           "An open source application that is designed to help schools improve their energy efficiency.",
           "https://github.com/Energy-Sparks/energy-sparks.git"
          ],
          [
           "<a href=\"https://github.com/openenergymonitor/emonpi.git\" style = \"color: black\">emonpi</a>",
           "The OpenEnergyMonitor system has the capability to monitor electrical energy use / generation, temperature and humidity.",
           "https://github.com/openenergymonitor/emonpi.git"
          ],
          [
           "<a href=\"https://github.com/openenergymonitor/EmonLib.git\" style = \"color: black\">EmonLib</a>",
           "Arduino Energy Monitoring Library.",
           "https://github.com/openenergymonitor/EmonLib.git"
          ],
          [
           "<a href=\"https://github.com/emoncms/emoncms.git\" style = \"color: black\">Emoncms</a>",
           "A powerful open source web application for processing, logging and visualizing energy, temperature and other environmental data.",
           "https://github.com/emoncms/emoncms.git"
          ],
          [
           "<a href=\"https://github.com/FlexMeasures/flexmeasures.git\" style = \"color: black\">FlexMeasures</a>",
           "A platform for building energy flexibility services with forecasting and scheduling, written in Python & offering a USEF-conform API.",
           "https://github.com/FlexMeasures/flexmeasures.git"
          ],
          [
           "<a href=\"https://github.com/e2nIEE/simbench.git\" style = \"color: black\">SimBench</a>",
           "The objective of the research project SimBench is the development of a benchmark dataset to support research in grid planning and operation.",
           "https://github.com/e2nIEE/simbench.git"
          ],
          [
           "<a href=\"https://github.com/grid-parity-exchange/Egret.git\" style = \"color: black\">Egret</a>",
           "A Python-based package for electrical grid optimization based on the Pyomo optimization modeling language.",
           "https://github.com/grid-parity-exchange/Egret.git"
          ],
          [
           "<a href=\"https://github.com/PyPSA/pypsa-eur.git\" style = \"color: black\">PyPSA-Eur</a>",
           "An Open Optimization Model of the European Transmission System.",
           "https://github.com/PyPSA/pypsa-eur.git"
          ],
          [
           "<a href=\"https://github.com/quintel/etengine.git\" style = \"color: black\">Energy Transition Engine</a>",
           "Calculation engine for the Energy Transition Model.",
           "https://github.com/quintel/etengine.git"
          ],
          [
           "<a href=\"https://github.com/quintel/etmodel.git\" style = \"color: black\">ETM Pro</a>",
           "Professional interface of the Energy Transition model.",
           "https://github.com/quintel/etmodel.git"
          ],
          [
           "<a href=\"https://github.com/OSGP/open-smart-grid-platform.git\" style = \"color: black\">Open Smart Grid Platform</a>",
           "An open, generic, scalable and independent 'Internet of Things' platform, which enables various connected smart objects in the public space to be easily controlled and monitored.",
           "https://github.com/OSGP/open-smart-grid-platform.git"
          ],
          [
           "<a href=\"https://github.com/lanl-ansi/PowerModels.jl.git\" style = \"color: black\">PowerModels.jl</a>",
           "Designed to enable computational evaluation of emerging power network formulations and algorithms in a common platform.",
           "https://github.com/lanl-ansi/PowerModels.jl.git"
          ],
          [
           "<a href=\"https://github.com/lanl-ansi/PowerModelsAnnex.jl.git\" style = \"color: black\">PowerModelsAnnex.jl</a>",
           "An extension of PowerModels.jl that provides a home for open source sharing of preliminary and/or exploratory methods in power system optimization.",
           "https://github.com/lanl-ansi/PowerModelsAnnex.jl.git"
          ],
          [
           "<a href=\"https://github.com/power-grid-lib/pglib-opf.git\" style = \"color: black\">Power Grid Lib</a>",
           "This benchmark library is curated and maintained by the IEEE PES Task Force on Benchmarks for Validation of Emerging Power System Algorithms and is designed to evaluate a well established version of the the AC Optimal Power Flow problem.",
           "https://github.com/power-grid-lib/pglib-opf.git"
          ],
          [
           "<a href=\"https://github.com/rte-france/Grid2Op.git\" style = \"color: black\">Grid2Op</a>",
           "A testbed platform to model sequential decision making in power systems.",
           "https://github.com/rte-france/Grid2Op.git"
          ],
          [
           "<a href=\"https://github.com/openego/eDisGo.git\" style = \"color: black\">eDisGo</a>",
           "Optimization of flexibility options and grid expansion for distribution grids based on PyPSA.",
           "https://github.com/openego/eDisGo.git"
          ],
          [
           "<a href=\"https://github.com/rl-institut/offgridders.git\" style = \"color: black\">offgridders</a>",
           "Models and optimizes capacity & dispatch of electricity supply systems, off-grid or connected to a (weak) central grid.",
           "https://github.com/rl-institut/offgridders.git"
          ],
          [
           "<a href=\"https://github.com/GridMod/RTS-GMLC.git\" style = \"color: black\">RTS-GMLC</a>",
           "Reliability Test System of the Grid Modernization Lab Consortium.",
           "https://github.com/GridMod/RTS-GMLC.git"
          ],
          [
           "<a href=\"https://github.com/upb-lea/openmodelica-microgrid-gym.git\" style = \"color: black\">openmodelica-microgrid-gym</a>",
           "An OpenAI Gym Environment for Microgrids.",
           "https://github.com/upb-lea/openmodelica-microgrid-gym.git"
          ],
          [
           "<a href=\"https://github.com/JuliaEnergy/PowerDynamics.jl.git\" style = \"color: black\">PowerDynamics.jl</a>",
           "Provides all the tools you need to create a dynamic power grid model and analyze it.",
           "https://github.com/JuliaEnergy/PowerDynamics.jl.git"
          ],
          [
           "<a href=\"https://github.com/NREL-SIIP/InfrastructureSystems.jl.git\" style = \"color: black\">InfrastructureSystems.jl</a>",
           "Provides utilities to support data models for infrastructure modeling in NREL-SIIP.",
           "https://github.com/NREL-SIIP/InfrastructureSystems.jl.git"
          ],
          [
           "<a href=\"https://github.com/SanPen/GridCal.git\" style = \"color: black\">GridCal</a>",
           "Aims to be a complete platform for power systems research and simulation.",
           "https://github.com/SanPen/GridCal.git"
          ],
          [
           "<a href=\"https://github.com/energywebfoundation/origin.git\" style = \"color: black\">origin</a>",
           "A set of toolkits that together provide a system for issuance and management of Energy Attribute Certificates.",
           "https://github.com/energywebfoundation/origin.git"
          ],
          [
           "<a href=\"https://github.com/gridsingularity/gsy-e.git\" style = \"color: black\">Grid Singularity Energy Exchange</a>",
           "An interface to download and deploy interconnected, grid-aware energy marketplaces.",
           "https://github.com/gridsingularity/gsy-e.git"
          ],
          [
           "<a href=\"https://github.com/Total-RD/pymgrid.git\" style = \"color: black\">pymgrid</a>",
           "A Python library to generate and simulate a large number of microgrids.",
           "https://github.com/Total-RD/pymgrid.git"
          ],
          [
           "<a href=\"https://github.com/slacgismo/gridlabd.git\" style = \"color: black\">GridLAB-D</a>",
           "A distribution level power system simulator designed to allow users to create and analyze smart grid technologies.",
           "https://github.com/slacgismo/gridlabd.git"
          ],
          [
           "<a href=\"https://github.com/robinhenry/gym-anm.git\" style = \"color: black\">Gym-ANM</a>",
           "Design Reinforcement Learning environments that model Active Network Management tasks in electricity distribution networks.",
           "https://github.com/robinhenry/gym-anm.git"
          ],
          [
           "<a href=\"https://github.com/Breakthrough-Energy/PowerSimData.git\" style = \"color: black\">PowerSimData</a>",
           "Is part of a Python software ecosystem developed by Breakthrough Energy Sciences to carry out power flow study in the U.S. electrical grid.",
           "https://github.com/Breakthrough-Energy/PowerSimData.git"
          ],
          [
           "<a href=\"https://github.com/ie3-institute/simona.git\" style = \"color: black\">SIMONA</a>",
           "Provides a simulation toolbox to run and implement large-scale agent-based electricity grid simulations with focus on distribution grids.",
           "https://github.com/ie3-institute/simona.git"
          ],
          [
           "<a href=\"https://github.com/opennem/opennem-fe.git\" style = \"color: black\">OpenNEM</a>",
           "Aims to make the wealth of public Australian Electricity Market data more accessible to a wider audience.",
           "https://github.com/opennem/opennem-fe.git"
          ],
          [
           "<a href=\"https://github.com/catalyst-cooperative/pudl.git\" style = \"color: black\">The Public Utility Data Liberation Project</a>",
           "Makes the US' energy data easier to access and use.",
           "https://github.com/catalyst-cooperative/pudl.git"
          ],
          [
           "<a href=\"https://github.com/wri/global-power-plant-database.git\" style = \"color: black\">Global Power Plant Database</a>",
           "A comprehensive, global and open source database of power plants.",
           "https://github.com/wri/global-power-plant-database.git"
          ],
          [
           "<a href=\"https://github.com/EnergieID/entsoe-py.git\" style = \"color: black\">entsoe-py</a>",
           "A Python client for the ENTSO-E API (European Network of Transmission System Operators for Electricity).",
           "https://github.com/EnergieID/entsoe-py.git"
          ],
          [
           "<a href=\"https://github.com/OpenEnergyPlatform/open-MaStR.git\" style = \"color: black\">open-MaStR</a>",
           "Download and process German energy data from BNetzA database Marktstammdatenregister.",
           "https://github.com/OpenEnergyPlatform/open-MaStR.git"
          ],
          [
           "<a href=\"https://github.com/PyPSA/powerplantmatching.git\" style = \"color: black\">powerplantmatching</a>",
           "A toolset for cleaning, standardizing and combining multiple power plant databases.",
           "https://github.com/PyPSA/powerplantmatching.git"
          ],
          [
           "<a href=\"https://github.com/cristianst85/GeoNuclearData.git\" style = \"color: black\">GeoNuclearData</a>",
           "Database with information about Nuclear Power Plants worldwide.",
           "https://github.com/cristianst85/GeoNuclearData.git"
          ],
          [
           "<a href=\"https://github.com/thomastu/pyEIA.git\" style = \"color: black\">pyEIA</a>",
           "An Energy Information Administration API Python client for researchers who need data.",
           "https://github.com/thomastu/pyEIA.git"
          ],
          [
           "<a href=\"https://github.com/ropensci/eia.git\" style = \"color: black\">EIA</a>",
           "An R package wrapping the US Energy Information Administration open data API.",
           "https://github.com/ropensci/eia.git"
          ],
          [
           "<a href=\"https://github.com/PyPSA/atlite.git\" style = \"color: black\">atlite</a>",
           "Light-weight version of Aarhus RE Atlas for converting weather data to power systems data.",
           "https://github.com/PyPSA/atlite.git"
          ],
          [
           "<a href=\"https://github.com/m4rz910/NYISOToolkit.git\" style = \"color: black\">NYISOToolkit</a>",
           "A collection of modules for accessing power system data, generating statistics, and creating visualizations from the New York Independent System Operator.",
           "https://github.com/m4rz910/NYISOToolkit.git"
          ],
          [
           "<a href=\"https://github.com/owid/energy-data.git\" style = \"color: black\">energy-data</a>",
           "Data on global energy consumption (primary energy, per capita, and growth rates), energy mix, electricity mix and other relevant metrics.",
           "https://github.com/owid/energy-data.git"
          ],
          [
           "<a href=\"https://github.com/enechange/EnergyDataSimulationChallenge.git\" style = \"color: black\">EnergyDataSimulationChallenge</a>",
           "Allows applicants to demonstrate their ability to analyze and develop software that makes use of big energy production data.",
           "https://github.com/enechange/EnergyDataSimulationChallenge.git"
          ],
          [
           "<a href=\"https://github.com/DemandRegioTeam/disaggregator.git\" style = \"color: black\">disaggregator</a>",
           "A set of tools for processing of spatial and temporal disaggregations of demands of electricity, heat and natural gas.",
           "https://github.com/DemandRegioTeam/disaggregator.git"
          ],
          [
           "<a href=\"https://github.com/systemcatch/eiapy.git\" style = \"color: black\">eiapy</a>",
           "A simple wrapper for the U.S. Energy Information Administration API.",
           "https://github.com/systemcatch/eiapy.git"
          ],
          [
           "<a href=\"https://github.com/OSUKED/Power-Station-Dictionary.git\" style = \"color: black\">Power Station Dictionary</a>",
           "A power station dictionary that enables mapping between various naming conventions and associated plant metadata.",
           "https://github.com/OSUKED/Power-Station-Dictionary.git"
          ],
          [
           "<a href=\"https://github.com/OSUKED/ElexonDataPortal.git\" style = \"color: black\">ElexonDataPortal</a>",
           "Wrapper for the Balancing Mechanism Reporting Service API to balance power flowing on to and off from the electricity Transmission System in Great Britain.",
           "https://github.com/OSUKED/ElexonDataPortal.git"
          ],
          [
           "<a href=\"https://github.com/kmax12/gridstatus.git\" style = \"color: black\">isodata</a>",
           "Provides standardized API to access energy data from the major Independent System Operators in the United States.",
           "https://github.com/kmax12/gridstatus.git"
          ],
          [
           "<a href=\"https://github.com/NREL/sup3r.git\" style = \"color: black\">sup3r</a>",
           "The Super Resolution for Renewable Resource Data software uses generative adversarial networks to create synthetic high-resolution wind and solar spatiotemporal data from coarse low-resolution inputs.",
           "https://github.com/NREL/sup3r.git"
          ],
          [
           "<a href=\"https://github.com/trynthink/scout.git\" style = \"color: black\">scout</a>",
           "A tool for estimating the future energy use, carbon emissions, and capital and operating cost impacts of energy efficiency and demand flexibility technologies in the U.S. residential and commercial building sectors.",
           "https://github.com/trynthink/scout.git"
          ],
          [
           "<a href=\"https://github.com/ibpsa/project1-boptest.git\" style = \"color: black\">BOPTEST</a>",
           "The Building Optimization Testing (BOPTEST) Framework enables the assessment and benchmarking of control algorithms for building energy management.",
           "https://github.com/ibpsa/project1-boptest.git"
          ],
          [
           "<a href=\"https://github.com/ibpsa/project1-boptest-gym.git\" style = \"color: black\">BOPTEST-Gym</a>",
           "The OpenAI-Gym interface of the BOPTEST framework facilitates the assessment and benchmarking of RL algorithms for building energy management.",
           "https://github.com/ibpsa/project1-boptest-gym.git"
          ],
          [
           "<a href=\"https://github.com/hpxmlwg/hpxml.git\" style = \"color: black\">hpxml</a>",
           "Home Performance XML is a data transfer standard for the home performance industry.",
           "https://github.com/hpxmlwg/hpxml.git"
          ],
          [
           "<a href=\"https://github.com/NREL/hescore-hpxml.git\" style = \"color: black\">HPXML to Home Energy Score Translator</a>",
           "This translator script takes an HPXML file or directory of files as an input and generates HEScore inputs from it.",
           "https://github.com/NREL/hescore-hpxml.git"
          ],
          [
           "<a href=\"https://github.com/FZJ-IEK3-VSA/LoadProfileGenerator.git\" style = \"color: black\">LoadProfileGenerator</a>",
           "A program for generating load curves for residential consumers. Agent-based and extremely detailed.",
           "https://github.com/FZJ-IEK3-VSA/LoadProfileGenerator.git"
          ],
          [
           "<a href=\"https://github.com/VOLTTRON/volttron.git\" style = \"color: black\">VOLTTRON</a>",
           "A platform that provides services for collecting and storing data from buildings and devices. It provides an environment for developing applications that interact with data.",
           "https://github.com/VOLTTRON/volttron.git"
          ],
          [
           "<a href=\"https://github.com/NREL/EnergyPlus.git\" style = \"color: black\">EnergyPlus</a>",
           "A whole building energy simulation program that engineers, architects, and researchers use to model both energy consumption and water usage in buildings.",
           "https://github.com/NREL/EnergyPlus.git"
          ],
          [
           "<a href=\"https://github.com/NREL/OpenStudio.git\" style = \"color: black\">OpenStudio</a>",
           "A cross-platform collection of software tools to support whole building energy modeling using EnergyPlus and advanced daylight analysis using Radiance.",
           "https://github.com/NREL/OpenStudio.git"
          ],
          [
           "<a href=\"https://github.com/HIT2GAP-EU-PROJECT/bemserver.git\" style = \"color: black\">BEMServer</a>",
           "An open source Python server to deploy energy management solutions for buildings.",
           "https://github.com/HIT2GAP-EU-PROJECT/bemserver.git"
          ],
          [
           "<a href=\"https://github.com/SEED-platform/seed.git\" style = \"color: black\">SEED</a>",
           "Standard Energy Efficiency Data Platform™ is a web-based application that helps organizations easily manage data on the energy performance of large groups of buildings.",
           "https://github.com/SEED-platform/seed.git"
          ],
          [
           "<a href=\"https://github.com/EcotopeResearch/HPWHsim.git\" style = \"color: black\">HPWHsim</a>",
           "An open source simulation model for Heat Pump Water Heaters (HPWH).",
           "https://github.com/EcotopeResearch/HPWHsim.git"
          ],
          [
           "<a href=\"https://github.com/NREL/OpenStudio-ERI.git\" style = \"color: black\">OpenStudio-ERI</a>",
           "Calculates an Energy Rating Index (ERI) via an OpenStudio/EnergyPlus-based workflow. Building information is provided through an HPXML file.",
           "https://github.com/NREL/OpenStudio-ERI.git"
          ],
          [
           "<a href=\"https://github.com/NREL/OpenStudio-HPXML.git\" style = \"color: black\">OpenStudio-HPXML</a>",
           "Modeling of residential buildings in EnergyPlus using OpenStudio/HPXML.",
           "https://github.com/NREL/OpenStudio-HPXML.git"
          ],
          [
           "<a href=\"https://github.com/RWTH-EBC/AixLib.git\" style = \"color: black\">AixLib</a>",
           "A Modelica model library for building performance simulations.",
           "https://github.com/RWTH-EBC/AixLib.git"
          ],
          [
           "<a href=\"https://github.com/RWTH-EBC/TEASER.git\" style = \"color: black\">TEASER</a>",
           "Tool for Energy Analysis and Simulation for Efficient Retrofit.",
           "https://github.com/RWTH-EBC/TEASER.git"
          ],
          [
           "<a href=\"https://github.com/open-ideas/IDEAS.git\" style = \"color: black\">IDEAS</a>",
           "A Modelica model library for integrated building or district energy simulations.",
           "https://github.com/open-ideas/IDEAS.git"
          ],
          [
           "<a href=\"https://github.com/oemof/tespy.git\" style = \"color: black\">tespy</a>",
           "Provides a powerful simulation toolkit for thermal engineering plants such as power plants, district heating systems or heat pumps.",
           "https://github.com/oemof/tespy.git"
          ],
          [
           "<a href=\"https://github.com/architecture-building-systems/CityEnergyAnalyst.git\" style = \"color: black\">City Energy Analyst</a>",
           "Helps you to analyze the effects of building retrofits, land-use planning, district heating and cooling and renewable energy on the future costs, emissions and energy consumption of neighborhoods and districts.",
           "https://github.com/architecture-building-systems/CityEnergyAnalyst.git"
          ],
          [
           "<a href=\"https://github.com/lbl-srg/modelica-buildings.git\" style = \"color: black\">Modelica Buildings library</a>",
           "A free and open source library with dynamic simulation models for building energy and control systems.",
           "https://github.com/lbl-srg/modelica-buildings.git"
          ],
          [
           "<a href=\"https://github.com/open-ideas/StROBe.git\" style = \"color: black\">StROBe</a>",
           "An open web tool developed at the KU Leuven Building Physics Section to model the pervasive space for residential integrated district energy assessment simulations in the openIDEAS modeling environment.",
           "https://github.com/open-ideas/StROBe.git"
          ],
          [
           "<a href=\"https://github.com/HotMaps/Hotmaps-toolbox-service.git\" style = \"color: black\">Hotmaps</a>",
           "The open source mapping and planning tool for heating and cooling.",
           "https://github.com/HotMaps/Hotmaps-toolbox-service.git"
          ],
          [
           "<a href=\"https://github.com/EDF-Lab/BuildSysPro.git\" style = \"color: black\">BuildSysPro</a>",
           "EDF's Modelica library for buildings, districts and energy systems modeling.",
           "https://github.com/EDF-Lab/BuildSysPro.git"
          ],
          [
           "<a href=\"https://github.com/lbl-srg/MPCPy.git\" style = \"color: black\">MPCPy</a>",
           "The Python-based open source platform for model predictive control in buildings.",
           "https://github.com/lbl-srg/MPCPy.git"
          ],
          [
           "<a href=\"https://github.com/lbl-srg/obc.git\" style = \"color: black\">obc</a>",
           "Performance Evaluation, Specification, Deployment and Verification of Building Control Sequences.",
           "https://github.com/lbl-srg/obc.git"
          ],
          [
           "<a href=\"https://github.com/UdK-VPT/BuildingSystems.git\" style = \"color: black\">BuildingSystems</a>",
           "The Modelica open source BuildingSystems library is developed for dynamic simulation of the energetic behavior of single rooms, buildings and whole districts.",
           "https://github.com/UdK-VPT/BuildingSystems.git"
          ],
          [
           "<a href=\"https://github.com/ibpsa/modelica-ibpsa.git\" style = \"color: black\">modelica-ibpsa</a>",
           "A Modelica library for building and district energy systems developed within IBPSA Project 1.",
           "https://github.com/ibpsa/modelica-ibpsa.git"
          ],
          [
           "<a href=\"https://github.com/ibpsa/project1.git\" style = \"color: black\">project1</a>",
           "Creates open source software that builds the basis of next generation computing tools for the design and operation of building and district energy and control systems.",
           "https://github.com/ibpsa/project1.git"
          ],
          [
           "<a href=\"https://github.com/TEB-model/teb.git\" style = \"color: black\">teb</a>",
           "A library to calculate the urban surface energy balance at neighborhood scale assuming a simplified canyon geometry.",
           "https://github.com/TEB-model/teb.git"
          ],
          [
           "<a href=\"https://github.com/oemof/DHNx.git\" style = \"color: black\">DHNx</a>",
           "This package provides an open toolbox for district heating and cooling network optimization and simulation models.",
           "https://github.com/oemof/DHNx.git"
          ],
          [
           "<a href=\"https://github.com/CenterForTheBuiltEnvironment/pythermalcomfort.git\" style = \"color: black\">pythermalcomfort</a>",
           "Package to calculate several thermal comfort indices (e.g. PMV, PPD, SET, adaptive) and convert physical variables.",
           "https://github.com/CenterForTheBuiltEnvironment/pythermalcomfort.git"
          ],
          [
           "<a href=\"https://github.com/CenterForTheBuiltEnvironment/comfort_tool.git\" style = \"color: black\">comfort_tool</a>",
           "A web interface for comfort model calculations and visualizations according to ASHRAE Standard-55, EN Standard 16798 and ISO Standard 7730.",
           "https://github.com/CenterForTheBuiltEnvironment/comfort_tool.git"
          ],
          [
           "<a href=\"https://github.com/NREL/resstock.git\" style = \"color: black\">resstock</a>",
           "Helping states, municipalities, utilities, and manufacturers identify which building stock improvements save the most energy and money.",
           "https://github.com/NREL/resstock.git"
          ],
          [
           "<a href=\"https://github.com/dsmrreader/dsmr-reader.git\" style = \"color: black\">DSMR-reader</a>",
           "Used for reading the smart meter DSMR (Dutch Smart Meter Requirements) P1 port yourself at your home.",
           "https://github.com/dsmrreader/dsmr-reader.git"
          ],
          [
           "<a href=\"https://github.com/LBNL-ETA/MSWH.git\" style = \"color: black\">Multiscale Solar Water Heating</a>",
           "Solar water heating system modeling and simulation for individual and community scale projects.",
           "https://github.com/LBNL-ETA/MSWH.git"
          ],
          [
           "<a href=\"https://github.com/hongyuanjia/eplusr.git\" style = \"color: black\">eplusr</a>",
           "Provides a rich toolkit of using whole building energy simulation program EnergyPlus directly in R, which enables programmatic navigation, modification of EnergyPlus, conducts parametric simulations and retrieves outputs.",
           "https://github.com/hongyuanjia/eplusr.git"
          ],
          [
           "<a href=\"https://github.com/BrickSchema/Brick.git\" style = \"color: black\">Brick</a>",
           "An open-source effort to standardize semantic descriptions of the physical, logical and virtual assets in buildings and the relationships between them.",
           "https://github.com/BrickSchema/Brick.git"
          ],
          [
           "<a href=\"https://github.com/nilmtk/nilmtk.git\" style = \"color: black\">NILM</a>",
           "Non-Intrusive Load Monitoring is the process of estimating the energy consumed by individual appliances given just a whole-house power meter reading.",
           "https://github.com/nilmtk/nilmtk.git"
          ],
          [
           "<a href=\"https://github.com/volkszaehler/volkszaehler.org.git\" style = \"color: black\">volkszaehler.org</a>",
           "A free smart meter implementation with focus on data privacy.",
           "https://github.com/volkszaehler/volkszaehler.org.git"
          ],
          [
           "<a href=\"https://github.com/volkszaehler/mbmd.git\" style = \"color: black\">ModBus Measurement Daemon</a>",
           "A daemon for collecting measurement data from smart meters and grid inverters over modbus.",
           "https://github.com/volkszaehler/mbmd.git"
          ],
          [
           "<a href=\"https://github.com/FZJ-IEK3-VSA/HiSim.git\" style = \"color: black\">HiSim</a>",
           "Simulation and analysis of household scenarios using modern components as alternative to fossil fuel based ones.",
           "https://github.com/FZJ-IEK3-VSA/HiSim.git"
          ],
          [
           "<a href=\"https://github.com/RE-Lab-Projects/hplib.git\" style = \"color: black\">hplib</a>",
           "Database with efficiency parameters from public Heatpump Keymark datasets as well as parameter-sets and functions in order to simulate heat pumps.",
           "https://github.com/RE-Lab-Projects/hplib.git"
          ],
          [
           "<a href=\"https://github.com/ecmwf-projects/thermofeel.git\" style = \"color: black\">Thermofeel</a>",
           "A library to calculate human thermal comfort indexes.",
           "https://github.com/ecmwf-projects/thermofeel.git"
          ],
          [
           "<a href=\"https://github.com/CenterForTheBuiltEnvironment/clima.git\" style = \"color: black\">CBE Clima Tool</a>",
           "A web-based application built to support the need of architects and engineers interested in climate-adapted design.",
           "https://github.com/CenterForTheBuiltEnvironment/clima.git"
          ],
          [
           "<a href=\"https://github.com/bigladder/kiva.git\" style = \"color: black\">Kiva</a>",
           "Used to calculate heat loss and gain on a timestep basis from building foundations.",
           "https://github.com/bigladder/kiva.git"
          ],
          [
           "<a href=\"https://github.com/ladybug-tools/uwg.git\" style = \"color: black\">Urban Weather Generator</a>",
           "A Python application for modeling the urban heat island effect.",
           "https://github.com/ladybug-tools/uwg.git"
          ],
          [
           "<a href=\"https://github.com/ropensci/stplanr.git\" style = \"color: black\">stplanr</a>",
           "A package for sustainable transport planning with R.",
           "https://github.com/ropensci/stplanr.git"
          ],
          [
           "<a href=\"https://github.com/JRCSTU/CO2MPAS-TA.git\" style = \"color: black\">CO2MPAS-TA</a>",
           "CO2MPAS is backward-looking longitudinal-dynamics CO2 and fuel-consumption simulator for light-duty vehicles.",
           "https://github.com/JRCSTU/CO2MPAS-TA.git"
          ],
          [
           "<a href=\"https://github.com/mobilityhouse/ocpp.git\" style = \"color: black\">ocpp</a>",
           "Python implementation of the Open Charge Point Protocol.",
           "https://github.com/mobilityhouse/ocpp.git"
          ],
          [
           "<a href=\"https://github.com/ShellRechargeSolutionsEU/docile-charge-point.git\" style = \"color: black\">docile-charge-point</a>",
           "Scriptable OCPP charge point simulator and test tool.",
           "https://github.com/ShellRechargeSolutionsEU/docile-charge-point.git"
          ],
          [
           "<a href=\"https://github.com/maasglobal/maas-schemas.git\" style = \"color: black\">MaaS Global</a>",
           "Mobility as a Service API - data model, tests and validation.",
           "https://github.com/maasglobal/maas-schemas.git"
          ],
          [
           "<a href=\"https://github.com/coopcycle/coopcycle-web.git\" style = \"color: black\">CoopCycle</a>",
           "A self-hosted platform to order meals in your neighborhood and get them delivered by bike couriers.",
           "https://github.com/coopcycle/coopcycle-web.git"
          ],
          [
           "<a href=\"https://github.com/EVNotify/EVNotify.git\" style = \"color: black\">EVNotify</a>",
           "Allows you to monitor your electric vehicle and let you notify when the specified preset state of charge has been achieved.",
           "https://github.com/EVNotify/EVNotify.git"
          ],
          [
           "<a href=\"https://github.com/diowa/icare.git\" style = \"color: black\">icare</a>",
           "An open source carpooling platform used as a basis for our commercial product Company Carpool.",
           "https://github.com/diowa/icare.git"
          ],
          [
           "<a href=\"https://github.com/STS-Rosario/carpoolear.git\" style = \"color: black\">Carpoolear</a>",
           "The first Argentine Facebook app that allows the users of this social network to share car trips with other users.",
           "https://github.com/STS-Rosario/carpoolear.git"
          ],
          [
           "<a href=\"https://github.com/OpenEVSE/open_evse.git\" style = \"color: black\">OpenEVSE</a>",
           "Firmware for OpenEVSE: Open Source Hardware J1772 Electric Vehicle Supply Equipment.",
           "https://github.com/OpenEVSE/open_evse.git"
          ],
          [
           "<a href=\"https://github.com/OpenEVSE/ESP8266_WiFi_v2.x.git\" style = \"color: black\">OpenEVSE WiFi gateway</a>",
           "Uses an ESP8266 (ESP-12) which communicates with the OpenEVSE controller via serial utilizing the existing RAPI API serial interface.",
           "https://github.com/OpenEVSE/ESP8266_WiFi_v2.x.git"
          ],
          [
           "<a href=\"https://github.com/hove-io/navitia.git\" style = \"color: black\">navitia</a>",
           "An open source web API, initially built to provide traveler information on urban transportation networks.",
           "https://github.com/hove-io/navitia.git"
          ],
          [
           "<a href=\"https://github.com/openmobilityfoundation/mobility-data-specification.git\" style = \"color: black\">mobility-data-specification</a>",
           "A data standard to enable communication between mobility companies and local governments.",
           "https://github.com/openmobilityfoundation/mobility-data-specification.git"
          ],
          [
           "<a href=\"https://github.com/mdolab/openconcept.git\" style = \"color: black\">OpenConcept</a>",
           "A toolkit for conceptual MDAO of aircraft with unconventional propulsion architectures.",
           "https://github.com/mdolab/openconcept.git"
          ],
          [
           "<a href=\"https://github.com/openchargemap/ocm-system.git\" style = \"color: black\">Open Charge Map</a>",
           "The global public registry of electric vehicle charging locations.",
           "https://github.com/openchargemap/ocm-system.git"
          ],
          [
           "<a href=\"https://github.com/evcc-io/evcc.git\" style = \"color: black\">EVCC</a>",
           "An extensible EV Charge Controller with PV integration implemented in Go.",
           "https://github.com/evcc-io/evcc.git"
          ],
          [
           "<a href=\"https://github.com/steve-community/steve.git\" style = \"color: black\">SteVe</a>",
           "Provides basic functions for the administration of charge points, user data and RFID cards for user authentication and was tested successfully in operation.",
           "https://github.com/steve-community/steve.git"
          ],
          [
           "<a href=\"https://github.com/SwitchEV/RISE-V2G.git\" style = \"color: black\">RISE-V2G</a>",
           "The only fully-featured reference implementation of the Vehicle-2-Grid communication interface ISO 15118.",
           "https://github.com/SwitchEV/RISE-V2G.git"
          ],
          [
           "<a href=\"https://github.com/grote/Transportr.git\" style = \"color: black\">Transportr</a>",
           "The public transport companion that respects your privacy and your freedom.",
           "https://github.com/grote/Transportr.git"
          ],
          [
           "<a href=\"https://github.com/OneBusAway/onebusaway-android.git\" style = \"color: black\">OneBusAway</a>",
           "The Open Source platform for Real Time Transit Info.",
           "https://github.com/OneBusAway/onebusaway-android.git"
          ],
          [
           "<a href=\"https://github.com/google/transitfeed.git\" style = \"color: black\">transitfeed</a>",
           "A Python library for reading, validating and writing transit schedule information in the GTFS format.",
           "https://github.com/google/transitfeed.git"
          ],
          [
           "<a href=\"https://github.com/BlinkTagInc/node-gtfs.git\" style = \"color: black\">node-gtfs</a>",
           "Import GTFS transit data into SQLite and query routes, stops, times, fares and more.",
           "https://github.com/BlinkTagInc/node-gtfs.git"
          ],
          [
           "<a href=\"https://github.com/schildbach/public-transport-enabler.git\" style = \"color: black\">Public Transport Enabler</a>",
           "Unleash public transport data in your Java project.",
           "https://github.com/schildbach/public-transport-enabler.git"
          ],
          [
           "<a href=\"https://github.com/grote/osm2gtfs.git\" style = \"color: black\">osm2gtfs</a>",
           "Turn OpenStreetMap data and schedule information into GTFS.",
           "https://github.com/grote/osm2gtfs.git"
          ],
          [
           "<a href=\"https://github.com/systragroup/quetzal.git\" style = \"color: black\">Quetzal</a>",
           "A modeling library designed for transport planning and traffic forecasts.",
           "https://github.com/systragroup/quetzal.git"
          ],
          [
           "<a href=\"https://github.com/marlinarnz/quetzal_germany.git\" style = \"color: black\">quetzal_germany</a>",
           "A four step transport model for Germany using the quetzal transport modeling suite.",
           "https://github.com/marlinarnz/quetzal_germany.git"
          ],
          [
           "<a href=\"https://github.com/Universite-Gustave-Eiffel/NoiseModelling.git\" style = \"color: black\">NoiseModelling</a>",
           "A free and open source model to compute noise maps.",
           "https://github.com/Universite-Gustave-Eiffel/NoiseModelling.git"
          ],
          [
           "<a href=\"https://github.com/Universite-Gustave-Eiffel/NoiseCapture.git\" style = \"color: black\">NoiseCapture</a>",
           "Android App dedicated to the measurement of environmental noise.",
           "https://github.com/Universite-Gustave-Eiffel/NoiseCapture.git"
          ],
          [
           "<a href=\"https://github.com/ropensci/bikedata.git\" style = \"color: black\">bikedata</a>",
           "Aims to enable ready importing of historical trip data from all public bicycle hire systems which provide data. Will be expanded on an ongoing basis as more systems publish open data.",
           "https://github.com/ropensci/bikedata.git"
          ],
          [
           "<a href=\"https://github.com/cyclosm/cyclosm-cartocss-style.git\" style = \"color: black\">CyclOSM</a>",
           "A CartoCSS map style designed with cycling in mind.",
           "https://github.com/cyclosm/cyclosm-cartocss-style.git"
          ],
          [
           "<a href=\"https://github.com/upb-lea/gym-electric-motor.git\" style = \"color: black\">Gym Electric Motor</a>",
           "An OpenAI Gym Environment for Electric Motors.",
           "https://github.com/upb-lea/gym-electric-motor.git"
          ],
          [
           "<a href=\"https://github.com/LBNL-UCB-STI/beam.git\" style = \"color: black\">BEAM</a>",
           "The Framework for Modeling Behavior, Energy, Autonomy, and Mobility in Transportation Systems.",
           "https://github.com/LBNL-UCB-STI/beam.git"
          ],
          [
           "<a href=\"https://github.com/ubahnverleih/WoBike.git\" style = \"color: black\">WoBike</a>",
           "Public transport and multimodal routing apps could benefit from showing nearby bikes from bikesharing services. So here's a list showing the APIs of a few of these platforms.",
           "https://github.com/ubahnverleih/WoBike.git"
          ],
          [
           "<a href=\"https://github.com/PierrickP/multicycles.git\" style = \"color: black\">multicycles</a>",
           "Aggregates on one map, more than 100 share vehicles like bikes, scooters, mopeds and cars.",
           "https://github.com/PierrickP/multicycles.git"
          ],
          [
           "<a href=\"https://github.com/eskerda/pybikes.git\" style = \"color: black\">pybikes</a>",
           "Provides a set of tools to scrape bike sharing data from different websites and APIs, thus providing a coherent and generalized set of classes and methods to access this sort of information.",
           "https://github.com/eskerda/pybikes.git"
          ],
          [
           "<a href=\"https://github.com/OpenChargingCloud/ChargyDesktopApp.git\" style = \"color: black\">ChargyDesktopApp</a>",
           "Chargy is a transparency software for secure and transparent e-mobility charging processes, as defined by the German \"Eichrecht\".",
           "https://github.com/OpenChargingCloud/ChargyDesktopApp.git"
          ],
          [
           "<a href=\"https://github.com/OpenChargingCloud/WWCP_OCPP.git\" style = \"color: black\">WWCP_OCPP</a>",
           "Connectivity between the World Wide Charging Protocol (WWCP) and the Open Charge Point Protocol (OCPP v1.6/v2.0).",
           "https://github.com/OpenChargingCloud/WWCP_OCPP.git"
          ],
          [
           "<a href=\"https://github.com/OpenChargingCloud/WWCP_Core.git\" style = \"color: black\">WWCP_Core</a>",
           "The World Wide Charging Protocol Suite is a collection of protocols in order to connect market actors in the field of e-mobility solutions via scalable and secure Internet protocols.",
           "https://github.com/OpenChargingCloud/WWCP_Core.git"
          ],
          [
           "<a href=\"https://github.com/RAMP-project/RAMP-mobility.git\" style = \"color: black\">RAMP-mobility</a>",
           "A novel application of the RAMP main engine for generating bottom-up stochastic electric vehicles load profiles.",
           "https://github.com/RAMP-project/RAMP-mobility.git"
          ],
          [
           "<a href=\"https://github.com/ITSLeeds/pct.git\" style = \"color: black\">PCT</a>",
           "The goal is to increase the accessibility and reproducibility of the data produced by the Propensity to Cycle Tool (PCT).",
           "https://github.com/ITSLeeds/pct.git"
          ],
          [
           "<a href=\"https://github.com/goat-community/goat.git\" style = \"color: black\">goat</a>",
           "A tool capable of modeling walking and cycling accessibility.",
           "https://github.com/goat-community/goat.git"
          ],
          [
           "<a href=\"https://github.com/ATFutures/gtfs-router.git\" style = \"color: black\">gtfs-router</a>",
           "An R package for routing with GTFS (General Transit Feed Specification) data.",
           "https://github.com/ATFutures/gtfs-router.git"
          ],
          [
           "<a href=\"https://github.com/cityflow-project/CityFlow.git\" style = \"color: black\">CityFlow</a>",
           "A Multi-Agent Reinforcement Learning Environment for Large Scale City Traffic Scenario.",
           "https://github.com/cityflow-project/CityFlow.git"
          ],
          [
           "<a href=\"https://github.com/d-wasserman/Complete_Street_Rule.git\" style = \"color: black\">Complete_Street_Rule</a>",
           "An ArcGIS CityEngine scenario oriented design tool intended to enable users to quickly create procedural generated multimodal streets.",
           "https://github.com/d-wasserman/Complete_Street_Rule.git"
          ],
          [
           "<a href=\"https://github.com/jrester/tesla_powerwall.git\" style = \"color: black\">tesla_powerwall</a>",
           "Python Tesla Powerwall API for consuming a local endpoint.",
           "https://github.com/jrester/tesla_powerwall.git"
          ],
          [
           "<a href=\"https://github.com/gsoh/VED.git\" style = \"color: black\">Vehicle Energy Dataset</a>",
           "A large-scale dataset for vehicle energy consumption research.",
           "https://github.com/gsoh/VED.git"
          ],
          [
           "<a href=\"https://github.com/MobilityData/gbfs.git\" style = \"color: black\">gbfs</a>",
           "Documentation for the General Bikeshare Feed Specification, a standardized data feed for shared mobility system availability.",
           "https://github.com/MobilityData/gbfs.git"
          ],
          [
           "<a href=\"https://github.com/bikeindex/bike_index.git\" style = \"color: black\">Bike Index</a>",
           "Bike registration that works: online, powerful, free.",
           "https://github.com/bikeindex/bike_index.git"
          ],
          [
           "<a href=\"https://github.com/johan12345/EVMap.git\" style = \"color: black\">EVMap</a>",
           "Android app to access the goingelectric.de electric vehicle charging station directory.",
           "https://github.com/johan12345/EVMap.git"
          ],
          [
           "<a href=\"https://github.com/SAP/emobility-smart-charging.git\" style = \"color: black\">emobility-smart-charging</a>",
           "Smart charging algorithms with REST API for electric vehicle fleets.",
           "https://github.com/SAP/emobility-smart-charging.git"
          ],
          [
           "<a href=\"https://github.com/chargeprice/open-ev-data.git\" style = \"color: black\">open-ev-data</a>",
           "Open Dataset of Electric Vehicle specs.",
           "https://github.com/chargeprice/open-ev-data.git"
          ],
          [
           "<a href=\"https://github.com/SmartEVSE/smartevse.git\" style = \"color: black\">SmartEVSE</a>",
           "Smart EVSE Electric Vehicle Charging Station.",
           "https://github.com/SmartEVSE/smartevse.git"
          ],
          [
           "<a href=\"https://github.com/andmos/BikeshareClient.git\" style = \"color: black\">BikeshareClient</a>",
           "Dotnet library for integrating with GBFS bikeshare systems.",
           "https://github.com/andmos/BikeshareClient.git"
          ],
          [
           "<a href=\"https://github.com/mszell/bikenwgrowth.git\" style = \"color: black\">Growing Urban Bicycle Networks</a>",
           "Source code for the paper Growing Urban Bicycle Networks, exploring algorithmically the limitations of urban bicycle network growth.",
           "https://github.com/mszell/bikenwgrowth.git"
          ],
          [
           "<a href=\"https://github.com/a-b-street/abstreet.git\" style = \"color: black\">A/B Street</a>",
           "A traffic simulation game exploring how small changes to roads affect cyclists, transit users, pedestrians, and drivers.",
           "https://github.com/a-b-street/abstreet.git"
          ],
          [
           "<a href=\"https://github.com/enviroCar/enviroCar-app.git\" style = \"color: black\">enviroCar</a>",
           "An Android App for collecting car sensor data for the enviroCar platform.",
           "https://github.com/enviroCar/enviroCar-app.git"
          ],
          [
           "<a href=\"https://github.com/EVerest/EVerest.git\" style = \"color: black\">EVerest</a>",
           "An open source software stack for EV charging infrastructure.",
           "https://github.com/EVerest/EVerest.git"
          ],
          [
           "<a href=\"https://github.com/streetmix/streetmix.git\" style = \"color: black\">Streetmix</a>",
           "Makes it easy for people to design public spaces together.",
           "https://github.com/streetmix/streetmix.git"
          ],
          [
           "<a href=\"https://github.com/transitland/transitland-atlas.git\" style = \"color: black\">Transitland</a>",
           " An open data platform that collects GTFS, GTFS Realtime, and other open data feeds from transit providers around the world.",
           "https://github.com/transitland/transitland-atlas.git"
          ],
          [
           "<a href=\"https://github.com/cyclestreets/cyclestreets-r.git\" style = \"color: black\">cyclestreets</a>",
           "The goal of cyclestreets is to provide a simple R interface to the CycleStreets routing service.",
           "https://github.com/cyclestreets/cyclestreets-r.git"
          ],
          [
           "<a href=\"https://github.com/hubblo-org/scaphandre.git\" style = \"color: black\">Scaphandre</a>",
           "An open source software agent to track energy consumption of ICT services from the servers.",
           "https://github.com/hubblo-org/scaphandre.git"
          ],
          [
           "<a href=\"https://github.com/fvaleye/tracarbon.git\" style = \"color: black\">Tracarbon</a>",
           "Tracarbon tracks your device's energy consumption and calculates your carbon emissions using your location.",
           "https://github.com/fvaleye/tracarbon.git"
          ],
          [
           "<a href=\"https://github.com/greensoftwarelab/Energy-Languages.git\" style = \"color: black\">Energy-Languages</a>",
           "The complete set of tools for energy consumption analysis of programming languages, using Computer Language Benchmark Game.",
           "https://github.com/greensoftwarelab/Energy-Languages.git"
          ],
          [
           "<a href=\"https://github.com/responsibleproblemsolving/energy-usage.git\" style = \"color: black\">energyusage</a>",
           "A Python package that measures the environmental impact of computation.",
           "https://github.com/responsibleproblemsolving/energy-usage.git"
          ],
          [
           "<a href=\"https://github.com/powerapi-ng/powerapi.git\" style = \"color: black\">PowerAPI</a>",
           "A middleware toolkit for building software-defined power meters.",
           "https://github.com/powerapi-ng/powerapi.git"
          ],
          [
           "<a href=\"https://github.com/marmelab/argos.git\" style = \"color: black\">argos</a>",
           "A tool to measure consumption of a given Docker command and see its performance evolution. Argos is able to measure CPU, memory and network usage of Docker containers for a given command. By measuring resource consumption of dockerized E2E tests, Argos allows to compare the consumption of an app between its different versions.",
           "https://github.com/marmelab/argos.git"
          ],
          [
           "<a href=\"https://github.com/patch-technology/patch-node.git\" style = \"color: black\">patch-node</a>",
           "The road to global carbon-neutrality will be through programmatic compensation.",
           "https://github.com/patch-technology/patch-node.git"
          ],
          [
           "<a href=\"https://github.com/thegreenwebfoundation/co2.js.git\" style = \"color: black\">co2.js</a>",
           "A npm module for accessing the green web API, and estimating the carbon emissions from using digital services.",
           "https://github.com/thegreenwebfoundation/co2.js.git"
          ],
          [
           "<a href=\"https://github.com/Organic-Basics/ob-low-impact-website.git\" style = \"color: black\">The Low Impact Website</a>",
           "Reduces data transfer by up to 70% in comparison to our regular website.",
           "https://github.com/Organic-Basics/ob-low-impact-website.git"
          ],
          [
           "<a href=\"https://github.com/kylemcdonald/ethereum-nft-activity.git\" style = \"color: black\">cryptoart-footprint</a>",
           "Estimate the total emissions for popular CryptoArt platforms.",
           "https://github.com/kylemcdonald/ethereum-nft-activity.git"
          ],
          [
           "<a href=\"https://github.com/cloud-carbon-footprint/cloud-carbon-footprint.git\" style = \"color: black\">Cloud Carbon Footprint</a>",
           "A tool to estimate energy use (kilowatt-hours) and carbon emissions (metric tons CO2e) from public cloud usage.",
           "https://github.com/cloud-carbon-footprint/cloud-carbon-footprint.git"
          ],
          [
           "<a href=\"https://github.com/powerapi-ng/pyJoules.git\" style = \"color: black\">pyJoules</a>",
           "A software toolkit to measure the energy footprint of a host machine along the execution of a piece of Python code.",
           "https://github.com/powerapi-ng/pyJoules.git"
          ],
          [
           "<a href=\"https://github.com/GoogleCloudPlatform/region-carbon-info.git\" style = \"color: black\">Carbon free energy for Google Cloud regions</a>",
           "Contains sustainability characteristics of Google Cloud regions in a machine readable format.",
           "https://github.com/GoogleCloudPlatform/region-carbon-info.git"
          ],
          [
           "<a href=\"https://github.com/dos-group/leaf.git\" style = \"color: black\">LEAF</a>",
           "Simulator for modeling energy consumption in cloud, fog, and edge computing environments.",
           "https://github.com/dos-group/leaf.git"
          ],
          [
           "<a href=\"https://github.com/kylemcdonald/ethereum-nft-activity.git\" style = \"color: black\">ethereum-nft-activity</a>",
           "Estimate the total emissions for popular CryptoArt platforms.",
           "https://github.com/kylemcdonald/ethereum-nft-activity.git"
          ],
          [
           "<a href=\"https://github.com/kube-green/kube-green.git\" style = \"color: black\">kube-green</a>",
           "A k8s operator to reduce CO2 footprint of your clusters.",
           "https://github.com/kube-green/kube-green.git"
          ],
          [
           "<a href=\"https://github.com/cnumr/ecoCode.git\" style = \"color: black\">ecoCode</a>",
           "Reduce the environmental footprint of your software applications with this cutting-edge sonarQube plugin.",
           "https://github.com/cnumr/ecoCode.git"
          ],
          [
           "<a href=\"https://github.com/sustainable-computing-io/kepler.git\" style = \"color: black\">Kepler</a>",
           "Uses eBPF to probe energy related system stats and exports as Prometheus metrics.",
           "https://github.com/sustainable-computing-io/kepler.git"
          ],
          [
           "<a href=\"https://github.com/Green-Software-Foundation/software_carbon_intensity.git\" style = \"color: black\">Software Carbon Intensity Specification</a>",
           "A specification that describes how to calculate a carbon intensity for software applications.",
           "https://github.com/Green-Software-Foundation/software_carbon_intensity.git"
          ],
          [
           "<a href=\"https://github.com/jawache/principles-green.git\" style = \"color: black\">Principles of Green Software Engineering</a>",
           "Are a core set of competencies needed to define, build and run sustainable software applications.",
           "https://github.com/jawache/principles-green.git"
          ],
          [
           "<a href=\"https://github.com/thegreenwebfoundation/grid-intensity-go.git\" style = \"color: black\">grid-intensity-go</a>",
           "A tool written in go to help you factor carbon intensity into decisions about where and when to run computing jobs.",
           "https://github.com/thegreenwebfoundation/grid-intensity-go.git"
          ],
          [
           "<a href=\"https://github.com/sb-ai-lab/Eco2AI.git\" style = \"color: black\">Eco2AI</a>",
           "A Python library which accumulates statistics about power consumption and CO2 emission during running code.",
           "https://github.com/sb-ai-lab/Eco2AI.git"
          ],
          [
           "<a href=\"https://github.com/mlco2/impact.git\" style = \"color: black\">impact</a>",
           "Compute your ML model's emissions with our calculator and add the results to your paper with our generated LaTeX template.",
           "https://github.com/mlco2/impact.git"
          ],
          [
           "<a href=\"https://github.com/mlco2/codecarbon.git\" style = \"color: black\">CodeCarbon</a>",
           "Track emissions from Compute and recommend ways to reduce their impact on the environment.",
           "https://github.com/mlco2/codecarbon.git"
          ],
          [
           "<a href=\"https://github.com/Breakend/experiment-impact-tracker.git\" style = \"color: black\">experiment-impact-tracker</a>",
           "Meant to be a simple drop-in method to track energy usage, carbon emissions, and compute utilization of your system.",
           "https://github.com/Breakend/experiment-impact-tracker.git"
          ],
          [
           "<a href=\"https://github.com/Boavizta/environmental-footprint-data.git\" style = \"color: black\">Environmental Footprint Data</a>",
           "Aims to reference as much data as possible to help organizations to evaluate the environmental footprint of their information systems, applications and digital services.",
           "https://github.com/Boavizta/environmental-footprint-data.git"
          ],
          [
           "<a href=\"https://github.com/carbonalyser/Carbonalyser.git\" style = \"color: black\">Carbonalyser</a>",
           "Allows to visualize the electricity consumption and greenhouse gases emissions that your Internet browsing leads to.",
           "https://github.com/carbonalyser/Carbonalyser.git"
          ],
          [
           "<a href=\"https://github.com/electricitymaps/electricitymaps-contrib.git\" style = \"color: black\">Electricity Maps</a>",
           "A real-time visualization of the CO2 emissions from electricity consumption.",
           "https://github.com/electricitymaps/electricitymaps-contrib.git"
          ],
          [
           "<a href=\"https://github.com/singularity-energy/open-grid-emissions.git\" style = \"color: black\">Open Grid Emissions Initiative</a>",
           "Seeks to fill a critical need for high-quality, publicly-accessible, hourly grid emissions data that can be used for GHG accounting, policymaking, academic research, and energy attribute certificate markets.",
           "https://github.com/singularity-energy/open-grid-emissions.git"
          ],
          [
           "<a href=\"https://github.com/ConferenceCarbonTracker/CarbonFootprintEGU.git\" style = \"color: black\">CarbonFootprintEGU</a>",
           "Travel carbon footprint of the European Geosciences Union General Assembly 2019.",
           "https://github.com/ConferenceCarbonTracker/CarbonFootprintEGU.git"
          ],
          [
           "<a href=\"https://github.com/NMF-earth/nmf-app.git\" style = \"color: black\">NMF.earth app</a>",
           "iOS & Android app to understand and reduce your carbon footprint.",
           "https://github.com/NMF-earth/nmf-app.git"
          ],
          [
           "<a href=\"https://github.com/opentaps/blockchain-carbon-accounting.git\" style = \"color: black\">blockchain-carbon-accounting</a>",
           "Code of the Carbon Accounting and Certification Working Group.",
           "https://github.com/opentaps/blockchain-carbon-accounting.git"
          ],
          [
           "<a href=\"https://github.com/acircleda/footprint.git\" style = \"color: black\">footprint</a>",
           "An R package to calculate carbon footprints from air travel based on IATA airport codes or latitude and longitude.",
           "https://github.com/acircleda/footprint.git"
          ],
          [
           "<a href=\"https://github.com/KKulma/intensegRid.git\" style = \"color: black\">intensegRid</a>",
           "Provides information on national and regional carbon intensity, the amount of carbon emitted per unit of energy consumed, for the UK.",
           "https://github.com/KKulma/intensegRid.git"
          ],
          [
           "<a href=\"https://github.com/kansoapp/carbonfact-models.git\" style = \"color: black\">Carbonfact Models</a>",
           "The carbon footprint models used by carbonfact.co.",
           "https://github.com/kansoapp/carbonfact-models.git"
          ],
          [
           "<a href=\"https://github.com/climatiq/Open-Emission-Factors-DB.git\" style = \"color: black\">Open-Emission-Factors-DB</a>",
           "An open access, contributer-led database of emission factors, validated by the team at Climatiq.",
           "https://github.com/climatiq/Open-Emission-Factors-DB.git"
          ],
          [
           "<a href=\"https://github.com/DrafProject/elmada.git\" style = \"color: black\">elmada</a>",
           "Dynamic electricity carbon emission factors and prices for Europe.",
           "https://github.com/DrafProject/elmada.git"
          ],
          [
           "<a href=\"https://github.com/openclimatedata/unfccc-detailed-data-by-party.git\" style = \"color: black\">UNFCCC emissions data</a>",
           "UNFCCC Emissions data from the Detailed Data By Party interface.",
           "https://github.com/openclimatedata/unfccc-detailed-data-by-party.git"
          ],
          [
           "<a href=\"https://github.com/GranthamImperial/silicone.git\" style = \"color: black\">Silicone</a>",
           "Automated filling of detail in reported emission scenarios.",
           "https://github.com/GranthamImperial/silicone.git"
          ],
          [
           "<a href=\"https://github.com/jdechalendar/gridemissions.git\" style = \"color: black\">gridemissions</a>",
           "Displays the hourly carbon footprint of the US electricity system.",
           "https://github.com/jdechalendar/gridemissions.git"
          ],
          [
           "<a href=\"https://github.com/carbonplan/cdr-database.git\" style = \"color: black\">Carbon Dioxide Removal Database</a>",
           "Open science reports on carbon removal projects and technologies.",
           "https://github.com/carbonplan/cdr-database.git"
          ],
          [
           "<a href=\"https://github.com/CCSI-Toolset/FOQUS.git\" style = \"color: black\">FOQUS</a>",
           "Framework for Optimization and Quantification of Uncertainty and Surrogates.",
           "https://github.com/CCSI-Toolset/FOQUS.git"
          ],
          [
           "<a href=\"https://github.com/GEOSX/GEOSX.git\" style = \"color: black\">GEOSX</a>",
           "A simulation framework for modeling coupled flow, transport, and geomechanics in the subsurface.",
           "https://github.com/GEOSX/GEOSX.git"
          ],
          [
           "<a href=\"https://github.com/hsbay/cdrmex.git\" style = \"color: black\">CDRMEx</a>",
           "Carbon Dioxide Removal Modeling Experiments.",
           "https://github.com/hsbay/cdrmex.git"
          ],
          [
           "<a href=\"https://github.com/bcgov/ghg-emissions-indicator.git\" style = \"color: black\">ghg emissions indicator</a>",
           "R scripts for a greenhouse gases emissions indicator published on Environmental Reporting British Columbia.",
           "https://github.com/bcgov/ghg-emissions-indicator.git"
          ],
          [
           "<a href=\"https://github.com/dataforgoodfr/batch7_satellite_ges.git\" style = \"color: black\">oco2peak</a>",
           "The goal of our project is to localize CO2 emissions on Earth based on the the carbon concentration data measured by the OCO-2 Satellite from NASA.",
           "https://github.com/dataforgoodfr/batch7_satellite_ges.git"
          ],
          [
           "<a href=\"https://github.com/emissions-api/emissions-api.git\" style = \"color: black\">emissions-api</a>",
           "A solution that provides simple access to emissions data of climate-relevant gases.",
           "https://github.com/emissions-api/emissions-api.git"
          ],
          [
           "<a href=\"https://github.com/atmoschem/eixport.git\" style = \"color: black\">eixport</a>",
           "An R package that provides functions to read emissions from VEIN and from other models in different formats and export the emissions into the appropriate format suitable to other models.",
           "https://github.com/atmoschem/eixport.git"
          ],
          [
           "<a href=\"https://github.com/atmoschem/EmissV.git\" style = \"color: black\">EmissV</a>",
           "This package provides some methods to create emissions (with a focus on vehicular emissions) for use in numeric air quality models such as WRF-Chem.",
           "https://github.com/atmoschem/EmissV.git"
          ],
          [
           "<a href=\"https://github.com/JGCRI/CEDS.git\" style = \"color: black\">The Community Emissions Data System</a>",
           "Produces consistent estimates of global air emissions species over the industrial era (1750 - present).",
           "https://github.com/JGCRI/CEDS.git"
          ],
          [
           "<a href=\"https://github.com/quishqa/PyChEmiss.git\" style = \"color: black\">PyChEmiss</a>",
           "A Python script to create the wrfchemi file from local emissions needed to run WRF-Chem model.",
           "https://github.com/quishqa/PyChEmiss.git"
          ],
          [
           "<a href=\"https://github.com/owid/co2-data.git\" style = \"color: black\">co2-data</a>",
           "Data on CO2 and greenhouse gas emissions by Our World in Data.",
           "https://github.com/owid/co2-data.git"
          ],
          [
           "<a href=\"https://github.com/uataq/X-STILT.git\" style = \"color: black\">X-STILT</a>",
           "An atmospheric transport model that deals with vertically integrated column CO2 and potentially other trace gases.",
           "https://github.com/uataq/X-STILT.git"
          ],
          [
           "<a href=\"https://github.com/uataq/stilt.git\" style = \"color: black\">stilt</a>",
           "An open source Lagrangian particle dispersion model which is widely used to simulate the transport of pollution and greenhouse gases through the atmosphere.",
           "https://github.com/uataq/stilt.git"
          ],
          [
           "<a href=\"https://github.com/arbrandt/OPGEE.git\" style = \"color: black\">OPGEE</a>",
           "Oil Production Greenhouse Gas Emissions Estimator.",
           "https://github.com/arbrandt/OPGEE.git"
          ],
          [
           "<a href=\"https://github.com/openghg/openghg.git\" style = \"color: black\">OpenGHG</a>",
           "A cloud platform for greenhouse gas data analysis and collaboration.",
           "https://github.com/openghg/openghg.git"
          ],
          [
           "<a href=\"https://github.com/OpenCarbonWatch/Website.git\" style = \"color: black\">Open Carbon Watch</a>",
           "We monitor greenhouse gases emission reports published by organizations, along with their legal obligations and their own commitments, and track them over time.",
           "https://github.com/OpenCarbonWatch/Website.git"
          ],
          [
           "<a href=\"https://github.com/satish1901/Methane-detection-from-hyperspectral-imagery.git\" style = \"color: black\">Methane-detection-from-hyperspectral-imagery</a>",
           "Deep Learning based Remote Sensing Methods for Methane Detection in Airborne Hyperspectral Imagery.",
           "https://github.com/satish1901/Methane-detection-from-hyperspectral-imagery.git"
          ],
          [
           "<a href=\"https://github.com/CMU-CREATE-Lab/deep-smoke-machine.git\" style = \"color: black\">deep-smoke-machine</a>",
           "Deep learning models and dataset for recognizing industrial smoke emissions.",
           "https://github.com/CMU-CREATE-Lab/deep-smoke-machine.git"
          ],
          [
           "<a href=\"https://github.com/Ribbit-Network/ribbit-network-frog-sensor.git\" style = \"color: black\">Ribbit Network Frog Sensor</a>",
           "The sensor for the world's largest crowdsourced network of open-source, low-cost, CO2 Gas Detection Sensors.",
           "https://github.com/Ribbit-Network/ribbit-network-frog-sensor.git"
          ],
          [
           "<a href=\"https://github.com/mmb-carb/ESTA.git\" style = \"color: black\">ESTA</a>",
           "A command-line tool for processing raw emissions data into spatially and temporally-allocated emissions inventories, suitable for photochemicaly modeling or other analysis.",
           "https://github.com/mmb-carb/ESTA.git"
          ],
          [
           "<a href=\"https://github.com/milankl/FlyingClimate.git\" style = \"color: black\">FlyingClimate</a>",
           "Model the CO2 and non-CO2 effects like nitrogen oxide emissions and contrail formation to analyse aviation's total warming footprint.",
           "https://github.com/milankl/FlyingClimate.git"
          ],
          [
           "<a href=\"https://github.com/OSUKED/ETS-Watch.git\" style = \"color: black\">ETS-Watch</a>",
           "Provides a Python client for retrieving the latest data on the EU Emissions Trading System market and its participants.",
           "https://github.com/OSUKED/ETS-Watch.git"
          ],
          [
           "<a href=\"https://github.com/ICOS-Carbon-Portal/pylib.git\" style = \"color: black\">Integrated Carbon Observation System</a>",
           "Produces standardised data on greenhouse gas concentrations in the atmosphere, as well as on carbon fluxes between the atmosphere, the earth and oceans.",
           "https://github.com/ICOS-Carbon-Portal/pylib.git"
          ],
          [
           "<a href=\"https://github.com/fossilfuelregistry/portal-v2.git\" style = \"color: black\">The Global Registry of Fossil Fuels</a>",
           "Open Source database of oil, gas and coal production and reserves globally, expressed in CO2-equivalent.",
           "https://github.com/fossilfuelregistry/portal-v2.git"
          ],
          [
           "<a href=\"https://github.com/Novarizark/easy-era5-trck.git\" style = \"color: black\">Easy-ERA5-Trck</a>",
           "A super lightweight Lagrangian model for calculating millions of trajectories using ERA5 data.",
           "https://github.com/Novarizark/easy-era5-trck.git"
          ],
          [
           "<a href=\"https://github.com/brightway-lca/brightway2.git\" style = \"color: black\">brightway2</a>",
           "An open source framework for life cycle assessment.",
           "https://github.com/brightway-lca/brightway2.git"
          ],
          [
           "<a href=\"https://github.com/romainsacchi/carculator.git\" style = \"color: black\">carculator</a>",
           "Prospective environmental and economic life cycle assessment of vehicles made blazing fast.",
           "https://github.com/romainsacchi/carculator.git"
          ],
          [
           "<a href=\"https://github.com/USEPA/ElectricityLCI.git\" style = \"color: black\">Electricity Life Cycle Inventory</a>",
           "A Python package that uses standardized facility release and generation data to create regionalized life cycle inventory (LCI) models for the generation, mix of generation, mix of consumption, and distribution of electricity to end users for the US, with embedded system processes of upstream fuel production and infrastructure.",
           "https://github.com/USEPA/ElectricityLCI.git"
          ],
          [
           "<a href=\"https://github.com/uslci-admin/uslci-content.git\" style = \"color: black\">uslci-content</a>",
           "Supplementary content for the U.S. Life Cycle Inventory Database.",
           "https://github.com/uslci-admin/uslci-content.git"
          ],
          [
           "<a href=\"https://github.com/GreenDelta/olca-app.git\" style = \"color: black\">OpenLCA</a>",
           "An open source and free software for Sustainability and Life Cycle Assessment.",
           "https://github.com/GreenDelta/olca-app.git"
          ],
          [
           "<a href=\"https://github.com/GreenDelta/openlca-python-tutorial.git\" style = \"color: black\">openlca-python-tutorial</a>",
           "Explains the usage of the openLCA API from Python.",
           "https://github.com/GreenDelta/openlca-python-tutorial.git"
          ],
          [
           "<a href=\"https://github.com/oie-mines-paristech/lca_algebraic.git\" style = \"color: black\">lca_algebraic</a>",
           "A small layer above brightway2, designed for the definition of parametric inventories with fast computation of LCA impacts, suitable for Monte Carlo analysis.",
           "https://github.com/oie-mines-paristech/lca_algebraic.git"
          ],
          [
           "<a href=\"https://github.com/Vizzuality/trase.git\" style = \"color: black\">Trase</a>",
           "Brings unprecedented transparency to commodity supply chains revealing new pathways towards achieving a deforestation-free economy.",
           "https://github.com/Vizzuality/trase.git"
          ],
          [
           "<a href=\"https://github.com/QSD-Group/QSDsan.git\" style = \"color: black\">QSDsan</a>",
           "A package for the quantitative sustainable design of sanitation and resource recovery systems.",
           "https://github.com/QSD-Group/QSDsan.git"
          ],
          [
           "<a href=\"https://github.com/polca/premise.git\" style = \"color: black\">premise</a>",
           "Coupling Integrated Assessment Models output with Life Cycle Assessment.",
           "https://github.com/polca/premise.git"
          ],
          [
           "<a href=\"https://github.com/USEPA/useeior.git\" style = \"color: black\">useeior</a>",
           "Estimating potential environmental impacts of goods and services in the US economy.",
           "https://github.com/USEPA/useeior.git"
          ],
          [
           "<a href=\"https://github.com/USEPA/Federal-LCA-Commons-Elementary-Flow-List.git\" style = \"color: black\">fedelemflowlist</a>",
           "A Python package that generates and provides a standardized elementary flow list for use in life cycle assessment (LCA) data as well as mappings to convert data from other sources.",
           "https://github.com/USEPA/Federal-LCA-Commons-Elementary-Flow-List.git"
          ],
          [
           "<a href=\"https://github.com/fineprint-global/forbio.git\" style = \"color: black\">FORBIO</a>",
           "Physical multi-regional input-output model for forestry, wood and paper products.",
           "https://github.com/fineprint-global/forbio.git"
          ],
          [
           "<a href=\"https://github.com/konstantinstadler/pymrio.git\" style = \"color: black\">pymrio</a>",
           "Multi-Regional Input-Output Analysis in Python.",
           "https://github.com/konstantinstadler/pymrio.git"
          ],
          [
           "<a href=\"https://github.com/ONEARMY/precious-plastic.git\" style = \"color: black\">ONEARMY</a>",
           "A series of tools for the Precious Plastic community to collaborate around the world and tackle plastic waste.",
           "https://github.com/ONEARMY/precious-plastic.git"
          ],
          [
           "<a href=\"https://github.com/pedropro/TACO.git\" style = \"color: black\">TACO</a>",
           "Trash Annotations in Context Dataset Toolkit.",
           "https://github.com/pedropro/TACO.git"
          ],
          [
           "<a href=\"https://github.com/circularfashion/cf-circularity-id-standard.git\" style = \"color: black\">circularity.ID Open Data Standard</a>",
           "The standard represents the results and findings of an extensive six-year research into the needs of stakeholders in the fashion industry to achieve a circular economy.",
           "https://github.com/circularfashion/cf-circularity-id-standard.git"
          ],
          [
           "<a href=\"https://github.com/garythung/trashnet.git\" style = \"color: black\">trashnet</a>",
           "Dataset of images of trash. Torch-based CNN for garbage image classification.",
           "https://github.com/garythung/trashnet.git"
          ],
          [
           "<a href=\"https://github.com/OpenLitterMap/openlittermap-web.git\" style = \"color: black\">OpenLitterMap</a>",
           "An open, interactive and accessible database of the world's litter and plastic pollution.",
           "https://github.com/OpenLitterMap/openlittermap-web.git"
          ],
          [
           "<a href=\"https://github.com/CMLPlatform/pycirk.git\" style = \"color: black\">pycirk</a>",
           "Model Circular Economy policy and technological interventions in Environmentally Extended Input-Output Analysis.",
           "https://github.com/CMLPlatform/pycirk.git"
          ],
          [
           "<a href=\"https://github.com/WWF-Deutschland/marine-plastic-explorer.git\" style = \"color: black\">Global Plastic Navigator</a>",
           "Visualises the most recent and high-resolution data of current scientific publications on marine plastic pollution.",
           "https://github.com/WWF-Deutschland/marine-plastic-explorer.git"
          ],
          [
           "<a href=\"https://github.com/TheOceanCleanupAlgorithms/ADVECT.git\" style = \"color: black\">ADVECTOR</a>",
           "A whole-ocean marine debris transport model which is built to handle millions of particles and terabytes of data.",
           "https://github.com/TheOceanCleanupAlgorithms/ADVECT.git"
          ],
          [
           "<a href=\"https://github.com/marine-debris/marine-debris.github.io.git\" style = \"color: black\">MARIDA</a>",
           "A marine debris-oriented dataset on Sentinel-2 satellite images.",
           "https://github.com/marine-debris/marine-debris.github.io.git"
          ],
          [
           "<a href=\"https://github.com/wimlds-trojmiasto/detect-waste.git\" style = \"color: black\">Detect waste</a>",
           "Detecting plastic waste in the environment to combat environmental pollution and promote circular economy.",
           "https://github.com/wimlds-trojmiasto/detect-waste.git"
          ],
          [
           "<a href=\"https://github.com/santiago-sanitation-systems/Santiago.jl.git\" style = \"color: black\">Santiago.jl</a>",
           "A Julia package to generate appropriate sanitation system options.",
           "https://github.com/santiago-sanitation-systems/Santiago.jl.git"
          ],
          [
           "<a href=\"https://github.com/CMLPlatform/ramascene.git\" style = \"color: black\">RaMa-Scene</a>",
           "RaMa-Scene a web-platform to analyse Environmentally Extended Input-Output data and generate scenarios.",
           "https://github.com/CMLPlatform/ramascene.git"
          ],
          [
           "<a href=\"https://github.com/CMLPlatform/CircuMAT.git\" style = \"color: black\">CircuMat</a>",
           "RaMa-Scene fork, CircuMat focuses on NUTS2 level classification as opposed to Rama-Scene country level analysis tool.",
           "https://github.com/CMLPlatform/CircuMAT.git"
          ],
          [
           "<a href=\"https://github.com/wri/carbon-budget.git\" style = \"color: black\">carbon budget</a>",
           "This model maps gross greenhouse gas emissions from forests between 2001 and 2015, gross carbon removals by forests between 2001, and the difference between them (net flux).",
           "https://github.com/wri/carbon-budget.git"
          ],
          [
           "<a href=\"https://github.com/apburt/treeseg.git\" style = \"color: black\">treeseg</a>",
           "Developed to near-automatically extract tree-level point clouds from high-density larger-area lidar point clouds acquired in forests.",
           "https://github.com/apburt/treeseg.git"
          ],
          [
           "<a href=\"https://github.com/umr-amap/BIOMASS.git\" style = \"color: black\">BIOMASS</a>",
           "An R package for estimating aboveground biomass and its uncertainty in tropical forests.",
           "https://github.com/umr-amap/BIOMASS.git"
          ],
          [
           "<a href=\"https://github.com/MetOffice/forest.git\" style = \"color: black\">forest</a>",
           "Forecast and Observation Research and Evaluation Survey Tool.",
           "https://github.com/MetOffice/forest.git"
          ],
          [
           "<a href=\"https://github.com/openforis/sepal.git\" style = \"color: black\">SEPAL</a>",
           "System for Earth Observation Data Access, Processing and Analysis for Land Monitoring.",
           "https://github.com/openforis/sepal.git"
          ],
          [
           "<a href=\"https://github.com/forc-db/ForC.git\" style = \"color: black\">Forest Carbon database</a>",
           "Global Forest Carbon Database.",
           "https://github.com/forc-db/ForC.git"
          ],
          [
           "<a href=\"https://github.com/tiagodc/TreeLS.git\" style = \"color: black\">TreeLS</a>",
           "High performance R functions for forest data processing based on Terrestrial Laser Scanning (but not only) point clouds.",
           "https://github.com/tiagodc/TreeLS.git"
          ],
          [
           "<a href=\"https://github.com/InverseTampere/TreeQSM.git\" style = \"color: black\">TreeQSM</a>",
           "Quantitative Structure Models of Single Trees from Laser Scanner Data.",
           "https://github.com/InverseTampere/TreeQSM.git"
          ],
          [
           "<a href=\"https://github.com/ecmwf/caliver.git\" style = \"color: black\">caliver</a>",
           "CALIbration and VERification of gridded fire danger models.",
           "https://github.com/ecmwf/caliver.git"
          ],
          [
           "<a href=\"https://github.com/Vizzuality/gfw.git\" style = \"color: black\">Global Forest Watch</a>",
           "An online, global and near real-time forest monitoring tool.",
           "https://github.com/Vizzuality/gfw.git"
          ],
          [
           "<a href=\"https://github.com/wri/gfw-mapbuilder.git\" style = \"color: black\">gfw-mapbuilder</a>",
           "A library to build custom Forest Atlas web applications.",
           "https://github.com/wri/gfw-mapbuilder.git"
          ],
          [
           "<a href=\"https://github.com/ropensci/taxize.git\" style = \"color: black\">taxize</a>",
           "Allows users to search over many taxonomic data sources for species names (scientific and common) and download up and downstream taxonomic hierarchical information.",
           "https://github.com/ropensci/taxize.git"
          ],
          [
           "<a href=\"https://github.com/ropensci/rgbif.git\" style = \"color: black\">rgbif</a>",
           "Interface to the Global Biodiversity Information Facility API.",
           "https://github.com/ropensci/rgbif.git"
          ],
          [
           "<a href=\"https://github.com/globalbioticinteractions/globalbioticinteractions.git\" style = \"color: black\">Global Biotic Interactions</a>",
           "Global Biotic Interactions provides access to existing species interaction datasets.",
           "https://github.com/globalbioticinteractions/globalbioticinteractions.git"
          ],
          [
           "<a href=\"https://github.com/r-lidar/lidR.git\" style = \"color: black\">lidR</a>",
           "An R package for airborne LiDAR data manipulation and visualization for forestry application.",
           "https://github.com/r-lidar/lidR.git"
          ],
          [
           "<a href=\"https://github.com/weecology/DeepForest.git\" style = \"color: black\">DeepForest</a>",
           "Python Package for Tree Crown Detection in Airborne RGB imagery.",
           "https://github.com/weecology/DeepForest.git"
          ],
          [
           "<a href=\"https://github.com/WSWUP/pymetric.git\" style = \"color: black\">pyMETRIC</a>",
           "A set of Python based tools developed for estimating and mapping evapotranspiration for large areas, utilizing the Landsat image archive.",
           "https://github.com/WSWUP/pymetric.git"
          ],
          [
           "<a href=\"https://github.com/weecology/NeonTreeEvaluation.git\" style = \"color: black\">NeonTreeEvaluation</a>",
           "Benchmark dataset for tree detection for airborne RGB, Hyperspectral and LIDAR imagery.",
           "https://github.com/weecology/NeonTreeEvaluation.git"
          ],
          [
           "<a href=\"https://github.com/OpenTreeMap/otm-core.git\" style = \"color: black\">OpenTreeMap</a>",
           "A collaborative platform for crowdsourced tree inventory, ecosystem services calculations, urban forestry analysis and community engagement.",
           "https://github.com/OpenTreeMap/otm-core.git"
          ],
          [
           "<a href=\"https://github.com/weecology/DeepTreeAttention.git\" style = \"color: black\">DeepTreeAttention</a>",
           "Hyperspectral Image Classification with Attention Aided CNNs.",
           "https://github.com/weecology/DeepTreeAttention.git"
          ],
          [
           "<a href=\"https://github.com/ropensci/rebird.git\" style = \"color: black\">rebird</a>",
           "A package to interface with the eBird webservices a real-time, online bird checklist program.",
           "https://github.com/ropensci/rebird.git"
          ],
          [
           "<a href=\"https://github.com/ropensci/rredlist.git\" style = \"color: black\">rredlist</a>",
           "An R client for the IUCN Red List of threatened and endangered species.",
           "https://github.com/ropensci/rredlist.git"
          ],
          [
           "<a href=\"https://github.com/woodcrafty/PyETo.git\" style = \"color: black\">PyETo</a>",
           "A Python library for calculating reference crop evapotranspiration, sometimes referred to as potential evapotranspiration.",
           "https://github.com/woodcrafty/PyETo.git"
          ],
          [
           "<a href=\"https://github.com/ltrr-arizona-edu/burnr.git\" style = \"color: black\">burnr</a>",
           "Basic tools to analyze forest fire history data (e.g. FHX) in R.",
           "https://github.com/ltrr-arizona-edu/burnr.git"
          ],
          [
           "<a href=\"https://github.com/sollano/forestmangr.git\" style = \"color: black\">forestmangr</a>",
           "An R package for forest mensuration and management.",
           "https://github.com/sollano/forestmangr.git"
          ],
          [
           "<a href=\"https://github.com/jneme910/CART.git\" style = \"color: black\">CART</a>",
           "The Conservation Assessment Ranking Tool is designed for use in the conservation planning process to assess resource concerns, planned practices and site vulnerability.",
           "https://github.com/jneme910/CART.git"
          ],
          [
           "<a href=\"https://github.com/DS3Lab/forest-prediction.git\" style = \"color: black\">forest-prediction</a>",
           "Deep learning for deforestation classification and forecasting in satellite imagery.",
           "https://github.com/DS3Lab/forest-prediction.git"
          ],
          [
           "<a href=\"https://github.com/GreenswayAB/BIRDS.git\" style = \"color: black\">BIRDS</a>",
           "This set of tools has been developed for systematizing biodiversity data review in order to evaluate whether a set of species observation are fit-for-use and help take decisions upon its use on further analysis.",
           "https://github.com/GreenswayAB/BIRDS.git"
          ],
          [
           "<a href=\"https://github.com/danforthcenter/plantcv.git\" style = \"color: black\">PlantCV</a>",
           "Plant phenotyping using computer vision.",
           "https://github.com/danforthcenter/plantcv.git"
          ],
          [
           "<a href=\"https://github.com/NGEET/fates.git\" style = \"color: black\">FATES</a>",
           "A cohort model of vegetation competition and co-existence, allowing a representation of the biosphere which accounts for the division of the land surface into successional stages.",
           "https://github.com/NGEET/fates.git"
          ],
          [
           "<a href=\"https://github.com/ghislainv/forestatrisk.git\" style = \"color: black\">forestatrisk</a>",
           "A Python package to model and forecast the risk of deforestation.",
           "https://github.com/ghislainv/forestatrisk.git"
          ],
          [
           "<a href=\"https://github.com/pyronear/pyro-vision.git\" style = \"color: black\">Pyrovision</a>",
           "Computer vision library for wildfire detection.",
           "https://github.com/pyronear/pyro-vision.git"
          ],
          [
           "<a href=\"https://github.com/CornellLabofOrnithology/auk.git\" style = \"color: black\">auk</a>",
           "eBird Data Extraction and Processing in R.",
           "https://github.com/CornellLabofOrnithology/auk.git"
          ],
          [
           "<a href=\"https://github.com/ropensci/spocc.git\" style = \"color: black\">spocc</a>",
           "An R package to query and collect species occurrence data from many sources.",
           "https://github.com/ropensci/spocc.git"
          ],
          [
           "<a href=\"https://github.com/VIAME/VIAME.git\" style = \"color: black\">VIAME</a>",
           "A computer vision application designed for do-it-yourself artificial intelligence including object detection, object tracking, image/video annotation, image/video search, image mosaicing, stereo measurement, rapid model generation, and tools for the evaluation of different algorithms.",
           "https://github.com/VIAME/VIAME.git"
          ],
          [
           "<a href=\"https://github.com/NOAA-EDAB/ecodata.git\" style = \"color: black\">ecodata</a>",
           "A data package for reporting on Northeast Continental Shelf ecosystem status and trends.",
           "https://github.com/NOAA-EDAB/ecodata.git"
          ],
          [
           "<a href=\"https://github.com/bullocke/coded.git\" style = \"color: black\">CODED</a>",
           "An algorithm developed to monitor for low-magnitude forest disturbances using Landsat data.",
           "https://github.com/bullocke/coded.git"
          ],
          [
           "<a href=\"https://github.com/openplantpathology/OpenPlantPathology.git\" style = \"color: black\">OpenPlantPathology</a>",
           "Open Plant Pathology is an initiative that supports and promotes the spread of all open, transparent and reproducible practices in the field of plant pathology.",
           "https://github.com/openplantpathology/OpenPlantPathology.git"
          ],
          [
           "<a href=\"https://github.com/allisonhorst/palmerpenguins.git\" style = \"color: black\">palmerpenguins</a>",
           "The palmerpenguins data contains size measurements for three penguin species observed on three islands in the Palmer Archipelago, Antarctica.",
           "https://github.com/allisonhorst/palmerpenguins.git"
          ],
          [
           "<a href=\"https://github.com/iobis/robis.git\" style = \"color: black\">robis</a>",
           "Build and maintain a global alliance that collaborates with scientific communities to facilitate free and open access to, and application of, biodiversity and biogeographic data and information on marine life.",
           "https://github.com/iobis/robis.git"
          ],
          [
           "<a href=\"https://github.com/ropensci/rfishbase.git\" style = \"color: black\">rfishbase</a>",
           "An R interface to the fishbase.org database.",
           "https://github.com/ropensci/rfishbase.git"
          ],
          [
           "<a href=\"https://github.com/ajwdewit/pcse.git\" style = \"color: black\">PCSE</a>",
           "A framework developed for implementing crop simulation models developed in Wageningen.",
           "https://github.com/ajwdewit/pcse.git"
          ],
          [
           "<a href=\"https://github.com/JuliaOcean/PlanktonIndividuals.jl.git\" style = \"color: black\">PlanktonIndividuals.jl</a>",
           "This package simulates the behaviors of an ensemble of phytoplankton individuals.",
           "https://github.com/JuliaOcean/PlanktonIndividuals.jl.git"
          ],
          [
           "<a href=\"https://github.com/red-list-ecosystem/redlistr.git\" style = \"color: black\">redlistr</a>",
           "An R package that contains a set of tools suitable for calculating the metrics required for making assessments of species and ecosystems against the IUCN Red List of Threatened Species and the IUCN Red List of Ecosystems categories and criteria.",
           "https://github.com/red-list-ecosystem/redlistr.git"
          ],
          [
           "<a href=\"https://github.com/prioritizr/wdpar.git\" style = \"color: black\">wdpar</a>",
           "R Interface to the World Database on Protected Areas.",
           "https://github.com/prioritizr/wdpar.git"
          ],
          [
           "<a href=\"https://github.com/traitecoevo/plant.git\" style = \"color: black\">plant</a>",
           "A package for modeling forest trait ecology and evolution.",
           "https://github.com/traitecoevo/plant.git"
          ],
          [
           "<a href=\"https://github.com/alan-turing-institute/monitoring-ecosystem-resilience.git\" style = \"color: black\">monitoring-ecosystem-resilience</a>",
           "The focus is understanding vegetation patterns in semi-arid environments.",
           "https://github.com/alan-turing-institute/monitoring-ecosystem-resilience.git"
          ],
          [
           "<a href=\"https://github.com/bluegreen-labs/phenocamr.git\" style = \"color: black\">phenocamr</a>",
           "Facilitates the retrieval and post-processing of PhenoCam time series.",
           "https://github.com/bluegreen-labs/phenocamr.git"
          ],
          [
           "<a href=\"https://github.com/pinskylab/OceanAdapt.git\" style = \"color: black\">OceanAdapt</a>",
           "Provide information about the impacts of changing climate and other factors on the distribution of marine life to the National Climate Assessment, fisheries communities, policymakers, and to others.",
           "https://github.com/pinskylab/OceanAdapt.git"
          ],
          [
           "<a href=\"https://github.com/forc-db/GROA.git\" style = \"color: black\">Global Reforestation Opportunity Assessment</a>",
           "Quantify carbon sequestration in naturally regenerating forests around the world.",
           "https://github.com/forc-db/GROA.git"
          ],
          [
           "<a href=\"https://github.com/Plant-for-the-Planet-org/treecounter-app.git\" style = \"color: black\">Plant-for-the-Planet</a>",
           "Allows you to plant trees with over 100 reforestation projects around the world.",
           "https://github.com/Plant-for-the-Planet-org/treecounter-app.git"
          ],
          [
           "<a href=\"https://github.com/microsoft/aerial_wildlife_detection.git\" style = \"color: black\">Annotation Interface for Data-driven Ecology</a>",
           "Tools for detecting wildlife in aerial images using active learning.",
           "https://github.com/microsoft/aerial_wildlife_detection.git"
          ],
          [
           "<a href=\"https://github.com/pyronear/pyro-risks.git\" style = \"color: black\">Pyronear Risks</a>",
           "The pyro-risks project aims at providing the pyronear-platform with a machine learning based wildfire forecasting capability.",
           "https://github.com/pyronear/pyro-risks.git"
          ],
          [
           "<a href=\"https://github.com/Plant-for-the-Planet-org/treemapper.git\" style = \"color: black\">Tree Mapper App</a>",
           "Tree Mapper extends the Plant-for-the-Planet App and allows on site coordinate submission during plantation.",
           "https://github.com/Plant-for-the-Planet-org/treemapper.git"
          ],
          [
           "<a href=\"https://github.com/jbferet/biodivMapR.git\" style = \"color: black\">biodivMapR</a>",
           "An R package for α- and β-diversity mapping using remotely-sensed images.",
           "https://github.com/jbferet/biodivMapR.git"
          ],
          [
           "<a href=\"https://github.com/ghislainv/forestatrisk-tropics.git\" style = \"color: black\">forestatrisk</a>",
           "Forest refuge areas and carbon emissions from tropical deforestation in the 21st century.",
           "https://github.com/ghislainv/forestatrisk-tropics.git"
          ],
          [
           "<a href=\"https://github.com/martibosch/detectree.git\" style = \"color: black\">DetecTree</a>",
           "A Pythonic library to classify tree/non-tree pixels from aerial imagery.",
           "https://github.com/martibosch/detectree.git"
          ],
          [
           "<a href=\"https://github.com/wri/sentinel-tree-cover.git\" style = \"color: black\">Sentinel-Tree-Cover</a>",
           "This project maps tree extent at the ten-meter scale using open source artificial intelligence and satellite imagery.",
           "https://github.com/wri/sentinel-tree-cover.git"
          ],
          [
           "<a href=\"https://github.com/Bioverse-Labs/deep-learning.git\" style = \"color: black\">Bioverse Labs</a>",
           "Python scripts using usual frameworks in Deep Learning for pattern recognition on forest environments.",
           "https://github.com/Bioverse-Labs/deep-learning.git"
          ],
          [
           "<a href=\"https://github.com/protect-earth/TreeTracker.git\" style = \"color: black\">Tree Tracker</a>",
           "Used by people who plant trees so they don't have to manually type coordinates with pictures they took.",
           "https://github.com/protect-earth/TreeTracker.git"
          ],
          [
           "<a href=\"https://github.com/carbonplan/forest-risks.git\" style = \"color: black\">forest-risks</a>",
           "Statistical models of forest carbon potential and risks.",
           "https://github.com/carbonplan/forest-risks.git"
          ],
          [
           "<a href=\"https://github.com/carlos-alberto-silva/rGEDI.git\" style = \"color: black\">rGEDI</a>",
           "An R Package for NASA's Global Ecosystem Dynamics Investigation (GEDI) Data Visualization and Processing.",
           "https://github.com/carlos-alberto-silva/rGEDI.git"
          ],
          [
           "<a href=\"https://github.com/bcgov/wps.git\" style = \"color: black\">Wildfire Predictive Services</a>",
           "Wildfire Predictive Services to support decision making in prevention, preparedness, response and recovery.",
           "https://github.com/bcgov/wps.git"
          ],
          [
           "<a href=\"https://github.com/shmh40/detectreeRGB.git\" style = \"color: black\">detectreeRGB</a>",
           "Tree crown delineation from RGB imagery, coupled with methods to delineate tree crowns from LiDAR data.",
           "https://github.com/shmh40/detectreeRGB.git"
          ],
          [
           "<a href=\"https://github.com/karthikraja95/fsdl_deforestation_detection.git\" style = \"color: black\">FSDL Deforestation Detection</a>",
           "A deep learning approach to detecting deforestation risk, using satellite images and a deep learning model.",
           "https://github.com/karthikraja95/fsdl_deforestation_detection.git"
          ],
          [
           "<a href=\"https://github.com/technologiestiftung/giessdenkiez-de.git\" style = \"color: black\">Gieß den Kiez</a>",
           "Enable coordinated citizen participation in the irrigation of urban trees.",
           "https://github.com/technologiestiftung/giessdenkiez-de.git"
          ],
          [
           "<a href=\"https://github.com/MoBiodiv/mobr.git\" style = \"color: black\">mobr</a>",
           "Tools for analyzing changes in biodiversity across scales.",
           "https://github.com/MoBiodiv/mobr.git"
          ],
          [
           "<a href=\"https://github.com/SKrisanski/FSCT.git\" style = \"color: black\">Forest Structural Complexity Tool</a>",
           "Allowing plot scale measurements to be extracted automatically from most high-resolution forest point clouds from a variety of sensor sources.",
           "https://github.com/SKrisanski/FSCT.git"
          ],
          [
           "<a href=\"https://github.com/MAAP-Project/maap-documentation.git\" style = \"color: black\">MAAP</a>",
           "Discover and use biomass relevant data, integrating the data for comparison, analysis, evaluation, and generation.",
           "https://github.com/MAAP-Project/maap-documentation.git"
          ],
          [
           "<a href=\"https://github.com/WildMeOrg/Wildbook.git\" style = \"color: black\">Wildbook</a>",
           "Blends structured wildlife research with artificial intelligence, citizen science, and computer vision to speed population analysis and develop new insights to help fight extinction.",
           "https://github.com/WildMeOrg/Wildbook.git"
          ],
          [
           "<a href=\"https://github.com/Ecotrust/forestplanner.git\" style = \"color: black\">Forest Scenario Planner</a>",
           "An online tool for forest management scenario planning.",
           "https://github.com/Ecotrust/forestplanner.git"
          ],
          [
           "<a href=\"https://github.com/PecanProject/pecan.git\" style = \"color: black\">PEcAn</a>",
           "The Predictive Ecosystem Analyzer is an integrated ecological bioinformatics toolbox.",
           "https://github.com/PecanProject/pecan.git"
          ],
          [
           "<a href=\"https://github.com/bi0m3trics/spanner.git\" style = \"color: black\">spanner</a>",
           "Utilities to support landscape-, forest-, and tree-related data collection, manipulation, analysis, modelling, and visualization.",
           "https://github.com/bi0m3trics/spanner.git"
          ],
          [
           "<a href=\"https://github.com/Greenstand/treetracker-android.git\" style = \"color: black\">Treetracker</a>",
           "Coordinates the digital capture of tree growth data in the field, allowing to establish employment for people living in extreme poverty based on tree planting.",
           "https://github.com/Greenstand/treetracker-android.git"
          ],
          [
           "<a href=\"https://github.com/andrew-plowright/ForestTools.git\" style = \"color: black\">ForestTools</a>",
           "Detect and segment individual tree from remotely sensed data.",
           "https://github.com/andrew-plowright/ForestTools.git"
          ],
          [
           "<a href=\"https://github.com/earthlab/firedpy.git\" style = \"color: black\">FIREDpy</a>",
           "Classifying fire events from the Collection 6 MODIS Burned Area Product.",
           "https://github.com/earthlab/firedpy.git"
          ],
          [
           "<a href=\"https://github.com/BioPAL/BioPAL.git\" style = \"color: black\">BioPAL</a>",
           "The BIOMASS Product Algorithm Laboratory hosts official tools for processing and analysing ESA's BIOMASS mission data.",
           "https://github.com/BioPAL/BioPAL.git"
          ],
          [
           "<a href=\"https://github.com/eco-hydro/phenofit.git\" style = \"color: black\">phenofit</a>",
           "A state-of-the-art remote sensing vegetation phenology extraction package.",
           "https://github.com/eco-hydro/phenofit.git"
          ],
          [
           "<a href=\"https://github.com/usa-npn/rnpn.git\" style = \"color: black\">rnpn</a>",
           "R client for interacting with the USA National Phenology Network data web services.",
           "https://github.com/usa-npn/rnpn.git"
          ],
          [
           "<a href=\"https://github.com/mapme-initiative/mapme.biodiversity.git\" style = \"color: black\">mapme.biodiversity</a>",
           "Efficient analysis of spatial biodiversity datasets for global portfolios.",
           "https://github.com/mapme-initiative/mapme.biodiversity.git"
          ],
          [
           "<a href=\"https://github.com/prioritizr/prioritizr.git\" style = \"color: black\">prioritizr</a>",
           "Uses mixed integer linear programming techniques to provide a flexible interface for building and solving conservation planning problems.",
           "https://github.com/prioritizr/prioritizr.git"
          ],
          [
           "<a href=\"https://github.com/CatalogueOfLife/general.git\" style = \"color: black\">The Catalogue of Life</a>",
           "The most complete authoritative list of the world's species, maintained by hundreds of global taxonomists.",
           "https://github.com/CatalogueOfLife/general.git"
          ],
          [
           "<a href=\"https://github.com/tdwg/dwc.git\" style = \"color: black\">Darwin Core</a>",
           "Standard for sharing of information about biological diversity.",
           "https://github.com/tdwg/dwc.git"
          ],
          [
           "<a href=\"https://github.com/inaturalist/inaturalist.git\" style = \"color: black\">iNaturalist</a>",
           "Helps you identify the plants and animals around you.",
           "https://github.com/inaturalist/inaturalist.git"
          ],
          [
           "<a href=\"https://github.com/pyinat/pyinaturalist.git\" style = \"color: black\">pyinaturalist</a>",
           "Python client for iNaturalist, a community science platform that helps people get involved in the natural world by observing and identifying the living things around them.",
           "https://github.com/pyinat/pyinaturalist.git"
          ],
          [
           "<a href=\"https://github.com/SpeciesFileGroup/taxonworks.git\" style = \"color: black\">TaxonWorks</a>",
           "An integrated web-based workbench for taxonomists and biodiversity scientists.",
           "https://github.com/SpeciesFileGroup/taxonworks.git"
          ],
          [
           "<a href=\"https://github.com/adokter/bioRad.git\" style = \"color: black\">bioRad</a>",
           "R package for analysis and visualisation of biological signals in weather radar data.",
           "https://github.com/adokter/bioRad.git"
          ],
          [
           "<a href=\"https://github.com/jeffreyevans/spatialEco.git\" style = \"color: black\">spatialEco</a>",
           "R package for spatial analysis and modelling of ecological systems.",
           "https://github.com/jeffreyevans/spatialEco.git"
          ],
          [
           "<a href=\"https://github.com/EcologicalSemantics/ecocore.git\" style = \"color: black\">ecoCore</a>",
           "A standard vocabulary for the ecological community, a need expressed repeatedly over the past few years at workshops focused on ecological, environmental, and population-based semantics.",
           "https://github.com/EcologicalSemantics/ecocore.git"
          ],
          [
           "<a href=\"https://github.com/cdmuir/photosynthesis.git\" style = \"color: black\">photosynthesis</a>",
           "An R package with modeling tools for C3 photosynthesis, as well as analytical tools for curve-fitting plant ecophysiology responses.",
           "https://github.com/cdmuir/photosynthesis.git"
          ],
          [
           "<a href=\"https://github.com/hunter-stanke/rFIA.git\" style = \"color: black\">rFIA</a>",
           "Increase the accessibility and use of the USFS Forest Inventory and Analysis Database by providing a user-friendly, open source platform to easily query and analyze.",
           "https://github.com/hunter-stanke/rFIA.git"
          ],
          [
           "<a href=\"https://github.com/nansencenter/sea_ice_drift.git\" style = \"color: black\">Sea ice drift</a>",
           "Sea ice drift from Sentinel-1 SAR imagery using open source feature tracking.",
           "https://github.com/nansencenter/sea_ice_drift.git"
          ],
          [
           "<a href=\"https://github.com/smrt-model/smrt.git\" style = \"color: black\">smrt</a>",
           "Snow Microwave Radiative Transfer model to compute thermal emission and backscatter from snowpack.",
           "https://github.com/smrt-model/smrt.git"
          ],
          [
           "<a href=\"https://github.com/OGGM/oggm.git\" style = \"color: black\">OGGM</a>",
           "A modular open source model for glacier dynamics.",
           "https://github.com/OGGM/oggm.git"
          ],
          [
           "<a href=\"https://github.com/CICE-Consortium/CICE.git\" style = \"color: black\">CICE</a>",
           "A computationally efficient model for simulating the growth, melting, and movement of polar sea ice.",
           "https://github.com/CICE-Consortium/CICE.git"
          ],
          [
           "<a href=\"https://github.com/pism/pism.git\" style = \"color: black\">PISM</a>",
           "The Parallel Ice Sheet Model is an open source, parallel, high-resolution ice sheet model.",
           "https://github.com/pism/pism.git"
          ],
          [
           "<a href=\"https://github.com/CICE-Consortium/Icepack.git\" style = \"color: black\">icepack</a>",
           "Finite element modeling of glaciers and ice sheets.",
           "https://github.com/CICE-Consortium/Icepack.git"
          ],
          [
           "<a href=\"https://github.com/weiji14/deepbedmap.git\" style = \"color: black\">DeepBedMap</a>",
           "Using a deep neural network to better resolve the bed topography of Antarctica.",
           "https://github.com/weiji14/deepbedmap.git"
          ],
          [
           "<a href=\"https://github.com/nasa-jpl/captoolkit.git\" style = \"color: black\">captoolkit</a>",
           "NASA's Cryosphere Altimetry Processing Toolkit.",
           "https://github.com/nasa-jpl/captoolkit.git"
          ],
          [
           "<a href=\"https://github.com/vannizhang/sea-ice.git\" style = \"color: black\">sea-ice</a>",
           "Displays the monthly mean sea ice extent for the Arctic and Antarctic along with the historical median extent.",
           "https://github.com/vannizhang/sea-ice.git"
          ],
          [
           "<a href=\"https://github.com/NOAA-GFDL/SIS2.git\" style = \"color: black\">SIS2</a>",
           "Calculates the concentration, thickness, temperature, brine content and snow cover of an arbitrary number of ice thickness categories (including open water) as well as the motion of the complete pack.",
           "https://github.com/NOAA-GFDL/SIS2.git"
          ],
          [
           "<a href=\"https://github.com/GEUS-Glaciology-and-Climate/freshwater.git\" style = \"color: black\">freshwater</a>",
           "Greenland liquid water runoff from 1958 through 2019.",
           "https://github.com/GEUS-Glaciology-and-Climate/freshwater.git"
          ],
          [
           "<a href=\"https://github.com/PennyHow/PyTrx.git\" style = \"color: black\">PyTrx</a>",
           "Its primary purpose is to obtain velocities, surface areas, and distances from oblique, optical imagery of glacial environments.",
           "https://github.com/PennyHow/PyTrx.git"
          ],
          [
           "<a href=\"https://github.com/ECCO-GROUP/ECCO-v4-Python-Tutorial.git\" style = \"color: black\">ECCO-v4-Python-Tutorial</a>",
           "Contains several tutorials for using the ECCO Central Production Version 4 ocean and sea-ice state estimate.",
           "https://github.com/ECCO-GROUP/ECCO-v4-Python-Tutorial.git"
          ],
          [
           "<a href=\"https://github.com/icesat2py/icepyx.git\" style = \"color: black\">icepyx</a>",
           "Python tools for obtaining and working with ICESat-2 data.",
           "https://github.com/icesat2py/icepyx.git"
          ],
          [
           "<a href=\"https://github.com/chadagreene/BedMachine.git\" style = \"color: black\">BedMachine</a>",
           "Matlab tools for loading, interpolating, and displaying BedMachine ice sheet topography.",
           "https://github.com/chadagreene/BedMachine.git"
          ],
          [
           "<a href=\"https://github.com/Joel-hanson/Iceberg-locations.git\" style = \"color: black\">Iceberg Locations</a>",
           "Antarctic large iceberg positions derived from ASCAT and OSCAT-2.",
           "https://github.com/Joel-hanson/Iceberg-locations.git"
          ],
          [
           "<a href=\"https://github.com/krisrs1128/glacier_mapping.git\" style = \"color: black\">Glacier Mapping From Satellite Imagery</a>",
           "Use computer vision to automatically segment debris and ice glaciers from satellite images.",
           "https://github.com/krisrs1128/glacier_mapping.git"
          ],
          [
           "<a href=\"https://github.com/weiji14/deepicedrain.git\" style = \"color: black\">DeepIceDrain</a>",
           "Mapping and monitoring deep subglacial water activity in Antarctica using remote sensing and machine learning.",
           "https://github.com/weiji14/deepicedrain.git"
          ],
          [
           "<a href=\"https://github.com/cryotools/cosipy.git\" style = \"color: black\">cosipy</a>",
           "Solves the energy balance at the surface and is coupled to an adaptive vertical multi-layer subsurface module.",
           "https://github.com/cryotools/cosipy.git"
          ],
          [
           "<a href=\"https://github.com/nsidc/qgreenland.git\" style = \"color: black\">QGreenland</a>",
           "A free mapping tool to support interdisciplinary Greenland-focused research, teaching, decision making, and collaboration.",
           "https://github.com/nsidc/qgreenland.git"
          ],
          [
           "<a href=\"https://github.com/jmcook1186/biosnicar-py.git\" style = \"color: black\">BioSNICAR</a>",
           "Predicts the spectral albedo of snow and glacier ice between 200nm to 5000nm given information about the illumination conditions, ice structure and the type and concentration particulates.",
           "https://github.com/jmcook1186/biosnicar-py.git"
          ],
          [
           "<a href=\"https://github.com/Ouranosinc/raven.git\" style = \"color: black\">Raven</a>",
           "Made to help scientists run hydrological modeling experiments with climate change projections.",
           "https://github.com/Ouranosinc/raven.git"
          ],
          [
           "<a href=\"https://github.com/NorESMhub/BLOM.git\" style = \"color: black\">Bergen Layered Ocean Model</a>",
           "Employs an isopycnic vertical coordinate, with near-isopycnic interior layers and variable density layers in the surface mixed boundary layer.",
           "https://github.com/NorESMhub/BLOM.git"
          ],
          [
           "<a href=\"https://github.com/CliMA/Oceananigans.jl.git\" style = \"color: black\">Oceananigans.jl</a>",
           "Fast and friendly fluid dynamics on CPUs and GPUs.",
           "https://github.com/CliMA/Oceananigans.jl.git"
          ],
          [
           "<a href=\"https://github.com/CliMA/LESbrary.jl.git\" style = \"color: black\">LESbrary.jl</a>",
           "Generating a library of ocean turbulence large eddy simulation data to train ocean and climate models.",
           "https://github.com/CliMA/LESbrary.jl.git"
          ],
          [
           "<a href=\"https://github.com/ropensci/rrricanes.git\" style = \"color: black\">rrricanes</a>",
           "An R library that extracts information from Atlantic and east Pacific hurricanes and tropical storms.",
           "https://github.com/ropensci/rrricanes.git"
          ],
          [
           "<a href=\"https://github.com/ropensci/hydroscoper.git\" style = \"color: black\">hydroscoper</a>",
           "An R interface to the Greek National Data Bank for Hydrometeorological Information.",
           "https://github.com/ropensci/hydroscoper.git"
          ],
          [
           "<a href=\"https://github.com/OpenDrift/opendrift.git\" style = \"color: black\">OpenDrift</a>",
           "A software for modeling the trajectories and fate of objects or substances drifting in the ocean, or even in the atmosphere.",
           "https://github.com/OpenDrift/opendrift.git"
          ],
          [
           "<a href=\"https://github.com/hainegroup/oceanspy.git\" style = \"color: black\">OceanSpy</a>",
           "An open source and user-friendly Python package that enables scientists and interested amateurs to analyze and visualize ocean model datasets.",
           "https://github.com/hainegroup/oceanspy.git"
          ],
          [
           "<a href=\"https://github.com/SciTools/iris.git\" style = \"color: black\">Iris</a>",
           "A powerful, format-agnostic, community-driven Python package for analyzing and visualizing Earth science data.",
           "https://github.com/SciTools/iris.git"
          ],
          [
           "<a href=\"https://github.com/team-ocean/veros.git\" style = \"color: black\">Veros</a>",
           "Powerful tool that makes high-performance ocean modeling approachable and fun.",
           "https://github.com/team-ocean/veros.git"
          ],
          [
           "<a href=\"https://github.com/dankelley/oce.git\" style = \"color: black\">oce</a>",
           "An R package for oceanographic processing.",
           "https://github.com/dankelley/oce.git"
          ],
          [
           "<a href=\"https://github.com/DFO-Ocean-Navigator/Ocean-Data-Map-Project.git\" style = \"color: black\">Ocean-Data-Map-Project</a>",
           "A Data Visualization tool that enables users to discover and view 3D ocean model output quickly and easily.",
           "https://github.com/DFO-Ocean-Navigator/Ocean-Data-Map-Project.git"
          ],
          [
           "<a href=\"https://github.com/ecjoliver/marineHeatWaves.git\" style = \"color: black\">marineHeatWaves</a>",
           "A module for Python which implements the Marine Heatwave definition of Hobday et al. (2016).",
           "https://github.com/ecjoliver/marineHeatWaves.git"
          ],
          [
           "<a href=\"https://github.com/robwschlegel/heatwaveR.git\" style = \"color: black\">heatwaveR</a>",
           "Contains the original functions from the RmarineHeatWaves package that calculate and display marine heatwaves according to the definition of Hobday et al. (2016).",
           "https://github.com/robwschlegel/heatwaveR.git"
          ],
          [
           "<a href=\"https://github.com/MITgcm/MITgcm.git\" style = \"color: black\">MITgcm</a>",
           "A flexible non-hydrostatic formulation that efficiently simulates fluid phenomena over a wide range of scales.",
           "https://github.com/MITgcm/MITgcm.git"
          ],
          [
           "<a href=\"https://github.com/NCAR/VAPOR.git\" style = \"color: black\">VAPOR</a>",
           "The Visualization and Analysis Platform for Ocean, Atmosphere and Solar Researchers.",
           "https://github.com/NCAR/VAPOR.git"
          ],
          [
           "<a href=\"https://github.com/beijbom/coralnet.git\" style = \"color: black\">CoralNet</a>",
           "A repository and resource for benthic image analysis.",
           "https://github.com/beijbom/coralnet.git"
          ],
          [
           "<a href=\"https://github.com/NOAA-PMEL/Ferret.git\" style = \"color: black\">Ferret</a>",
           "An interactive computer visualization and analysis environment designed to meet the needs of oceanographers and meteorologists analyzing large and complex gridded datasets.",
           "https://github.com/NOAA-PMEL/Ferret.git"
          ],
          [
           "<a href=\"https://github.com/NCAR/ccpp-physics.git\" style = \"color: black\">ccpp-physics</a>",
           "The Common Community Physics Package is designed to facilitate the implementation of physics innovations in state-of-the-art atmospheric models, the use of various models to develop physics, and the acceleration of transition of physics innovations to operational NOAA models.",
           "https://github.com/NCAR/ccpp-physics.git"
          ],
          [
           "<a href=\"https://github.com/ropensci/rnoaa.git\" style = \"color: black\">rnoaa</a>",
           "An R interface to many National Oceanic and Atmospheric Administration data sources.",
           "https://github.com/ropensci/rnoaa.git"
          ],
          [
           "<a href=\"https://github.com/OceanParcels/parcels.git\" style = \"color: black\">parcels</a>",
           "Can be used to track passive and active particulates such as water, plankton, plastic and fish.",
           "https://github.com/OceanParcels/parcels.git"
          ],
          [
           "<a href=\"https://github.com/Mohid-Water-Modelling-System/MOHID-Lagrangian.git\" style = \"color: black\">MOHID-Lagrangian</a>",
           "Mainly developed for oceanographic and fluvial modeling, application to atmospheric and other planetary settings should be trivial.",
           "https://github.com/Mohid-Water-Modelling-System/MOHID-Lagrangian.git"
          ],
          [
           "<a href=\"https://github.com/Mohid-Water-Modelling-System/Mohid.git\" style = \"color: black\">Mohid</a>",
           "A modular finite volumes water-modeling system written in ANSI-Fortran95 using an Object-oriented programming philosophy, integrating diverse mathematical models and supporting graphical user interfaces that manage all the pre- and post-processing.",
           "https://github.com/Mohid-Water-Modelling-System/Mohid.git"
          ],
          [
           "<a href=\"https://github.com/JuliaOcean/AIBECS.jl.git\" style = \"color: black\">AIBECS.jl</a>",
           "A Julia package that provides ocean biogeochemistry modelers with an easy-to-use interface for creating and running models of the ocean system.",
           "https://github.com/JuliaOcean/AIBECS.jl.git"
          ],
          [
           "<a href=\"https://github.com/meom-group/CDFTOOLS.git\" style = \"color: black\">CDFTOOLS</a>",
           "A Fortran package for analysis and diagnostics on NEMO ocean model output.",
           "https://github.com/meom-group/CDFTOOLS.git"
          ],
          [
           "<a href=\"https://github.com/gotm-model/code.git\" style = \"color: black\">GOTM</a>",
           "The General Ocean Turbulence Model is an ambitious name for a one-dimensional water column model for marine and limnological applications.",
           "https://github.com/gotm-model/code.git"
          ],
          [
           "<a href=\"https://github.com/ESMG/pyroms.git\" style = \"color: black\">pyroms</a>",
           "A collection of tools to process input and output files from the Regional Ocean Modeling System.",
           "https://github.com/ESMG/pyroms.git"
          ],
          [
           "<a href=\"https://github.com/rabernat/intro_to_physical_oceanography.git\" style = \"color: black\">Intro to Physical Oceanography</a>",
           "Course materials for Introduction to Physical Oceanography.",
           "https://github.com/rabernat/intro_to_physical_oceanography.git"
          ],
          [
           "<a href=\"https://github.com/NCAR/wrf_hydro_nwm_public.git\" style = \"color: black\">WRF-Hydro</a>",
           "A community modeling system and framework for hydrologic modeling and model coupling.",
           "https://github.com/NCAR/wrf_hydro_nwm_public.git"
          ],
          [
           "<a href=\"https://github.com/UU-Hydro/PCR-GLOBWB_model.git\" style = \"color: black\">PCR-GLOBWB_model</a>",
           "A large-scale hydrological model intended for global to regional studies.",
           "https://github.com/UU-Hydro/PCR-GLOBWB_model.git"
          ],
          [
           "<a href=\"https://github.com/hydroshare/hydroshare.git\" style = \"color: black\">HydroShare</a>",
           "A collaborative website for better access to data and models in the hydrologic sciences.",
           "https://github.com/hydroshare/hydroshare.git"
          ],
          [
           "<a href=\"https://github.com/DrylandEcology/SOILWAT2.git\" style = \"color: black\">SOILWAT2</a>",
           "An ecosystem water balance simulation model.",
           "https://github.com/DrylandEcology/SOILWAT2.git"
          ],
          [
           "<a href=\"https://github.com/passaH2O/dorado.git\" style = \"color: black\">dorado</a>",
           "Simulating passive Lagrangian particle transport over flow-fields from any 2D shallow-water hydrodynamic model using a weighted random walk methodology.",
           "https://github.com/passaH2O/dorado.git"
          ],
          [
           "<a href=\"https://github.com/AustralianAntarcticDivision/blueant.git\" style = \"color: black\">Blueant</a>",
           "Environmental data for Antarctic and Southern Ocean science.",
           "https://github.com/AustralianAntarcticDivision/blueant.git"
          ],
          [
           "<a href=\"https://github.com/jamesorr/CO2SYS-MATLAB.git\" style = \"color: black\">CO2SYS</a>",
           " A MATLAB (or Octave) project to compute variables of ocean CO2 systems.",
           "https://github.com/jamesorr/CO2SYS-MATLAB.git"
          ],
          [
           "<a href=\"https://github.com/jpgattuso/seacarb-git.git\" style = \"color: black\">seacarb</a>",
           "An R package that calculates various parameters of the carbonate system in seawater.",
           "https://github.com/jpgattuso/seacarb-git.git"
          ],
          [
           "<a href=\"https://github.com/VeinsOfTheEarth/RivGraph.git\" style = \"color: black\">RivGraph</a>",
           "Extracting and quantifying graphical representations of river and delta channel networks from binary masks.",
           "https://github.com/VeinsOfTheEarth/RivGraph.git"
          ],
          [
           "<a href=\"https://github.com/GClunies/noaa_coops.git\" style = \"color: black\">noaa_coops</a>",
           " A Python wrapper for the NOAA CO-OPS Tides & Currents Data and Metadata APIs.",
           "https://github.com/GClunies/noaa_coops.git"
          ],
          [
           "<a href=\"https://github.com/COSIMA/cosima-cookbook.git\" style = \"color: black\">COSIMA</a>",
           "Ocean and sea-ice model analysis tools and examples.",
           "https://github.com/COSIMA/cosima-cookbook.git"
          ],
          [
           "<a href=\"https://github.com/cordmaur/WaterDetect.git\" style = \"color: black\">WaterDetect</a>",
           "End-to-end algorithm to generate open water cover mask, specially conceived for L2A Sentinel 2 imagery from MAJA1 processor, without any a priori knowledge on the scene.",
           "https://github.com/cordmaur/WaterDetect.git"
          ],
          [
           "<a href=\"https://github.com/FLARE-forecast/FLAREr.git\" style = \"color: black\">FLAREr</a>",
           "Flexible, scalable, robust, and near-real time iterative ecological forecasts in lakes and reservoirs.",
           "https://github.com/FLARE-forecast/FLAREr.git"
          ],
          [
           "<a href=\"https://github.com/hyriver/hyriver.github.io.git\" style = \"color: black\">HyRiver</a>",
           "A Python software stack for retrieving hydroclimate data from web services.",
           "https://github.com/hyriver/hyriver.github.io.git"
          ],
          [
           "<a href=\"https://github.com/Deltares/Wflow.jl.git\" style = \"color: black\">Wflow</a>",
           "A Julia package that provides a hydrological modeling framework, as well as several different vertical and lateral concepts that can be used to run hydrological simulations.",
           "https://github.com/Deltares/Wflow.jl.git"
          ],
          [
           "<a href=\"https://github.com/parflow/parflow.git\" style = \"color: black\">ParFlow</a>",
           "An open-source, modular, parallel watershed flow model.",
           "https://github.com/parflow/parflow.git"
          ],
          [
           "<a href=\"https://github.com/sdl60660/river-runner.git\" style = \"color: black\">River Runner</a>",
           "Visualize the path of a rain droplet from any point in the contiguous United States to its end point.",
           "https://github.com/sdl60660/river-runner.git"
          ],
          [
           "<a href=\"https://github.com/ESIPFed/LakePy.git\" style = \"color: black\">LakePy</a>",
           "Pythonic user-centered front-end to the Global Lake Level Database.",
           "https://github.com/ESIPFed/LakePy.git"
          ],
          [
           "<a href=\"https://github.com/mkoohafkan/rivr.git\" style = \"color: black\">rivr</a>",
           "Designed as an educational tool for students and instructors of undergraduate and graduate courses in open channel hydraulics.",
           "https://github.com/mkoohafkan/rivr.git"
          ],
          [
           "<a href=\"https://github.com/aqualinkorg/aqualink-app.git\" style = \"color: black\">Aqualink</a>",
           "A philanthropically funded system to help people manage their local marine ecosystems in the face of increasing Ocean temperatures.",
           "https://github.com/aqualinkorg/aqualink-app.git"
          ],
          [
           "<a href=\"https://github.com/euroargodev/argopy.git\" style = \"color: black\">argopy</a>",
           "A global network of nearly 4000 autonomous probes measuring pressure, temperature and salinity from the surface to 2000m depth every 10 days.",
           "https://github.com/euroargodev/argopy.git"
          ],
          [
           "<a href=\"https://github.com/eWaterCycle/ewatercycle.git\" style = \"color: black\">eWaterCycle</a>",
           "Makes it easier to use hydrological models without having intimate knowledge about how to install and run the models.",
           "https://github.com/eWaterCycle/ewatercycle.git"
          ],
          [
           "<a href=\"https://github.com/RHESSys/RHESSys.git\" style = \"color: black\">RHESSys</a>",
           "The Regional Hydro-Ecologic Simulation System.",
           "https://github.com/RHESSys/RHESSys.git"
          ],
          [
           "<a href=\"https://github.com/ropensci/tidyhydat.git\" style = \"color: black\">tidyhydat</a>",
           "An R package to import Water Survey of Canada hydrometric data and make it tidy.",
           "https://github.com/ropensci/tidyhydat.git"
          ],
          [
           "<a href=\"https://github.com/mvdh7/PyCO2SYS.git\" style = \"color: black\">PyCO2SYS</a>",
           "Marine carbonate system calculations in Python.",
           "https://github.com/mvdh7/PyCO2SYS.git"
          ],
          [
           "<a href=\"https://github.com/pastas/pastas.git\" style = \"color: black\">Pastas</a>",
           "An open-source Python framework for the analysis of groundwater time series.",
           "https://github.com/pastas/pastas.git"
          ],
          [
           "<a href=\"https://github.com/USGS-R/river-dl.git\" style = \"color: black\">river-dl</a>",
           "Deep learning model for predicting environmental variables on river systems.",
           "https://github.com/USGS-R/river-dl.git"
          ],
          [
           "<a href=\"https://github.com/UW-Hydro/VIC.git\" style = \"color: black\">VIC</a>",
           "A macroscale hydrologic model that solves full water and energy balances.",
           "https://github.com/UW-Hydro/VIC.git"
          ],
          [
           "<a href=\"https://github.com/badlands-model/badlands.git\" style = \"color: black\">Badlands</a>",
           "Basin and Landscape Dynamics is a long-term surface evolution model built to simulate landscape development, sediment transport and sedimentary basins formation from upstream regions down to marine environments.",
           "https://github.com/badlands-model/badlands.git"
          ],
          [
           "<a href=\"https://github.com/Climdyn/qgs.git\" style = \"color: black\">qgs</a>",
           "Models the dynamics of a 2-layer quasi-geostrophic channel atmosphere on a beta-plane, coupled to a simple land or shallow-water ocean component.",
           "https://github.com/Climdyn/qgs.git"
          ],
          [
           "<a href=\"https://github.com/onaci/leaflet-velocity.git\" style = \"color: black\">leaflet-velocity</a>",
           "Create a canvas visualization layer for direction and intensity of arbitrary velocities (e.g. wind, ocean current).",
           "https://github.com/onaci/leaflet-velocity.git"
          ],
          [
           "<a href=\"https://github.com/chrisleaman/py-wave-runup.git\" style = \"color: black\">py-wave-runup</a>",
           "A Python module which makes it easy for coastal engineers and scientists to test and use various empirical wave runup models which have been published in literature.",
           "https://github.com/chrisleaman/py-wave-runup.git"
          ],
          [
           "<a href=\"https://github.com/timduly4/pyglow.git\" style = \"color: black\">pyglow</a>",
           "A Python module that wraps several upper atmosphere climatological models written in FORTRAN.",
           "https://github.com/timduly4/pyglow.git"
          ],
          [
           "<a href=\"https://github.com/OasisLMF/OasisPiWind.git\" style = \"color: black\">OasisPiWind</a>",
           "PiWind is a wind storm model for a small area of the UK.",
           "https://github.com/OasisLMF/OasisPiWind.git"
          ],
          [
           "<a href=\"https://github.com/slcs-jsc/mptrac.git\" style = \"color: black\">Massive-Parallel Trajectory Calculations</a>",
           "A Lagrangian particle dispersion model for the analysis of atmospheric transport processes in the free troposphere and stratosphere.",
           "https://github.com/slcs-jsc/mptrac.git"
          ],
          [
           "<a href=\"https://github.com/NCAR/icar.git\" style = \"color: black\">ICAR</a>",
           "A simplified atmospheric model designed primarily for climate downscaling, atmospheric sensitivity tests, and hopefully educational uses.",
           "https://github.com/NCAR/icar.git"
          ],
          [
           "<a href=\"https://github.com/rich-iannone/splitr.git\" style = \"color: black\">splitr</a>",
           "We can determine, from one or more receptor sites, where arriving air masses originated.",
           "https://github.com/rich-iannone/splitr.git"
          ],
          [
           "<a href=\"https://github.com/simonom/PyCHAM.git\" style = \"color: black\">PyCHAM</a>",
           "CHemistry with Aerosol Microphysics in Python box model for Windows, Linux and Mac.",
           "https://github.com/simonom/PyCHAM.git"
          ],
          [
           "<a href=\"https://github.com/CNES/MAJA.git\" style = \"color: black\">maja</a>",
           "An atmospheric correction and cloud screening software.",
           "https://github.com/CNES/MAJA.git"
          ],
          [
           "<a href=\"https://github.com/Open-MSS/MSS.git\" style = \"color: black\">Mission Support System</a>",
           "A collaboration server to plan atmospheric research flights.",
           "https://github.com/Open-MSS/MSS.git"
          ],
          [
           "<a href=\"https://github.com/mjucker/MiMA.git\" style = \"color: black\">MiMA</a>",
           "Model of an idealized Moist Atmosphere: Intermediate-complexity General Circulation Model with full radiation.",
           "https://github.com/mjucker/MiMA.git"
          ],
          [
           "<a href=\"https://github.com/space-physics/lowtran.git\" style = \"color: black\">lowtran</a>",
           "Atmospheric absorption extinction, scatter and irradiance model in Python and Matlab.",
           "https://github.com/space-physics/lowtran.git"
          ],
          [
           "<a href=\"https://github.com/ExeClim/Isca.git\" style = \"color: black\">Isca</a>",
           "A framework for the idealized modeling of the global circulation of planetary atmospheres at varying levels of complexity and realism.",
           "https://github.com/ExeClim/Isca.git"
          ],
          [
           "<a href=\"https://github.com/oceanflux-ghg/FluxEngine.git\" style = \"color: black\">FluxEngine</a>",
           "An open source atmosphere ocean gas flux data processing toolbox.",
           "https://github.com/oceanflux-ghg/FluxEngine.git"
          ],
          [
           "<a href=\"https://github.com/openeemeter/eeweather.git\" style = \"color: black\">eeweather</a>",
           "Fetch NCDC ISD, TMY3, or CZ2010 weather data that corresponds to ZIP Code Tabulation Areas or Latitude/Longitude.",
           "https://github.com/openeemeter/eeweather.git"
          ],
          [
           "<a href=\"https://github.com/GralDispersionModel/GRAL.git\" style = \"color: black\">GRAL</a>",
           "Provides a CFD model for the flow calculation around buildings or micrsocale terrain structures.",
           "https://github.com/GralDispersionModel/GRAL.git"
          ],
          [
           "<a href=\"https://github.com/geoschem/geos-chem.git\" style = \"color: black\">GEOS-Chem</a>",
           "Advance understanding of human and natural influences on the environment through a comprehensive, state-of-the-science, readily accessible global model of atmospheric composition.",
           "https://github.com/geoschem/geos-chem.git"
          ],
          [
           "<a href=\"https://github.com/E3SM-Project/scream.git\" style = \"color: black\">SCREAM</a>",
           "A global atmosphere model targeted towards 3 km (\"cloud resolving\") resolution.",
           "https://github.com/E3SM-Project/scream.git"
          ],
          [
           "<a href=\"https://github.com/CliMA/RRTMGP.jl.git\" style = \"color: black\">RRTMGP.jl</a>",
           "A Julia implementation of Rapid and accurate Radiative Transfer Model for General Circulation Models.",
           "https://github.com/CliMA/RRTMGP.jl.git"
          ],
          [
           "<a href=\"https://github.com/geoschem/gcpy.git\" style = \"color: black\">gcpy</a>",
           "A Python-based toolkit containing useful functions for working specifically with the GEOS-Chem model of atmospheric chemistry and composition.",
           "https://github.com/geoschem/gcpy.git"
          ],
          [
           "<a href=\"https://github.com/byrd-polar/fluid-earth.git\" style = \"color: black\">Fluid Earth</a>",
           "Open-source Visualization of Weather and Climate Data.",
           "https://github.com/byrd-polar/fluid-earth.git"
          ],
          [
           "<a href=\"https://github.com/ESMValGroup/ESMValTool.git\" style = \"color: black\">ESMValTool</a>",
           "A community diagnostic and performance metrics tool for routine evaluation of Earth system models in World Climate Research Programme.",
           "https://github.com/ESMValGroup/ESMValTool.git"
          ],
          [
           "<a href=\"https://github.com/NOAA-GFDL/FMS.git\" style = \"color: black\">The Flexible Modeling System</a>",
           "A software framework for supporting the efficient development, construction, execution, and scientific interpretation of atmospheric, oceanic, and climate system models.",
           "https://github.com/NOAA-GFDL/FMS.git"
          ],
          [
           "<a href=\"https://github.com/NOAA-EMC/global-workflow.git\" style = \"color: black\">global-workflow</a>",
           "Global Superstructure/Workflow currently supporting the Finite-Volume on a Cubed-Sphere Global Forecast System.",
           "https://github.com/NOAA-EMC/global-workflow.git"
          ],
          [
           "<a href=\"https://github.com/EarthSystemDiagnostics/sedproxy.git\" style = \"color: black\">sedproxy</a>",
           "An R package for modeling sediment archived climate proxy records.",
           "https://github.com/EarthSystemDiagnostics/sedproxy.git"
          ],
          [
           "<a href=\"https://github.com/pangeo-data/pangeo.git\" style = \"color: black\">pangeo</a>",
           "A community platform for Big Data geoscience.",
           "https://github.com/pangeo-data/pangeo.git"
          ],
          [
           "<a href=\"https://github.com/ESCOMP/CMEPS.git\" style = \"color: black\">CMEPS</a>",
           "The Community Mediator for Earth Prediction Systems (CMEPS) is a NUOPC-compliant Mediator component used for coupling Earth system model component.",
           "https://github.com/ESCOMP/CMEPS.git"
          ],
          [
           "<a href=\"https://github.com/E3SM-Project/E3SM.git\" style = \"color: black\">E3SM</a>",
           "A state-of-the-art fully coupled model of the Earth's climate including important biogeochemical and cryospheric processes.",
           "https://github.com/E3SM-Project/E3SM.git"
          ],
          [
           "<a href=\"https://github.com/E3SM-Project/e3sm_diags.git\" style = \"color: black\">E3SM Diagnostics Package</a>",
           "Diagnostics package constructed for supporting the diagnostics task of DOE's Energy Exascale Earth System Model (E3SM) project.",
           "https://github.com/E3SM-Project/e3sm_diags.git"
          ],
          [
           "<a href=\"https://github.com/NOAA-GFDL/MDTF-diagnostics.git\" style = \"color: black\">MDTF-diagnostics</a>",
           "Analysis framework and collection of process-oriented diagnostics for weather and climate simulations.",
           "https://github.com/NOAA-GFDL/MDTF-diagnostics.git"
          ],
          [
           "<a href=\"https://github.com/ESCOMP/CESM.git\" style = \"color: black\">The Community Earth System Model</a>",
           "Composed of separate models simultaneously simulating the Earth's atmosphere, ocean, land, river run-off, land-ice, and sea-ice, plus one central coupler/moderator component, it allows researchers to conduct fundamental research into the Earth's past, present, and future climate states.",
           "https://github.com/ESCOMP/CESM.git"
          ],
          [
           "<a href=\"https://github.com/JuliaClimate/ClimateBase.jl.git\" style = \"color: black\">ClimateBase.jl</a>",
           "A Julia package offering basic functionality for analyzing data that are typically in the form used by climate sciences.",
           "https://github.com/JuliaClimate/ClimateBase.jl.git"
          ],
          [
           "<a href=\"https://github.com/CliMA/Land.git\" style = \"color: black\">CLIMA-Land</a>",
           "Everything within the Land model (Soil Plant Atmosphere Module, Land Hydrology, etc).",
           "https://github.com/CliMA/Land.git"
          ],
          [
           "<a href=\"https://github.com/LBL-EESA/TECA.git\" style = \"color: black\">TECA</a>",
           "The Toolkit for Extreme Climate Analysis, contains a collection of climate anlysis algorithms targetted at extreme event detection and analysis.",
           "https://github.com/LBL-EESA/TECA.git"
          ],
          [
           "<a href=\"https://github.com/monocongo/climate_indices.git\" style = \"color: black\">Climate_Indices</a>",
           "Contains Python implementations of various climate index algorithms which provide a geographical and temporal picture of the severity of precipitation and temperature anomalies useful for climate monitoring and research.",
           "https://github.com/monocongo/climate_indices.git"
          ],
          [
           "<a href=\"https://github.com/ECCC-ASTD-MRD/gem.git\" style = \"color: black\">The Global Environmental Multiscale Model</a>",
           "An integrated forecasting and data assimilation system developed by the Atmospheric Numerical Prediction Research Section, Meteorological Research Division, of Environment and Climate Change Canada.",
           "https://github.com/ECCC-ASTD-MRD/gem.git"
          ],
          [
           "<a href=\"https://github.com/CliMA/ClimateMachine.jl.git\" style = \"color: black\">ClimateMachine.jl</a>",
           "Climate Machine: an Earth System Model that automatically learns from data.",
           "https://github.com/CliMA/ClimateMachine.jl.git"
          ],
          [
           "<a href=\"https://github.com/ecmwf/atlas.git\" style = \"color: black\">atlas</a>",
           "A library for numerical weather prediction and climate modeling.",
           "https://github.com/ecmwf/atlas.git"
          ],
          [
           "<a href=\"https://github.com/NOAA-GFDL/MOM6.git\" style = \"color: black\">MOM6</a>",
           "A numerical representation of the ocean fluid with applications from the process scale to the planetary circulation scale.",
           "https://github.com/NOAA-GFDL/MOM6.git"
          ],
          [
           "<a href=\"https://github.com/mom-ocean/MOM5.git\" style = \"color: black\">MOM5</a>",
           "A numerical ocean model based on the hydrostatic primitive equations. Development of the model is managed through this GitHub site.",
           "https://github.com/mom-ocean/MOM5.git"
          ],
          [
           "<a href=\"https://github.com/JGCRI/hector.git\" style = \"color: black\">hector</a>",
           "An open source, object-oriented, simple global climate carbon-cycle model.",
           "https://github.com/JGCRI/hector.git"
          ],
          [
           "<a href=\"https://github.com/openclimatedata/pyhector.git\" style = \"color: black\">pyhector</a>",
           "A Python interface for the simple global climate carbon-cycle model Hector.",
           "https://github.com/openclimatedata/pyhector.git"
          ],
          [
           "<a href=\"https://github.com/NorESMhub/NorESM.git\" style = \"color: black\">NorESM</a>",
           "Norwegian Earth System Model and Documentation.",
           "https://github.com/NorESMhub/NorESM.git"
          ],
          [
           "<a href=\"https://github.com/CliMT/climt.git\" style = \"color: black\">CliMT</a>",
           "A Toolkit for building Earth system models in Python.",
           "https://github.com/CliMT/climt.git"
          ],
          [
           "<a href=\"https://github.com/climlab/climlab.git\" style = \"color: black\">climlab</a>",
           "A Python package for process-oriented climate modeling.",
           "https://github.com/climlab/climlab.git"
          ],
          [
           "<a href=\"https://github.com/CLIMADA-project/climada_python.git\" style = \"color: black\">CLIMADA</a>",
           "Stands for CLIMate ADAptation and is a probabilistic natural catastrophe impact model, that also calculates averted damage (benefit) thanks to adaptation measures of any kind (from grey to green infrastructure, behavioural, etc.).",
           "https://github.com/CLIMADA-project/climada_python.git"
          ],
          [
           "<a href=\"https://github.com/ClimateMARGO/ClimateMARGO.jl.git\" style = \"color: black\">ClimateMARGO.jl</a>",
           "A Julia implementation of MARGO, an idealized framework for optimization of climate change control strategies.",
           "https://github.com/ClimateMARGO/ClimateMARGO.jl.git"
          ],
          [
           "<a href=\"https://github.com/JuliaClimate/ClimateTools.jl.git\" style = \"color: black\">ClimateTools.jl</a>",
           "A collection of commonly-used tools in climate science. Basics of climate field analysis are covered, with some forays into exploratory techniques associated with climate scenarios design.",
           "https://github.com/JuliaClimate/ClimateTools.jl.git"
          ],
          [
           "<a href=\"https://github.com/UW-Hydro/MetSim.git\" style = \"color: black\">MetSim</a>",
           "A meteorological simulator and forcing disaggregator for hydrologic modeling and climate applications.",
           "https://github.com/UW-Hydro/MetSim.git"
          ],
          [
           "<a href=\"https://github.com/esmf-org/esmf.git\" style = \"color: black\">ESMF</a>",
           "The Earth System Modeling Framework is a suite of software tools for developing high-performance, multi-component Earth science modeling applications.",
           "https://github.com/esmf-org/esmf.git"
          ],
          [
           "<a href=\"https://github.com/GIS4WRF/gis4wrf.git\" style = \"color: black\">gis4wrf</a>",
           "A free and open source QGIS plug-in to help researchers and practitioners with their Advanced Research Weather Research and Forecasting modeling workflows.",
           "https://github.com/GIS4WRF/gis4wrf.git"
          ],
          [
           "<a href=\"https://github.com/MPAS-Dev/MPAS-Model.git\" style = \"color: black\">MPAS</a>",
           "The Model for Prediction Across Scales is a collaborative project for developing atmosphere, ocean, and other earth-system simulation components for use in climate, regional climate, and weather studies.",
           "https://github.com/MPAS-Dev/MPAS-Model.git"
          ],
          [
           "<a href=\"https://github.com/csdms/pymt.git\" style = \"color: black\">pymt</a>",
           "A Python toolkit for running and coupling Earth surface models.",
           "https://github.com/csdms/pymt.git"
          ],
          [
           "<a href=\"https://github.com/ladybug-tools/dragonfly-legacy.git\" style = \"color: black\">Dragonfly for Grasshopper</a>",
           "Legacy dragonfly plugin for large-scale climate and urban heat island modeling.",
           "https://github.com/ladybug-tools/dragonfly-legacy.git"
          ],
          [
           "<a href=\"https://github.com/fnemina/pyOSOAA.git\" style = \"color: black\">pyOSOAA</a>",
           "A python interface for the Ocean Successive Orders with Atmosphere radiative transfer.",
           "https://github.com/fnemina/pyOSOAA.git"
          ],
          [
           "<a href=\"https://github.com/ecmwf-ifs/ecrad.git\" style = \"color: black\">ECRAD</a>",
           "A radiation scheme suitable for use in atmospheric weather and climate models.",
           "https://github.com/ecmwf-ifs/ecrad.git"
          ],
          [
           "<a href=\"https://github.com/gaelforget/ClimateModels.jl.git\" style = \"color: black\">ClimateModels.jl</a>",
           "Uniform interface to climate models of varying complexity and completeness.",
           "https://github.com/gaelforget/ClimateModels.jl.git"
          ],
          [
           "<a href=\"https://github.com/mzelinka/cmip56_forcing_feedback_ecs.git\" style = \"color: black\">cmip56_forcing_feedback_ecs</a>",
           "Effective climate sensitivity, effective 2xCO2 radiative forcing, and radiative feedbacks for all CMIP5 and CMIP6 models that have published output from abrupt CO2 quadrupling experiments.",
           "https://github.com/mzelinka/cmip56_forcing_feedback_ecs.git"
          ],
          [
           "<a href=\"https://github.com/csyhuang/hn2016_falwa.git\" style = \"color: black\">hn2016_falwa</a>",
           "A Python library for computing Finite-Amplitude Local Wave Activity from climate data.",
           "https://github.com/csyhuang/hn2016_falwa.git"
          ],
          [
           "<a href=\"https://github.com/pangeo-data/climpred.git\" style = \"color: black\">climpred</a>",
           "Aims to be the primary package used to analyze output from initialized dynamical forecast models, ranging from short-term weather forecasts to long-term climate forecasts.",
           "https://github.com/pangeo-data/climpred.git"
          ],
          [
           "<a href=\"https://github.com/SantanderMetGroup/downscaleR.git\" style = \"color: black\">downscaleR</a>",
           "An R package for empirical-statistical downscaling focusing on daily data and covering the most popular approaches (bias correction, Model Output Statistics, Perfect Prognosis) and techniques (e.g. quantile mapping, regression, analogs, neural networks).",
           "https://github.com/SantanderMetGroup/downscaleR.git"
          ],
          [
           "<a href=\"https://github.com/SantanderMetGroup/DeepDownscaling.git\" style = \"color: black\">DeepDownscaling</a>",
           "Deep learning approaches for statistical downscaling in climate.",
           "https://github.com/SantanderMetGroup/DeepDownscaling.git"
          ],
          [
           "<a href=\"https://github.com/chrisroadmap/climateforcing.git\" style = \"color: black\">climateforcing</a>",
           "An incomplete toolbox of scripts and modules used for analysis of climate models and climate data.",
           "https://github.com/chrisroadmap/climateforcing.git"
          ],
          [
           "<a href=\"https://github.com/xgcm/xgcm.git\" style = \"color: black\">xgcm</a>",
           "A Python package for analyzing general circulation model output data.",
           "https://github.com/xgcm/xgcm.git"
          ],
          [
           "<a href=\"https://github.com/MPAS-Dev/MPAS-Analysis.git\" style = \"color: black\">MPAS-Analysis</a>",
           "Provides analysis for the MPAS components of ACME.",
           "https://github.com/MPAS-Dev/MPAS-Analysis.git"
          ],
          [
           "<a href=\"https://github.com/dalesteam/dales.git\" style = \"color: black\">DALES</a>",
           "Dutch Atmospheric Large-Eddy Simulation model.",
           "https://github.com/dalesteam/dales.git"
          ],
          [
           "<a href=\"https://github.com/wrf-model/WRF.git\" style = \"color: black\">WRF</a>",
           "A state-of-the-art atmospheric modeling system designed for both meteorological research and numerical weather prediction.",
           "https://github.com/wrf-model/WRF.git"
          ],
          [
           "<a href=\"https://github.com/NCAR/wrf-python.git\" style = \"color: black\">wrf-python</a>",
           "A collection of diagnostic and interpolation routines for use with output from the Weather Research and Forecasting Model.",
           "https://github.com/NCAR/wrf-python.git"
          ],
          [
           "<a href=\"https://github.com/SERVIR/ClimateSERV2.git\" style = \"color: black\">ClimateSERV</a>",
           "This web application allows development practitioners, scientists/researchers, and government decision-makers to visualize and download historical rainfall data, vegetation condition data, and 180-day forecasts of rainfall and temperature to improve understanding of, and make improved decisions for, issues related to agriculture and water availability.",
           "https://github.com/SERVIR/ClimateSERV2.git"
          ],
          [
           "<a href=\"https://github.com/SERVIR/ClimateSERVpy.git\" style = \"color: black\">ClimateSERVpy</a>",
           "Enables access to the ClimateSERV API where many types of climate data can be subset by area of interest, and time range, then either downloaded as tif, or NetCDf files, or the data can be statistically processed to render json values or csv.",
           "https://github.com/SERVIR/ClimateSERVpy.git"
          ],
          [
           "<a href=\"https://github.com/ropensci/chirps.git\" style = \"color: black\">chirps</a>",
           "A quasi-global high-resolution rainfall data set, which incorporates satellite imagery and in-situ station data to create gridded rainfall time series for trend analysis and seasonal drought monitoring.",
           "https://github.com/ropensci/chirps.git"
          ],
          [
           "<a href=\"https://github.com/pylandtemp/pylandtemp.git\" style = \"color: black\">pylandtemp</a>",
           "Global land surface temperature and emissivity from NASA's Landsat satellite images.",
           "https://github.com/pylandtemp/pylandtemp.git"
          ],
          [
           "<a href=\"https://github.com/forestgeo/Climate.git\" style = \"color: black\">ForestGEO</a>",
           "This public repository is a portal for climate data and information for ForestGEO sites.",
           "https://github.com/forestgeo/Climate.git"
          ],
          [
           "<a href=\"https://github.com/ubilabs/esa-climate-from-space.git\" style = \"color: black\">esa-climate-from-space</a>",
           "The role of the Climate from Space application is to increase the visibility of the Climate Change Initiative programme and the role of ESA satellite data in climate science.",
           "https://github.com/ubilabs/esa-climate-from-space.git"
          ],
          [
           "<a href=\"https://github.com/pytroll/pygac.git\" style = \"color: black\">pygac</a>",
           "A Python package to read and calibrate NOAA and Metop AVHRR GAC and LAC data.",
           "https://github.com/pytroll/pygac.git"
          ],
          [
           "<a href=\"https://github.com/bluegreen-labs/ecmwfr.git\" style = \"color: black\">ecmwfr</a>",
           "Provides easy access to the European Centre for Medium-Range Weather Forecasts web API services and Copernicus Climate Data Store from within R, matching and expanding upon the ECMWF Python tools.",
           "https://github.com/bluegreen-labs/ecmwfr.git"
          ],
          [
           "<a href=\"https://github.com/E3SM-Project/gdess.git\" style = \"color: black\">GDESS</a>",
           "Tool for evaluating atmospheric carbon dioxide concentrations as simulated by Earth system models.",
           "https://github.com/E3SM-Project/gdess.git"
          ],
          [
           "<a href=\"https://github.com/google-research/ARCO-ERA5.git\" style = \"color: black\">Analysis-Ready, Cloud Optimized ERA5</a>",
           "A global history of the climate highly accessible in the cloud.",
           "https://github.com/google-research/ARCO-ERA5.git"
          ],
          [
           "<a href=\"https://github.com/RemoteSensingTools/vSmartMOM.jl.git\" style = \"color: black\">RadiativeTransfer.jl</a>",
           "A full end-to-end modular software suite for radiative transfer and related atmospheric analysis.",
           "https://github.com/RemoteSensingTools/vSmartMOM.jl.git"
          ],
          [
           "<a href=\"https://github.com/atmtools/arts.git\" style = \"color: black\">ARTS</a>",
           "A radiative transfer model for the millimeter and sub-millimeter spectral range.",
           "https://github.com/atmtools/arts.git"
          ],
          [
           "<a href=\"https://github.com/robintw/Py6S.git\" style = \"color: black\">Py6S</a>",
           "A Python interface to the 6S Radiative Transfer Model.",
           "https://github.com/robintw/Py6S.git"
          ],
          [
           "<a href=\"https://github.com/earth-system-radiation/rte-rrtmgp.git\" style = \"color: black\">RTE+RRTMGP</a>",
           "A set of codes for computing radiative fluxes in planetary atmospheres.",
           "https://github.com/earth-system-radiation/rte-rrtmgp.git"
          ],
          [
           "<a href=\"https://github.com/AER-RC/LBLRTM.git\" style = \"color: black\">LBLRTM</a>",
           "Line-By-Line Radiative Transfer Model is an accurate and efficient line-by-line radiative transfer model derived from the Fast Atmospheric Signature Code.",
           "https://github.com/AER-RC/LBLRTM.git"
          ],
          [
           "<a href=\"https://github.com/eradiate/eradiate.git\" style = \"color: black\">Eradiate</a>",
           "A next-generation radiative transfer model for Earth observation applications.",
           "https://github.com/eradiate/eradiate.git"
          ],
          [
           "<a href=\"https://github.com/slcs-jsc/jurassic.git\" style = \"color: black\">Juelich Rapid Spectral Simulation Code</a>",
           "The Juelich Rapid Spectral Simulation Code (JURASSIC) is a fast infrared radiative transfer model for the analysis of atmospheric remote sensing measurements.",
           "https://github.com/slcs-jsc/jurassic.git"
          ],
          [
           "<a href=\"https://github.com/tenstream/tenstream.git\" style = \"color: black\">Tenstream</a>",
           "A 3D radiative transfer solver for earth system models.",
           "https://github.com/tenstream/tenstream.git"
          ],
          [
           "<a href=\"https://github.com/open-meteo/open-meteo.git\" style = \"color: black\">Open-Meteo</a>",
           "Global weather API for non-commercial use with hourly weather forecast.",
           "https://github.com/open-meteo/open-meteo.git"
          ],
          [
           "<a href=\"https://github.com/ropensci/weathercan.git\" style = \"color: black\">weathercan</a>",
           "This package makes it easier to search for and download multiple months/years of historical weather data from the Environment and Climate Change Canada (ECCC) website.",
           "https://github.com/ropensci/weathercan.git"
          ],
          [
           "<a href=\"https://github.com/eliocamp/metR.git\" style = \"color: black\">metR</a>",
           "Several functions and utilities that make R better for handling meteorological data in the tidy data paradigm.",
           "https://github.com/eliocamp/metR.git"
          ],
          [
           "<a href=\"https://github.com/bczernecki/climate.git\" style = \"color: black\">climate</a>",
           "The goal of the climate R package is to automatize downloading of meteorological and hydrological data from publicly available repositories.",
           "https://github.com/bczernecki/climate.git"
          ],
          [
           "<a href=\"https://github.com/brry/rdwd.git\" style = \"color: black\">rdwd</a>",
           "An R package to select, download and read climate data from the German Weather Service.",
           "https://github.com/brry/rdwd.git"
          ],
          [
           "<a href=\"https://github.com/Unidata/MetPy.git\" style = \"color: black\">MetPy</a>",
           "A collection of tools in Python for reading, visualizing and performing calculations with weather data.",
           "https://github.com/Unidata/MetPy.git"
          ],
          [
           "<a href=\"https://github.com/earthobservations/wetterdienst.git\" style = \"color: black\">wetterdienst</a>",
           "Trying to make access to weather data in Python feel like a warm summer breeze.",
           "https://github.com/earthobservations/wetterdienst.git"
          ],
          [
           "<a href=\"https://github.com/Unidata/awips2.git\" style = \"color: black\">AWIPS</a>",
           "The Advanced Weather Interactive Processing System is a meteorological display and analysis package originally developed by the National Weather Service and Raytheon.",
           "https://github.com/Unidata/awips2.git"
          ],
          [
           "<a href=\"https://github.com/cf-convention/cf-conventions.git\" style = \"color: black\">cf-conventions</a>",
           "The conventions for CF (Climate and Forecast) metadata are designed to promote the processing and sharing of files created with the NetCDF API.",
           "https://github.com/cf-convention/cf-conventions.git"
          ],
          [
           "<a href=\"https://github.com/NCAS-CMS/cf-python.git\" style = \"color: black\">cf-python</a>",
           "A CF-compliant Earth Science data analysis library.",
           "https://github.com/NCAS-CMS/cf-python.git"
          ],
          [
           "<a href=\"https://github.com/xCDAT/xcdat.git\" style = \"color: black\">xCDAT</a>",
           "An extension of xarray for climate data analysis on structured grids.",
           "https://github.com/xCDAT/xcdat.git"
          ],
          [
           "<a href=\"https://github.com/orbisgis/geoclimate.git\" style = \"color: black\">Geoclimate</a>",
           "Geospatial processing toolbox for environmental and climate studies.",
           "https://github.com/orbisgis/geoclimate.git"
          ],
          [
           "<a href=\"https://github.com/meteostat/meteostat-python.git\" style = \"color: black\">Meteostat Python</a>",
           "Access and analyze historical weather and climate data with Python.",
           "https://github.com/meteostat/meteostat-python.git"
          ],
          [
           "<a href=\"https://github.com/carbonplan/cmip6-downscaling.git\" style = \"color: black\">cmip6-downscaling</a>",
           "Climate downscaling using CMIP6 data.",
           "https://github.com/carbonplan/cmip6-downscaling.git"
          ],
          [
           "<a href=\"https://github.com/google/weather-tools.git\" style = \"color: black\">weather-tools</a>",
           "A series of command-line tools to make common data engineering tasks easier for researchers in climate and weather.",
           "https://github.com/google/weather-tools.git"
          ],
          [
           "<a href=\"https://github.com/SantanderMetGroup/loadeR.git\" style = \"color: black\">loadeR</a>",
           "An R package for climate data access building on the NetCDF-Java API.",
           "https://github.com/SantanderMetGroup/loadeR.git"
          ],
          [
           "<a href=\"https://github.com/SantanderMetGroup/climate4R.git\" style = \"color: black\">climate4R</a>",
           "A bundle of R packages for transparent climate data access, post-processing (including data collocation and bias correction / downscaling) and visualization.",
           "https://github.com/SantanderMetGroup/climate4R.git"
          ],
          [
           "<a href=\"https://github.com/meteoinfo/MeteoInfo.git\" style = \"color: black\">MeteoInfo</a>",
           "GIS and scientific computation environment for meteorological community.",
           "https://github.com/meteoinfo/MeteoInfo.git"
          ],
          [
           "<a href=\"https://github.com/ropensci/GSODR.git\" style = \"color: black\">GSODR</a>",
           "Global Surface Summary of the Day Weather Data Client for R.",
           "https://github.com/ropensci/GSODR.git"
          ],
          [
           "<a href=\"https://github.com/VeruGHub/easyclimate.git\" style = \"color: black\">easyclimate</a>",
           "Easy access to high-resolution daily climate data for Europe.",
           "https://github.com/VeruGHub/easyclimate.git"
          ],
          [
           "<a href=\"https://github.com/pik-primap/climate_categories.git\" style = \"color: black\">Climate categories</a>",
           "Commonly used codes, categories, terminologies, and nomenclatures used in climate policy analysis in a nice Python package.",
           "https://github.com/pik-primap/climate_categories.git"
          ],
          [
           "<a href=\"https://github.com/aaronspring/remote_climate_data.git\" style = \"color: black\">remote_climate_data</a>",
           "A collection of remote climate data accessed via intake cached to disk.",
           "https://github.com/aaronspring/remote_climate_data.git"
          ],
          [
           "<a href=\"https://github.com/IPCC-WG1/Chapter-9.git\" style = \"color: black\">IPCC AR6 Chapter 9 Figures</a>",
           "Code and data for all figures from Chapter 9 of the IPCC AR6.",
           "https://github.com/IPCC-WG1/Chapter-9.git"
          ],
          [
           "<a href=\"https://github.com/cerfacs-globc/icclim.git\" style = \"color: black\">icclim</a>",
           "Python library for climate indices and climate indicators calculation.",
           "https://github.com/cerfacs-globc/icclim.git"
          ],
          [
           "<a href=\"https://github.com/deepsphere/deepsphere-pytorch.git\" style = \"color: black\">DeepSphere</a>",
           "Learning on the sphere with a graph-based ConvNet.",
           "https://github.com/deepsphere/deepsphere-pytorch.git"
          ],
          [
           "<a href=\"https://github.com/roocs/clisops.git\" style = \"color: black\">clisops</a>",
           "Climate simulation operations.",
           "https://github.com/roocs/clisops.git"
          ],
          [
           "<a href=\"https://github.com/SantanderMetGroup/ATLAS.git\" style = \"color: black\">ATLAS</a>",
           "Datasets, code and virtual workspace for the Climate Change ATLAS.",
           "https://github.com/SantanderMetGroup/ATLAS.git"
          ],
          [
           "<a href=\"https://github.com/Ouranosinc/xclim.git\" style = \"color: black\">xclim</a>",
           "A library of derived climate variables, i.e. climate indicators, based on xarray.",
           "https://github.com/Ouranosinc/xclim.git"
          ],
          [
           "<a href=\"https://github.com/ARCCSS-extremes/climpact.git\" style = \"color: black\">climpact</a>",
           "Calculate the ET-SCI climate extremes indices.",
           "https://github.com/ARCCSS-extremes/climpact.git"
          ],
          [
           "<a href=\"https://github.com/ropensci/prism.git\" style = \"color: black\">PRISM</a>",
           "Download data from the Oregon PRISM climate data project.",
           "https://github.com/ropensci/prism.git"
          ],
          [
           "<a href=\"https://github.com/ropensci/clifro.git\" style = \"color: black\">CliFlo</a>",
           "Easily download and visualise climate data from New Zealand's National Climate Database.",
           "https://github.com/ropensci/clifro.git"
          ],
          [
           "<a href=\"https://github.com/Yuanchao-Xu/hyfo.git\" style = \"color: black\">hyfo</a>",
           "Mainly focuses on data process and visualization in hydrology and climate forecasting.",
           "https://github.com/Yuanchao-Xu/hyfo.git"
          ],
          [
           "<a href=\"https://github.com/nasa/NASAaccess.git\" style = \"color: black\">NASAaccess</a>",
           "An R package that can generate gridded ASCII tables of climate (CIMP5) and weather data (GPM, TRMM, GLDAS) needed to drive various hydrological models (e.g. SWAT, VIC, RHESSys).",
           "https://github.com/nasa/NASAaccess.git"
          ],
          [
           "<a href=\"https://github.com/CCI-Tools/cate.git\" style = \"color: black\">Cate</a>",
           "A software for ingesting, operating on and visualizing all ESA Climate Change Initiative data.",
           "https://github.com/CCI-Tools/cate.git"
          ],
          [
           "<a href=\"https://github.com/ecmwf/climetlab.git\" style = \"color: black\">climetlab</a>",
           "A Python package aiming at simplifying access to climate and meteorological datasets, allowing users to focus on science instead of technical issues such as data access and data formats.",
           "https://github.com/ecmwf/climetlab.git"
          ],
          [
           "<a href=\"https://github.com/ecmwf/cdsapi.git\" style = \"color: black\">cdsapi</a>",
           "Python API to access the Copernicus Climate Data Store.",
           "https://github.com/ecmwf/cdsapi.git"
          ],
          [
           "<a href=\"https://github.com/Unidata/netcdf-fortran.git\" style = \"color: black\">netcdf-fortran</a>",
           "The Unidata network Common Data Form (netCDF) in Fortran is an interface for scientific data access and a set of freely-distributed software libraries that provide an implementation of the interface.",
           "https://github.com/Unidata/netcdf-fortran.git"
          ],
          [
           "<a href=\"https://github.com/Unidata/netcdf-c.git\" style = \"color: black\">netcdf-c</a>",
           "The Unidata network Common Data Form (netCDF) in C is an interface for scientific data access and a set of freely-distributed software libraries that provide an implementation of the interface.",
           "https://github.com/Unidata/netcdf-c.git"
          ],
          [
           "<a href=\"https://github.com/Unidata/netcdf4-python.git\" style = \"color: black\">netcdf-python</a>",
           "The Unidata network Common Data Form (netCDF) in Python is an interface for scientific data access and a set of freely-distributed software libraries that provide an implementation of the interface.",
           "https://github.com/Unidata/netcdf4-python.git"
          ],
          [
           "<a href=\"https://github.com/zmlabe/IceVarFigs.git\" style = \"color: black\">IceVarFigs</a>",
           "Weather and climate graphics for science communication.",
           "https://github.com/zmlabe/IceVarFigs.git"
          ],
          [
           "<a href=\"https://github.com/rOpenSpain/climaemet.git\" style = \"color: black\">climaemet</a>",
           "An interface to download the climatic data of the Spanish Meteorological Agency directly from R using their API and create scientific graphs.",
           "https://github.com/rOpenSpain/climaemet.git"
          ],
          [
           "<a href=\"https://github.com/PCMDI/cmor.git\" style = \"color: black\">Climate Model Output Rewriter</a>",
           "Produce CF-compliant netCDF files that fulfill the requirements of many of the climate community's standard model experiments.",
           "https://github.com/PCMDI/cmor.git"
          ],
          [
           "<a href=\"https://github.com/NCAR/ncl.git\" style = \"color: black\">NCL</a>",
           "The NCAR Command Language is a scripting language for the analysis and visualization of climate and weather data.",
           "https://github.com/NCAR/ncl.git"
          ],
          [
           "<a href=\"https://github.com/xarray-contrib/xskillscore.git\" style = \"color: black\">xskillscore</a>",
           "An open source project and Python package that provides verification metrics of deterministic (and probabilistic from properscoring) forecasts with xarray.",
           "https://github.com/xarray-contrib/xskillscore.git"
          ],
          [
           "<a href=\"https://github.com/ropensci/getCRUCLdata.git\" style = \"color: black\">getCRUCLdata</a>",
           "Provides functions that automate importing CRU CL v. 2.0 climatology data into R.",
           "https://github.com/ropensci/getCRUCLdata.git"
          ],
          [
           "<a href=\"https://github.com/cortinah/hockeystick.git\" style = \"color: black\">hockeystick</a>",
           "Make essential Climate Change datasets easily available to non-climate experts.",
           "https://github.com/cortinah/hockeystick.git"
          ],
          [
           "<a href=\"https://github.com/ecmwf/cfgrib.git\" style = \"color: black\">cfgrib</a>",
           "A Python interface to map GRIB files to the NetCDF Common Data Model following the CF Convention using ecCodes.",
           "https://github.com/ecmwf/cfgrib.git"
          ],
          [
           "<a href=\"https://github.com/ideas-lab-nus/epwshiftr.git\" style = \"color: black\">epwshiftr</a>",
           "Create future EnergyPlus Weather files using CMIP6 data.",
           "https://github.com/ideas-lab-nus/epwshiftr.git"
          ],
          [
           "<a href=\"https://github.com/ropensci/bomrang.git\" style = \"color: black\">bomrang</a>",
           "Australian government Bureau of Meteorology (BOM) data client for R.",
           "https://github.com/ropensci/bomrang.git"
          ],
          [
           "<a href=\"https://github.com/intake/intake-esm.git\" style = \"color: black\">Intake-esm</a>",
           "An intake plugin for parsing an Earth System Model catalog and loading assets into xarray datasets.",
           "https://github.com/intake/intake-esm.git"
          ],
          [
           "<a href=\"https://github.com/h5netcdf/h5netcdf.git\" style = \"color: black\">h5netcdf</a>",
           "A Python interface for the netCDF4 file format that reads and writes local or remote HDF5 files directly via h5py or h5pyd, without relying on the Unidata netCDF library.",
           "https://github.com/h5netcdf/h5netcdf.git"
          ],
          [
           "<a href=\"https://github.com/boshek/rsoi.git\" style = \"color: black\">rsoi</a>",
           "An R package to download the most up to date climate indices.",
           "https://github.com/boshek/rsoi.git"
          ],
          [
           "<a href=\"https://github.com/nco/nco.git\" style = \"color: black\">NCO</a>",
           "Manipulates and analyzes data stored in netCDF-accessible formats.",
           "https://github.com/nco/nco.git"
          ],
          [
           "<a href=\"https://github.com/nco/pynco.git\" style = \"color: black\">pynco</a>",
           "Contains the module python nco, which implements a Python style access to the NetCDF Operators (NCO).",
           "https://github.com/nco/pynco.git"
          ],
          [
           "<a href=\"https://github.com/mikejohnson51/climateR.git\" style = \"color: black\">climateR</a>",
           "An R package for getting point and gridded climate data by AOI.",
           "https://github.com/mikejohnson51/climateR.git"
          ],
          [
           "<a href=\"https://github.com/metno/esd.git\" style = \"color: black\">esd</a>",
           "Designed for climate and weather data analysis, empirical-statistical downscaling, and visualisation.",
           "https://github.com/metno/esd.git"
          ],
          [
           "<a href=\"https://github.com/mathworks/climatedatastore.git\" style = \"color: black\">Climate Data Store Toolbox for MATLAB</a>",
           "This toolbox allows you to easily access data and download hundreds of data sets associated with climate change for analysis in MATLAB.",
           "https://github.com/mathworks/climatedatastore.git"
          ],
          [
           "<a href=\"https://github.com/petermr/semanticClimate.git\" style = \"color: black\">semanticClimate</a>",
           "Conversion of IPCC documents into semantic form.",
           "https://github.com/petermr/semanticClimate.git"
          ],
          [
           "<a href=\"https://github.com/Ouranosinc/miranda.git\" style = \"color: black\">Miranda</a>",
           "A modern Python utility library for climate data collection and management.",
           "https://github.com/Ouranosinc/miranda.git"
          ],
          [
           "<a href=\"https://github.com/iiasa/message_ix.git\" style = \"color: black\">MESSAGEix</a>",
           "A versatile, dynamic systems-optimization modeling framework developed by the IIASA Energy, Climate, and Environment (ECE) Program since the 1980s.",
           "https://github.com/iiasa/message_ix.git"
          ],
          [
           "<a href=\"https://github.com/Libbum/DICE.jl.git\" style = \"color: black\">DICE.jl</a>",
           "The Dynamic Integrated model of Climate and the Economy model family are a popular and capable type of simple Integrated Assessment Model of climate change economics pioneered by William Nordhaus.",
           "https://github.com/Libbum/DICE.jl.git"
          ],
          [
           "<a href=\"https://github.com/iiasa/ENGAGE-netzero-analysis.git\" style = \"color: black\">ENGAGE</a>",
           "Source code for figure generation and analysis of the ENGAGE netzero scenario analysis.",
           "https://github.com/iiasa/ENGAGE-netzero-analysis.git"
          ],
          [
           "<a href=\"https://github.com/IAMconsortium/pyam.git\" style = \"color: black\">pyam</a>",
           "A Python package for data-wrangling, analysis and visualization of integrated-assessment scenarios and energy systems modeling results.",
           "https://github.com/IAMconsortium/pyam.git"
          ],
          [
           "<a href=\"https://github.com/JGCRI/gcam-core.git\" style = \"color: black\">GCAM</a>",
           "A dynamic-recursive model with technology-rich representations of the economy, energy sector, land use and water linked to a climate model that can be used to explore climate change mitigation policies including carbon taxes, carbon trading, regulations and accelerated deployment of energy technology.",
           "https://github.com/JGCRI/gcam-core.git"
          ],
          [
           "<a href=\"https://github.com/pik-piam/mrremind.git\" style = \"color: black\">mrremind</a>",
           "MadRat REMIND Input Data Package.",
           "https://github.com/pik-piam/mrremind.git"
          ],
          [
           "<a href=\"https://github.com/pik-piam/edgeTransport.git\" style = \"color: black\">edgeTransport</a>",
           "Prepare EDGE Transport Data for the REMIND model.",
           "https://github.com/pik-piam/edgeTransport.git"
          ],
          [
           "<a href=\"https://github.com/USEPA/CMAQ.git\" style = \"color: black\">CMAQ</a>",
           "Code base for the U.S. EPA's Community Multiscale Air Quality Model.",
           "https://github.com/USEPA/CMAQ.git"
          ],
          [
           "<a href=\"https://github.com/USEPA/AMET.git\" style = \"color: black\">AMET</a>",
           "A suite of software designed to facilitate the analysis and evaluation of predictions from meteorological and air quality models.",
           "https://github.com/USEPA/AMET.git"
          ],
          [
           "<a href=\"https://github.com/shootismoke/mobile-app.git\" style = \"color: black\">shoot-i-smoke</a>",
           "See your city's air pollution measured in daily cigarettes.",
           "https://github.com/shootismoke/mobile-app.git"
          ],
          [
           "<a href=\"https://github.com/jsynowiec/airqmon.git\" style = \"color: black\">airqmon</a>",
           "A macOS menu bar application that displays live air quality data from the nearest sensor station.",
           "https://github.com/jsynowiec/airqmon.git"
          ],
          [
           "<a href=\"https://github.com/opendata-stuttgart/sensors-software.git\" style = \"color: black\">opendata-stuttgart</a>",
           "The maintained main firmware for the Luftdaten.Info Sensor.",
           "https://github.com/opendata-stuttgart/sensors-software.git"
          ],
          [
           "<a href=\"https://github.com/HabitatMap/AirCasting.git\" style = \"color: black\">AirCasting</a>",
           "The project aims to build a platform for gathering, visualization and sharing of environmental data.",
           "https://github.com/HabitatMap/AirCasting.git"
          ],
          [
           "<a href=\"https://github.com/davidcarslaw/openair.git\" style = \"color: black\">openair</a>",
           "An R package developed for the purpose of analyzing air quality data — or more generally atmospheric composition data.",
           "https://github.com/davidcarslaw/openair.git"
          ],
          [
           "<a href=\"https://github.com/USEPA/Air-Trends-Report.git\" style = \"color: black\">Air-Trends-Report</a>",
           "Source code for EPA's annual air trends report on air quality, emissions and visibility trends.",
           "https://github.com/USEPA/Air-Trends-Report.git"
          ],
          [
           "<a href=\"https://github.com/openaq/openaq-api-v2.git\" style = \"color: black\">OpenAQ API Version 2</a>",
           "A web-accessible API that provides endpoints to query the real-time and historical air quality measurements on the platform.",
           "https://github.com/openaq/openaq-api-v2.git"
          ],
          [
           "<a href=\"https://github.com/openaq/openaq-fetch.git\" style = \"color: black\">OpenAQ Data Ingest Pipeline</a>",
           "A tool to collect data for OpenAQ platform.",
           "https://github.com/openaq/openaq-fetch.git"
          ],
          [
           "<a href=\"https://github.com/mainmatter/breethe-server.git\" style = \"color: black\">breethe-server</a>",
           "Breethe allows instant access to up to date air quality data for locations in Europe.",
           "https://github.com/mainmatter/breethe-server.git"
          ],
          [
           "<a href=\"https://github.com/CEMPD/SMOKE.git\" style = \"color: black\">SMOKE</a>",
           "Create emissions inputs for multiple air quality modeling systems with unmatched speed and flexibility.",
           "https://github.com/CEMPD/SMOKE.git"
          ],
          [
           "<a href=\"https://github.com/spatialmodel/inmap.git\" style = \"color: black\">inmap</a>",
           "A multi-scale emissions-to-health impact model for fine particulate matter (PM2.5) that mechanistically evaluates air quality and health benefits of perturbations to baseline emissions.",
           "https://github.com/spatialmodel/inmap.git"
          ],
          [
           "<a href=\"https://github.com/metno/emep-ctm.git\" style = \"color: black\">Open Source EMEP MSC-W model</a>",
           "Designed to calculate air concentrations and deposition fields for major acidifying and eutrophying pollutants, photo-oxidants and particulate matter.",
           "https://github.com/metno/emep-ctm.git"
          ],
          [
           "<a href=\"https://github.com/shuowang-ai/PM2.5-GNN.git\" style = \"color: black\">PM2.5-GNN</a>",
           "A Domain Knowledge Enhanced Graph Neural Network For PM2.5 Forecasting.",
           "https://github.com/shuowang-ai/PM2.5-GNN.git"
          ],
          [
           "<a href=\"https://github.com/ropensci/rdefra.git\" style = \"color: black\">rdefra</a>",
           "Interact with the UK AIR Pollution Database from DEFRA.",
           "https://github.com/ropensci/rdefra.git"
          ],
          [
           "<a href=\"https://github.com/skgrange/rmweather.git\" style = \"color: black\">rmweather</a>",
           "An R package to conduct meteorological/weather normalisation on air quality so trends and interventions can be investigated in a robust way.",
           "https://github.com/skgrange/rmweather.git"
          ],
          [
           "<a href=\"https://github.com/Safecast/safecastapi.git\" style = \"color: black\">Safecast</a>",
           "Building out a network of sensors to monitor particulate matter in sizes PM1.0, PM2.5, PM10.",
           "https://github.com/Safecast/safecastapi.git"
          ],
          [
           "<a href=\"https://github.com/openoakland/woeip.git\" style = \"color: black\">West Oakland Air Quality Project</a>",
           "A platform for impacted communities to understand their local air quality and advocate for environmental justice.",
           "https://github.com/openoakland/woeip.git"
          ],
          [
           "<a href=\"https://github.com/opendata-stuttgart/sensor.community.git\" style = \"color: black\">Sensor.Community</a>",
           "Making the world a better place through community driven, open environmental data.",
           "https://github.com/opendata-stuttgart/sensor.community.git"
          ],
          [
           "<a href=\"https://github.com/sensebox/openSenseMap.git\" style = \"color: black\">openSenseMap</a>",
           "Wikipedia for environmental data in order to awaken and promote education, environmental and climate protection.",
           "https://github.com/sensebox/openSenseMap.git"
          ],
          [
           "<a href=\"https://github.com/JGCRI/rfasst.git\" style = \"color: black\">rfasst</a>",
           "Estimation of a consistent range of adverse health and agricultural effects attributable to air pollution for a GCAM scenario.",
           "https://github.com/JGCRI/rfasst.git"
          ],
          [
           "<a href=\"https://github.com/skgrange/saqgetr.git\" style = \"color: black\">saqgetr</a>",
           "Import Air Quality Monitoring Data in a Fast and Easy Way.",
           "https://github.com/skgrange/saqgetr.git"
          ],
          [
           "<a href=\"https://github.com/Ozon3Org/Ozon3.git\" style = \"color: black\">Ozone</a>",
           "An open-source package to easily obtain real-time, historical, or forecasted air quality data for anywhere in the world.",
           "https://github.com/Ozon3Org/Ozon3.git"
          ],
          [
           "<a href=\"https://github.com/USEPA/RAQSAPI.git\" style = \"color: black\">RAQSAPI</a>",
           "Retrieve data from the United States Environmental Protection Agency's Air Quality Systems.",
           "https://github.com/USEPA/RAQSAPI.git"
          ],
          [
           "<a href=\"https://github.com/ropensci/qualR.git\" style = \"color: black\">qualR</a>",
           "Download of air pollutants and meteorological information from CETESB QUALAR System for São Paulo, and MonitorAr Program, for Rio de Janeiro.",
           "https://github.com/ropensci/qualR.git"
          ],
          [
           "<a href=\"https://github.com/USEPA/Stormwater-Management-Model.git\" style = \"color: black\">Stormwater-Management-Model</a>",
           "Used for single event or long-term (continuous) simulation of runoff quantity and quality from primarily urban areas.",
           "https://github.com/USEPA/Stormwater-Management-Model.git"
          ],
          [
           "<a href=\"https://github.com/USGS-R/dataRetrieval.git\" style = \"color: black\">dataRetrieval</a>",
           "This R package is designed to obtain USGS or EPA water quality sample data, streamflow data and metadata directly from web services.",
           "https://github.com/USGS-R/dataRetrieval.git"
          ],
          [
           "<a href=\"https://github.com/USGS-R/EGRET.git\" style = \"color: black\">EGRET</a>",
           "An R package for the analysis of long-term changes in water quality and streamflow, including the water-quality method Weighted Regressions on Time, Discharge, and Season.",
           "https://github.com/USGS-R/EGRET.git"
          ],
          [
           "<a href=\"https://github.com/lanl-ansi/WaterModels.jl.git\" style = \"color: black\">WaterModels.jl</a>",
           "Designed to enable computational evaluation of historical and emerging water network formulations and algorithms using a common platform.",
           "https://github.com/lanl-ansi/WaterModels.jl.git"
          ],
          [
           "<a href=\"https://github.com/NOAA-OWP/t-route.git\" style = \"color: black\">Tree-based Inland Hydraulic Routing Project</a>",
           "The program under development here seeks to effectively manage the traversal of a network of streams with defined hydraulic properties specifically for the purpose of hydraulic routing in an operational flood and water resources forecasting system.",
           "https://github.com/NOAA-OWP/t-route.git"
          ],
          [
           "<a href=\"https://github.com/NOAA-OWP/ngen.git\" style = \"color: black\">Next Gen Water Modeling Framework</a>",
           "This framework includes an encapsulation strategy which focuses on the hydrologic data first, and then builds a functional abstraction of hydrologic behavior.",
           "https://github.com/NOAA-OWP/ngen.git"
          ],
          [
           "<a href=\"https://github.com/USGS-R/nhdplusTools.git\" style = \"color: black\">nhdplusTools</a>",
           "This package is a growing set of tools for manipulation of hydrographic data using the NHDPlus data model.",
           "https://github.com/USGS-R/nhdplusTools.git"
          ],
          [
           "<a href=\"https://github.com/codeforboston/safe-water.git\" style = \"color: black\">The Safe Water Project</a>",
           "A team of volunteers at Code for Boston who are using data modeling, data visualization and machine learning to predict, visualize, and share data about the presence of hazardous drinking and surface water contaminants in the United States.",
           "https://github.com/codeforboston/safe-water.git"
          ],
          [
           "<a href=\"https://github.com/mroberge/hydrofunctions.git\" style = \"color: black\">HydroFunctions</a>",
           "A suite of convenience functions for working with hydrology data in an interactive Python session.",
           "https://github.com/mroberge/hydrofunctions.git"
          ],
          [
           "<a href=\"https://github.com/AquaticEcoDynamics/GLM.git\" style = \"color: black\">The General Lake Model</a>",
           "A water balance and one-dimensional vertical stratification hydrodynamic model.",
           "https://github.com/AquaticEcoDynamics/GLM.git"
          ],
          [
           "<a href=\"https://github.com/jsta/nhdR.git\" style = \"color: black\">nhdR</a>",
           "An R interface to the US National Hydrography Dataset.",
           "https://github.com/jsta/nhdR.git"
          ],
          [
           "<a href=\"https://github.com/MODFLOW-USGS/modflow6.git\" style = \"color: black\">modflow6</a>",
           "Has been widely used by academics, private consultants, and government scientists to accurately, reliably, and efficiently simulate groundwater flow.",
           "https://github.com/MODFLOW-USGS/modflow6.git"
          ],
          [
           "<a href=\"https://github.com/mdbartos/pysheds.git\" style = \"color: black\">pysheds</a>",
           "Simple and fast watershed delineation in Python.",
           "https://github.com/mdbartos/pysheds.git"
          ],
          [
           "<a href=\"https://github.com/jblindsay/whitebox-tools.git\" style = \"color: black\">WhiteboxTools</a>",
           "WhiteboxTools is an advanced geospatial data analysis platform.",
           "https://github.com/jblindsay/whitebox-tools.git"
          ],
          [
           "<a href=\"https://github.com/ARPA-SIMC/CRITERIA3D.git\" style = \"color: black\">CRITERIA3D</a>",
           "Includes a numerical solution for three-dimensional water and heat flow in the soil, coupled surface and subsurface flow, meteorological data interpolation, radiation budget, crop development and crop water uptake.",
           "https://github.com/ARPA-SIMC/CRITERIA3D.git"
          ],
          [
           "<a href=\"https://github.com/USEPA/WNTR.git\" style = \"color: black\">Water Network Tool for Resilience</a>",
           "A Python package designed to simulate and analyze resilience of water distribution networks.",
           "https://github.com/USEPA/WNTR.git"
          ],
          [
           "<a href=\"https://github.com/bcgov/fasstr.git\" style = \"color: black\">fasstr</a>",
           "An R package to analyze, summarize, and visualize daily streamflow data.",
           "https://github.com/bcgov/fasstr.git"
          ],
          [
           "<a href=\"https://github.com/bcgov/gwells.git\" style = \"color: black\">gwells</a>",
           "Groundwater Wells and Aquifers application for the Ministry of Environment in British Columbia.",
           "https://github.com/bcgov/gwells.git"
          ],
          [
           "<a href=\"https://github.com/RAJohansen/waterquality.git\" style = \"color: black\">waterquality</a>",
           "A package designed to detect and quantify water quality and cyanobacterial harmful algal bloom (CHABs) from remotely sensed imagery.",
           "https://github.com/RAJohansen/waterquality.git"
          ],
          [
           "<a href=\"https://github.com/QGEP/QGEP.git\" style = \"color: black\">QGEP</a>",
           "A waste-water application based on QGIS in compliance with SIA-405.",
           "https://github.com/QGEP/QGEP.git"
          ],
          [
           "<a href=\"https://github.com/toogad/PooPyLab_Project.git\" style = \"color: black\">PooPyLab_Project</a>",
           "A biological wastewater treatment software.",
           "https://github.com/toogad/PooPyLab_Project.git"
          ],
          [
           "<a href=\"https://github.com/AguaClara/aguaclara.git\" style = \"color: black\">aguaclara</a>",
           "A Python package for designing and performing research on AguaClara water treatment plants.",
           "https://github.com/AguaClara/aguaclara.git"
          ],
          [
           "<a href=\"https://github.com/OpenWaterAnalytics/EPANET.git\" style = \"color: black\">EPANET</a>",
           "The Water Distribution System Hydraulic and Water Quality Analysis Toolkit.",
           "https://github.com/OpenWaterAnalytics/EPANET.git"
          ],
          [
           "<a href=\"https://github.com/OpenWaterAnalytics/pyswmm.git\" style = \"color: black\">pyswmm</a>",
           "Python Wrapper for Stormwater Management Model.",
           "https://github.com/OpenWaterAnalytics/pyswmm.git"
          ],
          [
           "<a href=\"https://github.com/geodynamics/selen.git\" style = \"color: black\">SELEN</a>",
           "An open source Fortran code for the numerical solution of the Sea Level Equation for a spherical, layered, rotating earth with viscoelastic rheology.",
           "https://github.com/geodynamics/selen.git"
          ],
          [
           "<a href=\"https://github.com/NOAA-ORR-ERD/PyGnome.git\" style = \"color: black\">PyGnome</a>",
           "It is designed to support oil and other hazardous material spills in the coastal environment.",
           "https://github.com/NOAA-ORR-ERD/PyGnome.git"
          ],
          [
           "<a href=\"https://github.com/AquaticEcoDynamics/libaed2.git\" style = \"color: black\">AED2</a>",
           "A community-driven library of modules and algorithms for simulation of \"aquatic ecodynamics\": water quality, aquatic biogeochemsitry, biotic habitat and aquatic ecosystem dynamics.",
           "https://github.com/AquaticEcoDynamics/libaed2.git"
          ],
          [
           "<a href=\"https://github.com/bcgov/wqbc.git\" style = \"color: black\">wqbc</a>",
           "An R package for water quality thresholds and index calculation for British Columbia.",
           "https://github.com/bcgov/wqbc.git"
          ],
          [
           "<a href=\"https://github.com/WikiWatershed/model-my-watershed.git\" style = \"color: black\">Model My Watershed</a>",
           "A watershed-modeling web app for citizens, conservation practitioners, municipal decision-makers, educators, and students.",
           "https://github.com/WikiWatershed/model-my-watershed.git"
          ],
          [
           "<a href=\"https://github.com/ropensci/cde.git\" style = \"color: black\">CDE</a>",
           "Facilitates searching and download of the Water Framework Directive reporting data for all waterbodies from the EA website.",
           "https://github.com/ropensci/cde.git"
          ],
          [
           "<a href=\"https://github.com/pygsflow/pygsflow.git\" style = \"color: black\">pyGSFLOW</a>",
           "A set of Python modules to run the GSFLOW integrated hydrologic model program.",
           "https://github.com/pygsflow/pygsflow.git"
          ],
          [
           "<a href=\"https://github.com/bcgov/bcgroundwater.git\" style = \"color: black\">bcgroundwater</a>",
           "An R package to facilitate analysis and visualization of groundwater data from the British Columbia groundwater observation well network.",
           "https://github.com/bcgov/bcgroundwater.git"
          ],
          [
           "<a href=\"https://github.com/UMN-Hydro/GSFLOW-GRASS.git\" style = \"color: black\">GSFLOW-GRASS</a>",
           "Generates inputs for and runs the coupled groundwater-surface water model \"GSFLOW\".",
           "https://github.com/UMN-Hydro/GSFLOW-GRASS.git"
          ],
          [
           "<a href=\"https://github.com/jnsebgosselin/gwhat.git\" style = \"color: black\">GWHAT</a>",
           "A free, open source, and cross-platform interactive computer program whose main focus is the interpretation of observation well hydrographs.",
           "https://github.com/jnsebgosselin/gwhat.git"
          ],
          [
           "<a href=\"https://github.com/bcgov/groundwater-levels-indicator.git\" style = \"color: black\">Long-term Trends in Groundwater Levels in B.C.</a>",
           "R scripts for an indicator on long-term trends in groundwater levels in British Columbia published on Environmental Reporting British Columbia.",
           "https://github.com/bcgov/groundwater-levels-indicator.git"
          ],
          [
           "<a href=\"https://github.com/bcgov/canwqdata.git\" style = \"color: black\">canwqdata</a>",
           "An R package to download open water quality data from Environment and Climate Change Canada's National Long-term Water Quality Monitoring Data.",
           "https://github.com/bcgov/canwqdata.git"
          ],
          [
           "<a href=\"https://github.com/USGS-R/HASP.git\" style = \"color: black\">HASP</a>",
           "Hydrologic AnalySis Package.",
           "https://github.com/USGS-R/HASP.git"
          ],
          [
           "<a href=\"https://github.com/CSHS-CWRA/CSHShydRology.git\" style = \"color: black\">CSHShydRology</a>",
           "This is a collection of R functions used by the Canadian Association Society for Hydrological Sciences.",
           "https://github.com/CSHS-CWRA/CSHShydRology.git"
          ],
          [
           "<a href=\"https://github.com/Call-for-Code/Liquid-Prep.git\" style = \"color: black\">Liquid Prep</a>",
           "Offers an end-to-end solution for farmers looking to optimize their water usage; especially during times of drought.",
           "https://github.com/Call-for-Code/Liquid-Prep.git"
          ],
          [
           "<a href=\"https://github.com/modflowpy/flopy.git\" style = \"color: black\">flopy</a>",
           "A Python package to create, run, and post-process MODFLOW-based models.",
           "https://github.com/modflowpy/flopy.git"
          ],
          [
           "<a href=\"https://github.com/pcraster/pcraster.git\" style = \"color: black\">PCRaster</a>",
           "A collection of tools and software libraries tailored to the construction of spatio-temporal environmental models.",
           "https://github.com/pcraster/pcraster.git"
          ],
          [
           "<a href=\"https://github.com/OSOceanAcoustics/echopype.git\" style = \"color: black\">Echopype</a>",
           "A package built to enable interoperability and scalability in ocean sonar data processing.",
           "https://github.com/OSOceanAcoustics/echopype.git"
          ],
          [
           "<a href=\"https://github.com/neuralhydrology/neuralhydrology.git\" style = \"color: black\">NeuralHydrology</a>",
           "Python library to train neural networks with a strong focus on hydrological applications.",
           "https://github.com/neuralhydrology/neuralhydrology.git"
          ],
          [
           "<a href=\"https://github.com/USGS-python/dataretrieval.git\" style = \"color: black\">dataretrieval</a>",
           "A Python alternative to USGS-R's dataRetrieval package for obtaining USGS or EPA water quality data, streamflow data, and metadata directly from web services.",
           "https://github.com/USGS-python/dataretrieval.git"
          ],
          [
           "<a href=\"https://github.com/iiasa/CWatM.git\" style = \"color: black\">CWatM</a>",
           "Assess water supply, water demand and environmental needs at global and regional level.",
           "https://github.com/iiasa/CWatM.git"
          ],
          [
           "<a href=\"https://github.com/ed-hawkins/rainfall-rescue.git\" style = \"color: black\">RainfallRescue</a>",
           "Monthly rainfall observations taken in the UK and Ireland, covering the period 1677-1960.",
           "https://github.com/ed-hawkins/rainfall-rescue.git"
          ],
          [
           "<a href=\"https://github.com/pySTEPS/pysteps.git\" style = \"color: black\">pySTEPS</a>",
           "An open-source and community-driven Python library for probabilistic precipitation nowcasting, i.e. short-term ensemble prediction systems.",
           "https://github.com/pySTEPS/pysteps.git"
          ],
          [
           "<a href=\"https://github.com/usbr/PyForecast.git\" style = \"color: black\">PyForecast</a>",
           "A statistical modeling tool used by Reclamation water managers and reservoir operators to train and build predictive models for seasonal inflows and streamflows.",
           "https://github.com/usbr/PyForecast.git"
          ],
          [
           "<a href=\"https://github.com/Open-ET/openet-ssebop.git\" style = \"color: black\">OpenET</a>",
           "Provides Google Earth Engine Python API based implementation of the SSEBop ET model used within OpenET.",
           "https://github.com/Open-ET/openet-ssebop.git"
          ],
          [
           "<a href=\"https://github.com/sbegueria/SPEI.git\" style = \"color: black\">SPEI</a>",
           "Computing the Standardized Precipitation-Evapotranspiration Index and other reference evapotranspiration.",
           "https://github.com/sbegueria/SPEI.git"
          ],
          [
           "<a href=\"https://github.com/mdbartos/pipedream.git\" style = \"color: black\">pipedream</a>",
           "Interactive hydrodynamic solver for sewer/stormwater networks.",
           "https://github.com/mdbartos/pipedream.git"
          ],
          [
           "<a href=\"https://github.com/USEPA/TADA.git\" style = \"color: black\">TADA</a>",
           "Help developers compile and evaluate water quality data for samples collected from surface water monitoring sites on streams and lakes.",
           "https://github.com/USEPA/TADA.git"
          ],
          [
           "<a href=\"https://github.com/tbep-tech/wqtrends.git\" style = \"color: black\">wqtrends</a>",
           "R package to assess water quality trends with generalized additive models.",
           "https://github.com/tbep-tech/wqtrends.git"
          ],
          [
           "<a href=\"https://github.com/ISRICWorldSoil/SoilGrids250m.git\" style = \"color: black\">SoilGrids250m</a>",
           "Global Spatial predictions of soil properties and classes at 250 m resolution.",
           "https://github.com/ISRICWorldSoil/SoilGrids250m.git"
          ],
          [
           "<a href=\"https://github.com/ncss-tech/soilReports.git\" style = \"color: black\">soilReports</a>",
           "An R package that assists with the setup and operation of a collection of soil data summary, comparison, and evaluation reports.",
           "https://github.com/ncss-tech/soilReports.git"
          ],
          [
           "<a href=\"https://github.com/ncss-tech/aqp.git\" style = \"color: black\">AQP</a>",
           "Algorithms for Quantitative Pedology is a collection of code, ideas, documentation, and examples wrapped-up into several R packages.",
           "https://github.com/ncss-tech/aqp.git"
          ],
          [
           "<a href=\"https://github.com/ncss-tech/sharpshootR.git\" style = \"color: black\">sharpshootR</a>",
           "Miscellaneous soil data management, summary, visualization, and conversion utilities to support soil survey.",
           "https://github.com/ncss-tech/sharpshootR.git"
          ],
          [
           "<a href=\"https://github.com/ncss-tech/soilDB.git\" style = \"color: black\">soilDB</a>",
           "Simplified Access to NCSS Soil Databases.",
           "https://github.com/ncss-tech/soilDB.git"
          ],
          [
           "<a href=\"https://github.com/hectornieto/pyTSEB.git\" style = \"color: black\">pyTSEB</a>",
           "Contains Python code for Two Source Energy Balance models (Priestley-Taylor TSEB-PT, Dual Time Difference DTD and TSEB with component soil and canopy temperatures TSEB-2T) for estimating sensible and latent heat flux based on measurements of radiometric surface temperature.",
           "https://github.com/hectornieto/pyTSEB.git"
          ],
          [
           "<a href=\"https://github.com/ropensci/smapr.git\" style = \"color: black\">smapr</a>",
           "An R package for acquisition and processing of NASA (Soil Moisture Active-Passive) SMAP data.",
           "https://github.com/ropensci/smapr.git"
          ],
          [
           "<a href=\"https://github.com/TUW-GEO/esa_cci_sm.git\" style = \"color: black\">esa_cci_sm</a>",
           "Readers and converters for ESA CCI Soil Moisture image and time series data.",
           "https://github.com/TUW-GEO/esa_cci_sm.git"
          ],
          [
           "<a href=\"https://github.com/TUW-GEO/pytesmo.git\" style = \"color: black\">pytesmo</a>",
           "Python Toolbox for the Evaluation of Soil Moisture Observations.",
           "https://github.com/TUW-GEO/pytesmo.git"
          ],
          [
           "<a href=\"https://github.com/esowc/ml_drought.git\" style = \"color: black\">ml_drought</a>",
           "A Machine Learning Pipeline to Predict Vegetation Health.",
           "https://github.com/esowc/ml_drought.git"
          ],
          [
           "<a href=\"https://github.com/wandb/droughtwatch.git\" style = \"color: black\">droughtwatch</a>",
           "Leverages deep learning and computer vision for drought resilience, using satellite images and human expert labels to detect drought conditions in Northern Kenya.",
           "https://github.com/wandb/droughtwatch.git"
          ],
          [
           "<a href=\"https://github.com/bpbond/srdb.git\" style = \"color: black\">srdb</a>",
           "Global soil respiration database.",
           "https://github.com/bpbond/srdb.git"
          ],
          [
           "<a href=\"https://github.com/bpbond/cosore.git\" style = \"color: black\">cosore</a>",
           "Data, metadata, and software tools for the COSORE database of continuous soil respiration measurements.",
           "https://github.com/bpbond/cosore.git"
          ],
          [
           "<a href=\"https://github.com/International-Soil-Radiocarbon-Database/ISRaD.git\" style = \"color: black\">ISRaD</a>",
           "Improve the use of radiocarbon as a constraint for understanding the soil carbon cycle.",
           "https://github.com/International-Soil-Radiocarbon-Database/ISRaD.git"
          ],
          [
           "<a href=\"https://github.com/OpenFLUID/openfluid.git\" style = \"color: black\">OpenFLUID</a>",
           "A software environment for modeling and simulation of complex landscape systems.",
           "https://github.com/OpenFLUID/openfluid.git"
          ],
          [
           "<a href=\"https://github.com/ConservationInternational/trends.earth.git\" style = \"color: black\">Trends.Earth</a>",
           "A QGIS plugin that supports monitoring of land change, including changes in productivity, land cover, and soil organic carbon.",
           "https://github.com/ConservationInternational/trends.earth.git"
          ],
          [
           "<a href=\"https://github.com/felixriese/CNN-SoilTextureClassification.git\" style = \"color: black\">CNN-SoilTextureClassification</a>",
           "One-dimensional convolutional neural networks (CNN) for the classification of soil texture based on hyperspectral data.",
           "https://github.com/felixriese/CNN-SoilTextureClassification.git"
          ],
          [
           "<a href=\"https://github.com/pyviz-topics/EarthML.git\" style = \"color: black\">EarthML</a>",
           "Improving, documenting, and illustrating how to use other, freely available, general-purpose open source projects to solve problems in the earth sciences.",
           "https://github.com/pyviz-topics/EarthML.git"
          ],
          [
           "<a href=\"https://github.com/geocryology/globsim.git\" style = \"color: black\">globsim</a>",
           "Using global reanalyses for permafrost simulation.",
           "https://github.com/geocryology/globsim.git"
          ],
          [
           "<a href=\"https://github.com/r-spatialecology/landscapemetrics.git\" style = \"color: black\">landscapemetrics</a>",
           "Landscape Metrics for Categorical Map Patterns in R.",
           "https://github.com/r-spatialecology/landscapemetrics.git"
          ],
          [
           "<a href=\"https://github.com/Christiaanvandertol/SCOPE.git\" style = \"color: black\">SCOPE</a>",
           "Simulation model for radiative transfer, photosynthesis and energy fluxes in vegetation and soil.",
           "https://github.com/Christiaanvandertol/SCOPE.git"
          ],
          [
           "<a href=\"https://github.com/martibosch/pylandstats.git\" style = \"color: black\">PyLandStats</a>",
           "An open-source Pythonic library to compute landscape metrics.",
           "https://github.com/martibosch/pylandstats.git"
          ],
          [
           "<a href=\"https://github.com/ropensci/NLMR.git\" style = \"color: black\">NLMR</a>",
           "R package to simulate neutral landscape models.",
           "https://github.com/ropensci/NLMR.git"
          ],
          [
           "<a href=\"https://github.com/eMapR/LT-GEE.git\" style = \"color: black\">LT-GEE</a>",
           "Google Earth Engine implementation of the LandTrendr spectral-temporal segmentation algorithm.",
           "https://github.com/eMapR/LT-GEE.git"
          ],
          [
           "<a href=\"https://github.com/moja-global/About_moja_global.git\" style = \"color: black\">Full Lands INtegration Tool</a>",
           "A modular system to estimate greenhouse gas emissions and removals by the land sector.",
           "https://github.com/moja-global/About_moja_global.git"
          ],
          [
           "<a href=\"https://github.com/TUW-GEO/ismn.git\" style = \"color: black\">ismn</a>",
           "Readers for the data from the International Soil Moisture Database.",
           "https://github.com/TUW-GEO/ismn.git"
          ],
          [
           "<a href=\"https://github.com/Vizzuality/soils-revealed.git\" style = \"color: black\">soils-revealed</a>",
           "Platform for direct visualization, analysis and reporting of soil organic carbon predictions and changes over time.",
           "https://github.com/Vizzuality/soils-revealed.git"
          ],
          [
           "<a href=\"https://github.com/SoilWatch/soil-erosion-watch.git\" style = \"color: black\">Soil Erosion Watch</a>",
           "A Google Earth Engine App to explore the state of the world's degraded soils.",
           "https://github.com/SoilWatch/soil-erosion-watch.git"
          ],
          [
           "<a href=\"https://github.com/sinnwerkstatt/landmatrix.git\" style = \"color: black\">Land Matrix</a>",
           "Independent global land monitoring initiative that promotes transparency & accountability in decisions over large-scale land acquisitions.",
           "https://github.com/sinnwerkstatt/landmatrix.git"
          ],
          [
           "<a href=\"https://github.com/e-sensing/sits.git\" style = \"color: black\">SITS</a>",
           "Enables users to apply machine learning techniques for classifying image time series obtained from earth observation data cubes.",
           "https://github.com/e-sensing/sits.git"
          ],
          [
           "<a href=\"https://github.com/landlab/landlab.git\" style = \"color: black\">Landlab</a>",
           "An open source Python package for numerical modeling of Earth surface dynamics.",
           "https://github.com/landlab/landlab.git"
          ],
          [
           "<a href=\"https://github.com/techmatters/terraso-backend.git\" style = \"color: black\">Terraso</a>",
           "Develop an open source technology platform to help local community leaders practice Integrated Landscape Management.",
           "https://github.com/techmatters/terraso-backend.git"
          ],
          [
           "<a href=\"https://github.com/reginalexavier/OpenLand.git\" style = \"color: black\">OpenLand</a>",
           "Tool for Quantitative Analysis and Visualization of Land Use and Land Cover Change.",
           "https://github.com/reginalexavier/OpenLand.git"
          ],
          [
           "<a href=\"https://github.com/FarmBot/Farmbot-Web-App.git\" style = \"color: black\">Farmbot</a>",
           "Humanity's open-source CNC farming machine.",
           "https://github.com/FarmBot/Farmbot-Web-App.git"
          ],
          [
           "<a href=\"https://github.com/mudpi/mudpi-core.git\" style = \"color: black\">MudPi</a>",
           "A scalable smart garden system that allows you to maintain controls, monitor conditions, and sustainably manage resources of your garden.",
           "https://github.com/mudpi/mudpi-core.git"
          ],
          [
           "<a href=\"https://github.com/DSSAT/dssat-csm-os.git\" style = \"color: black\">DSSAT Cropping System Model</a>",
           "Has been used for many applications ranging from on-farm and precision management to regional assessments of the impact of climate variability and climate change.",
           "https://github.com/DSSAT/dssat-csm-os.git"
          ],
          [
           "<a href=\"https://github.com/magpiemodel/magpie.git\" style = \"color: black\">MAgPIE</a>",
           "Model of Agricultural Production and its Impact on the Environment.",
           "https://github.com/magpiemodel/magpie.git"
          ],
          [
           "<a href=\"https://github.com/AgroCares/Open-Bodem-Index-Calculator.git\" style = \"color: black\">OBI</a>",
           "The Open-Bodem-Index-Calculator is a tool that evaluates the soil of agricultural fields based on four main criteria: chemical, physical, biological and management.",
           "https://github.com/AgroCares/Open-Bodem-Index-Calculator.git"
          ],
          [
           "<a href=\"https://github.com/PSUmodeling/Cycles.git\" style = \"color: black\">Cycles</a>",
           "A daily time-step agroecosystem model that simulates the biophysical processes and management practices occurring within cropping systems and other land uses.",
           "https://github.com/PSUmodeling/Cycles.git"
          ],
          [
           "<a href=\"https://github.com/APSIMInitiative/ApsimX.git\" style = \"color: black\">ApsimX</a>",
           "An agricultural modeling framework used extensively worldwide.",
           "https://github.com/APSIMInitiative/ApsimX.git"
          ],
          [
           "<a href=\"https://github.com/ConservationInternational/resilienceatlas.git\" style = \"color: black\">Resilience Atlas</a>",
           "An interactive analytical tool for building understanding of the extent and severity of some of the key stressors and shocks that are affecting rural livelihoods, production systems, and ecosystems in the Sahel, Horn of Africa and South and Southeast Asia.",
           "https://github.com/ConservationInternational/resilienceatlas.git"
          ],
          [
           "<a href=\"https://github.com/zalf-rpm/monica.git\" style = \"color: black\">monica</a>",
           "A dynamic, process-based simulation model which describes transport and bio-chemical turn-over of carbon, nitrogen and water in agro-ecosystems.",
           "https://github.com/zalf-rpm/monica.git"
          ],
          [
           "<a href=\"https://github.com/openfarmcc/OpenFarm.git\" style = \"color: black\">OpenFarm</a>",
           "A free and open database and web application for farming and gardening knowledge.",
           "https://github.com/openfarmcc/OpenFarm.git"
          ],
          [
           "<a href=\"https://github.com/kwstat/agridat.git\" style = \"color: black\">Agridat</a>",
           "An extensive collection of datasets from agricultural experiments.",
           "https://github.com/kwstat/agridat.git"
          ],
          [
           "<a href=\"https://github.com/ss3sim/ss3sim.git\" style = \"color: black\">ss3sim</a>",
           "An R package that facilitates flexible, rapid, and reproducible fisheries stock assessment simulation testing with the widely-used Stock Synthesis statistical age-structured stock assessment framework.",
           "https://github.com/ss3sim/ss3sim.git"
          ],
          [
           "<a href=\"https://github.com/fishR-Core-Team/FSA.git\" style = \"color: black\">Fisheries Stock Assessment</a>",
           "Provides R functions to conduct typical introductory fisheries analyses.",
           "https://github.com/fishR-Core-Team/FSA.git"
          ],
          [
           "<a href=\"https://github.com/fishR-Core-Team/RFishBC.git\" style = \"color: black\">RFishBC</a>",
           "Helps fisheries scientists collect measurements from calcified structures and back-calculate estimated lengths at previous ages.",
           "https://github.com/fishR-Core-Team/RFishBC.git"
          ],
          [
           "<a href=\"https://github.com/sizespectrum/mizer.git\" style = \"color: black\">mizer</a>",
           "An R package to run dynamic multi-species size-spectrum models of fish communities.",
           "https://github.com/sizespectrum/mizer.git"
          ],
          [
           "<a href=\"https://github.com/poseidon-fisheries/POSEIDON.git\" style = \"color: black\">POSEIDON</a>",
           "A fishery agent-based model.",
           "https://github.com/poseidon-fisheries/POSEIDON.git"
          ],
          [
           "<a href=\"https://github.com/karrot-dev/karrot-frontend.git\" style = \"color: black\">Karrot</a>",
           "Web application for organization of foodsaving groups worldwide.",
           "https://github.com/karrot-dev/karrot-frontend.git"
          ],
          [
           "<a href=\"https://github.com/openfoodfoundation/openfoodnetwork.git\" style = \"color: black\">openfoodnetwork</a>",
           "An online marketplace for local food. It enables a network of independent online food stores that connects farmers and food hubs with individuals and local businesses.",
           "https://github.com/openfoodfoundation/openfoodnetwork.git"
          ],
          [
           "<a href=\"https://github.com/Ecohackerfarm/powerplant.git\" style = \"color: black\">powerplant</a>",
           "Provides intelligent planting suggestions which maximize positive crop interaction for the mutual benefit of all your crops.",
           "https://github.com/Ecohackerfarm/powerplant.git"
          ],
          [
           "<a href=\"https://github.com/morkro/happy-plants.git\" style = \"color: black\">HappyPlants</a>",
           "Creating your own plant database in a visual way.",
           "https://github.com/morkro/happy-plants.git"
          ],
          [
           "<a href=\"https://github.com/EduardoFernandezC/dormancyR.git\" style = \"color: black\">dormancyR</a>",
           "Provide alternatives to common chill models used in horticulture to compute chill metrics in deciduous fruit tree orchards as well as functions to handle weather data.",
           "https://github.com/EduardoFernandezC/dormancyR.git"
          ],
          [
           "<a href=\"https://github.com/kazulagi/plantFEM.git\" style = \"color: black\">plantFEM</a>",
           "A plant simulator based on Finite Element Method, which targets crops in fields. This software provides multi-physical simulations of agriculture for canopies, plants, and organs for farmers, breeders, and agronomists.",
           "https://github.com/kazulagi/plantFEM.git"
          ],
          [
           "<a href=\"https://github.com/fineprint-global/fabio.git\" style = \"color: black\">FABIO</a>",
           "Forestry and Agriculture Biomass Input-Output Tables.",
           "https://github.com/fineprint-global/fabio.git"
          ],
          [
           "<a href=\"https://github.com/Growstuff/growstuff.git\" style = \"color: black\">Growstuff</a>",
           "Open source and open data platform that can predict when your plantings will be ready to harvest.",
           "https://github.com/Growstuff/growstuff.git"
          ],
          [
           "<a href=\"https://github.com/hmontazeri/is-vegan.git\" style = \"color: black\">Is-Vegan</a>",
           "Helps you to find out which food ingredients are vegan / non-vegan.",
           "https://github.com/hmontazeri/is-vegan.git"
          ],
          [
           "<a href=\"https://github.com/Shyentist/fish-r-man.git\" style = \"color: black\">fishRman</a>",
           "Shiny R Dashboard to easily query, download, analyse and visualise Global Fishing Watch data on fishing effort.",
           "https://github.com/Shyentist/fish-r-man.git"
          ],
          [
           "<a href=\"https://github.com/r4ss/r4ss.git\" style = \"color: black\">r4ss</a>",
           "A fisheries stock assessment model written by Rick Methot.",
           "https://github.com/r4ss/r4ss.git"
          ],
          [
           "<a href=\"https://github.com/hollorol/AgroMo.git\" style = \"color: black\">AgroMo</a>",
           "An Integrated Assessment and Modelling software that integrates a crop, biogeochemical and a agro-economical model.",
           "https://github.com/hollorol/AgroMo.git"
          ],
          [
           "<a href=\"https://github.com/nasaharvest/cropharvest.git\" style = \"color: black\">CropHarvest</a>",
           "Collects data from a variety of agricultural land use datasets and remote sensing products.",
           "https://github.com/nasaharvest/cropharvest.git"
          ],
          [
           "<a href=\"https://github.com/dl4sits/BreizhCrops.git\" style = \"color: black\">BreizhCrops</a>",
           "A Satellite Time Series Dataset for Crop Type Identification.",
           "https://github.com/dl4sits/BreizhCrops.git"
          ],
          [
           "<a href=\"https://github.com/JokeNetwork/vegancheck.me.git\" style = \"color: black\">VeganCheck.me</a>",
           "A multilingual progressive web app, which scans the EAN or UPC codes of over 3.000.000 food- or non-food-products and simply tells you if it they're vegan or not.",
           "https://github.com/JokeNetwork/vegancheck.me.git"
          ],
          [
           "<a href=\"https://github.com/sentinel-hub/field-delineation.git\" style = \"color: black\">Automatic field delineation</a>",
           "Generate automatic contours for agricultural parcels, given Sentinel-2 images.",
           "https://github.com/sentinel-hub/field-delineation.git"
          ],
          [
           "<a href=\"https://github.com/maja601/EuroCrops.git\" style = \"color: black\">EuroCrops</a>",
           "A dataset collection combining all publicly available self-declared crop reporting datasets from countries of the European Union.",
           "https://github.com/maja601/EuroCrops.git"
          ],
          [
           "<a href=\"https://github.com/inasafe/inasafe.git\" style = \"color: black\">InaSAFE</a>",
           "QGIS plugin for estimating impact from natural disasters.",
           "https://github.com/inasafe/inasafe.git"
          ],
          [
           "<a href=\"https://github.com/WFP-VAM/prism-app.git\" style = \"color: black\">PRISM</a>",
           "Assesses the potential risk and forecasts the impact of climate hazards on the most vulnerable communities, in order to design risk reduction activities and target disaster responses.",
           "https://github.com/WFP-VAM/prism-app.git"
          ],
          [
           "<a href=\"https://github.com/spaceml-org/ml4floods.git\" style = \"color: black\">ML4Floods</a>",
           "An ecosystem of data, models and code pipelines to tackle flooding with machine learning.",
           "https://github.com/spaceml-org/ml4floods.git"
          ],
          [
           "<a href=\"https://github.com/global-hydrodynamics/CaMa-Flood_v4.git\" style = \"color: black\">CaMa</a>",
           "Designed to simulate the hydrodynamics in continental-scale rivers.",
           "https://github.com/global-hydrodynamics/CaMa-Flood_v4.git"
          ],
          [
           "<a href=\"https://github.com/NOAA-OWP/inundation-mapping.git\" style = \"color: black\">Cahaba</a>",
           "Flood inundation mapping and evaluation software configured to work with U.S. National Water Model.",
           "https://github.com/NOAA-OWP/inundation-mapping.git"
          ],
          [
           "<a href=\"https://github.com/cloudtostreet/MODIS_GlobalFloodDatabase.git\" style = \"color: black\">Global Flood Database Scripts & Data</a>",
           "Used to produce the Global Flood Database and assess changes in population exposed to floods.",
           "https://github.com/cloudtostreet/MODIS_GlobalFloodDatabase.git"
          ],
          [
           "<a href=\"https://github.com/ec-jrc/lisflood-code.git\" style = \"color: black\">LISFLOOD</a>",
           "A spatially distributed water resources model, developed by the Joint Research Centre of the European Commission since 1997.",
           "https://github.com/ec-jrc/lisflood-code.git"
          ],
          [
           "<a href=\"https://github.com/NRCan/CanFlood.git\" style = \"color: black\">CanFlood</a>",
           "Flood Risk modelling toolbox for Canada.",
           "https://github.com/NRCan/CanFlood.git"
          ],
          [
           "<a href=\"https://github.com/Servir-Mekong/hydra-floods.git\" style = \"color: black\">HYDRAFloods</a>",
           "An open source Python application for downloading, processing, and delivering surface water maps derived from remote sensing data.",
           "https://github.com/Servir-Mekong/hydra-floods.git"
          ],
          [
           "<a href=\"https://github.com/OasisLMF/OasisLMF.git\" style = \"color: black\">OasisLMF</a>",
           "An open source catastrophe modelling platform, free to use by anyone.",
           "https://github.com/OasisLMF/OasisLMF.git"
          ],
          [
           "<a href=\"https://github.com/CriticalAssetManagement/CAMS.git\" style = \"color: black\">CAMS</a>",
           "Critical Asset Management and Disaster Resilience for Islands, Cities, and Communities.",
           "https://github.com/CriticalAssetManagement/CAMS.git"
          ],
          [
           "<a href=\"https://github.com/kLabUM/pystorms.git\" style = \"color: black\">pystorms</a>",
           "Simulation Sandbox for the Design and Evaluation of Stormwater Control Algorithms.",
           "https://github.com/kLabUM/pystorms.git"
          ],
          [
           "<a href=\"https://github.com/oceanmodeling/StormEvents.git\" style = \"color: black\">StormEvents</a>",
           "Provides Python interfaces for observational data surrounding named storm events.",
           "https://github.com/oceanmodeling/StormEvents.git"
          ],
          [
           "<a href=\"https://github.com/open-sdg/open-sdg.git\" style = \"color: black\">open-sdg</a>",
           "A platform for collecting and disseminating data for the Sustainable Development Goal global indicators.",
           "https://github.com/open-sdg/open-sdg.git"
          ],
          [
           "<a href=\"https://github.com/sustainlab-group/sustainbench.git\" style = \"color: black\">SustainBench</a>",
           "Benchmarks for Monitoring the Sustainable Development Goals with Machine Learning.",
           "https://github.com/sustainlab-group/sustainbench.git"
          ],
          [
           "<a href=\"https://github.com/GSA/sdg-indicators-usa.git\" style = \"color: black\">US Sustainable Development Goal indicators</a>",
           "U.S. National Reporting Platform for the Sustainable Development Goals.",
           "https://github.com/GSA/sdg-indicators-usa.git"
          ],
          [
           "<a href=\"https://github.com/owid/sdg-tracker.org.git\" style = \"color: black\">sdg-tracker.org</a>",
           "Sustainable Development Goals tracker website.",
           "https://github.com/owid/sdg-tracker.org.git"
          ],
          [
           "<a href=\"https://github.com/CMUSustainability/SDGmapR.git\" style = \"color: black\">SDGmapR</a>",
           "R functions and datasets related to the mapping of text to the United Nations 17 Sustainable Development Goals.",
           "https://github.com/CMUSustainability/SDGmapR.git"
          ],
          [
           "<a href=\"https://github.com/dwulff/text2sdg.git\" style = \"color: black\">text2sdg</a>",
           "Multi-system analysis package that identifies SDGs in text, opening up the opportunity to monitor any type of text-based data.",
           "https://github.com/dwulff/text2sdg.git"
          ],
          [
           "<a href=\"https://github.com/natcap/invest.git\" style = \"color: black\">InVEST</a>",
           "A family of tools for quantifying the values of natural capital in clear, credible, and practical ways.",
           "https://github.com/natcap/invest.git"
          ],
          [
           "<a href=\"https://github.com/remindmodel/remind.git\" style = \"color: black\">REMIND</a>",
           "A modular open source multi-regional model incorporating the economy, the climate system and a detailed representation of the energy sector.",
           "https://github.com/remindmodel/remind.git"
          ],
          [
           "<a href=\"https://github.com/RaphaelPB/WHAT-IF.git\" style = \"color: black\">WHAT-IF</a>",
           "Water, Hydropower, Agriculture Tool for Investment and Financing decision support tool.",
           "https://github.com/RaphaelPB/WHAT-IF.git"
          ],
          [
           "<a href=\"https://github.com/ScienceBasedTargets/SBTi-finance-tool.git\" style = \"color: black\">SBTi Temperature Alignment tool</a>",
           "Helps companies and financial institutions to assess the temperature alignment of current targets, commitments, and investment and lending portfolios, and to use this information to develop targets for official validation.",
           "https://github.com/ScienceBasedTargets/SBTi-finance-tool.git"
          ],
          [
           "<a href=\"https://github.com/fund-model/MimiFUND.jl.git\" style = \"color: black\">MimiFUND.jl</a>",
           "Used to perform cost-benefit and cost-effectiveness analyses of greenhouse gas emission reduction policies.",
           "https://github.com/fund-model/MimiFUND.jl.git"
          ],
          [
           "<a href=\"https://github.com/opentaps/open-climate-investing.git\" style = \"color: black\">open-climate-investing</a>",
           "Application and data for analyzing and structuring portfolios for climate investing.",
           "https://github.com/opentaps/open-climate-investing.git"
          ],
          [
           "<a href=\"https://github.com/NREL/ssc.git\" style = \"color: black\">SSC</a>",
           "Contains the source code for the technology and financial models contained within the National Renewable Energy Laboratory's System Advisor Model.",
           "https://github.com/NREL/ssc.git"
          ],
          [
           "<a href=\"https://github.com/os-climate/os_c_data_commons.git\" style = \"color: black\">OS-Climate Data Commons</a>",
           "Collect, normalize and integrate climate and ESG data from public and private sources.",
           "https://github.com/os-climate/os_c_data_commons.git"
          ],
          [
           "<a href=\"https://github.com/Yuanchao-Xu/gfer.git\" style = \"color: black\">gfer</a>",
           "Designed for green finance and environmental risk research focused on data collecting and analyzing in green finance and environmental risk research and analysis.",
           "https://github.com/Yuanchao-Xu/gfer.git"
          ],
          [
           "<a href=\"https://github.com/wikirate/wikirate.git\" style = \"color: black\">WikiRate</a>",
           "Facilitates research and analysis on complex topics in collaboration with partners, to make ESG data open, comparable and useful for all.",
           "https://github.com/wikirate/wikirate.git"
          ],
          [
           "<a href=\"https://github.com/ClimateWatch-Vizzuality/climate-watch.git\" style = \"color: black\">Climate Watch</a>",
           "Offers open data, visualizations and analysis to help policymakers, researchers and other stakeholders gather insights on countries' climate progress.",
           "https://github.com/ClimateWatch-Vizzuality/climate-watch.git"
          ],
          [
           "<a href=\"https://github.com/lf-energy/lfenergy-landscape.git\" style = \"color: black\">Linux Foundation Energy Landscape</a>",
           "This landscape is intended as a map to explore the open source projects in the energy sector, and also shows the member companies of the LF Energy Foundation.",
           "https://github.com/lf-energy/lfenergy-landscape.git"
          ],
          [
           "<a href=\"https://github.com/ProjectDrawdown/solutions.git\" style = \"color: black\">ProjectDrawdown</a>",
           "The mission of Project Drawdown is to help the world reach \"Drawdown\"— the point in the future when levels of greenhouse gases in the atmosphere stop climbing and start to steadily decline, thereby stopping catastrophic climate change — as quickly, safely, and equitably as possible.",
           "https://github.com/ProjectDrawdown/solutions.git"
          ],
          [
           "<a href=\"https://github.com/NOAAGov/NOAA-Affiliated-Projects.git\" style = \"color: black\">NOAA-Affiliated-Projects</a>",
           "A list of GitHub accounts and repositories that are contributed to by National Oceanic and Atmospheric Administration staff from line offices and/or staff office throughout the organization.",
           "https://github.com/NOAAGov/NOAA-Affiliated-Projects.git"
          ],
          [
           "<a href=\"https://github.com/EnvironmentOntology/envo.git\" style = \"color: black\">ENVO</a>",
           "A community-driven ontology for the representation of environments.",
           "https://github.com/EnvironmentOntology/envo.git"
          ],
          [
           "<a href=\"https://github.com/petermr/climate.git\" style = \"color: black\">Open Climate Knowledge</a>",
           "An open research project for data mining Open Access papers related to Climate Change.",
           "https://github.com/petermr/climate.git"
          ],
          [
           "<a href=\"https://github.com/EnviroDIY/ModularSensors.git\" style = \"color: black\">ModularSensors</a>",
           "This Arduino library gives environmental sensors a common interface of functions for use with Arduino-compatible dataloggers.",
           "https://github.com/EnviroDIY/ModularSensors.git"
          ],
          [
           "<a href=\"https://github.com/regen-network/regen-ledger.git\" style = \"color: black\">Regen Ledger</a>",
           "Providing a structured database of claims regarding ecological state and change of state.",
           "https://github.com/regen-network/regen-ledger.git"
          ],
          [
           "<a href=\"https://github.com/stripe/carbon-removal-source-materials.git\" style = \"color: black\">Stripe Climate Carbon Removal Purchases</a>",
           "Source materials supporting Stripe Climate carbon removal purchases.",
           "https://github.com/stripe/carbon-removal-source-materials.git"
          ],
          [
           "<a href=\"https://github.com/usds/justice40-tool.git\" style = \"color: black\">Justice40 Tool</a>",
           "A tool to identify disadvantaged communities due to environmental, socioeconomic and health burdens.",
           "https://github.com/usds/justice40-tool.git"
          ],
          [
           "<a href=\"https://github.com/DPGAlliance/publicgoods-candidates.git\" style = \"color: black\">Digital Public Goods</a>",
           "Accelerate the attainment of the sustainable development goals in low- and middle-income countries by facilitating the discovery, development, use of, and investment in digital public goods.",
           "https://github.com/DPGAlliance/publicgoods-candidates.git"
          ],
          [
           "<a href=\"https://github.com/ESIPFed/sweet.git\" style = \"color: black\">SWEET</a>",
           "Official repository for Semantic Web for Earth and Environmental Terminology Ontologies.",
           "https://github.com/ESIPFed/sweet.git"
          ],
          [
           "<a href=\"https://github.com/ClimateMind/climatemind-backend.git\" style = \"color: black\">Climatemind</a>",
           "Explore how your values and personal interests are being affected by climate change and shows you attractive solutions exist that you may not be aware of.",
           "https://github.com/ClimateMind/climatemind-backend.git"
          ],
          [
           "<a href=\"https://github.com/eea/geonetwork-eea.git\" style = \"color: black\">EEA geospatial data catalogue</a>",
           "Discover and access easily the geospatial data catalogue of the European Environment Agency.",
           "https://github.com/eea/geonetwork-eea.git"
          ],
          [
           "<a href=\"https://github.com/radiantearth/radiant-mlhub.git\" style = \"color: black\">Radiant MLHub Python Client</a>",
           "Open community commons for geospatial training data, machine learning models, and standards to encourage collaboration and share information.",
           "https://github.com/radiantearth/radiant-mlhub.git"
          ],
          [
           "<a href=\"https://github.com/owid/owid-catalog-py.git\" style = \"color: black\">owid-catalog</a>",
           "A Pythonic API for working with Our World in Data catalog.",
           "https://github.com/owid/owid-catalog-py.git"
          ],
          [
           "<a href=\"https://github.com/resource-watch/resource-watch.git\" style = \"color: black\">Resource Watch</a>",
           "Features hundreds of data sets all in one place on the state of the planet's resources and citizens.",
           "https://github.com/resource-watch/resource-watch.git"
          ],
          [
           "<a href=\"https://github.com/piersyork/owidR.git\" style = \"color: black\">owidR</a>",
           "An R Package for Interacting with Data from Our World in Data.",
           "https://github.com/piersyork/owidR.git"
          ],
          [
           "<a href=\"https://github.com/sentinel-hub/custom-scripts.git\" style = \"color: black\">Custom Scripts Sentinel Hub</a>",
           "A repository of custom scripts to be used with Sentinel Hub.",
           "https://github.com/sentinel-hub/custom-scripts.git"
          ],
          [
           "<a href=\"https://github.com/opengeospatial/ogcapi-environmental-data-retrieval.git\" style = \"color: black\">OGC API - Environmental Data Retrieval</a>",
           "A Web API that provides a family of lightweight interfaces for accessing Environmental Data resources.",
           "https://github.com/opengeospatial/ogcapi-environmental-data-retrieval.git"
          ],
          [
           "<a href=\"https://github.com/rOpenGov/eurostat.git\" style = \"color: black\">eurostat R package</a>",
           "R tools to access open data from Eurostat, the statistical office of the European Union.",
           "https://github.com/rOpenGov/eurostat.git"
          ],
          [
           "<a href=\"https://github.com/rOpenGov/giscoR.git\" style = \"color: black\">giscoR</a>",
           "An R API package that helps to retrieve data from Eurostat Geographic Information System of the Commission.",
           "https://github.com/rOpenGov/giscoR.git"
          ],
          [
           "<a href=\"https://github.com/digitalearthafrica/deafrica-sandbox-notebooks.git\" style = \"color: black\">Digital Earth Africa Notebooks</a>",
           "Using Earth observations to address social, environmental and economic changes on the Africa continent.",
           "https://github.com/digitalearthafrica/deafrica-sandbox-notebooks.git"
          ],
          [
           "<a href=\"https://github.com/ESGF/esgf-pyclient.git\" style = \"color: black\">ESGF PyClient</a>",
           " A Python package designed for interacting with the Earth System Grid Federation system.",
           "https://github.com/ESGF/esgf-pyclient.git"
          ],
          [
           "<a href=\"https://github.com/Open-EO/openeo-python-client.git\" style = \"color: black\">openEO</a>",
           "Provides intuitive programming libraries to process a wide variety of earth observation datasets.",
           "https://github.com/Open-EO/openeo-python-client.git"
          ],
          [
           "<a href=\"https://github.com/mysociety/caps.git\" style = \"color: black\">Climate Action Plans</a>",
           "A simple, open database of local government climate action plan documents and emissions data.",
           "https://github.com/mysociety/caps.git"
          ],
          [
           "<a href=\"https://github.com/nsidc/earthdata.git\" style = \"color: black\">earthdata</a>",
           "A Python library to search and access NASA datasets.",
           "https://github.com/nsidc/earthdata.git"
          ],
          [
           "<a href=\"https://github.com/microsoft/AIforEarthDataSets.git\" style = \"color: black\">AI for Earth Data Sets</a>",
           "Notebooks and documentation for AI-for-Earth-managed datasets on Azure.",
           "https://github.com/microsoft/AIforEarthDataSets.git"
          ],
          [
           "<a href=\"https://github.com/wpgp/wopr.git\" style = \"color: black\">wopr</a>",
           "An R package and Shiny application to provide API access to the WorldPop Open Population Repository.",
           "https://github.com/wpgp/wopr.git"
          ],
          [
           "<a href=\"https://github.com/nasa/earthdata-search.git\" style = \"color: black\">Earthdata Search</a>",
           "A web application developed by NASA EOSDIS to enable data discovery, search, comparison, visualization, and access across EOSDIS' Earth Science data holdings.",
           "https://github.com/nasa/earthdata-search.git"
          ],
          [
           "<a href=\"https://github.com/sentinel-hub/sentinelhub-py.git\" style = \"color: black\">sentinelhub-py</a>",
           "Download and process satellite imagery in Python using Sentinel Hub services.",
           "https://github.com/sentinel-hub/sentinelhub-py.git"
          ],
          [
           "<a href=\"https://github.com/microsoft/PlanetaryComputerDataCatalog.git\" style = \"color: black\">Planetary Computer Data Catalog</a>",
           "Combines a multi-petabyte catalog of global environmental data with intuitive APIs and a flexible scientific environment.",
           "https://github.com/microsoft/PlanetaryComputerDataCatalog.git"
          ],
          [
           "<a href=\"https://github.com/stac-utils/stac-index.git\" style = \"color: black\">STAC Index</a>",
           "Find STAC Catalogs, Collections, APIs, Software and Tools.",
           "https://github.com/stac-utils/stac-index.git"
          ],
          [
           "<a href=\"https://github.com/openclimatefix/Satip.git\" style = \"color: black\">Satip</a>",
           "A library for satellite image processing providing all of the functionality necessary for retrieving, and storing EUMETSAT data.",
           "https://github.com/openclimatefix/Satip.git"
          ],
          [
           "<a href=\"https://github.com/fdetsch/MODIS.git\" style = \"color: black\">MODIS</a>",
           "Provides automated access to the global online data archives LP DAAC, LAADS and NSIDC as well as processing capabilities such as file conversion, mosaicking, subsetting and time series.",
           "https://github.com/fdetsch/MODIS.git"
          ],
          [
           "<a href=\"https://github.com/ropensci/MODIStsp.git\" style = \"color: black\">MODIStsp</a>",
           "An R package for automatic download and preprocessing of MODIS Land Products Time-Series.",
           "https://github.com/ropensci/MODIStsp.git"
          ],
          [
           "<a href=\"https://github.com/ecmwf/ecmwf-opendata.git\" style = \"color: black\">ecmwf-opendata</a>",
           "A package to simplify the download of ECMWF open data.",
           "https://github.com/ecmwf/ecmwf-opendata.git"
          ],
          [
           "<a href=\"https://github.com/JuliaDataCubes/EarthDataLab.jl.git\" style = \"color: black\">EarthDataLab.jl</a>",
           "Julia interface for Reading from the Earth System Datacube.",
           "https://github.com/JuliaDataCubes/EarthDataLab.jl.git"
          ],
          [
           "<a href=\"https://github.com/kapadia/usgs.git\" style = \"color: black\">USGS</a>",
           "A python module for interfacing with the US Geological Survey's API.",
           "https://github.com/kapadia/usgs.git"
          ],
          [
           "<a href=\"https://github.com/16EAGLE/getSpatialData.git\" style = \"color: black\">getSpatialData</a>",
           "Making it easy to query, preview, download and preprocess multiple kinds of satellite datasets via R.",
           "https://github.com/16EAGLE/getSpatialData.git"
          ],
          [
           "<a href=\"https://github.com/sentinelsat/sentinelsat.git\" style = \"color: black\">sentinelsat</a>",
           "Makes searching, downloading and retrieving the metadata of Sentinel satellite images from the Copernicus Open Access Hub easy.",
           "https://github.com/sentinelsat/sentinelsat.git"
          ],
          [
           "<a href=\"https://github.com/smart-data-models/dataModel.Environment.git\" style = \"color: black\">Smart Data Models</a>",
           "This Models describe the main entities involved with smart applications that deal with environmental issues.",
           "https://github.com/smart-data-models/dataModel.Environment.git"
          ],
          [
           "<a href=\"https://github.com/ropensci/epair.git\" style = \"color: black\">epair</a>",
           "Use R to get data from the Environmental Protection Agency API.",
           "https://github.com/ropensci/epair.git"
          ],
          [
           "<a href=\"https://github.com/Unidata/siphon.git\" style = \"color: black\">Siphon</a>",
           "A collection of Python utilities for retrieving atmospheric and oceanic data from remote sources, focusing on being able to retrieve data from Unidata data technologies.",
           "https://github.com/Unidata/siphon.git"
          ]
         ],
         "hovertemplate": "Project Name: <b>%{customdata[0]}</b><br>Project Info: <b>%{customdata[1]}</b><br>Git URL: <b>%{customdata[2]}</b>",
         "legendgroup": "",
         "marker": {
          "color": [
           0.4787922358015816,
           0.1290322580645161,
           0.0727272727272727,
           0.1734104046242774,
           0.5051546391752577,
           0.6869158878504673,
           0.2692307692307693,
           0.0018832391713747,
           0.0651340996168582,
           0.3293768545994066,
           0.0139860139860139,
           0.3916449086161879,
           0.4962178517397881,
           0.2727272727272727,
           0.5555555555555556,
           0.6428571428571428,
           0.0199203187250995,
           0.1094736842105262,
           0.6597510373443983,
           0.3716814159292035,
           0.4888888888888889,
           0.4625550660792952,
           0.0769230769230768,
           0,
           0.4156626506024096,
           0.1696428571428571,
           0.0021680216802167,
           0.1320754716981131,
           0.5850622406639003,
           0.4323899371069182,
           0,
           0.0757918552036198,
           0,
           0.0334928229665071,
           0.4313725490196078,
           0.4731343283582089,
           0.7119205298013245,
           0.5354330708661417,
           0.031578947368421,
           0.4705882352941176,
           0.5183246073298429,
           0.3715481171548117,
           0.0293040293040293,
           0.7882816346627277,
           0.6067090803932909,
           0.7642466822794691,
           0.6,
           0.2106824925816023,
           0.4161205766710354,
           0.5529850746268656,
           0.0697674418604651,
           0.3974630021141648,
           0.6906206252916472,
           0.5733333333333333,
           0.0557620817843865,
           0,
           0.0029542097488921,
           0.2894736842105263,
           0.6654424040066778,
           0.4225721784776902,
           0.5944811037792441,
           0.138728323699422,
           0.5629139072847682,
           0.4207920792079208,
           0,
           0.4774011299435028,
           0.3753976670201484,
           0.3448275862068966,
           0.3072289156626506,
           0.1132075471698113,
           0.6164383561643836,
           0.5,
           0.2345132743362832,
           0.6109839816933638,
           0.012539184952978,
           0.0330672748004561,
           0.0372093023255813,
           0.1789473684210526,
           0,
           0.159217877094972,
           0.0326397388820889,
           0.0437442643010095,
           0.18,
           0.3914728682170543,
           0.1261437908496732,
           0.3710280373831776,
           0.5190156599552573,
           0.5718423372371237,
           0.3148148148148147,
           0.0557913887204366,
           0.5454545454545454,
           0.3023255813953488,
           0.673202614379085,
           0.125,
           0.3783783783783784,
           0.4038461538461538,
           0.4593639575971732,
           0.5,
           0.1098901098901099,
           0,
           0,
           0.1493555724033358,
           0,
           0.109628217349857,
           0.3521739130434782,
           0.4311111111111111,
           0.6701183431952662,
           0.2727272727272727,
           0.5875,
           0,
           0.575,
           0.6591089896579156,
           0.4577464788732394,
           0.231304347826087,
           0.3559322033898305,
           0.6086956521739131,
           0.646677471636953,
           0.5577507598784195,
           0.243161094224924,
           0.3506172839506173,
           0.7283950617283951,
           0.3406113537117904,
           0.269703656998739,
           0.4413043478260869,
           0.1486146095717884,
           0.6768342951360264,
           0.0034246575342465,
           0,
           0,
           0.4298480786416443,
           0.5661462612982744,
           0.5954648526077098,
           0.691588785046729,
           0.6011560693641618,
           0.7442307692307693,
           0.6676970633693973,
           0.6286982248520709,
           0.6898305084745763,
           0.6215864759427828,
           0.5822454308093995,
           0.6124954857349223,
           0.3969072164948454,
           0.0769230769230768,
           0.2524271844660194,
           0.3429003021148036,
           0,
           0.1639344262295081,
           0.375438596491228,
           0.6407274895646988,
           0.6415094339622642,
           0.3960749330954505,
           0.7035688273852877,
           0.6495726495726496,
           0.5329249617151608,
           0.7677584006805614,
           0.5154109589041096,
           0.0180890538033394,
           0.1807331628303495,
           0.650375939849624,
           0.5574548907882242,
           0.3199999999999999,
           0,
           0.5586088449978532,
           0,
           0.6871287128712871,
           0.0441176470588234,
           0.2052631578947368,
           0.2341772151898734,
           0.5441860465116279,
           0.2306489444878812,
           0,
           0,
           0.0791500664010623,
           0.3993610223642172,
           0.5061728395061729,
           0.7089041095890412,
           0.5046728971962617,
           0.5256283068783069,
           0.0045766590389015,
           0.4836065573770491,
           0.3028571428571428,
           0.7502673796791444,
           0.1029411764705882,
           0.6304347826086957,
           0.0329670329670329,
           0,
           0.7256983240223464,
           0.3402537485582468,
           0.2173611111111111,
           0.7969543147208122,
           0.6436013061732235,
           0.2263814616755793,
           0.2894736842105263,
           0.7925653969710876,
           0.4994475138121547,
           0,
           0.4189189189189189,
           0.6205405405405405,
           0.6165311653116532,
           0.7006305531670967,
           0.8535322777101096,
           0.1586368977673325,
           0.1875,
           0.0666666666666666,
           0.3474264705882353,
           0.3045346062052506,
           0.3543233082706767,
           0.5948051948051948,
           0.5157894736842106,
           0.7277936962750716,
           0.4517810599478714,
           0.1486946651532349,
           0.7071129707112971,
           0.7478344562078922,
           0.2345215759849905,
           0.34017363851618,
           0.005524861878453,
           0.5465020576131687,
           0.7028231797919762,
           0.0185758513931888,
           0.492288322316651,
           0.2199999999999999,
           0.6069651741293532,
           0.6449511400651466,
           0.2853982300884956,
           0.0389610389610389,
           0.0625,
           0.6666666666666667,
           0.6388888888888888,
           0.101063829787234,
           0.2802197802197802,
           0.8878737541528239,
           0.0186915887850467,
           0.0333333333333333,
           0,
           0.0006114649681528,
           0.1217948717948718,
           0.3086003372681282,
           0.3499327052489905,
           0.3770114942528736,
           0.0036231884057971,
           0.4007490636704119,
           0.4464831804281345,
           0.5588235294117647,
           0.5896830748482805,
           0.8557953408603687,
           0.7263712214471345,
           0.5,
           0.7676632455748922,
           0.5152091254752852,
           0.2112422484496899,
           0.4672614038040734,
           0.7429349676540689,
           0.7434842249657064,
           0.3699885452462772,
           0.0981873111782477,
           0.7044633368756642,
           0.3642314189189189,
           0.1689189189189189,
           0.61328125,
           0.6585365853658536,
           0.0356435643564356,
           0.4065743944636678,
           0.4077046548956661,
           0.4578900709219858,
           0.5740432612312811,
           0.028169014084507,
           0.4893184130213631,
           0.0585241730279898,
           0.1939546599496221,
           0.3927148548662492,
           0.0186113099498925,
           0.1082251082251082,
           0,
           0.5463917525773196,
           0.4519350811485643,
           0.564963503649635,
           0.3765432098765432,
           0.6214689265536724,
           0.4412811387900356,
           0.366412213740458,
           0.3950850661625709,
           0.3382570162481536,
           0.2813102119460501,
           0.1579254079254078,
           0.4924551386623165,
           0.3769230769230769,
           0.3571428571428571,
           0.7997284453496266,
           0.1738342594829669,
           0.1394611727416799,
           0.4920224234583872,
           0.5588822355289421,
           0.4294790343074968,
           0.528443113772455,
           0.8587618403247632,
           0.5873827791986359,
           0.1558441558441559,
           0.0444697833523375,
           0.2349794238683127,
           0.3361027190332326,
           0.5714285714285714,
           0.1609477124183006,
           0.3212410501193318,
           0.4968553459119497,
           0.12,
           0.0709939148073022,
           0.6296296296296297,
           0.4150943396226415,
           0,
           0.5244956772334294,
           0.15,
           0.0417310664605873,
           0.4460338101430429,
           0.6063348416289593,
           0.8218543046357616,
           0.7142857142857143,
           0.111310592459605,
           0.3974999999999999,
           0.0253411306042885,
           0,
           0,
           0.2803738317757009,
           0.2393509127789046,
           0.5708897270911915,
           0.0383091149273447,
           0.5675675675675675,
           0.0074906367041198,
           0.1512605042016807,
           0,
           0.8875,
           0.1265582655826558,
           0.0432330827067669,
           0.3278688524590164,
           0.0666666666666666,
           0.4700854700854701,
           0.25,
           0.0920245398773006,
           0.0502191609267376,
           0.732045567112432,
           0.6075949367088608,
           0.4434430752253081,
           0.3980099502487562,
           0.0225563909774436,
           0.2347140039447731,
           0.4285714285714286,
           0.4499999999999999,
           0.3076923076923077,
           0.4250645994832042,
           0.4444444444444444,
           0.7058823529411764,
           0.3316582914572864,
           0.2247191011235955,
           0.196078431372549,
           0.8300304878048781,
           0.1709401709401709,
           0.1428571428571429,
           0.0256410256410256,
           0.196078431372549,
           0.1467576791808873,
           0.7590361445783133,
           0.6551724137931034,
           0.6666666666666667,
           0.4571428571428572,
           0.1090909090909091,
           0.4642857142857143,
           0.2197802197802197,
           0.8112449799196787,
           0.2567567567567568,
           0.39568345323741,
           0.175,
           0.5590631364562118,
           0.4658753709198813,
           0.0158730158730159,
           0.3979416809605489,
           0.5861733203505355,
           0,
           0,
           0,
           0.773841961852861,
           0,
           0.3,
           0.36,
           0.0625,
           0.294820717131474,
           0.8,
           0.5811590222466355,
           0.0063291139240506,
           0.475177304964539,
           0.6634304207119741,
           0.7320441988950277,
           0.4322916666666666,
           0.0339366515837104,
           0.6544401544401545,
           0.0517241379310344,
           0.5208333333333333,
           0.0067114093959731,
           0.0092165898617511,
           0.3712660028449502,
           0.1831983805668016,
           0,
           0,
           0.1307847082494969,
           0.3115942028985508,
           0.3235294117647058,
           0.1395348837209302,
           0,
           0.3461538461538461,
           0.5675675675675675,
           0.05,
           0.0118203309692671,
           0.0410958904109589,
           0.5750708215297451,
           0.0896656534954407,
           0.307007786429366,
           0.1886792452830188,
           0.0169491525423728,
           0.7493408331868519,
           0.2887383573243014,
           0.1040061633281972,
           0.5314121037463977,
           0.6846071044133477,
           0.3877551020408163,
           0.0182926829268292,
           0.3478260869565217,
           0.0176470588235294,
           0.4516129032258065,
           0,
           0.3536076326774001,
           0,
           0.196969696969697,
           0.1187214611872146,
           0.0454545454545454,
           0.5168539325842696,
           0.1256684491978609,
           0.4053156146179402,
           0,
           0.011685276551545,
           0.0999999999999999,
           0.1841004184100418,
           0.2969808995686999,
           0.4860553324408746,
           0.6107129385137684,
           0.0095846645367412,
           0.03125,
           0.0052083333333333,
           0.6636363636363636,
           0.7096885813148789,
           0.109431995831162,
           0.1732973701955495,
           0.5,
           0.041820418204182,
           0.5714285714285714,
           0.2335766423357664,
           0.0053191489361702,
           0.6467065868263473,
           0.0027118644067796,
           0.5260416666666667,
           0.1313868613138685,
           0.0416666666666666,
           0.1968325791855203,
           0,
           0.0076726342710997,
           0.108695652173913,
           0.2919254658385093,
           0.6187088274044796,
           0.5020952380952381,
           0.0117416829745596,
           0.4461538461538461,
           0.010752688172043,
           0.1006134969325153,
           0.053468433359314,
           0.3355525965379494,
           0,
           0.2667295004712535,
           0.1842105263157895,
           0.2249999999999999,
           0.1245136186770428,
           0.1761194029850746,
           0.069129916567342,
           0.4590163934426229,
           0,
           0.266934942991281,
           0.6034618410700237,
           0.0352941176470588,
           0.5163727959697733,
           0.467741935483871,
           0.7986606178440268,
           0.1885714285714286,
           0.6216216216216216,
           0.7348726114649682,
           0.0124999999999999,
           0,
           0.0166666666666667,
           0.074074074074074,
           0.0304568527918781,
           0.4589371980676329,
           0.521551724137931,
           0.3969594594594594,
           0.7411561691113029,
           0,
           0.3207547169811321,
           0.6985559566787003,
           0.3783783783783784,
           0.0208333333333333,
           0.4945054945054945,
           0.7769125057260651,
           0.555431131019037,
           0.8638583638583639,
           0.1408450704225352,
           0.6093502377179081,
           0.04,
           0.3027295285359801,
           0.3133333333333333,
           0,
           0.3312101910828026,
           0.322463768115942,
           0.1318681318681318,
           0.3559322033898305,
           0.5281980742778543,
           0.2967533543150571,
           0.1140845070422534,
           0.6788910077746809,
           0.5056242969628797,
           0.009009009009009,
           0.3225806451612903,
           0.0701754385964912,
           0.0051282051282051,
           0.0263157894736841,
           0.1712328767123287,
           0.3634826711749789,
           0.620414673046252,
           0.2893976677008666,
           0.6309794988610478,
           0.188034188034188,
           0.0928792569659442,
           0.0338983050847457,
           0.1407972858354538,
           0,
           0.0044843049327354,
           0.1142857142857143,
           0.3333333333333333,
           0,
           0,
           0.3831242873432154,
           0.4029227557411273,
           0.1554878048780488,
           0.1802168021680217,
           0.2735042735042735,
           0.6586314152410575,
           0.6151079136690647,
           0.6231042271700549,
           0.3411016949152542,
           0.0759202453987729,
           0.0192307692307692,
           0.2829394626092586,
           0.5377551020408163,
           0.8637803590285111,
           0.2876935615321924,
           0.0467860613633208,
           0.6255355612682091,
           0,
           0.3478260869565217,
           0.4949859394068021,
           0.7008208321539768,
           0.2841952634122764,
           0.3447228549734245,
           0.6904149834741095,
           0.1866546438232642,
           0.5423138725227639,
           0.2056293979671618,
           0.5807280513918629,
           0.0481586402266288,
           0.0467882632831085,
           0.4844192634560906,
           0.2195121951219512,
           0.0251572327044025,
           0.5864570737605804,
           0.36,
           0.7481049054631002,
           0.3635448136958711,
           0.1807692307692308,
           0.02,
           0,
           0.3282051282051282,
           0.5737051792828685,
           0.1122448979591836,
           0.7033639143730888,
           0.237410071942446,
           0.451530612244898,
           0.5,
           0.545343137254902,
           0.3217821782178217,
           0,
           0.3043478260869565,
           0,
           0.5324858757062148,
           0.0856031128404669,
           0.4858490566037735,
           0.7260490894695171,
           0.0459418070444104,
           0.045964125560538,
           0.4409038238702202,
           0.3892128279883382,
           0.7282758620689656,
           0.2035010940919037,
           0.0677966101694915,
           0.2916666666666666,
           0.2233502538071066,
           0.1777777777777778,
           0.4359375,
           0.0246376811594203,
           0.0973011363636363,
           0.0109800732004879,
           0.0093896713615023,
           0.1136363636363636,
           0.6028751123090745,
           0.0582959641255604,
           0,
           0.5356868764389869,
           0.26,
           0.2251655629139073,
           0.0129870129870129,
           0.5625306522805297,
           0.8919941420551623,
           0.2375886524822694,
           0.6527777777777778,
           0.0203951561504143,
           0.8355420090113967,
           0.8198830409356725,
           0.726109556177529,
           0.0030864197530864,
           0.7933884297520661,
           0.5304937076476283,
           0.8774051285699043,
           0.484922575387123,
           0.4203539823008849,
           0.5598086124401913,
           0.183673469387755,
           0.1157222665602554,
           0.0767356881851401,
           0.0271565495207667,
           0.3041237113402062,
           0.7579175704989154,
           0.3333333333333333,
           0.6848334709606385,
           0.5382830626450116,
           0.7503121098626717,
           0.2696078431372549,
           0.5460060667340748,
           0.2631578947368421,
           0.066571224051539,
           0.6562810739144846,
           0.089108910891089,
           0.0352733686067019,
           0.0858585858585858,
           0.6790805115781171,
           0.3841463414634146,
           0.810784071234232,
           0.1828396322778345,
           0.2714285714285714,
           0,
           0.1902654867256636,
           0.0023866348448687,
           0,
           0.0476190476190476,
           0.4441887226697353,
           0.3416216216216216,
           0.18,
           0,
           0.6814345991561181,
           0.1623774509803921,
           0.5104302477183833,
           0.6445086705202312,
           0.5967741935483871,
           0.2896698615548455,
           0,
           0.5,
           0,
           0.4798136645962733,
           0.5708812260536398,
           0.5626666666666666,
           0.2135922330097087,
           0.0014409221902017,
           0,
           0.1428571428571429,
           0.5420353982300885,
           0.0572916666666666,
           0.3457943925233645,
           0.368421052631579,
           0.1590314136125654,
           0.0074626865671642,
           0.085499316005472,
           0.0240963855421686,
           0.1167369901547117,
           0.0031746031746031,
           0.4011299435028248,
           0.0075187969924812,
           0.4422496570644718,
           0.3356258596973865,
           0.3633305298570227,
           0.7483801295896328,
           0.4693266832917705,
           0.1351351351351351,
           0.4559333795975017,
           0.0344827586206896,
           0.6579439252336449,
           0.4680851063829787,
           0.5388739946380697,
           0.7078651685393258,
           0.0048780487804878,
           0.0014778325123152,
           0.1057692307692307,
           0.2879256965944272,
           0.1909090909090909,
           0.2280701754385965,
           0.2906287069988137,
           0.5,
           0.5951219512195122,
           0.4994606256742179,
           0.6206239580852584,
           0.4381625441696113,
           0.3333333333333333,
           0.1747572815533981,
           0,
           0,
           0.5007675775253301,
           0.4946386946386946,
           0.4631578947368421,
           0.6515837104072398,
           0.6754057428214731,
           0.0844272076372315,
           0.0459770114942529,
           0.2214765100671141,
           0.570334928229665,
           0.3443695479777954,
           0.5722070844686649,
           0.0101180438448567,
           0,
           0.093525179856115,
           0.125,
           0.0896755162241887,
           0.2095548317046688,
           0.565,
           0.1333333333333333,
           0.3333333333333333,
           0.4838709677419355,
           0.0365853658536585,
           0.4853717026378896,
           0,
           0.8305084745762712,
           0.0953101361573374,
           0.478021978021978,
           0.0335570469798657,
           0,
           0.374113475177305,
           0.805531167690957,
           0.7640449438202247,
           0.438118811881188,
           0.8136309825807543,
           0.426497277676951,
           0.4525043177892919,
           0.1428571428571429,
           0.6846435100548446,
           0.6867052023121387,
           0.0284605433376455,
           0.3043478260869565,
           0.1636363636363637,
           0.598326359832636,
           0.3633217993079585,
           0.288135593220339,
           0.0302114803625377,
           0.0397727272727272,
           0,
           0.0144230769230768,
           0,
           0.7605561277033985,
           0.7159353348729792,
           0.4119241192411924,
           0.3001038421599169,
           0.0353982300884956,
           0,
           0.4560439560439561,
           0,
           0.1129032258064516,
           0.0413793103448275,
           0.1268320180383314,
           0.0343377715487035,
           0.09375,
           0.474036850921273,
           0.4097007223942208,
           0.0929203539823009,
           0.8553459119496856,
           0.0309597523219814,
           0.2928176795580111,
           0.0148809523809523,
           0.5404699738903394,
           0.0604395604395604,
           0.0472103004291845,
           0.5870445344129555,
           0.5903771131339401,
           0.0210355987055016,
           0.7089129314786193,
           0.4205607476635514,
           0.3323943661971831,
           0.0060975609756097,
           0.8060522696011004,
           0.5445420326223338,
           0.5342679127725857,
           0.3983739837398373,
           0.6434077079107505,
           0.4499999999999999,
           0.4216524216524216,
           0.2797411647585863,
           0.0108695652173913,
           0.0089285714285713,
           0.497907949790795,
           0.2241758241758241,
           0.0004142502071251,
           0.4174757281553398,
           0.073170731707317,
           0.0509915014164306,
           0.3099630996309963,
           0,
           0.7220762155059133,
           0.2383177570093457,
           0.6072222222222222,
           0.5029940119760479,
           0.2916666666666666,
           0.2285714285714285,
           0,
           0.5754512635379061,
           0.3348837209302325,
           0.2773279352226721,
           0.0303030303030302,
           0.0387096774193548,
           0.3542857142857143,
           0,
           0.6551724137931034,
           0.5483870967741935,
           0.3045230631437527,
           0.1691056910569105,
           0.5056935817805384,
           0.3865248226950354,
           0.0204081632653061,
           0.4196428571428571,
           0.6363636363636364,
           0.4599999999999999,
           0,
           0.1099656357388316,
           0.0179487179487179,
           0.5872133425990271,
           0.4383697813121272,
           0.1544528425895498,
           0,
           0.4599999999999999,
           0.5686274509803921,
           0.4667119565217391,
           0.5531914893617021,
           0.0264317180616739,
           0.1935483870967742,
           0.0633484162895927,
           0.6061269146608315,
           0.5982142857142857,
           0.0919282511210762,
           0,
           0.6274754683318466,
           0.6461273666092944,
           0.5533164074896858,
           0.4054054054054054,
           0.0141509433962264,
           0.2469677419354838,
           0.1914357682619647,
           0.527007299270073,
           0.7343799058084772,
           0.6029526029526029,
           0.04,
           0.6563488670371953,
           0.4267886855241264,
           0.3468379446640316,
           0.6204849084611579,
           0,
           0.4560126582278481,
           0.0544554455445545,
           0,
           0.2150814053127677,
           0.4521008403361344,
           0.4512901527119536,
           0.857922954725973,
           0.5733333333333333,
           0.0114613180515759,
           0.032051282051282,
           0.4177215189873418,
           0.478021978021978,
           0.4441517386722866,
           0.4236111111111111,
           0,
           0.3720183486238532,
           0.6598639455782314,
           0.4153439153439153,
           0.2442396313364055,
           0.1168831168831169,
           0.5,
           0.1186440677966101,
           0.731155981015204,
           0.6728016359918201,
           0.3996383363471971,
           0.2580645161290322,
           0.7222222222222222,
           0.5,
           0.6170212765957447,
           0.0647321428571429,
           0.0961538461538461,
           0.5693430656934306,
           0.6923076923076923,
           0.1666666666666666,
           0.0268817204301075,
           0.2491417361451692,
           0.1428571428571429,
           0.8189884649511978,
           0.2108345534407028,
           0.0999999999999999,
           0.3733333333333333,
           0.6427733065057009,
           0.7894959762812368,
           0,
           0.5617529880478087,
           0.3890977443609023,
           0.5111111111111111,
           0.7644058450510063,
           0.5777777777777777,
           0,
           0.3741563248421511,
           0.621670592498641,
           0.4082051282051282,
           0.5274135876042908,
           0.9117647058823528,
           0.5428740390301596,
           0.2040816326530612,
           0.0911627906976744,
           0.7323767935121647,
           0.368421052631579,
           0.7387247278382582,
           0.4561806352851129,
           0.6147540983606558,
           0.7497612225405922,
           0.5793971042012818,
           0.259493670886076,
           0.3931034482758621,
           0.5767607919506654,
           0,
           0.6445714285714286,
           0.57223113964687,
           0.4140786749482401,
           0.2012012012012012,
           0.6462668298653611,
           0.5258964143426295,
           0.4042867701404287,
           0.6346633416458853,
           0.1694915254237288,
           0.1142857142857143,
           0,
           0.752362381880906,
           0.275375939849624,
           0.2762836185819071,
           0,
           0.659432387312187,
           0.1194379391100702,
           0.2936746987951807,
           0.0520833333333333,
           0.1301115241635687,
           0.1128205128205128,
           0.3344208809135399,
           0.5128504672897196,
           0.0384615384615384,
           0.3111888111888111,
           0.4197031039136302
          ],
          "coloraxis": "coloraxis",
          "size": [
           0.8894575230296826,
           0.41299897645854655,
           0.15647389969293757,
           0.470957011258956,
           0.6609518935516888,
           0.44025076765609006,
           0.12231320368474924,
           0.3196008188331627,
           0.33252302968270214,
           0.5308341862845445,
           0.24872057318321392,
           0.6967758444216992,
           0.6893551688843398,
           0.36885875127942686,
           0.3233111566018424,
           0.4657113613101331,
           0.2703428863868987,
           0.5417093142272262,
           0.4904042988741044,
           0.32625383828045035,
           0.3881780962128966,
           0.4843909928352098,
           0.20573183213920165,
           0.30207267144319344,
           0.4185005117707267,
           0.2791709314227226,
           0.4213152507676561,
           0.22134083930399184,
           0.34032753326509724,
           0.6768167860798362,
           0.039406345957011264,
           0.3828045035823951,
           0.09032753326509724,
           0.2782753326509724,
           0.6033776867963152,
           0.37973387922210855,
           0.6061924257932446,
           0.6470061412487206,
           0.15276356192425794,
           0.1937052200614125,
           0.5418372569089048,
           0.5809877175025588,
           0.5594933469805528,
           0.8948311156601843,
           0.9188843398157626,
           0.8588792221084954,
           0.6258955987717503,
           0.5303224155578301,
           0.7895342886386899,
           0.8073183213920163,
           0.2597236438075742,
           0.5422210849539406,
           0.9746673490276356,
           0.394575230296827,
           0.4394831115660184,
           0.06435516888433981,
           0.481064483111566,
           0.5785568065506653,
           0.7189099283520981,
           0.4547082906857728,
           0.7734135107471852,
           0.19332139201637666,
           0.640992835209826,
           0.3601586489252815,
           0.1281985670419652,
           0.5690890481064483,
           0.5165046059365405,
           0.4071136131013306,
           0.3565762538382804,
           0.1714431934493347,
           0.6379222108495394,
           0.14994882292732856,
           0.32727737973387927,
           0.8216479017400204,
           0.1748976458546571,
           0.6063203684749232,
           0.531345957011259,
           0.2851842374616172,
           0.055527123848515866,
           0.38805015353121797,
           0.6124616171954964,
           0.32970829068577273,
           0.07625383828045035,
           0.17067553735926305,
           0.5813715455475946,
           0.8133316274309109,
           0.6482855680655066,
           0.9540685772773798,
           0.598899692937564,
           0.6646622313203685,
           0.20585977482088028,
           0.2805783009211873,
           0.8396878198567042,
           0.22018935516888435,
           0.40800921187308087,
           0.09646878198567041,
           0.3294524053224156,
           0.16837256908904813,
           0.0768935516888434,
           0.04925793244626408,
           0.08776867963152507,
           0.3062947799385875,
           0.03723132036847492,
           0.6293500511770727,
           0.5207267144319345,
           0.2850562947799386,
           0.7306806550665301,
           0.09608495394063458,
           0.6262794268167861,
           0.022645854657113614,
           0.2438587512794268,
           0.9106960081883316,
           0.47876151484135104,
           0.6253838280450359,
           0.2469293756397134,
           0.796699078812692,
           0.7093142272262026,
           0.518935516888434,
           0.6903787103377687,
           0.5349283520982601,
           0.5710081883316275,
           0.5182958034800409,
           0.8840839303991812,
           0.8743602865916069,
           0.3323950870010236,
           0.9007164790174002,
           0.16619754350051175,
           0.21801432958034803,
           0.12384851586489254,
           0.7913254861821903,
           0.9251535312180144,
           0.8872824974411464,
           0.6463664278403275,
           0.6042732855680655,
           0.921699078812692,
           0.46903787103377687,
           0.8325230296827022,
           0.648157625383828,
           0.543756397134084,
           0.5980040941658137,
           0.7369498464687819,
           0.3985414534288639,
           0.4057062436028659,
           0.20278915046059365,
           0.5690890481064483,
           0.20931422722620266,
           0.18295803480040945,
           0.6005629477993859,
           0.6733623336745138,
           0.6784800409416581,
           0.8709058341862845,
           0.8187052200614124,
           0.3751279426816786,
           0.5925025588536336,
           0.9346212896622312,
           0.7502558853633572,
           0.5931422722620266,
           0.42553735926305014,
           0.8375127942681678,
           0.7531985670419651,
           0.311028659160696,
           0.25345445240532244,
           0.7121289662231319,
           0.1970317297850563,
           0.5511770726714431,
           0.14483111566018425,
           0.2533265097236438,
           0.4183725690890481,
           0.4617451381780962,
           0.7451381780962129,
           0.19895087001023543,
           0.03236949846468782,
           0.764073694984647,
           0.5516888433981576,
           0.2322159672466735,
           0.5318577277379735,
           0.29081371545547596,
           0.7749488229273287,
           0.34582906857727735,
           0.44626407369498466,
           0.3656601842374616,
           0.8070624360286591,
           0.1745138178096213,
           0.39738996929375636,
           0.20048618219037873,
           0.0916069600818833,
           0.8042476970317298,
           0.9461361310133061,
           0.8303480040941658,
           0.948439099283521,
           0.877942681678608,
           0.6646622313203685,
           0.3463408393039918,
           0.9472876151484135,
           0.6747697031729785,
           0.1343398157625384,
           0.7070112589559877,
           0.7712384851586489,
           0.8904810644831115,
           0.9467758444216992,
           0.9470317297850563,
           0.7915813715455476,
           0.47057318321392017,
           0.13203684749232344,
           0.7423234390992834,
           0.7279938587512795,
           0.5534800409416581,
           0.5438843398157626,
           0.4779938587512794,
           0.6186028659160696,
           0.741171954964176,
           0.6916581371545548,
           0.9549641760491299,
           0.9338536335721597,
           0.5492579324462641,
           0.9021238485158649,
           0.13561924257932445,
           0.8137154554759467,
           0.6544268167860798,
           0.5664022517911975,
           0.8936796315250768,
           0.06678607983623336,
           0.5954452405322416,
           0.739252814738997,
           0.4975690890481064,
           0.09966734902763562,
           0.1490532241555783,
           0.1413766632548618,
           0.658648925281474,
           0.227482088024565,
           0.29721084953940635,
           0.8240788126919141,
           0.1956243602865916,
           0.1615916069600819,
           0.11015864892528147,
           0.38843398157625386,
           0.3712896622313203,
           0.48861310133060387,
           0.5839303991811668,
           0.776740020470829,
           0.36975435005117707,
           0.6914022517911976,
           0.545675537359263,
           0.2515353121801433,
           0.9695496417604913,
           0.9925793244626407,
           0.973899692937564,
           0.11258955987717502,
           0.961489252814739,
           0.5745905834186285,
           0.8445496417604913,
           0.8581115660184238,
           0.9321903787103377,
           0.8334186284544525,
           0.8915046059365404,
           0.7920931422722621,
           0.9456243602865916,
           0.9616171954964176,
           0.3595189355168884,
           0.3697543500511771,
           0.22210849539406344,
           0.5222620266120779,
           0.5685772773797338,
           0.5891760491299898,
           0.9359007164790174,
           0.5404298874104401,
           0.2448822927328557,
           0.505885363357216,
           0.30719037871033783,
           0.45829068577277376,
           0.8964943705220061,
           0.8295803480040942,
           0.31281985670419654,
           0.5990276356192425,
           0.7374616171954964,
           0.7952917093142272,
           0.8806294779938588,
           0.6890992835209826,
           0.554503582395087,
           0.25742067553735926,
           0.35977482088024565,
           0.3602865916069601,
           0.448439099283521,
           0.5991555783009213,
           0.8085977482088025,
           0.43961105424769703,
           0.5878966223132037,
           0.31499488229273287,
           0.853121801432958,
           0.9741555783009213,
           0.6051688843398157,
           0.792093142272262,
           0.510747185261003,
           0.44741555783009207,
           0.6690122824974412,
           0.987589559877175,
           0.8544012282497441,
           0.3334186284544524,
           0.557446264073695,
           0.9334698055271239,
           0.8238229273285568,
           0.4332139201637666,
           0.8019447287615149,
           0.8550409416581372,
           0.6180910951893551,
           0.6320368474923235,
           0.7841606960081884,
           0.4640481064483111,
           0.5092118730808597,
           0.04785056294779939,
           0.7887666325486182,
           0.6564738996929376,
           0.46839815762538384,
           0.7048362333674513,
           0.6290941658137154,
           0.9728761514841351,
           0.6146366427840327,
           0.537871033776868,
           0.81985670419652,
           0.3480040941658137,
           0.07919651995905833,
           0.18052712384851588,
           0.22799385875127942,
           0.49117195496417604,
           0.8912487205731832,
           0.3810133060388946,
           0.4108239508700103,
           0.2676560900716479,
           0.3657881269191402,
           0.0383828045035824,
           0.7676560900716479,
           0.9167093142272262,
           0.5743346980552713,
           0.3210081883316274,
           0.11386898669396109,
           0.27123848515864896,
           0.4353889457523029,
           0.1457267144319345,
           0.9000767656090072,
           0.8417349027635619,
           0.3025844421699079,
           0.9547082906857728,
           0.8386642784032754,
           0.23541453428863868,
           0.6247441146366427,
           0.3203684749232344,
           0.2592118730808598,
           0.2507676560900717,
           0.6072159672466735,
           0.35568065506653024,
           0.4671187308085977,
           0.5222620266120779,
           0.2423234390992835,
           0.17592118730808598,
           0.8920163766632548,
           0.22505117707267147,
           0.12180143295803479,
           0.12717502558853633,
           0.17592118730808598,
           0.5583418628454453,
           0.6507164790174003,
           0.7050921187308086,
           0.5562947799385876,
           0.37858239508700103,
           0.2970829068577277,
           0.13536335721596726,
           0.36067041965199587,
           0.7634339815762539,
           0.2868474923234391,
           0.4713408393039918,
           0.2469293756397134,
           0.9646878198567042,
           0.46814227226202654,
           0.1702917093142272,
           0.7410440122824975,
           0.6143807574206755,
           0.13459570112589558,
           0.19933469805527124,
           0.07446264073694984,
           0.6388178096212896,
           0.05859774820880246,
           0.1297338792221085,
           0.510747185261003,
           0.11796315250767656,
           0.6486693961105425,
           0.8492835209825998,
           0.9365404298874105,
           0.28109007164790173,
           0.2196775844421699,
           0.4516376663254862,
           0.6724667349027635,
           0.3442937563971341,
           0.2538382804503582,
           0.5149692937563971,
           0.1441914022517912,
           0.2607471852610031,
           0.1122057318321392,
           0.3726970317297851,
           0.45982599795291706,
           0.6472620266120778,
           0.176560900716479,
           0.1476458546571136,
           0.20713920163766633,
           0.5406857727737974,
           0.22249232343909928,
           0.21212896622313204,
           0.12090583418628453,
           0.4575230296827022,
           0.15071647901740023,
           0.0867451381780962,
           0.2831371545547594,
           0.3078300921187308,
           0.590711361310133,
           0.22006141248720573,
           0.6834698055271239,
           0.13907369498464686,
           0.2001023541453429,
           0.9100562947799385,
           0.5707523029682703,
           0.5513050153531218,
           0.7096980552712384,
           0.6284544524053224,
           0.08892016376663253,
           0.3892016376663255,
           0.4769703172978506,
           0.16223132036847493,
           0.2569089048106448,
           0.026867963152507675,
           0.8016888433981576,
           0.061924257932446256,
           0.404042988741044,
           0.4058341862845445,
           0.0721596724667349,
           0.3968781985670419,
           0.36706755373592626,
           0.31806550665301947,
           0.1921699078812692,
           0.4731320368474924,
           0.2128966223132037,
           0.3208802456499488,
           0.8115404298874104,
           0.7024053224155579,
           0.6897389969293757,
           0.25908393039918115,
           0.08431422722620266,
           0.3203684749232344,
           0.9888689866939611,
           0.8889457523029682,
           0.8340583418628454,
           0.7199334698055271,
           0.6800153531218014,
           0.7235158648925281,
           0.6096468781985671,
           0.2823694984646878,
           0.220957011258956,
           0.9246417604912999,
           0.5049897645854656,
           0.5021750255885363,
           0.2336233367451382,
           0.2003582395087001,
           0.4231064483111566,
           0.09352610030706242,
           0.16453428863868988,
           0.2134083930399181,
           0.2955475946775845,
           0.8920163766632548,
           0.8541453428863869,
           0.45739508700102355,
           0.48631013306038895,
           0.24449846468781986,
           0.5286591606960082,
           0.7388689866939611,
           0.43474923234390994,
           0.09224667349027635,
           0.5413254861821903,
           0.4068577277379734,
           0.25115148413510746,
           0.5083162743091095,
           0.45035823950870013,
           0.4115916069600819,
           0.19140225179119755,
           0.26701637666325484,
           0.6343398157625384,
           0.7008700102354145,
           0.265992835209826,
           0.4467758444216991,
           0.202021494370522,
           0.9405066530194472,
           0.4275844421699079,
           0.3193449334698055,
           0.785568065506653,
           0.1957523029682702,
           0.12487205731832138,
           0.11105424769703172,
           0.2686796315250768,
           0.240532241555783,
           0.36924257932446264,
           0.481064483111566,
           0.27546059365404296,
           0.7883828045035823,
           0.039534288638689866,
           0.36143807574206754,
           0.7735414534288639,
           0.5611566018423746,
           0.17592118730808598,
           0.5318577277379735,
           0.8208802456499488,
           0.5513050153531218,
           0.9823439099283522,
           0.11949846468781986,
           0.8634851586489253,
           0.1558341862845445,
           0.39764585465711366,
           0.38280450358239504,
           0.1718270214943705,
           0.3025844421699079,
           0.41760491299897645,
           0.5536079836233367,
           0.3359774820880246,
           0.6659416581371546,
           0.9645598771750256,
           0.6521238485158648,
           0.8948311156601843,
           0.7524309109518934,
           0.2959314227226203,
           0.41427840327533266,
           0.12064994882292732,
           0.24718526100307064,
           0.22837768679631526,
           0.34902763561924255,
           0.8569600818833163,
           0.7709825997952917,
           0.7552456499488229,
           0.711489252814739,
           0.5396622313203685,
           0.2523029682702149,
           0.15736949846468784,
           0.6929375639713409,
           0.09083930399181167,
           0.2992579324462641,
           0.3187052200614125,
           0.7082906857727739,
           0.02482088024564995,
           0.06115660184237462,
           0.5359518935516889,
           0.5611566018423746,
           0.34557318321392017,
           0.7608751279426818,
           0.4547082906857728,
           0.7189099283520983,
           0.6411207778915046,
           0.955603889457523,
           0.5404298874104401,
           0.620138178096213,
           0.1988229273285568,
           0.8688587512794268,
           0.6773285568065507,
           0.9740276356192427,
           0.7416837256908905,
           0.8166581371545547,
           0.8117963152507677,
           0.030834186284544526,
           0.24347492323439096,
           0.9098004094165815,
           0.8683469805527124,
           0.6566018423746162,
           0.6298618219037871,
           0.9182446264073695,
           0.7342630501535312,
           0.9206755373592631,
           0.5358239508700102,
           0.643295803480041,
           0.35529682702149434,
           0.4996161719549642,
           0.44792732855680656,
           0.32433469805527126,
           0.1444472876151484,
           0.8477482088024565,
           0.42489764585465717,
           0.9744114636642783,
           0.6880757420675537,
           0.33329068577277376,
           0.1924257932446264,
           0.05079324462640737,
           0.4422978505629478,
           0.4698055271238485,
           0.28160184237461616,
           0.6180910951893551,
           0.22006141248720573,
           0.3881780962128966,
           0.21865404298874105,
           0.6394575230296827,
           0.7547338792221084,
           0.25921187308085974,
           0.1490532241555783,
           0.054503582395087,
           0.7351586489252815,
           0.6695240532241556,
           0.5411975435005119,
           0.6105424769703174,
           0.5468270214943706,
           0.46059365404298874,
           0.7366939611054247,
           0.5490020470829069,
           0.8271494370522006,
           0.33380245649948825,
           0.12755885363357217,
           0.375,
           0.5458034800409416,
           0.46814227226202665,
           0.5867451381780961,
           0.3421187308085977,
           0.6809109518935517,
           0.4873336745138178,
           0.20867451381780963,
           0.2528147389969294,
           0.8976458546571137,
           0.32996417604913,
           0.1440634595701126,
           0.7214687819856704,
           0.3788382804503582,
           0.41325486182190374,
           0.19984646878198567,
           0.906345957011259,
           0.9749232343909928,
           0.6124616171954964,
           0.5528403275332651,
           0.35696008188331624,
           0.9682702149437052,
           0.9003326509723644,
           0.8954708290685772,
           0.13037359263050152,
           0.7753326509723644,
           0.8089815762538383,
           0.9971852610030706,
           0.7263306038894576,
           0.7590839303991812,
           0.6615916069600819,
           0.4489508700102354,
           0.5165046059365404,
           0.715711361310133,
           0.6661975435005117,
           0.1828300921187308,
           0.938971340839304,
           0.7159672466734903,
           0.8409672466734903,
           0.7346468781985671,
           0.7671443193449334,
           0.31870522006141244,
           0.7816018423746163,
           0.5838024564994881,
           0.6283265097236438,
           0.8432702149437052,
           0.3508188331627431,
           0.6819344933469805,
           0.6099027635619242,
           0.7200614124872057,
           0.4002047082906858,
           0.9154298874104401,
           0.5946775844421699,
           0.3966223132036848,
           0.20573183213920165,
           0.24731320368474924,
           0.41581371545547596,
           0.04145342886386899,
           0.32625383828045035,
           0.7088024564994881,
           0.47159672466734903,
           0.11284544524053222,
           0.182446264073695,
           0.7381013306038895,
           0.8343142272262026,
           0.5542476970317298,
           0.9553480040941658,
           0.576381780962129,
           0.45317297850562943,
           0.03979017400204708,
           0.23938075742067552,
           0.10657625383828044,
           0.43103889457523026,
           0.7520470829068577,
           0.5736949846468782,
           0.4297594677584442,
           0.26663254861821906,
           0.07036847492323439,
           0.5134339815762539,
           0.8381525076765608,
           0.5377430910951893,
           0.5076765609007166,
           0.2990020470829069,
           0.6487973387922211,
           0.10785568065506654,
           0.4050665301944728,
           0.43641248720573184,
           0.4901484135107472,
           0.43781985670419654,
           0.3773029682702149,
           0.27302968270214945,
           0.9530450358239508,
           0.7300409416581373,
           0.667732855680655,
           0.7773797338792221,
           0.7301688843398157,
           0.5255885363357216,
           0.8006653019447288,
           0.2975946775844422,
           0.6638945752302968,
           0.6047850562947799,
           0.3494114636642784,
           0.281345957011259,
           0.3673234390992835,
           0.49795291709314227,
           0.20394063459570116,
           0.40685772773797335,
           0.34186284544524054,
           0.24117195496417607,
           0.6756653019447287,
           0.1907625383828045,
           0.6339559877175025,
           0.4289918116683726,
           0.9027635619242579,
           0.32702149437052197,
           0.47210849539406347,
           0.3117963152507677,
           0.11028659160696008,
           0.05168884339815762,
           0.8403275332650972,
           0.48004094165813715,
           0.29708290685772776,
           0.7366939611054247,
           0.9631525076765609,
           0.9012282497441146,
           0.10632036847492324,
           0.2412998976458547,
           0.776100307062436,
           0.6472620266120779,
           0.6541709314227226,
           0.2741811668372569,
           0.14278403275332652,
           0.7077789150460594,
           0.29183725690890483,
           0.6107983623336746,
           0.750639713408393,
           0.5620522006141249,
           0.25870010235414537,
           0.7833930399181167,
           0.34275844421699075,
           0.2131525076765609,
           0.5394063459570113,
           0.1041453428863869,
           0.34288638689866935,
           0.4944984646878198,
           0.7842886386898671,
           0.279682702149437,
           0.023285568065506655,
           0.7626663254861823,
           0.674257932446264,
           0.8050153531218014,
           0.6275588536335721,
           0.7940122824974412,
           0.6095189355168884,
           0.8158904810644831,
           0.33943193449334697,
           0.8569600818833163,
           0.8441658137154555,
           0.5399181166837257,
           0.13011770726714433,
           0.4108239508700102,
           0.8077021494370522,
           0.5569344933469805,
           0.49654554759467756,
           0.5472108495394064,
           0.2555015353121802,
           0.053863868986693965,
           0.20189355168884338,
           0.06780962128966223,
           0.8711617195496417,
           0.714431934493347,
           0.6839815762538383,
           0.7557574206755374,
           0.3638689866939611,
           0.05194472876151484,
           0.5790685772773798,
           0.0898157625383828,
           0.09979529170931423,
           0.38689866939611056,
           0.8220317297850563,
           0.7267144319344934,
           0.5530962128966223,
           0.6912743091095189,
           0.7824974411463664,
           0.6448311156601843,
           0.5736949846468782,
           0.5093398157625384,
           0.2894063459570112,
           0.3033520982599795,
           0.7987461617195496,
           0.44178607983623336,
           0.5913510747185261,
           0.3320112589559877,
           0.7896622313203685,
           0.4274564994882293,
           0.9577789150460594,
           0.16389457523029685,
           0.6899948822927329,
           0.20765097236438074,
           0.7254350051177073,
           0.8042476970317298,
           0.6844933469805528,
           0.19524053224155577,
           0.5878966223132037,
           0.1894831115660184,
           0.5606448311156602,
           0.9222108495394064,
           0.23528659160696008,
           0.2098259979529171,
           0.35209825997952915,
           0.2178863868986694,
           0.6392016376663254,
           0.26292221084953943,
           0.15365916069600818,
           0.37090583418628453,
           0.4453684749232344,
           0.02111054247697032,
           0.9238741044012283,
           0.4242579324462641,
           0.843654042988741,
           0.40378710337768675,
           0.24795291709314227,
           0.07510235414534289,
           0.1491811668372569,
           0.7419396110542478,
           0.4341095189355169,
           0.3751279426816786,
           0.20048618219037873,
           0.2858239508700102,
           0.4915557830092119,
           0.07587001023541454,
           0.28710337768679633,
           0.4176049129989764,
           0.6448311156601843,
           0.42732855680655063,
           0.6654298874104401,
           0.40660184237461616,
           0.3254861821903787,
           0.2679119754350051,
           0.6850051177072671,
           0.43129477993858756,
           0.12896622313203684,
           0.40340327533265097,
           0.4933469805527124,
           0.6761770726714431,
           0.7698311156601843,
           0.8060388945752304,
           0.0593654042988741,
           0.4359007164790174,
           0.5433725690890481,
           0.6893551688843398,
           0.23656601842374614,
           0.2008700102354145,
           0.5295547594677585,
           0.21596724667349027,
           0.614252814738997,
           0.38165301944728763,
           0.4090327533265098,
           0.0786847492323439,
           0.5186796315250768,
           0.8238229273285569,
           0.9199078812691914,
           0.47210849539406347,
           0.15724155578300922,
           0.9470317297850562,
           0.36783520982599793,
           0.7200614124872057,
           0.8582395087001023,
           0.6105424769703173,
           0.15174002047082907,
           0.9832395087001025,
           0.5974923234390992,
           0.3805015353121801,
           0.9103121801432958,
           0.1234646878198567,
           0.7530706243602866,
           0.44076253838280455,
           0.23771750255885363,
           0.657625383828045,
           0.5110030706243602,
           0.9545803480040942,
           0.9984646878198566,
           0.4936028659160696,
           0.5246929375639714,
           0.16850051177072672,
           0.6420163766632548,
           0.28313715455475946,
           0.9779938587512794,
           0.35759979529170927,
           0.32151995905834185,
           0.8449334698055271,
           0.5076765609007166,
           0.4594421699078813,
           0.23631013306038895,
           0.5381269191402253,
           0.17374616171954965,
           0.1294779938587513,
           0.981064483111566,
           0.7022773797338793,
           0.5547594677584442,
           0.44396110542476974,
           0.6685005117707267,
           0.07215967246673491,
           0.5403019447287615,
           0.5010235414534289,
           0.41363868986693964,
           0.8519703172978506,
           0.2516632548618219,
           0.2514073694984647,
           0.3116683725690891,
           0.8889457523029682,
           0.058469805527123844,
           0.9154298874104401,
           0.42771238485158647,
           0.052328556806550665,
           0.09902763561924258,
           0.8359774820880246,
           0.9160696008188332,
           0.04887410440122825,
           0.6755373592630503,
           0.5731832139201638,
           0.30578300921187307,
           0.9055783009211873,
           0.34723643807574206,
           0.05143295803480041,
           0.8592630501535312,
           0.9260491299897646,
           0.8300921187308086,
           0.8336745138178097,
           0.38293244626407374,
           0.8372569089048106,
           0.18513306038894572,
           0.7286335721596725,
           0.8623336745138177,
           0.11348515864892528,
           0.7975946775844421,
           0.9477993858751279,
           0.565634595701126,
           0.8036079836233367,
           0.691914022517912,
           0.5454196519959058,
           0.36476458546571133,
           0.9457523029682703,
           0.08073183213920163,
           0.7585721596724667,
           0.7525588536335722,
           0.6591606960081884,
           0.39930910951893556,
           0.7776356192425793,
           0.4857983623336745,
           0.7131525076765609,
           0.6668372569089048,
           0.4280962128966223,
           0.42221084953940635,
           0.3001535312180143,
           0.9434493346980553,
           0.7786591606960082,
           0.7309365404298874,
           0.09518935516888435,
           0.5493858751279427,
           0.40199590583418626,
           0.6289662231320368,
           0.16862845445240532,
           0.6454708290685772,
           0.43129477993858756,
           0.4701893551688844,
           0.7874872057318322,
           0.5154810644831116,
           0.31806550665301947,
           0.7981064483111566
          ],
          "sizemode": "area",
          "sizeref": 0.0024961617195496414,
          "symbol": "circle"
         },
         "mode": "markers",
         "name": "",
         "orientation": "h",
         "showlegend": false,
         "type": "scatter",
         "x": [
          7.734246575342466,
          4.495890410958904,
          6.1945205479452055,
          9.802739726027397,
          5.978082191780822,
          8.304109589041095,
          5.2,
          5.145205479452055,
          5.632876712328767,
          3.7315068493150685,
          3.6465753424657534,
          4.909589041095891,
          5.032876712328767,
          3.591780821917808,
          4.909589041095891,
          7.3123287671232875,
          5.947945205479452,
          6.276712328767124,
          3.3232876712328765,
          2.1123287671232878,
          5.156164383561644,
          2.728767123287671,
          3.221917808219178,
          3.4136986301369863,
          4.821917808219178,
          2.819178082191781,
          5.024657534246575,
          5.36986301369863,
          4.553424657534246,
          6.882191780821918,
          4.534246575342466,
          7.515068493150685,
          1.8054794520547945,
          7.704109589041096,
          14.7013698630137,
          2.6465753424657534,
          1.904109589041096,
          3.797260273972603,
          2.9616438356164383,
          2.5726027397260274,
          3.0931506849315067,
          6.210958904109589,
          8.383561643835616,
          4.526027397260274,
          6.1945205479452055,
          3.0164383561643837,
          5.884931506849315,
          3.0082191780821916,
          3.610958904109589,
          8.186301369863013,
          1.558904109589041,
          8.098630136986301,
          6.213698630136986,
          4.123287671232877,
          2.9205479452054797,
          4.284931506849315,
          4.589041095890411,
          7.405479452054794,
          6.095890410958904,
          3.5424657534246577,
          2.221917808219178,
          2.03013698630137,
          3.9178082191780823,
          1.926027397260274,
          4.065753424657534,
          2.936986301369863,
          3.5452054794520547,
          1.4219178082191781,
          8.936986301369863,
          3.6027397260273974,
          2.8986301369863012,
          2.23013698630137,
          3.210958904109589,
          8.443835616438356,
          3.665753424657534,
          5.153424657534247,
          5.241095890410959,
          1.6054794520547946,
          8.627397260273973,
          4.909589041095891,
          6.364383561643836,
          3.6136986301369864,
          1.8246575342465754,
          4.528767123287671,
          3.841095890410959,
          9.961643835616439,
          4.435616438356164,
          4.03013698630137,
          1.1178082191780823,
          6.904109589041096,
          3.758904109589041,
          7.693150684931507,
          2.73972602739726,
          4.295890410958904,
          3.073972602739726,
          3.5178082191780824,
          3.4904109589041097,
          2.473972602739726,
          3.084931506849315,
          2.010958904109589,
          6.208219178082191,
          1.1287671232876713,
          1.832876712328767,
          4.904109589041096,
          4.208219178082191,
          2.852054794520548,
          2.76986301369863,
          3.515068493150685,
          6.2027397260273975,
          2.010958904109589,
          1.5616438356164384,
          9.838356164383562,
          2.2958904109589042,
          3.317808219178082,
          4.810958904109589,
          3.8986301369863012,
          8.317808219178081,
          5.079452054794521,
          9.150684931506849,
          4.073972602739726,
          4.361643835616438,
          2.5534246575342467,
          5.019178082191781,
          4.912328767123288,
          5.35068493150685,
          4.432876712328767,
          2.5753424657534247,
          6.96986301369863,
          3.4767123287671233,
          4.358904109589041,
          5.446575342465754,
          6.967123287671233,
          6.835616438356165,
          2.663013698630137,
          3.7753424657534245,
          7.835616438356165,
          2.8,
          3.56986301369863,
          5.989041095890411,
          5.989041095890411,
          4.126027397260274,
          6.594520547945206,
          4.7835616438356166,
          3.819178082191781,
          7.597260273972603,
          3.164383561643836,
          2.9424657534246577,
          3.2575342465753425,
          2.7835616438356166,
          1.4794520547945205,
          6.978082191780822,
          6.835616438356165,
          6.561643835616438,
          3.6794520547945204,
          5.117808219178082,
          3.1123287671232878,
          5.901369863013699,
          6.654794520547945,
          3.287671232876712,
          6.572602739726028,
          3.723287671232877,
          1.821917808219178,
          3.2575342465753425,
          5.608219178082192,
          3.4602739726027396,
          3.8602739726027395,
          3.367123287671233,
          4.273972602739726,
          5.493150684931507,
          6.249315068493151,
          2.852054794520548,
          2.254794520547945,
          6.010958904109589,
          2.813698630136986,
          4.427397260273972,
          3.3232876712328765,
          0.9780821917808219,
          10.153424657534247,
          6.2904109589041095,
          3.063013698630137,
          2.6410958904109587,
          1.7506849315068493,
          8.263013698630138,
          2.515068493150685,
          2.8,
          1.3041095890410959,
          1.6958904109589041,
          6.071232876712329,
          6.227397260273973,
          4.123287671232877,
          6.238356164383561,
          7.742465753424658,
          10.706849315068494,
          10.073972602739726,
          1.9342465753424658,
          3.4986301369863013,
          3.7835616438356166,
          5.082191780821918,
          11.531506849315068,
          11.531506849315068,
          4.052054794520548,
          6.276712328767124,
          5.293150684931507,
          5.372602739726028,
          3.0876712328767124,
          5.602739726027397,
          4.071232876712329,
          5.824657534246575,
          2.5726027397260274,
          4.087671232876712,
          3.2356164383561645,
          6.83013698630137,
          3.243835616438356,
          6.005479452054795,
          2.6465753424657534,
          5.904109589041096,
          3.317808219178082,
          3.9945205479452053,
          0.9753424657534246,
          5.153424657534247,
          5.7753424657534245,
          4.589041095890411,
          5.3342465753424655,
          3.2246575342465755,
          6.241095890410959,
          7.471232876712329,
          7.506849315068493,
          3.378082191780822,
          6.019178082191781,
          2.315068493150685,
          2.1726027397260275,
          9.208219178082192,
          3.0712328767123287,
          4.610958904109589,
          1.895890410958904,
          3.4438356164383563,
          0.28493150684931506,
          1.0356164383561643,
          8.01917808219178,
          4.504109589041096,
          2.0136986301369864,
          8.07945205479452,
          8.150684931506849,
          2.3972602739726026,
          9.013698630136986,
          8.972602739726028,
          9.35890410958904,
          3.3232876712328765,
          8.063013698630137,
          6.93972602739726,
          5.2904109589041095,
          4.021917808219178,
          8.342465753424657,
          7.057534246575343,
          8.73150684931507,
          4.917808219178082,
          6.832876712328767,
          9.695890410958905,
          9.115068493150686,
          5.742465753424658,
          6.786301369863014,
          5.717808219178083,
          5.906849315068493,
          7.008219178082192,
          9.142465753424657,
          6.287671232876712,
          3.578082191780822,
          3.4164383561643836,
          2.750684931506849,
          8.189041095890412,
          6.586301369863014,
          6.761643835616439,
          3.4712328767123286,
          5.545205479452055,
          6.197260273972603,
          8.942465753424658,
          12.312328767123288,
          3.4493150684931506,
          1.0986301369863014,
          1.5972602739726027,
          1.4,
          1.8246575342465754,
          9.364383561643836,
          5.567123287671233,
          7.7835616438356166,
          6.156164383561644,
          3.5095890410958903,
          4.605479452054794,
          6.30958904109589,
          5.950684931506849,
          5.424657534246576,
          10.213698630136987,
          5.920547945205479,
          7.002739726027397,
          5.693150684931507,
          9.4,
          4.526027397260274,
          4.372602739726028,
          9.452054794520548,
          2.9315068493150687,
          9.186301369863013,
          5.3123287671232875,
          9.183561643835617,
          11.427397260273972,
          8.158904109589042,
          10.747945205479452,
          9.463013698630137,
          6.3342465753424655,
          3.9753424657534246,
          1.7232876712328766,
          10.336986301369864,
          7.635616438356164,
          5.9150684931506845,
          3.8,
          3.0575342465753423,
          6.008219178082192,
          5.271232876712329,
          4.873972602739726,
          12.32876712328767,
          3.947945205479452,
          6.471232876712329,
          7.523287671232877,
          2.4657534246575343,
          3.7205479452054795,
          4.115068493150685,
          3.786301369863014,
          3.706849315068493,
          7.197260273972603,
          3.7424657534246575,
          3.5643835616438357,
          6.936986301369863,
          9.2986301369863,
          2.632876712328767,
          2.8986301369863012,
          3.26027397260274,
          8.849315068493151,
          4.438356164383562,
          2.186301369863014,
          4.438356164383562,
          9.572602739726028,
          0.8904109589041096,
          9.810958904109588,
          2.9863013698630136,
          4.542465753424658,
          2.0684931506849313,
          0.6657534246575343,
          5.205479452054795,
          3.326027397260274,
          3.671232876712329,
          2.7260273972602738,
          2.2904109589041095,
          2.7150684931506848,
          2.5205479452054793,
          1.673972602739726,
          1.978082191780822,
          2.978082191780822,
          1.652054794520548,
          1.8,
          1.673972602739726,
          1.7178082191780821,
          1.6684931506849314,
          0.7726027397260274,
          1.3643835616438356,
          2.643835616438356,
          2.0191780821917806,
          0.4465753424657534,
          3.2465753424657535,
          2.4986301369863013,
          3.0136986301369864,
          1.8630136986301369,
          3.682191780821918,
          6.476712328767123,
          0.726027397260274,
          3.0356164383561643,
          2.9616438356164383,
          1.8164383561643835,
          1.926027397260274,
          2.6931506849315068,
          1.347945205479452,
          1.1369863013698631,
          1.4794520547945205,
          4.608219178082192,
          3.4986301369863013,
          2.1397260273972605,
          2.610958904109589,
          5.413698630136986,
          4.528767123287671,
          3.5452054794520547,
          6.227397260273973,
          2.6876712328767125,
          3.1232876712328768,
          5.093150684931507,
          5.082191780821918,
          5.175342465753425,
          2.473972602739726,
          2.263013698630137,
          4.597260273972603,
          6.342465753424658,
          4.293150684931507,
          2.1123287671232878,
          3.0246575342465754,
          2.441095890410959,
          3.5342465753424657,
          1.4328767123287671,
          5.158904109589041,
          1.9726027397260273,
          1.9232876712328768,
          2.2904109589041095,
          0.29041095890410956,
          2.0356164383561643,
          2.6931506849315068,
          3.43013698630137,
          5.3863013698630136,
          4.890410958904109,
          9.205479452054794,
          5.758904109589041,
          2.6164383561643834,
          5.734246575342466,
          2.115068493150685,
          3.9945205479452053,
          2.9945205479452053,
          4.764383561643836,
          1.9534246575342467,
          8.342465753424657,
          6.706849315068493,
          3.4246575342465753,
          3.0904109589041098,
          5.5917808219178085,
          2.2246575342465755,
          3.9863013698630136,
          2.421917808219178,
          2.1671232876712327,
          1.273972602739726,
          1.9753424657534246,
          2.378082191780822,
          3.315068493150685,
          3.1534246575342464,
          5.586301369863014,
          4.920547945205479,
          4.189041095890411,
          4.83013698630137,
          7.353424657534247,
          6.846575342465753,
          6.49041095890411,
          5.235616438356164,
          6.008219178082192,
          10.490410958904109,
          6.69041095890411,
          11.487671232876712,
          11.216438356164383,
          11.123287671232877,
          6.734246575342466,
          4.682191780821918,
          4.504109589041096,
          3.9917808219178084,
          9.728767123287671,
          2.4438356164383563,
          10.756164383561643,
          6.802739726027397,
          7.597260273972603,
          10.273972602739725,
          4.093150684931507,
          3.6027397260273974,
          3.2986301369863016,
          3.2958904109589042,
          8.665753424657535,
          6.923287671232877,
          5.945205479452055,
          3.175342465753425,
          5.364383561643836,
          9.186301369863013,
          6.257534246575342,
          4.263013698630137,
          5.13972602739726,
          4.841095890410959,
          2.4328767123287673,
          6.934246575342466,
          10.986301369863014,
          9.156164383561643,
          3.627397260273973,
          6.605479452054794,
          4.909589041095891,
          9.575342465753424,
          3.317808219178082,
          6.857534246575343,
          7.8,
          4.1808219178082195,
          4.531506849315068,
          3.315068493150685,
          2.1123287671232878,
          2.558904109589041,
          3.186301369863014,
          2.7945205479452055,
          3.282191780821918,
          2.767123287671233,
          2.326027397260274,
          1.8767123287671232,
          2.26027397260274,
          2.7945205479452055,
          2.8,
          1.3616438356164384,
          1.6191780821917807,
          3.265753424657534,
          7.446575342465754,
          1.3863013698630138,
          2.802739726027397,
          6.331506849315068,
          10.915068493150685,
          9.961643835616439,
          2.6684931506849314,
          5.161643835616438,
          5.8712328767123285,
          3.0876712328767124,
          2.3068493150684932,
          4.553424657534246,
          11.265753424657534,
          0.7506849315068493,
          5.764383561643836,
          5.550684931506849,
          8.043835616438356,
          13.191780821917808,
          4.087671232876712,
          9.191780821917808,
          6.468493150684932,
          5.041095890410959,
          5.243835616438356,
          3.9972602739726026,
          3.2684931506849315,
          6.980821917808219,
          6.03013698630137,
          7.093150684931507,
          5.468493150684932,
          11.024657534246575,
          5.468493150684932,
          4.1808219178082195,
          5.1287671232876715,
          3.287671232876712,
          8.753424657534246,
          3.3945205479452056,
          5.487671232876712,
          4.7972602739726025,
          3.3917808219178083,
          1.5835616438356164,
          1.83013698630137,
          3.0904109589041098,
          3.0904109589041098,
          5.052054794520548,
          2.728767123287671,
          3.66027397260274,
          4.449315068493151,
          2.767123287671233,
          4.079452054794521,
          3.26027397260274,
          5.953424657534247,
          4.912328767123288,
          8.906849315068493,
          4.5917808219178085,
          10.26849315068493,
          5.6,
          12.654794520547945,
          5.35068493150685,
          7.542465753424658,
          4.550684931506849,
          4.778082191780822,
          5.410958904109589,
          6.676712328767123,
          6.756164383561644,
          5.427397260273972,
          9.345205479452055,
          7.120547945205479,
          4.715068493150685,
          7.019178082191781,
          3.5123287671232877,
          6.156164383561644,
          6.920547945205479,
          12.063013698630137,
          7.2,
          4.734246575342466,
          6.235616438356164,
          8.112328767123287,
          9.567123287671233,
          2.287671232876712,
          5.221917808219178,
          5.8931506849315065,
          8.197260273972603,
          3.6876712328767125,
          3.6,
          5.66027397260274,
          2.9506849315068493,
          2.1890410958904107,
          1.6876712328767123,
          2.665753424657534,
          6.465753424657534,
          1.5095890410958903,
          1.8986301369863015,
          7.832876712328767,
          2.536986301369863,
          2.652054794520548,
          4.2027397260273975,
          9.58904109589041,
          5.2246575342465755,
          2.780821917808219,
          6.575342465753424,
          2.8,
          9.761643835616438,
          6.758904109589041,
          2.6684931506849314,
          5.761643835616439,
          3.591780821917808,
          9.26027397260274,
          5.586301369863014,
          2.873972602739726,
          7.043835616438356,
          8.934246575342465,
          3.1616438356164385,
          3.824657534246575,
          1.936986301369863,
          7.47945205479452,
          7.619178082191781,
          5.326027397260274,
          8.10958904109589,
          4.7835616438356166,
          2.873972602739726,
          4.397260273972603,
          4.375342465753425,
          3.1616438356164385,
          4.295890410958904,
          2.326027397260274,
          5.791780821917809,
          8.572602739726028,
          2.904109589041096,
          3.967123287671233,
          5.2,
          3.5945205479452054,
          8.361643835616439,
          5.36986301369863,
          3.4547945205479453,
          4.989041095890411,
          3.4986301369863013,
          3.4712328767123286,
          6.904109589041096,
          5.413698630136986,
          1.4821917808219178,
          3.9013698630136986,
          4.706849315068493,
          0.9945205479452055,
          10.378082191780821,
          8.252054794520548,
          5.7972602739726025,
          3.904109589041096,
          5.958904109589041,
          8.093150684931507,
          4.945205479452055,
          2.463013698630137,
          5.9150684931506845,
          6.1068493150684935,
          2.76986301369863,
          4.413698630136986,
          9.424657534246576,
          8.687671232876712,
          7.142465753424657,
          3.824657534246575,
          2.2054794520547945,
          2.5287671232876714,
          2.5397260273972604,
          6.306849315068493,
          5.153424657534247,
          9.04931506849315,
          3.1671232876712327,
          3.3917808219178083,
          7.205479452054795,
          6.389041095890411,
          7.641095890410959,
          6.238356164383561,
          6.471232876712329,
          1.4,
          2.778082191780822,
          2.9397260273972603,
          3.6876712328767125,
          5.704109589041096,
          3.684931506849315,
          8.536986301369863,
          4.013698630136986,
          2.115068493150685,
          0.5178082191780822,
          2.3589041095890413,
          10.038356164383561,
          10.263013698630138,
          4.372602739726028,
          4.241095890410959,
          2.0164383561643837,
          2.873972602739726,
          7.69041095890411,
          1.3808219178082193,
          6.4301369863013695,
          5.353424657534247,
          3.3205479452054796,
          6.063013698630137,
          11.715068493150685,
          3.926027397260274,
          8.534246575342467,
          7.441095890410959,
          3.1616438356164385,
          1.6082191780821917,
          3.7095890410958905,
          2.265753424657534,
          2.0602739726027397,
          0.9671232876712329,
          7.021917808219178,
          3.591780821917808,
          3.706849315068493,
          7.638356164383562,
          3.0082191780821916,
          1.8082191780821917,
          2.2849315068493152,
          1.2328767123287672,
          8.824657534246576,
          2.819178082191781,
          2.627397260273973,
          3.5972602739726027,
          4.293150684931507,
          5.010958904109589,
          8.635616438356164,
          8.515068493150684,
          7.413698630136986,
          3.671232876712329,
          6.635616438356164,
          2.356164383561644,
          3.8164383561643835,
          9.26849315068493,
          9.26849315068493,
          8.830136986301369,
          5.054794520547945,
          2.347945205479452,
          9.490410958904109,
          6.1945205479452055,
          4.410958904109589,
          6.06027397260274,
          2.293150684931507,
          4.323287671232877,
          2.904109589041096,
          5.53972602739726,
          3.863013698630137,
          7.6,
          5.6219178082191785,
          7.712328767123288,
          8.830136986301369,
          3.96986301369863,
          8.04109589041096,
          0.8493150684931506,
          0.4383561643835616,
          3.221917808219178,
          4.936986301369863,
          4.449315068493151,
          1.093150684931507,
          4.931506849315069,
          6.786301369863014,
          2.5315068493150683,
          2.126027397260274,
          6.1808219178082195,
          5.583561643835616,
          4.638356164383562,
          4.986301369863014,
          7.608219178082192,
          10.821917808219178,
          7.824657534246575,
          6.161643835616438,
          1.8273972602739725,
          7.043835616438356,
          4.6876712328767125,
          7.295890410958904,
          6.545205479452055,
          6.241095890410959,
          2.0821917808219177,
          6.701369863013698,
          4.64931506849315,
          10.967123287671233,
          3.9534246575342467,
          2.852054794520548,
          8.87945205479452,
          1.6849315068493151,
          3.682191780821918,
          0.7835616438356164,
          1.7315068493150685,
          2.4575342465753423,
          8.665753424657535,
          9.827397260273973,
          9.827397260273973,
          5.473972602739726,
          2.627397260273973,
          2.7260273972602738,
          4.627397260273972,
          4.164383561643835,
          6.249315068493151,
          5.427397260273972,
          5.945205479452055,
          4.854794520547945,
          5.580821917808219,
          4.5917808219178085,
          6.986301369863014,
          6.331506849315068,
          5.032876712328767,
          5.701369863013698,
          4.950684931506849,
          10.92054794520548,
          8.032876712328767,
          5.4520547945205475,
          8.153424657534247,
          8.504109589041096,
          9.775342465753425,
          9.202739726027398,
          6.7972602739726025,
          7.906849315068493,
          7.641095890410959,
          5.454794520547945,
          3.73972602739726,
          7.668493150684932,
          5.013698630136986,
          7.9150684931506845,
          7.668493150684932,
          4.8,
          2.5726027397260274,
          5.0849315068493155,
          0.7835616438356164,
          7.912328767123288,
          7.36986301369863,
          4.210958904109589,
          2.1123287671232878,
          4.123287671232877,
          1.917808219178082,
          2.5178082191780824,
          4.342465753424658,
          3.797260273972603,
          4.2,
          9.145205479452056,
          3.638356164383562,
          0.9068493150684932,
          2.747945205479452,
          7.186301369863013,
          6.2684931506849315,
          6.638356164383562,
          6.638356164383562,
          6.638356164383562,
          6.8273972602739725,
          6.504109589041096,
          4.090410958904109,
          9.252054794520548,
          3.5315068493150683,
          3.4164383561643836,
          8.210958904109589,
          3.6,
          4.465753424657534,
          9.808219178082192,
          5.52054794520548,
          3.8219178082191783,
          4.561643835616438,
          6.071232876712329,
          4.698630136986301,
          7.6,
          3.9972602739726026,
          5.271232876712329,
          4.726027397260274,
          3.6684931506849314,
          5.2,
          2.7095890410958905,
          1.4986301369863013,
          6.517808219178082,
          5.293150684931507,
          8.512328767123288,
          0.9808219178082191,
          3.043835616438356,
          8.67123287671233,
          4.191780821917808,
          2.9945205479452053,
          4.4520547945205475,
          3.378082191780822,
          8.07123287671233,
          7.597260273972603,
          4.619178082191781,
          9.323287671232876,
          9.043835616438356,
          10.468493150684932,
          9.608219178082193,
          8.616438356164384,
          4.747945205479452,
          10.142465753424657,
          7.6219178082191785,
          6.30958904109589,
          10.07123287671233,
          5.416438356164384,
          5.605479452054794,
          3.723287671232877,
          3.136986301369863,
          3.7260273972602738,
          10.263013698630138,
          4.767123287671233,
          1.9452054794520548,
          8.493150684931507,
          3.5287671232876714,
          1.4,
          3.5424657534246577,
          1.2219178082191782,
          2.0575342465753423,
          1.2246575342465753,
          10.843835616438357,
          2.665753424657534,
          1.7671232876712328,
          1.8438356164383563,
          2.493150684931507,
          1.5506849315068494,
          4.049315068493151,
          1.5315068493150685,
          4.421917808219178,
          4.821917808219178,
          1.0465753424657533,
          3.1123287671232878,
          1.0136986301369864,
          3.947945205479452,
          1.2027397260273973,
          6.345205479452055,
          4.906849315068493,
          1.106849315068493,
          1.536986301369863,
          2.7835616438356166,
          2.9315068493150687,
          3.66027397260274,
          2.463013698630137,
          10.646575342465754,
          1.2547945205479452,
          5.413698630136986,
          1.441095890410959,
          5.920547945205479,
          8.830136986301369,
          5.298630136986302,
          3.186301369863014,
          2.756164383561644,
          5.032876712328767,
          7.627397260273972,
          3.202739726027397,
          5.7315068493150685,
          4.49041095890411,
          2.4821917808219176,
          1.5726027397260274,
          3.758904109589041,
          5.673972602739726,
          2.3424657534246576,
          10.361643835616439,
          2.0767123287671234,
          1.1342465753424658,
          5.487671232876712,
          1.36986301369863,
          5.087671232876712,
          2.958904109589041,
          8.561643835616438,
          2.1315068493150684,
          3.317808219178082,
          7.463013698630137,
          5.098630136986301,
          2.221917808219178,
          1.210958904109589,
          1.726027397260274,
          3.010958904109589,
          7.249315068493151,
          5.487671232876712,
          1.9424657534246574,
          2.2246575342465755,
          2.021917808219178,
          7.120547945205479,
          8.345205479452055,
          0.9424657534246575,
          6.942465753424657,
          7.898630136986301,
          4.994520547945205,
          7.476712328767123,
          3.4328767123287673,
          2.493150684931507,
          9.202739726027398
         ],
         "xaxis": "x",
         "y": [
          "Photovoltaics and Solar Energy",
          "Photovoltaics and Solar Energy",
          "Photovoltaics and Solar Energy",
          "Photovoltaics and Solar Energy",
          "Photovoltaics and Solar Energy",
          "Photovoltaics and Solar Energy",
          "Photovoltaics and Solar Energy",
          "Photovoltaics and Solar Energy",
          "Photovoltaics and Solar Energy",
          "Photovoltaics and Solar Energy",
          "Photovoltaics and Solar Energy",
          "Photovoltaics and Solar Energy",
          "Photovoltaics and Solar Energy",
          "Photovoltaics and Solar Energy",
          "Photovoltaics and Solar Energy",
          "Photovoltaics and Solar Energy",
          "Photovoltaics and Solar Energy",
          "Photovoltaics and Solar Energy",
          "Photovoltaics and Solar Energy",
          "Photovoltaics and Solar Energy",
          "Photovoltaics and Solar Energy",
          "Photovoltaics and Solar Energy",
          "Photovoltaics and Solar Energy",
          "Photovoltaics and Solar Energy",
          "Photovoltaics and Solar Energy",
          "Photovoltaics and Solar Energy",
          "Photovoltaics and Solar Energy",
          "Photovoltaics and Solar Energy",
          "Photovoltaics and Solar Energy",
          "Photovoltaics and Solar Energy",
          "Photovoltaics and Solar Energy",
          "Photovoltaics and Solar Energy",
          "Photovoltaics and Solar Energy",
          "Photovoltaics and Solar Energy",
          "Photovoltaics and Solar Energy",
          "Photovoltaics and Solar Energy",
          "Photovoltaics and Solar Energy",
          "Photovoltaics and Solar Energy",
          "Photovoltaics and Solar Energy",
          "Photovoltaics and Solar Energy",
          "Wind Energy",
          "Wind Energy",
          "Wind Energy",
          "Wind Energy",
          "Wind Energy",
          "Wind Energy",
          "Wind Energy",
          "Wind Energy",
          "Wind Energy",
          "Wind Energy",
          "Wind Energy",
          "Wind Energy",
          "Wind Energy",
          "Wind Energy",
          "Wind Energy",
          "Wind Energy",
          "Wind Energy",
          "Wind Energy",
          "Wind Energy",
          "Wind Energy",
          "Wind Energy",
          "Wind Energy",
          "Wind Energy",
          "Wind Energy",
          "Wind Energy",
          "Wind Energy",
          "Wind Energy",
          "Hydro Energy",
          "Hydro Energy",
          "Hydro Energy",
          "Hydro Energy",
          "Hydro Energy",
          "Hydro Energy",
          "Hydro Energy",
          "Hydro Energy",
          "Hydro Energy",
          "Geothermal Energy",
          "Geothermal Energy",
          "Geothermal Energy",
          "Geothermal Energy",
          "Geothermal Energy",
          "Geothermal Energy",
          "Geothermal Energy",
          "Bioenergy",
          "Bioenergy",
          "Bioenergy",
          "Battery",
          "Battery",
          "Battery",
          "Battery",
          "Battery",
          "Battery",
          "Battery",
          "Battery",
          "Battery",
          "Battery",
          "Battery",
          "Battery",
          "Battery",
          "Battery",
          "Battery",
          "Battery",
          "Battery",
          "Hydrogen",
          "Hydrogen",
          "Hydrogen",
          "Hydrogen",
          "Hydrogen",
          "Hydrogen",
          "Hydrogen",
          "Hydrogen",
          "Energy Modeling and Optimization",
          "Energy Modeling and Optimization",
          "Energy Modeling and Optimization",
          "Energy Modeling and Optimization",
          "Energy Modeling and Optimization",
          "Energy Modeling and Optimization",
          "Energy Modeling and Optimization",
          "Energy Modeling and Optimization",
          "Energy Modeling and Optimization",
          "Energy Modeling and Optimization",
          "Energy Modeling and Optimization",
          "Energy Modeling and Optimization",
          "Energy Modeling and Optimization",
          "Energy Modeling and Optimization",
          "Energy Modeling and Optimization",
          "Energy Modeling and Optimization",
          "Energy Modeling and Optimization",
          "Energy Modeling and Optimization",
          "Energy Modeling and Optimization",
          "Energy Modeling and Optimization",
          "Energy Modeling and Optimization",
          "Energy Modeling and Optimization",
          "Energy Modeling and Optimization",
          "Energy Modeling and Optimization",
          "Energy Modeling and Optimization",
          "Energy Modeling and Optimization",
          "Energy Modeling and Optimization",
          "Energy Modeling and Optimization",
          "Energy Modeling and Optimization",
          "Energy Modeling and Optimization",
          "Energy Modeling and Optimization",
          "Energy Modeling and Optimization",
          "Energy Modeling and Optimization",
          "Energy Modeling and Optimization",
          "Energy Modeling and Optimization",
          "Energy Modeling and Optimization",
          "Energy Modeling and Optimization",
          "Energy Modeling and Optimization",
          "Energy Modeling and Optimization",
          "Energy Modeling and Optimization",
          "Energy Modeling and Optimization",
          "Energy Modeling and Optimization",
          "Energy Modeling and Optimization",
          "Energy Modeling and Optimization",
          "Energy Modeling and Optimization",
          "Energy Modeling and Optimization",
          "Energy Modeling and Optimization",
          "Energy Modeling and Optimization",
          "Energy Modeling and Optimization",
          "Energy Modeling and Optimization",
          "Energy Modeling and Optimization",
          "Energy Modeling and Optimization",
          "Energy Modeling and Optimization",
          "Energy Modeling and Optimization",
          "Energy Modeling and Optimization",
          "Energy Modeling and Optimization",
          "Energy Modeling and Optimization",
          "Energy Modeling and Optimization",
          "Energy Modeling and Optimization",
          "Energy Modeling and Optimization",
          "Energy Modeling and Optimization",
          "Energy Modeling and Optimization",
          "Energy Modeling and Optimization",
          "Energy Modeling and Optimization",
          "Energy Modeling and Optimization",
          "Energy Modeling and Optimization",
          "Energy Modeling and Optimization",
          "Energy Modeling and Optimization",
          "Energy Modeling and Optimization",
          "Energy Modeling and Optimization",
          "Energy Modeling and Optimization",
          "Energy Modeling and Optimization",
          "Energy Modeling and Optimization",
          "Energy Modeling and Optimization",
          "Energy Modeling and Optimization",
          "Energy Modeling and Optimization",
          "Energy Monitoring and Control",
          "Energy Monitoring and Control",
          "Energy Monitoring and Control",
          "Energy Monitoring and Control",
          "Energy Monitoring and Control",
          "Energy Monitoring and Control",
          "Energy Monitoring and Control",
          "Energy Monitoring and Control",
          "Energy Distribution and Grids",
          "Energy Distribution and Grids",
          "Energy Distribution and Grids",
          "Energy Distribution and Grids",
          "Energy Distribution and Grids",
          "Energy Distribution and Grids",
          "Energy Distribution and Grids",
          "Energy Distribution and Grids",
          "Energy Distribution and Grids",
          "Energy Distribution and Grids",
          "Energy Distribution and Grids",
          "Energy Distribution and Grids",
          "Energy Distribution and Grids",
          "Energy Distribution and Grids",
          "Energy Distribution and Grids",
          "Energy Distribution and Grids",
          "Energy Distribution and Grids",
          "Energy Distribution and Grids",
          "Energy Distribution and Grids",
          "Energy Distribution and Grids",
          "Energy Distribution and Grids",
          "Energy Distribution and Grids",
          "Energy Distribution and Grids",
          "Energy Distribution and Grids",
          "Datasets on Energy Systems",
          "Datasets on Energy Systems",
          "Datasets on Energy Systems",
          "Datasets on Energy Systems",
          "Datasets on Energy Systems",
          "Datasets on Energy Systems",
          "Datasets on Energy Systems",
          "Datasets on Energy Systems",
          "Datasets on Energy Systems",
          "Datasets on Energy Systems",
          "Datasets on Energy Systems",
          "Datasets on Energy Systems",
          "Datasets on Energy Systems",
          "Datasets on Energy Systems",
          "Datasets on Energy Systems",
          "Datasets on Energy Systems",
          "Datasets on Energy Systems",
          "Datasets on Energy Systems",
          "Datasets on Energy Systems",
          "Buildings and Heating",
          "Buildings and Heating",
          "Buildings and Heating",
          "Buildings and Heating",
          "Buildings and Heating",
          "Buildings and Heating",
          "Buildings and Heating",
          "Buildings and Heating",
          "Buildings and Heating",
          "Buildings and Heating",
          "Buildings and Heating",
          "Buildings and Heating",
          "Buildings and Heating",
          "Buildings and Heating",
          "Buildings and Heating",
          "Buildings and Heating",
          "Buildings and Heating",
          "Buildings and Heating",
          "Buildings and Heating",
          "Buildings and Heating",
          "Buildings and Heating",
          "Buildings and Heating",
          "Buildings and Heating",
          "Buildings and Heating",
          "Buildings and Heating",
          "Buildings and Heating",
          "Buildings and Heating",
          "Buildings and Heating",
          "Buildings and Heating",
          "Buildings and Heating",
          "Buildings and Heating",
          "Buildings and Heating",
          "Buildings and Heating",
          "Buildings and Heating",
          "Buildings and Heating",
          "Buildings and Heating",
          "Buildings and Heating",
          "Buildings and Heating",
          "Buildings and Heating",
          "Buildings and Heating",
          "Buildings and Heating",
          "Buildings and Heating",
          "Buildings and Heating",
          "Buildings and Heating",
          "Buildings and Heating",
          "Buildings and Heating",
          "Mobility and Transportation",
          "Mobility and Transportation",
          "Mobility and Transportation",
          "Mobility and Transportation",
          "Mobility and Transportation",
          "Mobility and Transportation",
          "Mobility and Transportation",
          "Mobility and Transportation",
          "Mobility and Transportation",
          "Mobility and Transportation",
          "Mobility and Transportation",
          "Mobility and Transportation",
          "Mobility and Transportation",
          "Mobility and Transportation",
          "Mobility and Transportation",
          "Mobility and Transportation",
          "Mobility and Transportation",
          "Mobility and Transportation",
          "Mobility and Transportation",
          "Mobility and Transportation",
          "Mobility and Transportation",
          "Mobility and Transportation",
          "Mobility and Transportation",
          "Mobility and Transportation",
          "Mobility and Transportation",
          "Mobility and Transportation",
          "Mobility and Transportation",
          "Mobility and Transportation",
          "Mobility and Transportation",
          "Mobility and Transportation",
          "Mobility and Transportation",
          "Mobility and Transportation",
          "Mobility and Transportation",
          "Mobility and Transportation",
          "Mobility and Transportation",
          "Mobility and Transportation",
          "Mobility and Transportation",
          "Mobility and Transportation",
          "Mobility and Transportation",
          "Mobility and Transportation",
          "Mobility and Transportation",
          "Mobility and Transportation",
          "Mobility and Transportation",
          "Mobility and Transportation",
          "Mobility and Transportation",
          "Mobility and Transportation",
          "Mobility and Transportation",
          "Mobility and Transportation",
          "Mobility and Transportation",
          "Mobility and Transportation",
          "Mobility and Transportation",
          "Mobility and Transportation",
          "Mobility and Transportation",
          "Mobility and Transportation",
          "Mobility and Transportation",
          "Mobility and Transportation",
          "Mobility and Transportation",
          "Mobility and Transportation",
          "Mobility and Transportation",
          "Mobility and Transportation",
          "Computation and Communication",
          "Computation and Communication",
          "Computation and Communication",
          "Computation and Communication",
          "Computation and Communication",
          "Computation and Communication",
          "Computation and Communication",
          "Computation and Communication",
          "Computation and Communication",
          "Computation and Communication",
          "Computation and Communication",
          "Computation and Communication",
          "Computation and Communication",
          "Computation and Communication",
          "Computation and Communication",
          "Computation and Communication",
          "Computation and Communication",
          "Computation and Communication",
          "Computation and Communication",
          "Computation and Communication",
          "Computation and Communication",
          "Computation and Communication",
          "Computation and Communication",
          "Computation and Communication",
          "Computation and Communication",
          "Computation and Communication",
          "Computation and Communication",
          "Carbon Intensity and Accounting",
          "Carbon Intensity and Accounting",
          "Carbon Intensity and Accounting",
          "Carbon Intensity and Accounting",
          "Carbon Intensity and Accounting",
          "Carbon Intensity and Accounting",
          "Carbon Intensity and Accounting",
          "Carbon Intensity and Accounting",
          "Carbon Intensity and Accounting",
          "Carbon Intensity and Accounting",
          "Carbon Intensity and Accounting",
          "Carbon Intensity and Accounting",
          "Carbon Intensity and Accounting",
          "Carbon Capture and Removal",
          "Carbon Capture and Removal",
          "Carbon Capture and Removal",
          "Carbon Capture and Removal",
          "Emission Observation and Modeling",
          "Emission Observation and Modeling",
          "Emission Observation and Modeling",
          "Emission Observation and Modeling",
          "Emission Observation and Modeling",
          "Emission Observation and Modeling",
          "Emission Observation and Modeling",
          "Emission Observation and Modeling",
          "Emission Observation and Modeling",
          "Emission Observation and Modeling",
          "Emission Observation and Modeling",
          "Emission Observation and Modeling",
          "Emission Observation and Modeling",
          "Emission Observation and Modeling",
          "Emission Observation and Modeling",
          "Emission Observation and Modeling",
          "Emission Observation and Modeling",
          "Emission Observation and Modeling",
          "Emission Observation and Modeling",
          "Emission Observation and Modeling",
          "Emission Observation and Modeling",
          "Emission Observation and Modeling",
          "Life Cycle Assessment",
          "Life Cycle Assessment",
          "Life Cycle Assessment",
          "Life Cycle Assessment",
          "Life Cycle Assessment",
          "Life Cycle Assessment",
          "Life Cycle Assessment",
          "Life Cycle Assessment",
          "Life Cycle Assessment",
          "Life Cycle Assessment",
          "Life Cycle Assessment",
          "Life Cycle Assessment",
          "Life Cycle Assessment",
          "Life Cycle Assessment",
          "Circular Economy and Waste",
          "Circular Economy and Waste",
          "Circular Economy and Waste",
          "Circular Economy and Waste",
          "Circular Economy and Waste",
          "Circular Economy and Waste",
          "Circular Economy and Waste",
          "Circular Economy and Waste",
          "Circular Economy and Waste",
          "Circular Economy and Waste",
          "Circular Economy and Waste",
          "Circular Economy and Waste",
          "Circular Economy and Waste",
          "Biosphere",
          "Biosphere",
          "Biosphere",
          "Biosphere",
          "Biosphere",
          "Biosphere",
          "Biosphere",
          "Biosphere",
          "Biosphere",
          "Biosphere",
          "Biosphere",
          "Biosphere",
          "Biosphere",
          "Biosphere",
          "Biosphere",
          "Biosphere",
          "Biosphere",
          "Biosphere",
          "Biosphere",
          "Biosphere",
          "Biosphere",
          "Biosphere",
          "Biosphere",
          "Biosphere",
          "Biosphere",
          "Biosphere",
          "Biosphere",
          "Biosphere",
          "Biosphere",
          "Biosphere",
          "Biosphere",
          "Biosphere",
          "Biosphere",
          "Biosphere",
          "Biosphere",
          "Biosphere",
          "Biosphere",
          "Biosphere",
          "Biosphere",
          "Biosphere",
          "Biosphere",
          "Biosphere",
          "Biosphere",
          "Biosphere",
          "Biosphere",
          "Biosphere",
          "Biosphere",
          "Biosphere",
          "Biosphere",
          "Biosphere",
          "Biosphere",
          "Biosphere",
          "Biosphere",
          "Biosphere",
          "Biosphere",
          "Biosphere",
          "Biosphere",
          "Biosphere",
          "Biosphere",
          "Biosphere",
          "Biosphere",
          "Biosphere",
          "Biosphere",
          "Biosphere",
          "Biosphere",
          "Biosphere",
          "Biosphere",
          "Biosphere",
          "Biosphere",
          "Biosphere",
          "Biosphere",
          "Biosphere",
          "Biosphere",
          "Biosphere",
          "Biosphere",
          "Biosphere",
          "Biosphere",
          "Biosphere",
          "Biosphere",
          "Biosphere",
          "Biosphere",
          "Biosphere",
          "Biosphere",
          "Biosphere",
          "Biosphere",
          "Biosphere",
          "Biosphere",
          "Biosphere",
          "Biosphere",
          "Biosphere",
          "Biosphere",
          "Cryosphere",
          "Cryosphere",
          "Cryosphere",
          "Cryosphere",
          "Cryosphere",
          "Cryosphere",
          "Cryosphere",
          "Cryosphere",
          "Cryosphere",
          "Cryosphere",
          "Cryosphere",
          "Cryosphere",
          "Cryosphere",
          "Cryosphere",
          "Cryosphere",
          "Cryosphere",
          "Cryosphere",
          "Cryosphere",
          "Cryosphere",
          "Cryosphere",
          "Cryosphere",
          "Hydrosphere",
          "Hydrosphere",
          "Hydrosphere",
          "Hydrosphere",
          "Hydrosphere",
          "Hydrosphere",
          "Hydrosphere",
          "Hydrosphere",
          "Hydrosphere",
          "Hydrosphere",
          "Hydrosphere",
          "Hydrosphere",
          "Hydrosphere",
          "Hydrosphere",
          "Hydrosphere",
          "Hydrosphere",
          "Hydrosphere",
          "Hydrosphere",
          "Hydrosphere",
          "Hydrosphere",
          "Hydrosphere",
          "Hydrosphere",
          "Hydrosphere",
          "Hydrosphere",
          "Hydrosphere",
          "Hydrosphere",
          "Hydrosphere",
          "Hydrosphere",
          "Hydrosphere",
          "Hydrosphere",
          "Hydrosphere",
          "Hydrosphere",
          "Hydrosphere",
          "Hydrosphere",
          "Hydrosphere",
          "Hydrosphere",
          "Hydrosphere",
          "Hydrosphere",
          "Hydrosphere",
          "Hydrosphere",
          "Hydrosphere",
          "Hydrosphere",
          "Hydrosphere",
          "Hydrosphere",
          "Hydrosphere",
          "Hydrosphere",
          "Hydrosphere",
          "Hydrosphere",
          "Hydrosphere",
          "Hydrosphere",
          "Hydrosphere",
          "Hydrosphere",
          "Hydrosphere",
          "Hydrosphere",
          "Hydrosphere",
          "Hydrosphere",
          "Hydrosphere",
          "Hydrosphere",
          "Hydrosphere",
          "Hydrosphere",
          "Atmosphere",
          "Atmosphere",
          "Atmosphere",
          "Atmosphere",
          "Atmosphere",
          "Atmosphere",
          "Atmosphere",
          "Atmosphere",
          "Atmosphere",
          "Atmosphere",
          "Atmosphere",
          "Atmosphere",
          "Atmosphere",
          "Atmosphere",
          "Atmosphere",
          "Atmosphere",
          "Atmosphere",
          "Atmosphere",
          "Atmosphere",
          "Earth and Climate Modeling",
          "Earth and Climate Modeling",
          "Earth and Climate Modeling",
          "Earth and Climate Modeling",
          "Earth and Climate Modeling",
          "Earth and Climate Modeling",
          "Earth and Climate Modeling",
          "Earth and Climate Modeling",
          "Earth and Climate Modeling",
          "Earth and Climate Modeling",
          "Earth and Climate Modeling",
          "Earth and Climate Modeling",
          "Earth and Climate Modeling",
          "Earth and Climate Modeling",
          "Earth and Climate Modeling",
          "Earth and Climate Modeling",
          "Earth and Climate Modeling",
          "Earth and Climate Modeling",
          "Earth and Climate Modeling",
          "Earth and Climate Modeling",
          "Earth and Climate Modeling",
          "Earth and Climate Modeling",
          "Earth and Climate Modeling",
          "Earth and Climate Modeling",
          "Earth and Climate Modeling",
          "Earth and Climate Modeling",
          "Earth and Climate Modeling",
          "Earth and Climate Modeling",
          "Earth and Climate Modeling",
          "Earth and Climate Modeling",
          "Earth and Climate Modeling",
          "Earth and Climate Modeling",
          "Earth and Climate Modeling",
          "Earth and Climate Modeling",
          "Earth and Climate Modeling",
          "Earth and Climate Modeling",
          "Earth and Climate Modeling",
          "Earth and Climate Modeling",
          "Earth and Climate Modeling",
          "Earth and Climate Modeling",
          "Earth and Climate Modeling",
          "Earth and Climate Modeling",
          "Earth and Climate Modeling",
          "Earth and Climate Modeling",
          "Earth and Climate Modeling",
          "Earth and Climate Modeling",
          "Earth and Climate Modeling",
          "Earth and Climate Modeling",
          "Earth and Climate Modeling",
          "Earth and Climate Modeling",
          "Earth and Climate Modeling",
          "Earth and Climate Modeling",
          "Earth and Climate Modeling",
          "Earth and Climate Modeling",
          "Earth and Climate Modeling",
          "Earth and Climate Modeling",
          "Earth and Climate Modeling",
          "Radiative Transfer",
          "Radiative Transfer",
          "Radiative Transfer",
          "Radiative Transfer",
          "Radiative Transfer",
          "Radiative Transfer",
          "Radiative Transfer",
          "Radiative Transfer",
          "Meteorological Observation and Forecast",
          "Meteorological Observation and Forecast",
          "Meteorological Observation and Forecast",
          "Meteorological Observation and Forecast",
          "Meteorological Observation and Forecast",
          "Meteorological Observation and Forecast",
          "Meteorological Observation and Forecast",
          "Meteorological Observation and Forecast",
          "Climate Data Processing and Access",
          "Climate Data Processing and Access",
          "Climate Data Processing and Access",
          "Climate Data Processing and Access",
          "Climate Data Processing and Access",
          "Climate Data Processing and Access",
          "Climate Data Processing and Access",
          "Climate Data Processing and Access",
          "Climate Data Processing and Access",
          "Climate Data Processing and Access",
          "Climate Data Processing and Access",
          "Climate Data Processing and Access",
          "Climate Data Processing and Access",
          "Climate Data Processing and Access",
          "Climate Data Processing and Access",
          "Climate Data Processing and Access",
          "Climate Data Processing and Access",
          "Climate Data Processing and Access",
          "Climate Data Processing and Access",
          "Climate Data Processing and Access",
          "Climate Data Processing and Access",
          "Climate Data Processing and Access",
          "Climate Data Processing and Access",
          "Climate Data Processing and Access",
          "Climate Data Processing and Access",
          "Climate Data Processing and Access",
          "Climate Data Processing and Access",
          "Climate Data Processing and Access",
          "Climate Data Processing and Access",
          "Climate Data Processing and Access",
          "Climate Data Processing and Access",
          "Climate Data Processing and Access",
          "Climate Data Processing and Access",
          "Climate Data Processing and Access",
          "Climate Data Processing and Access",
          "Climate Data Processing and Access",
          "Climate Data Processing and Access",
          "Climate Data Processing and Access",
          "Climate Data Processing and Access",
          "Climate Data Processing and Access",
          "Climate Data Processing and Access",
          "Climate Data Processing and Access",
          "Climate Data Processing and Access",
          "Climate Data Processing and Access",
          "Climate Data Processing and Access",
          "Climate Data Processing and Access",
          "Climate Data Processing and Access",
          "Climate Data Processing and Access",
          "Climate Data Processing and Access",
          "Climate Data Processing and Access",
          "Climate Data Processing and Access",
          "Integrated Assessment",
          "Integrated Assessment",
          "Integrated Assessment",
          "Integrated Assessment",
          "Integrated Assessment",
          "Integrated Assessment",
          "Integrated Assessment",
          "Air Quality",
          "Air Quality",
          "Air Quality",
          "Air Quality",
          "Air Quality",
          "Air Quality",
          "Air Quality",
          "Air Quality",
          "Air Quality",
          "Air Quality",
          "Air Quality",
          "Air Quality",
          "Air Quality",
          "Air Quality",
          "Air Quality",
          "Air Quality",
          "Air Quality",
          "Air Quality",
          "Air Quality",
          "Air Quality",
          "Air Quality",
          "Air Quality",
          "Air Quality",
          "Air Quality",
          "Air Quality",
          "Air Quality",
          "Water Supply and Quality",
          "Water Supply and Quality",
          "Water Supply and Quality",
          "Water Supply and Quality",
          "Water Supply and Quality",
          "Water Supply and Quality",
          "Water Supply and Quality",
          "Water Supply and Quality",
          "Water Supply and Quality",
          "Water Supply and Quality",
          "Water Supply and Quality",
          "Water Supply and Quality",
          "Water Supply and Quality",
          "Water Supply and Quality",
          "Water Supply and Quality",
          "Water Supply and Quality",
          "Water Supply and Quality",
          "Water Supply and Quality",
          "Water Supply and Quality",
          "Water Supply and Quality",
          "Water Supply and Quality",
          "Water Supply and Quality",
          "Water Supply and Quality",
          "Water Supply and Quality",
          "Water Supply and Quality",
          "Water Supply and Quality",
          "Water Supply and Quality",
          "Water Supply and Quality",
          "Water Supply and Quality",
          "Water Supply and Quality",
          "Water Supply and Quality",
          "Water Supply and Quality",
          "Water Supply and Quality",
          "Water Supply and Quality",
          "Water Supply and Quality",
          "Water Supply and Quality",
          "Water Supply and Quality",
          "Water Supply and Quality",
          "Water Supply and Quality",
          "Water Supply and Quality",
          "Water Supply and Quality",
          "Water Supply and Quality",
          "Water Supply and Quality",
          "Water Supply and Quality",
          "Water Supply and Quality",
          "Water Supply and Quality",
          "Water Supply and Quality",
          "Water Supply and Quality",
          "Water Supply and Quality",
          "Water Supply and Quality",
          "Water Supply and Quality",
          "Water Supply and Quality",
          "Water Supply and Quality",
          "Soil and Land",
          "Soil and Land",
          "Soil and Land",
          "Soil and Land",
          "Soil and Land",
          "Soil and Land",
          "Soil and Land",
          "Soil and Land",
          "Soil and Land",
          "Soil and Land",
          "Soil and Land",
          "Soil and Land",
          "Soil and Land",
          "Soil and Land",
          "Soil and Land",
          "Soil and Land",
          "Soil and Land",
          "Soil and Land",
          "Soil and Land",
          "Soil and Land",
          "Soil and Land",
          "Soil and Land",
          "Soil and Land",
          "Soil and Land",
          "Soil and Land",
          "Soil and Land",
          "Soil and Land",
          "Soil and Land",
          "Soil and Land",
          "Soil and Land",
          "Soil and Land",
          "Soil and Land",
          "Soil and Land",
          "Agriculture and Nutrition",
          "Agriculture and Nutrition",
          "Agriculture and Nutrition",
          "Agriculture and Nutrition",
          "Agriculture and Nutrition",
          "Agriculture and Nutrition",
          "Agriculture and Nutrition",
          "Agriculture and Nutrition",
          "Agriculture and Nutrition",
          "Agriculture and Nutrition",
          "Agriculture and Nutrition",
          "Agriculture and Nutrition",
          "Agriculture and Nutrition",
          "Agriculture and Nutrition",
          "Agriculture and Nutrition",
          "Agriculture and Nutrition",
          "Agriculture and Nutrition",
          "Agriculture and Nutrition",
          "Agriculture and Nutrition",
          "Agriculture and Nutrition",
          "Agriculture and Nutrition",
          "Agriculture and Nutrition",
          "Agriculture and Nutrition",
          "Agriculture and Nutrition",
          "Agriculture and Nutrition",
          "Agriculture and Nutrition",
          "Agriculture and Nutrition",
          "Agriculture and Nutrition",
          "Agriculture and Nutrition",
          "Agriculture and Nutrition",
          "Agriculture and Nutrition",
          "Agriculture and Nutrition",
          "Agriculture and Nutrition",
          "Natural Hazard and Poverty",
          "Natural Hazard and Poverty",
          "Natural Hazard and Poverty",
          "Natural Hazard and Poverty",
          "Natural Hazard and Poverty",
          "Natural Hazard and Poverty",
          "Natural Hazard and Poverty",
          "Natural Hazard and Poverty",
          "Natural Hazard and Poverty",
          "Natural Hazard and Poverty",
          "Natural Hazard and Poverty",
          "Natural Hazard and Poverty",
          "Natural Hazard and Poverty",
          "Sustainable Development Goals",
          "Sustainable Development Goals",
          "Sustainable Development Goals",
          "Sustainable Development Goals",
          "Sustainable Development Goals",
          "Sustainable Development Goals",
          "Sustainable Investment",
          "Sustainable Investment",
          "Sustainable Investment",
          "Sustainable Investment",
          "Sustainable Investment",
          "Sustainable Investment",
          "Sustainable Investment",
          "Sustainable Investment",
          "Sustainable Investment",
          "Sustainable Investment",
          "Knowledge Platforms",
          "Knowledge Platforms",
          "Knowledge Platforms",
          "Knowledge Platforms",
          "Knowledge Platforms",
          "Knowledge Platforms",
          "Knowledge Platforms",
          "Knowledge Platforms",
          "Knowledge Platforms",
          "Knowledge Platforms",
          "Knowledge Platforms",
          "Knowledge Platforms",
          "Knowledge Platforms",
          "Data Catalogs and Interfaces",
          "Data Catalogs and Interfaces",
          "Data Catalogs and Interfaces",
          "Data Catalogs and Interfaces",
          "Data Catalogs and Interfaces",
          "Data Catalogs and Interfaces",
          "Data Catalogs and Interfaces",
          "Data Catalogs and Interfaces",
          "Data Catalogs and Interfaces",
          "Data Catalogs and Interfaces",
          "Data Catalogs and Interfaces",
          "Data Catalogs and Interfaces",
          "Data Catalogs and Interfaces",
          "Data Catalogs and Interfaces",
          "Data Catalogs and Interfaces",
          "Data Catalogs and Interfaces",
          "Data Catalogs and Interfaces",
          "Data Catalogs and Interfaces",
          "Data Catalogs and Interfaces",
          "Data Catalogs and Interfaces",
          "Data Catalogs and Interfaces",
          "Data Catalogs and Interfaces",
          "Data Catalogs and Interfaces",
          "Data Catalogs and Interfaces",
          "Data Catalogs and Interfaces",
          "Data Catalogs and Interfaces",
          "Data Catalogs and Interfaces",
          "Data Catalogs and Interfaces",
          "Data Catalogs and Interfaces",
          "Data Catalogs and Interfaces",
          "Data Catalogs and Interfaces"
         ],
         "yaxis": "y"
        }
       ],
       "layout": {
        "coloraxis": {
         "colorbar": {
          "orientation": "h",
          "title": {
           "text": "DDS"
          },
          "y": -0.15
         },
         "colorscale": [
          [
           0,
           "rgb(237, 239, 93)"
          ],
          [
           0.16666666666666666,
           "rgb(169, 220, 103)"
          ],
          [
           0.3333333333333333,
           "rgb(110, 197, 116)"
          ],
          [
           0.5,
           "rgb(57, 171, 126)"
          ],
          [
           0.6666666666666666,
           "rgb(13, 143, 129)"
          ],
          [
           0.8333333333333334,
           "rgb(15, 114, 121)"
          ],
          [
           1,
           "rgb(36, 86, 104)"
          ]
         ]
        },
        "dragmode": false,
        "height": 1000,
        "hoverlabel": {
         "bgcolor": "white"
        },
        "images": [
         {
          "sizex": 0.05,
          "sizey": 0.05,
          "source": "data:image/png;base64,iVBORw0KGgoAAAANSUhEUgAAADwAAAA8CAYAAAA6/NlyAAAD20lEQVR4nO2ZTWgcZRjHf8/spjWkFYmKmbR+oVKaCPbQU8i2tCBqEbrU7LIJVhG0PVWQih4UehAVQVAkAQ/qRW1WdhPrB+pJ1DQF6aEnQ0WqqCQbhfpFW6nJzOMhBgQ3u+/MvPORmP91n/n/nx/v7DvPvCOqyv9JTtoNJK114LWufBIh5TIbZj3uQLldhJtV2CJwlfrkpicpJtHDsmIDHtzPZjo4gM8IQkGgE1n6Tf7ZJ0W4HFf+SrIOvLvI9YsORyXPwyhdy5BZkTXgwf1s1jzHJMejAh22fG3LCnDhAHeT53WBXht+cSoS8J495Beu5nmEo5C1m7e5QgPv28fGxW7eQhmy2VDcCgV81wN0XezkE2DQcj+xKzDwzsN0XHGJGqsQFkJMWp3nGUO5J45mklCgFS7cx0GFRyzk/izCT6p8Z8ErkMT09XCgzBZnkRmEK0NmTaswicd70+9yLqRHZBmvcM7jZQ0He1qEZ6bqfBDiWusyWuGBEgOOz3RAb1+Ep05O8IIqmTllMFphR3k6oO8FUYanJvgwRE+xqu0K7yrT53t8FcDTE6U4NZk9WDB4LKnHg0EMVXgiq7DQBlgEAUYC+H15aoKXorUUr1oCF0psV9hqaibK41naoJqpJbDvs9fYSflsapKTkTuKWa3/w8oOUyOBetRmklC7TWuboY86Pu9HbSYJtQO+0dDn/Ocn+DFqM0mo9S6N8Sg5Z6GXRNRy0lIYUyHXzkSUb+y1FK+M35bWitY/tSQhaVQvAxvaV+oX6g7vtpmd1gpfMCsT13ZwWsC/GdZZP9hPCVi/NSzsktnjO2wmpwOs8rVxrThFm9HpADt62rhWGBKLn3HSAfbl0wDV/cxVy7aiUxs8pFGdAbYblp/j11yf9pX+ipqb5uBxPEDtLXT7L9oITRHYfxPwjMtVj0jjnUNRU1MDVnfkeyTooYGOSmP8cJTcdGfpRX0OAp2BdYC8KnPVUZmpGYym/1Xqb0syP/4GKg+FuPQHkGdxz76mHPON89IHrl2LemeB7nAOOoNSBzmhvZUzbfPSBgaQ+eoQSs2C1Z8IsygNdSu7mhVk4n1Yeyp1lDELVp0otwKFlQoyAQxA7x+PAR/HHZMZYOXQAs5CCTgVZ05mgAH0uoMXYdOdIB/FlZEpYAB1772E+3sRYTQO/8wBw9LtrT2VIwgl4Beb3pkEXpb2VOp4uduAVwDj4aKVMvEcNpHMj/ej8iQwjMFpq7qVpocGqwZ4WdKo3QDe/Sx9qO9fqW7NAP9bMvv2VnL5vcBOVLcBNwHXAJvUrWxses1qBg6jTG9acWgdeK3rb5uuGEmTzESgAAAAAElFTkSuQmCC",
          "x": 1,
          "xanchor": "right",
          "xref": "paper",
          "y": 1,
          "yanchor": "top",
          "yref": "paper"
         }
        ],
        "legend": {
         "itemsizing": "constant",
         "tracegroupgap": 0
        },
        "margin": {
         "b": 0,
         "l": 0,
         "r": 0,
         "t": 40
        },
        "template": {
         "data": {
          "bar": [
           {
            "error_x": {
             "color": "#2a3f5f"
            },
            "error_y": {
             "color": "#2a3f5f"
            },
            "marker": {
             "line": {
              "color": "#E5ECF6",
              "width": 0.5
             },
             "pattern": {
              "fillmode": "overlay",
              "size": 10,
              "solidity": 0.2
             }
            },
            "type": "bar"
           }
          ],
          "barpolar": [
           {
            "marker": {
             "line": {
              "color": "#E5ECF6",
              "width": 0.5
             },
             "pattern": {
              "fillmode": "overlay",
              "size": 10,
              "solidity": 0.2
             }
            },
            "type": "barpolar"
           }
          ],
          "carpet": [
           {
            "aaxis": {
             "endlinecolor": "#2a3f5f",
             "gridcolor": "white",
             "linecolor": "white",
             "minorgridcolor": "white",
             "startlinecolor": "#2a3f5f"
            },
            "baxis": {
             "endlinecolor": "#2a3f5f",
             "gridcolor": "white",
             "linecolor": "white",
             "minorgridcolor": "white",
             "startlinecolor": "#2a3f5f"
            },
            "type": "carpet"
           }
          ],
          "choropleth": [
           {
            "colorbar": {
             "outlinewidth": 0,
             "ticks": ""
            },
            "type": "choropleth"
           }
          ],
          "contour": [
           {
            "colorbar": {
             "outlinewidth": 0,
             "ticks": ""
            },
            "colorscale": [
             [
              0,
              "#0d0887"
             ],
             [
              0.1111111111111111,
              "#46039f"
             ],
             [
              0.2222222222222222,
              "#7201a8"
             ],
             [
              0.3333333333333333,
              "#9c179e"
             ],
             [
              0.4444444444444444,
              "#bd3786"
             ],
             [
              0.5555555555555556,
              "#d8576b"
             ],
             [
              0.6666666666666666,
              "#ed7953"
             ],
             [
              0.7777777777777778,
              "#fb9f3a"
             ],
             [
              0.8888888888888888,
              "#fdca26"
             ],
             [
              1,
              "#f0f921"
             ]
            ],
            "type": "contour"
           }
          ],
          "contourcarpet": [
           {
            "colorbar": {
             "outlinewidth": 0,
             "ticks": ""
            },
            "type": "contourcarpet"
           }
          ],
          "heatmap": [
           {
            "colorbar": {
             "outlinewidth": 0,
             "ticks": ""
            },
            "colorscale": [
             [
              0,
              "#0d0887"
             ],
             [
              0.1111111111111111,
              "#46039f"
             ],
             [
              0.2222222222222222,
              "#7201a8"
             ],
             [
              0.3333333333333333,
              "#9c179e"
             ],
             [
              0.4444444444444444,
              "#bd3786"
             ],
             [
              0.5555555555555556,
              "#d8576b"
             ],
             [
              0.6666666666666666,
              "#ed7953"
             ],
             [
              0.7777777777777778,
              "#fb9f3a"
             ],
             [
              0.8888888888888888,
              "#fdca26"
             ],
             [
              1,
              "#f0f921"
             ]
            ],
            "type": "heatmap"
           }
          ],
          "heatmapgl": [
           {
            "colorbar": {
             "outlinewidth": 0,
             "ticks": ""
            },
            "colorscale": [
             [
              0,
              "#0d0887"
             ],
             [
              0.1111111111111111,
              "#46039f"
             ],
             [
              0.2222222222222222,
              "#7201a8"
             ],
             [
              0.3333333333333333,
              "#9c179e"
             ],
             [
              0.4444444444444444,
              "#bd3786"
             ],
             [
              0.5555555555555556,
              "#d8576b"
             ],
             [
              0.6666666666666666,
              "#ed7953"
             ],
             [
              0.7777777777777778,
              "#fb9f3a"
             ],
             [
              0.8888888888888888,
              "#fdca26"
             ],
             [
              1,
              "#f0f921"
             ]
            ],
            "type": "heatmapgl"
           }
          ],
          "histogram": [
           {
            "marker": {
             "pattern": {
              "fillmode": "overlay",
              "size": 10,
              "solidity": 0.2
             }
            },
            "type": "histogram"
           }
          ],
          "histogram2d": [
           {
            "colorbar": {
             "outlinewidth": 0,
             "ticks": ""
            },
            "colorscale": [
             [
              0,
              "#0d0887"
             ],
             [
              0.1111111111111111,
              "#46039f"
             ],
             [
              0.2222222222222222,
              "#7201a8"
             ],
             [
              0.3333333333333333,
              "#9c179e"
             ],
             [
              0.4444444444444444,
              "#bd3786"
             ],
             [
              0.5555555555555556,
              "#d8576b"
             ],
             [
              0.6666666666666666,
              "#ed7953"
             ],
             [
              0.7777777777777778,
              "#fb9f3a"
             ],
             [
              0.8888888888888888,
              "#fdca26"
             ],
             [
              1,
              "#f0f921"
             ]
            ],
            "type": "histogram2d"
           }
          ],
          "histogram2dcontour": [
           {
            "colorbar": {
             "outlinewidth": 0,
             "ticks": ""
            },
            "colorscale": [
             [
              0,
              "#0d0887"
             ],
             [
              0.1111111111111111,
              "#46039f"
             ],
             [
              0.2222222222222222,
              "#7201a8"
             ],
             [
              0.3333333333333333,
              "#9c179e"
             ],
             [
              0.4444444444444444,
              "#bd3786"
             ],
             [
              0.5555555555555556,
              "#d8576b"
             ],
             [
              0.6666666666666666,
              "#ed7953"
             ],
             [
              0.7777777777777778,
              "#fb9f3a"
             ],
             [
              0.8888888888888888,
              "#fdca26"
             ],
             [
              1,
              "#f0f921"
             ]
            ],
            "type": "histogram2dcontour"
           }
          ],
          "mesh3d": [
           {
            "colorbar": {
             "outlinewidth": 0,
             "ticks": ""
            },
            "type": "mesh3d"
           }
          ],
          "parcoords": [
           {
            "line": {
             "colorbar": {
              "outlinewidth": 0,
              "ticks": ""
             }
            },
            "type": "parcoords"
           }
          ],
          "pie": [
           {
            "automargin": true,
            "type": "pie"
           }
          ],
          "scatter": [
           {
            "fillpattern": {
             "fillmode": "overlay",
             "size": 10,
             "solidity": 0.2
            },
            "type": "scatter"
           }
          ],
          "scatter3d": [
           {
            "line": {
             "colorbar": {
              "outlinewidth": 0,
              "ticks": ""
             }
            },
            "marker": {
             "colorbar": {
              "outlinewidth": 0,
              "ticks": ""
             }
            },
            "type": "scatter3d"
           }
          ],
          "scattercarpet": [
           {
            "marker": {
             "colorbar": {
              "outlinewidth": 0,
              "ticks": ""
             }
            },
            "type": "scattercarpet"
           }
          ],
          "scattergeo": [
           {
            "marker": {
             "colorbar": {
              "outlinewidth": 0,
              "ticks": ""
             }
            },
            "type": "scattergeo"
           }
          ],
          "scattergl": [
           {
            "marker": {
             "colorbar": {
              "outlinewidth": 0,
              "ticks": ""
             }
            },
            "type": "scattergl"
           }
          ],
          "scattermapbox": [
           {
            "marker": {
             "colorbar": {
              "outlinewidth": 0,
              "ticks": ""
             }
            },
            "type": "scattermapbox"
           }
          ],
          "scatterpolar": [
           {
            "marker": {
             "colorbar": {
              "outlinewidth": 0,
              "ticks": ""
             }
            },
            "type": "scatterpolar"
           }
          ],
          "scatterpolargl": [
           {
            "marker": {
             "colorbar": {
              "outlinewidth": 0,
              "ticks": ""
             }
            },
            "type": "scatterpolargl"
           }
          ],
          "scatterternary": [
           {
            "marker": {
             "colorbar": {
              "outlinewidth": 0,
              "ticks": ""
             }
            },
            "type": "scatterternary"
           }
          ],
          "surface": [
           {
            "colorbar": {
             "outlinewidth": 0,
             "ticks": ""
            },
            "colorscale": [
             [
              0,
              "#0d0887"
             ],
             [
              0.1111111111111111,
              "#46039f"
             ],
             [
              0.2222222222222222,
              "#7201a8"
             ],
             [
              0.3333333333333333,
              "#9c179e"
             ],
             [
              0.4444444444444444,
              "#bd3786"
             ],
             [
              0.5555555555555556,
              "#d8576b"
             ],
             [
              0.6666666666666666,
              "#ed7953"
             ],
             [
              0.7777777777777778,
              "#fb9f3a"
             ],
             [
              0.8888888888888888,
              "#fdca26"
             ],
             [
              1,
              "#f0f921"
             ]
            ],
            "type": "surface"
           }
          ],
          "table": [
           {
            "cells": {
             "fill": {
              "color": "#EBF0F8"
             },
             "line": {
              "color": "white"
             }
            },
            "header": {
             "fill": {
              "color": "#C8D4E3"
             },
             "line": {
              "color": "white"
             }
            },
            "type": "table"
           }
          ]
         },
         "layout": {
          "annotationdefaults": {
           "arrowcolor": "#2a3f5f",
           "arrowhead": 0,
           "arrowwidth": 1
          },
          "autotypenumbers": "strict",
          "coloraxis": {
           "colorbar": {
            "outlinewidth": 0,
            "ticks": ""
           }
          },
          "colorscale": {
           "diverging": [
            [
             0,
             "#8e0152"
            ],
            [
             0.1,
             "#c51b7d"
            ],
            [
             0.2,
             "#de77ae"
            ],
            [
             0.3,
             "#f1b6da"
            ],
            [
             0.4,
             "#fde0ef"
            ],
            [
             0.5,
             "#f7f7f7"
            ],
            [
             0.6,
             "#e6f5d0"
            ],
            [
             0.7,
             "#b8e186"
            ],
            [
             0.8,
             "#7fbc41"
            ],
            [
             0.9,
             "#4d9221"
            ],
            [
             1,
             "#276419"
            ]
           ],
           "sequential": [
            [
             0,
             "#0d0887"
            ],
            [
             0.1111111111111111,
             "#46039f"
            ],
            [
             0.2222222222222222,
             "#7201a8"
            ],
            [
             0.3333333333333333,
             "#9c179e"
            ],
            [
             0.4444444444444444,
             "#bd3786"
            ],
            [
             0.5555555555555556,
             "#d8576b"
            ],
            [
             0.6666666666666666,
             "#ed7953"
            ],
            [
             0.7777777777777778,
             "#fb9f3a"
            ],
            [
             0.8888888888888888,
             "#fdca26"
            ],
            [
             1,
             "#f0f921"
            ]
           ],
           "sequentialminus": [
            [
             0,
             "#0d0887"
            ],
            [
             0.1111111111111111,
             "#46039f"
            ],
            [
             0.2222222222222222,
             "#7201a8"
            ],
            [
             0.3333333333333333,
             "#9c179e"
            ],
            [
             0.4444444444444444,
             "#bd3786"
            ],
            [
             0.5555555555555556,
             "#d8576b"
            ],
            [
             0.6666666666666666,
             "#ed7953"
            ],
            [
             0.7777777777777778,
             "#fb9f3a"
            ],
            [
             0.8888888888888888,
             "#fdca26"
            ],
            [
             1,
             "#f0f921"
            ]
           ]
          },
          "colorway": [
           "#636efa",
           "#EF553B",
           "#00cc96",
           "#ab63fa",
           "#FFA15A",
           "#19d3f3",
           "#FF6692",
           "#B6E880",
           "#FF97FF",
           "#FECB52"
          ],
          "font": {
           "color": "#040404",
           "family": "Open Sans",
           "size": 15
          },
          "geo": {
           "bgcolor": "white",
           "lakecolor": "white",
           "landcolor": "#E5ECF6",
           "showlakes": true,
           "showland": true,
           "subunitcolor": "white"
          },
          "hoverlabel": {
           "align": "left"
          },
          "hovermode": "closest",
          "mapbox": {
           "style": "light"
          },
          "margin": {
           "b": 0
          },
          "paper_bgcolor": "white",
          "plot_bgcolor": "#E5ECF6",
          "polar": {
           "angularaxis": {
            "gridcolor": "white",
            "linecolor": "white",
            "ticks": ""
           },
           "bgcolor": "#E5ECF6",
           "radialaxis": {
            "gridcolor": "white",
            "linecolor": "white",
            "ticks": ""
           }
          },
          "scene": {
           "xaxis": {
            "backgroundcolor": "#E5ECF6",
            "gridcolor": "white",
            "gridwidth": 2,
            "linecolor": "white",
            "showbackground": true,
            "ticks": "",
            "zerolinecolor": "white"
           },
           "yaxis": {
            "backgroundcolor": "#E5ECF6",
            "gridcolor": "white",
            "gridwidth": 2,
            "linecolor": "white",
            "showbackground": true,
            "ticks": "",
            "zerolinecolor": "white"
           },
           "zaxis": {
            "backgroundcolor": "#E5ECF6",
            "gridcolor": "white",
            "gridwidth": 2,
            "linecolor": "white",
            "showbackground": true,
            "ticks": "",
            "zerolinecolor": "white"
           }
          },
          "shapedefaults": {
           "line": {
            "color": "#2a3f5f"
           }
          },
          "ternary": {
           "aaxis": {
            "gridcolor": "white",
            "linecolor": "white",
            "ticks": ""
           },
           "baxis": {
            "gridcolor": "white",
            "linecolor": "white",
            "ticks": ""
           },
           "bgcolor": "#E5ECF6",
           "caxis": {
            "gridcolor": "white",
            "linecolor": "white",
            "ticks": ""
           }
          },
          "title": {
           "font": {
            "color": "#040404",
            "family": "Open Sans"
           },
           "x": 0.05
          },
          "xaxis": {
           "automargin": true,
           "gridcolor": "white",
           "linecolor": "white",
           "ticks": "",
           "title": {
            "standoff": 15
           },
           "zerolinecolor": "white",
           "zerolinewidth": 2
          },
          "yaxis": {
           "automargin": true,
           "gridcolor": "white",
           "linecolor": "white",
           "ticks": "",
           "title": {
            "standoff": 15
           },
           "zerolinecolor": "white",
           "zerolinewidth": 2
          }
         }
        },
        "title": {
         "text": "Overview of all projects"
        },
        "width": 1210,
        "xaxis": {
         "anchor": "y",
         "autorange": "reversed",
         "domain": [
          0,
          1
         ],
         "title": {
          "text": "Project age in years"
         }
        },
        "yaxis": {
         "anchor": "x",
         "categoryorder": "total ascending",
         "domain": [
          0,
          1
         ],
         "title": {},
         "type": "category"
        }
       }
      }
     },
     "metadata": {},
     "output_type": "display_data"
    }
   ],
   "source": [
    "fig = px.scatter(\n",
    "    df_active,\n",
    "    x=\"project_age_in_years\",\n",
    "    y=\"topic\",\n",
    "    size=\"size\",\n",
    "    color=\"development_distribution_score\",\n",
    "    color_continuous_scale=color_continuous_scale,\n",
    "    custom_data=[\"project_name\", \"oneliner\", \"git_url\"],\n",
    "    size_max=20,\n",
    ")\n",
    "\n",
    "fig.update_layout(\n",
    "    coloraxis_colorbar=dict(\n",
    "        title=\"DDS\",\n",
    "        orientation='h',\n",
    "        y=-0.15\n",
    "    ),\n",
    "    yaxis=dict(type=\"category\", categoryorder=\"total ascending\"),\n",
    "    yaxis_title=None,\n",
    "    xaxis_title=\"Project age in years\",\n",
    "    height=1000,  # Added parameter\n",
    "    width=1210,\n",
    "    title=\"Overview of all projects\",\n",
    "    hoverlabel=dict(\n",
    "        bgcolor=\"white\",\n",
    "    ),\n",
    "    dragmode=False,\n",
    ")\n",
    "fig.update_traces(\n",
    "    hovertemplate=\"<br>\".join(\n",
    "        [\n",
    "            \"Project Name: <b>%{customdata[0]}</b>\",\n",
    "            \"Project Info: <b>%{customdata[1]}</b>\",\n",
    "            \"Git URL: <b>%{customdata[2]}</b>\",\n",
    "        ]\n",
    "    )\n",
    ")\n",
    "fig.add_layout_image(\n",
    "    dict(\n",
    "        source=logo_img,\n",
    "        xref=\"paper\",\n",
    "        yref=\"paper\",\n",
    "        x=1,\n",
    "        y=1,\n",
    "        sizex=0.05,\n",
    "        sizey=0.05,\n",
    "        xanchor=\"right\",\n",
    "        yanchor=\"top\",\n",
    "    )\n",
    ")\n",
    "fig[\"layout\"].update(margin=dict(l=0, r=0, b=0, t=40))\n",
    "fig[\"layout\"][\"xaxis\"][\"autorange\"] = \"reversed\"\n",
    "fig.show()"
   ]
  },
  {
   "cell_type": "markdown",
   "metadata": {},
   "source": [
    "```{figure} data:image/gif;base64,R0lGODlhAQABAIAAAAAAAP///yH5BAEAAAAALAAAAAABAAEAAAIBRAA7\n",
    ":figclass: caption-hack\n",
    ":name: overview-all-projects\n",
    "\n",
    "<br/>Overview of all projects of the last 14 years since the launch of GitHub\n",
    "```"
   ]
  },
  {
   "attachments": {},
   "cell_type": "markdown",
   "metadata": {},
   "source": [
    "This overview depicts how projects within specific topics have evolved over time. Early diverse developments can be seen in fields such as biosphere, photovoltaics, mobility, and transportation. Other fields, such as carbon intensity and accounting, or computation and communication, have recently emerged. More information can be found in the chapter {ref}`growth`. We can also see that the majority  of OSS developments emerged rapidly approximately three years ago. Newer projects are getting fewer and fewer, which is examined in greater detail in the chapter on {ref}`age`."
   ]
  },
  {
   "cell_type": "markdown",
   "metadata": {},
   "source": []
  },
  {
   "cell_type": "code",
   "execution_count": 9,
   "metadata": {
    "tags": [
     "full-width",
     "remove-cell"
    ]
   },
   "outputs": [],
   "source": [
    "# Save the dataset with the scores\n",
    "df_active_path = \"../csv/project_analysis.csv\"\n",
    "df_active.to_csv(df_active_path)"
   ]
  }
 ],
 "metadata": {
  "celltoolbar": "Tags",
  "kernelspec": {
   "display_name": "Python 3",
   "language": "python",
   "name": "python3"
  },
  "language_info": {
   "codemirror_mode": {
    "name": "ipython",
    "version": 3
   },
   "file_extension": ".py",
   "mimetype": "text/x-python",
   "name": "python",
   "nbconvert_exporter": "python",
   "pygments_lexer": "ipython3",
   "version": "3.8.10"
  },
  "tags": "full-width",
  "vscode": {
   "interpreter": {
    "hash": "e7370f93d1d0cde622a1f8e1c04877d8463912d04d973331ad4851f04de6915a"
   }
  }
 },
 "nbformat": 4,
 "nbformat_minor": 4
}
