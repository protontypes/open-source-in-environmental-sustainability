{
 "cells": [
  {
   "cell_type": "markdown",
   "metadata": {},
   "source": [
    "# Programming Languages\n",
    "\n",
    "**The number and kinds of programming languages provides insight into the skills required of code contributors, as well as the nature of the projects themselves.** This metric can help newcomers to an open source project as well as open source project managers gain insight into the project's profile within the context of their own experience and organisations. \n",
    "\n",
    "**Python dominates the OSS movement for sustainability, and is being used in 37.9% of all projects, followed by R (15%), Jupyter notebooks (9.76%) and other languages like Fortran, C++ and Java.** Statistics from [GitHut 2.0](https://madnight.github.io/githut/#/pull_requests/2022/1) or official number of GitHub give insights in the programming language usage of Open Source projects on GitHub in general. Comparing the data, it becomes clear that Python is significantly more represented within the repositories analysed here than JavaScript. This indicates strong focus on the analysis of large datasets, where Python and Jupyter Notebooks are becoming a dominant choice and less focus on the application side. Python, in particular, is the language of choice in projects in energy modelling, biosphere, hydrosphere, wind energy, buildings and heating. Python is considered to be an energy inefficient programming language. However, this does not show in practice because for computationally intensive operations, the Python community uses libraries such as NumPy, which make energy efficient algorithms in C available within Python.\n",
    "\n",
    "**The use of R deviates significantly from other statistics and has a high prevalence within the software world in general.** A concentration of R developments can be found, in particular, under the topics of biosphere, hydrosphere, water supply, soil, land use, climate, and agriculture. This can be attributed to the high number of data science projects in this field and the low number of web development projects for sustainable development. \n",
    "Despite its advanced age of over 65 years, Fortran is still widely used in the Earth system models in hydrosphere, climate and atmosphere. This can be explained by the long development time of these projects and the necessary numerical efficiency of such models for high performance computing.\n",
    "\n",
    "**Julia, a relatively new language, also has a wide range of applications.**  For some special use cases, such as building simulation, programming languages like Modelica are frequently used. "
   ]
  },
  {
   "cell_type": "code",
   "execution_count": 1,
   "metadata": {
    "tags": [
     "remove-cell"
    ]
   },
   "outputs": [],
   "source": [
    "import numpy as np\n",
    "import pandas as pd\n",
    "import plotly.io as pio\n",
    "import plotly.graph_objects as go\n",
    "import plotly.express as px\n",
    "from opensustain_template import *"
   ]
  },
  {
   "cell_type": "code",
   "execution_count": 2,
   "metadata": {
    "tags": [
     "remove-cell"
    ]
   },
   "outputs": [],
   "source": [
    "df_active = pd.read_csv(\"../csv/project_analysis.csv\")"
   ]
  },
  {
   "cell_type": "code",
   "execution_count": 3,
   "metadata": {
    "tags": [
     "full-width",
     "remove-input"
    ]
   },
   "outputs": [
    {
     "data": {
      "application/vnd.plotly.v1+json": {
       "config": {
        "plotlyServerURL": "https://plot.ly"
       },
       "data": [
        {
         "domain": {
          "x": [
           0,
           1
          ],
          "y": [
           0,
           1
          ]
         },
         "hole": 0.2,
         "hoverlabel": {
          "namelength": 0
         },
         "hovertemplate": "dominating_language_names=%{label}<br>dominating_language=%{value}",
         "labels": [
          "Python",
          "R",
          "Jupyter Notebook",
          "Fortran",
          "C++",
          "JavaScript",
          "Julia",
          "C",
          "TypeScript",
          "Java",
          "HTML",
          "Ruby",
          "MATLAB",
          "Modelica",
          "C#",
          "Vue",
          "Go",
          "PHP"
         ],
         "legendgroup": "",
         "marker": {
          "line": {
           "color": "#000000",
           "width": 1
          }
         },
         "name": "",
         "showlegend": true,
         "textinfo": "percent+label",
         "textposition": "inside",
         "type": "pie",
         "values": [
          362,
          152,
          85,
          47,
          43,
          33,
          29,
          23,
          21,
          21,
          19,
          18,
          14,
          14,
          8,
          8,
          7,
          6
         ]
        }
       ],
       "layout": {
        "font": {
         "size": 16
        },
        "legend": {
         "tracegroupgap": 0
        },
        "margin": {
         "t": 60
        },
        "piecolorway": [
         "#0E7C7B",
         "#17BEBB",
         "#FFC857",
         "#E9724C",
         "#C5283D"
        ],
        "showlegend": false,
        "template": {
         "data": {
          "bar": [
           {
            "error_x": {
             "color": "#2a3f5f"
            },
            "error_y": {
             "color": "#2a3f5f"
            },
            "marker": {
             "line": {
              "color": "#E5ECF6",
              "width": 0.5
             }
            },
            "type": "bar"
           }
          ],
          "barpolar": [
           {
            "marker": {
             "line": {
              "color": "#E5ECF6",
              "width": 0.5
             }
            },
            "type": "barpolar"
           }
          ],
          "carpet": [
           {
            "aaxis": {
             "endlinecolor": "#2a3f5f",
             "gridcolor": "white",
             "linecolor": "white",
             "minorgridcolor": "white",
             "startlinecolor": "#2a3f5f"
            },
            "baxis": {
             "endlinecolor": "#2a3f5f",
             "gridcolor": "white",
             "linecolor": "white",
             "minorgridcolor": "white",
             "startlinecolor": "#2a3f5f"
            },
            "type": "carpet"
           }
          ],
          "choropleth": [
           {
            "colorbar": {
             "outlinewidth": 0,
             "ticks": ""
            },
            "type": "choropleth"
           }
          ],
          "contour": [
           {
            "colorbar": {
             "outlinewidth": 0,
             "ticks": ""
            },
            "colorscale": [
             [
              0,
              "#0d0887"
             ],
             [
              0.1111111111111111,
              "#46039f"
             ],
             [
              0.2222222222222222,
              "#7201a8"
             ],
             [
              0.3333333333333333,
              "#9c179e"
             ],
             [
              0.4444444444444444,
              "#bd3786"
             ],
             [
              0.5555555555555556,
              "#d8576b"
             ],
             [
              0.6666666666666666,
              "#ed7953"
             ],
             [
              0.7777777777777778,
              "#fb9f3a"
             ],
             [
              0.8888888888888888,
              "#fdca26"
             ],
             [
              1,
              "#f0f921"
             ]
            ],
            "type": "contour"
           }
          ],
          "contourcarpet": [
           {
            "colorbar": {
             "outlinewidth": 0,
             "ticks": ""
            },
            "type": "contourcarpet"
           }
          ],
          "heatmap": [
           {
            "colorbar": {
             "outlinewidth": 0,
             "ticks": ""
            },
            "colorscale": [
             [
              0,
              "#0d0887"
             ],
             [
              0.1111111111111111,
              "#46039f"
             ],
             [
              0.2222222222222222,
              "#7201a8"
             ],
             [
              0.3333333333333333,
              "#9c179e"
             ],
             [
              0.4444444444444444,
              "#bd3786"
             ],
             [
              0.5555555555555556,
              "#d8576b"
             ],
             [
              0.6666666666666666,
              "#ed7953"
             ],
             [
              0.7777777777777778,
              "#fb9f3a"
             ],
             [
              0.8888888888888888,
              "#fdca26"
             ],
             [
              1,
              "#f0f921"
             ]
            ],
            "type": "heatmap"
           }
          ],
          "heatmapgl": [
           {
            "colorbar": {
             "outlinewidth": 0,
             "ticks": ""
            },
            "colorscale": [
             [
              0,
              "#0d0887"
             ],
             [
              0.1111111111111111,
              "#46039f"
             ],
             [
              0.2222222222222222,
              "#7201a8"
             ],
             [
              0.3333333333333333,
              "#9c179e"
             ],
             [
              0.4444444444444444,
              "#bd3786"
             ],
             [
              0.5555555555555556,
              "#d8576b"
             ],
             [
              0.6666666666666666,
              "#ed7953"
             ],
             [
              0.7777777777777778,
              "#fb9f3a"
             ],
             [
              0.8888888888888888,
              "#fdca26"
             ],
             [
              1,
              "#f0f921"
             ]
            ],
            "type": "heatmapgl"
           }
          ],
          "histogram": [
           {
            "marker": {
             "colorbar": {
              "outlinewidth": 0,
              "ticks": ""
             }
            },
            "type": "histogram"
           }
          ],
          "histogram2d": [
           {
            "colorbar": {
             "outlinewidth": 0,
             "ticks": ""
            },
            "colorscale": [
             [
              0,
              "#0d0887"
             ],
             [
              0.1111111111111111,
              "#46039f"
             ],
             [
              0.2222222222222222,
              "#7201a8"
             ],
             [
              0.3333333333333333,
              "#9c179e"
             ],
             [
              0.4444444444444444,
              "#bd3786"
             ],
             [
              0.5555555555555556,
              "#d8576b"
             ],
             [
              0.6666666666666666,
              "#ed7953"
             ],
             [
              0.7777777777777778,
              "#fb9f3a"
             ],
             [
              0.8888888888888888,
              "#fdca26"
             ],
             [
              1,
              "#f0f921"
             ]
            ],
            "type": "histogram2d"
           }
          ],
          "histogram2dcontour": [
           {
            "colorbar": {
             "outlinewidth": 0,
             "ticks": ""
            },
            "colorscale": [
             [
              0,
              "#0d0887"
             ],
             [
              0.1111111111111111,
              "#46039f"
             ],
             [
              0.2222222222222222,
              "#7201a8"
             ],
             [
              0.3333333333333333,
              "#9c179e"
             ],
             [
              0.4444444444444444,
              "#bd3786"
             ],
             [
              0.5555555555555556,
              "#d8576b"
             ],
             [
              0.6666666666666666,
              "#ed7953"
             ],
             [
              0.7777777777777778,
              "#fb9f3a"
             ],
             [
              0.8888888888888888,
              "#fdca26"
             ],
             [
              1,
              "#f0f921"
             ]
            ],
            "type": "histogram2dcontour"
           }
          ],
          "mesh3d": [
           {
            "colorbar": {
             "outlinewidth": 0,
             "ticks": ""
            },
            "type": "mesh3d"
           }
          ],
          "parcoords": [
           {
            "line": {
             "colorbar": {
              "outlinewidth": 0,
              "ticks": ""
             }
            },
            "type": "parcoords"
           }
          ],
          "pie": [
           {
            "automargin": true,
            "type": "pie"
           }
          ],
          "scatter": [
           {
            "marker": {
             "colorbar": {
              "outlinewidth": 0,
              "ticks": ""
             }
            },
            "type": "scatter"
           }
          ],
          "scatter3d": [
           {
            "line": {
             "colorbar": {
              "outlinewidth": 0,
              "ticks": ""
             }
            },
            "marker": {
             "colorbar": {
              "outlinewidth": 0,
              "ticks": ""
             }
            },
            "type": "scatter3d"
           }
          ],
          "scattercarpet": [
           {
            "marker": {
             "colorbar": {
              "outlinewidth": 0,
              "ticks": ""
             }
            },
            "type": "scattercarpet"
           }
          ],
          "scattergeo": [
           {
            "marker": {
             "colorbar": {
              "outlinewidth": 0,
              "ticks": ""
             }
            },
            "type": "scattergeo"
           }
          ],
          "scattergl": [
           {
            "marker": {
             "colorbar": {
              "outlinewidth": 0,
              "ticks": ""
             }
            },
            "type": "scattergl"
           }
          ],
          "scattermapbox": [
           {
            "marker": {
             "colorbar": {
              "outlinewidth": 0,
              "ticks": ""
             }
            },
            "type": "scattermapbox"
           }
          ],
          "scatterpolar": [
           {
            "marker": {
             "colorbar": {
              "outlinewidth": 0,
              "ticks": ""
             }
            },
            "type": "scatterpolar"
           }
          ],
          "scatterpolargl": [
           {
            "marker": {
             "colorbar": {
              "outlinewidth": 0,
              "ticks": ""
             }
            },
            "type": "scatterpolargl"
           }
          ],
          "scatterternary": [
           {
            "marker": {
             "colorbar": {
              "outlinewidth": 0,
              "ticks": ""
             }
            },
            "type": "scatterternary"
           }
          ],
          "surface": [
           {
            "colorbar": {
             "outlinewidth": 0,
             "ticks": ""
            },
            "colorscale": [
             [
              0,
              "#0d0887"
             ],
             [
              0.1111111111111111,
              "#46039f"
             ],
             [
              0.2222222222222222,
              "#7201a8"
             ],
             [
              0.3333333333333333,
              "#9c179e"
             ],
             [
              0.4444444444444444,
              "#bd3786"
             ],
             [
              0.5555555555555556,
              "#d8576b"
             ],
             [
              0.6666666666666666,
              "#ed7953"
             ],
             [
              0.7777777777777778,
              "#fb9f3a"
             ],
             [
              0.8888888888888888,
              "#fdca26"
             ],
             [
              1,
              "#f0f921"
             ]
            ],
            "type": "surface"
           }
          ],
          "table": [
           {
            "cells": {
             "fill": {
              "color": "#EBF0F8"
             },
             "line": {
              "color": "white"
             }
            },
            "header": {
             "fill": {
              "color": "#C8D4E3"
             },
             "line": {
              "color": "white"
             }
            },
            "type": "table"
           }
          ]
         },
         "layout": {
          "annotationdefaults": {
           "arrowcolor": "#2a3f5f",
           "arrowhead": 0,
           "arrowwidth": 1
          },
          "coloraxis": {
           "colorbar": {
            "outlinewidth": 0,
            "ticks": ""
           }
          },
          "colorscale": {
           "diverging": [
            [
             0,
             "#8e0152"
            ],
            [
             0.1,
             "#c51b7d"
            ],
            [
             0.2,
             "#de77ae"
            ],
            [
             0.3,
             "#f1b6da"
            ],
            [
             0.4,
             "#fde0ef"
            ],
            [
             0.5,
             "#f7f7f7"
            ],
            [
             0.6,
             "#e6f5d0"
            ],
            [
             0.7,
             "#b8e186"
            ],
            [
             0.8,
             "#7fbc41"
            ],
            [
             0.9,
             "#4d9221"
            ],
            [
             1,
             "#276419"
            ]
           ],
           "sequential": [
            [
             0,
             "#0d0887"
            ],
            [
             0.1111111111111111,
             "#46039f"
            ],
            [
             0.2222222222222222,
             "#7201a8"
            ],
            [
             0.3333333333333333,
             "#9c179e"
            ],
            [
             0.4444444444444444,
             "#bd3786"
            ],
            [
             0.5555555555555556,
             "#d8576b"
            ],
            [
             0.6666666666666666,
             "#ed7953"
            ],
            [
             0.7777777777777778,
             "#fb9f3a"
            ],
            [
             0.8888888888888888,
             "#fdca26"
            ],
            [
             1,
             "#f0f921"
            ]
           ],
           "sequentialminus": [
            [
             0,
             "#0d0887"
            ],
            [
             0.1111111111111111,
             "#46039f"
            ],
            [
             0.2222222222222222,
             "#7201a8"
            ],
            [
             0.3333333333333333,
             "#9c179e"
            ],
            [
             0.4444444444444444,
             "#bd3786"
            ],
            [
             0.5555555555555556,
             "#d8576b"
            ],
            [
             0.6666666666666666,
             "#ed7953"
            ],
            [
             0.7777777777777778,
             "#fb9f3a"
            ],
            [
             0.8888888888888888,
             "#fdca26"
            ],
            [
             1,
             "#f0f921"
            ]
           ]
          },
          "colorway": [
           "#636efa",
           "#EF553B",
           "#00cc96",
           "#ab63fa",
           "#FFA15A",
           "#19d3f3",
           "#FF6692",
           "#B6E880",
           "#FF97FF",
           "#FECB52"
          ],
          "font": {
           "color": "#040404",
           "family": "Open Sans",
           "size": 15
          },
          "geo": {
           "bgcolor": "white",
           "lakecolor": "white",
           "landcolor": "#E5ECF6",
           "showlakes": true,
           "showland": true,
           "subunitcolor": "white"
          },
          "hoverlabel": {
           "align": "left"
          },
          "hovermode": "closest",
          "mapbox": {
           "style": "light"
          },
          "margin": {
           "b": 0
          },
          "paper_bgcolor": "white",
          "plot_bgcolor": "#E5ECF6",
          "polar": {
           "angularaxis": {
            "gridcolor": "white",
            "linecolor": "white",
            "ticks": ""
           },
           "bgcolor": "#E5ECF6",
           "radialaxis": {
            "gridcolor": "white",
            "linecolor": "white",
            "ticks": ""
           }
          },
          "scene": {
           "xaxis": {
            "backgroundcolor": "#E5ECF6",
            "gridcolor": "white",
            "gridwidth": 2,
            "linecolor": "white",
            "showbackground": true,
            "ticks": "",
            "zerolinecolor": "white"
           },
           "yaxis": {
            "backgroundcolor": "#E5ECF6",
            "gridcolor": "white",
            "gridwidth": 2,
            "linecolor": "white",
            "showbackground": true,
            "ticks": "",
            "zerolinecolor": "white"
           },
           "zaxis": {
            "backgroundcolor": "#E5ECF6",
            "gridcolor": "white",
            "gridwidth": 2,
            "linecolor": "white",
            "showbackground": true,
            "ticks": "",
            "zerolinecolor": "white"
           }
          },
          "shapedefaults": {
           "line": {
            "color": "#2a3f5f"
           }
          },
          "ternary": {
           "aaxis": {
            "gridcolor": "white",
            "linecolor": "white",
            "ticks": ""
           },
           "baxis": {
            "gridcolor": "white",
            "linecolor": "white",
            "ticks": ""
           },
           "bgcolor": "#E5ECF6",
           "caxis": {
            "gridcolor": "white",
            "linecolor": "white",
            "ticks": ""
           }
          },
          "title": {
           "font": {
            "color": "#040404",
            "family": "Open Sans"
           },
           "x": 0.05
          },
          "xaxis": {
           "automargin": true,
           "gridcolor": "white",
           "linecolor": "white",
           "ticks": "",
           "title": {
            "standoff": 15
           },
           "zerolinecolor": "white",
           "zerolinewidth": 2
          },
          "yaxis": {
           "automargin": true,
           "gridcolor": "white",
           "linecolor": "white",
           "ticks": "",
           "title": {
            "standoff": 15
           },
           "zerolinecolor": "white",
           "zerolinewidth": 2
          }
         }
        },
        "title": {
         "text": "Distribution of Programming Languages"
        }
       }
      }
     },
     "metadata": {},
     "output_type": "display_data"
    }
   ],
   "source": [
    "license_dominating_language = (\n",
    "    df_active[\"dominating_language\"]\n",
    "    .value_counts()\n",
    "    .to_frame()\n",
    "    .rename_axis(\"dominating_language_names\")\n",
    "    .reset_index()\n",
    ")\n",
    "license_dominating_language\n",
    "license_dominating_language = license_dominating_language[(license_dominating_language[\"dominating_language\"] > 4)]\n",
    "fig = px.pie(license_dominating_language, values=\"dominating_language\", names=\"dominating_language_names\", color_discrete_sequence=color_discrete_sequence, hole=0.2)\n",
    "\n",
    "\n",
    "fig.update_layout(title=\"Distribution of Programming Languages\", showlegend=False, font_size=16)\n",
    "fig.update_traces(textposition='inside', textinfo='percent+label', marker=dict(line=dict(color='#000000', width=1)))\n",
    "fig.show()"
   ]
  },
  {
   "cell_type": "markdown",
   "metadata": {},
   "source": [
    "```{figure} data:image/gif;base64,R0lGODlhAQABAIAAAAAAAP///yH5BAEAAAAALAAAAAABAAEAAAIBRAA7\n",
    ":figclass: caption-hack\n",
    ":name: languages-distribution\n",
    "\n",
    "Distribution of programming languages\n",
    "```"
   ]
  },
  {
   "cell_type": "code",
   "execution_count": 5,
   "metadata": {
    "tags": [
     "full-width",
     "remove-input"
    ]
   },
   "outputs": [
    {
     "data": {
      "application/vnd.plotly.v1+json": {
       "config": {
        "plotlyServerURL": "https://plot.ly"
       },
       "data": [
        {
         "hoverlabel": {
          "namelength": 0
         },
         "hovertemplate": "dominating_language=%{x}<br>topic=%{y}<br>counts=%{marker.size}",
         "legendgroup": "",
         "marker": {
          "color": "#0E7C7B",
          "size": [
           46,
           33,
           25,
           23,
           22,
           21,
           21,
           18,
           18,
           18,
           16,
           16,
           13,
           12,
           11,
           11,
           11,
           11,
           11,
           10,
           10,
           10,
           9,
           9,
           8,
           8,
           8,
           8,
           8,
           8,
           7,
           7,
           6,
           6,
           6,
           6,
           6,
           6,
           6,
           6,
           6,
           6,
           5,
           5,
           5,
           5,
           5,
           5,
           5,
           4,
           4,
           4,
           4,
           4,
           4,
           4,
           4,
           4,
           4,
           4,
           4,
           4,
           4,
           4,
           4,
           3,
           3,
           3,
           3,
           3,
           3,
           3,
           3,
           3,
           3,
           3,
           3,
           3,
           3,
           3,
           3,
           3,
           3,
           3,
           3,
           3,
           3,
           3,
           3,
           3,
           3,
           3,
           3,
           3,
           2,
           2,
           2,
           2,
           2,
           2,
           2,
           2,
           2,
           2,
           2,
           2,
           2,
           2,
           2,
           2,
           2,
           2,
           2,
           2,
           2,
           2,
           2,
           2,
           2,
           2,
           2,
           2,
           2,
           2,
           2,
           2,
           2,
           2,
           2,
           2,
           2,
           2,
           2,
           2,
           2,
           2,
           1,
           1,
           1,
           1,
           1,
           1,
           1,
           1,
           1,
           1,
           1,
           1,
           1,
           1,
           1,
           1,
           1,
           1,
           1,
           1,
           1,
           1,
           1,
           1,
           1,
           1,
           1,
           1,
           1,
           1,
           1,
           1,
           1,
           1,
           1,
           1,
           1,
           1,
           1,
           1,
           1,
           1,
           1,
           1,
           1,
           1,
           1,
           1,
           1,
           1,
           1,
           1,
           1,
           1,
           1,
           1,
           1,
           1,
           1,
           1,
           1,
           1,
           1,
           1,
           1,
           1,
           1,
           1,
           1,
           1,
           1,
           1,
           1,
           1,
           1,
           1,
           1,
           1,
           1,
           1,
           1,
           1,
           1,
           1,
           1,
           1,
           1,
           1,
           1,
           1,
           1,
           1,
           1,
           1,
           1,
           1,
           1,
           1,
           1,
           1,
           1,
           1,
           1,
           1,
           1,
           1,
           1,
           1,
           1,
           1,
           1,
           1,
           1,
           1,
           1,
           1,
           1,
           1,
           1,
           1,
           1,
           1,
           1,
           1,
           1,
           1,
           1,
           1,
           1,
           1,
           1,
           1,
           1,
           1,
           1,
           1,
           1,
           1,
           1,
           1,
           1,
           1,
           1,
           1,
           1,
           1,
           1,
           1,
           1,
           1,
           1,
           1,
           1
          ],
          "sizemode": "area",
          "sizeref": 0.115,
          "symbol": "circle"
         },
         "mode": "markers",
         "name": "",
         "showlegend": false,
         "type": "scatter",
         "x": [
          "Python",
          "R",
          "Python",
          "Python",
          "Python",
          "Python",
          "Python",
          "Python",
          "Python",
          "Python",
          "R",
          "R",
          "Python",
          "R",
          "Python",
          "Python",
          "R",
          "Python",
          "Fortran",
          "Python",
          "Python",
          "R",
          "Python",
          "Python",
          "Java",
          "Jupyter Notebook",
          "Python",
          "Modelica",
          "Fortran",
          "R",
          "Python",
          "R",
          "Fortran",
          "JavaScript",
          "Python",
          "Jupyter Notebook",
          "Python",
          "Python",
          "Julia",
          "Jupyter Notebook",
          "Julia",
          "R",
          "HTML",
          "Python",
          "C",
          "R",
          "R",
          "Jupyter Notebook",
          "Jupyter Notebook",
          "R",
          "C++",
          "Julia",
          "Jupyter Notebook",
          "JavaScript",
          "Ruby",
          "C",
          "C++",
          "C++",
          "R",
          "Jupyter Notebook",
          "Jupyter Notebook",
          "C#",
          "Julia",
          "C++",
          "C",
          "JavaScript",
          "TypeScript",
          "Python",
          "Jupyter Notebook",
          "Python",
          "C++",
          "Jupyter Notebook",
          "Go",
          "Java",
          "Fortran",
          "Python",
          "Jupyter Notebook",
          "MATLAB",
          "C++",
          "Vue",
          "Ruby",
          "JavaScript",
          "Python",
          "Jupyter Notebook",
          "C++",
          "Fortran",
          "Python",
          "TypeScript",
          "Fortran",
          "Jupyter Notebook",
          "Jupyter Notebook",
          "Jupyter Notebook",
          "R",
          "Jupyter Notebook",
          "R",
          "JavaScript",
          "Jupyter Notebook",
          "C++",
          "Fortran",
          "HTML",
          "Jupyter Notebook",
          "Python",
          "Jupyter Notebook",
          "C",
          "HTML",
          "JavaScript",
          "Fortran",
          "Python",
          "Python",
          "Java",
          "C++",
          "Python",
          "TypeScript",
          "C",
          "JavaScript",
          "Kotlin",
          "Ruby",
          "Scala",
          "Ruby",
          "R",
          "Roff",
          "TypeScript",
          "C++",
          "JavaScript",
          "R",
          "Java",
          "JavaScript",
          "Ruby",
          "MATLAB",
          "Vue",
          "Jupyter Notebook",
          "Fortran",
          "JavaScript",
          "HTML",
          "Jupyter Notebook",
          "Fortran",
          "Fortran",
          "Svelte",
          "Ruby",
          "R",
          "TeX",
          "TypeScript",
          "Vue",
          "Python",
          "Rust",
          "R",
          "Julia",
          "TypeScript",
          "PHP",
          "Fortran",
          "C#",
          "JavaScript",
          "HTML",
          "Go",
          "Ruby",
          "C",
          "Java",
          "Fortran",
          "Swift",
          "C++",
          "Ruby",
          "Makefile",
          "CartoCSS",
          "Go",
          "MATLAB",
          "Kotlin",
          "Julia",
          "HTML",
          "TypeScript",
          "MATLAB",
          "Julia",
          "Jupyter Notebook",
          "Elixir",
          "R",
          "Ruby",
          "C++",
          "TypeScript",
          "JavaScript",
          "Python",
          "Modelica",
          "Perl",
          "QML",
          "PHP",
          "Rust",
          "C",
          "HTML",
          "GAMS",
          "JavaScript",
          "GAMS",
          "C++",
          "TypeScript",
          "C#",
          "R",
          "Turtle",
          "Modelica",
          "C",
          "C++",
          "C",
          "Julia",
          "C++",
          "Svelte",
          "Jupyter Notebook",
          "MATLAB",
          "HTML",
          "Go",
          "Python",
          "Java",
          "Jupyter Notebook",
          "Shell",
          "TeX",
          "C++",
          "MATLAB",
          "Modelica",
          "Rust",
          "HTML",
          "Scala",
          "TypeScript",
          "C",
          "Groovy",
          "CSS",
          "C",
          "Java",
          "MATLAB",
          "Modelica",
          "PowerBuilder",
          "HTML",
          "Groovy",
          "Java",
          "HTML",
          "C++",
          "C++",
          "R",
          "Vue",
          "Java",
          "TypeScript",
          "TeX",
          "NCL",
          "MATLAB",
          "Shell",
          "TypeScript",
          "TypeScript",
          "G-code",
          "Vue",
          "MATLAB",
          "PHP",
          "TypeScript",
          "SCSS",
          "Shell",
          "Fortran",
          "Julia",
          "Cython",
          "JavaScript",
          "Jupyter Notebook",
          "Python",
          "Makefile",
          "Jupyter Notebook",
          "JavaScript",
          "Svelte",
          "TypeScript",
          "Julia",
          "C++",
          "Python",
          "R",
          "C++",
          "Go",
          "PHP",
          "Jupyter Notebook",
          "Makefile",
          "C++",
          "HTML",
          "Modelica",
          "C++",
          "PHP",
          "PHP",
          "Ruby",
          "Lua",
          "Java",
          "Jupyter Notebook",
          "Jupyter Notebook",
          "Fortran",
          "MATLAB",
          "Julia",
          "MATLAB",
          "Modelica",
          "Julia",
          "C#",
          "Julia",
          "Jupyter Notebook",
          "C#"
         ],
         "xaxis": "x",
         "y": [
          "Energy Modeling and Optimization",
          "Biosphere",
          "Biosphere",
          "Buildings and Heating",
          "Hydrosphere",
          "Earth and Climate Modeling",
          "Photovoltaics and Solar Energy",
          "Climate Data Processing and Access",
          "Wind Energy",
          "Water Supply and Quality",
          "Water Supply and Quality",
          "Climate Data Processing and Access",
          "Mobility and Transportation",
          "Soil and Land",
          "Soil and Land",
          "Datasets on Energy Systems",
          "Agriculture and Nutrition",
          "Energy Distribution and Grids",
          "Earth and Climate Modeling",
          "Cryosphere",
          "Data Catalogs and Interfaces",
          "Hydrosphere",
          "Emission Observation and Modeling",
          "Battery",
          "Mobility and Transportation",
          "Photovoltaics and Solar Energy",
          "Computation and Communication",
          "Buildings and Heating",
          "Hydrosphere",
          "Air Quality",
          "Natural Hazard and Poverty",
          "Data Catalogs and Interfaces",
          "Atmosphere",
          "Biosphere",
          "Carbon Intensity and Accounting",
          "Hydrosphere",
          "Circular Economy and Waste",
          "Life Cycle Assessment",
          "Energy Modeling and Optimization",
          "Earth and Climate Modeling",
          "Earth and Climate Modeling",
          "Emission Observation and Modeling",
          "Biosphere",
          "Atmosphere",
          "Hydrosphere",
          "Earth and Climate Modeling",
          "Energy Modeling and Optimization",
          "Climate Data Processing and Access",
          "Energy Modeling and Optimization",
          "Mobility and Transportation",
          "Biosphere",
          "Hydrosphere",
          "Data Catalogs and Interfaces",
          "Data Catalogs and Interfaces",
          "Agriculture and Nutrition",
          "Climate Data Processing and Access",
          "Earth and Climate Modeling",
          "Buildings and Heating",
          "Meteorological Observation and Forecast",
          "Cryosphere",
          "Biosphere",
          "Mobility and Transportation",
          "Energy Distribution and Grids",
          "Photovoltaics and Solar Energy",
          "Water Supply and Quality",
          "Computation and Communication",
          "Carbon Intensity and Accounting",
          "Geothermal Energy",
          "Computation and Communication",
          "Hydrogen",
          "Energy Modeling and Optimization",
          "Emission Observation and Modeling",
          "Computation and Communication",
          "Energy Modeling and Optimization",
          "Cryosphere",
          "Hydro Energy",
          "Datasets on Energy Systems",
          "Battery",
          "Water Supply and Quality",
          "Mobility and Transportation",
          "Buildings and Heating",
          "Soil and Land",
          "Air Quality",
          "Mobility and Transportation",
          "Mobility and Transportation",
          "Radiative Transfer",
          "Sustainable Investment",
          "Biosphere",
          "Water Supply and Quality",
          "Water Supply and Quality",
          "Life Cycle Assessment",
          "Agriculture and Nutrition",
          "Integrated Assessment",
          "Natural Hazard and Poverty",
          "Sustainable Development Goals",
          "Sustainable Development Goals",
          "Soil and Land",
          "Wind Energy",
          "Wind Energy",
          "Soil and Land",
          "Wind Energy",
          "Radiative Transfer",
          "Integrated Assessment",
          "Photovoltaics and Solar Energy",
          "Datasets on Energy Systems",
          "Knowledge Platforms",
          "Geothermal Energy",
          "Energy Monitoring and Control",
          "Knowledge Platforms",
          "Energy Monitoring and Control",
          "Energy Monitoring and Control",
          "Meteorological Observation and Forecast",
          "Mobility and Transportation",
          "Mobility and Transportation",
          "Mobility and Transportation",
          "Mobility and Transportation",
          "Mobility and Transportation",
          "Mobility and Transportation",
          "Energy Distribution and Grids",
          "Life Cycle Assessment",
          "Wind Energy",
          "Air Quality",
          "Battery",
          "Circular Economy and Waste",
          "Carbon Intensity and Accounting",
          "Biosphere",
          "Air Quality",
          "Air Quality",
          "Climate Data Processing and Access",
          "Agriculture and Nutrition",
          "Battery",
          "Air Quality",
          "Agriculture and Nutrition",
          "Data Catalogs and Interfaces",
          "Atmosphere",
          "Agriculture and Nutrition",
          "Natural Hazard and Poverty",
          "Atmosphere",
          "Bioenergy",
          "Atmosphere",
          "Mobility and Transportation",
          "Natural Hazard and Poverty",
          "Natural Hazard and Poverty",
          "Bioenergy",
          "Mobility and Transportation",
          "Bioenergy",
          "Atmosphere",
          "Data Catalogs and Interfaces",
          "Mobility and Transportation",
          "Biosphere",
          "Buildings and Heating",
          "Buildings and Heating",
          "Buildings and Heating",
          "Buildings and Heating",
          "Life Cycle Assessment",
          "Meteorological Observation and Forecast",
          "Meteorological Observation and Forecast",
          "Buildings and Heating",
          "Biosphere",
          "Atmosphere",
          "Biosphere",
          "Biosphere",
          "Mobility and Transportation",
          "Mobility and Transportation",
          "Biosphere",
          "Biosphere",
          "Biosphere",
          "Photovoltaics and Solar Energy",
          "Photovoltaics and Solar Energy",
          "Photovoltaics and Solar Energy",
          "Water Supply and Quality",
          "Sustainable Investment",
          "Air Quality",
          "Sustainable Investment",
          "Sustainable Investment",
          "Air Quality",
          "Agriculture and Nutrition",
          "Water Supply and Quality",
          "Agriculture and Nutrition",
          "Photovoltaics and Solar Energy",
          "Agriculture and Nutrition",
          "Water Supply and Quality",
          "Agriculture and Nutrition",
          "Water Supply and Quality",
          "Wind Energy",
          "Agriculture and Nutrition",
          "Agriculture and Nutrition",
          "Sustainable Investment",
          "Sustainable Investment",
          "Sustainable Investment",
          "Sustainable Development Goals",
          "Atmosphere",
          "Photovoltaics and Solar Energy",
          "Knowledge Platforms",
          "Production and Industry",
          "Radiative Transfer",
          "Radiative Transfer",
          "Atmosphere",
          "Radiative Transfer",
          "Soil and Land",
          "Air Quality",
          "Air Quality",
          "Soil and Land",
          "Air Quality",
          "Air Quality",
          "Sustainable Development Goals",
          "Life Cycle Assessment",
          "Buildings and Heating",
          "Knowledge Platforms",
          "Energy Modeling and Optimization",
          "Agriculture and Nutrition",
          "Energy Distribution and Grids",
          "Energy Distribution and Grids",
          "Computation and Communication",
          "Computation and Communication",
          "Energy Distribution and Grids",
          "Energy Distribution and Grids",
          "Energy Modeling and Optimization",
          "Computation and Communication",
          "Energy Modeling and Optimization",
          "Computation and Communication",
          "Climate Data Processing and Access",
          "Energy Modeling and Optimization",
          "Energy Modeling and Optimization",
          "Energy Modeling and Optimization",
          "Climate Data Processing and Access",
          "Climate Data Processing and Access",
          "Energy Distribution and Grids",
          "Energy Distribution and Grids",
          "Energy Distribution and Grids",
          "Cryosphere",
          "Datasets on Energy Systems",
          "Datasets on Energy Systems",
          "Data Catalogs and Interfaces",
          "Cryosphere",
          "Cryosphere",
          "Earth and Climate Modeling",
          "Cryosphere",
          "Earth and Climate Modeling",
          "Emission Observation and Modeling",
          "Earth and Climate Modeling",
          "Emission Observation and Modeling",
          "Computation and Communication",
          "Emission Observation and Modeling",
          "Emission Observation and Modeling",
          "Computation and Communication",
          "Computation and Communication",
          "Energy Modeling and Optimization",
          "Climate Data Processing and Access",
          "Data Catalogs and Interfaces",
          "Climate Data Processing and Access",
          "Hydrosphere",
          "Carbon Intensity and Accounting",
          "Carbon Capture and Removel",
          "Hydrosphere",
          "Carbon Capture and Removel",
          "Carbon Capture and Removel",
          "Hydrosphere",
          "Hydrosphere",
          "Integrated Assessment",
          "Carbon Capture and Removel",
          "Integrated Assessment",
          "Buildings and Heating",
          "Knowledge Platforms",
          "Knowledge Platforms",
          "Buildings and Heating",
          "Knowledge Platforms",
          "Knowledge Platforms",
          "Hydrosphere",
          "Circular Economy and Waste",
          "Hydrogen",
          "Hydro Energy",
          "Energy Monitoring and Control",
          "Circular Economy and Waste",
          "Energy Monitoring and Control",
          "Circular Economy and Waste",
          "Geothermal Energy",
          "Geothermal Energy",
          "Circular Economy and Waste",
          "Hydro Energy",
          "Hydrogen",
          "Hydro Energy",
          "Hydro Energy",
          "Hydro Energy",
          "Circular Economy and Waste",
          "Hydrogen",
          "Hydrogen",
          "Hydrogen",
          "Agriculture and Nutrition"
         ],
         "yaxis": "y"
        }
       ],
       "layout": {
        "height": 1000,
        "images": [
         {
          "sizex": 0.05,
          "sizey": 0.05,
          "source": "data:image/png;base64,iVBORw0KGgoAAAANSUhEUgAAADwAAAA8CAYAAAA6/NlyAAAD20lEQVR4nO2ZTWgcZRjHf8/spjWkFYmKmbR+oVKaCPbQU8i2tCBqEbrU7LIJVhG0PVWQih4UehAVQVAkAQ/qRW1WdhPrB+pJ1DQF6aEnQ0WqqCQbhfpFW6nJzOMhBgQ3u+/MvPORmP91n/n/nx/v7DvPvCOqyv9JTtoNJK114LWufBIh5TIbZj3uQLldhJtV2CJwlfrkpicpJtHDsmIDHtzPZjo4gM8IQkGgE1n6Tf7ZJ0W4HFf+SrIOvLvI9YsORyXPwyhdy5BZkTXgwf1s1jzHJMejAh22fG3LCnDhAHeT53WBXht+cSoS8J495Beu5nmEo5C1m7e5QgPv28fGxW7eQhmy2VDcCgV81wN0XezkE2DQcj+xKzDwzsN0XHGJGqsQFkJMWp3nGUO5J45mklCgFS7cx0GFRyzk/izCT6p8Z8ErkMT09XCgzBZnkRmEK0NmTaswicd70+9yLqRHZBmvcM7jZQ0He1qEZ6bqfBDiWusyWuGBEgOOz3RAb1+Ep05O8IIqmTllMFphR3k6oO8FUYanJvgwRE+xqu0K7yrT53t8FcDTE6U4NZk9WDB4LKnHg0EMVXgiq7DQBlgEAUYC+H15aoKXorUUr1oCF0psV9hqaibK41naoJqpJbDvs9fYSflsapKTkTuKWa3/w8oOUyOBetRmklC7TWuboY86Pu9HbSYJtQO+0dDn/Ocn+DFqM0mo9S6N8Sg5Z6GXRNRy0lIYUyHXzkSUb+y1FK+M35bWitY/tSQhaVQvAxvaV+oX6g7vtpmd1gpfMCsT13ZwWsC/GdZZP9hPCVi/NSzsktnjO2wmpwOs8rVxrThFm9HpADt62rhWGBKLn3HSAfbl0wDV/cxVy7aiUxs8pFGdAbYblp/j11yf9pX+ipqb5uBxPEDtLXT7L9oITRHYfxPwjMtVj0jjnUNRU1MDVnfkeyTooYGOSmP8cJTcdGfpRX0OAp2BdYC8KnPVUZmpGYym/1Xqb0syP/4GKg+FuPQHkGdxz76mHPON89IHrl2LemeB7nAOOoNSBzmhvZUzbfPSBgaQ+eoQSs2C1Z8IsygNdSu7mhVk4n1Yeyp1lDELVp0otwKFlQoyAQxA7x+PAR/HHZMZYOXQAs5CCTgVZ05mgAH0uoMXYdOdIB/FlZEpYAB1772E+3sRYTQO/8wBw9LtrT2VIwgl4Beb3pkEXpb2VOp4uduAVwDj4aKVMvEcNpHMj/ej8iQwjMFpq7qVpocGqwZ4WdKo3QDe/Sx9qO9fqW7NAP9bMvv2VnL5vcBOVLcBNwHXAJvUrWxses1qBg6jTG9acWgdeK3rb5uuGEmTzESgAAAAAElFTkSuQmCC",
          "x": 1,
          "xanchor": "right",
          "xref": "paper",
          "y": 1,
          "yanchor": "top",
          "yref": "paper"
         }
        ],
        "legend": {
         "itemsizing": "constant",
         "tracegroupgap": 0
        },
        "margin": {
         "t": 60
        },
        "template": {
         "data": {
          "bar": [
           {
            "error_x": {
             "color": "#2a3f5f"
            },
            "error_y": {
             "color": "#2a3f5f"
            },
            "marker": {
             "line": {
              "color": "#E5ECF6",
              "width": 0.5
             }
            },
            "type": "bar"
           }
          ],
          "barpolar": [
           {
            "marker": {
             "line": {
              "color": "#E5ECF6",
              "width": 0.5
             }
            },
            "type": "barpolar"
           }
          ],
          "carpet": [
           {
            "aaxis": {
             "endlinecolor": "#2a3f5f",
             "gridcolor": "white",
             "linecolor": "white",
             "minorgridcolor": "white",
             "startlinecolor": "#2a3f5f"
            },
            "baxis": {
             "endlinecolor": "#2a3f5f",
             "gridcolor": "white",
             "linecolor": "white",
             "minorgridcolor": "white",
             "startlinecolor": "#2a3f5f"
            },
            "type": "carpet"
           }
          ],
          "choropleth": [
           {
            "colorbar": {
             "outlinewidth": 0,
             "ticks": ""
            },
            "type": "choropleth"
           }
          ],
          "contour": [
           {
            "colorbar": {
             "outlinewidth": 0,
             "ticks": ""
            },
            "colorscale": [
             [
              0,
              "#0d0887"
             ],
             [
              0.1111111111111111,
              "#46039f"
             ],
             [
              0.2222222222222222,
              "#7201a8"
             ],
             [
              0.3333333333333333,
              "#9c179e"
             ],
             [
              0.4444444444444444,
              "#bd3786"
             ],
             [
              0.5555555555555556,
              "#d8576b"
             ],
             [
              0.6666666666666666,
              "#ed7953"
             ],
             [
              0.7777777777777778,
              "#fb9f3a"
             ],
             [
              0.8888888888888888,
              "#fdca26"
             ],
             [
              1,
              "#f0f921"
             ]
            ],
            "type": "contour"
           }
          ],
          "contourcarpet": [
           {
            "colorbar": {
             "outlinewidth": 0,
             "ticks": ""
            },
            "type": "contourcarpet"
           }
          ],
          "heatmap": [
           {
            "colorbar": {
             "outlinewidth": 0,
             "ticks": ""
            },
            "colorscale": [
             [
              0,
              "#0d0887"
             ],
             [
              0.1111111111111111,
              "#46039f"
             ],
             [
              0.2222222222222222,
              "#7201a8"
             ],
             [
              0.3333333333333333,
              "#9c179e"
             ],
             [
              0.4444444444444444,
              "#bd3786"
             ],
             [
              0.5555555555555556,
              "#d8576b"
             ],
             [
              0.6666666666666666,
              "#ed7953"
             ],
             [
              0.7777777777777778,
              "#fb9f3a"
             ],
             [
              0.8888888888888888,
              "#fdca26"
             ],
             [
              1,
              "#f0f921"
             ]
            ],
            "type": "heatmap"
           }
          ],
          "heatmapgl": [
           {
            "colorbar": {
             "outlinewidth": 0,
             "ticks": ""
            },
            "colorscale": [
             [
              0,
              "#0d0887"
             ],
             [
              0.1111111111111111,
              "#46039f"
             ],
             [
              0.2222222222222222,
              "#7201a8"
             ],
             [
              0.3333333333333333,
              "#9c179e"
             ],
             [
              0.4444444444444444,
              "#bd3786"
             ],
             [
              0.5555555555555556,
              "#d8576b"
             ],
             [
              0.6666666666666666,
              "#ed7953"
             ],
             [
              0.7777777777777778,
              "#fb9f3a"
             ],
             [
              0.8888888888888888,
              "#fdca26"
             ],
             [
              1,
              "#f0f921"
             ]
            ],
            "type": "heatmapgl"
           }
          ],
          "histogram": [
           {
            "marker": {
             "colorbar": {
              "outlinewidth": 0,
              "ticks": ""
             }
            },
            "type": "histogram"
           }
          ],
          "histogram2d": [
           {
            "colorbar": {
             "outlinewidth": 0,
             "ticks": ""
            },
            "colorscale": [
             [
              0,
              "#0d0887"
             ],
             [
              0.1111111111111111,
              "#46039f"
             ],
             [
              0.2222222222222222,
              "#7201a8"
             ],
             [
              0.3333333333333333,
              "#9c179e"
             ],
             [
              0.4444444444444444,
              "#bd3786"
             ],
             [
              0.5555555555555556,
              "#d8576b"
             ],
             [
              0.6666666666666666,
              "#ed7953"
             ],
             [
              0.7777777777777778,
              "#fb9f3a"
             ],
             [
              0.8888888888888888,
              "#fdca26"
             ],
             [
              1,
              "#f0f921"
             ]
            ],
            "type": "histogram2d"
           }
          ],
          "histogram2dcontour": [
           {
            "colorbar": {
             "outlinewidth": 0,
             "ticks": ""
            },
            "colorscale": [
             [
              0,
              "#0d0887"
             ],
             [
              0.1111111111111111,
              "#46039f"
             ],
             [
              0.2222222222222222,
              "#7201a8"
             ],
             [
              0.3333333333333333,
              "#9c179e"
             ],
             [
              0.4444444444444444,
              "#bd3786"
             ],
             [
              0.5555555555555556,
              "#d8576b"
             ],
             [
              0.6666666666666666,
              "#ed7953"
             ],
             [
              0.7777777777777778,
              "#fb9f3a"
             ],
             [
              0.8888888888888888,
              "#fdca26"
             ],
             [
              1,
              "#f0f921"
             ]
            ],
            "type": "histogram2dcontour"
           }
          ],
          "mesh3d": [
           {
            "colorbar": {
             "outlinewidth": 0,
             "ticks": ""
            },
            "type": "mesh3d"
           }
          ],
          "parcoords": [
           {
            "line": {
             "colorbar": {
              "outlinewidth": 0,
              "ticks": ""
             }
            },
            "type": "parcoords"
           }
          ],
          "pie": [
           {
            "automargin": true,
            "type": "pie"
           }
          ],
          "scatter": [
           {
            "marker": {
             "colorbar": {
              "outlinewidth": 0,
              "ticks": ""
             }
            },
            "type": "scatter"
           }
          ],
          "scatter3d": [
           {
            "line": {
             "colorbar": {
              "outlinewidth": 0,
              "ticks": ""
             }
            },
            "marker": {
             "colorbar": {
              "outlinewidth": 0,
              "ticks": ""
             }
            },
            "type": "scatter3d"
           }
          ],
          "scattercarpet": [
           {
            "marker": {
             "colorbar": {
              "outlinewidth": 0,
              "ticks": ""
             }
            },
            "type": "scattercarpet"
           }
          ],
          "scattergeo": [
           {
            "marker": {
             "colorbar": {
              "outlinewidth": 0,
              "ticks": ""
             }
            },
            "type": "scattergeo"
           }
          ],
          "scattergl": [
           {
            "marker": {
             "colorbar": {
              "outlinewidth": 0,
              "ticks": ""
             }
            },
            "type": "scattergl"
           }
          ],
          "scattermapbox": [
           {
            "marker": {
             "colorbar": {
              "outlinewidth": 0,
              "ticks": ""
             }
            },
            "type": "scattermapbox"
           }
          ],
          "scatterpolar": [
           {
            "marker": {
             "colorbar": {
              "outlinewidth": 0,
              "ticks": ""
             }
            },
            "type": "scatterpolar"
           }
          ],
          "scatterpolargl": [
           {
            "marker": {
             "colorbar": {
              "outlinewidth": 0,
              "ticks": ""
             }
            },
            "type": "scatterpolargl"
           }
          ],
          "scatterternary": [
           {
            "marker": {
             "colorbar": {
              "outlinewidth": 0,
              "ticks": ""
             }
            },
            "type": "scatterternary"
           }
          ],
          "surface": [
           {
            "colorbar": {
             "outlinewidth": 0,
             "ticks": ""
            },
            "colorscale": [
             [
              0,
              "#0d0887"
             ],
             [
              0.1111111111111111,
              "#46039f"
             ],
             [
              0.2222222222222222,
              "#7201a8"
             ],
             [
              0.3333333333333333,
              "#9c179e"
             ],
             [
              0.4444444444444444,
              "#bd3786"
             ],
             [
              0.5555555555555556,
              "#d8576b"
             ],
             [
              0.6666666666666666,
              "#ed7953"
             ],
             [
              0.7777777777777778,
              "#fb9f3a"
             ],
             [
              0.8888888888888888,
              "#fdca26"
             ],
             [
              1,
              "#f0f921"
             ]
            ],
            "type": "surface"
           }
          ],
          "table": [
           {
            "cells": {
             "fill": {
              "color": "#EBF0F8"
             },
             "line": {
              "color": "white"
             }
            },
            "header": {
             "fill": {
              "color": "#C8D4E3"
             },
             "line": {
              "color": "white"
             }
            },
            "type": "table"
           }
          ]
         },
         "layout": {
          "annotationdefaults": {
           "arrowcolor": "#2a3f5f",
           "arrowhead": 0,
           "arrowwidth": 1
          },
          "coloraxis": {
           "colorbar": {
            "outlinewidth": 0,
            "ticks": ""
           }
          },
          "colorscale": {
           "diverging": [
            [
             0,
             "#8e0152"
            ],
            [
             0.1,
             "#c51b7d"
            ],
            [
             0.2,
             "#de77ae"
            ],
            [
             0.3,
             "#f1b6da"
            ],
            [
             0.4,
             "#fde0ef"
            ],
            [
             0.5,
             "#f7f7f7"
            ],
            [
             0.6,
             "#e6f5d0"
            ],
            [
             0.7,
             "#b8e186"
            ],
            [
             0.8,
             "#7fbc41"
            ],
            [
             0.9,
             "#4d9221"
            ],
            [
             1,
             "#276419"
            ]
           ],
           "sequential": [
            [
             0,
             "#0d0887"
            ],
            [
             0.1111111111111111,
             "#46039f"
            ],
            [
             0.2222222222222222,
             "#7201a8"
            ],
            [
             0.3333333333333333,
             "#9c179e"
            ],
            [
             0.4444444444444444,
             "#bd3786"
            ],
            [
             0.5555555555555556,
             "#d8576b"
            ],
            [
             0.6666666666666666,
             "#ed7953"
            ],
            [
             0.7777777777777778,
             "#fb9f3a"
            ],
            [
             0.8888888888888888,
             "#fdca26"
            ],
            [
             1,
             "#f0f921"
            ]
           ],
           "sequentialminus": [
            [
             0,
             "#0d0887"
            ],
            [
             0.1111111111111111,
             "#46039f"
            ],
            [
             0.2222222222222222,
             "#7201a8"
            ],
            [
             0.3333333333333333,
             "#9c179e"
            ],
            [
             0.4444444444444444,
             "#bd3786"
            ],
            [
             0.5555555555555556,
             "#d8576b"
            ],
            [
             0.6666666666666666,
             "#ed7953"
            ],
            [
             0.7777777777777778,
             "#fb9f3a"
            ],
            [
             0.8888888888888888,
             "#fdca26"
            ],
            [
             1,
             "#f0f921"
            ]
           ]
          },
          "colorway": [
           "#636efa",
           "#EF553B",
           "#00cc96",
           "#ab63fa",
           "#FFA15A",
           "#19d3f3",
           "#FF6692",
           "#B6E880",
           "#FF97FF",
           "#FECB52"
          ],
          "font": {
           "color": "#040404",
           "family": "Open Sans",
           "size": 15
          },
          "geo": {
           "bgcolor": "white",
           "lakecolor": "white",
           "landcolor": "#E5ECF6",
           "showlakes": true,
           "showland": true,
           "subunitcolor": "white"
          },
          "hoverlabel": {
           "align": "left"
          },
          "hovermode": "closest",
          "mapbox": {
           "style": "light"
          },
          "margin": {
           "b": 0
          },
          "paper_bgcolor": "white",
          "plot_bgcolor": "#E5ECF6",
          "polar": {
           "angularaxis": {
            "gridcolor": "white",
            "linecolor": "white",
            "ticks": ""
           },
           "bgcolor": "#E5ECF6",
           "radialaxis": {
            "gridcolor": "white",
            "linecolor": "white",
            "ticks": ""
           }
          },
          "scene": {
           "xaxis": {
            "backgroundcolor": "#E5ECF6",
            "gridcolor": "white",
            "gridwidth": 2,
            "linecolor": "white",
            "showbackground": true,
            "ticks": "",
            "zerolinecolor": "white"
           },
           "yaxis": {
            "backgroundcolor": "#E5ECF6",
            "gridcolor": "white",
            "gridwidth": 2,
            "linecolor": "white",
            "showbackground": true,
            "ticks": "",
            "zerolinecolor": "white"
           },
           "zaxis": {
            "backgroundcolor": "#E5ECF6",
            "gridcolor": "white",
            "gridwidth": 2,
            "linecolor": "white",
            "showbackground": true,
            "ticks": "",
            "zerolinecolor": "white"
           }
          },
          "shapedefaults": {
           "line": {
            "color": "#2a3f5f"
           }
          },
          "ternary": {
           "aaxis": {
            "gridcolor": "white",
            "linecolor": "white",
            "ticks": ""
           },
           "baxis": {
            "gridcolor": "white",
            "linecolor": "white",
            "ticks": ""
           },
           "bgcolor": "#E5ECF6",
           "caxis": {
            "gridcolor": "white",
            "linecolor": "white",
            "ticks": ""
           }
          },
          "title": {
           "font": {
            "color": "#040404",
            "family": "Open Sans"
           },
           "x": 0.05
          },
          "xaxis": {
           "automargin": true,
           "gridcolor": "white",
           "linecolor": "white",
           "ticks": "",
           "title": {
            "standoff": 15
           },
           "zerolinecolor": "white",
           "zerolinewidth": 2
          },
          "yaxis": {
           "automargin": true,
           "gridcolor": "white",
           "linecolor": "white",
           "ticks": "",
           "title": {
            "standoff": 15
           },
           "zerolinecolor": "white",
           "zerolinewidth": 2
          }
         }
        },
        "title": {
         "text": "Distribution of Programming Languages within Topics"
        },
        "width": 1200,
        "xaxis": {
         "anchor": "y",
         "domain": [
          0,
          1
         ],
         "title": {}
        },
        "yaxis": {
         "anchor": "x",
         "domain": [
          0,
          1
         ],
         "title": {}
        }
       }
      }
     },
     "metadata": {},
     "output_type": "display_data"
    }
   ],
   "source": [
    "df_language_distribution = (\n",
    "    df_active.value_counts([\"topic\", \"dominating_language\"]).to_frame().reset_index()\n",
    ")\n",
    "\n",
    "df_language_distribution.rename(columns={0: \"counts\"}, inplace=True)\n",
    "fig = px.scatter(\n",
    "    df_language_distribution, x=\"dominating_language\", y=\"topic\", size=\"counts\", \n",
    ")\n",
    "\n",
    "\n",
    "fig.update_layout(\n",
    "    height=1000,  # Added parameter\n",
    "    width=1200,\n",
    "    xaxis_title= None,\n",
    "    yaxis_title= None,\n",
    "    title=\"Distribution of Programming Languages within Topics\"\n",
    ")\n",
    "fig.update_traces(marker_color=marker_color)\n",
    "\n",
    "fig.add_layout_image(\n",
    "    dict(\n",
    "        source=logo_img,\n",
    "        xref=\"paper\", yref=\"paper\",\n",
    "        x=1, y=1,\n",
    "        sizex=0.05, sizey=0.05,\n",
    "        xanchor=\"right\", yanchor=\"top\"\n",
    "    )\n",
    ")\n",
    "\n",
    "fig.show()"
   ]
  },
  {
   "cell_type": "markdown",
   "metadata": {},
   "source": [
    "```{figure} data:image/gif;base64,R0lGODlhAQABAIAAAAAAAP///yH5BAEAAAAALAAAAAABAAEAAAIBRAA7\n",
    ":figclass: caption-hack\n",
    ":name: languages-within-topics\n",
    "\n",
    "Distribution of programming languages within topics\n",
    "```"
   ]
  },
  {
   "cell_type": "markdown",
   "metadata": {},
   "source": []
  }
 ],
 "metadata": {
  "celltoolbar": "Tags",
  "kernelspec": {
   "display_name": "Python 3.8.10 64-bit",
   "language": "python",
   "name": "python3"
  },
  "language_info": {
   "codemirror_mode": {
    "name": "ipython",
    "version": 3
   },
   "file_extension": ".py",
   "mimetype": "text/x-python",
   "name": "python",
   "nbconvert_exporter": "python",
   "pygments_lexer": "ipython3",
   "version": "3.8.10"
  },
  "tags": "full-width",
  "vscode": {
   "interpreter": {
    "hash": "e7370f93d1d0cde622a1f8e1c04877d8463912d04d973331ad4851f04de6915a"
   }
  }
 },
 "nbformat": 4,
 "nbformat_minor": 4
}
