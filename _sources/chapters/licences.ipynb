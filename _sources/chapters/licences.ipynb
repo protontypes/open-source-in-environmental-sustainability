{
 "cells": [
  {
   "attachments": {},
   "cell_type": "markdown",
   "metadata": {},
   "source": [
    "# Licences\n",
    "\n",
    " Licences ensure that communities behind many of today's most innovative technologies can protect their creations in whatever way they see fit. The open source licence determines how openness is defined from a legal perspective. Depending on whether one wants to license a small software tool, a larger framework, datasets or an internet service, the choice of licence can determine the long-term strategic direction. In this way restrictions, conditions and guarantees are defined by the authors under which use and derivations are possible. Especially for commercial use, licensing criteria play an important role. Websites like [ChooseALicense](https://choosealicense.com/) can help you choose the right licence. The distribution of licences reveals the orientation of the open source ecosystem towards more [permissive licences](https://en.wikipedia.org/wiki/Permissive_software_license) or [copyleft licences](https://en.wikipedia.org/wiki/Copyleft). "
   ]
  },
  {
   "cell_type": "code",
   "execution_count": null,
   "metadata": {
    "tags": [
     "remove-cell"
    ]
   },
   "outputs": [],
   "source": [
    "import numpy as np\n",
    "import pandas as pd\n",
    "import plotly.io as pio\n",
    "import plotly.graph_objects as go\n",
    "import plotly.express as px\n",
    "from opensustainTemplate import *"
   ]
  },
  {
   "cell_type": "code",
   "execution_count": null,
   "metadata": {
    "tags": [
     "remove-cell"
    ]
   },
   "outputs": [],
   "source": [
    "df_active = pd.read_csv(\"../csv/project_analysis.csv\")"
   ]
  },
  {
   "cell_type": "code",
   "execution_count": null,
   "metadata": {
    "tags": [
     "hide-input",
     "remove-input"
    ]
   },
   "outputs": [],
   "source": [
    "license_his = (\n",
    "    df_active[\"license\"]\n",
    "    .value_counts()\n",
    "    .to_frame()\n",
    "    .rename_axis(\"license_names\")\n",
    "    .reset_index()\n",
    ")\n",
    "fig = px.pie(\n",
    "    license_his,\n",
    "    values=\"license\",\n",
    "    names=\"license_names\",\n",
    "    color_discrete_sequence=color_discrete_sequence,\n",
    "    hole=0.2,\n",
    ")\n",
    "\n",
    "fig.update_layout(showlegend=False, font_size=16)\n",
    "fig.update_traces(\n",
    "    textposition=\"inside\",\n",
    "    textinfo=\"percent+label\",\n",
    "    marker=dict(line=dict(color=boarder_color, width=1)),\n",
    ")\n",
    "fig[\"layout\"].update(margin=dict(l=0, r=0, b=0, t=0))\n",
    "config = {\n",
    "  'toImageButtonOptions': {\n",
    "    'format': 'svg', # one of png, svg, jpeg, webp\n",
    "  },\n",
    "  'responsive':'true'\n",
    "}\n",
    "fig.show(config=config)"
   ]
  },
  {
   "attachments": {},
   "cell_type": "markdown",
   "metadata": {},
   "source": [
    "```{figure} data:image/gif;base64,R0lGODlhAQABAIAAAAAAAP///yH5BAEAAAAALAAAAAABAAEAAAIBRAA7\n",
    ":figclass: caption-hack\n",
    ":name: distribution-of-licences\n",
    "\n",
    "\\- Distribution of licences\n",
    "```"
   ]
  },
  {
   "attachments": {},
   "cell_type": "markdown",
   "metadata": {},
   "source": [
    "**Permissive licences like BSD, Apache and MIT are the most popular in the field of sustainability. The MIT licence was the top choice, used in ~26% of the projects.** MIT is a short and simple permissive licence. Permissive licences are easier to use in commercial products, and unlike the copyleft licence, they do not enforce the release of all code under a similar licence. Permissive licences like MIT create many opportunities for the reuse and commercialisation of OSS projects within proprietary software. Projects under this licence, on the other hand, may be jeopardised by the use of proprietary products. Companies are not required to release bug fixes or enhancements, so improvements cannot be contributed back to the open source project. In some cases, this can lead to developers losing motivation to contribute over time as it becomes apparent that the capacity for the overall development effort is diminishing.\n",
    "\n",
    "**The second most used licence was a Custom licence, used in 24% of the projects.** All projects that could not be mapped to standard open source licences based on the [SPDX License List](https://spdx.org/licenses/) are considered custom licences. Licences with modifications from the original open source licences also fall under this category.\n",
    "\n",
    "**GPL 3.0 is the third most popular licence used by 17.3% of all projects.** Permissions under this strong copyleft licence require licensing the entire source code of the licenced works and modifications. GPL was created to protect software from becoming proprietary, or private. Copyright and licence notices must be preserved and contributors provide an express grant of patent rights. Copyleft licences are more prevalent in business models that rely on direct monetisation of the core project. \n"
   ]
  },
  {
   "cell_type": "code",
   "execution_count": null,
   "metadata": {},
   "outputs": [],
   "source": []
  }
 ],
 "metadata": {
  "celltoolbar": "Tags",
  "kernelspec": {
   "display_name": "Python 3 (ipykernel)",
   "language": "python",
   "name": "python3"
  },
  "language_info": {
   "codemirror_mode": {
    "name": "ipython",
    "version": 3
   },
   "file_extension": ".py",
   "mimetype": "text/x-python",
   "name": "python",
   "nbconvert_exporter": "python",
   "pygments_lexer": "ipython3",
   "version": "3.8.10"
  },
  "tags": "full-width",
  "vscode": {
   "interpreter": {
    "hash": "e7370f93d1d0cde622a1f8e1c04877d8463912d04d973331ad4851f04de6915a"
   }
  }
 },
 "nbformat": 4,
 "nbformat_minor": 4
}
