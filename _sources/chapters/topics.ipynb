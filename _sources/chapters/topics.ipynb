{
 "cells": [
  {
   "cell_type": "markdown",
   "metadata": {},
   "source": [
    "(fields)=\n",
    "# Topics\n",
    "\n",
    "Project topics have been identified across sectors, technologies and research fields. This mapping process was iterated multiple times as part of the analysis and will continue to evolve as niches develop and emerge. While it may be difficult to compare the scope of the topics directly, the relative size allow us to identify neglected, vibrant, and emerging areas."
   ]
  },
  {
   "cell_type": "code",
   "execution_count": null,
   "metadata": {
    "tags": [
     "remove-cell"
    ]
   },
   "outputs": [],
   "source": [
    "import numpy as np\n",
    "import pandas as pd\n",
    "import plotly.io as pio\n",
    "import plotly.graph_objects as go\n",
    "import plotly.express as px\n",
    "from opensustainTemplate import *"
   ]
  },
  {
   "cell_type": "code",
   "execution_count": null,
   "metadata": {
    "tags": [
     "remove-cell"
    ]
   },
   "outputs": [],
   "source": [
    "df_active = pd.read_csv(\"../csv/project_analysis.csv\")"
   ]
  },
  {
   "cell_type": "code",
   "execution_count": null,
   "metadata": {
    "tags": [
     "full-width",
     "remove-input"
    ]
   },
   "outputs": [],
   "source": [
    "topic_his = (\n",
    "    df_active[\"topic\"]\n",
    "    .value_counts()\n",
    "    .to_frame()\n",
    "    .rename_axis(\"topic_names\")\n",
    "    .reset_index()\n",
    ")\n",
    "\n",
    "fig = px.bar(\n",
    "    topic_his,\n",
    "    x=\"topic\",\n",
    "    y=\"topic_names\",\n",
    "    orientation=\"h\",\n",
    ")\n",
    "\n",
    "fig.update_layout(\n",
    "    height=1000,  # Added parameter\n",
    "    width=500,\n",
    "    yaxis_title=None,\n",
    "    xaxis_title=\"Projects\",\n",
    "    title=\"Projects within topics\",\n",
    "    coloraxis_colorbar=dict(\n",
    "        title=\"DDS\",\n",
    "    ),\n",
    "    hoverlabel=dict(bgcolor=\"white\"),\n",
    "    dragmode=False,\n",
    ")\n",
    "fig[\"layout\"].update(margin=dict(l=300, r=0, b=0, t=40))\n",
    "fig.update_traces(marker_color=marker_color)\n",
    "fig.update(layout_showlegend=False)\n",
    "fig.add_layout_image(\n",
    "    dict(\n",
    "        source=logo_img,\n",
    "        xref=\"paper\",\n",
    "        yref=\"paper\",\n",
    "        x=1,\n",
    "        y=0,\n",
    "        sizex=0.06,\n",
    "        sizey=0.06,\n",
    "        xanchor=\"right\",\n",
    "        yanchor=\"bottom\",\n",
    "    )\n",
    ")\n",
    "fig[\"layout\"][\"yaxis\"][\"autorange\"] = \"reversed\"\n",
    "fig.show()"
   ]
  },
  {
   "cell_type": "markdown",
   "metadata": {},
   "source": [
    "```{figure} data:image/gif;base64,R0lGODlhAQABAIAAAAAAAP///yH5BAEAAAAALAAAAAABAAEAAAIBRAA7\n",
    ":figclass: caption-hack\n",
    ":name: projects-within-topics\n",
    "\n",
    "<br/>Number of individual projects within topics\n",
    "```"
   ]
  },
  {
   "cell_type": "markdown",
   "metadata": {},
   "source": [
    "**45% of all identified projects can be found within Biosphere, Hydrosphere, Water Supply and Quality, Energy System Modelling, Mobility and Transportation, and Buildings and Heating.** This is likely due to the research maturity of these fields, the multitude of scientific organisations behind them, and the relatively good availability of open data in these categories. We can see strong open source ecosystems, particularly in the field of Energy Modelling and Renewable Energy, such as Photovoltaics or Wind Energy. However, despite the central importance of batteries for energy storage, only a few OSS projects are under development.\n",
    "\n",
    "Furthermore, areas where software plays a central role, but only a small number of projects can be identified, are of particular interest. **For example, within [Sustainable Investment](https://opensustain.tech/#sustainable-investment) representing only 1.15 % (a total of 11 projects), open source is still something of a marginal factor.** Despite ongoing discussions about ESG (Environmental, Social and Governance) ratings regarding their quality and transparency, the field is dominated by proprietary closed-source frameworks and datasets. The lack of open source and open science in sustainable investment reflects the lack of transparent impact measurement and evaluation, which is key in financing a sustainable transformation. **Also, the field of Energy and Resource Consumption shows a very low level of OSS developments, at only 0.28 %.**\n",
    "\n",
    "**In Emission Observation and Modeling, only 22 developments have been identified, representing 2.1% of all projects.** Despite the significant impact of anthropogenic emissions on the climate, there is a lack of open source tools, platforms, and communities that truly reflect the magnitude of the challenge. A significant business opportunity would exist for an open source community to bring together various emissions monitoring and modelling datasets from around the world on a single platform. A platform like this would be critical for increasing transparency around pressing issues like carbon trading, carbon taxes, and company sustainability assessments. There are new promising developments in this space, such as [The Global Registry of Fossil Fuels](https://fossilfuelregistry.org/). Moreover, Electricity Maps has successfully demonstrated how this approach works when applied to local energy grids. It has made it possible for hundreds of scientists and developers to collaborate in an open way and combine existing public data into a single digital platform.\n",
    "\n",
    "**Topics with low OSS representation include bioenergy, hydrogen, and carbon capture.** This is likely due to the more nascent nature of these areas and the relatively smaller academic communities working in them. These technologies have a higher degree of uncertainty, with intellectual property closely guarded by a few for-profit companies. The small number of open source projects makes it difficult to quantify, transparently and independently, the sustainable developments in this area.\n",
    "\n",
    "**Lastly, topics like carbon offsets or climate neutrality disclosures could not be investigated in depth due to a general lack of OSS projects.** Despite intensive research, no OSS project or organisation (with the exception of [CarbonPlan](https://carbonplan.org/)) could be found that provides comprehensive and scientifically sound calculations and methodologies of climate neutrality and carbon offsets claims made by individual companies. All statements about the environmental impact of companies are primarily based on black box algorithms and analyses performed by companies and consultancies, making sustainability claims of Carbon Offsets rather opaque. \n",
    "\n",
    " ```{figure} ../images/oco2peak.jpeg\n",
    "---\n",
    "width: 70%\n",
    "---\n",
    "<br/>The goal [oco2peak](https://github.com/dataforgoodfr/batch7_satellite_ges) is to localize CO2 emissions on Earth based on the the carbon concentration data measured by the OCO-2 Satellite from the NASA. It is one of the few software tools that have been released in the field of In Emission Observation and Modelling and an open licence and is still being developed further. \n",
    " ```\n"
   ]
  }
 ],
 "metadata": {
  "celltoolbar": "Tags",
  "kernelspec": {
   "display_name": "Python 3",
   "language": "python",
   "name": "python3"
  },
  "language_info": {
   "codemirror_mode": {
    "name": "ipython",
    "version": 3
   },
   "file_extension": ".py",
   "mimetype": "text/x-python",
   "name": "python",
   "nbconvert_exporter": "python",
   "pygments_lexer": "ipython3",
   "version": "3.8.10"
  },
  "tags": "full-width",
  "vscode": {
   "interpreter": {
    "hash": "e7370f93d1d0cde622a1f8e1c04877d8463912d04d973331ad4851f04de6915a"
   }
  }
 },
 "nbformat": 4,
 "nbformat_minor": 4
}
