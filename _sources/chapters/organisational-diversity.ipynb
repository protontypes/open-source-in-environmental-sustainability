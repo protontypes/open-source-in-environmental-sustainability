{
 "cells": [
  {
   "cell_type": "markdown",
   "metadata": {},
   "source": [
    "# Organisational Diversity\n",
    "\n",
    "The details of organisations affiliated with the identified projects have been collected and grouped into six distinct categories:"
   ]
  },
  {
   "cell_type": "code",
   "execution_count": null,
   "metadata": {
    "tags": [
     "remove-cell"
    ]
   },
   "outputs": [],
   "source": [
    "import dateparser\n",
    "import datetime\n",
    "import handcalcs.render\n",
    "import numpy as np\n",
    "import pandas as pd\n",
    "import plotly.io as pio\n",
    "import plotly.graph_objects as go\n",
    "import plotly.express as px\n",
    "import pycountry\n",
    "from pycountry_convert import (\n",
    "    country_alpha2_to_continent_code,\n",
    "    country_alpha3_to_country_alpha2,\n",
    ")\n",
    "from opensustainTemplate import *"
   ]
  },
  {
   "cell_type": "code",
   "execution_count": null,
   "metadata": {
    "tags": [
     "remove-cell"
    ]
   },
   "outputs": [],
   "source": [
    "def upper_string(lower_string):\n",
    "    \"\"\"Apply title format\n",
    "    Arguments:\n",
    "        lower_string - a string\n",
    "    Outputs:\n",
    "        A string with a title format\n",
    "\n",
    "    \"\"\"\n",
    "\n",
    "    return lower_string.title()"
   ]
  },
  {
   "cell_type": "code",
   "execution_count": null,
   "metadata": {
    "tags": [
     "hide-input",
     "remove-cell"
    ]
   },
   "outputs": [],
   "source": [
    "df_active = pd.read_csv(\"../csv/project_analysis.csv\")\n",
    "df_organizations = pd.read_csv(\"../csv/github_organizations.csv\")"
   ]
  },
  {
   "cell_type": "code",
   "execution_count": null,
   "metadata": {
    "tags": [
     "full-width",
     "remove-input"
    ]
   },
   "outputs": [],
   "source": [
    "organization_his = (\n",
    "    df_organizations[\"form_of_organization\"]\n",
    "    .value_counts()\n",
    "    .to_frame()\n",
    "    .rename_axis(\"organization\")\n",
    "    .reset_index()\n",
    ")\n",
    "\n",
    "organization_his[\"organization\"] = organization_his[\"organization\"].apply(upper_string)\n",
    "fig = px.pie(\n",
    "    organization_his,\n",
    "    values=\"form_of_organization\",\n",
    "    names=\"organization\",\n",
    "    color_discrete_sequence=color_discrete_sequence,\n",
    "    hole=0.2,\n",
    ")\n",
    "\n",
    "fig.update_layout(\n",
    "    title=\"Distribution of Organisational Forms\",\n",
    "    font_size=16,\n",
    "    showlegend=False,\n",
    "    hovermode=False,\n",
    ")\n",
    "fig.update_traces(\n",
    "    textposition=\"outside\",\n",
    "    textinfo=\"percent+label\",\n",
    "    marker=dict(line=dict(color=boarder_color, width=1)),\n",
    ")\n",
    "fig[\"layout\"].update(margin=dict(l=0, r=0, b=50, t=40))\n",
    "fig.show()"
   ]
  },
  {
   "cell_type": "markdown",
   "metadata": {},
   "source": [
    "```{figure} data:image/gif;base64,R0lGODlhAQABAIAAAAAAAP///yH5BAEAAAAALAAAAAABAAEAAAIBRAA7\n",
    ":figclass: caption-hack\n",
    ":name: distribution-of-organisational-forms\n",
    "\n",
    "<br/>The distribution of organisational forms\n",
    "```"
   ]
  },
  {
   "cell_type": "markdown",
   "metadata": {},
   "source": [
    "- **Community-driven**: projects which are without institutional affiliation and are led by individual contributors. The majority of OSS projects within environmental sustainability can be found in this category, with a total share of **25.8%**. These projects are also the oldest we have identified. The organisations leading these projects are characterised by a high degree of flexibility and freedom and embody the origin of the OSS movement itself. The lack of institutional affiliation and support can lead to greater risks in terms of financial sustainability and resourcing.\n",
    "---\n",
    "- **Academia**: projects which are hosted, managed, or developed by academic labs and research institutions; **23.4%** of all projects are hosted by university departments. Academic institutions play a critical role in open source sustainability. Universities, particularly research software engineering labs, can provide long-term stability and deep expertise. At the same time, such developments run the risk of bypassing practical usage and losing development capacity due to the high turnover of staff and lack of financial resources within the academic environment.\n",
    "---\n",
    "- **Government agency**: projects which are hosted, led or developed by national and/or subnational governments; governments are responsible for **15.9%** of projects. Open source provides greater control and independence while lowering the risk of vendor or political lock-in, making it easier for governments, in particular, to plan their digital sustainability futures more holistically. Such projects run the risk of losing resources due to political realignment. The large number of US institutions setting a good example here is remarkable. However, the Canadian Province of British Columbia stands out due to the high number of [projects](https://github.com/bcgov).\n",
    "---\n",
    "- **For-profit**: projects which are initiated by private sector entities; Industry, startups and other private organisations are responsible for **14.3%** of projects. Such projects have the potential for rapid growth and offer the opportunity to transfer theoretical knowledge into practical applications. They typically have a high level of resources early on in development but harbour the risk of not being further developed and maintained due to a change in strategy in the company. Despite the massive capital strength, there are very few good examples for for-profit organisations within open source environmental sustainability like [Electricity Maps](https://www.electricitymaps.com/), [Breakthrough Energy](https://breakthrough-energy.github.io/docs/), [Vizzuality](https://www.vizzuality.com/) or [Ladybug Tools](https://www.ladybug.tools/).    \n",
    "---\n",
    "- **Non-profit**: projects which are initiated by organisations that do not primarily aim to generate profits for the shareholders but rather pursue charitable goals. For open source development, such an organisation can provide the structure for long-term project sustainability if sufficient resources are provided. Several community-oriented organisations became non-profits to provide the legal structure for additional growth of a project or community, such as the Python Software Foundation or the Linux Foundation. This organisational form is strongly underrepresented, with a total share of 10.8%. Strong non-profits that take precedence here, are [rOpenSci](https://ropensci.org/), [Reiner Lemoine Institute](https://reiner-lemoine-institut.de/), [OpenClimateFix](https://www.openclimatefix.org/) or [Drawdown](https://drawdown.org/).\n",
    "---\n",
    "- **Collaborations**: initiatives where projects are hosted, led or developed by a consortium of different actors and institutions. This form of organisation is particularly suitable for generating knowledge transfer between different partners and accounts for the smallest share of 9.71%. The diversity of different organisations provides the benefit of different perspectives but, without clear leadership, bears the risk of prolonged development cycles. Cooperation at eye level between business, civil society and science have a very high potential to drive sustainable developments for society as a whole. These include collaborations such as [Science Based Targets Network (SBTN)](https://sciencebasedtargetsnetwork.org/), [California Forest Observatory](https://forestobservatory.com/) or the [International Building Performance Simulation Association](http://www.ibpsa.org/). \n",
    "\n",
    "\n",
    "```{figure} ../images/fossil-fuel-supply-chain.png\n",
    "---\n",
    "align: center\n",
    "width: 100%\n",
    "---\n",
    "<br/>Asset-level Transition Risk in the Global Coal, Oil, and Gas Supply Chains [MIT License](https://github.com/Lkruitwagen/global-fossil-fuel-supply-chain/blob/master/LICENSE)\n",
    "```"
   ]
  }
 ],
 "metadata": {
  "celltoolbar": "Tags",
  "kernelspec": {
   "display_name": "Python 3",
   "language": "python",
   "name": "python3"
  },
  "language_info": {
   "codemirror_mode": {
    "name": "ipython",
    "version": 3
   },
   "file_extension": ".py",
   "mimetype": "text/x-python",
   "name": "python",
   "nbconvert_exporter": "python",
   "pygments_lexer": "ipython3",
   "version": "3.8.10"
  },
  "tags": "full-width",
  "vscode": {
   "interpreter": {
    "hash": "e7370f93d1d0cde622a1f8e1c04877d8463912d04d973331ad4851f04de6915a"
   }
  }
 },
 "nbformat": 4,
 "nbformat_minor": 4
}
