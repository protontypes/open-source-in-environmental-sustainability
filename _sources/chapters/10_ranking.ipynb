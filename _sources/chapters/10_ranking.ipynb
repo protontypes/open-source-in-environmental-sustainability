{
 "cells": [
  {
   "cell_type": "markdown",
   "metadata": {},
   "source": [
    "# Ranking\n",
    "\n",
    "Quantifying the state and health of a repository is challenging, but still feasible by combining different indicators. The state was divided into 3 indicator classes: **Size, Community and Activity.** \n",
    "Every indicator consists of the rank in relation to the other. This can be illustrated by the activity score. Each project is ranked according to the variables \"Total Commits Last Year\", \"Issues closed last Year\", \"Day Until last Issue closed\", and \"Last Release Data\" and then normalised by 1. The total score is the normalised sum of all scores. The following code cell shows in detail the how the ranking is been calculated:\n",
    "\n",
    "```python\n",
    "# Calculate the scores on activity, community and size\n",
    "\n",
    "# Every project is ranked in based in different activity indicators. \n",
    "# A values of 1 shows the highest rank and 0 the lowest\n",
    "# The individual values are added up.\n",
    "df_active[\"activity\"] = (\n",
    "    df_active[\"total_commits_last_year\"].rank(pct=True)\n",
    "    + df_active[\"issues_closed_last_year\"].rank(pct=True)\n",
    "    + df_active[\"days_until_last_issue_closed\"].rank(pct=True)\n",
    "    + df_active[\"last_released_date\"].rank(pct=True, na_option=\"top\")\n",
    ")\n",
    "\n",
    "df_active[\"community\"] = (\n",
    "    df_active[\"contributors\"].rank(pct=True)\n",
    "    + df_active[\"development_distribution_score\"].rank(pct=True)\n",
    "    + df_active[\"reviews_per_pr\"].rank(pct=True)\n",
    ")\n",
    "\n",
    "df_active[\"size\"] = (\n",
    "    df_active[\"total_number_of_commits\"].rank(pct=True)\n",
    "    + df_active[\"contributors\"].rank(pct=True)\n",
    "    + df_active[\"closed_issues\"].rank(pct=True)\n",
    "    + df_active[\"closed_pullrequests\"].rank(pct=True)\n",
    ")\n",
    "\n",
    "# All scores are weighted equal and normalized to one\n",
    "df_active[\"total_score\"] = (\n",
    "    df_active[\"activity\"] / df_active[\"activity\"].max()\n",
    "    + df_active[\"community\"] / df_active[\"community\"].max()\n",
    "    + df_active[\"size\"] / df_active[\"size\"].max()\n",
    ") / 3\n",
    "```\n",
    "\n",
    "Ranking all projects by the total score gives a much deeper understanding of the ecosystem. Larger developments like [EnergyPlus](https://github.com/NREL/EnergyPlus) are suddenly making up for lost ground at the top. Instead of using Stars this ranking unveils the strong but rather unpopular developments. However, more monolithic software developments have a higher probability of achieving a high score. The ranking between the individual developments creates the danger that small projects that rely more on modular development will be significantly underrepresented. \n",
    "\n",
    "The real value of such health analytics comes into play when the data is compared with usage data. Unfortunately, this data is currently only available to a limited extent via Python dependents.\n"
   ]
  },
  {
   "cell_type": "code",
   "execution_count": 13,
   "metadata": {
    "tags": [
     "remove-cell"
    ]
   },
   "outputs": [],
   "source": [
    "import numpy as np\n",
    "import pandas as pd\n",
    "import plotly.io as pio\n",
    "import plotly.graph_objects as go\n",
    "import plotly.express as px\n",
    "from opensustain_template import *"
   ]
  },
  {
   "cell_type": "code",
   "execution_count": 14,
   "metadata": {
    "tags": [
     "remove-cell"
    ]
   },
   "outputs": [],
   "source": [
    "df_active = pd.read_csv(\"../csv/project_analysis.csv\")"
   ]
  },
  {
   "cell_type": "code",
   "execution_count": 15,
   "metadata": {
    "tags": [
     "full-width",
     "remove-input"
    ]
   },
   "outputs": [
    {
     "data": {
      "application/vnd.plotly.v1+json": {
       "config": {
        "plotlyServerURL": "https://plot.ly"
       },
       "data": [
        {
         "alignmentgroup": "True",
         "customdata": [
          [
           "A whole building energy simulation program that engineers, architects, and researchers use to model both energy consumption and water usage in buildings.",
           "Buildings and Heating",
           "https://github.com/NREL/EnergyPlus.git"
          ],
          [
           "A cross-platform collection of software tools to support whole building energy modeling using EnergyPlus and advanced daylight analysis using Radiance.",
           "Buildings and Heating",
           "https://github.com/NREL/OpenStudio.git"
          ],
          [
           "A collaborative website for better access to data and models in the hydrologic sciences.",
           "Hydrosphere",
           "https://github.com/hydroshare/hydroshare.git"
          ],
          [
           "A set of toolkits that together provide a system for issuance and management of Energy Attribute Certificates.",
           "Energy Distribution and Grids",
           "https://github.com/energywebfoundation/origin.git"
          ],
          [
           "The Unidata network Common Data Form (netCDF) in C is an interface for scientific data access and a set of freely-distributed software libraries that provide an implementation of the interface.",
           "Climate Data Processing and Access",
           "https://github.com/Unidata/netcdf-c.git"
          ],
          [
           "The Predictive Ecosystem Analyzer is an integrated ecological bioinformatics toolbox.",
           "Biosphere",
           "https://github.com/PecanProject/pecan.git"
          ],
          [
           "A community diagnostic and performance metrics tool for routine evaluation of Earth system models in World Climate Research Programme.",
           "Earth and Climate Modeling",
           "https://github.com/ESMValGroup/ESMValTool.git"
          ],
          [
           "A powerful, format-agnostic, community-driven Python package for analyzing and visualizing Earth science data.",
           "Hydrosphere",
           "https://github.com/SciTools/iris.git"
          ],
          [
           "An open, generic, scalable and independent 'Internet of Things' platform, which enables various connected smart objects in the public space to be easily controlled and monitored.",
           "Energy Distribution and Grids",
           "https://github.com/OSGP/open-smart-grid-platform.git"
          ],
          [
           "An online marketplace for local food. It enables a network of independent online food stores that connects farmers and food hubs with individuals and local businesses.",
           "Agriculture and Nutrition",
           "https://github.com/openfoodfoundation/openfoodnetwork.git"
          ],
          [
           "Fast and friendly fluid dynamics on CPUs and GPUs.",
           "Hydrosphere",
           "https://github.com/CliMA/Oceananigans.jl.git"
          ],
          [
           "A state-of-the-art fully coupled model of the Earth's climate including important biogeochemical and cryospheric processes.",
           "Earth and Climate Modeling",
           "https://github.com/E3SM-Project/E3SM.git"
          ],
          [
           "An open source framework written in Java, that makes it easy to write complex software for power systems simulations and analysis.",
           "Energy Modeling and Optimization",
           "https://github.com/powsybl/powsybl-core.git"
          ],
          [
           "Aims to provide multi-scale, simulation-based, open source computational tools and models to support the design, analysis, optimization, scale-up, operation and troubleshooting of innovative, advanced energy systems.",
           "Energy Modeling and Optimization",
           "https://github.com/IDAES/idaes-pse.git"
          ],
          [
           "A real-time visualization of the CO2 emissions from electricity consumption.",
           "Carbon Intensity and Accounting",
           "https://github.com/electricitymaps/electricitymaps-contrib.git"
          ],
          [
           "A global atmosphere model targeted towards 3 km (\"cloud resolving\") resolution.",
           "Atmosphere",
           "https://github.com/E3SM-Project/scream.git"
          ],
          [
           "Standard Energy Efficiency Data Platform™ is a web-based application that helps organizations easily manage data on the energy performance of large groups of buildings.",
           "Buildings and Heating",
           "https://github.com/SEED-platform/seed.git"
          ],
          [
           "A software framework for supporting the efficient development, construction, execution, and scientific interpretation of atmospheric, oceanic, and climate system models.",
           "Earth and Climate Modeling",
           "https://github.com/NOAA-GFDL/FMS.git"
          ],
          [
           "Fast and flexible physics-based battery models in Python.",
           "Battery",
           "https://github.com/pybamm-team/PyBaMM.git"
          ],
          [
           "A simulation framework for modeling coupled flow, transport, and geomechanics in the subsurface.",
           "Carbon Capture and Removal",
           "https://github.com/GEOSX/GEOSX.git"
          ],
          [
           "An open source Modelica-based modeling and simulation environment intended for industrial and academic usage.",
           "Production and Industry",
           "https://github.com/OpenModelica/OpenModelica.git"
          ],
          [
           "A domain ontology of the energy-system modeling context.",
           "Energy Modeling and Optimization",
           "https://github.com/OpenEnergyPlatform/ontology.git"
          ],
          [
           "A state-of-the-art atmospheric modeling system designed for both meteorological research and numerical weather prediction.",
           "Earth and Climate Modeling",
           "https://github.com/wrf-model/WRF.git"
          ],
          [
           "Global Superstructure/Workflow currently supporting the Finite-Volume on a Cubed-Sphere Global Forecast System.",
           "Earth and Climate Modeling",
           "https://github.com/NOAA-EMC/global-workflow.git"
          ],
          [
           "Professional interface of the Energy Transition model.",
           "Energy Distribution and Grids",
           "https://github.com/quintel/etmodel.git"
          ],
          [
           "A modular open source multi-regional model incorporating the economy, the climate system and a detailed representation of the energy sector.",
           "Sustainable Investment",
           "https://github.com/remindmodel/remind.git"
          ],
          [
           "The Common Community Physics Package is designed to facilitate the implementation of physics innovations in state-of-the-art atmospheric models, the use of various models to develop physics, and the acceleration of transition of physics innovations to operational NOAA models.",
           "Hydrosphere",
           "https://github.com/NCAR/ccpp-physics.git"
          ],
          [
           "A tool to estimate energy use (kilowatt-hours) and carbon emissions (metric tons CO2e) from public cloud usage.",
           "Computation and Communication",
           "https://github.com/cloud-carbon-footprint/cloud-carbon-footprint.git"
          ],
          [
           "An interface to download and deploy interconnected, grid-aware energy marketplaces.",
           "Energy Distribution and Grids",
           "https://github.com/gridsingularity/gsy-e.git"
          ],
          [
           "Providing a structured database of claims regarding ecological state and change of state.",
           "Knowledge Platforms",
           "https://github.com/regen-network/regen-ledger.git"
          ],
          [
           "Open Food Facts is a collaborative, free and open database of food products from around the world.",
           "Agriculture and Nutrition",
           "https://github.com/openfoodfacts/openfoodfacts-server.git"
          ],
          [
           "A library of derived climate variables, i.e. climate indicators, based on xarray.",
           "Climate Data Processing and Access",
           "https://github.com/Ouranosinc/xclim.git"
          ],
          [
           "Model of Agricultural Production and its Impact on the Environment.",
           "Agriculture and Nutrition",
           "https://github.com/magpiemodel/magpie.git"
          ],
          [
           "An open source web API, initially built to provide traveler information on urban transportation networks.",
           "Mobility and Transportation",
           "https://github.com/hove-io/navitia.git"
          ],
          [
           "A modular, extensible, industrial-strength and field-tested platform for use in electricity, water and other utility operations.",
           "Energy Monitoring and Control",
           "https://github.com/opfab/operatorfabric-core.git"
          ],
          [
           "Today the core uses are in the energy domain, where there is extensive and growing support for a wide-range of electric power system, natural gas, communications and control-schemes, transportation, buildings, and related domain tools.",
           "Energy Modeling and Optimization",
           "https://github.com/GMLC-TDC/HELICS.git"
          ],
          [
           "A set of documented functions for simulating the performance of photovoltaic energy systems.",
           "Photovoltaics and Solar Energy",
           "https://github.com/pvlib/pvlib-python.git"
          ],
          [
           "An integrated web-based workbench for taxonomists and biodiversity scientists.",
           "Biosphere",
           "https://github.com/SpeciesFileGroup/taxonworks.git"
          ],
          [
           "A multi-physics, multi-fidelity tool for simulating the coupled dynamic response of wind turbines and wind farms.",
           "Wind Energy",
           "https://github.com/OpenFAST/openfast.git"
          ],
          [
           "A collaboration server to plan atmospheric research flights.",
           "Atmosphere",
           "https://github.com/Open-MSS/MSS.git"
          ]
         ],
         "hovertemplate": "Project Info: <b>%{customdata[0]}</b><br>Topic: <b>%{customdata[1]}</b><br>Git URL: <b>%{customdata[2]}</b>",
         "legendgroup": "",
         "marker": {
          "color": [
           0.8557953408603687,
           0.7263712214471345,
           0.7481049054631002,
           0.7071129707112971,
           0.6754057428214731,
           0.8638583638583639,
           0.8355420090113967,
           0.8637803590285111,
           0.8535322777101096,
           0.857922954725973,
           0.6231042271700549,
           0.8774051285699043,
           0.7677584006805614,
           0.7442307692307693,
           0.5590631364562118,
           0.8919941420551623,
           0.7676632455748922,
           0.8198830409356725,
           0.5718423372371237,
           0.5811590222466355,
           0.7481946510868382,
           0.6768342951360264,
           0.6445086705202312,
           0.726109556177529,
           0.7006305531670967,
           0.7894959762812368,
           0.6904149834741095,
           0.8300304878048781,
           0.7478344562078922,
           0.7323767935121647,
           0.3518679711709203,
           0.6206239580852584,
           0.7343799058084772,
           0.8587618403247632,
           0.7969543147208122,
           0.5661462612982744,
           0.4787922358015816,
           0.6788910077746809,
           0.6067090803932909,
           0.6028751123090745
          ],
          "coloraxis": "coloraxis",
          "pattern": {
           "shape": ""
          }
         },
         "name": "",
         "offsetgroup": "",
         "orientation": "h",
         "showlegend": false,
         "textposition": "auto",
         "type": "bar",
         "x": [
          0.9516962816429512,
          0.9296530221905632,
          0.9260467711704186,
          0.9165769370611336,
          0.9117073917151672,
          0.910890979506534,
          0.907563121849728,
          0.9054781652659096,
          0.9045129032113044,
          0.9031917925072414,
          0.9028847359472706,
          0.9014815887102786,
          0.8939312640397862,
          0.8924496260904821,
          0.8922878824965861,
          0.8917071139724927,
          0.8894847326667715,
          0.8890701933071748,
          0.8875184996482242,
          0.8841115103782208,
          0.8825349613987928,
          0.8815509446228479,
          0.8791910092854359,
          0.8779403731865015,
          0.8762413835113514,
          0.871662312229493,
          0.8701746266322322,
          0.8694343950431156,
          0.8684565975646308,
          0.8667931401243383,
          0.8666277376860951,
          0.8665353356811055,
          0.8632775655025317,
          0.8626723903264749,
          0.8619032142206596,
          0.8615204842494805,
          0.8608844820262734,
          0.8580534343649121,
          0.853202688298463,
          0.8514763026991181
         ],
         "xaxis": "x",
         "y": [
          "<a href=\"https://github.com/NREL/EnergyPlus.git\">EnergyPlus</a>",
          "<a href=\"https://github.com/NREL/OpenStudio.git\">OpenStudio</a>",
          "<a href=\"https://github.com/hydroshare/hydroshare.git\">HydroShare</a>",
          "<a href=\"https://github.com/energywebfoundation/origin.git\">origin</a>",
          "<a href=\"https://github.com/Unidata/netcdf-c.git\">netcdf-c</a>",
          "<a href=\"https://github.com/PecanProject/pecan.git\">PEcAn</a>",
          "<a href=\"https://github.com/ESMValGroup/ESMValTool.git\">ESMValTool</a>",
          "<a href=\"https://github.com/SciTools/iris.git\">Iris</a>",
          "<a href=\"https://github.com/OSGP/open-smart-grid-platform.git\">Open Smart Grid Platform</a>",
          "<a href=\"https://github.com/openfoodfoundation/openfoodnetwork.git\">openfoodnetwork</a>",
          "<a href=\"https://github.com/CliMA/Oceananigans.jl.git\">Oceananigans.jl</a>",
          "<a href=\"https://github.com/E3SM-Project/E3SM.git\">E3SM</a>",
          "<a href=\"https://github.com/powsybl/powsybl-core.git\">PowSyBl</a>",
          "<a href=\"https://github.com/IDAES/idaes-pse.git\">The IDAES Toolkit</a>",
          "<a href=\"https://github.com/electricitymaps/electricitymaps-contrib.git\">Electricity Maps</a>",
          "<a href=\"https://github.com/E3SM-Project/scream.git\">SCREAM</a>",
          "<a href=\"https://github.com/SEED-platform/seed.git\">SEED</a>",
          "<a href=\"https://github.com/NOAA-GFDL/FMS.git\">The Flexible Modeling System</a>",
          "<a href=\"https://github.com/pybamm-team/PyBaMM.git\">PyBaMM</a>",
          "<a href=\"https://github.com/GEOSX/GEOSX.git\">GEOSX</a>",
          "<a href=\"https://github.com/OpenModelica/OpenModelica.git\">OpenModelica</a>",
          "<a href=\"https://github.com/OpenEnergyPlatform/ontology.git\">The Open Energy Ontology</a>",
          "<a href=\"https://github.com/wrf-model/WRF.git\">WRF</a>",
          "<a href=\"https://github.com/NOAA-EMC/global-workflow.git\">global-workflow</a>",
          "<a href=\"https://github.com/quintel/etmodel.git\">ETM Pro</a>",
          "<a href=\"https://github.com/remindmodel/remind.git\">The REgional Model of INvestments and Development</a>",
          "<a href=\"https://github.com/NCAR/ccpp-physics.git\">ccpp-physics</a>",
          "<a href=\"https://github.com/cloud-carbon-footprint/cloud-carbon-footprint.git\">Cloud Carbon Footprint</a>",
          "<a href=\"https://github.com/gridsingularity/gsy-e.git\">Grid Singularity Energy Exchange Engine (D3A)</a>",
          "<a href=\"https://github.com/regen-network/regen-ledger.git\">Regen Ledger</a>",
          "<a href=\"https://github.com/openfoodfacts/openfoodfacts-server.git\">openfoodfacts-server</a>",
          "<a href=\"https://github.com/Ouranosinc/xclim.git\">xclim</a>",
          "<a href=\"https://github.com/magpiemodel/magpie.git\">MAgPIE</a>",
          "<a href=\"https://github.com/hove-io/navitia.git\">navitia</a>",
          "<a href=\"https://github.com/opfab/operatorfabric-core.git\">OperatorFabric</a>",
          "<a href=\"https://github.com/GMLC-TDC/HELICS.git\">Hierarchical Engine for Large-scale Infrastructure Co-Simulation</a>",
          "<a href=\"https://github.com/pvlib/pvlib-python.git\">pvlib-python</a>",
          "<a href=\"https://github.com/SpeciesFileGroup/taxonworks.git\">TaxonWorks</a>",
          "<a href=\"https://github.com/OpenFAST/openfast.git\">openfast</a>",
          "<a href=\"https://github.com/Open-MSS/MSS.git\">Mission Support System</a>"
         ],
         "yaxis": "y"
        }
       ],
       "layout": {
        "barmode": "relative",
        "coloraxis": {
         "colorbar": {
          "title": {
           "text": "DDS"
          }
         },
         "colorscale": [
          [
           0,
           "rgb(237, 239, 93)"
          ],
          [
           0.16666666666666666,
           "rgb(169, 220, 103)"
          ],
          [
           0.3333333333333333,
           "rgb(110, 197, 116)"
          ],
          [
           0.5,
           "rgb(57, 171, 126)"
          ],
          [
           0.6666666666666666,
           "rgb(13, 143, 129)"
          ],
          [
           0.8333333333333334,
           "rgb(15, 114, 121)"
          ],
          [
           1,
           "rgb(36, 86, 104)"
          ]
         ]
        },
        "height": 1000,
        "hoverlabel": {
         "bgcolor": "white"
        },
        "images": [
         {
          "sizex": 0.05,
          "sizey": 0.05,
          "source": "data:image/png;base64,iVBORw0KGgoAAAANSUhEUgAAADwAAAA8CAYAAAA6/NlyAAAD20lEQVR4nO2ZTWgcZRjHf8/spjWkFYmKmbR+oVKaCPbQU8i2tCBqEbrU7LIJVhG0PVWQih4UehAVQVAkAQ/qRW1WdhPrB+pJ1DQF6aEnQ0WqqCQbhfpFW6nJzOMhBgQ3u+/MvPORmP91n/n/nx/v7DvPvCOqyv9JTtoNJK114LWufBIh5TIbZj3uQLldhJtV2CJwlfrkpicpJtHDsmIDHtzPZjo4gM8IQkGgE1n6Tf7ZJ0W4HFf+SrIOvLvI9YsORyXPwyhdy5BZkTXgwf1s1jzHJMejAh22fG3LCnDhAHeT53WBXht+cSoS8J495Beu5nmEo5C1m7e5QgPv28fGxW7eQhmy2VDcCgV81wN0XezkE2DQcj+xKzDwzsN0XHGJGqsQFkJMWp3nGUO5J45mklCgFS7cx0GFRyzk/izCT6p8Z8ErkMT09XCgzBZnkRmEK0NmTaswicd70+9yLqRHZBmvcM7jZQ0He1qEZ6bqfBDiWusyWuGBEgOOz3RAb1+Ep05O8IIqmTllMFphR3k6oO8FUYanJvgwRE+xqu0K7yrT53t8FcDTE6U4NZk9WDB4LKnHg0EMVXgiq7DQBlgEAUYC+H15aoKXorUUr1oCF0psV9hqaibK41naoJqpJbDvs9fYSflsapKTkTuKWa3/w8oOUyOBetRmklC7TWuboY86Pu9HbSYJtQO+0dDn/Ocn+DFqM0mo9S6N8Sg5Z6GXRNRy0lIYUyHXzkSUb+y1FK+M35bWitY/tSQhaVQvAxvaV+oX6g7vtpmd1gpfMCsT13ZwWsC/GdZZP9hPCVi/NSzsktnjO2wmpwOs8rVxrThFm9HpADt62rhWGBKLn3HSAfbl0wDV/cxVy7aiUxs8pFGdAbYblp/j11yf9pX+ipqb5uBxPEDtLXT7L9oITRHYfxPwjMtVj0jjnUNRU1MDVnfkeyTooYGOSmP8cJTcdGfpRX0OAp2BdYC8KnPVUZmpGYym/1Xqb0syP/4GKg+FuPQHkGdxz76mHPON89IHrl2LemeB7nAOOoNSBzmhvZUzbfPSBgaQ+eoQSs2C1Z8IsygNdSu7mhVk4n1Yeyp1lDELVp0otwKFlQoyAQxA7x+PAR/HHZMZYOXQAs5CCTgVZ05mgAH0uoMXYdOdIB/FlZEpYAB1772E+3sRYTQO/8wBw9LtrT2VIwgl4Beb3pkEXpb2VOp4uduAVwDj4aKVMvEcNpHMj/ej8iQwjMFpq7qVpocGqwZ4WdKo3QDe/Sx9qO9fqW7NAP9bMvv2VnL5vcBOVLcBNwHXAJvUrWxses1qBg6jTG9acWgdeK3rb5uuGEmTzESgAAAAAElFTkSuQmCC",
          "x": 1,
          "xanchor": "right",
          "xref": "paper",
          "y": 0,
          "yanchor": "bottom",
          "yref": "paper"
         }
        ],
        "legend": {
         "tracegroupgap": 0
        },
        "margin": {
         "b": 0,
         "l": 200,
         "r": 0,
         "t": 40
        },
        "showlegend": false,
        "template": {
         "data": {
          "bar": [
           {
            "error_x": {
             "color": "#2a3f5f"
            },
            "error_y": {
             "color": "#2a3f5f"
            },
            "marker": {
             "line": {
              "color": "#E5ECF6",
              "width": 0.5
             },
             "pattern": {
              "fillmode": "overlay",
              "size": 10,
              "solidity": 0.2
             }
            },
            "type": "bar"
           }
          ],
          "barpolar": [
           {
            "marker": {
             "line": {
              "color": "#E5ECF6",
              "width": 0.5
             },
             "pattern": {
              "fillmode": "overlay",
              "size": 10,
              "solidity": 0.2
             }
            },
            "type": "barpolar"
           }
          ],
          "carpet": [
           {
            "aaxis": {
             "endlinecolor": "#2a3f5f",
             "gridcolor": "white",
             "linecolor": "white",
             "minorgridcolor": "white",
             "startlinecolor": "#2a3f5f"
            },
            "baxis": {
             "endlinecolor": "#2a3f5f",
             "gridcolor": "white",
             "linecolor": "white",
             "minorgridcolor": "white",
             "startlinecolor": "#2a3f5f"
            },
            "type": "carpet"
           }
          ],
          "choropleth": [
           {
            "colorbar": {
             "outlinewidth": 0,
             "ticks": ""
            },
            "type": "choropleth"
           }
          ],
          "contour": [
           {
            "colorbar": {
             "outlinewidth": 0,
             "ticks": ""
            },
            "colorscale": [
             [
              0,
              "#0d0887"
             ],
             [
              0.1111111111111111,
              "#46039f"
             ],
             [
              0.2222222222222222,
              "#7201a8"
             ],
             [
              0.3333333333333333,
              "#9c179e"
             ],
             [
              0.4444444444444444,
              "#bd3786"
             ],
             [
              0.5555555555555556,
              "#d8576b"
             ],
             [
              0.6666666666666666,
              "#ed7953"
             ],
             [
              0.7777777777777778,
              "#fb9f3a"
             ],
             [
              0.8888888888888888,
              "#fdca26"
             ],
             [
              1,
              "#f0f921"
             ]
            ],
            "type": "contour"
           }
          ],
          "contourcarpet": [
           {
            "colorbar": {
             "outlinewidth": 0,
             "ticks": ""
            },
            "type": "contourcarpet"
           }
          ],
          "heatmap": [
           {
            "colorbar": {
             "outlinewidth": 0,
             "ticks": ""
            },
            "colorscale": [
             [
              0,
              "#0d0887"
             ],
             [
              0.1111111111111111,
              "#46039f"
             ],
             [
              0.2222222222222222,
              "#7201a8"
             ],
             [
              0.3333333333333333,
              "#9c179e"
             ],
             [
              0.4444444444444444,
              "#bd3786"
             ],
             [
              0.5555555555555556,
              "#d8576b"
             ],
             [
              0.6666666666666666,
              "#ed7953"
             ],
             [
              0.7777777777777778,
              "#fb9f3a"
             ],
             [
              0.8888888888888888,
              "#fdca26"
             ],
             [
              1,
              "#f0f921"
             ]
            ],
            "type": "heatmap"
           }
          ],
          "heatmapgl": [
           {
            "colorbar": {
             "outlinewidth": 0,
             "ticks": ""
            },
            "colorscale": [
             [
              0,
              "#0d0887"
             ],
             [
              0.1111111111111111,
              "#46039f"
             ],
             [
              0.2222222222222222,
              "#7201a8"
             ],
             [
              0.3333333333333333,
              "#9c179e"
             ],
             [
              0.4444444444444444,
              "#bd3786"
             ],
             [
              0.5555555555555556,
              "#d8576b"
             ],
             [
              0.6666666666666666,
              "#ed7953"
             ],
             [
              0.7777777777777778,
              "#fb9f3a"
             ],
             [
              0.8888888888888888,
              "#fdca26"
             ],
             [
              1,
              "#f0f921"
             ]
            ],
            "type": "heatmapgl"
           }
          ],
          "histogram": [
           {
            "marker": {
             "pattern": {
              "fillmode": "overlay",
              "size": 10,
              "solidity": 0.2
             }
            },
            "type": "histogram"
           }
          ],
          "histogram2d": [
           {
            "colorbar": {
             "outlinewidth": 0,
             "ticks": ""
            },
            "colorscale": [
             [
              0,
              "#0d0887"
             ],
             [
              0.1111111111111111,
              "#46039f"
             ],
             [
              0.2222222222222222,
              "#7201a8"
             ],
             [
              0.3333333333333333,
              "#9c179e"
             ],
             [
              0.4444444444444444,
              "#bd3786"
             ],
             [
              0.5555555555555556,
              "#d8576b"
             ],
             [
              0.6666666666666666,
              "#ed7953"
             ],
             [
              0.7777777777777778,
              "#fb9f3a"
             ],
             [
              0.8888888888888888,
              "#fdca26"
             ],
             [
              1,
              "#f0f921"
             ]
            ],
            "type": "histogram2d"
           }
          ],
          "histogram2dcontour": [
           {
            "colorbar": {
             "outlinewidth": 0,
             "ticks": ""
            },
            "colorscale": [
             [
              0,
              "#0d0887"
             ],
             [
              0.1111111111111111,
              "#46039f"
             ],
             [
              0.2222222222222222,
              "#7201a8"
             ],
             [
              0.3333333333333333,
              "#9c179e"
             ],
             [
              0.4444444444444444,
              "#bd3786"
             ],
             [
              0.5555555555555556,
              "#d8576b"
             ],
             [
              0.6666666666666666,
              "#ed7953"
             ],
             [
              0.7777777777777778,
              "#fb9f3a"
             ],
             [
              0.8888888888888888,
              "#fdca26"
             ],
             [
              1,
              "#f0f921"
             ]
            ],
            "type": "histogram2dcontour"
           }
          ],
          "mesh3d": [
           {
            "colorbar": {
             "outlinewidth": 0,
             "ticks": ""
            },
            "type": "mesh3d"
           }
          ],
          "parcoords": [
           {
            "line": {
             "colorbar": {
              "outlinewidth": 0,
              "ticks": ""
             }
            },
            "type": "parcoords"
           }
          ],
          "pie": [
           {
            "automargin": true,
            "type": "pie"
           }
          ],
          "scatter": [
           {
            "fillpattern": {
             "fillmode": "overlay",
             "size": 10,
             "solidity": 0.2
            },
            "type": "scatter"
           }
          ],
          "scatter3d": [
           {
            "line": {
             "colorbar": {
              "outlinewidth": 0,
              "ticks": ""
             }
            },
            "marker": {
             "colorbar": {
              "outlinewidth": 0,
              "ticks": ""
             }
            },
            "type": "scatter3d"
           }
          ],
          "scattercarpet": [
           {
            "marker": {
             "colorbar": {
              "outlinewidth": 0,
              "ticks": ""
             }
            },
            "type": "scattercarpet"
           }
          ],
          "scattergeo": [
           {
            "marker": {
             "colorbar": {
              "outlinewidth": 0,
              "ticks": ""
             }
            },
            "type": "scattergeo"
           }
          ],
          "scattergl": [
           {
            "marker": {
             "colorbar": {
              "outlinewidth": 0,
              "ticks": ""
             }
            },
            "type": "scattergl"
           }
          ],
          "scattermapbox": [
           {
            "marker": {
             "colorbar": {
              "outlinewidth": 0,
              "ticks": ""
             }
            },
            "type": "scattermapbox"
           }
          ],
          "scatterpolar": [
           {
            "marker": {
             "colorbar": {
              "outlinewidth": 0,
              "ticks": ""
             }
            },
            "type": "scatterpolar"
           }
          ],
          "scatterpolargl": [
           {
            "marker": {
             "colorbar": {
              "outlinewidth": 0,
              "ticks": ""
             }
            },
            "type": "scatterpolargl"
           }
          ],
          "scatterternary": [
           {
            "marker": {
             "colorbar": {
              "outlinewidth": 0,
              "ticks": ""
             }
            },
            "type": "scatterternary"
           }
          ],
          "surface": [
           {
            "colorbar": {
             "outlinewidth": 0,
             "ticks": ""
            },
            "colorscale": [
             [
              0,
              "#0d0887"
             ],
             [
              0.1111111111111111,
              "#46039f"
             ],
             [
              0.2222222222222222,
              "#7201a8"
             ],
             [
              0.3333333333333333,
              "#9c179e"
             ],
             [
              0.4444444444444444,
              "#bd3786"
             ],
             [
              0.5555555555555556,
              "#d8576b"
             ],
             [
              0.6666666666666666,
              "#ed7953"
             ],
             [
              0.7777777777777778,
              "#fb9f3a"
             ],
             [
              0.8888888888888888,
              "#fdca26"
             ],
             [
              1,
              "#f0f921"
             ]
            ],
            "type": "surface"
           }
          ],
          "table": [
           {
            "cells": {
             "fill": {
              "color": "#EBF0F8"
             },
             "line": {
              "color": "white"
             }
            },
            "header": {
             "fill": {
              "color": "#C8D4E3"
             },
             "line": {
              "color": "white"
             }
            },
            "type": "table"
           }
          ]
         },
         "layout": {
          "annotationdefaults": {
           "arrowcolor": "#2a3f5f",
           "arrowhead": 0,
           "arrowwidth": 1
          },
          "autotypenumbers": "strict",
          "coloraxis": {
           "colorbar": {
            "outlinewidth": 0,
            "ticks": ""
           }
          },
          "colorscale": {
           "diverging": [
            [
             0,
             "#8e0152"
            ],
            [
             0.1,
             "#c51b7d"
            ],
            [
             0.2,
             "#de77ae"
            ],
            [
             0.3,
             "#f1b6da"
            ],
            [
             0.4,
             "#fde0ef"
            ],
            [
             0.5,
             "#f7f7f7"
            ],
            [
             0.6,
             "#e6f5d0"
            ],
            [
             0.7,
             "#b8e186"
            ],
            [
             0.8,
             "#7fbc41"
            ],
            [
             0.9,
             "#4d9221"
            ],
            [
             1,
             "#276419"
            ]
           ],
           "sequential": [
            [
             0,
             "#0d0887"
            ],
            [
             0.1111111111111111,
             "#46039f"
            ],
            [
             0.2222222222222222,
             "#7201a8"
            ],
            [
             0.3333333333333333,
             "#9c179e"
            ],
            [
             0.4444444444444444,
             "#bd3786"
            ],
            [
             0.5555555555555556,
             "#d8576b"
            ],
            [
             0.6666666666666666,
             "#ed7953"
            ],
            [
             0.7777777777777778,
             "#fb9f3a"
            ],
            [
             0.8888888888888888,
             "#fdca26"
            ],
            [
             1,
             "#f0f921"
            ]
           ],
           "sequentialminus": [
            [
             0,
             "#0d0887"
            ],
            [
             0.1111111111111111,
             "#46039f"
            ],
            [
             0.2222222222222222,
             "#7201a8"
            ],
            [
             0.3333333333333333,
             "#9c179e"
            ],
            [
             0.4444444444444444,
             "#bd3786"
            ],
            [
             0.5555555555555556,
             "#d8576b"
            ],
            [
             0.6666666666666666,
             "#ed7953"
            ],
            [
             0.7777777777777778,
             "#fb9f3a"
            ],
            [
             0.8888888888888888,
             "#fdca26"
            ],
            [
             1,
             "#f0f921"
            ]
           ]
          },
          "colorway": [
           "#636efa",
           "#EF553B",
           "#00cc96",
           "#ab63fa",
           "#FFA15A",
           "#19d3f3",
           "#FF6692",
           "#B6E880",
           "#FF97FF",
           "#FECB52"
          ],
          "font": {
           "color": "#040404",
           "family": "Open Sans",
           "size": 15
          },
          "geo": {
           "bgcolor": "white",
           "lakecolor": "white",
           "landcolor": "#E5ECF6",
           "showlakes": true,
           "showland": true,
           "subunitcolor": "white"
          },
          "hoverlabel": {
           "align": "left"
          },
          "hovermode": "closest",
          "mapbox": {
           "style": "light"
          },
          "margin": {
           "b": 0
          },
          "paper_bgcolor": "white",
          "plot_bgcolor": "#E5ECF6",
          "polar": {
           "angularaxis": {
            "gridcolor": "white",
            "linecolor": "white",
            "ticks": ""
           },
           "bgcolor": "#E5ECF6",
           "radialaxis": {
            "gridcolor": "white",
            "linecolor": "white",
            "ticks": ""
           }
          },
          "scene": {
           "xaxis": {
            "backgroundcolor": "#E5ECF6",
            "gridcolor": "white",
            "gridwidth": 2,
            "linecolor": "white",
            "showbackground": true,
            "ticks": "",
            "zerolinecolor": "white"
           },
           "yaxis": {
            "backgroundcolor": "#E5ECF6",
            "gridcolor": "white",
            "gridwidth": 2,
            "linecolor": "white",
            "showbackground": true,
            "ticks": "",
            "zerolinecolor": "white"
           },
           "zaxis": {
            "backgroundcolor": "#E5ECF6",
            "gridcolor": "white",
            "gridwidth": 2,
            "linecolor": "white",
            "showbackground": true,
            "ticks": "",
            "zerolinecolor": "white"
           }
          },
          "shapedefaults": {
           "line": {
            "color": "#2a3f5f"
           }
          },
          "ternary": {
           "aaxis": {
            "gridcolor": "white",
            "linecolor": "white",
            "ticks": ""
           },
           "baxis": {
            "gridcolor": "white",
            "linecolor": "white",
            "ticks": ""
           },
           "bgcolor": "#E5ECF6",
           "caxis": {
            "gridcolor": "white",
            "linecolor": "white",
            "ticks": ""
           }
          },
          "title": {
           "font": {
            "color": "#040404",
            "family": "Open Sans"
           },
           "x": 0.05
          },
          "xaxis": {
           "automargin": true,
           "gridcolor": "white",
           "linecolor": "white",
           "ticks": "",
           "title": {
            "standoff": 15
           },
           "zerolinecolor": "white",
           "zerolinewidth": 2
          },
          "yaxis": {
           "automargin": true,
           "gridcolor": "white",
           "linecolor": "white",
           "ticks": "",
           "title": {
            "standoff": 15
           },
           "zerolinecolor": "white",
           "zerolinewidth": 2
          }
         }
        },
        "title": {
         "text": "Top 40 Total Score"
        },
        "xaxis": {
         "anchor": "y",
         "domain": [
          0,
          1
         ],
         "range": [
          0.85,
          1
         ],
         "title": {
          "text": "Total Score"
         }
        },
        "yaxis": {
         "anchor": "x",
         "autorange": "reversed",
         "domain": [
          0,
          1
         ],
         "title": {}
        }
       }
      }
     },
     "metadata": {},
     "output_type": "display_data"
    }
   ],
   "source": [
    "df_total_score = df_active.nlargest(40, \"total_score\")\n",
    "\n",
    "fig = px.bar(\n",
    "    df_total_score,\n",
    "    x=df_total_score[\"total_score\"],\n",
    "    y=df_total_score[\"project_name\"],\n",
    "    orientation=\"h\",\n",
    "    range_x=(0.85, 1),\n",
    "    custom_data=[\"oneliner\",\"topic\",\"git_url\"],\n",
    "    color = df_total_score[\"development_distribution_score\"],\n",
    "    color_continuous_scale=color_continuous_scale\n",
    ")\n",
    "\n",
    "fig.update_layout(\n",
    "    height=1000,  # Added parameter\n",
    "    xaxis_title=\"Total Score\",\n",
    "    yaxis_title=None,\n",
    "    title=\"Top 40 Total Score\",\n",
    "    coloraxis_colorbar=dict(\n",
    "    title=\"DDS\",\n",
    "    ),   \n",
    "    hoverlabel=dict(\n",
    "    bgcolor=\"white\"\n",
    ")\n",
    ")\n",
    "fig.update(layout_showlegend=False)\n",
    "fig['layout'].update(margin=dict(l=200,r=0,b=0,t=40))\n",
    "\n",
    "fig.add_layout_image(\n",
    "    dict(\n",
    "        source=logo_img,\n",
    "        xref=\"paper\", yref=\"paper\",\n",
    "        x=1, y=0,\n",
    "        sizex=0.05, sizey=0.05,\n",
    "        xanchor=\"right\", yanchor=\"bottom\"\n",
    "    )\n",
    ")\n",
    "\n",
    "fig.update_traces(\n",
    "    hovertemplate=\"<br>\".join([\n",
    "        \"Project Info: <b>%{customdata[0]}</b>\",\n",
    "        \"Topic: <b>%{customdata[1]}</b>\",\n",
    "        \"Git URL: <b>%{customdata[2]}</b>\"\n",
    "    ])\n",
    ")\n",
    "fig['layout']['yaxis']['autorange'] = \"reversed\"\n",
    "fig.show()\n"
   ]
  },
  {
   "cell_type": "markdown",
   "metadata": {},
   "source": [
    "```{figure} data:image/gif;base64,R0lGODlhAQABAIAAAAAAAP///yH5BAEAAAAALAAAAAABAAEAAAIBRAA7\n",
    ":figclass: caption-hack\n",
    ":name: total-score\n",
    "\n",
    "40 Projects with the highest total score\n",
    "```"
   ]
  },
  {
   "cell_type": "code",
   "execution_count": 28,
   "metadata": {
    "tags": [
     "hide-input",
     "full-width"
    ]
   },
   "outputs": [
    {
     "data": {
      "application/vnd.plotly.v1+json": {
       "config": {
        "plotlyServerURL": "https://plot.ly"
       },
       "data": [
        {
         "alignmentgroup": "True",
         "customdata": [
          [
           "Hyperspectral Image Classification with Attention Aided CNNs.",
           "Biosphere",
           "https://github.com/weecology/DeepTreeAttention.git"
          ],
          [
           "A whole building energy simulation program that engineers, architects, and researchers use to model both energy consumption and water usage in buildings.",
           "Buildings and Heating",
           "https://github.com/NREL/EnergyPlus.git"
          ],
          [
           "A cross-platform collection of software tools to support whole building energy modeling using EnergyPlus and advanced daylight analysis using Radiance.",
           "Buildings and Heating",
           "https://github.com/NREL/OpenStudio.git"
          ],
          [
           "An open-source package to easily obtain real-time, historical, or forecasted air quality data for anywhere in the world.",
           "Air Quality",
           "https://github.com/Ozon3Org/Ozon3.git"
          ],
          [
           "A set of toolkits that together provide a system for issuance and management of Energy Attribute Certificates.",
           "Energy Distribution and Grids",
           "https://github.com/energywebfoundation/origin.git"
          ],
          [
           "A Julia package for power system modeling and simulation of Power Systems operations.",
           "Energy Modeling and Optimization",
           "https://github.com/NREL-SIIP/PowerSimulations.jl.git"
          ],
          [
           "Climate downscaling using CMIP6 data.",
           "Climate Data Processing and Access",
           "https://github.com/carbonplan/cmip6-downscaling.git"
          ],
          [
           "A collaborative website for better access to data and models in the hydrologic sciences.",
           "Hydrosphere",
           "https://github.com/hydroshare/hydroshare.git"
          ],
          [
           "An integrated web-based workbench for taxonomists and biodiversity scientists.",
           "Biosphere",
           "https://github.com/SpeciesFileGroup/taxonworks.git"
          ],
          [
           "A free and open source model to compute noise maps.",
           "Mobility and Transportation",
           "https://github.com/Universite-Gustave-Eiffel/NoiseModelling.git"
          ],
          [
           "A software for ingesting, operating on and visualizing all ESA Climate Change Initiative data.",
           "Climate Data Processing and Access",
           "https://github.com/CCI-Tools/cate.git"
          ],
          [
           "A library for satellite image processing providing all of the functionality necessary for retrieving, and storing EUMETSAT data.",
           "Data Catalogs and Interfaces",
           "https://github.com/openclimatefix/Satip.git"
          ],
          [
           "Seeks to fill a critical need for high-quality, publicly-accessible, hourly grid emissions data that can be used for GHG accounting, policymaking, academic research, and energy attribute certificate markets.",
           "Carbon Intensity and Accounting",
           "https://github.com/singularity-energy/open-grid-emissions.git"
          ],
          [
           "Aims to ensure quality, transparency and reproducibility in energy system research. It is a collection of various tools and information and that help working with energy-related data.",
           "Energy Modeling and Optimization",
           "https://github.com/OpenEnergyPlatform/oeplatform.git"
          ],
          [
           "An online marketplace for local food. It enables a network of independent online food stores that connects farmers and food hubs with individuals and local businesses.",
           "Agriculture and Nutrition",
           "https://github.com/openfoodfoundation/openfoodnetwork.git"
          ],
          [
           "The open-source United States Energy Policy Simulator estimates environmental and economic impacts of hundreds of climate and energy policies.",
           "Energy Modeling and Optimization",
           "https://github.com/EnergyInnovation/eps-us.git"
          ],
          [
           "Fast and friendly fluid dynamics on CPUs and GPUs.",
           "Hydrosphere",
           "https://github.com/CliMA/Oceananigans.jl.git"
          ],
          [
           "A platform for collecting and disseminating data for the Sustainable Development Goal global indicators.",
           "Sustainable Development Goals",
           "https://github.com/open-sdg/open-sdg.git"
          ],
          [
           "A Python package which is used to make short term forecasts for the energy sector.",
           "Energy Modeling and Optimization",
           "https://github.com/OpenSTEF/openstef.git"
          ],
          [
           "A traffic simulation game exploring how small changes to roads affect cyclists, transit users, pedestrians, and drivers.",
           "Mobility and Transportation",
           "https://github.com/a-b-street/abstreet.git"
          ],
          [
           "The Super Resolution for Renewable Resource Data software uses generative adversarial networks to create synthetic high-resolution wind and solar spatiotemporal data from coarse low-resolution inputs.",
           "Datasets on Energy Systems",
           "https://github.com/NREL/sup3r.git"
          ],
          [
           "A free mapping tool to support interdisciplinary Greenland-focused research, teaching, decision making, and collaboration.",
           "Cryosphere",
           "https://github.com/nsidc/qgreenland.git"
          ],
          [
           "An Open Optimisation Model of the Earth Energy System.",
           "Energy Modeling and Optimization",
           "https://github.com/pypsa-meets-earth/pypsa-earth.git"
          ],
          [
           "A real-time visualization of the CO2 emissions from electricity consumption.",
           "Carbon Intensity and Accounting",
           "https://github.com/electricitymaps/electricitymaps-contrib.git"
          ],
          [
           "Predicts the spectral albedo of snow and glacier ice between 200nm to 5000nm given information about the illumination conditions, ice structure and the type and concentration particulates.",
           "Cryosphere",
           "https://github.com/jmcook1186/biosnicar-py.git"
          ],
          [
           "An extensible EV Charge Controller with PV integration implemented in Go.",
           "Mobility and Transportation",
           "https://github.com/evcc-io/evcc.git"
          ],
          [
           "Blends structured wildlife research with artificial intelligence, citizen science, and computer vision to speed population analysis and develop new insights to help fight extinction.",
           "Biosphere",
           "https://github.com/WildMeOrg/Wildbook.git"
          ],
          [
           "Offers open data, visualizations and analysis to help policymakers, researchers and other stakeholders gather insights on countries' climate progress.",
           "Knowledge Platforms",
           "https://github.com/ClimateWatch-Vizzuality/climate-watch.git"
          ],
          [
           "A package built to enable interoperability and scalability in ocean sonar data processing.",
           "Water Supply and Quality",
           "https://github.com/OSOceanAcoustics/echopype.git"
          ],
          [
           "Humanity's open-source CNC farming machine.",
           "Agriculture and Nutrition",
           "https://github.com/FarmBot/Farmbot-Web-App.git"
          ],
          [
           "A tool to estimate energy use (kilowatt-hours) and carbon emissions (metric tons CO2e) from public cloud usage.",
           "Computation and Communication",
           "https://github.com/cloud-carbon-footprint/cloud-carbon-footprint.git"
          ],
          [
           "Code base for the U.S. EPA's Community Multiscale Air Quality Model.",
           "Air Quality",
           "https://github.com/USEPA/CMAQ.git"
          ],
          [
           "A testbed platform to model sequential decision making in power systems.",
           "Energy Distribution and Grids",
           "https://github.com/rte-france/Grid2Op.git"
          ],
          [
           "A watershed-modeling web app for citizens, conservation practitioners, municipal decision-makers, educators, and students.",
           "Water Supply and Quality",
           "https://github.com/WikiWatershed/model-my-watershed.git"
          ],
          [
           "The Unidata network Common Data Form (netCDF) in C is an interface for scientific data access and a set of freely-distributed software libraries that provide an implementation of the interface.",
           "Climate Data Processing and Access",
           "https://github.com/Unidata/netcdf-c.git"
          ],
          [
           "Enables users to apply machine learning techniques for classifying image time series obtained from earth observation data cubes.",
           "Soil and Land",
           "https://github.com/e-sensing/sits.git"
          ],
          [
           "The Visualization and Analysis Platform for Ocean, Atmosphere and Solar Researchers.",
           "Hydrosphere",
           "https://github.com/NCAR/VAPOR.git"
          ],
          [
           "A library of derived climate variables, i.e. climate indicators, based on xarray.",
           "Climate Data Processing and Access",
           "https://github.com/Ouranosinc/xclim.git"
          ],
          [
           "A tool capable of modeling walking and cycling accessibility.",
           "Mobility and Transportation",
           "https://github.com/goat-community/goat.git"
          ],
          [
           "Fast and flexible physics-based battery models in Python.",
           "Battery",
           "https://github.com/pybamm-team/PyBaMM.git"
          ]
         ],
         "hovertemplate": "Project Info: <b>%{customdata[0]}</b><br>Topic: <b>%{customdata[1]}</b><br>Git URL: <b>%{customdata[2]}</b>",
         "legendgroup": "",
         "marker": {
          "color": [
           0.0027118644067796,
           0.8557953408603687,
           0.7263712214471345,
           0.4560439560439561,
           0.7071129707112971,
           0.269703656998739,
           0.6579439252336449,
           0.7481049054631002,
           0.6788910077746809,
           0.5244956772334294,
           0.5007675775253301,
           0.659432387312187,
           0.4658753709198813,
           0.3960749330954505,
           0.857922954725973,
           0.4836065573770491,
           0.6231042271700549,
           0.2491417361451692,
           0.7502673796791444,
           0.0502191609267376,
           0.3086003372681282,
           0.1802168021680217,
           0.7256983240223464,
           0.5590631364562118,
           0.2735042735042735,
           0.2349794238683127,
           0.7769125057260651,
           0.621670592498641,
           0.6072222222222222,
           0.2469677419354838,
           0.8300304878048781,
           0.8136309825807543,
           0.3474264705882353,
           0.2797411647585863,
           0.6754057428214731,
           0.6461273666092944,
           0.7008208321539768,
           0.6206239580852584,
           0.5708897270911915,
           0.5718423372371237
          ],
          "coloraxis": "coloraxis",
          "pattern": {
           "shape": ""
          }
         },
         "name": "",
         "offsetgroup": "",
         "orientation": "h",
         "showlegend": false,
         "textposition": "auto",
         "type": "bar",
         "x": [
          3.527579162410623,
          3.301838610827375,
          3.1450459652706844,
          3.1235955056179776,
          3.114402451481103,
          3.1011235955056176,
          3.080694586312564,
          3.054136874361593,
          3.0464759959141983,
          3.0454545454545454,
          3.0214504596527068,
          3.0214504596527068,
          3.017364657814096,
          3.0153217568947905,
          3.014300306435138,
          3.0107252298263534,
          3.008171603677222,
          3.0020429009193057,
          2.992849846782432,
          2.97906026557712,
          2.9765066394279875,
          2.9688457609805927,
          2.968335035750766,
          2.965270684371808,
          2.959652706843718,
          2.9540347293156284,
          2.9540347293156284,
          2.9535240040858017,
          2.9422880490296226,
          2.942288049029622,
          2.9397344228804902,
          2.936670071501532,
          2.936159346271705,
          2.935137895812053,
          2.925434116445353,
          2.925434116445353,
          2.923901940755873,
          2.923901940755873,
          2.9203268641470888,
          2.9182839632277835
         ],
         "xaxis": "x",
         "y": [
          "<a href=\"https://github.com/weecology/DeepTreeAttention.git\">DeepTreeAttention</a>",
          "<a href=\"https://github.com/NREL/EnergyPlus.git\">EnergyPlus</a>",
          "<a href=\"https://github.com/NREL/OpenStudio.git\">OpenStudio</a>",
          "<a href=\"https://github.com/Ozon3Org/Ozon3.git\">Ozone</a>",
          "<a href=\"https://github.com/energywebfoundation/origin.git\">origin</a>",
          "<a href=\"https://github.com/NREL-SIIP/PowerSimulations.jl.git\">PowerSimulations.jl</a>",
          "<a href=\"https://github.com/carbonplan/cmip6-downscaling.git\">cmip6-downscaling</a>",
          "<a href=\"https://github.com/hydroshare/hydroshare.git\">HydroShare</a>",
          "<a href=\"https://github.com/SpeciesFileGroup/taxonworks.git\">TaxonWorks</a>",
          "<a href=\"https://github.com/Universite-Gustave-Eiffel/NoiseModelling.git\">NoiseModelling</a>",
          "<a href=\"https://github.com/CCI-Tools/cate.git\">Cate</a>",
          "<a href=\"https://github.com/openclimatefix/Satip.git\">Satip</a>",
          "<a href=\"https://github.com/singularity-energy/open-grid-emissions.git\">Open Grid Emissions Initiative</a>",
          "<a href=\"https://github.com/OpenEnergyPlatform/oeplatform.git\">Open Energy Platform</a>",
          "<a href=\"https://github.com/openfoodfoundation/openfoodnetwork.git\">openfoodnetwork</a>",
          "<a href=\"https://github.com/EnergyInnovation/eps-us.git\">Energy Policy Simulator</a>",
          "<a href=\"https://github.com/CliMA/Oceananigans.jl.git\">Oceananigans.jl</a>",
          "<a href=\"https://github.com/open-sdg/open-sdg.git\">open-sdg</a>",
          "<a href=\"https://github.com/OpenSTEF/openstef.git\">OpenSTEF</a>",
          "<a href=\"https://github.com/a-b-street/abstreet.git\">A/B Street</a>",
          "<a href=\"https://github.com/NREL/sup3r.git\">sup3r</a>",
          "<a href=\"https://github.com/nsidc/qgreenland.git\">QGreenland</a>",
          "<a href=\"https://github.com/pypsa-meets-earth/pypsa-earth.git\">PyPSA-Earth</a>",
          "<a href=\"https://github.com/electricitymaps/electricitymaps-contrib.git\">Electricity Maps</a>",
          "<a href=\"https://github.com/jmcook1186/biosnicar-py.git\">BioSNICAR</a>",
          "<a href=\"https://github.com/evcc-io/evcc.git\">EVCC</a>",
          "<a href=\"https://github.com/WildMeOrg/Wildbook.git\">Wildbook</a>",
          "<a href=\"https://github.com/ClimateWatch-Vizzuality/climate-watch.git\">Climate Watch</a>",
          "<a href=\"https://github.com/OSOceanAcoustics/echopype.git\">Echopype</a>",
          "<a href=\"https://github.com/FarmBot/Farmbot-Web-App.git\">Farmbot</a>",
          "<a href=\"https://github.com/cloud-carbon-footprint/cloud-carbon-footprint.git\">Cloud Carbon Footprint</a>",
          "<a href=\"https://github.com/USEPA/CMAQ.git\">CMAQ</a>",
          "<a href=\"https://github.com/rte-france/Grid2Op.git\">Grid2Op</a>",
          "<a href=\"https://github.com/WikiWatershed/model-my-watershed.git\">Model My Watershed</a>",
          "<a href=\"https://github.com/Unidata/netcdf-c.git\">netcdf-c</a>",
          "<a href=\"https://github.com/e-sensing/sits.git\">SITS</a>",
          "<a href=\"https://github.com/NCAR/VAPOR.git\">VAPOR</a>",
          "<a href=\"https://github.com/Ouranosinc/xclim.git\">xclim</a>",
          "<a href=\"https://github.com/goat-community/goat.git\">goat</a>",
          "<a href=\"https://github.com/pybamm-team/PyBaMM.git\">PyBaMM</a>"
         ],
         "yaxis": "y"
        }
       ],
       "layout": {
        "barmode": "relative",
        "coloraxis": {
         "colorbar": {
          "title": {
           "text": "DDS"
          }
         },
         "colorscale": [
          [
           0,
           "rgb(237, 239, 93)"
          ],
          [
           0.16666666666666666,
           "rgb(169, 220, 103)"
          ],
          [
           0.3333333333333333,
           "rgb(110, 197, 116)"
          ],
          [
           0.5,
           "rgb(57, 171, 126)"
          ],
          [
           0.6666666666666666,
           "rgb(13, 143, 129)"
          ],
          [
           0.8333333333333334,
           "rgb(15, 114, 121)"
          ],
          [
           1,
           "rgb(36, 86, 104)"
          ]
         ]
        },
        "height": 1000,
        "hoverlabel": {
         "bgcolor": "white"
        },
        "images": [
         {
          "sizex": 0.05,
          "sizey": 0.05,
          "source": "data:image/png;base64,iVBORw0KGgoAAAANSUhEUgAAADwAAAA8CAYAAAA6/NlyAAAD20lEQVR4nO2ZTWgcZRjHf8/spjWkFYmKmbR+oVKaCPbQU8i2tCBqEbrU7LIJVhG0PVWQih4UehAVQVAkAQ/qRW1WdhPrB+pJ1DQF6aEnQ0WqqCQbhfpFW6nJzOMhBgQ3u+/MvPORmP91n/n/nx/v7DvPvCOqyv9JTtoNJK114LWufBIh5TIbZj3uQLldhJtV2CJwlfrkpicpJtHDsmIDHtzPZjo4gM8IQkGgE1n6Tf7ZJ0W4HFf+SrIOvLvI9YsORyXPwyhdy5BZkTXgwf1s1jzHJMejAh22fG3LCnDhAHeT53WBXht+cSoS8J495Beu5nmEo5C1m7e5QgPv28fGxW7eQhmy2VDcCgV81wN0XezkE2DQcj+xKzDwzsN0XHGJGqsQFkJMWp3nGUO5J45mklCgFS7cx0GFRyzk/izCT6p8Z8ErkMT09XCgzBZnkRmEK0NmTaswicd70+9yLqRHZBmvcM7jZQ0He1qEZ6bqfBDiWusyWuGBEgOOz3RAb1+Ep05O8IIqmTllMFphR3k6oO8FUYanJvgwRE+xqu0K7yrT53t8FcDTE6U4NZk9WDB4LKnHg0EMVXgiq7DQBlgEAUYC+H15aoKXorUUr1oCF0psV9hqaibK41naoJqpJbDvs9fYSflsapKTkTuKWa3/w8oOUyOBetRmklC7TWuboY86Pu9HbSYJtQO+0dDn/Ocn+DFqM0mo9S6N8Sg5Z6GXRNRy0lIYUyHXzkSUb+y1FK+M35bWitY/tSQhaVQvAxvaV+oX6g7vtpmd1gpfMCsT13ZwWsC/GdZZP9hPCVi/NSzsktnjO2wmpwOs8rVxrThFm9HpADt62rhWGBKLn3HSAfbl0wDV/cxVy7aiUxs8pFGdAbYblp/j11yf9pX+ipqb5uBxPEDtLXT7L9oITRHYfxPwjMtVj0jjnUNRU1MDVnfkeyTooYGOSmP8cJTcdGfpRX0OAp2BdYC8KnPVUZmpGYym/1Xqb0syP/4GKg+FuPQHkGdxz76mHPON89IHrl2LemeB7nAOOoNSBzmhvZUzbfPSBgaQ+eoQSs2C1Z8IsygNdSu7mhVk4n1Yeyp1lDELVp0otwKFlQoyAQxA7x+PAR/HHZMZYOXQAs5CCTgVZ05mgAH0uoMXYdOdIB/FlZEpYAB1772E+3sRYTQO/8wBw9LtrT2VIwgl4Beb3pkEXpb2VOp4uduAVwDj4aKVMvEcNpHMj/ej8iQwjMFpq7qVpocGqwZ4WdKo3QDe/Sx9qO9fqW7NAP9bMvv2VnL5vcBOVLcBNwHXAJvUrWxses1qBg6jTG9acWgdeK3rb5uuGEmTzESgAAAAAElFTkSuQmCC",
          "x": 1,
          "xanchor": "right",
          "xref": "paper",
          "y": 0,
          "yanchor": "bottom",
          "yref": "paper"
         }
        ],
        "legend": {
         "tracegroupgap": 0
        },
        "margin": {
         "b": 0,
         "l": 200,
         "r": 0,
         "t": 40
        },
        "showlegend": false,
        "template": {
         "data": {
          "bar": [
           {
            "error_x": {
             "color": "#2a3f5f"
            },
            "error_y": {
             "color": "#2a3f5f"
            },
            "marker": {
             "line": {
              "color": "#E5ECF6",
              "width": 0.5
             },
             "pattern": {
              "fillmode": "overlay",
              "size": 10,
              "solidity": 0.2
             }
            },
            "type": "bar"
           }
          ],
          "barpolar": [
           {
            "marker": {
             "line": {
              "color": "#E5ECF6",
              "width": 0.5
             },
             "pattern": {
              "fillmode": "overlay",
              "size": 10,
              "solidity": 0.2
             }
            },
            "type": "barpolar"
           }
          ],
          "carpet": [
           {
            "aaxis": {
             "endlinecolor": "#2a3f5f",
             "gridcolor": "white",
             "linecolor": "white",
             "minorgridcolor": "white",
             "startlinecolor": "#2a3f5f"
            },
            "baxis": {
             "endlinecolor": "#2a3f5f",
             "gridcolor": "white",
             "linecolor": "white",
             "minorgridcolor": "white",
             "startlinecolor": "#2a3f5f"
            },
            "type": "carpet"
           }
          ],
          "choropleth": [
           {
            "colorbar": {
             "outlinewidth": 0,
             "ticks": ""
            },
            "type": "choropleth"
           }
          ],
          "contour": [
           {
            "colorbar": {
             "outlinewidth": 0,
             "ticks": ""
            },
            "colorscale": [
             [
              0,
              "#0d0887"
             ],
             [
              0.1111111111111111,
              "#46039f"
             ],
             [
              0.2222222222222222,
              "#7201a8"
             ],
             [
              0.3333333333333333,
              "#9c179e"
             ],
             [
              0.4444444444444444,
              "#bd3786"
             ],
             [
              0.5555555555555556,
              "#d8576b"
             ],
             [
              0.6666666666666666,
              "#ed7953"
             ],
             [
              0.7777777777777778,
              "#fb9f3a"
             ],
             [
              0.8888888888888888,
              "#fdca26"
             ],
             [
              1,
              "#f0f921"
             ]
            ],
            "type": "contour"
           }
          ],
          "contourcarpet": [
           {
            "colorbar": {
             "outlinewidth": 0,
             "ticks": ""
            },
            "type": "contourcarpet"
           }
          ],
          "heatmap": [
           {
            "colorbar": {
             "outlinewidth": 0,
             "ticks": ""
            },
            "colorscale": [
             [
              0,
              "#0d0887"
             ],
             [
              0.1111111111111111,
              "#46039f"
             ],
             [
              0.2222222222222222,
              "#7201a8"
             ],
             [
              0.3333333333333333,
              "#9c179e"
             ],
             [
              0.4444444444444444,
              "#bd3786"
             ],
             [
              0.5555555555555556,
              "#d8576b"
             ],
             [
              0.6666666666666666,
              "#ed7953"
             ],
             [
              0.7777777777777778,
              "#fb9f3a"
             ],
             [
              0.8888888888888888,
              "#fdca26"
             ],
             [
              1,
              "#f0f921"
             ]
            ],
            "type": "heatmap"
           }
          ],
          "heatmapgl": [
           {
            "colorbar": {
             "outlinewidth": 0,
             "ticks": ""
            },
            "colorscale": [
             [
              0,
              "#0d0887"
             ],
             [
              0.1111111111111111,
              "#46039f"
             ],
             [
              0.2222222222222222,
              "#7201a8"
             ],
             [
              0.3333333333333333,
              "#9c179e"
             ],
             [
              0.4444444444444444,
              "#bd3786"
             ],
             [
              0.5555555555555556,
              "#d8576b"
             ],
             [
              0.6666666666666666,
              "#ed7953"
             ],
             [
              0.7777777777777778,
              "#fb9f3a"
             ],
             [
              0.8888888888888888,
              "#fdca26"
             ],
             [
              1,
              "#f0f921"
             ]
            ],
            "type": "heatmapgl"
           }
          ],
          "histogram": [
           {
            "marker": {
             "pattern": {
              "fillmode": "overlay",
              "size": 10,
              "solidity": 0.2
             }
            },
            "type": "histogram"
           }
          ],
          "histogram2d": [
           {
            "colorbar": {
             "outlinewidth": 0,
             "ticks": ""
            },
            "colorscale": [
             [
              0,
              "#0d0887"
             ],
             [
              0.1111111111111111,
              "#46039f"
             ],
             [
              0.2222222222222222,
              "#7201a8"
             ],
             [
              0.3333333333333333,
              "#9c179e"
             ],
             [
              0.4444444444444444,
              "#bd3786"
             ],
             [
              0.5555555555555556,
              "#d8576b"
             ],
             [
              0.6666666666666666,
              "#ed7953"
             ],
             [
              0.7777777777777778,
              "#fb9f3a"
             ],
             [
              0.8888888888888888,
              "#fdca26"
             ],
             [
              1,
              "#f0f921"
             ]
            ],
            "type": "histogram2d"
           }
          ],
          "histogram2dcontour": [
           {
            "colorbar": {
             "outlinewidth": 0,
             "ticks": ""
            },
            "colorscale": [
             [
              0,
              "#0d0887"
             ],
             [
              0.1111111111111111,
              "#46039f"
             ],
             [
              0.2222222222222222,
              "#7201a8"
             ],
             [
              0.3333333333333333,
              "#9c179e"
             ],
             [
              0.4444444444444444,
              "#bd3786"
             ],
             [
              0.5555555555555556,
              "#d8576b"
             ],
             [
              0.6666666666666666,
              "#ed7953"
             ],
             [
              0.7777777777777778,
              "#fb9f3a"
             ],
             [
              0.8888888888888888,
              "#fdca26"
             ],
             [
              1,
              "#f0f921"
             ]
            ],
            "type": "histogram2dcontour"
           }
          ],
          "mesh3d": [
           {
            "colorbar": {
             "outlinewidth": 0,
             "ticks": ""
            },
            "type": "mesh3d"
           }
          ],
          "parcoords": [
           {
            "line": {
             "colorbar": {
              "outlinewidth": 0,
              "ticks": ""
             }
            },
            "type": "parcoords"
           }
          ],
          "pie": [
           {
            "automargin": true,
            "type": "pie"
           }
          ],
          "scatter": [
           {
            "fillpattern": {
             "fillmode": "overlay",
             "size": 10,
             "solidity": 0.2
            },
            "type": "scatter"
           }
          ],
          "scatter3d": [
           {
            "line": {
             "colorbar": {
              "outlinewidth": 0,
              "ticks": ""
             }
            },
            "marker": {
             "colorbar": {
              "outlinewidth": 0,
              "ticks": ""
             }
            },
            "type": "scatter3d"
           }
          ],
          "scattercarpet": [
           {
            "marker": {
             "colorbar": {
              "outlinewidth": 0,
              "ticks": ""
             }
            },
            "type": "scattercarpet"
           }
          ],
          "scattergeo": [
           {
            "marker": {
             "colorbar": {
              "outlinewidth": 0,
              "ticks": ""
             }
            },
            "type": "scattergeo"
           }
          ],
          "scattergl": [
           {
            "marker": {
             "colorbar": {
              "outlinewidth": 0,
              "ticks": ""
             }
            },
            "type": "scattergl"
           }
          ],
          "scattermapbox": [
           {
            "marker": {
             "colorbar": {
              "outlinewidth": 0,
              "ticks": ""
             }
            },
            "type": "scattermapbox"
           }
          ],
          "scatterpolar": [
           {
            "marker": {
             "colorbar": {
              "outlinewidth": 0,
              "ticks": ""
             }
            },
            "type": "scatterpolar"
           }
          ],
          "scatterpolargl": [
           {
            "marker": {
             "colorbar": {
              "outlinewidth": 0,
              "ticks": ""
             }
            },
            "type": "scatterpolargl"
           }
          ],
          "scatterternary": [
           {
            "marker": {
             "colorbar": {
              "outlinewidth": 0,
              "ticks": ""
             }
            },
            "type": "scatterternary"
           }
          ],
          "surface": [
           {
            "colorbar": {
             "outlinewidth": 0,
             "ticks": ""
            },
            "colorscale": [
             [
              0,
              "#0d0887"
             ],
             [
              0.1111111111111111,
              "#46039f"
             ],
             [
              0.2222222222222222,
              "#7201a8"
             ],
             [
              0.3333333333333333,
              "#9c179e"
             ],
             [
              0.4444444444444444,
              "#bd3786"
             ],
             [
              0.5555555555555556,
              "#d8576b"
             ],
             [
              0.6666666666666666,
              "#ed7953"
             ],
             [
              0.7777777777777778,
              "#fb9f3a"
             ],
             [
              0.8888888888888888,
              "#fdca26"
             ],
             [
              1,
              "#f0f921"
             ]
            ],
            "type": "surface"
           }
          ],
          "table": [
           {
            "cells": {
             "fill": {
              "color": "#EBF0F8"
             },
             "line": {
              "color": "white"
             }
            },
            "header": {
             "fill": {
              "color": "#C8D4E3"
             },
             "line": {
              "color": "white"
             }
            },
            "type": "table"
           }
          ]
         },
         "layout": {
          "annotationdefaults": {
           "arrowcolor": "#2a3f5f",
           "arrowhead": 0,
           "arrowwidth": 1
          },
          "autotypenumbers": "strict",
          "coloraxis": {
           "colorbar": {
            "outlinewidth": 0,
            "ticks": ""
           }
          },
          "colorscale": {
           "diverging": [
            [
             0,
             "#8e0152"
            ],
            [
             0.1,
             "#c51b7d"
            ],
            [
             0.2,
             "#de77ae"
            ],
            [
             0.3,
             "#f1b6da"
            ],
            [
             0.4,
             "#fde0ef"
            ],
            [
             0.5,
             "#f7f7f7"
            ],
            [
             0.6,
             "#e6f5d0"
            ],
            [
             0.7,
             "#b8e186"
            ],
            [
             0.8,
             "#7fbc41"
            ],
            [
             0.9,
             "#4d9221"
            ],
            [
             1,
             "#276419"
            ]
           ],
           "sequential": [
            [
             0,
             "#0d0887"
            ],
            [
             0.1111111111111111,
             "#46039f"
            ],
            [
             0.2222222222222222,
             "#7201a8"
            ],
            [
             0.3333333333333333,
             "#9c179e"
            ],
            [
             0.4444444444444444,
             "#bd3786"
            ],
            [
             0.5555555555555556,
             "#d8576b"
            ],
            [
             0.6666666666666666,
             "#ed7953"
            ],
            [
             0.7777777777777778,
             "#fb9f3a"
            ],
            [
             0.8888888888888888,
             "#fdca26"
            ],
            [
             1,
             "#f0f921"
            ]
           ],
           "sequentialminus": [
            [
             0,
             "#0d0887"
            ],
            [
             0.1111111111111111,
             "#46039f"
            ],
            [
             0.2222222222222222,
             "#7201a8"
            ],
            [
             0.3333333333333333,
             "#9c179e"
            ],
            [
             0.4444444444444444,
             "#bd3786"
            ],
            [
             0.5555555555555556,
             "#d8576b"
            ],
            [
             0.6666666666666666,
             "#ed7953"
            ],
            [
             0.7777777777777778,
             "#fb9f3a"
            ],
            [
             0.8888888888888888,
             "#fdca26"
            ],
            [
             1,
             "#f0f921"
            ]
           ]
          },
          "colorway": [
           "#636efa",
           "#EF553B",
           "#00cc96",
           "#ab63fa",
           "#FFA15A",
           "#19d3f3",
           "#FF6692",
           "#B6E880",
           "#FF97FF",
           "#FECB52"
          ],
          "font": {
           "color": "#040404",
           "family": "Open Sans",
           "size": 15
          },
          "geo": {
           "bgcolor": "white",
           "lakecolor": "white",
           "landcolor": "#E5ECF6",
           "showlakes": true,
           "showland": true,
           "subunitcolor": "white"
          },
          "hoverlabel": {
           "align": "left"
          },
          "hovermode": "closest",
          "mapbox": {
           "style": "light"
          },
          "margin": {
           "b": 0
          },
          "paper_bgcolor": "white",
          "plot_bgcolor": "#E5ECF6",
          "polar": {
           "angularaxis": {
            "gridcolor": "white",
            "linecolor": "white",
            "ticks": ""
           },
           "bgcolor": "#E5ECF6",
           "radialaxis": {
            "gridcolor": "white",
            "linecolor": "white",
            "ticks": ""
           }
          },
          "scene": {
           "xaxis": {
            "backgroundcolor": "#E5ECF6",
            "gridcolor": "white",
            "gridwidth": 2,
            "linecolor": "white",
            "showbackground": true,
            "ticks": "",
            "zerolinecolor": "white"
           },
           "yaxis": {
            "backgroundcolor": "#E5ECF6",
            "gridcolor": "white",
            "gridwidth": 2,
            "linecolor": "white",
            "showbackground": true,
            "ticks": "",
            "zerolinecolor": "white"
           },
           "zaxis": {
            "backgroundcolor": "#E5ECF6",
            "gridcolor": "white",
            "gridwidth": 2,
            "linecolor": "white",
            "showbackground": true,
            "ticks": "",
            "zerolinecolor": "white"
           }
          },
          "shapedefaults": {
           "line": {
            "color": "#2a3f5f"
           }
          },
          "ternary": {
           "aaxis": {
            "gridcolor": "white",
            "linecolor": "white",
            "ticks": ""
           },
           "baxis": {
            "gridcolor": "white",
            "linecolor": "white",
            "ticks": ""
           },
           "bgcolor": "#E5ECF6",
           "caxis": {
            "gridcolor": "white",
            "linecolor": "white",
            "ticks": ""
           }
          },
          "title": {
           "font": {
            "color": "#040404",
            "family": "Open Sans"
           },
           "x": 0.05
          },
          "xaxis": {
           "automargin": true,
           "gridcolor": "white",
           "linecolor": "white",
           "ticks": "",
           "title": {
            "standoff": 15
           },
           "zerolinecolor": "white",
           "zerolinewidth": 2
          },
          "yaxis": {
           "automargin": true,
           "gridcolor": "white",
           "linecolor": "white",
           "ticks": "",
           "title": {
            "standoff": 15
           },
           "zerolinecolor": "white",
           "zerolinewidth": 2
          }
         }
        },
        "title": {
         "text": "Top 40 Activity Score"
        },
        "width": 1000,
        "xaxis": {
         "anchor": "y",
         "domain": [
          0,
          1
         ],
         "range": [
          2.8,
          3.7
         ],
         "title": {
          "text": "Activity Score"
         }
        },
        "yaxis": {
         "anchor": "x",
         "autorange": "reversed",
         "domain": [
          0,
          1
         ],
         "title": {}
        }
       }
      }
     },
     "metadata": {},
     "output_type": "display_data"
    }
   ],
   "source": [
    "df_activity_score = df_active.nlargest(40, \"activity\")\n",
    "\n",
    "fig = px.bar(\n",
    "    df_activity_score,\n",
    "    x=df_activity_score[\"activity\"],\n",
    "    y=df_activity_score[\"project_name\"],\n",
    "    orientation=\"h\",\n",
    "    custom_data=[\"oneliner\",\"topic\",\"git_url\"],\n",
    "    color = df_activity_score[\"development_distribution_score\"],\n",
    "    color_continuous_scale=color_continuous_scale,\n",
    "    range_x=(2.8, 3.7)\n",
    ")\n",
    "\n",
    "fig.update_layout(\n",
    "    height=1000,  # Added parameter\n",
    "    width=1000,\n",
    "    xaxis_title=\"Activity Score\",\n",
    "    yaxis_title=None,\n",
    "    title=\"Top 40 Activity Score\",\n",
    "    coloraxis_colorbar=dict(\n",
    "    title=\"DDS\",\n",
    "    ),   \n",
    "    hoverlabel=dict(\n",
    "    bgcolor=\"white\"\n",
    ")\n",
    ")\n",
    "fig.update(layout_showlegend=False)\n",
    "fig['layout'].update(margin=dict(l=200,r=0,b=0,t=40))\n",
    "\n",
    "fig.add_layout_image(\n",
    "    dict(\n",
    "        source=logo_img,\n",
    "        xref=\"paper\", yref=\"paper\",\n",
    "        x=1, y=0,\n",
    "        sizex=0.05, sizey=0.05,\n",
    "        xanchor=\"right\", yanchor=\"bottom\"\n",
    "    )\n",
    ")\n",
    "\n",
    "fig.update_traces(\n",
    "    hovertemplate=\"<br>\".join([\n",
    "        \"Project Info: <b>%{customdata[0]}</b>\",\n",
    "        \"Topic: <b>%{customdata[1]}</b>\",\n",
    "        \"Git URL: <b>%{customdata[2]}</b>\"\n",
    "    ])\n",
    ")\n",
    "fig['layout']['yaxis']['autorange'] = \"reversed\"\n",
    "fig.show()"
   ]
  },
  {
   "cell_type": "markdown",
   "metadata": {},
   "source": [
    "```{figure} data:image/gif;base64,R0lGODlhAQABAIAAAAAAAP///yH5BAEAAAAALAAAAAABAAEAAAIBRAA7\n",
    ":figclass: caption-hack\n",
    ":name: activity-score\n",
    "\n",
    "The 40 Projects with the highest activity score\n",
    "```"
   ]
  },
  {
   "cell_type": "code",
   "execution_count": 24,
   "metadata": {
    "tags": [
     "hide-input",
     "full-width"
    ]
   },
   "outputs": [
    {
     "data": {
      "application/vnd.plotly.v1+json": {
       "config": {
        "plotlyServerURL": "https://plot.ly"
       },
       "data": [
        {
         "alignmentgroup": "True",
         "customdata": [
          [
           "Allows applicants to demonstrate their ability to analyze and develop software that makes use of big energy production data.",
           "Datasets on Energy Systems",
           "https://github.com/enechange/EnergyDataSimulationChallenge.git"
          ],
          [
           "The Predictive Ecosystem Analyzer is an integrated ecological bioinformatics toolbox.",
           "Biosphere",
           "https://github.com/PecanProject/pecan.git"
          ],
          [
           "A community diagnostic and performance metrics tool for routine evaluation of Earth system models in World Climate Research Programme.",
           "Earth and Climate Modeling",
           "https://github.com/ESMValGroup/ESMValTool.git"
          ],
          [
           "An open source web API, initially built to provide traveler information on urban transportation networks.",
           "Mobility and Transportation",
           "https://github.com/hove-io/navitia.git"
          ],
          [
           "A global atmosphere model targeted towards 3 km (\"cloud resolving\") resolution.",
           "Atmosphere",
           "https://github.com/E3SM-Project/scream.git"
          ],
          [
           "A software framework for supporting the efficient development, construction, execution, and scientific interpretation of atmospheric, oceanic, and climate system models.",
           "Earth and Climate Modeling",
           "https://github.com/NOAA-GFDL/FMS.git"
          ],
          [
           "An open, generic, scalable and independent 'Internet of Things' platform, which enables various connected smart objects in the public space to be easily controlled and monitored.",
           "Energy Distribution and Grids",
           "https://github.com/OSGP/open-smart-grid-platform.git"
          ],
          [
           "A state-of-the-art fully coupled model of the Earth's climate including important biogeochemical and cryospheric processes.",
           "Earth and Climate Modeling",
           "https://github.com/E3SM-Project/E3SM.git"
          ],
          [
           "A powerful, format-agnostic, community-driven Python package for analyzing and visualizing Earth science data.",
           "Hydrosphere",
           "https://github.com/SciTools/iris.git"
          ],
          [
           "The Model for Prediction Across Scales is a collaborative project for developing atmosphere, ocean, and other earth-system simulation components for use in climate, regional climate, and weather studies.",
           "Earth and Climate Modeling",
           "https://github.com/MPAS-Dev/MPAS-Model.git"
          ],
          [
           "Aims to provide multi-scale, simulation-based, open source computational tools and models to support the design, analysis, optimization, scale-up, operation and troubleshooting of innovative, advanced energy systems.",
           "Energy Modeling and Optimization",
           "https://github.com/IDAES/idaes-pse.git"
          ],
          [
           "A web application developed by NASA EOSDIS to enable data discovery, search, comparison, visualization, and access across EOSDIS' Earth Science data holdings.",
           "Data Catalogs and Interfaces",
           "https://github.com/nasa/earthdata-search.git"
          ],
          [
           "A massively parallel, block-structured adaptive-mesh, incompressible flow solver for wind turbine and wind farm simulations.",
           "Wind Energy",
           "https://github.com/Exawind/amr-wind.git"
          ],
          [
           "An open source framework written in Java, that makes it easy to write complex software for power systems simulations and analysis.",
           "Energy Modeling and Optimization",
           "https://github.com/powsybl/powsybl-core.git"
          ],
          [
           "Global Superstructure/Workflow currently supporting the Finite-Volume on a Cubed-Sphere Global Forecast System.",
           "Earth and Climate Modeling",
           "https://github.com/NOAA-EMC/global-workflow.git"
          ],
          [
           "An interface to download and deploy interconnected, grid-aware energy marketplaces.",
           "Energy Distribution and Grids",
           "https://github.com/gridsingularity/gsy-e.git"
          ],
          [
           "Solver for wind farm simulations targeting exascale computational platforms.",
           "Wind Energy",
           "https://github.com/Exawind/nalu-wind.git"
          ],
          [
           "The Unidata network Common Data Form (netCDF) in C is an interface for scientific data access and a set of freely-distributed software libraries that provide an implementation of the interface.",
           "Climate Data Processing and Access",
           "https://github.com/Unidata/netcdf-c.git"
          ],
          [
           "A collaborative website for better access to data and models in the hydrologic sciences.",
           "Hydrosphere",
           "https://github.com/hydroshare/hydroshare.git"
          ],
          [
           "A modular open source multi-regional model incorporating the economy, the climate system and a detailed representation of the energy sector.",
           "Sustainable Investment",
           "https://github.com/remindmodel/remind.git"
          ],
          [
           "A state-of-the-art atmospheric modeling system designed for both meteorological research and numerical weather prediction.",
           "Earth and Climate Modeling",
           "https://github.com/wrf-model/WRF.git"
          ],
          [
           "A numerical representation of the ocean fluid with applications from the process scale to the planetary circulation scale.",
           "Earth and Climate Modeling",
           "https://github.com/NOAA-GFDL/MOM6.git"
          ],
          [
           "A whole building energy simulation program that engineers, architects, and researchers use to model both energy consumption and water usage in buildings.",
           "Buildings and Heating",
           "https://github.com/NREL/EnergyPlus.git"
          ],
          [
           "Model of Agricultural Production and its Impact on the Environment.",
           "Agriculture and Nutrition",
           "https://github.com/magpiemodel/magpie.git"
          ],
          [
           "A simulation framework for modeling coupled flow, transport, and geomechanics in the subsurface.",
           "Carbon Capture and Removal",
           "https://github.com/GEOSX/GEOSX.git"
          ],
          [
           "A cross-platform collection of software tools to support whole building energy modeling using EnergyPlus and advanced daylight analysis using Radiance.",
           "Buildings and Heating",
           "https://github.com/NREL/OpenStudio.git"
          ],
          [
           "Groundwater Wells and Aquifers application for the Ministry of Environment in British Columbia.",
           "Water Supply and Quality",
           "https://github.com/bcgov/gwells.git"
          ],
          [
           "A domain ontology of the energy-system modeling context.",
           "Energy Modeling and Optimization",
           "https://github.com/OpenEnergyPlatform/ontology.git"
          ],
          [
           "Providing a structured database of claims regarding ecological state and change of state.",
           "Knowledge Platforms",
           "https://github.com/regen-network/regen-ledger.git"
          ],
          [
           "Optimization of Aerodynamic systems.",
           "Wind Energy",
           "https://github.com/OpenMDAO/OpenMDAO.git"
          ],
          [
           "Track emissions from Compute and recommend ways to reduce their impact on the environment.",
           "Computation and Communication",
           "https://github.com/mlco2/codecarbon.git"
          ],
          [
           "A set of toolkits that together provide a system for issuance and management of Energy Attribute Certificates.",
           "Energy Distribution and Grids",
           "https://github.com/energywebfoundation/origin.git"
          ],
          [
           "An Open Optimisation Model of the Earth Energy System.",
           "Energy Modeling and Optimization",
           "https://github.com/pypsa-meets-earth/pypsa-earth.git"
          ],
          [
           "Fast and friendly fluid dynamics on CPUs and GPUs.",
           "Hydrosphere",
           "https://github.com/CliMA/Oceananigans.jl.git"
          ],
          [
           "An open source, object-oriented, simple global climate carbon-cycle model.",
           "Earth and Climate Modeling",
           "https://github.com/JGCRI/hector.git"
          ],
          [
           "Framework for Optimization and Quantification of Uncertainty and Surrogates.",
           "Carbon Capture and Removal",
           "https://github.com/CCSI-Toolset/FOQUS.git"
          ],
          [
           "Standard Energy Efficiency Data Platform™ is a web-based application that helps organizations easily manage data on the energy performance of large groups of buildings.",
           "Buildings and Heating",
           "https://github.com/SEED-platform/seed.git"
          ],
          [
           "A community platform for Big Data geoscience.",
           "Earth and Climate Modeling",
           "https://github.com/pangeo-data/pangeo.git"
          ],
          [
           "Assesses the potential risk and forecasts the impact of climate hazards on the most vulnerable communities, in order to design risk reduction activities and target disaster responses.",
           "Natural Hazard and Poverty",
           "https://github.com/WFP-VAM/prism-app.git"
          ],
          [
           "The Common Community Physics Package is designed to facilitate the implementation of physics innovations in state-of-the-art atmospheric models, the use of various models to develop physics, and the acceleration of transition of physics innovations to operational NOAA models.",
           "Hydrosphere",
           "https://github.com/NCAR/ccpp-physics.git"
          ]
         ],
         "hovertemplate": "Project Info: <b>%{customdata[0]}</b><br>Topic: <b>%{customdata[1]}</b><br>Git URL: <b>%{customdata[2]}</b>",
         "legendgroup": "",
         "marker": {
          "color": [
           0.8878737541528239,
           0.8638583638583639,
           0.8355420090113967,
           0.8587618403247632,
           0.8919941420551623,
           0.8198830409356725,
           0.8535322777101096,
           0.8774051285699043,
           0.8637803590285111,
           0.810784071234232,
           0.7442307692307693,
           0.752362381880906,
           0.7642466822794691,
           0.7677584006805614,
           0.726109556177529,
           0.7478344562078922,
           0.7882816346627277,
           0.6754057428214731,
           0.7481049054631002,
           0.7894959762812368,
           0.6445086705202312,
           0.6848334709606385,
           0.8557953408603687,
           0.7343799058084772,
           0.5811590222466355,
           0.7263712214471345,
           0.7089129314786193,
           0.6768342951360264,
           0.7323767935121647,
           0.6906206252916472,
           0.8112449799196787,
           0.7071129707112971,
           0.7256983240223464,
           0.6231042271700549,
           0.7503121098626717,
           0.8,
           0.7676632455748922,
           0.7933884297520661,
           0.6728016359918201,
           0.6904149834741095
          ],
          "coloraxis": "coloraxis",
          "pattern": {
           "shape": ""
          }
         },
         "name": "",
         "offsetgroup": "",
         "orientation": "h",
         "showlegend": false,
         "textposition": "auto",
         "type": "bar",
         "x": [
          2.970888661899898,
          2.9484167517875384,
          2.946373850868233,
          2.9228804902962207,
          2.9223697650663945,
          2.91317671092952,
          2.9116445352400406,
          2.897854954034729,
          2.887129724208376,
          2.88100102145046,
          2.870786516853933,
          2.859550561797753,
          2.845250255362615,
          2.828396322778345,
          2.817671092951992,
          2.810520939734423,
          2.808988764044944,
          2.7997957099080693,
          2.786516853932584,
          2.767620020429009,
          2.762002042900919,
          2.7517875383043924,
          2.7502553626149133,
          2.7477017364657814,
          2.7446373850868238,
          2.7436159346271705,
          2.7431052093973443,
          2.7293156281920328,
          2.724719101123596,
          2.7236976506639428,
          2.7145045965270684,
          2.708375893769152,
          2.687946884576098,
          2.674668028600613,
          2.6741573033707864,
          2.673135852911134,
          2.6710929519918283,
          2.66802860061287,
          2.66802860061287,
          2.656281920326864
         ],
         "xaxis": "x",
         "y": [
          "<a href=\"https://github.com/enechange/EnergyDataSimulationChallenge.git\">EnergyDataSimulationChallenge</a>",
          "<a href=\"https://github.com/PecanProject/pecan.git\">PEcAn</a>",
          "<a href=\"https://github.com/ESMValGroup/ESMValTool.git\">ESMValTool</a>",
          "<a href=\"https://github.com/hove-io/navitia.git\">navitia</a>",
          "<a href=\"https://github.com/E3SM-Project/scream.git\">SCREAM</a>",
          "<a href=\"https://github.com/NOAA-GFDL/FMS.git\">The Flexible Modeling System</a>",
          "<a href=\"https://github.com/OSGP/open-smart-grid-platform.git\">Open Smart Grid Platform</a>",
          "<a href=\"https://github.com/E3SM-Project/E3SM.git\">E3SM</a>",
          "<a href=\"https://github.com/SciTools/iris.git\">Iris</a>",
          "<a href=\"https://github.com/MPAS-Dev/MPAS-Model.git\">MPAS</a>",
          "<a href=\"https://github.com/IDAES/idaes-pse.git\">The IDAES Toolkit</a>",
          "<a href=\"https://github.com/nasa/earthdata-search.git\">Earthdata Search</a>",
          "<a href=\"https://github.com/Exawind/amr-wind.git\">amr-wind</a>",
          "<a href=\"https://github.com/powsybl/powsybl-core.git\">PowSyBl</a>",
          "<a href=\"https://github.com/NOAA-EMC/global-workflow.git\">global-workflow</a>",
          "<a href=\"https://github.com/gridsingularity/gsy-e.git\">Grid Singularity Energy Exchange Engine (D3A)</a>",
          "<a href=\"https://github.com/Exawind/nalu-wind.git\">nalu-wind</a>",
          "<a href=\"https://github.com/Unidata/netcdf-c.git\">netcdf-c</a>",
          "<a href=\"https://github.com/hydroshare/hydroshare.git\">HydroShare</a>",
          "<a href=\"https://github.com/remindmodel/remind.git\">The REgional Model of INvestments and Development</a>",
          "<a href=\"https://github.com/wrf-model/WRF.git\">WRF</a>",
          "<a href=\"https://github.com/NOAA-GFDL/MOM6.git\">MOM6</a>",
          "<a href=\"https://github.com/NREL/EnergyPlus.git\">EnergyPlus</a>",
          "<a href=\"https://github.com/magpiemodel/magpie.git\">MAgPIE</a>",
          "<a href=\"https://github.com/GEOSX/GEOSX.git\">GEOSX</a>",
          "<a href=\"https://github.com/NREL/OpenStudio.git\">OpenStudio</a>",
          "<a href=\"https://github.com/bcgov/gwells.git\">gwells</a>",
          "<a href=\"https://github.com/OpenEnergyPlatform/ontology.git\">The Open Energy Ontology</a>",
          "<a href=\"https://github.com/regen-network/regen-ledger.git\">Regen Ledger</a>",
          "<a href=\"https://github.com/OpenMDAO/OpenMDAO.git\">OpenMDAO</a>",
          "<a href=\"https://github.com/mlco2/codecarbon.git\">CodeCarbon</a>",
          "<a href=\"https://github.com/energywebfoundation/origin.git\">origin</a>",
          "<a href=\"https://github.com/pypsa-meets-earth/pypsa-earth.git\">PyPSA-Earth</a>",
          "<a href=\"https://github.com/CliMA/Oceananigans.jl.git\">Oceananigans.jl</a>",
          "<a href=\"https://github.com/JGCRI/hector.git\">hector</a>",
          "<a href=\"https://github.com/CCSI-Toolset/FOQUS.git\">FOQUS</a>",
          "<a href=\"https://github.com/SEED-platform/seed.git\">SEED</a>",
          "<a href=\"https://github.com/pangeo-data/pangeo.git\">pangeo</a>",
          "<a href=\"https://github.com/WFP-VAM/prism-app.git\">PRISM</a>",
          "<a href=\"https://github.com/NCAR/ccpp-physics.git\">ccpp-physics</a>"
         ],
         "yaxis": "y"
        }
       ],
       "layout": {
        "barmode": "relative",
        "coloraxis": {
         "colorbar": {
          "title": {
           "text": "DDS"
          }
         },
         "colorscale": [
          [
           0,
           "rgb(237, 239, 93)"
          ],
          [
           0.16666666666666666,
           "rgb(169, 220, 103)"
          ],
          [
           0.3333333333333333,
           "rgb(110, 197, 116)"
          ],
          [
           0.5,
           "rgb(57, 171, 126)"
          ],
          [
           0.6666666666666666,
           "rgb(13, 143, 129)"
          ],
          [
           0.8333333333333334,
           "rgb(15, 114, 121)"
          ],
          [
           1,
           "rgb(36, 86, 104)"
          ]
         ]
        },
        "height": 1000,
        "hoverlabel": {
         "bgcolor": "white"
        },
        "images": [
         {
          "sizex": 0.05,
          "sizey": 0.05,
          "source": "data:image/png;base64,iVBORw0KGgoAAAANSUhEUgAAADwAAAA8CAYAAAA6/NlyAAAD20lEQVR4nO2ZTWgcZRjHf8/spjWkFYmKmbR+oVKaCPbQU8i2tCBqEbrU7LIJVhG0PVWQih4UehAVQVAkAQ/qRW1WdhPrB+pJ1DQF6aEnQ0WqqCQbhfpFW6nJzOMhBgQ3u+/MvPORmP91n/n/nx/v7DvPvCOqyv9JTtoNJK114LWufBIh5TIbZj3uQLldhJtV2CJwlfrkpicpJtHDsmIDHtzPZjo4gM8IQkGgE1n6Tf7ZJ0W4HFf+SrIOvLvI9YsORyXPwyhdy5BZkTXgwf1s1jzHJMejAh22fG3LCnDhAHeT53WBXht+cSoS8J495Beu5nmEo5C1m7e5QgPv28fGxW7eQhmy2VDcCgV81wN0XezkE2DQcj+xKzDwzsN0XHGJGqsQFkJMWp3nGUO5J45mklCgFS7cx0GFRyzk/izCT6p8Z8ErkMT09XCgzBZnkRmEK0NmTaswicd70+9yLqRHZBmvcM7jZQ0He1qEZ6bqfBDiWusyWuGBEgOOz3RAb1+Ep05O8IIqmTllMFphR3k6oO8FUYanJvgwRE+xqu0K7yrT53t8FcDTE6U4NZk9WDB4LKnHg0EMVXgiq7DQBlgEAUYC+H15aoKXorUUr1oCF0psV9hqaibK41naoJqpJbDvs9fYSflsapKTkTuKWa3/w8oOUyOBetRmklC7TWuboY86Pu9HbSYJtQO+0dDn/Ocn+DFqM0mo9S6N8Sg5Z6GXRNRy0lIYUyHXzkSUb+y1FK+M35bWitY/tSQhaVQvAxvaV+oX6g7vtpmd1gpfMCsT13ZwWsC/GdZZP9hPCVi/NSzsktnjO2wmpwOs8rVxrThFm9HpADt62rhWGBKLn3HSAfbl0wDV/cxVy7aiUxs8pFGdAbYblp/j11yf9pX+ipqb5uBxPEDtLXT7L9oITRHYfxPwjMtVj0jjnUNRU1MDVnfkeyTooYGOSmP8cJTcdGfpRX0OAp2BdYC8KnPVUZmpGYym/1Xqb0syP/4GKg+FuPQHkGdxz76mHPON89IHrl2LemeB7nAOOoNSBzmhvZUzbfPSBgaQ+eoQSs2C1Z8IsygNdSu7mhVk4n1Yeyp1lDELVp0otwKFlQoyAQxA7x+PAR/HHZMZYOXQAs5CCTgVZ05mgAH0uoMXYdOdIB/FlZEpYAB1772E+3sRYTQO/8wBw9LtrT2VIwgl4Beb3pkEXpb2VOp4uduAVwDj4aKVMvEcNpHMj/ej8iQwjMFpq7qVpocGqwZ4WdKo3QDe/Sx9qO9fqW7NAP9bMvv2VnL5vcBOVLcBNwHXAJvUrWxses1qBg6jTG9acWgdeK3rb5uuGEmTzESgAAAAAElFTkSuQmCC",
          "x": 1,
          "xanchor": "right",
          "xref": "paper",
          "y": 0,
          "yanchor": "bottom",
          "yref": "paper"
         }
        ],
        "legend": {
         "tracegroupgap": 0
        },
        "margin": {
         "b": 0,
         "l": 200,
         "r": 0,
         "t": 40
        },
        "showlegend": false,
        "template": {
         "data": {
          "bar": [
           {
            "error_x": {
             "color": "#2a3f5f"
            },
            "error_y": {
             "color": "#2a3f5f"
            },
            "marker": {
             "line": {
              "color": "#E5ECF6",
              "width": 0.5
             },
             "pattern": {
              "fillmode": "overlay",
              "size": 10,
              "solidity": 0.2
             }
            },
            "type": "bar"
           }
          ],
          "barpolar": [
           {
            "marker": {
             "line": {
              "color": "#E5ECF6",
              "width": 0.5
             },
             "pattern": {
              "fillmode": "overlay",
              "size": 10,
              "solidity": 0.2
             }
            },
            "type": "barpolar"
           }
          ],
          "carpet": [
           {
            "aaxis": {
             "endlinecolor": "#2a3f5f",
             "gridcolor": "white",
             "linecolor": "white",
             "minorgridcolor": "white",
             "startlinecolor": "#2a3f5f"
            },
            "baxis": {
             "endlinecolor": "#2a3f5f",
             "gridcolor": "white",
             "linecolor": "white",
             "minorgridcolor": "white",
             "startlinecolor": "#2a3f5f"
            },
            "type": "carpet"
           }
          ],
          "choropleth": [
           {
            "colorbar": {
             "outlinewidth": 0,
             "ticks": ""
            },
            "type": "choropleth"
           }
          ],
          "contour": [
           {
            "colorbar": {
             "outlinewidth": 0,
             "ticks": ""
            },
            "colorscale": [
             [
              0,
              "#0d0887"
             ],
             [
              0.1111111111111111,
              "#46039f"
             ],
             [
              0.2222222222222222,
              "#7201a8"
             ],
             [
              0.3333333333333333,
              "#9c179e"
             ],
             [
              0.4444444444444444,
              "#bd3786"
             ],
             [
              0.5555555555555556,
              "#d8576b"
             ],
             [
              0.6666666666666666,
              "#ed7953"
             ],
             [
              0.7777777777777778,
              "#fb9f3a"
             ],
             [
              0.8888888888888888,
              "#fdca26"
             ],
             [
              1,
              "#f0f921"
             ]
            ],
            "type": "contour"
           }
          ],
          "contourcarpet": [
           {
            "colorbar": {
             "outlinewidth": 0,
             "ticks": ""
            },
            "type": "contourcarpet"
           }
          ],
          "heatmap": [
           {
            "colorbar": {
             "outlinewidth": 0,
             "ticks": ""
            },
            "colorscale": [
             [
              0,
              "#0d0887"
             ],
             [
              0.1111111111111111,
              "#46039f"
             ],
             [
              0.2222222222222222,
              "#7201a8"
             ],
             [
              0.3333333333333333,
              "#9c179e"
             ],
             [
              0.4444444444444444,
              "#bd3786"
             ],
             [
              0.5555555555555556,
              "#d8576b"
             ],
             [
              0.6666666666666666,
              "#ed7953"
             ],
             [
              0.7777777777777778,
              "#fb9f3a"
             ],
             [
              0.8888888888888888,
              "#fdca26"
             ],
             [
              1,
              "#f0f921"
             ]
            ],
            "type": "heatmap"
           }
          ],
          "heatmapgl": [
           {
            "colorbar": {
             "outlinewidth": 0,
             "ticks": ""
            },
            "colorscale": [
             [
              0,
              "#0d0887"
             ],
             [
              0.1111111111111111,
              "#46039f"
             ],
             [
              0.2222222222222222,
              "#7201a8"
             ],
             [
              0.3333333333333333,
              "#9c179e"
             ],
             [
              0.4444444444444444,
              "#bd3786"
             ],
             [
              0.5555555555555556,
              "#d8576b"
             ],
             [
              0.6666666666666666,
              "#ed7953"
             ],
             [
              0.7777777777777778,
              "#fb9f3a"
             ],
             [
              0.8888888888888888,
              "#fdca26"
             ],
             [
              1,
              "#f0f921"
             ]
            ],
            "type": "heatmapgl"
           }
          ],
          "histogram": [
           {
            "marker": {
             "pattern": {
              "fillmode": "overlay",
              "size": 10,
              "solidity": 0.2
             }
            },
            "type": "histogram"
           }
          ],
          "histogram2d": [
           {
            "colorbar": {
             "outlinewidth": 0,
             "ticks": ""
            },
            "colorscale": [
             [
              0,
              "#0d0887"
             ],
             [
              0.1111111111111111,
              "#46039f"
             ],
             [
              0.2222222222222222,
              "#7201a8"
             ],
             [
              0.3333333333333333,
              "#9c179e"
             ],
             [
              0.4444444444444444,
              "#bd3786"
             ],
             [
              0.5555555555555556,
              "#d8576b"
             ],
             [
              0.6666666666666666,
              "#ed7953"
             ],
             [
              0.7777777777777778,
              "#fb9f3a"
             ],
             [
              0.8888888888888888,
              "#fdca26"
             ],
             [
              1,
              "#f0f921"
             ]
            ],
            "type": "histogram2d"
           }
          ],
          "histogram2dcontour": [
           {
            "colorbar": {
             "outlinewidth": 0,
             "ticks": ""
            },
            "colorscale": [
             [
              0,
              "#0d0887"
             ],
             [
              0.1111111111111111,
              "#46039f"
             ],
             [
              0.2222222222222222,
              "#7201a8"
             ],
             [
              0.3333333333333333,
              "#9c179e"
             ],
             [
              0.4444444444444444,
              "#bd3786"
             ],
             [
              0.5555555555555556,
              "#d8576b"
             ],
             [
              0.6666666666666666,
              "#ed7953"
             ],
             [
              0.7777777777777778,
              "#fb9f3a"
             ],
             [
              0.8888888888888888,
              "#fdca26"
             ],
             [
              1,
              "#f0f921"
             ]
            ],
            "type": "histogram2dcontour"
           }
          ],
          "mesh3d": [
           {
            "colorbar": {
             "outlinewidth": 0,
             "ticks": ""
            },
            "type": "mesh3d"
           }
          ],
          "parcoords": [
           {
            "line": {
             "colorbar": {
              "outlinewidth": 0,
              "ticks": ""
             }
            },
            "type": "parcoords"
           }
          ],
          "pie": [
           {
            "automargin": true,
            "type": "pie"
           }
          ],
          "scatter": [
           {
            "fillpattern": {
             "fillmode": "overlay",
             "size": 10,
             "solidity": 0.2
            },
            "type": "scatter"
           }
          ],
          "scatter3d": [
           {
            "line": {
             "colorbar": {
              "outlinewidth": 0,
              "ticks": ""
             }
            },
            "marker": {
             "colorbar": {
              "outlinewidth": 0,
              "ticks": ""
             }
            },
            "type": "scatter3d"
           }
          ],
          "scattercarpet": [
           {
            "marker": {
             "colorbar": {
              "outlinewidth": 0,
              "ticks": ""
             }
            },
            "type": "scattercarpet"
           }
          ],
          "scattergeo": [
           {
            "marker": {
             "colorbar": {
              "outlinewidth": 0,
              "ticks": ""
             }
            },
            "type": "scattergeo"
           }
          ],
          "scattergl": [
           {
            "marker": {
             "colorbar": {
              "outlinewidth": 0,
              "ticks": ""
             }
            },
            "type": "scattergl"
           }
          ],
          "scattermapbox": [
           {
            "marker": {
             "colorbar": {
              "outlinewidth": 0,
              "ticks": ""
             }
            },
            "type": "scattermapbox"
           }
          ],
          "scatterpolar": [
           {
            "marker": {
             "colorbar": {
              "outlinewidth": 0,
              "ticks": ""
             }
            },
            "type": "scatterpolar"
           }
          ],
          "scatterpolargl": [
           {
            "marker": {
             "colorbar": {
              "outlinewidth": 0,
              "ticks": ""
             }
            },
            "type": "scatterpolargl"
           }
          ],
          "scatterternary": [
           {
            "marker": {
             "colorbar": {
              "outlinewidth": 0,
              "ticks": ""
             }
            },
            "type": "scatterternary"
           }
          ],
          "surface": [
           {
            "colorbar": {
             "outlinewidth": 0,
             "ticks": ""
            },
            "colorscale": [
             [
              0,
              "#0d0887"
             ],
             [
              0.1111111111111111,
              "#46039f"
             ],
             [
              0.2222222222222222,
              "#7201a8"
             ],
             [
              0.3333333333333333,
              "#9c179e"
             ],
             [
              0.4444444444444444,
              "#bd3786"
             ],
             [
              0.5555555555555556,
              "#d8576b"
             ],
             [
              0.6666666666666666,
              "#ed7953"
             ],
             [
              0.7777777777777778,
              "#fb9f3a"
             ],
             [
              0.8888888888888888,
              "#fdca26"
             ],
             [
              1,
              "#f0f921"
             ]
            ],
            "type": "surface"
           }
          ],
          "table": [
           {
            "cells": {
             "fill": {
              "color": "#EBF0F8"
             },
             "line": {
              "color": "white"
             }
            },
            "header": {
             "fill": {
              "color": "#C8D4E3"
             },
             "line": {
              "color": "white"
             }
            },
            "type": "table"
           }
          ]
         },
         "layout": {
          "annotationdefaults": {
           "arrowcolor": "#2a3f5f",
           "arrowhead": 0,
           "arrowwidth": 1
          },
          "autotypenumbers": "strict",
          "coloraxis": {
           "colorbar": {
            "outlinewidth": 0,
            "ticks": ""
           }
          },
          "colorscale": {
           "diverging": [
            [
             0,
             "#8e0152"
            ],
            [
             0.1,
             "#c51b7d"
            ],
            [
             0.2,
             "#de77ae"
            ],
            [
             0.3,
             "#f1b6da"
            ],
            [
             0.4,
             "#fde0ef"
            ],
            [
             0.5,
             "#f7f7f7"
            ],
            [
             0.6,
             "#e6f5d0"
            ],
            [
             0.7,
             "#b8e186"
            ],
            [
             0.8,
             "#7fbc41"
            ],
            [
             0.9,
             "#4d9221"
            ],
            [
             1,
             "#276419"
            ]
           ],
           "sequential": [
            [
             0,
             "#0d0887"
            ],
            [
             0.1111111111111111,
             "#46039f"
            ],
            [
             0.2222222222222222,
             "#7201a8"
            ],
            [
             0.3333333333333333,
             "#9c179e"
            ],
            [
             0.4444444444444444,
             "#bd3786"
            ],
            [
             0.5555555555555556,
             "#d8576b"
            ],
            [
             0.6666666666666666,
             "#ed7953"
            ],
            [
             0.7777777777777778,
             "#fb9f3a"
            ],
            [
             0.8888888888888888,
             "#fdca26"
            ],
            [
             1,
             "#f0f921"
            ]
           ],
           "sequentialminus": [
            [
             0,
             "#0d0887"
            ],
            [
             0.1111111111111111,
             "#46039f"
            ],
            [
             0.2222222222222222,
             "#7201a8"
            ],
            [
             0.3333333333333333,
             "#9c179e"
            ],
            [
             0.4444444444444444,
             "#bd3786"
            ],
            [
             0.5555555555555556,
             "#d8576b"
            ],
            [
             0.6666666666666666,
             "#ed7953"
            ],
            [
             0.7777777777777778,
             "#fb9f3a"
            ],
            [
             0.8888888888888888,
             "#fdca26"
            ],
            [
             1,
             "#f0f921"
            ]
           ]
          },
          "colorway": [
           "#636efa",
           "#EF553B",
           "#00cc96",
           "#ab63fa",
           "#FFA15A",
           "#19d3f3",
           "#FF6692",
           "#B6E880",
           "#FF97FF",
           "#FECB52"
          ],
          "font": {
           "color": "#040404",
           "family": "Open Sans",
           "size": 15
          },
          "geo": {
           "bgcolor": "white",
           "lakecolor": "white",
           "landcolor": "#E5ECF6",
           "showlakes": true,
           "showland": true,
           "subunitcolor": "white"
          },
          "hoverlabel": {
           "align": "left"
          },
          "hovermode": "closest",
          "mapbox": {
           "style": "light"
          },
          "margin": {
           "b": 0
          },
          "paper_bgcolor": "white",
          "plot_bgcolor": "#E5ECF6",
          "polar": {
           "angularaxis": {
            "gridcolor": "white",
            "linecolor": "white",
            "ticks": ""
           },
           "bgcolor": "#E5ECF6",
           "radialaxis": {
            "gridcolor": "white",
            "linecolor": "white",
            "ticks": ""
           }
          },
          "scene": {
           "xaxis": {
            "backgroundcolor": "#E5ECF6",
            "gridcolor": "white",
            "gridwidth": 2,
            "linecolor": "white",
            "showbackground": true,
            "ticks": "",
            "zerolinecolor": "white"
           },
           "yaxis": {
            "backgroundcolor": "#E5ECF6",
            "gridcolor": "white",
            "gridwidth": 2,
            "linecolor": "white",
            "showbackground": true,
            "ticks": "",
            "zerolinecolor": "white"
           },
           "zaxis": {
            "backgroundcolor": "#E5ECF6",
            "gridcolor": "white",
            "gridwidth": 2,
            "linecolor": "white",
            "showbackground": true,
            "ticks": "",
            "zerolinecolor": "white"
           }
          },
          "shapedefaults": {
           "line": {
            "color": "#2a3f5f"
           }
          },
          "ternary": {
           "aaxis": {
            "gridcolor": "white",
            "linecolor": "white",
            "ticks": ""
           },
           "baxis": {
            "gridcolor": "white",
            "linecolor": "white",
            "ticks": ""
           },
           "bgcolor": "#E5ECF6",
           "caxis": {
            "gridcolor": "white",
            "linecolor": "white",
            "ticks": ""
           }
          },
          "title": {
           "font": {
            "color": "#040404",
            "family": "Open Sans"
           },
           "x": 0.05
          },
          "xaxis": {
           "automargin": true,
           "gridcolor": "white",
           "linecolor": "white",
           "ticks": "",
           "title": {
            "standoff": 15
           },
           "zerolinecolor": "white",
           "zerolinewidth": 2
          },
          "yaxis": {
           "automargin": true,
           "gridcolor": "white",
           "linecolor": "white",
           "ticks": "",
           "title": {
            "standoff": 15
           },
           "zerolinecolor": "white",
           "zerolinewidth": 2
          }
         }
        },
        "title": {
         "text": "Top 40 Community Score"
        },
        "width": 1000,
        "xaxis": {
         "anchor": "y",
         "domain": [
          0,
          1
         ],
         "range": [
          2.5,
          3
         ],
         "title": {
          "text": "Community Score"
         }
        },
        "yaxis": {
         "anchor": "x",
         "autorange": "reversed",
         "domain": [
          0,
          1
         ],
         "title": {}
        }
       }
      }
     },
     "metadata": {},
     "output_type": "display_data"
    }
   ],
   "source": [
    "df_community_score = df_active.nlargest(40, \"community\")\n",
    "\n",
    "fig = px.bar(\n",
    "    df_community_score,\n",
    "    x=df_community_score[\"community\"],\n",
    "    y=df_community_score[\"project_name\"],\n",
    "    orientation=\"h\",\n",
    "    range_x=(2.5, 3),\n",
    "    custom_data=[\"oneliner\",\"topic\",\"git_url\"],\n",
    "    color = df_community_score[\"development_distribution_score\"],\n",
    "    color_continuous_scale=color_continuous_scale\n",
    ")\n",
    "\n",
    "fig.update_layout(\n",
    "    height=1000,  # Added parameter\n",
    "    width=1000,\n",
    "    xaxis_title=\"Community Score\",\n",
    "    yaxis_title=None,\n",
    "    title=\"Top 40 Community Score\",\n",
    "    coloraxis_colorbar=dict(\n",
    "    title=\"DDS\",\n",
    "    ),   \n",
    "    hoverlabel=dict(\n",
    "    bgcolor=\"white\"\n",
    ")\n",
    ")\n",
    "fig.update(layout_showlegend=False)\n",
    "fig['layout'].update(margin=dict(l=200,r=0,b=0,t=40))\n",
    "\n",
    "fig.add_layout_image(\n",
    "    dict(\n",
    "        source=logo_img,\n",
    "        xref=\"paper\", yref=\"paper\",\n",
    "        x=1, y=0,\n",
    "        sizex=0.05, sizey=0.05,\n",
    "        xanchor=\"right\", yanchor=\"bottom\"\n",
    "    )\n",
    ")\n",
    "\n",
    "fig.update_traces(\n",
    "    hovertemplate=\"<br>\".join([\n",
    "        \"Project Info: <b>%{customdata[0]}</b>\",\n",
    "        \"Topic: <b>%{customdata[1]}</b>\",\n",
    "        \"Git URL: <b>%{customdata[2]}</b>\"\n",
    "    ])\n",
    ")\n",
    "fig['layout']['yaxis']['autorange'] = \"reversed\"\n",
    "fig.show()"
   ]
  },
  {
   "cell_type": "markdown",
   "metadata": {},
   "source": [
    "```{figure} data:image/gif;base64,R0lGODlhAQABAIAAAAAAAP///yH5BAEAAAAALAAAAAABAAEAAAIBRAA7\n",
    ":figclass: caption-hack\n",
    ":name: community-score\n",
    "\n",
    "The 40 Projects with the highest community score\n",
    "```"
   ]
  }
 ],
 "metadata": {
  "celltoolbar": "Tags",
  "kernelspec": {
   "display_name": "Python 3.8.10 64-bit",
   "language": "python",
   "name": "python3"
  },
  "language_info": {
   "codemirror_mode": {
    "name": "ipython",
    "version": 3
   },
   "file_extension": ".py",
   "mimetype": "text/x-python",
   "name": "python",
   "nbconvert_exporter": "python",
   "pygments_lexer": "ipython3",
   "version": "3.8.10"
  },
  "tags": "full-width",
  "vscode": {
   "interpreter": {
    "hash": "e7370f93d1d0cde622a1f8e1c04877d8463912d04d973331ad4851f04de6915a"
   }
  }
 },
 "nbformat": 4,
 "nbformat_minor": 4
}
