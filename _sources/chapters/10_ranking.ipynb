{
 "cells": [
  {
   "cell_type": "markdown",
   "metadata": {},
   "source": [
    "# Ranking\n",
    "\n",
    "Quantifying the state and health of a repository is challenging, but still feasible by combining different indicators. The state was divided into 3 indicator classes: **Size, Community and Activity.** \n",
    "Every indicator consists of the rank in relation to the other. This can be illustrated by the activity score. Each project is ranked according to the variables \"Total Commits Last Year\", \"Issues closed last Year\", \"Day Until last Issue closed\", and \"Last Release Data\" and then normalised by 1. The total score is the normalised sum of all scores. \n",
    "\n",
    "Ranking all projects by the total score gives a much deeper understanding of the ecosystem. Larger developments like [EnergyPlus](https://github.com/NREL/EnergyPlus) are suddenly making up for lost ground at the top. Instead of using Stars this ranking unveils the strong but rather unpopular developments. However, more monolithic software developments have a higher probability of achieving a high score. The ranking between the individual developments creates the danger that small projects that rely more on modular development will be significantly underrepresented. \n",
    "\n",
    "The real value of such health analytics comes into play when the data is compared with usage data. Unfortunately, this data is currently only available to a limited extent via Python dependents.\n"
   ]
  },
  {
   "cell_type": "code",
   "execution_count": 1,
   "metadata": {
    "tags": [
     "remove-cell"
    ]
   },
   "outputs": [],
   "source": [
    "import numpy as np\n",
    "import pandas as pd\n",
    "import plotly.io as pio\n",
    "import plotly.graph_objects as go\n",
    "import plotly.express as px\n",
    "from opensustain_template import *"
   ]
  },
  {
   "cell_type": "code",
   "execution_count": 2,
   "metadata": {
    "tags": [
     "remove-cell"
    ]
   },
   "outputs": [],
   "source": [
    "df_active = pd.read_csv(\"../csv/project_analysis.csv\")"
   ]
  },
  {
   "cell_type": "code",
   "execution_count": 3,
   "metadata": {
    "tags": [
     "full-width",
     "remove-input"
    ]
   },
   "outputs": [
    {
     "data": {
      "application/vnd.plotly.v1+json": {
       "config": {
        "plotlyServerURL": "https://plot.ly"
       },
       "data": [
        {
         "alignmentgroup": "True",
         "customdata": [
          [
           "A whole building energy simulation program that engineers, architects, and researchers use to model both energy consumption and water usage in buildings.",
           "Buildings and Heating",
           "https://github.com/NREL/EnergyPlus.git"
          ],
          [
           "A cross-platform collection of software tools to support whole building energy modeling using EnergyPlus and advanced daylight analysis using Radiance.",
           "Buildings and Heating",
           "https://github.com/NREL/OpenStudio.git"
          ],
          [
           "A collaborative website for better access to data and models in the hydrologic sciences.",
           "Hydrosphere",
           "https://github.com/hydroshare/hydroshare.git"
          ],
          [
           "A set of toolkits that together provide a system for issuance and management of Energy Attribute Certificates.",
           "Energy Distribution and Grids",
           "https://github.com/energywebfoundation/origin.git"
          ],
          [
           "The Unidata network Common Data Form (netCDF) in C is an interface for scientific data access and a set of freely-distributed software libraries that provide an implementation of the interface.",
           "Climate Data Processing and Access",
           "https://github.com/Unidata/netcdf-c.git"
          ],
          [
           "The Predictive Ecosystem Analyzer is an integrated ecological bioinformatics toolbox.",
           "Biosphere",
           "https://github.com/PecanProject/pecan.git"
          ],
          [
           "A community diagnostic and performance metrics tool for routine evaluation of Earth system models in World Climate Research Programme.",
           "Earth and Climate Modeling",
           "https://github.com/ESMValGroup/ESMValTool.git"
          ],
          [
           "A powerful, format-agnostic, community-driven Python package for analyzing and visualizing Earth science data.",
           "Hydrosphere",
           "https://github.com/SciTools/iris.git"
          ],
          [
           "An open, generic, scalable and independent 'Internet of Things' platform, which enables various connected smart objects in the public space to be easily controlled and monitored.",
           "Energy Distribution and Grids",
           "https://github.com/OSGP/open-smart-grid-platform.git"
          ],
          [
           "An online marketplace for local food. It enables a network of independent online food stores that connects farmers and food hubs with individuals and local businesses.",
           "Agriculture and Nutrition",
           "https://github.com/openfoodfoundation/openfoodnetwork.git"
          ],
          [
           "Fast and friendly fluid dynamics on CPUs and GPUs.",
           "Hydrosphere",
           "https://github.com/CliMA/Oceananigans.jl.git"
          ],
          [
           "A state-of-the-art fully coupled model of the Earth's climate including important biogeochemical and cryospheric processes.",
           "Earth and Climate Modeling",
           "https://github.com/E3SM-Project/E3SM.git"
          ],
          [
           "An open source framework written in Java, that makes it easy to write complex software for power systems simulations and analysis.",
           "Energy Modeling and Optimization",
           "https://github.com/powsybl/powsybl-core.git"
          ],
          [
           "Aims to provide multi-scale, simulation-based, open source computational tools and models to support the design, analysis, optimization, scale-up, operation and troubleshooting of innovative, advanced energy systems.",
           "Energy Modeling and Optimization",
           "https://github.com/IDAES/idaes-pse.git"
          ],
          [
           "A real-time visualization of the CO2 emissions from electricity consumption.",
           "Carbon Intensity and Accounting",
           "https://github.com/electricitymaps/electricitymaps-contrib.git"
          ],
          [
           "A global atmosphere model targeted towards 3 km (\"cloud resolving\") resolution.",
           "Atmosphere",
           "https://github.com/E3SM-Project/scream.git"
          ],
          [
           "Standard Energy Efficiency Data Platform™ is a web-based application that helps organizations easily manage data on the energy performance of large groups of buildings.",
           "Buildings and Heating",
           "https://github.com/SEED-platform/seed.git"
          ],
          [
           "A software framework for supporting the efficient development, construction, execution, and scientific interpretation of atmospheric, oceanic, and climate system models.",
           "Earth and Climate Modeling",
           "https://github.com/NOAA-GFDL/FMS.git"
          ],
          [
           "Fast and flexible physics-based battery models in Python.",
           "Battery",
           "https://github.com/pybamm-team/PyBaMM.git"
          ],
          [
           "A simulation framework for modeling coupled flow, transport, and geomechanics in the subsurface.",
           "Carbon Capture and Removel",
           "https://github.com/GEOSX/GEOSX.git"
          ],
          [
           "An open source Modelica-based modeling and simulation environment intended for industrial and academic usage.",
           "Production and Industry",
           "https://github.com/OpenModelica/OpenModelica.git"
          ],
          [
           "A domain ontology of the energy-system modeling context.",
           "Energy Modeling and Optimization",
           "https://github.com/OpenEnergyPlatform/ontology.git"
          ],
          [
           "A state-of-the-art atmospheric modeling system designed for both meteorological research and numerical weather prediction.",
           "Earth and Climate Modeling",
           "https://github.com/wrf-model/WRF.git"
          ],
          [
           "Global Superstructure/Workflow currently supporting the Finite-Volume on a Cubed-Sphere Global Forecast System.",
           "Earth and Climate Modeling",
           "https://github.com/NOAA-EMC/global-workflow.git"
          ],
          [
           "Professional interface of the Energy Transition model.",
           "Energy Distribution and Grids",
           "https://github.com/quintel/etmodel.git"
          ],
          [
           "A modular open source multi-regional model incorporating the economy, the climate system and a detailed representation of the energy sector.",
           "Sustainable Investment",
           "https://github.com/remindmodel/remind.git"
          ],
          [
           "The Common Community Physics Package is designed to facilitate the implementation of physics innovations in state-of-the-art atmospheric models, the use of various models to develop physics, and the acceleration of transition of physics innovations to operational NOAA models.",
           "Hydrosphere",
           "https://github.com/NCAR/ccpp-physics.git"
          ],
          [
           "A tool to estimate energy use (kilowatt-hours) and carbon emissions (metric tons CO2e) from public cloud usage.",
           "Computation and Communication",
           "https://github.com/cloud-carbon-footprint/cloud-carbon-footprint.git"
          ],
          [
           "An interface to download and deploy interconnected, grid-aware energy marketplaces.",
           "Energy Distribution and Grids",
           "https://github.com/gridsingularity/gsy-e.git"
          ],
          [
           "Providing a structured database of claims regarding ecological state and change of state.",
           "Knowledge Platforms",
           "https://github.com/regen-network/regen-ledger.git"
          ],
          [
           "Open Food Facts is a collaborative, free and open database of food products from around the world.",
           "Agriculture and Nutrition",
           "https://github.com/openfoodfacts/openfoodfacts-server.git"
          ],
          [
           "A library of derived climate variables, i.e. climate indicators, based on xarray.",
           "Climate Data Processing and Access",
           "https://github.com/Ouranosinc/xclim.git"
          ],
          [
           "Model of Agricultural Production and its Impact on the Environment.",
           "Agriculture and Nutrition",
           "https://github.com/magpiemodel/magpie.git"
          ],
          [
           "An open source web API, initially built to provide traveler information on urban transportation networks.",
           "Mobility and Transportation",
           "https://github.com/hove-io/navitia.git"
          ],
          [
           "A modular, extensible, industrial-strength and field-tested platform for use in electricity, water and other utility operations.",
           "Energy Monitoring and Control",
           "https://github.com/opfab/operatorfabric-core.git"
          ],
          [
           "Today the core uses are in the energy domain, where there is extensive and growing support for a wide-range of electric power system, natural gas, communications and control-schemes, transportation, buildings, and related domain tools.",
           "Energy Modeling and Optimization",
           "https://github.com/GMLC-TDC/HELICS.git"
          ],
          [
           "A set of documented functions for simulating the performance of photovoltaic energy systems.",
           "Photovoltaics and Solar Energy",
           "https://github.com/pvlib/pvlib-python.git"
          ],
          [
           "An integrated web-based workbench for taxonomists and biodiversity scientists.",
           "Biosphere",
           "https://github.com/SpeciesFileGroup/taxonworks.git"
          ],
          [
           "A multi-physics, multi-fidelity tool for simulating the coupled dynamic response of wind turbines and wind farms.",
           "Wind Energy",
           "https://github.com/OpenFAST/openfast.git"
          ],
          [
           "A collaboration server to plan atmospheric research flights.",
           "Atmosphere",
           "https://github.com/Open-MSS/MSS.git"
          ]
         ],
         "hoverlabel": {
          "namelength": 0
         },
         "hovertemplate": "Project Info: <b>%{customdata[0]}</b><br>Topic: <b>%{customdata[1]}</b><br>Git URL: <b>%{customdata[2]}</b>",
         "legendgroup": "",
         "marker": {
          "color": [
           0.8557953408603687,
           0.7263712214471345,
           0.7481049054631002,
           0.7071129707112971,
           0.6754057428214731,
           0.8638583638583639,
           0.8355420090113967,
           0.8637803590285111,
           0.8535322777101096,
           0.857922954725973,
           0.6231042271700549,
           0.8774051285699043,
           0.7677584006805614,
           0.7442307692307693,
           0.5590631364562118,
           0.8919941420551623,
           0.7676632455748922,
           0.8198830409356725,
           0.5718423372371237,
           0.5811590222466355,
           0.7481946510868382,
           0.6768342951360264,
           0.6445086705202312,
           0.726109556177529,
           0.7006305531670967,
           0.7894959762812368,
           0.6904149834741095,
           0.8300304878048781,
           0.7478344562078922,
           0.7323767935121647,
           0.3518679711709203,
           0.6206239580852584,
           0.7343799058084772,
           0.8587618403247632,
           0.7969543147208122,
           0.5661462612982744,
           0.4787922358015816,
           0.6788910077746809,
           0.6067090803932909,
           0.6028751123090745
          ],
          "coloraxis": "coloraxis"
         },
         "name": "",
         "offsetgroup": "",
         "orientation": "h",
         "showlegend": false,
         "textposition": "auto",
         "type": "bar",
         "x": [
          0.9516962816429512,
          0.9296530221905632,
          0.9260467711704186,
          0.9165769370611336,
          0.9117073917151672,
          0.910890979506534,
          0.907563121849728,
          0.9054781652659096,
          0.9045129032113044,
          0.9031917925072414,
          0.9028847359472706,
          0.9014815887102786,
          0.8939312640397862,
          0.8924496260904821,
          0.8922878824965861,
          0.8917071139724927,
          0.8894847326667715,
          0.8890701933071748,
          0.8875184996482242,
          0.8841115103782208,
          0.8825349613987928,
          0.8815509446228479,
          0.8791910092854359,
          0.8779403731865015,
          0.8762413835113514,
          0.871662312229493,
          0.8701746266322322,
          0.8694343950431156,
          0.8684565975646308,
          0.8667931401243383,
          0.8666277376860951,
          0.8665353356811055,
          0.8632775655025317,
          0.8626723903264749,
          0.8619032142206596,
          0.8615204842494805,
          0.8608844820262734,
          0.8580534343649121,
          0.853202688298463,
          0.8514763026991181
         ],
         "xaxis": "x",
         "y": [
          "<a href=\"https://github.com/NREL/EnergyPlus.git\">EnergyPlus</a>",
          "<a href=\"https://github.com/NREL/OpenStudio.git\">OpenStudio</a>",
          "<a href=\"https://github.com/hydroshare/hydroshare.git\">HydroShare</a>",
          "<a href=\"https://github.com/energywebfoundation/origin.git\">origin</a>",
          "<a href=\"https://github.com/Unidata/netcdf-c.git\">netcdf-c</a>",
          "<a href=\"https://github.com/PecanProject/pecan.git\">PEcAn</a>",
          "<a href=\"https://github.com/ESMValGroup/ESMValTool.git\">ESMValTool</a>",
          "<a href=\"https://github.com/SciTools/iris.git\">Iris</a>",
          "<a href=\"https://github.com/OSGP/open-smart-grid-platform.git\">Open Smart Grid Platform</a>",
          "<a href=\"https://github.com/openfoodfoundation/openfoodnetwork.git\">openfoodnetwork</a>",
          "<a href=\"https://github.com/CliMA/Oceananigans.jl.git\">Oceananigans.jl</a>",
          "<a href=\"https://github.com/E3SM-Project/E3SM.git\">E3SM</a>",
          "<a href=\"https://github.com/powsybl/powsybl-core.git\">PowSyBl</a>",
          "<a href=\"https://github.com/IDAES/idaes-pse.git\">The IDAES Toolkit</a>",
          "<a href=\"https://github.com/electricitymaps/electricitymaps-contrib.git\">Electricity Maps</a>",
          "<a href=\"https://github.com/E3SM-Project/scream.git\">SCREAM</a>",
          "<a href=\"https://github.com/SEED-platform/seed.git\">SEED</a>",
          "<a href=\"https://github.com/NOAA-GFDL/FMS.git\">The Flexible Modeling System</a>",
          "<a href=\"https://github.com/pybamm-team/PyBaMM.git\">PyBaMM</a>",
          "<a href=\"https://github.com/GEOSX/GEOSX.git\">GEOSX</a>",
          "<a href=\"https://github.com/OpenModelica/OpenModelica.git\">OpenModelica</a>",
          "<a href=\"https://github.com/OpenEnergyPlatform/ontology.git\">The Open Energy Ontology</a>",
          "<a href=\"https://github.com/wrf-model/WRF.git\">WRF</a>",
          "<a href=\"https://github.com/NOAA-EMC/global-workflow.git\">global-workflow</a>",
          "<a href=\"https://github.com/quintel/etmodel.git\">ETM Pro</a>",
          "<a href=\"https://github.com/remindmodel/remind.git\">The REgional Model of INvestments and Development</a>",
          "<a href=\"https://github.com/NCAR/ccpp-physics.git\">ccpp-physics</a>",
          "<a href=\"https://github.com/cloud-carbon-footprint/cloud-carbon-footprint.git\">Cloud Carbon Footprint</a>",
          "<a href=\"https://github.com/gridsingularity/gsy-e.git\">Grid Singularity Energy Exchange Engine (D3A)</a>",
          "<a href=\"https://github.com/regen-network/regen-ledger.git\">Regen Ledger</a>",
          "<a href=\"https://github.com/openfoodfacts/openfoodfacts-server.git\">openfoodfacts-server</a>",
          "<a href=\"https://github.com/Ouranosinc/xclim.git\">xclim</a>",
          "<a href=\"https://github.com/magpiemodel/magpie.git\">MAgPIE</a>",
          "<a href=\"https://github.com/hove-io/navitia.git\">navitia</a>",
          "<a href=\"https://github.com/opfab/operatorfabric-core.git\">OperatorFabric</a>",
          "<a href=\"https://github.com/GMLC-TDC/HELICS.git\">Hierarchical Engine for Large-scale Infrastructure Co-Simulation</a>",
          "<a href=\"https://github.com/pvlib/pvlib-python.git\">pvlib-python</a>",
          "<a href=\"https://github.com/SpeciesFileGroup/taxonworks.git\">TaxonWorks</a>",
          "<a href=\"https://github.com/OpenFAST/openfast.git\">openfast</a>",
          "<a href=\"https://github.com/Open-MSS/MSS.git\">Mission Support System</a>"
         ],
         "yaxis": "y"
        }
       ],
       "layout": {
        "barmode": "relative",
        "coloraxis": {
         "colorbar": {
          "title": {
           "text": "DDS"
          }
         },
         "colorscale": [
          [
           0,
           "rgb(237, 239, 93)"
          ],
          [
           0.16666666666666666,
           "rgb(169, 220, 103)"
          ],
          [
           0.3333333333333333,
           "rgb(110, 197, 116)"
          ],
          [
           0.5,
           "rgb(57, 171, 126)"
          ],
          [
           0.6666666666666666,
           "rgb(13, 143, 129)"
          ],
          [
           0.8333333333333334,
           "rgb(15, 114, 121)"
          ],
          [
           1,
           "rgb(36, 86, 104)"
          ]
         ]
        },
        "height": 1000,
        "hoverlabel": {
         "bgcolor": "white"
        },
        "images": [
         {
          "sizex": 0.05,
          "sizey": 0.05,
          "source": "data:image/png;base64,iVBORw0KGgoAAAANSUhEUgAAADwAAAA8CAYAAAA6/NlyAAAD20lEQVR4nO2ZTWgcZRjHf8/spjWkFYmKmbR+oVKaCPbQU8i2tCBqEbrU7LIJVhG0PVWQih4UehAVQVAkAQ/qRW1WdhPrB+pJ1DQF6aEnQ0WqqCQbhfpFW6nJzOMhBgQ3u+/MvPORmP91n/n/nx/v7DvPvCOqyv9JTtoNJK114LWufBIh5TIbZj3uQLldhJtV2CJwlfrkpicpJtHDsmIDHtzPZjo4gM8IQkGgE1n6Tf7ZJ0W4HFf+SrIOvLvI9YsORyXPwyhdy5BZkTXgwf1s1jzHJMejAh22fG3LCnDhAHeT53WBXht+cSoS8J495Beu5nmEo5C1m7e5QgPv28fGxW7eQhmy2VDcCgV81wN0XezkE2DQcj+xKzDwzsN0XHGJGqsQFkJMWp3nGUO5J45mklCgFS7cx0GFRyzk/izCT6p8Z8ErkMT09XCgzBZnkRmEK0NmTaswicd70+9yLqRHZBmvcM7jZQ0He1qEZ6bqfBDiWusyWuGBEgOOz3RAb1+Ep05O8IIqmTllMFphR3k6oO8FUYanJvgwRE+xqu0K7yrT53t8FcDTE6U4NZk9WDB4LKnHg0EMVXgiq7DQBlgEAUYC+H15aoKXorUUr1oCF0psV9hqaibK41naoJqpJbDvs9fYSflsapKTkTuKWa3/w8oOUyOBetRmklC7TWuboY86Pu9HbSYJtQO+0dDn/Ocn+DFqM0mo9S6N8Sg5Z6GXRNRy0lIYUyHXzkSUb+y1FK+M35bWitY/tSQhaVQvAxvaV+oX6g7vtpmd1gpfMCsT13ZwWsC/GdZZP9hPCVi/NSzsktnjO2wmpwOs8rVxrThFm9HpADt62rhWGBKLn3HSAfbl0wDV/cxVy7aiUxs8pFGdAbYblp/j11yf9pX+ipqb5uBxPEDtLXT7L9oITRHYfxPwjMtVj0jjnUNRU1MDVnfkeyTooYGOSmP8cJTcdGfpRX0OAp2BdYC8KnPVUZmpGYym/1Xqb0syP/4GKg+FuPQHkGdxz76mHPON89IHrl2LemeB7nAOOoNSBzmhvZUzbfPSBgaQ+eoQSs2C1Z8IsygNdSu7mhVk4n1Yeyp1lDELVp0otwKFlQoyAQxA7x+PAR/HHZMZYOXQAs5CCTgVZ05mgAH0uoMXYdOdIB/FlZEpYAB1772E+3sRYTQO/8wBw9LtrT2VIwgl4Beb3pkEXpb2VOp4uduAVwDj4aKVMvEcNpHMj/ej8iQwjMFpq7qVpocGqwZ4WdKo3QDe/Sx9qO9fqW7NAP9bMvv2VnL5vcBOVLcBNwHXAJvUrWxses1qBg6jTG9acWgdeK3rb5uuGEmTzESgAAAAAElFTkSuQmCC",
          "x": 1,
          "xanchor": "right",
          "xref": "paper",
          "y": 1,
          "yanchor": "top",
          "yref": "paper"
         }
        ],
        "legend": {
         "tracegroupgap": 0
        },
        "margin": {
         "b": 0,
         "l": 200,
         "r": 0,
         "t": 40
        },
        "showlegend": false,
        "template": {
         "data": {
          "bar": [
           {
            "error_x": {
             "color": "#2a3f5f"
            },
            "error_y": {
             "color": "#2a3f5f"
            },
            "marker": {
             "line": {
              "color": "#E5ECF6",
              "width": 0.5
             }
            },
            "type": "bar"
           }
          ],
          "barpolar": [
           {
            "marker": {
             "line": {
              "color": "#E5ECF6",
              "width": 0.5
             }
            },
            "type": "barpolar"
           }
          ],
          "carpet": [
           {
            "aaxis": {
             "endlinecolor": "#2a3f5f",
             "gridcolor": "white",
             "linecolor": "white",
             "minorgridcolor": "white",
             "startlinecolor": "#2a3f5f"
            },
            "baxis": {
             "endlinecolor": "#2a3f5f",
             "gridcolor": "white",
             "linecolor": "white",
             "minorgridcolor": "white",
             "startlinecolor": "#2a3f5f"
            },
            "type": "carpet"
           }
          ],
          "choropleth": [
           {
            "colorbar": {
             "outlinewidth": 0,
             "ticks": ""
            },
            "type": "choropleth"
           }
          ],
          "contour": [
           {
            "colorbar": {
             "outlinewidth": 0,
             "ticks": ""
            },
            "colorscale": [
             [
              0,
              "#0d0887"
             ],
             [
              0.1111111111111111,
              "#46039f"
             ],
             [
              0.2222222222222222,
              "#7201a8"
             ],
             [
              0.3333333333333333,
              "#9c179e"
             ],
             [
              0.4444444444444444,
              "#bd3786"
             ],
             [
              0.5555555555555556,
              "#d8576b"
             ],
             [
              0.6666666666666666,
              "#ed7953"
             ],
             [
              0.7777777777777778,
              "#fb9f3a"
             ],
             [
              0.8888888888888888,
              "#fdca26"
             ],
             [
              1,
              "#f0f921"
             ]
            ],
            "type": "contour"
           }
          ],
          "contourcarpet": [
           {
            "colorbar": {
             "outlinewidth": 0,
             "ticks": ""
            },
            "type": "contourcarpet"
           }
          ],
          "heatmap": [
           {
            "colorbar": {
             "outlinewidth": 0,
             "ticks": ""
            },
            "colorscale": [
             [
              0,
              "#0d0887"
             ],
             [
              0.1111111111111111,
              "#46039f"
             ],
             [
              0.2222222222222222,
              "#7201a8"
             ],
             [
              0.3333333333333333,
              "#9c179e"
             ],
             [
              0.4444444444444444,
              "#bd3786"
             ],
             [
              0.5555555555555556,
              "#d8576b"
             ],
             [
              0.6666666666666666,
              "#ed7953"
             ],
             [
              0.7777777777777778,
              "#fb9f3a"
             ],
             [
              0.8888888888888888,
              "#fdca26"
             ],
             [
              1,
              "#f0f921"
             ]
            ],
            "type": "heatmap"
           }
          ],
          "heatmapgl": [
           {
            "colorbar": {
             "outlinewidth": 0,
             "ticks": ""
            },
            "colorscale": [
             [
              0,
              "#0d0887"
             ],
             [
              0.1111111111111111,
              "#46039f"
             ],
             [
              0.2222222222222222,
              "#7201a8"
             ],
             [
              0.3333333333333333,
              "#9c179e"
             ],
             [
              0.4444444444444444,
              "#bd3786"
             ],
             [
              0.5555555555555556,
              "#d8576b"
             ],
             [
              0.6666666666666666,
              "#ed7953"
             ],
             [
              0.7777777777777778,
              "#fb9f3a"
             ],
             [
              0.8888888888888888,
              "#fdca26"
             ],
             [
              1,
              "#f0f921"
             ]
            ],
            "type": "heatmapgl"
           }
          ],
          "histogram": [
           {
            "marker": {
             "colorbar": {
              "outlinewidth": 0,
              "ticks": ""
             }
            },
            "type": "histogram"
           }
          ],
          "histogram2d": [
           {
            "colorbar": {
             "outlinewidth": 0,
             "ticks": ""
            },
            "colorscale": [
             [
              0,
              "#0d0887"
             ],
             [
              0.1111111111111111,
              "#46039f"
             ],
             [
              0.2222222222222222,
              "#7201a8"
             ],
             [
              0.3333333333333333,
              "#9c179e"
             ],
             [
              0.4444444444444444,
              "#bd3786"
             ],
             [
              0.5555555555555556,
              "#d8576b"
             ],
             [
              0.6666666666666666,
              "#ed7953"
             ],
             [
              0.7777777777777778,
              "#fb9f3a"
             ],
             [
              0.8888888888888888,
              "#fdca26"
             ],
             [
              1,
              "#f0f921"
             ]
            ],
            "type": "histogram2d"
           }
          ],
          "histogram2dcontour": [
           {
            "colorbar": {
             "outlinewidth": 0,
             "ticks": ""
            },
            "colorscale": [
             [
              0,
              "#0d0887"
             ],
             [
              0.1111111111111111,
              "#46039f"
             ],
             [
              0.2222222222222222,
              "#7201a8"
             ],
             [
              0.3333333333333333,
              "#9c179e"
             ],
             [
              0.4444444444444444,
              "#bd3786"
             ],
             [
              0.5555555555555556,
              "#d8576b"
             ],
             [
              0.6666666666666666,
              "#ed7953"
             ],
             [
              0.7777777777777778,
              "#fb9f3a"
             ],
             [
              0.8888888888888888,
              "#fdca26"
             ],
             [
              1,
              "#f0f921"
             ]
            ],
            "type": "histogram2dcontour"
           }
          ],
          "mesh3d": [
           {
            "colorbar": {
             "outlinewidth": 0,
             "ticks": ""
            },
            "type": "mesh3d"
           }
          ],
          "parcoords": [
           {
            "line": {
             "colorbar": {
              "outlinewidth": 0,
              "ticks": ""
             }
            },
            "type": "parcoords"
           }
          ],
          "pie": [
           {
            "automargin": true,
            "type": "pie"
           }
          ],
          "scatter": [
           {
            "marker": {
             "colorbar": {
              "outlinewidth": 0,
              "ticks": ""
             }
            },
            "type": "scatter"
           }
          ],
          "scatter3d": [
           {
            "line": {
             "colorbar": {
              "outlinewidth": 0,
              "ticks": ""
             }
            },
            "marker": {
             "colorbar": {
              "outlinewidth": 0,
              "ticks": ""
             }
            },
            "type": "scatter3d"
           }
          ],
          "scattercarpet": [
           {
            "marker": {
             "colorbar": {
              "outlinewidth": 0,
              "ticks": ""
             }
            },
            "type": "scattercarpet"
           }
          ],
          "scattergeo": [
           {
            "marker": {
             "colorbar": {
              "outlinewidth": 0,
              "ticks": ""
             }
            },
            "type": "scattergeo"
           }
          ],
          "scattergl": [
           {
            "marker": {
             "colorbar": {
              "outlinewidth": 0,
              "ticks": ""
             }
            },
            "type": "scattergl"
           }
          ],
          "scattermapbox": [
           {
            "marker": {
             "colorbar": {
              "outlinewidth": 0,
              "ticks": ""
             }
            },
            "type": "scattermapbox"
           }
          ],
          "scatterpolar": [
           {
            "marker": {
             "colorbar": {
              "outlinewidth": 0,
              "ticks": ""
             }
            },
            "type": "scatterpolar"
           }
          ],
          "scatterpolargl": [
           {
            "marker": {
             "colorbar": {
              "outlinewidth": 0,
              "ticks": ""
             }
            },
            "type": "scatterpolargl"
           }
          ],
          "scatterternary": [
           {
            "marker": {
             "colorbar": {
              "outlinewidth": 0,
              "ticks": ""
             }
            },
            "type": "scatterternary"
           }
          ],
          "surface": [
           {
            "colorbar": {
             "outlinewidth": 0,
             "ticks": ""
            },
            "colorscale": [
             [
              0,
              "#0d0887"
             ],
             [
              0.1111111111111111,
              "#46039f"
             ],
             [
              0.2222222222222222,
              "#7201a8"
             ],
             [
              0.3333333333333333,
              "#9c179e"
             ],
             [
              0.4444444444444444,
              "#bd3786"
             ],
             [
              0.5555555555555556,
              "#d8576b"
             ],
             [
              0.6666666666666666,
              "#ed7953"
             ],
             [
              0.7777777777777778,
              "#fb9f3a"
             ],
             [
              0.8888888888888888,
              "#fdca26"
             ],
             [
              1,
              "#f0f921"
             ]
            ],
            "type": "surface"
           }
          ],
          "table": [
           {
            "cells": {
             "fill": {
              "color": "#EBF0F8"
             },
             "line": {
              "color": "white"
             }
            },
            "header": {
             "fill": {
              "color": "#C8D4E3"
             },
             "line": {
              "color": "white"
             }
            },
            "type": "table"
           }
          ]
         },
         "layout": {
          "annotationdefaults": {
           "arrowcolor": "#2a3f5f",
           "arrowhead": 0,
           "arrowwidth": 1
          },
          "coloraxis": {
           "colorbar": {
            "outlinewidth": 0,
            "ticks": ""
           }
          },
          "colorscale": {
           "diverging": [
            [
             0,
             "#8e0152"
            ],
            [
             0.1,
             "#c51b7d"
            ],
            [
             0.2,
             "#de77ae"
            ],
            [
             0.3,
             "#f1b6da"
            ],
            [
             0.4,
             "#fde0ef"
            ],
            [
             0.5,
             "#f7f7f7"
            ],
            [
             0.6,
             "#e6f5d0"
            ],
            [
             0.7,
             "#b8e186"
            ],
            [
             0.8,
             "#7fbc41"
            ],
            [
             0.9,
             "#4d9221"
            ],
            [
             1,
             "#276419"
            ]
           ],
           "sequential": [
            [
             0,
             "#0d0887"
            ],
            [
             0.1111111111111111,
             "#46039f"
            ],
            [
             0.2222222222222222,
             "#7201a8"
            ],
            [
             0.3333333333333333,
             "#9c179e"
            ],
            [
             0.4444444444444444,
             "#bd3786"
            ],
            [
             0.5555555555555556,
             "#d8576b"
            ],
            [
             0.6666666666666666,
             "#ed7953"
            ],
            [
             0.7777777777777778,
             "#fb9f3a"
            ],
            [
             0.8888888888888888,
             "#fdca26"
            ],
            [
             1,
             "#f0f921"
            ]
           ],
           "sequentialminus": [
            [
             0,
             "#0d0887"
            ],
            [
             0.1111111111111111,
             "#46039f"
            ],
            [
             0.2222222222222222,
             "#7201a8"
            ],
            [
             0.3333333333333333,
             "#9c179e"
            ],
            [
             0.4444444444444444,
             "#bd3786"
            ],
            [
             0.5555555555555556,
             "#d8576b"
            ],
            [
             0.6666666666666666,
             "#ed7953"
            ],
            [
             0.7777777777777778,
             "#fb9f3a"
            ],
            [
             0.8888888888888888,
             "#fdca26"
            ],
            [
             1,
             "#f0f921"
            ]
           ]
          },
          "colorway": [
           "#636efa",
           "#EF553B",
           "#00cc96",
           "#ab63fa",
           "#FFA15A",
           "#19d3f3",
           "#FF6692",
           "#B6E880",
           "#FF97FF",
           "#FECB52"
          ],
          "font": {
           "color": "#040404",
           "family": "Open Sans",
           "size": 15
          },
          "geo": {
           "bgcolor": "white",
           "lakecolor": "white",
           "landcolor": "#E5ECF6",
           "showlakes": true,
           "showland": true,
           "subunitcolor": "white"
          },
          "hoverlabel": {
           "align": "left"
          },
          "hovermode": "closest",
          "mapbox": {
           "style": "light"
          },
          "margin": {
           "b": 0
          },
          "paper_bgcolor": "white",
          "plot_bgcolor": "#E5ECF6",
          "polar": {
           "angularaxis": {
            "gridcolor": "white",
            "linecolor": "white",
            "ticks": ""
           },
           "bgcolor": "#E5ECF6",
           "radialaxis": {
            "gridcolor": "white",
            "linecolor": "white",
            "ticks": ""
           }
          },
          "scene": {
           "xaxis": {
            "backgroundcolor": "#E5ECF6",
            "gridcolor": "white",
            "gridwidth": 2,
            "linecolor": "white",
            "showbackground": true,
            "ticks": "",
            "zerolinecolor": "white"
           },
           "yaxis": {
            "backgroundcolor": "#E5ECF6",
            "gridcolor": "white",
            "gridwidth": 2,
            "linecolor": "white",
            "showbackground": true,
            "ticks": "",
            "zerolinecolor": "white"
           },
           "zaxis": {
            "backgroundcolor": "#E5ECF6",
            "gridcolor": "white",
            "gridwidth": 2,
            "linecolor": "white",
            "showbackground": true,
            "ticks": "",
            "zerolinecolor": "white"
           }
          },
          "shapedefaults": {
           "line": {
            "color": "#2a3f5f"
           }
          },
          "ternary": {
           "aaxis": {
            "gridcolor": "white",
            "linecolor": "white",
            "ticks": ""
           },
           "baxis": {
            "gridcolor": "white",
            "linecolor": "white",
            "ticks": ""
           },
           "bgcolor": "#E5ECF6",
           "caxis": {
            "gridcolor": "white",
            "linecolor": "white",
            "ticks": ""
           }
          },
          "title": {
           "font": {
            "color": "#040404",
            "family": "Open Sans"
           },
           "x": 0.05
          },
          "xaxis": {
           "automargin": true,
           "gridcolor": "white",
           "linecolor": "white",
           "ticks": "",
           "title": {
            "standoff": 15
           },
           "zerolinecolor": "white",
           "zerolinewidth": 2
          },
          "yaxis": {
           "automargin": true,
           "gridcolor": "white",
           "linecolor": "white",
           "ticks": "",
           "title": {
            "standoff": 15
           },
           "zerolinecolor": "white",
           "zerolinewidth": 2
          }
         }
        },
        "title": {
         "text": "Top Total Score"
        },
        "xaxis": {
         "anchor": "y",
         "domain": [
          0,
          1
         ],
         "range": [
          0.85,
          1
         ],
         "title": {
          "text": "Total Score"
         }
        },
        "yaxis": {
         "anchor": "x",
         "domain": [
          0,
          1
         ],
         "title": {}
        }
       }
      }
     },
     "metadata": {},
     "output_type": "display_data"
    }
   ],
   "source": [
    "df_total_score = df_active.nlargest(40, \"total_score\")\n",
    "\n",
    "fig = px.bar(\n",
    "    df_total_score,\n",
    "    x=df_total_score[\"total_score\"],\n",
    "    y=df_total_score[\"project_name\"],\n",
    "    orientation=\"h\",\n",
    "    range_x=(0.85, 1),\n",
    "    custom_data=[\"oneliner\",\"topic\",\"git_url\"],\n",
    "    color = df_total_score[\"development_distribution_score\"],\n",
    "    color_continuous_scale=color_continuous_scale\n",
    ")\n",
    "\n",
    "fig.update_layout(\n",
    "    height=1000,  # Added parameter\n",
    "    xaxis_title=\"Total Score\",\n",
    "    yaxis_title=None,\n",
    "    title=\"Top Total Score\",\n",
    "    coloraxis_colorbar=dict(\n",
    "    title=\"DDS\",\n",
    "    ),   \n",
    "    hoverlabel=dict(\n",
    "    bgcolor=\"white\"\n",
    ")\n",
    ")\n",
    "fig.update(layout_showlegend=False)\n",
    "fig['layout'].update(margin=dict(l=200,r=0,b=0,t=40))\n",
    "\n",
    "fig.add_layout_image(\n",
    "    dict(\n",
    "        source=logo_img,\n",
    "        xref=\"paper\", yref=\"paper\",\n",
    "        x=1, y=1,\n",
    "        sizex=0.05, sizey=0.05,\n",
    "        xanchor=\"right\", yanchor=\"top\"\n",
    "    )\n",
    ")\n",
    "\n",
    "fig.update_traces(\n",
    "    hovertemplate=\"<br>\".join([\n",
    "        \"Project Info: <b>%{customdata[0]}</b>\",\n",
    "        \"Topic: <b>%{customdata[1]}</b>\",\n",
    "        \"Git URL: <b>%{customdata[2]}</b>\"\n",
    "    ])\n",
    ")\n"
   ]
  }
 ],
 "metadata": {
  "celltoolbar": "Tags",
  "kernelspec": {
   "display_name": "Python 3.8.10 64-bit",
   "language": "python",
   "name": "python3"
  },
  "language_info": {
   "codemirror_mode": {
    "name": "ipython",
    "version": 3
   },
   "file_extension": ".py",
   "mimetype": "text/x-python",
   "name": "python",
   "nbconvert_exporter": "python",
   "pygments_lexer": "ipython3",
   "version": "3.8.10"
  },
  "tags": "full-width",
  "vscode": {
   "interpreter": {
    "hash": "e7370f93d1d0cde622a1f8e1c04877d8463912d04d973331ad4851f04de6915a"
   }
  }
 },
 "nbformat": 4,
 "nbformat_minor": 4
}
