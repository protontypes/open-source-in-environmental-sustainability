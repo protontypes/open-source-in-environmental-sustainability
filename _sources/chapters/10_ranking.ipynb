{
 "cells": [
  {
   "cell_type": "markdown",
   "metadata": {},
   "source": [
    "# Ranking\n",
    "\n",
    "Quantifying the state and health of a repository is challenging, but still feasible by combining different indicators. The state was divided into 3 indicator classes: **Size, Community and Activity.** \n",
    "Every indicator consists of the rank in relation to the other. This can be illustrated by the activity score. Each project is ranked according to the variables \"Total Commits Last Year\", \"Issues closed last Year\", \"Day Until last Issue closed\", and \"Last Release Data\" and then normalised by 1. The total score is the normalised sum of all scores. \n",
    "\n",
    "Ranking all projects by the total score gives a much deeper understanding of the ecosystem. Larger developments like [EnergyPlus](https://github.com/NREL/EnergyPlus) are suddenly making up for lost ground at the top. Instead of using Stars this ranking unveils the strong but rather unpopular developments. However, more monolithic software developments have a higher probability of achieving a high score. The ranking between the individual developments creates the danger that small projects that rely more on modular development will be significantly underrepresented. \n",
    "\n",
    "The real value of such health analytics comes into play when the data is compared with usage data. Unfortunately, this data is currently only available to a limited extent via Python dependents.\n"
   ]
  },
  {
   "cell_type": "code",
   "execution_count": 1,
   "metadata": {
    "tags": [
     "remove-cell"
    ]
   },
   "outputs": [],
   "source": [
    "import numpy as np\n",
    "import pandas as pd\n",
    "import plotly.io as pio\n",
    "import plotly.graph_objects as go\n",
    "import plotly.express as px\n",
    "from opensustain_template import *"
   ]
  },
  {
   "cell_type": "code",
   "execution_count": 2,
   "metadata": {
    "tags": [
     "remove-cell"
    ]
   },
   "outputs": [],
   "source": [
    "df_active = pd.read_csv(\"../csv/project_analysis.csv\")"
   ]
  },
  {
   "cell_type": "code",
   "execution_count": 1,
   "metadata": {
    "tags": [
     "full-width",
     "remove-input"
    ]
   },
   "outputs": [
    {
     "ename": "SyntaxError",
     "evalue": "invalid syntax (<ipython-input-1-fa24c3ef7bc0>, line 45)",
     "output_type": "error",
     "traceback": [
      "\u001b[0;36m  File \u001b[0;32m\"<ipython-input-1-fa24c3ef7bc0>\"\u001b[0;36m, line \u001b[0;32m45\u001b[0m\n\u001b[0;31m    fig['layout']['yaxis']['autorange'] = \"reversed\"\u001b[0m\n\u001b[0m    ^\u001b[0m\n\u001b[0;31mSyntaxError\u001b[0m\u001b[0;31m:\u001b[0m invalid syntax\n"
     ]
    }
   ],
   "source": [
    "df_total_score = df_active.nlargest(40, \"total_score\")\n",
    "\n",
    "fig = px.bar(\n",
    "    df_total_score,\n",
    "    x=df_total_score[\"total_score\"],\n",
    "    y=df_total_score[\"project_name\"],\n",
    "    orientation=\"h\",\n",
    "    range_x=(0.85, 1),\n",
    "    custom_data=[\"oneliner\",\"topic\",\"git_url\"],\n",
    "    color = df_total_score[\"development_distribution_score\"],\n",
    "    color_continuous_scale=color_continuous_scale\n",
    ")\n",
    "\n",
    "fig.update_layout(\n",
    "    height=1000,  # Added parameter\n",
    "    xaxis_title=\"Total Score\",\n",
    "    yaxis_title=None,\n",
    "    title=\"Top Total Score\",\n",
    "    coloraxis_colorbar=dict(\n",
    "    title=\"DDS\",\n",
    "    ),   \n",
    "    hoverlabel=dict(\n",
    "    bgcolor=\"white\"\n",
    ")\n",
    ")\n",
    "fig.update(layout_showlegend=False)\n",
    "fig['layout'].update(margin=dict(l=200,r=0,b=0,t=40))\n",
    "\n",
    "fig.add_layout_image(\n",
    "    dict(\n",
    "        source=logo_img,\n",
    "        xref=\"paper\", yref=\"paper\",\n",
    "        x=1, y=0,\n",
    "        sizex=0.05, sizey=0.05,\n",
    "        xanchor=\"right\", yanchor=\"bottom\"\n",
    "    )\n",
    ")\n",
    "\n",
    "fig.update_traces(\n",
    "    hovertemplate=\"<br>\".join([\n",
    "        \"Project Info: <b>%{customdata[0]}</b>\",\n",
    "        \"Topic: <b>%{customdata[1]}</b>\",\n",
    "        \"Git URL: <b>%{customdata[2]}</b>\"\n",
    "    ])\n",
    "fig['layout']['yaxis']['autorange'] = \"reversed\"\n",
    ")\n"
   ]
  },
  {
   "cell_type": "markdown",
   "metadata": {},
   "source": [
    "```{figure} data:image/gif;base64,R0lGODlhAQABAIAAAAAAAP///yH5BAEAAAAALAAAAAABAAEAAAIBRAA7\n",
    ":figclass: caption-hack\n",
    ":name: total-score\n",
    "\n",
    "40 Projects with the highest total score\n",
    "```"
   ]
  }
 ],
 "metadata": {
  "celltoolbar": "Tags",
  "kernelspec": {
   "display_name": "Python 3.8.10 64-bit",
   "language": "python",
   "name": "python3"
  },
  "language_info": {
   "codemirror_mode": {
    "name": "ipython",
    "version": 3
   },
   "file_extension": ".py",
   "mimetype": "text/x-python",
   "name": "python",
   "nbconvert_exporter": "python",
   "pygments_lexer": "ipython3",
   "version": "3.8.10"
  },
  "tags": "full-width",
  "vscode": {
   "interpreter": {
    "hash": "e7370f93d1d0cde622a1f8e1c04877d8463912d04d973331ad4851f04de6915a"
   }
  }
 },
 "nbformat": 4,
 "nbformat_minor": 4
}
