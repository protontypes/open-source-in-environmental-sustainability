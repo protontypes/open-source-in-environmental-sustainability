{
 "cells": [
  {
   "attachments": {},
   "cell_type": "markdown",
   "metadata": {},
   "source": [
    "# Growth\n",
    "\n",
    "Growth plays an important role in the development of projects and the greater ecosystem. We can detect some emerging topics by examining the growth rates of [stars](./popularity.ipynb) over the last year. The topic of green software is growing in popularity, with [Kepler](https://github.com/sustainable-computing-io/kepler), [kube-green](https://github.com/kube-green/kube-green), [Scaphandre](https://github.com/hubblo-org/scaphandre), [Cloud Carbon Footprint](https://www.cloudcarbonfootprint.org/), [Software Carbon Intensity Specification](https://greensoftware.foundation/projects/), and [CodeCarbon](https://codecarbon.io/) demonstrating the greatest growth. This trend is partially driven by new collaborative communities, such as the [Green Software Foundation](https://greensoftware.foundation), which is supported by major software companies. The ambitious climate targets of companies like Google and Microsoft may be a contributing factor to this trend. Levels of access and participation may also play a role, as green software typically has a lower barrier to entry for general software developers than other topics.\n",
    "\n",
    "`````{admonition} Tip\n",
    ":class: tip\n",
    "Click on the project names to go directly to the repositories..\n",
    "`````"
   ]
  },
  {
   "cell_type": "code",
   "execution_count": null,
   "metadata": {
    "tags": [
     "remove-cell"
    ]
   },
   "outputs": [],
   "source": [
    "import numpy as np\n",
    "import pandas as pd\n",
    "import plotly.io as pio\n",
    "import plotly.graph_objects as go\n",
    "import plotly.express as px\n",
    "from opensustainTemplate import *"
   ]
  },
  {
   "cell_type": "code",
   "execution_count": null,
   "metadata": {
    "tags": [
     "remove-cell"
    ]
   },
   "outputs": [],
   "source": [
    "df_active = pd.read_csv(\"../csv/project_analysis.csv\")\n",
    "df_active[\"project_name\"] = df_active[\"project_name\"].replace(\n",
    "    {\n",
    "        \"A Global Inventory of Commerical-, Industrial-, and Utility-Scale Photovoltaic Solar Generating Units\": \"A Global Inventory of Photovoltaic\"\n",
    "    }\n",
    ")\n",
    "df_active[\"project_name\"] = df_active[\"project_name\"].replace(\n",
    "    {\n",
    "        \"Asset-level Transition Risk in the Global Coal, Oil, and Gas Supply Chains\": \"Global Coal, Oil, and Gas Supply Chains\"\n",
    "    }\n",
    ")"
   ]
  },
  {
   "cell_type": "code",
   "execution_count": null,
   "metadata": {
    "tags": [
     "remove-input"
    ]
   },
   "outputs": [],
   "source": [
    "# Define chart title to be used in fig and as file name in export\n",
    "chart_title = \"Star growth last year [%]\"\n",
    "\n",
    "df_top_100_stargazers = df_active[(df_active[\"stargazers_count\"]) > 100].copy()\n",
    "df_top_100_stargazers[\"star_growth\"] = (\n",
    "    df_top_100_stargazers[\"stars_last_year\"] / df_top_100_stargazers[\"stargazers_count\"]\n",
    ")\n",
    "\n",
    "df_top_40_star_growth = df_top_100_stargazers.nlargest(40, \"star_growth\")\n",
    "fig = px.bar(\n",
    "    df_top_40_star_growth,\n",
    "    x=df_top_40_star_growth[\"star_growth\"] * 100,\n",
    "    y=df_top_40_star_growth[\"project_name\"],\n",
    "    orientation=\"h\",\n",
    "    custom_data=[\"oneliner\", \"topic\", \"git_url\"],\n",
    "    color=df_top_40_star_growth[\"development_distribution_score\"],\n",
    "    color_continuous_scale=color_continuous_scale,\n",
    ")\n",
    "\n",
    "fig.update_layout(\n",
    "    height=900,\n",
    "    # width=700,\n",
    "    xaxis_title=chart_title,\n",
    "    yaxis_title=None,\n",
    "    title=\"Projects with the highest star growth\",\n",
    "    hoverlabel=dict(bgcolor=\"white\"),\n",
    "    coloraxis_colorbar=dict(\n",
    "        title=\"DDS\",\n",
    "        orientation='h',\n",
    "        y=-0.15\n",
    "    ),\n",
    "    xaxis_range=[30, 100],\n",
    "    dragmode=False,\n",
    ")\n",
    "\n",
    "fig.update_traces(\n",
    "    hovertemplate=\"<br>\".join(\n",
    "        [\n",
    "            \"Project Info: <b>%{customdata[0]}</b>\",\n",
    "            \"Topic: <b>%{customdata[1]}</b>\",\n",
    "            \"Git URL: <b>%{customdata[2]}</b>\",\n",
    "        ]\n",
    "    )\n",
    ")\n",
    "\n",
    "fig.add_layout_image(\n",
    "    dict(\n",
    "        source=logo_img,\n",
    "        xref=\"paper\",\n",
    "        yref=\"paper\",\n",
    "        x=1,\n",
    "        y=0,\n",
    "        sizex=0.05,\n",
    "        sizey=0.05,\n",
    "        xanchor=\"right\",\n",
    "        yanchor=\"bottom\",\n",
    "    )\n",
    ")\n",
    "\n",
    "\n",
    "# Override the save image button’s options\n",
    "config = {'responsive': True, \n",
    "            'toImageButtonOptions':{\n",
    "                'width': 1000,\n",
    "                'height': 1000,\n",
    "                'format': 'png',\n",
    "                'filename': chart_title}}\n",
    "\n",
    "fig[\"layout\"].update(margin=dict(l=0, r=0, b=0, t=30))\n",
    "fig[\"layout\"][\"yaxis\"][\"autorange\"] = \"reversed\"\n",
    "fig.show(config=config)"
   ]
  },
  {
   "cell_type": "markdown",
   "metadata": {},
   "source": [
    "```{figure} data:image/gif;base64,R0lGODlhAQABAIAAAAAAAP///yH5BAEAAAAALAAAAAABAAEAAAIBRAA7\n",
    ":figclass: caption-hack\n",
    ":name: star-growth\n",
    "\n",
    "<br/>The 40 projects with highest star growth\n",
    "```"
   ]
  },
  {
   "cell_type": "code",
   "execution_count": null,
   "metadata": {
    "tags": [
     "remove-input"
    ]
   },
   "outputs": [],
   "source": [
    "df_top_40_growth = df_active.nlargest(40, \"total_commits_last_year\")\n",
    "## This projects does create a lot of automate commits\n",
    "df_top_40_growth = df_top_40_growth[\n",
    "    df_top_40_growth[\"git_url\"] != \"https://github.com/OSUKED/ElexonDataPortal.git\"\n",
    "]\n",
    "\n",
    "fig = px.bar(\n",
    "    df_top_40_growth,\n",
    "    x=df_top_40_growth[\"total_commits_last_year\"],\n",
    "    y=df_top_40_growth[\"project_name\"],\n",
    "    orientation=\"h\",\n",
    "    color=df_top_40_growth[\"development_distribution_score\"],\n",
    "    custom_data=[\"oneliner\", \"topic\", \"git_url\"],\n",
    "    color_continuous_scale=color_continuous_scale,\n",
    ")\n",
    "fig.add_layout_image(\n",
    "    dict(\n",
    "        source=logo_img,\n",
    "        x=1,\n",
    "        y=0,\n",
    "        sizex=0.05,\n",
    "        sizey=0.05,\n",
    "        xanchor=\"right\",\n",
    "        yanchor=\"bottom\",\n",
    "    )\n",
    ")\n",
    "\n",
    "fig.update_layout(\n",
    "    height=1000,  # Added parameter\n",
    "    width=700,\n",
    "    xaxis_title=\"Commit growth last year [%]\",\n",
    "    yaxis_title=None,\n",
    "    title=\"Projects with the highest commit growth\",\n",
    "    coloraxis_colorbar=dict(\n",
    "        title=\"DDS\",\n",
    "        orientation='h',\n",
    "        y=-0.15\n",
    "    ),\n",
    "    hoverlabel=dict(\n",
    "        bgcolor=\"white\",\n",
    "    ),\n",
    "    dragmode=False,\n",
    "    xaxis_range=[1000, 4200],\n",
    ")\n",
    "fig[\"layout\"].update(margin=dict(l=300, r=0, b=0, t=40))\n",
    "\n",
    "fig.update_traces(\n",
    "    hovertemplate=\"<br>\".join(\n",
    "        [\n",
    "            \"Project Info: <b>%{customdata[0]}</b>\",\n",
    "            \"Topic: <b>%{customdata[1]}</b>\",\n",
    "            \"Git URL: <b>%{customdata[2]}</b>\",\n",
    "        ]\n",
    "    )\n",
    ")\n",
    "fig[\"layout\"][\"yaxis\"][\"autorange\"] = \"reversed\"\n",
    "fig.show()"
   ]
  },
  {
   "cell_type": "markdown",
   "metadata": {},
   "source": [
    "```{figure} data:image/gif;base64,R0lGODlhAQABAIAAAAAAAP///yH5BAEAAAAALAAAAAABAAEAAAIBRAA7\n",
    ":figclass: caption-hack\n",
    ":name: commit-growth\n",
    "\n",
    "<br/>The 40 projects with highest commit growth\n",
    "```"
   ]
  },
  {
   "cell_type": "code",
   "execution_count": null,
   "metadata": {},
   "outputs": [],
   "source": []
  }
 ],
 "metadata": {
  "celltoolbar": "Tags",
  "kernelspec": {
   "display_name": "Python 3",
   "language": "python",
   "name": "python3"
  },
  "language_info": {
   "codemirror_mode": {
    "name": "ipython",
    "version": 3
   },
   "file_extension": ".py",
   "mimetype": "text/x-python",
   "name": "python",
   "nbconvert_exporter": "python",
   "pygments_lexer": "ipython3",
   "version": "3.8.10 (default, Nov 14 2022, 12:59:47) \n[GCC 9.4.0]"
  },
  "tags": "full-width",
  "vscode": {
   "interpreter": {
    "hash": "e7370f93d1d0cde622a1f8e1c04877d8463912d04d973331ad4851f04de6915a"
   }
  }
 },
 "nbformat": 4,
 "nbformat_minor": 4
}
